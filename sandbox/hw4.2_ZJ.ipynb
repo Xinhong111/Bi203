{
 "cells": [
  {
   "cell_type": "code",
   "execution_count": null,
   "metadata": {},
   "outputs": [],
   "source": [
    "import glob\n",
    "import os\n",
    "\n",
    "import numpy as np\n",
    "import pandas as pd\n",
    "\n",
    "# A whole bunch of skimage stuff\n",
    "import skimage.feature\n",
    "import skimage.filters\n",
    "import skimage.filters.rank\n",
    "import skimage.io\n",
    "import skimage.morphology\n",
    "import skimage.segmentation\n",
    "\n",
    "# And some useful scipy.ndimage stuff\n",
    "import scipy.ndimage\n",
    "\n",
    "import bebi103\n",
    "\n",
    "import bokeh\n",
    "bokeh.io.output_notebook()"
   ]
  },
  {
   "cell_type": "code",
   "execution_count": null,
   "metadata": {},
   "outputs": [],
   "source": [
    "cd ~/git/BE-Bi-103/Codes"
   ]
  },
  {
   "cell_type": "markdown",
   "metadata": {},
   "source": [
    "To start, we find the all the sequential images from the directory, and see how many images we've got to make sure it is the right directory."
   ]
  },
  {
   "cell_type": "code",
   "execution_count": null,
   "metadata": {},
   "outputs": [],
   "source": [
    "# The directory containing sequential images of bacteria\n",
    "data_dir = '../data/iyer_biswas_et_al/sequential_full_field'\n",
    "\n",
    "# Glob string for images\n",
    "im_glob = os.path.join(data_dir, '*.tif')\n",
    "\n",
    "# Get list of files in directory\n",
    "im_list = sorted(glob.glob(im_glob))\n",
    "\n",
    "# Let's look at the entries\n",
    "im_list[:]"
   ]
  },
  {
   "cell_type": "markdown",
   "metadata": {},
   "source": [
    "We used the code from last homework, which would load those images as a collection and we also took a look at the length of the list to make sure that all images are loaded."
   ]
  },
  {
   "cell_type": "code",
   "execution_count": null,
   "metadata": {},
   "outputs": [],
   "source": [
    "# Load in TIFF stack\n",
    "ic = skimage.io.ImageCollection(im_glob,\n",
    "                                conserve_memory=False)\n",
    "\n",
    "# How long is it?\n",
    "print('There are {0:d} frames.'.format(len(ic)))"
   ]
  },
  {
   "cell_type": "markdown",
   "metadata": {},
   "source": [
    "Take a look at one of the image to see what it is like:"
   ]
  },
  {
   "cell_type": "code",
   "execution_count": null,
   "metadata": {},
   "outputs": [],
   "source": [
    "ic[0]"
   ]
  },
  {
   "cell_type": "markdown",
   "metadata": {},
   "source": [
    "Firstly, we want to look at all the images and "
   ]
  },
  {
   "cell_type": "code",
   "execution_count": null,
   "metadata": {},
   "outputs": [],
   "source": [
    "#Define interpixel distance given by the dataset.\n",
    "ip = 0.052\n",
    "#Use the frame ID as the name for plots\n",
    "im_names = '0123456789'\n",
    "\n",
    "plots = [bebi103.viz.imshow(im,\n",
    "                            plot_height=500,\n",
    "                            title=name,\n",
    "                            interpixel_distance=ip,\n",
    "                            length_units='µm')\n",
    "             for name, im in zip(im_names, ic)]\n",
    "\n",
    "bokeh.io.show(bokeh.layouts.gridplot(plots, ncols=2))\n"
   ]
  },
  {
   "cell_type": "markdown",
   "metadata": {},
   "source": [
    "They don't look that different, so we take one of them to try different image segmentation methods and then apply the best one on all of them to test. We just arbitrarily choose the fifth image to go with. Take a close look, and for the convenience of finding optimal zoom areas (potential ROIs), we plot it with pixel numbers instead of actual scales."
   ]
  },
  {
   "cell_type": "code",
   "execution_count": null,
   "metadata": {},
   "outputs": [],
   "source": [
    "# Take a copy of the fifth image in the collection.\n",
    "im = np.copy(ic[4])\n",
    "\n",
    "plots = [[bebi103.viz.imshow(im,\n",
    "                            plot_height=500,\n",
    "                            title='Test copy',\n",
    "                            #interpixel_distance=ip,\n",
    "                            length_units='pixels')]]\n",
    "\n",
    "bokeh.io.show(bokeh.layouts.gridplot(plots))"
   ]
  },
  {
   "cell_type": "markdown",
   "metadata": {},
   "source": [
    "By just looking at this image, we can see some parts that would probably not be easy to segment. For instance, the bottom part has a lot of string-like artifacts, and so does the upper bottom part. There are also a couple of regions where some bacteria cluster together, thus we can give some conditions to choose bacteria for long time course imaging: \n",
    "\n",
    "1. Well separated with other bacteria;\n",
    "2. Away from any types of artifacts;\n",
    "3. Uniform lighting through single bactrium;\n",
    "4. The fixed bacteria do not move among frames.\n",
    "\n",
    "But we will not zoom to some speicific regions now; we plan to do some basic segmentation first to make sure our conditions work as epected."
   ]
  },
  {
   "cell_type": "markdown",
   "metadata": {},
   "source": [
    "As we proceed, we need to demonstrate the differences before and after segmentation, so we borrow this nice function from Justin's notes and make some modifications for convenient changes between pixel number and actual scale."
   ]
  },
  {
   "cell_type": "code",
   "execution_count": null,
   "metadata": {},
   "outputs": [],
   "source": [
    "def show_two_ims(im_1, im_2, titles=[None, None], interpixel_distances=[],\n",
    "                 color_mapper=None):\n",
    "    \"\"\"Convenient function for showing two images side by side.\"\"\"\n",
    "    if len(interpixel_distances) == 2:\n",
    "        p_1 = bebi103.viz.imshow(im_1,\n",
    "                                 plot_height=300,\n",
    "                                 title=titles[0],\n",
    "                                 color_mapper=color_mapper,\n",
    "                                 interpixel_distance=interpixel_distances[0],\n",
    "                                 length_units='µm')\n",
    "        p_2 = bebi103.viz.imshow(im_2,\n",
    "                                 plot_height=300,\n",
    "                                 title=titles[1],\n",
    "                                 color_mapper=color_mapper,\n",
    "                                 interpixel_distance=interpixel_distances[0],\n",
    "                                 length_units='µm')\n",
    "        p_2.x_range = p_1.x_range\n",
    "        p_2.y_range = p_1.y_range\n",
    "    else:\n",
    "        p_1 = bebi103.viz.imshow(im_1,\n",
    "                                 plot_height=300,\n",
    "                                 title=titles[0],\n",
    "                                 color_mapper=color_mapper,\n",
    "                                 length_units='pixels')\n",
    "        p_2 = bebi103.viz.imshow(im_2,\n",
    "                                 plot_height=300,\n",
    "                                 title=titles[1],\n",
    "                                 color_mapper=color_mapper,\n",
    "                                 length_units='pixels')\n",
    "        p_2.x_range = p_1.x_range\n",
    "        p_2.y_range = p_1.y_range\n",
    "    \n",
    "    return bokeh.layouts.gridplot([p_1, p_2], ncols=2)"
   ]
  },
  {
   "cell_type": "markdown",
   "metadata": {},
   "source": [
    "We did the Gaussian blur first just to check whether the background lighting is uniform or not."
   ]
  },
  {
   "cell_type": "code",
   "execution_count": null,
   "metadata": {},
   "outputs": [],
   "source": [
    "# Convert image to float\n",
    "im_float = skimage.img_as_float(im)\n",
    "\n",
    "# Filter the image with a strong Gaussian blur\n",
    "im_bg = skimage.filters.gaussian(im_float, 50.0)\n",
    "\n",
    "\n",
    "bokeh.io.show(show_two_ims(im_float, im_bg, titles=['original', 'background']))"
   ]
  },
  {
   "cell_type": "markdown",
   "metadata": {},
   "source": [
    "The background is not very uniform, but the purpose of ours is just to segment out the bacteria and we would like to do some threshold anyway, thus we choose not to do the background substration for now. Also, once we find that once converted to float number, the image cannot go through some function that requires uint8 or uint16 data type, like skimage.filter.rank.mean. "
   ]
  },
  {
   "cell_type": "markdown",
   "metadata": {},
   "source": [
    "Now, we want to start with the easiest thresholding methods like manually defining the threshould by looking at the histogram of the image, so we plot the histogram first.\n"
   ]
  },
  {
   "cell_type": "code",
   "execution_count": null,
   "metadata": {},
   "outputs": [],
   "source": [
    "# Compute histograms\n",
    "hist_bins = skimage.exposure.histogram(im)\n",
    "\n",
    "def plot_hist(hist_bin, title, y_axis_type='linear'):\n",
    "    \"\"\"Make plot of image histogram.\"\"\"\n",
    "    p = bokeh.plotting.figure(plot_height=300,\n",
    "                              plot_width=400,\n",
    "                              y_axis_type=y_axis_type,\n",
    "                              x_axis_label='intensity',\n",
    "                              y_axis_label='count',\n",
    "                              title=title)\n",
    "    hist, bins = hist_bin\n",
    "    p.line(bins, hist, line_width=2)\n",
    "\n",
    "    return p\n",
    "\n",
    "# Display histograms\n",
    "plots = [[plot_hist(hist_bins, 'Histogram','log')]]\n",
    "bokeh.io.show(bokeh.layouts.gridplot(plots))"
   ]
  },
  {
   "cell_type": "markdown",
   "metadata": {},
   "source": [
    "It looks like the turnover point is around 4000 where we suppose most of the background would add in, so we choose 4000 as the threshold for the manual thresholding."
   ]
  },
  {
   "cell_type": "code",
   "execution_count": null,
   "metadata": {},
   "outputs": [],
   "source": [
    "# Threshold image\n",
    "thesh = 4000\n",
    "im_bw = im < thesh\n",
    "\n",
    "# Take a look\n",
    "bokeh.io.show(show_two_ims(im,\n",
    "                           im_bw,\n",
    "                           titles=['original', 'thresholded']))"
   ]
  },
  {
   "cell_type": "markdown",
   "metadata": {},
   "source": [
    "It looks okay, but there are some 'bright' bacteria lost in the processing, but we do not need all of them to show up properly. There are also some artifacts around the edge and some small dots which we can use clear border and remove small object function to clean up."
   ]
  },
  {
   "cell_type": "code",
   "execution_count": null,
   "metadata": {},
   "outputs": [],
   "source": [
    "# Clear the border\n",
    "im_bw = skimage.segmentation.clear_border(im_bw)\n",
    "# Remove all the small objects\n",
    "im_bw = skimage.morphology.remove_small_objects(im_bw, min_size=400)\n",
    "\n",
    "# Take a look\n",
    "bokeh.io.show(show_two_ims(im,\n",
    "                           im_bw,\n",
    "                           titles=['original', 'thresholded']))"
   ]
  },
  {
   "cell_type": "markdown",
   "metadata": {},
   "source": [
    "It is actually not bad, though we lose a significant number of bacteria. As expected, those regions that have clusted bacteria, or some artifacts cannot show up well in the processed image. However, it is kind of tricky to pick the threshold by just looking at the histogram, so we try to use the function Justin gives in the notes, which would compare each pixel values with its local mean."
   ]
  },
  {
   "cell_type": "code",
   "execution_count": null,
   "metadata": {},
   "outputs": [],
   "source": [
    "def bebi103_thresh(im, selem, white_true=True, k_range=(0.5, 1.5), min_size=100):\n",
    "    \"\"\"\n",
    "    Threshold image as described above.  Morphological mean filter is \n",
    "    applied using selem.\n",
    "    \"\"\"    \n",
    "    # Determine comparison operator\n",
    "    if white_true:\n",
    "        compare = np.greater\n",
    "        sign = -1\n",
    "    else:\n",
    "        compare = np.less\n",
    "        sign = 1\n",
    "    \n",
    "    # Do the mean filter\n",
    "    im_mean = skimage.filters.rank.mean(im, selem)\n",
    "\n",
    "    # Compute number of pixels in binary image as a function of k\n",
    "    k = np.linspace(k_range[0], k_range[1], 100)\n",
    "    n_pix = np.empty_like(k)\n",
    "    for i in range(len(k)):\n",
    "        n_pix[i] = compare(im, k[i] * im_mean).sum() \n",
    "\n",
    "    # Compute rough second derivative\n",
    "    dn_pix_dk2 = np.diff(np.diff(n_pix))\n",
    "\n",
    "    # Find index of maximal second derivative\n",
    "    max_ind = np.argmax(sign * dn_pix_dk2)\n",
    "\n",
    "    # Use this index to set k\n",
    "    k_opt = k[max_ind - sign * 2]\n",
    "\n",
    "    # Threshold with this k\n",
    "    im_bw = compare(im, k_opt * im_mean)\n",
    "\n",
    "    # Remove all the small objects\n",
    "    im_bw = skimage.morphology.remove_small_objects(im_bw, min_size=min_size)\n",
    "\n",
    "    return im_bw, k_opt\n",
    "\n",
    "# Make the structuring element 50 pixel radius disk\n",
    "selem = skimage.morphology.disk(50)\n",
    "\n",
    "# Threshhold based on mean filter\n",
    "im_bw_1, k = bebi103_thresh(im, selem, white_true=False, k_range=(0.5, 0.8), min_size=400)\n",
    "\n",
    "# Clear the border\n",
    "im_bw_1 = skimage.segmentation.clear_border(im_bw_1)\n",
    "\n",
    "bokeh.io.show(show_two_ims(im_float,\n",
    "                           im_bw_1,\n",
    "                           titles=['original', 'Auto_thres']))"
   ]
  },
  {
   "cell_type": "markdown",
   "metadata": {},
   "source": [
    "More bacteria are gone but so are the artifacts, and those meet all of our conditions stay intact. We do play with two parameters a little bit: the size of structuring element and the range of the threshold ratio $k$. The biggest problem we encounter is the tails of bacteria showing up sometimes, so we try to decrease the size of structuring element, which does help but would also lead to some missing pixels inside bacteria. So we go with the 50 pixel radius disk as our structuring element, and tune down the ratio so that the pixels only with high enough contrast, i.e. here those whose intensity is significantly lower than the local mean, to eliminate the tail in segmented images. Due to the tail problem, we also try a similar way to automatically find a good threshold, but instead of comparing the pixel intensity with its local mean, we may compare it with some fixed values."
   ]
  },
  {
   "cell_type": "code",
   "execution_count": null,
   "metadata": {},
   "outputs": [],
   "source": [
    "def bebi103_thresh_new(im, white_true=True, k_range=[], \n",
    "                   min_size=100):\n",
    "    \"\"\"\n",
    "    Absolute threshold finder\n",
    "    \"\"\"    \n",
    "    # Determine comparison operator\n",
    "    if white_true:\n",
    "        compare = np.greater\n",
    "        sign = -1\n",
    "    else:\n",
    "        compare = np.less\n",
    "        sign = 1\n",
    "    \n",
    "    if len(k_range) == 2:\n",
    "        k = np.linspace(k_range[0], k_range[1], 1000)\n",
    "    else:\n",
    "        k = np.linspace(im.min(),im.max(),1000)\n",
    "        \n",
    "    n_pix = np.empty_like(k)\n",
    "    for i in range(len(k)):\n",
    "        n_pix[i] = compare(im, k[i]).sum()\n",
    "        \n",
    "    # Compute rough second derivative\n",
    "    dn_pix_dk2 = np.diff(np.diff(n_pix))\n",
    "        \n",
    "    # Find index of maximal second derivative\n",
    "    max_ind = np.argmax(sign * dn_pix_dk2)\n",
    "        \n",
    "    # Use this index to set k\n",
    "    k_opt = k[max_ind - sign * 2]\n",
    "        \n",
    "    # Threshold with this k\n",
    "    im_bw = compare(im, k_opt)\n",
    "    \n",
    "    # Clear the border\n",
    "    im_bw = skimage.segmentation.clear_border(im_bw)\n",
    "\n",
    "    # Remove all the small objects\n",
    "    im_bw = skimage.morphology.remove_small_objects(im_bw, min_size=min_size)\n",
    "\n",
    "    return im_bw, k_opt\n",
    "\n",
    "\n",
    "# Threshhold based on mean filter\n",
    "im_bw_2, k = bebi103_thresh_new(im, white_true=False, k_range=(3600,4000),min_size=400)\n",
    "\n",
    "bokeh.io.show(show_two_ims(im_float,\n",
    "                           im_bw_2,\n",
    "                           titles=['original', 'New_auto_thres']))"
   ]
  },
  {
   "cell_type": "markdown",
   "metadata": {},
   "source": [
    "This function still requires us to speicify a certain range for the optimal thresholding, and works quite similarily with the manual thresholding. But anyway, we think it is good enough for us to select bacteria for further analysis. We did try other advanced edge finder functions, but they all did not work well probably due to the tail problem. We suspect the reason is that no matter how we tune the parameters, those methods are mostly based on gradient, while the beginning parts of the tails usually have a similar gradient with bacterial bodies. Hence, we decide to go with the basic threshold methods and choose best bacteria based on those images."
   ]
  },
  {
   "cell_type": "markdown",
   "metadata": {},
   "source": [
    "Now, we think it is better to choose bacteria that are undergoing dividing, because this is what we really care about and choosing those are not dividing would give risk that something weird might happen when they actually divide. Combined with aforementioned conditions, we choose several 'ROIs' to select. For convenience, we write a function to generate our zoom slice from start points and sizs, since the image is actually displayed upside down due to the coordinate problem. "
   ]
  },
  {
   "cell_type": "code",
   "execution_count": null,
   "metadata": {},
   "outputs": [],
   "source": [
    "def zoom_finder(im, x_start, y_start, size=120):\n",
    "    \"\"\"\n",
    "    Generate zoom slice from start point and size\n",
    "    \"\"\" \n",
    "    _, y = im.shape\n",
    "    return np.s_[(y - size - y_start):(y - y_start), x_start:(x_start + size)]"
   ]
  },
  {
   "cell_type": "markdown",
   "metadata": {},
   "source": [
    "And then we locate 3 regions that we think contain the most promising bacteria, the first two of which contains one bacterium of interest, while the last one contains multiple. We would like to further select from the last one after some test segmentation."
   ]
  },
  {
   "cell_type": "code",
   "execution_count": null,
   "metadata": {},
   "outputs": [],
   "source": [
    "# Zoom start points and sizes\n",
    "zoom_start = [[590, 260, 120], [715, 375, 120],[125, 250, 400]]\n",
    "\n",
    "#Generate zoom slices\n",
    "zooms = []\n",
    "for i in range(len(zoom_start)):\n",
    "    zooms.append(zoom_finder(im, zoom_start[i][0], zoom_start[i][1], zoom_start[i][2]))\n",
    "\n",
    "#Plot out 3 ROIs in actual scale\n",
    "names = '123'\n",
    "plots = [bebi103.viz.imshow(im[zoom],\n",
    "                            plot_height=300,\n",
    "                            title=name,\n",
    "                            interpixel_distance=ip,\n",
    "                            length_units='µm')\n",
    "             for zoom, name in zip(zooms, names)]\n",
    "\n",
    "bokeh.io.show(bokeh.layouts.gridplot(plots, ncols=3))"
   ]
  },
  {
   "cell_type": "markdown",
   "metadata": {},
   "source": [
    "Let's try to see the segmented versions of those, we write a modfieid version of show_two_ims, and "
   ]
  },
  {
   "cell_type": "code",
   "execution_count": null,
   "metadata": {},
   "outputs": [],
   "source": [
    "def show_4_ims(im_1, im_2, im_3, im_4, titles=[None, None, None, None], interpixel_distances=[ip, ip, ip, ip],\n",
    "                 color_mapper=None):\n",
    "    \"\"\"Convenient function for showing four images side by side.\"\"\"\n",
    "    p_1 = bebi103.viz.imshow(im_1,\n",
    "                             plot_height=250,\n",
    "                             title=titles[0],\n",
    "                             color_mapper=color_mapper,\n",
    "                             interpixel_distance=interpixel_distances[0],\n",
    "                             length_units='µm')\n",
    "    p_2 = bebi103.viz.imshow(im_2,\n",
    "                             plot_height=250,\n",
    "                             title=titles[1],\n",
    "                             color_mapper=color_mapper,\n",
    "                             interpixel_distance=interpixel_distances[1],\n",
    "                             length_units='µm')\n",
    "    p_3 = bebi103.viz.imshow(im_3,\n",
    "                             plot_height=250,\n",
    "                             title=titles[2],\n",
    "                             color_mapper=color_mapper,\n",
    "                             interpixel_distance=interpixel_distances[2],\n",
    "                             length_units='µm')\n",
    "    p_4 = bebi103.viz.imshow(im_4,\n",
    "                             plot_height=250,\n",
    "                             title=titles[3],\n",
    "                             color_mapper=color_mapper,\n",
    "                             interpixel_distance=interpixel_distances[3],\n",
    "                             length_units='µm')\n",
    "    p_2.x_range = p_1.x_range\n",
    "    p_2.y_range = p_1.y_range\n",
    "\n",
    "    p_3.x_range = p_1.x_range\n",
    "    p_3.y_range = p_1.y_range\n",
    "    \n",
    "    p_4.x_range = p_1.x_range\n",
    "    p_4.y_range = p_1.y_range\n",
    "    \n",
    "    #return bokeh.layouts.gridplot([p_1, p_2, p_3, p_4], ncols=4)\n",
    "    return [p_1, p_2, p_3, p_4]"
   ]
  },
  {
   "cell_type": "code",
   "execution_count": null,
   "metadata": {},
   "outputs": [],
   "source": [
    "title = [\"original\", \"Manual_thres\",\"Auto_thres\",\"New_auto_thres\"]\n",
    "\n",
    "p = [show_4_ims(im_float[zoom],\n",
    "                           im_bw[zoom],\n",
    "                           im_bw_1[zoom],\n",
    "                           im_bw_2[zoom],\n",
    "                           titles=[t + \"_\" + name for t in title])\n",
    "     for zoom, name in zip(zooms, names)]\n",
    "\n",
    "bokeh.io.show(bokeh.layouts.gridplot(p, ncols=1))"
   ]
  },
  {
   "cell_type": "markdown",
   "metadata": {},
   "source": [
    "They are quite similar, and the thresholding function in the notes actually works slightly better for all of those ROIs, we may see what if we do some opening to separate those dividing cells."
   ]
  },
  {
   "cell_type": "code",
   "execution_count": null,
   "metadata": {},
   "outputs": [],
   "source": [
    "selem = skimage.morphology.disk(5)\n",
    "\n",
    "im_open = skimage.morphology.opening(im_bw, selem)\n",
    "im_open_1 = skimage.morphology.opening(im_bw_1, selem)\n",
    "im_open_2 = skimage.morphology.opening(im_bw_2, selem)\n",
    "\n",
    "title = [\"original\", \"Manual_thres_open\",\"Auto_thres_open\",\"New_auto_thres_open\"]\n",
    "\n",
    "p = [show_4_ims(im_float[zoom],\n",
    "                           im_open[zoom],\n",
    "                           im_open_1[zoom],\n",
    "                           im_open_2[zoom],\n",
    "                           titles=[t + \"_\" + name for t in title])\n",
    "     for zoom, name in zip(zooms, names)]\n",
    "\n",
    "bokeh.io.show(bokeh.layouts.gridplot(p, ncols=1))"
   ]
  },
  {
   "cell_type": "markdown",
   "metadata": {},
   "source": [
    "In this case, the auto_thres case separates the bacteria too much which might cause a false positive division. We may use the modified thresholding function to furthor explore among the rest of frames. Now, we convert all the frames into binary images via our modified thresholding function."
   ]
  },
  {
   "cell_type": "code",
   "execution_count": null,
   "metadata": {},
   "outputs": [],
   "source": [
    "def collection_thres(ic, \n",
    "                     white_true=True, \n",
    "                     k_range=[], \n",
    "                     min_size=100):\n",
    "    #Initialize a empty list\n",
    "    ic_seg = []\n",
    "\n",
    "    # Segment each frame\n",
    "    for img in ic:\n",
    "        temp,_ = bebi103_thresh_new(img, white_true=white_true, k_range=k_range,min_size=min_size)\n",
    "        ic_seg.append(temp)\n",
    "    \n",
    "    return ic_seg\n",
    "\n",
    "ic_seg = collection_thres(ic,\n",
    "                         white_true=False,\n",
    "                         k_range=(3600, 4000),\n",
    "                         min_size=400)\n",
    "\n",
    "# Take a look    \n",
    "ic_seg[0]"
   ]
  },
  {
   "cell_type": "markdown",
   "metadata": {},
   "source": [
    "It looks like a correctly-segmented image, so we proceed and have a function to convert binary images to single-channel color images."
   ]
  },
  {
   "cell_type": "code",
   "execution_count": null,
   "metadata": {},
   "outputs": [],
   "source": [
    "def bin2gray(im):\n",
    "    x, y = im.shape\n",
    "    temp = np.zeros([x, y, 1])\n",
    "    for (i, j), val in np.ndenumerate(im):\n",
    "        if val:\n",
    "            temp[i][j] = 1\n",
    "    return temp\n",
    "\n",
    "# Test a little bit\n",
    "bokeh.io.show(show_two_ims(ic_seg[4],\n",
    "                           bin2gray(ic_seg[4]),\n",
    "                           titles=['Binary', 'Single-channel']))"
   ]
  },
  {
   "cell_type": "markdown",
   "metadata": {},
   "source": [
    "They are the same, so it should be good to integrate into our convertion function for the image collection, and reconvert the image collection."
   ]
  },
  {
   "cell_type": "code",
   "execution_count": null,
   "metadata": {},
   "outputs": [],
   "source": [
    "def collection_thres_gray(ic,selem,\n",
    "                     white_true=True, \n",
    "                     k_range=[], \n",
    "                     min_size=100):\n",
    "    #Initialize a empty list\n",
    "    ic_seg = []\n",
    "\n",
    "    # Segment each frame\n",
    "    for img in ic:\n",
    "        temp,_ = bebi103_thresh_new(img, white_true=white_true, k_range=k_range,min_size=min_size)\n",
    "        # Open to separate dividing bacteria\n",
    "        temp = skimage.morphology.opening(temp, selem)\n",
    "        ic_seg.append(bin2gray(temp))\n",
    "    \n",
    "    return ic_seg\n",
    "\n",
    "selem = skimage.morphology.disk(5)\n",
    "\n",
    "ic_seg = collection_thres_gray(ic,selem,\n",
    "                         white_true=False,\n",
    "                         k_range=(3600, 4000),\n",
    "                         min_size=400)\n",
    "\n",
    "# Take a look    \n",
    "ic_seg[0].shape"
   ]
  },
  {
   "cell_type": "markdown",
   "metadata": {},
   "source": [
    "It should be good, so we can proceed and add all the converted image together, supposing the scale and layout don't change over frames, which should be true. In this case, we can have sort of a distribution of how many frames share pixels after thresholding. We have some trouble tuning the color mapper and colorbar, but as the defalut color mapper goes, yellow indicates high pixel density and blue indicates low. We can then take a look at those zoom slices we choose."
   ]
  },
  {
   "cell_type": "code",
   "execution_count": null,
   "metadata": {},
   "outputs": [],
   "source": [
    "ic_sum = np.array(ic_seg).sum(axis=0)\n",
    "\n",
    "\n",
    "#Plot out 3 ROIs in actual scale\n",
    "names = '123'\n",
    "plots = [bebi103.viz.imshow(ic_sum[zoom],\n",
    "                            plot_height=300,\n",
    "                            title=name,\n",
    "                            interpixel_distance=ip,\n",
    "                            length_units='µm')\n",
    "             for zoom, name in zip(zooms, names)]\n",
    "\n",
    "bokeh.io.show(bokeh.layouts.gridplot(plots, ncols=3))"
   ]
  },
  {
   "cell_type": "markdown",
   "metadata": {},
   "source": [
    "The first two looks fine, and from the third one, we can still pick out a couple of bacteria that fulfills our conditions, while in the third one, those are mostly close to one or multiple bacteria, which may or may not lead to error when we do long time course analysis, because they could probably be eliminated by making them close to the edge and then clearing border. However, being too close to other bacteria might also lead to problems like failure to flowing away the divden cells. Thus, we choose the best one from the thrid zoom slice and remake the slices for final selection."
   ]
  },
  {
   "cell_type": "code",
   "execution_count": null,
   "metadata": {},
   "outputs": [],
   "source": [
    "zoom_start_final = [[590, 260, 120], [715, 375, 120],[200, 500, 100]]\n",
    "\n",
    "#Generate zoom slices\n",
    "zooms = []\n",
    "for i in range(len(zoom_start)):\n",
    "    zooms.append(zoom_finder(im, zoom_start_final[i][0], zoom_start_final[i][1], zoom_start_final[i][2]))\n",
    "                    \n",
    "plots = [bebi103.viz.imshow(ic_sum[zoom],\n",
    "                            plot_height=300,\n",
    "                            title=name,\n",
    "                            interpixel_distance=ip,\n",
    "                            length_units='µm')\n",
    "             for zoom, name in zip(zooms, names)]\n",
    "\n",
    "bokeh.io.show(bokeh.layouts.gridplot(plots, ncols=3))                    "
   ]
  },
  {
   "cell_type": "markdown",
   "metadata": {},
   "source": [
    "In all, our criteria for choosing bacteria for long time course imaging could be concluded as:\n",
    "\n",
    "1. Well separated with other bacteria;\n",
    "2. Away from any types of artifacts;\n",
    "3. Uniform lighting through single bactrium;\n",
    "4. The fixed bacteria do not move among frames.\n",
    "\n",
    "The first one is to avoid mislabelling and other problems that could happen when multiple cells are imaged; the second and third one is to make sure our segmentation is significantly affected through the imaging process. We use a modified thresholding function and then select bacteria that fulfill those first three conditions, and use the overlayed segmented image of all the frames to find bacteria that do not move through all frames, since we do not want part of the imaged cell move out of our ROI sometime if it is not well anchored."
   ]
  },
  {
   "cell_type": "code",
   "execution_count": null,
   "metadata": {},
   "outputs": [],
   "source": []
  }
 ],
 "metadata": {
  "kernelspec": {
   "display_name": "Python 3",
   "language": "python",
   "name": "python3"
  },
  "language_info": {
   "codemirror_mode": {
    "name": "ipython",
    "version": 3
   },
   "file_extension": ".py",
   "mimetype": "text/x-python",
   "name": "python",
   "nbconvert_exporter": "python",
   "pygments_lexer": "ipython3",
   "version": "3.7.1"
  }
 },
 "nbformat": 4,
 "nbformat_minor": 2
}
