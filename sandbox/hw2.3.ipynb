{
 "cells": [
  {
   "cell_type": "markdown",
   "metadata": {},
   "source": [
    "Suppose we have two independent experiments under the same model with a parameter $\\theta$, which give us two data sets $y_1$ and $y_2$. We could have the posterior $g(\\theta\\ |\\ y_1, y_2)$ as it is defined:"
   ]
  },
  {
   "cell_type": "markdown",
   "metadata": {},
   "source": [
    "$$\n",
    "\\begin{equation}\n",
    "g(\\theta\\ |\\ y_1, y_2) = \\frac{f(y_1, y_2\\ |\\ \\theta)\\ g(\\theta)}{f(y_1, y_2)}.\n",
    "\\tag{1}\n",
    "\\end{equation}\n",
    "$$"
   ]
  },
  {
   "cell_type": "markdown",
   "metadata": {},
   "source": [
    "We can rewrite the nominator by using product rules:\n",
    "\n",
    "$$\n",
    "\\begin{equation}\n",
    "f(y_1, y_2\\ |\\ \\theta)\\ g(\\theta) = f(y_2\\ |\\ \\theta,y_1)\\ g(\\theta, y_1).\n",
    "\\tag{2}\n",
    "\\end{equation}\n",
    "$$"
   ]
  },
  {
   "cell_type": "markdown",
   "metadata": {},
   "source": [
    "And the second term on the right hand side could be written as:\n",
    "\n",
    "$$\n",
    "\\begin{equation}\n",
    "g(\\theta, y_1) = g(\\theta\\ |\\ y_1)\\ f(y_1).\n",
    "\\tag{3}\n",
    "\\end{equation}\n",
    "$$"
   ]
  },
  {
   "cell_type": "markdown",
   "metadata": {},
   "source": [
    "Also, because two experiments are independent, so the denominator in the Eq.(1) can also be written as:\n",
    "\n",
    "$$\n",
    "\\begin{equation}\n",
    "f(y_1,y_2) = f(y_1)\\ f(y_2).\n",
    "\\tag{4}\n",
    "\\end{equation}\n",
    "$$"
   ]
  },
  {
   "cell_type": "markdown",
   "metadata": {},
   "source": [
    "Similarly, the term f(y_2\\ |\\ \\theta,y_1)$$ in Eq.(2), can be written as:\n",
    "\n",
    "$$\n",
    "\\begin{equation}\n",
    "f(y_2\\ |\\ \\theta,y_1) = f(y_2\\ |\\ \\theta).\n",
    "\\tag{5}\n",
    "\\end{equation}\n",
    "$$"
   ]
  },
  {
   "cell_type": "markdown",
   "metadata": {},
   "source": [
    "Thus, the posterior $g(\\theta\\ |\\ y_1, y_2)$ can have anothr form:\n",
    "\n",
    "$$g(\\theta\\ |\\ y_1, y_2) = \\frac{f(y_1, y_2\\ |\\ \\theta)\\ g(\\theta)}{f(y_1, y_2)} = \\frac{f(y_2\\ |\\ \\theta)\\ g(\\theta\\ |\\ y_1)\\ f(y_1)}{f(y_1)\\ f(y_2)}.$$"
   ]
  },
  {
   "cell_type": "markdown",
   "metadata": {},
   "source": [
    "The term $f(y_1)$ can be eliminated:\n",
    "\n",
    "$$g(\\theta\\ |\\ y_1, y_2) = \\frac{f(y_2\\ |\\ \\theta)\\ g(\\theta\\ |\\ y_1)}{f(y_2)},$$"
   ]
  },
  {
   "cell_type": "markdown",
   "metadata": {},
   "source": [
    "which is then the posterior distribution we would obtain by using the result of the first data set $y_1$ as prior information, i.e. using the posterior of the first experiment as the prior of the second. Hence, we would obtain the same posterior distribution by either pooling the results of two experiments or use one's posterior as the other's prior. "
   ]
  },
  {
   "cell_type": "code",
   "execution_count": null,
   "metadata": {},
   "outputs": [],
   "source": []
  }
 ],
 "metadata": {
  "kernelspec": {
   "display_name": "Python 3",
   "language": "python",
   "name": "python3"
  },
  "language_info": {
   "codemirror_mode": {
    "name": "ipython",
    "version": 3
   },
   "file_extension": ".py",
   "mimetype": "text/x-python",
   "name": "python",
   "nbconvert_exporter": "python",
   "pygments_lexer": "ipython3",
   "version": "3.7.0"
  }
 },
 "nbformat": 4,
 "nbformat_minor": 2
}
