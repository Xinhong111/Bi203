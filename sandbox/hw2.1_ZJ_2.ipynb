{
 "cells": [
  {
   "cell_type": "code",
   "execution_count": 1,
   "metadata": {},
   "outputs": [
    {
     "data": {
      "text/html": [
       "\n",
       "    <div class=\"bk-root\">\n",
       "        <a href=\"https://bokeh.pydata.org\" target=\"_blank\" class=\"bk-logo bk-logo-small bk-logo-notebook\"></a>\n",
       "        <span id=\"7df035db-7d52-4d98-b055-b59e2166705d\">Loading BokehJS ...</span>\n",
       "    </div>"
      ]
     },
     "metadata": {},
     "output_type": "display_data"
    },
    {
     "data": {
      "application/javascript": [
       "\n",
       "(function(root) {\n",
       "  function now() {\n",
       "    return new Date();\n",
       "  }\n",
       "\n",
       "  var force = true;\n",
       "\n",
       "  if (typeof (root._bokeh_onload_callbacks) === \"undefined\" || force === true) {\n",
       "    root._bokeh_onload_callbacks = [];\n",
       "    root._bokeh_is_loading = undefined;\n",
       "  }\n",
       "\n",
       "  var JS_MIME_TYPE = 'application/javascript';\n",
       "  var HTML_MIME_TYPE = 'text/html';\n",
       "  var EXEC_MIME_TYPE = 'application/vnd.bokehjs_exec.v0+json';\n",
       "  var CLASS_NAME = 'output_bokeh rendered_html';\n",
       "\n",
       "  /**\n",
       "   * Render data to the DOM node\n",
       "   */\n",
       "  function render(props, node) {\n",
       "    var script = document.createElement(\"script\");\n",
       "    node.appendChild(script);\n",
       "  }\n",
       "\n",
       "  /**\n",
       "   * Handle when an output is cleared or removed\n",
       "   */\n",
       "  function handleClearOutput(event, handle) {\n",
       "    var cell = handle.cell;\n",
       "\n",
       "    var id = cell.output_area._bokeh_element_id;\n",
       "    var server_id = cell.output_area._bokeh_server_id;\n",
       "    // Clean up Bokeh references\n",
       "    if (id != null && id in Bokeh.index) {\n",
       "      Bokeh.index[id].model.document.clear();\n",
       "      delete Bokeh.index[id];\n",
       "    }\n",
       "\n",
       "    if (server_id !== undefined) {\n",
       "      // Clean up Bokeh references\n",
       "      var cmd = \"from bokeh.io.state import curstate; print(curstate().uuid_to_server['\" + server_id + \"'].get_sessions()[0].document.roots[0]._id)\";\n",
       "      cell.notebook.kernel.execute(cmd, {\n",
       "        iopub: {\n",
       "          output: function(msg) {\n",
       "            var id = msg.content.text.trim();\n",
       "            if (id in Bokeh.index) {\n",
       "              Bokeh.index[id].model.document.clear();\n",
       "              delete Bokeh.index[id];\n",
       "            }\n",
       "          }\n",
       "        }\n",
       "      });\n",
       "      // Destroy server and session\n",
       "      var cmd = \"import bokeh.io.notebook as ion; ion.destroy_server('\" + server_id + \"')\";\n",
       "      cell.notebook.kernel.execute(cmd);\n",
       "    }\n",
       "  }\n",
       "\n",
       "  /**\n",
       "   * Handle when a new output is added\n",
       "   */\n",
       "  function handleAddOutput(event, handle) {\n",
       "    var output_area = handle.output_area;\n",
       "    var output = handle.output;\n",
       "\n",
       "    // limit handleAddOutput to display_data with EXEC_MIME_TYPE content only\n",
       "    if ((output.output_type != \"display_data\") || (!output.data.hasOwnProperty(EXEC_MIME_TYPE))) {\n",
       "      return\n",
       "    }\n",
       "\n",
       "    var toinsert = output_area.element.find(\".\" + CLASS_NAME.split(' ')[0]);\n",
       "\n",
       "    if (output.metadata[EXEC_MIME_TYPE][\"id\"] !== undefined) {\n",
       "      toinsert[toinsert.length - 1].firstChild.textContent = output.data[JS_MIME_TYPE];\n",
       "      // store reference to embed id on output_area\n",
       "      output_area._bokeh_element_id = output.metadata[EXEC_MIME_TYPE][\"id\"];\n",
       "    }\n",
       "    if (output.metadata[EXEC_MIME_TYPE][\"server_id\"] !== undefined) {\n",
       "      var bk_div = document.createElement(\"div\");\n",
       "      bk_div.innerHTML = output.data[HTML_MIME_TYPE];\n",
       "      var script_attrs = bk_div.children[0].attributes;\n",
       "      for (var i = 0; i < script_attrs.length; i++) {\n",
       "        toinsert[toinsert.length - 1].firstChild.setAttribute(script_attrs[i].name, script_attrs[i].value);\n",
       "      }\n",
       "      // store reference to server id on output_area\n",
       "      output_area._bokeh_server_id = output.metadata[EXEC_MIME_TYPE][\"server_id\"];\n",
       "    }\n",
       "  }\n",
       "\n",
       "  function register_renderer(events, OutputArea) {\n",
       "\n",
       "    function append_mime(data, metadata, element) {\n",
       "      // create a DOM node to render to\n",
       "      var toinsert = this.create_output_subarea(\n",
       "        metadata,\n",
       "        CLASS_NAME,\n",
       "        EXEC_MIME_TYPE\n",
       "      );\n",
       "      this.keyboard_manager.register_events(toinsert);\n",
       "      // Render to node\n",
       "      var props = {data: data, metadata: metadata[EXEC_MIME_TYPE]};\n",
       "      render(props, toinsert[toinsert.length - 1]);\n",
       "      element.append(toinsert);\n",
       "      return toinsert\n",
       "    }\n",
       "\n",
       "    /* Handle when an output is cleared or removed */\n",
       "    events.on('clear_output.CodeCell', handleClearOutput);\n",
       "    events.on('delete.Cell', handleClearOutput);\n",
       "\n",
       "    /* Handle when a new output is added */\n",
       "    events.on('output_added.OutputArea', handleAddOutput);\n",
       "\n",
       "    /**\n",
       "     * Register the mime type and append_mime function with output_area\n",
       "     */\n",
       "    OutputArea.prototype.register_mime_type(EXEC_MIME_TYPE, append_mime, {\n",
       "      /* Is output safe? */\n",
       "      safe: true,\n",
       "      /* Index of renderer in `output_area.display_order` */\n",
       "      index: 0\n",
       "    });\n",
       "  }\n",
       "\n",
       "  // register the mime type if in Jupyter Notebook environment and previously unregistered\n",
       "  if (root.Jupyter !== undefined) {\n",
       "    var events = require('base/js/events');\n",
       "    var OutputArea = require('notebook/js/outputarea').OutputArea;\n",
       "\n",
       "    if (OutputArea.prototype.mime_types().indexOf(EXEC_MIME_TYPE) == -1) {\n",
       "      register_renderer(events, OutputArea);\n",
       "    }\n",
       "  }\n",
       "\n",
       "  \n",
       "  if (typeof (root._bokeh_timeout) === \"undefined\" || force === true) {\n",
       "    root._bokeh_timeout = Date.now() + 5000;\n",
       "    root._bokeh_failed_load = false;\n",
       "  }\n",
       "\n",
       "  var NB_LOAD_WARNING = {'data': {'text/html':\n",
       "     \"<div style='background-color: #fdd'>\\n\"+\n",
       "     \"<p>\\n\"+\n",
       "     \"BokehJS does not appear to have successfully loaded. If loading BokehJS from CDN, this \\n\"+\n",
       "     \"may be due to a slow or bad network connection. Possible fixes:\\n\"+\n",
       "     \"</p>\\n\"+\n",
       "     \"<ul>\\n\"+\n",
       "     \"<li>re-rerun `output_notebook()` to attempt to load from CDN again, or</li>\\n\"+\n",
       "     \"<li>use INLINE resources instead, as so:</li>\\n\"+\n",
       "     \"</ul>\\n\"+\n",
       "     \"<code>\\n\"+\n",
       "     \"from bokeh.resources import INLINE\\n\"+\n",
       "     \"output_notebook(resources=INLINE)\\n\"+\n",
       "     \"</code>\\n\"+\n",
       "     \"</div>\"}};\n",
       "\n",
       "  function display_loaded() {\n",
       "    var el = document.getElementById(\"7df035db-7d52-4d98-b055-b59e2166705d\");\n",
       "    if (el != null) {\n",
       "      el.textContent = \"BokehJS is loading...\";\n",
       "    }\n",
       "    if (root.Bokeh !== undefined) {\n",
       "      if (el != null) {\n",
       "        el.textContent = \"BokehJS \" + root.Bokeh.version + \" successfully loaded.\";\n",
       "      }\n",
       "    } else if (Date.now() < root._bokeh_timeout) {\n",
       "      setTimeout(display_loaded, 100)\n",
       "    }\n",
       "  }\n",
       "\n",
       "\n",
       "  function run_callbacks() {\n",
       "    try {\n",
       "      root._bokeh_onload_callbacks.forEach(function(callback) { callback() });\n",
       "    }\n",
       "    finally {\n",
       "      delete root._bokeh_onload_callbacks\n",
       "    }\n",
       "    console.info(\"Bokeh: all callbacks have finished\");\n",
       "  }\n",
       "\n",
       "  function load_libs(js_urls, callback) {\n",
       "    root._bokeh_onload_callbacks.push(callback);\n",
       "    if (root._bokeh_is_loading > 0) {\n",
       "      console.log(\"Bokeh: BokehJS is being loaded, scheduling callback at\", now());\n",
       "      return null;\n",
       "    }\n",
       "    if (js_urls == null || js_urls.length === 0) {\n",
       "      run_callbacks();\n",
       "      return null;\n",
       "    }\n",
       "    console.log(\"Bokeh: BokehJS not loaded, scheduling load and callback at\", now());\n",
       "    root._bokeh_is_loading = js_urls.length;\n",
       "    for (var i = 0; i < js_urls.length; i++) {\n",
       "      var url = js_urls[i];\n",
       "      var s = document.createElement('script');\n",
       "      s.src = url;\n",
       "      s.async = false;\n",
       "      s.onreadystatechange = s.onload = function() {\n",
       "        root._bokeh_is_loading--;\n",
       "        if (root._bokeh_is_loading === 0) {\n",
       "          console.log(\"Bokeh: all BokehJS libraries loaded\");\n",
       "          run_callbacks()\n",
       "        }\n",
       "      };\n",
       "      s.onerror = function() {\n",
       "        console.warn(\"failed to load library \" + url);\n",
       "      };\n",
       "      console.log(\"Bokeh: injecting script tag for BokehJS library: \", url);\n",
       "      document.getElementsByTagName(\"head\")[0].appendChild(s);\n",
       "    }\n",
       "  };var element = document.getElementById(\"7df035db-7d52-4d98-b055-b59e2166705d\");\n",
       "  if (element == null) {\n",
       "    console.log(\"Bokeh: ERROR: autoload.js configured with elementid '7df035db-7d52-4d98-b055-b59e2166705d' but no matching script tag was found. \")\n",
       "    return false;\n",
       "  }\n",
       "\n",
       "  var js_urls = [\"https://cdn.pydata.org/bokeh/release/bokeh-0.13.0.min.js\", \"https://cdn.pydata.org/bokeh/release/bokeh-widgets-0.13.0.min.js\", \"https://cdn.pydata.org/bokeh/release/bokeh-tables-0.13.0.min.js\", \"https://cdn.pydata.org/bokeh/release/bokeh-gl-0.13.0.min.js\"];\n",
       "\n",
       "  var inline_js = [\n",
       "    function(Bokeh) {\n",
       "      Bokeh.set_log_level(\"info\");\n",
       "    },\n",
       "    \n",
       "    function(Bokeh) {\n",
       "      \n",
       "    },\n",
       "    function(Bokeh) {\n",
       "      console.log(\"Bokeh: injecting CSS: https://cdn.pydata.org/bokeh/release/bokeh-0.13.0.min.css\");\n",
       "      Bokeh.embed.inject_css(\"https://cdn.pydata.org/bokeh/release/bokeh-0.13.0.min.css\");\n",
       "      console.log(\"Bokeh: injecting CSS: https://cdn.pydata.org/bokeh/release/bokeh-widgets-0.13.0.min.css\");\n",
       "      Bokeh.embed.inject_css(\"https://cdn.pydata.org/bokeh/release/bokeh-widgets-0.13.0.min.css\");\n",
       "      console.log(\"Bokeh: injecting CSS: https://cdn.pydata.org/bokeh/release/bokeh-tables-0.13.0.min.css\");\n",
       "      Bokeh.embed.inject_css(\"https://cdn.pydata.org/bokeh/release/bokeh-tables-0.13.0.min.css\");\n",
       "    }\n",
       "  ];\n",
       "\n",
       "  function run_inline_js() {\n",
       "    \n",
       "    if ((root.Bokeh !== undefined) || (force === true)) {\n",
       "      for (var i = 0; i < inline_js.length; i++) {\n",
       "        inline_js[i].call(root, root.Bokeh);\n",
       "      }if (force === true) {\n",
       "        display_loaded();\n",
       "      }} else if (Date.now() < root._bokeh_timeout) {\n",
       "      setTimeout(run_inline_js, 100);\n",
       "    } else if (!root._bokeh_failed_load) {\n",
       "      console.log(\"Bokeh: BokehJS failed to load within specified timeout.\");\n",
       "      root._bokeh_failed_load = true;\n",
       "    } else if (force !== true) {\n",
       "      var cell = $(document.getElementById(\"7df035db-7d52-4d98-b055-b59e2166705d\")).parents('.cell').data().cell;\n",
       "      cell.output_area.append_execute_result(NB_LOAD_WARNING)\n",
       "    }\n",
       "\n",
       "  }\n",
       "\n",
       "  if (root._bokeh_is_loading === 0) {\n",
       "    console.log(\"Bokeh: BokehJS loaded, going straight to plotting\");\n",
       "    run_inline_js();\n",
       "  } else {\n",
       "    load_libs(js_urls, function() {\n",
       "      console.log(\"Bokeh: BokehJS plotting callback run at\", now());\n",
       "      run_inline_js();\n",
       "    });\n",
       "  }\n",
       "}(window));"
      ],
      "application/vnd.bokehjs_load.v0+json": "\n(function(root) {\n  function now() {\n    return new Date();\n  }\n\n  var force = true;\n\n  if (typeof (root._bokeh_onload_callbacks) === \"undefined\" || force === true) {\n    root._bokeh_onload_callbacks = [];\n    root._bokeh_is_loading = undefined;\n  }\n\n  \n\n  \n  if (typeof (root._bokeh_timeout) === \"undefined\" || force === true) {\n    root._bokeh_timeout = Date.now() + 5000;\n    root._bokeh_failed_load = false;\n  }\n\n  var NB_LOAD_WARNING = {'data': {'text/html':\n     \"<div style='background-color: #fdd'>\\n\"+\n     \"<p>\\n\"+\n     \"BokehJS does not appear to have successfully loaded. If loading BokehJS from CDN, this \\n\"+\n     \"may be due to a slow or bad network connection. Possible fixes:\\n\"+\n     \"</p>\\n\"+\n     \"<ul>\\n\"+\n     \"<li>re-rerun `output_notebook()` to attempt to load from CDN again, or</li>\\n\"+\n     \"<li>use INLINE resources instead, as so:</li>\\n\"+\n     \"</ul>\\n\"+\n     \"<code>\\n\"+\n     \"from bokeh.resources import INLINE\\n\"+\n     \"output_notebook(resources=INLINE)\\n\"+\n     \"</code>\\n\"+\n     \"</div>\"}};\n\n  function display_loaded() {\n    var el = document.getElementById(\"7df035db-7d52-4d98-b055-b59e2166705d\");\n    if (el != null) {\n      el.textContent = \"BokehJS is loading...\";\n    }\n    if (root.Bokeh !== undefined) {\n      if (el != null) {\n        el.textContent = \"BokehJS \" + root.Bokeh.version + \" successfully loaded.\";\n      }\n    } else if (Date.now() < root._bokeh_timeout) {\n      setTimeout(display_loaded, 100)\n    }\n  }\n\n\n  function run_callbacks() {\n    try {\n      root._bokeh_onload_callbacks.forEach(function(callback) { callback() });\n    }\n    finally {\n      delete root._bokeh_onload_callbacks\n    }\n    console.info(\"Bokeh: all callbacks have finished\");\n  }\n\n  function load_libs(js_urls, callback) {\n    root._bokeh_onload_callbacks.push(callback);\n    if (root._bokeh_is_loading > 0) {\n      console.log(\"Bokeh: BokehJS is being loaded, scheduling callback at\", now());\n      return null;\n    }\n    if (js_urls == null || js_urls.length === 0) {\n      run_callbacks();\n      return null;\n    }\n    console.log(\"Bokeh: BokehJS not loaded, scheduling load and callback at\", now());\n    root._bokeh_is_loading = js_urls.length;\n    for (var i = 0; i < js_urls.length; i++) {\n      var url = js_urls[i];\n      var s = document.createElement('script');\n      s.src = url;\n      s.async = false;\n      s.onreadystatechange = s.onload = function() {\n        root._bokeh_is_loading--;\n        if (root._bokeh_is_loading === 0) {\n          console.log(\"Bokeh: all BokehJS libraries loaded\");\n          run_callbacks()\n        }\n      };\n      s.onerror = function() {\n        console.warn(\"failed to load library \" + url);\n      };\n      console.log(\"Bokeh: injecting script tag for BokehJS library: \", url);\n      document.getElementsByTagName(\"head\")[0].appendChild(s);\n    }\n  };var element = document.getElementById(\"7df035db-7d52-4d98-b055-b59e2166705d\");\n  if (element == null) {\n    console.log(\"Bokeh: ERROR: autoload.js configured with elementid '7df035db-7d52-4d98-b055-b59e2166705d' but no matching script tag was found. \")\n    return false;\n  }\n\n  var js_urls = [\"https://cdn.pydata.org/bokeh/release/bokeh-0.13.0.min.js\", \"https://cdn.pydata.org/bokeh/release/bokeh-widgets-0.13.0.min.js\", \"https://cdn.pydata.org/bokeh/release/bokeh-tables-0.13.0.min.js\", \"https://cdn.pydata.org/bokeh/release/bokeh-gl-0.13.0.min.js\"];\n\n  var inline_js = [\n    function(Bokeh) {\n      Bokeh.set_log_level(\"info\");\n    },\n    \n    function(Bokeh) {\n      \n    },\n    function(Bokeh) {\n      console.log(\"Bokeh: injecting CSS: https://cdn.pydata.org/bokeh/release/bokeh-0.13.0.min.css\");\n      Bokeh.embed.inject_css(\"https://cdn.pydata.org/bokeh/release/bokeh-0.13.0.min.css\");\n      console.log(\"Bokeh: injecting CSS: https://cdn.pydata.org/bokeh/release/bokeh-widgets-0.13.0.min.css\");\n      Bokeh.embed.inject_css(\"https://cdn.pydata.org/bokeh/release/bokeh-widgets-0.13.0.min.css\");\n      console.log(\"Bokeh: injecting CSS: https://cdn.pydata.org/bokeh/release/bokeh-tables-0.13.0.min.css\");\n      Bokeh.embed.inject_css(\"https://cdn.pydata.org/bokeh/release/bokeh-tables-0.13.0.min.css\");\n    }\n  ];\n\n  function run_inline_js() {\n    \n    if ((root.Bokeh !== undefined) || (force === true)) {\n      for (var i = 0; i < inline_js.length; i++) {\n        inline_js[i].call(root, root.Bokeh);\n      }if (force === true) {\n        display_loaded();\n      }} else if (Date.now() < root._bokeh_timeout) {\n      setTimeout(run_inline_js, 100);\n    } else if (!root._bokeh_failed_load) {\n      console.log(\"Bokeh: BokehJS failed to load within specified timeout.\");\n      root._bokeh_failed_load = true;\n    } else if (force !== true) {\n      var cell = $(document.getElementById(\"7df035db-7d52-4d98-b055-b59e2166705d\")).parents('.cell').data().cell;\n      cell.output_area.append_execute_result(NB_LOAD_WARNING)\n    }\n\n  }\n\n  if (root._bokeh_is_loading === 0) {\n    console.log(\"Bokeh: BokehJS loaded, going straight to plotting\");\n    run_inline_js();\n  } else {\n    load_libs(js_urls, function() {\n      console.log(\"Bokeh: BokehJS plotting callback run at\", now());\n      run_inline_js();\n    });\n  }\n}(window));"
     },
     "metadata": {},
     "output_type": "display_data"
    }
   ],
   "source": [
    "import itertools\n",
    "\n",
    "import numpy as np\n",
    "import pandas as pd\n",
    "\n",
    "import altair as alt\n",
    "import bokeh.io\n",
    "from bokeh.layouts import row\n",
    "\n",
    "import bebi103\n",
    "import altair_catplot as altcat\n",
    "\n",
    "bokeh.io.output_notebook()"
   ]
  },
  {
   "cell_type": "markdown",
   "metadata": {},
   "source": [
    "**a)**\n",
    "First of all, we can load the data by using the function in Panda package, and take a look if the data is tidy."
   ]
  },
  {
   "cell_type": "code",
   "execution_count": 2,
   "metadata": {},
   "outputs": [
    {
     "data": {
      "text/html": [
       "<div>\n",
       "<style scoped>\n",
       "    .dataframe tbody tr th:only-of-type {\n",
       "        vertical-align: middle;\n",
       "    }\n",
       "\n",
       "    .dataframe tbody tr th {\n",
       "        vertical-align: top;\n",
       "    }\n",
       "\n",
       "    .dataframe thead th {\n",
       "        text-align: right;\n",
       "    }\n",
       "</style>\n",
       "<table border=\"1\" class=\"dataframe\">\n",
       "  <thead>\n",
       "    <tr style=\"text-align: right;\">\n",
       "      <th></th>\n",
       "      <th>sc15</th>\n",
       "      <th>sc20</th>\n",
       "      <th>sc25</th>\n",
       "      <th>sk15</th>\n",
       "      <th>sk20</th>\n",
       "      <th>sk25</th>\n",
       "      <th>m315</th>\n",
       "      <th>m320</th>\n",
       "      <th>m325</th>\n",
       "    </tr>\n",
       "  </thead>\n",
       "  <tbody>\n",
       "    <tr>\n",
       "      <th>0</th>\n",
       "      <td>1298.547</td>\n",
       "      <td>2737.135</td>\n",
       "      <td>16499.30</td>\n",
       "      <td>8978.031</td>\n",
       "      <td>14251.97</td>\n",
       "      <td>16593.960</td>\n",
       "      <td>20722.62</td>\n",
       "      <td>11703.01</td>\n",
       "      <td>17073.800</td>\n",
       "    </tr>\n",
       "    <tr>\n",
       "      <th>1</th>\n",
       "      <td>6798.146</td>\n",
       "      <td>12185.360</td>\n",
       "      <td>12672.19</td>\n",
       "      <td>11221.130</td>\n",
       "      <td>13616.94</td>\n",
       "      <td>6910.673</td>\n",
       "      <td>10373.52</td>\n",
       "      <td>17025.58</td>\n",
       "      <td>15379.370</td>\n",
       "    </tr>\n",
       "    <tr>\n",
       "      <th>2</th>\n",
       "      <td>10686.910</td>\n",
       "      <td>1532.901</td>\n",
       "      <td>15832.53</td>\n",
       "      <td>9460.200</td>\n",
       "      <td>17474.90</td>\n",
       "      <td>20934.660</td>\n",
       "      <td>21707.12</td>\n",
       "      <td>17499.83</td>\n",
       "      <td>16991.490</td>\n",
       "    </tr>\n",
       "    <tr>\n",
       "      <th>3</th>\n",
       "      <td>2018.864</td>\n",
       "      <td>2357.752</td>\n",
       "      <td>15065.03</td>\n",
       "      <td>9049.072</td>\n",
       "      <td>16042.57</td>\n",
       "      <td>18042.750</td>\n",
       "      <td>21750.27</td>\n",
       "      <td>15657.50</td>\n",
       "      <td>13393.350</td>\n",
       "    </tr>\n",
       "    <tr>\n",
       "      <th>4</th>\n",
       "      <td>1551.396</td>\n",
       "      <td>1888.596</td>\n",
       "      <td>16960.67</td>\n",
       "      <td>14132.810</td>\n",
       "      <td>12867.40</td>\n",
       "      <td>23189.560</td>\n",
       "      <td>20820.26</td>\n",
       "      <td>11383.33</td>\n",
       "      <td>7709.297</td>\n",
       "    </tr>\n",
       "  </tbody>\n",
       "</table>\n",
       "</div>"
      ],
      "text/plain": [
       "        sc15       sc20      sc25       sk15      sk20       sk25      m315  \\\n",
       "0   1298.547   2737.135  16499.30   8978.031  14251.97  16593.960  20722.62   \n",
       "1   6798.146  12185.360  12672.19  11221.130  13616.94   6910.673  10373.52   \n",
       "2  10686.910   1532.901  15832.53   9460.200  17474.90  20934.660  21707.12   \n",
       "3   2018.864   2357.752  15065.03   9049.072  16042.57  18042.750  21750.27   \n",
       "4   1551.396   1888.596  16960.67  14132.810  12867.40  23189.560  20820.26   \n",
       "\n",
       "       m320       m325  \n",
       "0  11703.01  17073.800  \n",
       "1  17025.58  15379.370  \n",
       "2  17499.83  16991.490  \n",
       "3  15657.50  13393.350  \n",
       "4  11383.33   7709.297  "
      ]
     },
     "execution_count": 2,
     "metadata": {},
     "output_type": "execute_result"
    }
   ],
   "source": [
    "df = pd.read_excel('wang_cool_gal4.xlsx')\n",
    "df.head()"
   ]
  },
  {
   "cell_type": "markdown",
   "metadata": {},
   "source": [
    "**b)**\n",
    "It is not tidy since the reading of each condition (genotype and temperature) forms a column, and we may want to have three columns that denote 'genotype', 'temperature', and the reading for each measurement. This operation is pretty similar to what we did in the tutorial, so first we use the stack function to move the horizontal index to vertical index, sort the data by conditions, reset the index and take a look."
   ]
  },
  {
   "cell_type": "code",
   "execution_count": 41,
   "metadata": {},
   "outputs": [
    {
     "data": {
      "text/html": [
       "<div>\n",
       "<style scoped>\n",
       "    .dataframe tbody tr th:only-of-type {\n",
       "        vertical-align: middle;\n",
       "    }\n",
       "\n",
       "    .dataframe tbody tr th {\n",
       "        vertical-align: top;\n",
       "    }\n",
       "\n",
       "    .dataframe thead th {\n",
       "        text-align: right;\n",
       "    }\n",
       "</style>\n",
       "<table border=\"1\" class=\"dataframe\">\n",
       "  <thead>\n",
       "    <tr style=\"text-align: right;\">\n",
       "      <th></th>\n",
       "      <th>level_1</th>\n",
       "      <th>0</th>\n",
       "    </tr>\n",
       "  </thead>\n",
       "  <tbody>\n",
       "    <tr>\n",
       "      <th>0</th>\n",
       "      <td>sc15</td>\n",
       "      <td>1298.547</td>\n",
       "    </tr>\n",
       "    <tr>\n",
       "      <th>1</th>\n",
       "      <td>sc15</td>\n",
       "      <td>6798.146</td>\n",
       "    </tr>\n",
       "    <tr>\n",
       "      <th>2</th>\n",
       "      <td>sc15</td>\n",
       "      <td>10686.910</td>\n",
       "    </tr>\n",
       "    <tr>\n",
       "      <th>3</th>\n",
       "      <td>sc15</td>\n",
       "      <td>2018.864</td>\n",
       "    </tr>\n",
       "    <tr>\n",
       "      <th>4</th>\n",
       "      <td>sc15</td>\n",
       "      <td>1551.396</td>\n",
       "    </tr>\n",
       "  </tbody>\n",
       "</table>\n",
       "</div>"
      ],
      "text/plain": [
       "  level_1          0\n",
       "0    sc15   1298.547\n",
       "1    sc15   6798.146\n",
       "2    sc15  10686.910\n",
       "3    sc15   2018.864\n",
       "4    sc15   1551.396"
      ]
     },
     "execution_count": 41,
     "metadata": {},
     "output_type": "execute_result"
    }
   ],
   "source": [
    "df_tidy = df.stack(level = 0)\n",
    "df_tidy = df_tidy.sort_index(level = 1)\n",
    "df_tidy = df_tidy.reset_index(level = 1)\n",
    "df_tidy.head()"
   ]
  },
  {
   "cell_type": "markdown",
   "metadata": {},
   "source": [
    "Before we proceed, we check if there is any NaN inside the reading and We don't need to worry about the first column because values all come from the condition."
   ]
  },
  {
   "cell_type": "code",
   "execution_count": 44,
   "metadata": {},
   "outputs": [
    {
     "data": {
      "text/plain": [
       "array([False])"
      ]
     },
     "execution_count": 44,
     "metadata": {},
     "output_type": "execute_result"
    }
   ],
   "source": [
    "np.isnan(df_tidy.loc[:,0]).unique()"
   ]
  },
  {
   "cell_type": "markdown",
   "metadata": {},
   "source": [
    "It looks like the stack operation has already removed all the Nans. Now we have the condition and reading as parameters sitting in the columns with the default names though, so the first step we take is to rename the column as 'Condition', and the reading as 'Fluorescence'."
   ]
  },
  {
   "cell_type": "code",
   "execution_count": 45,
   "metadata": {},
   "outputs": [
    {
     "data": {
      "text/html": [
       "<div>\n",
       "<style scoped>\n",
       "    .dataframe tbody tr th:only-of-type {\n",
       "        vertical-align: middle;\n",
       "    }\n",
       "\n",
       "    .dataframe tbody tr th {\n",
       "        vertical-align: top;\n",
       "    }\n",
       "\n",
       "    .dataframe thead th {\n",
       "        text-align: right;\n",
       "    }\n",
       "</style>\n",
       "<table border=\"1\" class=\"dataframe\">\n",
       "  <thead>\n",
       "    <tr style=\"text-align: right;\">\n",
       "      <th></th>\n",
       "      <th>Condition</th>\n",
       "      <th>Fluorescence</th>\n",
       "    </tr>\n",
       "  </thead>\n",
       "  <tbody>\n",
       "    <tr>\n",
       "      <th>0</th>\n",
       "      <td>sc15</td>\n",
       "      <td>1298.547</td>\n",
       "    </tr>\n",
       "    <tr>\n",
       "      <th>1</th>\n",
       "      <td>sc15</td>\n",
       "      <td>6798.146</td>\n",
       "    </tr>\n",
       "    <tr>\n",
       "      <th>2</th>\n",
       "      <td>sc15</td>\n",
       "      <td>10686.910</td>\n",
       "    </tr>\n",
       "    <tr>\n",
       "      <th>3</th>\n",
       "      <td>sc15</td>\n",
       "      <td>2018.864</td>\n",
       "    </tr>\n",
       "    <tr>\n",
       "      <th>4</th>\n",
       "      <td>sc15</td>\n",
       "      <td>1551.396</td>\n",
       "    </tr>\n",
       "  </tbody>\n",
       "</table>\n",
       "</div>"
      ],
      "text/plain": [
       "  Condition  Fluorescence\n",
       "0      sc15      1298.547\n",
       "1      sc15      6798.146\n",
       "2      sc15     10686.910\n",
       "3      sc15      2018.864\n",
       "4      sc15      1551.396"
      ]
     },
     "execution_count": 45,
     "metadata": {},
     "output_type": "execute_result"
    }
   ],
   "source": [
    "df_tidy = df_tidy.rename(columns={'level_1': 'Condition'})\n",
    "df_tidy = df_tidy.rename(columns={0: 'Fluorescence'})\n",
    "df_tidy.head()"
   ]
  },
  {
   "cell_type": "markdown",
   "metadata": {},
   "source": [
    "Then we take a look at how many conditions we have and how we can separate them into temperature and genotype. "
   ]
  },
  {
   "cell_type": "code",
   "execution_count": 46,
   "metadata": {},
   "outputs": [
    {
     "data": {
      "text/plain": [
       "array(['sc15', 'sc20', 'sc25', 'sk15', 'sk20', 'sk25', 'm315', 'm320',\n",
       "       'm325'], dtype=object)"
      ]
     },
     "execution_count": 46,
     "metadata": {},
     "output_type": "execute_result"
    }
   ],
   "source": [
    "df_tidy['Condition'].unique()"
   ]
  },
  {
   "cell_type": "markdown",
   "metadata": {},
   "source": [
    "In this case, the first two characters of each string in this column denote the genotype, while the past two denote the temperature, so we just take the first part of the condition as one column 'Genotype' and the rest as one column 'Temperature'. Although we want genotype and temperature separate, we think it is still valuable to keep this condition for possible needs, so we will not drop the column after separation for now. Besides the extra 'Condition' column, the DataFrame is now tidy."
   ]
  },
  {
   "cell_type": "code",
   "execution_count": 47,
   "metadata": {},
   "outputs": [
    {
     "data": {
      "text/html": [
       "<div>\n",
       "<style scoped>\n",
       "    .dataframe tbody tr th:only-of-type {\n",
       "        vertical-align: middle;\n",
       "    }\n",
       "\n",
       "    .dataframe tbody tr th {\n",
       "        vertical-align: top;\n",
       "    }\n",
       "\n",
       "    .dataframe thead th {\n",
       "        text-align: right;\n",
       "    }\n",
       "</style>\n",
       "<table border=\"1\" class=\"dataframe\">\n",
       "  <thead>\n",
       "    <tr style=\"text-align: right;\">\n",
       "      <th></th>\n",
       "      <th>Condition</th>\n",
       "      <th>Fluorescence</th>\n",
       "      <th>Genotype</th>\n",
       "      <th>Temperature</th>\n",
       "    </tr>\n",
       "  </thead>\n",
       "  <tbody>\n",
       "    <tr>\n",
       "      <th>0</th>\n",
       "      <td>sc15</td>\n",
       "      <td>1298.547</td>\n",
       "      <td>sc</td>\n",
       "      <td>15</td>\n",
       "    </tr>\n",
       "    <tr>\n",
       "      <th>1</th>\n",
       "      <td>sc15</td>\n",
       "      <td>6798.146</td>\n",
       "      <td>sc</td>\n",
       "      <td>15</td>\n",
       "    </tr>\n",
       "    <tr>\n",
       "      <th>2</th>\n",
       "      <td>sc15</td>\n",
       "      <td>10686.910</td>\n",
       "      <td>sc</td>\n",
       "      <td>15</td>\n",
       "    </tr>\n",
       "    <tr>\n",
       "      <th>3</th>\n",
       "      <td>sc15</td>\n",
       "      <td>2018.864</td>\n",
       "      <td>sc</td>\n",
       "      <td>15</td>\n",
       "    </tr>\n",
       "    <tr>\n",
       "      <th>4</th>\n",
       "      <td>sc15</td>\n",
       "      <td>1551.396</td>\n",
       "      <td>sc</td>\n",
       "      <td>15</td>\n",
       "    </tr>\n",
       "  </tbody>\n",
       "</table>\n",
       "</div>"
      ],
      "text/plain": [
       "  Condition  Fluorescence Genotype Temperature\n",
       "0      sc15      1298.547       sc          15\n",
       "1      sc15      6798.146       sc          15\n",
       "2      sc15     10686.910       sc          15\n",
       "3      sc15      2018.864       sc          15\n",
       "4      sc15      1551.396       sc          15"
      ]
     },
     "execution_count": 47,
     "metadata": {},
     "output_type": "execute_result"
    }
   ],
   "source": [
    "df_tidy['Genotype'] = df_tidy.Condition.str[0:2]\n",
    "df_tidy['Temperature'] = df_tidy.Condition.str[2:]\n",
    "df_tidy.head()"
   ]
  },
  {
   "cell_type": "markdown",
   "metadata": {},
   "source": [
    "**c)**\n",
    "We have two parameters in this experiment, but we only have one variables measured, in which case we need to separate those two parameters and compare them one by one. Thus, we want two sets of plots where we compare the fluorescence of each genotype in different temperature in one, and compare that of different genotypes in each specific temperature in the other. In term of the way to plot, we choose the ECDF because the part that we care the most about is the distribution of fluorescence readings for different conditions so that we can have an idea about how they perform. Before plotting, we look at the range of the readings, so that we can use the same and appropriate axis range for all the plots."
   ]
  },
  {
   "cell_type": "code",
   "execution_count": 50,
   "metadata": {},
   "outputs": [
    {
     "data": {
      "text/plain": [
       "43198.42"
      ]
     },
     "execution_count": 50,
     "metadata": {},
     "output_type": "execute_result"
    }
   ],
   "source": [
    "df_tidy['Fluorescence'].max()"
   ]
  },
  {
   "cell_type": "code",
   "execution_count": 51,
   "metadata": {},
   "outputs": [
    {
     "data": {
      "text/plain": [
       "492.0972"
      ]
     },
     "execution_count": 51,
     "metadata": {},
     "output_type": "execute_result"
    }
   ],
   "source": [
    "df_tidy['Fluorescence'].min()"
   ]
  },
  {
   "cell_type": "markdown",
   "metadata": {},
   "source": [
    "As shown above, we choose to set the range from 0 to 450000, and we assign a scale variable so that it can be used in all the plots easily. Also, we want to use loop construct to plot so we have a empty variable assigned for further appending."
   ]
  },
  {
   "cell_type": "code",
   "execution_count": 109,
   "metadata": {},
   "outputs": [],
   "source": [
    "axis_scale = alt.Scale(domain=[0, 45000])\n",
    "p = []"
   ]
  },
  {
   "cell_type": "markdown",
   "metadata": {},
   "source": [
    "Now we can fix the temperature, plot the ECDF for different genotypes in this temperature and then loop over all the temperatures. We put thsoe three plots together so that we can compare the fluorescence of three genotypes in each temperature."
   ]
  },
  {
   "cell_type": "code",
   "execution_count": 110,
   "metadata": {},
   "outputs": [
    {
     "data": {
      "application/vnd.vegalite.v2+json": {
       "$schema": "https://vega.github.io/schema/vega-lite/v2.6.0.json",
       "config": {
        "view": {
         "height": 300,
         "width": 400
        }
       },
       "datasets": {
        "data-86f971b0e64f3f7144935c6acb8f2b22": [
         {
          "Fluorescence": 6096.728649999999,
          "Genotype": "m3",
          "__ECDF": 0
         },
         {
          "Fluorescence": 7709.297,
          "Genotype": "m3",
          "__ECDF": 0
         },
         {
          "Fluorescence": 7709.297,
          "Genotype": "m3",
          "__ECDF": 0.038461538461538464
         },
         {
          "Fluorescence": 11297.41,
          "Genotype": "m3",
          "__ECDF": 0.038461538461538464
         },
         {
          "Fluorescence": 11297.41,
          "Genotype": "m3",
          "__ECDF": 0.07692307692307693
         },
         {
          "Fluorescence": 11876.02,
          "Genotype": "m3",
          "__ECDF": 0.07692307692307693
         },
         {
          "Fluorescence": 11876.02,
          "Genotype": "m3",
          "__ECDF": 0.11538461538461539
         },
         {
          "Fluorescence": 12071.33,
          "Genotype": "m3",
          "__ECDF": 0.11538461538461539
         },
         {
          "Fluorescence": 12071.33,
          "Genotype": "m3",
          "__ECDF": 0.15384615384615385
         },
         {
          "Fluorescence": 12140.31,
          "Genotype": "m3",
          "__ECDF": 0.15384615384615385
         },
         {
          "Fluorescence": 12140.31,
          "Genotype": "m3",
          "__ECDF": 0.19230769230769232
         },
         {
          "Fluorescence": 12173.06,
          "Genotype": "m3",
          "__ECDF": 0.19230769230769232
         },
         {
          "Fluorescence": 12173.06,
          "Genotype": "m3",
          "__ECDF": 0.23076923076923078
         },
         {
          "Fluorescence": 12538.9,
          "Genotype": "m3",
          "__ECDF": 0.23076923076923078
         },
         {
          "Fluorescence": 12538.9,
          "Genotype": "m3",
          "__ECDF": 0.2692307692307692
         },
         {
          "Fluorescence": 13168.06,
          "Genotype": "m3",
          "__ECDF": 0.2692307692307692
         },
         {
          "Fluorescence": 13168.06,
          "Genotype": "m3",
          "__ECDF": 0.3076923076923077
         },
         {
          "Fluorescence": 13274.08,
          "Genotype": "m3",
          "__ECDF": 0.3076923076923077
         },
         {
          "Fluorescence": 13274.08,
          "Genotype": "m3",
          "__ECDF": 0.34615384615384615
         },
         {
          "Fluorescence": 13393.35,
          "Genotype": "m3",
          "__ECDF": 0.34615384615384615
         },
         {
          "Fluorescence": 13393.35,
          "Genotype": "m3",
          "__ECDF": 0.38461538461538464
         },
         {
          "Fluorescence": 13470.66,
          "Genotype": "m3",
          "__ECDF": 0.38461538461538464
         },
         {
          "Fluorescence": 13470.66,
          "Genotype": "m3",
          "__ECDF": 0.4230769230769231
         },
         {
          "Fluorescence": 14180.11,
          "Genotype": "m3",
          "__ECDF": 0.4230769230769231
         },
         {
          "Fluorescence": 14180.11,
          "Genotype": "m3",
          "__ECDF": 0.46153846153846156
         },
         {
          "Fluorescence": 14285.94,
          "Genotype": "m3",
          "__ECDF": 0.46153846153846156
         },
         {
          "Fluorescence": 14285.94,
          "Genotype": "m3",
          "__ECDF": 0.5
         },
         {
          "Fluorescence": 14313.86,
          "Genotype": "m3",
          "__ECDF": 0.5
         },
         {
          "Fluorescence": 14313.86,
          "Genotype": "m3",
          "__ECDF": 0.5384615384615384
         },
         {
          "Fluorescence": 14487.56,
          "Genotype": "m3",
          "__ECDF": 0.5384615384615384
         },
         {
          "Fluorescence": 14487.56,
          "Genotype": "m3",
          "__ECDF": 0.5769230769230769
         },
         {
          "Fluorescence": 14544.24,
          "Genotype": "m3",
          "__ECDF": 0.5769230769230769
         },
         {
          "Fluorescence": 14544.24,
          "Genotype": "m3",
          "__ECDF": 0.6153846153846154
         },
         {
          "Fluorescence": 15379.37,
          "Genotype": "m3",
          "__ECDF": 0.6153846153846154
         },
         {
          "Fluorescence": 15379.37,
          "Genotype": "m3",
          "__ECDF": 0.6538461538461539
         },
         {
          "Fluorescence": 15535.85,
          "Genotype": "m3",
          "__ECDF": 0.6538461538461539
         },
         {
          "Fluorescence": 15535.85,
          "Genotype": "m3",
          "__ECDF": 0.6923076923076923
         },
         {
          "Fluorescence": 16043.45,
          "Genotype": "m3",
          "__ECDF": 0.6923076923076923
         },
         {
          "Fluorescence": 16043.45,
          "Genotype": "m3",
          "__ECDF": 0.7307692307692307
         },
         {
          "Fluorescence": 16187.48,
          "Genotype": "m3",
          "__ECDF": 0.7307692307692307
         },
         {
          "Fluorescence": 16187.48,
          "Genotype": "m3",
          "__ECDF": 0.7692307692307693
         },
         {
          "Fluorescence": 16636.82,
          "Genotype": "m3",
          "__ECDF": 0.7692307692307693
         },
         {
          "Fluorescence": 16636.82,
          "Genotype": "m3",
          "__ECDF": 0.8076923076923077
         },
         {
          "Fluorescence": 16896.31,
          "Genotype": "m3",
          "__ECDF": 0.8076923076923077
         },
         {
          "Fluorescence": 16896.31,
          "Genotype": "m3",
          "__ECDF": 0.8461538461538461
         },
         {
          "Fluorescence": 16991.49,
          "Genotype": "m3",
          "__ECDF": 0.8461538461538461
         },
         {
          "Fluorescence": 16991.49,
          "Genotype": "m3",
          "__ECDF": 0.8846153846153846
         },
         {
          "Fluorescence": 17073.8,
          "Genotype": "m3",
          "__ECDF": 0.8846153846153846
         },
         {
          "Fluorescence": 17073.8,
          "Genotype": "m3",
          "__ECDF": 0.9230769230769231
         },
         {
          "Fluorescence": 18034.93,
          "Genotype": "m3",
          "__ECDF": 0.9230769230769231
         },
         {
          "Fluorescence": 18034.93,
          "Genotype": "m3",
          "__ECDF": 0.9615384615384616
         },
         {
          "Fluorescence": 18205.84,
          "Genotype": "m3",
          "__ECDF": 0.9615384615384616
         },
         {
          "Fluorescence": 18205.84,
          "Genotype": "m3",
          "__ECDF": 1
         },
         {
          "Fluorescence": 24003.504350000003,
          "Genotype": "m3",
          "__ECDF": 1
         },
         {
          "Fluorescence": 6096.728649999999,
          "Genotype": "sc",
          "__ECDF": 0
         },
         {
          "Fluorescence": 8358.995,
          "Genotype": "sc",
          "__ECDF": 0
         },
         {
          "Fluorescence": 8358.995,
          "Genotype": "sc",
          "__ECDF": 0.04
         },
         {
          "Fluorescence": 9540.503,
          "Genotype": "sc",
          "__ECDF": 0.04
         },
         {
          "Fluorescence": 9540.503,
          "Genotype": "sc",
          "__ECDF": 0.08
         },
         {
          "Fluorescence": 11233.21,
          "Genotype": "sc",
          "__ECDF": 0.08
         },
         {
          "Fluorescence": 11233.21,
          "Genotype": "sc",
          "__ECDF": 0.12
         },
         {
          "Fluorescence": 12163.93,
          "Genotype": "sc",
          "__ECDF": 0.12
         },
         {
          "Fluorescence": 12163.93,
          "Genotype": "sc",
          "__ECDF": 0.16
         },
         {
          "Fluorescence": 12462.69,
          "Genotype": "sc",
          "__ECDF": 0.16
         },
         {
          "Fluorescence": 12462.69,
          "Genotype": "sc",
          "__ECDF": 0.2
         },
         {
          "Fluorescence": 12672.19,
          "Genotype": "sc",
          "__ECDF": 0.2
         },
         {
          "Fluorescence": 12672.19,
          "Genotype": "sc",
          "__ECDF": 0.24
         },
         {
          "Fluorescence": 13334.83,
          "Genotype": "sc",
          "__ECDF": 0.24
         },
         {
          "Fluorescence": 13334.83,
          "Genotype": "sc",
          "__ECDF": 0.28
         },
         {
          "Fluorescence": 13568.62,
          "Genotype": "sc",
          "__ECDF": 0.28
         },
         {
          "Fluorescence": 13568.62,
          "Genotype": "sc",
          "__ECDF": 0.32
         },
         {
          "Fluorescence": 13609.09,
          "Genotype": "sc",
          "__ECDF": 0.32
         },
         {
          "Fluorescence": 13609.09,
          "Genotype": "sc",
          "__ECDF": 0.36
         },
         {
          "Fluorescence": 13969.94,
          "Genotype": "sc",
          "__ECDF": 0.36
         },
         {
          "Fluorescence": 13969.94,
          "Genotype": "sc",
          "__ECDF": 0.4
         },
         {
          "Fluorescence": 14128.31,
          "Genotype": "sc",
          "__ECDF": 0.4
         },
         {
          "Fluorescence": 14128.31,
          "Genotype": "sc",
          "__ECDF": 0.44
         },
         {
          "Fluorescence": 14211.59,
          "Genotype": "sc",
          "__ECDF": 0.44
         },
         {
          "Fluorescence": 14211.59,
          "Genotype": "sc",
          "__ECDF": 0.48
         },
         {
          "Fluorescence": 14414.89,
          "Genotype": "sc",
          "__ECDF": 0.48
         },
         {
          "Fluorescence": 14414.89,
          "Genotype": "sc",
          "__ECDF": 0.52
         },
         {
          "Fluorescence": 14879.05,
          "Genotype": "sc",
          "__ECDF": 0.52
         },
         {
          "Fluorescence": 14879.05,
          "Genotype": "sc",
          "__ECDF": 0.56
         },
         {
          "Fluorescence": 14882.92,
          "Genotype": "sc",
          "__ECDF": 0.56
         },
         {
          "Fluorescence": 14882.92,
          "Genotype": "sc",
          "__ECDF": 0.6
         },
         {
          "Fluorescence": 15065.03,
          "Genotype": "sc",
          "__ECDF": 0.6
         },
         {
          "Fluorescence": 15065.03,
          "Genotype": "sc",
          "__ECDF": 0.64
         },
         {
          "Fluorescence": 15110.88,
          "Genotype": "sc",
          "__ECDF": 0.64
         },
         {
          "Fluorescence": 15110.88,
          "Genotype": "sc",
          "__ECDF": 0.68
         },
         {
          "Fluorescence": 15158.47,
          "Genotype": "sc",
          "__ECDF": 0.68
         },
         {
          "Fluorescence": 15158.47,
          "Genotype": "sc",
          "__ECDF": 0.72
         },
         {
          "Fluorescence": 15602.73,
          "Genotype": "sc",
          "__ECDF": 0.72
         },
         {
          "Fluorescence": 15602.73,
          "Genotype": "sc",
          "__ECDF": 0.76
         },
         {
          "Fluorescence": 15832.53,
          "Genotype": "sc",
          "__ECDF": 0.76
         },
         {
          "Fluorescence": 15832.53,
          "Genotype": "sc",
          "__ECDF": 0.8
         },
         {
          "Fluorescence": 16499.3,
          "Genotype": "sc",
          "__ECDF": 0.8
         },
         {
          "Fluorescence": 16499.3,
          "Genotype": "sc",
          "__ECDF": 0.84
         },
         {
          "Fluorescence": 16960.67,
          "Genotype": "sc",
          "__ECDF": 0.84
         },
         {
          "Fluorescence": 16960.67,
          "Genotype": "sc",
          "__ECDF": 0.88
         },
         {
          "Fluorescence": 17229.12,
          "Genotype": "sc",
          "__ECDF": 0.88
         },
         {
          "Fluorescence": 17229.12,
          "Genotype": "sc",
          "__ECDF": 0.92
         },
         {
          "Fluorescence": 17305.84,
          "Genotype": "sc",
          "__ECDF": 0.92
         },
         {
          "Fluorescence": 17305.84,
          "Genotype": "sc",
          "__ECDF": 0.96
         },
         {
          "Fluorescence": 19436.63,
          "Genotype": "sc",
          "__ECDF": 0.96
         },
         {
          "Fluorescence": 19436.63,
          "Genotype": "sc",
          "__ECDF": 1
         },
         {
          "Fluorescence": 24003.504350000003,
          "Genotype": "sc",
          "__ECDF": 1
         },
         {
          "Fluorescence": 6096.728649999999,
          "Genotype": "sk",
          "__ECDF": 0
         },
         {
          "Fluorescence": 6910.673,
          "Genotype": "sk",
          "__ECDF": 0
         },
         {
          "Fluorescence": 6910.673,
          "Genotype": "sk",
          "__ECDF": 0.03333333333333333
         },
         {
          "Fluorescence": 14203.55,
          "Genotype": "sk",
          "__ECDF": 0.03333333333333333
         },
         {
          "Fluorescence": 14203.55,
          "Genotype": "sk",
          "__ECDF": 0.06666666666666667
         },
         {
          "Fluorescence": 14351.88,
          "Genotype": "sk",
          "__ECDF": 0.06666666666666667
         },
         {
          "Fluorescence": 14351.88,
          "Genotype": "sk",
          "__ECDF": 0.1
         },
         {
          "Fluorescence": 15992.75,
          "Genotype": "sk",
          "__ECDF": 0.1
         },
         {
          "Fluorescence": 15992.75,
          "Genotype": "sk",
          "__ECDF": 0.13333333333333333
         },
         {
          "Fluorescence": 16593.96,
          "Genotype": "sk",
          "__ECDF": 0.13333333333333333
         },
         {
          "Fluorescence": 16593.96,
          "Genotype": "sk",
          "__ECDF": 0.16666666666666666
         },
         {
          "Fluorescence": 16919.7,
          "Genotype": "sk",
          "__ECDF": 0.16666666666666666
         },
         {
          "Fluorescence": 16919.7,
          "Genotype": "sk",
          "__ECDF": 0.2
         },
         {
          "Fluorescence": 17609.13,
          "Genotype": "sk",
          "__ECDF": 0.2
         },
         {
          "Fluorescence": 17609.13,
          "Genotype": "sk",
          "__ECDF": 0.23333333333333334
         },
         {
          "Fluorescence": 17694.63,
          "Genotype": "sk",
          "__ECDF": 0.23333333333333334
         },
         {
          "Fluorescence": 17694.63,
          "Genotype": "sk",
          "__ECDF": 0.26666666666666666
         },
         {
          "Fluorescence": 17788.94,
          "Genotype": "sk",
          "__ECDF": 0.26666666666666666
         },
         {
          "Fluorescence": 17788.94,
          "Genotype": "sk",
          "__ECDF": 0.3
         },
         {
          "Fluorescence": 17811.23,
          "Genotype": "sk",
          "__ECDF": 0.3
         },
         {
          "Fluorescence": 17811.23,
          "Genotype": "sk",
          "__ECDF": 0.3333333333333333
         },
         {
          "Fluorescence": 17837.36,
          "Genotype": "sk",
          "__ECDF": 0.3333333333333333
         },
         {
          "Fluorescence": 17837.36,
          "Genotype": "sk",
          "__ECDF": 0.36666666666666664
         },
         {
          "Fluorescence": 18042.75,
          "Genotype": "sk",
          "__ECDF": 0.36666666666666664
         },
         {
          "Fluorescence": 18042.75,
          "Genotype": "sk",
          "__ECDF": 0.4
         },
         {
          "Fluorescence": 18062.91,
          "Genotype": "sk",
          "__ECDF": 0.4
         },
         {
          "Fluorescence": 18062.91,
          "Genotype": "sk",
          "__ECDF": 0.43333333333333335
         },
         {
          "Fluorescence": 19238.01,
          "Genotype": "sk",
          "__ECDF": 0.43333333333333335
         },
         {
          "Fluorescence": 19238.01,
          "Genotype": "sk",
          "__ECDF": 0.4666666666666667
         },
         {
          "Fluorescence": 19265.61,
          "Genotype": "sk",
          "__ECDF": 0.4666666666666667
         },
         {
          "Fluorescence": 19265.61,
          "Genotype": "sk",
          "__ECDF": 0.5
         },
         {
          "Fluorescence": 19314.24,
          "Genotype": "sk",
          "__ECDF": 0.5
         },
         {
          "Fluorescence": 19314.24,
          "Genotype": "sk",
          "__ECDF": 0.5333333333333333
         },
         {
          "Fluorescence": 19516.03,
          "Genotype": "sk",
          "__ECDF": 0.5333333333333333
         },
         {
          "Fluorescence": 19516.03,
          "Genotype": "sk",
          "__ECDF": 0.5666666666666667
         },
         {
          "Fluorescence": 19782.51,
          "Genotype": "sk",
          "__ECDF": 0.5666666666666667
         },
         {
          "Fluorescence": 19782.51,
          "Genotype": "sk",
          "__ECDF": 0.6
         },
         {
          "Fluorescence": 19882.63,
          "Genotype": "sk",
          "__ECDF": 0.6
         },
         {
          "Fluorescence": 19882.63,
          "Genotype": "sk",
          "__ECDF": 0.6333333333333333
         },
         {
          "Fluorescence": 20114.62,
          "Genotype": "sk",
          "__ECDF": 0.6333333333333333
         },
         {
          "Fluorescence": 20114.62,
          "Genotype": "sk",
          "__ECDF": 0.6666666666666666
         },
         {
          "Fluorescence": 20371.85,
          "Genotype": "sk",
          "__ECDF": 0.6666666666666666
         },
         {
          "Fluorescence": 20371.85,
          "Genotype": "sk",
          "__ECDF": 0.7
         },
         {
          "Fluorescence": 20526.22,
          "Genotype": "sk",
          "__ECDF": 0.7
         },
         {
          "Fluorescence": 20526.22,
          "Genotype": "sk",
          "__ECDF": 0.7333333333333333
         },
         {
          "Fluorescence": 20563.58,
          "Genotype": "sk",
          "__ECDF": 0.7333333333333333
         },
         {
          "Fluorescence": 20563.58,
          "Genotype": "sk",
          "__ECDF": 0.7666666666666667
         },
         {
          "Fluorescence": 20934.66,
          "Genotype": "sk",
          "__ECDF": 0.7666666666666667
         },
         {
          "Fluorescence": 20934.66,
          "Genotype": "sk",
          "__ECDF": 0.8
         },
         {
          "Fluorescence": 21371.72,
          "Genotype": "sk",
          "__ECDF": 0.8
         },
         {
          "Fluorescence": 21371.72,
          "Genotype": "sk",
          "__ECDF": 0.8333333333333334
         },
         {
          "Fluorescence": 21444.25,
          "Genotype": "sk",
          "__ECDF": 0.8333333333333334
         },
         {
          "Fluorescence": 21444.25,
          "Genotype": "sk",
          "__ECDF": 0.8666666666666667
         },
         {
          "Fluorescence": 21589.64,
          "Genotype": "sk",
          "__ECDF": 0.8666666666666667
         },
         {
          "Fluorescence": 21589.64,
          "Genotype": "sk",
          "__ECDF": 0.9
         },
         {
          "Fluorescence": 21836.05,
          "Genotype": "sk",
          "__ECDF": 0.9
         },
         {
          "Fluorescence": 21836.05,
          "Genotype": "sk",
          "__ECDF": 0.9333333333333333
         },
         {
          "Fluorescence": 22053.47,
          "Genotype": "sk",
          "__ECDF": 0.9333333333333333
         },
         {
          "Fluorescence": 22053.47,
          "Genotype": "sk",
          "__ECDF": 0.9666666666666667
         },
         {
          "Fluorescence": 23189.56,
          "Genotype": "sk",
          "__ECDF": 0.9666666666666667
         },
         {
          "Fluorescence": 23189.56,
          "Genotype": "sk",
          "__ECDF": 1
         },
         {
          "Fluorescence": 24003.504350000003,
          "Genotype": "sk",
          "__ECDF": 1
         }
        ],
        "data-97e21076a2b245561a3d32c8c541cf9f": [
         {
          "Fluorescence": -1643.2189400000004,
          "Genotype": "m3",
          "__ECDF": 0
         },
         {
          "Fluorescence": 3149.717,
          "Genotype": "m3",
          "__ECDF": 0
         },
         {
          "Fluorescence": 3149.717,
          "Genotype": "m3",
          "__ECDF": 0.034482758620689655
         },
         {
          "Fluorescence": 3880.93,
          "Genotype": "m3",
          "__ECDF": 0.034482758620689655
         },
         {
          "Fluorescence": 3880.93,
          "Genotype": "m3",
          "__ECDF": 0.06896551724137931
         },
         {
          "Fluorescence": 4634.488,
          "Genotype": "m3",
          "__ECDF": 0.06896551724137931
         },
         {
          "Fluorescence": 4634.488,
          "Genotype": "m3",
          "__ECDF": 0.10344827586206896
         },
         {
          "Fluorescence": 7395.207,
          "Genotype": "m3",
          "__ECDF": 0.10344827586206896
         },
         {
          "Fluorescence": 7395.207,
          "Genotype": "m3",
          "__ECDF": 0.13793103448275862
         },
         {
          "Fluorescence": 9429.343,
          "Genotype": "m3",
          "__ECDF": 0.13793103448275862
         },
         {
          "Fluorescence": 9429.343,
          "Genotype": "m3",
          "__ECDF": 0.1724137931034483
         },
         {
          "Fluorescence": 10373.52,
          "Genotype": "m3",
          "__ECDF": 0.1724137931034483
         },
         {
          "Fluorescence": 10373.52,
          "Genotype": "m3",
          "__ECDF": 0.20689655172413793
         },
         {
          "Fluorescence": 11121.24,
          "Genotype": "m3",
          "__ECDF": 0.20689655172413793
         },
         {
          "Fluorescence": 11121.24,
          "Genotype": "m3",
          "__ECDF": 0.2413793103448276
         },
         {
          "Fluorescence": 12793.59,
          "Genotype": "m3",
          "__ECDF": 0.2413793103448276
         },
         {
          "Fluorescence": 12793.59,
          "Genotype": "m3",
          "__ECDF": 0.27586206896551724
         },
         {
          "Fluorescence": 13684.36,
          "Genotype": "m3",
          "__ECDF": 0.27586206896551724
         },
         {
          "Fluorescence": 13684.36,
          "Genotype": "m3",
          "__ECDF": 0.3103448275862069
         },
         {
          "Fluorescence": 15568.76,
          "Genotype": "m3",
          "__ECDF": 0.3103448275862069
         },
         {
          "Fluorescence": 15568.76,
          "Genotype": "m3",
          "__ECDF": 0.3448275862068966
         },
         {
          "Fluorescence": 15876.82,
          "Genotype": "m3",
          "__ECDF": 0.3448275862068966
         },
         {
          "Fluorescence": 15876.82,
          "Genotype": "m3",
          "__ECDF": 0.3793103448275862
         },
         {
          "Fluorescence": 16756.28,
          "Genotype": "m3",
          "__ECDF": 0.3793103448275862
         },
         {
          "Fluorescence": 16756.28,
          "Genotype": "m3",
          "__ECDF": 0.41379310344827586
         },
         {
          "Fluorescence": 17062.84,
          "Genotype": "m3",
          "__ECDF": 0.41379310344827586
         },
         {
          "Fluorescence": 17062.84,
          "Genotype": "m3",
          "__ECDF": 0.4482758620689655
         },
         {
          "Fluorescence": 18178.44,
          "Genotype": "m3",
          "__ECDF": 0.4482758620689655
         },
         {
          "Fluorescence": 18178.44,
          "Genotype": "m3",
          "__ECDF": 0.4827586206896552
         },
         {
          "Fluorescence": 18265.88,
          "Genotype": "m3",
          "__ECDF": 0.4827586206896552
         },
         {
          "Fluorescence": 18265.88,
          "Genotype": "m3",
          "__ECDF": 0.5172413793103449
         },
         {
          "Fluorescence": 20017.14,
          "Genotype": "m3",
          "__ECDF": 0.5172413793103449
         },
         {
          "Fluorescence": 20017.14,
          "Genotype": "m3",
          "__ECDF": 0.5517241379310345
         },
         {
          "Fluorescence": 20376.3,
          "Genotype": "m3",
          "__ECDF": 0.5517241379310345
         },
         {
          "Fluorescence": 20376.3,
          "Genotype": "m3",
          "__ECDF": 0.5862068965517241
         },
         {
          "Fluorescence": 20722.62,
          "Genotype": "m3",
          "__ECDF": 0.5862068965517241
         },
         {
          "Fluorescence": 20722.62,
          "Genotype": "m3",
          "__ECDF": 0.6206896551724138
         },
         {
          "Fluorescence": 20820.26,
          "Genotype": "m3",
          "__ECDF": 0.6206896551724138
         },
         {
          "Fluorescence": 20820.26,
          "Genotype": "m3",
          "__ECDF": 0.6551724137931034
         },
         {
          "Fluorescence": 21703.44,
          "Genotype": "m3",
          "__ECDF": 0.6551724137931034
         },
         {
          "Fluorescence": 21703.44,
          "Genotype": "m3",
          "__ECDF": 0.6896551724137931
         },
         {
          "Fluorescence": 21707.12,
          "Genotype": "m3",
          "__ECDF": 0.6896551724137931
         },
         {
          "Fluorescence": 21707.12,
          "Genotype": "m3",
          "__ECDF": 0.7241379310344828
         },
         {
          "Fluorescence": 21750.27,
          "Genotype": "m3",
          "__ECDF": 0.7241379310344828
         },
         {
          "Fluorescence": 21750.27,
          "Genotype": "m3",
          "__ECDF": 0.7586206896551724
         },
         {
          "Fluorescence": 22510.41,
          "Genotype": "m3",
          "__ECDF": 0.7586206896551724
         },
         {
          "Fluorescence": 22510.41,
          "Genotype": "m3",
          "__ECDF": 0.7931034482758621
         },
         {
          "Fluorescence": 24028.75,
          "Genotype": "m3",
          "__ECDF": 0.7931034482758621
         },
         {
          "Fluorescence": 24028.75,
          "Genotype": "m3",
          "__ECDF": 0.8275862068965517
         },
         {
          "Fluorescence": 24932.88,
          "Genotype": "m3",
          "__ECDF": 0.8275862068965517
         },
         {
          "Fluorescence": 24932.88,
          "Genotype": "m3",
          "__ECDF": 0.8620689655172413
         },
         {
          "Fluorescence": 31089.68,
          "Genotype": "m3",
          "__ECDF": 0.8620689655172413
         },
         {
          "Fluorescence": 31089.68,
          "Genotype": "m3",
          "__ECDF": 0.896551724137931
         },
         {
          "Fluorescence": 34021.32,
          "Genotype": "m3",
          "__ECDF": 0.896551724137931
         },
         {
          "Fluorescence": 34021.32,
          "Genotype": "m3",
          "__ECDF": 0.9310344827586207
         },
         {
          "Fluorescence": 34486.33,
          "Genotype": "m3",
          "__ECDF": 0.9310344827586207
         },
         {
          "Fluorescence": 34486.33,
          "Genotype": "m3",
          "__ECDF": 0.9655172413793104
         },
         {
          "Fluorescence": 43198.42,
          "Genotype": "m3",
          "__ECDF": 0.9655172413793104
         },
         {
          "Fluorescence": 43198.42,
          "Genotype": "m3",
          "__ECDF": 1
         },
         {
          "Fluorescence": 45333.73614,
          "Genotype": "m3",
          "__ECDF": 1
         },
         {
          "Fluorescence": -1643.2189400000004,
          "Genotype": "sc",
          "__ECDF": 0
         },
         {
          "Fluorescence": 492.0972,
          "Genotype": "sc",
          "__ECDF": 0
         },
         {
          "Fluorescence": 492.0972,
          "Genotype": "sc",
          "__ECDF": 0.03571428571428571
         },
         {
          "Fluorescence": 654.714,
          "Genotype": "sc",
          "__ECDF": 0.03571428571428571
         },
         {
          "Fluorescence": 654.714,
          "Genotype": "sc",
          "__ECDF": 0.07142857142857142
         },
         {
          "Fluorescence": 1060.197,
          "Genotype": "sc",
          "__ECDF": 0.07142857142857142
         },
         {
          "Fluorescence": 1060.197,
          "Genotype": "sc",
          "__ECDF": 0.10714285714285714
         },
         {
          "Fluorescence": 1089.028,
          "Genotype": "sc",
          "__ECDF": 0.10714285714285714
         },
         {
          "Fluorescence": 1089.028,
          "Genotype": "sc",
          "__ECDF": 0.14285714285714285
         },
         {
          "Fluorescence": 1136.737,
          "Genotype": "sc",
          "__ECDF": 0.14285714285714285
         },
         {
          "Fluorescence": 1136.737,
          "Genotype": "sc",
          "__ECDF": 0.17857142857142858
         },
         {
          "Fluorescence": 1298.547,
          "Genotype": "sc",
          "__ECDF": 0.17857142857142858
         },
         {
          "Fluorescence": 1298.547,
          "Genotype": "sc",
          "__ECDF": 0.21428571428571427
         },
         {
          "Fluorescence": 1321.293,
          "Genotype": "sc",
          "__ECDF": 0.21428571428571427
         },
         {
          "Fluorescence": 1321.293,
          "Genotype": "sc",
          "__ECDF": 0.25
         },
         {
          "Fluorescence": 1442.433,
          "Genotype": "sc",
          "__ECDF": 0.25
         },
         {
          "Fluorescence": 1442.433,
          "Genotype": "sc",
          "__ECDF": 0.2857142857142857
         },
         {
          "Fluorescence": 1478.777,
          "Genotype": "sc",
          "__ECDF": 0.2857142857142857
         },
         {
          "Fluorescence": 1478.777,
          "Genotype": "sc",
          "__ECDF": 0.32142857142857145
         },
         {
          "Fluorescence": 1482.843,
          "Genotype": "sc",
          "__ECDF": 0.32142857142857145
         },
         {
          "Fluorescence": 1482.843,
          "Genotype": "sc",
          "__ECDF": 0.35714285714285715
         },
         {
          "Fluorescence": 1511.991,
          "Genotype": "sc",
          "__ECDF": 0.35714285714285715
         },
         {
          "Fluorescence": 1511.991,
          "Genotype": "sc",
          "__ECDF": 0.39285714285714285
         },
         {
          "Fluorescence": 1540.458,
          "Genotype": "sc",
          "__ECDF": 0.39285714285714285
         },
         {
          "Fluorescence": 1540.458,
          "Genotype": "sc",
          "__ECDF": 0.42857142857142855
         },
         {
          "Fluorescence": 1551.396,
          "Genotype": "sc",
          "__ECDF": 0.42857142857142855
         },
         {
          "Fluorescence": 1551.396,
          "Genotype": "sc",
          "__ECDF": 0.4642857142857143
         },
         {
          "Fluorescence": 1682.306,
          "Genotype": "sc",
          "__ECDF": 0.4642857142857143
         },
         {
          "Fluorescence": 1682.306,
          "Genotype": "sc",
          "__ECDF": 0.5
         },
         {
          "Fluorescence": 1712.902,
          "Genotype": "sc",
          "__ECDF": 0.5
         },
         {
          "Fluorescence": 1712.902,
          "Genotype": "sc",
          "__ECDF": 0.5357142857142857
         },
         {
          "Fluorescence": 1851.253,
          "Genotype": "sc",
          "__ECDF": 0.5357142857142857
         },
         {
          "Fluorescence": 1851.253,
          "Genotype": "sc",
          "__ECDF": 0.5714285714285714
         },
         {
          "Fluorescence": 2018.864,
          "Genotype": "sc",
          "__ECDF": 0.5714285714285714
         },
         {
          "Fluorescence": 2018.864,
          "Genotype": "sc",
          "__ECDF": 0.6071428571428571
         },
         {
          "Fluorescence": 2131.59,
          "Genotype": "sc",
          "__ECDF": 0.6071428571428571
         },
         {
          "Fluorescence": 2131.59,
          "Genotype": "sc",
          "__ECDF": 0.6428571428571429
         },
         {
          "Fluorescence": 2584.733,
          "Genotype": "sc",
          "__ECDF": 0.6428571428571429
         },
         {
          "Fluorescence": 2584.733,
          "Genotype": "sc",
          "__ECDF": 0.6785714285714286
         },
         {
          "Fluorescence": 3134.334,
          "Genotype": "sc",
          "__ECDF": 0.6785714285714286
         },
         {
          "Fluorescence": 3134.334,
          "Genotype": "sc",
          "__ECDF": 0.7142857142857143
         },
         {
          "Fluorescence": 3485.557,
          "Genotype": "sc",
          "__ECDF": 0.7142857142857143
         },
         {
          "Fluorescence": 3485.557,
          "Genotype": "sc",
          "__ECDF": 0.75
         },
         {
          "Fluorescence": 4412.128,
          "Genotype": "sc",
          "__ECDF": 0.75
         },
         {
          "Fluorescence": 4412.128,
          "Genotype": "sc",
          "__ECDF": 0.7857142857142857
         },
         {
          "Fluorescence": 5128.18,
          "Genotype": "sc",
          "__ECDF": 0.7857142857142857
         },
         {
          "Fluorescence": 5128.18,
          "Genotype": "sc",
          "__ECDF": 0.8214285714285714
         },
         {
          "Fluorescence": 5540.317,
          "Genotype": "sc",
          "__ECDF": 0.8214285714285714
         },
         {
          "Fluorescence": 5540.317,
          "Genotype": "sc",
          "__ECDF": 0.8571428571428571
         },
         {
          "Fluorescence": 5701.043,
          "Genotype": "sc",
          "__ECDF": 0.8571428571428571
         },
         {
          "Fluorescence": 5701.043,
          "Genotype": "sc",
          "__ECDF": 0.8928571428571429
         },
         {
          "Fluorescence": 5801.691,
          "Genotype": "sc",
          "__ECDF": 0.8928571428571429
         },
         {
          "Fluorescence": 5801.691,
          "Genotype": "sc",
          "__ECDF": 0.9285714285714286
         },
         {
          "Fluorescence": 6798.146,
          "Genotype": "sc",
          "__ECDF": 0.9285714285714286
         },
         {
          "Fluorescence": 6798.146,
          "Genotype": "sc",
          "__ECDF": 0.9642857142857143
         },
         {
          "Fluorescence": 10686.91,
          "Genotype": "sc",
          "__ECDF": 0.9642857142857143
         },
         {
          "Fluorescence": 10686.91,
          "Genotype": "sc",
          "__ECDF": 1
         },
         {
          "Fluorescence": 45333.73614,
          "Genotype": "sc",
          "__ECDF": 1
         },
         {
          "Fluorescence": -1643.2189400000004,
          "Genotype": "sk",
          "__ECDF": 0
         },
         {
          "Fluorescence": 7242.744,
          "Genotype": "sk",
          "__ECDF": 0
         },
         {
          "Fluorescence": 7242.744,
          "Genotype": "sk",
          "__ECDF": 0.038461538461538464
         },
         {
          "Fluorescence": 8567.691,
          "Genotype": "sk",
          "__ECDF": 0.038461538461538464
         },
         {
          "Fluorescence": 8567.691,
          "Genotype": "sk",
          "__ECDF": 0.07692307692307693
         },
         {
          "Fluorescence": 8712.589,
          "Genotype": "sk",
          "__ECDF": 0.07692307692307693
         },
         {
          "Fluorescence": 8712.589,
          "Genotype": "sk",
          "__ECDF": 0.11538461538461539
         },
         {
          "Fluorescence": 8949.01,
          "Genotype": "sk",
          "__ECDF": 0.11538461538461539
         },
         {
          "Fluorescence": 8949.01,
          "Genotype": "sk",
          "__ECDF": 0.15384615384615385
         },
         {
          "Fluorescence": 8978.031,
          "Genotype": "sk",
          "__ECDF": 0.15384615384615385
         },
         {
          "Fluorescence": 8978.031,
          "Genotype": "sk",
          "__ECDF": 0.19230769230769232
         },
         {
          "Fluorescence": 9049.072,
          "Genotype": "sk",
          "__ECDF": 0.19230769230769232
         },
         {
          "Fluorescence": 9049.072,
          "Genotype": "sk",
          "__ECDF": 0.23076923076923078
         },
         {
          "Fluorescence": 9460.2,
          "Genotype": "sk",
          "__ECDF": 0.23076923076923078
         },
         {
          "Fluorescence": 9460.2,
          "Genotype": "sk",
          "__ECDF": 0.2692307692307692
         },
         {
          "Fluorescence": 9801.333,
          "Genotype": "sk",
          "__ECDF": 0.2692307692307692
         },
         {
          "Fluorescence": 9801.333,
          "Genotype": "sk",
          "__ECDF": 0.3076923076923077
         },
         {
          "Fluorescence": 10363.52,
          "Genotype": "sk",
          "__ECDF": 0.3076923076923077
         },
         {
          "Fluorescence": 10363.52,
          "Genotype": "sk",
          "__ECDF": 0.34615384615384615
         },
         {
          "Fluorescence": 10518.4,
          "Genotype": "sk",
          "__ECDF": 0.34615384615384615
         },
         {
          "Fluorescence": 10518.4,
          "Genotype": "sk",
          "__ECDF": 0.38461538461538464
         },
         {
          "Fluorescence": 11001.72,
          "Genotype": "sk",
          "__ECDF": 0.38461538461538464
         },
         {
          "Fluorescence": 11001.72,
          "Genotype": "sk",
          "__ECDF": 0.4230769230769231
         },
         {
          "Fluorescence": 11221.13,
          "Genotype": "sk",
          "__ECDF": 0.4230769230769231
         },
         {
          "Fluorescence": 11221.13,
          "Genotype": "sk",
          "__ECDF": 0.46153846153846156
         },
         {
          "Fluorescence": 11233.41,
          "Genotype": "sk",
          "__ECDF": 0.46153846153846156
         },
         {
          "Fluorescence": 11233.41,
          "Genotype": "sk",
          "__ECDF": 0.5
         },
         {
          "Fluorescence": 11561.47,
          "Genotype": "sk",
          "__ECDF": 0.5
         },
         {
          "Fluorescence": 11561.47,
          "Genotype": "sk",
          "__ECDF": 0.5384615384615384
         },
         {
          "Fluorescence": 11897.13,
          "Genotype": "sk",
          "__ECDF": 0.5384615384615384
         },
         {
          "Fluorescence": 11897.13,
          "Genotype": "sk",
          "__ECDF": 0.5769230769230769
         },
         {
          "Fluorescence": 12072.7,
          "Genotype": "sk",
          "__ECDF": 0.5769230769230769
         },
         {
          "Fluorescence": 12072.7,
          "Genotype": "sk",
          "__ECDF": 0.6153846153846154
         },
         {
          "Fluorescence": 12566.75,
          "Genotype": "sk",
          "__ECDF": 0.6153846153846154
         },
         {
          "Fluorescence": 12566.75,
          "Genotype": "sk",
          "__ECDF": 0.6538461538461539
         },
         {
          "Fluorescence": 12782.01,
          "Genotype": "sk",
          "__ECDF": 0.6538461538461539
         },
         {
          "Fluorescence": 12782.01,
          "Genotype": "sk",
          "__ECDF": 0.6923076923076923
         },
         {
          "Fluorescence": 12828.28,
          "Genotype": "sk",
          "__ECDF": 0.6923076923076923
         },
         {
          "Fluorescence": 12828.28,
          "Genotype": "sk",
          "__ECDF": 0.7307692307692307
         },
         {
          "Fluorescence": 13044.4,
          "Genotype": "sk",
          "__ECDF": 0.7307692307692307
         },
         {
          "Fluorescence": 13044.4,
          "Genotype": "sk",
          "__ECDF": 0.7692307692307693
         },
         {
          "Fluorescence": 13160.89,
          "Genotype": "sk",
          "__ECDF": 0.7692307692307693
         },
         {
          "Fluorescence": 13160.89,
          "Genotype": "sk",
          "__ECDF": 0.8076923076923077
         },
         {
          "Fluorescence": 13359.27,
          "Genotype": "sk",
          "__ECDF": 0.8076923076923077
         },
         {
          "Fluorescence": 13359.27,
          "Genotype": "sk",
          "__ECDF": 0.8461538461538461
         },
         {
          "Fluorescence": 13718.88,
          "Genotype": "sk",
          "__ECDF": 0.8461538461538461
         },
         {
          "Fluorescence": 13718.88,
          "Genotype": "sk",
          "__ECDF": 0.8846153846153846
         },
         {
          "Fluorescence": 14132.81,
          "Genotype": "sk",
          "__ECDF": 0.8846153846153846
         },
         {
          "Fluorescence": 14132.81,
          "Genotype": "sk",
          "__ECDF": 0.9230769230769231
         },
         {
          "Fluorescence": 14616.11,
          "Genotype": "sk",
          "__ECDF": 0.9230769230769231
         },
         {
          "Fluorescence": 14616.11,
          "Genotype": "sk",
          "__ECDF": 0.9615384615384616
         },
         {
          "Fluorescence": 16330.5,
          "Genotype": "sk",
          "__ECDF": 0.9615384615384616
         },
         {
          "Fluorescence": 16330.5,
          "Genotype": "sk",
          "__ECDF": 1
         },
         {
          "Fluorescence": 45333.73614,
          "Genotype": "sk",
          "__ECDF": 1
         }
        ],
        "data-bc31407d1a3c8618839fcc250d9deb2e": [
         {
          "Fluorescence": -592.3824,
          "Genotype": "m3",
          "__ECDF": 0
         },
         {
          "Fluorescence": 5616.583,
          "Genotype": "m3",
          "__ECDF": 0
         },
         {
          "Fluorescence": 5616.583,
          "Genotype": "m3",
          "__ECDF": 0.037037037037037035
         },
         {
          "Fluorescence": 8350.16,
          "Genotype": "m3",
          "__ECDF": 0.037037037037037035
         },
         {
          "Fluorescence": 8350.16,
          "Genotype": "m3",
          "__ECDF": 0.07407407407407407
         },
         {
          "Fluorescence": 8404.338,
          "Genotype": "m3",
          "__ECDF": 0.07407407407407407
         },
         {
          "Fluorescence": 8404.338,
          "Genotype": "m3",
          "__ECDF": 0.1111111111111111
         },
         {
          "Fluorescence": 9851.121,
          "Genotype": "m3",
          "__ECDF": 0.1111111111111111
         },
         {
          "Fluorescence": 9851.121,
          "Genotype": "m3",
          "__ECDF": 0.14814814814814814
         },
         {
          "Fluorescence": 10092.92,
          "Genotype": "m3",
          "__ECDF": 0.14814814814814814
         },
         {
          "Fluorescence": 10092.92,
          "Genotype": "m3",
          "__ECDF": 0.18518518518518517
         },
         {
          "Fluorescence": 10095.31,
          "Genotype": "m3",
          "__ECDF": 0.18518518518518517
         },
         {
          "Fluorescence": 10095.31,
          "Genotype": "m3",
          "__ECDF": 0.2222222222222222
         },
         {
          "Fluorescence": 10261.6,
          "Genotype": "m3",
          "__ECDF": 0.2222222222222222
         },
         {
          "Fluorescence": 10261.6,
          "Genotype": "m3",
          "__ECDF": 0.25925925925925924
         },
         {
          "Fluorescence": 10938.8,
          "Genotype": "m3",
          "__ECDF": 0.25925925925925924
         },
         {
          "Fluorescence": 10938.8,
          "Genotype": "m3",
          "__ECDF": 0.2962962962962963
         },
         {
          "Fluorescence": 11349.04,
          "Genotype": "m3",
          "__ECDF": 0.2962962962962963
         },
         {
          "Fluorescence": 11349.04,
          "Genotype": "m3",
          "__ECDF": 0.3333333333333333
         },
         {
          "Fluorescence": 11383.33,
          "Genotype": "m3",
          "__ECDF": 0.3333333333333333
         },
         {
          "Fluorescence": 11383.33,
          "Genotype": "m3",
          "__ECDF": 0.37037037037037035
         },
         {
          "Fluorescence": 11444.18,
          "Genotype": "m3",
          "__ECDF": 0.37037037037037035
         },
         {
          "Fluorescence": 11444.18,
          "Genotype": "m3",
          "__ECDF": 0.4074074074074074
         },
         {
          "Fluorescence": 11703.01,
          "Genotype": "m3",
          "__ECDF": 0.4074074074074074
         },
         {
          "Fluorescence": 11703.01,
          "Genotype": "m3",
          "__ECDF": 0.4444444444444444
         },
         {
          "Fluorescence": 12594.02,
          "Genotype": "m3",
          "__ECDF": 0.4444444444444444
         },
         {
          "Fluorescence": 12594.02,
          "Genotype": "m3",
          "__ECDF": 0.48148148148148145
         },
         {
          "Fluorescence": 12839.65,
          "Genotype": "m3",
          "__ECDF": 0.48148148148148145
         },
         {
          "Fluorescence": 12839.65,
          "Genotype": "m3",
          "__ECDF": 0.5185185185185185
         },
         {
          "Fluorescence": 13687.15,
          "Genotype": "m3",
          "__ECDF": 0.5185185185185185
         },
         {
          "Fluorescence": 13687.15,
          "Genotype": "m3",
          "__ECDF": 0.5555555555555556
         },
         {
          "Fluorescence": 14445.49,
          "Genotype": "m3",
          "__ECDF": 0.5555555555555556
         },
         {
          "Fluorescence": 14445.49,
          "Genotype": "m3",
          "__ECDF": 0.5925925925925926
         },
         {
          "Fluorescence": 14456.7,
          "Genotype": "m3",
          "__ECDF": 0.5925925925925926
         },
         {
          "Fluorescence": 14456.7,
          "Genotype": "m3",
          "__ECDF": 0.6296296296296297
         },
         {
          "Fluorescence": 15120.23,
          "Genotype": "m3",
          "__ECDF": 0.6296296296296297
         },
         {
          "Fluorescence": 15120.23,
          "Genotype": "m3",
          "__ECDF": 0.6666666666666666
         },
         {
          "Fluorescence": 15341.68,
          "Genotype": "m3",
          "__ECDF": 0.6666666666666666
         },
         {
          "Fluorescence": 15341.68,
          "Genotype": "m3",
          "__ECDF": 0.7037037037037037
         },
         {
          "Fluorescence": 15657.5,
          "Genotype": "m3",
          "__ECDF": 0.7037037037037037
         },
         {
          "Fluorescence": 15657.5,
          "Genotype": "m3",
          "__ECDF": 0.7407407407407407
         },
         {
          "Fluorescence": 17025.58,
          "Genotype": "m3",
          "__ECDF": 0.7407407407407407
         },
         {
          "Fluorescence": 17025.58,
          "Genotype": "m3",
          "__ECDF": 0.7777777777777778
         },
         {
          "Fluorescence": 17079.49,
          "Genotype": "m3",
          "__ECDF": 0.7777777777777778
         },
         {
          "Fluorescence": 17079.49,
          "Genotype": "m3",
          "__ECDF": 0.8148148148148148
         },
         {
          "Fluorescence": 17499.83,
          "Genotype": "m3",
          "__ECDF": 0.8148148148148148
         },
         {
          "Fluorescence": 17499.83,
          "Genotype": "m3",
          "__ECDF": 0.8518518518518519
         },
         {
          "Fluorescence": 19347.14,
          "Genotype": "m3",
          "__ECDF": 0.8518518518518519
         },
         {
          "Fluorescence": 19347.14,
          "Genotype": "m3",
          "__ECDF": 0.8888888888888888
         },
         {
          "Fluorescence": 22372.43,
          "Genotype": "m3",
          "__ECDF": 0.8888888888888888
         },
         {
          "Fluorescence": 22372.43,
          "Genotype": "m3",
          "__ECDF": 0.9259259259259259
         },
         {
          "Fluorescence": 22479.83,
          "Genotype": "m3",
          "__ECDF": 0.9259259259259259
         },
         {
          "Fluorescence": 22479.83,
          "Genotype": "m3",
          "__ECDF": 0.9629629629629629
         },
         {
          "Fluorescence": 33739.14,
          "Genotype": "m3",
          "__ECDF": 0.9629629629629629
         },
         {
          "Fluorescence": 33739.14,
          "Genotype": "m3",
          "__ECDF": 1
         },
         {
          "Fluorescence": 35373.9744,
          "Genotype": "m3",
          "__ECDF": 1
         },
         {
          "Fluorescence": -592.3824,
          "Genotype": "sc",
          "__ECDF": 0
         },
         {
          "Fluorescence": 1042.452,
          "Genotype": "sc",
          "__ECDF": 0
         },
         {
          "Fluorescence": 1042.452,
          "Genotype": "sc",
          "__ECDF": 0.045454545454545456
         },
         {
          "Fluorescence": 1312.233,
          "Genotype": "sc",
          "__ECDF": 0.045454545454545456
         },
         {
          "Fluorescence": 1312.233,
          "Genotype": "sc",
          "__ECDF": 0.09090909090909091
         },
         {
          "Fluorescence": 1526.974,
          "Genotype": "sc",
          "__ECDF": 0.09090909090909091
         },
         {
          "Fluorescence": 1526.974,
          "Genotype": "sc",
          "__ECDF": 0.13636363636363635
         },
         {
          "Fluorescence": 1532.901,
          "Genotype": "sc",
          "__ECDF": 0.13636363636363635
         },
         {
          "Fluorescence": 1532.901,
          "Genotype": "sc",
          "__ECDF": 0.18181818181818182
         },
         {
          "Fluorescence": 1572.569,
          "Genotype": "sc",
          "__ECDF": 0.18181818181818182
         },
         {
          "Fluorescence": 1572.569,
          "Genotype": "sc",
          "__ECDF": 0.22727272727272727
         },
         {
          "Fluorescence": 1817.321,
          "Genotype": "sc",
          "__ECDF": 0.22727272727272727
         },
         {
          "Fluorescence": 1817.321,
          "Genotype": "sc",
          "__ECDF": 0.2727272727272727
         },
         {
          "Fluorescence": 1888.596,
          "Genotype": "sc",
          "__ECDF": 0.2727272727272727
         },
         {
          "Fluorescence": 1888.596,
          "Genotype": "sc",
          "__ECDF": 0.3181818181818182
         },
         {
          "Fluorescence": 2357.752,
          "Genotype": "sc",
          "__ECDF": 0.3181818181818182
         },
         {
          "Fluorescence": 2357.752,
          "Genotype": "sc",
          "__ECDF": 0.36363636363636365
         },
         {
          "Fluorescence": 2737.135,
          "Genotype": "sc",
          "__ECDF": 0.36363636363636365
         },
         {
          "Fluorescence": 2737.135,
          "Genotype": "sc",
          "__ECDF": 0.4090909090909091
         },
         {
          "Fluorescence": 3107.02,
          "Genotype": "sc",
          "__ECDF": 0.4090909090909091
         },
         {
          "Fluorescence": 3107.02,
          "Genotype": "sc",
          "__ECDF": 0.45454545454545453
         },
         {
          "Fluorescence": 3448.003,
          "Genotype": "sc",
          "__ECDF": 0.45454545454545453
         },
         {
          "Fluorescence": 3448.003,
          "Genotype": "sc",
          "__ECDF": 0.5
         },
         {
          "Fluorescence": 3505.12,
          "Genotype": "sc",
          "__ECDF": 0.5
         },
         {
          "Fluorescence": 3505.12,
          "Genotype": "sc",
          "__ECDF": 0.5454545454545454
         },
         {
          "Fluorescence": 3643.21,
          "Genotype": "sc",
          "__ECDF": 0.5454545454545454
         },
         {
          "Fluorescence": 3643.21,
          "Genotype": "sc",
          "__ECDF": 0.5909090909090909
         },
         {
          "Fluorescence": 3796.529,
          "Genotype": "sc",
          "__ECDF": 0.5909090909090909
         },
         {
          "Fluorescence": 3796.529,
          "Genotype": "sc",
          "__ECDF": 0.6363636363636364
         },
         {
          "Fluorescence": 4758.537,
          "Genotype": "sc",
          "__ECDF": 0.6363636363636364
         },
         {
          "Fluorescence": 4758.537,
          "Genotype": "sc",
          "__ECDF": 0.6818181818181818
         },
         {
          "Fluorescence": 4816.29,
          "Genotype": "sc",
          "__ECDF": 0.6818181818181818
         },
         {
          "Fluorescence": 4816.29,
          "Genotype": "sc",
          "__ECDF": 0.7272727272727273
         },
         {
          "Fluorescence": 5757.599,
          "Genotype": "sc",
          "__ECDF": 0.7272727272727273
         },
         {
          "Fluorescence": 5757.599,
          "Genotype": "sc",
          "__ECDF": 0.7727272727272727
         },
         {
          "Fluorescence": 6818.986,
          "Genotype": "sc",
          "__ECDF": 0.7727272727272727
         },
         {
          "Fluorescence": 6818.986,
          "Genotype": "sc",
          "__ECDF": 0.8181818181818182
         },
         {
          "Fluorescence": 8119.87,
          "Genotype": "sc",
          "__ECDF": 0.8181818181818182
         },
         {
          "Fluorescence": 8119.87,
          "Genotype": "sc",
          "__ECDF": 0.8636363636363636
         },
         {
          "Fluorescence": 11756.49,
          "Genotype": "sc",
          "__ECDF": 0.8636363636363636
         },
         {
          "Fluorescence": 11756.49,
          "Genotype": "sc",
          "__ECDF": 0.9090909090909091
         },
         {
          "Fluorescence": 12185.36,
          "Genotype": "sc",
          "__ECDF": 0.9090909090909091
         },
         {
          "Fluorescence": 12185.36,
          "Genotype": "sc",
          "__ECDF": 0.9545454545454546
         },
         {
          "Fluorescence": 16331.43,
          "Genotype": "sc",
          "__ECDF": 0.9545454545454546
         },
         {
          "Fluorescence": 16331.43,
          "Genotype": "sc",
          "__ECDF": 1
         },
         {
          "Fluorescence": 35373.9744,
          "Genotype": "sc",
          "__ECDF": 1
         },
         {
          "Fluorescence": -592.3824,
          "Genotype": "sk",
          "__ECDF": 0
         },
         {
          "Fluorescence": 12036.87,
          "Genotype": "sk",
          "__ECDF": 0
         },
         {
          "Fluorescence": 12036.87,
          "Genotype": "sk",
          "__ECDF": 0.03333333333333333
         },
         {
          "Fluorescence": 12345.97,
          "Genotype": "sk",
          "__ECDF": 0.03333333333333333
         },
         {
          "Fluorescence": 12345.97,
          "Genotype": "sk",
          "__ECDF": 0.06666666666666667
         },
         {
          "Fluorescence": 12394.32,
          "Genotype": "sk",
          "__ECDF": 0.06666666666666667
         },
         {
          "Fluorescence": 12394.32,
          "Genotype": "sk",
          "__ECDF": 0.1
         },
         {
          "Fluorescence": 12799.02,
          "Genotype": "sk",
          "__ECDF": 0.1
         },
         {
          "Fluorescence": 12799.02,
          "Genotype": "sk",
          "__ECDF": 0.13333333333333333
         },
         {
          "Fluorescence": 12867.4,
          "Genotype": "sk",
          "__ECDF": 0.13333333333333333
         },
         {
          "Fluorescence": 12867.4,
          "Genotype": "sk",
          "__ECDF": 0.16666666666666666
         },
         {
          "Fluorescence": 12879.88,
          "Genotype": "sk",
          "__ECDF": 0.16666666666666666
         },
         {
          "Fluorescence": 12879.88,
          "Genotype": "sk",
          "__ECDF": 0.2
         },
         {
          "Fluorescence": 13000.28,
          "Genotype": "sk",
          "__ECDF": 0.2
         },
         {
          "Fluorescence": 13000.28,
          "Genotype": "sk",
          "__ECDF": 0.23333333333333334
         },
         {
          "Fluorescence": 13311.52,
          "Genotype": "sk",
          "__ECDF": 0.23333333333333334
         },
         {
          "Fluorescence": 13311.52,
          "Genotype": "sk",
          "__ECDF": 0.26666666666666666
         },
         {
          "Fluorescence": 13344.14,
          "Genotype": "sk",
          "__ECDF": 0.26666666666666666
         },
         {
          "Fluorescence": 13344.14,
          "Genotype": "sk",
          "__ECDF": 0.3
         },
         {
          "Fluorescence": 13382.25,
          "Genotype": "sk",
          "__ECDF": 0.3
         },
         {
          "Fluorescence": 13382.25,
          "Genotype": "sk",
          "__ECDF": 0.3333333333333333
         },
         {
          "Fluorescence": 13616.94,
          "Genotype": "sk",
          "__ECDF": 0.3333333333333333
         },
         {
          "Fluorescence": 13616.94,
          "Genotype": "sk",
          "__ECDF": 0.36666666666666664
         },
         {
          "Fluorescence": 13734.49,
          "Genotype": "sk",
          "__ECDF": 0.36666666666666664
         },
         {
          "Fluorescence": 13734.49,
          "Genotype": "sk",
          "__ECDF": 0.4
         },
         {
          "Fluorescence": 14094.44,
          "Genotype": "sk",
          "__ECDF": 0.4
         },
         {
          "Fluorescence": 14094.44,
          "Genotype": "sk",
          "__ECDF": 0.43333333333333335
         },
         {
          "Fluorescence": 14251.97,
          "Genotype": "sk",
          "__ECDF": 0.43333333333333335
         },
         {
          "Fluorescence": 14251.97,
          "Genotype": "sk",
          "__ECDF": 0.4666666666666667
         },
         {
          "Fluorescence": 14572.75,
          "Genotype": "sk",
          "__ECDF": 0.4666666666666667
         },
         {
          "Fluorescence": 14572.75,
          "Genotype": "sk",
          "__ECDF": 0.5
         },
         {
          "Fluorescence": 14639.85,
          "Genotype": "sk",
          "__ECDF": 0.5
         },
         {
          "Fluorescence": 14639.85,
          "Genotype": "sk",
          "__ECDF": 0.5333333333333333
         },
         {
          "Fluorescence": 15299.76,
          "Genotype": "sk",
          "__ECDF": 0.5333333333333333
         },
         {
          "Fluorescence": 15299.76,
          "Genotype": "sk",
          "__ECDF": 0.5666666666666667
         },
         {
          "Fluorescence": 15844.28,
          "Genotype": "sk",
          "__ECDF": 0.5666666666666667
         },
         {
          "Fluorescence": 15844.28,
          "Genotype": "sk",
          "__ECDF": 0.6
         },
         {
          "Fluorescence": 15956.94,
          "Genotype": "sk",
          "__ECDF": 0.6
         },
         {
          "Fluorescence": 15956.94,
          "Genotype": "sk",
          "__ECDF": 0.6333333333333333
         },
         {
          "Fluorescence": 15983.81,
          "Genotype": "sk",
          "__ECDF": 0.6333333333333333
         },
         {
          "Fluorescence": 15983.81,
          "Genotype": "sk",
          "__ECDF": 0.6666666666666666
         },
         {
          "Fluorescence": 16042.57,
          "Genotype": "sk",
          "__ECDF": 0.6666666666666666
         },
         {
          "Fluorescence": 16042.57,
          "Genotype": "sk",
          "__ECDF": 0.7
         },
         {
          "Fluorescence": 16076.1,
          "Genotype": "sk",
          "__ECDF": 0.7
         },
         {
          "Fluorescence": 16076.1,
          "Genotype": "sk",
          "__ECDF": 0.7333333333333333
         },
         {
          "Fluorescence": 16266.81,
          "Genotype": "sk",
          "__ECDF": 0.7333333333333333
         },
         {
          "Fluorescence": 16266.81,
          "Genotype": "sk",
          "__ECDF": 0.7666666666666667
         },
         {
          "Fluorescence": 16521.9,
          "Genotype": "sk",
          "__ECDF": 0.7666666666666667
         },
         {
          "Fluorescence": 16521.9,
          "Genotype": "sk",
          "__ECDF": 0.8
         },
         {
          "Fluorescence": 16677.19,
          "Genotype": "sk",
          "__ECDF": 0.8
         },
         {
          "Fluorescence": 16677.19,
          "Genotype": "sk",
          "__ECDF": 0.8333333333333334
         },
         {
          "Fluorescence": 17474.9,
          "Genotype": "sk",
          "__ECDF": 0.8333333333333334
         },
         {
          "Fluorescence": 17474.9,
          "Genotype": "sk",
          "__ECDF": 0.8666666666666667
         },
         {
          "Fluorescence": 18016.01,
          "Genotype": "sk",
          "__ECDF": 0.8666666666666667
         },
         {
          "Fluorescence": 18016.01,
          "Genotype": "sk",
          "__ECDF": 0.9
         },
         {
          "Fluorescence": 18307.6,
          "Genotype": "sk",
          "__ECDF": 0.9
         },
         {
          "Fluorescence": 18307.6,
          "Genotype": "sk",
          "__ECDF": 0.9333333333333333
         },
         {
          "Fluorescence": 18691.24,
          "Genotype": "sk",
          "__ECDF": 0.9333333333333333
         },
         {
          "Fluorescence": 18691.24,
          "Genotype": "sk",
          "__ECDF": 0.9666666666666667
         },
         {
          "Fluorescence": 19046.82,
          "Genotype": "sk",
          "__ECDF": 0.9666666666666667
         },
         {
          "Fluorescence": 19046.82,
          "Genotype": "sk",
          "__ECDF": 1
         },
         {
          "Fluorescence": 35373.9744,
          "Genotype": "sk",
          "__ECDF": 1
         }
        ]
       },
       "hconcat": [
        {
         "data": {
          "name": "data-97e21076a2b245561a3d32c8c541cf9f"
         },
         "encoding": {
          "color": {
           "field": "Genotype",
           "scale": {
            "scheme": "set1"
           },
           "title": "Genotype",
           "type": "nominal"
          },
          "order": {
           "field": "Fluorescence",
           "sort": "ascending",
           "type": "quantitative"
          },
          "x": {
           "field": "Fluorescence",
           "scale": {
            "domain": [
             0,
             45000
            ]
           },
           "title": "Fluorescence (Temperature = 15℃)",
           "type": "quantitative"
          },
          "y": {
           "field": "__ECDF",
           "title": "ECDF",
           "type": "quantitative"
          }
         },
         "mark": {
          "type": "line"
         }
        },
        {
         "data": {
          "name": "data-bc31407d1a3c8618839fcc250d9deb2e"
         },
         "encoding": {
          "color": {
           "field": "Genotype",
           "scale": {
            "scheme": "set1"
           },
           "title": "Genotype",
           "type": "nominal"
          },
          "order": {
           "field": "Fluorescence",
           "sort": "ascending",
           "type": "quantitative"
          },
          "x": {
           "field": "Fluorescence",
           "scale": {
            "domain": [
             0,
             45000
            ]
           },
           "title": "Fluorescence (Temperature = 20℃)",
           "type": "quantitative"
          },
          "y": {
           "field": "__ECDF",
           "title": "ECDF",
           "type": "quantitative"
          }
         },
         "mark": {
          "type": "line"
         }
        },
        {
         "data": {
          "name": "data-86f971b0e64f3f7144935c6acb8f2b22"
         },
         "encoding": {
          "color": {
           "field": "Genotype",
           "scale": {
            "scheme": "set1"
           },
           "title": "Genotype",
           "type": "nominal"
          },
          "order": {
           "field": "Fluorescence",
           "sort": "ascending",
           "type": "quantitative"
          },
          "x": {
           "field": "Fluorescence",
           "scale": {
            "domain": [
             0,
             45000
            ]
           },
           "title": "Fluorescence (Temperature = 25℃)",
           "type": "quantitative"
          },
          "y": {
           "field": "__ECDF",
           "title": "ECDF",
           "type": "quantitative"
          }
         },
         "mark": {
          "type": "line"
         }
        }
       ]
      },
      "image/png": "[encoded data removed]",
      "text/plain": [
       "<VegaLite 2 object>\n",
       "\n",
       "If you see this message, it means the renderer has not been properly enabled\n",
       "for the frontend that you are using. For more information, see\n",
       "https://altair-viz.github.io/user_guide/troubleshooting.html\n"
      ]
     },
     "execution_count": 110,
     "metadata": {},
     "output_type": "execute_result"
    }
   ],
   "source": [
    "for t in df_tidy['Temperature'].unique().astype('str'):\n",
    "    p_temp = altcat.catplot(data=df_tidy.loc[df_tidy['Temperature'] == t,:],\n",
    "                        mark='line',\n",
    "                        encoding=dict(x=alt.X('Fluorescence:Q',scale=axis_scale,title='Fluorescence (Temperature = ' + str(t)+u'\\u2103)'),\n",
    "                                     color=alt.Color('Genotype:N', title='Genotype', scale=alt.Scale(scheme='set1'))),\n",
    "                        transform='ecdf')\n",
    "    p.append(p_temp)\n",
    "\n",
    "\n",
    "p[0] | p[1] | p[2]"
   ]
  },
  {
   "cell_type": "code",
   "execution_count": 111,
   "metadata": {},
   "outputs": [
    {
     "data": {
      "application/vnd.vegalite.v2+json": {
       "$schema": "https://vega.github.io/schema/vega-lite/v2.6.0.json",
       "config": {
        "view": {
         "height": 300,
         "width": 400
        }
       },
       "datasets": {
        "data-0334b00b521907eb9071e86573e9661d": [
         {
          "Fluorescence": 6096.728649999999,
          "Temperature": "15",
          "__ECDF": 0
         },
         {
          "Fluorescence": 7242.744,
          "Temperature": "15",
          "__ECDF": 0
         },
         {
          "Fluorescence": 7242.744,
          "Temperature": "15",
          "__ECDF": 0.038461538461538464
         },
         {
          "Fluorescence": 8567.691,
          "Temperature": "15",
          "__ECDF": 0.038461538461538464
         },
         {
          "Fluorescence": 8567.691,
          "Temperature": "15",
          "__ECDF": 0.07692307692307693
         },
         {
          "Fluorescence": 8712.589,
          "Temperature": "15",
          "__ECDF": 0.07692307692307693
         },
         {
          "Fluorescence": 8712.589,
          "Temperature": "15",
          "__ECDF": 0.11538461538461539
         },
         {
          "Fluorescence": 8949.01,
          "Temperature": "15",
          "__ECDF": 0.11538461538461539
         },
         {
          "Fluorescence": 8949.01,
          "Temperature": "15",
          "__ECDF": 0.15384615384615385
         },
         {
          "Fluorescence": 8978.031,
          "Temperature": "15",
          "__ECDF": 0.15384615384615385
         },
         {
          "Fluorescence": 8978.031,
          "Temperature": "15",
          "__ECDF": 0.19230769230769232
         },
         {
          "Fluorescence": 9049.072,
          "Temperature": "15",
          "__ECDF": 0.19230769230769232
         },
         {
          "Fluorescence": 9049.072,
          "Temperature": "15",
          "__ECDF": 0.23076923076923078
         },
         {
          "Fluorescence": 9460.2,
          "Temperature": "15",
          "__ECDF": 0.23076923076923078
         },
         {
          "Fluorescence": 9460.2,
          "Temperature": "15",
          "__ECDF": 0.2692307692307692
         },
         {
          "Fluorescence": 9801.333,
          "Temperature": "15",
          "__ECDF": 0.2692307692307692
         },
         {
          "Fluorescence": 9801.333,
          "Temperature": "15",
          "__ECDF": 0.3076923076923077
         },
         {
          "Fluorescence": 10363.52,
          "Temperature": "15",
          "__ECDF": 0.3076923076923077
         },
         {
          "Fluorescence": 10363.52,
          "Temperature": "15",
          "__ECDF": 0.34615384615384615
         },
         {
          "Fluorescence": 10518.4,
          "Temperature": "15",
          "__ECDF": 0.34615384615384615
         },
         {
          "Fluorescence": 10518.4,
          "Temperature": "15",
          "__ECDF": 0.38461538461538464
         },
         {
          "Fluorescence": 11001.72,
          "Temperature": "15",
          "__ECDF": 0.38461538461538464
         },
         {
          "Fluorescence": 11001.72,
          "Temperature": "15",
          "__ECDF": 0.4230769230769231
         },
         {
          "Fluorescence": 11221.13,
          "Temperature": "15",
          "__ECDF": 0.4230769230769231
         },
         {
          "Fluorescence": 11221.13,
          "Temperature": "15",
          "__ECDF": 0.46153846153846156
         },
         {
          "Fluorescence": 11233.41,
          "Temperature": "15",
          "__ECDF": 0.46153846153846156
         },
         {
          "Fluorescence": 11233.41,
          "Temperature": "15",
          "__ECDF": 0.5
         },
         {
          "Fluorescence": 11561.47,
          "Temperature": "15",
          "__ECDF": 0.5
         },
         {
          "Fluorescence": 11561.47,
          "Temperature": "15",
          "__ECDF": 0.5384615384615384
         },
         {
          "Fluorescence": 11897.13,
          "Temperature": "15",
          "__ECDF": 0.5384615384615384
         },
         {
          "Fluorescence": 11897.13,
          "Temperature": "15",
          "__ECDF": 0.5769230769230769
         },
         {
          "Fluorescence": 12072.7,
          "Temperature": "15",
          "__ECDF": 0.5769230769230769
         },
         {
          "Fluorescence": 12072.7,
          "Temperature": "15",
          "__ECDF": 0.6153846153846154
         },
         {
          "Fluorescence": 12566.75,
          "Temperature": "15",
          "__ECDF": 0.6153846153846154
         },
         {
          "Fluorescence": 12566.75,
          "Temperature": "15",
          "__ECDF": 0.6538461538461539
         },
         {
          "Fluorescence": 12782.01,
          "Temperature": "15",
          "__ECDF": 0.6538461538461539
         },
         {
          "Fluorescence": 12782.01,
          "Temperature": "15",
          "__ECDF": 0.6923076923076923
         },
         {
          "Fluorescence": 12828.28,
          "Temperature": "15",
          "__ECDF": 0.6923076923076923
         },
         {
          "Fluorescence": 12828.28,
          "Temperature": "15",
          "__ECDF": 0.7307692307692307
         },
         {
          "Fluorescence": 13044.4,
          "Temperature": "15",
          "__ECDF": 0.7307692307692307
         },
         {
          "Fluorescence": 13044.4,
          "Temperature": "15",
          "__ECDF": 0.7692307692307693
         },
         {
          "Fluorescence": 13160.89,
          "Temperature": "15",
          "__ECDF": 0.7692307692307693
         },
         {
          "Fluorescence": 13160.89,
          "Temperature": "15",
          "__ECDF": 0.8076923076923077
         },
         {
          "Fluorescence": 13359.27,
          "Temperature": "15",
          "__ECDF": 0.8076923076923077
         },
         {
          "Fluorescence": 13359.27,
          "Temperature": "15",
          "__ECDF": 0.8461538461538461
         },
         {
          "Fluorescence": 13718.88,
          "Temperature": "15",
          "__ECDF": 0.8461538461538461
         },
         {
          "Fluorescence": 13718.88,
          "Temperature": "15",
          "__ECDF": 0.8846153846153846
         },
         {
          "Fluorescence": 14132.81,
          "Temperature": "15",
          "__ECDF": 0.8846153846153846
         },
         {
          "Fluorescence": 14132.81,
          "Temperature": "15",
          "__ECDF": 0.9230769230769231
         },
         {
          "Fluorescence": 14616.11,
          "Temperature": "15",
          "__ECDF": 0.9230769230769231
         },
         {
          "Fluorescence": 14616.11,
          "Temperature": "15",
          "__ECDF": 0.9615384615384616
         },
         {
          "Fluorescence": 16330.5,
          "Temperature": "15",
          "__ECDF": 0.9615384615384616
         },
         {
          "Fluorescence": 16330.5,
          "Temperature": "15",
          "__ECDF": 1
         },
         {
          "Fluorescence": 24003.504350000003,
          "Temperature": "15",
          "__ECDF": 1
         },
         {
          "Fluorescence": 6096.728649999999,
          "Temperature": "20",
          "__ECDF": 0
         },
         {
          "Fluorescence": 12036.87,
          "Temperature": "20",
          "__ECDF": 0
         },
         {
          "Fluorescence": 12036.87,
          "Temperature": "20",
          "__ECDF": 0.03333333333333333
         },
         {
          "Fluorescence": 12345.97,
          "Temperature": "20",
          "__ECDF": 0.03333333333333333
         },
         {
          "Fluorescence": 12345.97,
          "Temperature": "20",
          "__ECDF": 0.06666666666666667
         },
         {
          "Fluorescence": 12394.32,
          "Temperature": "20",
          "__ECDF": 0.06666666666666667
         },
         {
          "Fluorescence": 12394.32,
          "Temperature": "20",
          "__ECDF": 0.1
         },
         {
          "Fluorescence": 12799.02,
          "Temperature": "20",
          "__ECDF": 0.1
         },
         {
          "Fluorescence": 12799.02,
          "Temperature": "20",
          "__ECDF": 0.13333333333333333
         },
         {
          "Fluorescence": 12867.4,
          "Temperature": "20",
          "__ECDF": 0.13333333333333333
         },
         {
          "Fluorescence": 12867.4,
          "Temperature": "20",
          "__ECDF": 0.16666666666666666
         },
         {
          "Fluorescence": 12879.88,
          "Temperature": "20",
          "__ECDF": 0.16666666666666666
         },
         {
          "Fluorescence": 12879.88,
          "Temperature": "20",
          "__ECDF": 0.2
         },
         {
          "Fluorescence": 13000.28,
          "Temperature": "20",
          "__ECDF": 0.2
         },
         {
          "Fluorescence": 13000.28,
          "Temperature": "20",
          "__ECDF": 0.23333333333333334
         },
         {
          "Fluorescence": 13311.52,
          "Temperature": "20",
          "__ECDF": 0.23333333333333334
         },
         {
          "Fluorescence": 13311.52,
          "Temperature": "20",
          "__ECDF": 0.26666666666666666
         },
         {
          "Fluorescence": 13344.14,
          "Temperature": "20",
          "__ECDF": 0.26666666666666666
         },
         {
          "Fluorescence": 13344.14,
          "Temperature": "20",
          "__ECDF": 0.3
         },
         {
          "Fluorescence": 13382.25,
          "Temperature": "20",
          "__ECDF": 0.3
         },
         {
          "Fluorescence": 13382.25,
          "Temperature": "20",
          "__ECDF": 0.3333333333333333
         },
         {
          "Fluorescence": 13616.94,
          "Temperature": "20",
          "__ECDF": 0.3333333333333333
         },
         {
          "Fluorescence": 13616.94,
          "Temperature": "20",
          "__ECDF": 0.36666666666666664
         },
         {
          "Fluorescence": 13734.49,
          "Temperature": "20",
          "__ECDF": 0.36666666666666664
         },
         {
          "Fluorescence": 13734.49,
          "Temperature": "20",
          "__ECDF": 0.4
         },
         {
          "Fluorescence": 14094.44,
          "Temperature": "20",
          "__ECDF": 0.4
         },
         {
          "Fluorescence": 14094.44,
          "Temperature": "20",
          "__ECDF": 0.43333333333333335
         },
         {
          "Fluorescence": 14251.97,
          "Temperature": "20",
          "__ECDF": 0.43333333333333335
         },
         {
          "Fluorescence": 14251.97,
          "Temperature": "20",
          "__ECDF": 0.4666666666666667
         },
         {
          "Fluorescence": 14572.75,
          "Temperature": "20",
          "__ECDF": 0.4666666666666667
         },
         {
          "Fluorescence": 14572.75,
          "Temperature": "20",
          "__ECDF": 0.5
         },
         {
          "Fluorescence": 14639.85,
          "Temperature": "20",
          "__ECDF": 0.5
         },
         {
          "Fluorescence": 14639.85,
          "Temperature": "20",
          "__ECDF": 0.5333333333333333
         },
         {
          "Fluorescence": 15299.76,
          "Temperature": "20",
          "__ECDF": 0.5333333333333333
         },
         {
          "Fluorescence": 15299.76,
          "Temperature": "20",
          "__ECDF": 0.5666666666666667
         },
         {
          "Fluorescence": 15844.28,
          "Temperature": "20",
          "__ECDF": 0.5666666666666667
         },
         {
          "Fluorescence": 15844.28,
          "Temperature": "20",
          "__ECDF": 0.6
         },
         {
          "Fluorescence": 15956.94,
          "Temperature": "20",
          "__ECDF": 0.6
         },
         {
          "Fluorescence": 15956.94,
          "Temperature": "20",
          "__ECDF": 0.6333333333333333
         },
         {
          "Fluorescence": 15983.81,
          "Temperature": "20",
          "__ECDF": 0.6333333333333333
         },
         {
          "Fluorescence": 15983.81,
          "Temperature": "20",
          "__ECDF": 0.6666666666666666
         },
         {
          "Fluorescence": 16042.57,
          "Temperature": "20",
          "__ECDF": 0.6666666666666666
         },
         {
          "Fluorescence": 16042.57,
          "Temperature": "20",
          "__ECDF": 0.7
         },
         {
          "Fluorescence": 16076.1,
          "Temperature": "20",
          "__ECDF": 0.7
         },
         {
          "Fluorescence": 16076.1,
          "Temperature": "20",
          "__ECDF": 0.7333333333333333
         },
         {
          "Fluorescence": 16266.81,
          "Temperature": "20",
          "__ECDF": 0.7333333333333333
         },
         {
          "Fluorescence": 16266.81,
          "Temperature": "20",
          "__ECDF": 0.7666666666666667
         },
         {
          "Fluorescence": 16521.9,
          "Temperature": "20",
          "__ECDF": 0.7666666666666667
         },
         {
          "Fluorescence": 16521.9,
          "Temperature": "20",
          "__ECDF": 0.8
         },
         {
          "Fluorescence": 16677.19,
          "Temperature": "20",
          "__ECDF": 0.8
         },
         {
          "Fluorescence": 16677.19,
          "Temperature": "20",
          "__ECDF": 0.8333333333333334
         },
         {
          "Fluorescence": 17474.9,
          "Temperature": "20",
          "__ECDF": 0.8333333333333334
         },
         {
          "Fluorescence": 17474.9,
          "Temperature": "20",
          "__ECDF": 0.8666666666666667
         },
         {
          "Fluorescence": 18016.01,
          "Temperature": "20",
          "__ECDF": 0.8666666666666667
         },
         {
          "Fluorescence": 18016.01,
          "Temperature": "20",
          "__ECDF": 0.9
         },
         {
          "Fluorescence": 18307.6,
          "Temperature": "20",
          "__ECDF": 0.9
         },
         {
          "Fluorescence": 18307.6,
          "Temperature": "20",
          "__ECDF": 0.9333333333333333
         },
         {
          "Fluorescence": 18691.24,
          "Temperature": "20",
          "__ECDF": 0.9333333333333333
         },
         {
          "Fluorescence": 18691.24,
          "Temperature": "20",
          "__ECDF": 0.9666666666666667
         },
         {
          "Fluorescence": 19046.82,
          "Temperature": "20",
          "__ECDF": 0.9666666666666667
         },
         {
          "Fluorescence": 19046.82,
          "Temperature": "20",
          "__ECDF": 1
         },
         {
          "Fluorescence": 24003.504350000003,
          "Temperature": "20",
          "__ECDF": 1
         },
         {
          "Fluorescence": 6096.728649999999,
          "Temperature": "25",
          "__ECDF": 0
         },
         {
          "Fluorescence": 6910.673,
          "Temperature": "25",
          "__ECDF": 0
         },
         {
          "Fluorescence": 6910.673,
          "Temperature": "25",
          "__ECDF": 0.03333333333333333
         },
         {
          "Fluorescence": 14203.55,
          "Temperature": "25",
          "__ECDF": 0.03333333333333333
         },
         {
          "Fluorescence": 14203.55,
          "Temperature": "25",
          "__ECDF": 0.06666666666666667
         },
         {
          "Fluorescence": 14351.88,
          "Temperature": "25",
          "__ECDF": 0.06666666666666667
         },
         {
          "Fluorescence": 14351.88,
          "Temperature": "25",
          "__ECDF": 0.1
         },
         {
          "Fluorescence": 15992.75,
          "Temperature": "25",
          "__ECDF": 0.1
         },
         {
          "Fluorescence": 15992.75,
          "Temperature": "25",
          "__ECDF": 0.13333333333333333
         },
         {
          "Fluorescence": 16593.96,
          "Temperature": "25",
          "__ECDF": 0.13333333333333333
         },
         {
          "Fluorescence": 16593.96,
          "Temperature": "25",
          "__ECDF": 0.16666666666666666
         },
         {
          "Fluorescence": 16919.7,
          "Temperature": "25",
          "__ECDF": 0.16666666666666666
         },
         {
          "Fluorescence": 16919.7,
          "Temperature": "25",
          "__ECDF": 0.2
         },
         {
          "Fluorescence": 17609.13,
          "Temperature": "25",
          "__ECDF": 0.2
         },
         {
          "Fluorescence": 17609.13,
          "Temperature": "25",
          "__ECDF": 0.23333333333333334
         },
         {
          "Fluorescence": 17694.63,
          "Temperature": "25",
          "__ECDF": 0.23333333333333334
         },
         {
          "Fluorescence": 17694.63,
          "Temperature": "25",
          "__ECDF": 0.26666666666666666
         },
         {
          "Fluorescence": 17788.94,
          "Temperature": "25",
          "__ECDF": 0.26666666666666666
         },
         {
          "Fluorescence": 17788.94,
          "Temperature": "25",
          "__ECDF": 0.3
         },
         {
          "Fluorescence": 17811.23,
          "Temperature": "25",
          "__ECDF": 0.3
         },
         {
          "Fluorescence": 17811.23,
          "Temperature": "25",
          "__ECDF": 0.3333333333333333
         },
         {
          "Fluorescence": 17837.36,
          "Temperature": "25",
          "__ECDF": 0.3333333333333333
         },
         {
          "Fluorescence": 17837.36,
          "Temperature": "25",
          "__ECDF": 0.36666666666666664
         },
         {
          "Fluorescence": 18042.75,
          "Temperature": "25",
          "__ECDF": 0.36666666666666664
         },
         {
          "Fluorescence": 18042.75,
          "Temperature": "25",
          "__ECDF": 0.4
         },
         {
          "Fluorescence": 18062.91,
          "Temperature": "25",
          "__ECDF": 0.4
         },
         {
          "Fluorescence": 18062.91,
          "Temperature": "25",
          "__ECDF": 0.43333333333333335
         },
         {
          "Fluorescence": 19238.01,
          "Temperature": "25",
          "__ECDF": 0.43333333333333335
         },
         {
          "Fluorescence": 19238.01,
          "Temperature": "25",
          "__ECDF": 0.4666666666666667
         },
         {
          "Fluorescence": 19265.61,
          "Temperature": "25",
          "__ECDF": 0.4666666666666667
         },
         {
          "Fluorescence": 19265.61,
          "Temperature": "25",
          "__ECDF": 0.5
         },
         {
          "Fluorescence": 19314.24,
          "Temperature": "25",
          "__ECDF": 0.5
         },
         {
          "Fluorescence": 19314.24,
          "Temperature": "25",
          "__ECDF": 0.5333333333333333
         },
         {
          "Fluorescence": 19516.03,
          "Temperature": "25",
          "__ECDF": 0.5333333333333333
         },
         {
          "Fluorescence": 19516.03,
          "Temperature": "25",
          "__ECDF": 0.5666666666666667
         },
         {
          "Fluorescence": 19782.51,
          "Temperature": "25",
          "__ECDF": 0.5666666666666667
         },
         {
          "Fluorescence": 19782.51,
          "Temperature": "25",
          "__ECDF": 0.6
         },
         {
          "Fluorescence": 19882.63,
          "Temperature": "25",
          "__ECDF": 0.6
         },
         {
          "Fluorescence": 19882.63,
          "Temperature": "25",
          "__ECDF": 0.6333333333333333
         },
         {
          "Fluorescence": 20114.62,
          "Temperature": "25",
          "__ECDF": 0.6333333333333333
         },
         {
          "Fluorescence": 20114.62,
          "Temperature": "25",
          "__ECDF": 0.6666666666666666
         },
         {
          "Fluorescence": 20371.85,
          "Temperature": "25",
          "__ECDF": 0.6666666666666666
         },
         {
          "Fluorescence": 20371.85,
          "Temperature": "25",
          "__ECDF": 0.7
         },
         {
          "Fluorescence": 20526.22,
          "Temperature": "25",
          "__ECDF": 0.7
         },
         {
          "Fluorescence": 20526.22,
          "Temperature": "25",
          "__ECDF": 0.7333333333333333
         },
         {
          "Fluorescence": 20563.58,
          "Temperature": "25",
          "__ECDF": 0.7333333333333333
         },
         {
          "Fluorescence": 20563.58,
          "Temperature": "25",
          "__ECDF": 0.7666666666666667
         },
         {
          "Fluorescence": 20934.66,
          "Temperature": "25",
          "__ECDF": 0.7666666666666667
         },
         {
          "Fluorescence": 20934.66,
          "Temperature": "25",
          "__ECDF": 0.8
         },
         {
          "Fluorescence": 21371.72,
          "Temperature": "25",
          "__ECDF": 0.8
         },
         {
          "Fluorescence": 21371.72,
          "Temperature": "25",
          "__ECDF": 0.8333333333333334
         },
         {
          "Fluorescence": 21444.25,
          "Temperature": "25",
          "__ECDF": 0.8333333333333334
         },
         {
          "Fluorescence": 21444.25,
          "Temperature": "25",
          "__ECDF": 0.8666666666666667
         },
         {
          "Fluorescence": 21589.64,
          "Temperature": "25",
          "__ECDF": 0.8666666666666667
         },
         {
          "Fluorescence": 21589.64,
          "Temperature": "25",
          "__ECDF": 0.9
         },
         {
          "Fluorescence": 21836.05,
          "Temperature": "25",
          "__ECDF": 0.9
         },
         {
          "Fluorescence": 21836.05,
          "Temperature": "25",
          "__ECDF": 0.9333333333333333
         },
         {
          "Fluorescence": 22053.47,
          "Temperature": "25",
          "__ECDF": 0.9333333333333333
         },
         {
          "Fluorescence": 22053.47,
          "Temperature": "25",
          "__ECDF": 0.9666666666666667
         },
         {
          "Fluorescence": 23189.56,
          "Temperature": "25",
          "__ECDF": 0.9666666666666667
         },
         {
          "Fluorescence": 23189.56,
          "Temperature": "25",
          "__ECDF": 1
         },
         {
          "Fluorescence": 24003.504350000003,
          "Temperature": "25",
          "__ECDF": 1
         }
        ],
        "data-ade24174e1801e68ede35b99f01d0810": [
         {
          "Fluorescence": -455.1294400000001,
          "Temperature": "15",
          "__ECDF": 0
         },
         {
          "Fluorescence": 492.0972,
          "Temperature": "15",
          "__ECDF": 0
         },
         {
          "Fluorescence": 492.0972,
          "Temperature": "15",
          "__ECDF": 0.03571428571428571
         },
         {
          "Fluorescence": 654.714,
          "Temperature": "15",
          "__ECDF": 0.03571428571428571
         },
         {
          "Fluorescence": 654.714,
          "Temperature": "15",
          "__ECDF": 0.07142857142857142
         },
         {
          "Fluorescence": 1060.197,
          "Temperature": "15",
          "__ECDF": 0.07142857142857142
         },
         {
          "Fluorescence": 1060.197,
          "Temperature": "15",
          "__ECDF": 0.10714285714285714
         },
         {
          "Fluorescence": 1089.028,
          "Temperature": "15",
          "__ECDF": 0.10714285714285714
         },
         {
          "Fluorescence": 1089.028,
          "Temperature": "15",
          "__ECDF": 0.14285714285714285
         },
         {
          "Fluorescence": 1136.737,
          "Temperature": "15",
          "__ECDF": 0.14285714285714285
         },
         {
          "Fluorescence": 1136.737,
          "Temperature": "15",
          "__ECDF": 0.17857142857142858
         },
         {
          "Fluorescence": 1298.547,
          "Temperature": "15",
          "__ECDF": 0.17857142857142858
         },
         {
          "Fluorescence": 1298.547,
          "Temperature": "15",
          "__ECDF": 0.21428571428571427
         },
         {
          "Fluorescence": 1321.293,
          "Temperature": "15",
          "__ECDF": 0.21428571428571427
         },
         {
          "Fluorescence": 1321.293,
          "Temperature": "15",
          "__ECDF": 0.25
         },
         {
          "Fluorescence": 1442.433,
          "Temperature": "15",
          "__ECDF": 0.25
         },
         {
          "Fluorescence": 1442.433,
          "Temperature": "15",
          "__ECDF": 0.2857142857142857
         },
         {
          "Fluorescence": 1478.777,
          "Temperature": "15",
          "__ECDF": 0.2857142857142857
         },
         {
          "Fluorescence": 1478.777,
          "Temperature": "15",
          "__ECDF": 0.32142857142857145
         },
         {
          "Fluorescence": 1482.843,
          "Temperature": "15",
          "__ECDF": 0.32142857142857145
         },
         {
          "Fluorescence": 1482.843,
          "Temperature": "15",
          "__ECDF": 0.35714285714285715
         },
         {
          "Fluorescence": 1511.991,
          "Temperature": "15",
          "__ECDF": 0.35714285714285715
         },
         {
          "Fluorescence": 1511.991,
          "Temperature": "15",
          "__ECDF": 0.39285714285714285
         },
         {
          "Fluorescence": 1540.458,
          "Temperature": "15",
          "__ECDF": 0.39285714285714285
         },
         {
          "Fluorescence": 1540.458,
          "Temperature": "15",
          "__ECDF": 0.42857142857142855
         },
         {
          "Fluorescence": 1551.396,
          "Temperature": "15",
          "__ECDF": 0.42857142857142855
         },
         {
          "Fluorescence": 1551.396,
          "Temperature": "15",
          "__ECDF": 0.4642857142857143
         },
         {
          "Fluorescence": 1682.306,
          "Temperature": "15",
          "__ECDF": 0.4642857142857143
         },
         {
          "Fluorescence": 1682.306,
          "Temperature": "15",
          "__ECDF": 0.5
         },
         {
          "Fluorescence": 1712.902,
          "Temperature": "15",
          "__ECDF": 0.5
         },
         {
          "Fluorescence": 1712.902,
          "Temperature": "15",
          "__ECDF": 0.5357142857142857
         },
         {
          "Fluorescence": 1851.253,
          "Temperature": "15",
          "__ECDF": 0.5357142857142857
         },
         {
          "Fluorescence": 1851.253,
          "Temperature": "15",
          "__ECDF": 0.5714285714285714
         },
         {
          "Fluorescence": 2018.864,
          "Temperature": "15",
          "__ECDF": 0.5714285714285714
         },
         {
          "Fluorescence": 2018.864,
          "Temperature": "15",
          "__ECDF": 0.6071428571428571
         },
         {
          "Fluorescence": 2131.59,
          "Temperature": "15",
          "__ECDF": 0.6071428571428571
         },
         {
          "Fluorescence": 2131.59,
          "Temperature": "15",
          "__ECDF": 0.6428571428571429
         },
         {
          "Fluorescence": 2584.733,
          "Temperature": "15",
          "__ECDF": 0.6428571428571429
         },
         {
          "Fluorescence": 2584.733,
          "Temperature": "15",
          "__ECDF": 0.6785714285714286
         },
         {
          "Fluorescence": 3134.334,
          "Temperature": "15",
          "__ECDF": 0.6785714285714286
         },
         {
          "Fluorescence": 3134.334,
          "Temperature": "15",
          "__ECDF": 0.7142857142857143
         },
         {
          "Fluorescence": 3485.557,
          "Temperature": "15",
          "__ECDF": 0.7142857142857143
         },
         {
          "Fluorescence": 3485.557,
          "Temperature": "15",
          "__ECDF": 0.75
         },
         {
          "Fluorescence": 4412.128,
          "Temperature": "15",
          "__ECDF": 0.75
         },
         {
          "Fluorescence": 4412.128,
          "Temperature": "15",
          "__ECDF": 0.7857142857142857
         },
         {
          "Fluorescence": 5128.18,
          "Temperature": "15",
          "__ECDF": 0.7857142857142857
         },
         {
          "Fluorescence": 5128.18,
          "Temperature": "15",
          "__ECDF": 0.8214285714285714
         },
         {
          "Fluorescence": 5540.317,
          "Temperature": "15",
          "__ECDF": 0.8214285714285714
         },
         {
          "Fluorescence": 5540.317,
          "Temperature": "15",
          "__ECDF": 0.8571428571428571
         },
         {
          "Fluorescence": 5701.043,
          "Temperature": "15",
          "__ECDF": 0.8571428571428571
         },
         {
          "Fluorescence": 5701.043,
          "Temperature": "15",
          "__ECDF": 0.8928571428571429
         },
         {
          "Fluorescence": 5801.691,
          "Temperature": "15",
          "__ECDF": 0.8928571428571429
         },
         {
          "Fluorescence": 5801.691,
          "Temperature": "15",
          "__ECDF": 0.9285714285714286
         },
         {
          "Fluorescence": 6798.146,
          "Temperature": "15",
          "__ECDF": 0.9285714285714286
         },
         {
          "Fluorescence": 6798.146,
          "Temperature": "15",
          "__ECDF": 0.9642857142857143
         },
         {
          "Fluorescence": 10686.91,
          "Temperature": "15",
          "__ECDF": 0.9642857142857143
         },
         {
          "Fluorescence": 10686.91,
          "Temperature": "15",
          "__ECDF": 1
         },
         {
          "Fluorescence": 20383.85664,
          "Temperature": "15",
          "__ECDF": 1
         },
         {
          "Fluorescence": -455.1294400000001,
          "Temperature": "20",
          "__ECDF": 0
         },
         {
          "Fluorescence": 1042.452,
          "Temperature": "20",
          "__ECDF": 0
         },
         {
          "Fluorescence": 1042.452,
          "Temperature": "20",
          "__ECDF": 0.045454545454545456
         },
         {
          "Fluorescence": 1312.233,
          "Temperature": "20",
          "__ECDF": 0.045454545454545456
         },
         {
          "Fluorescence": 1312.233,
          "Temperature": "20",
          "__ECDF": 0.09090909090909091
         },
         {
          "Fluorescence": 1526.974,
          "Temperature": "20",
          "__ECDF": 0.09090909090909091
         },
         {
          "Fluorescence": 1526.974,
          "Temperature": "20",
          "__ECDF": 0.13636363636363635
         },
         {
          "Fluorescence": 1532.901,
          "Temperature": "20",
          "__ECDF": 0.13636363636363635
         },
         {
          "Fluorescence": 1532.901,
          "Temperature": "20",
          "__ECDF": 0.18181818181818182
         },
         {
          "Fluorescence": 1572.569,
          "Temperature": "20",
          "__ECDF": 0.18181818181818182
         },
         {
          "Fluorescence": 1572.569,
          "Temperature": "20",
          "__ECDF": 0.22727272727272727
         },
         {
          "Fluorescence": 1817.321,
          "Temperature": "20",
          "__ECDF": 0.22727272727272727
         },
         {
          "Fluorescence": 1817.321,
          "Temperature": "20",
          "__ECDF": 0.2727272727272727
         },
         {
          "Fluorescence": 1888.596,
          "Temperature": "20",
          "__ECDF": 0.2727272727272727
         },
         {
          "Fluorescence": 1888.596,
          "Temperature": "20",
          "__ECDF": 0.3181818181818182
         },
         {
          "Fluorescence": 2357.752,
          "Temperature": "20",
          "__ECDF": 0.3181818181818182
         },
         {
          "Fluorescence": 2357.752,
          "Temperature": "20",
          "__ECDF": 0.36363636363636365
         },
         {
          "Fluorescence": 2737.135,
          "Temperature": "20",
          "__ECDF": 0.36363636363636365
         },
         {
          "Fluorescence": 2737.135,
          "Temperature": "20",
          "__ECDF": 0.4090909090909091
         },
         {
          "Fluorescence": 3107.02,
          "Temperature": "20",
          "__ECDF": 0.4090909090909091
         },
         {
          "Fluorescence": 3107.02,
          "Temperature": "20",
          "__ECDF": 0.45454545454545453
         },
         {
          "Fluorescence": 3448.003,
          "Temperature": "20",
          "__ECDF": 0.45454545454545453
         },
         {
          "Fluorescence": 3448.003,
          "Temperature": "20",
          "__ECDF": 0.5
         },
         {
          "Fluorescence": 3505.12,
          "Temperature": "20",
          "__ECDF": 0.5
         },
         {
          "Fluorescence": 3505.12,
          "Temperature": "20",
          "__ECDF": 0.5454545454545454
         },
         {
          "Fluorescence": 3643.21,
          "Temperature": "20",
          "__ECDF": 0.5454545454545454
         },
         {
          "Fluorescence": 3643.21,
          "Temperature": "20",
          "__ECDF": 0.5909090909090909
         },
         {
          "Fluorescence": 3796.529,
          "Temperature": "20",
          "__ECDF": 0.5909090909090909
         },
         {
          "Fluorescence": 3796.529,
          "Temperature": "20",
          "__ECDF": 0.6363636363636364
         },
         {
          "Fluorescence": 4758.537,
          "Temperature": "20",
          "__ECDF": 0.6363636363636364
         },
         {
          "Fluorescence": 4758.537,
          "Temperature": "20",
          "__ECDF": 0.6818181818181818
         },
         {
          "Fluorescence": 4816.29,
          "Temperature": "20",
          "__ECDF": 0.6818181818181818
         },
         {
          "Fluorescence": 4816.29,
          "Temperature": "20",
          "__ECDF": 0.7272727272727273
         },
         {
          "Fluorescence": 5757.599,
          "Temperature": "20",
          "__ECDF": 0.7272727272727273
         },
         {
          "Fluorescence": 5757.599,
          "Temperature": "20",
          "__ECDF": 0.7727272727272727
         },
         {
          "Fluorescence": 6818.986,
          "Temperature": "20",
          "__ECDF": 0.7727272727272727
         },
         {
          "Fluorescence": 6818.986,
          "Temperature": "20",
          "__ECDF": 0.8181818181818182
         },
         {
          "Fluorescence": 8119.87,
          "Temperature": "20",
          "__ECDF": 0.8181818181818182
         },
         {
          "Fluorescence": 8119.87,
          "Temperature": "20",
          "__ECDF": 0.8636363636363636
         },
         {
          "Fluorescence": 11756.49,
          "Temperature": "20",
          "__ECDF": 0.8636363636363636
         },
         {
          "Fluorescence": 11756.49,
          "Temperature": "20",
          "__ECDF": 0.9090909090909091
         },
         {
          "Fluorescence": 12185.36,
          "Temperature": "20",
          "__ECDF": 0.9090909090909091
         },
         {
          "Fluorescence": 12185.36,
          "Temperature": "20",
          "__ECDF": 0.9545454545454546
         },
         {
          "Fluorescence": 16331.43,
          "Temperature": "20",
          "__ECDF": 0.9545454545454546
         },
         {
          "Fluorescence": 16331.43,
          "Temperature": "20",
          "__ECDF": 1
         },
         {
          "Fluorescence": 20383.85664,
          "Temperature": "20",
          "__ECDF": 1
         },
         {
          "Fluorescence": -455.1294400000001,
          "Temperature": "25",
          "__ECDF": 0
         },
         {
          "Fluorescence": 8358.995,
          "Temperature": "25",
          "__ECDF": 0
         },
         {
          "Fluorescence": 8358.995,
          "Temperature": "25",
          "__ECDF": 0.04
         },
         {
          "Fluorescence": 9540.503,
          "Temperature": "25",
          "__ECDF": 0.04
         },
         {
          "Fluorescence": 9540.503,
          "Temperature": "25",
          "__ECDF": 0.08
         },
         {
          "Fluorescence": 11233.21,
          "Temperature": "25",
          "__ECDF": 0.08
         },
         {
          "Fluorescence": 11233.21,
          "Temperature": "25",
          "__ECDF": 0.12
         },
         {
          "Fluorescence": 12163.93,
          "Temperature": "25",
          "__ECDF": 0.12
         },
         {
          "Fluorescence": 12163.93,
          "Temperature": "25",
          "__ECDF": 0.16
         },
         {
          "Fluorescence": 12462.69,
          "Temperature": "25",
          "__ECDF": 0.16
         },
         {
          "Fluorescence": 12462.69,
          "Temperature": "25",
          "__ECDF": 0.2
         },
         {
          "Fluorescence": 12672.19,
          "Temperature": "25",
          "__ECDF": 0.2
         },
         {
          "Fluorescence": 12672.19,
          "Temperature": "25",
          "__ECDF": 0.24
         },
         {
          "Fluorescence": 13334.83,
          "Temperature": "25",
          "__ECDF": 0.24
         },
         {
          "Fluorescence": 13334.83,
          "Temperature": "25",
          "__ECDF": 0.28
         },
         {
          "Fluorescence": 13568.62,
          "Temperature": "25",
          "__ECDF": 0.28
         },
         {
          "Fluorescence": 13568.62,
          "Temperature": "25",
          "__ECDF": 0.32
         },
         {
          "Fluorescence": 13609.09,
          "Temperature": "25",
          "__ECDF": 0.32
         },
         {
          "Fluorescence": 13609.09,
          "Temperature": "25",
          "__ECDF": 0.36
         },
         {
          "Fluorescence": 13969.94,
          "Temperature": "25",
          "__ECDF": 0.36
         },
         {
          "Fluorescence": 13969.94,
          "Temperature": "25",
          "__ECDF": 0.4
         },
         {
          "Fluorescence": 14128.31,
          "Temperature": "25",
          "__ECDF": 0.4
         },
         {
          "Fluorescence": 14128.31,
          "Temperature": "25",
          "__ECDF": 0.44
         },
         {
          "Fluorescence": 14211.59,
          "Temperature": "25",
          "__ECDF": 0.44
         },
         {
          "Fluorescence": 14211.59,
          "Temperature": "25",
          "__ECDF": 0.48
         },
         {
          "Fluorescence": 14414.89,
          "Temperature": "25",
          "__ECDF": 0.48
         },
         {
          "Fluorescence": 14414.89,
          "Temperature": "25",
          "__ECDF": 0.52
         },
         {
          "Fluorescence": 14879.05,
          "Temperature": "25",
          "__ECDF": 0.52
         },
         {
          "Fluorescence": 14879.05,
          "Temperature": "25",
          "__ECDF": 0.56
         },
         {
          "Fluorescence": 14882.92,
          "Temperature": "25",
          "__ECDF": 0.56
         },
         {
          "Fluorescence": 14882.92,
          "Temperature": "25",
          "__ECDF": 0.6
         },
         {
          "Fluorescence": 15065.03,
          "Temperature": "25",
          "__ECDF": 0.6
         },
         {
          "Fluorescence": 15065.03,
          "Temperature": "25",
          "__ECDF": 0.64
         },
         {
          "Fluorescence": 15110.88,
          "Temperature": "25",
          "__ECDF": 0.64
         },
         {
          "Fluorescence": 15110.88,
          "Temperature": "25",
          "__ECDF": 0.68
         },
         {
          "Fluorescence": 15158.47,
          "Temperature": "25",
          "__ECDF": 0.68
         },
         {
          "Fluorescence": 15158.47,
          "Temperature": "25",
          "__ECDF": 0.72
         },
         {
          "Fluorescence": 15602.73,
          "Temperature": "25",
          "__ECDF": 0.72
         },
         {
          "Fluorescence": 15602.73,
          "Temperature": "25",
          "__ECDF": 0.76
         },
         {
          "Fluorescence": 15832.53,
          "Temperature": "25",
          "__ECDF": 0.76
         },
         {
          "Fluorescence": 15832.53,
          "Temperature": "25",
          "__ECDF": 0.8
         },
         {
          "Fluorescence": 16499.3,
          "Temperature": "25",
          "__ECDF": 0.8
         },
         {
          "Fluorescence": 16499.3,
          "Temperature": "25",
          "__ECDF": 0.84
         },
         {
          "Fluorescence": 16960.67,
          "Temperature": "25",
          "__ECDF": 0.84
         },
         {
          "Fluorescence": 16960.67,
          "Temperature": "25",
          "__ECDF": 0.88
         },
         {
          "Fluorescence": 17229.12,
          "Temperature": "25",
          "__ECDF": 0.88
         },
         {
          "Fluorescence": 17229.12,
          "Temperature": "25",
          "__ECDF": 0.92
         },
         {
          "Fluorescence": 17305.84,
          "Temperature": "25",
          "__ECDF": 0.92
         },
         {
          "Fluorescence": 17305.84,
          "Temperature": "25",
          "__ECDF": 0.96
         },
         {
          "Fluorescence": 19436.63,
          "Temperature": "25",
          "__ECDF": 0.96
         },
         {
          "Fluorescence": 19436.63,
          "Temperature": "25",
          "__ECDF": 1
         },
         {
          "Fluorescence": 20383.85664,
          "Temperature": "25",
          "__ECDF": 1
         }
        ],
        "data-d8ef77111493b998dc90a8b7f8deb399": [
         {
          "Fluorescence": 1147.2818499999998,
          "Temperature": "15",
          "__ECDF": 0
         },
         {
          "Fluorescence": 3149.717,
          "Temperature": "15",
          "__ECDF": 0
         },
         {
          "Fluorescence": 3149.717,
          "Temperature": "15",
          "__ECDF": 0.034482758620689655
         },
         {
          "Fluorescence": 3880.93,
          "Temperature": "15",
          "__ECDF": 0.034482758620689655
         },
         {
          "Fluorescence": 3880.93,
          "Temperature": "15",
          "__ECDF": 0.06896551724137931
         },
         {
          "Fluorescence": 4634.488,
          "Temperature": "15",
          "__ECDF": 0.06896551724137931
         },
         {
          "Fluorescence": 4634.488,
          "Temperature": "15",
          "__ECDF": 0.10344827586206896
         },
         {
          "Fluorescence": 7395.207,
          "Temperature": "15",
          "__ECDF": 0.10344827586206896
         },
         {
          "Fluorescence": 7395.207,
          "Temperature": "15",
          "__ECDF": 0.13793103448275862
         },
         {
          "Fluorescence": 9429.343,
          "Temperature": "15",
          "__ECDF": 0.13793103448275862
         },
         {
          "Fluorescence": 9429.343,
          "Temperature": "15",
          "__ECDF": 0.1724137931034483
         },
         {
          "Fluorescence": 10373.52,
          "Temperature": "15",
          "__ECDF": 0.1724137931034483
         },
         {
          "Fluorescence": 10373.52,
          "Temperature": "15",
          "__ECDF": 0.20689655172413793
         },
         {
          "Fluorescence": 11121.24,
          "Temperature": "15",
          "__ECDF": 0.20689655172413793
         },
         {
          "Fluorescence": 11121.24,
          "Temperature": "15",
          "__ECDF": 0.2413793103448276
         },
         {
          "Fluorescence": 12793.59,
          "Temperature": "15",
          "__ECDF": 0.2413793103448276
         },
         {
          "Fluorescence": 12793.59,
          "Temperature": "15",
          "__ECDF": 0.27586206896551724
         },
         {
          "Fluorescence": 13684.36,
          "Temperature": "15",
          "__ECDF": 0.27586206896551724
         },
         {
          "Fluorescence": 13684.36,
          "Temperature": "15",
          "__ECDF": 0.3103448275862069
         },
         {
          "Fluorescence": 15568.76,
          "Temperature": "15",
          "__ECDF": 0.3103448275862069
         },
         {
          "Fluorescence": 15568.76,
          "Temperature": "15",
          "__ECDF": 0.3448275862068966
         },
         {
          "Fluorescence": 15876.82,
          "Temperature": "15",
          "__ECDF": 0.3448275862068966
         },
         {
          "Fluorescence": 15876.82,
          "Temperature": "15",
          "__ECDF": 0.3793103448275862
         },
         {
          "Fluorescence": 16756.28,
          "Temperature": "15",
          "__ECDF": 0.3793103448275862
         },
         {
          "Fluorescence": 16756.28,
          "Temperature": "15",
          "__ECDF": 0.41379310344827586
         },
         {
          "Fluorescence": 17062.84,
          "Temperature": "15",
          "__ECDF": 0.41379310344827586
         },
         {
          "Fluorescence": 17062.84,
          "Temperature": "15",
          "__ECDF": 0.4482758620689655
         },
         {
          "Fluorescence": 18178.44,
          "Temperature": "15",
          "__ECDF": 0.4482758620689655
         },
         {
          "Fluorescence": 18178.44,
          "Temperature": "15",
          "__ECDF": 0.4827586206896552
         },
         {
          "Fluorescence": 18265.88,
          "Temperature": "15",
          "__ECDF": 0.4827586206896552
         },
         {
          "Fluorescence": 18265.88,
          "Temperature": "15",
          "__ECDF": 0.5172413793103449
         },
         {
          "Fluorescence": 20017.14,
          "Temperature": "15",
          "__ECDF": 0.5172413793103449
         },
         {
          "Fluorescence": 20017.14,
          "Temperature": "15",
          "__ECDF": 0.5517241379310345
         },
         {
          "Fluorescence": 20376.3,
          "Temperature": "15",
          "__ECDF": 0.5517241379310345
         },
         {
          "Fluorescence": 20376.3,
          "Temperature": "15",
          "__ECDF": 0.5862068965517241
         },
         {
          "Fluorescence": 20722.62,
          "Temperature": "15",
          "__ECDF": 0.5862068965517241
         },
         {
          "Fluorescence": 20722.62,
          "Temperature": "15",
          "__ECDF": 0.6206896551724138
         },
         {
          "Fluorescence": 20820.26,
          "Temperature": "15",
          "__ECDF": 0.6206896551724138
         },
         {
          "Fluorescence": 20820.26,
          "Temperature": "15",
          "__ECDF": 0.6551724137931034
         },
         {
          "Fluorescence": 21703.44,
          "Temperature": "15",
          "__ECDF": 0.6551724137931034
         },
         {
          "Fluorescence": 21703.44,
          "Temperature": "15",
          "__ECDF": 0.6896551724137931
         },
         {
          "Fluorescence": 21707.12,
          "Temperature": "15",
          "__ECDF": 0.6896551724137931
         },
         {
          "Fluorescence": 21707.12,
          "Temperature": "15",
          "__ECDF": 0.7241379310344828
         },
         {
          "Fluorescence": 21750.27,
          "Temperature": "15",
          "__ECDF": 0.7241379310344828
         },
         {
          "Fluorescence": 21750.27,
          "Temperature": "15",
          "__ECDF": 0.7586206896551724
         },
         {
          "Fluorescence": 22510.41,
          "Temperature": "15",
          "__ECDF": 0.7586206896551724
         },
         {
          "Fluorescence": 22510.41,
          "Temperature": "15",
          "__ECDF": 0.7931034482758621
         },
         {
          "Fluorescence": 24028.75,
          "Temperature": "15",
          "__ECDF": 0.7931034482758621
         },
         {
          "Fluorescence": 24028.75,
          "Temperature": "15",
          "__ECDF": 0.8275862068965517
         },
         {
          "Fluorescence": 24932.88,
          "Temperature": "15",
          "__ECDF": 0.8275862068965517
         },
         {
          "Fluorescence": 24932.88,
          "Temperature": "15",
          "__ECDF": 0.8620689655172413
         },
         {
          "Fluorescence": 31089.68,
          "Temperature": "15",
          "__ECDF": 0.8620689655172413
         },
         {
          "Fluorescence": 31089.68,
          "Temperature": "15",
          "__ECDF": 0.896551724137931
         },
         {
          "Fluorescence": 34021.32,
          "Temperature": "15",
          "__ECDF": 0.896551724137931
         },
         {
          "Fluorescence": 34021.32,
          "Temperature": "15",
          "__ECDF": 0.9310344827586207
         },
         {
          "Fluorescence": 34486.33,
          "Temperature": "15",
          "__ECDF": 0.9310344827586207
         },
         {
          "Fluorescence": 34486.33,
          "Temperature": "15",
          "__ECDF": 0.9655172413793104
         },
         {
          "Fluorescence": 43198.42,
          "Temperature": "15",
          "__ECDF": 0.9655172413793104
         },
         {
          "Fluorescence": 43198.42,
          "Temperature": "15",
          "__ECDF": 1
         },
         {
          "Fluorescence": 45200.855149999996,
          "Temperature": "15",
          "__ECDF": 1
         },
         {
          "Fluorescence": 1147.2818499999998,
          "Temperature": "20",
          "__ECDF": 0
         },
         {
          "Fluorescence": 5616.583,
          "Temperature": "20",
          "__ECDF": 0
         },
         {
          "Fluorescence": 5616.583,
          "Temperature": "20",
          "__ECDF": 0.037037037037037035
         },
         {
          "Fluorescence": 8350.16,
          "Temperature": "20",
          "__ECDF": 0.037037037037037035
         },
         {
          "Fluorescence": 8350.16,
          "Temperature": "20",
          "__ECDF": 0.07407407407407407
         },
         {
          "Fluorescence": 8404.338,
          "Temperature": "20",
          "__ECDF": 0.07407407407407407
         },
         {
          "Fluorescence": 8404.338,
          "Temperature": "20",
          "__ECDF": 0.1111111111111111
         },
         {
          "Fluorescence": 9851.121,
          "Temperature": "20",
          "__ECDF": 0.1111111111111111
         },
         {
          "Fluorescence": 9851.121,
          "Temperature": "20",
          "__ECDF": 0.14814814814814814
         },
         {
          "Fluorescence": 10092.92,
          "Temperature": "20",
          "__ECDF": 0.14814814814814814
         },
         {
          "Fluorescence": 10092.92,
          "Temperature": "20",
          "__ECDF": 0.18518518518518517
         },
         {
          "Fluorescence": 10095.31,
          "Temperature": "20",
          "__ECDF": 0.18518518518518517
         },
         {
          "Fluorescence": 10095.31,
          "Temperature": "20",
          "__ECDF": 0.2222222222222222
         },
         {
          "Fluorescence": 10261.6,
          "Temperature": "20",
          "__ECDF": 0.2222222222222222
         },
         {
          "Fluorescence": 10261.6,
          "Temperature": "20",
          "__ECDF": 0.25925925925925924
         },
         {
          "Fluorescence": 10938.8,
          "Temperature": "20",
          "__ECDF": 0.25925925925925924
         },
         {
          "Fluorescence": 10938.8,
          "Temperature": "20",
          "__ECDF": 0.2962962962962963
         },
         {
          "Fluorescence": 11349.04,
          "Temperature": "20",
          "__ECDF": 0.2962962962962963
         },
         {
          "Fluorescence": 11349.04,
          "Temperature": "20",
          "__ECDF": 0.3333333333333333
         },
         {
          "Fluorescence": 11383.33,
          "Temperature": "20",
          "__ECDF": 0.3333333333333333
         },
         {
          "Fluorescence": 11383.33,
          "Temperature": "20",
          "__ECDF": 0.37037037037037035
         },
         {
          "Fluorescence": 11444.18,
          "Temperature": "20",
          "__ECDF": 0.37037037037037035
         },
         {
          "Fluorescence": 11444.18,
          "Temperature": "20",
          "__ECDF": 0.4074074074074074
         },
         {
          "Fluorescence": 11703.01,
          "Temperature": "20",
          "__ECDF": 0.4074074074074074
         },
         {
          "Fluorescence": 11703.01,
          "Temperature": "20",
          "__ECDF": 0.4444444444444444
         },
         {
          "Fluorescence": 12594.02,
          "Temperature": "20",
          "__ECDF": 0.4444444444444444
         },
         {
          "Fluorescence": 12594.02,
          "Temperature": "20",
          "__ECDF": 0.48148148148148145
         },
         {
          "Fluorescence": 12839.65,
          "Temperature": "20",
          "__ECDF": 0.48148148148148145
         },
         {
          "Fluorescence": 12839.65,
          "Temperature": "20",
          "__ECDF": 0.5185185185185185
         },
         {
          "Fluorescence": 13687.15,
          "Temperature": "20",
          "__ECDF": 0.5185185185185185
         },
         {
          "Fluorescence": 13687.15,
          "Temperature": "20",
          "__ECDF": 0.5555555555555556
         },
         {
          "Fluorescence": 14445.49,
          "Temperature": "20",
          "__ECDF": 0.5555555555555556
         },
         {
          "Fluorescence": 14445.49,
          "Temperature": "20",
          "__ECDF": 0.5925925925925926
         },
         {
          "Fluorescence": 14456.7,
          "Temperature": "20",
          "__ECDF": 0.5925925925925926
         },
         {
          "Fluorescence": 14456.7,
          "Temperature": "20",
          "__ECDF": 0.6296296296296297
         },
         {
          "Fluorescence": 15120.23,
          "Temperature": "20",
          "__ECDF": 0.6296296296296297
         },
         {
          "Fluorescence": 15120.23,
          "Temperature": "20",
          "__ECDF": 0.6666666666666666
         },
         {
          "Fluorescence": 15341.68,
          "Temperature": "20",
          "__ECDF": 0.6666666666666666
         },
         {
          "Fluorescence": 15341.68,
          "Temperature": "20",
          "__ECDF": 0.7037037037037037
         },
         {
          "Fluorescence": 15657.5,
          "Temperature": "20",
          "__ECDF": 0.7037037037037037
         },
         {
          "Fluorescence": 15657.5,
          "Temperature": "20",
          "__ECDF": 0.7407407407407407
         },
         {
          "Fluorescence": 17025.58,
          "Temperature": "20",
          "__ECDF": 0.7407407407407407
         },
         {
          "Fluorescence": 17025.58,
          "Temperature": "20",
          "__ECDF": 0.7777777777777778
         },
         {
          "Fluorescence": 17079.49,
          "Temperature": "20",
          "__ECDF": 0.7777777777777778
         },
         {
          "Fluorescence": 17079.49,
          "Temperature": "20",
          "__ECDF": 0.8148148148148148
         },
         {
          "Fluorescence": 17499.83,
          "Temperature": "20",
          "__ECDF": 0.8148148148148148
         },
         {
          "Fluorescence": 17499.83,
          "Temperature": "20",
          "__ECDF": 0.8518518518518519
         },
         {
          "Fluorescence": 19347.14,
          "Temperature": "20",
          "__ECDF": 0.8518518518518519
         },
         {
          "Fluorescence": 19347.14,
          "Temperature": "20",
          "__ECDF": 0.8888888888888888
         },
         {
          "Fluorescence": 22372.43,
          "Temperature": "20",
          "__ECDF": 0.8888888888888888
         },
         {
          "Fluorescence": 22372.43,
          "Temperature": "20",
          "__ECDF": 0.9259259259259259
         },
         {
          "Fluorescence": 22479.83,
          "Temperature": "20",
          "__ECDF": 0.9259259259259259
         },
         {
          "Fluorescence": 22479.83,
          "Temperature": "20",
          "__ECDF": 0.9629629629629629
         },
         {
          "Fluorescence": 33739.14,
          "Temperature": "20",
          "__ECDF": 0.9629629629629629
         },
         {
          "Fluorescence": 33739.14,
          "Temperature": "20",
          "__ECDF": 1
         },
         {
          "Fluorescence": 45200.855149999996,
          "Temperature": "20",
          "__ECDF": 1
         },
         {
          "Fluorescence": 1147.2818499999998,
          "Temperature": "25",
          "__ECDF": 0
         },
         {
          "Fluorescence": 7709.297,
          "Temperature": "25",
          "__ECDF": 0
         },
         {
          "Fluorescence": 7709.297,
          "Temperature": "25",
          "__ECDF": 0.038461538461538464
         },
         {
          "Fluorescence": 11297.41,
          "Temperature": "25",
          "__ECDF": 0.038461538461538464
         },
         {
          "Fluorescence": 11297.41,
          "Temperature": "25",
          "__ECDF": 0.07692307692307693
         },
         {
          "Fluorescence": 11876.02,
          "Temperature": "25",
          "__ECDF": 0.07692307692307693
         },
         {
          "Fluorescence": 11876.02,
          "Temperature": "25",
          "__ECDF": 0.11538461538461539
         },
         {
          "Fluorescence": 12071.33,
          "Temperature": "25",
          "__ECDF": 0.11538461538461539
         },
         {
          "Fluorescence": 12071.33,
          "Temperature": "25",
          "__ECDF": 0.15384615384615385
         },
         {
          "Fluorescence": 12140.31,
          "Temperature": "25",
          "__ECDF": 0.15384615384615385
         },
         {
          "Fluorescence": 12140.31,
          "Temperature": "25",
          "__ECDF": 0.19230769230769232
         },
         {
          "Fluorescence": 12173.06,
          "Temperature": "25",
          "__ECDF": 0.19230769230769232
         },
         {
          "Fluorescence": 12173.06,
          "Temperature": "25",
          "__ECDF": 0.23076923076923078
         },
         {
          "Fluorescence": 12538.9,
          "Temperature": "25",
          "__ECDF": 0.23076923076923078
         },
         {
          "Fluorescence": 12538.9,
          "Temperature": "25",
          "__ECDF": 0.2692307692307692
         },
         {
          "Fluorescence": 13168.06,
          "Temperature": "25",
          "__ECDF": 0.2692307692307692
         },
         {
          "Fluorescence": 13168.06,
          "Temperature": "25",
          "__ECDF": 0.3076923076923077
         },
         {
          "Fluorescence": 13274.08,
          "Temperature": "25",
          "__ECDF": 0.3076923076923077
         },
         {
          "Fluorescence": 13274.08,
          "Temperature": "25",
          "__ECDF": 0.34615384615384615
         },
         {
          "Fluorescence": 13393.35,
          "Temperature": "25",
          "__ECDF": 0.34615384615384615
         },
         {
          "Fluorescence": 13393.35,
          "Temperature": "25",
          "__ECDF": 0.38461538461538464
         },
         {
          "Fluorescence": 13470.66,
          "Temperature": "25",
          "__ECDF": 0.38461538461538464
         },
         {
          "Fluorescence": 13470.66,
          "Temperature": "25",
          "__ECDF": 0.4230769230769231
         },
         {
          "Fluorescence": 14180.11,
          "Temperature": "25",
          "__ECDF": 0.4230769230769231
         },
         {
          "Fluorescence": 14180.11,
          "Temperature": "25",
          "__ECDF": 0.46153846153846156
         },
         {
          "Fluorescence": 14285.94,
          "Temperature": "25",
          "__ECDF": 0.46153846153846156
         },
         {
          "Fluorescence": 14285.94,
          "Temperature": "25",
          "__ECDF": 0.5
         },
         {
          "Fluorescence": 14313.86,
          "Temperature": "25",
          "__ECDF": 0.5
         },
         {
          "Fluorescence": 14313.86,
          "Temperature": "25",
          "__ECDF": 0.5384615384615384
         },
         {
          "Fluorescence": 14487.56,
          "Temperature": "25",
          "__ECDF": 0.5384615384615384
         },
         {
          "Fluorescence": 14487.56,
          "Temperature": "25",
          "__ECDF": 0.5769230769230769
         },
         {
          "Fluorescence": 14544.24,
          "Temperature": "25",
          "__ECDF": 0.5769230769230769
         },
         {
          "Fluorescence": 14544.24,
          "Temperature": "25",
          "__ECDF": 0.6153846153846154
         },
         {
          "Fluorescence": 15379.37,
          "Temperature": "25",
          "__ECDF": 0.6153846153846154
         },
         {
          "Fluorescence": 15379.37,
          "Temperature": "25",
          "__ECDF": 0.6538461538461539
         },
         {
          "Fluorescence": 15535.85,
          "Temperature": "25",
          "__ECDF": 0.6538461538461539
         },
         {
          "Fluorescence": 15535.85,
          "Temperature": "25",
          "__ECDF": 0.6923076923076923
         },
         {
          "Fluorescence": 16043.45,
          "Temperature": "25",
          "__ECDF": 0.6923076923076923
         },
         {
          "Fluorescence": 16043.45,
          "Temperature": "25",
          "__ECDF": 0.7307692307692307
         },
         {
          "Fluorescence": 16187.48,
          "Temperature": "25",
          "__ECDF": 0.7307692307692307
         },
         {
          "Fluorescence": 16187.48,
          "Temperature": "25",
          "__ECDF": 0.7692307692307693
         },
         {
          "Fluorescence": 16636.82,
          "Temperature": "25",
          "__ECDF": 0.7692307692307693
         },
         {
          "Fluorescence": 16636.82,
          "Temperature": "25",
          "__ECDF": 0.8076923076923077
         },
         {
          "Fluorescence": 16896.31,
          "Temperature": "25",
          "__ECDF": 0.8076923076923077
         },
         {
          "Fluorescence": 16896.31,
          "Temperature": "25",
          "__ECDF": 0.8461538461538461
         },
         {
          "Fluorescence": 16991.49,
          "Temperature": "25",
          "__ECDF": 0.8461538461538461
         },
         {
          "Fluorescence": 16991.49,
          "Temperature": "25",
          "__ECDF": 0.8846153846153846
         },
         {
          "Fluorescence": 17073.8,
          "Temperature": "25",
          "__ECDF": 0.8846153846153846
         },
         {
          "Fluorescence": 17073.8,
          "Temperature": "25",
          "__ECDF": 0.9230769230769231
         },
         {
          "Fluorescence": 18034.93,
          "Temperature": "25",
          "__ECDF": 0.9230769230769231
         },
         {
          "Fluorescence": 18034.93,
          "Temperature": "25",
          "__ECDF": 0.9615384615384616
         },
         {
          "Fluorescence": 18205.84,
          "Temperature": "25",
          "__ECDF": 0.9615384615384616
         },
         {
          "Fluorescence": 18205.84,
          "Temperature": "25",
          "__ECDF": 1
         },
         {
          "Fluorescence": 45200.855149999996,
          "Temperature": "25",
          "__ECDF": 1
         }
        ]
       },
       "hconcat": [
        {
         "data": {
          "name": "data-ade24174e1801e68ede35b99f01d0810"
         },
         "encoding": {
          "color": {
           "field": "Temperature",
           "scale": {
            "scheme": "set2"
           },
           "title": "Temperature",
           "type": "nominal"
          },
          "order": {
           "field": "Fluorescence",
           "sort": "ascending",
           "type": "quantitative"
          },
          "x": {
           "field": "Fluorescence",
           "scale": {
            "domain": [
             0,
             45000
            ]
           },
           "title": "Fluorescence (Genotype = sc)",
           "type": "quantitative"
          },
          "y": {
           "field": "__ECDF",
           "title": "ECDF",
           "type": "quantitative"
          }
         },
         "mark": {
          "type": "line"
         }
        },
        {
         "data": {
          "name": "data-0334b00b521907eb9071e86573e9661d"
         },
         "encoding": {
          "color": {
           "field": "Temperature",
           "scale": {
            "scheme": "set2"
           },
           "title": "Temperature",
           "type": "nominal"
          },
          "order": {
           "field": "Fluorescence",
           "sort": "ascending",
           "type": "quantitative"
          },
          "x": {
           "field": "Fluorescence",
           "scale": {
            "domain": [
             0,
             45000
            ]
           },
           "title": "Fluorescence (Genotype = sk)",
           "type": "quantitative"
          },
          "y": {
           "field": "__ECDF",
           "title": "ECDF",
           "type": "quantitative"
          }
         },
         "mark": {
          "type": "line"
         }
        },
        {
         "data": {
          "name": "data-d8ef77111493b998dc90a8b7f8deb399"
         },
         "encoding": {
          "color": {
           "field": "Temperature",
           "scale": {
            "scheme": "set2"
           },
           "title": "Temperature",
           "type": "nominal"
          },
          "order": {
           "field": "Fluorescence",
           "sort": "ascending",
           "type": "quantitative"
          },
          "x": {
           "field": "Fluorescence",
           "scale": {
            "domain": [
             0,
             45000
            ]
           },
           "title": "Fluorescence (Genotype = m3)",
           "type": "quantitative"
          },
          "y": {
           "field": "__ECDF",
           "title": "ECDF",
           "type": "quantitative"
          }
         },
         "mark": {
          "type": "line"
         }
        }
       ]
      },
      "image/png": "[encoded data removed]",
      "text/plain": [
       "<VegaLite 2 object>\n",
       "\n",
       "If you see this message, it means the renderer has not been properly enabled\n",
       "for the frontend that you are using. For more information, see\n",
       "https://altair-viz.github.io/user_guide/troubleshooting.html\n"
      ]
     },
     "execution_count": 111,
     "metadata": {},
     "output_type": "execute_result"
    }
   ],
   "source": [
    "for g in df_tidy['Genotype'].unique().astype('str'):\n",
    "    p_temp = altcat.catplot(data=df_tidy.loc[df_tidy['Genotype'] == g,:],\n",
    "                        mark='line',\n",
    "                        encoding=dict(x=alt.X('Fluorescence:Q',scale=axis_scale,title='Fluorescence (Genotype = ' + g + ')'),\n",
    "                                     color=alt.Color('Temperature:N', title='Temperature', scale=alt.Scale(scheme='set2'))),\n",
    "                        transform='ecdf')\n",
    "    p.append(p_temp)\n",
    "\n",
    "p[3] | p[4] | p[5]"
   ]
  },
  {
   "cell_type": "code",
   "execution_count": 46,
   "metadata": {},
   "outputs": [
    {
     "data": {
      "text/plain": [
       "Column({\n",
       "  shorthand: 'T:Q',\n",
       "  title: 'T'\n",
       "})"
      ]
     },
     "execution_count": 46,
     "metadata": {},
     "output_type": "execute_result"
    }
   ],
   "source": [
    "axis_scale = alt.Scale(domain=[0, 45000])\n",
    "\n",
    "alt.Chart(data=df_tidy.loc[df_tidy['T'] == '15',:],\n",
    "        height=150,\n",
    "        width=150\n",
    "    ).mark_circle(\n",
    "        size=5,\n",
    "        opacity=0.1\n",
    "    ).encode(\n",
    "        x=alt.X('F:Q', scale=axis_scale),\n",
    "        y=alt.Y('F:Q', scale=axis_scale),\n",
    "        color=alt.Color('G:N', title='beetle genus'),\n",
    "        column=alt.Column('beetle_treatment:N', title='beetle genus'),\n",
    "    )"
   ]
  },
  {
   "cell_type": "code",
   "execution_count": 15,
   "metadata": {},
   "outputs": [
    {
     "data": {
      "text/html": [
       "\n",
       "\n",
       "\n",
       "\n",
       "\n",
       "\n",
       "  <div class=\"bk-root\" id=\"44c3474a-d051-43d5-ad5e-85d366341c39\"></div>\n"
      ]
     },
     "metadata": {},
     "output_type": "display_data"
    },
    {
     "data": {
      "application/javascript": [
       "(function(root) {\n",
       "  function embed_document(root) {\n",
       "    \n",
       "  var docs_json = {\"f2a1003e-4950-4427-8d60-c6e71f0bbbab\":{\"roots\":{\"references\":[{\"attributes\":{},\"id\":\"e74286f4-9678-42aa-8008-062f0461af58\",\"type\":\"CategoricalTicker\"},{\"attributes\":{},\"id\":\"0bc784f0-4a06-4e18-9f6c-0f07a0804445\",\"type\":\"Selection\"},{\"attributes\":{\"fill_color\":{\"field\":\"cat\",\"transform\":{\"id\":\"a44632ab-c565-4644-adc6-4d6bf94675b4\",\"type\":\"CategoricalColorMapper\"}},\"line_color\":{\"field\":\"cat\",\"transform\":{\"id\":\"98fd679c-46eb-4d7f-b063-5118f8ef6dd2\",\"type\":\"CategoricalColorMapper\"}},\"x\":{\"field\":\"F\"},\"y\":{\"field\":\"cat\"}},\"id\":\"687b7338-b6bd-4478-880c-f671596b2063\",\"type\":\"Circle\"},{\"attributes\":{\"fill_alpha\":{\"value\":0.1},\"fill_color\":{\"value\":\"#1f77b4\"},\"line_alpha\":{\"value\":0.1},\"line_color\":{\"value\":\"#1f77b4\"},\"x\":{\"field\":\"F\"},\"y\":{\"field\":\"cat\"}},\"id\":\"98aa5e39-df71-4456-936e-bce178645278\",\"type\":\"Circle\"},{\"attributes\":{\"data_source\":{\"id\":\"ef8e7476-2c6c-4eba-b0ce-6bec87fb9d35\",\"type\":\"ColumnDataSource\"},\"glyph\":{\"id\":\"687b7338-b6bd-4478-880c-f671596b2063\",\"type\":\"Circle\"},\"hover_glyph\":null,\"muted_glyph\":null,\"nonselection_glyph\":{\"id\":\"98aa5e39-df71-4456-936e-bce178645278\",\"type\":\"Circle\"},\"selection_glyph\":null,\"view\":{\"id\":\"e65eec1d-b6c2-4490-bd17-f888ab6eddbb\",\"type\":\"CDSView\"}},\"id\":\"16ecfc60-e4c3-4d0b-b466-9a4a6efc1d02\",\"type\":\"GlyphRenderer\"},{\"attributes\":{\"source\":{\"id\":\"ef8e7476-2c6c-4eba-b0ce-6bec87fb9d35\",\"type\":\"ColumnDataSource\"}},\"id\":\"e65eec1d-b6c2-4490-bd17-f888ab6eddbb\",\"type\":\"CDSView\"},{\"attributes\":{\"x0\":{\"field\":\"top\"},\"x1\":{\"field\":\"top_whisker\"},\"y0\":{\"field\":\"cat\"},\"y1\":{\"field\":\"cat\"}},\"id\":\"b5659588-032f-47d8-a40a-58985d9c0e18\",\"type\":\"Segment\"},{\"attributes\":{\"factors\":[\"m3\",\"sc\",\"sk\"],\"palette\":[\"#4e79a7\",\"#f28e2b\",\"#e15759\",\"#76b7b2\",\"#59a14f\",\"#edc948\",\"#b07aa1\",\"#ff9da7\",\"#9c755f\",\"#bab0ac\"]},\"id\":\"98fd679c-46eb-4d7f-b063-5118f8ef6dd2\",\"type\":\"CategoricalColorMapper\"},{\"attributes\":{\"callback\":null},\"id\":\"c1d6cbf1-1663-4aec-bcb2-5e0a9be96932\",\"type\":\"DataRange1d\"},{\"attributes\":{\"callback\":null,\"data\":{\"__label\":[\"m3\",\"sc\",\"sk\"],\"bottom\":[12696.189999999999,13334.83,17718.2075],\"bottom_whisker\":[7709.297,9932.98,13464.158749999999],\"cat\":[\"m3\",\"sc\",\"sk\"],\"middle\":[14299.900000000001,14414.89,19289.925000000003],\"top\":[16151.4725,15602.73,20554.24],\"top_whisker\":[18205.84,19004.579999999998,23189.56]},\"selected\":{\"id\":\"4869b05b-0a15-4f9c-af82-b763eb34c5d8\",\"type\":\"Selection\"},\"selection_policy\":{\"id\":\"71841a76-7d51-4ad5-927d-5bcc428af878\",\"type\":\"UnionRenderers\"}},\"id\":\"59a95443-d61d-461d-8dd8-2a85f8eaae54\",\"type\":\"ColumnDataSource\"},{\"attributes\":{},\"id\":\"ba9b9211-38ff-48b2-8671-e770344d331b\",\"type\":\"UnionRenderers\"},{\"attributes\":{\"callback\":null,\"factors\":[\"sk\",\"sc\",\"m3\"]},\"id\":\"ebcfdb92-f045-4bab-8d68-c3c3156ea10e\",\"type\":\"FactorRange\"},{\"attributes\":{\"callback\":null,\"data\":{\"F\":[16499.3,12672.19,15832.53,15065.03,16960.67,13609.09,15602.73,12163.93,13334.83,14128.31,14211.59,15110.88,19436.63,14879.05,14882.92,17229.12,8358.995,9540.503,15158.47,17305.84,12462.69,13969.94,11233.21,13568.62,14414.89,16593.96,6910.673,20934.66,18042.75,23189.56,20526.22,19782.51,21371.72,18062.91,19314.24,19882.63,20371.85,17609.13,19238.01,21444.25,19265.61,17788.94,22053.47,21836.05,16919.7,15992.75,17837.36,14203.55,19516.03,21589.64,20563.58,17811.23,17694.63,20114.62,14351.88,17073.8,15379.37,16991.49,13393.35,7709.297,13274.08,13168.06,14285.94,12071.33,12538.9,18034.93,14180.11,13470.66,16043.45,18205.84,16636.82,11297.41,16896.31,14313.86,16187.48,14487.56,14544.24,12140.31,11876.02,15535.85,12173.06],\"G\":[\"sc\",\"sc\",\"sc\",\"sc\",\"sc\",\"sc\",\"sc\",\"sc\",\"sc\",\"sc\",\"sc\",\"sc\",\"sc\",\"sc\",\"sc\",\"sc\",\"sc\",\"sc\",\"sc\",\"sc\",\"sc\",\"sc\",\"sc\",\"sc\",\"sc\",\"sk\",\"sk\",\"sk\",\"sk\",\"sk\",\"sk\",\"sk\",\"sk\",\"sk\",\"sk\",\"sk\",\"sk\",\"sk\",\"sk\",\"sk\",\"sk\",\"sk\",\"sk\",\"sk\",\"sk\",\"sk\",\"sk\",\"sk\",\"sk\",\"sk\",\"sk\",\"sk\",\"sk\",\"sk\",\"sk\",\"m3\",\"m3\",\"m3\",\"m3\",\"m3\",\"m3\",\"m3\",\"m3\",\"m3\",\"m3\",\"m3\",\"m3\",\"m3\",\"m3\",\"m3\",\"m3\",\"m3\",\"m3\",\"m3\",\"m3\",\"m3\",\"m3\",\"m3\",\"m3\",\"m3\",\"m3\"],\"__label\":[\"sc\",\"sc\",\"sc\",\"sc\",\"sc\",\"sc\",\"sc\",\"sc\",\"sc\",\"sc\",\"sc\",\"sc\",\"sc\",\"sc\",\"sc\",\"sc\",\"sc\",\"sc\",\"sc\",\"sc\",\"sc\",\"sc\",\"sc\",\"sc\",\"sc\",\"sk\",\"sk\",\"sk\",\"sk\",\"sk\",\"sk\",\"sk\",\"sk\",\"sk\",\"sk\",\"sk\",\"sk\",\"sk\",\"sk\",\"sk\",\"sk\",\"sk\",\"sk\",\"sk\",\"sk\",\"sk\",\"sk\",\"sk\",\"sk\",\"sk\",\"sk\",\"sk\",\"sk\",\"sk\",\"sk\",\"m3\",\"m3\",\"m3\",\"m3\",\"m3\",\"m3\",\"m3\",\"m3\",\"m3\",\"m3\",\"m3\",\"m3\",\"m3\",\"m3\",\"m3\",\"m3\",\"m3\",\"m3\",\"m3\",\"m3\",\"m3\",\"m3\",\"m3\",\"m3\",\"m3\",\"m3\"],\"cat\":[\"sc\",\"sc\",\"sc\",\"sc\",\"sc\",\"sc\",\"sc\",\"sc\",\"sc\",\"sc\",\"sc\",\"sc\",\"sc\",\"sc\",\"sc\",\"sc\",\"sc\",\"sc\",\"sc\",\"sc\",\"sc\",\"sc\",\"sc\",\"sc\",\"sc\",\"sk\",\"sk\",\"sk\",\"sk\",\"sk\",\"sk\",\"sk\",\"sk\",\"sk\",\"sk\",\"sk\",\"sk\",\"sk\",\"sk\",\"sk\",\"sk\",\"sk\",\"sk\",\"sk\",\"sk\",\"sk\",\"sk\",\"sk\",\"sk\",\"sk\",\"sk\",\"sk\",\"sk\",\"sk\",\"sk\",\"m3\",\"m3\",\"m3\",\"m3\",\"m3\",\"m3\",\"m3\",\"m3\",\"m3\",\"m3\",\"m3\",\"m3\",\"m3\",\"m3\",\"m3\",\"m3\",\"m3\",\"m3\",\"m3\",\"m3\",\"m3\",\"m3\",\"m3\",\"m3\",\"m3\",\"m3\"]},\"selected\":{\"id\":\"0bc784f0-4a06-4e18-9f6c-0f07a0804445\",\"type\":\"Selection\"},\"selection_policy\":{\"id\":\"ba9b9211-38ff-48b2-8671-e770344d331b\",\"type\":\"UnionRenderers\"}},\"id\":\"3dc855a2-6702-4138-9821-b57d0057b28e\",\"type\":\"ColumnDataSource\"},{\"attributes\":{},\"id\":\"46c08279-3cdc-4dfc-b5c3-54ab0bd3f374\",\"type\":\"LinearScale\"},{\"attributes\":{\"fill_color\":{\"value\":\"#1f77b4\"},\"height\":{\"value\":0.1},\"left\":{\"field\":\"top_whisker\"},\"right\":{\"field\":\"top_whisker\"},\"y\":{\"field\":\"cat\"}},\"id\":\"d0842a5a-d568-443c-a31a-3a2f4220431b\",\"type\":\"HBar\"},{\"attributes\":{\"range\":{\"id\":\"ebcfdb92-f045-4bab-8d68-c3c3156ea10e\",\"type\":\"FactorRange\"},\"width\":0.4},\"id\":\"e7c4c9ed-8453-4a36-8b7d-2c0337348174\",\"type\":\"Jitter\"},{\"attributes\":{\"data_source\":{\"id\":\"59a95443-d61d-461d-8dd8-2a85f8eaae54\",\"type\":\"ColumnDataSource\"},\"glyph\":{\"id\":\"d0842a5a-d568-443c-a31a-3a2f4220431b\",\"type\":\"HBar\"},\"hover_glyph\":null,\"muted_glyph\":null,\"nonselection_glyph\":{\"id\":\"d2153a69-5afe-4512-98f9-2ad6f8d6744e\",\"type\":\"HBar\"},\"selection_glyph\":null,\"view\":{\"id\":\"4646a1e4-f5b0-4ef4-abde-e15cdf92acfe\",\"type\":\"CDSView\"}},\"id\":\"1a9bd36c-461b-4f42-ae1d-53bb3d91a6ca\",\"type\":\"GlyphRenderer\"},{\"attributes\":{},\"id\":\"e48a29e7-36a6-405e-b340-04943e1c6eaa\",\"type\":\"Selection\"},{\"attributes\":{\"fill_color\":{\"field\":\"cat\",\"transform\":{\"id\":\"c558b39b-1286-4465-a745-d528ce02b40a\",\"type\":\"CategoricalColorMapper\"}},\"line_color\":{\"field\":\"cat\",\"transform\":{\"id\":\"c558b39b-1286-4465-a745-d528ce02b40a\",\"type\":\"CategoricalColorMapper\"}},\"x\":{\"field\":\"F\"},\"y\":{\"field\":\"cat\",\"transform\":{\"id\":\"e7c4c9ed-8453-4a36-8b7d-2c0337348174\",\"type\":\"Jitter\"}}},\"id\":\"66c1b1f4-8d76-46fb-9c55-62992e39992a\",\"type\":\"Circle\"},{\"attributes\":{\"formatter\":{\"id\":\"7347df09-1bbf-4547-9da1-efe87d8efaaf\",\"type\":\"CategoricalTickFormatter\"},\"plot\":{\"id\":\"e4d47c9b-663a-4693-9710-6d960fb0cdae\",\"subtype\":\"Figure\",\"type\":\"Plot\"},\"ticker\":{\"id\":\"e74286f4-9678-42aa-8008-062f0461af58\",\"type\":\"CategoricalTicker\"}},\"id\":\"d3434186-3260-4dc6-8596-91e5f1b1d8c4\",\"type\":\"CategoricalAxis\"},{\"attributes\":{\"fill_alpha\":{\"value\":0.1},\"fill_color\":{\"value\":\"#1f77b4\"},\"height\":{\"value\":0.1},\"left\":{\"field\":\"top_whisker\"},\"line_alpha\":{\"value\":0.1},\"line_color\":{\"value\":\"#1f77b4\"},\"right\":{\"field\":\"top_whisker\"},\"y\":{\"field\":\"cat\"}},\"id\":\"d2153a69-5afe-4512-98f9-2ad6f8d6744e\",\"type\":\"HBar\"},{\"attributes\":{\"fill_alpha\":{\"value\":0.1},\"fill_color\":{\"value\":\"#1f77b4\"},\"line_alpha\":{\"value\":0.1},\"line_color\":{\"value\":\"#1f77b4\"},\"x\":{\"field\":\"F\"},\"y\":{\"field\":\"cat\",\"transform\":{\"id\":\"e7c4c9ed-8453-4a36-8b7d-2c0337348174\",\"type\":\"Jitter\"}}},\"id\":\"8cdba6aa-455c-46e5-a2f8-732f925d1629\",\"type\":\"Circle\"},{\"attributes\":{\"data_source\":{\"id\":\"3dc855a2-6702-4138-9821-b57d0057b28e\",\"type\":\"ColumnDataSource\"},\"glyph\":{\"id\":\"66c1b1f4-8d76-46fb-9c55-62992e39992a\",\"type\":\"Circle\"},\"hover_glyph\":null,\"muted_glyph\":null,\"nonselection_glyph\":{\"id\":\"8cdba6aa-455c-46e5-a2f8-732f925d1629\",\"type\":\"Circle\"},\"selection_glyph\":null,\"view\":{\"id\":\"57d89304-bffe-496d-95be-889322ba4054\",\"type\":\"CDSView\"}},\"id\":\"a3751969-1662-4309-a73b-57bddb7db6f6\",\"type\":\"GlyphRenderer\"},{\"attributes\":{},\"id\":\"284b6b23-479f-43ec-b66a-f1d5c4dac894\",\"type\":\"CategoricalScale\"},{\"attributes\":{\"source\":{\"id\":\"3dc855a2-6702-4138-9821-b57d0057b28e\",\"type\":\"ColumnDataSource\"}},\"id\":\"57d89304-bffe-496d-95be-889322ba4054\",\"type\":\"CDSView\"},{\"attributes\":{\"x0\":{\"field\":\"bottom\"},\"x1\":{\"field\":\"bottom_whisker\"},\"y0\":{\"field\":\"cat\"},\"y1\":{\"field\":\"cat\"}},\"id\":\"e4cd76c7-6ae1-4162-95be-1bd93281c0c1\",\"type\":\"Segment\"},{\"attributes\":{\"line_alpha\":{\"value\":0.1},\"line_color\":{\"value\":\"#1f77b4\"},\"x0\":{\"field\":\"bottom\"},\"x1\":{\"field\":\"bottom_whisker\"},\"y0\":{\"field\":\"cat\"},\"y1\":{\"field\":\"cat\"}},\"id\":\"a15e97f9-efbf-4019-a74d-9c2e11e78917\",\"type\":\"Segment\"},{\"attributes\":{\"active_drag\":\"auto\",\"active_inspect\":\"auto\",\"active_multi\":null,\"active_scroll\":\"auto\",\"active_tap\":\"auto\",\"tools\":[{\"id\":\"bac5f966-65a2-434a-9063-1c283e174988\",\"type\":\"PanTool\"},{\"id\":\"71bca4ac-701c-433c-b382-ca4d473c73a3\",\"type\":\"WheelZoomTool\"},{\"id\":\"60e53cc2-4cc3-41a0-a83d-b3f3d4f39478\",\"type\":\"BoxZoomTool\"},{\"id\":\"f11e607e-d537-482e-bba9-e2ecf76c1a3f\",\"type\":\"SaveTool\"},{\"id\":\"c1f0df4d-344a-45d4-a202-440b9661b841\",\"type\":\"ResetTool\"},{\"id\":\"4be96497-b6b8-4528-9032-395a778c8443\",\"type\":\"HelpTool\"}]},\"id\":\"c8331901-0d8e-4c78-94c6-b5c374a2930a\",\"type\":\"Toolbar\"},{\"attributes\":{\"fill_color\":{\"value\":\"#1f77b4\"},\"height\":{\"value\":0.1},\"left\":{\"field\":\"bottom_whisker\"},\"right\":{\"field\":\"bottom_whisker\"},\"y\":{\"field\":\"cat\"}},\"id\":\"f0dddc35-ef98-478a-afea-211dfd8c749e\",\"type\":\"HBar\"},{\"attributes\":{\"source\":{\"id\":\"59a95443-d61d-461d-8dd8-2a85f8eaae54\",\"type\":\"ColumnDataSource\"}},\"id\":\"4646a1e4-f5b0-4ef4-abde-e15cdf92acfe\",\"type\":\"CDSView\"},{\"attributes\":{\"below\":[{\"id\":\"1ea6501a-1fb8-4ffc-88a4-8af068ff422e\",\"type\":\"LinearAxis\"}],\"left\":[{\"id\":\"d3434186-3260-4dc6-8596-91e5f1b1d8c4\",\"type\":\"CategoricalAxis\"}],\"plot_height\":300,\"plot_width\":400,\"renderers\":[{\"id\":\"1ea6501a-1fb8-4ffc-88a4-8af068ff422e\",\"type\":\"LinearAxis\"},{\"id\":\"512a4bea-4df2-43d7-a1bf-980c961ce858\",\"type\":\"Grid\"},{\"id\":\"d3434186-3260-4dc6-8596-91e5f1b1d8c4\",\"type\":\"CategoricalAxis\"},{\"id\":\"33a62c73-30a5-418e-9fef-9ff2fae24e85\",\"type\":\"Grid\"},{\"id\":\"0382fc93-9932-4387-b4c8-37144efb5997\",\"type\":\"BoxAnnotation\"},{\"id\":\"b9d56041-de4c-4748-9f96-8d18e7a99ded\",\"type\":\"GlyphRenderer\"},{\"id\":\"e9d2aa48-0f09-4530-86b2-de7b5fcb4373\",\"type\":\"GlyphRenderer\"},{\"id\":\"1a9bd36c-461b-4f42-ae1d-53bb3d91a6ca\",\"type\":\"GlyphRenderer\"},{\"id\":\"0ef2f4d6-3d26-4812-8b20-eaa30e91981f\",\"type\":\"GlyphRenderer\"},{\"id\":\"50d1d69c-df21-4a37-bdc6-e6b3ccb8660c\",\"type\":\"GlyphRenderer\"},{\"id\":\"eaa67a65-49b6-4e15-967a-e77551bac8db\",\"type\":\"GlyphRenderer\"},{\"id\":\"16ecfc60-e4c3-4d0b-b466-9a4a6efc1d02\",\"type\":\"GlyphRenderer\"},{\"id\":\"a3751969-1662-4309-a73b-57bddb7db6f6\",\"type\":\"GlyphRenderer\"}],\"title\":null,\"toolbar\":{\"id\":\"c8331901-0d8e-4c78-94c6-b5c374a2930a\",\"type\":\"Toolbar\"},\"x_range\":{\"id\":\"c1d6cbf1-1663-4aec-bcb2-5e0a9be96932\",\"type\":\"DataRange1d\"},\"x_scale\":{\"id\":\"46c08279-3cdc-4dfc-b5c3-54ab0bd3f374\",\"type\":\"LinearScale\"},\"y_range\":{\"id\":\"ebcfdb92-f045-4bab-8d68-c3c3156ea10e\",\"type\":\"FactorRange\"},\"y_scale\":{\"id\":\"284b6b23-479f-43ec-b66a-f1d5c4dac894\",\"type\":\"CategoricalScale\"}},\"id\":\"e4d47c9b-663a-4693-9710-6d960fb0cdae\",\"subtype\":\"Figure\",\"type\":\"Plot\"},{\"attributes\":{\"source\":{\"id\":\"59a95443-d61d-461d-8dd8-2a85f8eaae54\",\"type\":\"ColumnDataSource\"}},\"id\":\"ad624a1e-8ca6-40f8-9ee2-483883e18ff2\",\"type\":\"CDSView\"},{\"attributes\":{\"dimension\":1,\"grid_line_color\":{\"value\":null},\"plot\":{\"id\":\"e4d47c9b-663a-4693-9710-6d960fb0cdae\",\"subtype\":\"Figure\",\"type\":\"Plot\"},\"ticker\":{\"id\":\"e74286f4-9678-42aa-8008-062f0461af58\",\"type\":\"CategoricalTicker\"}},\"id\":\"33a62c73-30a5-418e-9fef-9ff2fae24e85\",\"type\":\"Grid\"},{\"attributes\":{},\"id\":\"4ac49d95-a611-4496-afef-ddf5a5640ba3\",\"type\":\"BasicTicker\"},{\"attributes\":{},\"id\":\"71bca4ac-701c-433c-b382-ca4d473c73a3\",\"type\":\"WheelZoomTool\"},{\"attributes\":{\"data_source\":{\"id\":\"59a95443-d61d-461d-8dd8-2a85f8eaae54\",\"type\":\"ColumnDataSource\"},\"glyph\":{\"id\":\"e4cd76c7-6ae1-4162-95be-1bd93281c0c1\",\"type\":\"Segment\"},\"hover_glyph\":null,\"muted_glyph\":null,\"nonselection_glyph\":{\"id\":\"a15e97f9-efbf-4019-a74d-9c2e11e78917\",\"type\":\"Segment\"},\"selection_glyph\":null,\"view\":{\"id\":\"ad624a1e-8ca6-40f8-9ee2-483883e18ff2\",\"type\":\"CDSView\"}},\"id\":\"e9d2aa48-0f09-4530-86b2-de7b5fcb4373\",\"type\":\"GlyphRenderer\"},{\"attributes\":{\"bottom_units\":\"screen\",\"fill_alpha\":{\"value\":0.5},\"fill_color\":{\"value\":\"lightgrey\"},\"left_units\":\"screen\",\"level\":\"overlay\",\"line_alpha\":{\"value\":1.0},\"line_color\":{\"value\":\"black\"},\"line_dash\":[4,4],\"line_width\":{\"value\":2},\"plot\":null,\"render_mode\":\"css\",\"right_units\":\"screen\",\"top_units\":\"screen\"},\"id\":\"0382fc93-9932-4387-b4c8-37144efb5997\",\"type\":\"BoxAnnotation\"},{\"attributes\":{},\"id\":\"f11e607e-d537-482e-bba9-e2ecf76c1a3f\",\"type\":\"SaveTool\"},{\"attributes\":{\"factors\":[\"m3\",\"sc\",\"sk\"],\"palette\":[\"#4e79a7\",\"#f28e2b\",\"#e15759\",\"#76b7b2\",\"#59a14f\",\"#edc948\",\"#b07aa1\",\"#ff9da7\",\"#9c755f\",\"#bab0ac\"]},\"id\":\"a50197de-80d5-46c9-9f51-9ac8fd9d7839\",\"type\":\"CategoricalColorMapper\"},{\"attributes\":{\"callback\":null,\"data\":{\"F\":[19436.63,8358.995,9540.503,6910.673],\"G\":[\"sc\",\"sc\",\"sc\",\"sk\"],\"__label\":[\"sc\",\"sc\",\"sc\",\"sk\"],\"cat\":[\"sc\",\"sc\",\"sc\",\"sk\"]},\"selected\":{\"id\":\"e48a29e7-36a6-405e-b340-04943e1c6eaa\",\"type\":\"Selection\"},\"selection_policy\":{\"id\":\"b9c3a309-6bcf-4a1f-b7c5-f54cb099035a\",\"type\":\"UnionRenderers\"}},\"id\":\"ef8e7476-2c6c-4eba-b0ce-6bec87fb9d35\",\"type\":\"ColumnDataSource\"},{\"attributes\":{\"fill_alpha\":{\"value\":0.1},\"fill_color\":{\"value\":\"#1f77b4\"},\"height\":{\"value\":0.1},\"left\":{\"field\":\"bottom_whisker\"},\"line_alpha\":{\"value\":0.1},\"line_color\":{\"value\":\"#1f77b4\"},\"right\":{\"field\":\"bottom_whisker\"},\"y\":{\"field\":\"cat\"}},\"id\":\"b580b556-3802-496b-9aed-728c098491a7\",\"type\":\"HBar\"},{\"attributes\":{},\"id\":\"4be96497-b6b8-4528-9032-395a778c8443\",\"type\":\"HelpTool\"},{\"attributes\":{\"data_source\":{\"id\":\"59a95443-d61d-461d-8dd8-2a85f8eaae54\",\"type\":\"ColumnDataSource\"},\"glyph\":{\"id\":\"f0dddc35-ef98-478a-afea-211dfd8c749e\",\"type\":\"HBar\"},\"hover_glyph\":null,\"muted_glyph\":null,\"nonselection_glyph\":{\"id\":\"b580b556-3802-496b-9aed-728c098491a7\",\"type\":\"HBar\"},\"selection_glyph\":null,\"view\":{\"id\":\"2c284d26-150d-4492-a26b-4690c020871d\",\"type\":\"CDSView\"}},\"id\":\"0ef2f4d6-3d26-4812-8b20-eaa30e91981f\",\"type\":\"GlyphRenderer\"},{\"attributes\":{\"line_alpha\":{\"value\":0.1},\"line_color\":{\"value\":\"#1f77b4\"},\"x0\":{\"field\":\"top\"},\"x1\":{\"field\":\"top_whisker\"},\"y0\":{\"field\":\"cat\"},\"y1\":{\"field\":\"cat\"}},\"id\":\"d06af306-ccf4-45fb-b16a-4bc2d86fd1af\",\"type\":\"Segment\"},{\"attributes\":{},\"id\":\"3e099d6a-820b-4a75-a10e-d4a320e3f075\",\"type\":\"BasicTickFormatter\"},{\"attributes\":{\"source\":{\"id\":\"59a95443-d61d-461d-8dd8-2a85f8eaae54\",\"type\":\"ColumnDataSource\"}},\"id\":\"2c284d26-150d-4492-a26b-4690c020871d\",\"type\":\"CDSView\"},{\"attributes\":{},\"id\":\"4869b05b-0a15-4f9c-af82-b763eb34c5d8\",\"type\":\"Selection\"},{\"attributes\":{},\"id\":\"7347df09-1bbf-4547-9da1-efe87d8efaaf\",\"type\":\"CategoricalTickFormatter\"},{\"attributes\":{\"source\":{\"id\":\"59a95443-d61d-461d-8dd8-2a85f8eaae54\",\"type\":\"ColumnDataSource\"}},\"id\":\"0a690133-d98e-4970-86bb-a9c517c160b4\",\"type\":\"CDSView\"},{\"attributes\":{\"fill_alpha\":{\"value\":0.2},\"fill_color\":{\"field\":\"cat\",\"transform\":{\"id\":\"a50197de-80d5-46c9-9f51-9ac8fd9d7839\",\"type\":\"CategoricalColorMapper\"}},\"height\":{\"value\":0.4},\"left\":{\"field\":\"bottom\"},\"right\":{\"field\":\"top\"},\"y\":{\"field\":\"cat\"}},\"id\":\"013ac5d7-9837-4d4f-95b5-11ec52ac9f3c\",\"type\":\"HBar\"},{\"attributes\":{\"fill_alpha\":{\"value\":0.1},\"fill_color\":{\"value\":\"#1f77b4\"},\"height\":{\"value\":0.4},\"left\":{\"field\":\"bottom\"},\"line_alpha\":{\"value\":0.1},\"line_color\":{\"value\":\"#1f77b4\"},\"right\":{\"field\":\"top\"},\"y\":{\"field\":\"cat\"}},\"id\":\"f6324d27-c47c-4ddd-9af5-35a902ce523a\",\"type\":\"HBar\"},{\"attributes\":{},\"id\":\"bac5f966-65a2-434a-9063-1c283e174988\",\"type\":\"PanTool\"},{\"attributes\":{},\"id\":\"b9c3a309-6bcf-4a1f-b7c5-f54cb099035a\",\"type\":\"UnionRenderers\"},{\"attributes\":{\"data_source\":{\"id\":\"59a95443-d61d-461d-8dd8-2a85f8eaae54\",\"type\":\"ColumnDataSource\"},\"glyph\":{\"id\":\"013ac5d7-9837-4d4f-95b5-11ec52ac9f3c\",\"type\":\"HBar\"},\"hover_glyph\":null,\"muted_glyph\":null,\"nonselection_glyph\":{\"id\":\"f6324d27-c47c-4ddd-9af5-35a902ce523a\",\"type\":\"HBar\"},\"selection_glyph\":null,\"view\":{\"id\":\"a9e3e368-f2f9-410c-90c9-4befb03c7261\",\"type\":\"CDSView\"}},\"id\":\"50d1d69c-df21-4a37-bdc6-e6b3ccb8660c\",\"type\":\"GlyphRenderer\"},{\"attributes\":{},\"id\":\"c1f0df4d-344a-45d4-a202-440b9661b841\",\"type\":\"ResetTool\"},{\"attributes\":{\"formatter\":{\"id\":\"3e099d6a-820b-4a75-a10e-d4a320e3f075\",\"type\":\"BasicTickFormatter\"},\"plot\":{\"id\":\"e4d47c9b-663a-4693-9710-6d960fb0cdae\",\"subtype\":\"Figure\",\"type\":\"Plot\"},\"ticker\":{\"id\":\"4ac49d95-a611-4496-afef-ddf5a5640ba3\",\"type\":\"BasicTicker\"}},\"id\":\"1ea6501a-1fb8-4ffc-88a4-8af068ff422e\",\"type\":\"LinearAxis\"},{\"attributes\":{\"source\":{\"id\":\"59a95443-d61d-461d-8dd8-2a85f8eaae54\",\"type\":\"ColumnDataSource\"}},\"id\":\"a9e3e368-f2f9-410c-90c9-4befb03c7261\",\"type\":\"CDSView\"},{\"attributes\":{\"overlay\":{\"id\":\"0382fc93-9932-4387-b4c8-37144efb5997\",\"type\":\"BoxAnnotation\"}},\"id\":\"60e53cc2-4cc3-41a0-a83d-b3f3d4f39478\",\"type\":\"BoxZoomTool\"},{\"attributes\":{\"plot\":{\"id\":\"e4d47c9b-663a-4693-9710-6d960fb0cdae\",\"subtype\":\"Figure\",\"type\":\"Plot\"},\"ticker\":{\"id\":\"4ac49d95-a611-4496-afef-ddf5a5640ba3\",\"type\":\"BasicTicker\"}},\"id\":\"512a4bea-4df2-43d7-a1bf-980c961ce858\",\"type\":\"Grid\"},{\"attributes\":{\"fill_alpha\":{\"value\":0.2},\"fill_color\":{\"field\":\"cat\",\"transform\":{\"id\":\"a50197de-80d5-46c9-9f51-9ac8fd9d7839\",\"type\":\"CategoricalColorMapper\"}},\"height\":{\"value\":0.4},\"left\":{\"field\":\"middle\"},\"right\":{\"field\":\"middle\"},\"y\":{\"field\":\"cat\"}},\"id\":\"52727770-582f-4d3c-99f9-8d0a435d16b7\",\"type\":\"HBar\"},{\"attributes\":{\"factors\":[\"m3\",\"sc\",\"sk\"],\"palette\":[\"#4e79a7\",\"#f28e2b\",\"#e15759\",\"#76b7b2\",\"#59a14f\",\"#edc948\",\"#b07aa1\",\"#ff9da7\",\"#9c755f\",\"#bab0ac\"]},\"id\":\"a44632ab-c565-4644-adc6-4d6bf94675b4\",\"type\":\"CategoricalColorMapper\"},{\"attributes\":{\"factors\":[\"m3\",\"sc\",\"sk\"],\"palette\":[\"#4e79a7\",\"#f28e2b\",\"#e15759\",\"#76b7b2\",\"#59a14f\",\"#edc948\",\"#b07aa1\",\"#ff9da7\",\"#9c755f\",\"#bab0ac\"]},\"id\":\"c558b39b-1286-4465-a745-d528ce02b40a\",\"type\":\"CategoricalColorMapper\"},{\"attributes\":{\"data_source\":{\"id\":\"59a95443-d61d-461d-8dd8-2a85f8eaae54\",\"type\":\"ColumnDataSource\"},\"glyph\":{\"id\":\"b5659588-032f-47d8-a40a-58985d9c0e18\",\"type\":\"Segment\"},\"hover_glyph\":null,\"muted_glyph\":null,\"nonselection_glyph\":{\"id\":\"d06af306-ccf4-45fb-b16a-4bc2d86fd1af\",\"type\":\"Segment\"},\"selection_glyph\":null,\"view\":{\"id\":\"0a690133-d98e-4970-86bb-a9c517c160b4\",\"type\":\"CDSView\"}},\"id\":\"b9d56041-de4c-4748-9f96-8d18e7a99ded\",\"type\":\"GlyphRenderer\"},{\"attributes\":{\"fill_alpha\":{\"value\":0.1},\"fill_color\":{\"value\":\"#1f77b4\"},\"height\":{\"value\":0.4},\"left\":{\"field\":\"middle\"},\"line_alpha\":{\"value\":0.1},\"line_color\":{\"value\":\"#1f77b4\"},\"right\":{\"field\":\"middle\"},\"y\":{\"field\":\"cat\"}},\"id\":\"b243a3f3-b4a0-4722-b252-55df6e2a98a9\",\"type\":\"HBar\"},{\"attributes\":{},\"id\":\"71841a76-7d51-4ad5-927d-5bcc428af878\",\"type\":\"UnionRenderers\"},{\"attributes\":{\"data_source\":{\"id\":\"59a95443-d61d-461d-8dd8-2a85f8eaae54\",\"type\":\"ColumnDataSource\"},\"glyph\":{\"id\":\"52727770-582f-4d3c-99f9-8d0a435d16b7\",\"type\":\"HBar\"},\"hover_glyph\":null,\"muted_glyph\":null,\"nonselection_glyph\":{\"id\":\"b243a3f3-b4a0-4722-b252-55df6e2a98a9\",\"type\":\"HBar\"},\"selection_glyph\":null,\"view\":{\"id\":\"1089b8b3-e07a-4a4c-8009-f2dbb56c2c0a\",\"type\":\"CDSView\"}},\"id\":\"eaa67a65-49b6-4e15-967a-e77551bac8db\",\"type\":\"GlyphRenderer\"},{\"attributes\":{\"source\":{\"id\":\"59a95443-d61d-461d-8dd8-2a85f8eaae54\",\"type\":\"ColumnDataSource\"}},\"id\":\"1089b8b3-e07a-4a4c-8009-f2dbb56c2c0a\",\"type\":\"CDSView\"}],\"root_ids\":[\"e4d47c9b-663a-4693-9710-6d960fb0cdae\"]},\"title\":\"Bokeh Application\",\"version\":\"0.13.0\"}};\n",
       "  var render_items = [{\"docid\":\"f2a1003e-4950-4427-8d60-c6e71f0bbbab\",\"roots\":{\"e4d47c9b-663a-4693-9710-6d960fb0cdae\":\"44c3474a-d051-43d5-ad5e-85d366341c39\"}}];\n",
       "  root.Bokeh.embed.embed_items_notebook(docs_json, render_items);\n",
       "\n",
       "  }\n",
       "  if (root.Bokeh !== undefined) {\n",
       "    embed_document(root);\n",
       "  } else {\n",
       "    var attempts = 0;\n",
       "    var timer = setInterval(function(root) {\n",
       "      if (root.Bokeh !== undefined) {\n",
       "        embed_document(root);\n",
       "        clearInterval(timer);\n",
       "      }\n",
       "      attempts++;\n",
       "      if (attempts > 100) {\n",
       "        console.log(\"Bokeh: ERROR: Unable to run BokehJS code because BokehJS library is missing\")\n",
       "        clearInterval(timer);\n",
       "      }\n",
       "    }, 10, root)\n",
       "  }\n",
       "})(window);"
      ],
      "application/vnd.bokehjs_exec.v0+json": ""
     },
     "metadata": {
      "application/vnd.bokehjs_exec.v0+json": {
       "id": "e4d47c9b-663a-4693-9710-6d960fb0cdae"
      }
     },
     "output_type": "display_data"
    }
   ],
   "source": [
    "def \n",
    "# Box plot\n",
    "p = bebi103.viz.box(data=df_tidy.loc[df_tidy['T'] == '25',:], \n",
    "                    cats='G',\n",
    "                    val='F',\n",
    "                    y_axis_label=None,\n",
    "                    box_kwargs={'fill_alpha': 0.2},\n",
    "                    horizontal=True)\n",
    "\n",
    "# Add jitter; note kwarg p=p to add to existing figure\n",
    "p = bebi103.viz.jitter(data=df_tidy.loc[df_tidy['T'] == '25',:], \n",
    "                       cats='G',\n",
    "                       val='F',\n",
    "                       horizontal=True,\n",
    "                       p=p)\n",
    "bokeh.io.show(p)"
   ]
  },
  {
   "cell_type": "code",
   "execution_count": null,
   "metadata": {},
   "outputs": [],
   "source": [
    "p3 = altcat.catplot(data=df_tidy,\n",
    "               mark = 'point',\n",
    "               encoding=dict(x=alt.X('G:N', title=None),\n",
    "                             y='F:Q',\n",
    "                             color=alt.Color('G:N', title='G'),\n",
    "                             column=alt.Column('T:Q', title='T')),\n",
    "               transform='jitterbox',\n",
    "               height = 200,\n",
    "               width = 300\n",
    "              )\n",
    "p3"
   ]
  },
  {
   "cell_type": "code",
   "execution_count": null,
   "metadata": {},
   "outputs": [],
   "source": []
  }
 ],
 "metadata": {
  "kernelspec": {
   "display_name": "Python 3",
   "language": "python",
   "name": "python3"
  },
  "language_info": {
   "codemirror_mode": {
    "name": "ipython",
    "version": 3
   },
   "file_extension": ".py",
   "mimetype": "text/x-python",
   "name": "python",
   "nbconvert_exporter": "python",
   "pygments_lexer": "ipython3",
   "version": "3.7.0"
  }
 },
 "nbformat": 4,
 "nbformat_minor": 2
}
