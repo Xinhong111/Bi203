{
 "cells": [
  {
   "cell_type": "code",
   "execution_count": 1,
   "metadata": {},
   "outputs": [
    {
     "data": {
      "text/html": [
       "\n",
       "    <div class=\"bk-root\">\n",
       "        <a href=\"https://bokeh.pydata.org\" target=\"_blank\" class=\"bk-logo bk-logo-small bk-logo-notebook\"></a>\n",
       "        <span id=\"c2a0e906-ac5e-4f2e-ad10-3045148a45ed\">Loading BokehJS ...</span>\n",
       "    </div>"
      ]
     },
     "metadata": {},
     "output_type": "display_data"
    },
    {
     "data": {
      "application/javascript": [
       "\n",
       "(function(root) {\n",
       "  function now() {\n",
       "    return new Date();\n",
       "  }\n",
       "\n",
       "  var force = true;\n",
       "\n",
       "  if (typeof (root._bokeh_onload_callbacks) === \"undefined\" || force === true) {\n",
       "    root._bokeh_onload_callbacks = [];\n",
       "    root._bokeh_is_loading = undefined;\n",
       "  }\n",
       "\n",
       "  var JS_MIME_TYPE = 'application/javascript';\n",
       "  var HTML_MIME_TYPE = 'text/html';\n",
       "  var EXEC_MIME_TYPE = 'application/vnd.bokehjs_exec.v0+json';\n",
       "  var CLASS_NAME = 'output_bokeh rendered_html';\n",
       "\n",
       "  /**\n",
       "   * Render data to the DOM node\n",
       "   */\n",
       "  function render(props, node) {\n",
       "    var script = document.createElement(\"script\");\n",
       "    node.appendChild(script);\n",
       "  }\n",
       "\n",
       "  /**\n",
       "   * Handle when an output is cleared or removed\n",
       "   */\n",
       "  function handleClearOutput(event, handle) {\n",
       "    var cell = handle.cell;\n",
       "\n",
       "    var id = cell.output_area._bokeh_element_id;\n",
       "    var server_id = cell.output_area._bokeh_server_id;\n",
       "    // Clean up Bokeh references\n",
       "    if (id != null && id in Bokeh.index) {\n",
       "      Bokeh.index[id].model.document.clear();\n",
       "      delete Bokeh.index[id];\n",
       "    }\n",
       "\n",
       "    if (server_id !== undefined) {\n",
       "      // Clean up Bokeh references\n",
       "      var cmd = \"from bokeh.io.state import curstate; print(curstate().uuid_to_server['\" + server_id + \"'].get_sessions()[0].document.roots[0]._id)\";\n",
       "      cell.notebook.kernel.execute(cmd, {\n",
       "        iopub: {\n",
       "          output: function(msg) {\n",
       "            var id = msg.content.text.trim();\n",
       "            if (id in Bokeh.index) {\n",
       "              Bokeh.index[id].model.document.clear();\n",
       "              delete Bokeh.index[id];\n",
       "            }\n",
       "          }\n",
       "        }\n",
       "      });\n",
       "      // Destroy server and session\n",
       "      var cmd = \"import bokeh.io.notebook as ion; ion.destroy_server('\" + server_id + \"')\";\n",
       "      cell.notebook.kernel.execute(cmd);\n",
       "    }\n",
       "  }\n",
       "\n",
       "  /**\n",
       "   * Handle when a new output is added\n",
       "   */\n",
       "  function handleAddOutput(event, handle) {\n",
       "    var output_area = handle.output_area;\n",
       "    var output = handle.output;\n",
       "\n",
       "    // limit handleAddOutput to display_data with EXEC_MIME_TYPE content only\n",
       "    if ((output.output_type != \"display_data\") || (!output.data.hasOwnProperty(EXEC_MIME_TYPE))) {\n",
       "      return\n",
       "    }\n",
       "\n",
       "    var toinsert = output_area.element.find(\".\" + CLASS_NAME.split(' ')[0]);\n",
       "\n",
       "    if (output.metadata[EXEC_MIME_TYPE][\"id\"] !== undefined) {\n",
       "      toinsert[toinsert.length - 1].firstChild.textContent = output.data[JS_MIME_TYPE];\n",
       "      // store reference to embed id on output_area\n",
       "      output_area._bokeh_element_id = output.metadata[EXEC_MIME_TYPE][\"id\"];\n",
       "    }\n",
       "    if (output.metadata[EXEC_MIME_TYPE][\"server_id\"] !== undefined) {\n",
       "      var bk_div = document.createElement(\"div\");\n",
       "      bk_div.innerHTML = output.data[HTML_MIME_TYPE];\n",
       "      var script_attrs = bk_div.children[0].attributes;\n",
       "      for (var i = 0; i < script_attrs.length; i++) {\n",
       "        toinsert[toinsert.length - 1].firstChild.setAttribute(script_attrs[i].name, script_attrs[i].value);\n",
       "      }\n",
       "      // store reference to server id on output_area\n",
       "      output_area._bokeh_server_id = output.metadata[EXEC_MIME_TYPE][\"server_id\"];\n",
       "    }\n",
       "  }\n",
       "\n",
       "  function register_renderer(events, OutputArea) {\n",
       "\n",
       "    function append_mime(data, metadata, element) {\n",
       "      // create a DOM node to render to\n",
       "      var toinsert = this.create_output_subarea(\n",
       "        metadata,\n",
       "        CLASS_NAME,\n",
       "        EXEC_MIME_TYPE\n",
       "      );\n",
       "      this.keyboard_manager.register_events(toinsert);\n",
       "      // Render to node\n",
       "      var props = {data: data, metadata: metadata[EXEC_MIME_TYPE]};\n",
       "      render(props, toinsert[toinsert.length - 1]);\n",
       "      element.append(toinsert);\n",
       "      return toinsert\n",
       "    }\n",
       "\n",
       "    /* Handle when an output is cleared or removed */\n",
       "    events.on('clear_output.CodeCell', handleClearOutput);\n",
       "    events.on('delete.Cell', handleClearOutput);\n",
       "\n",
       "    /* Handle when a new output is added */\n",
       "    events.on('output_added.OutputArea', handleAddOutput);\n",
       "\n",
       "    /**\n",
       "     * Register the mime type and append_mime function with output_area\n",
       "     */\n",
       "    OutputArea.prototype.register_mime_type(EXEC_MIME_TYPE, append_mime, {\n",
       "      /* Is output safe? */\n",
       "      safe: true,\n",
       "      /* Index of renderer in `output_area.display_order` */\n",
       "      index: 0\n",
       "    });\n",
       "  }\n",
       "\n",
       "  // register the mime type if in Jupyter Notebook environment and previously unregistered\n",
       "  if (root.Jupyter !== undefined) {\n",
       "    var events = require('base/js/events');\n",
       "    var OutputArea = require('notebook/js/outputarea').OutputArea;\n",
       "\n",
       "    if (OutputArea.prototype.mime_types().indexOf(EXEC_MIME_TYPE) == -1) {\n",
       "      register_renderer(events, OutputArea);\n",
       "    }\n",
       "  }\n",
       "\n",
       "  \n",
       "  if (typeof (root._bokeh_timeout) === \"undefined\" || force === true) {\n",
       "    root._bokeh_timeout = Date.now() + 5000;\n",
       "    root._bokeh_failed_load = false;\n",
       "  }\n",
       "\n",
       "  var NB_LOAD_WARNING = {'data': {'text/html':\n",
       "     \"<div style='background-color: #fdd'>\\n\"+\n",
       "     \"<p>\\n\"+\n",
       "     \"BokehJS does not appear to have successfully loaded. If loading BokehJS from CDN, this \\n\"+\n",
       "     \"may be due to a slow or bad network connection. Possible fixes:\\n\"+\n",
       "     \"</p>\\n\"+\n",
       "     \"<ul>\\n\"+\n",
       "     \"<li>re-rerun `output_notebook()` to attempt to load from CDN again, or</li>\\n\"+\n",
       "     \"<li>use INLINE resources instead, as so:</li>\\n\"+\n",
       "     \"</ul>\\n\"+\n",
       "     \"<code>\\n\"+\n",
       "     \"from bokeh.resources import INLINE\\n\"+\n",
       "     \"output_notebook(resources=INLINE)\\n\"+\n",
       "     \"</code>\\n\"+\n",
       "     \"</div>\"}};\n",
       "\n",
       "  function display_loaded() {\n",
       "    var el = document.getElementById(\"c2a0e906-ac5e-4f2e-ad10-3045148a45ed\");\n",
       "    if (el != null) {\n",
       "      el.textContent = \"BokehJS is loading...\";\n",
       "    }\n",
       "    if (root.Bokeh !== undefined) {\n",
       "      if (el != null) {\n",
       "        el.textContent = \"BokehJS \" + root.Bokeh.version + \" successfully loaded.\";\n",
       "      }\n",
       "    } else if (Date.now() < root._bokeh_timeout) {\n",
       "      setTimeout(display_loaded, 100)\n",
       "    }\n",
       "  }\n",
       "\n",
       "\n",
       "  function run_callbacks() {\n",
       "    try {\n",
       "      root._bokeh_onload_callbacks.forEach(function(callback) { callback() });\n",
       "    }\n",
       "    finally {\n",
       "      delete root._bokeh_onload_callbacks\n",
       "    }\n",
       "    console.info(\"Bokeh: all callbacks have finished\");\n",
       "  }\n",
       "\n",
       "  function load_libs(js_urls, callback) {\n",
       "    root._bokeh_onload_callbacks.push(callback);\n",
       "    if (root._bokeh_is_loading > 0) {\n",
       "      console.log(\"Bokeh: BokehJS is being loaded, scheduling callback at\", now());\n",
       "      return null;\n",
       "    }\n",
       "    if (js_urls == null || js_urls.length === 0) {\n",
       "      run_callbacks();\n",
       "      return null;\n",
       "    }\n",
       "    console.log(\"Bokeh: BokehJS not loaded, scheduling load and callback at\", now());\n",
       "    root._bokeh_is_loading = js_urls.length;\n",
       "    for (var i = 0; i < js_urls.length; i++) {\n",
       "      var url = js_urls[i];\n",
       "      var s = document.createElement('script');\n",
       "      s.src = url;\n",
       "      s.async = false;\n",
       "      s.onreadystatechange = s.onload = function() {\n",
       "        root._bokeh_is_loading--;\n",
       "        if (root._bokeh_is_loading === 0) {\n",
       "          console.log(\"Bokeh: all BokehJS libraries loaded\");\n",
       "          run_callbacks()\n",
       "        }\n",
       "      };\n",
       "      s.onerror = function() {\n",
       "        console.warn(\"failed to load library \" + url);\n",
       "      };\n",
       "      console.log(\"Bokeh: injecting script tag for BokehJS library: \", url);\n",
       "      document.getElementsByTagName(\"head\")[0].appendChild(s);\n",
       "    }\n",
       "  };var element = document.getElementById(\"c2a0e906-ac5e-4f2e-ad10-3045148a45ed\");\n",
       "  if (element == null) {\n",
       "    console.log(\"Bokeh: ERROR: autoload.js configured with elementid 'c2a0e906-ac5e-4f2e-ad10-3045148a45ed' but no matching script tag was found. \")\n",
       "    return false;\n",
       "  }\n",
       "\n",
       "  var js_urls = [\"https://cdn.pydata.org/bokeh/release/bokeh-0.13.0.min.js\", \"https://cdn.pydata.org/bokeh/release/bokeh-widgets-0.13.0.min.js\", \"https://cdn.pydata.org/bokeh/release/bokeh-tables-0.13.0.min.js\", \"https://cdn.pydata.org/bokeh/release/bokeh-gl-0.13.0.min.js\"];\n",
       "\n",
       "  var inline_js = [\n",
       "    function(Bokeh) {\n",
       "      Bokeh.set_log_level(\"info\");\n",
       "    },\n",
       "    \n",
       "    function(Bokeh) {\n",
       "      \n",
       "    },\n",
       "    function(Bokeh) {\n",
       "      console.log(\"Bokeh: injecting CSS: https://cdn.pydata.org/bokeh/release/bokeh-0.13.0.min.css\");\n",
       "      Bokeh.embed.inject_css(\"https://cdn.pydata.org/bokeh/release/bokeh-0.13.0.min.css\");\n",
       "      console.log(\"Bokeh: injecting CSS: https://cdn.pydata.org/bokeh/release/bokeh-widgets-0.13.0.min.css\");\n",
       "      Bokeh.embed.inject_css(\"https://cdn.pydata.org/bokeh/release/bokeh-widgets-0.13.0.min.css\");\n",
       "      console.log(\"Bokeh: injecting CSS: https://cdn.pydata.org/bokeh/release/bokeh-tables-0.13.0.min.css\");\n",
       "      Bokeh.embed.inject_css(\"https://cdn.pydata.org/bokeh/release/bokeh-tables-0.13.0.min.css\");\n",
       "    }\n",
       "  ];\n",
       "\n",
       "  function run_inline_js() {\n",
       "    \n",
       "    if ((root.Bokeh !== undefined) || (force === true)) {\n",
       "      for (var i = 0; i < inline_js.length; i++) {\n",
       "        inline_js[i].call(root, root.Bokeh);\n",
       "      }if (force === true) {\n",
       "        display_loaded();\n",
       "      }} else if (Date.now() < root._bokeh_timeout) {\n",
       "      setTimeout(run_inline_js, 100);\n",
       "    } else if (!root._bokeh_failed_load) {\n",
       "      console.log(\"Bokeh: BokehJS failed to load within specified timeout.\");\n",
       "      root._bokeh_failed_load = true;\n",
       "    } else if (force !== true) {\n",
       "      var cell = $(document.getElementById(\"c2a0e906-ac5e-4f2e-ad10-3045148a45ed\")).parents('.cell').data().cell;\n",
       "      cell.output_area.append_execute_result(NB_LOAD_WARNING)\n",
       "    }\n",
       "\n",
       "  }\n",
       "\n",
       "  if (root._bokeh_is_loading === 0) {\n",
       "    console.log(\"Bokeh: BokehJS loaded, going straight to plotting\");\n",
       "    run_inline_js();\n",
       "  } else {\n",
       "    load_libs(js_urls, function() {\n",
       "      console.log(\"Bokeh: BokehJS plotting callback run at\", now());\n",
       "      run_inline_js();\n",
       "    });\n",
       "  }\n",
       "}(window));"
      ],
      "application/vnd.bokehjs_load.v0+json": "\n(function(root) {\n  function now() {\n    return new Date();\n  }\n\n  var force = true;\n\n  if (typeof (root._bokeh_onload_callbacks) === \"undefined\" || force === true) {\n    root._bokeh_onload_callbacks = [];\n    root._bokeh_is_loading = undefined;\n  }\n\n  \n\n  \n  if (typeof (root._bokeh_timeout) === \"undefined\" || force === true) {\n    root._bokeh_timeout = Date.now() + 5000;\n    root._bokeh_failed_load = false;\n  }\n\n  var NB_LOAD_WARNING = {'data': {'text/html':\n     \"<div style='background-color: #fdd'>\\n\"+\n     \"<p>\\n\"+\n     \"BokehJS does not appear to have successfully loaded. If loading BokehJS from CDN, this \\n\"+\n     \"may be due to a slow or bad network connection. Possible fixes:\\n\"+\n     \"</p>\\n\"+\n     \"<ul>\\n\"+\n     \"<li>re-rerun `output_notebook()` to attempt to load from CDN again, or</li>\\n\"+\n     \"<li>use INLINE resources instead, as so:</li>\\n\"+\n     \"</ul>\\n\"+\n     \"<code>\\n\"+\n     \"from bokeh.resources import INLINE\\n\"+\n     \"output_notebook(resources=INLINE)\\n\"+\n     \"</code>\\n\"+\n     \"</div>\"}};\n\n  function display_loaded() {\n    var el = document.getElementById(\"c2a0e906-ac5e-4f2e-ad10-3045148a45ed\");\n    if (el != null) {\n      el.textContent = \"BokehJS is loading...\";\n    }\n    if (root.Bokeh !== undefined) {\n      if (el != null) {\n        el.textContent = \"BokehJS \" + root.Bokeh.version + \" successfully loaded.\";\n      }\n    } else if (Date.now() < root._bokeh_timeout) {\n      setTimeout(display_loaded, 100)\n    }\n  }\n\n\n  function run_callbacks() {\n    try {\n      root._bokeh_onload_callbacks.forEach(function(callback) { callback() });\n    }\n    finally {\n      delete root._bokeh_onload_callbacks\n    }\n    console.info(\"Bokeh: all callbacks have finished\");\n  }\n\n  function load_libs(js_urls, callback) {\n    root._bokeh_onload_callbacks.push(callback);\n    if (root._bokeh_is_loading > 0) {\n      console.log(\"Bokeh: BokehJS is being loaded, scheduling callback at\", now());\n      return null;\n    }\n    if (js_urls == null || js_urls.length === 0) {\n      run_callbacks();\n      return null;\n    }\n    console.log(\"Bokeh: BokehJS not loaded, scheduling load and callback at\", now());\n    root._bokeh_is_loading = js_urls.length;\n    for (var i = 0; i < js_urls.length; i++) {\n      var url = js_urls[i];\n      var s = document.createElement('script');\n      s.src = url;\n      s.async = false;\n      s.onreadystatechange = s.onload = function() {\n        root._bokeh_is_loading--;\n        if (root._bokeh_is_loading === 0) {\n          console.log(\"Bokeh: all BokehJS libraries loaded\");\n          run_callbacks()\n        }\n      };\n      s.onerror = function() {\n        console.warn(\"failed to load library \" + url);\n      };\n      console.log(\"Bokeh: injecting script tag for BokehJS library: \", url);\n      document.getElementsByTagName(\"head\")[0].appendChild(s);\n    }\n  };var element = document.getElementById(\"c2a0e906-ac5e-4f2e-ad10-3045148a45ed\");\n  if (element == null) {\n    console.log(\"Bokeh: ERROR: autoload.js configured with elementid 'c2a0e906-ac5e-4f2e-ad10-3045148a45ed' but no matching script tag was found. \")\n    return false;\n  }\n\n  var js_urls = [\"https://cdn.pydata.org/bokeh/release/bokeh-0.13.0.min.js\", \"https://cdn.pydata.org/bokeh/release/bokeh-widgets-0.13.0.min.js\", \"https://cdn.pydata.org/bokeh/release/bokeh-tables-0.13.0.min.js\", \"https://cdn.pydata.org/bokeh/release/bokeh-gl-0.13.0.min.js\"];\n\n  var inline_js = [\n    function(Bokeh) {\n      Bokeh.set_log_level(\"info\");\n    },\n    \n    function(Bokeh) {\n      \n    },\n    function(Bokeh) {\n      console.log(\"Bokeh: injecting CSS: https://cdn.pydata.org/bokeh/release/bokeh-0.13.0.min.css\");\n      Bokeh.embed.inject_css(\"https://cdn.pydata.org/bokeh/release/bokeh-0.13.0.min.css\");\n      console.log(\"Bokeh: injecting CSS: https://cdn.pydata.org/bokeh/release/bokeh-widgets-0.13.0.min.css\");\n      Bokeh.embed.inject_css(\"https://cdn.pydata.org/bokeh/release/bokeh-widgets-0.13.0.min.css\");\n      console.log(\"Bokeh: injecting CSS: https://cdn.pydata.org/bokeh/release/bokeh-tables-0.13.0.min.css\");\n      Bokeh.embed.inject_css(\"https://cdn.pydata.org/bokeh/release/bokeh-tables-0.13.0.min.css\");\n    }\n  ];\n\n  function run_inline_js() {\n    \n    if ((root.Bokeh !== undefined) || (force === true)) {\n      for (var i = 0; i < inline_js.length; i++) {\n        inline_js[i].call(root, root.Bokeh);\n      }if (force === true) {\n        display_loaded();\n      }} else if (Date.now() < root._bokeh_timeout) {\n      setTimeout(run_inline_js, 100);\n    } else if (!root._bokeh_failed_load) {\n      console.log(\"Bokeh: BokehJS failed to load within specified timeout.\");\n      root._bokeh_failed_load = true;\n    } else if (force !== true) {\n      var cell = $(document.getElementById(\"c2a0e906-ac5e-4f2e-ad10-3045148a45ed\")).parents('.cell').data().cell;\n      cell.output_area.append_execute_result(NB_LOAD_WARNING)\n    }\n\n  }\n\n  if (root._bokeh_is_loading === 0) {\n    console.log(\"Bokeh: BokehJS loaded, going straight to plotting\");\n    run_inline_js();\n  } else {\n    load_libs(js_urls, function() {\n      console.log(\"Bokeh: BokehJS plotting callback run at\", now());\n      run_inline_js();\n    });\n  }\n}(window));"
     },
     "metadata": {},
     "output_type": "display_data"
    }
   ],
   "source": [
    "import glob\n",
    "import os\n",
    "\n",
    "import numpy as np\n",
    "import pandas as pd\n",
    "import scipy.signal\n",
    "\n",
    "import altair as alt\n",
    "import altair_catplot as altcat\n",
    "\n",
    "# Image processing tools\n",
    "import skimage\n",
    "import skimage.io\n",
    "\n",
    "import bebi103\n",
    "\n",
    "import bokeh\n",
    "bokeh.io.output_notebook()"
   ]
  },
  {
   "cell_type": "code",
   "execution_count": 2,
   "metadata": {},
   "outputs": [
    {
     "name": "stdout",
     "output_type": "stream",
     "text": [
      "/Users/Sanyo 1/git\n"
     ]
    }
   ],
   "source": [
    "cd ~/git"
   ]
  },
  {
   "cell_type": "code",
   "execution_count": 3,
   "metadata": {},
   "outputs": [],
   "source": [
    "int_day = np.genfromtxt('day_intotal_all.csv', delimiter=',')\n",
    "t_day = int_day[-1]\n",
    "int_day = int_day[0:-1]\n",
    "\n",
    "int_night = np.genfromtxt('night_intotal_all.csv', delimiter=',')\n",
    "t_night = int_night[-1]\n",
    "int_night = int_night[0:-1]"
   ]
  },
  {
   "cell_type": "code",
   "execution_count": 9,
   "metadata": {},
   "outputs": [
    {
     "data": {
      "text/html": [
       "<div>\n",
       "<style scoped>\n",
       "    .dataframe tbody tr th:only-of-type {\n",
       "        vertical-align: middle;\n",
       "    }\n",
       "\n",
       "    .dataframe tbody tr th {\n",
       "        vertical-align: top;\n",
       "    }\n",
       "\n",
       "    .dataframe thead th {\n",
       "        text-align: right;\n",
       "    }\n",
       "</style>\n",
       "<table border=\"1\" class=\"dataframe\">\n",
       "  <thead>\n",
       "    <tr style=\"text-align: right;\">\n",
       "      <th></th>\n",
       "      <th>P</th>\n",
       "      <th>Day</th>\n",
       "      <th>ID</th>\n",
       "    </tr>\n",
       "  </thead>\n",
       "  <tbody>\n",
       "    <tr>\n",
       "      <th>0</th>\n",
       "      <td>13</td>\n",
       "      <td>True</td>\n",
       "      <td>0</td>\n",
       "    </tr>\n",
       "    <tr>\n",
       "      <th>1</th>\n",
       "      <td>12</td>\n",
       "      <td>True</td>\n",
       "      <td>0</td>\n",
       "    </tr>\n",
       "    <tr>\n",
       "      <th>2</th>\n",
       "      <td>12</td>\n",
       "      <td>True</td>\n",
       "      <td>0</td>\n",
       "    </tr>\n",
       "    <tr>\n",
       "      <th>3</th>\n",
       "      <td>12</td>\n",
       "      <td>True</td>\n",
       "      <td>0</td>\n",
       "    </tr>\n",
       "    <tr>\n",
       "      <th>4</th>\n",
       "      <td>13</td>\n",
       "      <td>True</td>\n",
       "      <td>0</td>\n",
       "    </tr>\n",
       "    <tr>\n",
       "      <th>5</th>\n",
       "      <td>11</td>\n",
       "      <td>True</td>\n",
       "      <td>0</td>\n",
       "    </tr>\n",
       "    <tr>\n",
       "      <th>6</th>\n",
       "      <td>11</td>\n",
       "      <td>True</td>\n",
       "      <td>0</td>\n",
       "    </tr>\n",
       "    <tr>\n",
       "      <th>7</th>\n",
       "      <td>13</td>\n",
       "      <td>True</td>\n",
       "      <td>0</td>\n",
       "    </tr>\n",
       "    <tr>\n",
       "      <th>8</th>\n",
       "      <td>12</td>\n",
       "      <td>True</td>\n",
       "      <td>0</td>\n",
       "    </tr>\n",
       "    <tr>\n",
       "      <th>9</th>\n",
       "      <td>12</td>\n",
       "      <td>True</td>\n",
       "      <td>0</td>\n",
       "    </tr>\n",
       "    <tr>\n",
       "      <th>10</th>\n",
       "      <td>11</td>\n",
       "      <td>True</td>\n",
       "      <td>0</td>\n",
       "    </tr>\n",
       "    <tr>\n",
       "      <th>11</th>\n",
       "      <td>12</td>\n",
       "      <td>True</td>\n",
       "      <td>0</td>\n",
       "    </tr>\n",
       "    <tr>\n",
       "      <th>12</th>\n",
       "      <td>12</td>\n",
       "      <td>True</td>\n",
       "      <td>0</td>\n",
       "    </tr>\n",
       "    <tr>\n",
       "      <th>13</th>\n",
       "      <td>11</td>\n",
       "      <td>True</td>\n",
       "      <td>0</td>\n",
       "    </tr>\n",
       "    <tr>\n",
       "      <th>14</th>\n",
       "      <td>12</td>\n",
       "      <td>True</td>\n",
       "      <td>0</td>\n",
       "    </tr>\n",
       "    <tr>\n",
       "      <th>15</th>\n",
       "      <td>12</td>\n",
       "      <td>True</td>\n",
       "      <td>0</td>\n",
       "    </tr>\n",
       "    <tr>\n",
       "      <th>16</th>\n",
       "      <td>11</td>\n",
       "      <td>True</td>\n",
       "      <td>0</td>\n",
       "    </tr>\n",
       "    <tr>\n",
       "      <th>17</th>\n",
       "      <td>13</td>\n",
       "      <td>True</td>\n",
       "      <td>0</td>\n",
       "    </tr>\n",
       "    <tr>\n",
       "      <th>18</th>\n",
       "      <td>11</td>\n",
       "      <td>True</td>\n",
       "      <td>0</td>\n",
       "    </tr>\n",
       "    <tr>\n",
       "      <th>19</th>\n",
       "      <td>12</td>\n",
       "      <td>True</td>\n",
       "      <td>0</td>\n",
       "    </tr>\n",
       "    <tr>\n",
       "      <th>20</th>\n",
       "      <td>11</td>\n",
       "      <td>True</td>\n",
       "      <td>0</td>\n",
       "    </tr>\n",
       "    <tr>\n",
       "      <th>21</th>\n",
       "      <td>13</td>\n",
       "      <td>True</td>\n",
       "      <td>0</td>\n",
       "    </tr>\n",
       "    <tr>\n",
       "      <th>22</th>\n",
       "      <td>10</td>\n",
       "      <td>True</td>\n",
       "      <td>0</td>\n",
       "    </tr>\n",
       "    <tr>\n",
       "      <th>23</th>\n",
       "      <td>13</td>\n",
       "      <td>True</td>\n",
       "      <td>0</td>\n",
       "    </tr>\n",
       "    <tr>\n",
       "      <th>24</th>\n",
       "      <td>11</td>\n",
       "      <td>True</td>\n",
       "      <td>0</td>\n",
       "    </tr>\n",
       "    <tr>\n",
       "      <th>25</th>\n",
       "      <td>12</td>\n",
       "      <td>True</td>\n",
       "      <td>0</td>\n",
       "    </tr>\n",
       "    <tr>\n",
       "      <th>26</th>\n",
       "      <td>12</td>\n",
       "      <td>True</td>\n",
       "      <td>0</td>\n",
       "    </tr>\n",
       "    <tr>\n",
       "      <th>27</th>\n",
       "      <td>12</td>\n",
       "      <td>True</td>\n",
       "      <td>0</td>\n",
       "    </tr>\n",
       "    <tr>\n",
       "      <th>28</th>\n",
       "      <td>11</td>\n",
       "      <td>True</td>\n",
       "      <td>0</td>\n",
       "    </tr>\n",
       "    <tr>\n",
       "      <th>29</th>\n",
       "      <td>13</td>\n",
       "      <td>True</td>\n",
       "      <td>0</td>\n",
       "    </tr>\n",
       "    <tr>\n",
       "      <th>...</th>\n",
       "      <td>...</td>\n",
       "      <td>...</td>\n",
       "      <td>...</td>\n",
       "    </tr>\n",
       "    <tr>\n",
       "      <th>3296</th>\n",
       "      <td>53</td>\n",
       "      <td>False</td>\n",
       "      <td>7</td>\n",
       "    </tr>\n",
       "    <tr>\n",
       "      <th>3297</th>\n",
       "      <td>21</td>\n",
       "      <td>False</td>\n",
       "      <td>7</td>\n",
       "    </tr>\n",
       "    <tr>\n",
       "      <th>3298</th>\n",
       "      <td>21</td>\n",
       "      <td>False</td>\n",
       "      <td>7</td>\n",
       "    </tr>\n",
       "    <tr>\n",
       "      <th>3299</th>\n",
       "      <td>152</td>\n",
       "      <td>False</td>\n",
       "      <td>7</td>\n",
       "    </tr>\n",
       "    <tr>\n",
       "      <th>3300</th>\n",
       "      <td>18</td>\n",
       "      <td>False</td>\n",
       "      <td>7</td>\n",
       "    </tr>\n",
       "    <tr>\n",
       "      <th>3301</th>\n",
       "      <td>14</td>\n",
       "      <td>False</td>\n",
       "      <td>7</td>\n",
       "    </tr>\n",
       "    <tr>\n",
       "      <th>3302</th>\n",
       "      <td>17</td>\n",
       "      <td>False</td>\n",
       "      <td>7</td>\n",
       "    </tr>\n",
       "    <tr>\n",
       "      <th>3303</th>\n",
       "      <td>14</td>\n",
       "      <td>False</td>\n",
       "      <td>7</td>\n",
       "    </tr>\n",
       "    <tr>\n",
       "      <th>3304</th>\n",
       "      <td>15</td>\n",
       "      <td>False</td>\n",
       "      <td>7</td>\n",
       "    </tr>\n",
       "    <tr>\n",
       "      <th>3305</th>\n",
       "      <td>14</td>\n",
       "      <td>False</td>\n",
       "      <td>7</td>\n",
       "    </tr>\n",
       "    <tr>\n",
       "      <th>3306</th>\n",
       "      <td>16</td>\n",
       "      <td>False</td>\n",
       "      <td>7</td>\n",
       "    </tr>\n",
       "    <tr>\n",
       "      <th>3307</th>\n",
       "      <td>15</td>\n",
       "      <td>False</td>\n",
       "      <td>7</td>\n",
       "    </tr>\n",
       "    <tr>\n",
       "      <th>3308</th>\n",
       "      <td>15</td>\n",
       "      <td>False</td>\n",
       "      <td>7</td>\n",
       "    </tr>\n",
       "    <tr>\n",
       "      <th>3309</th>\n",
       "      <td>16</td>\n",
       "      <td>False</td>\n",
       "      <td>7</td>\n",
       "    </tr>\n",
       "    <tr>\n",
       "      <th>3310</th>\n",
       "      <td>16</td>\n",
       "      <td>False</td>\n",
       "      <td>7</td>\n",
       "    </tr>\n",
       "    <tr>\n",
       "      <th>3311</th>\n",
       "      <td>14</td>\n",
       "      <td>False</td>\n",
       "      <td>7</td>\n",
       "    </tr>\n",
       "    <tr>\n",
       "      <th>3312</th>\n",
       "      <td>17</td>\n",
       "      <td>False</td>\n",
       "      <td>7</td>\n",
       "    </tr>\n",
       "    <tr>\n",
       "      <th>3313</th>\n",
       "      <td>15</td>\n",
       "      <td>False</td>\n",
       "      <td>7</td>\n",
       "    </tr>\n",
       "    <tr>\n",
       "      <th>3314</th>\n",
       "      <td>17</td>\n",
       "      <td>False</td>\n",
       "      <td>7</td>\n",
       "    </tr>\n",
       "    <tr>\n",
       "      <th>3315</th>\n",
       "      <td>18</td>\n",
       "      <td>False</td>\n",
       "      <td>7</td>\n",
       "    </tr>\n",
       "    <tr>\n",
       "      <th>3316</th>\n",
       "      <td>17</td>\n",
       "      <td>False</td>\n",
       "      <td>7</td>\n",
       "    </tr>\n",
       "    <tr>\n",
       "      <th>3317</th>\n",
       "      <td>18</td>\n",
       "      <td>False</td>\n",
       "      <td>7</td>\n",
       "    </tr>\n",
       "    <tr>\n",
       "      <th>3318</th>\n",
       "      <td>17</td>\n",
       "      <td>False</td>\n",
       "      <td>7</td>\n",
       "    </tr>\n",
       "    <tr>\n",
       "      <th>3319</th>\n",
       "      <td>18</td>\n",
       "      <td>False</td>\n",
       "      <td>7</td>\n",
       "    </tr>\n",
       "    <tr>\n",
       "      <th>3320</th>\n",
       "      <td>15</td>\n",
       "      <td>False</td>\n",
       "      <td>7</td>\n",
       "    </tr>\n",
       "    <tr>\n",
       "      <th>3321</th>\n",
       "      <td>172</td>\n",
       "      <td>False</td>\n",
       "      <td>7</td>\n",
       "    </tr>\n",
       "    <tr>\n",
       "      <th>3322</th>\n",
       "      <td>25</td>\n",
       "      <td>False</td>\n",
       "      <td>7</td>\n",
       "    </tr>\n",
       "    <tr>\n",
       "      <th>3323</th>\n",
       "      <td>32</td>\n",
       "      <td>False</td>\n",
       "      <td>7</td>\n",
       "    </tr>\n",
       "    <tr>\n",
       "      <th>3324</th>\n",
       "      <td>18</td>\n",
       "      <td>False</td>\n",
       "      <td>7</td>\n",
       "    </tr>\n",
       "    <tr>\n",
       "      <th>3325</th>\n",
       "      <td>20</td>\n",
       "      <td>False</td>\n",
       "      <td>7</td>\n",
       "    </tr>\n",
       "  </tbody>\n",
       "</table>\n",
       "<p>3326 rows × 3 columns</p>\n",
       "</div>"
      ],
      "text/plain": [
       "        P    Day  ID\n",
       "0      13   True   0\n",
       "1      12   True   0\n",
       "2      12   True   0\n",
       "3      12   True   0\n",
       "4      13   True   0\n",
       "5      11   True   0\n",
       "6      11   True   0\n",
       "7      13   True   0\n",
       "8      12   True   0\n",
       "9      12   True   0\n",
       "10     11   True   0\n",
       "11     12   True   0\n",
       "12     12   True   0\n",
       "13     11   True   0\n",
       "14     12   True   0\n",
       "15     12   True   0\n",
       "16     11   True   0\n",
       "17     13   True   0\n",
       "18     11   True   0\n",
       "19     12   True   0\n",
       "20     11   True   0\n",
       "21     13   True   0\n",
       "22     10   True   0\n",
       "23     13   True   0\n",
       "24     11   True   0\n",
       "25     12   True   0\n",
       "26     12   True   0\n",
       "27     12   True   0\n",
       "28     11   True   0\n",
       "29     13   True   0\n",
       "...   ...    ...  ..\n",
       "3296   53  False   7\n",
       "3297   21  False   7\n",
       "3298   21  False   7\n",
       "3299  152  False   7\n",
       "3300   18  False   7\n",
       "3301   14  False   7\n",
       "3302   17  False   7\n",
       "3303   14  False   7\n",
       "3304   15  False   7\n",
       "3305   14  False   7\n",
       "3306   16  False   7\n",
       "3307   15  False   7\n",
       "3308   15  False   7\n",
       "3309   16  False   7\n",
       "3310   16  False   7\n",
       "3311   14  False   7\n",
       "3312   17  False   7\n",
       "3313   15  False   7\n",
       "3314   17  False   7\n",
       "3315   18  False   7\n",
       "3316   17  False   7\n",
       "3317   18  False   7\n",
       "3318   17  False   7\n",
       "3319   18  False   7\n",
       "3320   15  False   7\n",
       "3321  172  False   7\n",
       "3322   25  False   7\n",
       "3323   32  False   7\n",
       "3324   18  False   7\n",
       "3325   20  False   7\n",
       "\n",
       "[3326 rows x 3 columns]"
      ]
     },
     "execution_count": 9,
     "metadata": {},
     "output_type": "execute_result"
    }
   ],
   "source": [
    "def period_find_day_and_night(t_day, i_day, t_night, i_night, ID, pheight=0, pwidth=2):\n",
    "    pulse_peaks,_ = scipy.signal.find_peaks(i_day[ID],height = pheight, width = pwidth)\n",
    "    dt = np.diff(pulse_peaks)\n",
    "    df_dt1 = pd.DataFrame(dt)\n",
    "    df_dt1['Day'] = True;    \n",
    "    pulse_peaks,_= scipy.signal.find_peaks(i_night[ID],height = pheight, width = pwidth)\n",
    "    dt = np.diff(pulse_peaks)\n",
    "    df_dt2 = pd.DataFrame(dt)\n",
    "    df_dt2['Day'] = False;\n",
    "    df_dt = pd.concat([df_dt1, df_dt2])\n",
    "    df_dt = df_dt.rename(columns={0: 'P'})\n",
    "    df_dt['ID'] = ID\n",
    "    #df_dt = df_dt.reset_index(drop=True)\n",
    "    return df_dt\n",
    "\n",
    "df_dt = period_find_day_and_night(t_day, int_day, t_night, int_night, ID=0)\n",
    "\n",
    "for i in range(7):\n",
    "    df_dt = pd.concat([df_dt, period_find_day_and_night(t_day, int_day, t_night, int_night, ID=(i+1))])\n",
    "\n",
    "df_dt = df_dt.reset_index(drop=True)\n",
    "df_dt"
   ]
  },
  {
   "cell_type": "code",
   "execution_count": null,
   "metadata": {},
   "outputs": [],
   "source": [
    "p = bokeh.plotting.figure(plot_width=650,\n",
    "                          plot_height=300,\n",
    "                          x_axis_label='time (s)', \n",
    "                          y_axis_label='total intensity')\n",
    "\n",
    "p.line(t_day, int_day[i], line_width=2, line_join='bevel',color='blue',alpha = 0.7)\n",
    "#p.line(t_night[0], t_night[1], line_width=2, line_join='bevel',color='orange',alpha = 0.7)\n",
    "p.circle(t_day[pulse_peaks[0]],int_day[i][pulse_peaks[0]],color='green')\n",
    "#p.circle(t_night[0][p1],t_night[1][p2],color='red')\n",
    "\n",
    "\n",
    "bokeh.io.show(p)"
   ]
  },
  {
   "cell_type": "code",
   "execution_count": null,
   "metadata": {},
   "outputs": [],
   "source": [
    "p = bokeh.plotting.figure(plot_width=650,\n",
    "                          plot_height=300,\n",
    "                          x_axis_label='time (s)', \n",
    "                          y_axis_label='total intensity')\n",
    "\n",
    "#p.line(t_day[0], t_day[1], line_width=2, line_join='bevel',color='blue',alpha = 0.7)\n",
    "p.line(t_night, int_night[i], line_width=2, line_join='bevel',color='orange',alpha = 0.7)\n",
    "#p.circle(t_day[0][p1],t_day[1][p1],color='red')\n",
    "p.circle(t_night[pulse_peaks[1]],int_night[i][pulse_peaks[1]],color='red')\n",
    "\n",
    "bokeh.io.show(p)"
   ]
  },
  {
   "cell_type": "code",
   "execution_count": null,
   "metadata": {},
   "outputs": [],
   "source": [
    "p = bokeh.plotting.figure(plot_width=650,\n",
    "                          plot_height=300,\n",
    "                          x_axis_label='time (s)', \n",
    "                          y_axis_label='total intensity')\n",
    "\n",
    "p.line(t_day[pulse_peaks[0][0:-1]], dt[0], line_width=2, line_join='bevel',color='blue',alpha = 0.7)\n",
    "p.line(t_night[pulse_peaks[1][0:-1]], dt[1], line_width=2, line_join='bevel',color='orange',alpha = 0.7)\n",
    "\n",
    "\n",
    "bokeh.io.show(p)"
   ]
  },
  {
   "cell_type": "code",
   "execution_count": null,
   "metadata": {},
   "outputs": [],
   "source": [
    "dt = [[],[]]\n",
    "for i in range(2):\n",
    "    dt[i] = np.diff(pulse_peaks[i])\n",
    "df_dt1 = pd.DataFrame(dt[0])\n",
    "#df_dt = df_dt.transpose()\n",
    "#df_dt = df_dt.rename(columns={0: 'Day'})\n",
    "#df_dt = df_dt.rename(columns={1: 'Night'})\n",
    "df_dt1['Day'] = 1\n",
    "df_dt2 = pd.DataFrame(dt[1])\n",
    "df_dt2['Day'] = 0\n",
    "df_dt = pd.concat([df_dt1, df_dt2])\n",
    "df_dt = df_dt.rename(columns={0: 'P'})\n",
    "df_dt = df_dt.reset_index(drop=True)\n",
    "df_dt"
   ]
  },
  {
   "cell_type": "code",
   "execution_count": 18,
   "metadata": {},
   "outputs": [
    {
     "data": {
      "application/vnd.vegalite.v2+json": {
       "$schema": "https://vega.github.io/schema/vega-lite/v2.6.0.json",
       "config": {
        "view": {
         "height": 300,
         "width": 400
        }
       },
       "data": {
        "name": "data-5f095bd4f1f8db64ee5b111c446cd6cb"
       },
       "datasets": {
        "data-5f095bd4f1f8db64ee5b111c446cd6cb": [
         {
          "Day": false,
          "P": -12.899999999999999,
          "__ECDF": 0
         },
         {
          "Day": false,
          "P": 21,
          "__ECDF": 0
         },
         {
          "Day": false,
          "P": 21,
          "__ECDF": 0.003703703703703704
         },
         {
          "Day": false,
          "P": 21,
          "__ECDF": 0.003703703703703704
         },
         {
          "Day": false,
          "P": 21,
          "__ECDF": 0.007407407407407408
         },
         {
          "Day": false,
          "P": 21,
          "__ECDF": 0.007407407407407408
         },
         {
          "Day": false,
          "P": 21,
          "__ECDF": 0.011111111111111112
         },
         {
          "Day": false,
          "P": 21,
          "__ECDF": 0.011111111111111112
         },
         {
          "Day": false,
          "P": 21,
          "__ECDF": 0.014814814814814815
         },
         {
          "Day": false,
          "P": 21,
          "__ECDF": 0.014814814814814815
         },
         {
          "Day": false,
          "P": 21,
          "__ECDF": 0.018518518518518517
         },
         {
          "Day": false,
          "P": 21,
          "__ECDF": 0.018518518518518517
         },
         {
          "Day": false,
          "P": 21,
          "__ECDF": 0.022222222222222223
         },
         {
          "Day": false,
          "P": 21,
          "__ECDF": 0.022222222222222223
         },
         {
          "Day": false,
          "P": 21,
          "__ECDF": 0.025925925925925925
         },
         {
          "Day": false,
          "P": 21,
          "__ECDF": 0.025925925925925925
         },
         {
          "Day": false,
          "P": 21,
          "__ECDF": 0.02962962962962963
         },
         {
          "Day": false,
          "P": 21,
          "__ECDF": 0.02962962962962963
         },
         {
          "Day": false,
          "P": 21,
          "__ECDF": 0.03333333333333333
         },
         {
          "Day": false,
          "P": 21,
          "__ECDF": 0.03333333333333333
         },
         {
          "Day": false,
          "P": 21,
          "__ECDF": 0.037037037037037035
         },
         {
          "Day": false,
          "P": 21,
          "__ECDF": 0.037037037037037035
         },
         {
          "Day": false,
          "P": 21,
          "__ECDF": 0.040740740740740744
         },
         {
          "Day": false,
          "P": 21,
          "__ECDF": 0.040740740740740744
         },
         {
          "Day": false,
          "P": 21,
          "__ECDF": 0.044444444444444446
         },
         {
          "Day": false,
          "P": 21,
          "__ECDF": 0.044444444444444446
         },
         {
          "Day": false,
          "P": 21,
          "__ECDF": 0.04814814814814815
         },
         {
          "Day": false,
          "P": 21,
          "__ECDF": 0.04814814814814815
         },
         {
          "Day": false,
          "P": 21,
          "__ECDF": 0.05185185185185185
         },
         {
          "Day": false,
          "P": 21,
          "__ECDF": 0.05185185185185185
         },
         {
          "Day": false,
          "P": 21,
          "__ECDF": 0.05555555555555555
         },
         {
          "Day": false,
          "P": 21,
          "__ECDF": 0.05555555555555555
         },
         {
          "Day": false,
          "P": 21,
          "__ECDF": 0.05925925925925926
         },
         {
          "Day": false,
          "P": 21,
          "__ECDF": 0.05925925925925926
         },
         {
          "Day": false,
          "P": 21,
          "__ECDF": 0.06296296296296296
         },
         {
          "Day": false,
          "P": 21,
          "__ECDF": 0.06296296296296296
         },
         {
          "Day": false,
          "P": 21,
          "__ECDF": 0.06666666666666667
         },
         {
          "Day": false,
          "P": 21,
          "__ECDF": 0.06666666666666667
         },
         {
          "Day": false,
          "P": 21,
          "__ECDF": 0.07037037037037037
         },
         {
          "Day": false,
          "P": 21,
          "__ECDF": 0.07037037037037037
         },
         {
          "Day": false,
          "P": 21,
          "__ECDF": 0.07407407407407407
         },
         {
          "Day": false,
          "P": 21,
          "__ECDF": 0.07407407407407407
         },
         {
          "Day": false,
          "P": 21,
          "__ECDF": 0.07777777777777778
         },
         {
          "Day": false,
          "P": 21,
          "__ECDF": 0.07777777777777778
         },
         {
          "Day": false,
          "P": 21,
          "__ECDF": 0.08148148148148149
         },
         {
          "Day": false,
          "P": 21,
          "__ECDF": 0.08148148148148149
         },
         {
          "Day": false,
          "P": 21,
          "__ECDF": 0.08518518518518518
         },
         {
          "Day": false,
          "P": 21,
          "__ECDF": 0.08518518518518518
         },
         {
          "Day": false,
          "P": 21,
          "__ECDF": 0.08888888888888889
         },
         {
          "Day": false,
          "P": 21,
          "__ECDF": 0.08888888888888889
         },
         {
          "Day": false,
          "P": 21,
          "__ECDF": 0.09259259259259259
         },
         {
          "Day": false,
          "P": 21,
          "__ECDF": 0.09259259259259259
         },
         {
          "Day": false,
          "P": 21,
          "__ECDF": 0.0962962962962963
         },
         {
          "Day": false,
          "P": 21,
          "__ECDF": 0.0962962962962963
         },
         {
          "Day": false,
          "P": 21,
          "__ECDF": 0.1
         },
         {
          "Day": false,
          "P": 21,
          "__ECDF": 0.1
         },
         {
          "Day": false,
          "P": 21,
          "__ECDF": 0.1037037037037037
         },
         {
          "Day": false,
          "P": 21,
          "__ECDF": 0.1037037037037037
         },
         {
          "Day": false,
          "P": 21,
          "__ECDF": 0.10740740740740741
         },
         {
          "Day": false,
          "P": 21,
          "__ECDF": 0.10740740740740741
         },
         {
          "Day": false,
          "P": 21,
          "__ECDF": 0.1111111111111111
         },
         {
          "Day": false,
          "P": 21,
          "__ECDF": 0.1111111111111111
         },
         {
          "Day": false,
          "P": 21,
          "__ECDF": 0.11481481481481481
         },
         {
          "Day": false,
          "P": 21,
          "__ECDF": 0.11481481481481481
         },
         {
          "Day": false,
          "P": 21,
          "__ECDF": 0.11851851851851852
         },
         {
          "Day": false,
          "P": 21,
          "__ECDF": 0.11851851851851852
         },
         {
          "Day": false,
          "P": 21,
          "__ECDF": 0.12222222222222222
         },
         {
          "Day": false,
          "P": 21,
          "__ECDF": 0.12222222222222222
         },
         {
          "Day": false,
          "P": 21,
          "__ECDF": 0.1259259259259259
         },
         {
          "Day": false,
          "P": 21,
          "__ECDF": 0.1259259259259259
         },
         {
          "Day": false,
          "P": 21,
          "__ECDF": 0.12962962962962962
         },
         {
          "Day": false,
          "P": 21,
          "__ECDF": 0.12962962962962962
         },
         {
          "Day": false,
          "P": 21,
          "__ECDF": 0.13333333333333333
         },
         {
          "Day": false,
          "P": 21,
          "__ECDF": 0.13333333333333333
         },
         {
          "Day": false,
          "P": 21,
          "__ECDF": 0.13703703703703704
         },
         {
          "Day": false,
          "P": 21,
          "__ECDF": 0.13703703703703704
         },
         {
          "Day": false,
          "P": 21,
          "__ECDF": 0.14074074074074075
         },
         {
          "Day": false,
          "P": 21,
          "__ECDF": 0.14074074074074075
         },
         {
          "Day": false,
          "P": 21,
          "__ECDF": 0.14444444444444443
         },
         {
          "Day": false,
          "P": 21,
          "__ECDF": 0.14444444444444443
         },
         {
          "Day": false,
          "P": 21,
          "__ECDF": 0.14814814814814814
         },
         {
          "Day": false,
          "P": 21,
          "__ECDF": 0.14814814814814814
         },
         {
          "Day": false,
          "P": 21,
          "__ECDF": 0.15185185185185185
         },
         {
          "Day": false,
          "P": 21,
          "__ECDF": 0.15185185185185185
         },
         {
          "Day": false,
          "P": 21,
          "__ECDF": 0.15555555555555556
         },
         {
          "Day": false,
          "P": 21,
          "__ECDF": 0.15555555555555556
         },
         {
          "Day": false,
          "P": 21,
          "__ECDF": 0.15925925925925927
         },
         {
          "Day": false,
          "P": 21,
          "__ECDF": 0.15925925925925927
         },
         {
          "Day": false,
          "P": 21,
          "__ECDF": 0.16296296296296298
         },
         {
          "Day": false,
          "P": 21,
          "__ECDF": 0.16296296296296298
         },
         {
          "Day": false,
          "P": 21,
          "__ECDF": 0.16666666666666666
         },
         {
          "Day": false,
          "P": 21,
          "__ECDF": 0.16666666666666666
         },
         {
          "Day": false,
          "P": 21,
          "__ECDF": 0.17037037037037037
         },
         {
          "Day": false,
          "P": 21,
          "__ECDF": 0.17037037037037037
         },
         {
          "Day": false,
          "P": 21,
          "__ECDF": 0.17407407407407408
         },
         {
          "Day": false,
          "P": 21,
          "__ECDF": 0.17407407407407408
         },
         {
          "Day": false,
          "P": 21,
          "__ECDF": 0.17777777777777778
         },
         {
          "Day": false,
          "P": 21,
          "__ECDF": 0.17777777777777778
         },
         {
          "Day": false,
          "P": 21,
          "__ECDF": 0.1814814814814815
         },
         {
          "Day": false,
          "P": 21,
          "__ECDF": 0.1814814814814815
         },
         {
          "Day": false,
          "P": 21,
          "__ECDF": 0.18518518518518517
         },
         {
          "Day": false,
          "P": 21,
          "__ECDF": 0.18518518518518517
         },
         {
          "Day": false,
          "P": 21,
          "__ECDF": 0.18888888888888888
         },
         {
          "Day": false,
          "P": 21,
          "__ECDF": 0.18888888888888888
         },
         {
          "Day": false,
          "P": 21,
          "__ECDF": 0.1925925925925926
         },
         {
          "Day": false,
          "P": 21,
          "__ECDF": 0.1925925925925926
         },
         {
          "Day": false,
          "P": 21,
          "__ECDF": 0.1962962962962963
         },
         {
          "Day": false,
          "P": 21,
          "__ECDF": 0.1962962962962963
         },
         {
          "Day": false,
          "P": 21,
          "__ECDF": 0.2
         },
         {
          "Day": false,
          "P": 21,
          "__ECDF": 0.2
         },
         {
          "Day": false,
          "P": 21,
          "__ECDF": 0.2037037037037037
         },
         {
          "Day": false,
          "P": 21,
          "__ECDF": 0.2037037037037037
         },
         {
          "Day": false,
          "P": 21,
          "__ECDF": 0.2074074074074074
         },
         {
          "Day": false,
          "P": 21,
          "__ECDF": 0.2074074074074074
         },
         {
          "Day": false,
          "P": 21,
          "__ECDF": 0.2111111111111111
         },
         {
          "Day": false,
          "P": 21,
          "__ECDF": 0.2111111111111111
         },
         {
          "Day": false,
          "P": 21,
          "__ECDF": 0.21481481481481482
         },
         {
          "Day": false,
          "P": 21,
          "__ECDF": 0.21481481481481482
         },
         {
          "Day": false,
          "P": 21,
          "__ECDF": 0.21851851851851853
         },
         {
          "Day": false,
          "P": 21,
          "__ECDF": 0.21851851851851853
         },
         {
          "Day": false,
          "P": 21,
          "__ECDF": 0.2222222222222222
         },
         {
          "Day": false,
          "P": 21,
          "__ECDF": 0.2222222222222222
         },
         {
          "Day": false,
          "P": 21,
          "__ECDF": 0.22592592592592592
         },
         {
          "Day": false,
          "P": 21,
          "__ECDF": 0.22592592592592592
         },
         {
          "Day": false,
          "P": 21,
          "__ECDF": 0.22962962962962963
         },
         {
          "Day": false,
          "P": 21,
          "__ECDF": 0.22962962962962963
         },
         {
          "Day": false,
          "P": 21,
          "__ECDF": 0.23333333333333334
         },
         {
          "Day": false,
          "P": 21,
          "__ECDF": 0.23333333333333334
         },
         {
          "Day": false,
          "P": 21,
          "__ECDF": 0.23703703703703705
         },
         {
          "Day": false,
          "P": 21,
          "__ECDF": 0.23703703703703705
         },
         {
          "Day": false,
          "P": 21,
          "__ECDF": 0.24074074074074073
         },
         {
          "Day": false,
          "P": 21,
          "__ECDF": 0.24074074074074073
         },
         {
          "Day": false,
          "P": 21,
          "__ECDF": 0.24444444444444444
         },
         {
          "Day": false,
          "P": 21,
          "__ECDF": 0.24444444444444444
         },
         {
          "Day": false,
          "P": 21,
          "__ECDF": 0.24814814814814815
         },
         {
          "Day": false,
          "P": 21,
          "__ECDF": 0.24814814814814815
         },
         {
          "Day": false,
          "P": 21,
          "__ECDF": 0.2518518518518518
         },
         {
          "Day": false,
          "P": 21,
          "__ECDF": 0.2518518518518518
         },
         {
          "Day": false,
          "P": 21,
          "__ECDF": 0.25555555555555554
         },
         {
          "Day": false,
          "P": 21,
          "__ECDF": 0.25555555555555554
         },
         {
          "Day": false,
          "P": 21,
          "__ECDF": 0.25925925925925924
         },
         {
          "Day": false,
          "P": 21,
          "__ECDF": 0.25925925925925924
         },
         {
          "Day": false,
          "P": 21,
          "__ECDF": 0.26296296296296295
         },
         {
          "Day": false,
          "P": 21,
          "__ECDF": 0.26296296296296295
         },
         {
          "Day": false,
          "P": 21,
          "__ECDF": 0.26666666666666666
         },
         {
          "Day": false,
          "P": 21,
          "__ECDF": 0.26666666666666666
         },
         {
          "Day": false,
          "P": 21,
          "__ECDF": 0.27037037037037037
         },
         {
          "Day": false,
          "P": 21,
          "__ECDF": 0.27037037037037037
         },
         {
          "Day": false,
          "P": 21,
          "__ECDF": 0.2740740740740741
         },
         {
          "Day": false,
          "P": 21,
          "__ECDF": 0.2740740740740741
         },
         {
          "Day": false,
          "P": 21,
          "__ECDF": 0.2777777777777778
         },
         {
          "Day": false,
          "P": 21,
          "__ECDF": 0.2777777777777778
         },
         {
          "Day": false,
          "P": 21,
          "__ECDF": 0.2814814814814815
         },
         {
          "Day": false,
          "P": 21,
          "__ECDF": 0.2814814814814815
         },
         {
          "Day": false,
          "P": 21,
          "__ECDF": 0.2851851851851852
         },
         {
          "Day": false,
          "P": 21,
          "__ECDF": 0.2851851851851852
         },
         {
          "Day": false,
          "P": 21,
          "__ECDF": 0.28888888888888886
         },
         {
          "Day": false,
          "P": 21,
          "__ECDF": 0.28888888888888886
         },
         {
          "Day": false,
          "P": 21,
          "__ECDF": 0.29259259259259257
         },
         {
          "Day": false,
          "P": 21,
          "__ECDF": 0.29259259259259257
         },
         {
          "Day": false,
          "P": 21,
          "__ECDF": 0.2962962962962963
         },
         {
          "Day": false,
          "P": 21,
          "__ECDF": 0.2962962962962963
         },
         {
          "Day": false,
          "P": 21,
          "__ECDF": 0.3
         },
         {
          "Day": false,
          "P": 21,
          "__ECDF": 0.3
         },
         {
          "Day": false,
          "P": 21,
          "__ECDF": 0.3037037037037037
         },
         {
          "Day": false,
          "P": 21,
          "__ECDF": 0.3037037037037037
         },
         {
          "Day": false,
          "P": 21,
          "__ECDF": 0.3074074074074074
         },
         {
          "Day": false,
          "P": 21,
          "__ECDF": 0.3074074074074074
         },
         {
          "Day": false,
          "P": 21,
          "__ECDF": 0.3111111111111111
         },
         {
          "Day": false,
          "P": 21,
          "__ECDF": 0.3111111111111111
         },
         {
          "Day": false,
          "P": 21,
          "__ECDF": 0.3148148148148148
         },
         {
          "Day": false,
          "P": 21,
          "__ECDF": 0.3148148148148148
         },
         {
          "Day": false,
          "P": 21,
          "__ECDF": 0.31851851851851853
         },
         {
          "Day": false,
          "P": 21,
          "__ECDF": 0.31851851851851853
         },
         {
          "Day": false,
          "P": 21,
          "__ECDF": 0.32222222222222224
         },
         {
          "Day": false,
          "P": 21,
          "__ECDF": 0.32222222222222224
         },
         {
          "Day": false,
          "P": 21,
          "__ECDF": 0.32592592592592595
         },
         {
          "Day": false,
          "P": 21,
          "__ECDF": 0.32592592592592595
         },
         {
          "Day": false,
          "P": 21,
          "__ECDF": 0.3296296296296296
         },
         {
          "Day": false,
          "P": 21,
          "__ECDF": 0.3296296296296296
         },
         {
          "Day": false,
          "P": 21,
          "__ECDF": 0.3333333333333333
         },
         {
          "Day": false,
          "P": 21,
          "__ECDF": 0.3333333333333333
         },
         {
          "Day": false,
          "P": 21,
          "__ECDF": 0.337037037037037
         },
         {
          "Day": false,
          "P": 21,
          "__ECDF": 0.337037037037037
         },
         {
          "Day": false,
          "P": 21,
          "__ECDF": 0.34074074074074073
         },
         {
          "Day": false,
          "P": 21,
          "__ECDF": 0.34074074074074073
         },
         {
          "Day": false,
          "P": 21,
          "__ECDF": 0.34444444444444444
         },
         {
          "Day": false,
          "P": 21,
          "__ECDF": 0.34444444444444444
         },
         {
          "Day": false,
          "P": 21,
          "__ECDF": 0.34814814814814815
         },
         {
          "Day": false,
          "P": 21,
          "__ECDF": 0.34814814814814815
         },
         {
          "Day": false,
          "P": 21,
          "__ECDF": 0.35185185185185186
         },
         {
          "Day": false,
          "P": 21,
          "__ECDF": 0.35185185185185186
         },
         {
          "Day": false,
          "P": 21,
          "__ECDF": 0.35555555555555557
         },
         {
          "Day": false,
          "P": 21,
          "__ECDF": 0.35555555555555557
         },
         {
          "Day": false,
          "P": 21,
          "__ECDF": 0.3592592592592593
         },
         {
          "Day": false,
          "P": 21,
          "__ECDF": 0.3592592592592593
         },
         {
          "Day": false,
          "P": 21,
          "__ECDF": 0.362962962962963
         },
         {
          "Day": false,
          "P": 21,
          "__ECDF": 0.362962962962963
         },
         {
          "Day": false,
          "P": 21,
          "__ECDF": 0.36666666666666664
         },
         {
          "Day": false,
          "P": 21,
          "__ECDF": 0.36666666666666664
         },
         {
          "Day": false,
          "P": 21,
          "__ECDF": 0.37037037037037035
         },
         {
          "Day": false,
          "P": 21,
          "__ECDF": 0.37037037037037035
         },
         {
          "Day": false,
          "P": 21,
          "__ECDF": 0.37407407407407406
         },
         {
          "Day": false,
          "P": 21,
          "__ECDF": 0.37407407407407406
         },
         {
          "Day": false,
          "P": 21,
          "__ECDF": 0.37777777777777777
         },
         {
          "Day": false,
          "P": 21,
          "__ECDF": 0.37777777777777777
         },
         {
          "Day": false,
          "P": 21,
          "__ECDF": 0.3814814814814815
         },
         {
          "Day": false,
          "P": 21,
          "__ECDF": 0.3814814814814815
         },
         {
          "Day": false,
          "P": 21,
          "__ECDF": 0.3851851851851852
         },
         {
          "Day": false,
          "P": 21,
          "__ECDF": 0.3851851851851852
         },
         {
          "Day": false,
          "P": 21,
          "__ECDF": 0.3888888888888889
         },
         {
          "Day": false,
          "P": 22,
          "__ECDF": 0.3888888888888889
         },
         {
          "Day": false,
          "P": 22,
          "__ECDF": 0.3925925925925926
         },
         {
          "Day": false,
          "P": 22,
          "__ECDF": 0.3925925925925926
         },
         {
          "Day": false,
          "P": 22,
          "__ECDF": 0.3962962962962963
         },
         {
          "Day": false,
          "P": 22,
          "__ECDF": 0.3962962962962963
         },
         {
          "Day": false,
          "P": 22,
          "__ECDF": 0.4
         },
         {
          "Day": false,
          "P": 22,
          "__ECDF": 0.4
         },
         {
          "Day": false,
          "P": 22,
          "__ECDF": 0.40370370370370373
         },
         {
          "Day": false,
          "P": 22,
          "__ECDF": 0.40370370370370373
         },
         {
          "Day": false,
          "P": 22,
          "__ECDF": 0.4074074074074074
         },
         {
          "Day": false,
          "P": 22,
          "__ECDF": 0.4074074074074074
         },
         {
          "Day": false,
          "P": 22,
          "__ECDF": 0.4111111111111111
         },
         {
          "Day": false,
          "P": 22,
          "__ECDF": 0.4111111111111111
         },
         {
          "Day": false,
          "P": 22,
          "__ECDF": 0.4148148148148148
         },
         {
          "Day": false,
          "P": 22,
          "__ECDF": 0.4148148148148148
         },
         {
          "Day": false,
          "P": 22,
          "__ECDF": 0.4185185185185185
         },
         {
          "Day": false,
          "P": 22,
          "__ECDF": 0.4185185185185185
         },
         {
          "Day": false,
          "P": 22,
          "__ECDF": 0.4222222222222222
         },
         {
          "Day": false,
          "P": 23,
          "__ECDF": 0.4222222222222222
         },
         {
          "Day": false,
          "P": 23,
          "__ECDF": 0.42592592592592593
         },
         {
          "Day": false,
          "P": 23,
          "__ECDF": 0.42592592592592593
         },
         {
          "Day": false,
          "P": 23,
          "__ECDF": 0.42962962962962964
         },
         {
          "Day": false,
          "P": 23,
          "__ECDF": 0.42962962962962964
         },
         {
          "Day": false,
          "P": 23,
          "__ECDF": 0.43333333333333335
         },
         {
          "Day": false,
          "P": 23,
          "__ECDF": 0.43333333333333335
         },
         {
          "Day": false,
          "P": 23,
          "__ECDF": 0.43703703703703706
         },
         {
          "Day": false,
          "P": 23,
          "__ECDF": 0.43703703703703706
         },
         {
          "Day": false,
          "P": 23,
          "__ECDF": 0.44074074074074077
         },
         {
          "Day": false,
          "P": 23,
          "__ECDF": 0.44074074074074077
         },
         {
          "Day": false,
          "P": 23,
          "__ECDF": 0.4444444444444444
         },
         {
          "Day": false,
          "P": 23,
          "__ECDF": 0.4444444444444444
         },
         {
          "Day": false,
          "P": 23,
          "__ECDF": 0.44814814814814813
         },
         {
          "Day": false,
          "P": 23,
          "__ECDF": 0.44814814814814813
         },
         {
          "Day": false,
          "P": 23,
          "__ECDF": 0.45185185185185184
         },
         {
          "Day": false,
          "P": 23,
          "__ECDF": 0.45185185185185184
         },
         {
          "Day": false,
          "P": 23,
          "__ECDF": 0.45555555555555555
         },
         {
          "Day": false,
          "P": 23,
          "__ECDF": 0.45555555555555555
         },
         {
          "Day": false,
          "P": 23,
          "__ECDF": 0.45925925925925926
         },
         {
          "Day": false,
          "P": 24,
          "__ECDF": 0.45925925925925926
         },
         {
          "Day": false,
          "P": 24,
          "__ECDF": 0.46296296296296297
         },
         {
          "Day": false,
          "P": 24,
          "__ECDF": 0.46296296296296297
         },
         {
          "Day": false,
          "P": 24,
          "__ECDF": 0.4666666666666667
         },
         {
          "Day": false,
          "P": 24,
          "__ECDF": 0.4666666666666667
         },
         {
          "Day": false,
          "P": 24,
          "__ECDF": 0.4703703703703704
         },
         {
          "Day": false,
          "P": 24,
          "__ECDF": 0.4703703703703704
         },
         {
          "Day": false,
          "P": 24,
          "__ECDF": 0.4740740740740741
         },
         {
          "Day": false,
          "P": 25,
          "__ECDF": 0.4740740740740741
         },
         {
          "Day": false,
          "P": 25,
          "__ECDF": 0.4777777777777778
         },
         {
          "Day": false,
          "P": 25,
          "__ECDF": 0.4777777777777778
         },
         {
          "Day": false,
          "P": 25,
          "__ECDF": 0.48148148148148145
         },
         {
          "Day": false,
          "P": 25,
          "__ECDF": 0.48148148148148145
         },
         {
          "Day": false,
          "P": 25,
          "__ECDF": 0.48518518518518516
         },
         {
          "Day": false,
          "P": 25,
          "__ECDF": 0.48518518518518516
         },
         {
          "Day": false,
          "P": 25,
          "__ECDF": 0.4888888888888889
         },
         {
          "Day": false,
          "P": 25,
          "__ECDF": 0.4888888888888889
         },
         {
          "Day": false,
          "P": 25,
          "__ECDF": 0.4925925925925926
         },
         {
          "Day": false,
          "P": 25,
          "__ECDF": 0.4925925925925926
         },
         {
          "Day": false,
          "P": 25,
          "__ECDF": 0.4962962962962963
         },
         {
          "Day": false,
          "P": 25,
          "__ECDF": 0.4962962962962963
         },
         {
          "Day": false,
          "P": 25,
          "__ECDF": 0.5
         },
         {
          "Day": false,
          "P": 25,
          "__ECDF": 0.5
         },
         {
          "Day": false,
          "P": 25,
          "__ECDF": 0.5037037037037037
         },
         {
          "Day": false,
          "P": 25,
          "__ECDF": 0.5037037037037037
         },
         {
          "Day": false,
          "P": 25,
          "__ECDF": 0.5074074074074074
         },
         {
          "Day": false,
          "P": 25,
          "__ECDF": 0.5074074074074074
         },
         {
          "Day": false,
          "P": 25,
          "__ECDF": 0.5111111111111111
         },
         {
          "Day": false,
          "P": 25,
          "__ECDF": 0.5111111111111111
         },
         {
          "Day": false,
          "P": 25,
          "__ECDF": 0.5148148148148148
         },
         {
          "Day": false,
          "P": 25,
          "__ECDF": 0.5148148148148148
         },
         {
          "Day": false,
          "P": 25,
          "__ECDF": 0.5185185185185185
         },
         {
          "Day": false,
          "P": 25,
          "__ECDF": 0.5185185185185185
         },
         {
          "Day": false,
          "P": 25,
          "__ECDF": 0.5222222222222223
         },
         {
          "Day": false,
          "P": 25,
          "__ECDF": 0.5222222222222223
         },
         {
          "Day": false,
          "P": 25,
          "__ECDF": 0.5259259259259259
         },
         {
          "Day": false,
          "P": 25,
          "__ECDF": 0.5259259259259259
         },
         {
          "Day": false,
          "P": 25,
          "__ECDF": 0.5296296296296297
         },
         {
          "Day": false,
          "P": 25,
          "__ECDF": 0.5296296296296297
         },
         {
          "Day": false,
          "P": 25,
          "__ECDF": 0.5333333333333333
         },
         {
          "Day": false,
          "P": 25,
          "__ECDF": 0.5333333333333333
         },
         {
          "Day": false,
          "P": 25,
          "__ECDF": 0.5370370370370371
         },
         {
          "Day": false,
          "P": 26,
          "__ECDF": 0.5370370370370371
         },
         {
          "Day": false,
          "P": 26,
          "__ECDF": 0.5407407407407407
         },
         {
          "Day": false,
          "P": 26,
          "__ECDF": 0.5407407407407407
         },
         {
          "Day": false,
          "P": 26,
          "__ECDF": 0.5444444444444444
         },
         {
          "Day": false,
          "P": 27,
          "__ECDF": 0.5444444444444444
         },
         {
          "Day": false,
          "P": 27,
          "__ECDF": 0.5481481481481482
         },
         {
          "Day": false,
          "P": 27,
          "__ECDF": 0.5481481481481482
         },
         {
          "Day": false,
          "P": 27,
          "__ECDF": 0.5518518518518518
         },
         {
          "Day": false,
          "P": 27,
          "__ECDF": 0.5518518518518518
         },
         {
          "Day": false,
          "P": 27,
          "__ECDF": 0.5555555555555556
         },
         {
          "Day": false,
          "P": 27,
          "__ECDF": 0.5555555555555556
         },
         {
          "Day": false,
          "P": 27,
          "__ECDF": 0.5592592592592592
         },
         {
          "Day": false,
          "P": 27,
          "__ECDF": 0.5592592592592592
         },
         {
          "Day": false,
          "P": 27,
          "__ECDF": 0.562962962962963
         },
         {
          "Day": false,
          "P": 28,
          "__ECDF": 0.562962962962963
         },
         {
          "Day": false,
          "P": 28,
          "__ECDF": 0.5666666666666667
         },
         {
          "Day": false,
          "P": 28,
          "__ECDF": 0.5666666666666667
         },
         {
          "Day": false,
          "P": 28,
          "__ECDF": 0.5703703703703704
         },
         {
          "Day": false,
          "P": 28,
          "__ECDF": 0.5703703703703704
         },
         {
          "Day": false,
          "P": 28,
          "__ECDF": 0.5740740740740741
         },
         {
          "Day": false,
          "P": 28,
          "__ECDF": 0.5740740740740741
         },
         {
          "Day": false,
          "P": 28,
          "__ECDF": 0.5777777777777777
         },
         {
          "Day": false,
          "P": 28,
          "__ECDF": 0.5777777777777777
         },
         {
          "Day": false,
          "P": 28,
          "__ECDF": 0.5814814814814815
         },
         {
          "Day": false,
          "P": 28,
          "__ECDF": 0.5814814814814815
         },
         {
          "Day": false,
          "P": 28,
          "__ECDF": 0.5851851851851851
         },
         {
          "Day": false,
          "P": 28,
          "__ECDF": 0.5851851851851851
         },
         {
          "Day": false,
          "P": 28,
          "__ECDF": 0.5888888888888889
         },
         {
          "Day": false,
          "P": 28,
          "__ECDF": 0.5888888888888889
         },
         {
          "Day": false,
          "P": 28,
          "__ECDF": 0.5925925925925926
         },
         {
          "Day": false,
          "P": 28,
          "__ECDF": 0.5925925925925926
         },
         {
          "Day": false,
          "P": 28,
          "__ECDF": 0.5962962962962963
         },
         {
          "Day": false,
          "P": 28,
          "__ECDF": 0.5962962962962963
         },
         {
          "Day": false,
          "P": 28,
          "__ECDF": 0.6
         },
         {
          "Day": false,
          "P": 28,
          "__ECDF": 0.6
         },
         {
          "Day": false,
          "P": 28,
          "__ECDF": 0.6037037037037037
         },
         {
          "Day": false,
          "P": 28,
          "__ECDF": 0.6037037037037037
         },
         {
          "Day": false,
          "P": 28,
          "__ECDF": 0.6074074074074074
         },
         {
          "Day": false,
          "P": 28,
          "__ECDF": 0.6074074074074074
         },
         {
          "Day": false,
          "P": 28,
          "__ECDF": 0.6111111111111112
         },
         {
          "Day": false,
          "P": 28,
          "__ECDF": 0.6111111111111112
         },
         {
          "Day": false,
          "P": 28,
          "__ECDF": 0.6148148148148148
         },
         {
          "Day": false,
          "P": 28,
          "__ECDF": 0.6148148148148148
         },
         {
          "Day": false,
          "P": 28,
          "__ECDF": 0.6185185185185185
         },
         {
          "Day": false,
          "P": 28,
          "__ECDF": 0.6185185185185185
         },
         {
          "Day": false,
          "P": 28,
          "__ECDF": 0.6222222222222222
         },
         {
          "Day": false,
          "P": 28,
          "__ECDF": 0.6222222222222222
         },
         {
          "Day": false,
          "P": 28,
          "__ECDF": 0.6259259259259259
         },
         {
          "Day": false,
          "P": 28,
          "__ECDF": 0.6259259259259259
         },
         {
          "Day": false,
          "P": 28,
          "__ECDF": 0.6296296296296297
         },
         {
          "Day": false,
          "P": 28,
          "__ECDF": 0.6296296296296297
         },
         {
          "Day": false,
          "P": 28,
          "__ECDF": 0.6333333333333333
         },
         {
          "Day": false,
          "P": 28,
          "__ECDF": 0.6333333333333333
         },
         {
          "Day": false,
          "P": 28,
          "__ECDF": 0.6370370370370371
         },
         {
          "Day": false,
          "P": 28,
          "__ECDF": 0.6370370370370371
         },
         {
          "Day": false,
          "P": 28,
          "__ECDF": 0.6407407407407407
         },
         {
          "Day": false,
          "P": 28,
          "__ECDF": 0.6407407407407407
         },
         {
          "Day": false,
          "P": 28,
          "__ECDF": 0.6444444444444445
         },
         {
          "Day": false,
          "P": 28,
          "__ECDF": 0.6444444444444445
         },
         {
          "Day": false,
          "P": 28,
          "__ECDF": 0.6481481481481481
         },
         {
          "Day": false,
          "P": 29,
          "__ECDF": 0.6481481481481481
         },
         {
          "Day": false,
          "P": 29,
          "__ECDF": 0.6518518518518519
         },
         {
          "Day": false,
          "P": 29,
          "__ECDF": 0.6518518518518519
         },
         {
          "Day": false,
          "P": 29,
          "__ECDF": 0.6555555555555556
         },
         {
          "Day": false,
          "P": 29,
          "__ECDF": 0.6555555555555556
         },
         {
          "Day": false,
          "P": 29,
          "__ECDF": 0.6592592592592592
         },
         {
          "Day": false,
          "P": 29,
          "__ECDF": 0.6592592592592592
         },
         {
          "Day": false,
          "P": 29,
          "__ECDF": 0.662962962962963
         },
         {
          "Day": false,
          "P": 30,
          "__ECDF": 0.662962962962963
         },
         {
          "Day": false,
          "P": 30,
          "__ECDF": 0.6666666666666666
         },
         {
          "Day": false,
          "P": 30,
          "__ECDF": 0.6666666666666666
         },
         {
          "Day": false,
          "P": 30,
          "__ECDF": 0.6703703703703704
         },
         {
          "Day": false,
          "P": 30,
          "__ECDF": 0.6703703703703704
         },
         {
          "Day": false,
          "P": 30,
          "__ECDF": 0.674074074074074
         },
         {
          "Day": false,
          "P": 30,
          "__ECDF": 0.674074074074074
         },
         {
          "Day": false,
          "P": 30,
          "__ECDF": 0.6777777777777778
         },
         {
          "Day": false,
          "P": 30,
          "__ECDF": 0.6777777777777778
         },
         {
          "Day": false,
          "P": 30,
          "__ECDF": 0.6814814814814815
         },
         {
          "Day": false,
          "P": 31,
          "__ECDF": 0.6814814814814815
         },
         {
          "Day": false,
          "P": 31,
          "__ECDF": 0.6851851851851852
         },
         {
          "Day": false,
          "P": 31,
          "__ECDF": 0.6851851851851852
         },
         {
          "Day": false,
          "P": 31,
          "__ECDF": 0.6888888888888889
         },
         {
          "Day": false,
          "P": 32,
          "__ECDF": 0.6888888888888889
         },
         {
          "Day": false,
          "P": 32,
          "__ECDF": 0.6925925925925925
         },
         {
          "Day": false,
          "P": 32,
          "__ECDF": 0.6925925925925925
         },
         {
          "Day": false,
          "P": 32,
          "__ECDF": 0.6962962962962963
         },
         {
          "Day": false,
          "P": 32,
          "__ECDF": 0.6962962962962963
         },
         {
          "Day": false,
          "P": 32,
          "__ECDF": 0.7
         },
         {
          "Day": false,
          "P": 32,
          "__ECDF": 0.7
         },
         {
          "Day": false,
          "P": 32,
          "__ECDF": 0.7037037037037037
         },
         {
          "Day": false,
          "P": 32,
          "__ECDF": 0.7037037037037037
         },
         {
          "Day": false,
          "P": 32,
          "__ECDF": 0.7074074074074074
         },
         {
          "Day": false,
          "P": 32,
          "__ECDF": 0.7074074074074074
         },
         {
          "Day": false,
          "P": 32,
          "__ECDF": 0.7111111111111111
         },
         {
          "Day": false,
          "P": 32,
          "__ECDF": 0.7111111111111111
         },
         {
          "Day": false,
          "P": 32,
          "__ECDF": 0.7148148148148148
         },
         {
          "Day": false,
          "P": 32,
          "__ECDF": 0.7148148148148148
         },
         {
          "Day": false,
          "P": 32,
          "__ECDF": 0.7185185185185186
         },
         {
          "Day": false,
          "P": 32,
          "__ECDF": 0.7185185185185186
         },
         {
          "Day": false,
          "P": 32,
          "__ECDF": 0.7222222222222222
         },
         {
          "Day": false,
          "P": 35,
          "__ECDF": 0.7222222222222222
         },
         {
          "Day": false,
          "P": 35,
          "__ECDF": 0.725925925925926
         },
         {
          "Day": false,
          "P": 38,
          "__ECDF": 0.725925925925926
         },
         {
          "Day": false,
          "P": 38,
          "__ECDF": 0.7296296296296296
         },
         {
          "Day": false,
          "P": 39,
          "__ECDF": 0.7296296296296296
         },
         {
          "Day": false,
          "P": 39,
          "__ECDF": 0.7333333333333333
         },
         {
          "Day": false,
          "P": 39,
          "__ECDF": 0.7333333333333333
         },
         {
          "Day": false,
          "P": 39,
          "__ECDF": 0.737037037037037
         },
         {
          "Day": false,
          "P": 39,
          "__ECDF": 0.737037037037037
         },
         {
          "Day": false,
          "P": 39,
          "__ECDF": 0.7407407407407407
         },
         {
          "Day": false,
          "P": 45,
          "__ECDF": 0.7407407407407407
         },
         {
          "Day": false,
          "P": 45,
          "__ECDF": 0.7444444444444445
         },
         {
          "Day": false,
          "P": 50,
          "__ECDF": 0.7444444444444445
         },
         {
          "Day": false,
          "P": 50,
          "__ECDF": 0.7481481481481481
         },
         {
          "Day": false,
          "P": 50,
          "__ECDF": 0.7481481481481481
         },
         {
          "Day": false,
          "P": 50,
          "__ECDF": 0.7518518518518519
         },
         {
          "Day": false,
          "P": 50,
          "__ECDF": 0.7518518518518519
         },
         {
          "Day": false,
          "P": 50,
          "__ECDF": 0.7555555555555555
         },
         {
          "Day": false,
          "P": 53,
          "__ECDF": 0.7555555555555555
         },
         {
          "Day": false,
          "P": 53,
          "__ECDF": 0.7592592592592593
         },
         {
          "Day": false,
          "P": 55,
          "__ECDF": 0.7592592592592593
         },
         {
          "Day": false,
          "P": 55,
          "__ECDF": 0.762962962962963
         },
         {
          "Day": false,
          "P": 57,
          "__ECDF": 0.762962962962963
         },
         {
          "Day": false,
          "P": 57,
          "__ECDF": 0.7666666666666667
         },
         {
          "Day": false,
          "P": 64,
          "__ECDF": 0.7666666666666667
         },
         {
          "Day": false,
          "P": 64,
          "__ECDF": 0.7703703703703704
         },
         {
          "Day": false,
          "P": 64,
          "__ECDF": 0.7703703703703704
         },
         {
          "Day": false,
          "P": 64,
          "__ECDF": 0.774074074074074
         },
         {
          "Day": false,
          "P": 69,
          "__ECDF": 0.774074074074074
         },
         {
          "Day": false,
          "P": 69,
          "__ECDF": 0.7777777777777778
         },
         {
          "Day": false,
          "P": 71,
          "__ECDF": 0.7777777777777778
         },
         {
          "Day": false,
          "P": 71,
          "__ECDF": 0.7814814814814814
         },
         {
          "Day": false,
          "P": 71,
          "__ECDF": 0.7814814814814814
         },
         {
          "Day": false,
          "P": 71,
          "__ECDF": 0.7851851851851852
         },
         {
          "Day": false,
          "P": 72,
          "__ECDF": 0.7851851851851852
         },
         {
          "Day": false,
          "P": 72,
          "__ECDF": 0.7888888888888889
         },
         {
          "Day": false,
          "P": 74,
          "__ECDF": 0.7888888888888889
         },
         {
          "Day": false,
          "P": 74,
          "__ECDF": 0.7925925925925926
         },
         {
          "Day": false,
          "P": 78,
          "__ECDF": 0.7925925925925926
         },
         {
          "Day": false,
          "P": 78,
          "__ECDF": 0.7962962962962963
         },
         {
          "Day": false,
          "P": 83,
          "__ECDF": 0.7962962962962963
         },
         {
          "Day": false,
          "P": 83,
          "__ECDF": 0.8
         },
         {
          "Day": false,
          "P": 85,
          "__ECDF": 0.8
         },
         {
          "Day": false,
          "P": 85,
          "__ECDF": 0.8037037037037037
         },
         {
          "Day": false,
          "P": 88,
          "__ECDF": 0.8037037037037037
         },
         {
          "Day": false,
          "P": 88,
          "__ECDF": 0.8074074074074075
         },
         {
          "Day": false,
          "P": 88,
          "__ECDF": 0.8074074074074075
         },
         {
          "Day": false,
          "P": 88,
          "__ECDF": 0.8111111111111111
         },
         {
          "Day": false,
          "P": 88,
          "__ECDF": 0.8111111111111111
         },
         {
          "Day": false,
          "P": 88,
          "__ECDF": 0.8148148148148148
         },
         {
          "Day": false,
          "P": 89,
          "__ECDF": 0.8148148148148148
         },
         {
          "Day": false,
          "P": 89,
          "__ECDF": 0.8185185185185185
         },
         {
          "Day": false,
          "P": 91,
          "__ECDF": 0.8185185185185185
         },
         {
          "Day": false,
          "P": 91,
          "__ECDF": 0.8222222222222222
         },
         {
          "Day": false,
          "P": 92,
          "__ECDF": 0.8222222222222222
         },
         {
          "Day": false,
          "P": 92,
          "__ECDF": 0.825925925925926
         },
         {
          "Day": false,
          "P": 92,
          "__ECDF": 0.825925925925926
         },
         {
          "Day": false,
          "P": 92,
          "__ECDF": 0.8296296296296296
         },
         {
          "Day": false,
          "P": 94,
          "__ECDF": 0.8296296296296296
         },
         {
          "Day": false,
          "P": 94,
          "__ECDF": 0.8333333333333334
         },
         {
          "Day": false,
          "P": 95,
          "__ECDF": 0.8333333333333334
         },
         {
          "Day": false,
          "P": 95,
          "__ECDF": 0.837037037037037
         },
         {
          "Day": false,
          "P": 95,
          "__ECDF": 0.837037037037037
         },
         {
          "Day": false,
          "P": 95,
          "__ECDF": 0.8407407407407408
         },
         {
          "Day": false,
          "P": 96,
          "__ECDF": 0.8407407407407408
         },
         {
          "Day": false,
          "P": 96,
          "__ECDF": 0.8444444444444444
         },
         {
          "Day": false,
          "P": 99,
          "__ECDF": 0.8444444444444444
         },
         {
          "Day": false,
          "P": 99,
          "__ECDF": 0.8481481481481481
         },
         {
          "Day": false,
          "P": 99,
          "__ECDF": 0.8481481481481481
         },
         {
          "Day": false,
          "P": 99,
          "__ECDF": 0.8518518518518519
         },
         {
          "Day": false,
          "P": 103,
          "__ECDF": 0.8518518518518519
         },
         {
          "Day": false,
          "P": 103,
          "__ECDF": 0.8555555555555555
         },
         {
          "Day": false,
          "P": 106,
          "__ECDF": 0.8555555555555555
         },
         {
          "Day": false,
          "P": 106,
          "__ECDF": 0.8592592592592593
         },
         {
          "Day": false,
          "P": 106,
          "__ECDF": 0.8592592592592593
         },
         {
          "Day": false,
          "P": 106,
          "__ECDF": 0.8629629629629629
         },
         {
          "Day": false,
          "P": 108,
          "__ECDF": 0.8629629629629629
         },
         {
          "Day": false,
          "P": 108,
          "__ECDF": 0.8666666666666667
         },
         {
          "Day": false,
          "P": 108,
          "__ECDF": 0.8666666666666667
         },
         {
          "Day": false,
          "P": 108,
          "__ECDF": 0.8703703703703703
         },
         {
          "Day": false,
          "P": 109,
          "__ECDF": 0.8703703703703703
         },
         {
          "Day": false,
          "P": 109,
          "__ECDF": 0.8740740740740741
         },
         {
          "Day": false,
          "P": 109,
          "__ECDF": 0.8740740740740741
         },
         {
          "Day": false,
          "P": 109,
          "__ECDF": 0.8777777777777778
         },
         {
          "Day": false,
          "P": 111,
          "__ECDF": 0.8777777777777778
         },
         {
          "Day": false,
          "P": 111,
          "__ECDF": 0.8814814814814815
         },
         {
          "Day": false,
          "P": 113,
          "__ECDF": 0.8814814814814815
         },
         {
          "Day": false,
          "P": 113,
          "__ECDF": 0.8851851851851852
         },
         {
          "Day": false,
          "P": 113,
          "__ECDF": 0.8851851851851852
         },
         {
          "Day": false,
          "P": 113,
          "__ECDF": 0.8888888888888888
         },
         {
          "Day": false,
          "P": 117,
          "__ECDF": 0.8888888888888888
         },
         {
          "Day": false,
          "P": 117,
          "__ECDF": 0.8925925925925926
         },
         {
          "Day": false,
          "P": 118,
          "__ECDF": 0.8925925925925926
         },
         {
          "Day": false,
          "P": 118,
          "__ECDF": 0.8962962962962963
         },
         {
          "Day": false,
          "P": 121,
          "__ECDF": 0.8962962962962963
         },
         {
          "Day": false,
          "P": 121,
          "__ECDF": 0.9
         },
         {
          "Day": false,
          "P": 122,
          "__ECDF": 0.9
         },
         {
          "Day": false,
          "P": 122,
          "__ECDF": 0.9037037037037037
         },
         {
          "Day": false,
          "P": 126,
          "__ECDF": 0.9037037037037037
         },
         {
          "Day": false,
          "P": 126,
          "__ECDF": 0.9074074074074074
         },
         {
          "Day": false,
          "P": 131,
          "__ECDF": 0.9074074074074074
         },
         {
          "Day": false,
          "P": 131,
          "__ECDF": 0.9111111111111111
         },
         {
          "Day": false,
          "P": 134,
          "__ECDF": 0.9111111111111111
         },
         {
          "Day": false,
          "P": 134,
          "__ECDF": 0.9148148148148149
         },
         {
          "Day": false,
          "P": 138,
          "__ECDF": 0.9148148148148149
         },
         {
          "Day": false,
          "P": 138,
          "__ECDF": 0.9185185185185185
         },
         {
          "Day": false,
          "P": 142,
          "__ECDF": 0.9185185185185185
         },
         {
          "Day": false,
          "P": 142,
          "__ECDF": 0.9222222222222223
         },
         {
          "Day": false,
          "P": 145,
          "__ECDF": 0.9222222222222223
         },
         {
          "Day": false,
          "P": 145,
          "__ECDF": 0.9259259259259259
         },
         {
          "Day": false,
          "P": 148,
          "__ECDF": 0.9259259259259259
         },
         {
          "Day": false,
          "P": 148,
          "__ECDF": 0.9296296296296296
         },
         {
          "Day": false,
          "P": 151,
          "__ECDF": 0.9296296296296296
         },
         {
          "Day": false,
          "P": 151,
          "__ECDF": 0.9333333333333333
         },
         {
          "Day": false,
          "P": 152,
          "__ECDF": 0.9333333333333333
         },
         {
          "Day": false,
          "P": 152,
          "__ECDF": 0.937037037037037
         },
         {
          "Day": false,
          "P": 155,
          "__ECDF": 0.937037037037037
         },
         {
          "Day": false,
          "P": 155,
          "__ECDF": 0.9407407407407408
         },
         {
          "Day": false,
          "P": 157,
          "__ECDF": 0.9407407407407408
         },
         {
          "Day": false,
          "P": 157,
          "__ECDF": 0.9444444444444444
         },
         {
          "Day": false,
          "P": 162,
          "__ECDF": 0.9444444444444444
         },
         {
          "Day": false,
          "P": 162,
          "__ECDF": 0.9481481481481482
         },
         {
          "Day": false,
          "P": 170,
          "__ECDF": 0.9481481481481482
         },
         {
          "Day": false,
          "P": 170,
          "__ECDF": 0.9518518518518518
         },
         {
          "Day": false,
          "P": 172,
          "__ECDF": 0.9518518518518518
         },
         {
          "Day": false,
          "P": 172,
          "__ECDF": 0.9555555555555556
         },
         {
          "Day": false,
          "P": 173,
          "__ECDF": 0.9555555555555556
         },
         {
          "Day": false,
          "P": 173,
          "__ECDF": 0.9592592592592593
         },
         {
          "Day": false,
          "P": 176,
          "__ECDF": 0.9592592592592593
         },
         {
          "Day": false,
          "P": 176,
          "__ECDF": 0.9629629629629629
         },
         {
          "Day": false,
          "P": 177,
          "__ECDF": 0.9629629629629629
         },
         {
          "Day": false,
          "P": 177,
          "__ECDF": 0.9666666666666667
         },
         {
          "Day": false,
          "P": 191,
          "__ECDF": 0.9666666666666667
         },
         {
          "Day": false,
          "P": 191,
          "__ECDF": 0.9703703703703703
         },
         {
          "Day": false,
          "P": 201,
          "__ECDF": 0.9703703703703703
         },
         {
          "Day": false,
          "P": 201,
          "__ECDF": 0.9740740740740741
         },
         {
          "Day": false,
          "P": 205,
          "__ECDF": 0.9740740740740741
         },
         {
          "Day": false,
          "P": 205,
          "__ECDF": 0.9777777777777777
         },
         {
          "Day": false,
          "P": 211,
          "__ECDF": 0.9777777777777777
         },
         {
          "Day": false,
          "P": 211,
          "__ECDF": 0.9814814814814815
         },
         {
          "Day": false,
          "P": 223,
          "__ECDF": 0.9814814814814815
         },
         {
          "Day": false,
          "P": 223,
          "__ECDF": 0.9851851851851852
         },
         {
          "Day": false,
          "P": 230,
          "__ECDF": 0.9851851851851852
         },
         {
          "Day": false,
          "P": 230,
          "__ECDF": 0.9888888888888889
         },
         {
          "Day": false,
          "P": 389,
          "__ECDF": 0.9888888888888889
         },
         {
          "Day": false,
          "P": 389,
          "__ECDF": 0.9925925925925926
         },
         {
          "Day": false,
          "P": 513,
          "__ECDF": 0.9925925925925926
         },
         {
          "Day": false,
          "P": 513,
          "__ECDF": 0.9962962962962963
         },
         {
          "Day": false,
          "P": 699,
          "__ECDF": 0.9962962962962963
         },
         {
          "Day": false,
          "P": 699,
          "__ECDF": 1
         },
         {
          "Day": false,
          "P": 732.9,
          "__ECDF": 1
         },
         {
          "Day": true,
          "P": -12.899999999999999,
          "__ECDF": 0
         },
         {
          "Day": true,
          "P": 21,
          "__ECDF": 0
         },
         {
          "Day": true,
          "P": 21,
          "__ECDF": 0.005025125628140704
         },
         {
          "Day": true,
          "P": 21,
          "__ECDF": 0.005025125628140704
         },
         {
          "Day": true,
          "P": 21,
          "__ECDF": 0.010050251256281407
         },
         {
          "Day": true,
          "P": 21,
          "__ECDF": 0.010050251256281407
         },
         {
          "Day": true,
          "P": 21,
          "__ECDF": 0.01507537688442211
         },
         {
          "Day": true,
          "P": 21,
          "__ECDF": 0.01507537688442211
         },
         {
          "Day": true,
          "P": 21,
          "__ECDF": 0.020100502512562814
         },
         {
          "Day": true,
          "P": 21,
          "__ECDF": 0.020100502512562814
         },
         {
          "Day": true,
          "P": 21,
          "__ECDF": 0.02512562814070352
         },
         {
          "Day": true,
          "P": 21,
          "__ECDF": 0.02512562814070352
         },
         {
          "Day": true,
          "P": 21,
          "__ECDF": 0.03015075376884422
         },
         {
          "Day": true,
          "P": 21,
          "__ECDF": 0.03015075376884422
         },
         {
          "Day": true,
          "P": 21,
          "__ECDF": 0.035175879396984924
         },
         {
          "Day": true,
          "P": 21,
          "__ECDF": 0.035175879396984924
         },
         {
          "Day": true,
          "P": 21,
          "__ECDF": 0.04020100502512563
         },
         {
          "Day": true,
          "P": 21,
          "__ECDF": 0.04020100502512563
         },
         {
          "Day": true,
          "P": 21,
          "__ECDF": 0.04522613065326633
         },
         {
          "Day": true,
          "P": 21,
          "__ECDF": 0.04522613065326633
         },
         {
          "Day": true,
          "P": 21,
          "__ECDF": 0.05025125628140704
         },
         {
          "Day": true,
          "P": 21,
          "__ECDF": 0.05025125628140704
         },
         {
          "Day": true,
          "P": 21,
          "__ECDF": 0.05527638190954774
         },
         {
          "Day": true,
          "P": 21,
          "__ECDF": 0.05527638190954774
         },
         {
          "Day": true,
          "P": 21,
          "__ECDF": 0.06030150753768844
         },
         {
          "Day": true,
          "P": 21,
          "__ECDF": 0.06030150753768844
         },
         {
          "Day": true,
          "P": 21,
          "__ECDF": 0.06532663316582915
         },
         {
          "Day": true,
          "P": 21,
          "__ECDF": 0.06532663316582915
         },
         {
          "Day": true,
          "P": 21,
          "__ECDF": 0.07035175879396985
         },
         {
          "Day": true,
          "P": 21,
          "__ECDF": 0.07035175879396985
         },
         {
          "Day": true,
          "P": 21,
          "__ECDF": 0.07537688442211055
         },
         {
          "Day": true,
          "P": 21,
          "__ECDF": 0.07537688442211055
         },
         {
          "Day": true,
          "P": 21,
          "__ECDF": 0.08040201005025126
         },
         {
          "Day": true,
          "P": 21,
          "__ECDF": 0.08040201005025126
         },
         {
          "Day": true,
          "P": 21,
          "__ECDF": 0.08542713567839195
         },
         {
          "Day": true,
          "P": 21,
          "__ECDF": 0.08542713567839195
         },
         {
          "Day": true,
          "P": 21,
          "__ECDF": 0.09045226130653267
         },
         {
          "Day": true,
          "P": 21,
          "__ECDF": 0.09045226130653267
         },
         {
          "Day": true,
          "P": 21,
          "__ECDF": 0.09547738693467336
         },
         {
          "Day": true,
          "P": 21,
          "__ECDF": 0.09547738693467336
         },
         {
          "Day": true,
          "P": 21,
          "__ECDF": 0.10050251256281408
         },
         {
          "Day": true,
          "P": 21,
          "__ECDF": 0.10050251256281408
         },
         {
          "Day": true,
          "P": 21,
          "__ECDF": 0.10552763819095477
         },
         {
          "Day": true,
          "P": 21,
          "__ECDF": 0.10552763819095477
         },
         {
          "Day": true,
          "P": 21,
          "__ECDF": 0.11055276381909548
         },
         {
          "Day": true,
          "P": 21,
          "__ECDF": 0.11055276381909548
         },
         {
          "Day": true,
          "P": 21,
          "__ECDF": 0.11557788944723618
         },
         {
          "Day": true,
          "P": 21,
          "__ECDF": 0.11557788944723618
         },
         {
          "Day": true,
          "P": 21,
          "__ECDF": 0.12060301507537688
         },
         {
          "Day": true,
          "P": 21,
          "__ECDF": 0.12060301507537688
         },
         {
          "Day": true,
          "P": 21,
          "__ECDF": 0.12562814070351758
         },
         {
          "Day": true,
          "P": 21,
          "__ECDF": 0.12562814070351758
         },
         {
          "Day": true,
          "P": 21,
          "__ECDF": 0.1306532663316583
         },
         {
          "Day": true,
          "P": 21,
          "__ECDF": 0.1306532663316583
         },
         {
          "Day": true,
          "P": 21,
          "__ECDF": 0.135678391959799
         },
         {
          "Day": true,
          "P": 21,
          "__ECDF": 0.135678391959799
         },
         {
          "Day": true,
          "P": 21,
          "__ECDF": 0.1407035175879397
         },
         {
          "Day": true,
          "P": 21,
          "__ECDF": 0.1407035175879397
         },
         {
          "Day": true,
          "P": 21,
          "__ECDF": 0.1457286432160804
         },
         {
          "Day": true,
          "P": 21,
          "__ECDF": 0.1457286432160804
         },
         {
          "Day": true,
          "P": 21,
          "__ECDF": 0.1507537688442211
         },
         {
          "Day": true,
          "P": 21,
          "__ECDF": 0.1507537688442211
         },
         {
          "Day": true,
          "P": 21,
          "__ECDF": 0.15577889447236182
         },
         {
          "Day": true,
          "P": 21,
          "__ECDF": 0.15577889447236182
         },
         {
          "Day": true,
          "P": 21,
          "__ECDF": 0.16080402010050251
         },
         {
          "Day": true,
          "P": 21,
          "__ECDF": 0.16080402010050251
         },
         {
          "Day": true,
          "P": 21,
          "__ECDF": 0.1658291457286432
         },
         {
          "Day": true,
          "P": 21,
          "__ECDF": 0.1658291457286432
         },
         {
          "Day": true,
          "P": 21,
          "__ECDF": 0.1708542713567839
         },
         {
          "Day": true,
          "P": 21,
          "__ECDF": 0.1708542713567839
         },
         {
          "Day": true,
          "P": 21,
          "__ECDF": 0.17587939698492464
         },
         {
          "Day": true,
          "P": 22,
          "__ECDF": 0.17587939698492464
         },
         {
          "Day": true,
          "P": 22,
          "__ECDF": 0.18090452261306533
         },
         {
          "Day": true,
          "P": 22,
          "__ECDF": 0.18090452261306533
         },
         {
          "Day": true,
          "P": 22,
          "__ECDF": 0.18592964824120603
         },
         {
          "Day": true,
          "P": 22,
          "__ECDF": 0.18592964824120603
         },
         {
          "Day": true,
          "P": 22,
          "__ECDF": 0.19095477386934673
         },
         {
          "Day": true,
          "P": 22,
          "__ECDF": 0.19095477386934673
         },
         {
          "Day": true,
          "P": 22,
          "__ECDF": 0.19597989949748743
         },
         {
          "Day": true,
          "P": 22,
          "__ECDF": 0.19597989949748743
         },
         {
          "Day": true,
          "P": 22,
          "__ECDF": 0.20100502512562815
         },
         {
          "Day": true,
          "P": 22,
          "__ECDF": 0.20100502512562815
         },
         {
          "Day": true,
          "P": 22,
          "__ECDF": 0.20603015075376885
         },
         {
          "Day": true,
          "P": 22,
          "__ECDF": 0.20603015075376885
         },
         {
          "Day": true,
          "P": 22,
          "__ECDF": 0.21105527638190955
         },
         {
          "Day": true,
          "P": 22,
          "__ECDF": 0.21105527638190955
         },
         {
          "Day": true,
          "P": 22,
          "__ECDF": 0.21608040201005024
         },
         {
          "Day": true,
          "P": 22,
          "__ECDF": 0.21608040201005024
         },
         {
          "Day": true,
          "P": 22,
          "__ECDF": 0.22110552763819097
         },
         {
          "Day": true,
          "P": 22,
          "__ECDF": 0.22110552763819097
         },
         {
          "Day": true,
          "P": 22,
          "__ECDF": 0.22613065326633167
         },
         {
          "Day": true,
          "P": 22,
          "__ECDF": 0.22613065326633167
         },
         {
          "Day": true,
          "P": 22,
          "__ECDF": 0.23115577889447236
         },
         {
          "Day": true,
          "P": 22,
          "__ECDF": 0.23115577889447236
         },
         {
          "Day": true,
          "P": 22,
          "__ECDF": 0.23618090452261306
         },
         {
          "Day": true,
          "P": 22,
          "__ECDF": 0.23618090452261306
         },
         {
          "Day": true,
          "P": 22,
          "__ECDF": 0.24120603015075376
         },
         {
          "Day": true,
          "P": 22,
          "__ECDF": 0.24120603015075376
         },
         {
          "Day": true,
          "P": 22,
          "__ECDF": 0.24623115577889448
         },
         {
          "Day": true,
          "P": 22,
          "__ECDF": 0.24623115577889448
         },
         {
          "Day": true,
          "P": 22,
          "__ECDF": 0.25125628140703515
         },
         {
          "Day": true,
          "P": 22,
          "__ECDF": 0.25125628140703515
         },
         {
          "Day": true,
          "P": 22,
          "__ECDF": 0.2562814070351759
         },
         {
          "Day": true,
          "P": 22,
          "__ECDF": 0.2562814070351759
         },
         {
          "Day": true,
          "P": 22,
          "__ECDF": 0.2613065326633166
         },
         {
          "Day": true,
          "P": 22,
          "__ECDF": 0.2613065326633166
         },
         {
          "Day": true,
          "P": 22,
          "__ECDF": 0.2663316582914573
         },
         {
          "Day": true,
          "P": 22,
          "__ECDF": 0.2663316582914573
         },
         {
          "Day": true,
          "P": 22,
          "__ECDF": 0.271356783919598
         },
         {
          "Day": true,
          "P": 22,
          "__ECDF": 0.271356783919598
         },
         {
          "Day": true,
          "P": 22,
          "__ECDF": 0.27638190954773867
         },
         {
          "Day": true,
          "P": 22,
          "__ECDF": 0.27638190954773867
         },
         {
          "Day": true,
          "P": 22,
          "__ECDF": 0.2814070351758794
         },
         {
          "Day": true,
          "P": 22,
          "__ECDF": 0.2814070351758794
         },
         {
          "Day": true,
          "P": 22,
          "__ECDF": 0.2864321608040201
         },
         {
          "Day": true,
          "P": 22,
          "__ECDF": 0.2864321608040201
         },
         {
          "Day": true,
          "P": 22,
          "__ECDF": 0.2914572864321608
         },
         {
          "Day": true,
          "P": 22,
          "__ECDF": 0.2914572864321608
         },
         {
          "Day": true,
          "P": 22,
          "__ECDF": 0.2964824120603015
         },
         {
          "Day": true,
          "P": 22,
          "__ECDF": 0.2964824120603015
         },
         {
          "Day": true,
          "P": 22,
          "__ECDF": 0.3015075376884422
         },
         {
          "Day": true,
          "P": 22,
          "__ECDF": 0.3015075376884422
         },
         {
          "Day": true,
          "P": 22,
          "__ECDF": 0.3065326633165829
         },
         {
          "Day": true,
          "P": 22,
          "__ECDF": 0.3065326633165829
         },
         {
          "Day": true,
          "P": 22,
          "__ECDF": 0.31155778894472363
         },
         {
          "Day": true,
          "P": 22,
          "__ECDF": 0.31155778894472363
         },
         {
          "Day": true,
          "P": 22,
          "__ECDF": 0.3165829145728643
         },
         {
          "Day": true,
          "P": 22,
          "__ECDF": 0.3165829145728643
         },
         {
          "Day": true,
          "P": 22,
          "__ECDF": 0.32160804020100503
         },
         {
          "Day": true,
          "P": 22,
          "__ECDF": 0.32160804020100503
         },
         {
          "Day": true,
          "P": 22,
          "__ECDF": 0.32663316582914576
         },
         {
          "Day": true,
          "P": 22,
          "__ECDF": 0.32663316582914576
         },
         {
          "Day": true,
          "P": 22,
          "__ECDF": 0.3316582914572864
         },
         {
          "Day": true,
          "P": 23,
          "__ECDF": 0.3316582914572864
         },
         {
          "Day": true,
          "P": 23,
          "__ECDF": 0.33668341708542715
         },
         {
          "Day": true,
          "P": 23,
          "__ECDF": 0.33668341708542715
         },
         {
          "Day": true,
          "P": 23,
          "__ECDF": 0.3417085427135678
         },
         {
          "Day": true,
          "P": 23,
          "__ECDF": 0.3417085427135678
         },
         {
          "Day": true,
          "P": 23,
          "__ECDF": 0.34673366834170855
         },
         {
          "Day": true,
          "P": 23,
          "__ECDF": 0.34673366834170855
         },
         {
          "Day": true,
          "P": 23,
          "__ECDF": 0.35175879396984927
         },
         {
          "Day": true,
          "P": 23,
          "__ECDF": 0.35175879396984927
         },
         {
          "Day": true,
          "P": 23,
          "__ECDF": 0.35678391959798994
         },
         {
          "Day": true,
          "P": 23,
          "__ECDF": 0.35678391959798994
         },
         {
          "Day": true,
          "P": 23,
          "__ECDF": 0.36180904522613067
         },
         {
          "Day": true,
          "P": 23,
          "__ECDF": 0.36180904522613067
         },
         {
          "Day": true,
          "P": 23,
          "__ECDF": 0.36683417085427134
         },
         {
          "Day": true,
          "P": 23,
          "__ECDF": 0.36683417085427134
         },
         {
          "Day": true,
          "P": 23,
          "__ECDF": 0.37185929648241206
         },
         {
          "Day": true,
          "P": 23,
          "__ECDF": 0.37185929648241206
         },
         {
          "Day": true,
          "P": 23,
          "__ECDF": 0.3768844221105528
         },
         {
          "Day": true,
          "P": 23,
          "__ECDF": 0.3768844221105528
         },
         {
          "Day": true,
          "P": 23,
          "__ECDF": 0.38190954773869346
         },
         {
          "Day": true,
          "P": 23,
          "__ECDF": 0.38190954773869346
         },
         {
          "Day": true,
          "P": 23,
          "__ECDF": 0.3869346733668342
         },
         {
          "Day": true,
          "P": 23,
          "__ECDF": 0.3869346733668342
         },
         {
          "Day": true,
          "P": 23,
          "__ECDF": 0.39195979899497485
         },
         {
          "Day": true,
          "P": 23,
          "__ECDF": 0.39195979899497485
         },
         {
          "Day": true,
          "P": 23,
          "__ECDF": 0.3969849246231156
         },
         {
          "Day": true,
          "P": 23,
          "__ECDF": 0.3969849246231156
         },
         {
          "Day": true,
          "P": 23,
          "__ECDF": 0.4020100502512563
         },
         {
          "Day": true,
          "P": 23,
          "__ECDF": 0.4020100502512563
         },
         {
          "Day": true,
          "P": 23,
          "__ECDF": 0.40703517587939697
         },
         {
          "Day": true,
          "P": 23,
          "__ECDF": 0.40703517587939697
         },
         {
          "Day": true,
          "P": 23,
          "__ECDF": 0.4120603015075377
         },
         {
          "Day": true,
          "P": 23,
          "__ECDF": 0.4120603015075377
         },
         {
          "Day": true,
          "P": 23,
          "__ECDF": 0.41708542713567837
         },
         {
          "Day": true,
          "P": 24,
          "__ECDF": 0.41708542713567837
         },
         {
          "Day": true,
          "P": 24,
          "__ECDF": 0.4221105527638191
         },
         {
          "Day": true,
          "P": 24,
          "__ECDF": 0.4221105527638191
         },
         {
          "Day": true,
          "P": 24,
          "__ECDF": 0.4271356783919598
         },
         {
          "Day": true,
          "P": 24,
          "__ECDF": 0.4271356783919598
         },
         {
          "Day": true,
          "P": 24,
          "__ECDF": 0.4321608040201005
         },
         {
          "Day": true,
          "P": 24,
          "__ECDF": 0.4321608040201005
         },
         {
          "Day": true,
          "P": 24,
          "__ECDF": 0.4371859296482412
         },
         {
          "Day": true,
          "P": 24,
          "__ECDF": 0.4371859296482412
         },
         {
          "Day": true,
          "P": 24,
          "__ECDF": 0.44221105527638194
         },
         {
          "Day": true,
          "P": 24,
          "__ECDF": 0.44221105527638194
         },
         {
          "Day": true,
          "P": 24,
          "__ECDF": 0.4472361809045226
         },
         {
          "Day": true,
          "P": 24,
          "__ECDF": 0.4472361809045226
         },
         {
          "Day": true,
          "P": 24,
          "__ECDF": 0.45226130653266333
         },
         {
          "Day": true,
          "P": 24,
          "__ECDF": 0.45226130653266333
         },
         {
          "Day": true,
          "P": 24,
          "__ECDF": 0.457286432160804
         },
         {
          "Day": true,
          "P": 25,
          "__ECDF": 0.457286432160804
         },
         {
          "Day": true,
          "P": 25,
          "__ECDF": 0.4623115577889447
         },
         {
          "Day": true,
          "P": 25,
          "__ECDF": 0.4623115577889447
         },
         {
          "Day": true,
          "P": 25,
          "__ECDF": 0.46733668341708545
         },
         {
          "Day": true,
          "P": 25,
          "__ECDF": 0.46733668341708545
         },
         {
          "Day": true,
          "P": 25,
          "__ECDF": 0.4723618090452261
         },
         {
          "Day": true,
          "P": 25,
          "__ECDF": 0.4723618090452261
         },
         {
          "Day": true,
          "P": 25,
          "__ECDF": 0.47738693467336685
         },
         {
          "Day": true,
          "P": 25,
          "__ECDF": 0.47738693467336685
         },
         {
          "Day": true,
          "P": 25,
          "__ECDF": 0.4824120603015075
         },
         {
          "Day": true,
          "P": 25,
          "__ECDF": 0.4824120603015075
         },
         {
          "Day": true,
          "P": 25,
          "__ECDF": 0.48743718592964824
         },
         {
          "Day": true,
          "P": 25,
          "__ECDF": 0.48743718592964824
         },
         {
          "Day": true,
          "P": 25,
          "__ECDF": 0.49246231155778897
         },
         {
          "Day": true,
          "P": 25,
          "__ECDF": 0.49246231155778897
         },
         {
          "Day": true,
          "P": 25,
          "__ECDF": 0.49748743718592964
         },
         {
          "Day": true,
          "P": 25,
          "__ECDF": 0.49748743718592964
         },
         {
          "Day": true,
          "P": 25,
          "__ECDF": 0.5025125628140703
         },
         {
          "Day": true,
          "P": 25,
          "__ECDF": 0.5025125628140703
         },
         {
          "Day": true,
          "P": 25,
          "__ECDF": 0.507537688442211
         },
         {
          "Day": true,
          "P": 25,
          "__ECDF": 0.507537688442211
         },
         {
          "Day": true,
          "P": 25,
          "__ECDF": 0.5125628140703518
         },
         {
          "Day": true,
          "P": 25,
          "__ECDF": 0.5125628140703518
         },
         {
          "Day": true,
          "P": 25,
          "__ECDF": 0.5175879396984925
         },
         {
          "Day": true,
          "P": 25,
          "__ECDF": 0.5175879396984925
         },
         {
          "Day": true,
          "P": 25,
          "__ECDF": 0.5226130653266332
         },
         {
          "Day": true,
          "P": 25,
          "__ECDF": 0.5226130653266332
         },
         {
          "Day": true,
          "P": 25,
          "__ECDF": 0.5276381909547738
         },
         {
          "Day": true,
          "P": 26,
          "__ECDF": 0.5276381909547738
         },
         {
          "Day": true,
          "P": 26,
          "__ECDF": 0.5326633165829145
         },
         {
          "Day": true,
          "P": 26,
          "__ECDF": 0.5326633165829145
         },
         {
          "Day": true,
          "P": 26,
          "__ECDF": 0.5376884422110553
         },
         {
          "Day": true,
          "P": 26,
          "__ECDF": 0.5376884422110553
         },
         {
          "Day": true,
          "P": 26,
          "__ECDF": 0.542713567839196
         },
         {
          "Day": true,
          "P": 26,
          "__ECDF": 0.542713567839196
         },
         {
          "Day": true,
          "P": 26,
          "__ECDF": 0.5477386934673367
         },
         {
          "Day": true,
          "P": 26,
          "__ECDF": 0.5477386934673367
         },
         {
          "Day": true,
          "P": 26,
          "__ECDF": 0.5527638190954773
         },
         {
          "Day": true,
          "P": 26,
          "__ECDF": 0.5527638190954773
         },
         {
          "Day": true,
          "P": 26,
          "__ECDF": 0.5577889447236181
         },
         {
          "Day": true,
          "P": 26,
          "__ECDF": 0.5577889447236181
         },
         {
          "Day": true,
          "P": 26,
          "__ECDF": 0.5628140703517588
         },
         {
          "Day": true,
          "P": 26,
          "__ECDF": 0.5628140703517588
         },
         {
          "Day": true,
          "P": 26,
          "__ECDF": 0.5678391959798995
         },
         {
          "Day": true,
          "P": 26,
          "__ECDF": 0.5678391959798995
         },
         {
          "Day": true,
          "P": 26,
          "__ECDF": 0.5728643216080402
         },
         {
          "Day": true,
          "P": 26,
          "__ECDF": 0.5728643216080402
         },
         {
          "Day": true,
          "P": 26,
          "__ECDF": 0.5778894472361809
         },
         {
          "Day": true,
          "P": 26,
          "__ECDF": 0.5778894472361809
         },
         {
          "Day": true,
          "P": 26,
          "__ECDF": 0.5829145728643216
         },
         {
          "Day": true,
          "P": 26,
          "__ECDF": 0.5829145728643216
         },
         {
          "Day": true,
          "P": 26,
          "__ECDF": 0.5879396984924623
         },
         {
          "Day": true,
          "P": 26,
          "__ECDF": 0.5879396984924623
         },
         {
          "Day": true,
          "P": 26,
          "__ECDF": 0.592964824120603
         },
         {
          "Day": true,
          "P": 27,
          "__ECDF": 0.592964824120603
         },
         {
          "Day": true,
          "P": 27,
          "__ECDF": 0.5979899497487438
         },
         {
          "Day": true,
          "P": 27,
          "__ECDF": 0.5979899497487438
         },
         {
          "Day": true,
          "P": 27,
          "__ECDF": 0.6030150753768844
         },
         {
          "Day": true,
          "P": 27,
          "__ECDF": 0.6030150753768844
         },
         {
          "Day": true,
          "P": 27,
          "__ECDF": 0.6080402010050251
         },
         {
          "Day": true,
          "P": 27,
          "__ECDF": 0.6080402010050251
         },
         {
          "Day": true,
          "P": 27,
          "__ECDF": 0.6130653266331658
         },
         {
          "Day": true,
          "P": 27,
          "__ECDF": 0.6130653266331658
         },
         {
          "Day": true,
          "P": 27,
          "__ECDF": 0.6180904522613065
         },
         {
          "Day": true,
          "P": 27,
          "__ECDF": 0.6180904522613065
         },
         {
          "Day": true,
          "P": 27,
          "__ECDF": 0.6231155778894473
         },
         {
          "Day": true,
          "P": 27,
          "__ECDF": 0.6231155778894473
         },
         {
          "Day": true,
          "P": 27,
          "__ECDF": 0.628140703517588
         },
         {
          "Day": true,
          "P": 27,
          "__ECDF": 0.628140703517588
         },
         {
          "Day": true,
          "P": 27,
          "__ECDF": 0.6331658291457286
         },
         {
          "Day": true,
          "P": 27,
          "__ECDF": 0.6331658291457286
         },
         {
          "Day": true,
          "P": 27,
          "__ECDF": 0.6381909547738693
         },
         {
          "Day": true,
          "P": 27,
          "__ECDF": 0.6381909547738693
         },
         {
          "Day": true,
          "P": 27,
          "__ECDF": 0.6432160804020101
         },
         {
          "Day": true,
          "P": 27,
          "__ECDF": 0.6432160804020101
         },
         {
          "Day": true,
          "P": 27,
          "__ECDF": 0.6482412060301508
         },
         {
          "Day": true,
          "P": 27,
          "__ECDF": 0.6482412060301508
         },
         {
          "Day": true,
          "P": 27,
          "__ECDF": 0.6532663316582915
         },
         {
          "Day": true,
          "P": 27,
          "__ECDF": 0.6532663316582915
         },
         {
          "Day": true,
          "P": 27,
          "__ECDF": 0.6582914572864321
         },
         {
          "Day": true,
          "P": 27,
          "__ECDF": 0.6582914572864321
         },
         {
          "Day": true,
          "P": 27,
          "__ECDF": 0.6633165829145728
         },
         {
          "Day": true,
          "P": 27,
          "__ECDF": 0.6633165829145728
         },
         {
          "Day": true,
          "P": 27,
          "__ECDF": 0.6683417085427136
         },
         {
          "Day": true,
          "P": 28,
          "__ECDF": 0.6683417085427136
         },
         {
          "Day": true,
          "P": 28,
          "__ECDF": 0.6733668341708543
         },
         {
          "Day": true,
          "P": 28,
          "__ECDF": 0.6733668341708543
         },
         {
          "Day": true,
          "P": 28,
          "__ECDF": 0.678391959798995
         },
         {
          "Day": true,
          "P": 28,
          "__ECDF": 0.678391959798995
         },
         {
          "Day": true,
          "P": 28,
          "__ECDF": 0.6834170854271356
         },
         {
          "Day": true,
          "P": 28,
          "__ECDF": 0.6834170854271356
         },
         {
          "Day": true,
          "P": 28,
          "__ECDF": 0.6884422110552764
         },
         {
          "Day": true,
          "P": 28,
          "__ECDF": 0.6884422110552764
         },
         {
          "Day": true,
          "P": 28,
          "__ECDF": 0.6934673366834171
         },
         {
          "Day": true,
          "P": 28,
          "__ECDF": 0.6934673366834171
         },
         {
          "Day": true,
          "P": 28,
          "__ECDF": 0.6984924623115578
         },
         {
          "Day": true,
          "P": 28,
          "__ECDF": 0.6984924623115578
         },
         {
          "Day": true,
          "P": 28,
          "__ECDF": 0.7035175879396985
         },
         {
          "Day": true,
          "P": 28,
          "__ECDF": 0.7035175879396985
         },
         {
          "Day": true,
          "P": 28,
          "__ECDF": 0.7085427135678392
         },
         {
          "Day": true,
          "P": 28,
          "__ECDF": 0.7085427135678392
         },
         {
          "Day": true,
          "P": 28,
          "__ECDF": 0.7135678391959799
         },
         {
          "Day": true,
          "P": 28,
          "__ECDF": 0.7135678391959799
         },
         {
          "Day": true,
          "P": 28,
          "__ECDF": 0.7185929648241206
         },
         {
          "Day": true,
          "P": 29,
          "__ECDF": 0.7185929648241206
         },
         {
          "Day": true,
          "P": 29,
          "__ECDF": 0.7236180904522613
         },
         {
          "Day": true,
          "P": 29,
          "__ECDF": 0.7236180904522613
         },
         {
          "Day": true,
          "P": 29,
          "__ECDF": 0.7286432160804021
         },
         {
          "Day": true,
          "P": 29,
          "__ECDF": 0.7286432160804021
         },
         {
          "Day": true,
          "P": 29,
          "__ECDF": 0.7336683417085427
         },
         {
          "Day": true,
          "P": 29,
          "__ECDF": 0.7336683417085427
         },
         {
          "Day": true,
          "P": 29,
          "__ECDF": 0.7386934673366834
         },
         {
          "Day": true,
          "P": 30,
          "__ECDF": 0.7386934673366834
         },
         {
          "Day": true,
          "P": 30,
          "__ECDF": 0.7437185929648241
         },
         {
          "Day": true,
          "P": 30,
          "__ECDF": 0.7437185929648241
         },
         {
          "Day": true,
          "P": 30,
          "__ECDF": 0.7487437185929648
         },
         {
          "Day": true,
          "P": 30,
          "__ECDF": 0.7487437185929648
         },
         {
          "Day": true,
          "P": 30,
          "__ECDF": 0.7537688442211056
         },
         {
          "Day": true,
          "P": 30,
          "__ECDF": 0.7537688442211056
         },
         {
          "Day": true,
          "P": 30,
          "__ECDF": 0.7587939698492462
         },
         {
          "Day": true,
          "P": 30,
          "__ECDF": 0.7587939698492462
         },
         {
          "Day": true,
          "P": 30,
          "__ECDF": 0.7638190954773869
         },
         {
          "Day": true,
          "P": 31,
          "__ECDF": 0.7638190954773869
         },
         {
          "Day": true,
          "P": 31,
          "__ECDF": 0.7688442211055276
         },
         {
          "Day": true,
          "P": 31,
          "__ECDF": 0.7688442211055276
         },
         {
          "Day": true,
          "P": 31,
          "__ECDF": 0.7738693467336684
         },
         {
          "Day": true,
          "P": 31,
          "__ECDF": 0.7738693467336684
         },
         {
          "Day": true,
          "P": 31,
          "__ECDF": 0.7788944723618091
         },
         {
          "Day": true,
          "P": 31,
          "__ECDF": 0.7788944723618091
         },
         {
          "Day": true,
          "P": 31,
          "__ECDF": 0.7839195979899497
         },
         {
          "Day": true,
          "P": 31,
          "__ECDF": 0.7839195979899497
         },
         {
          "Day": true,
          "P": 31,
          "__ECDF": 0.7889447236180904
         },
         {
          "Day": true,
          "P": 32,
          "__ECDF": 0.7889447236180904
         },
         {
          "Day": true,
          "P": 32,
          "__ECDF": 0.7939698492462312
         },
         {
          "Day": true,
          "P": 32,
          "__ECDF": 0.7939698492462312
         },
         {
          "Day": true,
          "P": 32,
          "__ECDF": 0.7989949748743719
         },
         {
          "Day": true,
          "P": 33,
          "__ECDF": 0.7989949748743719
         },
         {
          "Day": true,
          "P": 33,
          "__ECDF": 0.8040201005025126
         },
         {
          "Day": true,
          "P": 33,
          "__ECDF": 0.8040201005025126
         },
         {
          "Day": true,
          "P": 33,
          "__ECDF": 0.8090452261306532
         },
         {
          "Day": true,
          "P": 35,
          "__ECDF": 0.8090452261306532
         },
         {
          "Day": true,
          "P": 35,
          "__ECDF": 0.8140703517587939
         },
         {
          "Day": true,
          "P": 36,
          "__ECDF": 0.8140703517587939
         },
         {
          "Day": true,
          "P": 36,
          "__ECDF": 0.8190954773869347
         },
         {
          "Day": true,
          "P": 39,
          "__ECDF": 0.8190954773869347
         },
         {
          "Day": true,
          "P": 39,
          "__ECDF": 0.8241206030150754
         },
         {
          "Day": true,
          "P": 41,
          "__ECDF": 0.8241206030150754
         },
         {
          "Day": true,
          "P": 41,
          "__ECDF": 0.8291457286432161
         },
         {
          "Day": true,
          "P": 41,
          "__ECDF": 0.8291457286432161
         },
         {
          "Day": true,
          "P": 41,
          "__ECDF": 0.8341708542713567
         },
         {
          "Day": true,
          "P": 43,
          "__ECDF": 0.8341708542713567
         },
         {
          "Day": true,
          "P": 43,
          "__ECDF": 0.8391959798994975
         },
         {
          "Day": true,
          "P": 45,
          "__ECDF": 0.8391959798994975
         },
         {
          "Day": true,
          "P": 45,
          "__ECDF": 0.8442211055276382
         },
         {
          "Day": true,
          "P": 49,
          "__ECDF": 0.8442211055276382
         },
         {
          "Day": true,
          "P": 49,
          "__ECDF": 0.8492462311557789
         },
         {
          "Day": true,
          "P": 49,
          "__ECDF": 0.8492462311557789
         },
         {
          "Day": true,
          "P": 49,
          "__ECDF": 0.8542713567839196
         },
         {
          "Day": true,
          "P": 53,
          "__ECDF": 0.8542713567839196
         },
         {
          "Day": true,
          "P": 53,
          "__ECDF": 0.8592964824120602
         },
         {
          "Day": true,
          "P": 54,
          "__ECDF": 0.8592964824120602
         },
         {
          "Day": true,
          "P": 54,
          "__ECDF": 0.864321608040201
         },
         {
          "Day": true,
          "P": 60,
          "__ECDF": 0.864321608040201
         },
         {
          "Day": true,
          "P": 60,
          "__ECDF": 0.8693467336683417
         },
         {
          "Day": true,
          "P": 62,
          "__ECDF": 0.8693467336683417
         },
         {
          "Day": true,
          "P": 62,
          "__ECDF": 0.8743718592964824
         },
         {
          "Day": true,
          "P": 62,
          "__ECDF": 0.8743718592964824
         },
         {
          "Day": true,
          "P": 62,
          "__ECDF": 0.8793969849246231
         },
         {
          "Day": true,
          "P": 65,
          "__ECDF": 0.8793969849246231
         },
         {
          "Day": true,
          "P": 65,
          "__ECDF": 0.8844221105527639
         },
         {
          "Day": true,
          "P": 69,
          "__ECDF": 0.8844221105527639
         },
         {
          "Day": true,
          "P": 69,
          "__ECDF": 0.8894472361809045
         },
         {
          "Day": true,
          "P": 72,
          "__ECDF": 0.8894472361809045
         },
         {
          "Day": true,
          "P": 72,
          "__ECDF": 0.8944723618090452
         },
         {
          "Day": true,
          "P": 74,
          "__ECDF": 0.8944723618090452
         },
         {
          "Day": true,
          "P": 74,
          "__ECDF": 0.8994974874371859
         },
         {
          "Day": true,
          "P": 75,
          "__ECDF": 0.8994974874371859
         },
         {
          "Day": true,
          "P": 75,
          "__ECDF": 0.9045226130653267
         },
         {
          "Day": true,
          "P": 75,
          "__ECDF": 0.9045226130653267
         },
         {
          "Day": true,
          "P": 75,
          "__ECDF": 0.9095477386934674
         },
         {
          "Day": true,
          "P": 75,
          "__ECDF": 0.9095477386934674
         },
         {
          "Day": true,
          "P": 75,
          "__ECDF": 0.914572864321608
         },
         {
          "Day": true,
          "P": 76,
          "__ECDF": 0.914572864321608
         },
         {
          "Day": true,
          "P": 76,
          "__ECDF": 0.9195979899497487
         },
         {
          "Day": true,
          "P": 77,
          "__ECDF": 0.9195979899497487
         },
         {
          "Day": true,
          "P": 77,
          "__ECDF": 0.9246231155778895
         },
         {
          "Day": true,
          "P": 78,
          "__ECDF": 0.9246231155778895
         },
         {
          "Day": true,
          "P": 78,
          "__ECDF": 0.9296482412060302
         },
         {
          "Day": true,
          "P": 79,
          "__ECDF": 0.9296482412060302
         },
         {
          "Day": true,
          "P": 79,
          "__ECDF": 0.9346733668341709
         },
         {
          "Day": true,
          "P": 81,
          "__ECDF": 0.9346733668341709
         },
         {
          "Day": true,
          "P": 81,
          "__ECDF": 0.9396984924623115
         },
         {
          "Day": true,
          "P": 85,
          "__ECDF": 0.9396984924623115
         },
         {
          "Day": true,
          "P": 85,
          "__ECDF": 0.9447236180904522
         },
         {
          "Day": true,
          "P": 86,
          "__ECDF": 0.9447236180904522
         },
         {
          "Day": true,
          "P": 86,
          "__ECDF": 0.949748743718593
         },
         {
          "Day": true,
          "P": 87,
          "__ECDF": 0.949748743718593
         },
         {
          "Day": true,
          "P": 87,
          "__ECDF": 0.9547738693467337
         },
         {
          "Day": true,
          "P": 87,
          "__ECDF": 0.9547738693467337
         },
         {
          "Day": true,
          "P": 87,
          "__ECDF": 0.9597989949748744
         },
         {
          "Day": true,
          "P": 90,
          "__ECDF": 0.9597989949748744
         },
         {
          "Day": true,
          "P": 90,
          "__ECDF": 0.964824120603015
         },
         {
          "Day": true,
          "P": 90,
          "__ECDF": 0.964824120603015
         },
         {
          "Day": true,
          "P": 90,
          "__ECDF": 0.9698492462311558
         },
         {
          "Day": true,
          "P": 91,
          "__ECDF": 0.9698492462311558
         },
         {
          "Day": true,
          "P": 91,
          "__ECDF": 0.9748743718592965
         },
         {
          "Day": true,
          "P": 92,
          "__ECDF": 0.9748743718592965
         },
         {
          "Day": true,
          "P": 92,
          "__ECDF": 0.9798994974874372
         },
         {
          "Day": true,
          "P": 94,
          "__ECDF": 0.9798994974874372
         },
         {
          "Day": true,
          "P": 94,
          "__ECDF": 0.9849246231155779
         },
         {
          "Day": true,
          "P": 95,
          "__ECDF": 0.9849246231155779
         },
         {
          "Day": true,
          "P": 95,
          "__ECDF": 0.9899497487437185
         },
         {
          "Day": true,
          "P": 104,
          "__ECDF": 0.9899497487437185
         },
         {
          "Day": true,
          "P": 104,
          "__ECDF": 0.9949748743718593
         },
         {
          "Day": true,
          "P": 142,
          "__ECDF": 0.9949748743718593
         },
         {
          "Day": true,
          "P": 142,
          "__ECDF": 1
         },
         {
          "Day": true,
          "P": 732.9,
          "__ECDF": 1
         }
        ]
       },
       "encoding": {
        "color": {
         "field": "Day",
         "scale": {},
         "type": "nominal"
        },
        "order": {
         "field": "P",
         "sort": "ascending",
         "type": "quantitative"
        },
        "x": {
         "field": "P",
         "type": "quantitative"
        },
        "y": {
         "field": "__ECDF",
         "title": "ECDF",
         "type": "quantitative"
        }
       },
       "mark": {
        "type": "line"
       }
      },
      "image/png": "[encoded data removed]",
      "text/plain": [
       "<VegaLite 2 object>\n",
       "\n",
       "If you see this message, it means the renderer has not been properly enabled\n",
       "for the frontend that you are using. For more information, see\n",
       "https://altair-viz.github.io/user_guide/troubleshooting.html\n"
      ]
     },
     "execution_count": 18,
     "metadata": {},
     "output_type": "execute_result"
    }
   ],
   "source": [
    "p1 = altcat.catplot(data=df_dt.loc[df_dt['P'] > 20],\n",
    "                    mark='line',\n",
    "                    encoding=dict(x=alt.X('P:Q'),\n",
    "                                  color=alt.Color('Day:N')),\n",
    "                    transform = 'ecdf')\n",
    "\n",
    "p1"
   ]
  },
  {
   "cell_type": "code",
   "execution_count": 19,
   "metadata": {},
   "outputs": [
    {
     "data": {
      "text/html": [
       "\n",
       "\n",
       "\n",
       "\n",
       "\n",
       "\n",
       "  <div class=\"bk-root\" id=\"0c4263a6-3ad9-43c4-a829-e146dd943849\"></div>\n"
      ]
     },
     "metadata": {},
     "output_type": "display_data"
    },
    {
     "data": {
      "application/javascript": [
       "(function(root) {\n",
       "  function embed_document(root) {\n",
       "    \n",
       "  var docs_json = {\"1f1ec11d-363e-4110-bad3-a8808b924989\":{\"roots\":{\"references\":[{\"attributes\":{\"callback\":null,\"factors\":[\"False\",\"True\"]},\"id\":\"7401f7c3-4196-4177-8ba3-69d0a61a7802\",\"type\":\"FactorRange\"},{\"attributes\":{\"active_drag\":\"auto\",\"active_inspect\":\"auto\",\"active_multi\":null,\"active_scroll\":\"auto\",\"active_tap\":\"auto\",\"tools\":[{\"id\":\"37ac7b46-505e-4aa6-a253-6584867235e1\",\"type\":\"PanTool\"},{\"id\":\"686cf594-eb73-40d3-a556-3b01bdb7abd4\",\"type\":\"WheelZoomTool\"},{\"id\":\"9f585d99-03d6-4357-aac6-5c9151b482b9\",\"type\":\"BoxZoomTool\"},{\"id\":\"65cb6665-cb21-43a2-bb3a-185eb03a9009\",\"type\":\"SaveTool\"},{\"id\":\"eb15a511-125e-4a3e-a9bb-879072b84065\",\"type\":\"ResetTool\"},{\"id\":\"8e9d51c1-b323-47c5-86cf-b69e537afdef\",\"type\":\"HelpTool\"}]},\"id\":\"83f34ee7-5217-4785-ade9-f08fc69e8e9d\",\"type\":\"Toolbar\"},{\"attributes\":{\"source\":{\"id\":\"9672b424-17d5-4581-9d12-891d271ccdd1\",\"type\":\"ColumnDataSource\"}},\"id\":\"8fab46e1-80a1-4d78-b981-76e83ee1f1be\",\"type\":\"CDSView\"},{\"attributes\":{\"dimension\":1,\"plot\":{\"id\":\"83955150-947f-4ae7-944a-b9540a788af1\",\"subtype\":\"Figure\",\"type\":\"Plot\"},\"ticker\":{\"id\":\"d595a5f4-90b9-4f0c-b591-fd4fc875d08b\",\"type\":\"BasicTicker\"}},\"id\":\"205c4c2e-a9ba-4ebf-a700-81de66f376fc\",\"type\":\"Grid\"},{\"attributes\":{},\"id\":\"37ac7b46-505e-4aa6-a253-6584867235e1\",\"type\":\"PanTool\"},{\"attributes\":{\"factors\":[\"False\",\"True\"],\"palette\":[\"#4e79a7\",\"#f28e2b\",\"#e15759\",\"#76b7b2\",\"#59a14f\",\"#edc948\",\"#b07aa1\",\"#ff9da7\",\"#9c755f\",\"#bab0ac\"]},\"id\":\"41666a79-8fb0-4da6-b0a3-e4854db1fd21\",\"type\":\"CategoricalColorMapper\"},{\"attributes\":{},\"id\":\"d52cfaad-7148-47f4-af60-9ba39ab518df\",\"type\":\"CategoricalTicker\"},{\"attributes\":{},\"id\":\"bf040b64-b4ad-4f47-b348-fd122dd68d2c\",\"type\":\"CategoricalScale\"},{\"attributes\":{\"overlay\":{\"id\":\"837cc094-db9f-4a82-b243-8a6acf5fa1f5\",\"type\":\"BoxAnnotation\"}},\"id\":\"9f585d99-03d6-4357-aac6-5c9151b482b9\",\"type\":\"BoxZoomTool\"},{\"attributes\":{},\"id\":\"8da7e9c2-000b-4338-8892-dd5b57ba5038\",\"type\":\"Selection\"},{\"attributes\":{},\"id\":\"686cf594-eb73-40d3-a556-3b01bdb7abd4\",\"type\":\"WheelZoomTool\"},{\"attributes\":{\"formatter\":{\"id\":\"34631823-ae54-4a8a-b596-fafe16139009\",\"type\":\"BasicTickFormatter\"},\"plot\":{\"id\":\"83955150-947f-4ae7-944a-b9540a788af1\",\"subtype\":\"Figure\",\"type\":\"Plot\"},\"ticker\":{\"id\":\"d595a5f4-90b9-4f0c-b591-fd4fc875d08b\",\"type\":\"BasicTicker\"}},\"id\":\"0c9cae93-132c-4b1e-9b21-958554486f79\",\"type\":\"LinearAxis\"},{\"attributes\":{\"data_source\":{\"id\":\"9672b424-17d5-4581-9d12-891d271ccdd1\",\"type\":\"ColumnDataSource\"},\"glyph\":{\"id\":\"9c47a082-e7bf-40bf-a5fc-28df0a446a3f\",\"type\":\"Circle\"},\"hover_glyph\":null,\"muted_glyph\":null,\"nonselection_glyph\":{\"id\":\"8244133a-22a7-4274-b81b-01d228cd4d7e\",\"type\":\"Circle\"},\"selection_glyph\":null,\"view\":{\"id\":\"8fab46e1-80a1-4d78-b981-76e83ee1f1be\",\"type\":\"CDSView\"}},\"id\":\"54f3e802-1be8-47de-915b-2e152e67bb25\",\"type\":\"GlyphRenderer\"},{\"attributes\":{\"fill_color\":{\"field\":\"cat\",\"transform\":{\"id\":\"41666a79-8fb0-4da6-b0a3-e4854db1fd21\",\"type\":\"CategoricalColorMapper\"}},\"line_color\":{\"field\":\"cat\",\"transform\":{\"id\":\"41666a79-8fb0-4da6-b0a3-e4854db1fd21\",\"type\":\"CategoricalColorMapper\"}},\"x\":{\"field\":\"cat\",\"transform\":{\"id\":\"ebceca16-905c-40ea-b426-035ed504339e\",\"type\":\"Jitter\"}},\"y\":{\"field\":\"P\"}},\"id\":\"9c47a082-e7bf-40bf-a5fc-28df0a446a3f\",\"type\":\"Circle\"},{\"attributes\":{},\"id\":\"34631823-ae54-4a8a-b596-fafe16139009\",\"type\":\"BasicTickFormatter\"},{\"attributes\":{\"callback\":null},\"id\":\"94fc18dc-a9f2-4269-8bed-33636f8d0df4\",\"type\":\"DataRange1d\"},{\"attributes\":{\"range\":{\"id\":\"7401f7c3-4196-4177-8ba3-69d0a61a7802\",\"type\":\"FactorRange\"},\"width\":0.4},\"id\":\"ebceca16-905c-40ea-b426-035ed504339e\",\"type\":\"Jitter\"},{\"attributes\":{},\"id\":\"eb15a511-125e-4a3e-a9bb-879072b84065\",\"type\":\"ResetTool\"},{\"attributes\":{\"below\":[{\"id\":\"5722589c-5b11-4f1f-96f5-9076e705501e\",\"type\":\"CategoricalAxis\"}],\"left\":[{\"id\":\"0c9cae93-132c-4b1e-9b21-958554486f79\",\"type\":\"LinearAxis\"}],\"plot_height\":300,\"plot_width\":400,\"renderers\":[{\"id\":\"5722589c-5b11-4f1f-96f5-9076e705501e\",\"type\":\"CategoricalAxis\"},{\"id\":\"044b2d95-a551-4aa2-b5b6-cd2bff3b4a55\",\"type\":\"Grid\"},{\"id\":\"0c9cae93-132c-4b1e-9b21-958554486f79\",\"type\":\"LinearAxis\"},{\"id\":\"205c4c2e-a9ba-4ebf-a700-81de66f376fc\",\"type\":\"Grid\"},{\"id\":\"837cc094-db9f-4a82-b243-8a6acf5fa1f5\",\"type\":\"BoxAnnotation\"},{\"id\":\"54f3e802-1be8-47de-915b-2e152e67bb25\",\"type\":\"GlyphRenderer\"}],\"title\":null,\"toolbar\":{\"id\":\"83f34ee7-5217-4785-ade9-f08fc69e8e9d\",\"type\":\"Toolbar\"},\"x_range\":{\"id\":\"7401f7c3-4196-4177-8ba3-69d0a61a7802\",\"type\":\"FactorRange\"},\"x_scale\":{\"id\":\"bf040b64-b4ad-4f47-b348-fd122dd68d2c\",\"type\":\"CategoricalScale\"},\"y_range\":{\"id\":\"94fc18dc-a9f2-4269-8bed-33636f8d0df4\",\"type\":\"DataRange1d\"},\"y_scale\":{\"id\":\"c3ccb08c-7232-482e-99c4-d2698b7aab6e\",\"type\":\"LinearScale\"}},\"id\":\"83955150-947f-4ae7-944a-b9540a788af1\",\"subtype\":\"Figure\",\"type\":\"Plot\"},{\"attributes\":{},\"id\":\"cba52f32-5cc8-44ca-8889-f45de57e8a5e\",\"type\":\"UnionRenderers\"},{\"attributes\":{},\"id\":\"c3ccb08c-7232-482e-99c4-d2698b7aab6e\",\"type\":\"LinearScale\"},{\"attributes\":{\"fill_alpha\":{\"value\":0.1},\"fill_color\":{\"value\":\"#1f77b4\"},\"line_alpha\":{\"value\":0.1},\"line_color\":{\"value\":\"#1f77b4\"},\"x\":{\"field\":\"cat\",\"transform\":{\"id\":\"ebceca16-905c-40ea-b426-035ed504339e\",\"type\":\"Jitter\"}},\"y\":{\"field\":\"P\"}},\"id\":\"8244133a-22a7-4274-b81b-01d228cd4d7e\",\"type\":\"Circle\"},{\"attributes\":{\"bottom_units\":\"screen\",\"fill_alpha\":{\"value\":0.5},\"fill_color\":{\"value\":\"lightgrey\"},\"left_units\":\"screen\",\"level\":\"overlay\",\"line_alpha\":{\"value\":1.0},\"line_color\":{\"value\":\"black\"},\"line_dash\":[4,4],\"line_width\":{\"value\":2},\"plot\":null,\"render_mode\":\"css\",\"right_units\":\"screen\",\"top_units\":\"screen\"},\"id\":\"837cc094-db9f-4a82-b243-8a6acf5fa1f5\",\"type\":\"BoxAnnotation\"},{\"attributes\":{\"grid_line_color\":{\"value\":null},\"plot\":{\"id\":\"83955150-947f-4ae7-944a-b9540a788af1\",\"subtype\":\"Figure\",\"type\":\"Plot\"},\"ticker\":{\"id\":\"d52cfaad-7148-47f4-af60-9ba39ab518df\",\"type\":\"CategoricalTicker\"}},\"id\":\"044b2d95-a551-4aa2-b5b6-cd2bff3b4a55\",\"type\":\"Grid\"},{\"attributes\":{},\"id\":\"65cb6665-cb21-43a2-bb3a-185eb03a9009\",\"type\":\"SaveTool\"},{\"attributes\":{\"callback\":null,\"data\":{\"Day\":[true,true,true,true,true,true,true,true,true,true,true,true,true,true,true,true,true,true,true,true,true,true,true,true,true,true,true,true,true,true,true,true,true,true,true,true,true,true,true,true,true,true,true,true,true,true,true,true,true,true,true,true,true,true,true,true,true,true,true,true,true,true,true,true,true,true,true,true,true,true,true,true,true,true,true,true,true,true,true,true,true,true,true,true,true,true,true,true,true,true,true,true,true,true,true,true,true,true,true,true,true,true,true,true,true,true,true,true,true,true,true,true,true,true,true,true,true,true,true,true,true,true,true,true,true,true,true,true,true,true,true,true,true,true,true,true,true,true,true,true,true,true,true,true,true,true,true,true,true,true,true,true,true,true,true,true,true,true,true,true,true,true,true,true,true,true,true,true,true,true,true,true,true,true,true,true,true,true,true,true,true,true,true,true,true,true,true,true,true,true,true,true,true,true,true,true,true,true,true,true,true,true,true,true,true,true,true,true,true,true,true,true,true,true,true,true,true,true,true,true,true,true,true,true,true,true,true,true,true,true,true,true,true,true,true,true,true,true,true,true,true,true,true,true,true,true,true,true,true,true,true,true,true,true,true,true,true,true,true,true,true,true,true,true,true,true,true,true,true,true,true,true,true,true,true,true,true,true,true,true,true,true,true,true,true,true,true,true,true,true,true,true,true,true,true,true,false,false,false,false,false,false,false,false,false,false,false,false,false,false,false,false,false,false,false,false,false,false,false,false,false,false,false,false,false,false,false,false,false,false,false,false,false,false,false,false,false,false,false,false,false,false,false,false,false,false,false,false,false,false,false,false,false,false,false,false,false,false,false,false,false,false,false,false,false,false,false,false,false,false,false,false,false,false,false,false,false,false,false,false,false,false,false,false,false,false,false,false,false,false,false,false,false,false,false,false,false,false,false,false,false,false,false,false,false,false,false,false,false,false,false,false,false,false,false,false,false,false,false,false,false,false,false,false,false,false,false,false,false,false,false,false,false,false,false,false,false,false,false,false,false,false,false,false,false,false,false,false,false,false,false,false,false,false,false,false,false,false,false,false,false,false,false,false,false,false,false,false,false,false,false,false,false,false,false,false,false,false,false,false,false,false,false,false,false,false,false,false,false,false,false,false,false,false,false,false,true,true,true,true,true,true,true,true,true,true,true,true,true,true,true,true,true,true,true,true,true,true,true,true,true,true,true,true,true,true,true,true,true,true,true,true,true,true,true,true,true,true,true,true,true,true,true,true,true,true,true,true,true,true,true,true,true,true,true,true,true,true,true,true,true,true,true,true,true,true,true,true,true,true,true,true,true,true,true,true,true,true,true,true,true,true,true,true,true,true,true,true,true,true,true,true,true,true,true,true,true,true,true,true,true,true,true,true,true,true,true,true,true,true,true,true,true,true,true,true,true,true,true,true,true,true,true,true,true,true,true,true,true,true,true,true,true,true,true,true,true,true,true,true,true,true,true,true,true,true,true,true,true,true,true,true,true,true,true,true,true,true,true,true,true,true,true,true,true,true,true,true,true,true,true,true,true,true,true,true,true,true,true,true,true,true,true,true,true,true,true,true,true,true,true,true,true,true,true,true,true,true,true,true,true,true,true,true,true,true,true,true,true,true,true,true,true,true,true,true,true,true,true,true,true,true,true,true,true,true,true,true,true,true,true,true,true,true,true,true,true,true,true,true,true,true,true,true,true,true,true,true,true,true,true,true,true,true,true,true,true,true,true,true,true,true,true,true,true,true,true,true,true,true,true,true,true,true,true,true,true,true,true,true,true,true,false,false,false,false,false,false,false,false,false,false,false,false,false,false,false,false,false,false,false,false,false,false,false,false,false,false,false,false,false,false,false,false,false,false,false,false,false,false,false,false,false,false,false,false,false,false,false,false,false,false,false,false,false,false,false,false,false,false,false,false,false,false,false,false,false,false,false,false,false,false,false,false,false,false,false,false,false,false,false,false,false,false,false,false,false,false,false,false,false,false,false,false,false,false,false,false,false,false,false,false,false,false,false,false,false,false,false,false,false,false,false,false,false,false,false,false,false,false,false,false,false,false,false,false,false,false,false,false,false,false,false,false,false,false,false,false,false,false,false,false,false,false,false,false,false,false,false,false,false,false,false,false,false,false,false,false,false,false,false,false,false,false,false,false,false,false,false,false,false,false,false,false,false,false,false,false,false,false,false,false,false,false,false,false,false,false,false,false,false,false,true,true,true,true,true,true,true,true,true,true,true,true,true,true,true,true,true,true,true,true,true,true,true,true,true,true,true,true,true,true,true,true,true,true,true,true,true,true,true,true,true,true,true,true,true,true,true,true,true,true,true,true,true,true,true,true,true,true,true,true,true,true,true,true,true,true,true,true,true,true,true,true,true,true,true,true,true,true,true,true,true,true,true,true,true,true,true,true,true,true,true,true,true,true,true,true,true,true,true,true,true,true,true,true,true,true,true,true,true,true,true,true,true,true,true,true,true,true,true,true,true,true,true,true,true,true,true,true,true,true,true,true,true,true,true,true,true,true,true,true,true,true,true,true,true,true,true,true,true,true,true,true,true,true,true,true,true,true,true,true,true,true,true,true,true,true,true,true,true,true,true,true,true,true,true,true,true,true,true,true,true,true,true,true,true,true,true,true,true,true,true,true,true,true,true,true,true,true,true,true,true,true,true,true,true,true,true,true,true,true,true,true,true,true,true,true,true,true,true,true,true,true,true,true,true,true,true,true,true,true,true,true,true,true,true,true,true,true,true,true,true,true,true,true,true,true,true,true,true,true,true,true,true,true,true,true,true,true,true,true,true,true,true,true,true,true,true,true,true,true,true,true,true,true,true,true,true,true,true,true,true,true,true,true,true,true,true,true,true,true,true,true,true,true,true,true,false,false,false,false,false,false,false,false,false,false,false,false,false,false,false,false,false,false,false,false,false,false,false,false,false,false,false,false,false,false,false,false,false,false,false,false,false,false,false,false,false,false,false,false,false,false,false,false,false,false,false,false,false,false,false,false,false,false,false,false,false,false,false,false,false,false,false,false,false,false,false,false,false,false,false,false,false,false,false,false,false,false,false,false,false,false,false,false,false,false,false,false,false,false,false,false,false,false,false,false,false,false,false,false,false,false,false,false,false,false,false,false,false,false,false,false,false,false,false,false,false,false,false,false,false,false,false,false,false,false,false,false,false,false,false,false,false,false,false,false,false,false,false,false,false,false,false,false,false,false,false,false,false,false,false,false,false,false,false,false,false,true,true,true,true,true,true,true,true,true,true,true,true,true,true,true,true,true,true,true,true,true,true,true,true,true,true,true,true,true,true,true,true,true,true,true,true,true,true,true,true,true,true,true,true,true,true,true,true,true,true,true,true,true,true,true,true,true,true,true,true,true,true,true,true,true,true,true,true,true,true,true,true,true,true,true,true,true,true,true,true,true,true,true,true,true,true,true,true,true,true,true,true,true,true,true,true,true,true,true,true,true,true,true,true,true,true,true,true,true,true,true,true,true,true,true,true,true,true,true,true,true,true,true,true,true,true,true,true,true,true,true,true,true,true,true,true,true,true,true,true,true,true,true,true,true,true,true,true,true,true,true,true,true,true,true,true,true,true,true,true,true,true,true,true,true,true,true,true,true,true,true,true,true,true,true,true,true,true,true,true,true,true,true,true,true,true,true,true,true,true,true,true,true,true,true,true,true,true,true,true,true,true,true,true,true,true,true,true,true,true,true,true,true,true,true,true,true,true,true,true,true,true,true,true,false,false,false,false,false,false,false,false,false,false,false,false,false,false,false,false,false,false,false,false,false,false,false,false,false,false,false,false,false,false,false,false,false,false,false,false,false,false,false,false,false,false,false,false,false,false,false,false,false,false,false,false,false,false,false,false,false,false,false,false,false,false,false,false,false,false,false,false,false,false,false,false,false,false,false,false,false,false,false,false,false,false,false,false,false,false,false,false,false,false,false,false,false,false,false,false,false,false,false,false,false,false,false,false,false,false,false,false,false,false,false,false,false,false,false,false,false,false,false,false,false,false,false,false,false,false,false,false,false,false,false,false,false,false,false,false,false,false,false,false,false,false,false,false,false,false,false,false,false,false,false,false,false,false,false,false,false,false,false,false,false,false,false,false,false,false,false,false,false,false,false,false,false,false,false,false,false,false,false,false,false,false,false,false,false,false,false,false,false,false,false,false,true,true,true,true,true,true,true,true,true,true,true,true,true,true,true,true,true,true,true,true,true,true,true,true,true,true,true,true,true,true,true,true,true,true,true,true,true,true,true,true,true,true,true,true,true,true,true,true,true,true,true,true,true,true,true,true,true,true,true,true,true,true,true,true,true,true,true,true,true,true,true,true,true,true,true,true,true,true,true,true,true,true,true,true,true,true,true,true,true,true,true,true,true,true,true,true,true,true,true,true,true,true,true,true,true,true,true,true,true,true,true,true,true,true,true,true,true,true,true,true,true,true,true,true,true,true,true,true,true,true,true,true,true,true,true,true,true,true,true,true,true,true,true,true,true,true,true,true,true,true,true,true,true,true,true,true,true,true,true,true,true,true,true,true,true,true,false,false,false,false,false,false,false,false,false,false,false,false,false,false,false,false,false,false,false,false,false,false,false,false,false,false,false,false,false,false,false,false,false,false,false,false,false,false,false,false,false,false,false,false,false,false,false,false,false,false,false,false,false,false,false,false,false,false,false,false,false,false,false,false,false,false,false,false,false,false,false,false,false,false,false,false,false,false,false,false,false,false,false,false,false,false,false,false,false,false,false,false,false,false,false,false,false,false,false,false,false,false,false,false,false,false,false,false,false,false,false,false,false,false,true,true,true,true,true,true,true,true,true,true,true,true,true,true,true,true,true,true,true,true,true,true,true,true,true,true,true,true,true,true,true,true,true,true,true,true,true,true,true,true,true,true,true,true,true,true,true,true,true,true,true,true,true,true,true,true,true,true,true,true,true,true,true,true,true,true,true,true,true,true,true,true,true,true,true,true,true,true,true,true,true,true,true,true,true,true,true,true,true,true,true,true,true,true,true,true,true,true,true,true,true,true,true,true,true,true,true,true,true,true,true,true,true,true,true,true,true,true,true,true,true,true,true,true,true,true,true,true,true,true,true,true,true,true,true,true,true,true,true,true,true,true,true,true,true,true,true,true,false,false,false,false,false,false,false,false,false,false,false,false,false,false,false,false,false,false,false,false,false,false,false,false,false,false,false,false,false,false,false,false,false,false,false,false,false,false,false,false,false,false,false,false,false,false,false,false,false,false,false,false,false,false,false,false,false,false,false,false,false,false,false,false,false,false,false,false,false,false,false,false,false,false,false,false,false,false,true,true,true,true,true,true,true,true,true,true,true,true,true,true,true,true,true,true,true,true,true,true,true,true,true,true,true,true,true,true,true,true,true,true,true,true,true,true,true,true,true,true,true,true,true,true,true,true,true,true,true,true,true,true,true,true,true,true,true,true,true,true,true,true,true,true,true,true,true,true,true,true,true,true,true,true,true,true,true,true,true,true,true,true,true,true,true,true,true,true,true,true,true,true,true,true,true,true,true,true,true,true,true,true,true,true,true,true,true,true,true,true,true,true,true,true,true,true,true,true,true,true,true,true,true,true,true,true,true,true,true,true,true,true,true,true,true,true,true,true,true,true,true,true,true,true,true,true,true,true,true,true,true,true,true,true,true,true,true,true,true,true,true,true,true,true,true,true,true,true,true,true,true,true,true,true,true,true,true,true,true,true,true,true,true,true,true,true,true,true,true,true,true,true,true,true,true,true,true,true,true,true,true,true,true,true,true,true,true,true,true,true,true,true,true,true,true,true,true,true,true,true,true,true,true,true,true,true,true,true,true,true,true,true,true,true,true,true,true,true,true,true,true,true,true,true,true,true,true,true,true,true,true,true,true,true,true,true,true,true,true,true,true,true,true,true,true,true,true,true,true,true,true,true,true,true,true,true,true,true,true,true,true,false,false,false,false,false,false,false,false,false,false,false,false,false,false,false,false,false,false,false,false,false,false,false,false,false,false,false,false,false,false,false,false,false,false,false,false,false,false,false,false,false,false,false,false,false,false,false,false,false,false,false,false,false,false,false,false,false,false,false,false,false,false,false,false,false,false,false,false,false,false,false,false,false,false,false,false,false,false,false,false,false,false,false,false,false,false,false,false,false,false,false,false,false,false,false,false,false,false,false,false,false,false,false,false,false,false,false,false,false,false,false,false,false,false,false,false,false,false,false,false,false,false,false,false,false,false,false,false,false,false,false,false,false,false,false,false,false,false,false,false,false,false,false,false,false,false,false,false,false,false,false,false,false,false,false,false,false,false,false,false,false,false,false,false,false,false,false,false,false,false,false,false,false,false,false,false,false,false,false,false,false,false,false,false,false,false,false,false,false,false,false,false,false,false,false,false,false,false,false,false,false,false,false,false,true,true,true,true,true,true,true,true,true,true,true,true,true,true,true,true,true,true,true,true,true,true,true,true,true,true,true,true,true,true,true,true,true,true,true,true,true,true,true,true,true,true,true,true,true,true,true,true,true,true,true,true,true,true,true,true,true,true,true,true,true,true,true,true,true,true,true,true,true,true,true,true,true,true,true,true,true,true,true,true,true,true,true,true,true,true,true,true,true,true,true,true,true,true,true,true,true,true,true,true,true,true,true,true,true,true,true,true,true,true,true,true,true,true,true,true,true,true,true,true,true,true,true,true,true,true,true,true,true,true,true,true,true,true,true,true,true,true,true,true,true,true,true,true,true,true,true,true,true,true,true,true,true,true,true,true,true,true,true,true,true,true,true,true,true,true,true,true,true,true,true,true,true,true,true,true,true,true,true,true,true,true,true,true,true,true,true,true,true,true,true,true,true,true,true,true,true,true,true,true,true,true,true,true,true,true,true,true,true,true,true,true,true,true,true,true,true,true,true,true,true,true,true,true,true,true,true,true,true,true,true,true,true,true,true,true,true,true,true,true,true,true,true,true,true,true,true,true,true,true,true,true,true,true,true,true,true,true,true,true,true,true,true,true,true,true,true,true,true,true,true,true,true,true,true,true,true,true,true,true,true,true,true,true,true,true,true,true,true,true,true,true,true,true,true,false,false,false,false,false,false,false,false,false,false,false,false,false,false,false,false,false,false,false,false,false,false,false,false,false,false,false,false,false,false,false,false,false,false,false,false,false,false,false,false,false,false,false,false,false,false,false,false,false,false,false,false,false,false,false,false,false,false,false,false,false,false,false,false,false,false,false,false,false,false,false,false,false,false,false,false,false,false,false,false,false,false,false,false,false,false,false,false,false,false,false,false,false,false,false,false,false,false,false,false,false,false,false,false,false,false,false,false,false,false,false,false,false,false,false,false,false,false,false,false,false,false,false,false,false,false,false,false,false,false,false,false,false,false,false,false,false,false,false,false,false,false,false,false,false,false,false,false,false,false,false,false,false,false,false,false,false,false,false,false,false,false,false,false,false,false,false,false,false,false,false,false,false,false,false,false,false,false,false,false,false,false,false,false,false,false,false,false,false,false,false,false,false],\"P\":[13,12,12,12,13,11,11,13,12,12,11,12,12,11,12,12,11,13,11,12,11,13,10,13,11,12,12,12,11,13,12,11,12,13,11,13,12,12,12,12,12,12,11,14,12,13,12,12,12,11,12,13,12,11,13,13,12,13,11,13,12,13,13,12,12,12,12,12,13,13,12,13,13,14,12,14,12,13,14,13,12,12,14,13,13,13,14,13,11,14,12,13,14,14,12,14,14,13,13,15,13,13,14,13,13,13,14,14,14,14,14,15,14,14,16,15,14,17,14,13,15,14,15,13,15,14,18,14,22,18,15,15,11,14,12,16,14,15,19,17,15,69,20,13,10,11,11,12,10,10,13,12,10,12,12,12,14,13,12,13,15,13,14,14,14,13,13,15,12,15,15,16,15,16,13,16,16,27,19,16,15,12,15,14,15,15,14,15,14,15,13,16,14,15,14,17,14,16,16,16,15,21,16,14,15,15,16,15,15,13,15,14,14,14,14,13,12,13,13,12,14,11,12,14,12,12,12,12,13,13,12,11,12,13,12,12,13,12,12,12,13,13,12,13,12,12,13,12,12,12,12,13,14,12,11,14,13,12,12,13,12,12,15,12,13,13,12,13,14,12,12,13,13,12,13,13,12,13,14,13,12,14,12,13,13,13,13,13,14,13,13,15,13,13,14,13,18,14,14,14,14,11,14,14,9,12,14,11,14,14,11,14,11,10,14,10,15,10,191,21,14,14,14,11,14,14,11,14,11,12,12,15,10,14,14,11,12,13,10,14,14,11,14,14,11,14,11,10,14,14,15,13,15,10,14,11,14,14,11,14,14,14,16,16,14,13,15,15,17,223,14,17,15,10,16,14,14,13,14,14,14,15,14,14,14,14,14,14,14,16,16,14,11,14,14,201,18,14,14,11,14,14,14,11,14,14,14,14,15,13,15,14,14,14,14,14,14,16,14,14,13,14,14,17,18,176,15,16,14,12,14,14,14,11,14,14,14,14,15,14,14,14,14,14,14,15,17,14,170,17,14,13,12,14,14,15,10,14,15,13,15,14,14,14,14,15,14,14,14,14,14,14,14,14,18,14,18,14,211,18,14,15,14,14,14,12,16,12,13,14,14,14,14,14,11,16,12,11,11,11,12,11,11,11,13,15,15,13,14,12,13,14,12,13,12,13,11,12,13,12,92,15,13,12,12,12,13,13,12,12,11,13,11,11,12,11,11,11,11,13,12,11,13,12,11,11,11,12,12,11,12,12,11,12,11,13,11,11,12,13,11,12,12,12,11,11,12,12,12,12,11,12,12,14,14,14,13,13,13,14,13,14,12,12,13,12,12,12,14,15,13,12,13,12,13,12,13,13,12,12,12,13,13,12,13,13,14,14,13,13,15,13,14,13,13,14,14,14,13,13,13,14,14,14,14,15,14,15,13,13,12,14,13,13,13,12,13,12,14,13,13,12,13,13,13,11,12,15,11,14,13,12,11,12,12,12,13,11,13,12,11,12,62,16,13,14,13,13,14,14,14,14,15,13,15,13,15,17,15,16,14,13,16,14,13,13,14,14,16,14,13,15,13,15,12,13,12,13,14,15,13,14,13,15,14,14,15,15,13,14,14,14,13,14,16,15,13,15,14,14,15,14,13,13,14,14,15,15,14,15,13,14,17,18,15,16,12,14,13,14,14,15,14,18,17,16,16,16,17,12,11,12,12,14,13,16,19,15,17,16,16,18,15,16,15,16,16,15,16,87,22,12,11,11,11,10,10,13,11,12,13,13,17,15,16,19,14,18,14,17,15,14,18,17,18,18,17,118,14,16,14,11,16,15,15,14,16,17,16,17,15,21,14,18,19,16,71,21,18,14,14,18,17,18,17,18,18,21,21,18,21,17,18,18,14,21,15,17,18,21,18,138,17,18,14,14,14,18,14,14,14,18,14,18,14,14,17,18,14,18,14,18,21,14,106,32,14,14,18,14,16,16,14,19,16,18,17,18,14,18,14,78,31,18,18,17,16,20,19,16,18,18,17,18,17,16,16,14,21,18,17,50,88,18,14,14,14,18,14,17,16,16,16,16,16,19,14,15,17,14,18,18,17,113,21,18,14,3,15,16,16,14,18,17,18,17,18,16,16,21,14,18,19,16,16,18,157,17,15,14,14,14,14,14,18,14,14,14,15,17,14,18,14,91,18,14,18,14,14,14,16,16,15,15,18,15,26,41,29,21,16,14,14,19,14,12,13,12,14,11,12,12,12,14,13,14,12,15,14,15,15,17,14,14,15,14,13,14,14,14,14,14,13,13,15,14,13,14,14,15,15,13,13,14,14,13,14,15,14,12,14,14,14,15,14,14,14,14,14,15,14,14,15,15,15,60,19,14,14,13,12,13,12,12,11,13,12,11,12,12,12,11,12,12,12,12,12,12,12,12,12,13,11,13,12,13,12,12,13,12,12,12,12,13,13,12,12,13,12,12,13,12,13,13,13,13,12,14,12,13,13,13,13,13,13,13,14,12,14,12,13,14,13,13,15,13,14,14,14,14,13,14,13,13,14,12,13,13,12,13,12,13,12,12,13,11,13,12,12,12,12,12,12,13,12,12,12,13,12,12,13,12,12,12,13,12,12,12,12,13,12,12,13,13,12,12,13,13,12,14,12,13,13,13,13,13,13,13,13,13,13,13,13,12,13,14,12,14,13,12,14,14,13,13,13,13,13,13,14,13,14,13,13,13,14,13,14,14,13,14,13,14,13,15,14,15,13,14,14,14,13,14,14,15,14,13,15,13,14,13,13,13,13,13,12,13,13,12,13,12,12,12,12,13,11,13,12,12,12,13,12,12,13,12,13,12,13,12,13,13,12,12,13,12,13,13,13,12,21,14,18,14,11,14,14,14,14,14,14,14,16,16,14,18,16,19,16,16,17,18,16,19,18,17,18,18,21,21,64,25,17,22,17,21,18,155,39,28,18,14,18,14,18,14,21,14,14,18,14,18,14,14,18,14,19,2,14,20,19,14,21,29,92,24,14,18,21,18,14,18,14,17,20,12,92,50,21,17,18,16,17,20,117,45,23,16,18,17,15,14,14,17,18,88,18,21,14,18,14,14,19,16,25,21,205,21,14,14,18,14,14,14,18,14,14,18,14,14,14,18,14,18,17,18,14,18,162,25,28,18,14,14,16,19,15,17,18,14,19,16,18,151,22,14,18,14,17,13,15,16,13,14,14,14,14,14,15,14,14,16,15,28,36,16,49,14,11,15,22,76,11,14,13,12,11,19,18,20,20,19,23,14,20,20,16,15,21,21,32,16,19,20,16,19,18,13,14,18,18,21,13,20,17,18,30,20,45,15,16,14,21,15,15,20,15,16,16,20,22,22,17,18,17,16,15,15,18,19,19,17,20,18,22,19,23,21,21,21,19,27,19,26,22,19,28,27,29,20,25,20,28,15,30,13,77,12,14,12,13,15,13,10,10,11,8,8,9,9,9,11,9,11,11,11,15,12,16,12,18,17,18,16,22,14,14,14,17,15,18,20,23,21,16,18,18,19,19,17,16,17,15,31,54,14,20,19,19,15,20,15,14,22,12,14,19,13,16,16,20,15,14,13,16,14,14,13,14,18,17,14,15,17,17,15,14,12,13,13,15,18,15,16,21,16,14,18,53,12,12,7,10,8,10,8,17,8,26,16,18,7,11,15,14,16,17,20,14,16,13,15,15,13,15,10,9,19,15,13,14,17,16,18,14,25,21,28,25,28,18,19,16,14,21,18,21,21,21,18,21,14,18,17,29,23,72,14,25,21,21,14,22,21,21,21,18,21,21,14,27,26,74,32,25,28,21,21,25,18,28,25,21,21,18,21,14,16,2,14,14,18,14,14,14,18,14,18,16,17,2,14,18,16,19,21,18,19,16,18,14,18,14,14,18,14,18,21,17,18,21,18,14,21,14,18,18,17,18,21,21,18,14,18,17,18,14,18,21,18,18,17,21,18,18,17,18,21,14,25,21,21,17,18,18,19,20,28,14,18,21,28,21,25,21,25,28,21,57,39,14,28,21,28,106,21,21,22,21,14,18,21,17,19,17,25,21,23,16,14,18,17,18,21,14,18,21,21,14,14,18,21,22,24,18,21,19,2,14,21,15,24,15,21,17,18,14,21,18,17,18,21,18,25,22,20,21,24,22,23,25,25,21,24,21,23,25,21,19,20,25,18,19,19,18,19,24,23,20,23,23,21,20,19,18,24,19,41,49,25,31,27,33,35,27,30,81,29,27,25,23,20,18,20,20,21,18,19,20,20,21,19,19,19,19,18,19,17,23,21,21,19,39,33,142,26,24,19,21,20,22,22,25,21,28,21,21,25,19,19,20,20,19,19,19,20,24,20,19,19,20,20,19,19,23,22,20,20,20,20,20,20,18,27,19,22,19,22,23,19,19,20,20,25,20,21,23,19,22,19,19,22,20,19,22,22,26,26,28,24,27,20,26,22,20,22,24,22,20,26,90,25,22,20,20,20,20,19,19,19,19,28,28,27,21,31,31,28,26,23,21,28,25,20,17,21,20,18,513,28,21,18,18,17,16,16,18,15,20,18,16,19,14,18,18,17,18,18,19,19,18,21,18,16,21,21,19,389,28,20,19,14,18,14,14,18,14,16,16,16,15,15,17,18,14,18,14,17,18,15,17,16,16,16,16,17,18,16,16,19,19,18,18,17,21,20,20,17,22,20,699,18,16,17,16,15,17,14,18,14,16,16,16,16,17,15,17,14,18,14,17,18,18,16,19,18,14,18,19,21,20,21,17,18,21,18,21,18,21,75,18,20,72,20,23,19,19,17,18,18,18,17,16,19,18,20,16,19,19,22,25,19,91,21,65,17,20,17,18,16,18,31,22,26,30,43,29,27,25,85,27,26,21,22,19,19,18,21,21,19,19,17,18,74,19,19,22,19,21,18,19,17,19,17,18,19,17,20,26,94,19,22,19,17,87,20,20,17,20,16,18,18,16,17,62,27,21,17,86,19,19,23,21,20,32,30,104,20,21,18,90,19,19,19,20,20,19,20,17,19,17,19,18,75,22,27,28,20,27,75,23,18,18,19,18,16,26,79,22,18,18,19,16,18,19,16,18,16,19,20,18,20,16,95,22,21,18,122,30,21,28,21,109,96,109,50,88,21,148,23,69,55,111,17,103,30,27,28,142,24,19,18,30,25,21,28,25,32,31,29,21,32,71,38,30,94,28,113,134,28,39,99,32,35,29,89,23,32,32,23,19,18,17,23,27,83,19,108,28,108,95,28,85,32,131,28,121,27,30,28,28,23,27,15,14,14,14,15,14,15,13,14,14,14,14,13,14,14,13,14,13,14,13,14,13,13,13,14,14,14,13,14,13,14,13,13,14,15,13,13,14,13,13,14,13,12,14,12,14,13,18,20,19,17,13,15,17,19,18,18,17,17,15,15,15,15,14,15,15,14,16,14,15,15,15,14,15,13,15,15,13,14,13,14,14,14,13,14,15,13,14,14,14,13,14,14,14,14,14,13,15,14,15,14,15,14,15,13,14,15,14,14,14,15,14,14,13,14,14,14,13,12,12,12,13,13,12,13,13,11,14,14,12,12,13,12,12,14,12,13,13,13,13,12,12,12,14,13,13,13,13,13,13,14,13,14,13,13,12,17,18,16,14,13,15,13,14,13,15,13,16,14,15,14,15,15,15,14,15,15,14,16,14,15,14,13,15,14,13,15,13,15,15,15,14,15,14,14,14,13,15,15,13,14,14,14,15,15,14,14,14,14,15,14,14,14,14,13,14,14,14,15,14,14,13,14,13,14,15,13,14,14,14,15,14,14,15,14,14,14,16,15,13,15,15,14,16,14,15,14,15,15,14,13,14,14,15,14,14,14,15,15,14,14,13,14,14,14,14,14,14,14,15,14,15,15,14,15,14,14,15,14,15,15,14,14,20,19,18,16,19,16,17,20,18,21,18,17,18,18,17,16,16,18,17,19,16,22,20,20,19,22,19,19,20,19,18,21,14,177,21,14,16,16,14,14,14,14,14,15,15,16,14,14,14,15,16,16,17,18,14,16,16,17,18,14,18,14,18,16,19,14,18,16,16,17,18,18,17,18,18,145,20,18,13,15,15,14,14,14,14,14,15,14,14,14,14,17,18,14,16,16,14,15,15,16,15,17,14,16,16,14,16,16,14,14,18,14,19,16,18,16,19,15,17,16,16,17,16,16,17,15,17,18,15,17,17,18,16,19,15,17,18,18,17,14,18,16,19,18,17,18,14,18,19,16,16,16,17,16,16,14,16,16,14,16,16,14,18,16,19,16,20,17,18,21,16,19,230,18,14,14,14,14,12,13,14,12,13,13,13,14,13,14,14,14,14,19,20,21,14,18,17,23,18,19,18,17,18,99,14,15,13,16,14,13,12,15,13,15,13,15,13,16,14,15,14,16,14,15,15,14,15,14,14,14,14,14,13,14,14,15,13,15,13,14,15,15,13,15,13,15,16,15,14,14,13,14,12,14,14,13,15,13,13,13,14,14,13,14,14,12,14,14,13,14,15,14,13,14,14,14,15,15,15,15,14,15,15,15,14,16,13,15,15,14,13,15,13,14,16,16,14,14,12,14,14,13,15,13,13,13,14,14,14,14,14,14,14,14,13,14,15,13,15,14,18,14,12,13,10,12,11,12,12,11,12,13,14,12,12,11,12,12,13,11,12,13,13,12,14,11,12,13,13,12,13,13,12,12,13,27,78,17,13,12,13,13,12,13,14,12,12,13,12,13,12,13,12,13,13,11,13,14,12,13,12,14,12,14,12,14,12,13,13,14,12,14,13,13,13,14,13,13,13,13,14,12,13,13,12,13,13,14,13,14,14,12,13,14,14,13,15,12,13,13,13,14,13,12,13,13,13,13,12,15,12,13,12,14,12,13,12,11,12,12,11,13,10,13,11,11,12,12,11,12,11,12,12,12,11,12,12,11,13,11,12,17,18,17,14,13,14,13,14,13,13,13,13,13,13,14,13,13,13,13,13,13,12,14,12,12,11,13,12,11,13,11,13,13,12,12,14,12,12,14,14,18,14,14,18,14,17,15,18,17,14,18,14,14,16,16,21,18,17,18,21,64,20,18,18,18,17,18,14,18,17,18,14,19,16,14,18,16,16,19,18,16,18,18,95,19,19,14,15,15,16,14,15,17,14,15,17,14,15,17,14,14,18,14,18,17,18,14,15,17,14,15,17,14,18,14,16,16,14,18,17,14,19,18,18,16,21,21,18,17,18,18,18,17,19,126,18,16,19,14,14,15,17,14,14,15,17,14,14,14,18,14,18,14,18,14,16,19,18,18,17,21,18,16,19,18,21,21,173,21,15,17,14,14,14,16,16,14,14,18,14,16,16,17,15,17,18,17,18,18,16,19,16,19,21,23,20,19,20,21,26,20,53,21,21,152,18,14,17,14,15,14,16,15,15,16,16,14,17,15,17,18,17,18,17,18,15,172,25,32,18,20],\"__label\":[\"True\",\"True\",\"True\",\"True\",\"True\",\"True\",\"True\",\"True\",\"True\",\"True\",\"True\",\"True\",\"True\",\"True\",\"True\",\"True\",\"True\",\"True\",\"True\",\"True\",\"True\",\"True\",\"True\",\"True\",\"True\",\"True\",\"True\",\"True\",\"True\",\"True\",\"True\",\"True\",\"True\",\"True\",\"True\",\"True\",\"True\",\"True\",\"True\",\"True\",\"True\",\"True\",\"True\",\"True\",\"True\",\"True\",\"True\",\"True\",\"True\",\"True\",\"True\",\"True\",\"True\",\"True\",\"True\",\"True\",\"True\",\"True\",\"True\",\"True\",\"True\",\"True\",\"True\",\"True\",\"True\",\"True\",\"True\",\"True\",\"True\",\"True\",\"True\",\"True\",\"True\",\"True\",\"True\",\"True\",\"True\",\"True\",\"True\",\"True\",\"True\",\"True\",\"True\",\"True\",\"True\",\"True\",\"True\",\"True\",\"True\",\"True\",\"True\",\"True\",\"True\",\"True\",\"True\",\"True\",\"True\",\"True\",\"True\",\"True\",\"True\",\"True\",\"True\",\"True\",\"True\",\"True\",\"True\",\"True\",\"True\",\"True\",\"True\",\"True\",\"True\",\"True\",\"True\",\"True\",\"True\",\"True\",\"True\",\"True\",\"True\",\"True\",\"True\",\"True\",\"True\",\"True\",\"True\",\"True\",\"True\",\"True\",\"True\",\"True\",\"True\",\"True\",\"True\",\"True\",\"True\",\"True\",\"True\",\"True\",\"True\",\"True\",\"True\",\"True\",\"True\",\"True\",\"True\",\"True\",\"True\",\"True\",\"True\",\"True\",\"True\",\"True\",\"True\",\"True\",\"True\",\"True\",\"True\",\"True\",\"True\",\"True\",\"True\",\"True\",\"True\",\"True\",\"True\",\"True\",\"True\",\"True\",\"True\",\"True\",\"True\",\"True\",\"True\",\"True\",\"True\",\"True\",\"True\",\"True\",\"True\",\"True\",\"True\",\"True\",\"True\",\"True\",\"True\",\"True\",\"True\",\"True\",\"True\",\"True\",\"True\",\"True\",\"True\",\"True\",\"True\",\"True\",\"True\",\"True\",\"True\",\"True\",\"True\",\"True\",\"True\",\"True\",\"True\",\"True\",\"True\",\"True\",\"True\",\"True\",\"True\",\"True\",\"True\",\"True\",\"True\",\"True\",\"True\",\"True\",\"True\",\"True\",\"True\",\"True\",\"True\",\"True\",\"True\",\"True\",\"True\",\"True\",\"True\",\"True\",\"True\",\"True\",\"True\",\"True\",\"True\",\"True\",\"True\",\"True\",\"True\",\"True\",\"True\",\"True\",\"True\",\"True\",\"True\",\"True\",\"True\",\"True\",\"True\",\"True\",\"True\",\"True\",\"True\",\"True\",\"True\",\"True\",\"True\",\"True\",\"True\",\"True\",\"True\",\"True\",\"True\",\"True\",\"True\",\"True\",\"True\",\"True\",\"True\",\"True\",\"True\",\"True\",\"True\",\"True\",\"True\",\"True\",\"True\",\"True\",\"True\",\"True\",\"True\",\"True\",\"True\",\"True\",\"True\",\"True\",\"True\",\"True\",\"True\",\"True\",\"True\",\"True\",\"True\",\"True\",\"False\",\"False\",\"False\",\"False\",\"False\",\"False\",\"False\",\"False\",\"False\",\"False\",\"False\",\"False\",\"False\",\"False\",\"False\",\"False\",\"False\",\"False\",\"False\",\"False\",\"False\",\"False\",\"False\",\"False\",\"False\",\"False\",\"False\",\"False\",\"False\",\"False\",\"False\",\"False\",\"False\",\"False\",\"False\",\"False\",\"False\",\"False\",\"False\",\"False\",\"False\",\"False\",\"False\",\"False\",\"False\",\"False\",\"False\",\"False\",\"False\",\"False\",\"False\",\"False\",\"False\",\"False\",\"False\",\"False\",\"False\",\"False\",\"False\",\"False\",\"False\",\"False\",\"False\",\"False\",\"False\",\"False\",\"False\",\"False\",\"False\",\"False\",\"False\",\"False\",\"False\",\"False\",\"False\",\"False\",\"False\",\"False\",\"False\",\"False\",\"False\",\"False\",\"False\",\"False\",\"False\",\"False\",\"False\",\"False\",\"False\",\"False\",\"False\",\"False\",\"False\",\"False\",\"False\",\"False\",\"False\",\"False\",\"False\",\"False\",\"False\",\"False\",\"False\",\"False\",\"False\",\"False\",\"False\",\"False\",\"False\",\"False\",\"False\",\"False\",\"False\",\"False\",\"False\",\"False\",\"False\",\"False\",\"False\",\"False\",\"False\",\"False\",\"False\",\"False\",\"False\",\"False\",\"False\",\"False\",\"False\",\"False\",\"False\",\"False\",\"False\",\"False\",\"False\",\"False\",\"False\",\"False\",\"False\",\"False\",\"False\",\"False\",\"False\",\"False\",\"False\",\"False\",\"False\",\"False\",\"False\",\"False\",\"False\",\"False\",\"False\",\"False\",\"False\",\"False\",\"False\",\"False\",\"False\",\"False\",\"False\",\"False\",\"False\",\"False\",\"False\",\"False\",\"False\",\"False\",\"False\",\"False\",\"False\",\"False\",\"False\",\"False\",\"False\",\"False\",\"False\",\"False\",\"False\",\"False\",\"False\",\"False\",\"False\",\"False\",\"False\",\"False\",\"False\",\"False\",\"False\",\"False\",\"False\",\"False\",\"False\",\"False\",\"False\",\"False\",\"False\",\"False\",\"False\",\"False\",\"True\",\"True\",\"True\",\"True\",\"True\",\"True\",\"True\",\"True\",\"True\",\"True\",\"True\",\"True\",\"True\",\"True\",\"True\",\"True\",\"True\",\"True\",\"True\",\"True\",\"True\",\"True\",\"True\",\"True\",\"True\",\"True\",\"True\",\"True\",\"True\",\"True\",\"True\",\"True\",\"True\",\"True\",\"True\",\"True\",\"True\",\"True\",\"True\",\"True\",\"True\",\"True\",\"True\",\"True\",\"True\",\"True\",\"True\",\"True\",\"True\",\"True\",\"True\",\"True\",\"True\",\"True\",\"True\",\"True\",\"True\",\"True\",\"True\",\"True\",\"True\",\"True\",\"True\",\"True\",\"True\",\"True\",\"True\",\"True\",\"True\",\"True\",\"True\",\"True\",\"True\",\"True\",\"True\",\"True\",\"True\",\"True\",\"True\",\"True\",\"True\",\"True\",\"True\",\"True\",\"True\",\"True\",\"True\",\"True\",\"True\",\"True\",\"True\",\"True\",\"True\",\"True\",\"True\",\"True\",\"True\",\"True\",\"True\",\"True\",\"True\",\"True\",\"True\",\"True\",\"True\",\"True\",\"True\",\"True\",\"True\",\"True\",\"True\",\"True\",\"True\",\"True\",\"True\",\"True\",\"True\",\"True\",\"True\",\"True\",\"True\",\"True\",\"True\",\"True\",\"True\",\"True\",\"True\",\"True\",\"True\",\"True\",\"True\",\"True\",\"True\",\"True\",\"True\",\"True\",\"True\",\"True\",\"True\",\"True\",\"True\",\"True\",\"True\",\"True\",\"True\",\"True\",\"True\",\"True\",\"True\",\"True\",\"True\",\"True\",\"True\",\"True\",\"True\",\"True\",\"True\",\"True\",\"True\",\"True\",\"True\",\"True\",\"True\",\"True\",\"True\",\"True\",\"True\",\"True\",\"True\",\"True\",\"True\",\"True\",\"True\",\"True\",\"True\",\"True\",\"True\",\"True\",\"True\",\"True\",\"True\",\"True\",\"True\",\"True\",\"True\",\"True\",\"True\",\"True\",\"True\",\"True\",\"True\",\"True\",\"True\",\"True\",\"True\",\"True\",\"True\",\"True\",\"True\",\"True\",\"True\",\"True\",\"True\",\"True\",\"True\",\"True\",\"True\",\"True\",\"True\",\"True\",\"True\",\"True\",\"True\",\"True\",\"True\",\"True\",\"True\",\"True\",\"True\",\"True\",\"True\",\"True\",\"True\",\"True\",\"True\",\"True\",\"True\",\"True\",\"True\",\"True\",\"True\",\"True\",\"True\",\"True\",\"True\",\"True\",\"True\",\"True\",\"True\",\"True\",\"True\",\"True\",\"True\",\"True\",\"True\",\"True\",\"True\",\"True\",\"True\",\"True\",\"True\",\"True\",\"True\",\"True\",\"True\",\"True\",\"True\",\"True\",\"True\",\"True\",\"True\",\"True\",\"True\",\"True\",\"True\",\"True\",\"True\",\"True\",\"True\",\"True\",\"True\",\"True\",\"True\",\"True\",\"True\",\"True\",\"True\",\"True\",\"True\",\"True\",\"True\",\"True\",\"True\",\"True\",\"True\",\"True\",\"False\",\"False\",\"False\",\"False\",\"False\",\"False\",\"False\",\"False\",\"False\",\"False\",\"False\",\"False\",\"False\",\"False\",\"False\",\"False\",\"False\",\"False\",\"False\",\"False\",\"False\",\"False\",\"False\",\"False\",\"False\",\"False\",\"False\",\"False\",\"False\",\"False\",\"False\",\"False\",\"False\",\"False\",\"False\",\"False\",\"False\",\"False\",\"False\",\"False\",\"False\",\"False\",\"False\",\"False\",\"False\",\"False\",\"False\",\"False\",\"False\",\"False\",\"False\",\"False\",\"False\",\"False\",\"False\",\"False\",\"False\",\"False\",\"False\",\"False\",\"False\",\"False\",\"False\",\"False\",\"False\",\"False\",\"False\",\"False\",\"False\",\"False\",\"False\",\"False\",\"False\",\"False\",\"False\",\"False\",\"False\",\"False\",\"False\",\"False\",\"False\",\"False\",\"False\",\"False\",\"False\",\"False\",\"False\",\"False\",\"False\",\"False\",\"False\",\"False\",\"False\",\"False\",\"False\",\"False\",\"False\",\"False\",\"False\",\"False\",\"False\",\"False\",\"False\",\"False\",\"False\",\"False\",\"False\",\"False\",\"False\",\"False\",\"False\",\"False\",\"False\",\"False\",\"False\",\"False\",\"False\",\"False\",\"False\",\"False\",\"False\",\"False\",\"False\",\"False\",\"False\",\"False\",\"False\",\"False\",\"False\",\"False\",\"False\",\"False\",\"False\",\"False\",\"False\",\"False\",\"False\",\"False\",\"False\",\"False\",\"False\",\"False\",\"False\",\"False\",\"False\",\"False\",\"False\",\"False\",\"False\",\"False\",\"False\",\"False\",\"False\",\"False\",\"False\",\"False\",\"False\",\"False\",\"False\",\"False\",\"False\",\"False\",\"False\",\"False\",\"False\",\"False\",\"False\",\"False\",\"False\",\"False\",\"False\",\"False\",\"False\",\"False\",\"False\",\"False\",\"False\",\"False\",\"False\",\"False\",\"False\",\"False\",\"False\",\"False\",\"False\",\"False\",\"False\",\"False\",\"False\",\"False\",\"True\",\"True\",\"True\",\"True\",\"True\",\"True\",\"True\",\"True\",\"True\",\"True\",\"True\",\"True\",\"True\",\"True\",\"True\",\"True\",\"True\",\"True\",\"True\",\"True\",\"True\",\"True\",\"True\",\"True\",\"True\",\"True\",\"True\",\"True\",\"True\",\"True\",\"True\",\"True\",\"True\",\"True\",\"True\",\"True\",\"True\",\"True\",\"True\",\"True\",\"True\",\"True\",\"True\",\"True\",\"True\",\"True\",\"True\",\"True\",\"True\",\"True\",\"True\",\"True\",\"True\",\"True\",\"True\",\"True\",\"True\",\"True\",\"True\",\"True\",\"True\",\"True\",\"True\",\"True\",\"True\",\"True\",\"True\",\"True\",\"True\",\"True\",\"True\",\"True\",\"True\",\"True\",\"True\",\"True\",\"True\",\"True\",\"True\",\"True\",\"True\",\"True\",\"True\",\"True\",\"True\",\"True\",\"True\",\"True\",\"True\",\"True\",\"True\",\"True\",\"True\",\"True\",\"True\",\"True\",\"True\",\"True\",\"True\",\"True\",\"True\",\"True\",\"True\",\"True\",\"True\",\"True\",\"True\",\"True\",\"True\",\"True\",\"True\",\"True\",\"True\",\"True\",\"True\",\"True\",\"True\",\"True\",\"True\",\"True\",\"True\",\"True\",\"True\",\"True\",\"True\",\"True\",\"True\",\"True\",\"True\",\"True\",\"True\",\"True\",\"True\",\"True\",\"True\",\"True\",\"True\",\"True\",\"True\",\"True\",\"True\",\"True\",\"True\",\"True\",\"True\",\"True\",\"True\",\"True\",\"True\",\"True\",\"True\",\"True\",\"True\",\"True\",\"True\",\"True\",\"True\",\"True\",\"True\",\"True\",\"True\",\"True\",\"True\",\"True\",\"True\",\"True\",\"True\",\"True\",\"True\",\"True\",\"True\",\"True\",\"True\",\"True\",\"True\",\"True\",\"True\",\"True\",\"True\",\"True\",\"True\",\"True\",\"True\",\"True\",\"True\",\"True\",\"True\",\"True\",\"True\",\"True\",\"True\",\"True\",\"True\",\"True\",\"True\",\"True\",\"True\",\"True\",\"True\",\"True\",\"True\",\"True\",\"True\",\"True\",\"True\",\"True\",\"True\",\"True\",\"True\",\"True\",\"True\",\"True\",\"True\",\"True\",\"True\",\"True\",\"True\",\"True\",\"True\",\"True\",\"True\",\"True\",\"True\",\"True\",\"True\",\"True\",\"True\",\"True\",\"True\",\"True\",\"True\",\"True\",\"True\",\"True\",\"True\",\"True\",\"True\",\"True\",\"True\",\"True\",\"True\",\"True\",\"True\",\"True\",\"True\",\"True\",\"True\",\"True\",\"True\",\"True\",\"True\",\"True\",\"True\",\"True\",\"True\",\"True\",\"True\",\"True\",\"True\",\"True\",\"True\",\"True\",\"True\",\"True\",\"True\",\"True\",\"True\",\"True\",\"True\",\"True\",\"True\",\"True\",\"True\",\"True\",\"True\",\"True\",\"True\",\"True\",\"True\",\"True\",\"True\",\"True\",\"True\",\"True\",\"True\",\"True\",\"True\",\"True\",\"True\",\"True\",\"True\",\"True\",\"True\",\"True\",\"True\",\"True\",\"False\",\"False\",\"False\",\"False\",\"False\",\"False\",\"False\",\"False\",\"False\",\"False\",\"False\",\"False\",\"False\",\"False\",\"False\",\"False\",\"False\",\"False\",\"False\",\"False\",\"False\",\"False\",\"False\",\"False\",\"False\",\"False\",\"False\",\"False\",\"False\",\"False\",\"False\",\"False\",\"False\",\"False\",\"False\",\"False\",\"False\",\"False\",\"False\",\"False\",\"False\",\"False\",\"False\",\"False\",\"False\",\"False\",\"False\",\"False\",\"False\",\"False\",\"False\",\"False\",\"False\",\"False\",\"False\",\"False\",\"False\",\"False\",\"False\",\"False\",\"False\",\"False\",\"False\",\"False\",\"False\",\"False\",\"False\",\"False\",\"False\",\"False\",\"False\",\"False\",\"False\",\"False\",\"False\",\"False\",\"False\",\"False\",\"False\",\"False\",\"False\",\"False\",\"False\",\"False\",\"False\",\"False\",\"False\",\"False\",\"False\",\"False\",\"False\",\"False\",\"False\",\"False\",\"False\",\"False\",\"False\",\"False\",\"False\",\"False\",\"False\",\"False\",\"False\",\"False\",\"False\",\"False\",\"False\",\"False\",\"False\",\"False\",\"False\",\"False\",\"False\",\"False\",\"False\",\"False\",\"False\",\"False\",\"False\",\"False\",\"False\",\"False\",\"False\",\"False\",\"False\",\"False\",\"False\",\"False\",\"False\",\"False\",\"False\",\"False\",\"False\",\"False\",\"False\",\"False\",\"False\",\"False\",\"False\",\"False\",\"False\",\"False\",\"False\",\"False\",\"False\",\"False\",\"False\",\"False\",\"False\",\"False\",\"False\",\"False\",\"False\",\"False\",\"False\",\"False\",\"False\",\"False\",\"False\",\"False\",\"False\",\"True\",\"True\",\"True\",\"True\",\"True\",\"True\",\"True\",\"True\",\"True\",\"True\",\"True\",\"True\",\"True\",\"True\",\"True\",\"True\",\"True\",\"True\",\"True\",\"True\",\"True\",\"True\",\"True\",\"True\",\"True\",\"True\",\"True\",\"True\",\"True\",\"True\",\"True\",\"True\",\"True\",\"True\",\"True\",\"True\",\"True\",\"True\",\"True\",\"True\",\"True\",\"True\",\"True\",\"True\",\"True\",\"True\",\"True\",\"True\",\"True\",\"True\",\"True\",\"True\",\"True\",\"True\",\"True\",\"True\",\"True\",\"True\",\"True\",\"True\",\"True\",\"True\",\"True\",\"True\",\"True\",\"True\",\"True\",\"True\",\"True\",\"True\",\"True\",\"True\",\"True\",\"True\",\"True\",\"True\",\"True\",\"True\",\"True\",\"True\",\"True\",\"True\",\"True\",\"True\",\"True\",\"True\",\"True\",\"True\",\"True\",\"True\",\"True\",\"True\",\"True\",\"True\",\"True\",\"True\",\"True\",\"True\",\"True\",\"True\",\"True\",\"True\",\"True\",\"True\",\"True\",\"True\",\"True\",\"True\",\"True\",\"True\",\"True\",\"True\",\"True\",\"True\",\"True\",\"True\",\"True\",\"True\",\"True\",\"True\",\"True\",\"True\",\"True\",\"True\",\"True\",\"True\",\"True\",\"True\",\"True\",\"True\",\"True\",\"True\",\"True\",\"True\",\"True\",\"True\",\"True\",\"True\",\"True\",\"True\",\"True\",\"True\",\"True\",\"True\",\"True\",\"True\",\"True\",\"True\",\"True\",\"True\",\"True\",\"True\",\"True\",\"True\",\"True\",\"True\",\"True\",\"True\",\"True\",\"True\",\"True\",\"True\",\"True\",\"True\",\"True\",\"True\",\"True\",\"True\",\"True\",\"True\",\"True\",\"True\",\"True\",\"True\",\"True\",\"True\",\"True\",\"True\",\"True\",\"True\",\"True\",\"True\",\"True\",\"True\",\"True\",\"True\",\"True\",\"True\",\"True\",\"True\",\"True\",\"True\",\"True\",\"True\",\"True\",\"True\",\"True\",\"True\",\"True\",\"True\",\"True\",\"True\",\"True\",\"True\",\"True\",\"True\",\"True\",\"True\",\"True\",\"True\",\"True\",\"True\",\"True\",\"True\",\"True\",\"True\",\"True\",\"True\",\"True\",\"True\",\"True\",\"True\",\"True\",\"True\",\"False\",\"False\",\"False\",\"False\",\"False\",\"False\",\"False\",\"False\",\"False\",\"False\",\"False\",\"False\",\"False\",\"False\",\"False\",\"False\",\"False\",\"False\",\"False\",\"False\",\"False\",\"False\",\"False\",\"False\",\"False\",\"False\",\"False\",\"False\",\"False\",\"False\",\"False\",\"False\",\"False\",\"False\",\"False\",\"False\",\"False\",\"False\",\"False\",\"False\",\"False\",\"False\",\"False\",\"False\",\"False\",\"False\",\"False\",\"False\",\"False\",\"False\",\"False\",\"False\",\"False\",\"False\",\"False\",\"False\",\"False\",\"False\",\"False\",\"False\",\"False\",\"False\",\"False\",\"False\",\"False\",\"False\",\"False\",\"False\",\"False\",\"False\",\"False\",\"False\",\"False\",\"False\",\"False\",\"False\",\"False\",\"False\",\"False\",\"False\",\"False\",\"False\",\"False\",\"False\",\"False\",\"False\",\"False\",\"False\",\"False\",\"False\",\"False\",\"False\",\"False\",\"False\",\"False\",\"False\",\"False\",\"False\",\"False\",\"False\",\"False\",\"False\",\"False\",\"False\",\"False\",\"False\",\"False\",\"False\",\"False\",\"False\",\"False\",\"False\",\"False\",\"False\",\"False\",\"False\",\"False\",\"False\",\"False\",\"False\",\"False\",\"False\",\"False\",\"False\",\"False\",\"False\",\"False\",\"False\",\"False\",\"False\",\"False\",\"False\",\"False\",\"False\",\"False\",\"False\",\"False\",\"False\",\"False\",\"False\",\"False\",\"False\",\"False\",\"False\",\"False\",\"False\",\"False\",\"False\",\"False\",\"False\",\"False\",\"False\",\"False\",\"False\",\"False\",\"False\",\"False\",\"False\",\"False\",\"False\",\"False\",\"False\",\"False\",\"False\",\"False\",\"False\",\"False\",\"False\",\"False\",\"False\",\"False\",\"False\",\"False\",\"False\",\"False\",\"False\",\"False\",\"False\",\"False\",\"False\",\"False\",\"False\",\"False\",\"False\",\"False\",\"False\",\"False\",\"False\",\"False\",\"False\",\"False\",\"False\",\"True\",\"True\",\"True\",\"True\",\"True\",\"True\",\"True\",\"True\",\"True\",\"True\",\"True\",\"True\",\"True\",\"True\",\"True\",\"True\",\"True\",\"True\",\"True\",\"True\",\"True\",\"True\",\"True\",\"True\",\"True\",\"True\",\"True\",\"True\",\"True\",\"True\",\"True\",\"True\",\"True\",\"True\",\"True\",\"True\",\"True\",\"True\",\"True\",\"True\",\"True\",\"True\",\"True\",\"True\",\"True\",\"True\",\"True\",\"True\",\"True\",\"True\",\"True\",\"True\",\"True\",\"True\",\"True\",\"True\",\"True\",\"True\",\"True\",\"True\",\"True\",\"True\",\"True\",\"True\",\"True\",\"True\",\"True\",\"True\",\"True\",\"True\",\"True\",\"True\",\"True\",\"True\",\"True\",\"True\",\"True\",\"True\",\"True\",\"True\",\"True\",\"True\",\"True\",\"True\",\"True\",\"True\",\"True\",\"True\",\"True\",\"True\",\"True\",\"True\",\"True\",\"True\",\"True\",\"True\",\"True\",\"True\",\"True\",\"True\",\"True\",\"True\",\"True\",\"True\",\"True\",\"True\",\"True\",\"True\",\"True\",\"True\",\"True\",\"True\",\"True\",\"True\",\"True\",\"True\",\"True\",\"True\",\"True\",\"True\",\"True\",\"True\",\"True\",\"True\",\"True\",\"True\",\"True\",\"True\",\"True\",\"True\",\"True\",\"True\",\"True\",\"True\",\"True\",\"True\",\"True\",\"True\",\"True\",\"True\",\"True\",\"True\",\"True\",\"True\",\"True\",\"True\",\"True\",\"True\",\"True\",\"True\",\"True\",\"True\",\"True\",\"True\",\"True\",\"True\",\"True\",\"True\",\"True\",\"True\",\"True\",\"True\",\"True\",\"True\",\"True\",\"True\",\"False\",\"False\",\"False\",\"False\",\"False\",\"False\",\"False\",\"False\",\"False\",\"False\",\"False\",\"False\",\"False\",\"False\",\"False\",\"False\",\"False\",\"False\",\"False\",\"False\",\"False\",\"False\",\"False\",\"False\",\"False\",\"False\",\"False\",\"False\",\"False\",\"False\",\"False\",\"False\",\"False\",\"False\",\"False\",\"False\",\"False\",\"False\",\"False\",\"False\",\"False\",\"False\",\"False\",\"False\",\"False\",\"False\",\"False\",\"False\",\"False\",\"False\",\"False\",\"False\",\"False\",\"False\",\"False\",\"False\",\"False\",\"False\",\"False\",\"False\",\"False\",\"False\",\"False\",\"False\",\"False\",\"False\",\"False\",\"False\",\"False\",\"False\",\"False\",\"False\",\"False\",\"False\",\"False\",\"False\",\"False\",\"False\",\"False\",\"False\",\"False\",\"False\",\"False\",\"False\",\"False\",\"False\",\"False\",\"False\",\"False\",\"False\",\"False\",\"False\",\"False\",\"False\",\"False\",\"False\",\"False\",\"False\",\"False\",\"False\",\"False\",\"False\",\"False\",\"False\",\"False\",\"False\",\"False\",\"False\",\"False\",\"False\",\"False\",\"False\",\"False\",\"False\",\"True\",\"True\",\"True\",\"True\",\"True\",\"True\",\"True\",\"True\",\"True\",\"True\",\"True\",\"True\",\"True\",\"True\",\"True\",\"True\",\"True\",\"True\",\"True\",\"True\",\"True\",\"True\",\"True\",\"True\",\"True\",\"True\",\"True\",\"True\",\"True\",\"True\",\"True\",\"True\",\"True\",\"True\",\"True\",\"True\",\"True\",\"True\",\"True\",\"True\",\"True\",\"True\",\"True\",\"True\",\"True\",\"True\",\"True\",\"True\",\"True\",\"True\",\"True\",\"True\",\"True\",\"True\",\"True\",\"True\",\"True\",\"True\",\"True\",\"True\",\"True\",\"True\",\"True\",\"True\",\"True\",\"True\",\"True\",\"True\",\"True\",\"True\",\"True\",\"True\",\"True\",\"True\",\"True\",\"True\",\"True\",\"True\",\"True\",\"True\",\"True\",\"True\",\"True\",\"True\",\"True\",\"True\",\"True\",\"True\",\"True\",\"True\",\"True\",\"True\",\"True\",\"True\",\"True\",\"True\",\"True\",\"True\",\"True\",\"True\",\"True\",\"True\",\"True\",\"True\",\"True\",\"True\",\"True\",\"True\",\"True\",\"True\",\"True\",\"True\",\"True\",\"True\",\"True\",\"True\",\"True\",\"True\",\"True\",\"True\",\"True\",\"True\",\"True\",\"True\",\"True\",\"True\",\"True\",\"True\",\"True\",\"True\",\"True\",\"True\",\"True\",\"True\",\"True\",\"True\",\"True\",\"True\",\"True\",\"True\",\"True\",\"True\",\"True\",\"True\",\"True\",\"True\",\"True\",\"True\",\"False\",\"False\",\"False\",\"False\",\"False\",\"False\",\"False\",\"False\",\"False\",\"False\",\"False\",\"False\",\"False\",\"False\",\"False\",\"False\",\"False\",\"False\",\"False\",\"False\",\"False\",\"False\",\"False\",\"False\",\"False\",\"False\",\"False\",\"False\",\"False\",\"False\",\"False\",\"False\",\"False\",\"False\",\"False\",\"False\",\"False\",\"False\",\"False\",\"False\",\"False\",\"False\",\"False\",\"False\",\"False\",\"False\",\"False\",\"False\",\"False\",\"False\",\"False\",\"False\",\"False\",\"False\",\"False\",\"False\",\"False\",\"False\",\"False\",\"False\",\"False\",\"False\",\"False\",\"False\",\"False\",\"False\",\"False\",\"False\",\"False\",\"False\",\"False\",\"False\",\"False\",\"False\",\"False\",\"False\",\"False\",\"False\",\"True\",\"True\",\"True\",\"True\",\"True\",\"True\",\"True\",\"True\",\"True\",\"True\",\"True\",\"True\",\"True\",\"True\",\"True\",\"True\",\"True\",\"True\",\"True\",\"True\",\"True\",\"True\",\"True\",\"True\",\"True\",\"True\",\"True\",\"True\",\"True\",\"True\",\"True\",\"True\",\"True\",\"True\",\"True\",\"True\",\"True\",\"True\",\"True\",\"True\",\"True\",\"True\",\"True\",\"True\",\"True\",\"True\",\"True\",\"True\",\"True\",\"True\",\"True\",\"True\",\"True\",\"True\",\"True\",\"True\",\"True\",\"True\",\"True\",\"True\",\"True\",\"True\",\"True\",\"True\",\"True\",\"True\",\"True\",\"True\",\"True\",\"True\",\"True\",\"True\",\"True\",\"True\",\"True\",\"True\",\"True\",\"True\",\"True\",\"True\",\"True\",\"True\",\"True\",\"True\",\"True\",\"True\",\"True\",\"True\",\"True\",\"True\",\"True\",\"True\",\"True\",\"True\",\"True\",\"True\",\"True\",\"True\",\"True\",\"True\",\"True\",\"True\",\"True\",\"True\",\"True\",\"True\",\"True\",\"True\",\"True\",\"True\",\"True\",\"True\",\"True\",\"True\",\"True\",\"True\",\"True\",\"True\",\"True\",\"True\",\"True\",\"True\",\"True\",\"True\",\"True\",\"True\",\"True\",\"True\",\"True\",\"True\",\"True\",\"True\",\"True\",\"True\",\"True\",\"True\",\"True\",\"True\",\"True\",\"True\",\"True\",\"True\",\"True\",\"True\",\"True\",\"True\",\"True\",\"True\",\"True\",\"True\",\"True\",\"True\",\"True\",\"True\",\"True\",\"True\",\"True\",\"True\",\"True\",\"True\",\"True\",\"True\",\"True\",\"True\",\"True\",\"True\",\"True\",\"True\",\"True\",\"True\",\"True\",\"True\",\"True\",\"True\",\"True\",\"True\",\"True\",\"True\",\"True\",\"True\",\"True\",\"True\",\"True\",\"True\",\"True\",\"True\",\"True\",\"True\",\"True\",\"True\",\"True\",\"True\",\"True\",\"True\",\"True\",\"True\",\"True\",\"True\",\"True\",\"True\",\"True\",\"True\",\"True\",\"True\",\"True\",\"True\",\"True\",\"True\",\"True\",\"True\",\"True\",\"True\",\"True\",\"True\",\"True\",\"True\",\"True\",\"True\",\"True\",\"True\",\"True\",\"True\",\"True\",\"True\",\"True\",\"True\",\"True\",\"True\",\"True\",\"True\",\"True\",\"True\",\"True\",\"True\",\"True\",\"True\",\"True\",\"True\",\"True\",\"True\",\"True\",\"True\",\"True\",\"True\",\"True\",\"True\",\"True\",\"True\",\"True\",\"True\",\"True\",\"True\",\"True\",\"True\",\"True\",\"True\",\"True\",\"True\",\"True\",\"True\",\"True\",\"True\",\"True\",\"True\",\"True\",\"True\",\"True\",\"True\",\"True\",\"True\",\"True\",\"True\",\"True\",\"True\",\"True\",\"True\",\"True\",\"True\",\"True\",\"True\",\"True\",\"True\",\"True\",\"False\",\"False\",\"False\",\"False\",\"False\",\"False\",\"False\",\"False\",\"False\",\"False\",\"False\",\"False\",\"False\",\"False\",\"False\",\"False\",\"False\",\"False\",\"False\",\"False\",\"False\",\"False\",\"False\",\"False\",\"False\",\"False\",\"False\",\"False\",\"False\",\"False\",\"False\",\"False\",\"False\",\"False\",\"False\",\"False\",\"False\",\"False\",\"False\",\"False\",\"False\",\"False\",\"False\",\"False\",\"False\",\"False\",\"False\",\"False\",\"False\",\"False\",\"False\",\"False\",\"False\",\"False\",\"False\",\"False\",\"False\",\"False\",\"False\",\"False\",\"False\",\"False\",\"False\",\"False\",\"False\",\"False\",\"False\",\"False\",\"False\",\"False\",\"False\",\"False\",\"False\",\"False\",\"False\",\"False\",\"False\",\"False\",\"False\",\"False\",\"False\",\"False\",\"False\",\"False\",\"False\",\"False\",\"False\",\"False\",\"False\",\"False\",\"False\",\"False\",\"False\",\"False\",\"False\",\"False\",\"False\",\"False\",\"False\",\"False\",\"False\",\"False\",\"False\",\"False\",\"False\",\"False\",\"False\",\"False\",\"False\",\"False\",\"False\",\"False\",\"False\",\"False\",\"False\",\"False\",\"False\",\"False\",\"False\",\"False\",\"False\",\"False\",\"False\",\"False\",\"False\",\"False\",\"False\",\"False\",\"False\",\"False\",\"False\",\"False\",\"False\",\"False\",\"False\",\"False\",\"False\",\"False\",\"False\",\"False\",\"False\",\"False\",\"False\",\"False\",\"False\",\"False\",\"False\",\"False\",\"False\",\"False\",\"False\",\"False\",\"False\",\"False\",\"False\",\"False\",\"False\",\"False\",\"False\",\"False\",\"False\",\"False\",\"False\",\"False\",\"False\",\"False\",\"False\",\"False\",\"False\",\"False\",\"False\",\"False\",\"False\",\"False\",\"False\",\"False\",\"False\",\"False\",\"False\",\"False\",\"False\",\"False\",\"False\",\"False\",\"False\",\"False\",\"False\",\"False\",\"False\",\"False\",\"False\",\"False\",\"False\",\"False\",\"False\",\"False\",\"False\",\"False\",\"False\",\"False\",\"False\",\"False\",\"False\",\"False\",\"True\",\"True\",\"True\",\"True\",\"True\",\"True\",\"True\",\"True\",\"True\",\"True\",\"True\",\"True\",\"True\",\"True\",\"True\",\"True\",\"True\",\"True\",\"True\",\"True\",\"True\",\"True\",\"True\",\"True\",\"True\",\"True\",\"True\",\"True\",\"True\",\"True\",\"True\",\"True\",\"True\",\"True\",\"True\",\"True\",\"True\",\"True\",\"True\",\"True\",\"True\",\"True\",\"True\",\"True\",\"True\",\"True\",\"True\",\"True\",\"True\",\"True\",\"True\",\"True\",\"True\",\"True\",\"True\",\"True\",\"True\",\"True\",\"True\",\"True\",\"True\",\"True\",\"True\",\"True\",\"True\",\"True\",\"True\",\"True\",\"True\",\"True\",\"True\",\"True\",\"True\",\"True\",\"True\",\"True\",\"True\",\"True\",\"True\",\"True\",\"True\",\"True\",\"True\",\"True\",\"True\",\"True\",\"True\",\"True\",\"True\",\"True\",\"True\",\"True\",\"True\",\"True\",\"True\",\"True\",\"True\",\"True\",\"True\",\"True\",\"True\",\"True\",\"True\",\"True\",\"True\",\"True\",\"True\",\"True\",\"True\",\"True\",\"True\",\"True\",\"True\",\"True\",\"True\",\"True\",\"True\",\"True\",\"True\",\"True\",\"True\",\"True\",\"True\",\"True\",\"True\",\"True\",\"True\",\"True\",\"True\",\"True\",\"True\",\"True\",\"True\",\"True\",\"True\",\"True\",\"True\",\"True\",\"True\",\"True\",\"True\",\"True\",\"True\",\"True\",\"True\",\"True\",\"True\",\"True\",\"True\",\"True\",\"True\",\"True\",\"True\",\"True\",\"True\",\"True\",\"True\",\"True\",\"True\",\"True\",\"True\",\"True\",\"True\",\"True\",\"True\",\"True\",\"True\",\"True\",\"True\",\"True\",\"True\",\"True\",\"True\",\"True\",\"True\",\"True\",\"True\",\"True\",\"True\",\"True\",\"True\",\"True\",\"True\",\"True\",\"True\",\"True\",\"True\",\"True\",\"True\",\"True\",\"True\",\"True\",\"True\",\"True\",\"True\",\"True\",\"True\",\"True\",\"True\",\"True\",\"True\",\"True\",\"True\",\"True\",\"True\",\"True\",\"True\",\"True\",\"True\",\"True\",\"True\",\"True\",\"True\",\"True\",\"True\",\"True\",\"True\",\"True\",\"True\",\"True\",\"True\",\"True\",\"True\",\"True\",\"True\",\"True\",\"True\",\"True\",\"True\",\"True\",\"True\",\"True\",\"True\",\"True\",\"True\",\"True\",\"True\",\"True\",\"True\",\"True\",\"True\",\"True\",\"True\",\"True\",\"True\",\"True\",\"True\",\"True\",\"True\",\"True\",\"True\",\"True\",\"True\",\"True\",\"True\",\"True\",\"True\",\"True\",\"True\",\"True\",\"True\",\"True\",\"True\",\"True\",\"True\",\"True\",\"True\",\"True\",\"True\",\"True\",\"True\",\"True\",\"True\",\"True\",\"True\",\"True\",\"True\",\"True\",\"True\",\"True\",\"True\",\"True\",\"True\",\"True\",\"True\",\"True\",\"True\",\"True\",\"True\",\"True\",\"True\",\"True\",\"True\",\"True\",\"True\",\"False\",\"False\",\"False\",\"False\",\"False\",\"False\",\"False\",\"False\",\"False\",\"False\",\"False\",\"False\",\"False\",\"False\",\"False\",\"False\",\"False\",\"False\",\"False\",\"False\",\"False\",\"False\",\"False\",\"False\",\"False\",\"False\",\"False\",\"False\",\"False\",\"False\",\"False\",\"False\",\"False\",\"False\",\"False\",\"False\",\"False\",\"False\",\"False\",\"False\",\"False\",\"False\",\"False\",\"False\",\"False\",\"False\",\"False\",\"False\",\"False\",\"False\",\"False\",\"False\",\"False\",\"False\",\"False\",\"False\",\"False\",\"False\",\"False\",\"False\",\"False\",\"False\",\"False\",\"False\",\"False\",\"False\",\"False\",\"False\",\"False\",\"False\",\"False\",\"False\",\"False\",\"False\",\"False\",\"False\",\"False\",\"False\",\"False\",\"False\",\"False\",\"False\",\"False\",\"False\",\"False\",\"False\",\"False\",\"False\",\"False\",\"False\",\"False\",\"False\",\"False\",\"False\",\"False\",\"False\",\"False\",\"False\",\"False\",\"False\",\"False\",\"False\",\"False\",\"False\",\"False\",\"False\",\"False\",\"False\",\"False\",\"False\",\"False\",\"False\",\"False\",\"False\",\"False\",\"False\",\"False\",\"False\",\"False\",\"False\",\"False\",\"False\",\"False\",\"False\",\"False\",\"False\",\"False\",\"False\",\"False\",\"False\",\"False\",\"False\",\"False\",\"False\",\"False\",\"False\",\"False\",\"False\",\"False\",\"False\",\"False\",\"False\",\"False\",\"False\",\"False\",\"False\",\"False\",\"False\",\"False\",\"False\",\"False\",\"False\",\"False\",\"False\",\"False\",\"False\",\"False\",\"False\",\"False\",\"False\",\"False\",\"False\",\"False\",\"False\",\"False\",\"False\",\"False\",\"False\",\"False\",\"False\",\"False\",\"False\",\"False\",\"False\",\"False\",\"False\",\"False\",\"False\",\"False\",\"False\",\"False\",\"False\",\"False\",\"False\",\"False\",\"False\",\"False\",\"False\",\"False\",\"False\",\"False\",\"False\",\"False\"],\"cat\":[\"True\",\"True\",\"True\",\"True\",\"True\",\"True\",\"True\",\"True\",\"True\",\"True\",\"True\",\"True\",\"True\",\"True\",\"True\",\"True\",\"True\",\"True\",\"True\",\"True\",\"True\",\"True\",\"True\",\"True\",\"True\",\"True\",\"True\",\"True\",\"True\",\"True\",\"True\",\"True\",\"True\",\"True\",\"True\",\"True\",\"True\",\"True\",\"True\",\"True\",\"True\",\"True\",\"True\",\"True\",\"True\",\"True\",\"True\",\"True\",\"True\",\"True\",\"True\",\"True\",\"True\",\"True\",\"True\",\"True\",\"True\",\"True\",\"True\",\"True\",\"True\",\"True\",\"True\",\"True\",\"True\",\"True\",\"True\",\"True\",\"True\",\"True\",\"True\",\"True\",\"True\",\"True\",\"True\",\"True\",\"True\",\"True\",\"True\",\"True\",\"True\",\"True\",\"True\",\"True\",\"True\",\"True\",\"True\",\"True\",\"True\",\"True\",\"True\",\"True\",\"True\",\"True\",\"True\",\"True\",\"True\",\"True\",\"True\",\"True\",\"True\",\"True\",\"True\",\"True\",\"True\",\"True\",\"True\",\"True\",\"True\",\"True\",\"True\",\"True\",\"True\",\"True\",\"True\",\"True\",\"True\",\"True\",\"True\",\"True\",\"True\",\"True\",\"True\",\"True\",\"True\",\"True\",\"True\",\"True\",\"True\",\"True\",\"True\",\"True\",\"True\",\"True\",\"True\",\"True\",\"True\",\"True\",\"True\",\"True\",\"True\",\"True\",\"True\",\"True\",\"True\",\"True\",\"True\",\"True\",\"True\",\"True\",\"True\",\"True\",\"True\",\"True\",\"True\",\"True\",\"True\",\"True\",\"True\",\"True\",\"True\",\"True\",\"True\",\"True\",\"True\",\"True\",\"True\",\"True\",\"True\",\"True\",\"True\",\"True\",\"True\",\"True\",\"True\",\"True\",\"True\",\"True\",\"True\",\"True\",\"True\",\"True\",\"True\",\"True\",\"True\",\"True\",\"True\",\"True\",\"True\",\"True\",\"True\",\"True\",\"True\",\"True\",\"True\",\"True\",\"True\",\"True\",\"True\",\"True\",\"True\",\"True\",\"True\",\"True\",\"True\",\"True\",\"True\",\"True\",\"True\",\"True\",\"True\",\"True\",\"True\",\"True\",\"True\",\"True\",\"True\",\"True\",\"True\",\"True\",\"True\",\"True\",\"True\",\"True\",\"True\",\"True\",\"True\",\"True\",\"True\",\"True\",\"True\",\"True\",\"True\",\"True\",\"True\",\"True\",\"True\",\"True\",\"True\",\"True\",\"True\",\"True\",\"True\",\"True\",\"True\",\"True\",\"True\",\"True\",\"True\",\"True\",\"True\",\"True\",\"True\",\"True\",\"True\",\"True\",\"True\",\"True\",\"True\",\"True\",\"True\",\"True\",\"True\",\"True\",\"True\",\"True\",\"True\",\"True\",\"True\",\"True\",\"True\",\"True\",\"True\",\"True\",\"True\",\"True\",\"True\",\"True\",\"True\",\"True\",\"True\",\"True\",\"True\",\"True\",\"True\",\"True\",\"True\",\"True\",\"True\",\"True\",\"True\",\"True\",\"True\",\"True\",\"True\",\"True\",\"False\",\"False\",\"False\",\"False\",\"False\",\"False\",\"False\",\"False\",\"False\",\"False\",\"False\",\"False\",\"False\",\"False\",\"False\",\"False\",\"False\",\"False\",\"False\",\"False\",\"False\",\"False\",\"False\",\"False\",\"False\",\"False\",\"False\",\"False\",\"False\",\"False\",\"False\",\"False\",\"False\",\"False\",\"False\",\"False\",\"False\",\"False\",\"False\",\"False\",\"False\",\"False\",\"False\",\"False\",\"False\",\"False\",\"False\",\"False\",\"False\",\"False\",\"False\",\"False\",\"False\",\"False\",\"False\",\"False\",\"False\",\"False\",\"False\",\"False\",\"False\",\"False\",\"False\",\"False\",\"False\",\"False\",\"False\",\"False\",\"False\",\"False\",\"False\",\"False\",\"False\",\"False\",\"False\",\"False\",\"False\",\"False\",\"False\",\"False\",\"False\",\"False\",\"False\",\"False\",\"False\",\"False\",\"False\",\"False\",\"False\",\"False\",\"False\",\"False\",\"False\",\"False\",\"False\",\"False\",\"False\",\"False\",\"False\",\"False\",\"False\",\"False\",\"False\",\"False\",\"False\",\"False\",\"False\",\"False\",\"False\",\"False\",\"False\",\"False\",\"False\",\"False\",\"False\",\"False\",\"False\",\"False\",\"False\",\"False\",\"False\",\"False\",\"False\",\"False\",\"False\",\"False\",\"False\",\"False\",\"False\",\"False\",\"False\",\"False\",\"False\",\"False\",\"False\",\"False\",\"False\",\"False\",\"False\",\"False\",\"False\",\"False\",\"False\",\"False\",\"False\",\"False\",\"False\",\"False\",\"False\",\"False\",\"False\",\"False\",\"False\",\"False\",\"False\",\"False\",\"False\",\"False\",\"False\",\"False\",\"False\",\"False\",\"False\",\"False\",\"False\",\"False\",\"False\",\"False\",\"False\",\"False\",\"False\",\"False\",\"False\",\"False\",\"False\",\"False\",\"False\",\"False\",\"False\",\"False\",\"False\",\"False\",\"False\",\"False\",\"False\",\"False\",\"False\",\"False\",\"False\",\"False\",\"False\",\"False\",\"False\",\"False\",\"False\",\"False\",\"False\",\"False\",\"False\",\"False\",\"True\",\"True\",\"True\",\"True\",\"True\",\"True\",\"True\",\"True\",\"True\",\"True\",\"True\",\"True\",\"True\",\"True\",\"True\",\"True\",\"True\",\"True\",\"True\",\"True\",\"True\",\"True\",\"True\",\"True\",\"True\",\"True\",\"True\",\"True\",\"True\",\"True\",\"True\",\"True\",\"True\",\"True\",\"True\",\"True\",\"True\",\"True\",\"True\",\"True\",\"True\",\"True\",\"True\",\"True\",\"True\",\"True\",\"True\",\"True\",\"True\",\"True\",\"True\",\"True\",\"True\",\"True\",\"True\",\"True\",\"True\",\"True\",\"True\",\"True\",\"True\",\"True\",\"True\",\"True\",\"True\",\"True\",\"True\",\"True\",\"True\",\"True\",\"True\",\"True\",\"True\",\"True\",\"True\",\"True\",\"True\",\"True\",\"True\",\"True\",\"True\",\"True\",\"True\",\"True\",\"True\",\"True\",\"True\",\"True\",\"True\",\"True\",\"True\",\"True\",\"True\",\"True\",\"True\",\"True\",\"True\",\"True\",\"True\",\"True\",\"True\",\"True\",\"True\",\"True\",\"True\",\"True\",\"True\",\"True\",\"True\",\"True\",\"True\",\"True\",\"True\",\"True\",\"True\",\"True\",\"True\",\"True\",\"True\",\"True\",\"True\",\"True\",\"True\",\"True\",\"True\",\"True\",\"True\",\"True\",\"True\",\"True\",\"True\",\"True\",\"True\",\"True\",\"True\",\"True\",\"True\",\"True\",\"True\",\"True\",\"True\",\"True\",\"True\",\"True\",\"True\",\"True\",\"True\",\"True\",\"True\",\"True\",\"True\",\"True\",\"True\",\"True\",\"True\",\"True\",\"True\",\"True\",\"True\",\"True\",\"True\",\"True\",\"True\",\"True\",\"True\",\"True\",\"True\",\"True\",\"True\",\"True\",\"True\",\"True\",\"True\",\"True\",\"True\",\"True\",\"True\",\"True\",\"True\",\"True\",\"True\",\"True\",\"True\",\"True\",\"True\",\"True\",\"True\",\"True\",\"True\",\"True\",\"True\",\"True\",\"True\",\"True\",\"True\",\"True\",\"True\",\"True\",\"True\",\"True\",\"True\",\"True\",\"True\",\"True\",\"True\",\"True\",\"True\",\"True\",\"True\",\"True\",\"True\",\"True\",\"True\",\"True\",\"True\",\"True\",\"True\",\"True\",\"True\",\"True\",\"True\",\"True\",\"True\",\"True\",\"True\",\"True\",\"True\",\"True\",\"True\",\"True\",\"True\",\"True\",\"True\",\"True\",\"True\",\"True\",\"True\",\"True\",\"True\",\"True\",\"True\",\"True\",\"True\",\"True\",\"True\",\"True\",\"True\",\"True\",\"True\",\"True\",\"True\",\"True\",\"True\",\"True\",\"True\",\"True\",\"True\",\"True\",\"True\",\"True\",\"True\",\"True\",\"True\",\"True\",\"True\",\"True\",\"True\",\"True\",\"True\",\"True\",\"True\",\"True\",\"True\",\"True\",\"True\",\"True\",\"True\",\"True\",\"True\",\"True\",\"True\",\"True\",\"True\",\"True\",\"True\",\"True\",\"False\",\"False\",\"False\",\"False\",\"False\",\"False\",\"False\",\"False\",\"False\",\"False\",\"False\",\"False\",\"False\",\"False\",\"False\",\"False\",\"False\",\"False\",\"False\",\"False\",\"False\",\"False\",\"False\",\"False\",\"False\",\"False\",\"False\",\"False\",\"False\",\"False\",\"False\",\"False\",\"False\",\"False\",\"False\",\"False\",\"False\",\"False\",\"False\",\"False\",\"False\",\"False\",\"False\",\"False\",\"False\",\"False\",\"False\",\"False\",\"False\",\"False\",\"False\",\"False\",\"False\",\"False\",\"False\",\"False\",\"False\",\"False\",\"False\",\"False\",\"False\",\"False\",\"False\",\"False\",\"False\",\"False\",\"False\",\"False\",\"False\",\"False\",\"False\",\"False\",\"False\",\"False\",\"False\",\"False\",\"False\",\"False\",\"False\",\"False\",\"False\",\"False\",\"False\",\"False\",\"False\",\"False\",\"False\",\"False\",\"False\",\"False\",\"False\",\"False\",\"False\",\"False\",\"False\",\"False\",\"False\",\"False\",\"False\",\"False\",\"False\",\"False\",\"False\",\"False\",\"False\",\"False\",\"False\",\"False\",\"False\",\"False\",\"False\",\"False\",\"False\",\"False\",\"False\",\"False\",\"False\",\"False\",\"False\",\"False\",\"False\",\"False\",\"False\",\"False\",\"False\",\"False\",\"False\",\"False\",\"False\",\"False\",\"False\",\"False\",\"False\",\"False\",\"False\",\"False\",\"False\",\"False\",\"False\",\"False\",\"False\",\"False\",\"False\",\"False\",\"False\",\"False\",\"False\",\"False\",\"False\",\"False\",\"False\",\"False\",\"False\",\"False\",\"False\",\"False\",\"False\",\"False\",\"False\",\"False\",\"False\",\"False\",\"False\",\"False\",\"False\",\"False\",\"False\",\"False\",\"False\",\"False\",\"False\",\"False\",\"False\",\"False\",\"False\",\"False\",\"False\",\"False\",\"False\",\"False\",\"False\",\"False\",\"False\",\"False\",\"False\",\"False\",\"False\",\"False\",\"False\",\"False\",\"True\",\"True\",\"True\",\"True\",\"True\",\"True\",\"True\",\"True\",\"True\",\"True\",\"True\",\"True\",\"True\",\"True\",\"True\",\"True\",\"True\",\"True\",\"True\",\"True\",\"True\",\"True\",\"True\",\"True\",\"True\",\"True\",\"True\",\"True\",\"True\",\"True\",\"True\",\"True\",\"True\",\"True\",\"True\",\"True\",\"True\",\"True\",\"True\",\"True\",\"True\",\"True\",\"True\",\"True\",\"True\",\"True\",\"True\",\"True\",\"True\",\"True\",\"True\",\"True\",\"True\",\"True\",\"True\",\"True\",\"True\",\"True\",\"True\",\"True\",\"True\",\"True\",\"True\",\"True\",\"True\",\"True\",\"True\",\"True\",\"True\",\"True\",\"True\",\"True\",\"True\",\"True\",\"True\",\"True\",\"True\",\"True\",\"True\",\"True\",\"True\",\"True\",\"True\",\"True\",\"True\",\"True\",\"True\",\"True\",\"True\",\"True\",\"True\",\"True\",\"True\",\"True\",\"True\",\"True\",\"True\",\"True\",\"True\",\"True\",\"True\",\"True\",\"True\",\"True\",\"True\",\"True\",\"True\",\"True\",\"True\",\"True\",\"True\",\"True\",\"True\",\"True\",\"True\",\"True\",\"True\",\"True\",\"True\",\"True\",\"True\",\"True\",\"True\",\"True\",\"True\",\"True\",\"True\",\"True\",\"True\",\"True\",\"True\",\"True\",\"True\",\"True\",\"True\",\"True\",\"True\",\"True\",\"True\",\"True\",\"True\",\"True\",\"True\",\"True\",\"True\",\"True\",\"True\",\"True\",\"True\",\"True\",\"True\",\"True\",\"True\",\"True\",\"True\",\"True\",\"True\",\"True\",\"True\",\"True\",\"True\",\"True\",\"True\",\"True\",\"True\",\"True\",\"True\",\"True\",\"True\",\"True\",\"True\",\"True\",\"True\",\"True\",\"True\",\"True\",\"True\",\"True\",\"True\",\"True\",\"True\",\"True\",\"True\",\"True\",\"True\",\"True\",\"True\",\"True\",\"True\",\"True\",\"True\",\"True\",\"True\",\"True\",\"True\",\"True\",\"True\",\"True\",\"True\",\"True\",\"True\",\"True\",\"True\",\"True\",\"True\",\"True\",\"True\",\"True\",\"True\",\"True\",\"True\",\"True\",\"True\",\"True\",\"True\",\"True\",\"True\",\"True\",\"True\",\"True\",\"True\",\"True\",\"True\",\"True\",\"True\",\"True\",\"True\",\"True\",\"True\",\"True\",\"True\",\"True\",\"True\",\"True\",\"True\",\"True\",\"True\",\"True\",\"True\",\"True\",\"True\",\"True\",\"True\",\"True\",\"True\",\"True\",\"True\",\"True\",\"True\",\"True\",\"True\",\"True\",\"True\",\"True\",\"True\",\"True\",\"True\",\"True\",\"True\",\"True\",\"True\",\"True\",\"True\",\"True\",\"True\",\"True\",\"True\",\"True\",\"True\",\"True\",\"True\",\"True\",\"True\",\"True\",\"True\",\"True\",\"True\",\"True\",\"True\",\"True\",\"True\",\"True\",\"True\",\"True\",\"True\",\"True\",\"True\",\"True\",\"True\",\"True\",\"True\",\"True\",\"True\",\"True\",\"True\",\"True\",\"False\",\"False\",\"False\",\"False\",\"False\",\"False\",\"False\",\"False\",\"False\",\"False\",\"False\",\"False\",\"False\",\"False\",\"False\",\"False\",\"False\",\"False\",\"False\",\"False\",\"False\",\"False\",\"False\",\"False\",\"False\",\"False\",\"False\",\"False\",\"False\",\"False\",\"False\",\"False\",\"False\",\"False\",\"False\",\"False\",\"False\",\"False\",\"False\",\"False\",\"False\",\"False\",\"False\",\"False\",\"False\",\"False\",\"False\",\"False\",\"False\",\"False\",\"False\",\"False\",\"False\",\"False\",\"False\",\"False\",\"False\",\"False\",\"False\",\"False\",\"False\",\"False\",\"False\",\"False\",\"False\",\"False\",\"False\",\"False\",\"False\",\"False\",\"False\",\"False\",\"False\",\"False\",\"False\",\"False\",\"False\",\"False\",\"False\",\"False\",\"False\",\"False\",\"False\",\"False\",\"False\",\"False\",\"False\",\"False\",\"False\",\"False\",\"False\",\"False\",\"False\",\"False\",\"False\",\"False\",\"False\",\"False\",\"False\",\"False\",\"False\",\"False\",\"False\",\"False\",\"False\",\"False\",\"False\",\"False\",\"False\",\"False\",\"False\",\"False\",\"False\",\"False\",\"False\",\"False\",\"False\",\"False\",\"False\",\"False\",\"False\",\"False\",\"False\",\"False\",\"False\",\"False\",\"False\",\"False\",\"False\",\"False\",\"False\",\"False\",\"False\",\"False\",\"False\",\"False\",\"False\",\"False\",\"False\",\"False\",\"False\",\"False\",\"False\",\"False\",\"False\",\"False\",\"False\",\"False\",\"False\",\"False\",\"False\",\"False\",\"False\",\"False\",\"False\",\"False\",\"False\",\"False\",\"False\",\"False\",\"False\",\"True\",\"True\",\"True\",\"True\",\"True\",\"True\",\"True\",\"True\",\"True\",\"True\",\"True\",\"True\",\"True\",\"True\",\"True\",\"True\",\"True\",\"True\",\"True\",\"True\",\"True\",\"True\",\"True\",\"True\",\"True\",\"True\",\"True\",\"True\",\"True\",\"True\",\"True\",\"True\",\"True\",\"True\",\"True\",\"True\",\"True\",\"True\",\"True\",\"True\",\"True\",\"True\",\"True\",\"True\",\"True\",\"True\",\"True\",\"True\",\"True\",\"True\",\"True\",\"True\",\"True\",\"True\",\"True\",\"True\",\"True\",\"True\",\"True\",\"True\",\"True\",\"True\",\"True\",\"True\",\"True\",\"True\",\"True\",\"True\",\"True\",\"True\",\"True\",\"True\",\"True\",\"True\",\"True\",\"True\",\"True\",\"True\",\"True\",\"True\",\"True\",\"True\",\"True\",\"True\",\"True\",\"True\",\"True\",\"True\",\"True\",\"True\",\"True\",\"True\",\"True\",\"True\",\"True\",\"True\",\"True\",\"True\",\"True\",\"True\",\"True\",\"True\",\"True\",\"True\",\"True\",\"True\",\"True\",\"True\",\"True\",\"True\",\"True\",\"True\",\"True\",\"True\",\"True\",\"True\",\"True\",\"True\",\"True\",\"True\",\"True\",\"True\",\"True\",\"True\",\"True\",\"True\",\"True\",\"True\",\"True\",\"True\",\"True\",\"True\",\"True\",\"True\",\"True\",\"True\",\"True\",\"True\",\"True\",\"True\",\"True\",\"True\",\"True\",\"True\",\"True\",\"True\",\"True\",\"True\",\"True\",\"True\",\"True\",\"True\",\"True\",\"True\",\"True\",\"True\",\"True\",\"True\",\"True\",\"True\",\"True\",\"True\",\"True\",\"True\",\"True\",\"True\",\"True\",\"True\",\"True\",\"True\",\"True\",\"True\",\"True\",\"True\",\"True\",\"True\",\"True\",\"True\",\"True\",\"True\",\"True\",\"True\",\"True\",\"True\",\"True\",\"True\",\"True\",\"True\",\"True\",\"True\",\"True\",\"True\",\"True\",\"True\",\"True\",\"True\",\"True\",\"True\",\"True\",\"True\",\"True\",\"True\",\"True\",\"True\",\"True\",\"True\",\"True\",\"True\",\"True\",\"True\",\"True\",\"True\",\"True\",\"True\",\"True\",\"True\",\"True\",\"True\",\"True\",\"True\",\"True\",\"True\",\"True\",\"True\",\"False\",\"False\",\"False\",\"False\",\"False\",\"False\",\"False\",\"False\",\"False\",\"False\",\"False\",\"False\",\"False\",\"False\",\"False\",\"False\",\"False\",\"False\",\"False\",\"False\",\"False\",\"False\",\"False\",\"False\",\"False\",\"False\",\"False\",\"False\",\"False\",\"False\",\"False\",\"False\",\"False\",\"False\",\"False\",\"False\",\"False\",\"False\",\"False\",\"False\",\"False\",\"False\",\"False\",\"False\",\"False\",\"False\",\"False\",\"False\",\"False\",\"False\",\"False\",\"False\",\"False\",\"False\",\"False\",\"False\",\"False\",\"False\",\"False\",\"False\",\"False\",\"False\",\"False\",\"False\",\"False\",\"False\",\"False\",\"False\",\"False\",\"False\",\"False\",\"False\",\"False\",\"False\",\"False\",\"False\",\"False\",\"False\",\"False\",\"False\",\"False\",\"False\",\"False\",\"False\",\"False\",\"False\",\"False\",\"False\",\"False\",\"False\",\"False\",\"False\",\"False\",\"False\",\"False\",\"False\",\"False\",\"False\",\"False\",\"False\",\"False\",\"False\",\"False\",\"False\",\"False\",\"False\",\"False\",\"False\",\"False\",\"False\",\"False\",\"False\",\"False\",\"False\",\"False\",\"False\",\"False\",\"False\",\"False\",\"False\",\"False\",\"False\",\"False\",\"False\",\"False\",\"False\",\"False\",\"False\",\"False\",\"False\",\"False\",\"False\",\"False\",\"False\",\"False\",\"False\",\"False\",\"False\",\"False\",\"False\",\"False\",\"False\",\"False\",\"False\",\"False\",\"False\",\"False\",\"False\",\"False\",\"False\",\"False\",\"False\",\"False\",\"False\",\"False\",\"False\",\"False\",\"False\",\"False\",\"False\",\"False\",\"False\",\"False\",\"False\",\"False\",\"False\",\"False\",\"False\",\"False\",\"False\",\"False\",\"False\",\"False\",\"False\",\"False\",\"False\",\"False\",\"False\",\"False\",\"False\",\"False\",\"False\",\"False\",\"False\",\"False\",\"False\",\"False\",\"False\",\"False\",\"False\",\"False\",\"False\",\"True\",\"True\",\"True\",\"True\",\"True\",\"True\",\"True\",\"True\",\"True\",\"True\",\"True\",\"True\",\"True\",\"True\",\"True\",\"True\",\"True\",\"True\",\"True\",\"True\",\"True\",\"True\",\"True\",\"True\",\"True\",\"True\",\"True\",\"True\",\"True\",\"True\",\"True\",\"True\",\"True\",\"True\",\"True\",\"True\",\"True\",\"True\",\"True\",\"True\",\"True\",\"True\",\"True\",\"True\",\"True\",\"True\",\"True\",\"True\",\"True\",\"True\",\"True\",\"True\",\"True\",\"True\",\"True\",\"True\",\"True\",\"True\",\"True\",\"True\",\"True\",\"True\",\"True\",\"True\",\"True\",\"True\",\"True\",\"True\",\"True\",\"True\",\"True\",\"True\",\"True\",\"True\",\"True\",\"True\",\"True\",\"True\",\"True\",\"True\",\"True\",\"True\",\"True\",\"True\",\"True\",\"True\",\"True\",\"True\",\"True\",\"True\",\"True\",\"True\",\"True\",\"True\",\"True\",\"True\",\"True\",\"True\",\"True\",\"True\",\"True\",\"True\",\"True\",\"True\",\"True\",\"True\",\"True\",\"True\",\"True\",\"True\",\"True\",\"True\",\"True\",\"True\",\"True\",\"True\",\"True\",\"True\",\"True\",\"True\",\"True\",\"True\",\"True\",\"True\",\"True\",\"True\",\"True\",\"True\",\"True\",\"True\",\"True\",\"True\",\"True\",\"True\",\"True\",\"True\",\"True\",\"True\",\"True\",\"True\",\"True\",\"True\",\"True\",\"True\",\"True\",\"True\",\"True\",\"True\",\"True\",\"True\",\"True\",\"True\",\"True\",\"True\",\"True\",\"True\",\"True\",\"True\",\"True\",\"True\",\"True\",\"True\",\"True\",\"True\",\"True\",\"True\",\"False\",\"False\",\"False\",\"False\",\"False\",\"False\",\"False\",\"False\",\"False\",\"False\",\"False\",\"False\",\"False\",\"False\",\"False\",\"False\",\"False\",\"False\",\"False\",\"False\",\"False\",\"False\",\"False\",\"False\",\"False\",\"False\",\"False\",\"False\",\"False\",\"False\",\"False\",\"False\",\"False\",\"False\",\"False\",\"False\",\"False\",\"False\",\"False\",\"False\",\"False\",\"False\",\"False\",\"False\",\"False\",\"False\",\"False\",\"False\",\"False\",\"False\",\"False\",\"False\",\"False\",\"False\",\"False\",\"False\",\"False\",\"False\",\"False\",\"False\",\"False\",\"False\",\"False\",\"False\",\"False\",\"False\",\"False\",\"False\",\"False\",\"False\",\"False\",\"False\",\"False\",\"False\",\"False\",\"False\",\"False\",\"False\",\"False\",\"False\",\"False\",\"False\",\"False\",\"False\",\"False\",\"False\",\"False\",\"False\",\"False\",\"False\",\"False\",\"False\",\"False\",\"False\",\"False\",\"False\",\"False\",\"False\",\"False\",\"False\",\"False\",\"False\",\"False\",\"False\",\"False\",\"False\",\"False\",\"False\",\"False\",\"False\",\"False\",\"False\",\"False\",\"False\",\"True\",\"True\",\"True\",\"True\",\"True\",\"True\",\"True\",\"True\",\"True\",\"True\",\"True\",\"True\",\"True\",\"True\",\"True\",\"True\",\"True\",\"True\",\"True\",\"True\",\"True\",\"True\",\"True\",\"True\",\"True\",\"True\",\"True\",\"True\",\"True\",\"True\",\"True\",\"True\",\"True\",\"True\",\"True\",\"True\",\"True\",\"True\",\"True\",\"True\",\"True\",\"True\",\"True\",\"True\",\"True\",\"True\",\"True\",\"True\",\"True\",\"True\",\"True\",\"True\",\"True\",\"True\",\"True\",\"True\",\"True\",\"True\",\"True\",\"True\",\"True\",\"True\",\"True\",\"True\",\"True\",\"True\",\"True\",\"True\",\"True\",\"True\",\"True\",\"True\",\"True\",\"True\",\"True\",\"True\",\"True\",\"True\",\"True\",\"True\",\"True\",\"True\",\"True\",\"True\",\"True\",\"True\",\"True\",\"True\",\"True\",\"True\",\"True\",\"True\",\"True\",\"True\",\"True\",\"True\",\"True\",\"True\",\"True\",\"True\",\"True\",\"True\",\"True\",\"True\",\"True\",\"True\",\"True\",\"True\",\"True\",\"True\",\"True\",\"True\",\"True\",\"True\",\"True\",\"True\",\"True\",\"True\",\"True\",\"True\",\"True\",\"True\",\"True\",\"True\",\"True\",\"True\",\"True\",\"True\",\"True\",\"True\",\"True\",\"True\",\"True\",\"True\",\"True\",\"True\",\"True\",\"True\",\"True\",\"True\",\"True\",\"True\",\"True\",\"True\",\"True\",\"True\",\"True\",\"True\",\"False\",\"False\",\"False\",\"False\",\"False\",\"False\",\"False\",\"False\",\"False\",\"False\",\"False\",\"False\",\"False\",\"False\",\"False\",\"False\",\"False\",\"False\",\"False\",\"False\",\"False\",\"False\",\"False\",\"False\",\"False\",\"False\",\"False\",\"False\",\"False\",\"False\",\"False\",\"False\",\"False\",\"False\",\"False\",\"False\",\"False\",\"False\",\"False\",\"False\",\"False\",\"False\",\"False\",\"False\",\"False\",\"False\",\"False\",\"False\",\"False\",\"False\",\"False\",\"False\",\"False\",\"False\",\"False\",\"False\",\"False\",\"False\",\"False\",\"False\",\"False\",\"False\",\"False\",\"False\",\"False\",\"False\",\"False\",\"False\",\"False\",\"False\",\"False\",\"False\",\"False\",\"False\",\"False\",\"False\",\"False\",\"False\",\"True\",\"True\",\"True\",\"True\",\"True\",\"True\",\"True\",\"True\",\"True\",\"True\",\"True\",\"True\",\"True\",\"True\",\"True\",\"True\",\"True\",\"True\",\"True\",\"True\",\"True\",\"True\",\"True\",\"True\",\"True\",\"True\",\"True\",\"True\",\"True\",\"True\",\"True\",\"True\",\"True\",\"True\",\"True\",\"True\",\"True\",\"True\",\"True\",\"True\",\"True\",\"True\",\"True\",\"True\",\"True\",\"True\",\"True\",\"True\",\"True\",\"True\",\"True\",\"True\",\"True\",\"True\",\"True\",\"True\",\"True\",\"True\",\"True\",\"True\",\"True\",\"True\",\"True\",\"True\",\"True\",\"True\",\"True\",\"True\",\"True\",\"True\",\"True\",\"True\",\"True\",\"True\",\"True\",\"True\",\"True\",\"True\",\"True\",\"True\",\"True\",\"True\",\"True\",\"True\",\"True\",\"True\",\"True\",\"True\",\"True\",\"True\",\"True\",\"True\",\"True\",\"True\",\"True\",\"True\",\"True\",\"True\",\"True\",\"True\",\"True\",\"True\",\"True\",\"True\",\"True\",\"True\",\"True\",\"True\",\"True\",\"True\",\"True\",\"True\",\"True\",\"True\",\"True\",\"True\",\"True\",\"True\",\"True\",\"True\",\"True\",\"True\",\"True\",\"True\",\"True\",\"True\",\"True\",\"True\",\"True\",\"True\",\"True\",\"True\",\"True\",\"True\",\"True\",\"True\",\"True\",\"True\",\"True\",\"True\",\"True\",\"True\",\"True\",\"True\",\"True\",\"True\",\"True\",\"True\",\"True\",\"True\",\"True\",\"True\",\"True\",\"True\",\"True\",\"True\",\"True\",\"True\",\"True\",\"True\",\"True\",\"True\",\"True\",\"True\",\"True\",\"True\",\"True\",\"True\",\"True\",\"True\",\"True\",\"True\",\"True\",\"True\",\"True\",\"True\",\"True\",\"True\",\"True\",\"True\",\"True\",\"True\",\"True\",\"True\",\"True\",\"True\",\"True\",\"True\",\"True\",\"True\",\"True\",\"True\",\"True\",\"True\",\"True\",\"True\",\"True\",\"True\",\"True\",\"True\",\"True\",\"True\",\"True\",\"True\",\"True\",\"True\",\"True\",\"True\",\"True\",\"True\",\"True\",\"True\",\"True\",\"True\",\"True\",\"True\",\"True\",\"True\",\"True\",\"True\",\"True\",\"True\",\"True\",\"True\",\"True\",\"True\",\"True\",\"True\",\"True\",\"True\",\"True\",\"True\",\"True\",\"True\",\"True\",\"True\",\"True\",\"True\",\"True\",\"True\",\"True\",\"True\",\"True\",\"True\",\"True\",\"True\",\"True\",\"True\",\"True\",\"True\",\"True\",\"True\",\"True\",\"True\",\"True\",\"True\",\"True\",\"True\",\"True\",\"True\",\"True\",\"True\",\"True\",\"True\",\"True\",\"True\",\"True\",\"True\",\"True\",\"True\",\"True\",\"True\",\"True\",\"True\",\"True\",\"True\",\"True\",\"True\",\"True\",\"True\",\"True\",\"True\",\"True\",\"False\",\"False\",\"False\",\"False\",\"False\",\"False\",\"False\",\"False\",\"False\",\"False\",\"False\",\"False\",\"False\",\"False\",\"False\",\"False\",\"False\",\"False\",\"False\",\"False\",\"False\",\"False\",\"False\",\"False\",\"False\",\"False\",\"False\",\"False\",\"False\",\"False\",\"False\",\"False\",\"False\",\"False\",\"False\",\"False\",\"False\",\"False\",\"False\",\"False\",\"False\",\"False\",\"False\",\"False\",\"False\",\"False\",\"False\",\"False\",\"False\",\"False\",\"False\",\"False\",\"False\",\"False\",\"False\",\"False\",\"False\",\"False\",\"False\",\"False\",\"False\",\"False\",\"False\",\"False\",\"False\",\"False\",\"False\",\"False\",\"False\",\"False\",\"False\",\"False\",\"False\",\"False\",\"False\",\"False\",\"False\",\"False\",\"False\",\"False\",\"False\",\"False\",\"False\",\"False\",\"False\",\"False\",\"False\",\"False\",\"False\",\"False\",\"False\",\"False\",\"False\",\"False\",\"False\",\"False\",\"False\",\"False\",\"False\",\"False\",\"False\",\"False\",\"False\",\"False\",\"False\",\"False\",\"False\",\"False\",\"False\",\"False\",\"False\",\"False\",\"False\",\"False\",\"False\",\"False\",\"False\",\"False\",\"False\",\"False\",\"False\",\"False\",\"False\",\"False\",\"False\",\"False\",\"False\",\"False\",\"False\",\"False\",\"False\",\"False\",\"False\",\"False\",\"False\",\"False\",\"False\",\"False\",\"False\",\"False\",\"False\",\"False\",\"False\",\"False\",\"False\",\"False\",\"False\",\"False\",\"False\",\"False\",\"False\",\"False\",\"False\",\"False\",\"False\",\"False\",\"False\",\"False\",\"False\",\"False\",\"False\",\"False\",\"False\",\"False\",\"False\",\"False\",\"False\",\"False\",\"False\",\"False\",\"False\",\"False\",\"False\",\"False\",\"False\",\"False\",\"False\",\"False\",\"False\",\"False\",\"False\",\"False\",\"False\",\"False\",\"False\",\"False\",\"False\",\"False\",\"False\",\"False\",\"False\",\"False\",\"False\",\"False\",\"False\",\"False\",\"False\",\"False\",\"False\",\"False\",\"False\",\"False\",\"False\",\"False\",\"True\",\"True\",\"True\",\"True\",\"True\",\"True\",\"True\",\"True\",\"True\",\"True\",\"True\",\"True\",\"True\",\"True\",\"True\",\"True\",\"True\",\"True\",\"True\",\"True\",\"True\",\"True\",\"True\",\"True\",\"True\",\"True\",\"True\",\"True\",\"True\",\"True\",\"True\",\"True\",\"True\",\"True\",\"True\",\"True\",\"True\",\"True\",\"True\",\"True\",\"True\",\"True\",\"True\",\"True\",\"True\",\"True\",\"True\",\"True\",\"True\",\"True\",\"True\",\"True\",\"True\",\"True\",\"True\",\"True\",\"True\",\"True\",\"True\",\"True\",\"True\",\"True\",\"True\",\"True\",\"True\",\"True\",\"True\",\"True\",\"True\",\"True\",\"True\",\"True\",\"True\",\"True\",\"True\",\"True\",\"True\",\"True\",\"True\",\"True\",\"True\",\"True\",\"True\",\"True\",\"True\",\"True\",\"True\",\"True\",\"True\",\"True\",\"True\",\"True\",\"True\",\"True\",\"True\",\"True\",\"True\",\"True\",\"True\",\"True\",\"True\",\"True\",\"True\",\"True\",\"True\",\"True\",\"True\",\"True\",\"True\",\"True\",\"True\",\"True\",\"True\",\"True\",\"True\",\"True\",\"True\",\"True\",\"True\",\"True\",\"True\",\"True\",\"True\",\"True\",\"True\",\"True\",\"True\",\"True\",\"True\",\"True\",\"True\",\"True\",\"True\",\"True\",\"True\",\"True\",\"True\",\"True\",\"True\",\"True\",\"True\",\"True\",\"True\",\"True\",\"True\",\"True\",\"True\",\"True\",\"True\",\"True\",\"True\",\"True\",\"True\",\"True\",\"True\",\"True\",\"True\",\"True\",\"True\",\"True\",\"True\",\"True\",\"True\",\"True\",\"True\",\"True\",\"True\",\"True\",\"True\",\"True\",\"True\",\"True\",\"True\",\"True\",\"True\",\"True\",\"True\",\"True\",\"True\",\"True\",\"True\",\"True\",\"True\",\"True\",\"True\",\"True\",\"True\",\"True\",\"True\",\"True\",\"True\",\"True\",\"True\",\"True\",\"True\",\"True\",\"True\",\"True\",\"True\",\"True\",\"True\",\"True\",\"True\",\"True\",\"True\",\"True\",\"True\",\"True\",\"True\",\"True\",\"True\",\"True\",\"True\",\"True\",\"True\",\"True\",\"True\",\"True\",\"True\",\"True\",\"True\",\"True\",\"True\",\"True\",\"True\",\"True\",\"True\",\"True\",\"True\",\"True\",\"True\",\"True\",\"True\",\"True\",\"True\",\"True\",\"True\",\"True\",\"True\",\"True\",\"True\",\"True\",\"True\",\"True\",\"True\",\"True\",\"True\",\"True\",\"True\",\"True\",\"True\",\"True\",\"True\",\"True\",\"True\",\"True\",\"True\",\"True\",\"True\",\"True\",\"True\",\"True\",\"True\",\"True\",\"True\",\"True\",\"True\",\"True\",\"True\",\"True\",\"True\",\"True\",\"True\",\"True\",\"True\",\"True\",\"True\",\"True\",\"True\",\"True\",\"True\",\"True\",\"True\",\"True\",\"True\",\"True\",\"True\",\"True\",\"True\",\"True\",\"True\",\"True\",\"True\",\"True\",\"True\",\"False\",\"False\",\"False\",\"False\",\"False\",\"False\",\"False\",\"False\",\"False\",\"False\",\"False\",\"False\",\"False\",\"False\",\"False\",\"False\",\"False\",\"False\",\"False\",\"False\",\"False\",\"False\",\"False\",\"False\",\"False\",\"False\",\"False\",\"False\",\"False\",\"False\",\"False\",\"False\",\"False\",\"False\",\"False\",\"False\",\"False\",\"False\",\"False\",\"False\",\"False\",\"False\",\"False\",\"False\",\"False\",\"False\",\"False\",\"False\",\"False\",\"False\",\"False\",\"False\",\"False\",\"False\",\"False\",\"False\",\"False\",\"False\",\"False\",\"False\",\"False\",\"False\",\"False\",\"False\",\"False\",\"False\",\"False\",\"False\",\"False\",\"False\",\"False\",\"False\",\"False\",\"False\",\"False\",\"False\",\"False\",\"False\",\"False\",\"False\",\"False\",\"False\",\"False\",\"False\",\"False\",\"False\",\"False\",\"False\",\"False\",\"False\",\"False\",\"False\",\"False\",\"False\",\"False\",\"False\",\"False\",\"False\",\"False\",\"False\",\"False\",\"False\",\"False\",\"False\",\"False\",\"False\",\"False\",\"False\",\"False\",\"False\",\"False\",\"False\",\"False\",\"False\",\"False\",\"False\",\"False\",\"False\",\"False\",\"False\",\"False\",\"False\",\"False\",\"False\",\"False\",\"False\",\"False\",\"False\",\"False\",\"False\",\"False\",\"False\",\"False\",\"False\",\"False\",\"False\",\"False\",\"False\",\"False\",\"False\",\"False\",\"False\",\"False\",\"False\",\"False\",\"False\",\"False\",\"False\",\"False\",\"False\",\"False\",\"False\",\"False\",\"False\",\"False\",\"False\",\"False\",\"False\",\"False\",\"False\",\"False\",\"False\",\"False\",\"False\",\"False\",\"False\",\"False\",\"False\",\"False\",\"False\",\"False\",\"False\",\"False\",\"False\",\"False\",\"False\",\"False\",\"False\",\"False\",\"False\",\"False\",\"False\",\"False\",\"False\",\"False\",\"False\",\"False\",\"False\",\"False\",\"False\",\"False\",\"False\",\"False\"]},\"selected\":{\"id\":\"8da7e9c2-000b-4338-8892-dd5b57ba5038\",\"type\":\"Selection\"},\"selection_policy\":{\"id\":\"cba52f32-5cc8-44ca-8889-f45de57e8a5e\",\"type\":\"UnionRenderers\"}},\"id\":\"9672b424-17d5-4581-9d12-891d271ccdd1\",\"type\":\"ColumnDataSource\"},{\"attributes\":{\"formatter\":{\"id\":\"2db68856-f631-4ab4-9c6c-61fa57d27959\",\"type\":\"CategoricalTickFormatter\"},\"plot\":{\"id\":\"83955150-947f-4ae7-944a-b9540a788af1\",\"subtype\":\"Figure\",\"type\":\"Plot\"},\"ticker\":{\"id\":\"d52cfaad-7148-47f4-af60-9ba39ab518df\",\"type\":\"CategoricalTicker\"}},\"id\":\"5722589c-5b11-4f1f-96f5-9076e705501e\",\"type\":\"CategoricalAxis\"},{\"attributes\":{},\"id\":\"d595a5f4-90b9-4f0c-b591-fd4fc875d08b\",\"type\":\"BasicTicker\"},{\"attributes\":{},\"id\":\"2db68856-f631-4ab4-9c6c-61fa57d27959\",\"type\":\"CategoricalTickFormatter\"},{\"attributes\":{},\"id\":\"8e9d51c1-b323-47c5-86cf-b69e537afdef\",\"type\":\"HelpTool\"}],\"root_ids\":[\"83955150-947f-4ae7-944a-b9540a788af1\"]},\"title\":\"Bokeh Application\",\"version\":\"0.13.0\"}};\n",
       "  var render_items = [{\"docid\":\"1f1ec11d-363e-4110-bad3-a8808b924989\",\"roots\":{\"83955150-947f-4ae7-944a-b9540a788af1\":\"0c4263a6-3ad9-43c4-a829-e146dd943849\"}}];\n",
       "  root.Bokeh.embed.embed_items_notebook(docs_json, render_items);\n",
       "\n",
       "  }\n",
       "  if (root.Bokeh !== undefined) {\n",
       "    embed_document(root);\n",
       "  } else {\n",
       "    var attempts = 0;\n",
       "    var timer = setInterval(function(root) {\n",
       "      if (root.Bokeh !== undefined) {\n",
       "        embed_document(root);\n",
       "        clearInterval(timer);\n",
       "      }\n",
       "      attempts++;\n",
       "      if (attempts > 100) {\n",
       "        console.log(\"Bokeh: ERROR: Unable to run BokehJS code because BokehJS library is missing\")\n",
       "        clearInterval(timer);\n",
       "      }\n",
       "    }, 10, root)\n",
       "  }\n",
       "})(window);"
      ],
      "application/vnd.bokehjs_exec.v0+json": ""
     },
     "metadata": {
      "application/vnd.bokehjs_exec.v0+json": {
       "id": "83955150-947f-4ae7-944a-b9540a788af1"
      }
     },
     "output_type": "display_data"
    }
   ],
   "source": [
    "p = bebi103.viz.jitter(data=df_dt, \n",
    "                       cats='Day',\n",
    "                       val='P',\n",
    "                       y_axis_label=None,\n",
    "                       horizontal=False)\n",
    "bokeh.io.show(p)"
   ]
  },
  {
   "cell_type": "code",
   "execution_count": 105,
   "metadata": {},
   "outputs": [
    {
     "data": {
      "text/plain": [
       "[1, 2, 3, 4, 5]"
      ]
     },
     "execution_count": 105,
     "metadata": {},
     "output_type": "execute_result"
    }
   ],
   "source": [
    "list(np.array([1, 2, 3])) + list(np.array([4, 5]))"
   ]
  },
  {
   "cell_type": "code",
   "execution_count": null,
   "metadata": {},
   "outputs": [],
   "source": []
  }
 ],
 "metadata": {
  "kernelspec": {
   "display_name": "Python 3",
   "language": "python",
   "name": "python3"
  },
  "language_info": {
   "codemirror_mode": {
    "name": "ipython",
    "version": 3
   },
   "file_extension": ".py",
   "mimetype": "text/x-python",
   "name": "python",
   "nbconvert_exporter": "python",
   "pygments_lexer": "ipython3",
   "version": "3.7.0"
  }
 },
 "nbformat": 4,
 "nbformat_minor": 2
}
