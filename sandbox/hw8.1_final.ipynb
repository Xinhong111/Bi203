{
 "cells": [
  {
   "cell_type": "markdown",
   "metadata": {},
   "source": [
    "## Problem 8.1: A hierarchical model for cell viability on biomaterials"
   ]
  },
  {
   "cell_type": "markdown",
   "metadata": {},
   "source": [
    "Attribution: Zhiyang and Maddie coded up this problem together; the whole group discuss together about the way to do the thrid part."
   ]
  },
  {
   "cell_type": "code",
   "execution_count": null,
   "metadata": {},
   "outputs": [],
   "source": [
    "import itertools\n",
    "\n",
    "import numpy as np\n",
    "import pandas as pd\n",
    "import altair as alt\n",
    "import altair_catplot as altcat\n",
    "\n",
    "import bebi103\n",
    "\n",
    "import bokeh.io\n",
    "import bokeh.plotting\n",
    "bokeh.io.output_notebook()\n",
    "color_palette=['#4e79a7', '#f28e2b', '#e15759', '#76b7b2', '#59a14f', '#edc948', '#b07aa1', '#ff9da7', '#9c755f', '#bab0ac']"
   ]
  },
  {
   "cell_type": "markdown",
   "metadata": {},
   "source": [
    "**a)** First we will do some exploratory data analysis to investigate the data set."
   ]
  },
  {
   "cell_type": "markdown",
   "metadata": {},
   "source": [
    "Let's first read in the data set and look at how it's organized."
   ]
  },
  {
   "cell_type": "code",
   "execution_count": null,
   "metadata": {},
   "outputs": [],
   "source": [
    "df = pd.read_csv('../data/shao_et_al_wst-1_assay.csv')\n",
    "\n",
    "# Take a look\n",
    "df.head()"
   ]
  },
  {
   "cell_type": "markdown",
   "metadata": {},
   "source": [
    "It looks like there are 5 groups, control, PLA_1, PLA_2, PLA_3, and Neg_ctrl. In each experiment, they measured cell viability, and they did three experiments for each group.\n",
    "\n",
    "Let's plot the cell viabliity by group and color by experiment to look at where the values are."
   ]
  },
  {
   "cell_type": "code",
   "execution_count": null,
   "metadata": {},
   "outputs": [],
   "source": [
    "altcat.catplot(data=df,\n",
    "               mark='point',\n",
    "               encoding=dict(y=alt.Y('assay_result:Q', title=None),\n",
    "                             x='Treatment:N', \n",
    "                             color=alt.Color('Experiment:N')),\n",
    "               transform='jitter'\n",
    "              )"
   ]
  },
  {
   "cell_type": "markdown",
   "metadata": {},
   "source": [
    "For the control group, the cell viability is around 1.3 to 1.9. For the negative control, the cell viability values are all around 0.01 to 0.04. For the PLA groups, the cell viability values range from 1.2 to 1.8."
   ]
  },
  {
   "cell_type": "markdown",
   "metadata": {},
   "source": [
    "There are not many data points in the data set, so plotting ECDF for each experiment might not help illustrate the data better, but we plot the ECDF for each treatment to see if there is a trend to distinguish them from each other since it is not clear in the jitter plot."
   ]
  },
  {
   "cell_type": "code",
   "execution_count": null,
   "metadata": {},
   "outputs": [],
   "source": [
    "p = bebi103.viz.ecdf_collection(data=df, \n",
    "                                cats='Treatment',\n",
    "                                val='assay_result',\n",
    "                                formal=True,\n",
    "                                line_width=2,\n",
    "                                plot_width=600,\n",
    "                                plot_height=300)\n",
    "\n",
    "# Compare results from two methods\n",
    "bokeh.io.show(p)"
   ]
  },
  {
   "cell_type": "markdown",
   "metadata": {},
   "source": [
    "The negative control is certainly close to zero, while we can see that PLA_2 is slightly different from other non-negative-control treatment, and PLA_1, PLA_3 and Control are very similar with each other. Just as a sanity check, we plot the ECDF for each experiment in the control treatment."
   ]
  },
  {
   "cell_type": "code",
   "execution_count": null,
   "metadata": {},
   "outputs": [],
   "source": [
    "p = bebi103.viz.ecdf_collection(data=df.loc[df['Treatment']=='Control'], \n",
    "                                cats='Experiment',\n",
    "                                val='assay_result',\n",
    "                                formal=True,\n",
    "                                line_width=2,\n",
    "                                plot_width=600,\n",
    "                                plot_height=300)\n",
    "\n",
    "# Compare results from two methods\n",
    "bokeh.io.show(p)"
   ]
  },
  {
   "cell_type": "markdown",
   "metadata": {},
   "source": [
    "Because of the limited number of data point, the ECDF is not that informative, but we can still see that there are some difference among those experiments, indicating the hierarchical model could be better here for those experiments. We then proceed and build the hierarchical model for those data."
   ]
  },
  {
   "cell_type": "markdown",
   "metadata": {},
   "source": [
    "**b)** We'd like to construct a hierarchical model describing the results. For the control, we assume the typical assay value for a viable group of cells is around unity, and we choose a gaussian as our prior. For the PLA groups, we will also choose a gaussian for our prior and make sure to encompass the possibility of all the cells dying as well as thriving. We will use the same prior for the control and PLA groups because we do not know have much information about what the PLA groups will behave and the broad prior could be helpful. For the negative control, however, we know that cells should be dying and assume that the typical baseline (absence of viable cells) does not go much beyond 0.05, so we can use a narrow prior for that. \n",
    "\n",
    "The structure of our model for the negative control is shown below:"
   ]
  },
  {
   "cell_type": "markdown",
   "metadata": {},
   "source": [
    "\\begin{gather}\n",
    "\\theta \\sim \\mbox{HalfNorm}(\\sigma_0) \\\\\n",
    "\\sigma \\sim \\mbox{HalfNorm}(\\sigma_{hyper}) \\\\\n",
    "\\tau \\sim \\mbox{HalfNorm}(\\tau_{hyper}) \\\\\n",
    "\\theta_1 \\sim \\mbox{Norm}(\\theta, \\tau) \\\\\n",
    "y \\sim \\mbox{Norm}(\\theta_1, \\sigma)\n",
    "\\end{gather}"
   ]
  },
  {
   "cell_type": "markdown",
   "metadata": {},
   "source": [
    ", where those $\\sigma_0, \\sigma_{hyper}, \\tau_{hyper}$ as the parameters of the priors are also considered as a input so that we can change the prior easily without re-compiling the Stan code.\n",
    "\n",
    "Let's do a prior predictive check for the negative control. "
   ]
  },
  {
   "cell_type": "code",
   "execution_count": null,
   "metadata": {},
   "outputs": [],
   "source": [
    "model_code_pri_pred_neg = \"\"\"\n",
    "data {\n",
    "  // Number of data points for each experiment\n",
    "  int N;\n",
    "  // Number of entries in each level of the hierarchy\n",
    "  int J_1;\n",
    "  // Input of parameters of the priors\n",
    "  real hyper_theta_mu;\n",
    "  real hyper_theta_sigma;\n",
    "  real hyper_sigma;\n",
    "  real hyper_tau;\n",
    "}\n",
    "\n",
    "\n",
    "generated quantities {\n",
    "  // Total number of data points \n",
    "  real n[N * J_1];\n",
    "  // Priors\n",
    "  real theta = fabs(normal_rng(hyper_theta_mu, hyper_theta_sigma));\n",
    "  real sigma = fabs(normal_rng(0, hyper_sigma));\n",
    "  real tau = fabs(normal_rng(0, hyper_tau));\n",
    "  // Second layer of the hierarchical model\n",
    "  real theta_1[J_1];  \n",
    "  \n",
    "  for (i in 1:J_1) {\n",
    "    theta_1[i] = normal_rng(theta, sigma);\n",
    "    for (j in 1:N) {\n",
    "      n[(i - 1) * N + j] = normal_rng(theta_1[i], tau);\n",
    "    }\n",
    "  }\n",
    "    \n",
    "  }\n",
    "\"\"\""
   ]
  },
  {
   "cell_type": "markdown",
   "metadata": {},
   "source": [
    "The Stan code is attached above for reference, but the model is compiled from the standalone file."
   ]
  },
  {
   "cell_type": "code",
   "execution_count": null,
   "metadata": {},
   "outputs": [],
   "source": [
    "# Complie from the standalone file\n",
    "sm_gen = bebi103.stan.StanModel(file='hw81_pri_pred_neg.Stan')"
   ]
  },
  {
   "cell_type": "markdown",
   "metadata": {},
   "source": [
    "We then do the prior predictive check for the negative control, where we use very narrow priors, because 1) we do know that the negative control cells should die, 2) we try to avoid negative values from the normal distribution by having narrow priors."
   ]
  },
  {
   "cell_type": "code",
   "execution_count": null,
   "metadata": {},
   "outputs": [],
   "source": [
    "# Number of iteration\n",
    "N_iter = 1000\n",
    "\n",
    "# 4 data points per experiments, 3 experiments\n",
    "data = dict(N=4,\n",
    "            J_1=3,\n",
    "            hyper_theta_mu=0,\n",
    "            hyper_theta_sigma=0.05,\n",
    "            hyper_sigma=0.01,\n",
    "            hyper_tau=0.01)\n",
    "\n",
    "# Sample\n",
    "df_pred = sm_gen.sampling(data=data,\n",
    "                     algorithm='Fixed_param',\n",
    "                     warmup=0,\n",
    "                     chains=1,\n",
    "                     iter=N_iter)\n",
    "\n",
    "df_samples = bebi103.stan.extract_array(df_pred, name='n')\n",
    "\n",
    "# Plot\n",
    "bokeh.io.show(\n",
    "    bebi103.viz.predictive_ecdf(df_pred, \n",
    "                                'n', \n",
    "                                x_axis_label='assay_result'))"
   ]
  },
  {
   "cell_type": "markdown",
   "metadata": {},
   "source": [
    "We check the ratio of negative values in the generated data set."
   ]
  },
  {
   "cell_type": "code",
   "execution_count": null,
   "metadata": {},
   "outputs": [],
   "source": [
    "# Number of negative values\n",
    "num_neg, _ = df_samples.loc[df_samples['n'] < 0].shape\n",
    "# Total number of data points\n",
    "num, _ = df_samples.shape\n",
    "# Ratio of negative values inside the generated data set\n",
    "num_neg / num"
   ]
  },
  {
   "cell_type": "markdown",
   "metadata": {},
   "source": [
    "It's not too little, but should be okay since we do not care too much about the negative control modeling. We then have the model for other treatment as below "
   ]
  },
  {
   "cell_type": "markdown",
   "metadata": {},
   "source": [
    "\\begin{gather}\n",
    "\\theta \\sim \\mbox{Norm}(\\mu,\\sigma_0) \\\\\n",
    "\\sigma \\sim \\mbox{HalfNorm}(\\sigma_{hyper}) \\\\\n",
    "\\tau \\sim \\mbox{HalfNorm}(\\tau_{hyper}) \\\\\n",
    "\\theta_1 \\sim \\mbox{Norm}(\\theta, \\tau) \\\\\n",
    "y \\sim \\mbox{Norm}(\\theta_1, \\sigma)\n",
    "\\end{gather}"
   ]
  },
  {
   "cell_type": "markdown",
   "metadata": {},
   "source": [
    "Then we have the Stan code for the model as below."
   ]
  },
  {
   "cell_type": "code",
   "execution_count": null,
   "metadata": {},
   "outputs": [],
   "source": [
    "model_code_pri_pred = \"\"\"\n",
    "data {\n",
    "  // Number of data points for each experiment\n",
    "  int N;\n",
    "  // Number of entries in each level of the hierarchy\n",
    "  int J_1;\n",
    "  // Input of parameters of the priors\n",
    "  real hyper_theta_mu;\n",
    "  real hyper_theta_sigma;\n",
    "  real hyper_sigma;\n",
    "  real hyper_tau;\n",
    "}\n",
    "\n",
    "\n",
    "generated quantities {\n",
    "  // Total number of data points \n",
    "  real n[N * J_1];\n",
    "  // Priors\n",
    "  real theta = normal_rng(hyper_theta_mu, hyper_theta_sigma);\n",
    "  real sigma = fabs(normal_rng(0, hyper_sigma));\n",
    "  real tau = fabs(normal_rng(0, hyper_tau));\n",
    "  // Second layer\n",
    "  real theta_1[J_1];  \n",
    "  \n",
    "  for (i in 1:J_1) {\n",
    "    theta_1[i] = normal_rng(theta, sigma);\n",
    "    for (j in 1:N) {\n",
    "      n[(i - 1) * N + j] = normal_rng(theta_1[i], tau);\n",
    "    }\n",
    "  }\n",
    "    \n",
    "  }\n",
    "\"\"\""
   ]
  },
  {
   "cell_type": "markdown",
   "metadata": {},
   "source": [
    "Compile the stan code from the standalone file."
   ]
  },
  {
   "cell_type": "code",
   "execution_count": null,
   "metadata": {},
   "outputs": [],
   "source": [
    "# Complie from the standalone file\n",
    "sm_gen = bebi103.stan.StanModel(file='hw81_pri_pred.Stan')"
   ]
  },
  {
   "cell_type": "markdown",
   "metadata": {},
   "source": [
    "Sample and plot results."
   ]
  },
  {
   "cell_type": "code",
   "execution_count": null,
   "metadata": {},
   "outputs": [],
   "source": [
    "# Number of iteration\n",
    "N_iter = 1000\n",
    "\n",
    "# 4 data points per experiments, 3 experiments\n",
    "data = dict(N=4,\n",
    "            J_1=3,\n",
    "            hyper_theta_mu=1.,\n",
    "            hyper_theta_sigma=0.3,\n",
    "            hyper_sigma=0.1,\n",
    "            hyper_tau=0.1)\n",
    "\n",
    "# Sample\n",
    "df_pred = sm_gen.sampling(data=data,\n",
    "                     algorithm='Fixed_param',\n",
    "                     warmup=0,\n",
    "                     chains=1,\n",
    "                     iter=N_iter)\n",
    "\n",
    "df_samples = bebi103.stan.extract_array(df_pred, name='n')\n",
    "\n",
    "# Plot\n",
    "bokeh.io.show(\n",
    "    bebi103.viz.predictive_ecdf(df_pred, \n",
    "                                'n', \n",
    "                                x_axis_label='assay_result'))"
   ]
  },
  {
   "cell_type": "markdown",
   "metadata": {},
   "source": [
    "This looks reasonable for the experiments where cells are not all dying. We have some negative values so let's check what fraction of values are negative."
   ]
  },
  {
   "cell_type": "code",
   "execution_count": null,
   "metadata": {},
   "outputs": [],
   "source": [
    "# Number of negative values\n",
    "num_neg, _ = df_samples.loc[df_samples['n'] < 0].shape\n",
    "# Total number of data points\n",
    "num, _ = df_samples.shape\n",
    "# Ratio of negative values inside the generated data set\n",
    "num_neg / num"
   ]
  },
  {
   "cell_type": "markdown",
   "metadata": {},
   "source": [
    "About 0.1% of the sampled values are negative, which is small enough that we're willing to accept. Let's move on to coding up our centered model with these priors. "
   ]
  },
  {
   "cell_type": "code",
   "execution_count": null,
   "metadata": {},
   "outputs": [],
   "source": [
    "model_code_centered = \"\"\"\n",
    "data {\n",
    "  // Total number of data points\n",
    "  int N;\n",
    "  \n",
    "  // Number of entries in each level of the hierarchy\n",
    "  int J_1;\n",
    "\n",
    "  //Index arrays to keep track of hierarchical structure\n",
    "  int index_1[N];\n",
    "  \n",
    "  // The measurements\n",
    "  real assay_result[N];\n",
    "}\n",
    "\n",
    "\n",
    "parameters {\n",
    "  // Hyperparameters level 0\n",
    "  real theta;\n",
    "  real<lower=0> sigma;\n",
    "\n",
    "  // How hyperparameters vary\n",
    "  real<lower=0> tau;\n",
    "\n",
    "  // Hyperparameters level 1\n",
    "  vector[J_1] theta_1;\n",
    "}\n",
    "\n",
    "\n",
    "model {\n",
    "  theta ~ normal(1, 0.3);\n",
    "  sigma ~ normal(0, 0.1);\n",
    "  tau ~ normal(0, 0.1);\n",
    "\n",
    "  theta_1 ~ normal(theta, tau);\n",
    "\n",
    "  assay_result ~ normal(theta_1[index_1], sigma);\n",
    "}\n",
    "\"\"\""
   ]
  },
  {
   "cell_type": "markdown",
   "metadata": {},
   "source": [
    "We then use the function in bebi103 to put the data and parameters into the model. We do the control first to check if there is something wrong with the model."
   ]
  },
  {
   "cell_type": "code",
   "execution_count": null,
   "metadata": {},
   "outputs": [],
   "source": [
    "data, df_part = bebi103.stan.df_to_datadict_hier(df.loc[df['Treatment']=='Control'],\n",
    "                                           level_cols=['Experiment'],\n",
    "                                           data_cols='assay_result')\n",
    "\n",
    "# Take a look\n",
    "data"
   ]
  },
  {
   "cell_type": "markdown",
   "metadata": {},
   "source": [
    "Then we want to sample out of the posterior."
   ]
  },
  {
   "cell_type": "code",
   "execution_count": null,
   "metadata": {},
   "outputs": [],
   "source": [
    "# Complie from the standalone file\n",
    "sm_centered = bebi103.stan.StanModel(file='hw81_centered.Stan')\n",
    "\n",
    "# Sample\n",
    "samples_centered = sm_centered.sampling(data=data, seed=2389412)\n",
    "\n",
    "# Convert to data frame for easy use later\n",
    "df_mcmc_centered = bebi103.stan.to_dataframe(samples_centered)"
   ]
  },
  {
   "cell_type": "markdown",
   "metadata": {},
   "source": [
    "We run the diagnostics for this model."
   ]
  },
  {
   "cell_type": "code",
   "execution_count": null,
   "metadata": {},
   "outputs": [],
   "source": [
    "bebi103.stan.check_all_diagnostics(samples_centered)"
   ]
  },
  {
   "cell_type": "markdown",
   "metadata": {},
   "source": [
    "There are still some iterations with divergences, we can look at the corner plot to see what happened."
   ]
  },
  {
   "cell_type": "code",
   "execution_count": null,
   "metadata": {},
   "outputs": [],
   "source": [
    "bokeh.io.show(bebi103.viz.corner(samples_centered, pars=['theta', 'sigma', 'tau']))"
   ]
  },
  {
   "cell_type": "markdown",
   "metadata": {},
   "source": [
    "It looks like that we have funnel-like distribution here, which is probably why the divergens happened. We then switch to non-centered model to see if we can fix this. Before that, we have a function for further sampling."
   ]
  },
  {
   "cell_type": "code",
   "execution_count": null,
   "metadata": {},
   "outputs": [],
   "source": [
    "def hw81_sampling(sm, df, treat):\n",
    "    '''Sample out of posterior for certain treatment'''\n",
    "    data, df_part = bebi103.stan.df_to_datadict_hier(df.loc[df['Treatment']==treat],\n",
    "                                                     level_cols=['Experiment'],\n",
    "                                                     data_cols='assay_result')\n",
    "    # Sample with slightly larger adapt_delta\n",
    "    samples= sm.sampling(data=data, seed=2389412, control=dict(adapt_delta=0.89))\n",
    "    \n",
    "    return samples"
   ]
  },
  {
   "cell_type": "markdown",
   "metadata": {},
   "source": [
    "We want to look at a random treatment just to make sure the function is working well. Let's do PLA_2 here."
   ]
  },
  {
   "cell_type": "code",
   "execution_count": null,
   "metadata": {},
   "outputs": [],
   "source": [
    "samples_centered = hw81_sampling(sm_centered, df, 'PLA_2')\n",
    "\n",
    "# Diagnostics\n",
    "bebi103.stan.check_all_diagnostics(samples_centered)"
   ]
  },
  {
   "cell_type": "markdown",
   "metadata": {},
   "source": [
    "Still, we've got some divergent points, and we take a look at the corner plot."
   ]
  },
  {
   "cell_type": "code",
   "execution_count": null,
   "metadata": {},
   "outputs": [],
   "source": [
    "# Corner plot\n",
    "bokeh.io.show(bebi103.viz.corner(samples_centered, pars=['theta', 'sigma', 'tau']))"
   ]
  },
  {
   "cell_type": "markdown",
   "metadata": {},
   "source": [
    "Still a funnel-like distribution, we then code the non-cenetered model for non-negative-control treatments. The non-centered model is shown as below."
   ]
  },
  {
   "cell_type": "markdown",
   "metadata": {},
   "source": [
    "\\begin{gather}\n",
    "\\theta \\sim \\mbox{Norm}(1,0.3) \\\\\n",
    "\\sigma \\sim \\mbox{HalfNorm}(0.1) \\\\\n",
    "\\tau \\sim \\mbox{HalfNorm}(0.1) \\\\\n",
    "\\theta^\\sim_1 \\sim \\mbox{Norm}(0, 1) \\\\\n",
    "\\theta_1 = \\theta + \\tau \\theta^\\sim_1 \\\\\n",
    "y \\sim \\mbox{Norm}(\\theta_1, \\sigma)\n",
    "\\end{gather}"
   ]
  },
  {
   "cell_type": "code",
   "execution_count": null,
   "metadata": {},
   "outputs": [],
   "source": [
    "model_code_noncentered = \"\"\"\n",
    "data {\n",
    "  // Total number of data points\n",
    "  int N;\n",
    "  \n",
    "  // Number of entries in each level of the hierarchy\n",
    "  int J_1;\n",
    "\n",
    "  //Index arrays to keep track of hierarchical structure\n",
    "  int index_1[N];\n",
    "  \n",
    "  // The measurements\n",
    "  real assay_result[N];\n",
    "}\n",
    "\n",
    "\n",
    "parameters {\n",
    "  // Hyperparameters level 0\n",
    "  real theta;\n",
    "  real<lower=0> sigma;\n",
    "\n",
    "  // How hyperparameters vary\n",
    "  real<lower=0> tau;\n",
    "\n",
    "  // Hyperparameters level 1\n",
    "  vector[J_1] theta_1_tilde;\n",
    "}\n",
    "\n",
    "transformed parameters {\n",
    "  // Transformations for noncentered\n",
    "  vector[J_1] theta_1 = theta + tau * theta_1_tilde;\n",
    "}\n",
    "\n",
    "model {\n",
    "  theta ~ normal(1, 0.3);\n",
    "  sigma ~ normal(0, 0.1);\n",
    "  tau ~ normal(0, 0.1);\n",
    "\n",
    "  theta_1_tilde ~ normal(0, 1);\n",
    "\n",
    "  assay_result ~ normal(theta_1[index_1], sigma);\n",
    "}\n",
    "\"\"\""
   ]
  },
  {
   "cell_type": "markdown",
   "metadata": {},
   "source": [
    "Compile the stan code from the standalone file."
   ]
  },
  {
   "cell_type": "code",
   "execution_count": null,
   "metadata": {},
   "outputs": [],
   "source": [
    "sm_noncentered = bebi103.stan.StanModel(file='hw81_noncentered.Stan')"
   ]
  },
  {
   "cell_type": "markdown",
   "metadata": {},
   "source": [
    "Sample and run diagnostics."
   ]
  },
  {
   "cell_type": "code",
   "execution_count": null,
   "metadata": {},
   "outputs": [],
   "source": [
    "samples_noncentered = hw81_sampling(sm_noncentered, df, 'Control')\n",
    "\n",
    "bebi103.stan.check_all_diagnostics(samples_noncentered)"
   ]
  },
  {
   "cell_type": "markdown",
   "metadata": {},
   "source": [
    "Looks great! Then we can look at the corner plot to see what parameter estimates we have."
   ]
  },
  {
   "cell_type": "code",
   "execution_count": null,
   "metadata": {},
   "outputs": [],
   "source": [
    "bokeh.io.show(bebi103.viz.corner(samples_noncentered, pars=['theta', 'sigma', 'tau']))"
   ]
  },
  {
   "cell_type": "markdown",
   "metadata": {},
   "source": [
    "The values of $\\theta$ look reasonable, and though we do not care too much about the negative control, we still have the non-centered model for that."
   ]
  },
  {
   "cell_type": "code",
   "execution_count": null,
   "metadata": {},
   "outputs": [],
   "source": [
    "model_code_noncentered_neg = \"\"\"\n",
    "data {\n",
    "  // Total number of data points\n",
    "  int N;\n",
    "  \n",
    "  // Number of entries in each level of the hierarchy\n",
    "  int J_1;\n",
    "\n",
    "  //Index arrays to keep track of hierarchical structure\n",
    "  int index_1[N];\n",
    "  \n",
    "  // The measurements\n",
    "  real assay_result[N];\n",
    "}\n",
    "\n",
    "\n",
    "parameters {\n",
    "  // Hyperparameters level 0\n",
    "  real<lower=0> theta;\n",
    "  real<lower=0> sigma;\n",
    "\n",
    "  // How hyperparameters vary\n",
    "  real<lower=0> tau;\n",
    "\n",
    "  // Hyperparameters level 1\n",
    "  vector[J_1] theta_1_tilde;\n",
    "}\n",
    "\n",
    "transformed parameters {\n",
    "  // Transformations for noncentered\n",
    "  vector[J_1] theta_1 = theta + tau * theta_1_tilde;\n",
    "}\n",
    "\n",
    "model {\n",
    "  theta ~ normal(0, 0.05);\n",
    "  sigma ~ normal(0, 0.01);\n",
    "  tau ~ normal(0, 0.01);\n",
    "\n",
    "  theta_1_tilde ~ normal(0, 1);\n",
    "\n",
    "  assay_result ~ normal(theta_1[index_1], sigma);\n",
    "}\n",
    "\"\"\""
   ]
  },
  {
   "cell_type": "markdown",
   "metadata": {},
   "source": [
    "Compile the stan code from the standalone file."
   ]
  },
  {
   "cell_type": "code",
   "execution_count": null,
   "metadata": {},
   "outputs": [],
   "source": [
    "sm_neg = bebi103.stan.StanModel(file='hw81_noncentered_neg.Stan')"
   ]
  },
  {
   "cell_type": "markdown",
   "metadata": {},
   "source": [
    "Sample and run diagnostics."
   ]
  },
  {
   "cell_type": "code",
   "execution_count": null,
   "metadata": {},
   "outputs": [],
   "source": [
    "samples_neg = hw81_sampling(sm_neg, df, 'Neg_ctrl')\n",
    "\n",
    "bebi103.stan.check_all_diagnostics(samples_neg)"
   ]
  },
  {
   "cell_type": "markdown",
   "metadata": {},
   "source": [
    "It looks fine, and we then do the corner plot for parameter estimates."
   ]
  },
  {
   "cell_type": "code",
   "execution_count": null,
   "metadata": {},
   "outputs": [],
   "source": [
    "bokeh.io.show(bebi103.viz.corner(samples_neg, pars=['theta', 'sigma', 'tau']))"
   ]
  },
  {
   "cell_type": "markdown",
   "metadata": {},
   "source": [
    "Our model looks good now, so we proceed to analyze the ratio of the PLA assay results to control."
   ]
  },
  {
   "cell_type": "markdown",
   "metadata": {},
   "source": [
    "**(c)** The authors are interested in the ratio of the PLA assay results to control. Using your hierarchical model, perform parameter estimation to compare the ratios PLA-1/control, PLA-2/control, and PLA-3/control. Hint: When you do not have much data, such as is the case here, using a noncentered parametrization is often very important."
   ]
  },
  {
   "cell_type": "markdown",
   "metadata": {},
   "source": [
    "First we need to generate samples for PLA1, PLA2, PLA3."
   ]
  },
  {
   "cell_type": "markdown",
   "metadata": {},
   "source": [
    "PLA1"
   ]
  },
  {
   "cell_type": "code",
   "execution_count": null,
   "metadata": {},
   "outputs": [],
   "source": [
    "samples_PLA1 = hw81_sampling(sm_noncentered, df, 'PLA_1')\n",
    "\n",
    "bebi103.stan.check_all_diagnostics(samples_PLA1)"
   ]
  },
  {
   "cell_type": "code",
   "execution_count": null,
   "metadata": {},
   "outputs": [],
   "source": [
    "bokeh.io.show(bebi103.viz.corner(samples_PLA1, pars=['theta', 'sigma', 'tau']))"
   ]
  },
  {
   "cell_type": "markdown",
   "metadata": {},
   "source": [
    "PLA2"
   ]
  },
  {
   "cell_type": "code",
   "execution_count": null,
   "metadata": {},
   "outputs": [],
   "source": [
    "samples_PLA2 = hw81_sampling(sm_noncentered, df, 'PLA_2')\n",
    "\n",
    "bebi103.stan.check_all_diagnostics(samples_PLA2)"
   ]
  },
  {
   "cell_type": "code",
   "execution_count": null,
   "metadata": {},
   "outputs": [],
   "source": [
    "bokeh.io.show(bebi103.viz.corner(samples_PLA2, pars=['theta', 'sigma', 'tau']))"
   ]
  },
  {
   "cell_type": "markdown",
   "metadata": {},
   "source": [
    "PLA3"
   ]
  },
  {
   "cell_type": "code",
   "execution_count": null,
   "metadata": {},
   "outputs": [],
   "source": [
    "samples_PLA3 = hw81_sampling(sm_noncentered, df, 'PLA_3')\n",
    "\n",
    "bebi103.stan.check_all_diagnostics(samples_PLA3)"
   ]
  },
  {
   "cell_type": "code",
   "execution_count": null,
   "metadata": {},
   "outputs": [],
   "source": [
    "bokeh.io.show(bebi103.viz.corner(samples_PLA3, pars=['theta', 'sigma', 'tau']))"
   ]
  },
  {
   "cell_type": "markdown",
   "metadata": {},
   "source": [
    "They all look reasonable and not pathological. We then convert the sampling results to data frames."
   ]
  },
  {
   "cell_type": "code",
   "execution_count": null,
   "metadata": {},
   "outputs": [],
   "source": [
    "# Convert stan to dataframe\n",
    "df_noncentered = bebi103.stan.to_dataframe(samples_noncentered, diagnostics=False, inc_warmup=False)\n",
    "df_PLA1 = bebi103.stan.to_dataframe(samples_PLA1, diagnostics=False, inc_warmup=False)\n",
    "df_PLA2 = bebi103.stan.to_dataframe(samples_PLA2, diagnostics=False, inc_warmup=False)\n",
    "df_PLA3 = bebi103.stan.to_dataframe(samples_PLA3, diagnostics=False, inc_warmup=False)"
   ]
  },
  {
   "cell_type": "markdown",
   "metadata": {},
   "source": [
    "First, we marginalize and plot the ECDFs for each parameter for control for parameters theta, sigma and tau, as our parameter estimates. Repeat for the experimental groups."
   ]
  },
  {
   "cell_type": "code",
   "execution_count": null,
   "metadata": {},
   "outputs": [],
   "source": [
    "# marginalized distributions of each parameter \n",
    "plots = [bebi103.viz.ecdf(df_noncentered[param], x_axis_label=param, plot_height=200, plot_width=250) \n",
    "                 for param in ['theta', 'sigma', 'tau']]\n",
    "bokeh.io.show(bokeh.layouts.gridplot(plots, ncols=3))"
   ]
  },
  {
   "cell_type": "markdown",
   "metadata": {},
   "source": [
    "CDFs for PLA1"
   ]
  },
  {
   "cell_type": "code",
   "execution_count": null,
   "metadata": {},
   "outputs": [],
   "source": [
    "# marginalized distributions of each parameter \n",
    "plots = [bebi103.viz.ecdf(df_PLA1[param], x_axis_label=param, plot_height=200, plot_width=250) \n",
    "                 for param in ['theta', 'sigma', 'tau']]\n",
    "bokeh.io.show(bokeh.layouts.gridplot(plots, ncols=3))"
   ]
  },
  {
   "cell_type": "markdown",
   "metadata": {},
   "source": [
    "CDFs for PLA2"
   ]
  },
  {
   "cell_type": "code",
   "execution_count": null,
   "metadata": {},
   "outputs": [],
   "source": [
    "# marginalized distributions of each parameter \n",
    "plots = [bebi103.viz.ecdf(df_PLA2[param], x_axis_label=param, plot_height=200, plot_width=250) \n",
    "                 for param in ['theta', 'sigma', 'tau']]\n",
    "bokeh.io.show(bokeh.layouts.gridplot(plots, ncols=3))"
   ]
  },
  {
   "cell_type": "markdown",
   "metadata": {},
   "source": [
    "CDFs for PLA3"
   ]
  },
  {
   "cell_type": "code",
   "execution_count": null,
   "metadata": {},
   "outputs": [],
   "source": [
    "# marginalized distributions of each parameter \n",
    "plots = [bebi103.viz.ecdf(df_PLA3[param], x_axis_label=param, plot_height=200, plot_width=250) \n",
    "                 for param in ['theta', 'sigma', 'tau']]\n",
    "bokeh.io.show(bokeh.layouts.gridplot(plots, ncols=3))"
   ]
  },
  {
   "cell_type": "markdown",
   "metadata": {},
   "source": [
    "Since we think we care the most about $\\theta$, becasue the noise and variability might not be as important, we would like to compare the ECDFs of those four treatments."
   ]
  },
  {
   "cell_type": "code",
   "execution_count": null,
   "metadata": {},
   "outputs": [],
   "source": [
    "p1 = bebi103.viz.ecdf(df_noncentered['theta'], x_axis_label='theta control', plot_height=200, plot_width=250)\n",
    "p2 = bebi103.viz.ecdf(df_PLA1['theta'], x_axis_label='theta PLA1', plot_height=200, plot_width=250)\n",
    "p3 = bebi103.viz.ecdf(df_PLA2['theta'], x_axis_label='theta PLA2', plot_height=200, plot_width=250)\n",
    "p4 = bebi103.viz.ecdf(df_PLA3['theta'], x_axis_label='theta PLA3', plot_height=200, plot_width=250)\n",
    "\n",
    "bokeh.io.show(bokeh.layouts.gridplot([p1, p2, p3, p4], ncols=4))"
   ]
  },
  {
   "cell_type": "markdown",
   "metadata": {},
   "source": [
    "It's hard to compare them directly from those ECDFs since they seem very close to each other. Thanks to MCMC sampling, we can divide the $\\theta$ sampled from experimental groups by that samples from the control group directly, and plot the ECDFs of those results."
   ]
  },
  {
   "cell_type": "code",
   "execution_count": null,
   "metadata": {},
   "outputs": [],
   "source": [
    "p1 = bebi103.viz.ecdf(df_PLA1['theta']/df_noncentered['theta'], x_axis_label='theta PLA1/Control', plot_height=200, plot_width=250)\n",
    "p2 = bebi103.viz.ecdf(df_PLA2['theta']/df_noncentered['theta'], x_axis_label='theta PLA2/Control', plot_height=200, plot_width=250)\n",
    "p3 = bebi103.viz.ecdf(df_PLA3['theta']/df_noncentered['theta'], x_axis_label='theta PLA3/Control', plot_height=200, plot_width=250)\n",
    "\n",
    "bokeh.io.show(bokeh.layouts.gridplot([p1, p2, p3], ncols=3))"
   ]
  },
  {
   "cell_type": "markdown",
   "metadata": {},
   "source": [
    "Here we can see clearly that PLA 1 and PLA3 are centered slightly higher chan control, meaning cells probably can live with those treatments; PLA 2 is centered at less than 1 so it may indciate that PLA2 can still have some effects on the cell viability though it is minor and not lethal. "
   ]
  },
  {
   "cell_type": "code",
   "execution_count": null,
   "metadata": {},
   "outputs": [],
   "source": [
    "%load_ext watermark"
   ]
  },
  {
   "cell_type": "code",
   "execution_count": null,
   "metadata": {},
   "outputs": [],
   "source": [
    "%watermark -v -p numpy,scipy,bokeh,jupyterlab"
   ]
  },
  {
   "cell_type": "code",
   "execution_count": null,
   "metadata": {},
   "outputs": [],
   "source": []
  }
 ],
 "metadata": {
  "kernelspec": {
   "display_name": "Python 3",
   "language": "python",
   "name": "python3"
  },
  "language_info": {
   "codemirror_mode": {
    "name": "ipython",
    "version": 3
   },
   "file_extension": ".py",
   "mimetype": "text/x-python",
   "name": "python",
   "nbconvert_exporter": "python",
   "pygments_lexer": "ipython3",
   "version": "3.7.1"
  }
 },
 "nbformat": 4,
 "nbformat_minor": 2
}
