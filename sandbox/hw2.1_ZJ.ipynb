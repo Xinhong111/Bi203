{
 "cells": [
  {
   "cell_type": "code",
   "execution_count": 1,
   "metadata": {},
   "outputs": [
    {
     "data": {
      "text/html": [
       "\n",
       "    <div class=\"bk-root\">\n",
       "        <a href=\"https://bokeh.pydata.org\" target=\"_blank\" class=\"bk-logo bk-logo-small bk-logo-notebook\"></a>\n",
       "        <span id=\"64d8e7e0-ebe9-40ac-ac58-480b54c4e0f3\">Loading BokehJS ...</span>\n",
       "    </div>"
      ]
     },
     "metadata": {},
     "output_type": "display_data"
    },
    {
     "data": {
      "application/javascript": [
       "\n",
       "(function(root) {\n",
       "  function now() {\n",
       "    return new Date();\n",
       "  }\n",
       "\n",
       "  var force = true;\n",
       "\n",
       "  if (typeof (root._bokeh_onload_callbacks) === \"undefined\" || force === true) {\n",
       "    root._bokeh_onload_callbacks = [];\n",
       "    root._bokeh_is_loading = undefined;\n",
       "  }\n",
       "\n",
       "  var JS_MIME_TYPE = 'application/javascript';\n",
       "  var HTML_MIME_TYPE = 'text/html';\n",
       "  var EXEC_MIME_TYPE = 'application/vnd.bokehjs_exec.v0+json';\n",
       "  var CLASS_NAME = 'output_bokeh rendered_html';\n",
       "\n",
       "  /**\n",
       "   * Render data to the DOM node\n",
       "   */\n",
       "  function render(props, node) {\n",
       "    var script = document.createElement(\"script\");\n",
       "    node.appendChild(script);\n",
       "  }\n",
       "\n",
       "  /**\n",
       "   * Handle when an output is cleared or removed\n",
       "   */\n",
       "  function handleClearOutput(event, handle) {\n",
       "    var cell = handle.cell;\n",
       "\n",
       "    var id = cell.output_area._bokeh_element_id;\n",
       "    var server_id = cell.output_area._bokeh_server_id;\n",
       "    // Clean up Bokeh references\n",
       "    if (id != null && id in Bokeh.index) {\n",
       "      Bokeh.index[id].model.document.clear();\n",
       "      delete Bokeh.index[id];\n",
       "    }\n",
       "\n",
       "    if (server_id !== undefined) {\n",
       "      // Clean up Bokeh references\n",
       "      var cmd = \"from bokeh.io.state import curstate; print(curstate().uuid_to_server['\" + server_id + \"'].get_sessions()[0].document.roots[0]._id)\";\n",
       "      cell.notebook.kernel.execute(cmd, {\n",
       "        iopub: {\n",
       "          output: function(msg) {\n",
       "            var id = msg.content.text.trim();\n",
       "            if (id in Bokeh.index) {\n",
       "              Bokeh.index[id].model.document.clear();\n",
       "              delete Bokeh.index[id];\n",
       "            }\n",
       "          }\n",
       "        }\n",
       "      });\n",
       "      // Destroy server and session\n",
       "      var cmd = \"import bokeh.io.notebook as ion; ion.destroy_server('\" + server_id + \"')\";\n",
       "      cell.notebook.kernel.execute(cmd);\n",
       "    }\n",
       "  }\n",
       "\n",
       "  /**\n",
       "   * Handle when a new output is added\n",
       "   */\n",
       "  function handleAddOutput(event, handle) {\n",
       "    var output_area = handle.output_area;\n",
       "    var output = handle.output;\n",
       "\n",
       "    // limit handleAddOutput to display_data with EXEC_MIME_TYPE content only\n",
       "    if ((output.output_type != \"display_data\") || (!output.data.hasOwnProperty(EXEC_MIME_TYPE))) {\n",
       "      return\n",
       "    }\n",
       "\n",
       "    var toinsert = output_area.element.find(\".\" + CLASS_NAME.split(' ')[0]);\n",
       "\n",
       "    if (output.metadata[EXEC_MIME_TYPE][\"id\"] !== undefined) {\n",
       "      toinsert[toinsert.length - 1].firstChild.textContent = output.data[JS_MIME_TYPE];\n",
       "      // store reference to embed id on output_area\n",
       "      output_area._bokeh_element_id = output.metadata[EXEC_MIME_TYPE][\"id\"];\n",
       "    }\n",
       "    if (output.metadata[EXEC_MIME_TYPE][\"server_id\"] !== undefined) {\n",
       "      var bk_div = document.createElement(\"div\");\n",
       "      bk_div.innerHTML = output.data[HTML_MIME_TYPE];\n",
       "      var script_attrs = bk_div.children[0].attributes;\n",
       "      for (var i = 0; i < script_attrs.length; i++) {\n",
       "        toinsert[toinsert.length - 1].firstChild.setAttribute(script_attrs[i].name, script_attrs[i].value);\n",
       "      }\n",
       "      // store reference to server id on output_area\n",
       "      output_area._bokeh_server_id = output.metadata[EXEC_MIME_TYPE][\"server_id\"];\n",
       "    }\n",
       "  }\n",
       "\n",
       "  function register_renderer(events, OutputArea) {\n",
       "\n",
       "    function append_mime(data, metadata, element) {\n",
       "      // create a DOM node to render to\n",
       "      var toinsert = this.create_output_subarea(\n",
       "        metadata,\n",
       "        CLASS_NAME,\n",
       "        EXEC_MIME_TYPE\n",
       "      );\n",
       "      this.keyboard_manager.register_events(toinsert);\n",
       "      // Render to node\n",
       "      var props = {data: data, metadata: metadata[EXEC_MIME_TYPE]};\n",
       "      render(props, toinsert[toinsert.length - 1]);\n",
       "      element.append(toinsert);\n",
       "      return toinsert\n",
       "    }\n",
       "\n",
       "    /* Handle when an output is cleared or removed */\n",
       "    events.on('clear_output.CodeCell', handleClearOutput);\n",
       "    events.on('delete.Cell', handleClearOutput);\n",
       "\n",
       "    /* Handle when a new output is added */\n",
       "    events.on('output_added.OutputArea', handleAddOutput);\n",
       "\n",
       "    /**\n",
       "     * Register the mime type and append_mime function with output_area\n",
       "     */\n",
       "    OutputArea.prototype.register_mime_type(EXEC_MIME_TYPE, append_mime, {\n",
       "      /* Is output safe? */\n",
       "      safe: true,\n",
       "      /* Index of renderer in `output_area.display_order` */\n",
       "      index: 0\n",
       "    });\n",
       "  }\n",
       "\n",
       "  // register the mime type if in Jupyter Notebook environment and previously unregistered\n",
       "  if (root.Jupyter !== undefined) {\n",
       "    var events = require('base/js/events');\n",
       "    var OutputArea = require('notebook/js/outputarea').OutputArea;\n",
       "\n",
       "    if (OutputArea.prototype.mime_types().indexOf(EXEC_MIME_TYPE) == -1) {\n",
       "      register_renderer(events, OutputArea);\n",
       "    }\n",
       "  }\n",
       "\n",
       "  \n",
       "  if (typeof (root._bokeh_timeout) === \"undefined\" || force === true) {\n",
       "    root._bokeh_timeout = Date.now() + 5000;\n",
       "    root._bokeh_failed_load = false;\n",
       "  }\n",
       "\n",
       "  var NB_LOAD_WARNING = {'data': {'text/html':\n",
       "     \"<div style='background-color: #fdd'>\\n\"+\n",
       "     \"<p>\\n\"+\n",
       "     \"BokehJS does not appear to have successfully loaded. If loading BokehJS from CDN, this \\n\"+\n",
       "     \"may be due to a slow or bad network connection. Possible fixes:\\n\"+\n",
       "     \"</p>\\n\"+\n",
       "     \"<ul>\\n\"+\n",
       "     \"<li>re-rerun `output_notebook()` to attempt to load from CDN again, or</li>\\n\"+\n",
       "     \"<li>use INLINE resources instead, as so:</li>\\n\"+\n",
       "     \"</ul>\\n\"+\n",
       "     \"<code>\\n\"+\n",
       "     \"from bokeh.resources import INLINE\\n\"+\n",
       "     \"output_notebook(resources=INLINE)\\n\"+\n",
       "     \"</code>\\n\"+\n",
       "     \"</div>\"}};\n",
       "\n",
       "  function display_loaded() {\n",
       "    var el = document.getElementById(\"64d8e7e0-ebe9-40ac-ac58-480b54c4e0f3\");\n",
       "    if (el != null) {\n",
       "      el.textContent = \"BokehJS is loading...\";\n",
       "    }\n",
       "    if (root.Bokeh !== undefined) {\n",
       "      if (el != null) {\n",
       "        el.textContent = \"BokehJS \" + root.Bokeh.version + \" successfully loaded.\";\n",
       "      }\n",
       "    } else if (Date.now() < root._bokeh_timeout) {\n",
       "      setTimeout(display_loaded, 100)\n",
       "    }\n",
       "  }\n",
       "\n",
       "\n",
       "  function run_callbacks() {\n",
       "    try {\n",
       "      root._bokeh_onload_callbacks.forEach(function(callback) { callback() });\n",
       "    }\n",
       "    finally {\n",
       "      delete root._bokeh_onload_callbacks\n",
       "    }\n",
       "    console.info(\"Bokeh: all callbacks have finished\");\n",
       "  }\n",
       "\n",
       "  function load_libs(js_urls, callback) {\n",
       "    root._bokeh_onload_callbacks.push(callback);\n",
       "    if (root._bokeh_is_loading > 0) {\n",
       "      console.log(\"Bokeh: BokehJS is being loaded, scheduling callback at\", now());\n",
       "      return null;\n",
       "    }\n",
       "    if (js_urls == null || js_urls.length === 0) {\n",
       "      run_callbacks();\n",
       "      return null;\n",
       "    }\n",
       "    console.log(\"Bokeh: BokehJS not loaded, scheduling load and callback at\", now());\n",
       "    root._bokeh_is_loading = js_urls.length;\n",
       "    for (var i = 0; i < js_urls.length; i++) {\n",
       "      var url = js_urls[i];\n",
       "      var s = document.createElement('script');\n",
       "      s.src = url;\n",
       "      s.async = false;\n",
       "      s.onreadystatechange = s.onload = function() {\n",
       "        root._bokeh_is_loading--;\n",
       "        if (root._bokeh_is_loading === 0) {\n",
       "          console.log(\"Bokeh: all BokehJS libraries loaded\");\n",
       "          run_callbacks()\n",
       "        }\n",
       "      };\n",
       "      s.onerror = function() {\n",
       "        console.warn(\"failed to load library \" + url);\n",
       "      };\n",
       "      console.log(\"Bokeh: injecting script tag for BokehJS library: \", url);\n",
       "      document.getElementsByTagName(\"head\")[0].appendChild(s);\n",
       "    }\n",
       "  };var element = document.getElementById(\"64d8e7e0-ebe9-40ac-ac58-480b54c4e0f3\");\n",
       "  if (element == null) {\n",
       "    console.log(\"Bokeh: ERROR: autoload.js configured with elementid '64d8e7e0-ebe9-40ac-ac58-480b54c4e0f3' but no matching script tag was found. \")\n",
       "    return false;\n",
       "  }\n",
       "\n",
       "  var js_urls = [\"https://cdn.pydata.org/bokeh/release/bokeh-0.13.0.min.js\", \"https://cdn.pydata.org/bokeh/release/bokeh-widgets-0.13.0.min.js\", \"https://cdn.pydata.org/bokeh/release/bokeh-tables-0.13.0.min.js\", \"https://cdn.pydata.org/bokeh/release/bokeh-gl-0.13.0.min.js\"];\n",
       "\n",
       "  var inline_js = [\n",
       "    function(Bokeh) {\n",
       "      Bokeh.set_log_level(\"info\");\n",
       "    },\n",
       "    \n",
       "    function(Bokeh) {\n",
       "      \n",
       "    },\n",
       "    function(Bokeh) {\n",
       "      console.log(\"Bokeh: injecting CSS: https://cdn.pydata.org/bokeh/release/bokeh-0.13.0.min.css\");\n",
       "      Bokeh.embed.inject_css(\"https://cdn.pydata.org/bokeh/release/bokeh-0.13.0.min.css\");\n",
       "      console.log(\"Bokeh: injecting CSS: https://cdn.pydata.org/bokeh/release/bokeh-widgets-0.13.0.min.css\");\n",
       "      Bokeh.embed.inject_css(\"https://cdn.pydata.org/bokeh/release/bokeh-widgets-0.13.0.min.css\");\n",
       "      console.log(\"Bokeh: injecting CSS: https://cdn.pydata.org/bokeh/release/bokeh-tables-0.13.0.min.css\");\n",
       "      Bokeh.embed.inject_css(\"https://cdn.pydata.org/bokeh/release/bokeh-tables-0.13.0.min.css\");\n",
       "    }\n",
       "  ];\n",
       "\n",
       "  function run_inline_js() {\n",
       "    \n",
       "    if ((root.Bokeh !== undefined) || (force === true)) {\n",
       "      for (var i = 0; i < inline_js.length; i++) {\n",
       "        inline_js[i].call(root, root.Bokeh);\n",
       "      }if (force === true) {\n",
       "        display_loaded();\n",
       "      }} else if (Date.now() < root._bokeh_timeout) {\n",
       "      setTimeout(run_inline_js, 100);\n",
       "    } else if (!root._bokeh_failed_load) {\n",
       "      console.log(\"Bokeh: BokehJS failed to load within specified timeout.\");\n",
       "      root._bokeh_failed_load = true;\n",
       "    } else if (force !== true) {\n",
       "      var cell = $(document.getElementById(\"64d8e7e0-ebe9-40ac-ac58-480b54c4e0f3\")).parents('.cell').data().cell;\n",
       "      cell.output_area.append_execute_result(NB_LOAD_WARNING)\n",
       "    }\n",
       "\n",
       "  }\n",
       "\n",
       "  if (root._bokeh_is_loading === 0) {\n",
       "    console.log(\"Bokeh: BokehJS loaded, going straight to plotting\");\n",
       "    run_inline_js();\n",
       "  } else {\n",
       "    load_libs(js_urls, function() {\n",
       "      console.log(\"Bokeh: BokehJS plotting callback run at\", now());\n",
       "      run_inline_js();\n",
       "    });\n",
       "  }\n",
       "}(window));"
      ],
      "application/vnd.bokehjs_load.v0+json": "\n(function(root) {\n  function now() {\n    return new Date();\n  }\n\n  var force = true;\n\n  if (typeof (root._bokeh_onload_callbacks) === \"undefined\" || force === true) {\n    root._bokeh_onload_callbacks = [];\n    root._bokeh_is_loading = undefined;\n  }\n\n  \n\n  \n  if (typeof (root._bokeh_timeout) === \"undefined\" || force === true) {\n    root._bokeh_timeout = Date.now() + 5000;\n    root._bokeh_failed_load = false;\n  }\n\n  var NB_LOAD_WARNING = {'data': {'text/html':\n     \"<div style='background-color: #fdd'>\\n\"+\n     \"<p>\\n\"+\n     \"BokehJS does not appear to have successfully loaded. If loading BokehJS from CDN, this \\n\"+\n     \"may be due to a slow or bad network connection. Possible fixes:\\n\"+\n     \"</p>\\n\"+\n     \"<ul>\\n\"+\n     \"<li>re-rerun `output_notebook()` to attempt to load from CDN again, or</li>\\n\"+\n     \"<li>use INLINE resources instead, as so:</li>\\n\"+\n     \"</ul>\\n\"+\n     \"<code>\\n\"+\n     \"from bokeh.resources import INLINE\\n\"+\n     \"output_notebook(resources=INLINE)\\n\"+\n     \"</code>\\n\"+\n     \"</div>\"}};\n\n  function display_loaded() {\n    var el = document.getElementById(\"64d8e7e0-ebe9-40ac-ac58-480b54c4e0f3\");\n    if (el != null) {\n      el.textContent = \"BokehJS is loading...\";\n    }\n    if (root.Bokeh !== undefined) {\n      if (el != null) {\n        el.textContent = \"BokehJS \" + root.Bokeh.version + \" successfully loaded.\";\n      }\n    } else if (Date.now() < root._bokeh_timeout) {\n      setTimeout(display_loaded, 100)\n    }\n  }\n\n\n  function run_callbacks() {\n    try {\n      root._bokeh_onload_callbacks.forEach(function(callback) { callback() });\n    }\n    finally {\n      delete root._bokeh_onload_callbacks\n    }\n    console.info(\"Bokeh: all callbacks have finished\");\n  }\n\n  function load_libs(js_urls, callback) {\n    root._bokeh_onload_callbacks.push(callback);\n    if (root._bokeh_is_loading > 0) {\n      console.log(\"Bokeh: BokehJS is being loaded, scheduling callback at\", now());\n      return null;\n    }\n    if (js_urls == null || js_urls.length === 0) {\n      run_callbacks();\n      return null;\n    }\n    console.log(\"Bokeh: BokehJS not loaded, scheduling load and callback at\", now());\n    root._bokeh_is_loading = js_urls.length;\n    for (var i = 0; i < js_urls.length; i++) {\n      var url = js_urls[i];\n      var s = document.createElement('script');\n      s.src = url;\n      s.async = false;\n      s.onreadystatechange = s.onload = function() {\n        root._bokeh_is_loading--;\n        if (root._bokeh_is_loading === 0) {\n          console.log(\"Bokeh: all BokehJS libraries loaded\");\n          run_callbacks()\n        }\n      };\n      s.onerror = function() {\n        console.warn(\"failed to load library \" + url);\n      };\n      console.log(\"Bokeh: injecting script tag for BokehJS library: \", url);\n      document.getElementsByTagName(\"head\")[0].appendChild(s);\n    }\n  };var element = document.getElementById(\"64d8e7e0-ebe9-40ac-ac58-480b54c4e0f3\");\n  if (element == null) {\n    console.log(\"Bokeh: ERROR: autoload.js configured with elementid '64d8e7e0-ebe9-40ac-ac58-480b54c4e0f3' but no matching script tag was found. \")\n    return false;\n  }\n\n  var js_urls = [\"https://cdn.pydata.org/bokeh/release/bokeh-0.13.0.min.js\", \"https://cdn.pydata.org/bokeh/release/bokeh-widgets-0.13.0.min.js\", \"https://cdn.pydata.org/bokeh/release/bokeh-tables-0.13.0.min.js\", \"https://cdn.pydata.org/bokeh/release/bokeh-gl-0.13.0.min.js\"];\n\n  var inline_js = [\n    function(Bokeh) {\n      Bokeh.set_log_level(\"info\");\n    },\n    \n    function(Bokeh) {\n      \n    },\n    function(Bokeh) {\n      console.log(\"Bokeh: injecting CSS: https://cdn.pydata.org/bokeh/release/bokeh-0.13.0.min.css\");\n      Bokeh.embed.inject_css(\"https://cdn.pydata.org/bokeh/release/bokeh-0.13.0.min.css\");\n      console.log(\"Bokeh: injecting CSS: https://cdn.pydata.org/bokeh/release/bokeh-widgets-0.13.0.min.css\");\n      Bokeh.embed.inject_css(\"https://cdn.pydata.org/bokeh/release/bokeh-widgets-0.13.0.min.css\");\n      console.log(\"Bokeh: injecting CSS: https://cdn.pydata.org/bokeh/release/bokeh-tables-0.13.0.min.css\");\n      Bokeh.embed.inject_css(\"https://cdn.pydata.org/bokeh/release/bokeh-tables-0.13.0.min.css\");\n    }\n  ];\n\n  function run_inline_js() {\n    \n    if ((root.Bokeh !== undefined) || (force === true)) {\n      for (var i = 0; i < inline_js.length; i++) {\n        inline_js[i].call(root, root.Bokeh);\n      }if (force === true) {\n        display_loaded();\n      }} else if (Date.now() < root._bokeh_timeout) {\n      setTimeout(run_inline_js, 100);\n    } else if (!root._bokeh_failed_load) {\n      console.log(\"Bokeh: BokehJS failed to load within specified timeout.\");\n      root._bokeh_failed_load = true;\n    } else if (force !== true) {\n      var cell = $(document.getElementById(\"64d8e7e0-ebe9-40ac-ac58-480b54c4e0f3\")).parents('.cell').data().cell;\n      cell.output_area.append_execute_result(NB_LOAD_WARNING)\n    }\n\n  }\n\n  if (root._bokeh_is_loading === 0) {\n    console.log(\"Bokeh: BokehJS loaded, going straight to plotting\");\n    run_inline_js();\n  } else {\n    load_libs(js_urls, function() {\n      console.log(\"Bokeh: BokehJS plotting callback run at\", now());\n      run_inline_js();\n    });\n  }\n}(window));"
     },
     "metadata": {},
     "output_type": "display_data"
    }
   ],
   "source": [
    "import itertools\n",
    "\n",
    "import numpy as np\n",
    "import pandas as pd\n",
    "\n",
    "import altair as alt\n",
    "import bokeh.io\n",
    "from bokeh.layouts import row\n",
    "\n",
    "import bebi103\n",
    "import altair_catplot as altcat\n",
    "\n",
    "bokeh.io.output_notebook()"
   ]
  },
  {
   "cell_type": "code",
   "execution_count": 2,
   "metadata": {},
   "outputs": [],
   "source": [
    "df = pd.read_excel('wang_cool_gal4.xlsx')"
   ]
  },
  {
   "cell_type": "code",
   "execution_count": 36,
   "metadata": {},
   "outputs": [],
   "source": [
    "df_tidy = df.stack(level=0)\n",
    "# NaN eliminated by stack\n",
    "df_tidy = df_tidy.sort_index(level=1)\n",
    "df_tidy = df_tidy.reset_index(level=1)\n",
    "df_tidy = df_tidy.rename(columns={0: 'F'})\n",
    "df_tidy = df_tidy.rename(columns={'level_1': 'Condition'})\n",
    "df_tidy['G'] = df_tidy.Condition.str[0:2]\n",
    "df_tidy['T'] = df_tidy.Condition.str[2:]\n",
    "#df_tidy = df_tidy.drop(columns = 'Condition')"
   ]
  },
  {
   "cell_type": "code",
   "execution_count": null,
   "metadata": {},
   "outputs": [],
   "source": [
    "df_tidy"
   ]
  },
  {
   "cell_type": "code",
   "execution_count": 4,
   "metadata": {},
   "outputs": [],
   "source": [
    "df_tidy = df_tidy.reset_index(drop=True)"
   ]
  },
  {
   "cell_type": "code",
   "execution_count": null,
   "metadata": {},
   "outputs": [],
   "source": [
    "df_tidy"
   ]
  },
  {
   "cell_type": "code",
   "execution_count": 16,
   "metadata": {},
   "outputs": [],
   "source": [
    "p3 = altcat.catplot(data=df_tidy.loc[df_tidy['T'] == '25',:],\n",
    "               mark = 'point',\n",
    "               encoding=dict(y=alt.Y('G:N', title=None, scale=alt.Scale(zero=False)),\n",
    "                             x='F:Q',\n",
    "                             color=alt.Color('G:N', title='G')),\n",
    "                             #column=alt.Column('T:Q', title='T')),\n",
    "               transform='jitterbox',\n",
    "               height = 500,\n",
    "               width = 500\n",
    "              )"
   ]
  },
  {
   "cell_type": "code",
   "execution_count": 45,
   "metadata": {},
   "outputs": [
    {
     "data": {
      "application/vnd.vegalite.v2+json": {
       "$schema": "https://vega.github.io/schema/vega-lite/v2.6.0.json",
       "config": {
        "view": {
         "height": 300,
         "width": 400
        }
       },
       "datasets": {
        "data-7968101a793eae384f3486dd9cd2f4a8": [
         {
          "F": 6096.728649999999,
          "G": "m3",
          "__ECDF": 0
         },
         {
          "F": 7709.297,
          "G": "m3",
          "__ECDF": 0
         },
         {
          "F": 7709.297,
          "G": "m3",
          "__ECDF": 0.038461538461538464
         },
         {
          "F": 11297.41,
          "G": "m3",
          "__ECDF": 0.038461538461538464
         },
         {
          "F": 11297.41,
          "G": "m3",
          "__ECDF": 0.07692307692307693
         },
         {
          "F": 11876.02,
          "G": "m3",
          "__ECDF": 0.07692307692307693
         },
         {
          "F": 11876.02,
          "G": "m3",
          "__ECDF": 0.11538461538461539
         },
         {
          "F": 12071.33,
          "G": "m3",
          "__ECDF": 0.11538461538461539
         },
         {
          "F": 12071.33,
          "G": "m3",
          "__ECDF": 0.15384615384615385
         },
         {
          "F": 12140.31,
          "G": "m3",
          "__ECDF": 0.15384615384615385
         },
         {
          "F": 12140.31,
          "G": "m3",
          "__ECDF": 0.19230769230769232
         },
         {
          "F": 12173.06,
          "G": "m3",
          "__ECDF": 0.19230769230769232
         },
         {
          "F": 12173.06,
          "G": "m3",
          "__ECDF": 0.23076923076923078
         },
         {
          "F": 12538.9,
          "G": "m3",
          "__ECDF": 0.23076923076923078
         },
         {
          "F": 12538.9,
          "G": "m3",
          "__ECDF": 0.2692307692307692
         },
         {
          "F": 13168.06,
          "G": "m3",
          "__ECDF": 0.2692307692307692
         },
         {
          "F": 13168.06,
          "G": "m3",
          "__ECDF": 0.3076923076923077
         },
         {
          "F": 13274.08,
          "G": "m3",
          "__ECDF": 0.3076923076923077
         },
         {
          "F": 13274.08,
          "G": "m3",
          "__ECDF": 0.34615384615384615
         },
         {
          "F": 13393.35,
          "G": "m3",
          "__ECDF": 0.34615384615384615
         },
         {
          "F": 13393.35,
          "G": "m3",
          "__ECDF": 0.38461538461538464
         },
         {
          "F": 13470.66,
          "G": "m3",
          "__ECDF": 0.38461538461538464
         },
         {
          "F": 13470.66,
          "G": "m3",
          "__ECDF": 0.4230769230769231
         },
         {
          "F": 14180.11,
          "G": "m3",
          "__ECDF": 0.4230769230769231
         },
         {
          "F": 14180.11,
          "G": "m3",
          "__ECDF": 0.46153846153846156
         },
         {
          "F": 14285.94,
          "G": "m3",
          "__ECDF": 0.46153846153846156
         },
         {
          "F": 14285.94,
          "G": "m3",
          "__ECDF": 0.5
         },
         {
          "F": 14313.86,
          "G": "m3",
          "__ECDF": 0.5
         },
         {
          "F": 14313.86,
          "G": "m3",
          "__ECDF": 0.5384615384615384
         },
         {
          "F": 14487.56,
          "G": "m3",
          "__ECDF": 0.5384615384615384
         },
         {
          "F": 14487.56,
          "G": "m3",
          "__ECDF": 0.5769230769230769
         },
         {
          "F": 14544.24,
          "G": "m3",
          "__ECDF": 0.5769230769230769
         },
         {
          "F": 14544.24,
          "G": "m3",
          "__ECDF": 0.6153846153846154
         },
         {
          "F": 15379.37,
          "G": "m3",
          "__ECDF": 0.6153846153846154
         },
         {
          "F": 15379.37,
          "G": "m3",
          "__ECDF": 0.6538461538461539
         },
         {
          "F": 15535.85,
          "G": "m3",
          "__ECDF": 0.6538461538461539
         },
         {
          "F": 15535.85,
          "G": "m3",
          "__ECDF": 0.6923076923076923
         },
         {
          "F": 16043.45,
          "G": "m3",
          "__ECDF": 0.6923076923076923
         },
         {
          "F": 16043.45,
          "G": "m3",
          "__ECDF": 0.7307692307692307
         },
         {
          "F": 16187.48,
          "G": "m3",
          "__ECDF": 0.7307692307692307
         },
         {
          "F": 16187.48,
          "G": "m3",
          "__ECDF": 0.7692307692307693
         },
         {
          "F": 16636.82,
          "G": "m3",
          "__ECDF": 0.7692307692307693
         },
         {
          "F": 16636.82,
          "G": "m3",
          "__ECDF": 0.8076923076923077
         },
         {
          "F": 16896.31,
          "G": "m3",
          "__ECDF": 0.8076923076923077
         },
         {
          "F": 16896.31,
          "G": "m3",
          "__ECDF": 0.8461538461538461
         },
         {
          "F": 16991.49,
          "G": "m3",
          "__ECDF": 0.8461538461538461
         },
         {
          "F": 16991.49,
          "G": "m3",
          "__ECDF": 0.8846153846153846
         },
         {
          "F": 17073.8,
          "G": "m3",
          "__ECDF": 0.8846153846153846
         },
         {
          "F": 17073.8,
          "G": "m3",
          "__ECDF": 0.9230769230769231
         },
         {
          "F": 18034.93,
          "G": "m3",
          "__ECDF": 0.9230769230769231
         },
         {
          "F": 18034.93,
          "G": "m3",
          "__ECDF": 0.9615384615384616
         },
         {
          "F": 18205.84,
          "G": "m3",
          "__ECDF": 0.9615384615384616
         },
         {
          "F": 18205.84,
          "G": "m3",
          "__ECDF": 1
         },
         {
          "F": 24003.504350000003,
          "G": "m3",
          "__ECDF": 1
         },
         {
          "F": 6096.728649999999,
          "G": "sc",
          "__ECDF": 0
         },
         {
          "F": 8358.995,
          "G": "sc",
          "__ECDF": 0
         },
         {
          "F": 8358.995,
          "G": "sc",
          "__ECDF": 0.04
         },
         {
          "F": 9540.503,
          "G": "sc",
          "__ECDF": 0.04
         },
         {
          "F": 9540.503,
          "G": "sc",
          "__ECDF": 0.08
         },
         {
          "F": 11233.21,
          "G": "sc",
          "__ECDF": 0.08
         },
         {
          "F": 11233.21,
          "G": "sc",
          "__ECDF": 0.12
         },
         {
          "F": 12163.93,
          "G": "sc",
          "__ECDF": 0.12
         },
         {
          "F": 12163.93,
          "G": "sc",
          "__ECDF": 0.16
         },
         {
          "F": 12462.69,
          "G": "sc",
          "__ECDF": 0.16
         },
         {
          "F": 12462.69,
          "G": "sc",
          "__ECDF": 0.2
         },
         {
          "F": 12672.19,
          "G": "sc",
          "__ECDF": 0.2
         },
         {
          "F": 12672.19,
          "G": "sc",
          "__ECDF": 0.24
         },
         {
          "F": 13334.83,
          "G": "sc",
          "__ECDF": 0.24
         },
         {
          "F": 13334.83,
          "G": "sc",
          "__ECDF": 0.28
         },
         {
          "F": 13568.62,
          "G": "sc",
          "__ECDF": 0.28
         },
         {
          "F": 13568.62,
          "G": "sc",
          "__ECDF": 0.32
         },
         {
          "F": 13609.09,
          "G": "sc",
          "__ECDF": 0.32
         },
         {
          "F": 13609.09,
          "G": "sc",
          "__ECDF": 0.36
         },
         {
          "F": 13969.94,
          "G": "sc",
          "__ECDF": 0.36
         },
         {
          "F": 13969.94,
          "G": "sc",
          "__ECDF": 0.4
         },
         {
          "F": 14128.31,
          "G": "sc",
          "__ECDF": 0.4
         },
         {
          "F": 14128.31,
          "G": "sc",
          "__ECDF": 0.44
         },
         {
          "F": 14211.59,
          "G": "sc",
          "__ECDF": 0.44
         },
         {
          "F": 14211.59,
          "G": "sc",
          "__ECDF": 0.48
         },
         {
          "F": 14414.89,
          "G": "sc",
          "__ECDF": 0.48
         },
         {
          "F": 14414.89,
          "G": "sc",
          "__ECDF": 0.52
         },
         {
          "F": 14879.05,
          "G": "sc",
          "__ECDF": 0.52
         },
         {
          "F": 14879.05,
          "G": "sc",
          "__ECDF": 0.56
         },
         {
          "F": 14882.92,
          "G": "sc",
          "__ECDF": 0.56
         },
         {
          "F": 14882.92,
          "G": "sc",
          "__ECDF": 0.6
         },
         {
          "F": 15065.03,
          "G": "sc",
          "__ECDF": 0.6
         },
         {
          "F": 15065.03,
          "G": "sc",
          "__ECDF": 0.64
         },
         {
          "F": 15110.88,
          "G": "sc",
          "__ECDF": 0.64
         },
         {
          "F": 15110.88,
          "G": "sc",
          "__ECDF": 0.68
         },
         {
          "F": 15158.47,
          "G": "sc",
          "__ECDF": 0.68
         },
         {
          "F": 15158.47,
          "G": "sc",
          "__ECDF": 0.72
         },
         {
          "F": 15602.73,
          "G": "sc",
          "__ECDF": 0.72
         },
         {
          "F": 15602.73,
          "G": "sc",
          "__ECDF": 0.76
         },
         {
          "F": 15832.53,
          "G": "sc",
          "__ECDF": 0.76
         },
         {
          "F": 15832.53,
          "G": "sc",
          "__ECDF": 0.8
         },
         {
          "F": 16499.3,
          "G": "sc",
          "__ECDF": 0.8
         },
         {
          "F": 16499.3,
          "G": "sc",
          "__ECDF": 0.84
         },
         {
          "F": 16960.67,
          "G": "sc",
          "__ECDF": 0.84
         },
         {
          "F": 16960.67,
          "G": "sc",
          "__ECDF": 0.88
         },
         {
          "F": 17229.12,
          "G": "sc",
          "__ECDF": 0.88
         },
         {
          "F": 17229.12,
          "G": "sc",
          "__ECDF": 0.92
         },
         {
          "F": 17305.84,
          "G": "sc",
          "__ECDF": 0.92
         },
         {
          "F": 17305.84,
          "G": "sc",
          "__ECDF": 0.96
         },
         {
          "F": 19436.63,
          "G": "sc",
          "__ECDF": 0.96
         },
         {
          "F": 19436.63,
          "G": "sc",
          "__ECDF": 1
         },
         {
          "F": 24003.504350000003,
          "G": "sc",
          "__ECDF": 1
         },
         {
          "F": 6096.728649999999,
          "G": "sk",
          "__ECDF": 0
         },
         {
          "F": 6910.673,
          "G": "sk",
          "__ECDF": 0
         },
         {
          "F": 6910.673,
          "G": "sk",
          "__ECDF": 0.03333333333333333
         },
         {
          "F": 14203.55,
          "G": "sk",
          "__ECDF": 0.03333333333333333
         },
         {
          "F": 14203.55,
          "G": "sk",
          "__ECDF": 0.06666666666666667
         },
         {
          "F": 14351.88,
          "G": "sk",
          "__ECDF": 0.06666666666666667
         },
         {
          "F": 14351.88,
          "G": "sk",
          "__ECDF": 0.1
         },
         {
          "F": 15992.75,
          "G": "sk",
          "__ECDF": 0.1
         },
         {
          "F": 15992.75,
          "G": "sk",
          "__ECDF": 0.13333333333333333
         },
         {
          "F": 16593.96,
          "G": "sk",
          "__ECDF": 0.13333333333333333
         },
         {
          "F": 16593.96,
          "G": "sk",
          "__ECDF": 0.16666666666666666
         },
         {
          "F": 16919.7,
          "G": "sk",
          "__ECDF": 0.16666666666666666
         },
         {
          "F": 16919.7,
          "G": "sk",
          "__ECDF": 0.2
         },
         {
          "F": 17609.13,
          "G": "sk",
          "__ECDF": 0.2
         },
         {
          "F": 17609.13,
          "G": "sk",
          "__ECDF": 0.23333333333333334
         },
         {
          "F": 17694.63,
          "G": "sk",
          "__ECDF": 0.23333333333333334
         },
         {
          "F": 17694.63,
          "G": "sk",
          "__ECDF": 0.26666666666666666
         },
         {
          "F": 17788.94,
          "G": "sk",
          "__ECDF": 0.26666666666666666
         },
         {
          "F": 17788.94,
          "G": "sk",
          "__ECDF": 0.3
         },
         {
          "F": 17811.23,
          "G": "sk",
          "__ECDF": 0.3
         },
         {
          "F": 17811.23,
          "G": "sk",
          "__ECDF": 0.3333333333333333
         },
         {
          "F": 17837.36,
          "G": "sk",
          "__ECDF": 0.3333333333333333
         },
         {
          "F": 17837.36,
          "G": "sk",
          "__ECDF": 0.36666666666666664
         },
         {
          "F": 18042.75,
          "G": "sk",
          "__ECDF": 0.36666666666666664
         },
         {
          "F": 18042.75,
          "G": "sk",
          "__ECDF": 0.4
         },
         {
          "F": 18062.91,
          "G": "sk",
          "__ECDF": 0.4
         },
         {
          "F": 18062.91,
          "G": "sk",
          "__ECDF": 0.43333333333333335
         },
         {
          "F": 19238.01,
          "G": "sk",
          "__ECDF": 0.43333333333333335
         },
         {
          "F": 19238.01,
          "G": "sk",
          "__ECDF": 0.4666666666666667
         },
         {
          "F": 19265.61,
          "G": "sk",
          "__ECDF": 0.4666666666666667
         },
         {
          "F": 19265.61,
          "G": "sk",
          "__ECDF": 0.5
         },
         {
          "F": 19314.24,
          "G": "sk",
          "__ECDF": 0.5
         },
         {
          "F": 19314.24,
          "G": "sk",
          "__ECDF": 0.5333333333333333
         },
         {
          "F": 19516.03,
          "G": "sk",
          "__ECDF": 0.5333333333333333
         },
         {
          "F": 19516.03,
          "G": "sk",
          "__ECDF": 0.5666666666666667
         },
         {
          "F": 19782.51,
          "G": "sk",
          "__ECDF": 0.5666666666666667
         },
         {
          "F": 19782.51,
          "G": "sk",
          "__ECDF": 0.6
         },
         {
          "F": 19882.63,
          "G": "sk",
          "__ECDF": 0.6
         },
         {
          "F": 19882.63,
          "G": "sk",
          "__ECDF": 0.6333333333333333
         },
         {
          "F": 20114.62,
          "G": "sk",
          "__ECDF": 0.6333333333333333
         },
         {
          "F": 20114.62,
          "G": "sk",
          "__ECDF": 0.6666666666666666
         },
         {
          "F": 20371.85,
          "G": "sk",
          "__ECDF": 0.6666666666666666
         },
         {
          "F": 20371.85,
          "G": "sk",
          "__ECDF": 0.7
         },
         {
          "F": 20526.22,
          "G": "sk",
          "__ECDF": 0.7
         },
         {
          "F": 20526.22,
          "G": "sk",
          "__ECDF": 0.7333333333333333
         },
         {
          "F": 20563.58,
          "G": "sk",
          "__ECDF": 0.7333333333333333
         },
         {
          "F": 20563.58,
          "G": "sk",
          "__ECDF": 0.7666666666666667
         },
         {
          "F": 20934.66,
          "G": "sk",
          "__ECDF": 0.7666666666666667
         },
         {
          "F": 20934.66,
          "G": "sk",
          "__ECDF": 0.8
         },
         {
          "F": 21371.72,
          "G": "sk",
          "__ECDF": 0.8
         },
         {
          "F": 21371.72,
          "G": "sk",
          "__ECDF": 0.8333333333333334
         },
         {
          "F": 21444.25,
          "G": "sk",
          "__ECDF": 0.8333333333333334
         },
         {
          "F": 21444.25,
          "G": "sk",
          "__ECDF": 0.8666666666666667
         },
         {
          "F": 21589.64,
          "G": "sk",
          "__ECDF": 0.8666666666666667
         },
         {
          "F": 21589.64,
          "G": "sk",
          "__ECDF": 0.9
         },
         {
          "F": 21836.05,
          "G": "sk",
          "__ECDF": 0.9
         },
         {
          "F": 21836.05,
          "G": "sk",
          "__ECDF": 0.9333333333333333
         },
         {
          "F": 22053.47,
          "G": "sk",
          "__ECDF": 0.9333333333333333
         },
         {
          "F": 22053.47,
          "G": "sk",
          "__ECDF": 0.9666666666666667
         },
         {
          "F": 23189.56,
          "G": "sk",
          "__ECDF": 0.9666666666666667
         },
         {
          "F": 23189.56,
          "G": "sk",
          "__ECDF": 1
         },
         {
          "F": 24003.504350000003,
          "G": "sk",
          "__ECDF": 1
         }
        ],
        "data-7c26da0f89a45e7e85f6dfe1b17a2e5b": [
         {
          "F": -592.3824,
          "G": "m3",
          "__ECDF": 0
         },
         {
          "F": 5616.583,
          "G": "m3",
          "__ECDF": 0
         },
         {
          "F": 5616.583,
          "G": "m3",
          "__ECDF": 0.037037037037037035
         },
         {
          "F": 8350.16,
          "G": "m3",
          "__ECDF": 0.037037037037037035
         },
         {
          "F": 8350.16,
          "G": "m3",
          "__ECDF": 0.07407407407407407
         },
         {
          "F": 8404.338,
          "G": "m3",
          "__ECDF": 0.07407407407407407
         },
         {
          "F": 8404.338,
          "G": "m3",
          "__ECDF": 0.1111111111111111
         },
         {
          "F": 9851.121,
          "G": "m3",
          "__ECDF": 0.1111111111111111
         },
         {
          "F": 9851.121,
          "G": "m3",
          "__ECDF": 0.14814814814814814
         },
         {
          "F": 10092.92,
          "G": "m3",
          "__ECDF": 0.14814814814814814
         },
         {
          "F": 10092.92,
          "G": "m3",
          "__ECDF": 0.18518518518518517
         },
         {
          "F": 10095.31,
          "G": "m3",
          "__ECDF": 0.18518518518518517
         },
         {
          "F": 10095.31,
          "G": "m3",
          "__ECDF": 0.2222222222222222
         },
         {
          "F": 10261.6,
          "G": "m3",
          "__ECDF": 0.2222222222222222
         },
         {
          "F": 10261.6,
          "G": "m3",
          "__ECDF": 0.25925925925925924
         },
         {
          "F": 10938.8,
          "G": "m3",
          "__ECDF": 0.25925925925925924
         },
         {
          "F": 10938.8,
          "G": "m3",
          "__ECDF": 0.2962962962962963
         },
         {
          "F": 11349.04,
          "G": "m3",
          "__ECDF": 0.2962962962962963
         },
         {
          "F": 11349.04,
          "G": "m3",
          "__ECDF": 0.3333333333333333
         },
         {
          "F": 11383.33,
          "G": "m3",
          "__ECDF": 0.3333333333333333
         },
         {
          "F": 11383.33,
          "G": "m3",
          "__ECDF": 0.37037037037037035
         },
         {
          "F": 11444.18,
          "G": "m3",
          "__ECDF": 0.37037037037037035
         },
         {
          "F": 11444.18,
          "G": "m3",
          "__ECDF": 0.4074074074074074
         },
         {
          "F": 11703.01,
          "G": "m3",
          "__ECDF": 0.4074074074074074
         },
         {
          "F": 11703.01,
          "G": "m3",
          "__ECDF": 0.4444444444444444
         },
         {
          "F": 12594.02,
          "G": "m3",
          "__ECDF": 0.4444444444444444
         },
         {
          "F": 12594.02,
          "G": "m3",
          "__ECDF": 0.48148148148148145
         },
         {
          "F": 12839.65,
          "G": "m3",
          "__ECDF": 0.48148148148148145
         },
         {
          "F": 12839.65,
          "G": "m3",
          "__ECDF": 0.5185185185185185
         },
         {
          "F": 13687.15,
          "G": "m3",
          "__ECDF": 0.5185185185185185
         },
         {
          "F": 13687.15,
          "G": "m3",
          "__ECDF": 0.5555555555555556
         },
         {
          "F": 14445.49,
          "G": "m3",
          "__ECDF": 0.5555555555555556
         },
         {
          "F": 14445.49,
          "G": "m3",
          "__ECDF": 0.5925925925925926
         },
         {
          "F": 14456.7,
          "G": "m3",
          "__ECDF": 0.5925925925925926
         },
         {
          "F": 14456.7,
          "G": "m3",
          "__ECDF": 0.6296296296296297
         },
         {
          "F": 15120.23,
          "G": "m3",
          "__ECDF": 0.6296296296296297
         },
         {
          "F": 15120.23,
          "G": "m3",
          "__ECDF": 0.6666666666666666
         },
         {
          "F": 15341.68,
          "G": "m3",
          "__ECDF": 0.6666666666666666
         },
         {
          "F": 15341.68,
          "G": "m3",
          "__ECDF": 0.7037037037037037
         },
         {
          "F": 15657.5,
          "G": "m3",
          "__ECDF": 0.7037037037037037
         },
         {
          "F": 15657.5,
          "G": "m3",
          "__ECDF": 0.7407407407407407
         },
         {
          "F": 17025.58,
          "G": "m3",
          "__ECDF": 0.7407407407407407
         },
         {
          "F": 17025.58,
          "G": "m3",
          "__ECDF": 0.7777777777777778
         },
         {
          "F": 17079.49,
          "G": "m3",
          "__ECDF": 0.7777777777777778
         },
         {
          "F": 17079.49,
          "G": "m3",
          "__ECDF": 0.8148148148148148
         },
         {
          "F": 17499.83,
          "G": "m3",
          "__ECDF": 0.8148148148148148
         },
         {
          "F": 17499.83,
          "G": "m3",
          "__ECDF": 0.8518518518518519
         },
         {
          "F": 19347.14,
          "G": "m3",
          "__ECDF": 0.8518518518518519
         },
         {
          "F": 19347.14,
          "G": "m3",
          "__ECDF": 0.8888888888888888
         },
         {
          "F": 22372.43,
          "G": "m3",
          "__ECDF": 0.8888888888888888
         },
         {
          "F": 22372.43,
          "G": "m3",
          "__ECDF": 0.9259259259259259
         },
         {
          "F": 22479.83,
          "G": "m3",
          "__ECDF": 0.9259259259259259
         },
         {
          "F": 22479.83,
          "G": "m3",
          "__ECDF": 0.9629629629629629
         },
         {
          "F": 33739.14,
          "G": "m3",
          "__ECDF": 0.9629629629629629
         },
         {
          "F": 33739.14,
          "G": "m3",
          "__ECDF": 1
         },
         {
          "F": 35373.9744,
          "G": "m3",
          "__ECDF": 1
         },
         {
          "F": -592.3824,
          "G": "sc",
          "__ECDF": 0
         },
         {
          "F": 1042.452,
          "G": "sc",
          "__ECDF": 0
         },
         {
          "F": 1042.452,
          "G": "sc",
          "__ECDF": 0.045454545454545456
         },
         {
          "F": 1312.233,
          "G": "sc",
          "__ECDF": 0.045454545454545456
         },
         {
          "F": 1312.233,
          "G": "sc",
          "__ECDF": 0.09090909090909091
         },
         {
          "F": 1526.974,
          "G": "sc",
          "__ECDF": 0.09090909090909091
         },
         {
          "F": 1526.974,
          "G": "sc",
          "__ECDF": 0.13636363636363635
         },
         {
          "F": 1532.901,
          "G": "sc",
          "__ECDF": 0.13636363636363635
         },
         {
          "F": 1532.901,
          "G": "sc",
          "__ECDF": 0.18181818181818182
         },
         {
          "F": 1572.569,
          "G": "sc",
          "__ECDF": 0.18181818181818182
         },
         {
          "F": 1572.569,
          "G": "sc",
          "__ECDF": 0.22727272727272727
         },
         {
          "F": 1817.321,
          "G": "sc",
          "__ECDF": 0.22727272727272727
         },
         {
          "F": 1817.321,
          "G": "sc",
          "__ECDF": 0.2727272727272727
         },
         {
          "F": 1888.596,
          "G": "sc",
          "__ECDF": 0.2727272727272727
         },
         {
          "F": 1888.596,
          "G": "sc",
          "__ECDF": 0.3181818181818182
         },
         {
          "F": 2357.752,
          "G": "sc",
          "__ECDF": 0.3181818181818182
         },
         {
          "F": 2357.752,
          "G": "sc",
          "__ECDF": 0.36363636363636365
         },
         {
          "F": 2737.135,
          "G": "sc",
          "__ECDF": 0.36363636363636365
         },
         {
          "F": 2737.135,
          "G": "sc",
          "__ECDF": 0.4090909090909091
         },
         {
          "F": 3107.02,
          "G": "sc",
          "__ECDF": 0.4090909090909091
         },
         {
          "F": 3107.02,
          "G": "sc",
          "__ECDF": 0.45454545454545453
         },
         {
          "F": 3448.003,
          "G": "sc",
          "__ECDF": 0.45454545454545453
         },
         {
          "F": 3448.003,
          "G": "sc",
          "__ECDF": 0.5
         },
         {
          "F": 3505.12,
          "G": "sc",
          "__ECDF": 0.5
         },
         {
          "F": 3505.12,
          "G": "sc",
          "__ECDF": 0.5454545454545454
         },
         {
          "F": 3643.21,
          "G": "sc",
          "__ECDF": 0.5454545454545454
         },
         {
          "F": 3643.21,
          "G": "sc",
          "__ECDF": 0.5909090909090909
         },
         {
          "F": 3796.529,
          "G": "sc",
          "__ECDF": 0.5909090909090909
         },
         {
          "F": 3796.529,
          "G": "sc",
          "__ECDF": 0.6363636363636364
         },
         {
          "F": 4758.537,
          "G": "sc",
          "__ECDF": 0.6363636363636364
         },
         {
          "F": 4758.537,
          "G": "sc",
          "__ECDF": 0.6818181818181818
         },
         {
          "F": 4816.29,
          "G": "sc",
          "__ECDF": 0.6818181818181818
         },
         {
          "F": 4816.29,
          "G": "sc",
          "__ECDF": 0.7272727272727273
         },
         {
          "F": 5757.599,
          "G": "sc",
          "__ECDF": 0.7272727272727273
         },
         {
          "F": 5757.599,
          "G": "sc",
          "__ECDF": 0.7727272727272727
         },
         {
          "F": 6818.986,
          "G": "sc",
          "__ECDF": 0.7727272727272727
         },
         {
          "F": 6818.986,
          "G": "sc",
          "__ECDF": 0.8181818181818182
         },
         {
          "F": 8119.87,
          "G": "sc",
          "__ECDF": 0.8181818181818182
         },
         {
          "F": 8119.87,
          "G": "sc",
          "__ECDF": 0.8636363636363636
         },
         {
          "F": 11756.49,
          "G": "sc",
          "__ECDF": 0.8636363636363636
         },
         {
          "F": 11756.49,
          "G": "sc",
          "__ECDF": 0.9090909090909091
         },
         {
          "F": 12185.36,
          "G": "sc",
          "__ECDF": 0.9090909090909091
         },
         {
          "F": 12185.36,
          "G": "sc",
          "__ECDF": 0.9545454545454546
         },
         {
          "F": 16331.43,
          "G": "sc",
          "__ECDF": 0.9545454545454546
         },
         {
          "F": 16331.43,
          "G": "sc",
          "__ECDF": 1
         },
         {
          "F": 35373.9744,
          "G": "sc",
          "__ECDF": 1
         },
         {
          "F": -592.3824,
          "G": "sk",
          "__ECDF": 0
         },
         {
          "F": 12036.87,
          "G": "sk",
          "__ECDF": 0
         },
         {
          "F": 12036.87,
          "G": "sk",
          "__ECDF": 0.03333333333333333
         },
         {
          "F": 12345.97,
          "G": "sk",
          "__ECDF": 0.03333333333333333
         },
         {
          "F": 12345.97,
          "G": "sk",
          "__ECDF": 0.06666666666666667
         },
         {
          "F": 12394.32,
          "G": "sk",
          "__ECDF": 0.06666666666666667
         },
         {
          "F": 12394.32,
          "G": "sk",
          "__ECDF": 0.1
         },
         {
          "F": 12799.02,
          "G": "sk",
          "__ECDF": 0.1
         },
         {
          "F": 12799.02,
          "G": "sk",
          "__ECDF": 0.13333333333333333
         },
         {
          "F": 12867.4,
          "G": "sk",
          "__ECDF": 0.13333333333333333
         },
         {
          "F": 12867.4,
          "G": "sk",
          "__ECDF": 0.16666666666666666
         },
         {
          "F": 12879.88,
          "G": "sk",
          "__ECDF": 0.16666666666666666
         },
         {
          "F": 12879.88,
          "G": "sk",
          "__ECDF": 0.2
         },
         {
          "F": 13000.28,
          "G": "sk",
          "__ECDF": 0.2
         },
         {
          "F": 13000.28,
          "G": "sk",
          "__ECDF": 0.23333333333333334
         },
         {
          "F": 13311.52,
          "G": "sk",
          "__ECDF": 0.23333333333333334
         },
         {
          "F": 13311.52,
          "G": "sk",
          "__ECDF": 0.26666666666666666
         },
         {
          "F": 13344.14,
          "G": "sk",
          "__ECDF": 0.26666666666666666
         },
         {
          "F": 13344.14,
          "G": "sk",
          "__ECDF": 0.3
         },
         {
          "F": 13382.25,
          "G": "sk",
          "__ECDF": 0.3
         },
         {
          "F": 13382.25,
          "G": "sk",
          "__ECDF": 0.3333333333333333
         },
         {
          "F": 13616.94,
          "G": "sk",
          "__ECDF": 0.3333333333333333
         },
         {
          "F": 13616.94,
          "G": "sk",
          "__ECDF": 0.36666666666666664
         },
         {
          "F": 13734.49,
          "G": "sk",
          "__ECDF": 0.36666666666666664
         },
         {
          "F": 13734.49,
          "G": "sk",
          "__ECDF": 0.4
         },
         {
          "F": 14094.44,
          "G": "sk",
          "__ECDF": 0.4
         },
         {
          "F": 14094.44,
          "G": "sk",
          "__ECDF": 0.43333333333333335
         },
         {
          "F": 14251.97,
          "G": "sk",
          "__ECDF": 0.43333333333333335
         },
         {
          "F": 14251.97,
          "G": "sk",
          "__ECDF": 0.4666666666666667
         },
         {
          "F": 14572.75,
          "G": "sk",
          "__ECDF": 0.4666666666666667
         },
         {
          "F": 14572.75,
          "G": "sk",
          "__ECDF": 0.5
         },
         {
          "F": 14639.85,
          "G": "sk",
          "__ECDF": 0.5
         },
         {
          "F": 14639.85,
          "G": "sk",
          "__ECDF": 0.5333333333333333
         },
         {
          "F": 15299.76,
          "G": "sk",
          "__ECDF": 0.5333333333333333
         },
         {
          "F": 15299.76,
          "G": "sk",
          "__ECDF": 0.5666666666666667
         },
         {
          "F": 15844.28,
          "G": "sk",
          "__ECDF": 0.5666666666666667
         },
         {
          "F": 15844.28,
          "G": "sk",
          "__ECDF": 0.6
         },
         {
          "F": 15956.94,
          "G": "sk",
          "__ECDF": 0.6
         },
         {
          "F": 15956.94,
          "G": "sk",
          "__ECDF": 0.6333333333333333
         },
         {
          "F": 15983.81,
          "G": "sk",
          "__ECDF": 0.6333333333333333
         },
         {
          "F": 15983.81,
          "G": "sk",
          "__ECDF": 0.6666666666666666
         },
         {
          "F": 16042.57,
          "G": "sk",
          "__ECDF": 0.6666666666666666
         },
         {
          "F": 16042.57,
          "G": "sk",
          "__ECDF": 0.7
         },
         {
          "F": 16076.1,
          "G": "sk",
          "__ECDF": 0.7
         },
         {
          "F": 16076.1,
          "G": "sk",
          "__ECDF": 0.7333333333333333
         },
         {
          "F": 16266.81,
          "G": "sk",
          "__ECDF": 0.7333333333333333
         },
         {
          "F": 16266.81,
          "G": "sk",
          "__ECDF": 0.7666666666666667
         },
         {
          "F": 16521.9,
          "G": "sk",
          "__ECDF": 0.7666666666666667
         },
         {
          "F": 16521.9,
          "G": "sk",
          "__ECDF": 0.8
         },
         {
          "F": 16677.19,
          "G": "sk",
          "__ECDF": 0.8
         },
         {
          "F": 16677.19,
          "G": "sk",
          "__ECDF": 0.8333333333333334
         },
         {
          "F": 17474.9,
          "G": "sk",
          "__ECDF": 0.8333333333333334
         },
         {
          "F": 17474.9,
          "G": "sk",
          "__ECDF": 0.8666666666666667
         },
         {
          "F": 18016.01,
          "G": "sk",
          "__ECDF": 0.8666666666666667
         },
         {
          "F": 18016.01,
          "G": "sk",
          "__ECDF": 0.9
         },
         {
          "F": 18307.6,
          "G": "sk",
          "__ECDF": 0.9
         },
         {
          "F": 18307.6,
          "G": "sk",
          "__ECDF": 0.9333333333333333
         },
         {
          "F": 18691.24,
          "G": "sk",
          "__ECDF": 0.9333333333333333
         },
         {
          "F": 18691.24,
          "G": "sk",
          "__ECDF": 0.9666666666666667
         },
         {
          "F": 19046.82,
          "G": "sk",
          "__ECDF": 0.9666666666666667
         },
         {
          "F": 19046.82,
          "G": "sk",
          "__ECDF": 1
         },
         {
          "F": 35373.9744,
          "G": "sk",
          "__ECDF": 1
         }
        ],
        "data-ea24a6adb936fb4dc9b14d6c6b685850": [
         {
          "F": -1643.2189400000004,
          "G": "m3",
          "__ECDF": 0
         },
         {
          "F": 3149.717,
          "G": "m3",
          "__ECDF": 0
         },
         {
          "F": 3149.717,
          "G": "m3",
          "__ECDF": 0.034482758620689655
         },
         {
          "F": 3880.93,
          "G": "m3",
          "__ECDF": 0.034482758620689655
         },
         {
          "F": 3880.93,
          "G": "m3",
          "__ECDF": 0.06896551724137931
         },
         {
          "F": 4634.488,
          "G": "m3",
          "__ECDF": 0.06896551724137931
         },
         {
          "F": 4634.488,
          "G": "m3",
          "__ECDF": 0.10344827586206896
         },
         {
          "F": 7395.207,
          "G": "m3",
          "__ECDF": 0.10344827586206896
         },
         {
          "F": 7395.207,
          "G": "m3",
          "__ECDF": 0.13793103448275862
         },
         {
          "F": 9429.343,
          "G": "m3",
          "__ECDF": 0.13793103448275862
         },
         {
          "F": 9429.343,
          "G": "m3",
          "__ECDF": 0.1724137931034483
         },
         {
          "F": 10373.52,
          "G": "m3",
          "__ECDF": 0.1724137931034483
         },
         {
          "F": 10373.52,
          "G": "m3",
          "__ECDF": 0.20689655172413793
         },
         {
          "F": 11121.24,
          "G": "m3",
          "__ECDF": 0.20689655172413793
         },
         {
          "F": 11121.24,
          "G": "m3",
          "__ECDF": 0.2413793103448276
         },
         {
          "F": 12793.59,
          "G": "m3",
          "__ECDF": 0.2413793103448276
         },
         {
          "F": 12793.59,
          "G": "m3",
          "__ECDF": 0.27586206896551724
         },
         {
          "F": 13684.36,
          "G": "m3",
          "__ECDF": 0.27586206896551724
         },
         {
          "F": 13684.36,
          "G": "m3",
          "__ECDF": 0.3103448275862069
         },
         {
          "F": 15568.76,
          "G": "m3",
          "__ECDF": 0.3103448275862069
         },
         {
          "F": 15568.76,
          "G": "m3",
          "__ECDF": 0.3448275862068966
         },
         {
          "F": 15876.82,
          "G": "m3",
          "__ECDF": 0.3448275862068966
         },
         {
          "F": 15876.82,
          "G": "m3",
          "__ECDF": 0.3793103448275862
         },
         {
          "F": 16756.28,
          "G": "m3",
          "__ECDF": 0.3793103448275862
         },
         {
          "F": 16756.28,
          "G": "m3",
          "__ECDF": 0.41379310344827586
         },
         {
          "F": 17062.84,
          "G": "m3",
          "__ECDF": 0.41379310344827586
         },
         {
          "F": 17062.84,
          "G": "m3",
          "__ECDF": 0.4482758620689655
         },
         {
          "F": 18178.44,
          "G": "m3",
          "__ECDF": 0.4482758620689655
         },
         {
          "F": 18178.44,
          "G": "m3",
          "__ECDF": 0.4827586206896552
         },
         {
          "F": 18265.88,
          "G": "m3",
          "__ECDF": 0.4827586206896552
         },
         {
          "F": 18265.88,
          "G": "m3",
          "__ECDF": 0.5172413793103449
         },
         {
          "F": 20017.14,
          "G": "m3",
          "__ECDF": 0.5172413793103449
         },
         {
          "F": 20017.14,
          "G": "m3",
          "__ECDF": 0.5517241379310345
         },
         {
          "F": 20376.3,
          "G": "m3",
          "__ECDF": 0.5517241379310345
         },
         {
          "F": 20376.3,
          "G": "m3",
          "__ECDF": 0.5862068965517241
         },
         {
          "F": 20722.62,
          "G": "m3",
          "__ECDF": 0.5862068965517241
         },
         {
          "F": 20722.62,
          "G": "m3",
          "__ECDF": 0.6206896551724138
         },
         {
          "F": 20820.26,
          "G": "m3",
          "__ECDF": 0.6206896551724138
         },
         {
          "F": 20820.26,
          "G": "m3",
          "__ECDF": 0.6551724137931034
         },
         {
          "F": 21703.44,
          "G": "m3",
          "__ECDF": 0.6551724137931034
         },
         {
          "F": 21703.44,
          "G": "m3",
          "__ECDF": 0.6896551724137931
         },
         {
          "F": 21707.12,
          "G": "m3",
          "__ECDF": 0.6896551724137931
         },
         {
          "F": 21707.12,
          "G": "m3",
          "__ECDF": 0.7241379310344828
         },
         {
          "F": 21750.27,
          "G": "m3",
          "__ECDF": 0.7241379310344828
         },
         {
          "F": 21750.27,
          "G": "m3",
          "__ECDF": 0.7586206896551724
         },
         {
          "F": 22510.41,
          "G": "m3",
          "__ECDF": 0.7586206896551724
         },
         {
          "F": 22510.41,
          "G": "m3",
          "__ECDF": 0.7931034482758621
         },
         {
          "F": 24028.75,
          "G": "m3",
          "__ECDF": 0.7931034482758621
         },
         {
          "F": 24028.75,
          "G": "m3",
          "__ECDF": 0.8275862068965517
         },
         {
          "F": 24932.88,
          "G": "m3",
          "__ECDF": 0.8275862068965517
         },
         {
          "F": 24932.88,
          "G": "m3",
          "__ECDF": 0.8620689655172413
         },
         {
          "F": 31089.68,
          "G": "m3",
          "__ECDF": 0.8620689655172413
         },
         {
          "F": 31089.68,
          "G": "m3",
          "__ECDF": 0.896551724137931
         },
         {
          "F": 34021.32,
          "G": "m3",
          "__ECDF": 0.896551724137931
         },
         {
          "F": 34021.32,
          "G": "m3",
          "__ECDF": 0.9310344827586207
         },
         {
          "F": 34486.33,
          "G": "m3",
          "__ECDF": 0.9310344827586207
         },
         {
          "F": 34486.33,
          "G": "m3",
          "__ECDF": 0.9655172413793104
         },
         {
          "F": 43198.42,
          "G": "m3",
          "__ECDF": 0.9655172413793104
         },
         {
          "F": 43198.42,
          "G": "m3",
          "__ECDF": 1
         },
         {
          "F": 45333.73614,
          "G": "m3",
          "__ECDF": 1
         },
         {
          "F": -1643.2189400000004,
          "G": "sc",
          "__ECDF": 0
         },
         {
          "F": 492.0972,
          "G": "sc",
          "__ECDF": 0
         },
         {
          "F": 492.0972,
          "G": "sc",
          "__ECDF": 0.03571428571428571
         },
         {
          "F": 654.714,
          "G": "sc",
          "__ECDF": 0.03571428571428571
         },
         {
          "F": 654.714,
          "G": "sc",
          "__ECDF": 0.07142857142857142
         },
         {
          "F": 1060.197,
          "G": "sc",
          "__ECDF": 0.07142857142857142
         },
         {
          "F": 1060.197,
          "G": "sc",
          "__ECDF": 0.10714285714285714
         },
         {
          "F": 1089.028,
          "G": "sc",
          "__ECDF": 0.10714285714285714
         },
         {
          "F": 1089.028,
          "G": "sc",
          "__ECDF": 0.14285714285714285
         },
         {
          "F": 1136.737,
          "G": "sc",
          "__ECDF": 0.14285714285714285
         },
         {
          "F": 1136.737,
          "G": "sc",
          "__ECDF": 0.17857142857142858
         },
         {
          "F": 1298.547,
          "G": "sc",
          "__ECDF": 0.17857142857142858
         },
         {
          "F": 1298.547,
          "G": "sc",
          "__ECDF": 0.21428571428571427
         },
         {
          "F": 1321.293,
          "G": "sc",
          "__ECDF": 0.21428571428571427
         },
         {
          "F": 1321.293,
          "G": "sc",
          "__ECDF": 0.25
         },
         {
          "F": 1442.433,
          "G": "sc",
          "__ECDF": 0.25
         },
         {
          "F": 1442.433,
          "G": "sc",
          "__ECDF": 0.2857142857142857
         },
         {
          "F": 1478.777,
          "G": "sc",
          "__ECDF": 0.2857142857142857
         },
         {
          "F": 1478.777,
          "G": "sc",
          "__ECDF": 0.32142857142857145
         },
         {
          "F": 1482.843,
          "G": "sc",
          "__ECDF": 0.32142857142857145
         },
         {
          "F": 1482.843,
          "G": "sc",
          "__ECDF": 0.35714285714285715
         },
         {
          "F": 1511.991,
          "G": "sc",
          "__ECDF": 0.35714285714285715
         },
         {
          "F": 1511.991,
          "G": "sc",
          "__ECDF": 0.39285714285714285
         },
         {
          "F": 1540.458,
          "G": "sc",
          "__ECDF": 0.39285714285714285
         },
         {
          "F": 1540.458,
          "G": "sc",
          "__ECDF": 0.42857142857142855
         },
         {
          "F": 1551.396,
          "G": "sc",
          "__ECDF": 0.42857142857142855
         },
         {
          "F": 1551.396,
          "G": "sc",
          "__ECDF": 0.4642857142857143
         },
         {
          "F": 1682.306,
          "G": "sc",
          "__ECDF": 0.4642857142857143
         },
         {
          "F": 1682.306,
          "G": "sc",
          "__ECDF": 0.5
         },
         {
          "F": 1712.902,
          "G": "sc",
          "__ECDF": 0.5
         },
         {
          "F": 1712.902,
          "G": "sc",
          "__ECDF": 0.5357142857142857
         },
         {
          "F": 1851.253,
          "G": "sc",
          "__ECDF": 0.5357142857142857
         },
         {
          "F": 1851.253,
          "G": "sc",
          "__ECDF": 0.5714285714285714
         },
         {
          "F": 2018.864,
          "G": "sc",
          "__ECDF": 0.5714285714285714
         },
         {
          "F": 2018.864,
          "G": "sc",
          "__ECDF": 0.6071428571428571
         },
         {
          "F": 2131.59,
          "G": "sc",
          "__ECDF": 0.6071428571428571
         },
         {
          "F": 2131.59,
          "G": "sc",
          "__ECDF": 0.6428571428571429
         },
         {
          "F": 2584.733,
          "G": "sc",
          "__ECDF": 0.6428571428571429
         },
         {
          "F": 2584.733,
          "G": "sc",
          "__ECDF": 0.6785714285714286
         },
         {
          "F": 3134.334,
          "G": "sc",
          "__ECDF": 0.6785714285714286
         },
         {
          "F": 3134.334,
          "G": "sc",
          "__ECDF": 0.7142857142857143
         },
         {
          "F": 3485.557,
          "G": "sc",
          "__ECDF": 0.7142857142857143
         },
         {
          "F": 3485.557,
          "G": "sc",
          "__ECDF": 0.75
         },
         {
          "F": 4412.128,
          "G": "sc",
          "__ECDF": 0.75
         },
         {
          "F": 4412.128,
          "G": "sc",
          "__ECDF": 0.7857142857142857
         },
         {
          "F": 5128.18,
          "G": "sc",
          "__ECDF": 0.7857142857142857
         },
         {
          "F": 5128.18,
          "G": "sc",
          "__ECDF": 0.8214285714285714
         },
         {
          "F": 5540.317,
          "G": "sc",
          "__ECDF": 0.8214285714285714
         },
         {
          "F": 5540.317,
          "G": "sc",
          "__ECDF": 0.8571428571428571
         },
         {
          "F": 5701.043,
          "G": "sc",
          "__ECDF": 0.8571428571428571
         },
         {
          "F": 5701.043,
          "G": "sc",
          "__ECDF": 0.8928571428571429
         },
         {
          "F": 5801.691,
          "G": "sc",
          "__ECDF": 0.8928571428571429
         },
         {
          "F": 5801.691,
          "G": "sc",
          "__ECDF": 0.9285714285714286
         },
         {
          "F": 6798.146,
          "G": "sc",
          "__ECDF": 0.9285714285714286
         },
         {
          "F": 6798.146,
          "G": "sc",
          "__ECDF": 0.9642857142857143
         },
         {
          "F": 10686.91,
          "G": "sc",
          "__ECDF": 0.9642857142857143
         },
         {
          "F": 10686.91,
          "G": "sc",
          "__ECDF": 1
         },
         {
          "F": 45333.73614,
          "G": "sc",
          "__ECDF": 1
         },
         {
          "F": -1643.2189400000004,
          "G": "sk",
          "__ECDF": 0
         },
         {
          "F": 7242.744,
          "G": "sk",
          "__ECDF": 0
         },
         {
          "F": 7242.744,
          "G": "sk",
          "__ECDF": 0.038461538461538464
         },
         {
          "F": 8567.691,
          "G": "sk",
          "__ECDF": 0.038461538461538464
         },
         {
          "F": 8567.691,
          "G": "sk",
          "__ECDF": 0.07692307692307693
         },
         {
          "F": 8712.589,
          "G": "sk",
          "__ECDF": 0.07692307692307693
         },
         {
          "F": 8712.589,
          "G": "sk",
          "__ECDF": 0.11538461538461539
         },
         {
          "F": 8949.01,
          "G": "sk",
          "__ECDF": 0.11538461538461539
         },
         {
          "F": 8949.01,
          "G": "sk",
          "__ECDF": 0.15384615384615385
         },
         {
          "F": 8978.031,
          "G": "sk",
          "__ECDF": 0.15384615384615385
         },
         {
          "F": 8978.031,
          "G": "sk",
          "__ECDF": 0.19230769230769232
         },
         {
          "F": 9049.072,
          "G": "sk",
          "__ECDF": 0.19230769230769232
         },
         {
          "F": 9049.072,
          "G": "sk",
          "__ECDF": 0.23076923076923078
         },
         {
          "F": 9460.2,
          "G": "sk",
          "__ECDF": 0.23076923076923078
         },
         {
          "F": 9460.2,
          "G": "sk",
          "__ECDF": 0.2692307692307692
         },
         {
          "F": 9801.333,
          "G": "sk",
          "__ECDF": 0.2692307692307692
         },
         {
          "F": 9801.333,
          "G": "sk",
          "__ECDF": 0.3076923076923077
         },
         {
          "F": 10363.52,
          "G": "sk",
          "__ECDF": 0.3076923076923077
         },
         {
          "F": 10363.52,
          "G": "sk",
          "__ECDF": 0.34615384615384615
         },
         {
          "F": 10518.4,
          "G": "sk",
          "__ECDF": 0.34615384615384615
         },
         {
          "F": 10518.4,
          "G": "sk",
          "__ECDF": 0.38461538461538464
         },
         {
          "F": 11001.72,
          "G": "sk",
          "__ECDF": 0.38461538461538464
         },
         {
          "F": 11001.72,
          "G": "sk",
          "__ECDF": 0.4230769230769231
         },
         {
          "F": 11221.13,
          "G": "sk",
          "__ECDF": 0.4230769230769231
         },
         {
          "F": 11221.13,
          "G": "sk",
          "__ECDF": 0.46153846153846156
         },
         {
          "F": 11233.41,
          "G": "sk",
          "__ECDF": 0.46153846153846156
         },
         {
          "F": 11233.41,
          "G": "sk",
          "__ECDF": 0.5
         },
         {
          "F": 11561.47,
          "G": "sk",
          "__ECDF": 0.5
         },
         {
          "F": 11561.47,
          "G": "sk",
          "__ECDF": 0.5384615384615384
         },
         {
          "F": 11897.13,
          "G": "sk",
          "__ECDF": 0.5384615384615384
         },
         {
          "F": 11897.13,
          "G": "sk",
          "__ECDF": 0.5769230769230769
         },
         {
          "F": 12072.7,
          "G": "sk",
          "__ECDF": 0.5769230769230769
         },
         {
          "F": 12072.7,
          "G": "sk",
          "__ECDF": 0.6153846153846154
         },
         {
          "F": 12566.75,
          "G": "sk",
          "__ECDF": 0.6153846153846154
         },
         {
          "F": 12566.75,
          "G": "sk",
          "__ECDF": 0.6538461538461539
         },
         {
          "F": 12782.01,
          "G": "sk",
          "__ECDF": 0.6538461538461539
         },
         {
          "F": 12782.01,
          "G": "sk",
          "__ECDF": 0.6923076923076923
         },
         {
          "F": 12828.28,
          "G": "sk",
          "__ECDF": 0.6923076923076923
         },
         {
          "F": 12828.28,
          "G": "sk",
          "__ECDF": 0.7307692307692307
         },
         {
          "F": 13044.4,
          "G": "sk",
          "__ECDF": 0.7307692307692307
         },
         {
          "F": 13044.4,
          "G": "sk",
          "__ECDF": 0.7692307692307693
         },
         {
          "F": 13160.89,
          "G": "sk",
          "__ECDF": 0.7692307692307693
         },
         {
          "F": 13160.89,
          "G": "sk",
          "__ECDF": 0.8076923076923077
         },
         {
          "F": 13359.27,
          "G": "sk",
          "__ECDF": 0.8076923076923077
         },
         {
          "F": 13359.27,
          "G": "sk",
          "__ECDF": 0.8461538461538461
         },
         {
          "F": 13718.88,
          "G": "sk",
          "__ECDF": 0.8461538461538461
         },
         {
          "F": 13718.88,
          "G": "sk",
          "__ECDF": 0.8846153846153846
         },
         {
          "F": 14132.81,
          "G": "sk",
          "__ECDF": 0.8846153846153846
         },
         {
          "F": 14132.81,
          "G": "sk",
          "__ECDF": 0.9230769230769231
         },
         {
          "F": 14616.11,
          "G": "sk",
          "__ECDF": 0.9230769230769231
         },
         {
          "F": 14616.11,
          "G": "sk",
          "__ECDF": 0.9615384615384616
         },
         {
          "F": 16330.5,
          "G": "sk",
          "__ECDF": 0.9615384615384616
         },
         {
          "F": 16330.5,
          "G": "sk",
          "__ECDF": 1
         },
         {
          "F": 45333.73614,
          "G": "sk",
          "__ECDF": 1
         }
        ]
       },
       "hconcat": [
        {
         "data": {
          "name": "data-ea24a6adb936fb4dc9b14d6c6b685850"
         },
         "encoding": {
          "color": {
           "field": "G",
           "scale": {},
           "title": "Genotype",
           "type": "nominal"
          },
          "order": {
           "field": "F",
           "sort": "ascending",
           "type": "quantitative"
          },
          "x": {
           "field": "F",
           "scale": {
            "domain": [
             0,
             45000
            ]
           },
           "type": "quantitative"
          },
          "y": {
           "field": "__ECDF",
           "title": "ECDF",
           "type": "quantitative"
          }
         },
         "mark": {
          "type": "line"
         }
        },
        {
         "data": {
          "name": "data-7c26da0f89a45e7e85f6dfe1b17a2e5b"
         },
         "encoding": {
          "color": {
           "field": "G",
           "scale": {},
           "title": "Genotype",
           "type": "nominal"
          },
          "order": {
           "field": "F",
           "sort": "ascending",
           "type": "quantitative"
          },
          "x": {
           "field": "F",
           "scale": {
            "domain": [
             0,
             45000
            ]
           },
           "type": "quantitative"
          },
          "y": {
           "field": "__ECDF",
           "title": "ECDF",
           "type": "quantitative"
          }
         },
         "mark": {
          "type": "line"
         }
        },
        {
         "data": {
          "name": "data-7968101a793eae384f3486dd9cd2f4a8"
         },
         "encoding": {
          "color": {
           "field": "G",
           "scale": {},
           "title": "Genotype",
           "type": "nominal"
          },
          "order": {
           "field": "F",
           "sort": "ascending",
           "type": "quantitative"
          },
          "x": {
           "field": "F",
           "scale": {
            "domain": [
             0,
             45000
            ]
           },
           "type": "quantitative"
          },
          "y": {
           "field": "__ECDF",
           "title": "ECDF",
           "type": "quantitative"
          }
         },
         "mark": {
          "type": "line"
         }
        }
       ]
      },
      "image/png": "[encoded data removed]",
      "text/plain": [
       "<VegaLite 2 object>\n",
       "\n",
       "If you see this message, it means the renderer has not been properly enabled\n",
       "for the frontend that you are using. For more information, see\n",
       "https://altair-viz.github.io/user_guide/troubleshooting.html\n"
      ]
     },
     "execution_count": 45,
     "metadata": {},
     "output_type": "execute_result"
    }
   ],
   "source": [
    "axis_scale = alt.Scale(domain=[0, 45000])\n",
    "\n",
    "p1 = altcat.catplot(data=df_tidy.loc[df_tidy['T'] == '15',:],\n",
    "               mark='line',\n",
    "               encoding=dict(x=alt.X('F:Q',scale=axis_scale),\n",
    "                             color=alt.Color('G:N', title='Genotype')),\n",
    "               transform='ecdf')\n",
    "\n",
    "p2 = altcat.catplot(data=df_tidy.loc[df_tidy['T'] == '20',:],\n",
    "               mark='line',\n",
    "               encoding=dict(x=alt.X('F:Q',scale=axis_scale),\n",
    "                             color=alt.Color('G:N', title='Genotype')),\n",
    "               transform='ecdf')\n",
    "\n",
    "p3 = altcat.catplot(data=df_tidy.loc[df_tidy['T'] == '25',:],\n",
    "               mark='line',\n",
    "               encoding=dict(x=alt.X('F:Q',scale=axis_scale),\n",
    "                             color=alt.Color('G:N', title='Genotype')),\n",
    "               transform='ecdf')\n",
    "\n",
    "p4 = altcat.catplot(data=df_tidy.loc[df_tidy['G'] == 'm3',:],\n",
    "               mark='line',\n",
    "               encoding=dict(x=alt.X('F:Q',scale=axis_scale),\n",
    "                             color=alt.Color('T:O', title='Temperature')),\n",
    "               transform='ecdf')\n",
    "\n",
    "p5 = altcat.catplot(data=df_tidy.loc[df_tidy['G'] == 'sc',:],\n",
    "               mark='line',\n",
    "               encoding=dict(x=alt.X('F:Q',scale=axis_scale),\n",
    "                             color=alt.Color('T:O', title='Temperature')),\n",
    "               transform='ecdf')\n",
    "\n",
    "p6 = altcat.catplot(data=df_tidy.loc[df_tidy['G'] == 'sk',:],\n",
    "               mark='line',\n",
    "               encoding=dict(x=alt.X('F:Q',scale=axis_scale),\n",
    "                             color=alt.Color('T:O', title='Temperature')),\n",
    "               transform='ecdf')\n",
    "\n",
    "p1|p2|p3"
   ]
  },
  {
   "cell_type": "code",
   "execution_count": 47,
   "metadata": {},
   "outputs": [
    {
     "data": {
      "application/vnd.vegalite.v2+json": {
       "$schema": "https://vega.github.io/schema/vega-lite/v2.6.0.json",
       "config": {
        "view": {
         "height": 300,
         "width": 400
        }
       },
       "datasets": {
        "data-26a283023fb881fcb9165e58f850f75c": [
         {
          "F": 1147.2818499999998,
          "T": "15",
          "__ECDF": 0
         },
         {
          "F": 3149.717,
          "T": "15",
          "__ECDF": 0
         },
         {
          "F": 3149.717,
          "T": "15",
          "__ECDF": 0.034482758620689655
         },
         {
          "F": 3880.93,
          "T": "15",
          "__ECDF": 0.034482758620689655
         },
         {
          "F": 3880.93,
          "T": "15",
          "__ECDF": 0.06896551724137931
         },
         {
          "F": 4634.488,
          "T": "15",
          "__ECDF": 0.06896551724137931
         },
         {
          "F": 4634.488,
          "T": "15",
          "__ECDF": 0.10344827586206896
         },
         {
          "F": 7395.207,
          "T": "15",
          "__ECDF": 0.10344827586206896
         },
         {
          "F": 7395.207,
          "T": "15",
          "__ECDF": 0.13793103448275862
         },
         {
          "F": 9429.343,
          "T": "15",
          "__ECDF": 0.13793103448275862
         },
         {
          "F": 9429.343,
          "T": "15",
          "__ECDF": 0.1724137931034483
         },
         {
          "F": 10373.52,
          "T": "15",
          "__ECDF": 0.1724137931034483
         },
         {
          "F": 10373.52,
          "T": "15",
          "__ECDF": 0.20689655172413793
         },
         {
          "F": 11121.24,
          "T": "15",
          "__ECDF": 0.20689655172413793
         },
         {
          "F": 11121.24,
          "T": "15",
          "__ECDF": 0.2413793103448276
         },
         {
          "F": 12793.59,
          "T": "15",
          "__ECDF": 0.2413793103448276
         },
         {
          "F": 12793.59,
          "T": "15",
          "__ECDF": 0.27586206896551724
         },
         {
          "F": 13684.36,
          "T": "15",
          "__ECDF": 0.27586206896551724
         },
         {
          "F": 13684.36,
          "T": "15",
          "__ECDF": 0.3103448275862069
         },
         {
          "F": 15568.76,
          "T": "15",
          "__ECDF": 0.3103448275862069
         },
         {
          "F": 15568.76,
          "T": "15",
          "__ECDF": 0.3448275862068966
         },
         {
          "F": 15876.82,
          "T": "15",
          "__ECDF": 0.3448275862068966
         },
         {
          "F": 15876.82,
          "T": "15",
          "__ECDF": 0.3793103448275862
         },
         {
          "F": 16756.28,
          "T": "15",
          "__ECDF": 0.3793103448275862
         },
         {
          "F": 16756.28,
          "T": "15",
          "__ECDF": 0.41379310344827586
         },
         {
          "F": 17062.84,
          "T": "15",
          "__ECDF": 0.41379310344827586
         },
         {
          "F": 17062.84,
          "T": "15",
          "__ECDF": 0.4482758620689655
         },
         {
          "F": 18178.44,
          "T": "15",
          "__ECDF": 0.4482758620689655
         },
         {
          "F": 18178.44,
          "T": "15",
          "__ECDF": 0.4827586206896552
         },
         {
          "F": 18265.88,
          "T": "15",
          "__ECDF": 0.4827586206896552
         },
         {
          "F": 18265.88,
          "T": "15",
          "__ECDF": 0.5172413793103449
         },
         {
          "F": 20017.14,
          "T": "15",
          "__ECDF": 0.5172413793103449
         },
         {
          "F": 20017.14,
          "T": "15",
          "__ECDF": 0.5517241379310345
         },
         {
          "F": 20376.3,
          "T": "15",
          "__ECDF": 0.5517241379310345
         },
         {
          "F": 20376.3,
          "T": "15",
          "__ECDF": 0.5862068965517241
         },
         {
          "F": 20722.62,
          "T": "15",
          "__ECDF": 0.5862068965517241
         },
         {
          "F": 20722.62,
          "T": "15",
          "__ECDF": 0.6206896551724138
         },
         {
          "F": 20820.26,
          "T": "15",
          "__ECDF": 0.6206896551724138
         },
         {
          "F": 20820.26,
          "T": "15",
          "__ECDF": 0.6551724137931034
         },
         {
          "F": 21703.44,
          "T": "15",
          "__ECDF": 0.6551724137931034
         },
         {
          "F": 21703.44,
          "T": "15",
          "__ECDF": 0.6896551724137931
         },
         {
          "F": 21707.12,
          "T": "15",
          "__ECDF": 0.6896551724137931
         },
         {
          "F": 21707.12,
          "T": "15",
          "__ECDF": 0.7241379310344828
         },
         {
          "F": 21750.27,
          "T": "15",
          "__ECDF": 0.7241379310344828
         },
         {
          "F": 21750.27,
          "T": "15",
          "__ECDF": 0.7586206896551724
         },
         {
          "F": 22510.41,
          "T": "15",
          "__ECDF": 0.7586206896551724
         },
         {
          "F": 22510.41,
          "T": "15",
          "__ECDF": 0.7931034482758621
         },
         {
          "F": 24028.75,
          "T": "15",
          "__ECDF": 0.7931034482758621
         },
         {
          "F": 24028.75,
          "T": "15",
          "__ECDF": 0.8275862068965517
         },
         {
          "F": 24932.88,
          "T": "15",
          "__ECDF": 0.8275862068965517
         },
         {
          "F": 24932.88,
          "T": "15",
          "__ECDF": 0.8620689655172413
         },
         {
          "F": 31089.68,
          "T": "15",
          "__ECDF": 0.8620689655172413
         },
         {
          "F": 31089.68,
          "T": "15",
          "__ECDF": 0.896551724137931
         },
         {
          "F": 34021.32,
          "T": "15",
          "__ECDF": 0.896551724137931
         },
         {
          "F": 34021.32,
          "T": "15",
          "__ECDF": 0.9310344827586207
         },
         {
          "F": 34486.33,
          "T": "15",
          "__ECDF": 0.9310344827586207
         },
         {
          "F": 34486.33,
          "T": "15",
          "__ECDF": 0.9655172413793104
         },
         {
          "F": 43198.42,
          "T": "15",
          "__ECDF": 0.9655172413793104
         },
         {
          "F": 43198.42,
          "T": "15",
          "__ECDF": 1
         },
         {
          "F": 45200.855149999996,
          "T": "15",
          "__ECDF": 1
         },
         {
          "F": 1147.2818499999998,
          "T": "20",
          "__ECDF": 0
         },
         {
          "F": 5616.583,
          "T": "20",
          "__ECDF": 0
         },
         {
          "F": 5616.583,
          "T": "20",
          "__ECDF": 0.037037037037037035
         },
         {
          "F": 8350.16,
          "T": "20",
          "__ECDF": 0.037037037037037035
         },
         {
          "F": 8350.16,
          "T": "20",
          "__ECDF": 0.07407407407407407
         },
         {
          "F": 8404.338,
          "T": "20",
          "__ECDF": 0.07407407407407407
         },
         {
          "F": 8404.338,
          "T": "20",
          "__ECDF": 0.1111111111111111
         },
         {
          "F": 9851.121,
          "T": "20",
          "__ECDF": 0.1111111111111111
         },
         {
          "F": 9851.121,
          "T": "20",
          "__ECDF": 0.14814814814814814
         },
         {
          "F": 10092.92,
          "T": "20",
          "__ECDF": 0.14814814814814814
         },
         {
          "F": 10092.92,
          "T": "20",
          "__ECDF": 0.18518518518518517
         },
         {
          "F": 10095.31,
          "T": "20",
          "__ECDF": 0.18518518518518517
         },
         {
          "F": 10095.31,
          "T": "20",
          "__ECDF": 0.2222222222222222
         },
         {
          "F": 10261.6,
          "T": "20",
          "__ECDF": 0.2222222222222222
         },
         {
          "F": 10261.6,
          "T": "20",
          "__ECDF": 0.25925925925925924
         },
         {
          "F": 10938.8,
          "T": "20",
          "__ECDF": 0.25925925925925924
         },
         {
          "F": 10938.8,
          "T": "20",
          "__ECDF": 0.2962962962962963
         },
         {
          "F": 11349.04,
          "T": "20",
          "__ECDF": 0.2962962962962963
         },
         {
          "F": 11349.04,
          "T": "20",
          "__ECDF": 0.3333333333333333
         },
         {
          "F": 11383.33,
          "T": "20",
          "__ECDF": 0.3333333333333333
         },
         {
          "F": 11383.33,
          "T": "20",
          "__ECDF": 0.37037037037037035
         },
         {
          "F": 11444.18,
          "T": "20",
          "__ECDF": 0.37037037037037035
         },
         {
          "F": 11444.18,
          "T": "20",
          "__ECDF": 0.4074074074074074
         },
         {
          "F": 11703.01,
          "T": "20",
          "__ECDF": 0.4074074074074074
         },
         {
          "F": 11703.01,
          "T": "20",
          "__ECDF": 0.4444444444444444
         },
         {
          "F": 12594.02,
          "T": "20",
          "__ECDF": 0.4444444444444444
         },
         {
          "F": 12594.02,
          "T": "20",
          "__ECDF": 0.48148148148148145
         },
         {
          "F": 12839.65,
          "T": "20",
          "__ECDF": 0.48148148148148145
         },
         {
          "F": 12839.65,
          "T": "20",
          "__ECDF": 0.5185185185185185
         },
         {
          "F": 13687.15,
          "T": "20",
          "__ECDF": 0.5185185185185185
         },
         {
          "F": 13687.15,
          "T": "20",
          "__ECDF": 0.5555555555555556
         },
         {
          "F": 14445.49,
          "T": "20",
          "__ECDF": 0.5555555555555556
         },
         {
          "F": 14445.49,
          "T": "20",
          "__ECDF": 0.5925925925925926
         },
         {
          "F": 14456.7,
          "T": "20",
          "__ECDF": 0.5925925925925926
         },
         {
          "F": 14456.7,
          "T": "20",
          "__ECDF": 0.6296296296296297
         },
         {
          "F": 15120.23,
          "T": "20",
          "__ECDF": 0.6296296296296297
         },
         {
          "F": 15120.23,
          "T": "20",
          "__ECDF": 0.6666666666666666
         },
         {
          "F": 15341.68,
          "T": "20",
          "__ECDF": 0.6666666666666666
         },
         {
          "F": 15341.68,
          "T": "20",
          "__ECDF": 0.7037037037037037
         },
         {
          "F": 15657.5,
          "T": "20",
          "__ECDF": 0.7037037037037037
         },
         {
          "F": 15657.5,
          "T": "20",
          "__ECDF": 0.7407407407407407
         },
         {
          "F": 17025.58,
          "T": "20",
          "__ECDF": 0.7407407407407407
         },
         {
          "F": 17025.58,
          "T": "20",
          "__ECDF": 0.7777777777777778
         },
         {
          "F": 17079.49,
          "T": "20",
          "__ECDF": 0.7777777777777778
         },
         {
          "F": 17079.49,
          "T": "20",
          "__ECDF": 0.8148148148148148
         },
         {
          "F": 17499.83,
          "T": "20",
          "__ECDF": 0.8148148148148148
         },
         {
          "F": 17499.83,
          "T": "20",
          "__ECDF": 0.8518518518518519
         },
         {
          "F": 19347.14,
          "T": "20",
          "__ECDF": 0.8518518518518519
         },
         {
          "F": 19347.14,
          "T": "20",
          "__ECDF": 0.8888888888888888
         },
         {
          "F": 22372.43,
          "T": "20",
          "__ECDF": 0.8888888888888888
         },
         {
          "F": 22372.43,
          "T": "20",
          "__ECDF": 0.9259259259259259
         },
         {
          "F": 22479.83,
          "T": "20",
          "__ECDF": 0.9259259259259259
         },
         {
          "F": 22479.83,
          "T": "20",
          "__ECDF": 0.9629629629629629
         },
         {
          "F": 33739.14,
          "T": "20",
          "__ECDF": 0.9629629629629629
         },
         {
          "F": 33739.14,
          "T": "20",
          "__ECDF": 1
         },
         {
          "F": 45200.855149999996,
          "T": "20",
          "__ECDF": 1
         },
         {
          "F": 1147.2818499999998,
          "T": "25",
          "__ECDF": 0
         },
         {
          "F": 7709.297,
          "T": "25",
          "__ECDF": 0
         },
         {
          "F": 7709.297,
          "T": "25",
          "__ECDF": 0.038461538461538464
         },
         {
          "F": 11297.41,
          "T": "25",
          "__ECDF": 0.038461538461538464
         },
         {
          "F": 11297.41,
          "T": "25",
          "__ECDF": 0.07692307692307693
         },
         {
          "F": 11876.02,
          "T": "25",
          "__ECDF": 0.07692307692307693
         },
         {
          "F": 11876.02,
          "T": "25",
          "__ECDF": 0.11538461538461539
         },
         {
          "F": 12071.33,
          "T": "25",
          "__ECDF": 0.11538461538461539
         },
         {
          "F": 12071.33,
          "T": "25",
          "__ECDF": 0.15384615384615385
         },
         {
          "F": 12140.31,
          "T": "25",
          "__ECDF": 0.15384615384615385
         },
         {
          "F": 12140.31,
          "T": "25",
          "__ECDF": 0.19230769230769232
         },
         {
          "F": 12173.06,
          "T": "25",
          "__ECDF": 0.19230769230769232
         },
         {
          "F": 12173.06,
          "T": "25",
          "__ECDF": 0.23076923076923078
         },
         {
          "F": 12538.9,
          "T": "25",
          "__ECDF": 0.23076923076923078
         },
         {
          "F": 12538.9,
          "T": "25",
          "__ECDF": 0.2692307692307692
         },
         {
          "F": 13168.06,
          "T": "25",
          "__ECDF": 0.2692307692307692
         },
         {
          "F": 13168.06,
          "T": "25",
          "__ECDF": 0.3076923076923077
         },
         {
          "F": 13274.08,
          "T": "25",
          "__ECDF": 0.3076923076923077
         },
         {
          "F": 13274.08,
          "T": "25",
          "__ECDF": 0.34615384615384615
         },
         {
          "F": 13393.35,
          "T": "25",
          "__ECDF": 0.34615384615384615
         },
         {
          "F": 13393.35,
          "T": "25",
          "__ECDF": 0.38461538461538464
         },
         {
          "F": 13470.66,
          "T": "25",
          "__ECDF": 0.38461538461538464
         },
         {
          "F": 13470.66,
          "T": "25",
          "__ECDF": 0.4230769230769231
         },
         {
          "F": 14180.11,
          "T": "25",
          "__ECDF": 0.4230769230769231
         },
         {
          "F": 14180.11,
          "T": "25",
          "__ECDF": 0.46153846153846156
         },
         {
          "F": 14285.94,
          "T": "25",
          "__ECDF": 0.46153846153846156
         },
         {
          "F": 14285.94,
          "T": "25",
          "__ECDF": 0.5
         },
         {
          "F": 14313.86,
          "T": "25",
          "__ECDF": 0.5
         },
         {
          "F": 14313.86,
          "T": "25",
          "__ECDF": 0.5384615384615384
         },
         {
          "F": 14487.56,
          "T": "25",
          "__ECDF": 0.5384615384615384
         },
         {
          "F": 14487.56,
          "T": "25",
          "__ECDF": 0.5769230769230769
         },
         {
          "F": 14544.24,
          "T": "25",
          "__ECDF": 0.5769230769230769
         },
         {
          "F": 14544.24,
          "T": "25",
          "__ECDF": 0.6153846153846154
         },
         {
          "F": 15379.37,
          "T": "25",
          "__ECDF": 0.6153846153846154
         },
         {
          "F": 15379.37,
          "T": "25",
          "__ECDF": 0.6538461538461539
         },
         {
          "F": 15535.85,
          "T": "25",
          "__ECDF": 0.6538461538461539
         },
         {
          "F": 15535.85,
          "T": "25",
          "__ECDF": 0.6923076923076923
         },
         {
          "F": 16043.45,
          "T": "25",
          "__ECDF": 0.6923076923076923
         },
         {
          "F": 16043.45,
          "T": "25",
          "__ECDF": 0.7307692307692307
         },
         {
          "F": 16187.48,
          "T": "25",
          "__ECDF": 0.7307692307692307
         },
         {
          "F": 16187.48,
          "T": "25",
          "__ECDF": 0.7692307692307693
         },
         {
          "F": 16636.82,
          "T": "25",
          "__ECDF": 0.7692307692307693
         },
         {
          "F": 16636.82,
          "T": "25",
          "__ECDF": 0.8076923076923077
         },
         {
          "F": 16896.31,
          "T": "25",
          "__ECDF": 0.8076923076923077
         },
         {
          "F": 16896.31,
          "T": "25",
          "__ECDF": 0.8461538461538461
         },
         {
          "F": 16991.49,
          "T": "25",
          "__ECDF": 0.8461538461538461
         },
         {
          "F": 16991.49,
          "T": "25",
          "__ECDF": 0.8846153846153846
         },
         {
          "F": 17073.8,
          "T": "25",
          "__ECDF": 0.8846153846153846
         },
         {
          "F": 17073.8,
          "T": "25",
          "__ECDF": 0.9230769230769231
         },
         {
          "F": 18034.93,
          "T": "25",
          "__ECDF": 0.9230769230769231
         },
         {
          "F": 18034.93,
          "T": "25",
          "__ECDF": 0.9615384615384616
         },
         {
          "F": 18205.84,
          "T": "25",
          "__ECDF": 0.9615384615384616
         },
         {
          "F": 18205.84,
          "T": "25",
          "__ECDF": 1
         },
         {
          "F": 45200.855149999996,
          "T": "25",
          "__ECDF": 1
         }
        ],
        "data-8b0a61fcafe69b99eab4bcd2ff1ef2ee": [
         {
          "F": 6096.728649999999,
          "T": "15",
          "__ECDF": 0
         },
         {
          "F": 7242.744,
          "T": "15",
          "__ECDF": 0
         },
         {
          "F": 7242.744,
          "T": "15",
          "__ECDF": 0.038461538461538464
         },
         {
          "F": 8567.691,
          "T": "15",
          "__ECDF": 0.038461538461538464
         },
         {
          "F": 8567.691,
          "T": "15",
          "__ECDF": 0.07692307692307693
         },
         {
          "F": 8712.589,
          "T": "15",
          "__ECDF": 0.07692307692307693
         },
         {
          "F": 8712.589,
          "T": "15",
          "__ECDF": 0.11538461538461539
         },
         {
          "F": 8949.01,
          "T": "15",
          "__ECDF": 0.11538461538461539
         },
         {
          "F": 8949.01,
          "T": "15",
          "__ECDF": 0.15384615384615385
         },
         {
          "F": 8978.031,
          "T": "15",
          "__ECDF": 0.15384615384615385
         },
         {
          "F": 8978.031,
          "T": "15",
          "__ECDF": 0.19230769230769232
         },
         {
          "F": 9049.072,
          "T": "15",
          "__ECDF": 0.19230769230769232
         },
         {
          "F": 9049.072,
          "T": "15",
          "__ECDF": 0.23076923076923078
         },
         {
          "F": 9460.2,
          "T": "15",
          "__ECDF": 0.23076923076923078
         },
         {
          "F": 9460.2,
          "T": "15",
          "__ECDF": 0.2692307692307692
         },
         {
          "F": 9801.333,
          "T": "15",
          "__ECDF": 0.2692307692307692
         },
         {
          "F": 9801.333,
          "T": "15",
          "__ECDF": 0.3076923076923077
         },
         {
          "F": 10363.52,
          "T": "15",
          "__ECDF": 0.3076923076923077
         },
         {
          "F": 10363.52,
          "T": "15",
          "__ECDF": 0.34615384615384615
         },
         {
          "F": 10518.4,
          "T": "15",
          "__ECDF": 0.34615384615384615
         },
         {
          "F": 10518.4,
          "T": "15",
          "__ECDF": 0.38461538461538464
         },
         {
          "F": 11001.72,
          "T": "15",
          "__ECDF": 0.38461538461538464
         },
         {
          "F": 11001.72,
          "T": "15",
          "__ECDF": 0.4230769230769231
         },
         {
          "F": 11221.13,
          "T": "15",
          "__ECDF": 0.4230769230769231
         },
         {
          "F": 11221.13,
          "T": "15",
          "__ECDF": 0.46153846153846156
         },
         {
          "F": 11233.41,
          "T": "15",
          "__ECDF": 0.46153846153846156
         },
         {
          "F": 11233.41,
          "T": "15",
          "__ECDF": 0.5
         },
         {
          "F": 11561.47,
          "T": "15",
          "__ECDF": 0.5
         },
         {
          "F": 11561.47,
          "T": "15",
          "__ECDF": 0.5384615384615384
         },
         {
          "F": 11897.13,
          "T": "15",
          "__ECDF": 0.5384615384615384
         },
         {
          "F": 11897.13,
          "T": "15",
          "__ECDF": 0.5769230769230769
         },
         {
          "F": 12072.7,
          "T": "15",
          "__ECDF": 0.5769230769230769
         },
         {
          "F": 12072.7,
          "T": "15",
          "__ECDF": 0.6153846153846154
         },
         {
          "F": 12566.75,
          "T": "15",
          "__ECDF": 0.6153846153846154
         },
         {
          "F": 12566.75,
          "T": "15",
          "__ECDF": 0.6538461538461539
         },
         {
          "F": 12782.01,
          "T": "15",
          "__ECDF": 0.6538461538461539
         },
         {
          "F": 12782.01,
          "T": "15",
          "__ECDF": 0.6923076923076923
         },
         {
          "F": 12828.28,
          "T": "15",
          "__ECDF": 0.6923076923076923
         },
         {
          "F": 12828.28,
          "T": "15",
          "__ECDF": 0.7307692307692307
         },
         {
          "F": 13044.4,
          "T": "15",
          "__ECDF": 0.7307692307692307
         },
         {
          "F": 13044.4,
          "T": "15",
          "__ECDF": 0.7692307692307693
         },
         {
          "F": 13160.89,
          "T": "15",
          "__ECDF": 0.7692307692307693
         },
         {
          "F": 13160.89,
          "T": "15",
          "__ECDF": 0.8076923076923077
         },
         {
          "F": 13359.27,
          "T": "15",
          "__ECDF": 0.8076923076923077
         },
         {
          "F": 13359.27,
          "T": "15",
          "__ECDF": 0.8461538461538461
         },
         {
          "F": 13718.88,
          "T": "15",
          "__ECDF": 0.8461538461538461
         },
         {
          "F": 13718.88,
          "T": "15",
          "__ECDF": 0.8846153846153846
         },
         {
          "F": 14132.81,
          "T": "15",
          "__ECDF": 0.8846153846153846
         },
         {
          "F": 14132.81,
          "T": "15",
          "__ECDF": 0.9230769230769231
         },
         {
          "F": 14616.11,
          "T": "15",
          "__ECDF": 0.9230769230769231
         },
         {
          "F": 14616.11,
          "T": "15",
          "__ECDF": 0.9615384615384616
         },
         {
          "F": 16330.5,
          "T": "15",
          "__ECDF": 0.9615384615384616
         },
         {
          "F": 16330.5,
          "T": "15",
          "__ECDF": 1
         },
         {
          "F": 24003.504350000003,
          "T": "15",
          "__ECDF": 1
         },
         {
          "F": 6096.728649999999,
          "T": "20",
          "__ECDF": 0
         },
         {
          "F": 12036.87,
          "T": "20",
          "__ECDF": 0
         },
         {
          "F": 12036.87,
          "T": "20",
          "__ECDF": 0.03333333333333333
         },
         {
          "F": 12345.97,
          "T": "20",
          "__ECDF": 0.03333333333333333
         },
         {
          "F": 12345.97,
          "T": "20",
          "__ECDF": 0.06666666666666667
         },
         {
          "F": 12394.32,
          "T": "20",
          "__ECDF": 0.06666666666666667
         },
         {
          "F": 12394.32,
          "T": "20",
          "__ECDF": 0.1
         },
         {
          "F": 12799.02,
          "T": "20",
          "__ECDF": 0.1
         },
         {
          "F": 12799.02,
          "T": "20",
          "__ECDF": 0.13333333333333333
         },
         {
          "F": 12867.4,
          "T": "20",
          "__ECDF": 0.13333333333333333
         },
         {
          "F": 12867.4,
          "T": "20",
          "__ECDF": 0.16666666666666666
         },
         {
          "F": 12879.88,
          "T": "20",
          "__ECDF": 0.16666666666666666
         },
         {
          "F": 12879.88,
          "T": "20",
          "__ECDF": 0.2
         },
         {
          "F": 13000.28,
          "T": "20",
          "__ECDF": 0.2
         },
         {
          "F": 13000.28,
          "T": "20",
          "__ECDF": 0.23333333333333334
         },
         {
          "F": 13311.52,
          "T": "20",
          "__ECDF": 0.23333333333333334
         },
         {
          "F": 13311.52,
          "T": "20",
          "__ECDF": 0.26666666666666666
         },
         {
          "F": 13344.14,
          "T": "20",
          "__ECDF": 0.26666666666666666
         },
         {
          "F": 13344.14,
          "T": "20",
          "__ECDF": 0.3
         },
         {
          "F": 13382.25,
          "T": "20",
          "__ECDF": 0.3
         },
         {
          "F": 13382.25,
          "T": "20",
          "__ECDF": 0.3333333333333333
         },
         {
          "F": 13616.94,
          "T": "20",
          "__ECDF": 0.3333333333333333
         },
         {
          "F": 13616.94,
          "T": "20",
          "__ECDF": 0.36666666666666664
         },
         {
          "F": 13734.49,
          "T": "20",
          "__ECDF": 0.36666666666666664
         },
         {
          "F": 13734.49,
          "T": "20",
          "__ECDF": 0.4
         },
         {
          "F": 14094.44,
          "T": "20",
          "__ECDF": 0.4
         },
         {
          "F": 14094.44,
          "T": "20",
          "__ECDF": 0.43333333333333335
         },
         {
          "F": 14251.97,
          "T": "20",
          "__ECDF": 0.43333333333333335
         },
         {
          "F": 14251.97,
          "T": "20",
          "__ECDF": 0.4666666666666667
         },
         {
          "F": 14572.75,
          "T": "20",
          "__ECDF": 0.4666666666666667
         },
         {
          "F": 14572.75,
          "T": "20",
          "__ECDF": 0.5
         },
         {
          "F": 14639.85,
          "T": "20",
          "__ECDF": 0.5
         },
         {
          "F": 14639.85,
          "T": "20",
          "__ECDF": 0.5333333333333333
         },
         {
          "F": 15299.76,
          "T": "20",
          "__ECDF": 0.5333333333333333
         },
         {
          "F": 15299.76,
          "T": "20",
          "__ECDF": 0.5666666666666667
         },
         {
          "F": 15844.28,
          "T": "20",
          "__ECDF": 0.5666666666666667
         },
         {
          "F": 15844.28,
          "T": "20",
          "__ECDF": 0.6
         },
         {
          "F": 15956.94,
          "T": "20",
          "__ECDF": 0.6
         },
         {
          "F": 15956.94,
          "T": "20",
          "__ECDF": 0.6333333333333333
         },
         {
          "F": 15983.81,
          "T": "20",
          "__ECDF": 0.6333333333333333
         },
         {
          "F": 15983.81,
          "T": "20",
          "__ECDF": 0.6666666666666666
         },
         {
          "F": 16042.57,
          "T": "20",
          "__ECDF": 0.6666666666666666
         },
         {
          "F": 16042.57,
          "T": "20",
          "__ECDF": 0.7
         },
         {
          "F": 16076.1,
          "T": "20",
          "__ECDF": 0.7
         },
         {
          "F": 16076.1,
          "T": "20",
          "__ECDF": 0.7333333333333333
         },
         {
          "F": 16266.81,
          "T": "20",
          "__ECDF": 0.7333333333333333
         },
         {
          "F": 16266.81,
          "T": "20",
          "__ECDF": 0.7666666666666667
         },
         {
          "F": 16521.9,
          "T": "20",
          "__ECDF": 0.7666666666666667
         },
         {
          "F": 16521.9,
          "T": "20",
          "__ECDF": 0.8
         },
         {
          "F": 16677.19,
          "T": "20",
          "__ECDF": 0.8
         },
         {
          "F": 16677.19,
          "T": "20",
          "__ECDF": 0.8333333333333334
         },
         {
          "F": 17474.9,
          "T": "20",
          "__ECDF": 0.8333333333333334
         },
         {
          "F": 17474.9,
          "T": "20",
          "__ECDF": 0.8666666666666667
         },
         {
          "F": 18016.01,
          "T": "20",
          "__ECDF": 0.8666666666666667
         },
         {
          "F": 18016.01,
          "T": "20",
          "__ECDF": 0.9
         },
         {
          "F": 18307.6,
          "T": "20",
          "__ECDF": 0.9
         },
         {
          "F": 18307.6,
          "T": "20",
          "__ECDF": 0.9333333333333333
         },
         {
          "F": 18691.24,
          "T": "20",
          "__ECDF": 0.9333333333333333
         },
         {
          "F": 18691.24,
          "T": "20",
          "__ECDF": 0.9666666666666667
         },
         {
          "F": 19046.82,
          "T": "20",
          "__ECDF": 0.9666666666666667
         },
         {
          "F": 19046.82,
          "T": "20",
          "__ECDF": 1
         },
         {
          "F": 24003.504350000003,
          "T": "20",
          "__ECDF": 1
         },
         {
          "F": 6096.728649999999,
          "T": "25",
          "__ECDF": 0
         },
         {
          "F": 6910.673,
          "T": "25",
          "__ECDF": 0
         },
         {
          "F": 6910.673,
          "T": "25",
          "__ECDF": 0.03333333333333333
         },
         {
          "F": 14203.55,
          "T": "25",
          "__ECDF": 0.03333333333333333
         },
         {
          "F": 14203.55,
          "T": "25",
          "__ECDF": 0.06666666666666667
         },
         {
          "F": 14351.88,
          "T": "25",
          "__ECDF": 0.06666666666666667
         },
         {
          "F": 14351.88,
          "T": "25",
          "__ECDF": 0.1
         },
         {
          "F": 15992.75,
          "T": "25",
          "__ECDF": 0.1
         },
         {
          "F": 15992.75,
          "T": "25",
          "__ECDF": 0.13333333333333333
         },
         {
          "F": 16593.96,
          "T": "25",
          "__ECDF": 0.13333333333333333
         },
         {
          "F": 16593.96,
          "T": "25",
          "__ECDF": 0.16666666666666666
         },
         {
          "F": 16919.7,
          "T": "25",
          "__ECDF": 0.16666666666666666
         },
         {
          "F": 16919.7,
          "T": "25",
          "__ECDF": 0.2
         },
         {
          "F": 17609.13,
          "T": "25",
          "__ECDF": 0.2
         },
         {
          "F": 17609.13,
          "T": "25",
          "__ECDF": 0.23333333333333334
         },
         {
          "F": 17694.63,
          "T": "25",
          "__ECDF": 0.23333333333333334
         },
         {
          "F": 17694.63,
          "T": "25",
          "__ECDF": 0.26666666666666666
         },
         {
          "F": 17788.94,
          "T": "25",
          "__ECDF": 0.26666666666666666
         },
         {
          "F": 17788.94,
          "T": "25",
          "__ECDF": 0.3
         },
         {
          "F": 17811.23,
          "T": "25",
          "__ECDF": 0.3
         },
         {
          "F": 17811.23,
          "T": "25",
          "__ECDF": 0.3333333333333333
         },
         {
          "F": 17837.36,
          "T": "25",
          "__ECDF": 0.3333333333333333
         },
         {
          "F": 17837.36,
          "T": "25",
          "__ECDF": 0.36666666666666664
         },
         {
          "F": 18042.75,
          "T": "25",
          "__ECDF": 0.36666666666666664
         },
         {
          "F": 18042.75,
          "T": "25",
          "__ECDF": 0.4
         },
         {
          "F": 18062.91,
          "T": "25",
          "__ECDF": 0.4
         },
         {
          "F": 18062.91,
          "T": "25",
          "__ECDF": 0.43333333333333335
         },
         {
          "F": 19238.01,
          "T": "25",
          "__ECDF": 0.43333333333333335
         },
         {
          "F": 19238.01,
          "T": "25",
          "__ECDF": 0.4666666666666667
         },
         {
          "F": 19265.61,
          "T": "25",
          "__ECDF": 0.4666666666666667
         },
         {
          "F": 19265.61,
          "T": "25",
          "__ECDF": 0.5
         },
         {
          "F": 19314.24,
          "T": "25",
          "__ECDF": 0.5
         },
         {
          "F": 19314.24,
          "T": "25",
          "__ECDF": 0.5333333333333333
         },
         {
          "F": 19516.03,
          "T": "25",
          "__ECDF": 0.5333333333333333
         },
         {
          "F": 19516.03,
          "T": "25",
          "__ECDF": 0.5666666666666667
         },
         {
          "F": 19782.51,
          "T": "25",
          "__ECDF": 0.5666666666666667
         },
         {
          "F": 19782.51,
          "T": "25",
          "__ECDF": 0.6
         },
         {
          "F": 19882.63,
          "T": "25",
          "__ECDF": 0.6
         },
         {
          "F": 19882.63,
          "T": "25",
          "__ECDF": 0.6333333333333333
         },
         {
          "F": 20114.62,
          "T": "25",
          "__ECDF": 0.6333333333333333
         },
         {
          "F": 20114.62,
          "T": "25",
          "__ECDF": 0.6666666666666666
         },
         {
          "F": 20371.85,
          "T": "25",
          "__ECDF": 0.6666666666666666
         },
         {
          "F": 20371.85,
          "T": "25",
          "__ECDF": 0.7
         },
         {
          "F": 20526.22,
          "T": "25",
          "__ECDF": 0.7
         },
         {
          "F": 20526.22,
          "T": "25",
          "__ECDF": 0.7333333333333333
         },
         {
          "F": 20563.58,
          "T": "25",
          "__ECDF": 0.7333333333333333
         },
         {
          "F": 20563.58,
          "T": "25",
          "__ECDF": 0.7666666666666667
         },
         {
          "F": 20934.66,
          "T": "25",
          "__ECDF": 0.7666666666666667
         },
         {
          "F": 20934.66,
          "T": "25",
          "__ECDF": 0.8
         },
         {
          "F": 21371.72,
          "T": "25",
          "__ECDF": 0.8
         },
         {
          "F": 21371.72,
          "T": "25",
          "__ECDF": 0.8333333333333334
         },
         {
          "F": 21444.25,
          "T": "25",
          "__ECDF": 0.8333333333333334
         },
         {
          "F": 21444.25,
          "T": "25",
          "__ECDF": 0.8666666666666667
         },
         {
          "F": 21589.64,
          "T": "25",
          "__ECDF": 0.8666666666666667
         },
         {
          "F": 21589.64,
          "T": "25",
          "__ECDF": 0.9
         },
         {
          "F": 21836.05,
          "T": "25",
          "__ECDF": 0.9
         },
         {
          "F": 21836.05,
          "T": "25",
          "__ECDF": 0.9333333333333333
         },
         {
          "F": 22053.47,
          "T": "25",
          "__ECDF": 0.9333333333333333
         },
         {
          "F": 22053.47,
          "T": "25",
          "__ECDF": 0.9666666666666667
         },
         {
          "F": 23189.56,
          "T": "25",
          "__ECDF": 0.9666666666666667
         },
         {
          "F": 23189.56,
          "T": "25",
          "__ECDF": 1
         },
         {
          "F": 24003.504350000003,
          "T": "25",
          "__ECDF": 1
         }
        ],
        "data-db8c87c95afa42bc1bcb2d127246bf2c": [
         {
          "F": -455.1294400000001,
          "T": "15",
          "__ECDF": 0
         },
         {
          "F": 492.0972,
          "T": "15",
          "__ECDF": 0
         },
         {
          "F": 492.0972,
          "T": "15",
          "__ECDF": 0.03571428571428571
         },
         {
          "F": 654.714,
          "T": "15",
          "__ECDF": 0.03571428571428571
         },
         {
          "F": 654.714,
          "T": "15",
          "__ECDF": 0.07142857142857142
         },
         {
          "F": 1060.197,
          "T": "15",
          "__ECDF": 0.07142857142857142
         },
         {
          "F": 1060.197,
          "T": "15",
          "__ECDF": 0.10714285714285714
         },
         {
          "F": 1089.028,
          "T": "15",
          "__ECDF": 0.10714285714285714
         },
         {
          "F": 1089.028,
          "T": "15",
          "__ECDF": 0.14285714285714285
         },
         {
          "F": 1136.737,
          "T": "15",
          "__ECDF": 0.14285714285714285
         },
         {
          "F": 1136.737,
          "T": "15",
          "__ECDF": 0.17857142857142858
         },
         {
          "F": 1298.547,
          "T": "15",
          "__ECDF": 0.17857142857142858
         },
         {
          "F": 1298.547,
          "T": "15",
          "__ECDF": 0.21428571428571427
         },
         {
          "F": 1321.293,
          "T": "15",
          "__ECDF": 0.21428571428571427
         },
         {
          "F": 1321.293,
          "T": "15",
          "__ECDF": 0.25
         },
         {
          "F": 1442.433,
          "T": "15",
          "__ECDF": 0.25
         },
         {
          "F": 1442.433,
          "T": "15",
          "__ECDF": 0.2857142857142857
         },
         {
          "F": 1478.777,
          "T": "15",
          "__ECDF": 0.2857142857142857
         },
         {
          "F": 1478.777,
          "T": "15",
          "__ECDF": 0.32142857142857145
         },
         {
          "F": 1482.843,
          "T": "15",
          "__ECDF": 0.32142857142857145
         },
         {
          "F": 1482.843,
          "T": "15",
          "__ECDF": 0.35714285714285715
         },
         {
          "F": 1511.991,
          "T": "15",
          "__ECDF": 0.35714285714285715
         },
         {
          "F": 1511.991,
          "T": "15",
          "__ECDF": 0.39285714285714285
         },
         {
          "F": 1540.458,
          "T": "15",
          "__ECDF": 0.39285714285714285
         },
         {
          "F": 1540.458,
          "T": "15",
          "__ECDF": 0.42857142857142855
         },
         {
          "F": 1551.396,
          "T": "15",
          "__ECDF": 0.42857142857142855
         },
         {
          "F": 1551.396,
          "T": "15",
          "__ECDF": 0.4642857142857143
         },
         {
          "F": 1682.306,
          "T": "15",
          "__ECDF": 0.4642857142857143
         },
         {
          "F": 1682.306,
          "T": "15",
          "__ECDF": 0.5
         },
         {
          "F": 1712.902,
          "T": "15",
          "__ECDF": 0.5
         },
         {
          "F": 1712.902,
          "T": "15",
          "__ECDF": 0.5357142857142857
         },
         {
          "F": 1851.253,
          "T": "15",
          "__ECDF": 0.5357142857142857
         },
         {
          "F": 1851.253,
          "T": "15",
          "__ECDF": 0.5714285714285714
         },
         {
          "F": 2018.864,
          "T": "15",
          "__ECDF": 0.5714285714285714
         },
         {
          "F": 2018.864,
          "T": "15",
          "__ECDF": 0.6071428571428571
         },
         {
          "F": 2131.59,
          "T": "15",
          "__ECDF": 0.6071428571428571
         },
         {
          "F": 2131.59,
          "T": "15",
          "__ECDF": 0.6428571428571429
         },
         {
          "F": 2584.733,
          "T": "15",
          "__ECDF": 0.6428571428571429
         },
         {
          "F": 2584.733,
          "T": "15",
          "__ECDF": 0.6785714285714286
         },
         {
          "F": 3134.334,
          "T": "15",
          "__ECDF": 0.6785714285714286
         },
         {
          "F": 3134.334,
          "T": "15",
          "__ECDF": 0.7142857142857143
         },
         {
          "F": 3485.557,
          "T": "15",
          "__ECDF": 0.7142857142857143
         },
         {
          "F": 3485.557,
          "T": "15",
          "__ECDF": 0.75
         },
         {
          "F": 4412.128,
          "T": "15",
          "__ECDF": 0.75
         },
         {
          "F": 4412.128,
          "T": "15",
          "__ECDF": 0.7857142857142857
         },
         {
          "F": 5128.18,
          "T": "15",
          "__ECDF": 0.7857142857142857
         },
         {
          "F": 5128.18,
          "T": "15",
          "__ECDF": 0.8214285714285714
         },
         {
          "F": 5540.317,
          "T": "15",
          "__ECDF": 0.8214285714285714
         },
         {
          "F": 5540.317,
          "T": "15",
          "__ECDF": 0.8571428571428571
         },
         {
          "F": 5701.043,
          "T": "15",
          "__ECDF": 0.8571428571428571
         },
         {
          "F": 5701.043,
          "T": "15",
          "__ECDF": 0.8928571428571429
         },
         {
          "F": 5801.691,
          "T": "15",
          "__ECDF": 0.8928571428571429
         },
         {
          "F": 5801.691,
          "T": "15",
          "__ECDF": 0.9285714285714286
         },
         {
          "F": 6798.146,
          "T": "15",
          "__ECDF": 0.9285714285714286
         },
         {
          "F": 6798.146,
          "T": "15",
          "__ECDF": 0.9642857142857143
         },
         {
          "F": 10686.91,
          "T": "15",
          "__ECDF": 0.9642857142857143
         },
         {
          "F": 10686.91,
          "T": "15",
          "__ECDF": 1
         },
         {
          "F": 20383.85664,
          "T": "15",
          "__ECDF": 1
         },
         {
          "F": -455.1294400000001,
          "T": "20",
          "__ECDF": 0
         },
         {
          "F": 1042.452,
          "T": "20",
          "__ECDF": 0
         },
         {
          "F": 1042.452,
          "T": "20",
          "__ECDF": 0.045454545454545456
         },
         {
          "F": 1312.233,
          "T": "20",
          "__ECDF": 0.045454545454545456
         },
         {
          "F": 1312.233,
          "T": "20",
          "__ECDF": 0.09090909090909091
         },
         {
          "F": 1526.974,
          "T": "20",
          "__ECDF": 0.09090909090909091
         },
         {
          "F": 1526.974,
          "T": "20",
          "__ECDF": 0.13636363636363635
         },
         {
          "F": 1532.901,
          "T": "20",
          "__ECDF": 0.13636363636363635
         },
         {
          "F": 1532.901,
          "T": "20",
          "__ECDF": 0.18181818181818182
         },
         {
          "F": 1572.569,
          "T": "20",
          "__ECDF": 0.18181818181818182
         },
         {
          "F": 1572.569,
          "T": "20",
          "__ECDF": 0.22727272727272727
         },
         {
          "F": 1817.321,
          "T": "20",
          "__ECDF": 0.22727272727272727
         },
         {
          "F": 1817.321,
          "T": "20",
          "__ECDF": 0.2727272727272727
         },
         {
          "F": 1888.596,
          "T": "20",
          "__ECDF": 0.2727272727272727
         },
         {
          "F": 1888.596,
          "T": "20",
          "__ECDF": 0.3181818181818182
         },
         {
          "F": 2357.752,
          "T": "20",
          "__ECDF": 0.3181818181818182
         },
         {
          "F": 2357.752,
          "T": "20",
          "__ECDF": 0.36363636363636365
         },
         {
          "F": 2737.135,
          "T": "20",
          "__ECDF": 0.36363636363636365
         },
         {
          "F": 2737.135,
          "T": "20",
          "__ECDF": 0.4090909090909091
         },
         {
          "F": 3107.02,
          "T": "20",
          "__ECDF": 0.4090909090909091
         },
         {
          "F": 3107.02,
          "T": "20",
          "__ECDF": 0.45454545454545453
         },
         {
          "F": 3448.003,
          "T": "20",
          "__ECDF": 0.45454545454545453
         },
         {
          "F": 3448.003,
          "T": "20",
          "__ECDF": 0.5
         },
         {
          "F": 3505.12,
          "T": "20",
          "__ECDF": 0.5
         },
         {
          "F": 3505.12,
          "T": "20",
          "__ECDF": 0.5454545454545454
         },
         {
          "F": 3643.21,
          "T": "20",
          "__ECDF": 0.5454545454545454
         },
         {
          "F": 3643.21,
          "T": "20",
          "__ECDF": 0.5909090909090909
         },
         {
          "F": 3796.529,
          "T": "20",
          "__ECDF": 0.5909090909090909
         },
         {
          "F": 3796.529,
          "T": "20",
          "__ECDF": 0.6363636363636364
         },
         {
          "F": 4758.537,
          "T": "20",
          "__ECDF": 0.6363636363636364
         },
         {
          "F": 4758.537,
          "T": "20",
          "__ECDF": 0.6818181818181818
         },
         {
          "F": 4816.29,
          "T": "20",
          "__ECDF": 0.6818181818181818
         },
         {
          "F": 4816.29,
          "T": "20",
          "__ECDF": 0.7272727272727273
         },
         {
          "F": 5757.599,
          "T": "20",
          "__ECDF": 0.7272727272727273
         },
         {
          "F": 5757.599,
          "T": "20",
          "__ECDF": 0.7727272727272727
         },
         {
          "F": 6818.986,
          "T": "20",
          "__ECDF": 0.7727272727272727
         },
         {
          "F": 6818.986,
          "T": "20",
          "__ECDF": 0.8181818181818182
         },
         {
          "F": 8119.87,
          "T": "20",
          "__ECDF": 0.8181818181818182
         },
         {
          "F": 8119.87,
          "T": "20",
          "__ECDF": 0.8636363636363636
         },
         {
          "F": 11756.49,
          "T": "20",
          "__ECDF": 0.8636363636363636
         },
         {
          "F": 11756.49,
          "T": "20",
          "__ECDF": 0.9090909090909091
         },
         {
          "F": 12185.36,
          "T": "20",
          "__ECDF": 0.9090909090909091
         },
         {
          "F": 12185.36,
          "T": "20",
          "__ECDF": 0.9545454545454546
         },
         {
          "F": 16331.43,
          "T": "20",
          "__ECDF": 0.9545454545454546
         },
         {
          "F": 16331.43,
          "T": "20",
          "__ECDF": 1
         },
         {
          "F": 20383.85664,
          "T": "20",
          "__ECDF": 1
         },
         {
          "F": -455.1294400000001,
          "T": "25",
          "__ECDF": 0
         },
         {
          "F": 8358.995,
          "T": "25",
          "__ECDF": 0
         },
         {
          "F": 8358.995,
          "T": "25",
          "__ECDF": 0.04
         },
         {
          "F": 9540.503,
          "T": "25",
          "__ECDF": 0.04
         },
         {
          "F": 9540.503,
          "T": "25",
          "__ECDF": 0.08
         },
         {
          "F": 11233.21,
          "T": "25",
          "__ECDF": 0.08
         },
         {
          "F": 11233.21,
          "T": "25",
          "__ECDF": 0.12
         },
         {
          "F": 12163.93,
          "T": "25",
          "__ECDF": 0.12
         },
         {
          "F": 12163.93,
          "T": "25",
          "__ECDF": 0.16
         },
         {
          "F": 12462.69,
          "T": "25",
          "__ECDF": 0.16
         },
         {
          "F": 12462.69,
          "T": "25",
          "__ECDF": 0.2
         },
         {
          "F": 12672.19,
          "T": "25",
          "__ECDF": 0.2
         },
         {
          "F": 12672.19,
          "T": "25",
          "__ECDF": 0.24
         },
         {
          "F": 13334.83,
          "T": "25",
          "__ECDF": 0.24
         },
         {
          "F": 13334.83,
          "T": "25",
          "__ECDF": 0.28
         },
         {
          "F": 13568.62,
          "T": "25",
          "__ECDF": 0.28
         },
         {
          "F": 13568.62,
          "T": "25",
          "__ECDF": 0.32
         },
         {
          "F": 13609.09,
          "T": "25",
          "__ECDF": 0.32
         },
         {
          "F": 13609.09,
          "T": "25",
          "__ECDF": 0.36
         },
         {
          "F": 13969.94,
          "T": "25",
          "__ECDF": 0.36
         },
         {
          "F": 13969.94,
          "T": "25",
          "__ECDF": 0.4
         },
         {
          "F": 14128.31,
          "T": "25",
          "__ECDF": 0.4
         },
         {
          "F": 14128.31,
          "T": "25",
          "__ECDF": 0.44
         },
         {
          "F": 14211.59,
          "T": "25",
          "__ECDF": 0.44
         },
         {
          "F": 14211.59,
          "T": "25",
          "__ECDF": 0.48
         },
         {
          "F": 14414.89,
          "T": "25",
          "__ECDF": 0.48
         },
         {
          "F": 14414.89,
          "T": "25",
          "__ECDF": 0.52
         },
         {
          "F": 14879.05,
          "T": "25",
          "__ECDF": 0.52
         },
         {
          "F": 14879.05,
          "T": "25",
          "__ECDF": 0.56
         },
         {
          "F": 14882.92,
          "T": "25",
          "__ECDF": 0.56
         },
         {
          "F": 14882.92,
          "T": "25",
          "__ECDF": 0.6
         },
         {
          "F": 15065.03,
          "T": "25",
          "__ECDF": 0.6
         },
         {
          "F": 15065.03,
          "T": "25",
          "__ECDF": 0.64
         },
         {
          "F": 15110.88,
          "T": "25",
          "__ECDF": 0.64
         },
         {
          "F": 15110.88,
          "T": "25",
          "__ECDF": 0.68
         },
         {
          "F": 15158.47,
          "T": "25",
          "__ECDF": 0.68
         },
         {
          "F": 15158.47,
          "T": "25",
          "__ECDF": 0.72
         },
         {
          "F": 15602.73,
          "T": "25",
          "__ECDF": 0.72
         },
         {
          "F": 15602.73,
          "T": "25",
          "__ECDF": 0.76
         },
         {
          "F": 15832.53,
          "T": "25",
          "__ECDF": 0.76
         },
         {
          "F": 15832.53,
          "T": "25",
          "__ECDF": 0.8
         },
         {
          "F": 16499.3,
          "T": "25",
          "__ECDF": 0.8
         },
         {
          "F": 16499.3,
          "T": "25",
          "__ECDF": 0.84
         },
         {
          "F": 16960.67,
          "T": "25",
          "__ECDF": 0.84
         },
         {
          "F": 16960.67,
          "T": "25",
          "__ECDF": 0.88
         },
         {
          "F": 17229.12,
          "T": "25",
          "__ECDF": 0.88
         },
         {
          "F": 17229.12,
          "T": "25",
          "__ECDF": 0.92
         },
         {
          "F": 17305.84,
          "T": "25",
          "__ECDF": 0.92
         },
         {
          "F": 17305.84,
          "T": "25",
          "__ECDF": 0.96
         },
         {
          "F": 19436.63,
          "T": "25",
          "__ECDF": 0.96
         },
         {
          "F": 19436.63,
          "T": "25",
          "__ECDF": 1
         },
         {
          "F": 20383.85664,
          "T": "25",
          "__ECDF": 1
         }
        ]
       },
       "hconcat": [
        {
         "data": {
          "name": "data-26a283023fb881fcb9165e58f850f75c"
         },
         "encoding": {
          "color": {
           "field": "T",
           "scale": {},
           "title": "Temperature",
           "type": "ordinal"
          },
          "order": {
           "field": "F",
           "sort": "ascending",
           "type": "quantitative"
          },
          "x": {
           "field": "F",
           "scale": {
            "domain": [
             0,
             45000
            ]
           },
           "type": "quantitative"
          },
          "y": {
           "field": "__ECDF",
           "title": "ECDF",
           "type": "quantitative"
          }
         },
         "mark": {
          "type": "line"
         }
        },
        {
         "data": {
          "name": "data-db8c87c95afa42bc1bcb2d127246bf2c"
         },
         "encoding": {
          "color": {
           "field": "T",
           "scale": {},
           "title": "Temperature",
           "type": "ordinal"
          },
          "order": {
           "field": "F",
           "sort": "ascending",
           "type": "quantitative"
          },
          "x": {
           "field": "F",
           "scale": {
            "domain": [
             0,
             45000
            ]
           },
           "type": "quantitative"
          },
          "y": {
           "field": "__ECDF",
           "title": "ECDF",
           "type": "quantitative"
          }
         },
         "mark": {
          "type": "line"
         }
        },
        {
         "data": {
          "name": "data-8b0a61fcafe69b99eab4bcd2ff1ef2ee"
         },
         "encoding": {
          "color": {
           "field": "T",
           "scale": {},
           "title": "Temperature",
           "type": "ordinal"
          },
          "order": {
           "field": "F",
           "sort": "ascending",
           "type": "quantitative"
          },
          "x": {
           "field": "F",
           "scale": {
            "domain": [
             0,
             45000
            ]
           },
           "type": "quantitative"
          },
          "y": {
           "field": "__ECDF",
           "title": "ECDF",
           "type": "quantitative"
          }
         },
         "mark": {
          "type": "line"
         }
        }
       ]
      },
      "image/png": "[encoded data removed]",
      "text/plain": [
       "<VegaLite 2 object>\n",
       "\n",
       "If you see this message, it means the renderer has not been properly enabled\n",
       "for the frontend that you are using. For more information, see\n",
       "https://altair-viz.github.io/user_guide/troubleshooting.html\n"
      ]
     },
     "execution_count": 47,
     "metadata": {},
     "output_type": "execute_result"
    }
   ],
   "source": [
    "p4|p5|p6"
   ]
  },
  {
   "cell_type": "code",
   "execution_count": 39,
   "metadata": {},
   "outputs": [
    {
     "data": {
      "application/vnd.vegalite.v2+json": {
       "$schema": "https://vega.github.io/schema/vega-lite/v2.6.0.json",
       "config": {
        "view": {
         "height": 300,
         "width": 400
        }
       },
       "data": {
        "name": "data-adbf9b06f8feef5a3e9b98923530dcf2"
       },
       "datasets": {
        "data-adbf9b06f8feef5a3e9b98923530dcf2": [
         {
          "Condition": "m315",
          "F": -1643.2189400000004,
          "__ECDF": 0
         },
         {
          "Condition": "m315",
          "F": 3149.717,
          "__ECDF": 0
         },
         {
          "Condition": "m315",
          "F": 3149.717,
          "__ECDF": 0.034482758620689655
         },
         {
          "Condition": "m315",
          "F": 3880.93,
          "__ECDF": 0.034482758620689655
         },
         {
          "Condition": "m315",
          "F": 3880.93,
          "__ECDF": 0.06896551724137931
         },
         {
          "Condition": "m315",
          "F": 4634.488,
          "__ECDF": 0.06896551724137931
         },
         {
          "Condition": "m315",
          "F": 4634.488,
          "__ECDF": 0.10344827586206896
         },
         {
          "Condition": "m315",
          "F": 7395.207,
          "__ECDF": 0.10344827586206896
         },
         {
          "Condition": "m315",
          "F": 7395.207,
          "__ECDF": 0.13793103448275862
         },
         {
          "Condition": "m315",
          "F": 9429.343,
          "__ECDF": 0.13793103448275862
         },
         {
          "Condition": "m315",
          "F": 9429.343,
          "__ECDF": 0.1724137931034483
         },
         {
          "Condition": "m315",
          "F": 10373.52,
          "__ECDF": 0.1724137931034483
         },
         {
          "Condition": "m315",
          "F": 10373.52,
          "__ECDF": 0.20689655172413793
         },
         {
          "Condition": "m315",
          "F": 11121.24,
          "__ECDF": 0.20689655172413793
         },
         {
          "Condition": "m315",
          "F": 11121.24,
          "__ECDF": 0.2413793103448276
         },
         {
          "Condition": "m315",
          "F": 12793.59,
          "__ECDF": 0.2413793103448276
         },
         {
          "Condition": "m315",
          "F": 12793.59,
          "__ECDF": 0.27586206896551724
         },
         {
          "Condition": "m315",
          "F": 13684.36,
          "__ECDF": 0.27586206896551724
         },
         {
          "Condition": "m315",
          "F": 13684.36,
          "__ECDF": 0.3103448275862069
         },
         {
          "Condition": "m315",
          "F": 15568.76,
          "__ECDF": 0.3103448275862069
         },
         {
          "Condition": "m315",
          "F": 15568.76,
          "__ECDF": 0.3448275862068966
         },
         {
          "Condition": "m315",
          "F": 15876.82,
          "__ECDF": 0.3448275862068966
         },
         {
          "Condition": "m315",
          "F": 15876.82,
          "__ECDF": 0.3793103448275862
         },
         {
          "Condition": "m315",
          "F": 16756.28,
          "__ECDF": 0.3793103448275862
         },
         {
          "Condition": "m315",
          "F": 16756.28,
          "__ECDF": 0.41379310344827586
         },
         {
          "Condition": "m315",
          "F": 17062.84,
          "__ECDF": 0.41379310344827586
         },
         {
          "Condition": "m315",
          "F": 17062.84,
          "__ECDF": 0.4482758620689655
         },
         {
          "Condition": "m315",
          "F": 18178.44,
          "__ECDF": 0.4482758620689655
         },
         {
          "Condition": "m315",
          "F": 18178.44,
          "__ECDF": 0.4827586206896552
         },
         {
          "Condition": "m315",
          "F": 18265.88,
          "__ECDF": 0.4827586206896552
         },
         {
          "Condition": "m315",
          "F": 18265.88,
          "__ECDF": 0.5172413793103449
         },
         {
          "Condition": "m315",
          "F": 20017.14,
          "__ECDF": 0.5172413793103449
         },
         {
          "Condition": "m315",
          "F": 20017.14,
          "__ECDF": 0.5517241379310345
         },
         {
          "Condition": "m315",
          "F": 20376.3,
          "__ECDF": 0.5517241379310345
         },
         {
          "Condition": "m315",
          "F": 20376.3,
          "__ECDF": 0.5862068965517241
         },
         {
          "Condition": "m315",
          "F": 20722.62,
          "__ECDF": 0.5862068965517241
         },
         {
          "Condition": "m315",
          "F": 20722.62,
          "__ECDF": 0.6206896551724138
         },
         {
          "Condition": "m315",
          "F": 20820.26,
          "__ECDF": 0.6206896551724138
         },
         {
          "Condition": "m315",
          "F": 20820.26,
          "__ECDF": 0.6551724137931034
         },
         {
          "Condition": "m315",
          "F": 21703.44,
          "__ECDF": 0.6551724137931034
         },
         {
          "Condition": "m315",
          "F": 21703.44,
          "__ECDF": 0.6896551724137931
         },
         {
          "Condition": "m315",
          "F": 21707.12,
          "__ECDF": 0.6896551724137931
         },
         {
          "Condition": "m315",
          "F": 21707.12,
          "__ECDF": 0.7241379310344828
         },
         {
          "Condition": "m315",
          "F": 21750.27,
          "__ECDF": 0.7241379310344828
         },
         {
          "Condition": "m315",
          "F": 21750.27,
          "__ECDF": 0.7586206896551724
         },
         {
          "Condition": "m315",
          "F": 22510.41,
          "__ECDF": 0.7586206896551724
         },
         {
          "Condition": "m315",
          "F": 22510.41,
          "__ECDF": 0.7931034482758621
         },
         {
          "Condition": "m315",
          "F": 24028.75,
          "__ECDF": 0.7931034482758621
         },
         {
          "Condition": "m315",
          "F": 24028.75,
          "__ECDF": 0.8275862068965517
         },
         {
          "Condition": "m315",
          "F": 24932.88,
          "__ECDF": 0.8275862068965517
         },
         {
          "Condition": "m315",
          "F": 24932.88,
          "__ECDF": 0.8620689655172413
         },
         {
          "Condition": "m315",
          "F": 31089.68,
          "__ECDF": 0.8620689655172413
         },
         {
          "Condition": "m315",
          "F": 31089.68,
          "__ECDF": 0.896551724137931
         },
         {
          "Condition": "m315",
          "F": 34021.32,
          "__ECDF": 0.896551724137931
         },
         {
          "Condition": "m315",
          "F": 34021.32,
          "__ECDF": 0.9310344827586207
         },
         {
          "Condition": "m315",
          "F": 34486.33,
          "__ECDF": 0.9310344827586207
         },
         {
          "Condition": "m315",
          "F": 34486.33,
          "__ECDF": 0.9655172413793104
         },
         {
          "Condition": "m315",
          "F": 43198.42,
          "__ECDF": 0.9655172413793104
         },
         {
          "Condition": "m315",
          "F": 43198.42,
          "__ECDF": 1
         },
         {
          "Condition": "m315",
          "F": 45333.73614,
          "__ECDF": 1
         },
         {
          "Condition": "m320",
          "F": -1643.2189400000004,
          "__ECDF": 0
         },
         {
          "Condition": "m320",
          "F": 5616.583,
          "__ECDF": 0
         },
         {
          "Condition": "m320",
          "F": 5616.583,
          "__ECDF": 0.037037037037037035
         },
         {
          "Condition": "m320",
          "F": 8350.16,
          "__ECDF": 0.037037037037037035
         },
         {
          "Condition": "m320",
          "F": 8350.16,
          "__ECDF": 0.07407407407407407
         },
         {
          "Condition": "m320",
          "F": 8404.338,
          "__ECDF": 0.07407407407407407
         },
         {
          "Condition": "m320",
          "F": 8404.338,
          "__ECDF": 0.1111111111111111
         },
         {
          "Condition": "m320",
          "F": 9851.121,
          "__ECDF": 0.1111111111111111
         },
         {
          "Condition": "m320",
          "F": 9851.121,
          "__ECDF": 0.14814814814814814
         },
         {
          "Condition": "m320",
          "F": 10092.92,
          "__ECDF": 0.14814814814814814
         },
         {
          "Condition": "m320",
          "F": 10092.92,
          "__ECDF": 0.18518518518518517
         },
         {
          "Condition": "m320",
          "F": 10095.31,
          "__ECDF": 0.18518518518518517
         },
         {
          "Condition": "m320",
          "F": 10095.31,
          "__ECDF": 0.2222222222222222
         },
         {
          "Condition": "m320",
          "F": 10261.6,
          "__ECDF": 0.2222222222222222
         },
         {
          "Condition": "m320",
          "F": 10261.6,
          "__ECDF": 0.25925925925925924
         },
         {
          "Condition": "m320",
          "F": 10938.8,
          "__ECDF": 0.25925925925925924
         },
         {
          "Condition": "m320",
          "F": 10938.8,
          "__ECDF": 0.2962962962962963
         },
         {
          "Condition": "m320",
          "F": 11349.04,
          "__ECDF": 0.2962962962962963
         },
         {
          "Condition": "m320",
          "F": 11349.04,
          "__ECDF": 0.3333333333333333
         },
         {
          "Condition": "m320",
          "F": 11383.33,
          "__ECDF": 0.3333333333333333
         },
         {
          "Condition": "m320",
          "F": 11383.33,
          "__ECDF": 0.37037037037037035
         },
         {
          "Condition": "m320",
          "F": 11444.18,
          "__ECDF": 0.37037037037037035
         },
         {
          "Condition": "m320",
          "F": 11444.18,
          "__ECDF": 0.4074074074074074
         },
         {
          "Condition": "m320",
          "F": 11703.01,
          "__ECDF": 0.4074074074074074
         },
         {
          "Condition": "m320",
          "F": 11703.01,
          "__ECDF": 0.4444444444444444
         },
         {
          "Condition": "m320",
          "F": 12594.02,
          "__ECDF": 0.4444444444444444
         },
         {
          "Condition": "m320",
          "F": 12594.02,
          "__ECDF": 0.48148148148148145
         },
         {
          "Condition": "m320",
          "F": 12839.65,
          "__ECDF": 0.48148148148148145
         },
         {
          "Condition": "m320",
          "F": 12839.65,
          "__ECDF": 0.5185185185185185
         },
         {
          "Condition": "m320",
          "F": 13687.15,
          "__ECDF": 0.5185185185185185
         },
         {
          "Condition": "m320",
          "F": 13687.15,
          "__ECDF": 0.5555555555555556
         },
         {
          "Condition": "m320",
          "F": 14445.49,
          "__ECDF": 0.5555555555555556
         },
         {
          "Condition": "m320",
          "F": 14445.49,
          "__ECDF": 0.5925925925925926
         },
         {
          "Condition": "m320",
          "F": 14456.7,
          "__ECDF": 0.5925925925925926
         },
         {
          "Condition": "m320",
          "F": 14456.7,
          "__ECDF": 0.6296296296296297
         },
         {
          "Condition": "m320",
          "F": 15120.23,
          "__ECDF": 0.6296296296296297
         },
         {
          "Condition": "m320",
          "F": 15120.23,
          "__ECDF": 0.6666666666666666
         },
         {
          "Condition": "m320",
          "F": 15341.68,
          "__ECDF": 0.6666666666666666
         },
         {
          "Condition": "m320",
          "F": 15341.68,
          "__ECDF": 0.7037037037037037
         },
         {
          "Condition": "m320",
          "F": 15657.5,
          "__ECDF": 0.7037037037037037
         },
         {
          "Condition": "m320",
          "F": 15657.5,
          "__ECDF": 0.7407407407407407
         },
         {
          "Condition": "m320",
          "F": 17025.58,
          "__ECDF": 0.7407407407407407
         },
         {
          "Condition": "m320",
          "F": 17025.58,
          "__ECDF": 0.7777777777777778
         },
         {
          "Condition": "m320",
          "F": 17079.49,
          "__ECDF": 0.7777777777777778
         },
         {
          "Condition": "m320",
          "F": 17079.49,
          "__ECDF": 0.8148148148148148
         },
         {
          "Condition": "m320",
          "F": 17499.83,
          "__ECDF": 0.8148148148148148
         },
         {
          "Condition": "m320",
          "F": 17499.83,
          "__ECDF": 0.8518518518518519
         },
         {
          "Condition": "m320",
          "F": 19347.14,
          "__ECDF": 0.8518518518518519
         },
         {
          "Condition": "m320",
          "F": 19347.14,
          "__ECDF": 0.8888888888888888
         },
         {
          "Condition": "m320",
          "F": 22372.43,
          "__ECDF": 0.8888888888888888
         },
         {
          "Condition": "m320",
          "F": 22372.43,
          "__ECDF": 0.9259259259259259
         },
         {
          "Condition": "m320",
          "F": 22479.83,
          "__ECDF": 0.9259259259259259
         },
         {
          "Condition": "m320",
          "F": 22479.83,
          "__ECDF": 0.9629629629629629
         },
         {
          "Condition": "m320",
          "F": 33739.14,
          "__ECDF": 0.9629629629629629
         },
         {
          "Condition": "m320",
          "F": 33739.14,
          "__ECDF": 1
         },
         {
          "Condition": "m320",
          "F": 45333.73614,
          "__ECDF": 1
         },
         {
          "Condition": "m325",
          "F": -1643.2189400000004,
          "__ECDF": 0
         },
         {
          "Condition": "m325",
          "F": 7709.297,
          "__ECDF": 0
         },
         {
          "Condition": "m325",
          "F": 7709.297,
          "__ECDF": 0.038461538461538464
         },
         {
          "Condition": "m325",
          "F": 11297.41,
          "__ECDF": 0.038461538461538464
         },
         {
          "Condition": "m325",
          "F": 11297.41,
          "__ECDF": 0.07692307692307693
         },
         {
          "Condition": "m325",
          "F": 11876.02,
          "__ECDF": 0.07692307692307693
         },
         {
          "Condition": "m325",
          "F": 11876.02,
          "__ECDF": 0.11538461538461539
         },
         {
          "Condition": "m325",
          "F": 12071.33,
          "__ECDF": 0.11538461538461539
         },
         {
          "Condition": "m325",
          "F": 12071.33,
          "__ECDF": 0.15384615384615385
         },
         {
          "Condition": "m325",
          "F": 12140.31,
          "__ECDF": 0.15384615384615385
         },
         {
          "Condition": "m325",
          "F": 12140.31,
          "__ECDF": 0.19230769230769232
         },
         {
          "Condition": "m325",
          "F": 12173.06,
          "__ECDF": 0.19230769230769232
         },
         {
          "Condition": "m325",
          "F": 12173.06,
          "__ECDF": 0.23076923076923078
         },
         {
          "Condition": "m325",
          "F": 12538.9,
          "__ECDF": 0.23076923076923078
         },
         {
          "Condition": "m325",
          "F": 12538.9,
          "__ECDF": 0.2692307692307692
         },
         {
          "Condition": "m325",
          "F": 13168.06,
          "__ECDF": 0.2692307692307692
         },
         {
          "Condition": "m325",
          "F": 13168.06,
          "__ECDF": 0.3076923076923077
         },
         {
          "Condition": "m325",
          "F": 13274.08,
          "__ECDF": 0.3076923076923077
         },
         {
          "Condition": "m325",
          "F": 13274.08,
          "__ECDF": 0.34615384615384615
         },
         {
          "Condition": "m325",
          "F": 13393.35,
          "__ECDF": 0.34615384615384615
         },
         {
          "Condition": "m325",
          "F": 13393.35,
          "__ECDF": 0.38461538461538464
         },
         {
          "Condition": "m325",
          "F": 13470.66,
          "__ECDF": 0.38461538461538464
         },
         {
          "Condition": "m325",
          "F": 13470.66,
          "__ECDF": 0.4230769230769231
         },
         {
          "Condition": "m325",
          "F": 14180.11,
          "__ECDF": 0.4230769230769231
         },
         {
          "Condition": "m325",
          "F": 14180.11,
          "__ECDF": 0.46153846153846156
         },
         {
          "Condition": "m325",
          "F": 14285.94,
          "__ECDF": 0.46153846153846156
         },
         {
          "Condition": "m325",
          "F": 14285.94,
          "__ECDF": 0.5
         },
         {
          "Condition": "m325",
          "F": 14313.86,
          "__ECDF": 0.5
         },
         {
          "Condition": "m325",
          "F": 14313.86,
          "__ECDF": 0.5384615384615384
         },
         {
          "Condition": "m325",
          "F": 14487.56,
          "__ECDF": 0.5384615384615384
         },
         {
          "Condition": "m325",
          "F": 14487.56,
          "__ECDF": 0.5769230769230769
         },
         {
          "Condition": "m325",
          "F": 14544.24,
          "__ECDF": 0.5769230769230769
         },
         {
          "Condition": "m325",
          "F": 14544.24,
          "__ECDF": 0.6153846153846154
         },
         {
          "Condition": "m325",
          "F": 15379.37,
          "__ECDF": 0.6153846153846154
         },
         {
          "Condition": "m325",
          "F": 15379.37,
          "__ECDF": 0.6538461538461539
         },
         {
          "Condition": "m325",
          "F": 15535.85,
          "__ECDF": 0.6538461538461539
         },
         {
          "Condition": "m325",
          "F": 15535.85,
          "__ECDF": 0.6923076923076923
         },
         {
          "Condition": "m325",
          "F": 16043.45,
          "__ECDF": 0.6923076923076923
         },
         {
          "Condition": "m325",
          "F": 16043.45,
          "__ECDF": 0.7307692307692307
         },
         {
          "Condition": "m325",
          "F": 16187.48,
          "__ECDF": 0.7307692307692307
         },
         {
          "Condition": "m325",
          "F": 16187.48,
          "__ECDF": 0.7692307692307693
         },
         {
          "Condition": "m325",
          "F": 16636.82,
          "__ECDF": 0.7692307692307693
         },
         {
          "Condition": "m325",
          "F": 16636.82,
          "__ECDF": 0.8076923076923077
         },
         {
          "Condition": "m325",
          "F": 16896.31,
          "__ECDF": 0.8076923076923077
         },
         {
          "Condition": "m325",
          "F": 16896.31,
          "__ECDF": 0.8461538461538461
         },
         {
          "Condition": "m325",
          "F": 16991.49,
          "__ECDF": 0.8461538461538461
         },
         {
          "Condition": "m325",
          "F": 16991.49,
          "__ECDF": 0.8846153846153846
         },
         {
          "Condition": "m325",
          "F": 17073.8,
          "__ECDF": 0.8846153846153846
         },
         {
          "Condition": "m325",
          "F": 17073.8,
          "__ECDF": 0.9230769230769231
         },
         {
          "Condition": "m325",
          "F": 18034.93,
          "__ECDF": 0.9230769230769231
         },
         {
          "Condition": "m325",
          "F": 18034.93,
          "__ECDF": 0.9615384615384616
         },
         {
          "Condition": "m325",
          "F": 18205.84,
          "__ECDF": 0.9615384615384616
         },
         {
          "Condition": "m325",
          "F": 18205.84,
          "__ECDF": 1
         },
         {
          "Condition": "m325",
          "F": 45333.73614,
          "__ECDF": 1
         },
         {
          "Condition": "sc15",
          "F": -1643.2189400000004,
          "__ECDF": 0
         },
         {
          "Condition": "sc15",
          "F": 492.0972,
          "__ECDF": 0
         },
         {
          "Condition": "sc15",
          "F": 492.0972,
          "__ECDF": 0.03571428571428571
         },
         {
          "Condition": "sc15",
          "F": 654.714,
          "__ECDF": 0.03571428571428571
         },
         {
          "Condition": "sc15",
          "F": 654.714,
          "__ECDF": 0.07142857142857142
         },
         {
          "Condition": "sc15",
          "F": 1060.197,
          "__ECDF": 0.07142857142857142
         },
         {
          "Condition": "sc15",
          "F": 1060.197,
          "__ECDF": 0.10714285714285714
         },
         {
          "Condition": "sc15",
          "F": 1089.028,
          "__ECDF": 0.10714285714285714
         },
         {
          "Condition": "sc15",
          "F": 1089.028,
          "__ECDF": 0.14285714285714285
         },
         {
          "Condition": "sc15",
          "F": 1136.737,
          "__ECDF": 0.14285714285714285
         },
         {
          "Condition": "sc15",
          "F": 1136.737,
          "__ECDF": 0.17857142857142858
         },
         {
          "Condition": "sc15",
          "F": 1298.547,
          "__ECDF": 0.17857142857142858
         },
         {
          "Condition": "sc15",
          "F": 1298.547,
          "__ECDF": 0.21428571428571427
         },
         {
          "Condition": "sc15",
          "F": 1321.293,
          "__ECDF": 0.21428571428571427
         },
         {
          "Condition": "sc15",
          "F": 1321.293,
          "__ECDF": 0.25
         },
         {
          "Condition": "sc15",
          "F": 1442.433,
          "__ECDF": 0.25
         },
         {
          "Condition": "sc15",
          "F": 1442.433,
          "__ECDF": 0.2857142857142857
         },
         {
          "Condition": "sc15",
          "F": 1478.777,
          "__ECDF": 0.2857142857142857
         },
         {
          "Condition": "sc15",
          "F": 1478.777,
          "__ECDF": 0.32142857142857145
         },
         {
          "Condition": "sc15",
          "F": 1482.843,
          "__ECDF": 0.32142857142857145
         },
         {
          "Condition": "sc15",
          "F": 1482.843,
          "__ECDF": 0.35714285714285715
         },
         {
          "Condition": "sc15",
          "F": 1511.991,
          "__ECDF": 0.35714285714285715
         },
         {
          "Condition": "sc15",
          "F": 1511.991,
          "__ECDF": 0.39285714285714285
         },
         {
          "Condition": "sc15",
          "F": 1540.458,
          "__ECDF": 0.39285714285714285
         },
         {
          "Condition": "sc15",
          "F": 1540.458,
          "__ECDF": 0.42857142857142855
         },
         {
          "Condition": "sc15",
          "F": 1551.396,
          "__ECDF": 0.42857142857142855
         },
         {
          "Condition": "sc15",
          "F": 1551.396,
          "__ECDF": 0.4642857142857143
         },
         {
          "Condition": "sc15",
          "F": 1682.306,
          "__ECDF": 0.4642857142857143
         },
         {
          "Condition": "sc15",
          "F": 1682.306,
          "__ECDF": 0.5
         },
         {
          "Condition": "sc15",
          "F": 1712.902,
          "__ECDF": 0.5
         },
         {
          "Condition": "sc15",
          "F": 1712.902,
          "__ECDF": 0.5357142857142857
         },
         {
          "Condition": "sc15",
          "F": 1851.253,
          "__ECDF": 0.5357142857142857
         },
         {
          "Condition": "sc15",
          "F": 1851.253,
          "__ECDF": 0.5714285714285714
         },
         {
          "Condition": "sc15",
          "F": 2018.864,
          "__ECDF": 0.5714285714285714
         },
         {
          "Condition": "sc15",
          "F": 2018.864,
          "__ECDF": 0.6071428571428571
         },
         {
          "Condition": "sc15",
          "F": 2131.59,
          "__ECDF": 0.6071428571428571
         },
         {
          "Condition": "sc15",
          "F": 2131.59,
          "__ECDF": 0.6428571428571429
         },
         {
          "Condition": "sc15",
          "F": 2584.733,
          "__ECDF": 0.6428571428571429
         },
         {
          "Condition": "sc15",
          "F": 2584.733,
          "__ECDF": 0.6785714285714286
         },
         {
          "Condition": "sc15",
          "F": 3134.334,
          "__ECDF": 0.6785714285714286
         },
         {
          "Condition": "sc15",
          "F": 3134.334,
          "__ECDF": 0.7142857142857143
         },
         {
          "Condition": "sc15",
          "F": 3485.557,
          "__ECDF": 0.7142857142857143
         },
         {
          "Condition": "sc15",
          "F": 3485.557,
          "__ECDF": 0.75
         },
         {
          "Condition": "sc15",
          "F": 4412.128,
          "__ECDF": 0.75
         },
         {
          "Condition": "sc15",
          "F": 4412.128,
          "__ECDF": 0.7857142857142857
         },
         {
          "Condition": "sc15",
          "F": 5128.18,
          "__ECDF": 0.7857142857142857
         },
         {
          "Condition": "sc15",
          "F": 5128.18,
          "__ECDF": 0.8214285714285714
         },
         {
          "Condition": "sc15",
          "F": 5540.317,
          "__ECDF": 0.8214285714285714
         },
         {
          "Condition": "sc15",
          "F": 5540.317,
          "__ECDF": 0.8571428571428571
         },
         {
          "Condition": "sc15",
          "F": 5701.043,
          "__ECDF": 0.8571428571428571
         },
         {
          "Condition": "sc15",
          "F": 5701.043,
          "__ECDF": 0.8928571428571429
         },
         {
          "Condition": "sc15",
          "F": 5801.691,
          "__ECDF": 0.8928571428571429
         },
         {
          "Condition": "sc15",
          "F": 5801.691,
          "__ECDF": 0.9285714285714286
         },
         {
          "Condition": "sc15",
          "F": 6798.146,
          "__ECDF": 0.9285714285714286
         },
         {
          "Condition": "sc15",
          "F": 6798.146,
          "__ECDF": 0.9642857142857143
         },
         {
          "Condition": "sc15",
          "F": 10686.91,
          "__ECDF": 0.9642857142857143
         },
         {
          "Condition": "sc15",
          "F": 10686.91,
          "__ECDF": 1
         },
         {
          "Condition": "sc15",
          "F": 45333.73614,
          "__ECDF": 1
         },
         {
          "Condition": "sc20",
          "F": -1643.2189400000004,
          "__ECDF": 0
         },
         {
          "Condition": "sc20",
          "F": 1042.452,
          "__ECDF": 0
         },
         {
          "Condition": "sc20",
          "F": 1042.452,
          "__ECDF": 0.045454545454545456
         },
         {
          "Condition": "sc20",
          "F": 1312.233,
          "__ECDF": 0.045454545454545456
         },
         {
          "Condition": "sc20",
          "F": 1312.233,
          "__ECDF": 0.09090909090909091
         },
         {
          "Condition": "sc20",
          "F": 1526.974,
          "__ECDF": 0.09090909090909091
         },
         {
          "Condition": "sc20",
          "F": 1526.974,
          "__ECDF": 0.13636363636363635
         },
         {
          "Condition": "sc20",
          "F": 1532.901,
          "__ECDF": 0.13636363636363635
         },
         {
          "Condition": "sc20",
          "F": 1532.901,
          "__ECDF": 0.18181818181818182
         },
         {
          "Condition": "sc20",
          "F": 1572.569,
          "__ECDF": 0.18181818181818182
         },
         {
          "Condition": "sc20",
          "F": 1572.569,
          "__ECDF": 0.22727272727272727
         },
         {
          "Condition": "sc20",
          "F": 1817.321,
          "__ECDF": 0.22727272727272727
         },
         {
          "Condition": "sc20",
          "F": 1817.321,
          "__ECDF": 0.2727272727272727
         },
         {
          "Condition": "sc20",
          "F": 1888.596,
          "__ECDF": 0.2727272727272727
         },
         {
          "Condition": "sc20",
          "F": 1888.596,
          "__ECDF": 0.3181818181818182
         },
         {
          "Condition": "sc20",
          "F": 2357.752,
          "__ECDF": 0.3181818181818182
         },
         {
          "Condition": "sc20",
          "F": 2357.752,
          "__ECDF": 0.36363636363636365
         },
         {
          "Condition": "sc20",
          "F": 2737.135,
          "__ECDF": 0.36363636363636365
         },
         {
          "Condition": "sc20",
          "F": 2737.135,
          "__ECDF": 0.4090909090909091
         },
         {
          "Condition": "sc20",
          "F": 3107.02,
          "__ECDF": 0.4090909090909091
         },
         {
          "Condition": "sc20",
          "F": 3107.02,
          "__ECDF": 0.45454545454545453
         },
         {
          "Condition": "sc20",
          "F": 3448.003,
          "__ECDF": 0.45454545454545453
         },
         {
          "Condition": "sc20",
          "F": 3448.003,
          "__ECDF": 0.5
         },
         {
          "Condition": "sc20",
          "F": 3505.12,
          "__ECDF": 0.5
         },
         {
          "Condition": "sc20",
          "F": 3505.12,
          "__ECDF": 0.5454545454545454
         },
         {
          "Condition": "sc20",
          "F": 3643.21,
          "__ECDF": 0.5454545454545454
         },
         {
          "Condition": "sc20",
          "F": 3643.21,
          "__ECDF": 0.5909090909090909
         },
         {
          "Condition": "sc20",
          "F": 3796.529,
          "__ECDF": 0.5909090909090909
         },
         {
          "Condition": "sc20",
          "F": 3796.529,
          "__ECDF": 0.6363636363636364
         },
         {
          "Condition": "sc20",
          "F": 4758.537,
          "__ECDF": 0.6363636363636364
         },
         {
          "Condition": "sc20",
          "F": 4758.537,
          "__ECDF": 0.6818181818181818
         },
         {
          "Condition": "sc20",
          "F": 4816.29,
          "__ECDF": 0.6818181818181818
         },
         {
          "Condition": "sc20",
          "F": 4816.29,
          "__ECDF": 0.7272727272727273
         },
         {
          "Condition": "sc20",
          "F": 5757.599,
          "__ECDF": 0.7272727272727273
         },
         {
          "Condition": "sc20",
          "F": 5757.599,
          "__ECDF": 0.7727272727272727
         },
         {
          "Condition": "sc20",
          "F": 6818.986,
          "__ECDF": 0.7727272727272727
         },
         {
          "Condition": "sc20",
          "F": 6818.986,
          "__ECDF": 0.8181818181818182
         },
         {
          "Condition": "sc20",
          "F": 8119.87,
          "__ECDF": 0.8181818181818182
         },
         {
          "Condition": "sc20",
          "F": 8119.87,
          "__ECDF": 0.8636363636363636
         },
         {
          "Condition": "sc20",
          "F": 11756.49,
          "__ECDF": 0.8636363636363636
         },
         {
          "Condition": "sc20",
          "F": 11756.49,
          "__ECDF": 0.9090909090909091
         },
         {
          "Condition": "sc20",
          "F": 12185.36,
          "__ECDF": 0.9090909090909091
         },
         {
          "Condition": "sc20",
          "F": 12185.36,
          "__ECDF": 0.9545454545454546
         },
         {
          "Condition": "sc20",
          "F": 16331.43,
          "__ECDF": 0.9545454545454546
         },
         {
          "Condition": "sc20",
          "F": 16331.43,
          "__ECDF": 1
         },
         {
          "Condition": "sc20",
          "F": 45333.73614,
          "__ECDF": 1
         },
         {
          "Condition": "sc25",
          "F": -1643.2189400000004,
          "__ECDF": 0
         },
         {
          "Condition": "sc25",
          "F": 8358.995,
          "__ECDF": 0
         },
         {
          "Condition": "sc25",
          "F": 8358.995,
          "__ECDF": 0.04
         },
         {
          "Condition": "sc25",
          "F": 9540.503,
          "__ECDF": 0.04
         },
         {
          "Condition": "sc25",
          "F": 9540.503,
          "__ECDF": 0.08
         },
         {
          "Condition": "sc25",
          "F": 11233.21,
          "__ECDF": 0.08
         },
         {
          "Condition": "sc25",
          "F": 11233.21,
          "__ECDF": 0.12
         },
         {
          "Condition": "sc25",
          "F": 12163.93,
          "__ECDF": 0.12
         },
         {
          "Condition": "sc25",
          "F": 12163.93,
          "__ECDF": 0.16
         },
         {
          "Condition": "sc25",
          "F": 12462.69,
          "__ECDF": 0.16
         },
         {
          "Condition": "sc25",
          "F": 12462.69,
          "__ECDF": 0.2
         },
         {
          "Condition": "sc25",
          "F": 12672.19,
          "__ECDF": 0.2
         },
         {
          "Condition": "sc25",
          "F": 12672.19,
          "__ECDF": 0.24
         },
         {
          "Condition": "sc25",
          "F": 13334.83,
          "__ECDF": 0.24
         },
         {
          "Condition": "sc25",
          "F": 13334.83,
          "__ECDF": 0.28
         },
         {
          "Condition": "sc25",
          "F": 13568.62,
          "__ECDF": 0.28
         },
         {
          "Condition": "sc25",
          "F": 13568.62,
          "__ECDF": 0.32
         },
         {
          "Condition": "sc25",
          "F": 13609.09,
          "__ECDF": 0.32
         },
         {
          "Condition": "sc25",
          "F": 13609.09,
          "__ECDF": 0.36
         },
         {
          "Condition": "sc25",
          "F": 13969.94,
          "__ECDF": 0.36
         },
         {
          "Condition": "sc25",
          "F": 13969.94,
          "__ECDF": 0.4
         },
         {
          "Condition": "sc25",
          "F": 14128.31,
          "__ECDF": 0.4
         },
         {
          "Condition": "sc25",
          "F": 14128.31,
          "__ECDF": 0.44
         },
         {
          "Condition": "sc25",
          "F": 14211.59,
          "__ECDF": 0.44
         },
         {
          "Condition": "sc25",
          "F": 14211.59,
          "__ECDF": 0.48
         },
         {
          "Condition": "sc25",
          "F": 14414.89,
          "__ECDF": 0.48
         },
         {
          "Condition": "sc25",
          "F": 14414.89,
          "__ECDF": 0.52
         },
         {
          "Condition": "sc25",
          "F": 14879.05,
          "__ECDF": 0.52
         },
         {
          "Condition": "sc25",
          "F": 14879.05,
          "__ECDF": 0.56
         },
         {
          "Condition": "sc25",
          "F": 14882.92,
          "__ECDF": 0.56
         },
         {
          "Condition": "sc25",
          "F": 14882.92,
          "__ECDF": 0.6
         },
         {
          "Condition": "sc25",
          "F": 15065.03,
          "__ECDF": 0.6
         },
         {
          "Condition": "sc25",
          "F": 15065.03,
          "__ECDF": 0.64
         },
         {
          "Condition": "sc25",
          "F": 15110.88,
          "__ECDF": 0.64
         },
         {
          "Condition": "sc25",
          "F": 15110.88,
          "__ECDF": 0.68
         },
         {
          "Condition": "sc25",
          "F": 15158.47,
          "__ECDF": 0.68
         },
         {
          "Condition": "sc25",
          "F": 15158.47,
          "__ECDF": 0.72
         },
         {
          "Condition": "sc25",
          "F": 15602.73,
          "__ECDF": 0.72
         },
         {
          "Condition": "sc25",
          "F": 15602.73,
          "__ECDF": 0.76
         },
         {
          "Condition": "sc25",
          "F": 15832.53,
          "__ECDF": 0.76
         },
         {
          "Condition": "sc25",
          "F": 15832.53,
          "__ECDF": 0.8
         },
         {
          "Condition": "sc25",
          "F": 16499.3,
          "__ECDF": 0.8
         },
         {
          "Condition": "sc25",
          "F": 16499.3,
          "__ECDF": 0.84
         },
         {
          "Condition": "sc25",
          "F": 16960.67,
          "__ECDF": 0.84
         },
         {
          "Condition": "sc25",
          "F": 16960.67,
          "__ECDF": 0.88
         },
         {
          "Condition": "sc25",
          "F": 17229.12,
          "__ECDF": 0.88
         },
         {
          "Condition": "sc25",
          "F": 17229.12,
          "__ECDF": 0.92
         },
         {
          "Condition": "sc25",
          "F": 17305.84,
          "__ECDF": 0.92
         },
         {
          "Condition": "sc25",
          "F": 17305.84,
          "__ECDF": 0.96
         },
         {
          "Condition": "sc25",
          "F": 19436.63,
          "__ECDF": 0.96
         },
         {
          "Condition": "sc25",
          "F": 19436.63,
          "__ECDF": 1
         },
         {
          "Condition": "sc25",
          "F": 45333.73614,
          "__ECDF": 1
         },
         {
          "Condition": "sk15",
          "F": -1643.2189400000004,
          "__ECDF": 0
         },
         {
          "Condition": "sk15",
          "F": 7242.744,
          "__ECDF": 0
         },
         {
          "Condition": "sk15",
          "F": 7242.744,
          "__ECDF": 0.038461538461538464
         },
         {
          "Condition": "sk15",
          "F": 8567.691,
          "__ECDF": 0.038461538461538464
         },
         {
          "Condition": "sk15",
          "F": 8567.691,
          "__ECDF": 0.07692307692307693
         },
         {
          "Condition": "sk15",
          "F": 8712.589,
          "__ECDF": 0.07692307692307693
         },
         {
          "Condition": "sk15",
          "F": 8712.589,
          "__ECDF": 0.11538461538461539
         },
         {
          "Condition": "sk15",
          "F": 8949.01,
          "__ECDF": 0.11538461538461539
         },
         {
          "Condition": "sk15",
          "F": 8949.01,
          "__ECDF": 0.15384615384615385
         },
         {
          "Condition": "sk15",
          "F": 8978.031,
          "__ECDF": 0.15384615384615385
         },
         {
          "Condition": "sk15",
          "F": 8978.031,
          "__ECDF": 0.19230769230769232
         },
         {
          "Condition": "sk15",
          "F": 9049.072,
          "__ECDF": 0.19230769230769232
         },
         {
          "Condition": "sk15",
          "F": 9049.072,
          "__ECDF": 0.23076923076923078
         },
         {
          "Condition": "sk15",
          "F": 9460.2,
          "__ECDF": 0.23076923076923078
         },
         {
          "Condition": "sk15",
          "F": 9460.2,
          "__ECDF": 0.2692307692307692
         },
         {
          "Condition": "sk15",
          "F": 9801.333,
          "__ECDF": 0.2692307692307692
         },
         {
          "Condition": "sk15",
          "F": 9801.333,
          "__ECDF": 0.3076923076923077
         },
         {
          "Condition": "sk15",
          "F": 10363.52,
          "__ECDF": 0.3076923076923077
         },
         {
          "Condition": "sk15",
          "F": 10363.52,
          "__ECDF": 0.34615384615384615
         },
         {
          "Condition": "sk15",
          "F": 10518.4,
          "__ECDF": 0.34615384615384615
         },
         {
          "Condition": "sk15",
          "F": 10518.4,
          "__ECDF": 0.38461538461538464
         },
         {
          "Condition": "sk15",
          "F": 11001.72,
          "__ECDF": 0.38461538461538464
         },
         {
          "Condition": "sk15",
          "F": 11001.72,
          "__ECDF": 0.4230769230769231
         },
         {
          "Condition": "sk15",
          "F": 11221.13,
          "__ECDF": 0.4230769230769231
         },
         {
          "Condition": "sk15",
          "F": 11221.13,
          "__ECDF": 0.46153846153846156
         },
         {
          "Condition": "sk15",
          "F": 11233.41,
          "__ECDF": 0.46153846153846156
         },
         {
          "Condition": "sk15",
          "F": 11233.41,
          "__ECDF": 0.5
         },
         {
          "Condition": "sk15",
          "F": 11561.47,
          "__ECDF": 0.5
         },
         {
          "Condition": "sk15",
          "F": 11561.47,
          "__ECDF": 0.5384615384615384
         },
         {
          "Condition": "sk15",
          "F": 11897.13,
          "__ECDF": 0.5384615384615384
         },
         {
          "Condition": "sk15",
          "F": 11897.13,
          "__ECDF": 0.5769230769230769
         },
         {
          "Condition": "sk15",
          "F": 12072.7,
          "__ECDF": 0.5769230769230769
         },
         {
          "Condition": "sk15",
          "F": 12072.7,
          "__ECDF": 0.6153846153846154
         },
         {
          "Condition": "sk15",
          "F": 12566.75,
          "__ECDF": 0.6153846153846154
         },
         {
          "Condition": "sk15",
          "F": 12566.75,
          "__ECDF": 0.6538461538461539
         },
         {
          "Condition": "sk15",
          "F": 12782.01,
          "__ECDF": 0.6538461538461539
         },
         {
          "Condition": "sk15",
          "F": 12782.01,
          "__ECDF": 0.6923076923076923
         },
         {
          "Condition": "sk15",
          "F": 12828.28,
          "__ECDF": 0.6923076923076923
         },
         {
          "Condition": "sk15",
          "F": 12828.28,
          "__ECDF": 0.7307692307692307
         },
         {
          "Condition": "sk15",
          "F": 13044.4,
          "__ECDF": 0.7307692307692307
         },
         {
          "Condition": "sk15",
          "F": 13044.4,
          "__ECDF": 0.7692307692307693
         },
         {
          "Condition": "sk15",
          "F": 13160.89,
          "__ECDF": 0.7692307692307693
         },
         {
          "Condition": "sk15",
          "F": 13160.89,
          "__ECDF": 0.8076923076923077
         },
         {
          "Condition": "sk15",
          "F": 13359.27,
          "__ECDF": 0.8076923076923077
         },
         {
          "Condition": "sk15",
          "F": 13359.27,
          "__ECDF": 0.8461538461538461
         },
         {
          "Condition": "sk15",
          "F": 13718.88,
          "__ECDF": 0.8461538461538461
         },
         {
          "Condition": "sk15",
          "F": 13718.88,
          "__ECDF": 0.8846153846153846
         },
         {
          "Condition": "sk15",
          "F": 14132.81,
          "__ECDF": 0.8846153846153846
         },
         {
          "Condition": "sk15",
          "F": 14132.81,
          "__ECDF": 0.9230769230769231
         },
         {
          "Condition": "sk15",
          "F": 14616.11,
          "__ECDF": 0.9230769230769231
         },
         {
          "Condition": "sk15",
          "F": 14616.11,
          "__ECDF": 0.9615384615384616
         },
         {
          "Condition": "sk15",
          "F": 16330.5,
          "__ECDF": 0.9615384615384616
         },
         {
          "Condition": "sk15",
          "F": 16330.5,
          "__ECDF": 1
         },
         {
          "Condition": "sk15",
          "F": 45333.73614,
          "__ECDF": 1
         },
         {
          "Condition": "sk20",
          "F": -1643.2189400000004,
          "__ECDF": 0
         },
         {
          "Condition": "sk20",
          "F": 12036.87,
          "__ECDF": 0
         },
         {
          "Condition": "sk20",
          "F": 12036.87,
          "__ECDF": 0.03333333333333333
         },
         {
          "Condition": "sk20",
          "F": 12345.97,
          "__ECDF": 0.03333333333333333
         },
         {
          "Condition": "sk20",
          "F": 12345.97,
          "__ECDF": 0.06666666666666667
         },
         {
          "Condition": "sk20",
          "F": 12394.32,
          "__ECDF": 0.06666666666666667
         },
         {
          "Condition": "sk20",
          "F": 12394.32,
          "__ECDF": 0.1
         },
         {
          "Condition": "sk20",
          "F": 12799.02,
          "__ECDF": 0.1
         },
         {
          "Condition": "sk20",
          "F": 12799.02,
          "__ECDF": 0.13333333333333333
         },
         {
          "Condition": "sk20",
          "F": 12867.4,
          "__ECDF": 0.13333333333333333
         },
         {
          "Condition": "sk20",
          "F": 12867.4,
          "__ECDF": 0.16666666666666666
         },
         {
          "Condition": "sk20",
          "F": 12879.88,
          "__ECDF": 0.16666666666666666
         },
         {
          "Condition": "sk20",
          "F": 12879.88,
          "__ECDF": 0.2
         },
         {
          "Condition": "sk20",
          "F": 13000.28,
          "__ECDF": 0.2
         },
         {
          "Condition": "sk20",
          "F": 13000.28,
          "__ECDF": 0.23333333333333334
         },
         {
          "Condition": "sk20",
          "F": 13311.52,
          "__ECDF": 0.23333333333333334
         },
         {
          "Condition": "sk20",
          "F": 13311.52,
          "__ECDF": 0.26666666666666666
         },
         {
          "Condition": "sk20",
          "F": 13344.14,
          "__ECDF": 0.26666666666666666
         },
         {
          "Condition": "sk20",
          "F": 13344.14,
          "__ECDF": 0.3
         },
         {
          "Condition": "sk20",
          "F": 13382.25,
          "__ECDF": 0.3
         },
         {
          "Condition": "sk20",
          "F": 13382.25,
          "__ECDF": 0.3333333333333333
         },
         {
          "Condition": "sk20",
          "F": 13616.94,
          "__ECDF": 0.3333333333333333
         },
         {
          "Condition": "sk20",
          "F": 13616.94,
          "__ECDF": 0.36666666666666664
         },
         {
          "Condition": "sk20",
          "F": 13734.49,
          "__ECDF": 0.36666666666666664
         },
         {
          "Condition": "sk20",
          "F": 13734.49,
          "__ECDF": 0.4
         },
         {
          "Condition": "sk20",
          "F": 14094.44,
          "__ECDF": 0.4
         },
         {
          "Condition": "sk20",
          "F": 14094.44,
          "__ECDF": 0.43333333333333335
         },
         {
          "Condition": "sk20",
          "F": 14251.97,
          "__ECDF": 0.43333333333333335
         },
         {
          "Condition": "sk20",
          "F": 14251.97,
          "__ECDF": 0.4666666666666667
         },
         {
          "Condition": "sk20",
          "F": 14572.75,
          "__ECDF": 0.4666666666666667
         },
         {
          "Condition": "sk20",
          "F": 14572.75,
          "__ECDF": 0.5
         },
         {
          "Condition": "sk20",
          "F": 14639.85,
          "__ECDF": 0.5
         },
         {
          "Condition": "sk20",
          "F": 14639.85,
          "__ECDF": 0.5333333333333333
         },
         {
          "Condition": "sk20",
          "F": 15299.76,
          "__ECDF": 0.5333333333333333
         },
         {
          "Condition": "sk20",
          "F": 15299.76,
          "__ECDF": 0.5666666666666667
         },
         {
          "Condition": "sk20",
          "F": 15844.28,
          "__ECDF": 0.5666666666666667
         },
         {
          "Condition": "sk20",
          "F": 15844.28,
          "__ECDF": 0.6
         },
         {
          "Condition": "sk20",
          "F": 15956.94,
          "__ECDF": 0.6
         },
         {
          "Condition": "sk20",
          "F": 15956.94,
          "__ECDF": 0.6333333333333333
         },
         {
          "Condition": "sk20",
          "F": 15983.81,
          "__ECDF": 0.6333333333333333
         },
         {
          "Condition": "sk20",
          "F": 15983.81,
          "__ECDF": 0.6666666666666666
         },
         {
          "Condition": "sk20",
          "F": 16042.57,
          "__ECDF": 0.6666666666666666
         },
         {
          "Condition": "sk20",
          "F": 16042.57,
          "__ECDF": 0.7
         },
         {
          "Condition": "sk20",
          "F": 16076.1,
          "__ECDF": 0.7
         },
         {
          "Condition": "sk20",
          "F": 16076.1,
          "__ECDF": 0.7333333333333333
         },
         {
          "Condition": "sk20",
          "F": 16266.81,
          "__ECDF": 0.7333333333333333
         },
         {
          "Condition": "sk20",
          "F": 16266.81,
          "__ECDF": 0.7666666666666667
         },
         {
          "Condition": "sk20",
          "F": 16521.9,
          "__ECDF": 0.7666666666666667
         },
         {
          "Condition": "sk20",
          "F": 16521.9,
          "__ECDF": 0.8
         },
         {
          "Condition": "sk20",
          "F": 16677.19,
          "__ECDF": 0.8
         },
         {
          "Condition": "sk20",
          "F": 16677.19,
          "__ECDF": 0.8333333333333334
         },
         {
          "Condition": "sk20",
          "F": 17474.9,
          "__ECDF": 0.8333333333333334
         },
         {
          "Condition": "sk20",
          "F": 17474.9,
          "__ECDF": 0.8666666666666667
         },
         {
          "Condition": "sk20",
          "F": 18016.01,
          "__ECDF": 0.8666666666666667
         },
         {
          "Condition": "sk20",
          "F": 18016.01,
          "__ECDF": 0.9
         },
         {
          "Condition": "sk20",
          "F": 18307.6,
          "__ECDF": 0.9
         },
         {
          "Condition": "sk20",
          "F": 18307.6,
          "__ECDF": 0.9333333333333333
         },
         {
          "Condition": "sk20",
          "F": 18691.24,
          "__ECDF": 0.9333333333333333
         },
         {
          "Condition": "sk20",
          "F": 18691.24,
          "__ECDF": 0.9666666666666667
         },
         {
          "Condition": "sk20",
          "F": 19046.82,
          "__ECDF": 0.9666666666666667
         },
         {
          "Condition": "sk20",
          "F": 19046.82,
          "__ECDF": 1
         },
         {
          "Condition": "sk20",
          "F": 45333.73614,
          "__ECDF": 1
         },
         {
          "Condition": "sk25",
          "F": -1643.2189400000004,
          "__ECDF": 0
         },
         {
          "Condition": "sk25",
          "F": 6910.673,
          "__ECDF": 0
         },
         {
          "Condition": "sk25",
          "F": 6910.673,
          "__ECDF": 0.03333333333333333
         },
         {
          "Condition": "sk25",
          "F": 14203.55,
          "__ECDF": 0.03333333333333333
         },
         {
          "Condition": "sk25",
          "F": 14203.55,
          "__ECDF": 0.06666666666666667
         },
         {
          "Condition": "sk25",
          "F": 14351.88,
          "__ECDF": 0.06666666666666667
         },
         {
          "Condition": "sk25",
          "F": 14351.88,
          "__ECDF": 0.1
         },
         {
          "Condition": "sk25",
          "F": 15992.75,
          "__ECDF": 0.1
         },
         {
          "Condition": "sk25",
          "F": 15992.75,
          "__ECDF": 0.13333333333333333
         },
         {
          "Condition": "sk25",
          "F": 16593.96,
          "__ECDF": 0.13333333333333333
         },
         {
          "Condition": "sk25",
          "F": 16593.96,
          "__ECDF": 0.16666666666666666
         },
         {
          "Condition": "sk25",
          "F": 16919.7,
          "__ECDF": 0.16666666666666666
         },
         {
          "Condition": "sk25",
          "F": 16919.7,
          "__ECDF": 0.2
         },
         {
          "Condition": "sk25",
          "F": 17609.13,
          "__ECDF": 0.2
         },
         {
          "Condition": "sk25",
          "F": 17609.13,
          "__ECDF": 0.23333333333333334
         },
         {
          "Condition": "sk25",
          "F": 17694.63,
          "__ECDF": 0.23333333333333334
         },
         {
          "Condition": "sk25",
          "F": 17694.63,
          "__ECDF": 0.26666666666666666
         },
         {
          "Condition": "sk25",
          "F": 17788.94,
          "__ECDF": 0.26666666666666666
         },
         {
          "Condition": "sk25",
          "F": 17788.94,
          "__ECDF": 0.3
         },
         {
          "Condition": "sk25",
          "F": 17811.23,
          "__ECDF": 0.3
         },
         {
          "Condition": "sk25",
          "F": 17811.23,
          "__ECDF": 0.3333333333333333
         },
         {
          "Condition": "sk25",
          "F": 17837.36,
          "__ECDF": 0.3333333333333333
         },
         {
          "Condition": "sk25",
          "F": 17837.36,
          "__ECDF": 0.36666666666666664
         },
         {
          "Condition": "sk25",
          "F": 18042.75,
          "__ECDF": 0.36666666666666664
         },
         {
          "Condition": "sk25",
          "F": 18042.75,
          "__ECDF": 0.4
         },
         {
          "Condition": "sk25",
          "F": 18062.91,
          "__ECDF": 0.4
         },
         {
          "Condition": "sk25",
          "F": 18062.91,
          "__ECDF": 0.43333333333333335
         },
         {
          "Condition": "sk25",
          "F": 19238.01,
          "__ECDF": 0.43333333333333335
         },
         {
          "Condition": "sk25",
          "F": 19238.01,
          "__ECDF": 0.4666666666666667
         },
         {
          "Condition": "sk25",
          "F": 19265.61,
          "__ECDF": 0.4666666666666667
         },
         {
          "Condition": "sk25",
          "F": 19265.61,
          "__ECDF": 0.5
         },
         {
          "Condition": "sk25",
          "F": 19314.24,
          "__ECDF": 0.5
         },
         {
          "Condition": "sk25",
          "F": 19314.24,
          "__ECDF": 0.5333333333333333
         },
         {
          "Condition": "sk25",
          "F": 19516.03,
          "__ECDF": 0.5333333333333333
         },
         {
          "Condition": "sk25",
          "F": 19516.03,
          "__ECDF": 0.5666666666666667
         },
         {
          "Condition": "sk25",
          "F": 19782.51,
          "__ECDF": 0.5666666666666667
         },
         {
          "Condition": "sk25",
          "F": 19782.51,
          "__ECDF": 0.6
         },
         {
          "Condition": "sk25",
          "F": 19882.63,
          "__ECDF": 0.6
         },
         {
          "Condition": "sk25",
          "F": 19882.63,
          "__ECDF": 0.6333333333333333
         },
         {
          "Condition": "sk25",
          "F": 20114.62,
          "__ECDF": 0.6333333333333333
         },
         {
          "Condition": "sk25",
          "F": 20114.62,
          "__ECDF": 0.6666666666666666
         },
         {
          "Condition": "sk25",
          "F": 20371.85,
          "__ECDF": 0.6666666666666666
         },
         {
          "Condition": "sk25",
          "F": 20371.85,
          "__ECDF": 0.7
         },
         {
          "Condition": "sk25",
          "F": 20526.22,
          "__ECDF": 0.7
         },
         {
          "Condition": "sk25",
          "F": 20526.22,
          "__ECDF": 0.7333333333333333
         },
         {
          "Condition": "sk25",
          "F": 20563.58,
          "__ECDF": 0.7333333333333333
         },
         {
          "Condition": "sk25",
          "F": 20563.58,
          "__ECDF": 0.7666666666666667
         },
         {
          "Condition": "sk25",
          "F": 20934.66,
          "__ECDF": 0.7666666666666667
         },
         {
          "Condition": "sk25",
          "F": 20934.66,
          "__ECDF": 0.8
         },
         {
          "Condition": "sk25",
          "F": 21371.72,
          "__ECDF": 0.8
         },
         {
          "Condition": "sk25",
          "F": 21371.72,
          "__ECDF": 0.8333333333333334
         },
         {
          "Condition": "sk25",
          "F": 21444.25,
          "__ECDF": 0.8333333333333334
         },
         {
          "Condition": "sk25",
          "F": 21444.25,
          "__ECDF": 0.8666666666666667
         },
         {
          "Condition": "sk25",
          "F": 21589.64,
          "__ECDF": 0.8666666666666667
         },
         {
          "Condition": "sk25",
          "F": 21589.64,
          "__ECDF": 0.9
         },
         {
          "Condition": "sk25",
          "F": 21836.05,
          "__ECDF": 0.9
         },
         {
          "Condition": "sk25",
          "F": 21836.05,
          "__ECDF": 0.9333333333333333
         },
         {
          "Condition": "sk25",
          "F": 22053.47,
          "__ECDF": 0.9333333333333333
         },
         {
          "Condition": "sk25",
          "F": 22053.47,
          "__ECDF": 0.9666666666666667
         },
         {
          "Condition": "sk25",
          "F": 23189.56,
          "__ECDF": 0.9666666666666667
         },
         {
          "Condition": "sk25",
          "F": 23189.56,
          "__ECDF": 1
         },
         {
          "Condition": "sk25",
          "F": 45333.73614,
          "__ECDF": 1
         }
        ]
       },
       "encoding": {
        "color": {
         "field": "Condition",
         "scale": {},
         "title": "Genotype",
         "type": "nominal"
        },
        "order": {
         "field": "F",
         "sort": "ascending",
         "type": "quantitative"
        },
        "row": {
         "field": "T",
         "title": "T",
         "type": "nominal"
        },
        "x": {
         "field": "F",
         "scale": {
          "domain": [
           0,
           45000
          ]
         },
         "type": "quantitative"
        },
        "y": {
         "field": "__ECDF",
         "title": "ECDF",
         "type": "quantitative"
        }
       },
       "mark": {
        "type": "line"
       }
      },
      "image/png": "[encoded data removed]",
      "text/plain": [
       "<VegaLite 2 object>\n",
       "\n",
       "If you see this message, it means the renderer has not been properly enabled\n",
       "for the frontend that you are using. For more information, see\n",
       "https://altair-viz.github.io/user_guide/troubleshooting.html\n"
      ]
     },
     "execution_count": 39,
     "metadata": {},
     "output_type": "execute_result"
    }
   ],
   "source": [
    "axis_scale = alt.Scale(domain=[0, 45000])\n",
    "\n",
    "p1 = altcat.catplot(data=df_tidy,\n",
    "               mark='line',\n",
    "               encoding=dict(x=alt.X('F:Q',scale=axis_scale),\n",
    "                             color=alt.Color('Condition:N', title='Genotype'))\n",
    "                            #ow= alt.Row('T:N',title='T')),\n",
    "               transform='ecdf')\n",
    "p1"
   ]
  },
  {
   "cell_type": "code",
   "execution_count": 46,
   "metadata": {},
   "outputs": [
    {
     "data": {
      "text/plain": [
       "Column({\n",
       "  shorthand: 'T:Q',\n",
       "  title: 'T'\n",
       "})"
      ]
     },
     "execution_count": 46,
     "metadata": {},
     "output_type": "execute_result"
    }
   ],
   "source": [
    "axis_scale = alt.Scale(domain=[0, 45000])\n",
    "\n",
    "alt.Chart(data=df_tidy.loc[df_tidy['T'] == '15',:],\n",
    "        height=150,\n",
    "        width=150\n",
    "    ).mark_circle(\n",
    "        size=5,\n",
    "        opacity=0.1\n",
    "    ).encode(\n",
    "        x=alt.X('F:Q', scale=axis_scale),\n",
    "        y=alt.Y('F:Q', scale=axis_scale),\n",
    "        color=alt.Color('G:N', title='beetle genus'),\n",
    "        column=alt.Column('beetle_treatment:N', title='beetle genus'),\n",
    "    )"
   ]
  },
  {
   "cell_type": "code",
   "execution_count": 15,
   "metadata": {},
   "outputs": [
    {
     "data": {
      "text/html": [
       "\n",
       "\n",
       "\n",
       "\n",
       "\n",
       "\n",
       "  <div class=\"bk-root\" id=\"44c3474a-d051-43d5-ad5e-85d366341c39\"></div>\n"
      ]
     },
     "metadata": {},
     "output_type": "display_data"
    },
    {
     "data": {
      "application/javascript": [
       "(function(root) {\n",
       "  function embed_document(root) {\n",
       "    \n",
       "  var docs_json = {\"f2a1003e-4950-4427-8d60-c6e71f0bbbab\":{\"roots\":{\"references\":[{\"attributes\":{},\"id\":\"e74286f4-9678-42aa-8008-062f0461af58\",\"type\":\"CategoricalTicker\"},{\"attributes\":{},\"id\":\"0bc784f0-4a06-4e18-9f6c-0f07a0804445\",\"type\":\"Selection\"},{\"attributes\":{\"fill_color\":{\"field\":\"cat\",\"transform\":{\"id\":\"a44632ab-c565-4644-adc6-4d6bf94675b4\",\"type\":\"CategoricalColorMapper\"}},\"line_color\":{\"field\":\"cat\",\"transform\":{\"id\":\"98fd679c-46eb-4d7f-b063-5118f8ef6dd2\",\"type\":\"CategoricalColorMapper\"}},\"x\":{\"field\":\"F\"},\"y\":{\"field\":\"cat\"}},\"id\":\"687b7338-b6bd-4478-880c-f671596b2063\",\"type\":\"Circle\"},{\"attributes\":{\"fill_alpha\":{\"value\":0.1},\"fill_color\":{\"value\":\"#1f77b4\"},\"line_alpha\":{\"value\":0.1},\"line_color\":{\"value\":\"#1f77b4\"},\"x\":{\"field\":\"F\"},\"y\":{\"field\":\"cat\"}},\"id\":\"98aa5e39-df71-4456-936e-bce178645278\",\"type\":\"Circle\"},{\"attributes\":{\"data_source\":{\"id\":\"ef8e7476-2c6c-4eba-b0ce-6bec87fb9d35\",\"type\":\"ColumnDataSource\"},\"glyph\":{\"id\":\"687b7338-b6bd-4478-880c-f671596b2063\",\"type\":\"Circle\"},\"hover_glyph\":null,\"muted_glyph\":null,\"nonselection_glyph\":{\"id\":\"98aa5e39-df71-4456-936e-bce178645278\",\"type\":\"Circle\"},\"selection_glyph\":null,\"view\":{\"id\":\"e65eec1d-b6c2-4490-bd17-f888ab6eddbb\",\"type\":\"CDSView\"}},\"id\":\"16ecfc60-e4c3-4d0b-b466-9a4a6efc1d02\",\"type\":\"GlyphRenderer\"},{\"attributes\":{\"source\":{\"id\":\"ef8e7476-2c6c-4eba-b0ce-6bec87fb9d35\",\"type\":\"ColumnDataSource\"}},\"id\":\"e65eec1d-b6c2-4490-bd17-f888ab6eddbb\",\"type\":\"CDSView\"},{\"attributes\":{\"x0\":{\"field\":\"top\"},\"x1\":{\"field\":\"top_whisker\"},\"y0\":{\"field\":\"cat\"},\"y1\":{\"field\":\"cat\"}},\"id\":\"b5659588-032f-47d8-a40a-58985d9c0e18\",\"type\":\"Segment\"},{\"attributes\":{\"factors\":[\"m3\",\"sc\",\"sk\"],\"palette\":[\"#4e79a7\",\"#f28e2b\",\"#e15759\",\"#76b7b2\",\"#59a14f\",\"#edc948\",\"#b07aa1\",\"#ff9da7\",\"#9c755f\",\"#bab0ac\"]},\"id\":\"98fd679c-46eb-4d7f-b063-5118f8ef6dd2\",\"type\":\"CategoricalColorMapper\"},{\"attributes\":{\"callback\":null},\"id\":\"c1d6cbf1-1663-4aec-bcb2-5e0a9be96932\",\"type\":\"DataRange1d\"},{\"attributes\":{\"callback\":null,\"data\":{\"__label\":[\"m3\",\"sc\",\"sk\"],\"bottom\":[12696.189999999999,13334.83,17718.2075],\"bottom_whisker\":[7709.297,9932.98,13464.158749999999],\"cat\":[\"m3\",\"sc\",\"sk\"],\"middle\":[14299.900000000001,14414.89,19289.925000000003],\"top\":[16151.4725,15602.73,20554.24],\"top_whisker\":[18205.84,19004.579999999998,23189.56]},\"selected\":{\"id\":\"4869b05b-0a15-4f9c-af82-b763eb34c5d8\",\"type\":\"Selection\"},\"selection_policy\":{\"id\":\"71841a76-7d51-4ad5-927d-5bcc428af878\",\"type\":\"UnionRenderers\"}},\"id\":\"59a95443-d61d-461d-8dd8-2a85f8eaae54\",\"type\":\"ColumnDataSource\"},{\"attributes\":{},\"id\":\"ba9b9211-38ff-48b2-8671-e770344d331b\",\"type\":\"UnionRenderers\"},{\"attributes\":{\"callback\":null,\"factors\":[\"sk\",\"sc\",\"m3\"]},\"id\":\"ebcfdb92-f045-4bab-8d68-c3c3156ea10e\",\"type\":\"FactorRange\"},{\"attributes\":{\"callback\":null,\"data\":{\"F\":[16499.3,12672.19,15832.53,15065.03,16960.67,13609.09,15602.73,12163.93,13334.83,14128.31,14211.59,15110.88,19436.63,14879.05,14882.92,17229.12,8358.995,9540.503,15158.47,17305.84,12462.69,13969.94,11233.21,13568.62,14414.89,16593.96,6910.673,20934.66,18042.75,23189.56,20526.22,19782.51,21371.72,18062.91,19314.24,19882.63,20371.85,17609.13,19238.01,21444.25,19265.61,17788.94,22053.47,21836.05,16919.7,15992.75,17837.36,14203.55,19516.03,21589.64,20563.58,17811.23,17694.63,20114.62,14351.88,17073.8,15379.37,16991.49,13393.35,7709.297,13274.08,13168.06,14285.94,12071.33,12538.9,18034.93,14180.11,13470.66,16043.45,18205.84,16636.82,11297.41,16896.31,14313.86,16187.48,14487.56,14544.24,12140.31,11876.02,15535.85,12173.06],\"G\":[\"sc\",\"sc\",\"sc\",\"sc\",\"sc\",\"sc\",\"sc\",\"sc\",\"sc\",\"sc\",\"sc\",\"sc\",\"sc\",\"sc\",\"sc\",\"sc\",\"sc\",\"sc\",\"sc\",\"sc\",\"sc\",\"sc\",\"sc\",\"sc\",\"sc\",\"sk\",\"sk\",\"sk\",\"sk\",\"sk\",\"sk\",\"sk\",\"sk\",\"sk\",\"sk\",\"sk\",\"sk\",\"sk\",\"sk\",\"sk\",\"sk\",\"sk\",\"sk\",\"sk\",\"sk\",\"sk\",\"sk\",\"sk\",\"sk\",\"sk\",\"sk\",\"sk\",\"sk\",\"sk\",\"sk\",\"m3\",\"m3\",\"m3\",\"m3\",\"m3\",\"m3\",\"m3\",\"m3\",\"m3\",\"m3\",\"m3\",\"m3\",\"m3\",\"m3\",\"m3\",\"m3\",\"m3\",\"m3\",\"m3\",\"m3\",\"m3\",\"m3\",\"m3\",\"m3\",\"m3\",\"m3\"],\"__label\":[\"sc\",\"sc\",\"sc\",\"sc\",\"sc\",\"sc\",\"sc\",\"sc\",\"sc\",\"sc\",\"sc\",\"sc\",\"sc\",\"sc\",\"sc\",\"sc\",\"sc\",\"sc\",\"sc\",\"sc\",\"sc\",\"sc\",\"sc\",\"sc\",\"sc\",\"sk\",\"sk\",\"sk\",\"sk\",\"sk\",\"sk\",\"sk\",\"sk\",\"sk\",\"sk\",\"sk\",\"sk\",\"sk\",\"sk\",\"sk\",\"sk\",\"sk\",\"sk\",\"sk\",\"sk\",\"sk\",\"sk\",\"sk\",\"sk\",\"sk\",\"sk\",\"sk\",\"sk\",\"sk\",\"sk\",\"m3\",\"m3\",\"m3\",\"m3\",\"m3\",\"m3\",\"m3\",\"m3\",\"m3\",\"m3\",\"m3\",\"m3\",\"m3\",\"m3\",\"m3\",\"m3\",\"m3\",\"m3\",\"m3\",\"m3\",\"m3\",\"m3\",\"m3\",\"m3\",\"m3\",\"m3\"],\"cat\":[\"sc\",\"sc\",\"sc\",\"sc\",\"sc\",\"sc\",\"sc\",\"sc\",\"sc\",\"sc\",\"sc\",\"sc\",\"sc\",\"sc\",\"sc\",\"sc\",\"sc\",\"sc\",\"sc\",\"sc\",\"sc\",\"sc\",\"sc\",\"sc\",\"sc\",\"sk\",\"sk\",\"sk\",\"sk\",\"sk\",\"sk\",\"sk\",\"sk\",\"sk\",\"sk\",\"sk\",\"sk\",\"sk\",\"sk\",\"sk\",\"sk\",\"sk\",\"sk\",\"sk\",\"sk\",\"sk\",\"sk\",\"sk\",\"sk\",\"sk\",\"sk\",\"sk\",\"sk\",\"sk\",\"sk\",\"m3\",\"m3\",\"m3\",\"m3\",\"m3\",\"m3\",\"m3\",\"m3\",\"m3\",\"m3\",\"m3\",\"m3\",\"m3\",\"m3\",\"m3\",\"m3\",\"m3\",\"m3\",\"m3\",\"m3\",\"m3\",\"m3\",\"m3\",\"m3\",\"m3\",\"m3\"]},\"selected\":{\"id\":\"0bc784f0-4a06-4e18-9f6c-0f07a0804445\",\"type\":\"Selection\"},\"selection_policy\":{\"id\":\"ba9b9211-38ff-48b2-8671-e770344d331b\",\"type\":\"UnionRenderers\"}},\"id\":\"3dc855a2-6702-4138-9821-b57d0057b28e\",\"type\":\"ColumnDataSource\"},{\"attributes\":{},\"id\":\"46c08279-3cdc-4dfc-b5c3-54ab0bd3f374\",\"type\":\"LinearScale\"},{\"attributes\":{\"fill_color\":{\"value\":\"#1f77b4\"},\"height\":{\"value\":0.1},\"left\":{\"field\":\"top_whisker\"},\"right\":{\"field\":\"top_whisker\"},\"y\":{\"field\":\"cat\"}},\"id\":\"d0842a5a-d568-443c-a31a-3a2f4220431b\",\"type\":\"HBar\"},{\"attributes\":{\"range\":{\"id\":\"ebcfdb92-f045-4bab-8d68-c3c3156ea10e\",\"type\":\"FactorRange\"},\"width\":0.4},\"id\":\"e7c4c9ed-8453-4a36-8b7d-2c0337348174\",\"type\":\"Jitter\"},{\"attributes\":{\"data_source\":{\"id\":\"59a95443-d61d-461d-8dd8-2a85f8eaae54\",\"type\":\"ColumnDataSource\"},\"glyph\":{\"id\":\"d0842a5a-d568-443c-a31a-3a2f4220431b\",\"type\":\"HBar\"},\"hover_glyph\":null,\"muted_glyph\":null,\"nonselection_glyph\":{\"id\":\"d2153a69-5afe-4512-98f9-2ad6f8d6744e\",\"type\":\"HBar\"},\"selection_glyph\":null,\"view\":{\"id\":\"4646a1e4-f5b0-4ef4-abde-e15cdf92acfe\",\"type\":\"CDSView\"}},\"id\":\"1a9bd36c-461b-4f42-ae1d-53bb3d91a6ca\",\"type\":\"GlyphRenderer\"},{\"attributes\":{},\"id\":\"e48a29e7-36a6-405e-b340-04943e1c6eaa\",\"type\":\"Selection\"},{\"attributes\":{\"fill_color\":{\"field\":\"cat\",\"transform\":{\"id\":\"c558b39b-1286-4465-a745-d528ce02b40a\",\"type\":\"CategoricalColorMapper\"}},\"line_color\":{\"field\":\"cat\",\"transform\":{\"id\":\"c558b39b-1286-4465-a745-d528ce02b40a\",\"type\":\"CategoricalColorMapper\"}},\"x\":{\"field\":\"F\"},\"y\":{\"field\":\"cat\",\"transform\":{\"id\":\"e7c4c9ed-8453-4a36-8b7d-2c0337348174\",\"type\":\"Jitter\"}}},\"id\":\"66c1b1f4-8d76-46fb-9c55-62992e39992a\",\"type\":\"Circle\"},{\"attributes\":{\"formatter\":{\"id\":\"7347df09-1bbf-4547-9da1-efe87d8efaaf\",\"type\":\"CategoricalTickFormatter\"},\"plot\":{\"id\":\"e4d47c9b-663a-4693-9710-6d960fb0cdae\",\"subtype\":\"Figure\",\"type\":\"Plot\"},\"ticker\":{\"id\":\"e74286f4-9678-42aa-8008-062f0461af58\",\"type\":\"CategoricalTicker\"}},\"id\":\"d3434186-3260-4dc6-8596-91e5f1b1d8c4\",\"type\":\"CategoricalAxis\"},{\"attributes\":{\"fill_alpha\":{\"value\":0.1},\"fill_color\":{\"value\":\"#1f77b4\"},\"height\":{\"value\":0.1},\"left\":{\"field\":\"top_whisker\"},\"line_alpha\":{\"value\":0.1},\"line_color\":{\"value\":\"#1f77b4\"},\"right\":{\"field\":\"top_whisker\"},\"y\":{\"field\":\"cat\"}},\"id\":\"d2153a69-5afe-4512-98f9-2ad6f8d6744e\",\"type\":\"HBar\"},{\"attributes\":{\"fill_alpha\":{\"value\":0.1},\"fill_color\":{\"value\":\"#1f77b4\"},\"line_alpha\":{\"value\":0.1},\"line_color\":{\"value\":\"#1f77b4\"},\"x\":{\"field\":\"F\"},\"y\":{\"field\":\"cat\",\"transform\":{\"id\":\"e7c4c9ed-8453-4a36-8b7d-2c0337348174\",\"type\":\"Jitter\"}}},\"id\":\"8cdba6aa-455c-46e5-a2f8-732f925d1629\",\"type\":\"Circle\"},{\"attributes\":{\"data_source\":{\"id\":\"3dc855a2-6702-4138-9821-b57d0057b28e\",\"type\":\"ColumnDataSource\"},\"glyph\":{\"id\":\"66c1b1f4-8d76-46fb-9c55-62992e39992a\",\"type\":\"Circle\"},\"hover_glyph\":null,\"muted_glyph\":null,\"nonselection_glyph\":{\"id\":\"8cdba6aa-455c-46e5-a2f8-732f925d1629\",\"type\":\"Circle\"},\"selection_glyph\":null,\"view\":{\"id\":\"57d89304-bffe-496d-95be-889322ba4054\",\"type\":\"CDSView\"}},\"id\":\"a3751969-1662-4309-a73b-57bddb7db6f6\",\"type\":\"GlyphRenderer\"},{\"attributes\":{},\"id\":\"284b6b23-479f-43ec-b66a-f1d5c4dac894\",\"type\":\"CategoricalScale\"},{\"attributes\":{\"source\":{\"id\":\"3dc855a2-6702-4138-9821-b57d0057b28e\",\"type\":\"ColumnDataSource\"}},\"id\":\"57d89304-bffe-496d-95be-889322ba4054\",\"type\":\"CDSView\"},{\"attributes\":{\"x0\":{\"field\":\"bottom\"},\"x1\":{\"field\":\"bottom_whisker\"},\"y0\":{\"field\":\"cat\"},\"y1\":{\"field\":\"cat\"}},\"id\":\"e4cd76c7-6ae1-4162-95be-1bd93281c0c1\",\"type\":\"Segment\"},{\"attributes\":{\"line_alpha\":{\"value\":0.1},\"line_color\":{\"value\":\"#1f77b4\"},\"x0\":{\"field\":\"bottom\"},\"x1\":{\"field\":\"bottom_whisker\"},\"y0\":{\"field\":\"cat\"},\"y1\":{\"field\":\"cat\"}},\"id\":\"a15e97f9-efbf-4019-a74d-9c2e11e78917\",\"type\":\"Segment\"},{\"attributes\":{\"active_drag\":\"auto\",\"active_inspect\":\"auto\",\"active_multi\":null,\"active_scroll\":\"auto\",\"active_tap\":\"auto\",\"tools\":[{\"id\":\"bac5f966-65a2-434a-9063-1c283e174988\",\"type\":\"PanTool\"},{\"id\":\"71bca4ac-701c-433c-b382-ca4d473c73a3\",\"type\":\"WheelZoomTool\"},{\"id\":\"60e53cc2-4cc3-41a0-a83d-b3f3d4f39478\",\"type\":\"BoxZoomTool\"},{\"id\":\"f11e607e-d537-482e-bba9-e2ecf76c1a3f\",\"type\":\"SaveTool\"},{\"id\":\"c1f0df4d-344a-45d4-a202-440b9661b841\",\"type\":\"ResetTool\"},{\"id\":\"4be96497-b6b8-4528-9032-395a778c8443\",\"type\":\"HelpTool\"}]},\"id\":\"c8331901-0d8e-4c78-94c6-b5c374a2930a\",\"type\":\"Toolbar\"},{\"attributes\":{\"fill_color\":{\"value\":\"#1f77b4\"},\"height\":{\"value\":0.1},\"left\":{\"field\":\"bottom_whisker\"},\"right\":{\"field\":\"bottom_whisker\"},\"y\":{\"field\":\"cat\"}},\"id\":\"f0dddc35-ef98-478a-afea-211dfd8c749e\",\"type\":\"HBar\"},{\"attributes\":{\"source\":{\"id\":\"59a95443-d61d-461d-8dd8-2a85f8eaae54\",\"type\":\"ColumnDataSource\"}},\"id\":\"4646a1e4-f5b0-4ef4-abde-e15cdf92acfe\",\"type\":\"CDSView\"},{\"attributes\":{\"below\":[{\"id\":\"1ea6501a-1fb8-4ffc-88a4-8af068ff422e\",\"type\":\"LinearAxis\"}],\"left\":[{\"id\":\"d3434186-3260-4dc6-8596-91e5f1b1d8c4\",\"type\":\"CategoricalAxis\"}],\"plot_height\":300,\"plot_width\":400,\"renderers\":[{\"id\":\"1ea6501a-1fb8-4ffc-88a4-8af068ff422e\",\"type\":\"LinearAxis\"},{\"id\":\"512a4bea-4df2-43d7-a1bf-980c961ce858\",\"type\":\"Grid\"},{\"id\":\"d3434186-3260-4dc6-8596-91e5f1b1d8c4\",\"type\":\"CategoricalAxis\"},{\"id\":\"33a62c73-30a5-418e-9fef-9ff2fae24e85\",\"type\":\"Grid\"},{\"id\":\"0382fc93-9932-4387-b4c8-37144efb5997\",\"type\":\"BoxAnnotation\"},{\"id\":\"b9d56041-de4c-4748-9f96-8d18e7a99ded\",\"type\":\"GlyphRenderer\"},{\"id\":\"e9d2aa48-0f09-4530-86b2-de7b5fcb4373\",\"type\":\"GlyphRenderer\"},{\"id\":\"1a9bd36c-461b-4f42-ae1d-53bb3d91a6ca\",\"type\":\"GlyphRenderer\"},{\"id\":\"0ef2f4d6-3d26-4812-8b20-eaa30e91981f\",\"type\":\"GlyphRenderer\"},{\"id\":\"50d1d69c-df21-4a37-bdc6-e6b3ccb8660c\",\"type\":\"GlyphRenderer\"},{\"id\":\"eaa67a65-49b6-4e15-967a-e77551bac8db\",\"type\":\"GlyphRenderer\"},{\"id\":\"16ecfc60-e4c3-4d0b-b466-9a4a6efc1d02\",\"type\":\"GlyphRenderer\"},{\"id\":\"a3751969-1662-4309-a73b-57bddb7db6f6\",\"type\":\"GlyphRenderer\"}],\"title\":null,\"toolbar\":{\"id\":\"c8331901-0d8e-4c78-94c6-b5c374a2930a\",\"type\":\"Toolbar\"},\"x_range\":{\"id\":\"c1d6cbf1-1663-4aec-bcb2-5e0a9be96932\",\"type\":\"DataRange1d\"},\"x_scale\":{\"id\":\"46c08279-3cdc-4dfc-b5c3-54ab0bd3f374\",\"type\":\"LinearScale\"},\"y_range\":{\"id\":\"ebcfdb92-f045-4bab-8d68-c3c3156ea10e\",\"type\":\"FactorRange\"},\"y_scale\":{\"id\":\"284b6b23-479f-43ec-b66a-f1d5c4dac894\",\"type\":\"CategoricalScale\"}},\"id\":\"e4d47c9b-663a-4693-9710-6d960fb0cdae\",\"subtype\":\"Figure\",\"type\":\"Plot\"},{\"attributes\":{\"source\":{\"id\":\"59a95443-d61d-461d-8dd8-2a85f8eaae54\",\"type\":\"ColumnDataSource\"}},\"id\":\"ad624a1e-8ca6-40f8-9ee2-483883e18ff2\",\"type\":\"CDSView\"},{\"attributes\":{\"dimension\":1,\"grid_line_color\":{\"value\":null},\"plot\":{\"id\":\"e4d47c9b-663a-4693-9710-6d960fb0cdae\",\"subtype\":\"Figure\",\"type\":\"Plot\"},\"ticker\":{\"id\":\"e74286f4-9678-42aa-8008-062f0461af58\",\"type\":\"CategoricalTicker\"}},\"id\":\"33a62c73-30a5-418e-9fef-9ff2fae24e85\",\"type\":\"Grid\"},{\"attributes\":{},\"id\":\"4ac49d95-a611-4496-afef-ddf5a5640ba3\",\"type\":\"BasicTicker\"},{\"attributes\":{},\"id\":\"71bca4ac-701c-433c-b382-ca4d473c73a3\",\"type\":\"WheelZoomTool\"},{\"attributes\":{\"data_source\":{\"id\":\"59a95443-d61d-461d-8dd8-2a85f8eaae54\",\"type\":\"ColumnDataSource\"},\"glyph\":{\"id\":\"e4cd76c7-6ae1-4162-95be-1bd93281c0c1\",\"type\":\"Segment\"},\"hover_glyph\":null,\"muted_glyph\":null,\"nonselection_glyph\":{\"id\":\"a15e97f9-efbf-4019-a74d-9c2e11e78917\",\"type\":\"Segment\"},\"selection_glyph\":null,\"view\":{\"id\":\"ad624a1e-8ca6-40f8-9ee2-483883e18ff2\",\"type\":\"CDSView\"}},\"id\":\"e9d2aa48-0f09-4530-86b2-de7b5fcb4373\",\"type\":\"GlyphRenderer\"},{\"attributes\":{\"bottom_units\":\"screen\",\"fill_alpha\":{\"value\":0.5},\"fill_color\":{\"value\":\"lightgrey\"},\"left_units\":\"screen\",\"level\":\"overlay\",\"line_alpha\":{\"value\":1.0},\"line_color\":{\"value\":\"black\"},\"line_dash\":[4,4],\"line_width\":{\"value\":2},\"plot\":null,\"render_mode\":\"css\",\"right_units\":\"screen\",\"top_units\":\"screen\"},\"id\":\"0382fc93-9932-4387-b4c8-37144efb5997\",\"type\":\"BoxAnnotation\"},{\"attributes\":{},\"id\":\"f11e607e-d537-482e-bba9-e2ecf76c1a3f\",\"type\":\"SaveTool\"},{\"attributes\":{\"factors\":[\"m3\",\"sc\",\"sk\"],\"palette\":[\"#4e79a7\",\"#f28e2b\",\"#e15759\",\"#76b7b2\",\"#59a14f\",\"#edc948\",\"#b07aa1\",\"#ff9da7\",\"#9c755f\",\"#bab0ac\"]},\"id\":\"a50197de-80d5-46c9-9f51-9ac8fd9d7839\",\"type\":\"CategoricalColorMapper\"},{\"attributes\":{\"callback\":null,\"data\":{\"F\":[19436.63,8358.995,9540.503,6910.673],\"G\":[\"sc\",\"sc\",\"sc\",\"sk\"],\"__label\":[\"sc\",\"sc\",\"sc\",\"sk\"],\"cat\":[\"sc\",\"sc\",\"sc\",\"sk\"]},\"selected\":{\"id\":\"e48a29e7-36a6-405e-b340-04943e1c6eaa\",\"type\":\"Selection\"},\"selection_policy\":{\"id\":\"b9c3a309-6bcf-4a1f-b7c5-f54cb099035a\",\"type\":\"UnionRenderers\"}},\"id\":\"ef8e7476-2c6c-4eba-b0ce-6bec87fb9d35\",\"type\":\"ColumnDataSource\"},{\"attributes\":{\"fill_alpha\":{\"value\":0.1},\"fill_color\":{\"value\":\"#1f77b4\"},\"height\":{\"value\":0.1},\"left\":{\"field\":\"bottom_whisker\"},\"line_alpha\":{\"value\":0.1},\"line_color\":{\"value\":\"#1f77b4\"},\"right\":{\"field\":\"bottom_whisker\"},\"y\":{\"field\":\"cat\"}},\"id\":\"b580b556-3802-496b-9aed-728c098491a7\",\"type\":\"HBar\"},{\"attributes\":{},\"id\":\"4be96497-b6b8-4528-9032-395a778c8443\",\"type\":\"HelpTool\"},{\"attributes\":{\"data_source\":{\"id\":\"59a95443-d61d-461d-8dd8-2a85f8eaae54\",\"type\":\"ColumnDataSource\"},\"glyph\":{\"id\":\"f0dddc35-ef98-478a-afea-211dfd8c749e\",\"type\":\"HBar\"},\"hover_glyph\":null,\"muted_glyph\":null,\"nonselection_glyph\":{\"id\":\"b580b556-3802-496b-9aed-728c098491a7\",\"type\":\"HBar\"},\"selection_glyph\":null,\"view\":{\"id\":\"2c284d26-150d-4492-a26b-4690c020871d\",\"type\":\"CDSView\"}},\"id\":\"0ef2f4d6-3d26-4812-8b20-eaa30e91981f\",\"type\":\"GlyphRenderer\"},{\"attributes\":{\"line_alpha\":{\"value\":0.1},\"line_color\":{\"value\":\"#1f77b4\"},\"x0\":{\"field\":\"top\"},\"x1\":{\"field\":\"top_whisker\"},\"y0\":{\"field\":\"cat\"},\"y1\":{\"field\":\"cat\"}},\"id\":\"d06af306-ccf4-45fb-b16a-4bc2d86fd1af\",\"type\":\"Segment\"},{\"attributes\":{},\"id\":\"3e099d6a-820b-4a75-a10e-d4a320e3f075\",\"type\":\"BasicTickFormatter\"},{\"attributes\":{\"source\":{\"id\":\"59a95443-d61d-461d-8dd8-2a85f8eaae54\",\"type\":\"ColumnDataSource\"}},\"id\":\"2c284d26-150d-4492-a26b-4690c020871d\",\"type\":\"CDSView\"},{\"attributes\":{},\"id\":\"4869b05b-0a15-4f9c-af82-b763eb34c5d8\",\"type\":\"Selection\"},{\"attributes\":{},\"id\":\"7347df09-1bbf-4547-9da1-efe87d8efaaf\",\"type\":\"CategoricalTickFormatter\"},{\"attributes\":{\"source\":{\"id\":\"59a95443-d61d-461d-8dd8-2a85f8eaae54\",\"type\":\"ColumnDataSource\"}},\"id\":\"0a690133-d98e-4970-86bb-a9c517c160b4\",\"type\":\"CDSView\"},{\"attributes\":{\"fill_alpha\":{\"value\":0.2},\"fill_color\":{\"field\":\"cat\",\"transform\":{\"id\":\"a50197de-80d5-46c9-9f51-9ac8fd9d7839\",\"type\":\"CategoricalColorMapper\"}},\"height\":{\"value\":0.4},\"left\":{\"field\":\"bottom\"},\"right\":{\"field\":\"top\"},\"y\":{\"field\":\"cat\"}},\"id\":\"013ac5d7-9837-4d4f-95b5-11ec52ac9f3c\",\"type\":\"HBar\"},{\"attributes\":{\"fill_alpha\":{\"value\":0.1},\"fill_color\":{\"value\":\"#1f77b4\"},\"height\":{\"value\":0.4},\"left\":{\"field\":\"bottom\"},\"line_alpha\":{\"value\":0.1},\"line_color\":{\"value\":\"#1f77b4\"},\"right\":{\"field\":\"top\"},\"y\":{\"field\":\"cat\"}},\"id\":\"f6324d27-c47c-4ddd-9af5-35a902ce523a\",\"type\":\"HBar\"},{\"attributes\":{},\"id\":\"bac5f966-65a2-434a-9063-1c283e174988\",\"type\":\"PanTool\"},{\"attributes\":{},\"id\":\"b9c3a309-6bcf-4a1f-b7c5-f54cb099035a\",\"type\":\"UnionRenderers\"},{\"attributes\":{\"data_source\":{\"id\":\"59a95443-d61d-461d-8dd8-2a85f8eaae54\",\"type\":\"ColumnDataSource\"},\"glyph\":{\"id\":\"013ac5d7-9837-4d4f-95b5-11ec52ac9f3c\",\"type\":\"HBar\"},\"hover_glyph\":null,\"muted_glyph\":null,\"nonselection_glyph\":{\"id\":\"f6324d27-c47c-4ddd-9af5-35a902ce523a\",\"type\":\"HBar\"},\"selection_glyph\":null,\"view\":{\"id\":\"a9e3e368-f2f9-410c-90c9-4befb03c7261\",\"type\":\"CDSView\"}},\"id\":\"50d1d69c-df21-4a37-bdc6-e6b3ccb8660c\",\"type\":\"GlyphRenderer\"},{\"attributes\":{},\"id\":\"c1f0df4d-344a-45d4-a202-440b9661b841\",\"type\":\"ResetTool\"},{\"attributes\":{\"formatter\":{\"id\":\"3e099d6a-820b-4a75-a10e-d4a320e3f075\",\"type\":\"BasicTickFormatter\"},\"plot\":{\"id\":\"e4d47c9b-663a-4693-9710-6d960fb0cdae\",\"subtype\":\"Figure\",\"type\":\"Plot\"},\"ticker\":{\"id\":\"4ac49d95-a611-4496-afef-ddf5a5640ba3\",\"type\":\"BasicTicker\"}},\"id\":\"1ea6501a-1fb8-4ffc-88a4-8af068ff422e\",\"type\":\"LinearAxis\"},{\"attributes\":{\"source\":{\"id\":\"59a95443-d61d-461d-8dd8-2a85f8eaae54\",\"type\":\"ColumnDataSource\"}},\"id\":\"a9e3e368-f2f9-410c-90c9-4befb03c7261\",\"type\":\"CDSView\"},{\"attributes\":{\"overlay\":{\"id\":\"0382fc93-9932-4387-b4c8-37144efb5997\",\"type\":\"BoxAnnotation\"}},\"id\":\"60e53cc2-4cc3-41a0-a83d-b3f3d4f39478\",\"type\":\"BoxZoomTool\"},{\"attributes\":{\"plot\":{\"id\":\"e4d47c9b-663a-4693-9710-6d960fb0cdae\",\"subtype\":\"Figure\",\"type\":\"Plot\"},\"ticker\":{\"id\":\"4ac49d95-a611-4496-afef-ddf5a5640ba3\",\"type\":\"BasicTicker\"}},\"id\":\"512a4bea-4df2-43d7-a1bf-980c961ce858\",\"type\":\"Grid\"},{\"attributes\":{\"fill_alpha\":{\"value\":0.2},\"fill_color\":{\"field\":\"cat\",\"transform\":{\"id\":\"a50197de-80d5-46c9-9f51-9ac8fd9d7839\",\"type\":\"CategoricalColorMapper\"}},\"height\":{\"value\":0.4},\"left\":{\"field\":\"middle\"},\"right\":{\"field\":\"middle\"},\"y\":{\"field\":\"cat\"}},\"id\":\"52727770-582f-4d3c-99f9-8d0a435d16b7\",\"type\":\"HBar\"},{\"attributes\":{\"factors\":[\"m3\",\"sc\",\"sk\"],\"palette\":[\"#4e79a7\",\"#f28e2b\",\"#e15759\",\"#76b7b2\",\"#59a14f\",\"#edc948\",\"#b07aa1\",\"#ff9da7\",\"#9c755f\",\"#bab0ac\"]},\"id\":\"a44632ab-c565-4644-adc6-4d6bf94675b4\",\"type\":\"CategoricalColorMapper\"},{\"attributes\":{\"factors\":[\"m3\",\"sc\",\"sk\"],\"palette\":[\"#4e79a7\",\"#f28e2b\",\"#e15759\",\"#76b7b2\",\"#59a14f\",\"#edc948\",\"#b07aa1\",\"#ff9da7\",\"#9c755f\",\"#bab0ac\"]},\"id\":\"c558b39b-1286-4465-a745-d528ce02b40a\",\"type\":\"CategoricalColorMapper\"},{\"attributes\":{\"data_source\":{\"id\":\"59a95443-d61d-461d-8dd8-2a85f8eaae54\",\"type\":\"ColumnDataSource\"},\"glyph\":{\"id\":\"b5659588-032f-47d8-a40a-58985d9c0e18\",\"type\":\"Segment\"},\"hover_glyph\":null,\"muted_glyph\":null,\"nonselection_glyph\":{\"id\":\"d06af306-ccf4-45fb-b16a-4bc2d86fd1af\",\"type\":\"Segment\"},\"selection_glyph\":null,\"view\":{\"id\":\"0a690133-d98e-4970-86bb-a9c517c160b4\",\"type\":\"CDSView\"}},\"id\":\"b9d56041-de4c-4748-9f96-8d18e7a99ded\",\"type\":\"GlyphRenderer\"},{\"attributes\":{\"fill_alpha\":{\"value\":0.1},\"fill_color\":{\"value\":\"#1f77b4\"},\"height\":{\"value\":0.4},\"left\":{\"field\":\"middle\"},\"line_alpha\":{\"value\":0.1},\"line_color\":{\"value\":\"#1f77b4\"},\"right\":{\"field\":\"middle\"},\"y\":{\"field\":\"cat\"}},\"id\":\"b243a3f3-b4a0-4722-b252-55df6e2a98a9\",\"type\":\"HBar\"},{\"attributes\":{},\"id\":\"71841a76-7d51-4ad5-927d-5bcc428af878\",\"type\":\"UnionRenderers\"},{\"attributes\":{\"data_source\":{\"id\":\"59a95443-d61d-461d-8dd8-2a85f8eaae54\",\"type\":\"ColumnDataSource\"},\"glyph\":{\"id\":\"52727770-582f-4d3c-99f9-8d0a435d16b7\",\"type\":\"HBar\"},\"hover_glyph\":null,\"muted_glyph\":null,\"nonselection_glyph\":{\"id\":\"b243a3f3-b4a0-4722-b252-55df6e2a98a9\",\"type\":\"HBar\"},\"selection_glyph\":null,\"view\":{\"id\":\"1089b8b3-e07a-4a4c-8009-f2dbb56c2c0a\",\"type\":\"CDSView\"}},\"id\":\"eaa67a65-49b6-4e15-967a-e77551bac8db\",\"type\":\"GlyphRenderer\"},{\"attributes\":{\"source\":{\"id\":\"59a95443-d61d-461d-8dd8-2a85f8eaae54\",\"type\":\"ColumnDataSource\"}},\"id\":\"1089b8b3-e07a-4a4c-8009-f2dbb56c2c0a\",\"type\":\"CDSView\"}],\"root_ids\":[\"e4d47c9b-663a-4693-9710-6d960fb0cdae\"]},\"title\":\"Bokeh Application\",\"version\":\"0.13.0\"}};\n",
       "  var render_items = [{\"docid\":\"f2a1003e-4950-4427-8d60-c6e71f0bbbab\",\"roots\":{\"e4d47c9b-663a-4693-9710-6d960fb0cdae\":\"44c3474a-d051-43d5-ad5e-85d366341c39\"}}];\n",
       "  root.Bokeh.embed.embed_items_notebook(docs_json, render_items);\n",
       "\n",
       "  }\n",
       "  if (root.Bokeh !== undefined) {\n",
       "    embed_document(root);\n",
       "  } else {\n",
       "    var attempts = 0;\n",
       "    var timer = setInterval(function(root) {\n",
       "      if (root.Bokeh !== undefined) {\n",
       "        embed_document(root);\n",
       "        clearInterval(timer);\n",
       "      }\n",
       "      attempts++;\n",
       "      if (attempts > 100) {\n",
       "        console.log(\"Bokeh: ERROR: Unable to run BokehJS code because BokehJS library is missing\")\n",
       "        clearInterval(timer);\n",
       "      }\n",
       "    }, 10, root)\n",
       "  }\n",
       "})(window);"
      ],
      "application/vnd.bokehjs_exec.v0+json": ""
     },
     "metadata": {
      "application/vnd.bokehjs_exec.v0+json": {
       "id": "e4d47c9b-663a-4693-9710-6d960fb0cdae"
      }
     },
     "output_type": "display_data"
    }
   ],
   "source": [
    "def \n",
    "# Box plot\n",
    "p = bebi103.viz.box(data=df_tidy.loc[df_tidy['T'] == '25',:], \n",
    "                    cats='G',\n",
    "                    val='F',\n",
    "                    y_axis_label=None,\n",
    "                    box_kwargs={'fill_alpha': 0.2},\n",
    "                    horizontal=True)\n",
    "\n",
    "# Add jitter; note kwarg p=p to add to existing figure\n",
    "p = bebi103.viz.jitter(data=df_tidy.loc[df_tidy['T'] == '25',:], \n",
    "                       cats='G',\n",
    "                       val='F',\n",
    "                       horizontal=True,\n",
    "                       p=p)\n",
    "bokeh.io.show(p)"
   ]
  },
  {
   "cell_type": "code",
   "execution_count": 168,
   "metadata": {},
   "outputs": [
    {
     "ename": "SchemaValidationError",
     "evalue": "Invalid specification\n\n        altair.vegalite.v2.api.LayerChart->layer->items, validating 'anyOf'\n\n        {'data': {'name': 'data-a2fed9a6c50a02b5391dffbd18e16022'}, 'mark': {'type': 'point'}, 'encoding': {'x': {'type': 'quantitative', 'axis': {'grid': False, 'labels': False, 'title': None, 'values': [0, 1, 2]}, 'field': '__jitter'}, 'y': {'type': 'quantitative', 'field': 'F', 'title': 'F'}, 'color': {'type': 'nominal', 'field': 'G', 'scale': {}, 'title': 'G'}, 'column': {'type': 'quantitative', 'field': 'T', 'title': 'T'}}, 'height': 200, 'width': 300} is not valid under any of the given schemas\n        ",
     "output_type": "error",
     "traceback": [
      "\u001b[0;31m---------------------------------------------------------------------------\u001b[0m",
      "\u001b[0;31mSchemaValidationError\u001b[0m                     Traceback (most recent call last)",
      "\u001b[0;32m/Users/zhiyangjin/anaconda3/lib/python3.7/site-packages/altair/vegalite/v2/api.py\u001b[0m in \u001b[0;36mto_dict\u001b[0;34m(self, *args, **kwargs)\u001b[0m\n\u001b[1;32m    415\u001b[0m         \u001b[0;32mif\u001b[0m \u001b[0mdct\u001b[0m \u001b[0;32mis\u001b[0m \u001b[0;32mNone\u001b[0m\u001b[0;34m:\u001b[0m\u001b[0;34m\u001b[0m\u001b[0m\n\u001b[1;32m    416\u001b[0m             \u001b[0mkwargs\u001b[0m\u001b[0;34m[\u001b[0m\u001b[0;34m'validate'\u001b[0m\u001b[0;34m]\u001b[0m \u001b[0;34m=\u001b[0m \u001b[0;34m'deep'\u001b[0m\u001b[0;34m\u001b[0m\u001b[0m\n\u001b[0;32m--> 417\u001b[0;31m             \u001b[0mdct\u001b[0m \u001b[0;34m=\u001b[0m \u001b[0msuper\u001b[0m\u001b[0;34m(\u001b[0m\u001b[0mTopLevelMixin\u001b[0m\u001b[0;34m,\u001b[0m \u001b[0mcopy\u001b[0m\u001b[0;34m)\u001b[0m\u001b[0;34m.\u001b[0m\u001b[0mto_dict\u001b[0m\u001b[0;34m(\u001b[0m\u001b[0;34m*\u001b[0m\u001b[0margs\u001b[0m\u001b[0;34m,\u001b[0m \u001b[0;34m**\u001b[0m\u001b[0mkwargs\u001b[0m\u001b[0;34m)\u001b[0m\u001b[0;34m\u001b[0m\u001b[0m\n\u001b[0m\u001b[1;32m    418\u001b[0m \u001b[0;34m\u001b[0m\u001b[0m\n\u001b[1;32m    419\u001b[0m         \u001b[0;31m# TODO: following entries are added after validation. Should they be validated?\u001b[0m\u001b[0;34m\u001b[0m\u001b[0;34m\u001b[0m\u001b[0m\n",
      "\u001b[0;32m/Users/zhiyangjin/anaconda3/lib/python3.7/site-packages/altair/utils/schemapi.py\u001b[0m in \u001b[0;36mto_dict\u001b[0;34m(self, validate, ignore, context)\u001b[0m\n\u001b[1;32m    243\u001b[0m             \u001b[0mresult\u001b[0m \u001b[0;34m=\u001b[0m \u001b[0m_todict\u001b[0m\u001b[0;34m(\u001b[0m\u001b[0mself\u001b[0m\u001b[0;34m.\u001b[0m\u001b[0m_args\u001b[0m\u001b[0;34m[\u001b[0m\u001b[0;36m0\u001b[0m\u001b[0;34m]\u001b[0m\u001b[0;34m)\u001b[0m\u001b[0;34m\u001b[0m\u001b[0m\n\u001b[1;32m    244\u001b[0m         \u001b[0;32melif\u001b[0m \u001b[0;32mnot\u001b[0m \u001b[0mself\u001b[0m\u001b[0;34m.\u001b[0m\u001b[0m_args\u001b[0m\u001b[0;34m:\u001b[0m\u001b[0;34m\u001b[0m\u001b[0m\n\u001b[0;32m--> 245\u001b[0;31m             result = _todict({k: v for k, v in self._kwds.items()\n\u001b[0m\u001b[1;32m    246\u001b[0m                               if k not in ignore})\n\u001b[1;32m    247\u001b[0m         \u001b[0;32melse\u001b[0m\u001b[0;34m:\u001b[0m\u001b[0;34m\u001b[0m\u001b[0m\n",
      "\u001b[0;32m/Users/zhiyangjin/anaconda3/lib/python3.7/site-packages/altair/utils/schemapi.py\u001b[0m in \u001b[0;36m_todict\u001b[0;34m(val)\u001b[0m\n\u001b[1;32m    235\u001b[0m                 \u001b[0;32mreturn\u001b[0m \u001b[0;34m[\u001b[0m\u001b[0m_todict\u001b[0m\u001b[0;34m(\u001b[0m\u001b[0mv\u001b[0m\u001b[0;34m)\u001b[0m \u001b[0;32mfor\u001b[0m \u001b[0mv\u001b[0m \u001b[0;32min\u001b[0m \u001b[0mval\u001b[0m\u001b[0;34m]\u001b[0m\u001b[0;34m\u001b[0m\u001b[0m\n\u001b[1;32m    236\u001b[0m             \u001b[0;32melif\u001b[0m \u001b[0misinstance\u001b[0m\u001b[0;34m(\u001b[0m\u001b[0mval\u001b[0m\u001b[0;34m,\u001b[0m \u001b[0mdict\u001b[0m\u001b[0;34m)\u001b[0m\u001b[0;34m:\u001b[0m\u001b[0;34m\u001b[0m\u001b[0m\n\u001b[0;32m--> 237\u001b[0;31m                 return {k: _todict(v) for k, v in val.items()\n\u001b[0m\u001b[1;32m    238\u001b[0m                         if v is not Undefined}\n\u001b[1;32m    239\u001b[0m             \u001b[0;32melse\u001b[0m\u001b[0;34m:\u001b[0m\u001b[0;34m\u001b[0m\u001b[0m\n",
      "\u001b[0;32m/Users/zhiyangjin/anaconda3/lib/python3.7/site-packages/altair/utils/schemapi.py\u001b[0m in \u001b[0;36m<dictcomp>\u001b[0;34m(.0)\u001b[0m\n\u001b[1;32m    236\u001b[0m             \u001b[0;32melif\u001b[0m \u001b[0misinstance\u001b[0m\u001b[0;34m(\u001b[0m\u001b[0mval\u001b[0m\u001b[0;34m,\u001b[0m \u001b[0mdict\u001b[0m\u001b[0;34m)\u001b[0m\u001b[0;34m:\u001b[0m\u001b[0;34m\u001b[0m\u001b[0m\n\u001b[1;32m    237\u001b[0m                 return {k: _todict(v) for k, v in val.items()\n\u001b[0;32m--> 238\u001b[0;31m                         if v is not Undefined}\n\u001b[0m\u001b[1;32m    239\u001b[0m             \u001b[0;32melse\u001b[0m\u001b[0;34m:\u001b[0m\u001b[0;34m\u001b[0m\u001b[0m\n\u001b[1;32m    240\u001b[0m                 \u001b[0;32mreturn\u001b[0m \u001b[0mval\u001b[0m\u001b[0;34m\u001b[0m\u001b[0m\n",
      "\u001b[0;32m/Users/zhiyangjin/anaconda3/lib/python3.7/site-packages/altair/utils/schemapi.py\u001b[0m in \u001b[0;36m_todict\u001b[0;34m(val)\u001b[0m\n\u001b[1;32m    233\u001b[0m                 \u001b[0;32mreturn\u001b[0m \u001b[0mval\u001b[0m\u001b[0;34m.\u001b[0m\u001b[0mto_dict\u001b[0m\u001b[0;34m(\u001b[0m\u001b[0mvalidate\u001b[0m\u001b[0;34m=\u001b[0m\u001b[0msub_validate\u001b[0m\u001b[0;34m,\u001b[0m \u001b[0mcontext\u001b[0m\u001b[0;34m=\u001b[0m\u001b[0mcontext\u001b[0m\u001b[0;34m)\u001b[0m\u001b[0;34m\u001b[0m\u001b[0m\n\u001b[1;32m    234\u001b[0m             \u001b[0;32melif\u001b[0m \u001b[0misinstance\u001b[0m\u001b[0;34m(\u001b[0m\u001b[0mval\u001b[0m\u001b[0;34m,\u001b[0m \u001b[0;34m(\u001b[0m\u001b[0mlist\u001b[0m\u001b[0;34m,\u001b[0m \u001b[0mtuple\u001b[0m\u001b[0;34m)\u001b[0m\u001b[0;34m)\u001b[0m\u001b[0;34m:\u001b[0m\u001b[0;34m\u001b[0m\u001b[0m\n\u001b[0;32m--> 235\u001b[0;31m                 \u001b[0;32mreturn\u001b[0m \u001b[0;34m[\u001b[0m\u001b[0m_todict\u001b[0m\u001b[0;34m(\u001b[0m\u001b[0mv\u001b[0m\u001b[0;34m)\u001b[0m \u001b[0;32mfor\u001b[0m \u001b[0mv\u001b[0m \u001b[0;32min\u001b[0m \u001b[0mval\u001b[0m\u001b[0;34m]\u001b[0m\u001b[0;34m\u001b[0m\u001b[0m\n\u001b[0m\u001b[1;32m    236\u001b[0m             \u001b[0;32melif\u001b[0m \u001b[0misinstance\u001b[0m\u001b[0;34m(\u001b[0m\u001b[0mval\u001b[0m\u001b[0;34m,\u001b[0m \u001b[0mdict\u001b[0m\u001b[0;34m)\u001b[0m\u001b[0;34m:\u001b[0m\u001b[0;34m\u001b[0m\u001b[0m\n\u001b[1;32m    237\u001b[0m                 return {k: _todict(v) for k, v in val.items()\n",
      "\u001b[0;32m/Users/zhiyangjin/anaconda3/lib/python3.7/site-packages/altair/utils/schemapi.py\u001b[0m in \u001b[0;36m<listcomp>\u001b[0;34m(.0)\u001b[0m\n\u001b[1;32m    233\u001b[0m                 \u001b[0;32mreturn\u001b[0m \u001b[0mval\u001b[0m\u001b[0;34m.\u001b[0m\u001b[0mto_dict\u001b[0m\u001b[0;34m(\u001b[0m\u001b[0mvalidate\u001b[0m\u001b[0;34m=\u001b[0m\u001b[0msub_validate\u001b[0m\u001b[0;34m,\u001b[0m \u001b[0mcontext\u001b[0m\u001b[0;34m=\u001b[0m\u001b[0mcontext\u001b[0m\u001b[0;34m)\u001b[0m\u001b[0;34m\u001b[0m\u001b[0m\n\u001b[1;32m    234\u001b[0m             \u001b[0;32melif\u001b[0m \u001b[0misinstance\u001b[0m\u001b[0;34m(\u001b[0m\u001b[0mval\u001b[0m\u001b[0;34m,\u001b[0m \u001b[0;34m(\u001b[0m\u001b[0mlist\u001b[0m\u001b[0;34m,\u001b[0m \u001b[0mtuple\u001b[0m\u001b[0;34m)\u001b[0m\u001b[0;34m)\u001b[0m\u001b[0;34m:\u001b[0m\u001b[0;34m\u001b[0m\u001b[0m\n\u001b[0;32m--> 235\u001b[0;31m                 \u001b[0;32mreturn\u001b[0m \u001b[0;34m[\u001b[0m\u001b[0m_todict\u001b[0m\u001b[0;34m(\u001b[0m\u001b[0mv\u001b[0m\u001b[0;34m)\u001b[0m \u001b[0;32mfor\u001b[0m \u001b[0mv\u001b[0m \u001b[0;32min\u001b[0m \u001b[0mval\u001b[0m\u001b[0;34m]\u001b[0m\u001b[0;34m\u001b[0m\u001b[0m\n\u001b[0m\u001b[1;32m    236\u001b[0m             \u001b[0;32melif\u001b[0m \u001b[0misinstance\u001b[0m\u001b[0;34m(\u001b[0m\u001b[0mval\u001b[0m\u001b[0;34m,\u001b[0m \u001b[0mdict\u001b[0m\u001b[0;34m)\u001b[0m\u001b[0;34m:\u001b[0m\u001b[0;34m\u001b[0m\u001b[0m\n\u001b[1;32m    237\u001b[0m                 return {k: _todict(v) for k, v in val.items()\n",
      "\u001b[0;32m/Users/zhiyangjin/anaconda3/lib/python3.7/site-packages/altair/utils/schemapi.py\u001b[0m in \u001b[0;36m_todict\u001b[0;34m(val)\u001b[0m\n\u001b[1;32m    231\u001b[0m         \u001b[0;32mdef\u001b[0m \u001b[0m_todict\u001b[0m\u001b[0;34m(\u001b[0m\u001b[0mval\u001b[0m\u001b[0;34m)\u001b[0m\u001b[0;34m:\u001b[0m\u001b[0;34m\u001b[0m\u001b[0m\n\u001b[1;32m    232\u001b[0m             \u001b[0;32mif\u001b[0m \u001b[0misinstance\u001b[0m\u001b[0;34m(\u001b[0m\u001b[0mval\u001b[0m\u001b[0;34m,\u001b[0m \u001b[0mSchemaBase\u001b[0m\u001b[0;34m)\u001b[0m\u001b[0;34m:\u001b[0m\u001b[0;34m\u001b[0m\u001b[0m\n\u001b[0;32m--> 233\u001b[0;31m                 \u001b[0;32mreturn\u001b[0m \u001b[0mval\u001b[0m\u001b[0;34m.\u001b[0m\u001b[0mto_dict\u001b[0m\u001b[0;34m(\u001b[0m\u001b[0mvalidate\u001b[0m\u001b[0;34m=\u001b[0m\u001b[0msub_validate\u001b[0m\u001b[0;34m,\u001b[0m \u001b[0mcontext\u001b[0m\u001b[0;34m=\u001b[0m\u001b[0mcontext\u001b[0m\u001b[0;34m)\u001b[0m\u001b[0;34m\u001b[0m\u001b[0m\n\u001b[0m\u001b[1;32m    234\u001b[0m             \u001b[0;32melif\u001b[0m \u001b[0misinstance\u001b[0m\u001b[0;34m(\u001b[0m\u001b[0mval\u001b[0m\u001b[0;34m,\u001b[0m \u001b[0;34m(\u001b[0m\u001b[0mlist\u001b[0m\u001b[0;34m,\u001b[0m \u001b[0mtuple\u001b[0m\u001b[0;34m)\u001b[0m\u001b[0;34m)\u001b[0m\u001b[0;34m:\u001b[0m\u001b[0;34m\u001b[0m\u001b[0m\n\u001b[1;32m    235\u001b[0m                 \u001b[0;32mreturn\u001b[0m \u001b[0;34m[\u001b[0m\u001b[0m_todict\u001b[0m\u001b[0;34m(\u001b[0m\u001b[0mv\u001b[0m\u001b[0;34m)\u001b[0m \u001b[0;32mfor\u001b[0m \u001b[0mv\u001b[0m \u001b[0;32min\u001b[0m \u001b[0mval\u001b[0m\u001b[0;34m]\u001b[0m\u001b[0;34m\u001b[0m\u001b[0m\n",
      "\u001b[0;32m/Users/zhiyangjin/anaconda3/lib/python3.7/site-packages/altair/vegalite/v2/api.py\u001b[0m in \u001b[0;36mto_dict\u001b[0;34m(self, *args, **kwargs)\u001b[0m\n\u001b[1;32m    415\u001b[0m         \u001b[0;32mif\u001b[0m \u001b[0mdct\u001b[0m \u001b[0;32mis\u001b[0m \u001b[0;32mNone\u001b[0m\u001b[0;34m:\u001b[0m\u001b[0;34m\u001b[0m\u001b[0m\n\u001b[1;32m    416\u001b[0m             \u001b[0mkwargs\u001b[0m\u001b[0;34m[\u001b[0m\u001b[0;34m'validate'\u001b[0m\u001b[0;34m]\u001b[0m \u001b[0;34m=\u001b[0m \u001b[0;34m'deep'\u001b[0m\u001b[0;34m\u001b[0m\u001b[0m\n\u001b[0;32m--> 417\u001b[0;31m             \u001b[0mdct\u001b[0m \u001b[0;34m=\u001b[0m \u001b[0msuper\u001b[0m\u001b[0;34m(\u001b[0m\u001b[0mTopLevelMixin\u001b[0m\u001b[0;34m,\u001b[0m \u001b[0mcopy\u001b[0m\u001b[0;34m)\u001b[0m\u001b[0;34m.\u001b[0m\u001b[0mto_dict\u001b[0m\u001b[0;34m(\u001b[0m\u001b[0;34m*\u001b[0m\u001b[0margs\u001b[0m\u001b[0;34m,\u001b[0m \u001b[0;34m**\u001b[0m\u001b[0mkwargs\u001b[0m\u001b[0;34m)\u001b[0m\u001b[0;34m\u001b[0m\u001b[0m\n\u001b[0m\u001b[1;32m    418\u001b[0m \u001b[0;34m\u001b[0m\u001b[0m\n\u001b[1;32m    419\u001b[0m         \u001b[0;31m# TODO: following entries are added after validation. Should they be validated?\u001b[0m\u001b[0;34m\u001b[0m\u001b[0;34m\u001b[0m\u001b[0m\n",
      "\u001b[0;32m/Users/zhiyangjin/anaconda3/lib/python3.7/site-packages/altair/utils/schemapi.py\u001b[0m in \u001b[0;36mto_dict\u001b[0;34m(self, validate, ignore, context)\u001b[0m\n\u001b[1;32m    252\u001b[0m                 \u001b[0mself\u001b[0m\u001b[0;34m.\u001b[0m\u001b[0mvalidate\u001b[0m\u001b[0;34m(\u001b[0m\u001b[0mresult\u001b[0m\u001b[0;34m)\u001b[0m\u001b[0;34m\u001b[0m\u001b[0m\n\u001b[1;32m    253\u001b[0m             \u001b[0;32mexcept\u001b[0m \u001b[0mjsonschema\u001b[0m\u001b[0;34m.\u001b[0m\u001b[0mValidationError\u001b[0m \u001b[0;32mas\u001b[0m \u001b[0merr\u001b[0m\u001b[0;34m:\u001b[0m\u001b[0;34m\u001b[0m\u001b[0m\n\u001b[0;32m--> 254\u001b[0;31m                 \u001b[0;32mraise\u001b[0m \u001b[0mSchemaValidationError\u001b[0m\u001b[0;34m(\u001b[0m\u001b[0mself\u001b[0m\u001b[0;34m,\u001b[0m \u001b[0merr\u001b[0m\u001b[0;34m)\u001b[0m\u001b[0;34m\u001b[0m\u001b[0m\n\u001b[0m\u001b[1;32m    255\u001b[0m         \u001b[0;32mreturn\u001b[0m \u001b[0mresult\u001b[0m\u001b[0;34m\u001b[0m\u001b[0m\n\u001b[1;32m    256\u001b[0m \u001b[0;34m\u001b[0m\u001b[0m\n",
      "\u001b[0;31mSchemaValidationError\u001b[0m: Invalid specification\n\n        altair.vegalite.v2.api.LayerChart->layer->items, validating 'anyOf'\n\n        {'data': {'name': 'data-a2fed9a6c50a02b5391dffbd18e16022'}, 'mark': {'type': 'point'}, 'encoding': {'x': {'type': 'quantitative', 'axis': {'grid': False, 'labels': False, 'title': None, 'values': [0, 1, 2]}, 'field': '__jitter'}, 'y': {'type': 'quantitative', 'field': 'F', 'title': 'F'}, 'color': {'type': 'nominal', 'field': 'G', 'scale': {}, 'title': 'G'}, 'column': {'type': 'quantitative', 'field': 'T', 'title': 'T'}}, 'height': 200, 'width': 300} is not valid under any of the given schemas\n        "
     ]
    },
    {
     "data": {
      "text/plain": [
       "LayerChart({\n",
       "  layer: [LayerChart({\n",
       "    layer: [Chart({\n",
       "      data:    nominal_axis_value   G    middle      bottom         top  top_whisker  \\\n",
       "      0                 2.0  m3  14515.90  11746.2625  18142.5625   27737.0125   \n",
       "      1                 0.0  sc   4816.29   1697.6040  13451.7250   19436.6300   \n",
       "      2                 1.0  sk  14627.98  12786.2625  18036.0650   23189.5600   \n",
       "      \n",
       "         bottom_whisker  left  right  cap_left  cap_right  \n",
       "      0       3149.7170   1.6    2.4       1.9        2.1  \n",
       "      1        492.0972  -0.4    0.4      -0.1        0.1  \n",
       "      2       6910.6730   0.6    1.4       0.9        1.1  ,\n",
       "      encoding: {'x': X({\n",
       "        scale: Scale({\n",
       "          \n",
       "        }),\n",
       "        shorthand: 'nominal_axis_value:Q',\n",
       "        title: None\n",
       "      }), 'y': Y({\n",
       "        shorthand: 'bottom_whisker:Q',\n",
       "        title: 'F'\n",
       "      }), 'y2': Y2({\n",
       "        shorthand: 'bottom:Q'\n",
       "      }), 'color': Undefined},\n",
       "      height: 200,\n",
       "      mark: MarkDef({\n",
       "        color: 'lightgray',\n",
       "        opacity: 1,\n",
       "        type: 'rule'\n",
       "      }),\n",
       "      width: 300\n",
       "    }), Chart({\n",
       "      data:    nominal_axis_value   G    middle      bottom         top  top_whisker  \\\n",
       "      0                 2.0  m3  14515.90  11746.2625  18142.5625   27737.0125   \n",
       "      1                 0.0  sc   4816.29   1697.6040  13451.7250   19436.6300   \n",
       "      2                 1.0  sk  14627.98  12786.2625  18036.0650   23189.5600   \n",
       "      \n",
       "         bottom_whisker  left  right  cap_left  cap_right  \n",
       "      0       3149.7170   1.6    2.4       1.9        2.1  \n",
       "      1        492.0972  -0.4    0.4      -0.1        0.1  \n",
       "      2       6910.6730   0.6    1.4       0.9        1.1  ,\n",
       "      encoding: {'x': X({\n",
       "        scale: Scale({\n",
       "          \n",
       "        }),\n",
       "        shorthand: 'nominal_axis_value:Q',\n",
       "        title: None\n",
       "      }), 'y': Y({\n",
       "        shorthand: 'top:Q',\n",
       "        title: 'F'\n",
       "      }), 'y2': Y2({\n",
       "        shorthand: 'top_whisker:Q'\n",
       "      }), 'color': Undefined},\n",
       "      height: 200,\n",
       "      mark: MarkDef({\n",
       "        color: 'lightgray',\n",
       "        opacity: 1,\n",
       "        type: 'rule'\n",
       "      }),\n",
       "      width: 300\n",
       "    }), Chart({\n",
       "      data:    nominal_axis_value   G    middle      bottom         top  top_whisker  \\\n",
       "      0                 2.0  m3  14515.90  11746.2625  18142.5625   27737.0125   \n",
       "      1                 0.0  sc   4816.29   1697.6040  13451.7250   19436.6300   \n",
       "      2                 1.0  sk  14627.98  12786.2625  18036.0650   23189.5600   \n",
       "      \n",
       "         bottom_whisker  left  right  cap_left  cap_right  \n",
       "      0       3149.7170   1.6    2.4       1.9        2.1  \n",
       "      1        492.0972  -0.4    0.4      -0.1        0.1  \n",
       "      2       6910.6730   0.6    1.4       0.9        1.1  ,\n",
       "      encoding: {'x': X({\n",
       "        scale: Scale({\n",
       "          \n",
       "        }),\n",
       "        shorthand: 'left:Q',\n",
       "        title: None\n",
       "      }), 'x2': X2({\n",
       "        shorthand: 'right:Q'\n",
       "      }), 'y': Y({\n",
       "        shorthand: 'bottom:Q',\n",
       "        title: 'F'\n",
       "      }), 'y2': Y2({\n",
       "        shorthand: 'top:Q'\n",
       "      }), 'color': Undefined},\n",
       "      height: 200,\n",
       "      mark: MarkDef({\n",
       "        color: 'lightgray',\n",
       "        filled: True,\n",
       "        size: 0.4,\n",
       "        type: 'bar'\n",
       "      }),\n",
       "      width: 300\n",
       "    }), Chart({\n",
       "      data:    nominal_axis_value   G    middle      bottom         top  top_whisker  \\\n",
       "      0                 2.0  m3  14515.90  11746.2625  18142.5625   27737.0125   \n",
       "      1                 0.0  sc   4816.29   1697.6040  13451.7250   19436.6300   \n",
       "      2                 1.0  sk  14627.98  12786.2625  18036.0650   23189.5600   \n",
       "      \n",
       "         bottom_whisker  left  right  cap_left  cap_right  \n",
       "      0       3149.7170   1.6    2.4       1.9        2.1  \n",
       "      1        492.0972  -0.4    0.4      -0.1        0.1  \n",
       "      2       6910.6730   0.6    1.4       0.9        1.1  ,\n",
       "      encoding: {'x': X({\n",
       "        scale: Scale({\n",
       "          \n",
       "        }),\n",
       "        shorthand: 'left:Q',\n",
       "        title: None\n",
       "      }), 'x2': X2({\n",
       "        shorthand: 'right:Q'\n",
       "      }), 'y': Y({\n",
       "        shorthand: 'middle:Q',\n",
       "        title: 'F'\n",
       "      }), 'color': Undefined},\n",
       "      height: 200,\n",
       "      mark: MarkDef({\n",
       "        color: 'white',\n",
       "        opacity: 1,\n",
       "        type: 'rule'\n",
       "      }),\n",
       "      width: 300\n",
       "    }), Chart({\n",
       "      data:    nominal_axis_value   G    middle      bottom         top  top_whisker  \\\n",
       "      0                 2.0  m3  14515.90  11746.2625  18142.5625   27737.0125   \n",
       "      1                 0.0  sc   4816.29   1697.6040  13451.7250   19436.6300   \n",
       "      2                 1.0  sk  14627.98  12786.2625  18036.0650   23189.5600   \n",
       "      \n",
       "         bottom_whisker  left  right  cap_left  cap_right  \n",
       "      0       3149.7170   1.6    2.4       1.9        2.1  \n",
       "      1        492.0972  -0.4    0.4      -0.1        0.1  \n",
       "      2       6910.6730   0.6    1.4       0.9        1.1  ,\n",
       "      encoding: {'x': X({\n",
       "        shorthand: 'cap_left:Q'\n",
       "      }), 'x2': X2({\n",
       "        shorthand: 'cap_right:Q'\n",
       "      }), 'y': Y({\n",
       "        shorthand: 'bottom_whisker:Q',\n",
       "        title: 'F'\n",
       "      }), 'color': Undefined},\n",
       "      height: 200,\n",
       "      mark: MarkDef({\n",
       "        color: 'lightgray',\n",
       "        opacity: 1,\n",
       "        type: 'rule'\n",
       "      }),\n",
       "      width: 300\n",
       "    }), Chart({\n",
       "      data:    nominal_axis_value   G    middle      bottom         top  top_whisker  \\\n",
       "      0                 2.0  m3  14515.90  11746.2625  18142.5625   27737.0125   \n",
       "      1                 0.0  sc   4816.29   1697.6040  13451.7250   19436.6300   \n",
       "      2                 1.0  sk  14627.98  12786.2625  18036.0650   23189.5600   \n",
       "      \n",
       "         bottom_whisker  left  right  cap_left  cap_right  \n",
       "      0       3149.7170   1.6    2.4       1.9        2.1  \n",
       "      1        492.0972  -0.4    0.4      -0.1        0.1  \n",
       "      2       6910.6730   0.6    1.4       0.9        1.1  ,\n",
       "      encoding: {'x': X({\n",
       "        shorthand: 'cap_left:Q'\n",
       "      }), 'x2': X2({\n",
       "        shorthand: 'cap_right:Q'\n",
       "      }), 'y': Y({\n",
       "        shorthand: 'top_whisker:Q',\n",
       "        title: 'F'\n",
       "      }), 'color': Undefined},\n",
       "      height: 200,\n",
       "      mark: MarkDef({\n",
       "        color: 'lightgray',\n",
       "        opacity: 1,\n",
       "        type: 'rule'\n",
       "      }),\n",
       "      width: 300\n",
       "    })]\n",
       "  }), LayerChart({\n",
       "    layer: [Chart({\n",
       "      data:      index           F   G   T  __jitter\n",
       "      0        0   1298.5470  sc  15 -0.010407\n",
       "      1        1   6798.1460  sc  15 -0.069853\n",
       "      2        2  10686.9100  sc  15 -0.039987\n",
       "      3        3   2018.8640  sc  15  0.036297\n",
       "      4        4   1551.3960  sc  15  0.153911\n",
       "      5        5   1682.3060  sc  15 -0.045311\n",
       "      6        6   5801.6910  sc  15  0.007213\n",
       "      7        7   3485.5570  sc  15  0.001911\n",
       "      8        8   5701.0430  sc  15 -0.185016\n",
       "      9        9   2584.7330  sc  15 -0.068341\n",
       "      10      10   1089.0280  sc  15 -0.109879\n",
       "      11      11   2131.5900  sc  15  0.040194\n",
       "      12      12    492.0972  sc  15 -0.171080\n",
       "      13      13   1712.9020  sc  15  0.122833\n",
       "      14      14   1478.7770  sc  15  0.145101\n",
       "      15      15   1442.4330  sc  15  0.160382\n",
       "      16      16   1540.4580  sc  15 -0.143035\n",
       "      17      17   1136.7370  sc  15 -0.018643\n",
       "      18      18   1511.9910  sc  15 -0.028395\n",
       "      19      19   5128.1800  sc  15 -0.181601\n",
       "      20      20   4412.1280  sc  15 -0.115075\n",
       "      21      21   1851.2530  sc  15  0.183254\n",
       "      22      22   5540.3170  sc  15  0.143234\n",
       "      23      23   1321.2930  sc  15 -0.106077\n",
       "      24      24    654.7140  sc  15 -0.165700\n",
       "      25      25   3134.3340  sc  15  0.125177\n",
       "      26      26   1482.8430  sc  15  0.089593\n",
       "      27      27   1060.1970  sc  15  0.053845\n",
       "      28       0   2737.1350  sc  20 -0.191416\n",
       "      29       1  12185.3600  sc  20  0.000954\n",
       "      ..     ...         ...  ..  ..       ...\n",
       "      213     23  12839.6500  m3  20  1.938852\n",
       "      214     24  14445.4900  m3  20  2.052078\n",
       "      215     25  12594.0200  m3  20  1.910825\n",
       "      216     26  22372.4300  m3  20  2.061255\n",
       "      217      0  17073.8000  m3  25  1.884899\n",
       "      218      1  15379.3700  m3  25  2.186321\n",
       "      219      2  16991.4900  m3  25  2.069517\n",
       "      220      3  13393.3500  m3  25  1.959327\n",
       "      221      4   7709.2970  m3  25  1.857806\n",
       "      222      5  13274.0800  m3  25  2.014431\n",
       "      223      6  13168.0600  m3  25  1.809316\n",
       "      224      7  14285.9400  m3  25  1.893275\n",
       "      225      8  12071.3300  m3  25  2.117971\n",
       "      226      9  12538.9000  m3  25  2.011507\n",
       "      227     10  18034.9300  m3  25  1.943470\n",
       "      228     11  14180.1100  m3  25  2.144958\n",
       "      229     12  13470.6600  m3  25  1.856203\n",
       "      230     13  16043.4500  m3  25  1.980908\n",
       "      231     14  18205.8400  m3  25  1.932613\n",
       "      232     15  16636.8200  m3  25  2.074517\n",
       "      233     16  11297.4100  m3  25  2.011925\n",
       "      234     17  16896.3100  m3  25  1.901483\n",
       "      235     18  14313.8600  m3  25  1.821615\n",
       "      236     19  16187.4800  m3  25  2.070200\n",
       "      237     20  14487.5600  m3  25  1.835341\n",
       "      238     21  14544.2400  m3  25  2.178801\n",
       "      239     22  12140.3100  m3  25  1.821270\n",
       "      240     23  11876.0200  m3  25  2.125731\n",
       "      241     24  15535.8500  m3  25  1.846982\n",
       "      242     25  12173.0600  m3  25  1.830118\n",
       "      \n",
       "      [243 rows x 5 columns],\n",
       "      encoding: {'x': X({\n",
       "        axis: Axis({\n",
       "          grid: False,\n",
       "          labels: False,\n",
       "          title: None,\n",
       "          values: [0, 1, 2]\n",
       "        }),\n",
       "        shorthand: '__jitter:Q'\n",
       "      }), 'y': Y({\n",
       "        shorthand: 'F:Q',\n",
       "        title: 'F'\n",
       "      }), 'color': Color({\n",
       "        scale: Scale({\n",
       "          \n",
       "        }),\n",
       "        shorthand: 'G:N',\n",
       "        title: 'G'\n",
       "      }), 'column': Column({\n",
       "        shorthand: 'T:Q',\n",
       "        title: 'T'\n",
       "      })},\n",
       "      height: 200,\n",
       "      mark: MarkDef({\n",
       "        type: 'point'\n",
       "      }),\n",
       "      width: 300\n",
       "    }), Chart({\n",
       "      data:    F  __jitter text\n",
       "      0  0         0   sc\n",
       "      1  0         1   sk\n",
       "      2  0         2   m3,\n",
       "      encoding: {'x': X({\n",
       "        axis: Axis({\n",
       "          grid: False,\n",
       "          labels: False,\n",
       "          title: None,\n",
       "          values: [0, 1, 2]\n",
       "        }),\n",
       "        shorthand: '__jitter:Q'\n",
       "      }), 'y': Y({\n",
       "        shorthand: 'F:Q',\n",
       "        title: 'F'\n",
       "      }), 'text': Text({\n",
       "        shorthand: 'text:N'\n",
       "      })},\n",
       "      height: 200,\n",
       "      mark: MarkDef({\n",
       "        align: 'center',\n",
       "        baseline: 'top',\n",
       "        dy: 8,\n",
       "        type: 'text'\n",
       "      }),\n",
       "      width: 300\n",
       "    })]\n",
       "  })]\n",
       "})"
      ]
     },
     "execution_count": 168,
     "metadata": {},
     "output_type": "execute_result"
    }
   ],
   "source": [
    "p3 = altcat.catplot(data=df_tidy,\n",
    "               mark = 'point',\n",
    "               encoding=dict(x=alt.X('G:N', title=None),\n",
    "                             y='F:Q',\n",
    "                             color=alt.Color('G:N', title='G'),\n",
    "                             column=alt.Column('T:Q', title='T')),\n",
    "               transform='jitterbox',\n",
    "               height = 200,\n",
    "               width = 300\n",
    "              )\n",
    "p3"
   ]
  },
  {
   "cell_type": "code",
   "execution_count": null,
   "metadata": {},
   "outputs": [],
   "source": []
  }
 ],
 "metadata": {
  "kernelspec": {
   "display_name": "Python 3",
   "language": "python",
   "name": "python3"
  },
  "language_info": {
   "codemirror_mode": {
    "name": "ipython",
    "version": 3
   },
   "file_extension": ".py",
   "mimetype": "text/x-python",
   "name": "python",
   "nbconvert_exporter": "python",
   "pygments_lexer": "ipython3",
   "version": "3.7.0"
  }
 },
 "nbformat": 4,
 "nbformat_minor": 2
}
