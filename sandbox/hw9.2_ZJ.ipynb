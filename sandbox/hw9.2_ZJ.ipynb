{
 "cells": [
  {
   "cell_type": "code",
   "execution_count": null,
   "metadata": {},
   "outputs": [],
   "source": [
    "import itertools\n",
    "\n",
    "import numpy as np\n",
    "import pandas as pd\n",
    "import altair as alt\n",
    "import altair_catplot as altcat\n",
    "\n",
    "import bebi103\n",
    "\n",
    "import bokeh.io\n",
    "import bokeh.plotting\n",
    "import bokeh.models\n",
    "import bokeh.layouts\n",
    "bokeh.io.output_notebook()\n",
    "color_palette=['#4e79a7', '#f28e2b', '#e15759', '#76b7b2', '#59a14f', '#edc948', '#b07aa1', '#ff9da7', '#9c755f', '#bab0ac']"
   ]
  },
  {
   "cell_type": "code",
   "execution_count": null,
   "metadata": {},
   "outputs": [],
   "source": [
    "df = pd.read_csv('../data/fret_binding_curve.csv', comment='#')\n",
    "\n",
    "df"
   ]
  },
  {
   "cell_type": "code",
   "execution_count": null,
   "metadata": {},
   "outputs": [],
   "source": [
    "pri_pred_1 = '''data {\n",
    "  int N;\n",
    "  real ca0;\n",
    "  real cb0[N]; \n",
    "  real Kd_sigma;\n",
    "  real f0_mu;\n",
    "  real f0_sigma;\n",
    "  real fq_mu;\n",
    "  real fq_sigma;\n",
    "  real noise_sigma;\n",
    "}\n",
    "\n",
    "generated quantities{\n",
    "  real Kd;\n",
    "  real f0;\n",
    "  real fq;\n",
    "  real F[N];\n",
    "  real temp;\n",
    "  real noise;\n",
    "  \n",
    "  Kd = fabs(normal_rng(0, Kd_sigma));\n",
    "  f0 = normal_rng(f0_mu, f0_sigma);\n",
    "  fq = normal_rng(fq_mu, fq_sigma);\n",
    "  noise = fabs(normal_rng(0, noise_sigma));\n",
    "  \n",
    "  \n",
    "  for (i in 1:N) {\n",
    "    temp = f0 * ca0 - (2 * (f0 - fq) * ca0 * cb0[i]) / (Kd + ca0 + cb0[i] + sqrt((Kd + ca0 + cb0[i])^2 - 4 * ca0 * cb0[i]));\n",
    "    F[i] = normal_rng(temp, noise);\n",
    "  }\n",
    "}'''\n",
    "\n",
    "sm = bebi103.stan.StanModel(model_code=pri_pred_1)"
   ]
  },
  {
   "cell_type": "code",
   "execution_count": null,
   "metadata": {},
   "outputs": [],
   "source": [
    "conc_b = df['b conc (nM)'].values\n",
    "\n",
    "data = dict(N=len(df),\n",
    "            ca0 = 50,\n",
    "            cb0 = conc_b,\n",
    "            Kd_sigma = 150,\n",
    "            f0_mu = 9000,\n",
    "            f0_sigma = 2000,\n",
    "            fq_mu = 4500,\n",
    "            fq_sigma = 1000,\n",
    "            noise_sigma = 10000)\n",
    "\n",
    "samples_gen = sm.sampling(data=data,\n",
    "                          algorithm='Fixed_param',\n",
    "                          warmup=0,\n",
    "                          chains=1,\n",
    "                          iter=100)"
   ]
  },
  {
   "cell_type": "code",
   "execution_count": null,
   "metadata": {},
   "outputs": [],
   "source": [
    "df_samples = bebi103.stan.extract_array(samples_gen, name='F')\n",
    "df_samples.head()"
   ]
  },
  {
   "cell_type": "code",
   "execution_count": null,
   "metadata": {},
   "outputs": [],
   "source": [
    "p = bokeh.plotting.figure(width=750,height=500)\n",
    "\n",
    "for i in range(100):\n",
    "    p.line(conc_b[1:], np.diff(df_samples.loc[df_samples['chain_idx'] == i+1, 'F'].values), alpha=0.2, line_width=2)\n",
    "    \n",
    "p.line(conc_b[1:], np.diff(df['fluorescence'].values), color='orange',line_width=2)\n",
    "\n",
    "bokeh.io.show(p)"
   ]
  },
  {
   "cell_type": "code",
   "execution_count": null,
   "metadata": {},
   "outputs": [],
   "source": [
    "p = bokeh.plotting.figure(width=750,height=500)\n",
    "\n",
    "for i in range(100):\n",
    "    p.line(conc_b, df_samples.loc[df_samples['chain_idx'] == i+1, 'F'].values, alpha=0.2)\n",
    "    \n",
    "p.line(conc_b, df['fluorescence'].values, color='orange',line_width=2)\n",
    "\n",
    "bokeh.io.show(p)"
   ]
  },
  {
   "cell_type": "code",
   "execution_count": null,
   "metadata": {},
   "outputs": [],
   "source": [
    "def hw92_predictive(df, x, y, namex='index_1', name='F_ppc', perc=[80, 60, 40, 20], \n",
    "                    x_axis_label=None, y_axis_label=None, title=None, plot_width=350, plot_height=225, \n",
    "                    color='blue', data_color=color_palette[1]):\n",
    "    '''Mimic of predictive ECDF'''\n",
    "    \n",
    "    if color not in ['green', 'blue', 'red', 'gray',\n",
    "                     'purple', 'orange', 'betancourt']:\n",
    "        raise RuntimeError(\"Only allowed colors are 'green', 'blue', 'red', 'gray', 'purple', 'orange'\")\n",
    "    \n",
    "    colors = {'blue': ['#9ecae1','#6baed6','#4292c6','#2171b5','#084594'],\n",
    "              'green': ['#a1d99b','#74c476','#41ab5d','#238b45','#005a32'],\n",
    "              'red': ['#fc9272','#fb6a4a','#ef3b2c','#cb181d','#99000d'],\n",
    "              'orange': ['#fdae6b','#fd8d3c','#f16913','#d94801','#8c2d04'],\n",
    "              'purple': ['#bcbddc','#9e9ac8','#807dba','#6a51a3','#4a1486'],\n",
    "              'gray': ['#bdbdbd','#969696','#737373','#525252','#252525'],\n",
    "              'betancourt': ['#DCBCBC', '#C79999', '#B97C7C',\n",
    "                             '#A25050', '#8F2727', '#7C0000']}\n",
    "    \n",
    "    p = bokeh.plotting.figure(plot_width=plot_width,\n",
    "                              plot_height=plot_height,\n",
    "                              x_axis_label=x_axis_label,\n",
    "                              y_axis_label=y_axis_label,\n",
    "                              title=title)\n",
    "    \n",
    "    Nb = len(x)\n",
    "    y_ppc = np.empty((len(perc) * 2 + 1, Nb))\n",
    "    for i in range(Nb):\n",
    "        temp = df.loc[df[namex]== i+1, name].values\n",
    "        y_ppc[-1, i] = np.median(temp)\n",
    "        for j in range(len(perc)):\n",
    "            y_ppc[j * 2, i] = np.percentile(temp, 50 - perc[j] / 2)\n",
    "            y_ppc[j * 2 + 1, i] = np.percentile(temp, 50 + perc[j] / 2)\n",
    "    \n",
    "    for j in range(len(perc)):\n",
    "        bebi103.viz.fill_between(x, y_ppc[j * 2, :],\n",
    "                     x, y_ppc[j * 2 + 1,:],\n",
    "                     p=p,\n",
    "                     show_line=False,\n",
    "                     fill_color=colors[color][j])\n",
    "        \n",
    "    p.line(x, y_ppc[-1, :],\n",
    "           line_width=2,\n",
    "           color=colors[color][-1])\n",
    "    \n",
    "    p.line(x, y, line_width=2, color='orange')\n",
    "    \n",
    "    return p"
   ]
  },
  {
   "cell_type": "code",
   "execution_count": null,
   "metadata": {},
   "outputs": [],
   "source": [
    "p1 = hw92_predictive(df_samples, conc_b, df['fluorescence'].values,name='F', plot_width=500, plot_height=400)\n",
    "\n",
    "bokeh.io.show(p1)"
   ]
  },
  {
   "cell_type": "code",
   "execution_count": null,
   "metadata": {},
   "outputs": [],
   "source": [
    "model_code_centered = \"\"\"\n",
    "data {\n",
    "  int N;\n",
    "  int ca0;\n",
    "  real cb0[N];\n",
    "  real F[N];\n",
    "}\n",
    "\n",
    "\n",
    "parameters {\n",
    "  real<lower=0> Kd;\n",
    "  real<lower=0> f0;\n",
    "  real<lower=0> fq;\n",
    "  real<lower=0> noise;\n",
    "}\n",
    "\n",
    "transformed parameters {\n",
    "  real F_temp[N];\n",
    "  for (i in 1:N) {\n",
    "    F_temp[i] = f0 * ca0 - (2 * (f0 - fq) * ca0 * cb0[i]) / (Kd + ca0 + cb0[i] + sqrt((Kd + ca0 + cb0[i])^2 - 4 * ca0 * cb0[i]));\n",
    "  }\n",
    "}\n",
    "\n",
    "\n",
    "model {\n",
    "  Kd ~ normal(0, 100);\n",
    "  f0 ~ normal(9000, 2000);\n",
    "  fq ~ normal(4500, 1000);\n",
    "  noise ~ normal(0, 10000);\n",
    "  \n",
    "  F ~ normal(F_temp, noise);\n",
    "}\n",
    "\n",
    "\n",
    "generated quantities {\n",
    "  real F_ppc[N];\n",
    "  \n",
    "  for (i in 1:N) {\n",
    "    F_ppc[i] = normal_rng(F_temp[i], noise);\n",
    "  }\n",
    "}\n",
    "\"\"\"\n",
    "\n",
    "sm_centered = bebi103.stan.StanModel(model_code=model_code_centered)"
   ]
  },
  {
   "cell_type": "code",
   "execution_count": null,
   "metadata": {},
   "outputs": [],
   "source": [
    "data = dict(N=len(df),\n",
    "            ca0 = 50,\n",
    "            cb0 = conc_b,\n",
    "            F = df['fluorescence'].values)"
   ]
  },
  {
   "cell_type": "code",
   "execution_count": null,
   "metadata": {},
   "outputs": [],
   "source": [
    "samples_centered = sm_centered.sampling(data=data)\n",
    "bebi103.stan.check_all_diagnostics(samples_centered)"
   ]
  },
  {
   "cell_type": "code",
   "execution_count": null,
   "metadata": {},
   "outputs": [],
   "source": [
    "bokeh.io.show(bebi103.viz.corner(samples_centered, \n",
    "                                 vars=['Kd', 'f0', 'fq','noise'],\n",
    "                                 plot_width=200,\n",
    "                                 cmap='gray',\n",
    "                                 alpha=0.05))"
   ]
  },
  {
   "cell_type": "code",
   "execution_count": null,
   "metadata": {},
   "outputs": [],
   "source": [
    "df_samples_ppc = bebi103.stan.extract_array(samples_centered, name='F_ppc')"
   ]
  },
  {
   "cell_type": "code",
   "execution_count": null,
   "metadata": {},
   "outputs": [],
   "source": [
    "p2 = hw92_predictive(df_samples, conc_b, df['fluorescence'].values,name='F', plot_width=500, plot_height=400)\n",
    "\n",
    "bokeh.io.show(p2)"
   ]
  },
  {
   "cell_type": "code",
   "execution_count": null,
   "metadata": {},
   "outputs": [],
   "source": [
    "model_code_centered_t = \"\"\"\n",
    "data {\n",
    "  int N;\n",
    "  int ca0;\n",
    "  real cb0[N];\n",
    "  real F[N];\n",
    "}\n",
    "\n",
    "\n",
    "parameters {\n",
    "  real<lower=0> Kd;\n",
    "  real<lower=0> f0;\n",
    "  real<lower=0> fq;\n",
    "  real<lower=1> nu;\n",
    "  real<lower=0> noise;\n",
    "}\n",
    "\n",
    "transformed parameters {\n",
    "  real F_temp[N];\n",
    "  for (i in 1:N) {\n",
    "    F_temp[i] = f0 * ca0 - (2 * (f0 - fq) * ca0 * cb0[i]) / (Kd + ca0 + cb0[i] + sqrt((Kd + ca0 + cb0[i])^2 - 4 * ca0 * cb0[i]));\n",
    "  }\n",
    "}\n",
    "\n",
    "\n",
    "model {\n",
    "  Kd ~ normal(0, 100);\n",
    "  f0 ~ normal(9000, 2000);\n",
    "  fq ~ normal(4500, 1000);\n",
    "  noise ~ normal(0, 10000);\n",
    "  nu ~ normal(1,100);\n",
    "  \n",
    "  F ~ student_t(nu, F_temp, noise);\n",
    "}\n",
    "\n",
    "\n",
    "generated quantities {\n",
    "  real F_ppc[N];\n",
    "  \n",
    "  for (i in 1:N) {\n",
    "    F_ppc[i] = student_t_rng(nu, F_temp[i], noise);\n",
    "  }\n",
    "}\n",
    "\"\"\"\n",
    "\n",
    "sm_centered_t = bebi103.stan.StanModel(model_code=model_code_centered_t)"
   ]
  },
  {
   "cell_type": "code",
   "execution_count": null,
   "metadata": {},
   "outputs": [],
   "source": [
    "samples_centered_t = sm_centered_t.sampling(data=data)\n",
    "bebi103.stan.check_all_diagnostics(samples_centered_t)"
   ]
  },
  {
   "cell_type": "code",
   "execution_count": null,
   "metadata": {},
   "outputs": [],
   "source": [
    "bokeh.io.show(bebi103.viz.corner(samples_centered_t, \n",
    "                                 vars=['Kd', 'f0', 'fq','noise','nu'],\n",
    "                                 plot_width=250,\n",
    "                                 cmap='gray',\n",
    "                                 alpha=0.05))"
   ]
  },
  {
   "cell_type": "code",
   "execution_count": null,
   "metadata": {},
   "outputs": [],
   "source": [
    "p3 = hw92_predictive(df_samples_ppc, conc_b, df['fluorescence'].values,name='F_ppc', plot_width=500, plot_height=400)\n",
    "\n",
    "bokeh.io.show(bokeh.layouts.gridplot([[p2, p3]]))"
   ]
  },
  {
   "cell_type": "code",
   "execution_count": null,
   "metadata": {},
   "outputs": [],
   "source": [
    "test = hw92_predictive(df_samples, conc_b, df['fluorescence'].values,name='F',\n",
    "                       perc=[90, 75, 50, 25], plot_width=500, plot_height=400)\n",
    "\n",
    "bokeh.io.show(test)"
   ]
  },
  {
   "cell_type": "code",
   "execution_count": null,
   "metadata": {},
   "outputs": [],
   "source": [
    "p = bokeh.plotting.figure(width=750,height=500)\n",
    "\n",
    "for i in range(4):\n",
    "    bebi103.viz.fill_between(conc_b, test[2 * i,:], conc_b, test[2 * i + 1, :], show_line=False,p=p)\n",
    "\n",
    "p.line(conc_b, test[-1, :])\n",
    "p.line(conc_b, df['fluorescence'].values, color=color_palette[1],line_width=2)\n",
    "\n",
    "bokeh.io.show(p)"
   ]
  },
  {
   "cell_type": "code",
   "execution_count": null,
   "metadata": {},
   "outputs": [],
   "source": [
    "df_test = pd.DataFrame(np.transpose(test))\n",
    "df_test['cb0']=conc_b\n",
    "df_test"
   ]
  },
  {
   "cell_type": "code",
   "execution_count": null,
   "metadata": {},
   "outputs": [],
   "source": [
    "source = bokeh.models.ColumnDataSource?"
   ]
  },
  {
   "cell_type": "code",
   "execution_count": null,
   "metadata": {},
   "outputs": [],
   "source": [
    "p = bokeh.plotting.figure(plot_width=400, plot_height=400)\n",
    "\n",
    "# add a patch renderer with an alpha an line width\n",
    "p.patch([1, 2, 3, 4, 5], [6, 7, 8, 7, 3], alpha=0.5, line_width=2)\n",
    "\n",
    "bokeh.io.show(p)"
   ]
  },
  {
   "cell_type": "code",
   "execution_count": null,
   "metadata": {},
   "outputs": [],
   "source": []
  }
 ],
 "metadata": {
  "kernelspec": {
   "display_name": "Python 3",
   "language": "python",
   "name": "python3"
  },
  "language_info": {
   "codemirror_mode": {
    "name": "ipython",
    "version": 3
   },
   "file_extension": ".py",
   "mimetype": "text/x-python",
   "name": "python",
   "nbconvert_exporter": "python",
   "pygments_lexer": "ipython3",
   "version": "3.7.0"
  }
 },
 "nbformat": 4,
 "nbformat_minor": 2
}
