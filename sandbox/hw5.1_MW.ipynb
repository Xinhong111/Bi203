{
 "cells": [
  {
   "cell_type": "markdown",
   "metadata": {},
   "source": [
    "## Problem 7.1: Hacker stats and Darwin's finches"
   ]
  },
  {
   "cell_type": "code",
   "execution_count": 1,
   "metadata": {},
   "outputs": [
    {
     "data": {
      "text/html": [
       "\n",
       "    <div class=\"bk-root\">\n",
       "        <a href=\"https://bokeh.pydata.org\" target=\"_blank\" class=\"bk-logo bk-logo-small bk-logo-notebook\"></a>\n",
       "        <span id=\"a7d8921b-5729-4991-b267-0e8299a14c70\">Loading BokehJS ...</span>\n",
       "    </div>"
      ]
     },
     "metadata": {},
     "output_type": "display_data"
    },
    {
     "data": {
      "application/javascript": [
       "\n",
       "(function(root) {\n",
       "  function now() {\n",
       "    return new Date();\n",
       "  }\n",
       "\n",
       "  var force = true;\n",
       "\n",
       "  if (typeof (root._bokeh_onload_callbacks) === \"undefined\" || force === true) {\n",
       "    root._bokeh_onload_callbacks = [];\n",
       "    root._bokeh_is_loading = undefined;\n",
       "  }\n",
       "\n",
       "  var JS_MIME_TYPE = 'application/javascript';\n",
       "  var HTML_MIME_TYPE = 'text/html';\n",
       "  var EXEC_MIME_TYPE = 'application/vnd.bokehjs_exec.v0+json';\n",
       "  var CLASS_NAME = 'output_bokeh rendered_html';\n",
       "\n",
       "  /**\n",
       "   * Render data to the DOM node\n",
       "   */\n",
       "  function render(props, node) {\n",
       "    var script = document.createElement(\"script\");\n",
       "    node.appendChild(script);\n",
       "  }\n",
       "\n",
       "  /**\n",
       "   * Handle when an output is cleared or removed\n",
       "   */\n",
       "  function handleClearOutput(event, handle) {\n",
       "    var cell = handle.cell;\n",
       "\n",
       "    var id = cell.output_area._bokeh_element_id;\n",
       "    var server_id = cell.output_area._bokeh_server_id;\n",
       "    // Clean up Bokeh references\n",
       "    if (id != null && id in Bokeh.index) {\n",
       "      Bokeh.index[id].model.document.clear();\n",
       "      delete Bokeh.index[id];\n",
       "    }\n",
       "\n",
       "    if (server_id !== undefined) {\n",
       "      // Clean up Bokeh references\n",
       "      var cmd = \"from bokeh.io.state import curstate; print(curstate().uuid_to_server['\" + server_id + \"'].get_sessions()[0].document.roots[0]._id)\";\n",
       "      cell.notebook.kernel.execute(cmd, {\n",
       "        iopub: {\n",
       "          output: function(msg) {\n",
       "            var id = msg.content.text.trim();\n",
       "            if (id in Bokeh.index) {\n",
       "              Bokeh.index[id].model.document.clear();\n",
       "              delete Bokeh.index[id];\n",
       "            }\n",
       "          }\n",
       "        }\n",
       "      });\n",
       "      // Destroy server and session\n",
       "      var cmd = \"import bokeh.io.notebook as ion; ion.destroy_server('\" + server_id + \"')\";\n",
       "      cell.notebook.kernel.execute(cmd);\n",
       "    }\n",
       "  }\n",
       "\n",
       "  /**\n",
       "   * Handle when a new output is added\n",
       "   */\n",
       "  function handleAddOutput(event, handle) {\n",
       "    var output_area = handle.output_area;\n",
       "    var output = handle.output;\n",
       "\n",
       "    // limit handleAddOutput to display_data with EXEC_MIME_TYPE content only\n",
       "    if ((output.output_type != \"display_data\") || (!output.data.hasOwnProperty(EXEC_MIME_TYPE))) {\n",
       "      return\n",
       "    }\n",
       "\n",
       "    var toinsert = output_area.element.find(\".\" + CLASS_NAME.split(' ')[0]);\n",
       "\n",
       "    if (output.metadata[EXEC_MIME_TYPE][\"id\"] !== undefined) {\n",
       "      toinsert[toinsert.length - 1].firstChild.textContent = output.data[JS_MIME_TYPE];\n",
       "      // store reference to embed id on output_area\n",
       "      output_area._bokeh_element_id = output.metadata[EXEC_MIME_TYPE][\"id\"];\n",
       "    }\n",
       "    if (output.metadata[EXEC_MIME_TYPE][\"server_id\"] !== undefined) {\n",
       "      var bk_div = document.createElement(\"div\");\n",
       "      bk_div.innerHTML = output.data[HTML_MIME_TYPE];\n",
       "      var script_attrs = bk_div.children[0].attributes;\n",
       "      for (var i = 0; i < script_attrs.length; i++) {\n",
       "        toinsert[toinsert.length - 1].firstChild.setAttribute(script_attrs[i].name, script_attrs[i].value);\n",
       "      }\n",
       "      // store reference to server id on output_area\n",
       "      output_area._bokeh_server_id = output.metadata[EXEC_MIME_TYPE][\"server_id\"];\n",
       "    }\n",
       "  }\n",
       "\n",
       "  function register_renderer(events, OutputArea) {\n",
       "\n",
       "    function append_mime(data, metadata, element) {\n",
       "      // create a DOM node to render to\n",
       "      var toinsert = this.create_output_subarea(\n",
       "        metadata,\n",
       "        CLASS_NAME,\n",
       "        EXEC_MIME_TYPE\n",
       "      );\n",
       "      this.keyboard_manager.register_events(toinsert);\n",
       "      // Render to node\n",
       "      var props = {data: data, metadata: metadata[EXEC_MIME_TYPE]};\n",
       "      render(props, toinsert[toinsert.length - 1]);\n",
       "      element.append(toinsert);\n",
       "      return toinsert\n",
       "    }\n",
       "\n",
       "    /* Handle when an output is cleared or removed */\n",
       "    events.on('clear_output.CodeCell', handleClearOutput);\n",
       "    events.on('delete.Cell', handleClearOutput);\n",
       "\n",
       "    /* Handle when a new output is added */\n",
       "    events.on('output_added.OutputArea', handleAddOutput);\n",
       "\n",
       "    /**\n",
       "     * Register the mime type and append_mime function with output_area\n",
       "     */\n",
       "    OutputArea.prototype.register_mime_type(EXEC_MIME_TYPE, append_mime, {\n",
       "      /* Is output safe? */\n",
       "      safe: true,\n",
       "      /* Index of renderer in `output_area.display_order` */\n",
       "      index: 0\n",
       "    });\n",
       "  }\n",
       "\n",
       "  // register the mime type if in Jupyter Notebook environment and previously unregistered\n",
       "  if (root.Jupyter !== undefined) {\n",
       "    var events = require('base/js/events');\n",
       "    var OutputArea = require('notebook/js/outputarea').OutputArea;\n",
       "\n",
       "    if (OutputArea.prototype.mime_types().indexOf(EXEC_MIME_TYPE) == -1) {\n",
       "      register_renderer(events, OutputArea);\n",
       "    }\n",
       "  }\n",
       "\n",
       "  \n",
       "  if (typeof (root._bokeh_timeout) === \"undefined\" || force === true) {\n",
       "    root._bokeh_timeout = Date.now() + 5000;\n",
       "    root._bokeh_failed_load = false;\n",
       "  }\n",
       "\n",
       "  var NB_LOAD_WARNING = {'data': {'text/html':\n",
       "     \"<div style='background-color: #fdd'>\\n\"+\n",
       "     \"<p>\\n\"+\n",
       "     \"BokehJS does not appear to have successfully loaded. If loading BokehJS from CDN, this \\n\"+\n",
       "     \"may be due to a slow or bad network connection. Possible fixes:\\n\"+\n",
       "     \"</p>\\n\"+\n",
       "     \"<ul>\\n\"+\n",
       "     \"<li>re-rerun `output_notebook()` to attempt to load from CDN again, or</li>\\n\"+\n",
       "     \"<li>use INLINE resources instead, as so:</li>\\n\"+\n",
       "     \"</ul>\\n\"+\n",
       "     \"<code>\\n\"+\n",
       "     \"from bokeh.resources import INLINE\\n\"+\n",
       "     \"output_notebook(resources=INLINE)\\n\"+\n",
       "     \"</code>\\n\"+\n",
       "     \"</div>\"}};\n",
       "\n",
       "  function display_loaded() {\n",
       "    var el = document.getElementById(\"a7d8921b-5729-4991-b267-0e8299a14c70\");\n",
       "    if (el != null) {\n",
       "      el.textContent = \"BokehJS is loading...\";\n",
       "    }\n",
       "    if (root.Bokeh !== undefined) {\n",
       "      if (el != null) {\n",
       "        el.textContent = \"BokehJS \" + root.Bokeh.version + \" successfully loaded.\";\n",
       "      }\n",
       "    } else if (Date.now() < root._bokeh_timeout) {\n",
       "      setTimeout(display_loaded, 100)\n",
       "    }\n",
       "  }\n",
       "\n",
       "\n",
       "  function run_callbacks() {\n",
       "    try {\n",
       "      root._bokeh_onload_callbacks.forEach(function(callback) { callback() });\n",
       "    }\n",
       "    finally {\n",
       "      delete root._bokeh_onload_callbacks\n",
       "    }\n",
       "    console.info(\"Bokeh: all callbacks have finished\");\n",
       "  }\n",
       "\n",
       "  function load_libs(js_urls, callback) {\n",
       "    root._bokeh_onload_callbacks.push(callback);\n",
       "    if (root._bokeh_is_loading > 0) {\n",
       "      console.log(\"Bokeh: BokehJS is being loaded, scheduling callback at\", now());\n",
       "      return null;\n",
       "    }\n",
       "    if (js_urls == null || js_urls.length === 0) {\n",
       "      run_callbacks();\n",
       "      return null;\n",
       "    }\n",
       "    console.log(\"Bokeh: BokehJS not loaded, scheduling load and callback at\", now());\n",
       "    root._bokeh_is_loading = js_urls.length;\n",
       "    for (var i = 0; i < js_urls.length; i++) {\n",
       "      var url = js_urls[i];\n",
       "      var s = document.createElement('script');\n",
       "      s.src = url;\n",
       "      s.async = false;\n",
       "      s.onreadystatechange = s.onload = function() {\n",
       "        root._bokeh_is_loading--;\n",
       "        if (root._bokeh_is_loading === 0) {\n",
       "          console.log(\"Bokeh: all BokehJS libraries loaded\");\n",
       "          run_callbacks()\n",
       "        }\n",
       "      };\n",
       "      s.onerror = function() {\n",
       "        console.warn(\"failed to load library \" + url);\n",
       "      };\n",
       "      console.log(\"Bokeh: injecting script tag for BokehJS library: \", url);\n",
       "      document.getElementsByTagName(\"head\")[0].appendChild(s);\n",
       "    }\n",
       "  };var element = document.getElementById(\"a7d8921b-5729-4991-b267-0e8299a14c70\");\n",
       "  if (element == null) {\n",
       "    console.log(\"Bokeh: ERROR: autoload.js configured with elementid 'a7d8921b-5729-4991-b267-0e8299a14c70' but no matching script tag was found. \")\n",
       "    return false;\n",
       "  }\n",
       "\n",
       "  var js_urls = [\"https://cdn.pydata.org/bokeh/release/bokeh-0.13.0.min.js\", \"https://cdn.pydata.org/bokeh/release/bokeh-widgets-0.13.0.min.js\", \"https://cdn.pydata.org/bokeh/release/bokeh-tables-0.13.0.min.js\", \"https://cdn.pydata.org/bokeh/release/bokeh-gl-0.13.0.min.js\"];\n",
       "\n",
       "  var inline_js = [\n",
       "    function(Bokeh) {\n",
       "      Bokeh.set_log_level(\"info\");\n",
       "    },\n",
       "    \n",
       "    function(Bokeh) {\n",
       "      \n",
       "    },\n",
       "    function(Bokeh) {\n",
       "      console.log(\"Bokeh: injecting CSS: https://cdn.pydata.org/bokeh/release/bokeh-0.13.0.min.css\");\n",
       "      Bokeh.embed.inject_css(\"https://cdn.pydata.org/bokeh/release/bokeh-0.13.0.min.css\");\n",
       "      console.log(\"Bokeh: injecting CSS: https://cdn.pydata.org/bokeh/release/bokeh-widgets-0.13.0.min.css\");\n",
       "      Bokeh.embed.inject_css(\"https://cdn.pydata.org/bokeh/release/bokeh-widgets-0.13.0.min.css\");\n",
       "      console.log(\"Bokeh: injecting CSS: https://cdn.pydata.org/bokeh/release/bokeh-tables-0.13.0.min.css\");\n",
       "      Bokeh.embed.inject_css(\"https://cdn.pydata.org/bokeh/release/bokeh-tables-0.13.0.min.css\");\n",
       "    }\n",
       "  ];\n",
       "\n",
       "  function run_inline_js() {\n",
       "    \n",
       "    if ((root.Bokeh !== undefined) || (force === true)) {\n",
       "      for (var i = 0; i < inline_js.length; i++) {\n",
       "        inline_js[i].call(root, root.Bokeh);\n",
       "      }if (force === true) {\n",
       "        display_loaded();\n",
       "      }} else if (Date.now() < root._bokeh_timeout) {\n",
       "      setTimeout(run_inline_js, 100);\n",
       "    } else if (!root._bokeh_failed_load) {\n",
       "      console.log(\"Bokeh: BokehJS failed to load within specified timeout.\");\n",
       "      root._bokeh_failed_load = true;\n",
       "    } else if (force !== true) {\n",
       "      var cell = $(document.getElementById(\"a7d8921b-5729-4991-b267-0e8299a14c70\")).parents('.cell').data().cell;\n",
       "      cell.output_area.append_execute_result(NB_LOAD_WARNING)\n",
       "    }\n",
       "\n",
       "  }\n",
       "\n",
       "  if (root._bokeh_is_loading === 0) {\n",
       "    console.log(\"Bokeh: BokehJS loaded, going straight to plotting\");\n",
       "    run_inline_js();\n",
       "  } else {\n",
       "    load_libs(js_urls, function() {\n",
       "      console.log(\"Bokeh: BokehJS plotting callback run at\", now());\n",
       "      run_inline_js();\n",
       "    });\n",
       "  }\n",
       "}(window));"
      ],
      "application/vnd.bokehjs_load.v0+json": "\n(function(root) {\n  function now() {\n    return new Date();\n  }\n\n  var force = true;\n\n  if (typeof (root._bokeh_onload_callbacks) === \"undefined\" || force === true) {\n    root._bokeh_onload_callbacks = [];\n    root._bokeh_is_loading = undefined;\n  }\n\n  \n\n  \n  if (typeof (root._bokeh_timeout) === \"undefined\" || force === true) {\n    root._bokeh_timeout = Date.now() + 5000;\n    root._bokeh_failed_load = false;\n  }\n\n  var NB_LOAD_WARNING = {'data': {'text/html':\n     \"<div style='background-color: #fdd'>\\n\"+\n     \"<p>\\n\"+\n     \"BokehJS does not appear to have successfully loaded. If loading BokehJS from CDN, this \\n\"+\n     \"may be due to a slow or bad network connection. Possible fixes:\\n\"+\n     \"</p>\\n\"+\n     \"<ul>\\n\"+\n     \"<li>re-rerun `output_notebook()` to attempt to load from CDN again, or</li>\\n\"+\n     \"<li>use INLINE resources instead, as so:</li>\\n\"+\n     \"</ul>\\n\"+\n     \"<code>\\n\"+\n     \"from bokeh.resources import INLINE\\n\"+\n     \"output_notebook(resources=INLINE)\\n\"+\n     \"</code>\\n\"+\n     \"</div>\"}};\n\n  function display_loaded() {\n    var el = document.getElementById(\"a7d8921b-5729-4991-b267-0e8299a14c70\");\n    if (el != null) {\n      el.textContent = \"BokehJS is loading...\";\n    }\n    if (root.Bokeh !== undefined) {\n      if (el != null) {\n        el.textContent = \"BokehJS \" + root.Bokeh.version + \" successfully loaded.\";\n      }\n    } else if (Date.now() < root._bokeh_timeout) {\n      setTimeout(display_loaded, 100)\n    }\n  }\n\n\n  function run_callbacks() {\n    try {\n      root._bokeh_onload_callbacks.forEach(function(callback) { callback() });\n    }\n    finally {\n      delete root._bokeh_onload_callbacks\n    }\n    console.info(\"Bokeh: all callbacks have finished\");\n  }\n\n  function load_libs(js_urls, callback) {\n    root._bokeh_onload_callbacks.push(callback);\n    if (root._bokeh_is_loading > 0) {\n      console.log(\"Bokeh: BokehJS is being loaded, scheduling callback at\", now());\n      return null;\n    }\n    if (js_urls == null || js_urls.length === 0) {\n      run_callbacks();\n      return null;\n    }\n    console.log(\"Bokeh: BokehJS not loaded, scheduling load and callback at\", now());\n    root._bokeh_is_loading = js_urls.length;\n    for (var i = 0; i < js_urls.length; i++) {\n      var url = js_urls[i];\n      var s = document.createElement('script');\n      s.src = url;\n      s.async = false;\n      s.onreadystatechange = s.onload = function() {\n        root._bokeh_is_loading--;\n        if (root._bokeh_is_loading === 0) {\n          console.log(\"Bokeh: all BokehJS libraries loaded\");\n          run_callbacks()\n        }\n      };\n      s.onerror = function() {\n        console.warn(\"failed to load library \" + url);\n      };\n      console.log(\"Bokeh: injecting script tag for BokehJS library: \", url);\n      document.getElementsByTagName(\"head\")[0].appendChild(s);\n    }\n  };var element = document.getElementById(\"a7d8921b-5729-4991-b267-0e8299a14c70\");\n  if (element == null) {\n    console.log(\"Bokeh: ERROR: autoload.js configured with elementid 'a7d8921b-5729-4991-b267-0e8299a14c70' but no matching script tag was found. \")\n    return false;\n  }\n\n  var js_urls = [\"https://cdn.pydata.org/bokeh/release/bokeh-0.13.0.min.js\", \"https://cdn.pydata.org/bokeh/release/bokeh-widgets-0.13.0.min.js\", \"https://cdn.pydata.org/bokeh/release/bokeh-tables-0.13.0.min.js\", \"https://cdn.pydata.org/bokeh/release/bokeh-gl-0.13.0.min.js\"];\n\n  var inline_js = [\n    function(Bokeh) {\n      Bokeh.set_log_level(\"info\");\n    },\n    \n    function(Bokeh) {\n      \n    },\n    function(Bokeh) {\n      console.log(\"Bokeh: injecting CSS: https://cdn.pydata.org/bokeh/release/bokeh-0.13.0.min.css\");\n      Bokeh.embed.inject_css(\"https://cdn.pydata.org/bokeh/release/bokeh-0.13.0.min.css\");\n      console.log(\"Bokeh: injecting CSS: https://cdn.pydata.org/bokeh/release/bokeh-widgets-0.13.0.min.css\");\n      Bokeh.embed.inject_css(\"https://cdn.pydata.org/bokeh/release/bokeh-widgets-0.13.0.min.css\");\n      console.log(\"Bokeh: injecting CSS: https://cdn.pydata.org/bokeh/release/bokeh-tables-0.13.0.min.css\");\n      Bokeh.embed.inject_css(\"https://cdn.pydata.org/bokeh/release/bokeh-tables-0.13.0.min.css\");\n    }\n  ];\n\n  function run_inline_js() {\n    \n    if ((root.Bokeh !== undefined) || (force === true)) {\n      for (var i = 0; i < inline_js.length; i++) {\n        inline_js[i].call(root, root.Bokeh);\n      }if (force === true) {\n        display_loaded();\n      }} else if (Date.now() < root._bokeh_timeout) {\n      setTimeout(run_inline_js, 100);\n    } else if (!root._bokeh_failed_load) {\n      console.log(\"Bokeh: BokehJS failed to load within specified timeout.\");\n      root._bokeh_failed_load = true;\n    } else if (force !== true) {\n      var cell = $(document.getElementById(\"a7d8921b-5729-4991-b267-0e8299a14c70\")).parents('.cell').data().cell;\n      cell.output_area.append_execute_result(NB_LOAD_WARNING)\n    }\n\n  }\n\n  if (root._bokeh_is_loading === 0) {\n    console.log(\"Bokeh: BokehJS loaded, going straight to plotting\");\n    run_inline_js();\n  } else {\n    load_libs(js_urls, function() {\n      console.log(\"Bokeh: BokehJS plotting callback run at\", now());\n      run_inline_js();\n    });\n  }\n}(window));"
     },
     "metadata": {},
     "output_type": "display_data"
    }
   ],
   "source": [
    "import numpy as np\n",
    "import pandas as pd\n",
    "import scipy.special\n",
    "import scipy.stats as st\n",
    "\n",
    "import pystan\n",
    "\n",
    "import bebi103\n",
    "\n",
    "import altair as alt\n",
    "import altair_catplot as altcat\n",
    "\n",
    "import bokeh.io\n",
    "import bokeh.plotting\n",
    "bokeh.io.output_notebook()"
   ]
  },
  {
   "cell_type": "markdown",
   "metadata": {},
   "source": [
    "a) We start with a little tidying of the data. Think about how you will deal with duplicate measurements of the same bird and make a decision on how those data are to be treated."
   ]
  },
  {
   "cell_type": "code",
   "execution_count": 3,
   "metadata": {},
   "outputs": [
    {
     "data": {
      "text/html": [
       "<div>\n",
       "<style scoped>\n",
       "    .dataframe tbody tr th:only-of-type {\n",
       "        vertical-align: middle;\n",
       "    }\n",
       "\n",
       "    .dataframe tbody tr th {\n",
       "        vertical-align: top;\n",
       "    }\n",
       "\n",
       "    .dataframe thead th {\n",
       "        text-align: right;\n",
       "    }\n",
       "</style>\n",
       "<table border=\"1\" class=\"dataframe\">\n",
       "  <thead>\n",
       "    <tr style=\"text-align: right;\">\n",
       "      <th></th>\n",
       "      <th>band</th>\n",
       "      <th>species</th>\n",
       "      <th>beak length (mm)</th>\n",
       "      <th>beak depth (mm)</th>\n",
       "      <th>year</th>\n",
       "    </tr>\n",
       "  </thead>\n",
       "  <tbody>\n",
       "    <tr>\n",
       "      <th>0</th>\n",
       "      <td>20123</td>\n",
       "      <td>fortis</td>\n",
       "      <td>9.25</td>\n",
       "      <td>8.05</td>\n",
       "      <td>1973</td>\n",
       "    </tr>\n",
       "    <tr>\n",
       "      <th>1</th>\n",
       "      <td>20126</td>\n",
       "      <td>fortis</td>\n",
       "      <td>11.35</td>\n",
       "      <td>10.45</td>\n",
       "      <td>1973</td>\n",
       "    </tr>\n",
       "    <tr>\n",
       "      <th>2</th>\n",
       "      <td>20128</td>\n",
       "      <td>fortis</td>\n",
       "      <td>10.15</td>\n",
       "      <td>9.55</td>\n",
       "      <td>1973</td>\n",
       "    </tr>\n",
       "    <tr>\n",
       "      <th>3</th>\n",
       "      <td>20129</td>\n",
       "      <td>fortis</td>\n",
       "      <td>9.95</td>\n",
       "      <td>8.75</td>\n",
       "      <td>1973</td>\n",
       "    </tr>\n",
       "    <tr>\n",
       "      <th>4</th>\n",
       "      <td>20133</td>\n",
       "      <td>fortis</td>\n",
       "      <td>11.55</td>\n",
       "      <td>10.15</td>\n",
       "      <td>1973</td>\n",
       "    </tr>\n",
       "  </tbody>\n",
       "</table>\n",
       "</div>"
      ],
      "text/plain": [
       "    band species  beak length (mm)  beak depth (mm)  year\n",
       "0  20123  fortis              9.25             8.05  1973\n",
       "1  20126  fortis             11.35            10.45  1973\n",
       "2  20128  fortis             10.15             9.55  1973\n",
       "3  20129  fortis              9.95             8.75  1973\n",
       "4  20133  fortis             11.55            10.15  1973"
      ]
     },
     "execution_count": 3,
     "metadata": {},
     "output_type": "execute_result"
    }
   ],
   "source": [
    "# Read in the data\n",
    "df = pd.read_csv('../data/finch_beaks.csv', comment='#')\n",
    "\n",
    "# Take a look\n",
    "df.head()"
   ]
  },
  {
   "cell_type": "markdown",
   "metadata": {},
   "source": [
    "Let's look for duplicates based on band number and year."
   ]
  },
  {
   "cell_type": "code",
   "execution_count": 10,
   "metadata": {},
   "outputs": [
    {
     "data": {
      "text/html": [
       "<div>\n",
       "<style scoped>\n",
       "    .dataframe tbody tr th:only-of-type {\n",
       "        vertical-align: middle;\n",
       "    }\n",
       "\n",
       "    .dataframe tbody tr th {\n",
       "        vertical-align: top;\n",
       "    }\n",
       "\n",
       "    .dataframe thead th {\n",
       "        text-align: right;\n",
       "    }\n",
       "</style>\n",
       "<table border=\"1\" class=\"dataframe\">\n",
       "  <thead>\n",
       "    <tr style=\"text-align: right;\">\n",
       "      <th></th>\n",
       "      <th>band</th>\n",
       "      <th>species</th>\n",
       "      <th>beak length (mm)</th>\n",
       "      <th>beak depth (mm)</th>\n",
       "      <th>year</th>\n",
       "    </tr>\n",
       "  </thead>\n",
       "  <tbody>\n",
       "    <tr>\n",
       "      <th>102</th>\n",
       "      <td>316</td>\n",
       "      <td>fortis</td>\n",
       "      <td>10.9</td>\n",
       "      <td>9.70</td>\n",
       "      <td>1975</td>\n",
       "    </tr>\n",
       "    <tr>\n",
       "      <th>103</th>\n",
       "      <td>316</td>\n",
       "      <td>fortis</td>\n",
       "      <td>10.9</td>\n",
       "      <td>9.85</td>\n",
       "      <td>1975</td>\n",
       "    </tr>\n",
       "    <tr>\n",
       "      <th>304</th>\n",
       "      <td>818</td>\n",
       "      <td>fortis</td>\n",
       "      <td>10.2</td>\n",
       "      <td>9.00</td>\n",
       "      <td>1975</td>\n",
       "    </tr>\n",
       "    <tr>\n",
       "      <th>305</th>\n",
       "      <td>818</td>\n",
       "      <td>fortis</td>\n",
       "      <td>10.2</td>\n",
       "      <td>9.00</td>\n",
       "      <td>1975</td>\n",
       "    </tr>\n",
       "    <tr>\n",
       "      <th>363</th>\n",
       "      <td>944</td>\n",
       "      <td>fortis</td>\n",
       "      <td>10.3</td>\n",
       "      <td>8.30</td>\n",
       "      <td>1975</td>\n",
       "    </tr>\n",
       "    <tr>\n",
       "      <th>364</th>\n",
       "      <td>944</td>\n",
       "      <td>fortis</td>\n",
       "      <td>10.3</td>\n",
       "      <td>8.30</td>\n",
       "      <td>1975</td>\n",
       "    </tr>\n",
       "    <tr>\n",
       "      <th>365</th>\n",
       "      <td>945</td>\n",
       "      <td>fortis</td>\n",
       "      <td>11.6</td>\n",
       "      <td>10.80</td>\n",
       "      <td>1975</td>\n",
       "    </tr>\n",
       "    <tr>\n",
       "      <th>366</th>\n",
       "      <td>945</td>\n",
       "      <td>fortis</td>\n",
       "      <td>11.6</td>\n",
       "      <td>10.80</td>\n",
       "      <td>1975</td>\n",
       "    </tr>\n",
       "    <tr>\n",
       "      <th>2057</th>\n",
       "      <td>19028</td>\n",
       "      <td>fortis</td>\n",
       "      <td>12.5</td>\n",
       "      <td>8.90</td>\n",
       "      <td>2012</td>\n",
       "    </tr>\n",
       "    <tr>\n",
       "      <th>2178</th>\n",
       "      <td>19028</td>\n",
       "      <td>scandens</td>\n",
       "      <td>12.5</td>\n",
       "      <td>8.90</td>\n",
       "      <td>2012</td>\n",
       "    </tr>\n",
       "  </tbody>\n",
       "</table>\n",
       "</div>"
      ],
      "text/plain": [
       "       band   species  beak length (mm)  beak depth (mm)  year\n",
       "102     316    fortis              10.9             9.70  1975\n",
       "103     316    fortis              10.9             9.85  1975\n",
       "304     818    fortis              10.2             9.00  1975\n",
       "305     818    fortis              10.2             9.00  1975\n",
       "363     944    fortis              10.3             8.30  1975\n",
       "364     944    fortis              10.3             8.30  1975\n",
       "365     945    fortis              11.6            10.80  1975\n",
       "366     945    fortis              11.6            10.80  1975\n",
       "2057  19028    fortis              12.5             8.90  2012\n",
       "2178  19028  scandens              12.5             8.90  2012"
      ]
     },
     "execution_count": 10,
     "metadata": {},
     "output_type": "execute_result"
    }
   ],
   "source": [
    "pd.concat(g for _, g in df.groupby(['band', 'year']) if len(g) > 1)"
   ]
  },
  {
   "cell_type": "markdown",
   "metadata": {},
   "source": [
    "It looks like for ID 19028, the species was identified as fortis and then as scandens, but the beak measurements are the same. For IDs 818, 944, and 945, the rows are exact duplicates. For band 316, the beak depth measurement is different."
   ]
  },
  {
   "cell_type": "markdown",
   "metadata": {},
   "source": [
    "Let's first drop complete duplicates."
   ]
  },
  {
   "cell_type": "code",
   "execution_count": 20,
   "metadata": {},
   "outputs": [],
   "source": [
    "df_deduped = df.drop_duplicates()"
   ]
  },
  {
   "cell_type": "code",
   "execution_count": 23,
   "metadata": {},
   "outputs": [
    {
     "data": {
      "text/plain": [
       "2304"
      ]
     },
     "execution_count": 23,
     "metadata": {},
     "output_type": "execute_result"
    }
   ],
   "source": [
    "len(df)"
   ]
  },
  {
   "cell_type": "code",
   "execution_count": 22,
   "metadata": {},
   "outputs": [
    {
     "data": {
      "text/plain": [
       "2301"
      ]
     },
     "execution_count": 22,
     "metadata": {},
     "output_type": "execute_result"
    }
   ],
   "source": [
    "len(df_deduped)"
   ]
  },
  {
   "cell_type": "markdown",
   "metadata": {},
   "source": [
    "Three rows were indeed deleted."
   ]
  },
  {
   "cell_type": "code",
   "execution_count": 24,
   "metadata": {},
   "outputs": [
    {
     "data": {
      "text/html": [
       "<div>\n",
       "<style scoped>\n",
       "    .dataframe tbody tr th:only-of-type {\n",
       "        vertical-align: middle;\n",
       "    }\n",
       "\n",
       "    .dataframe tbody tr th {\n",
       "        vertical-align: top;\n",
       "    }\n",
       "\n",
       "    .dataframe thead th {\n",
       "        text-align: right;\n",
       "    }\n",
       "</style>\n",
       "<table border=\"1\" class=\"dataframe\">\n",
       "  <thead>\n",
       "    <tr style=\"text-align: right;\">\n",
       "      <th></th>\n",
       "      <th>band</th>\n",
       "      <th>species</th>\n",
       "      <th>beak length (mm)</th>\n",
       "      <th>beak depth (mm)</th>\n",
       "      <th>year</th>\n",
       "    </tr>\n",
       "  </thead>\n",
       "  <tbody>\n",
       "    <tr>\n",
       "      <th>102</th>\n",
       "      <td>316</td>\n",
       "      <td>fortis</td>\n",
       "      <td>10.9</td>\n",
       "      <td>9.70</td>\n",
       "      <td>1975</td>\n",
       "    </tr>\n",
       "    <tr>\n",
       "      <th>103</th>\n",
       "      <td>316</td>\n",
       "      <td>fortis</td>\n",
       "      <td>10.9</td>\n",
       "      <td>9.85</td>\n",
       "      <td>1975</td>\n",
       "    </tr>\n",
       "    <tr>\n",
       "      <th>2057</th>\n",
       "      <td>19028</td>\n",
       "      <td>fortis</td>\n",
       "      <td>12.5</td>\n",
       "      <td>8.90</td>\n",
       "      <td>2012</td>\n",
       "    </tr>\n",
       "    <tr>\n",
       "      <th>2178</th>\n",
       "      <td>19028</td>\n",
       "      <td>scandens</td>\n",
       "      <td>12.5</td>\n",
       "      <td>8.90</td>\n",
       "      <td>2012</td>\n",
       "    </tr>\n",
       "  </tbody>\n",
       "</table>\n",
       "</div>"
      ],
      "text/plain": [
       "       band   species  beak length (mm)  beak depth (mm)  year\n",
       "102     316    fortis              10.9             9.70  1975\n",
       "103     316    fortis              10.9             9.85  1975\n",
       "2057  19028    fortis              12.5             8.90  2012\n",
       "2178  19028  scandens              12.5             8.90  2012"
      ]
     },
     "execution_count": 24,
     "metadata": {},
     "output_type": "execute_result"
    }
   ],
   "source": [
    "pd.concat(g for _, g in df_deduped.groupby(['band', 'year']) if len(g) > 1)"
   ]
  },
  {
   "cell_type": "code",
   "execution_count": 17,
   "metadata": {},
   "outputs": [
    {
     "data": {
      "text/html": [
       "<div>\n",
       "<style scoped>\n",
       "    .dataframe tbody tr th:only-of-type {\n",
       "        vertical-align: middle;\n",
       "    }\n",
       "\n",
       "    .dataframe tbody tr th {\n",
       "        vertical-align: top;\n",
       "    }\n",
       "\n",
       "    .dataframe thead th {\n",
       "        text-align: right;\n",
       "    }\n",
       "</style>\n",
       "<table border=\"1\" class=\"dataframe\">\n",
       "  <thead>\n",
       "    <tr style=\"text-align: right;\">\n",
       "      <th></th>\n",
       "      <th>band</th>\n",
       "      <th>species</th>\n",
       "      <th>beak length (mm)</th>\n",
       "      <th>beak depth (mm)</th>\n",
       "      <th>year</th>\n",
       "    </tr>\n",
       "  </thead>\n",
       "  <tbody>\n",
       "    <tr>\n",
       "      <th>2057</th>\n",
       "      <td>19028</td>\n",
       "      <td>fortis</td>\n",
       "      <td>12.5</td>\n",
       "      <td>8.9</td>\n",
       "      <td>2012</td>\n",
       "    </tr>\n",
       "    <tr>\n",
       "      <th>2178</th>\n",
       "      <td>19028</td>\n",
       "      <td>scandens</td>\n",
       "      <td>12.5</td>\n",
       "      <td>8.9</td>\n",
       "      <td>2012</td>\n",
       "    </tr>\n",
       "  </tbody>\n",
       "</table>\n",
       "</div>"
      ],
      "text/plain": [
       "       band   species  beak length (mm)  beak depth (mm)  year\n",
       "2057  19028    fortis              12.5              8.9  2012\n",
       "2178  19028  scandens              12.5              8.9  2012"
      ]
     },
     "execution_count": 17,
     "metadata": {},
     "output_type": "execute_result"
    }
   ],
   "source": [
    "df.loc[df['band'] == 19028]"
   ]
  },
  {
   "cell_type": "code",
   "execution_count": 18,
   "metadata": {},
   "outputs": [
    {
     "data": {
      "text/html": [
       "<div>\n",
       "<style scoped>\n",
       "    .dataframe tbody tr th:only-of-type {\n",
       "        vertical-align: middle;\n",
       "    }\n",
       "\n",
       "    .dataframe tbody tr th {\n",
       "        vertical-align: top;\n",
       "    }\n",
       "\n",
       "    .dataframe thead th {\n",
       "        text-align: right;\n",
       "    }\n",
       "</style>\n",
       "<table border=\"1\" class=\"dataframe\">\n",
       "  <thead>\n",
       "    <tr style=\"text-align: right;\">\n",
       "      <th></th>\n",
       "      <th>band</th>\n",
       "      <th>species</th>\n",
       "      <th>beak length (mm)</th>\n",
       "      <th>beak depth (mm)</th>\n",
       "      <th>year</th>\n",
       "    </tr>\n",
       "  </thead>\n",
       "  <tbody>\n",
       "    <tr>\n",
       "      <th>102</th>\n",
       "      <td>316</td>\n",
       "      <td>fortis</td>\n",
       "      <td>10.9</td>\n",
       "      <td>9.70</td>\n",
       "      <td>1975</td>\n",
       "    </tr>\n",
       "    <tr>\n",
       "      <th>103</th>\n",
       "      <td>316</td>\n",
       "      <td>fortis</td>\n",
       "      <td>10.9</td>\n",
       "      <td>9.85</td>\n",
       "      <td>1975</td>\n",
       "    </tr>\n",
       "  </tbody>\n",
       "</table>\n",
       "</div>"
      ],
      "text/plain": [
       "     band species  beak length (mm)  beak depth (mm)  year\n",
       "102   316  fortis              10.9             9.70  1975\n",
       "103   316  fortis              10.9             9.85  1975"
      ]
     },
     "execution_count": 18,
     "metadata": {},
     "output_type": "execute_result"
    }
   ],
   "source": [
    "df.loc[df['band'] == 316]"
   ]
  },
  {
   "cell_type": "markdown",
   "metadata": {},
   "source": [
    "It makes most sense to delete the row for ID 19028 since we have no idea what species the bird is. For band 316, we could either take the mean of the beak depths or delete this row as well.\n",
    "\n",
    "Let's delete these rows for now."
   ]
  },
  {
   "cell_type": "code",
   "execution_count": 27,
   "metadata": {},
   "outputs": [],
   "source": [
    "df_deduped = df_deduped.drop([2057,2178,102,103])"
   ]
  },
  {
   "cell_type": "code",
   "execution_count": 28,
   "metadata": {},
   "outputs": [
    {
     "data": {
      "text/plain": [
       "2297"
      ]
     },
     "execution_count": 28,
     "metadata": {},
     "output_type": "execute_result"
    }
   ],
   "source": [
    "len(df_deduped)"
   ]
  },
  {
   "cell_type": "markdown",
   "metadata": {},
   "source": [
    "b) Plot ECDFs of the beak depths of Geospiza scandens in 1975 and in 2012. Then, estimate the mean beak depth in for each of these years with confidence intervals."
   ]
  },
  {
   "cell_type": "markdown",
   "metadata": {},
   "source": [
    "Let's plot ECDFs of the beak depths of Geospiza scandens in 1975 and 2012."
   ]
  },
  {
   "cell_type": "code",
   "execution_count": 41,
   "metadata": {},
   "outputs": [
    {
     "data": {
      "application/vnd.vegalite.v2+json": {
       "$schema": "https://vega.github.io/schema/vega-lite/v2.6.0.json",
       "config": {
        "view": {
         "height": 300,
         "width": 400
        }
       },
       "datasets": {
        "data-7c46329080df3916ceede033e8fcfd08": [
         {
          "__ECDF": 0.16091954022988506,
          "band": 302,
          "beak depth (mm)": 8.4,
          "beak length (mm)": 13.9,
          "species": "scandens",
          "year": 1975
         },
         {
          "__ECDF": 0.39080459770114945,
          "band": 304,
          "beak depth (mm)": 8.8,
          "beak length (mm)": 14,
          "species": "scandens",
          "year": 1975
         },
         {
          "__ECDF": 0.1724137931034483,
          "band": 306,
          "beak depth (mm)": 8.4,
          "beak length (mm)": 12.9,
          "species": "scandens",
          "year": 1975
         },
         {
          "__ECDF": 0.022988505747126436,
          "band": 310,
          "beak depth (mm)": 8,
          "beak length (mm)": 13.5,
          "species": "scandens",
          "year": 1975
         },
         {
          "__ECDF": 0.011494252873563218,
          "band": 317,
          "beak depth (mm)": 7.9,
          "beak length (mm)": 12.9,
          "species": "scandens",
          "year": 1975
         },
         {
          "__ECDF": 0.4482758620689655,
          "band": 318,
          "beak depth (mm)": 8.9,
          "beak length (mm)": 14.6,
          "species": "scandens",
          "year": 1975
         },
         {
          "__ECDF": 0.26436781609195403,
          "band": 319,
          "beak depth (mm)": 8.6,
          "beak length (mm)": 13,
          "species": "scandens",
          "year": 1975
         },
         {
          "__ECDF": 0.20689655172413793,
          "band": 322,
          "beak depth (mm)": 8.5,
          "beak length (mm)": 14.2,
          "species": "scandens",
          "year": 1975
         },
         {
          "__ECDF": 0.45977011494252873,
          "band": 325,
          "beak depth (mm)": 8.9,
          "beak length (mm)": 14,
          "species": "scandens",
          "year": 1975
         },
         {
          "__ECDF": 0.6091954022988506,
          "band": 327,
          "beak depth (mm)": 9.1,
          "beak length (mm)": 14.2,
          "species": "scandens",
          "year": 1975
         },
         {
          "__ECDF": 0.27586206896551724,
          "band": 351,
          "beak depth (mm)": 8.6,
          "beak length (mm)": 13.1,
          "species": "scandens",
          "year": 1975
         },
         {
          "__ECDF": 0.9195402298850575,
          "band": 353,
          "beak depth (mm)": 9.8,
          "beak length (mm)": 15.1,
          "species": "scandens",
          "year": 1975
         },
         {
          "__ECDF": 0.06896551724137931,
          "band": 357,
          "beak depth (mm)": 8.2,
          "beak length (mm)": 13.5,
          "species": "scandens",
          "year": 1975
         },
         {
          "__ECDF": 0.5057471264367817,
          "band": 358,
          "beak depth (mm)": 9,
          "beak length (mm)": 14.4,
          "species": "scandens",
          "year": 1975
         },
         {
          "__ECDF": 0.8850574712643678,
          "band": 359,
          "beak depth (mm)": 9.7,
          "beak length (mm)": 14.9,
          "species": "scandens",
          "year": 1975
         },
         {
          "__ECDF": 0.28735632183908044,
          "band": 361,
          "beak depth (mm)": 8.6,
          "beak length (mm)": 12.9,
          "species": "scandens",
          "year": 1975
         },
         {
          "__ECDF": 0.08045977011494253,
          "band": 362,
          "beak depth (mm)": 8.2,
          "beak length (mm)": 13,
          "species": "scandens",
          "year": 1975
         },
         {
          "__ECDF": 0.5172413793103449,
          "band": 363,
          "beak depth (mm)": 9,
          "beak length (mm)": 14.9,
          "species": "scandens",
          "year": 1975
         },
         {
          "__ECDF": 0.1839080459770115,
          "band": 364,
          "beak depth (mm)": 8.4,
          "beak length (mm)": 14,
          "species": "scandens",
          "year": 1975
         },
         {
          "__ECDF": 0.2988505747126437,
          "band": 365,
          "beak depth (mm)": 8.6,
          "beak length (mm)": 13.8,
          "species": "scandens",
          "year": 1975
         },
         {
          "__ECDF": 0.47126436781609193,
          "band": 367,
          "beak depth (mm)": 8.9,
          "beak length (mm)": 13,
          "species": "scandens",
          "year": 1975
         },
         {
          "__ECDF": 0.6206896551724138,
          "band": 404,
          "beak depth (mm)": 9.1,
          "beak length (mm)": 14.75,
          "species": "scandens",
          "year": 1975
         },
         {
          "__ECDF": 0.10344827586206896,
          "band": 406,
          "beak depth (mm)": 8.3,
          "beak length (mm)": 13.7,
          "species": "scandens",
          "year": 1975
         },
         {
          "__ECDF": 0.3448275862068966,
          "band": 407,
          "beak depth (mm)": 8.7,
          "beak length (mm)": 13.8,
          "species": "scandens",
          "year": 1975
         },
         {
          "__ECDF": 0.8505747126436781,
          "band": 408,
          "beak depth (mm)": 9.6,
          "beak length (mm)": 14,
          "species": "scandens",
          "year": 1975
         },
         {
          "__ECDF": 0.21839080459770116,
          "band": 409,
          "beak depth (mm)": 8.5,
          "beak length (mm)": 14.6,
          "species": "scandens",
          "year": 1975
         },
         {
          "__ECDF": 0.632183908045977,
          "band": 412,
          "beak depth (mm)": 9.1,
          "beak length (mm)": 15.2,
          "species": "scandens",
          "year": 1975
         },
         {
          "__ECDF": 0.5287356321839081,
          "band": 421,
          "beak depth (mm)": 9,
          "beak length (mm)": 13.5,
          "species": "scandens",
          "year": 1975
         },
         {
          "__ECDF": 0.7126436781609196,
          "band": 429,
          "beak depth (mm)": 9.2,
          "beak length (mm)": 15.1,
          "species": "scandens",
          "year": 1975
         },
         {
          "__ECDF": 0.9425287356321839,
          "band": 460,
          "beak depth (mm)": 9.9,
          "beak length (mm)": 15,
          "species": "scandens",
          "year": 1975
         },
         {
          "__ECDF": 0.3103448275862069,
          "band": 464,
          "beak depth (mm)": 8.6,
          "beak length (mm)": 12.8,
          "species": "scandens",
          "year": 1975
         },
         {
          "__ECDF": 0.7241379310344828,
          "band": 467,
          "beak depth (mm)": 9.2,
          "beak length (mm)": 14.9,
          "species": "scandens",
          "year": 1975
         },
         {
          "__ECDF": 0.19540229885057472,
          "band": 469,
          "beak depth (mm)": 8.4,
          "beak length (mm)": 15.3,
          "species": "scandens",
          "year": 1975
         },
         {
          "__ECDF": 0.4827586206896552,
          "band": 470,
          "beak depth (mm)": 8.9,
          "beak length (mm)": 13.4,
          "species": "scandens",
          "year": 1975
         },
         {
          "__ECDF": 0.22988505747126436,
          "band": 471,
          "beak depth (mm)": 8.5,
          "beak length (mm)": 14.2,
          "species": "scandens",
          "year": 1975
         },
         {
          "__ECDF": 0.9885057471264368,
          "band": 472,
          "beak depth (mm)": 10.4,
          "beak length (mm)": 15.1,
          "species": "scandens",
          "year": 1975
         },
         {
          "__ECDF": 0.8620689655172413,
          "band": 478,
          "beak depth (mm)": 9.6,
          "beak length (mm)": 15.1,
          "species": "scandens",
          "year": 1975
         },
         {
          "__ECDF": 0.6436781609195402,
          "band": 508,
          "beak depth (mm)": 9.1,
          "beak length (mm)": 14,
          "species": "scandens",
          "year": 1975
         },
         {
          "__ECDF": 0.7586206896551724,
          "band": 523,
          "beak depth (mm)": 9.3,
          "beak length (mm)": 13.6,
          "species": "scandens",
          "year": 1975
         },
         {
          "__ECDF": 0.7701149425287356,
          "band": 525,
          "beak depth (mm)": 9.3,
          "beak length (mm)": 14,
          "species": "scandens",
          "year": 1975
         },
         {
          "__ECDF": 0.40229885057471265,
          "band": 562,
          "beak depth (mm)": 8.8,
          "beak length (mm)": 14,
          "species": "scandens",
          "year": 1975
         },
         {
          "__ECDF": 0.11494252873563218,
          "band": 568,
          "beak depth (mm)": 8.3,
          "beak length (mm)": 13.9,
          "species": "scandens",
          "year": 1975
         },
         {
          "__ECDF": 0.41379310344827586,
          "band": 569,
          "beak depth (mm)": 8.8,
          "beak length (mm)": 14,
          "species": "scandens",
          "year": 1975
         },
         {
          "__ECDF": 0.6551724137931034,
          "band": 570,
          "beak depth (mm)": 9.1,
          "beak length (mm)": 14.9,
          "species": "scandens",
          "year": 1975
         },
         {
          "__ECDF": 0.9540229885057471,
          "band": 571,
          "beak depth (mm)": 10.1,
          "beak length (mm)": 15.6,
          "species": "scandens",
          "year": 1975
         },
         {
          "__ECDF": 0.4942528735632184,
          "band": 573,
          "beak depth (mm)": 8.9,
          "beak length (mm)": 13.8,
          "species": "scandens",
          "year": 1975
         },
         {
          "__ECDF": 0.735632183908046,
          "band": 575,
          "beak depth (mm)": 9.2,
          "beak length (mm)": 14.4,
          "species": "scandens",
          "year": 1975
         },
         {
          "__ECDF": 0.2413793103448276,
          "band": 577,
          "beak depth (mm)": 8.5,
          "beak length (mm)": 12.8,
          "species": "scandens",
          "year": 1975
         },
         {
          "__ECDF": 0.9770114942528736,
          "band": 612,
          "beak depth (mm)": 10.2,
          "beak length (mm)": 14.2,
          "species": "scandens",
          "year": 1975
         },
         {
          "__ECDF": 0.9655172413793104,
          "band": 613,
          "beak depth (mm)": 10.1,
          "beak length (mm)": 13.4,
          "species": "scandens",
          "year": 1975
         },
         {
          "__ECDF": 0.7471264367816092,
          "band": 614,
          "beak depth (mm)": 9.2,
          "beak length (mm)": 14,
          "species": "scandens",
          "year": 1975
         },
         {
          "__ECDF": 0.896551724137931,
          "band": 718,
          "beak depth (mm)": 9.7,
          "beak length (mm)": 14.8,
          "species": "scandens",
          "year": 1975
         },
         {
          "__ECDF": 0.6666666666666666,
          "band": 722,
          "beak depth (mm)": 9.1,
          "beak length (mm)": 14.2,
          "species": "scandens",
          "year": 1975
         },
         {
          "__ECDF": 0.25287356321839083,
          "band": 724,
          "beak depth (mm)": 8.5,
          "beak length (mm)": 13.5,
          "species": "scandens",
          "year": 1975
         },
         {
          "__ECDF": 0.09195402298850575,
          "band": 727,
          "beak depth (mm)": 8.2,
          "beak length (mm)": 13.4,
          "species": "scandens",
          "year": 1975
         },
         {
          "__ECDF": 0.5402298850574713,
          "band": 728,
          "beak depth (mm)": 9,
          "beak length (mm)": 14.6,
          "species": "scandens",
          "year": 1975
         },
         {
          "__ECDF": 0.7816091954022989,
          "band": 729,
          "beak depth (mm)": 9.3,
          "beak length (mm)": 13.5,
          "species": "scandens",
          "year": 1975
         },
         {
          "__ECDF": 0.034482758620689655,
          "band": 782,
          "beak depth (mm)": 8,
          "beak length (mm)": 13.7,
          "species": "scandens",
          "year": 1975
         },
         {
          "__ECDF": 0.6781609195402298,
          "band": 783,
          "beak depth (mm)": 9.1,
          "beak length (mm)": 13.9,
          "species": "scandens",
          "year": 1975
         },
         {
          "__ECDF": 0.05747126436781609,
          "band": 784,
          "beak depth (mm)": 8.1,
          "beak length (mm)": 13.1,
          "species": "scandens",
          "year": 1975
         },
         {
          "__ECDF": 0.12643678160919541,
          "band": 806,
          "beak depth (mm)": 8.3,
          "beak length (mm)": 13.4,
          "species": "scandens",
          "year": 1975
         },
         {
          "__ECDF": 0.3563218390804598,
          "band": 816,
          "beak depth (mm)": 8.7,
          "beak length (mm)": 13.8,
          "species": "scandens",
          "year": 1975
         },
         {
          "__ECDF": 0.42528735632183906,
          "band": 890,
          "beak depth (mm)": 8.8,
          "beak length (mm)": 13.6,
          "species": "scandens",
          "year": 1975
         },
         {
          "__ECDF": 0.3218390804597701,
          "band": 901,
          "beak depth (mm)": 8.6,
          "beak length (mm)": 14,
          "species": "scandens",
          "year": 1975
         },
         {
          "__ECDF": 0.367816091954023,
          "band": 916,
          "beak depth (mm)": 8.7,
          "beak length (mm)": 13.5,
          "species": "scandens",
          "year": 1975
         },
         {
          "__ECDF": 0.04597701149425287,
          "band": 918,
          "beak depth (mm)": 8,
          "beak length (mm)": 12.8,
          "species": "scandens",
          "year": 1975
         },
         {
          "__ECDF": 0.4367816091954023,
          "band": 920,
          "beak depth (mm)": 8.8,
          "beak length (mm)": 14,
          "species": "scandens",
          "year": 1975
         },
         {
          "__ECDF": 0.5517241379310345,
          "band": 935,
          "beak depth (mm)": 9,
          "beak length (mm)": 13.4,
          "species": "scandens",
          "year": 1975
         },
         {
          "__ECDF": 0.6896551724137931,
          "band": 953,
          "beak depth (mm)": 9.1,
          "beak length (mm)": 14.9,
          "species": "scandens",
          "year": 1975
         },
         {
          "__ECDF": 0.9080459770114943,
          "band": 1014,
          "beak depth (mm)": 9.74,
          "beak length (mm)": 15.54,
          "species": "scandens",
          "year": 1975
         },
         {
          "__ECDF": 0.7011494252873564,
          "band": 1642,
          "beak depth (mm)": 9.1,
          "beak length (mm)": 14.63,
          "species": "scandens",
          "year": 1975
         },
         {
          "__ECDF": 0.9310344827586207,
          "band": 1748,
          "beak depth (mm)": 9.8,
          "beak length (mm)": 14.73,
          "species": "scandens",
          "year": 1975
         },
         {
          "__ECDF": 1,
          "band": 1841,
          "beak depth (mm)": 10.4,
          "beak length (mm)": 15.73,
          "species": "scandens",
          "year": 1975
         },
         {
          "__ECDF": 0.13793103448275862,
          "band": 1842,
          "beak depth (mm)": 8.3,
          "beak length (mm)": 14.83,
          "species": "scandens",
          "year": 1975
         },
         {
          "__ECDF": 0.7931034482758621,
          "band": 2084,
          "beak depth (mm)": 9.44,
          "beak length (mm)": 15.94,
          "species": "scandens",
          "year": 1975
         },
         {
          "__ECDF": 0.5747126436781609,
          "band": 2397,
          "beak depth (mm)": 9.04,
          "beak length (mm)": 15.14,
          "species": "scandens",
          "year": 1975
         },
         {
          "__ECDF": 0.5632183908045977,
          "band": 8110,
          "beak depth (mm)": 9,
          "beak length (mm)": 14.23,
          "species": "scandens",
          "year": 1975
         },
         {
          "__ECDF": 0.5862068965517241,
          "band": 20122,
          "beak depth (mm)": 9.05,
          "beak length (mm)": 14.15,
          "species": "scandens",
          "year": 1975
         },
         {
          "__ECDF": 0.8735632183908046,
          "band": 20151,
          "beak depth (mm)": 9.65,
          "beak length (mm)": 14.35,
          "species": "scandens",
          "year": 1975
         },
         {
          "__ECDF": 0.8045977011494253,
          "band": 20188,
          "beak depth (mm)": 9.45,
          "beak length (mm)": 14.95,
          "species": "scandens",
          "year": 1975
         },
         {
          "__ECDF": 0.3333333333333333,
          "band": 20210,
          "beak depth (mm)": 8.65,
          "beak length (mm)": 13.95,
          "species": "scandens",
          "year": 1975
         },
         {
          "__ECDF": 0.8160919540229885,
          "band": 20223,
          "beak depth (mm)": 9.45,
          "beak length (mm)": 14.05,
          "species": "scandens",
          "year": 1975
         },
         {
          "__ECDF": 0.8275862068965517,
          "band": 20225,
          "beak depth (mm)": 9.45,
          "beak length (mm)": 14.55,
          "species": "scandens",
          "year": 1975
         },
         {
          "__ECDF": 0.5977011494252874,
          "band": 20252,
          "beak depth (mm)": 9.05,
          "beak length (mm)": 14.05,
          "species": "scandens",
          "year": 1975
         },
         {
          "__ECDF": 0.3793103448275862,
          "band": 20255,
          "beak depth (mm)": 8.75,
          "beak length (mm)": 14.45,
          "species": "scandens",
          "year": 1975
         },
         {
          "__ECDF": 0.8390804597701149,
          "band": 20266,
          "beak depth (mm)": 9.45,
          "beak length (mm)": 15.05,
          "species": "scandens",
          "year": 1975
         },
         {
          "__ECDF": 0.14942528735632185,
          "band": 20279,
          "beak depth (mm)": 8.35,
          "beak length (mm)": 13.25,
          "species": "scandens",
          "year": 1975
         }
        ],
        "data-adb511bd7b3299cd90eec74ff3120d4c": [
         {
          "__ECDF": 0.5952380952380952,
          "band": 19026,
          "beak depth (mm)": 9.4,
          "beak length (mm)": 14.3,
          "species": "scandens",
          "year": 2012
         },
         {
          "__ECDF": 0.6587301587301587,
          "band": 19029,
          "beak depth (mm)": 9.5,
          "beak length (mm)": 13.7,
          "species": "scandens",
          "year": 2012
         },
         {
          "__ECDF": 1,
          "band": 19094,
          "beak depth (mm)": 11,
          "beak length (mm)": 13.8,
          "species": "scandens",
          "year": 2012
         },
         {
          "__ECDF": 0.20634920634920634,
          "band": 19122,
          "beak depth (mm)": 8.7,
          "beak length (mm)": 12,
          "species": "scandens",
          "year": 2012
         },
         {
          "__ECDF": 0.1111111111111111,
          "band": 19125,
          "beak depth (mm)": 8.4,
          "beak length (mm)": 13,
          "species": "scandens",
          "year": 2012
         },
         {
          "__ECDF": 0.4365079365079365,
          "band": 19129,
          "beak depth (mm)": 9.1,
          "beak length (mm)": 13,
          "species": "scandens",
          "year": 2012
         },
         {
          "__ECDF": 0.21428571428571427,
          "band": 19172,
          "beak depth (mm)": 8.7,
          "beak length (mm)": 13.6,
          "species": "scandens",
          "year": 2012
         },
         {
          "__ECDF": 0.9206349206349206,
          "band": 19182,
          "beak depth (mm)": 10.2,
          "beak length (mm)": 12.8,
          "species": "scandens",
          "year": 2012
         },
         {
          "__ECDF": 0.746031746031746,
          "band": 19212,
          "beak depth (mm)": 9.6,
          "beak length (mm)": 13.6,
          "species": "scandens",
          "year": 2012
         },
         {
          "__ECDF": 0.2857142857142857,
          "band": 19214,
          "beak depth (mm)": 8.85,
          "beak length (mm)": 12.95,
          "species": "scandens",
          "year": 2012
         },
         {
          "__ECDF": 0.24603174603174602,
          "band": 19244,
          "beak depth (mm)": 8.8,
          "beak length (mm)": 13.1,
          "species": "scandens",
          "year": 2012
         },
         {
          "__ECDF": 0.6666666666666666,
          "band": 19251,
          "beak depth (mm)": 9.5,
          "beak length (mm)": 13.4,
          "species": "scandens",
          "year": 2012
         },
         {
          "__ECDF": 0.49206349206349204,
          "band": 19260,
          "beak depth (mm)": 9.2,
          "beak length (mm)": 13.9,
          "species": "scandens",
          "year": 2012
         },
         {
          "__ECDF": 0.38095238095238093,
          "band": 19270,
          "beak depth (mm)": 9,
          "beak length (mm)": 12.3,
          "species": "scandens",
          "year": 2012
         },
         {
          "__ECDF": 0.8015873015873016,
          "band": 19278,
          "beak depth (mm)": 9.8,
          "beak length (mm)": 14,
          "species": "scandens",
          "year": 2012
         },
         {
          "__ECDF": 0.5238095238095238,
          "band": 19289,
          "beak depth (mm)": 9.3,
          "beak length (mm)": 12.5,
          "species": "scandens",
          "year": 2012
         },
         {
          "__ECDF": 0.3888888888888889,
          "band": 19299,
          "beak depth (mm)": 9,
          "beak length (mm)": 12.3,
          "species": "scandens",
          "year": 2012
         },
         {
          "__ECDF": 0.9285714285714286,
          "band": 19312,
          "beak depth (mm)": 10.2,
          "beak length (mm)": 13.9,
          "species": "scandens",
          "year": 2012
         },
         {
          "__ECDF": 0.007936507936507936,
          "band": 19326,
          "beak depth (mm)": 7.7,
          "beak length (mm)": 13.1,
          "species": "scandens",
          "year": 2012
         },
         {
          "__ECDF": 0.3968253968253968,
          "band": 19343,
          "beak depth (mm)": 9,
          "beak length (mm)": 12.5,
          "species": "scandens",
          "year": 2012
         },
         {
          "__ECDF": 0.6746031746031746,
          "band": 19374,
          "beak depth (mm)": 9.5,
          "beak length (mm)": 13.9,
          "species": "scandens",
          "year": 2012
         },
         {
          "__ECDF": 0.6031746031746031,
          "band": 19401,
          "beak depth (mm)": 9.4,
          "beak length (mm)": 13.7,
          "species": "scandens",
          "year": 2012
         },
         {
          "__ECDF": 0.03968253968253968,
          "band": 19406,
          "beak depth (mm)": 8,
          "beak length (mm)": 12,
          "species": "scandens",
          "year": 2012
         },
         {
          "__ECDF": 0.29365079365079366,
          "band": 19408,
          "beak depth (mm)": 8.9,
          "beak length (mm)": 14.4,
          "species": "scandens",
          "year": 2012
         },
         {
          "__ECDF": 0.6111111111111112,
          "band": 19426,
          "beak depth (mm)": 9.4,
          "beak length (mm)": 13.5,
          "species": "scandens",
          "year": 2012
         },
         {
          "__ECDF": 0.6825396825396826,
          "band": 19430,
          "beak depth (mm)": 9.5,
          "beak length (mm)": 13.8,
          "species": "scandens",
          "year": 2012
         },
         {
          "__ECDF": 0.047619047619047616,
          "band": 19433,
          "beak depth (mm)": 8,
          "beak length (mm)": 13,
          "species": "scandens",
          "year": 2012
         },
         {
          "__ECDF": 0.8809523809523809,
          "band": 19438,
          "beak depth (mm)": 10,
          "beak length (mm)": 14.9,
          "species": "scandens",
          "year": 2012
         },
         {
          "__ECDF": 0.373015873015873,
          "band": 19452,
          "beak depth (mm)": 8.95,
          "beak length (mm)": 12.5,
          "species": "scandens",
          "year": 2012
         },
         {
          "__ECDF": 0.07936507936507936,
          "band": 19466,
          "beak depth (mm)": 8.2,
          "beak length (mm)": 12.3,
          "species": "scandens",
          "year": 2012
         },
         {
          "__ECDF": 0.25396825396825395,
          "band": 19469,
          "beak depth (mm)": 8.8,
          "beak length (mm)": 12.8,
          "species": "scandens",
          "year": 2012
         },
         {
          "__ECDF": 0.5,
          "band": 19486,
          "beak depth (mm)": 9.2,
          "beak length (mm)": 13.4,
          "species": "scandens",
          "year": 2012
         },
         {
          "__ECDF": 0.6190476190476191,
          "band": 19492,
          "beak depth (mm)": 9.4,
          "beak length (mm)": 13.8,
          "species": "scandens",
          "year": 2012
         },
         {
          "__ECDF": 0.6904761904761905,
          "band": 19493,
          "beak depth (mm)": 9.5,
          "beak length (mm)": 13.5,
          "species": "scandens",
          "year": 2012
         },
         {
          "__ECDF": 0.06349206349206349,
          "band": 19494,
          "beak depth (mm)": 8.1,
          "beak length (mm)": 13.5,
          "species": "scandens",
          "year": 2012
         },
         {
          "__ECDF": 0.6984126984126984,
          "band": 19495,
          "beak depth (mm)": 9.5,
          "beak length (mm)": 13.4,
          "species": "scandens",
          "year": 2012
         },
         {
          "__ECDF": 0.11904761904761904,
          "band": 19496,
          "beak depth (mm)": 8.4,
          "beak length (mm)": 12.3,
          "species": "scandens",
          "year": 2012
         },
         {
          "__ECDF": 0.5317460317460317,
          "band": 19497,
          "beak depth (mm)": 9.3,
          "beak length (mm)": 14.35,
          "species": "scandens",
          "year": 2012
         },
         {
          "__ECDF": 0.5396825396825397,
          "band": 19510,
          "beak depth (mm)": 9.3,
          "beak length (mm)": 13.2,
          "species": "scandens",
          "year": 2012
         },
         {
          "__ECDF": 0.753968253968254,
          "band": 19513,
          "beak depth (mm)": 9.6,
          "beak length (mm)": 13.8,
          "species": "scandens",
          "year": 2012
         },
         {
          "__ECDF": 0.5079365079365079,
          "band": 19518,
          "beak depth (mm)": 9.2,
          "beak length (mm)": 14.6,
          "species": "scandens",
          "year": 2012
         },
         {
          "__ECDF": 0.8888888888888888,
          "band": 19526,
          "beak depth (mm)": 10,
          "beak length (mm)": 14.3,
          "species": "scandens",
          "year": 2012
         },
         {
          "__ECDF": 0.30158730158730157,
          "band": 19527,
          "beak depth (mm)": 8.9,
          "beak length (mm)": 13.8,
          "species": "scandens",
          "year": 2012
         },
         {
          "__ECDF": 0.9603174603174603,
          "band": 19528,
          "beak depth (mm)": 10.5,
          "beak length (mm)": 13.6,
          "species": "scandens",
          "year": 2012
         },
         {
          "__ECDF": 0.30952380952380953,
          "band": 19543,
          "beak depth (mm)": 8.9,
          "beak length (mm)": 12.9,
          "species": "scandens",
          "year": 2012
         },
         {
          "__ECDF": 0.19047619047619047,
          "band": 19553,
          "beak depth (mm)": 8.6,
          "beak length (mm)": 13,
          "species": "scandens",
          "year": 2012
         },
         {
          "__ECDF": 0.2619047619047619,
          "band": 19554,
          "beak depth (mm)": 8.8,
          "beak length (mm)": 13.5,
          "species": "scandens",
          "year": 2012
         },
         {
          "__ECDF": 0.48412698412698413,
          "band": 19573,
          "beak depth (mm)": 9.15,
          "beak length (mm)": 13.2,
          "species": "scandens",
          "year": 2012
         },
         {
          "__ECDF": 0.7063492063492064,
          "band": 19592,
          "beak depth (mm)": 9.5,
          "beak length (mm)": 13.7,
          "species": "scandens",
          "year": 2012
         },
         {
          "__ECDF": 0.4444444444444444,
          "band": 19594,
          "beak depth (mm)": 9.1,
          "beak length (mm)": 13.1,
          "species": "scandens",
          "year": 2012
         },
         {
          "__ECDF": 0.9365079365079365,
          "band": 19597,
          "beak depth (mm)": 10.2,
          "beak length (mm)": 13.2,
          "species": "scandens",
          "year": 2012
         },
         {
          "__ECDF": 0.12698412698412698,
          "band": 19598,
          "beak depth (mm)": 8.4,
          "beak length (mm)": 12.6,
          "species": "scandens",
          "year": 2012
         },
         {
          "__ECDF": 0.8968253968253969,
          "band": 19599,
          "beak depth (mm)": 10,
          "beak length (mm)": 13,
          "species": "scandens",
          "year": 2012
         },
         {
          "__ECDF": 0.9444444444444444,
          "band": 19619,
          "beak depth (mm)": 10.2,
          "beak length (mm)": 13.9,
          "species": "scandens",
          "year": 2012
         },
         {
          "__ECDF": 0.5476190476190477,
          "band": 19622,
          "beak depth (mm)": 9.3,
          "beak length (mm)": 13.2,
          "species": "scandens",
          "year": 2012
         },
         {
          "__ECDF": 0.9920634920634921,
          "band": 19652,
          "beak depth (mm)": 10.8,
          "beak length (mm)": 15,
          "species": "scandens",
          "year": 2012
         },
         {
          "__ECDF": 0.09523809523809523,
          "band": 19653,
          "beak depth (mm)": 8.3,
          "beak length (mm)": 13.37,
          "species": "scandens",
          "year": 2012
         },
         {
          "__ECDF": 0.023809523809523808,
          "band": 19664,
          "beak depth (mm)": 7.8,
          "beak length (mm)": 11.4,
          "species": "scandens",
          "year": 2012
         },
         {
          "__ECDF": 0.8095238095238095,
          "band": 19692,
          "beak depth (mm)": 9.8,
          "beak length (mm)": 13.8,
          "species": "scandens",
          "year": 2012
         },
         {
          "__ECDF": 0.031746031746031744,
          "band": 19720,
          "beak depth (mm)": 7.9,
          "beak length (mm)": 13,
          "species": "scandens",
          "year": 2012
         },
         {
          "__ECDF": 0.31746031746031744,
          "band": 19740,
          "beak depth (mm)": 8.9,
          "beak length (mm)": 13,
          "species": "scandens",
          "year": 2012
         },
         {
          "__ECDF": 0.015873015873015872,
          "band": 19747,
          "beak depth (mm)": 7.7,
          "beak length (mm)": 13.1,
          "species": "scandens",
          "year": 2012
         },
         {
          "__ECDF": 0.3253968253968254,
          "band": 19766,
          "beak depth (mm)": 8.9,
          "beak length (mm)": 12.8,
          "species": "scandens",
          "year": 2012
         },
         {
          "__ECDF": 0.626984126984127,
          "band": 19783,
          "beak depth (mm)": 9.4,
          "beak length (mm)": 13.3,
          "species": "scandens",
          "year": 2012
         },
         {
          "__ECDF": 0.6349206349206349,
          "band": 19844,
          "beak depth (mm)": 9.4,
          "beak length (mm)": 13.5,
          "species": "scandens",
          "year": 2012
         },
         {
          "__ECDF": 0.15873015873015872,
          "band": 19848,
          "beak depth (mm)": 8.5,
          "beak length (mm)": 12.4,
          "species": "scandens",
          "year": 2012
         },
         {
          "__ECDF": 0.16666666666666666,
          "band": 19852,
          "beak depth (mm)": 8.5,
          "beak length (mm)": 13.1,
          "species": "scandens",
          "year": 2012
         },
         {
          "__ECDF": 0.7619047619047619,
          "band": 19854,
          "beak depth (mm)": 9.6,
          "beak length (mm)": 14,
          "species": "scandens",
          "year": 2012
         },
         {
          "__ECDF": 0.9523809523809523,
          "band": 19855,
          "beak depth (mm)": 10.2,
          "beak length (mm)": 13.5,
          "species": "scandens",
          "year": 2012
         },
         {
          "__ECDF": 0.2698412698412698,
          "band": 19868,
          "beak depth (mm)": 8.8,
          "beak length (mm)": 11.8,
          "species": "scandens",
          "year": 2012
         },
         {
          "__ECDF": 0.7142857142857143,
          "band": 19882,
          "beak depth (mm)": 9.5,
          "beak length (mm)": 13.7,
          "species": "scandens",
          "year": 2012
         },
         {
          "__ECDF": 0.5555555555555556,
          "band": 19900,
          "beak depth (mm)": 9.3,
          "beak length (mm)": 13.2,
          "species": "scandens",
          "year": 2012
         },
         {
          "__ECDF": 0.40476190476190477,
          "band": 19910,
          "beak depth (mm)": 9,
          "beak length (mm)": 12.2,
          "species": "scandens",
          "year": 2012
         },
         {
          "__ECDF": 0.5158730158730159,
          "band": 19936,
          "beak depth (mm)": 9.2,
          "beak length (mm)": 13,
          "species": "scandens",
          "year": 2012
         },
         {
          "__ECDF": 0.2222222222222222,
          "band": 19940,
          "beak depth (mm)": 8.7,
          "beak length (mm)": 13.1,
          "species": "scandens",
          "year": 2012
         },
         {
          "__ECDF": 0.4126984126984127,
          "band": 19941,
          "beak depth (mm)": 9,
          "beak length (mm)": 14.7,
          "species": "scandens",
          "year": 2012
         },
         {
          "__ECDF": 0.4523809523809524,
          "band": 19951,
          "beak depth (mm)": 9.1,
          "beak length (mm)": 13.7,
          "species": "scandens",
          "year": 2012
         },
         {
          "__ECDF": 0.23015873015873015,
          "band": 19955,
          "beak depth (mm)": 8.7,
          "beak length (mm)": 13.5,
          "species": "scandens",
          "year": 2012
         },
         {
          "__ECDF": 0.6428571428571429,
          "band": 19956,
          "beak depth (mm)": 9.4,
          "beak length (mm)": 13.3,
          "species": "scandens",
          "year": 2012
         },
         {
          "__ECDF": 0.8174603174603174,
          "band": 21040,
          "beak depth (mm)": 9.8,
          "beak length (mm)": 14.1,
          "species": "scandens",
          "year": 2012
         },
         {
          "__ECDF": 0.1984126984126984,
          "band": 21041,
          "beak depth (mm)": 8.6,
          "beak length (mm)": 12.5,
          "species": "scandens",
          "year": 2012
         },
         {
          "__ECDF": 0.9761904761904762,
          "band": 21045,
          "beak depth (mm)": 10.6,
          "beak length (mm)": 13.7,
          "species": "scandens",
          "year": 2012
         },
         {
          "__ECDF": 0.42063492063492064,
          "band": 21047,
          "beak depth (mm)": 9,
          "beak length (mm)": 14.6,
          "species": "scandens",
          "year": 2012
         },
         {
          "__ECDF": 0.7222222222222222,
          "band": 21053,
          "beak depth (mm)": 9.5,
          "beak length (mm)": 14.1,
          "species": "scandens",
          "year": 2012
         },
         {
          "__ECDF": 0.07142857142857142,
          "band": 21057,
          "beak depth (mm)": 8.1,
          "beak length (mm)": 12.9,
          "species": "scandens",
          "year": 2012
         },
         {
          "__ECDF": 0.5634920634920635,
          "band": 21070,
          "beak depth (mm)": 9.3,
          "beak length (mm)": 13.9,
          "species": "scandens",
          "year": 2012
         },
         {
          "__ECDF": 0.7698412698412699,
          "band": 21081,
          "beak depth (mm)": 9.6,
          "beak length (mm)": 13.4,
          "species": "scandens",
          "year": 2012
         },
         {
          "__ECDF": 0.1746031746031746,
          "band": 21092,
          "beak depth (mm)": 8.5,
          "beak length (mm)": 13,
          "species": "scandens",
          "year": 2012
         },
         {
          "__ECDF": 0.0873015873015873,
          "band": 21093,
          "beak depth (mm)": 8.2,
          "beak length (mm)": 12.7,
          "species": "scandens",
          "year": 2012
         },
         {
          "__ECDF": 0.05555555555555555,
          "band": 21106,
          "beak depth (mm)": 8,
          "beak length (mm)": 12.1,
          "species": "scandens",
          "year": 2012
         },
         {
          "__ECDF": 0.7301587301587301,
          "band": 21109,
          "beak depth (mm)": 9.5,
          "beak length (mm)": 14,
          "species": "scandens",
          "year": 2012
         },
         {
          "__ECDF": 0.7857142857142857,
          "band": 21111,
          "beak depth (mm)": 9.7,
          "beak length (mm)": 14.9,
          "species": "scandens",
          "year": 2012
         },
         {
          "__ECDF": 0.8650793650793651,
          "band": 21113,
          "beak depth (mm)": 9.9,
          "beak length (mm)": 13.9,
          "species": "scandens",
          "year": 2012
         },
         {
          "__ECDF": 0.4603174603174603,
          "band": 21131,
          "beak depth (mm)": 9.1,
          "beak length (mm)": 12.9,
          "species": "scandens",
          "year": 2012
         },
         {
          "__ECDF": 0.7380952380952381,
          "band": 21135,
          "beak depth (mm)": 9.5,
          "beak length (mm)": 14.6,
          "species": "scandens",
          "year": 2012
         },
         {
          "__ECDF": 0.8253968253968254,
          "band": 21136,
          "beak depth (mm)": 9.8,
          "beak length (mm)": 14,
          "species": "scandens",
          "year": 2012
         },
         {
          "__ECDF": 0.1349206349206349,
          "band": 21159,
          "beak depth (mm)": 8.4,
          "beak length (mm)": 13,
          "species": "scandens",
          "year": 2012
         },
         {
          "__ECDF": 0.10317460317460317,
          "band": 21167,
          "beak depth (mm)": 8.3,
          "beak length (mm)": 12.7,
          "species": "scandens",
          "year": 2012
         },
         {
          "__ECDF": 0.7777777777777778,
          "band": 21176,
          "beak depth (mm)": 9.6,
          "beak length (mm)": 14,
          "species": "scandens",
          "year": 2012
         },
         {
          "__ECDF": 0.6507936507936508,
          "band": 21248,
          "beak depth (mm)": 9.4,
          "beak length (mm)": 14.1,
          "species": "scandens",
          "year": 2012
         },
         {
          "__ECDF": 0.9047619047619048,
          "band": 21253,
          "beak depth (mm)": 10,
          "beak length (mm)": 14.1,
          "species": "scandens",
          "year": 2012
         },
         {
          "__ECDF": 0.3333333333333333,
          "band": 21255,
          "beak depth (mm)": 8.9,
          "beak length (mm)": 13,
          "species": "scandens",
          "year": 2012
         },
         {
          "__ECDF": 0.46825396825396826,
          "band": 21256,
          "beak depth (mm)": 9.1,
          "beak length (mm)": 13.5,
          "species": "scandens",
          "year": 2012
         },
         {
          "__ECDF": 0.8333333333333334,
          "band": 21257,
          "beak depth (mm)": 9.8,
          "beak length (mm)": 13.4,
          "species": "scandens",
          "year": 2012
         },
         {
          "__ECDF": 0.5714285714285714,
          "band": 21260,
          "beak depth (mm)": 9.3,
          "beak length (mm)": 13.9,
          "species": "scandens",
          "year": 2012
         },
         {
          "__ECDF": 0.873015873015873,
          "band": 21263,
          "beak depth (mm)": 9.9,
          "beak length (mm)": 13.1,
          "species": "scandens",
          "year": 2012
         },
         {
          "__ECDF": 0.3412698412698413,
          "band": 21267,
          "beak depth (mm)": 8.9,
          "beak length (mm)": 12.9,
          "species": "scandens",
          "year": 2012
         },
         {
          "__ECDF": 0.18253968253968253,
          "band": 21268,
          "beak depth (mm)": 8.5,
          "beak length (mm)": 14,
          "species": "scandens",
          "year": 2012
         },
         {
          "__ECDF": 0.9841269841269841,
          "band": 21270,
          "beak depth (mm)": 10.6,
          "beak length (mm)": 14,
          "species": "scandens",
          "year": 2012
         },
         {
          "__ECDF": 0.5793650793650794,
          "band": 21271,
          "beak depth (mm)": 9.3,
          "beak length (mm)": 14.1,
          "species": "scandens",
          "year": 2012
         },
         {
          "__ECDF": 0.3492063492063492,
          "band": 21278,
          "beak depth (mm)": 8.9,
          "beak length (mm)": 14.7,
          "species": "scandens",
          "year": 2012
         },
         {
          "__ECDF": 0.35714285714285715,
          "band": 21279,
          "beak depth (mm)": 8.9,
          "beak length (mm)": 13.4,
          "species": "scandens",
          "year": 2012
         },
         {
          "__ECDF": 0.7936507936507936,
          "band": 21280,
          "beak depth (mm)": 9.7,
          "beak length (mm)": 13.8,
          "species": "scandens",
          "year": 2012
         },
         {
          "__ECDF": 0.8412698412698413,
          "band": 21281,
          "beak depth (mm)": 9.8,
          "beak length (mm)": 13.4,
          "species": "scandens",
          "year": 2012
         },
         {
          "__ECDF": 0.9682539682539683,
          "band": 21285,
          "beak depth (mm)": 10.5,
          "beak length (mm)": 13.8,
          "species": "scandens",
          "year": 2012
         },
         {
          "__ECDF": 0.14285714285714285,
          "band": 21286,
          "beak depth (mm)": 8.4,
          "beak length (mm)": 12.4,
          "species": "scandens",
          "year": 2012
         },
         {
          "__ECDF": 0.9126984126984127,
          "band": 21288,
          "beak depth (mm)": 10,
          "beak length (mm)": 14.1,
          "species": "scandens",
          "year": 2012
         },
         {
          "__ECDF": 0.42857142857142855,
          "band": 21289,
          "beak depth (mm)": 9,
          "beak length (mm)": 12.9,
          "species": "scandens",
          "year": 2012
         },
         {
          "__ECDF": 0.23809523809523808,
          "band": 21290,
          "beak depth (mm)": 8.7,
          "beak length (mm)": 13.9,
          "species": "scandens",
          "year": 2012
         },
         {
          "__ECDF": 0.2777777777777778,
          "band": 21291,
          "beak depth (mm)": 8.8,
          "beak length (mm)": 14.3,
          "species": "scandens",
          "year": 2012
         },
         {
          "__ECDF": 0.15079365079365079,
          "band": 21292,
          "beak depth (mm)": 8.4,
          "beak length (mm)": 13.2,
          "species": "scandens",
          "year": 2012
         },
         {
          "__ECDF": 0.5873015873015873,
          "band": 21295,
          "beak depth (mm)": 9.3,
          "beak length (mm)": 14.2,
          "species": "scandens",
          "year": 2012
         },
         {
          "__ECDF": 0.8492063492063492,
          "band": 21297,
          "beak depth (mm)": 9.8,
          "beak length (mm)": 13,
          "species": "scandens",
          "year": 2012
         },
         {
          "__ECDF": 0.36507936507936506,
          "band": 21340,
          "beak depth (mm)": 8.9,
          "beak length (mm)": 14.6,
          "species": "scandens",
          "year": 2012
         },
         {
          "__ECDF": 0.8571428571428571,
          "band": 21342,
          "beak depth (mm)": 9.8,
          "beak length (mm)": 13.1,
          "species": "scandens",
          "year": 2012
         },
         {
          "__ECDF": 0.47619047619047616,
          "band": 21347,
          "beak depth (mm)": 9.1,
          "beak length (mm)": 15.2,
          "species": "scandens",
          "year": 2012
         }
        ]
       },
       "hconcat": [
        {
         "data": {
          "name": "data-7c46329080df3916ceede033e8fcfd08"
         },
         "encoding": {
          "order": {
           "field": "beak depth (mm)",
           "sort": "ascending",
           "type": "quantitative"
          },
          "x": {
           "field": "beak depth (mm)",
           "scale": {
            "domain": [
             7.5,
             11
            ]
           },
           "title": "Scandens beak depth in 1975 (mm)",
           "type": "quantitative"
          },
          "y": {
           "field": "__ECDF",
           "title": "ECDF",
           "type": "quantitative"
          }
         },
         "mark": {
          "type": "point"
         }
        },
        {
         "data": {
          "name": "data-adb511bd7b3299cd90eec74ff3120d4c"
         },
         "encoding": {
          "order": {
           "field": "beak depth (mm)",
           "sort": "ascending",
           "type": "quantitative"
          },
          "x": {
           "field": "beak depth (mm)",
           "scale": {
            "domain": [
             7.5,
             11
            ]
           },
           "title": "Scandens beak depth in 2012 (mm)",
           "type": "quantitative"
          },
          "y": {
           "field": "__ECDF",
           "title": "ECDF",
           "type": "quantitative"
          }
         },
         "mark": {
          "type": "point"
         }
        }
       ]
      },
      "image/png": "[encoded data removed]",
      "text/plain": [
       "<VegaLite 2 object>\n",
       "\n",
       "If you see this message, it means the renderer has not been properly enabled\n",
       "for the frontend that you are using. For more information, see\n",
       "https://altair-viz.github.io/user_guide/troubleshooting.html\n"
      ]
     },
     "execution_count": 41,
     "metadata": {},
     "output_type": "execute_result"
    }
   ],
   "source": [
    "inds_1975 = ((df_deduped['species'] == 'scandens') &\n",
    "        (df_deduped['year'] == 1975))\n",
    "    \n",
    "inds_2012 = ((df_deduped['species'] == 'scandens') &\n",
    "        (df_deduped['year'] == 2012))\n",
    "\n",
    "p1 = altcat.catplot(data=df_deduped.loc[inds_1975],\n",
    "                    mark='point',\n",
    "                    encoding={'x': alt.X('beak depth (mm):Q', \n",
    "                                         title='Scandens beak depth in 1975 (mm)', \n",
    "                                         scale=alt.Scale(domain=[7.5, 11]))},\n",
    "                    transform='ecdf')\n",
    "\n",
    "p2 = altcat.catplot(data=df_deduped.loc[inds_2012],\n",
    "                    mark='point',\n",
    "                    encoding={'x': alt.X('beak depth (mm):Q', \n",
    "                                         title='Scandens beak depth in 2012 (mm)', \n",
    "                                         scale=alt.Scale(domain=[7.5, 11]))},\n",
    "                    transform='ecdf')\n",
    "\n",
    "p1 | p2"
   ]
  },
  {
   "cell_type": "markdown",
   "metadata": {},
   "source": [
    "Now let's estimate the mean beak depth in each of these years."
   ]
  },
  {
   "cell_type": "code",
   "execution_count": null,
   "metadata": {},
   "outputs": [],
   "source": []
  },
  {
   "cell_type": "code",
   "execution_count": null,
   "metadata": {},
   "outputs": [],
   "source": []
  },
  {
   "cell_type": "code",
   "execution_count": null,
   "metadata": {},
   "outputs": [],
   "source": []
  },
  {
   "cell_type": "code",
   "execution_count": null,
   "metadata": {},
   "outputs": [],
   "source": []
  },
  {
   "cell_type": "code",
   "execution_count": null,
   "metadata": {},
   "outputs": [],
   "source": []
  },
  {
   "cell_type": "markdown",
   "metadata": {},
   "source": [
    "c) Perform a hypothesis test comparing the G. scandens beak depths in 1975 and 2012. Carefully state your null hypothesis, your test statistic, and your definition of what it means to be at least as extreme as the observed test statistic. Comment on the results. It might be interesting to know that a severe drought in 1976 and 1977 resulted in the death of the plants that produce small seeds on the island.\n",
    "\n",
    "d) Devise a measure for the shape of a beak. That is, invent some scalar measure that combines both the length and depth of the beak. Compare this measure between species and through time. (This is very open-ended. It is up to you to define the measure, make relevant plots, compute confidence intervals, and possibly do hypothesis tests to see how shape changes over time and between the two species.)\n",
    "\n",
    "e) Introgressive hybridization occurs when a G. scandens bird mates with a G. fortis bird, and then the offspring mates again with pure G. scandens. This brings traits from G. fortis into the G. scandens genome. As this may be a mode by which beak geometries of G. scandens change over time, it is useful to know how heritable a trait is. Heritability is defined as the ratio of the covariance between parents and offsprings to the variance of the parents alone. To be clear, the heritability is defined as follows.\n",
    "\n",
    "Compute the average value of a trait in a pair of parents.\n",
    "Compute the average value of that trait among the offspring of those parents.\n",
    "Do this for each set of parents/offspring. Using this data set, compute the covariance among all average offspring and the variance among all average parents.\n",
    "This is a more apt definition than, say, the Pearson correlation, because it is a direct comparison between parents and offspring.\n",
    "\n",
    "Heritability data for beak depth for G. fortis and G. scandens can be found here and here, respectively. (Be sure to look at the files before reading them in; they do have different formats.) From these data, compute the heritability of beak depth in the two species, with confidence intervals. How do they differ, and what consequences might this have for introgressive hybridization?"
   ]
  },
  {
   "cell_type": "code",
   "execution_count": null,
   "metadata": {},
   "outputs": [],
   "source": []
  },
  {
   "cell_type": "code",
   "execution_count": null,
   "metadata": {},
   "outputs": [],
   "source": []
  }
 ],
 "metadata": {
  "kernelspec": {
   "display_name": "Python 3",
   "language": "python",
   "name": "python3"
  },
  "language_info": {
   "codemirror_mode": {
    "name": "ipython",
    "version": 3
   },
   "file_extension": ".py",
   "mimetype": "text/x-python",
   "name": "python",
   "nbconvert_exporter": "python",
   "pygments_lexer": "ipython3",
   "version": "3.7.0"
  }
 },
 "nbformat": 4,
 "nbformat_minor": 2
}
