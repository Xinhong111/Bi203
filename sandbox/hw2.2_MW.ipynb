{
 "cells": [
  {
   "cell_type": "code",
   "execution_count": 7,
   "metadata": {},
   "outputs": [],
   "source": [
    "import itertools\n",
    "\n",
    "import numpy as np\n",
    "import pandas as pd\n",
    "\n",
    "import altair as alt\n",
    "import altair_catplot as altcat"
   ]
  },
  {
   "cell_type": "code",
   "execution_count": 21,
   "metadata": {},
   "outputs": [],
   "source": [
    "df_resampled = pd.read_csv('../data/130315_1A_aanat2_resampled.csv')"
   ]
  },
  {
   "cell_type": "code",
   "execution_count": 22,
   "metadata": {},
   "outputs": [
    {
     "data": {
      "text/html": [
       "<div>\n",
       "<style scoped>\n",
       "    .dataframe tbody tr th:only-of-type {\n",
       "        vertical-align: middle;\n",
       "    }\n",
       "\n",
       "    .dataframe tbody tr th {\n",
       "        vertical-align: top;\n",
       "    }\n",
       "\n",
       "    .dataframe thead th {\n",
       "        text-align: right;\n",
       "    }\n",
       "</style>\n",
       "<table border=\"1\" class=\"dataframe\">\n",
       "  <thead>\n",
       "    <tr style=\"text-align: right;\">\n",
       "      <th></th>\n",
       "      <th>location</th>\n",
       "      <th>time</th>\n",
       "      <th>activity</th>\n",
       "      <th>zeit</th>\n",
       "      <th>zeit_ind</th>\n",
       "      <th>day</th>\n",
       "      <th>genotype</th>\n",
       "      <th>light</th>\n",
       "    </tr>\n",
       "  </thead>\n",
       "  <tbody>\n",
       "    <tr>\n",
       "      <th>0</th>\n",
       "      <td>1</td>\n",
       "      <td>2013-03-15 18:30:00</td>\n",
       "      <td>85.888889</td>\n",
       "      <td>-14.500000</td>\n",
       "      <td>-869</td>\n",
       "      <td>4</td>\n",
       "      <td>het</td>\n",
       "      <td>True</td>\n",
       "    </tr>\n",
       "    <tr>\n",
       "      <th>1</th>\n",
       "      <td>1</td>\n",
       "      <td>2013-03-15 18:40:00</td>\n",
       "      <td>4.500000</td>\n",
       "      <td>-14.333333</td>\n",
       "      <td>-860</td>\n",
       "      <td>4</td>\n",
       "      <td>het</td>\n",
       "      <td>True</td>\n",
       "    </tr>\n",
       "    <tr>\n",
       "      <th>2</th>\n",
       "      <td>1</td>\n",
       "      <td>2013-03-15 18:50:00</td>\n",
       "      <td>0.000000</td>\n",
       "      <td>-14.166667</td>\n",
       "      <td>-850</td>\n",
       "      <td>4</td>\n",
       "      <td>het</td>\n",
       "      <td>True</td>\n",
       "    </tr>\n",
       "    <tr>\n",
       "      <th>3</th>\n",
       "      <td>1</td>\n",
       "      <td>2013-03-15 19:00:00</td>\n",
       "      <td>0.000000</td>\n",
       "      <td>-14.000000</td>\n",
       "      <td>-840</td>\n",
       "      <td>4</td>\n",
       "      <td>het</td>\n",
       "      <td>True</td>\n",
       "    </tr>\n",
       "    <tr>\n",
       "      <th>4</th>\n",
       "      <td>1</td>\n",
       "      <td>2013-03-15 19:10:00</td>\n",
       "      <td>0.000000</td>\n",
       "      <td>-13.833333</td>\n",
       "      <td>-830</td>\n",
       "      <td>4</td>\n",
       "      <td>het</td>\n",
       "      <td>True</td>\n",
       "    </tr>\n",
       "  </tbody>\n",
       "</table>\n",
       "</div>"
      ],
      "text/plain": [
       "   location                 time   activity       zeit  zeit_ind  day  \\\n",
       "0         1  2013-03-15 18:30:00  85.888889 -14.500000      -869    4   \n",
       "1         1  2013-03-15 18:40:00   4.500000 -14.333333      -860    4   \n",
       "2         1  2013-03-15 18:50:00   0.000000 -14.166667      -850    4   \n",
       "3         1  2013-03-15 19:00:00   0.000000 -14.000000      -840    4   \n",
       "4         1  2013-03-15 19:10:00   0.000000 -13.833333      -830    4   \n",
       "\n",
       "  genotype  light  \n",
       "0      het   True  \n",
       "1      het   True  \n",
       "2      het   True  \n",
       "3      het   True  \n",
       "4      het   True  "
      ]
     },
     "execution_count": 22,
     "metadata": {},
     "output_type": "execute_result"
    }
   ],
   "source": [
    "df_resampled.head()"
   ]
  },
  {
   "cell_type": "code",
   "execution_count": 34,
   "metadata": {},
   "outputs": [
    {
     "data": {
      "text/plain": [
       "array(['het', 'wt', 'mut'], dtype=object)"
      ]
     },
     "execution_count": 34,
     "metadata": {},
     "output_type": "execute_result"
    }
   ],
   "source": [
    "df_resampled['genotype'].unique()"
   ]
  },
  {
   "cell_type": "markdown",
   "metadata": {},
   "source": [
    "In this problem, you will work with your group to come up with some good ways to parametrize sleep behavior and estimate the values of these parameters. Choose two different ways to parametrize sleep behavior. You can use sleep metrics from the Prober, et al. paper or (for more fun) invent your own. For each of the ways of parametrizing sleep, provide instructive plots and estimate the values of the parameters. Be sure to discuss the rationale behind choosing your parametrizations."
   ]
  },
  {
   "cell_type": "code",
   "execution_count": 23,
   "metadata": {},
   "outputs": [
    {
     "data": {
      "application/vnd.vegalite.v2+json": {
       "$schema": "https://vega.github.io/schema/vega-lite/v2.6.0.json",
       "config": {
        "view": {
         "height": 300,
         "width": 400
        }
       },
       "datasets": {
        "data-0204ba2995ebd89e038c0b7e0b0209c2": [
         {
          "activity": 9.4,
          "light": false,
          "zeit": -10
         },
         {
          "activity": 0,
          "light": false,
          "zeit": -9.833333333333334
         },
         {
          "activity": 6.4,
          "light": false,
          "zeit": -9.666666666666666
         },
         {
          "activity": 5.3,
          "light": false,
          "zeit": -9.5
         },
         {
          "activity": 4.8,
          "light": false,
          "zeit": -9.333333333333334
         },
         {
          "activity": 0.1,
          "light": false,
          "zeit": -9.166666666666666
         },
         {
          "activity": 0.8,
          "light": false,
          "zeit": -9.000000000000002
         },
         {
          "activity": 0.3,
          "light": false,
          "zeit": -8.833333333333334
         },
         {
          "activity": 0,
          "light": false,
          "zeit": -8.666666666666668
         },
         {
          "activity": 0,
          "light": false,
          "zeit": -8.500000000000002
         },
         {
          "activity": 0.30000000000000004,
          "light": false,
          "zeit": -8.333333333333334
         },
         {
          "activity": 0,
          "light": false,
          "zeit": -8.166666666666668
         },
         {
          "activity": 0,
          "light": false,
          "zeit": -8
         },
         {
          "activity": 0,
          "light": false,
          "zeit": -7.833333333333332
         },
         {
          "activity": 0.30000000000000004,
          "light": false,
          "zeit": -7.666666666666668
         },
         {
          "activity": 0.1,
          "light": false,
          "zeit": -7.5
         },
         {
          "activity": 0.30000000000000004,
          "light": false,
          "zeit": -7.333333333333332
         },
         {
          "activity": 1.1,
          "light": false,
          "zeit": -7.166666666666668
         },
         {
          "activity": 0,
          "light": false,
          "zeit": -7
         },
         {
          "activity": 0,
          "light": false,
          "zeit": -6.833333333333332
         },
         {
          "activity": 0,
          "light": false,
          "zeit": -6.666666666666668
         },
         {
          "activity": 0,
          "light": false,
          "zeit": -6.5
         },
         {
          "activity": 0,
          "light": false,
          "zeit": -6.333333333333332
         },
         {
          "activity": 0,
          "light": false,
          "zeit": -6.166666666666668
         },
         {
          "activity": 0.7999999999999999,
          "light": false,
          "zeit": -6
         },
         {
          "activity": 0,
          "light": false,
          "zeit": -5.833333333333332
         },
         {
          "activity": 0,
          "light": false,
          "zeit": -5.666666666666668
         },
         {
          "activity": 0,
          "light": false,
          "zeit": -5.5
         },
         {
          "activity": 0,
          "light": false,
          "zeit": -5.333333333333333
         },
         {
          "activity": 6.6,
          "light": false,
          "zeit": -5.166666666666667
         },
         {
          "activity": 0.6,
          "light": false,
          "zeit": -5
         },
         {
          "activity": 0.1,
          "light": false,
          "zeit": -4.833333333333333
         },
         {
          "activity": 0,
          "light": false,
          "zeit": -4.666666666666667
         },
         {
          "activity": 0,
          "light": false,
          "zeit": -4.500000000000001
         },
         {
          "activity": 0,
          "light": false,
          "zeit": -4.333333333333334
         },
         {
          "activity": 0,
          "light": false,
          "zeit": -4.166666666666667
         },
         {
          "activity": 8.2,
          "light": false,
          "zeit": -4
         },
         {
          "activity": 13.6,
          "light": false,
          "zeit": -3.8333333333333335
         },
         {
          "activity": 12.9,
          "light": false,
          "zeit": -3.6666666666666665
         },
         {
          "activity": 4.4,
          "light": false,
          "zeit": -3.5
         },
         {
          "activity": 9.9,
          "light": false,
          "zeit": -3.333333333333333
         },
         {
          "activity": 22.1,
          "light": false,
          "zeit": -3.1666666666666665
         },
         {
          "activity": 25.9,
          "light": false,
          "zeit": -3
         },
         {
          "activity": 27.9,
          "light": false,
          "zeit": -2.833333333333333
         },
         {
          "activity": 17,
          "light": false,
          "zeit": -2.6666666666666665
         },
         {
          "activity": 6.9,
          "light": false,
          "zeit": -2.5
         },
         {
          "activity": 8.7,
          "light": false,
          "zeit": -2.333333333333333
         },
         {
          "activity": 4,
          "light": false,
          "zeit": -2.166666666666667
         },
         {
          "activity": 6.8,
          "light": false,
          "zeit": -2
         },
         {
          "activity": 8.900000000000002,
          "light": false,
          "zeit": -1.8333333333333333
         },
         {
          "activity": 14,
          "light": false,
          "zeit": -1.6666666666666667
         },
         {
          "activity": 7.3,
          "light": false,
          "zeit": -1.5
         },
         {
          "activity": 0.1,
          "light": false,
          "zeit": -1.3333333333333333
         },
         {
          "activity": 10.999999999999998,
          "light": false,
          "zeit": -1.1666666666666667
         },
         {
          "activity": 5,
          "light": false,
          "zeit": -1
         },
         {
          "activity": 8.3,
          "light": false,
          "zeit": -0.8333333333333334
         },
         {
          "activity": 10,
          "light": false,
          "zeit": -0.6666666666666666
         },
         {
          "activity": 6.2,
          "light": false,
          "zeit": -0.5
         },
         {
          "activity": 4.1,
          "light": false,
          "zeit": -0.3333333333333333
         },
         {
          "activity": 4.6,
          "light": false,
          "zeit": -0.16666666666666666
         }
        ],
        "data-06ba3942e36dc0de54647e9960f95fc8": [
         {
          "activity": 42.7,
          "light": true,
          "zeit": 72.00000000000001
         },
         {
          "activity": 100.9,
          "light": true,
          "zeit": 72.16666666666667
         },
         {
          "activity": 85.4,
          "light": true,
          "zeit": 72.33333333333334
         },
         {
          "activity": 82,
          "light": true,
          "zeit": 72.50000000000001
         },
         {
          "activity": 66.2,
          "light": true,
          "zeit": 72.66666666666667
         },
         {
          "activity": 66.8,
          "light": true,
          "zeit": 72.83333333333333
         },
         {
          "activity": 49.6,
          "light": true,
          "zeit": 73
         },
         {
          "activity": 55.7,
          "light": true,
          "zeit": 73.16666666666667
         },
         {
          "activity": 51.8,
          "light": true,
          "zeit": 73.33333333333333
         },
         {
          "activity": 48.5,
          "light": true,
          "zeit": 73.5
         },
         {
          "activity": 28.4,
          "light": true,
          "zeit": 73.66666666666667
         },
         {
          "activity": 29.600000000000005,
          "light": true,
          "zeit": 73.83333333333333
         },
         {
          "activity": 61.9,
          "light": true,
          "zeit": 74
         },
         {
          "activity": 32.099999999999994,
          "light": true,
          "zeit": 74.16666666666667
         },
         {
          "activity": 34.300000000000004,
          "light": true,
          "zeit": 74.33333333333333
         },
         {
          "activity": 37.9,
          "light": true,
          "zeit": 74.5
         },
         {
          "activity": 23.7,
          "light": true,
          "zeit": 74.66666666666667
         },
         {
          "activity": 31.3,
          "light": true,
          "zeit": 74.83333333333333
         },
         {
          "activity": 8,
          "light": true,
          "zeit": 75
         }
        ],
        "data-1ccb1e180d2fb7a8e25c27f976e612f6": [
         {
          "activity": 54.5,
          "light": true,
          "zeit": 48
         },
         {
          "activity": 71.6,
          "light": true,
          "zeit": 48.16666666666666
         },
         {
          "activity": 91.9,
          "light": true,
          "zeit": 48.33333333333334
         },
         {
          "activity": 69,
          "light": true,
          "zeit": 48.5
         },
         {
          "activity": 82.89999999999998,
          "light": true,
          "zeit": 48.66666666666666
         },
         {
          "activity": 58.1,
          "light": true,
          "zeit": 48.83333333333334
         },
         {
          "activity": 39.8,
          "light": true,
          "zeit": 49
         },
         {
          "activity": 32.7,
          "light": true,
          "zeit": 49.16666666666666
         },
         {
          "activity": 40.7,
          "light": true,
          "zeit": 49.33333333333334
         },
         {
          "activity": 44.7,
          "light": true,
          "zeit": 49.5
         },
         {
          "activity": 16.400000000000002,
          "light": true,
          "zeit": 49.66666666666666
         },
         {
          "activity": 49.4,
          "light": true,
          "zeit": 49.83333333333334
         },
         {
          "activity": 27.1,
          "light": true,
          "zeit": 50
         },
         {
          "activity": 22.3,
          "light": true,
          "zeit": 50.16666666666666
         },
         {
          "activity": 29.6,
          "light": true,
          "zeit": 50.33333333333334
         },
         {
          "activity": 13.5,
          "light": true,
          "zeit": 50.5
         },
         {
          "activity": 17.6,
          "light": true,
          "zeit": 50.66666666666666
         },
         {
          "activity": 36.9,
          "light": true,
          "zeit": 50.83333333333334
         },
         {
          "activity": 36.3,
          "light": true,
          "zeit": 51
         },
         {
          "activity": 27.899999999999995,
          "light": true,
          "zeit": 51.16666666666666
         },
         {
          "activity": 36.2,
          "light": true,
          "zeit": 51.33333333333334
         },
         {
          "activity": 20.375,
          "light": true,
          "zeit": 51.5
         },
         {
          "activity": 49.99999999999999,
          "light": true,
          "zeit": 51.66666666666666
         },
         {
          "activity": 14.9,
          "light": true,
          "zeit": 51.83333333333334
         },
         {
          "activity": 18.3,
          "light": true,
          "zeit": 52
         },
         {
          "activity": 21.8,
          "light": true,
          "zeit": 52.16666666666666
         },
         {
          "activity": 54.2,
          "light": true,
          "zeit": 52.33333333333334
         },
         {
          "activity": 17.5,
          "light": true,
          "zeit": 52.5
         },
         {
          "activity": 25.399999999999995,
          "light": true,
          "zeit": 52.66666666666666
         },
         {
          "activity": 9.4,
          "light": true,
          "zeit": 52.83333333333334
         },
         {
          "activity": 47,
          "light": true,
          "zeit": 53
         },
         {
          "activity": 28.000000000000004,
          "light": true,
          "zeit": 53.16666666666666
         },
         {
          "activity": 18.2,
          "light": true,
          "zeit": 53.33333333333334
         },
         {
          "activity": 24.4,
          "light": true,
          "zeit": 53.5
         },
         {
          "activity": 48.8,
          "light": true,
          "zeit": 53.66666666666666
         },
         {
          "activity": 51.1,
          "light": true,
          "zeit": 53.83333333333334
         },
         {
          "activity": 30.3,
          "light": true,
          "zeit": 54
         },
         {
          "activity": 35.2,
          "light": true,
          "zeit": 54.16666666666666
         },
         {
          "activity": 20,
          "light": true,
          "zeit": 54.33333333333334
         },
         {
          "activity": 29.3,
          "light": true,
          "zeit": 54.5
         },
         {
          "activity": 40,
          "light": true,
          "zeit": 54.66666666666666
         },
         {
          "activity": 42.4,
          "light": true,
          "zeit": 54.83333333333334
         },
         {
          "activity": 29.6,
          "light": true,
          "zeit": 55
         },
         {
          "activity": 45.4,
          "light": true,
          "zeit": 55.16666666666666
         },
         {
          "activity": 75.2,
          "light": true,
          "zeit": 55.33333333333334
         },
         {
          "activity": 38.6,
          "light": true,
          "zeit": 55.5
         },
         {
          "activity": 28.2,
          "light": true,
          "zeit": 55.66666666666666
         },
         {
          "activity": 17.299999999999994,
          "light": true,
          "zeit": 55.83333333333334
         },
         {
          "activity": 40.10000000000001,
          "light": true,
          "zeit": 56
         },
         {
          "activity": 29.9,
          "light": true,
          "zeit": 56.16666666666666
         },
         {
          "activity": 53.3,
          "light": true,
          "zeit": 56.33333333333334
         },
         {
          "activity": 49.7,
          "light": true,
          "zeit": 56.5
         },
         {
          "activity": 40.5,
          "light": true,
          "zeit": 56.66666666666666
         },
         {
          "activity": 38.5,
          "light": true,
          "zeit": 56.83333333333334
         },
         {
          "activity": 30.5,
          "light": true,
          "zeit": 57
         },
         {
          "activity": 21.9,
          "light": true,
          "zeit": 57.16666666666666
         },
         {
          "activity": 37.49999999999999,
          "light": true,
          "zeit": 57.33333333333334
         },
         {
          "activity": 11.999999999999998,
          "light": true,
          "zeit": 57.5
         },
         {
          "activity": 24.700000000000006,
          "light": true,
          "zeit": 57.66666666666666
         },
         {
          "activity": 22.3,
          "light": true,
          "zeit": 57.83333333333334
         },
         {
          "activity": 20.899999999999995,
          "light": true,
          "zeit": 58
         },
         {
          "activity": 51.9,
          "light": true,
          "zeit": 58.16666666666666
         },
         {
          "activity": 12.8,
          "light": true,
          "zeit": 58.33333333333334
         },
         {
          "activity": 28.2,
          "light": true,
          "zeit": 58.5
         },
         {
          "activity": 66.60000000000001,
          "light": true,
          "zeit": 58.66666666666666
         },
         {
          "activity": 36.6,
          "light": true,
          "zeit": 58.83333333333334
         },
         {
          "activity": 22.000000000000004,
          "light": true,
          "zeit": 59
         },
         {
          "activity": 23.4,
          "light": true,
          "zeit": 59.16666666666666
         },
         {
          "activity": 30.8,
          "light": true,
          "zeit": 59.33333333333334
         },
         {
          "activity": 24.1,
          "light": true,
          "zeit": 59.5
         },
         {
          "activity": 17.299999999999994,
          "light": true,
          "zeit": 59.66666666666666
         },
         {
          "activity": 27.599999999999994,
          "light": true,
          "zeit": 59.83333333333334
         },
         {
          "activity": 25,
          "light": true,
          "zeit": 60
         },
         {
          "activity": 12.7,
          "light": true,
          "zeit": 60.16666666666666
         },
         {
          "activity": 31.8,
          "light": true,
          "zeit": 60.33333333333334
         },
         {
          "activity": 9.2,
          "light": true,
          "zeit": 60.5
         },
         {
          "activity": 52.4,
          "light": true,
          "zeit": 60.66666666666666
         },
         {
          "activity": 16.5,
          "light": true,
          "zeit": 60.83333333333334
         },
         {
          "activity": 11.7,
          "light": true,
          "zeit": 61
         },
         {
          "activity": 19.1,
          "light": true,
          "zeit": 61.16666666666666
         },
         {
          "activity": 17,
          "light": true,
          "zeit": 61.33333333333334
         },
         {
          "activity": 37.1,
          "light": true,
          "zeit": 61.5
         },
         {
          "activity": 27,
          "light": true,
          "zeit": 61.66666666666666
         },
         {
          "activity": 25.6,
          "light": true,
          "zeit": 61.83333333333334
         }
        ],
        "data-738f74767088fabc63be6055ec3e8c27": [
         {
          "activity": 41,
          "light": true,
          "zeit": 0
         },
         {
          "activity": 91.1,
          "light": true,
          "zeit": 0.16666666666666666
         },
         {
          "activity": 84.69999999999997,
          "light": true,
          "zeit": 0.3333333333333333
         },
         {
          "activity": 69.3,
          "light": true,
          "zeit": 0.5
         },
         {
          "activity": 0,
          "light": true,
          "zeit": 0.6666666666666666
         },
         {
          "activity": 0,
          "light": true,
          "zeit": 0.8333333333333334
         },
         {
          "activity": 0,
          "light": true,
          "zeit": 1
         },
         {
          "activity": 42.30000000000001,
          "light": true,
          "zeit": 1.1666666666666667
         },
         {
          "activity": 43.00000000000001,
          "light": true,
          "zeit": 1.3333333333333333
         },
         {
          "activity": 65.60000000000001,
          "light": true,
          "zeit": 1.5
         },
         {
          "activity": 44.4,
          "light": true,
          "zeit": 1.6666666666666667
         },
         {
          "activity": 7.4,
          "light": true,
          "zeit": 1.8333333333333333
         },
         {
          "activity": 0.2,
          "light": true,
          "zeit": 2
         },
         {
          "activity": 3,
          "light": true,
          "zeit": 2.166666666666667
         },
         {
          "activity": 11.6,
          "light": true,
          "zeit": 2.333333333333333
         },
         {
          "activity": 26.90000000000001,
          "light": true,
          "zeit": 2.5
         },
         {
          "activity": 32.5,
          "light": true,
          "zeit": 2.6666666666666665
         },
         {
          "activity": 12.4,
          "light": true,
          "zeit": 2.833333333333333
         },
         {
          "activity": 13.7,
          "light": true,
          "zeit": 3
         },
         {
          "activity": 59.60000000000001,
          "light": true,
          "zeit": 3.1666666666666665
         },
         {
          "activity": 49,
          "light": true,
          "zeit": 3.333333333333333
         },
         {
          "activity": 35.90000000000001,
          "light": true,
          "zeit": 3.5
         },
         {
          "activity": 43.29999999999999,
          "light": true,
          "zeit": 3.6666666666666665
         },
         {
          "activity": 39.2,
          "light": true,
          "zeit": 3.8333333333333335
         },
         {
          "activity": 46.8,
          "light": true,
          "zeit": 4
         },
         {
          "activity": 31.9,
          "light": true,
          "zeit": 4.166666666666667
         },
         {
          "activity": 33.90000000000001,
          "light": true,
          "zeit": 4.333333333333334
         },
         {
          "activity": 27.7,
          "light": true,
          "zeit": 4.500000000000001
         },
         {
          "activity": 22.7,
          "light": true,
          "zeit": 4.666666666666667
         },
         {
          "activity": 27.1,
          "light": true,
          "zeit": 4.833333333333333
         },
         {
          "activity": 30.4,
          "light": true,
          "zeit": 5
         },
         {
          "activity": 38.8,
          "light": true,
          "zeit": 5.166666666666667
         },
         {
          "activity": 32.1,
          "light": true,
          "zeit": 5.333333333333333
         },
         {
          "activity": 26.4,
          "light": true,
          "zeit": 5.5
         },
         {
          "activity": 27.4,
          "light": true,
          "zeit": 5.666666666666668
         },
         {
          "activity": 41.90000000000001,
          "light": true,
          "zeit": 5.833333333333332
         },
         {
          "activity": 27.2,
          "light": true,
          "zeit": 6
         },
         {
          "activity": 31.300000000000004,
          "light": true,
          "zeit": 6.166666666666668
         },
         {
          "activity": 54.2,
          "light": true,
          "zeit": 6.333333333333332
         },
         {
          "activity": 47.39999999999999,
          "light": true,
          "zeit": 6.5
         },
         {
          "activity": 30,
          "light": true,
          "zeit": 6.666666666666668
         },
         {
          "activity": 24.4,
          "light": true,
          "zeit": 6.833333333333332
         },
         {
          "activity": 56.42857142857143,
          "light": true,
          "zeit": 7
         },
         {
          "activity": 55.4,
          "light": true,
          "zeit": 7.166666666666668
         },
         {
          "activity": 38.49999999999999,
          "light": true,
          "zeit": 7.333333333333332
         },
         {
          "activity": 32,
          "light": true,
          "zeit": 7.5
         },
         {
          "activity": 55.30000000000001,
          "light": true,
          "zeit": 7.666666666666668
         },
         {
          "activity": 75.8,
          "light": true,
          "zeit": 7.833333333333332
         },
         {
          "activity": 74.3,
          "light": true,
          "zeit": 8
         },
         {
          "activity": 44.40000000000001,
          "light": true,
          "zeit": 8.166666666666668
         },
         {
          "activity": 46.1,
          "light": true,
          "zeit": 8.333333333333334
         },
         {
          "activity": 52.40000000000001,
          "light": true,
          "zeit": 8.500000000000002
         },
         {
          "activity": 30.5,
          "light": true,
          "zeit": 8.666666666666668
         },
         {
          "activity": 31.2,
          "light": true,
          "zeit": 8.833333333333334
         },
         {
          "activity": 30.7,
          "light": true,
          "zeit": 9.000000000000002
         },
         {
          "activity": 53.10000000000001,
          "light": true,
          "zeit": 9.166666666666666
         },
         {
          "activity": 63.3,
          "light": true,
          "zeit": 9.333333333333334
         },
         {
          "activity": 46.39999999999999,
          "light": true,
          "zeit": 9.5
         },
         {
          "activity": 57.4,
          "light": true,
          "zeit": 9.666666666666666
         },
         {
          "activity": 57.2,
          "light": true,
          "zeit": 9.833333333333334
         },
         {
          "activity": 62.7,
          "light": true,
          "zeit": 10
         },
         {
          "activity": 29.3,
          "light": true,
          "zeit": 10.166666666666666
         },
         {
          "activity": 53.1,
          "light": true,
          "zeit": 10.333333333333334
         },
         {
          "activity": 42.90000000000001,
          "light": true,
          "zeit": 10.5
         },
         {
          "activity": 39.89999999999999,
          "light": true,
          "zeit": 10.666666666666666
         },
         {
          "activity": 26.2,
          "light": true,
          "zeit": 10.833333333333336
         },
         {
          "activity": 31.00000000000001,
          "light": true,
          "zeit": 11
         },
         {
          "activity": 59.9,
          "light": true,
          "zeit": 11.166666666666664
         },
         {
          "activity": 53.1,
          "light": true,
          "zeit": 11.333333333333336
         },
         {
          "activity": 58.5,
          "light": true,
          "zeit": 11.5
         },
         {
          "activity": 63,
          "light": true,
          "zeit": 11.666666666666664
         },
         {
          "activity": 43.60000000000001,
          "light": true,
          "zeit": 11.833333333333336
         },
         {
          "activity": 49.3,
          "light": true,
          "zeit": 12
         },
         {
          "activity": 37.5,
          "light": true,
          "zeit": 12.166666666666664
         },
         {
          "activity": 35.3,
          "light": true,
          "zeit": 12.333333333333336
         },
         {
          "activity": 53.2,
          "light": true,
          "zeit": 12.5
         },
         {
          "activity": 36.3,
          "light": true,
          "zeit": 12.666666666666664
         },
         {
          "activity": 36,
          "light": true,
          "zeit": 12.833333333333336
         },
         {
          "activity": 38.8,
          "light": true,
          "zeit": 13
         },
         {
          "activity": 46,
          "light": true,
          "zeit": 13.166666666666664
         },
         {
          "activity": 42.9,
          "light": true,
          "zeit": 13.333333333333336
         },
         {
          "activity": 46.20000000000001,
          "light": true,
          "zeit": 13.5
         },
         {
          "activity": 60.6,
          "light": true,
          "zeit": 13.666666666666664
         },
         {
          "activity": 65,
          "light": true,
          "zeit": 13.833333333333336
         }
        ],
        "data-9b1fadecd0a80a118915a358e5e98d29": [
         {
          "activity": 87.9,
          "light": true,
          "zeit": 24
         },
         {
          "activity": 118.8,
          "light": true,
          "zeit": 24.16666666666667
         },
         {
          "activity": 116.1,
          "light": true,
          "zeit": 24.33333333333333
         },
         {
          "activity": 106.3,
          "light": true,
          "zeit": 24.5
         },
         {
          "activity": 118,
          "light": true,
          "zeit": 24.66666666666667
         },
         {
          "activity": 85.7,
          "light": true,
          "zeit": 24.83333333333333
         },
         {
          "activity": 2.9,
          "light": true,
          "zeit": 25
         },
         {
          "activity": 0.1,
          "light": true,
          "zeit": 25.16666666666667
         },
         {
          "activity": 11.2,
          "light": true,
          "zeit": 25.33333333333333
         },
         {
          "activity": 93.5,
          "light": true,
          "zeit": 25.5
         },
         {
          "activity": 90.3,
          "light": true,
          "zeit": 25.66666666666667
         },
         {
          "activity": 72.7,
          "light": true,
          "zeit": 25.83333333333333
         },
         {
          "activity": 42.49999999999999,
          "light": true,
          "zeit": 26
         },
         {
          "activity": 38.3,
          "light": true,
          "zeit": 26.16666666666667
         },
         {
          "activity": 42.8,
          "light": true,
          "zeit": 26.33333333333333
         },
         {
          "activity": 48.5,
          "light": true,
          "zeit": 26.5
         },
         {
          "activity": 33.90000000000001,
          "light": true,
          "zeit": 26.66666666666667
         },
         {
          "activity": 41.5,
          "light": true,
          "zeit": 26.83333333333333
         },
         {
          "activity": 50.3,
          "light": true,
          "zeit": 27
         },
         {
          "activity": 22.7,
          "light": true,
          "zeit": 27.16666666666667
         },
         {
          "activity": 30,
          "light": true,
          "zeit": 27.33333333333333
         },
         {
          "activity": 44.2,
          "light": true,
          "zeit": 27.5
         },
         {
          "activity": 22.3,
          "light": true,
          "zeit": 27.66666666666667
         },
         {
          "activity": 38.3,
          "light": true,
          "zeit": 27.83333333333333
         },
         {
          "activity": 28.7,
          "light": true,
          "zeit": 28
         },
         {
          "activity": 35.40000000000001,
          "light": true,
          "zeit": 28.16666666666667
         },
         {
          "activity": 27.000000000000004,
          "light": true,
          "zeit": 28.33333333333333
         },
         {
          "activity": 28.8,
          "light": true,
          "zeit": 28.5
         },
         {
          "activity": 29.1,
          "light": true,
          "zeit": 28.66666666666667
         },
         {
          "activity": 32.9,
          "light": true,
          "zeit": 28.83333333333333
         },
         {
          "activity": 27.5,
          "light": true,
          "zeit": 29
         },
         {
          "activity": 43.7,
          "light": true,
          "zeit": 29.16666666666667
         },
         {
          "activity": 72.9,
          "light": true,
          "zeit": 29.33333333333333
         },
         {
          "activity": 44.3,
          "light": true,
          "zeit": 29.5
         },
         {
          "activity": 38.00000000000001,
          "light": true,
          "zeit": 29.66666666666667
         },
         {
          "activity": 31.5,
          "light": true,
          "zeit": 29.83333333333333
         },
         {
          "activity": 42.7,
          "light": true,
          "zeit": 30
         },
         {
          "activity": 50.1,
          "light": true,
          "zeit": 30.16666666666667
         },
         {
          "activity": 50.1,
          "light": true,
          "zeit": 30.33333333333333
         },
         {
          "activity": 26.9,
          "light": true,
          "zeit": 30.5
         },
         {
          "activity": 23.7,
          "light": true,
          "zeit": 30.66666666666667
         },
         {
          "activity": 25.8,
          "light": true,
          "zeit": 30.83333333333333
         },
         {
          "activity": 23.7,
          "light": true,
          "zeit": 31
         },
         {
          "activity": 22.8,
          "light": true,
          "zeit": 31.16666666666667
         },
         {
          "activity": 47.2,
          "light": true,
          "zeit": 31.33333333333333
         },
         {
          "activity": 41.7,
          "light": true,
          "zeit": 31.5
         },
         {
          "activity": 31.3,
          "light": true,
          "zeit": 31.66666666666667
         },
         {
          "activity": 32.1,
          "light": true,
          "zeit": 31.83333333333333
         },
         {
          "activity": 21.4,
          "light": true,
          "zeit": 32
         },
         {
          "activity": 64.39999999999999,
          "light": true,
          "zeit": 32.166666666666664
         },
         {
          "activity": 43.4,
          "light": true,
          "zeit": 32.333333333333336
         },
         {
          "activity": 46.3,
          "light": true,
          "zeit": 32.50000000000001
         },
         {
          "activity": 33.2,
          "light": true,
          "zeit": 32.66666666666667
         },
         {
          "activity": 54.2,
          "light": true,
          "zeit": 32.833333333333336
         },
         {
          "activity": 69.2,
          "light": true,
          "zeit": 33.00000000000001
         },
         {
          "activity": 21.300000000000004,
          "light": true,
          "zeit": 33.16666666666667
         },
         {
          "activity": 42.1,
          "light": true,
          "zeit": 33.333333333333336
         },
         {
          "activity": 41.7,
          "light": true,
          "zeit": 33.50000000000001
         },
         {
          "activity": 49.5,
          "light": true,
          "zeit": 33.66666666666667
         },
         {
          "activity": 22.4,
          "light": true,
          "zeit": 33.833333333333336
         },
         {
          "activity": 48.9,
          "light": true,
          "zeit": 34.00000000000001
         },
         {
          "activity": 51.8,
          "light": true,
          "zeit": 34.16666666666667
         },
         {
          "activity": 17.099999999999998,
          "light": true,
          "zeit": 34.333333333333336
         },
         {
          "activity": 33.4,
          "light": true,
          "zeit": 34.50000000000001
         },
         {
          "activity": 30.3,
          "light": true,
          "zeit": 34.66666666666667
         },
         {
          "activity": 35.8,
          "light": true,
          "zeit": 34.833333333333336
         },
         {
          "activity": 35.7,
          "light": true,
          "zeit": 35.00000000000001
         },
         {
          "activity": 36.8,
          "light": true,
          "zeit": 35.16666666666667
         },
         {
          "activity": 31.7,
          "light": true,
          "zeit": 35.333333333333336
         },
         {
          "activity": 38.2,
          "light": true,
          "zeit": 35.50000000000001
         },
         {
          "activity": 36.3,
          "light": true,
          "zeit": 35.66666666666667
         },
         {
          "activity": 72,
          "light": true,
          "zeit": 35.833333333333336
         },
         {
          "activity": 70.6,
          "light": true,
          "zeit": 36.00000000000001
         },
         {
          "activity": 39.4,
          "light": true,
          "zeit": 36.16666666666667
         },
         {
          "activity": 23.500000000000004,
          "light": true,
          "zeit": 36.333333333333336
         },
         {
          "activity": 21.6,
          "light": true,
          "zeit": 36.5
         },
         {
          "activity": 27.5,
          "light": true,
          "zeit": 36.66666666666666
         },
         {
          "activity": 25.4,
          "light": true,
          "zeit": 36.833333333333336
         },
         {
          "activity": 41.10000000000001,
          "light": true,
          "zeit": 37
         },
         {
          "activity": 18.1,
          "light": true,
          "zeit": 37.16666666666666
         },
         {
          "activity": 13,
          "light": true,
          "zeit": 37.333333333333336
         },
         {
          "activity": 30.1,
          "light": true,
          "zeit": 37.5
         },
         {
          "activity": 21.7,
          "light": true,
          "zeit": 37.66666666666666
         },
         {
          "activity": 55.4,
          "light": true,
          "zeit": 37.833333333333336
         }
        ],
        "data-9f8e8692b5dc061d139a40e15af27f32": [
         {
          "activity": 59.9,
          "light": false,
          "zeit": 14
         },
         {
          "activity": 16.3,
          "light": false,
          "zeit": 14.166666666666664
         },
         {
          "activity": 5.8,
          "light": false,
          "zeit": 14.333333333333336
         },
         {
          "activity": 16.8,
          "light": false,
          "zeit": 14.5
         },
         {
          "activity": 17.5,
          "light": false,
          "zeit": 14.666666666666664
         },
         {
          "activity": 15.8,
          "light": false,
          "zeit": 14.833333333333336
         },
         {
          "activity": 9.8,
          "light": false,
          "zeit": 15
         },
         {
          "activity": 11.2,
          "light": false,
          "zeit": 15.166666666666664
         },
         {
          "activity": 4.9,
          "light": false,
          "zeit": 15.333333333333336
         },
         {
          "activity": 16.400000000000002,
          "light": false,
          "zeit": 15.5
         },
         {
          "activity": 16.200000000000006,
          "light": false,
          "zeit": 15.666666666666664
         },
         {
          "activity": 10.6,
          "light": false,
          "zeit": 15.833333333333336
         },
         {
          "activity": 14.6,
          "light": false,
          "zeit": 16
         },
         {
          "activity": 7.9,
          "light": false,
          "zeit": 16.166666666666668
         },
         {
          "activity": 9.8,
          "light": false,
          "zeit": 16.333333333333336
         },
         {
          "activity": 15.500000000000002,
          "light": false,
          "zeit": 16.500000000000004
         },
         {
          "activity": 21.7,
          "light": false,
          "zeit": 16.666666666666668
         },
         {
          "activity": 9.5,
          "light": false,
          "zeit": 16.833333333333336
         },
         {
          "activity": 5.5,
          "light": false,
          "zeit": 17.000000000000004
         },
         {
          "activity": 14.4,
          "light": false,
          "zeit": 17.166666666666668
         },
         {
          "activity": 2,
          "light": false,
          "zeit": 17.333333333333336
         },
         {
          "activity": 6,
          "light": false,
          "zeit": 17.500000000000004
         },
         {
          "activity": 7.3,
          "light": false,
          "zeit": 17.666666666666668
         },
         {
          "activity": 12.5,
          "light": false,
          "zeit": 17.833333333333336
         },
         {
          "activity": 9.4,
          "light": false,
          "zeit": 18.000000000000004
         },
         {
          "activity": 6.1,
          "light": false,
          "zeit": 18.166666666666668
         },
         {
          "activity": 9.1,
          "light": false,
          "zeit": 18.33333333333333
         },
         {
          "activity": 5.4,
          "light": false,
          "zeit": 18.5
         },
         {
          "activity": 5.4,
          "light": false,
          "zeit": 18.666666666666668
         },
         {
          "activity": 9.7,
          "light": false,
          "zeit": 18.83333333333333
         },
         {
          "activity": 15.1,
          "light": false,
          "zeit": 19
         },
         {
          "activity": 5.5,
          "light": false,
          "zeit": 19.166666666666668
         },
         {
          "activity": 14.3,
          "light": false,
          "zeit": 19.33333333333333
         },
         {
          "activity": 11.8,
          "light": false,
          "zeit": 19.5
         },
         {
          "activity": 10.8,
          "light": false,
          "zeit": 19.666666666666668
         },
         {
          "activity": 17.099999999999998,
          "light": false,
          "zeit": 19.83333333333333
         },
         {
          "activity": 8,
          "light": false,
          "zeit": 20
         },
         {
          "activity": 19.1,
          "light": false,
          "zeit": 20.166666666666668
         },
         {
          "activity": 16.799999999999994,
          "light": false,
          "zeit": 20.33333333333333
         },
         {
          "activity": 10.2,
          "light": false,
          "zeit": 20.5
         },
         {
          "activity": 9.2,
          "light": false,
          "zeit": 20.666666666666668
         },
         {
          "activity": 1.6,
          "light": false,
          "zeit": 20.83333333333333
         },
         {
          "activity": 9.5,
          "light": false,
          "zeit": 21
         },
         {
          "activity": 12.700000000000005,
          "light": false,
          "zeit": 21.166666666666668
         },
         {
          "activity": 15.599999999999998,
          "light": false,
          "zeit": 21.33333333333333
         },
         {
          "activity": 5.699999999999998,
          "light": false,
          "zeit": 21.5
         },
         {
          "activity": 14.2,
          "light": false,
          "zeit": 21.66666666666667
         },
         {
          "activity": 6.8,
          "light": false,
          "zeit": 21.83333333333333
         },
         {
          "activity": 0,
          "light": false,
          "zeit": 22
         },
         {
          "activity": 10.6,
          "light": false,
          "zeit": 22.16666666666667
         },
         {
          "activity": 21.6,
          "light": false,
          "zeit": 22.33333333333333
         },
         {
          "activity": 15.900000000000002,
          "light": false,
          "zeit": 22.5
         },
         {
          "activity": 14.3,
          "light": false,
          "zeit": 22.66666666666667
         },
         {
          "activity": 12.3,
          "light": false,
          "zeit": 22.83333333333333
         },
         {
          "activity": 10.3,
          "light": false,
          "zeit": 23
         },
         {
          "activity": 14.6,
          "light": false,
          "zeit": 23.16666666666667
         },
         {
          "activity": 19.5,
          "light": false,
          "zeit": 23.33333333333333
         },
         {
          "activity": 1.3,
          "light": false,
          "zeit": 23.5
         },
         {
          "activity": 17.5,
          "light": false,
          "zeit": 23.66666666666667
         },
         {
          "activity": 10.9,
          "light": false,
          "zeit": 23.83333333333333
         }
        ],
        "data-a3992d1aaa9e26408eef2222c632c493": [
         {
          "activity": 46.90000000000001,
          "light": false,
          "zeit": 62
         },
         {
          "activity": 30.8,
          "light": false,
          "zeit": 62.16666666666666
         },
         {
          "activity": 26.9,
          "light": false,
          "zeit": 62.33333333333334
         },
         {
          "activity": 24.4,
          "light": false,
          "zeit": 62.5
         },
         {
          "activity": 33.90000000000001,
          "light": false,
          "zeit": 62.66666666666666
         },
         {
          "activity": 37.90000000000001,
          "light": false,
          "zeit": 62.83333333333334
         },
         {
          "activity": 26.2,
          "light": false,
          "zeit": 63
         },
         {
          "activity": 12.499999999999998,
          "light": false,
          "zeit": 63.16666666666666
         },
         {
          "activity": 12.8,
          "light": false,
          "zeit": 63.33333333333334
         },
         {
          "activity": 28.4,
          "light": false,
          "zeit": 63.5
         },
         {
          "activity": 33,
          "light": false,
          "zeit": 63.66666666666666
         },
         {
          "activity": 27.8,
          "light": false,
          "zeit": 63.83333333333334
         },
         {
          "activity": 18.6,
          "light": false,
          "zeit": 64
         },
         {
          "activity": 29,
          "light": false,
          "zeit": 64.16666666666667
         },
         {
          "activity": 16.2,
          "light": false,
          "zeit": 64.33333333333333
         },
         {
          "activity": 24.6,
          "light": false,
          "zeit": 64.5
         },
         {
          "activity": 14.8,
          "light": false,
          "zeit": 64.66666666666667
         },
         {
          "activity": 22,
          "light": false,
          "zeit": 64.83333333333333
         },
         {
          "activity": 30.2,
          "light": false,
          "zeit": 65.00000000000001
         },
         {
          "activity": 24.1,
          "light": false,
          "zeit": 65.16666666666667
         },
         {
          "activity": 18.5,
          "light": false,
          "zeit": 65.33333333333334
         },
         {
          "activity": 19.2,
          "light": false,
          "zeit": 65.50000000000001
         },
         {
          "activity": 17.1,
          "light": false,
          "zeit": 65.66666666666667
         },
         {
          "activity": 19.800000000000004,
          "light": false,
          "zeit": 65.83333333333334
         },
         {
          "activity": 35.2,
          "light": false,
          "zeit": 66.00000000000001
         },
         {
          "activity": 31.500000000000004,
          "light": false,
          "zeit": 66.16666666666667
         },
         {
          "activity": 17.2,
          "light": false,
          "zeit": 66.33333333333334
         },
         {
          "activity": 9,
          "light": false,
          "zeit": 66.50000000000001
         },
         {
          "activity": 26.4,
          "light": false,
          "zeit": 66.66666666666667
         },
         {
          "activity": 27.1,
          "light": false,
          "zeit": 66.83333333333334
         },
         {
          "activity": 31.000000000000004,
          "light": false,
          "zeit": 67.00000000000001
         },
         {
          "activity": 35.9,
          "light": false,
          "zeit": 67.16666666666667
         },
         {
          "activity": 33.7,
          "light": false,
          "zeit": 67.33333333333334
         },
         {
          "activity": 24.2,
          "light": false,
          "zeit": 67.50000000000001
         },
         {
          "activity": 21.7,
          "light": false,
          "zeit": 67.66666666666667
         },
         {
          "activity": 14.1,
          "light": false,
          "zeit": 67.83333333333334
         },
         {
          "activity": 18.5,
          "light": false,
          "zeit": 68.00000000000001
         },
         {
          "activity": 25.600000000000005,
          "light": false,
          "zeit": 68.16666666666667
         },
         {
          "activity": 9.5,
          "light": false,
          "zeit": 68.33333333333334
         },
         {
          "activity": 9.8,
          "light": false,
          "zeit": 68.50000000000001
         },
         {
          "activity": 17.1,
          "light": false,
          "zeit": 68.66666666666667
         },
         {
          "activity": 15.400000000000002,
          "light": false,
          "zeit": 68.83333333333334
         },
         {
          "activity": 24.2,
          "light": false,
          "zeit": 69.00000000000001
         },
         {
          "activity": 17.7,
          "light": false,
          "zeit": 69.16666666666667
         },
         {
          "activity": 9.8,
          "light": false,
          "zeit": 69.33333333333334
         },
         {
          "activity": 15.3,
          "light": false,
          "zeit": 69.50000000000001
         },
         {
          "activity": 24.8,
          "light": false,
          "zeit": 69.66666666666667
         },
         {
          "activity": 24.599999999999994,
          "light": false,
          "zeit": 69.83333333333334
         },
         {
          "activity": 17.7,
          "light": false,
          "zeit": 70.00000000000001
         },
         {
          "activity": 20.1,
          "light": false,
          "zeit": 70.16666666666667
         },
         {
          "activity": 23.8,
          "light": false,
          "zeit": 70.33333333333334
         },
         {
          "activity": 19.9,
          "light": false,
          "zeit": 70.50000000000001
         },
         {
          "activity": 15.3,
          "light": false,
          "zeit": 70.66666666666667
         },
         {
          "activity": 14.7,
          "light": false,
          "zeit": 70.83333333333334
         },
         {
          "activity": 13.8,
          "light": false,
          "zeit": 71.00000000000001
         },
         {
          "activity": 16.099999999999998,
          "light": false,
          "zeit": 71.16666666666667
         },
         {
          "activity": 26.1,
          "light": false,
          "zeit": 71.33333333333334
         },
         {
          "activity": 32.1,
          "light": false,
          "zeit": 71.50000000000001
         },
         {
          "activity": 18.4,
          "light": false,
          "zeit": 71.66666666666667
         },
         {
          "activity": 35.1,
          "light": false,
          "zeit": 71.83333333333334
         }
        ],
        "data-cecf460d220d314ba481c5fded40ea97": [
         {
          "activity": 30,
          "light": false,
          "zeit": 38
         },
         {
          "activity": 23.1,
          "light": false,
          "zeit": 38.16666666666666
         },
         {
          "activity": 15.3,
          "light": false,
          "zeit": 38.333333333333336
         },
         {
          "activity": 32.3,
          "light": false,
          "zeit": 38.5
         },
         {
          "activity": 29.4,
          "light": false,
          "zeit": 38.66666666666666
         },
         {
          "activity": 22.5,
          "light": false,
          "zeit": 38.833333333333336
         },
         {
          "activity": 26.3,
          "light": false,
          "zeit": 39
         },
         {
          "activity": 19.6,
          "light": false,
          "zeit": 39.16666666666666
         },
         {
          "activity": 17.6,
          "light": false,
          "zeit": 39.333333333333336
         },
         {
          "activity": 16.400000000000002,
          "light": false,
          "zeit": 39.5
         },
         {
          "activity": 6,
          "light": false,
          "zeit": 39.66666666666666
         },
         {
          "activity": 15.9,
          "light": false,
          "zeit": 39.833333333333336
         },
         {
          "activity": 24.000000000000004,
          "light": false,
          "zeit": 40
         },
         {
          "activity": 16.4,
          "light": false,
          "zeit": 40.16666666666666
         },
         {
          "activity": 20.700000000000006,
          "light": false,
          "zeit": 40.333333333333336
         },
         {
          "activity": 1.7000000000000002,
          "light": false,
          "zeit": 40.5
         },
         {
          "activity": 24.000000000000004,
          "light": false,
          "zeit": 40.66666666666666
         },
         {
          "activity": 16.4,
          "light": false,
          "zeit": 40.833333333333336
         },
         {
          "activity": 8.299999999999999,
          "light": false,
          "zeit": 41
         },
         {
          "activity": 23.6,
          "light": false,
          "zeit": 41.16666666666666
         },
         {
          "activity": 17.700000000000006,
          "light": false,
          "zeit": 41.333333333333336
         },
         {
          "activity": 15.099999999999998,
          "light": false,
          "zeit": 41.5
         },
         {
          "activity": 22.9,
          "light": false,
          "zeit": 41.66666666666666
         },
         {
          "activity": 10,
          "light": false,
          "zeit": 41.833333333333336
         },
         {
          "activity": 20.6,
          "light": false,
          "zeit": 42
         },
         {
          "activity": 11.8,
          "light": false,
          "zeit": 42.16666666666666
         },
         {
          "activity": 10.5,
          "light": false,
          "zeit": 42.333333333333336
         },
         {
          "activity": 15.5,
          "light": false,
          "zeit": 42.5
         },
         {
          "activity": 13.099999999999998,
          "light": false,
          "zeit": 42.66666666666666
         },
         {
          "activity": 10.1,
          "light": false,
          "zeit": 42.833333333333336
         },
         {
          "activity": 18.2,
          "light": false,
          "zeit": 43
         },
         {
          "activity": 18.7,
          "light": false,
          "zeit": 43.16666666666666
         },
         {
          "activity": 21.3,
          "light": false,
          "zeit": 43.33333333333334
         },
         {
          "activity": 20.8,
          "light": false,
          "zeit": 43.5
         },
         {
          "activity": 18,
          "light": false,
          "zeit": 43.66666666666666
         },
         {
          "activity": 16.900000000000002,
          "light": false,
          "zeit": 43.83333333333334
         },
         {
          "activity": 12.6,
          "light": false,
          "zeit": 44
         },
         {
          "activity": 14.2,
          "light": false,
          "zeit": 44.16666666666666
         },
         {
          "activity": 24.899999999999995,
          "light": false,
          "zeit": 44.33333333333334
         },
         {
          "activity": 13.3,
          "light": false,
          "zeit": 44.5
         },
         {
          "activity": 19.5,
          "light": false,
          "zeit": 44.66666666666666
         },
         {
          "activity": 25.2,
          "light": false,
          "zeit": 44.83333333333334
         },
         {
          "activity": 16.5,
          "light": false,
          "zeit": 45
         },
         {
          "activity": 25.4,
          "light": false,
          "zeit": 45.16666666666666
         },
         {
          "activity": 22.700000000000006,
          "light": false,
          "zeit": 45.33333333333334
         },
         {
          "activity": 21.6,
          "light": false,
          "zeit": 45.5
         },
         {
          "activity": 18.8,
          "light": false,
          "zeit": 45.66666666666666
         },
         {
          "activity": 14.7,
          "light": false,
          "zeit": 45.83333333333334
         },
         {
          "activity": 26.000000000000004,
          "light": false,
          "zeit": 46
         },
         {
          "activity": 0,
          "light": false,
          "zeit": 46.16666666666666
         },
         {
          "activity": 25.800000000000004,
          "light": false,
          "zeit": 46.33333333333334
         },
         {
          "activity": 29.099999999999994,
          "light": false,
          "zeit": 46.5
         },
         {
          "activity": 21.3,
          "light": false,
          "zeit": 46.66666666666666
         },
         {
          "activity": 21.5,
          "light": false,
          "zeit": 46.83333333333334
         },
         {
          "activity": 26.6,
          "light": false,
          "zeit": 47
         },
         {
          "activity": 18.5,
          "light": false,
          "zeit": 47.16666666666666
         },
         {
          "activity": 10.3,
          "light": false,
          "zeit": 47.33333333333334
         },
         {
          "activity": 0,
          "light": false,
          "zeit": 47.5
         },
         {
          "activity": 11.9,
          "light": false,
          "zeit": 47.66666666666666
         },
         {
          "activity": 32.8,
          "light": false,
          "zeit": 47.83333333333334
         }
        ],
        "data-d751713988987e9331980363e24189ce": [],
        "data-ecb2743fbdf8e5052ebf0bdb66e8dfef": [
         {
          "activity": 85.8888888888889,
          "light": true,
          "zeit": -14.5
         },
         {
          "activity": 4.5,
          "light": true,
          "zeit": -14.333333333333336
         },
         {
          "activity": 0,
          "light": true,
          "zeit": -14.166666666666664
         },
         {
          "activity": 0,
          "light": true,
          "zeit": -14
         },
         {
          "activity": 0,
          "light": true,
          "zeit": -13.833333333333336
         },
         {
          "activity": 0,
          "light": true,
          "zeit": -13.666666666666664
         },
         {
          "activity": 0,
          "light": true,
          "zeit": -13.5
         },
         {
          "activity": 0,
          "light": true,
          "zeit": -13.333333333333336
         },
         {
          "activity": 0,
          "light": true,
          "zeit": -13.166666666666664
         },
         {
          "activity": 0,
          "light": true,
          "zeit": -13
         },
         {
          "activity": 1.3,
          "light": true,
          "zeit": -12.833333333333336
         },
         {
          "activity": 0,
          "light": true,
          "zeit": -12.666666666666664
         },
         {
          "activity": 0,
          "light": true,
          "zeit": -12.5
         },
         {
          "activity": 1.2,
          "light": true,
          "zeit": -12.333333333333336
         },
         {
          "activity": 88.8,
          "light": true,
          "zeit": -12.166666666666664
         },
         {
          "activity": 0,
          "light": true,
          "zeit": -12
         },
         {
          "activity": 0,
          "light": true,
          "zeit": -11.833333333333336
         },
         {
          "activity": 0,
          "light": true,
          "zeit": -11.666666666666664
         },
         {
          "activity": 0,
          "light": true,
          "zeit": -11.5
         },
         {
          "activity": 0,
          "light": true,
          "zeit": -11.333333333333336
         },
         {
          "activity": 0.1,
          "light": true,
          "zeit": -11.166666666666664
         },
         {
          "activity": 0,
          "light": true,
          "zeit": -11
         },
         {
          "activity": 0,
          "light": true,
          "zeit": -10.833333333333336
         },
         {
          "activity": 0.3,
          "light": true,
          "zeit": -10.666666666666666
         },
         {
          "activity": 0,
          "light": true,
          "zeit": -10.5
         },
         {
          "activity": 0,
          "light": true,
          "zeit": -10.333333333333334
         },
         {
          "activity": 3.3,
          "light": true,
          "zeit": -10.166666666666666
         }
        ]
       },
       "layer": [
        {
         "data": {
          "name": "data-ecb2743fbdf8e5052ebf0bdb66e8dfef"
         },
         "encoding": {
          "color": {
           "field": "light",
           "type": "nominal"
          },
          "order": {
           "field": "zeit",
           "type": "quantitative"
          },
          "x": {
           "field": "zeit",
           "title": "Zeitgeber time (hours)",
           "type": "quantitative"
          },
          "y": {
           "field": "activity",
           "title": "activity (sec/min)",
           "type": "quantitative"
          }
         },
         "height": 200,
         "mark": {
          "strokeJoin": "bevel",
          "strokeWidth": 1,
          "type": "line"
         },
         "width": 500
        },
        {
         "data": {
          "name": "data-0204ba2995ebd89e038c0b7e0b0209c2"
         },
         "encoding": {
          "color": {
           "field": "light",
           "type": "nominal"
          },
          "order": {
           "field": "zeit",
           "type": "quantitative"
          },
          "x": {
           "field": "zeit",
           "title": "Zeitgeber time (hours)",
           "type": "quantitative"
          },
          "y": {
           "field": "activity",
           "title": "activity (sec/min)",
           "type": "quantitative"
          }
         },
         "height": 200,
         "mark": {
          "strokeJoin": "bevel",
          "strokeWidth": 1,
          "type": "line"
         },
         "width": 500
        },
        {
         "data": {
          "name": "data-738f74767088fabc63be6055ec3e8c27"
         },
         "encoding": {
          "color": {
           "field": "light",
           "type": "nominal"
          },
          "order": {
           "field": "zeit",
           "type": "quantitative"
          },
          "x": {
           "field": "zeit",
           "title": "Zeitgeber time (hours)",
           "type": "quantitative"
          },
          "y": {
           "field": "activity",
           "title": "activity (sec/min)",
           "type": "quantitative"
          }
         },
         "height": 200,
         "mark": {
          "strokeJoin": "bevel",
          "strokeWidth": 1,
          "type": "line"
         },
         "width": 500
        },
        {
         "data": {
          "name": "data-9f8e8692b5dc061d139a40e15af27f32"
         },
         "encoding": {
          "color": {
           "field": "light",
           "type": "nominal"
          },
          "order": {
           "field": "zeit",
           "type": "quantitative"
          },
          "x": {
           "field": "zeit",
           "title": "Zeitgeber time (hours)",
           "type": "quantitative"
          },
          "y": {
           "field": "activity",
           "title": "activity (sec/min)",
           "type": "quantitative"
          }
         },
         "height": 200,
         "mark": {
          "strokeJoin": "bevel",
          "strokeWidth": 1,
          "type": "line"
         },
         "width": 500
        },
        {
         "data": {
          "name": "data-9b1fadecd0a80a118915a358e5e98d29"
         },
         "encoding": {
          "color": {
           "field": "light",
           "type": "nominal"
          },
          "order": {
           "field": "zeit",
           "type": "quantitative"
          },
          "x": {
           "field": "zeit",
           "title": "Zeitgeber time (hours)",
           "type": "quantitative"
          },
          "y": {
           "field": "activity",
           "title": "activity (sec/min)",
           "type": "quantitative"
          }
         },
         "height": 200,
         "mark": {
          "strokeJoin": "bevel",
          "strokeWidth": 1,
          "type": "line"
         },
         "width": 500
        },
        {
         "data": {
          "name": "data-cecf460d220d314ba481c5fded40ea97"
         },
         "encoding": {
          "color": {
           "field": "light",
           "type": "nominal"
          },
          "order": {
           "field": "zeit",
           "type": "quantitative"
          },
          "x": {
           "field": "zeit",
           "title": "Zeitgeber time (hours)",
           "type": "quantitative"
          },
          "y": {
           "field": "activity",
           "title": "activity (sec/min)",
           "type": "quantitative"
          }
         },
         "height": 200,
         "mark": {
          "strokeJoin": "bevel",
          "strokeWidth": 1,
          "type": "line"
         },
         "width": 500
        },
        {
         "data": {
          "name": "data-1ccb1e180d2fb7a8e25c27f976e612f6"
         },
         "encoding": {
          "color": {
           "field": "light",
           "type": "nominal"
          },
          "order": {
           "field": "zeit",
           "type": "quantitative"
          },
          "x": {
           "field": "zeit",
           "title": "Zeitgeber time (hours)",
           "type": "quantitative"
          },
          "y": {
           "field": "activity",
           "title": "activity (sec/min)",
           "type": "quantitative"
          }
         },
         "height": 200,
         "mark": {
          "strokeJoin": "bevel",
          "strokeWidth": 1,
          "type": "line"
         },
         "width": 500
        },
        {
         "data": {
          "name": "data-a3992d1aaa9e26408eef2222c632c493"
         },
         "encoding": {
          "color": {
           "field": "light",
           "type": "nominal"
          },
          "order": {
           "field": "zeit",
           "type": "quantitative"
          },
          "x": {
           "field": "zeit",
           "title": "Zeitgeber time (hours)",
           "type": "quantitative"
          },
          "y": {
           "field": "activity",
           "title": "activity (sec/min)",
           "type": "quantitative"
          }
         },
         "height": 200,
         "mark": {
          "strokeJoin": "bevel",
          "strokeWidth": 1,
          "type": "line"
         },
         "width": 500
        },
        {
         "data": {
          "name": "data-06ba3942e36dc0de54647e9960f95fc8"
         },
         "encoding": {
          "color": {
           "field": "light",
           "type": "nominal"
          },
          "order": {
           "field": "zeit",
           "type": "quantitative"
          },
          "x": {
           "field": "zeit",
           "title": "Zeitgeber time (hours)",
           "type": "quantitative"
          },
          "y": {
           "field": "activity",
           "title": "activity (sec/min)",
           "type": "quantitative"
          }
         },
         "height": 200,
         "mark": {
          "strokeJoin": "bevel",
          "strokeWidth": 1,
          "type": "line"
         },
         "width": 500
        },
        {
         "data": {
          "name": "data-d751713988987e9331980363e24189ce"
         },
         "encoding": {
          "color": {
           "field": "light",
           "type": "nominal"
          },
          "order": {
           "field": "zeit",
           "type": "quantitative"
          },
          "x": {
           "field": "zeit",
           "title": "Zeitgeber time (hours)",
           "type": "quantitative"
          },
          "y": {
           "field": "activity",
           "title": "activity (sec/min)",
           "type": "quantitative"
          }
         },
         "height": 200,
         "mark": {
          "strokeJoin": "bevel",
          "strokeWidth": 1,
          "type": "line"
         },
         "width": 500
        }
       ]
      },
      "image/png": "[encoded data removed]",
      "text/plain": [
       "<VegaLite 2 object>\n",
       "\n",
       "If you see this message, it means the renderer has not been properly enabled\n",
       "for the frontend that you are using. For more information, see\n",
       "https://altair-viz.github.io/user_guide/troubleshooting.html\n"
      ]
     },
     "execution_count": 23,
     "metadata": {},
     "output_type": "execute_result"
    }
   ],
   "source": [
    "def plot_trace(df, col='activity', location=1, units='sec/min'):\n",
    "    \"\"\"Plot a trace, coloring by light.\"\"\"\n",
    "    charts = []\n",
    "    for day, light in itertools.product(df['day'].unique(), \n",
    "                                        df['light'].unique()):\n",
    "        inds = ( (df['location'] == location) \n",
    "                & (df['day'] == day) \n",
    "                & (df['light'] == light))\n",
    "\n",
    "        charts.append(\n",
    "            alt.Chart(df.loc[inds, ['zeit', col, 'light']],\n",
    "                  height=200,\n",
    "                  width=500\n",
    "                ).mark_line(\n",
    "                    strokeWidth=1,\n",
    "                    strokeJoin='bevel'\n",
    "                ).encode(\n",
    "                    x=alt.X('zeit:Q', title='Zeitgeber time (hours)'),\n",
    "                    y=alt.Y(f'{col}:Q', title=f'activity ({units})'),\n",
    "                    color='light:N',\n",
    "                    order='zeit:Q'\n",
    "            )\n",
    "        )\n",
    "\n",
    "    return alt.layer(*charts)\n",
    "\n",
    "plot_trace(df_resampled, col='activity', location=1)"
   ]
  },
  {
   "cell_type": "markdown",
   "metadata": {},
   "source": [
    "Let's look at how much the average activity changes from light to dark for location 1."
   ]
  },
  {
   "cell_type": "code",
   "execution_count": 33,
   "metadata": {},
   "outputs": [
    {
     "data": {
      "text/plain": [
       "array(['het'], dtype=object)"
      ]
     },
     "execution_count": 33,
     "metadata": {},
     "output_type": "execute_result"
    }
   ],
   "source": [
    "df_resampled.loc[df_resampled['location'] == 1]['genotype'].unique()"
   ]
  },
  {
   "cell_type": "code",
   "execution_count": 27,
   "metadata": {},
   "outputs": [],
   "source": [
    "activity_light = df_resampled.loc[df_resampled['light'] == True]['activity'].values\n",
    "activity_dark = df_resampled.loc[df_resampled['light'] == False]['activity'].values"
   ]
  },
  {
   "cell_type": "code",
   "execution_count": 29,
   "metadata": {},
   "outputs": [
    {
     "data": {
      "text/plain": [
       "53.12096295736891"
      ]
     },
     "execution_count": 29,
     "metadata": {},
     "output_type": "execute_result"
    }
   ],
   "source": [
    "mean_act_light = activity_light.mean()\n",
    "mean_act_light"
   ]
  },
  {
   "cell_type": "code",
   "execution_count": 30,
   "metadata": {},
   "outputs": [
    {
     "data": {
      "text/plain": [
       "13.169326484018264"
      ]
     },
     "execution_count": 30,
     "metadata": {},
     "output_type": "execute_result"
    }
   ],
   "source": [
    "mean_act_dark = activity_dark.mean()\n",
    "mean_act_dark"
   ]
  },
  {
   "cell_type": "markdown",
   "metadata": {},
   "source": [
    "Now let's look at the average activity of all het genotypes vs wt vs mut. "
   ]
  },
  {
   "cell_type": "code",
   "execution_count": 39,
   "metadata": {},
   "outputs": [],
   "source": [
    "def find_mean_activity(df, genotype):\n",
    "    df = df.loc[df['genotype'] == genotype]\n",
    "    activity_light = df.loc[df['light'] == True]['activity'].values\n",
    "    activity_dark = df.loc[df['light'] == False]['activity'].values\n",
    "    mean_act_light = activity_light.mean()\n",
    "    mean_act_dark = activity_dark.mean()\n",
    "    return np.array([mean_act_light, mean_act_dark])"
   ]
  },
  {
   "cell_type": "code",
   "execution_count": 41,
   "metadata": {},
   "outputs": [
    {
     "data": {
      "text/plain": [
       "array([56.11467784,  8.70465686])"
      ]
     },
     "execution_count": 41,
     "metadata": {},
     "output_type": "execute_result"
    }
   ],
   "source": [
    "find_mean_activity(df_resampled, 'wt')"
   ]
  },
  {
   "cell_type": "code",
   "execution_count": 40,
   "metadata": {},
   "outputs": [
    {
     "data": {
      "text/plain": [
       "array([53.75620042,  9.44758578])"
      ]
     },
     "execution_count": 40,
     "metadata": {},
     "output_type": "execute_result"
    }
   ],
   "source": [
    "find_mean_activity(df_resampled, 'het')"
   ]
  },
  {
   "cell_type": "code",
   "execution_count": 42,
   "metadata": {},
   "outputs": [
    {
     "data": {
      "text/plain": [
       "array([49.8259072 , 22.37107955])"
      ]
     },
     "execution_count": 42,
     "metadata": {},
     "output_type": "execute_result"
    }
   ],
   "source": [
    "find_mean_activity(df_resampled, 'mut')"
   ]
  },
  {
   "cell_type": "markdown",
   "metadata": {},
   "source": [
    "One thing we see is that the mutant type is a lot more active at night and potentially less active during the day. We can check something like standard deviation to see the spread of the mutant activity data vs wt and het and see what is significant."
   ]
  },
  {
   "cell_type": "markdown",
   "metadata": {},
   "source": [
    "**Questions to answer**: is it good to average across all members of the same genotype? what are the other factors that we need to consider? Do we need to look at zeit_ind, zeit, day and what info can we get from them? What about the transition times right between lights on and lights off?"
   ]
  },
  {
   "cell_type": "markdown",
   "metadata": {},
   "source": [
    "We should also check for outliers? but \"You do not need to do any data validation (we'll get to that next week). You can download and use the resampled data set you generated in Tutorial 2 here. If you feel that you need to use the original data set, you can get the activity file here and the genotypes file here.\""
   ]
  },
  {
   "cell_type": "markdown",
   "metadata": {},
   "source": [
    "We could make sure to capture more data by looking at the dataframe that was not resampled. But we should also think about reducing noise? Since we are capturing noise as well if we use the nonresampled data."
   ]
  },
  {
   "cell_type": "code",
   "execution_count": null,
   "metadata": {},
   "outputs": [],
   "source": []
  },
  {
   "cell_type": "code",
   "execution_count": null,
   "metadata": {},
   "outputs": [],
   "source": []
  },
  {
   "cell_type": "code",
   "execution_count": null,
   "metadata": {},
   "outputs": [],
   "source": []
  },
  {
   "cell_type": "code",
   "execution_count": null,
   "metadata": {},
   "outputs": [],
   "source": []
  },
  {
   "cell_type": "markdown",
   "metadata": {},
   "source": [
    "### Some information from the paper"
   ]
  },
  {
   "cell_type": "markdown",
   "metadata": {},
   "source": [
    "The Videotrack quantization parameters were set as follows: detection threshold, 40; burst (threshold for very large movement), 25; freeze (threshold for no movement), 4; bin size, 60 s. The data were further analyzed using custom PERL software and Visual Basic Macros for Microsoft (Seattle, WA) Excel. Any 1 min bin with zero detectable movement was considered 1 min of rest because this duration of inactivity was correlated with an increased arousal threshold; a rest bout was defined as a continuous string of rest minutes. Sleep latency was defined as the length of time from lights out to the start of the first rest bout. An active minute was defined as a 1 min bin with any detectable activity. An active bout was considered any continuous stretch of 1 min bins with detectable movement."
   ]
  },
  {
   "cell_type": "markdown",
   "metadata": {},
   "source": [
    "To calculate transition frequencies between inactive, low-active, and high-active states, the total number of transitions from one state to another was divided by the total number of minutes spent in that state. A low-active state was defined as any 1 min period with activity that lasted 1 s or less, whereas a high-active state was defined as any 1 min period with >1 s of activity. Using these parameters, WT larvae in a normal LD cycle spend ∼30% of their time in each state."
   ]
  },
  {
   "cell_type": "markdown",
   "metadata": {},
   "source": [
    "Figure 5.\n",
    "Characterization of wild-type larval zebrafish sleep/wake locomotor behavior. A , B , Each data point represents the seconds of locomotor activity every 10 min for a single larva ( A ) or averaged for 80 larvae ( B ). As shown in previous studies (Hurd and Cahill, 2002; Kaneko and Cahill, 2005), we found that zebrafish larvae exhibit high locomotor activity levels during the day and low levels at night beginning on the fifth day of development. Larvae move in short bursts of activity followed by pauses, such that the total amount of time a single larva moves each minute is typically 4–10 s during the day and 0–1 s at night. C , D , Pulses of sudden darkness provide a non-invasive assay of arousal levels. Each data point represents the seconds of locomotor activity every 30 s for a single larva ( C ) or averaged for 40 larvae ( D ). Larvae were exposed to alternating 30 min periods of light and darkness during the night. Individual larvae respond to most dark stimuli ( C ). No attenuation in the response was observed after multiple light/dark stimuli."
   ]
  },
  {
   "cell_type": "markdown",
   "metadata": {},
   "source": [
    "We next developed and applied an assay to test whether Hcrt modulates arousal thresholds, a key criterion for sleep/wake regulators. We found that most larvae become active for several minutes after exposure to sudden darkness, perhaps in response to a perceived threat such as the shadow of a predator (Fig. 5 C,D) (for movie, see http://www.mcb.harvard.edu/schier). Almost all larvae become active within 15 s of dark onset if they display any activity during the previous minute (Fig. 6 A). In contrast, 1 min or more of rest immediately before dark onset reduces the number of responding WT larvae (Fig. 6 A) and increases the average response latency (Fig. 6 B). These results indicate that rest before dark onset increases arousal thresholds in WT larvae. Responses after 2 or more minutes of rest are not significantly different from those after 1 min of rest (Fig. 6 A,B), indicating that as little as 1 min of rest can be considered a sleep-like state. Strikingly, Hcrt-overexpressing larvae have lower arousal thresholds than WT larvae. A larger proportion of Hcrt-overexpressing larvae respond to darkness after rest (Fig. 6 A), and response latency is shorter for Hcrt-overexpressing larvae compared with WT (Fig. 6 B). Thus, Hcrt-overexpressing larvae have reduced arousal thresholds and, similar to humans with chronic insomnia, are hypersensitive to arousing stimuli (Bonnet and Arand, 2000; American Academy of Sleep Medicine, 2001; Nofzinger et al., 2004; Mahowald and Schenck, 2005)."
   ]
  },
  {
   "cell_type": "code",
   "execution_count": null,
   "metadata": {},
   "outputs": [],
   "source": []
  },
  {
   "cell_type": "code",
   "execution_count": null,
   "metadata": {},
   "outputs": [],
   "source": []
  },
  {
   "cell_type": "code",
   "execution_count": null,
   "metadata": {},
   "outputs": [],
   "source": []
  },
  {
   "cell_type": "code",
   "execution_count": null,
   "metadata": {},
   "outputs": [],
   "source": []
  },
  {
   "cell_type": "markdown",
   "metadata": {},
   "source": [
    "### Starting from the original data"
   ]
  },
  {
   "cell_type": "code",
   "execution_count": 9,
   "metadata": {},
   "outputs": [
    {
     "data": {
      "text/html": [
       "<div>\n",
       "<style scoped>\n",
       "    .dataframe tbody tr th:only-of-type {\n",
       "        vertical-align: middle;\n",
       "    }\n",
       "\n",
       "    .dataframe tbody tr th {\n",
       "        vertical-align: top;\n",
       "    }\n",
       "\n",
       "    .dataframe thead tr th {\n",
       "        text-align: left;\n",
       "    }\n",
       "</style>\n",
       "<table border=\"1\" class=\"dataframe\">\n",
       "  <thead>\n",
       "    <tr>\n",
       "      <th></th>\n",
       "      <th>Genotype1</th>\n",
       "      <th>Genotype2</th>\n",
       "      <th>Genotype3</th>\n",
       "    </tr>\n",
       "    <tr>\n",
       "      <th></th>\n",
       "      <th>WT 17</th>\n",
       "      <th>Het 34</th>\n",
       "      <th>Mut 22</th>\n",
       "    </tr>\n",
       "  </thead>\n",
       "  <tbody>\n",
       "    <tr>\n",
       "      <th>0</th>\n",
       "      <td>2.0</td>\n",
       "      <td>1</td>\n",
       "      <td>4.0</td>\n",
       "    </tr>\n",
       "    <tr>\n",
       "      <th>1</th>\n",
       "      <td>14.0</td>\n",
       "      <td>3</td>\n",
       "      <td>11.0</td>\n",
       "    </tr>\n",
       "    <tr>\n",
       "      <th>2</th>\n",
       "      <td>18.0</td>\n",
       "      <td>5</td>\n",
       "      <td>12.0</td>\n",
       "    </tr>\n",
       "    <tr>\n",
       "      <th>3</th>\n",
       "      <td>24.0</td>\n",
       "      <td>6</td>\n",
       "      <td>13.0</td>\n",
       "    </tr>\n",
       "    <tr>\n",
       "      <th>4</th>\n",
       "      <td>28.0</td>\n",
       "      <td>8</td>\n",
       "      <td>20.0</td>\n",
       "    </tr>\n",
       "    <tr>\n",
       "      <th>5</th>\n",
       "      <td>29.0</td>\n",
       "      <td>10</td>\n",
       "      <td>21.0</td>\n",
       "    </tr>\n",
       "    <tr>\n",
       "      <th>6</th>\n",
       "      <td>30.0</td>\n",
       "      <td>15</td>\n",
       "      <td>23.0</td>\n",
       "    </tr>\n",
       "    <tr>\n",
       "      <th>7</th>\n",
       "      <td>54.0</td>\n",
       "      <td>19</td>\n",
       "      <td>27.0</td>\n",
       "    </tr>\n",
       "    <tr>\n",
       "      <th>8</th>\n",
       "      <td>58.0</td>\n",
       "      <td>22</td>\n",
       "      <td>35.0</td>\n",
       "    </tr>\n",
       "    <tr>\n",
       "      <th>9</th>\n",
       "      <td>61.0</td>\n",
       "      <td>33</td>\n",
       "      <td>39.0</td>\n",
       "    </tr>\n",
       "    <tr>\n",
       "      <th>10</th>\n",
       "      <td>68.0</td>\n",
       "      <td>36</td>\n",
       "      <td>46.0</td>\n",
       "    </tr>\n",
       "    <tr>\n",
       "      <th>11</th>\n",
       "      <td>75.0</td>\n",
       "      <td>38</td>\n",
       "      <td>56.0</td>\n",
       "    </tr>\n",
       "    <tr>\n",
       "      <th>12</th>\n",
       "      <td>76.0</td>\n",
       "      <td>40</td>\n",
       "      <td>60.0</td>\n",
       "    </tr>\n",
       "    <tr>\n",
       "      <th>13</th>\n",
       "      <td>78.0</td>\n",
       "      <td>43</td>\n",
       "      <td>64.0</td>\n",
       "    </tr>\n",
       "    <tr>\n",
       "      <th>14</th>\n",
       "      <td>80.0</td>\n",
       "      <td>44</td>\n",
       "      <td>66.0</td>\n",
       "    </tr>\n",
       "    <tr>\n",
       "      <th>15</th>\n",
       "      <td>86.0</td>\n",
       "      <td>47</td>\n",
       "      <td>67.0</td>\n",
       "    </tr>\n",
       "    <tr>\n",
       "      <th>16</th>\n",
       "      <td>96.0</td>\n",
       "      <td>49</td>\n",
       "      <td>69.0</td>\n",
       "    </tr>\n",
       "    <tr>\n",
       "      <th>17</th>\n",
       "      <td>NaN</td>\n",
       "      <td>51</td>\n",
       "      <td>87.0</td>\n",
       "    </tr>\n",
       "    <tr>\n",
       "      <th>18</th>\n",
       "      <td>NaN</td>\n",
       "      <td>52</td>\n",
       "      <td>89.0</td>\n",
       "    </tr>\n",
       "    <tr>\n",
       "      <th>19</th>\n",
       "      <td>NaN</td>\n",
       "      <td>53</td>\n",
       "      <td>92.0</td>\n",
       "    </tr>\n",
       "    <tr>\n",
       "      <th>20</th>\n",
       "      <td>NaN</td>\n",
       "      <td>55</td>\n",
       "      <td>79.0</td>\n",
       "    </tr>\n",
       "    <tr>\n",
       "      <th>21</th>\n",
       "      <td>NaN</td>\n",
       "      <td>57</td>\n",
       "      <td>81.0</td>\n",
       "    </tr>\n",
       "    <tr>\n",
       "      <th>22</th>\n",
       "      <td>NaN</td>\n",
       "      <td>59</td>\n",
       "      <td>NaN</td>\n",
       "    </tr>\n",
       "    <tr>\n",
       "      <th>23</th>\n",
       "      <td>NaN</td>\n",
       "      <td>62</td>\n",
       "      <td>NaN</td>\n",
       "    </tr>\n",
       "    <tr>\n",
       "      <th>24</th>\n",
       "      <td>NaN</td>\n",
       "      <td>65</td>\n",
       "      <td>NaN</td>\n",
       "    </tr>\n",
       "    <tr>\n",
       "      <th>25</th>\n",
       "      <td>NaN</td>\n",
       "      <td>71</td>\n",
       "      <td>NaN</td>\n",
       "    </tr>\n",
       "    <tr>\n",
       "      <th>26</th>\n",
       "      <td>NaN</td>\n",
       "      <td>72</td>\n",
       "      <td>NaN</td>\n",
       "    </tr>\n",
       "    <tr>\n",
       "      <th>27</th>\n",
       "      <td>NaN</td>\n",
       "      <td>73</td>\n",
       "      <td>NaN</td>\n",
       "    </tr>\n",
       "    <tr>\n",
       "      <th>28</th>\n",
       "      <td>NaN</td>\n",
       "      <td>74</td>\n",
       "      <td>NaN</td>\n",
       "    </tr>\n",
       "    <tr>\n",
       "      <th>29</th>\n",
       "      <td>NaN</td>\n",
       "      <td>77</td>\n",
       "      <td>NaN</td>\n",
       "    </tr>\n",
       "    <tr>\n",
       "      <th>30</th>\n",
       "      <td>NaN</td>\n",
       "      <td>88</td>\n",
       "      <td>NaN</td>\n",
       "    </tr>\n",
       "    <tr>\n",
       "      <th>31</th>\n",
       "      <td>NaN</td>\n",
       "      <td>90</td>\n",
       "      <td>NaN</td>\n",
       "    </tr>\n",
       "    <tr>\n",
       "      <th>32</th>\n",
       "      <td>NaN</td>\n",
       "      <td>93</td>\n",
       "      <td>NaN</td>\n",
       "    </tr>\n",
       "    <tr>\n",
       "      <th>33</th>\n",
       "      <td>NaN</td>\n",
       "      <td>95</td>\n",
       "      <td>NaN</td>\n",
       "    </tr>\n",
       "  </tbody>\n",
       "</table>\n",
       "</div>"
      ],
      "text/plain": [
       "   Genotype1 Genotype2 Genotype3\n",
       "       WT 17    Het 34    Mut 22\n",
       "0        2.0         1       4.0\n",
       "1       14.0         3      11.0\n",
       "2       18.0         5      12.0\n",
       "3       24.0         6      13.0\n",
       "4       28.0         8      20.0\n",
       "5       29.0        10      21.0\n",
       "6       30.0        15      23.0\n",
       "7       54.0        19      27.0\n",
       "8       58.0        22      35.0\n",
       "9       61.0        33      39.0\n",
       "10      68.0        36      46.0\n",
       "11      75.0        38      56.0\n",
       "12      76.0        40      60.0\n",
       "13      78.0        43      64.0\n",
       "14      80.0        44      66.0\n",
       "15      86.0        47      67.0\n",
       "16      96.0        49      69.0\n",
       "17       NaN        51      87.0\n",
       "18       NaN        52      89.0\n",
       "19       NaN        53      92.0\n",
       "20       NaN        55      79.0\n",
       "21       NaN        57      81.0\n",
       "22       NaN        59       NaN\n",
       "23       NaN        62       NaN\n",
       "24       NaN        65       NaN\n",
       "25       NaN        71       NaN\n",
       "26       NaN        72       NaN\n",
       "27       NaN        73       NaN\n",
       "28       NaN        74       NaN\n",
       "29       NaN        77       NaN\n",
       "30       NaN        88       NaN\n",
       "31       NaN        90       NaN\n",
       "32       NaN        93       NaN\n",
       "33       NaN        95       NaN"
      ]
     },
     "execution_count": 9,
     "metadata": {},
     "output_type": "execute_result"
    }
   ],
   "source": [
    "# Load in the genotype file, call it df_gt for genotype DataFrame\n",
    "df_gt = pd.read_csv('../data/130315_1A_genotypes.txt',\n",
    "                    delimiter='\\t',\n",
    "                    comment='#',\n",
    "                    header=[0, 1])\n",
    "\n",
    "# Take a look at it\n",
    "df_gt"
   ]
  },
  {
   "cell_type": "code",
   "execution_count": 10,
   "metadata": {},
   "outputs": [
    {
     "data": {
      "text/plain": [
       "Index(['WT 17', 'Het 34', 'Mut 22'], dtype='object')"
      ]
     },
     "execution_count": 10,
     "metadata": {},
     "output_type": "execute_result"
    }
   ],
   "source": [
    "# Reset the columns to be the second level of indexing\n",
    "df_gt.columns = df_gt.columns.get_level_values(1)\n",
    "\n",
    "# Check out the new columns\n",
    "df_gt.columns"
   ]
  },
  {
   "cell_type": "code",
   "execution_count": 11,
   "metadata": {},
   "outputs": [],
   "source": [
    "df_gt.columns = ['wt', 'het', 'mut']\n"
   ]
  },
  {
   "cell_type": "code",
   "execution_count": 12,
   "metadata": {},
   "outputs": [
    {
     "data": {
      "text/html": [
       "<div>\n",
       "<style scoped>\n",
       "    .dataframe tbody tr th:only-of-type {\n",
       "        vertical-align: middle;\n",
       "    }\n",
       "\n",
       "    .dataframe tbody tr th {\n",
       "        vertical-align: top;\n",
       "    }\n",
       "\n",
       "    .dataframe thead th {\n",
       "        text-align: right;\n",
       "    }\n",
       "</style>\n",
       "<table border=\"1\" class=\"dataframe\">\n",
       "  <thead>\n",
       "    <tr style=\"text-align: right;\">\n",
       "      <th></th>\n",
       "      <th>genotype</th>\n",
       "      <th>location</th>\n",
       "    </tr>\n",
       "  </thead>\n",
       "  <tbody>\n",
       "    <tr>\n",
       "      <th>0</th>\n",
       "      <td>wt</td>\n",
       "      <td>2.0</td>\n",
       "    </tr>\n",
       "    <tr>\n",
       "      <th>1</th>\n",
       "      <td>wt</td>\n",
       "      <td>14.0</td>\n",
       "    </tr>\n",
       "    <tr>\n",
       "      <th>2</th>\n",
       "      <td>wt</td>\n",
       "      <td>18.0</td>\n",
       "    </tr>\n",
       "    <tr>\n",
       "      <th>3</th>\n",
       "      <td>wt</td>\n",
       "      <td>24.0</td>\n",
       "    </tr>\n",
       "    <tr>\n",
       "      <th>4</th>\n",
       "      <td>wt</td>\n",
       "      <td>28.0</td>\n",
       "    </tr>\n",
       "    <tr>\n",
       "      <th>5</th>\n",
       "      <td>wt</td>\n",
       "      <td>29.0</td>\n",
       "    </tr>\n",
       "    <tr>\n",
       "      <th>6</th>\n",
       "      <td>wt</td>\n",
       "      <td>30.0</td>\n",
       "    </tr>\n",
       "    <tr>\n",
       "      <th>7</th>\n",
       "      <td>wt</td>\n",
       "      <td>54.0</td>\n",
       "    </tr>\n",
       "    <tr>\n",
       "      <th>8</th>\n",
       "      <td>wt</td>\n",
       "      <td>58.0</td>\n",
       "    </tr>\n",
       "    <tr>\n",
       "      <th>9</th>\n",
       "      <td>wt</td>\n",
       "      <td>61.0</td>\n",
       "    </tr>\n",
       "    <tr>\n",
       "      <th>10</th>\n",
       "      <td>wt</td>\n",
       "      <td>68.0</td>\n",
       "    </tr>\n",
       "    <tr>\n",
       "      <th>11</th>\n",
       "      <td>wt</td>\n",
       "      <td>75.0</td>\n",
       "    </tr>\n",
       "    <tr>\n",
       "      <th>12</th>\n",
       "      <td>wt</td>\n",
       "      <td>76.0</td>\n",
       "    </tr>\n",
       "    <tr>\n",
       "      <th>13</th>\n",
       "      <td>wt</td>\n",
       "      <td>78.0</td>\n",
       "    </tr>\n",
       "    <tr>\n",
       "      <th>14</th>\n",
       "      <td>wt</td>\n",
       "      <td>80.0</td>\n",
       "    </tr>\n",
       "    <tr>\n",
       "      <th>15</th>\n",
       "      <td>wt</td>\n",
       "      <td>86.0</td>\n",
       "    </tr>\n",
       "    <tr>\n",
       "      <th>16</th>\n",
       "      <td>wt</td>\n",
       "      <td>96.0</td>\n",
       "    </tr>\n",
       "    <tr>\n",
       "      <th>17</th>\n",
       "      <td>wt</td>\n",
       "      <td>NaN</td>\n",
       "    </tr>\n",
       "    <tr>\n",
       "      <th>18</th>\n",
       "      <td>wt</td>\n",
       "      <td>NaN</td>\n",
       "    </tr>\n",
       "    <tr>\n",
       "      <th>19</th>\n",
       "      <td>wt</td>\n",
       "      <td>NaN</td>\n",
       "    </tr>\n",
       "    <tr>\n",
       "      <th>20</th>\n",
       "      <td>wt</td>\n",
       "      <td>NaN</td>\n",
       "    </tr>\n",
       "    <tr>\n",
       "      <th>21</th>\n",
       "      <td>wt</td>\n",
       "      <td>NaN</td>\n",
       "    </tr>\n",
       "    <tr>\n",
       "      <th>22</th>\n",
       "      <td>wt</td>\n",
       "      <td>NaN</td>\n",
       "    </tr>\n",
       "    <tr>\n",
       "      <th>23</th>\n",
       "      <td>wt</td>\n",
       "      <td>NaN</td>\n",
       "    </tr>\n",
       "    <tr>\n",
       "      <th>24</th>\n",
       "      <td>wt</td>\n",
       "      <td>NaN</td>\n",
       "    </tr>\n",
       "    <tr>\n",
       "      <th>25</th>\n",
       "      <td>wt</td>\n",
       "      <td>NaN</td>\n",
       "    </tr>\n",
       "    <tr>\n",
       "      <th>26</th>\n",
       "      <td>wt</td>\n",
       "      <td>NaN</td>\n",
       "    </tr>\n",
       "    <tr>\n",
       "      <th>27</th>\n",
       "      <td>wt</td>\n",
       "      <td>NaN</td>\n",
       "    </tr>\n",
       "    <tr>\n",
       "      <th>28</th>\n",
       "      <td>wt</td>\n",
       "      <td>NaN</td>\n",
       "    </tr>\n",
       "    <tr>\n",
       "      <th>29</th>\n",
       "      <td>wt</td>\n",
       "      <td>NaN</td>\n",
       "    </tr>\n",
       "    <tr>\n",
       "      <th>...</th>\n",
       "      <td>...</td>\n",
       "      <td>...</td>\n",
       "    </tr>\n",
       "    <tr>\n",
       "      <th>72</th>\n",
       "      <td>mut</td>\n",
       "      <td>20.0</td>\n",
       "    </tr>\n",
       "    <tr>\n",
       "      <th>73</th>\n",
       "      <td>mut</td>\n",
       "      <td>21.0</td>\n",
       "    </tr>\n",
       "    <tr>\n",
       "      <th>74</th>\n",
       "      <td>mut</td>\n",
       "      <td>23.0</td>\n",
       "    </tr>\n",
       "    <tr>\n",
       "      <th>75</th>\n",
       "      <td>mut</td>\n",
       "      <td>27.0</td>\n",
       "    </tr>\n",
       "    <tr>\n",
       "      <th>76</th>\n",
       "      <td>mut</td>\n",
       "      <td>35.0</td>\n",
       "    </tr>\n",
       "    <tr>\n",
       "      <th>77</th>\n",
       "      <td>mut</td>\n",
       "      <td>39.0</td>\n",
       "    </tr>\n",
       "    <tr>\n",
       "      <th>78</th>\n",
       "      <td>mut</td>\n",
       "      <td>46.0</td>\n",
       "    </tr>\n",
       "    <tr>\n",
       "      <th>79</th>\n",
       "      <td>mut</td>\n",
       "      <td>56.0</td>\n",
       "    </tr>\n",
       "    <tr>\n",
       "      <th>80</th>\n",
       "      <td>mut</td>\n",
       "      <td>60.0</td>\n",
       "    </tr>\n",
       "    <tr>\n",
       "      <th>81</th>\n",
       "      <td>mut</td>\n",
       "      <td>64.0</td>\n",
       "    </tr>\n",
       "    <tr>\n",
       "      <th>82</th>\n",
       "      <td>mut</td>\n",
       "      <td>66.0</td>\n",
       "    </tr>\n",
       "    <tr>\n",
       "      <th>83</th>\n",
       "      <td>mut</td>\n",
       "      <td>67.0</td>\n",
       "    </tr>\n",
       "    <tr>\n",
       "      <th>84</th>\n",
       "      <td>mut</td>\n",
       "      <td>69.0</td>\n",
       "    </tr>\n",
       "    <tr>\n",
       "      <th>85</th>\n",
       "      <td>mut</td>\n",
       "      <td>87.0</td>\n",
       "    </tr>\n",
       "    <tr>\n",
       "      <th>86</th>\n",
       "      <td>mut</td>\n",
       "      <td>89.0</td>\n",
       "    </tr>\n",
       "    <tr>\n",
       "      <th>87</th>\n",
       "      <td>mut</td>\n",
       "      <td>92.0</td>\n",
       "    </tr>\n",
       "    <tr>\n",
       "      <th>88</th>\n",
       "      <td>mut</td>\n",
       "      <td>79.0</td>\n",
       "    </tr>\n",
       "    <tr>\n",
       "      <th>89</th>\n",
       "      <td>mut</td>\n",
       "      <td>81.0</td>\n",
       "    </tr>\n",
       "    <tr>\n",
       "      <th>90</th>\n",
       "      <td>mut</td>\n",
       "      <td>NaN</td>\n",
       "    </tr>\n",
       "    <tr>\n",
       "      <th>91</th>\n",
       "      <td>mut</td>\n",
       "      <td>NaN</td>\n",
       "    </tr>\n",
       "    <tr>\n",
       "      <th>92</th>\n",
       "      <td>mut</td>\n",
       "      <td>NaN</td>\n",
       "    </tr>\n",
       "    <tr>\n",
       "      <th>93</th>\n",
       "      <td>mut</td>\n",
       "      <td>NaN</td>\n",
       "    </tr>\n",
       "    <tr>\n",
       "      <th>94</th>\n",
       "      <td>mut</td>\n",
       "      <td>NaN</td>\n",
       "    </tr>\n",
       "    <tr>\n",
       "      <th>95</th>\n",
       "      <td>mut</td>\n",
       "      <td>NaN</td>\n",
       "    </tr>\n",
       "    <tr>\n",
       "      <th>96</th>\n",
       "      <td>mut</td>\n",
       "      <td>NaN</td>\n",
       "    </tr>\n",
       "    <tr>\n",
       "      <th>97</th>\n",
       "      <td>mut</td>\n",
       "      <td>NaN</td>\n",
       "    </tr>\n",
       "    <tr>\n",
       "      <th>98</th>\n",
       "      <td>mut</td>\n",
       "      <td>NaN</td>\n",
       "    </tr>\n",
       "    <tr>\n",
       "      <th>99</th>\n",
       "      <td>mut</td>\n",
       "      <td>NaN</td>\n",
       "    </tr>\n",
       "    <tr>\n",
       "      <th>100</th>\n",
       "      <td>mut</td>\n",
       "      <td>NaN</td>\n",
       "    </tr>\n",
       "    <tr>\n",
       "      <th>101</th>\n",
       "      <td>mut</td>\n",
       "      <td>NaN</td>\n",
       "    </tr>\n",
       "  </tbody>\n",
       "</table>\n",
       "<p>102 rows × 2 columns</p>\n",
       "</div>"
      ],
      "text/plain": [
       "    genotype  location\n",
       "0         wt       2.0\n",
       "1         wt      14.0\n",
       "2         wt      18.0\n",
       "3         wt      24.0\n",
       "4         wt      28.0\n",
       "5         wt      29.0\n",
       "6         wt      30.0\n",
       "7         wt      54.0\n",
       "8         wt      58.0\n",
       "9         wt      61.0\n",
       "10        wt      68.0\n",
       "11        wt      75.0\n",
       "12        wt      76.0\n",
       "13        wt      78.0\n",
       "14        wt      80.0\n",
       "15        wt      86.0\n",
       "16        wt      96.0\n",
       "17        wt       NaN\n",
       "18        wt       NaN\n",
       "19        wt       NaN\n",
       "20        wt       NaN\n",
       "21        wt       NaN\n",
       "22        wt       NaN\n",
       "23        wt       NaN\n",
       "24        wt       NaN\n",
       "25        wt       NaN\n",
       "26        wt       NaN\n",
       "27        wt       NaN\n",
       "28        wt       NaN\n",
       "29        wt       NaN\n",
       "..       ...       ...\n",
       "72       mut      20.0\n",
       "73       mut      21.0\n",
       "74       mut      23.0\n",
       "75       mut      27.0\n",
       "76       mut      35.0\n",
       "77       mut      39.0\n",
       "78       mut      46.0\n",
       "79       mut      56.0\n",
       "80       mut      60.0\n",
       "81       mut      64.0\n",
       "82       mut      66.0\n",
       "83       mut      67.0\n",
       "84       mut      69.0\n",
       "85       mut      87.0\n",
       "86       mut      89.0\n",
       "87       mut      92.0\n",
       "88       mut      79.0\n",
       "89       mut      81.0\n",
       "90       mut       NaN\n",
       "91       mut       NaN\n",
       "92       mut       NaN\n",
       "93       mut       NaN\n",
       "94       mut       NaN\n",
       "95       mut       NaN\n",
       "96       mut       NaN\n",
       "97       mut       NaN\n",
       "98       mut       NaN\n",
       "99       mut       NaN\n",
       "100      mut       NaN\n",
       "101      mut       NaN\n",
       "\n",
       "[102 rows x 2 columns]"
      ]
     },
     "execution_count": 12,
     "metadata": {},
     "output_type": "execute_result"
    }
   ],
   "source": [
    "# Tidy the DataFrame\n",
    "df_gt = pd.melt(df_gt, var_name='genotype', value_name='location')\n",
    "\n",
    "# Take a look\n",
    "df_gt"
   ]
  },
  {
   "cell_type": "code",
   "execution_count": 13,
   "metadata": {},
   "outputs": [
    {
     "data": {
      "text/html": [
       "<div>\n",
       "<style scoped>\n",
       "    .dataframe tbody tr th:only-of-type {\n",
       "        vertical-align: middle;\n",
       "    }\n",
       "\n",
       "    .dataframe tbody tr th {\n",
       "        vertical-align: top;\n",
       "    }\n",
       "\n",
       "    .dataframe thead th {\n",
       "        text-align: right;\n",
       "    }\n",
       "</style>\n",
       "<table border=\"1\" class=\"dataframe\">\n",
       "  <thead>\n",
       "    <tr style=\"text-align: right;\">\n",
       "      <th></th>\n",
       "      <th>genotype</th>\n",
       "      <th>location</th>\n",
       "    </tr>\n",
       "  </thead>\n",
       "  <tbody>\n",
       "    <tr>\n",
       "      <th>0</th>\n",
       "      <td>wt</td>\n",
       "      <td>2.0</td>\n",
       "    </tr>\n",
       "    <tr>\n",
       "      <th>1</th>\n",
       "      <td>wt</td>\n",
       "      <td>14.0</td>\n",
       "    </tr>\n",
       "    <tr>\n",
       "      <th>2</th>\n",
       "      <td>wt</td>\n",
       "      <td>18.0</td>\n",
       "    </tr>\n",
       "    <tr>\n",
       "      <th>3</th>\n",
       "      <td>wt</td>\n",
       "      <td>24.0</td>\n",
       "    </tr>\n",
       "    <tr>\n",
       "      <th>4</th>\n",
       "      <td>wt</td>\n",
       "      <td>28.0</td>\n",
       "    </tr>\n",
       "    <tr>\n",
       "      <th>5</th>\n",
       "      <td>wt</td>\n",
       "      <td>29.0</td>\n",
       "    </tr>\n",
       "    <tr>\n",
       "      <th>6</th>\n",
       "      <td>wt</td>\n",
       "      <td>30.0</td>\n",
       "    </tr>\n",
       "    <tr>\n",
       "      <th>7</th>\n",
       "      <td>wt</td>\n",
       "      <td>54.0</td>\n",
       "    </tr>\n",
       "    <tr>\n",
       "      <th>8</th>\n",
       "      <td>wt</td>\n",
       "      <td>58.0</td>\n",
       "    </tr>\n",
       "    <tr>\n",
       "      <th>9</th>\n",
       "      <td>wt</td>\n",
       "      <td>61.0</td>\n",
       "    </tr>\n",
       "    <tr>\n",
       "      <th>10</th>\n",
       "      <td>wt</td>\n",
       "      <td>68.0</td>\n",
       "    </tr>\n",
       "    <tr>\n",
       "      <th>11</th>\n",
       "      <td>wt</td>\n",
       "      <td>75.0</td>\n",
       "    </tr>\n",
       "    <tr>\n",
       "      <th>12</th>\n",
       "      <td>wt</td>\n",
       "      <td>76.0</td>\n",
       "    </tr>\n",
       "    <tr>\n",
       "      <th>13</th>\n",
       "      <td>wt</td>\n",
       "      <td>78.0</td>\n",
       "    </tr>\n",
       "    <tr>\n",
       "      <th>14</th>\n",
       "      <td>wt</td>\n",
       "      <td>80.0</td>\n",
       "    </tr>\n",
       "    <tr>\n",
       "      <th>15</th>\n",
       "      <td>wt</td>\n",
       "      <td>86.0</td>\n",
       "    </tr>\n",
       "    <tr>\n",
       "      <th>16</th>\n",
       "      <td>wt</td>\n",
       "      <td>96.0</td>\n",
       "    </tr>\n",
       "    <tr>\n",
       "      <th>34</th>\n",
       "      <td>het</td>\n",
       "      <td>1.0</td>\n",
       "    </tr>\n",
       "    <tr>\n",
       "      <th>35</th>\n",
       "      <td>het</td>\n",
       "      <td>3.0</td>\n",
       "    </tr>\n",
       "    <tr>\n",
       "      <th>36</th>\n",
       "      <td>het</td>\n",
       "      <td>5.0</td>\n",
       "    </tr>\n",
       "    <tr>\n",
       "      <th>37</th>\n",
       "      <td>het</td>\n",
       "      <td>6.0</td>\n",
       "    </tr>\n",
       "    <tr>\n",
       "      <th>38</th>\n",
       "      <td>het</td>\n",
       "      <td>8.0</td>\n",
       "    </tr>\n",
       "    <tr>\n",
       "      <th>39</th>\n",
       "      <td>het</td>\n",
       "      <td>10.0</td>\n",
       "    </tr>\n",
       "    <tr>\n",
       "      <th>40</th>\n",
       "      <td>het</td>\n",
       "      <td>15.0</td>\n",
       "    </tr>\n",
       "    <tr>\n",
       "      <th>41</th>\n",
       "      <td>het</td>\n",
       "      <td>19.0</td>\n",
       "    </tr>\n",
       "    <tr>\n",
       "      <th>42</th>\n",
       "      <td>het</td>\n",
       "      <td>22.0</td>\n",
       "    </tr>\n",
       "    <tr>\n",
       "      <th>43</th>\n",
       "      <td>het</td>\n",
       "      <td>33.0</td>\n",
       "    </tr>\n",
       "    <tr>\n",
       "      <th>44</th>\n",
       "      <td>het</td>\n",
       "      <td>36.0</td>\n",
       "    </tr>\n",
       "    <tr>\n",
       "      <th>45</th>\n",
       "      <td>het</td>\n",
       "      <td>38.0</td>\n",
       "    </tr>\n",
       "    <tr>\n",
       "      <th>46</th>\n",
       "      <td>het</td>\n",
       "      <td>40.0</td>\n",
       "    </tr>\n",
       "    <tr>\n",
       "      <th>...</th>\n",
       "      <td>...</td>\n",
       "      <td>...</td>\n",
       "    </tr>\n",
       "    <tr>\n",
       "      <th>60</th>\n",
       "      <td>het</td>\n",
       "      <td>72.0</td>\n",
       "    </tr>\n",
       "    <tr>\n",
       "      <th>61</th>\n",
       "      <td>het</td>\n",
       "      <td>73.0</td>\n",
       "    </tr>\n",
       "    <tr>\n",
       "      <th>62</th>\n",
       "      <td>het</td>\n",
       "      <td>74.0</td>\n",
       "    </tr>\n",
       "    <tr>\n",
       "      <th>63</th>\n",
       "      <td>het</td>\n",
       "      <td>77.0</td>\n",
       "    </tr>\n",
       "    <tr>\n",
       "      <th>64</th>\n",
       "      <td>het</td>\n",
       "      <td>88.0</td>\n",
       "    </tr>\n",
       "    <tr>\n",
       "      <th>65</th>\n",
       "      <td>het</td>\n",
       "      <td>90.0</td>\n",
       "    </tr>\n",
       "    <tr>\n",
       "      <th>66</th>\n",
       "      <td>het</td>\n",
       "      <td>93.0</td>\n",
       "    </tr>\n",
       "    <tr>\n",
       "      <th>67</th>\n",
       "      <td>het</td>\n",
       "      <td>95.0</td>\n",
       "    </tr>\n",
       "    <tr>\n",
       "      <th>68</th>\n",
       "      <td>mut</td>\n",
       "      <td>4.0</td>\n",
       "    </tr>\n",
       "    <tr>\n",
       "      <th>69</th>\n",
       "      <td>mut</td>\n",
       "      <td>11.0</td>\n",
       "    </tr>\n",
       "    <tr>\n",
       "      <th>70</th>\n",
       "      <td>mut</td>\n",
       "      <td>12.0</td>\n",
       "    </tr>\n",
       "    <tr>\n",
       "      <th>71</th>\n",
       "      <td>mut</td>\n",
       "      <td>13.0</td>\n",
       "    </tr>\n",
       "    <tr>\n",
       "      <th>72</th>\n",
       "      <td>mut</td>\n",
       "      <td>20.0</td>\n",
       "    </tr>\n",
       "    <tr>\n",
       "      <th>73</th>\n",
       "      <td>mut</td>\n",
       "      <td>21.0</td>\n",
       "    </tr>\n",
       "    <tr>\n",
       "      <th>74</th>\n",
       "      <td>mut</td>\n",
       "      <td>23.0</td>\n",
       "    </tr>\n",
       "    <tr>\n",
       "      <th>75</th>\n",
       "      <td>mut</td>\n",
       "      <td>27.0</td>\n",
       "    </tr>\n",
       "    <tr>\n",
       "      <th>76</th>\n",
       "      <td>mut</td>\n",
       "      <td>35.0</td>\n",
       "    </tr>\n",
       "    <tr>\n",
       "      <th>77</th>\n",
       "      <td>mut</td>\n",
       "      <td>39.0</td>\n",
       "    </tr>\n",
       "    <tr>\n",
       "      <th>78</th>\n",
       "      <td>mut</td>\n",
       "      <td>46.0</td>\n",
       "    </tr>\n",
       "    <tr>\n",
       "      <th>79</th>\n",
       "      <td>mut</td>\n",
       "      <td>56.0</td>\n",
       "    </tr>\n",
       "    <tr>\n",
       "      <th>80</th>\n",
       "      <td>mut</td>\n",
       "      <td>60.0</td>\n",
       "    </tr>\n",
       "    <tr>\n",
       "      <th>81</th>\n",
       "      <td>mut</td>\n",
       "      <td>64.0</td>\n",
       "    </tr>\n",
       "    <tr>\n",
       "      <th>82</th>\n",
       "      <td>mut</td>\n",
       "      <td>66.0</td>\n",
       "    </tr>\n",
       "    <tr>\n",
       "      <th>83</th>\n",
       "      <td>mut</td>\n",
       "      <td>67.0</td>\n",
       "    </tr>\n",
       "    <tr>\n",
       "      <th>84</th>\n",
       "      <td>mut</td>\n",
       "      <td>69.0</td>\n",
       "    </tr>\n",
       "    <tr>\n",
       "      <th>85</th>\n",
       "      <td>mut</td>\n",
       "      <td>87.0</td>\n",
       "    </tr>\n",
       "    <tr>\n",
       "      <th>86</th>\n",
       "      <td>mut</td>\n",
       "      <td>89.0</td>\n",
       "    </tr>\n",
       "    <tr>\n",
       "      <th>87</th>\n",
       "      <td>mut</td>\n",
       "      <td>92.0</td>\n",
       "    </tr>\n",
       "    <tr>\n",
       "      <th>88</th>\n",
       "      <td>mut</td>\n",
       "      <td>79.0</td>\n",
       "    </tr>\n",
       "    <tr>\n",
       "      <th>89</th>\n",
       "      <td>mut</td>\n",
       "      <td>81.0</td>\n",
       "    </tr>\n",
       "  </tbody>\n",
       "</table>\n",
       "<p>73 rows × 2 columns</p>\n",
       "</div>"
      ],
      "text/plain": [
       "   genotype  location\n",
       "0        wt       2.0\n",
       "1        wt      14.0\n",
       "2        wt      18.0\n",
       "3        wt      24.0\n",
       "4        wt      28.0\n",
       "5        wt      29.0\n",
       "6        wt      30.0\n",
       "7        wt      54.0\n",
       "8        wt      58.0\n",
       "9        wt      61.0\n",
       "10       wt      68.0\n",
       "11       wt      75.0\n",
       "12       wt      76.0\n",
       "13       wt      78.0\n",
       "14       wt      80.0\n",
       "15       wt      86.0\n",
       "16       wt      96.0\n",
       "34      het       1.0\n",
       "35      het       3.0\n",
       "36      het       5.0\n",
       "37      het       6.0\n",
       "38      het       8.0\n",
       "39      het      10.0\n",
       "40      het      15.0\n",
       "41      het      19.0\n",
       "42      het      22.0\n",
       "43      het      33.0\n",
       "44      het      36.0\n",
       "45      het      38.0\n",
       "46      het      40.0\n",
       "..      ...       ...\n",
       "60      het      72.0\n",
       "61      het      73.0\n",
       "62      het      74.0\n",
       "63      het      77.0\n",
       "64      het      88.0\n",
       "65      het      90.0\n",
       "66      het      93.0\n",
       "67      het      95.0\n",
       "68      mut       4.0\n",
       "69      mut      11.0\n",
       "70      mut      12.0\n",
       "71      mut      13.0\n",
       "72      mut      20.0\n",
       "73      mut      21.0\n",
       "74      mut      23.0\n",
       "75      mut      27.0\n",
       "76      mut      35.0\n",
       "77      mut      39.0\n",
       "78      mut      46.0\n",
       "79      mut      56.0\n",
       "80      mut      60.0\n",
       "81      mut      64.0\n",
       "82      mut      66.0\n",
       "83      mut      67.0\n",
       "84      mut      69.0\n",
       "85      mut      87.0\n",
       "86      mut      89.0\n",
       "87      mut      92.0\n",
       "88      mut      79.0\n",
       "89      mut      81.0\n",
       "\n",
       "[73 rows x 2 columns]"
      ]
     },
     "execution_count": 13,
     "metadata": {},
     "output_type": "execute_result"
    }
   ],
   "source": [
    "# Drop all rows that have a NaN in them\n",
    "df_gt = df_gt.dropna()\n",
    "\n",
    "# Take a look\n",
    "df_gt"
   ]
  },
  {
   "cell_type": "code",
   "execution_count": 14,
   "metadata": {},
   "outputs": [],
   "source": [
    "df_gt = df_gt.reset_index(drop=True)\n"
   ]
  },
  {
   "cell_type": "code",
   "execution_count": 15,
   "metadata": {},
   "outputs": [],
   "source": [
    "df_gt.loc[:,'location'] = df_gt.loc[:, 'location'].astype(int)\n"
   ]
  },
  {
   "cell_type": "code",
   "execution_count": 16,
   "metadata": {},
   "outputs": [
    {
     "data": {
      "text/html": [
       "<div>\n",
       "<style scoped>\n",
       "    .dataframe tbody tr th:only-of-type {\n",
       "        vertical-align: middle;\n",
       "    }\n",
       "\n",
       "    .dataframe tbody tr th {\n",
       "        vertical-align: top;\n",
       "    }\n",
       "\n",
       "    .dataframe thead th {\n",
       "        text-align: right;\n",
       "    }\n",
       "</style>\n",
       "<table border=\"1\" class=\"dataframe\">\n",
       "  <thead>\n",
       "    <tr style=\"text-align: right;\">\n",
       "      <th></th>\n",
       "      <th>location</th>\n",
       "      <th>activity</th>\n",
       "      <th>time</th>\n",
       "      <th>zeit</th>\n",
       "      <th>zeit_ind</th>\n",
       "      <th>day</th>\n",
       "    </tr>\n",
       "  </thead>\n",
       "  <tbody>\n",
       "    <tr>\n",
       "      <th>0</th>\n",
       "      <td>1</td>\n",
       "      <td>0.6</td>\n",
       "      <td>2013-03-15 18:31:09</td>\n",
       "      <td>-14.480833</td>\n",
       "      <td>-869</td>\n",
       "      <td>4</td>\n",
       "    </tr>\n",
       "    <tr>\n",
       "      <th>1</th>\n",
       "      <td>2</td>\n",
       "      <td>1.4</td>\n",
       "      <td>2013-03-15 18:31:09</td>\n",
       "      <td>-14.480833</td>\n",
       "      <td>-869</td>\n",
       "      <td>4</td>\n",
       "    </tr>\n",
       "    <tr>\n",
       "      <th>2</th>\n",
       "      <td>3</td>\n",
       "      <td>0.0</td>\n",
       "      <td>2013-03-15 18:31:09</td>\n",
       "      <td>-14.480833</td>\n",
       "      <td>-869</td>\n",
       "      <td>4</td>\n",
       "    </tr>\n",
       "    <tr>\n",
       "      <th>3</th>\n",
       "      <td>4</td>\n",
       "      <td>0.0</td>\n",
       "      <td>2013-03-15 18:31:09</td>\n",
       "      <td>-14.480833</td>\n",
       "      <td>-869</td>\n",
       "      <td>4</td>\n",
       "    </tr>\n",
       "    <tr>\n",
       "      <th>4</th>\n",
       "      <td>5</td>\n",
       "      <td>0.0</td>\n",
       "      <td>2013-03-15 18:31:09</td>\n",
       "      <td>-14.480833</td>\n",
       "      <td>-869</td>\n",
       "      <td>4</td>\n",
       "    </tr>\n",
       "  </tbody>\n",
       "</table>\n",
       "</div>"
      ],
      "text/plain": [
       "   location  activity                 time       zeit  zeit_ind  day\n",
       "0         1       0.6  2013-03-15 18:31:09 -14.480833      -869    4\n",
       "1         2       1.4  2013-03-15 18:31:09 -14.480833      -869    4\n",
       "2         3       0.0  2013-03-15 18:31:09 -14.480833      -869    4\n",
       "3         4       0.0  2013-03-15 18:31:09 -14.480833      -869    4\n",
       "4         5       0.0  2013-03-15 18:31:09 -14.480833      -869    4"
      ]
     },
     "execution_count": 16,
     "metadata": {},
     "output_type": "execute_result"
    }
   ],
   "source": [
    "df = pd.read_csv('../data/130315_1A_aanat2.csv', comment='#')\n",
    "\n",
    "# Take a look\n",
    "df.head()"
   ]
  },
  {
   "cell_type": "code",
   "execution_count": 17,
   "metadata": {},
   "outputs": [
    {
     "data": {
      "text/html": [
       "<div>\n",
       "<style scoped>\n",
       "    .dataframe tbody tr th:only-of-type {\n",
       "        vertical-align: middle;\n",
       "    }\n",
       "\n",
       "    .dataframe tbody tr th {\n",
       "        vertical-align: top;\n",
       "    }\n",
       "\n",
       "    .dataframe thead th {\n",
       "        text-align: right;\n",
       "    }\n",
       "</style>\n",
       "<table border=\"1\" class=\"dataframe\">\n",
       "  <thead>\n",
       "    <tr style=\"text-align: right;\">\n",
       "      <th></th>\n",
       "      <th>location</th>\n",
       "      <th>activity</th>\n",
       "      <th>time</th>\n",
       "      <th>zeit</th>\n",
       "      <th>zeit_ind</th>\n",
       "      <th>day</th>\n",
       "      <th>genotype</th>\n",
       "    </tr>\n",
       "  </thead>\n",
       "  <tbody>\n",
       "    <tr>\n",
       "      <th>0</th>\n",
       "      <td>1</td>\n",
       "      <td>0.6</td>\n",
       "      <td>2013-03-15 18:31:09</td>\n",
       "      <td>-14.480833</td>\n",
       "      <td>-869</td>\n",
       "      <td>4</td>\n",
       "      <td>het</td>\n",
       "    </tr>\n",
       "    <tr>\n",
       "      <th>1</th>\n",
       "      <td>1</td>\n",
       "      <td>1.9</td>\n",
       "      <td>2013-03-15 18:32:09</td>\n",
       "      <td>-14.464167</td>\n",
       "      <td>-868</td>\n",
       "      <td>4</td>\n",
       "      <td>het</td>\n",
       "    </tr>\n",
       "    <tr>\n",
       "      <th>2</th>\n",
       "      <td>1</td>\n",
       "      <td>1.9</td>\n",
       "      <td>2013-03-15 18:33:09</td>\n",
       "      <td>-14.447500</td>\n",
       "      <td>-867</td>\n",
       "      <td>4</td>\n",
       "      <td>het</td>\n",
       "    </tr>\n",
       "    <tr>\n",
       "      <th>3</th>\n",
       "      <td>1</td>\n",
       "      <td>13.4</td>\n",
       "      <td>2013-03-15 18:34:09</td>\n",
       "      <td>-14.430833</td>\n",
       "      <td>-866</td>\n",
       "      <td>4</td>\n",
       "      <td>het</td>\n",
       "    </tr>\n",
       "    <tr>\n",
       "      <th>4</th>\n",
       "      <td>1</td>\n",
       "      <td>15.4</td>\n",
       "      <td>2013-03-15 18:35:09</td>\n",
       "      <td>-14.414167</td>\n",
       "      <td>-865</td>\n",
       "      <td>4</td>\n",
       "      <td>het</td>\n",
       "    </tr>\n",
       "  </tbody>\n",
       "</table>\n",
       "</div>"
      ],
      "text/plain": [
       "   location  activity                 time       zeit  zeit_ind  day genotype\n",
       "0         1       0.6  2013-03-15 18:31:09 -14.480833      -869    4      het\n",
       "1         1       1.9  2013-03-15 18:32:09 -14.464167      -868    4      het\n",
       "2         1       1.9  2013-03-15 18:33:09 -14.447500      -867    4      het\n",
       "3         1      13.4  2013-03-15 18:34:09 -14.430833      -866    4      het\n",
       "4         1      15.4  2013-03-15 18:35:09 -14.414167      -865    4      het"
      ]
     },
     "execution_count": 17,
     "metadata": {},
     "output_type": "execute_result"
    }
   ],
   "source": [
    "df = pd.merge(df, df_gt)\n",
    "\n",
    "# Take a look\n",
    "df.head()"
   ]
  },
  {
   "cell_type": "code",
   "execution_count": 18,
   "metadata": {},
   "outputs": [],
   "source": [
    "df['time'] = pd.to_datetime(df['time'])\n"
   ]
  },
  {
   "cell_type": "code",
   "execution_count": 19,
   "metadata": {},
   "outputs": [
    {
     "data": {
      "text/plain": [
       "0    18:31:09\n",
       "1    18:32:09\n",
       "2    18:33:09\n",
       "3    18:34:09\n",
       "4    18:35:09\n",
       "Name: time, dtype: object"
      ]
     },
     "execution_count": 19,
     "metadata": {},
     "output_type": "execute_result"
    }
   ],
   "source": [
    "df['time'].dt.time.head()\n"
   ]
  },
  {
   "cell_type": "code",
   "execution_count": 20,
   "metadata": {},
   "outputs": [
    {
     "data": {
      "text/html": [
       "<div>\n",
       "<style scoped>\n",
       "    .dataframe tbody tr th:only-of-type {\n",
       "        vertical-align: middle;\n",
       "    }\n",
       "\n",
       "    .dataframe tbody tr th {\n",
       "        vertical-align: top;\n",
       "    }\n",
       "\n",
       "    .dataframe thead th {\n",
       "        text-align: right;\n",
       "    }\n",
       "</style>\n",
       "<table border=\"1\" class=\"dataframe\">\n",
       "  <thead>\n",
       "    <tr style=\"text-align: right;\">\n",
       "      <th></th>\n",
       "      <th>location</th>\n",
       "      <th>activity</th>\n",
       "      <th>time</th>\n",
       "      <th>zeit</th>\n",
       "      <th>zeit_ind</th>\n",
       "      <th>day</th>\n",
       "      <th>genotype</th>\n",
       "      <th>light</th>\n",
       "    </tr>\n",
       "  </thead>\n",
       "  <tbody>\n",
       "    <tr>\n",
       "      <th>0</th>\n",
       "      <td>1</td>\n",
       "      <td>0.6</td>\n",
       "      <td>2013-03-15 18:31:09</td>\n",
       "      <td>-14.480833</td>\n",
       "      <td>-869</td>\n",
       "      <td>4</td>\n",
       "      <td>het</td>\n",
       "      <td>True</td>\n",
       "    </tr>\n",
       "    <tr>\n",
       "      <th>1</th>\n",
       "      <td>1</td>\n",
       "      <td>1.9</td>\n",
       "      <td>2013-03-15 18:32:09</td>\n",
       "      <td>-14.464167</td>\n",
       "      <td>-868</td>\n",
       "      <td>4</td>\n",
       "      <td>het</td>\n",
       "      <td>True</td>\n",
       "    </tr>\n",
       "    <tr>\n",
       "      <th>2</th>\n",
       "      <td>1</td>\n",
       "      <td>1.9</td>\n",
       "      <td>2013-03-15 18:33:09</td>\n",
       "      <td>-14.447500</td>\n",
       "      <td>-867</td>\n",
       "      <td>4</td>\n",
       "      <td>het</td>\n",
       "      <td>True</td>\n",
       "    </tr>\n",
       "    <tr>\n",
       "      <th>3</th>\n",
       "      <td>1</td>\n",
       "      <td>13.4</td>\n",
       "      <td>2013-03-15 18:34:09</td>\n",
       "      <td>-14.430833</td>\n",
       "      <td>-866</td>\n",
       "      <td>4</td>\n",
       "      <td>het</td>\n",
       "      <td>True</td>\n",
       "    </tr>\n",
       "    <tr>\n",
       "      <th>4</th>\n",
       "      <td>1</td>\n",
       "      <td>15.4</td>\n",
       "      <td>2013-03-15 18:35:09</td>\n",
       "      <td>-14.414167</td>\n",
       "      <td>-865</td>\n",
       "      <td>4</td>\n",
       "      <td>het</td>\n",
       "      <td>True</td>\n",
       "    </tr>\n",
       "  </tbody>\n",
       "</table>\n",
       "</div>"
      ],
      "text/plain": [
       "   location  activity                time       zeit  zeit_ind  day genotype  \\\n",
       "0         1       0.6 2013-03-15 18:31:09 -14.480833      -869    4      het   \n",
       "1         1       1.9 2013-03-15 18:32:09 -14.464167      -868    4      het   \n",
       "2         1       1.9 2013-03-15 18:33:09 -14.447500      -867    4      het   \n",
       "3         1      13.4 2013-03-15 18:34:09 -14.430833      -866    4      het   \n",
       "4         1      15.4 2013-03-15 18:35:09 -14.414167      -865    4      het   \n",
       "\n",
       "   light  \n",
       "0   True  \n",
       "1   True  \n",
       "2   True  \n",
       "3   True  \n",
       "4   True  "
      ]
     },
     "execution_count": 20,
     "metadata": {},
     "output_type": "execute_result"
    }
   ],
   "source": [
    "df['light'] = (  (df['time'].dt.time >= pd.to_datetime('9:00:00').time())\n",
    "               & (df['time'].dt.time < pd.to_datetime('23:00:00').time()))\n",
    "\n",
    "# Take a look\n",
    "df.head()"
   ]
  },
  {
   "cell_type": "code",
   "execution_count": null,
   "metadata": {},
   "outputs": [],
   "source": []
  }
 ],
 "metadata": {
  "kernelspec": {
   "display_name": "Python 3",
   "language": "python",
   "name": "python3"
  },
  "language_info": {
   "codemirror_mode": {
    "name": "ipython",
    "version": 3
   },
   "file_extension": ".py",
   "mimetype": "text/x-python",
   "name": "python",
   "nbconvert_exporter": "python",
   "pygments_lexer": "ipython3",
   "version": "3.7.0"
  }
 },
 "nbformat": 4,
 "nbformat_minor": 2
}
