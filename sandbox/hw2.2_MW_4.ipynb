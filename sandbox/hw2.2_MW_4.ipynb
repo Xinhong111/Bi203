{
 "cells": [
  {
   "cell_type": "markdown",
   "metadata": {},
   "source": [
    "## Problem 2.2 (Exploring fish sleep data)"
   ]
  },
  {
   "cell_type": "code",
   "execution_count": 1,
   "metadata": {},
   "outputs": [
    {
     "data": {
      "text/plain": [
       "DataTransformerRegistry.enable('json')"
      ]
     },
     "execution_count": 1,
     "metadata": {},
     "output_type": "execute_result"
    }
   ],
   "source": [
    "import numpy as np\n",
    "import pandas as pd\n",
    "import itertools\n",
    "\n",
    "import altair as alt\n",
    "import altair_catplot as altcat\n",
    "\n",
    "alt.data_transformers.enable('json')"
   ]
  },
  {
   "cell_type": "markdown",
   "metadata": {},
   "source": [
    "Our goal for this problem is to come up with two metrics to parameterize sleep behavior using datasets that describe the movement of zebrafish larvae over time for wild type, heterozygous mutant, and homozygous mutant zebrafish."
   ]
  },
  {
   "cell_type": "markdown",
   "metadata": {},
   "source": [
    "### Tidying Data"
   ]
  },
  {
   "cell_type": "markdown",
   "metadata": {},
   "source": [
    "The first step is to combine and tidy our genotype and behavioral datasets. Let's first read in the genotype dataset."
   ]
  },
  {
   "cell_type": "code",
   "execution_count": 2,
   "metadata": {},
   "outputs": [
    {
     "data": {
      "text/html": [
       "<div>\n",
       "<style scoped>\n",
       "    .dataframe tbody tr th:only-of-type {\n",
       "        vertical-align: middle;\n",
       "    }\n",
       "\n",
       "    .dataframe tbody tr th {\n",
       "        vertical-align: top;\n",
       "    }\n",
       "\n",
       "    .dataframe thead tr th {\n",
       "        text-align: left;\n",
       "    }\n",
       "</style>\n",
       "<table border=\"1\" class=\"dataframe\">\n",
       "  <thead>\n",
       "    <tr>\n",
       "      <th></th>\n",
       "      <th>Genotype1</th>\n",
       "      <th>Genotype2</th>\n",
       "      <th>Genotype3</th>\n",
       "    </tr>\n",
       "    <tr>\n",
       "      <th></th>\n",
       "      <th>WT 17</th>\n",
       "      <th>Het 34</th>\n",
       "      <th>Mut 22</th>\n",
       "    </tr>\n",
       "  </thead>\n",
       "  <tbody>\n",
       "    <tr>\n",
       "      <th>0</th>\n",
       "      <td>2.0</td>\n",
       "      <td>1</td>\n",
       "      <td>4.0</td>\n",
       "    </tr>\n",
       "    <tr>\n",
       "      <th>1</th>\n",
       "      <td>14.0</td>\n",
       "      <td>3</td>\n",
       "      <td>11.0</td>\n",
       "    </tr>\n",
       "    <tr>\n",
       "      <th>2</th>\n",
       "      <td>18.0</td>\n",
       "      <td>5</td>\n",
       "      <td>12.0</td>\n",
       "    </tr>\n",
       "    <tr>\n",
       "      <th>3</th>\n",
       "      <td>24.0</td>\n",
       "      <td>6</td>\n",
       "      <td>13.0</td>\n",
       "    </tr>\n",
       "    <tr>\n",
       "      <th>4</th>\n",
       "      <td>28.0</td>\n",
       "      <td>8</td>\n",
       "      <td>20.0</td>\n",
       "    </tr>\n",
       "  </tbody>\n",
       "</table>\n",
       "</div>"
      ],
      "text/plain": [
       "  Genotype1 Genotype2 Genotype3\n",
       "      WT 17    Het 34    Mut 22\n",
       "0       2.0         1       4.0\n",
       "1      14.0         3      11.0\n",
       "2      18.0         5      12.0\n",
       "3      24.0         6      13.0\n",
       "4      28.0         8      20.0"
      ]
     },
     "execution_count": 2,
     "metadata": {},
     "output_type": "execute_result"
    }
   ],
   "source": [
    "df_gt = pd.read_csv('../data/130315_1A_genotypes.txt',\n",
    "                    delimiter='\\t',\n",
    "                    comment='#',\n",
    "                    header=[0, 1])\n",
    "# Take a look\n",
    "df_gt.head()"
   ]
  },
  {
   "cell_type": "markdown",
   "metadata": {},
   "source": [
    "Let's start to tidy up the data by first resetting and renaming the columns."
   ]
  },
  {
   "cell_type": "code",
   "execution_count": 3,
   "metadata": {},
   "outputs": [
    {
     "data": {
      "text/plain": [
       "Index(['WT 17', 'Het 34', 'Mut 22'], dtype='object')"
      ]
     },
     "execution_count": 3,
     "metadata": {},
     "output_type": "execute_result"
    }
   ],
   "source": [
    "# Reset the columns to be the second level of indexing\n",
    "df_gt.columns = df_gt.columns.get_level_values(1)\n",
    "\n",
    "# Check out the new columns\n",
    "df_gt.columns"
   ]
  },
  {
   "cell_type": "code",
   "execution_count": 4,
   "metadata": {},
   "outputs": [],
   "source": [
    "# Rename the columns\n",
    "df_gt.columns = ['wt', 'het', 'mut']"
   ]
  },
  {
   "cell_type": "code",
   "execution_count": 5,
   "metadata": {},
   "outputs": [
    {
     "data": {
      "text/html": [
       "<div>\n",
       "<style scoped>\n",
       "    .dataframe tbody tr th:only-of-type {\n",
       "        vertical-align: middle;\n",
       "    }\n",
       "\n",
       "    .dataframe tbody tr th {\n",
       "        vertical-align: top;\n",
       "    }\n",
       "\n",
       "    .dataframe thead th {\n",
       "        text-align: right;\n",
       "    }\n",
       "</style>\n",
       "<table border=\"1\" class=\"dataframe\">\n",
       "  <thead>\n",
       "    <tr style=\"text-align: right;\">\n",
       "      <th></th>\n",
       "      <th>genotype</th>\n",
       "      <th>location</th>\n",
       "    </tr>\n",
       "  </thead>\n",
       "  <tbody>\n",
       "    <tr>\n",
       "      <th>0</th>\n",
       "      <td>wt</td>\n",
       "      <td>2.0</td>\n",
       "    </tr>\n",
       "    <tr>\n",
       "      <th>1</th>\n",
       "      <td>wt</td>\n",
       "      <td>14.0</td>\n",
       "    </tr>\n",
       "    <tr>\n",
       "      <th>2</th>\n",
       "      <td>wt</td>\n",
       "      <td>18.0</td>\n",
       "    </tr>\n",
       "    <tr>\n",
       "      <th>3</th>\n",
       "      <td>wt</td>\n",
       "      <td>24.0</td>\n",
       "    </tr>\n",
       "    <tr>\n",
       "      <th>4</th>\n",
       "      <td>wt</td>\n",
       "      <td>28.0</td>\n",
       "    </tr>\n",
       "  </tbody>\n",
       "</table>\n",
       "</div>"
      ],
      "text/plain": [
       "  genotype  location\n",
       "0       wt       2.0\n",
       "1       wt      14.0\n",
       "2       wt      18.0\n",
       "3       wt      24.0\n",
       "4       wt      28.0"
      ]
     },
     "execution_count": 5,
     "metadata": {},
     "output_type": "execute_result"
    }
   ],
   "source": [
    "# Tidy the DataFrame\n",
    "df_gt = pd.melt(df_gt, var_name='genotype', value_name='location')\n",
    "\n",
    "# Take a look\n",
    "df_gt.head()"
   ]
  },
  {
   "cell_type": "markdown",
   "metadata": {},
   "source": [
    "We notice there are some rows with NaN values in them, so we will drop these rows."
   ]
  },
  {
   "cell_type": "code",
   "execution_count": 6,
   "metadata": {},
   "outputs": [
    {
     "data": {
      "text/html": [
       "<div>\n",
       "<style scoped>\n",
       "    .dataframe tbody tr th:only-of-type {\n",
       "        vertical-align: middle;\n",
       "    }\n",
       "\n",
       "    .dataframe tbody tr th {\n",
       "        vertical-align: top;\n",
       "    }\n",
       "\n",
       "    .dataframe thead th {\n",
       "        text-align: right;\n",
       "    }\n",
       "</style>\n",
       "<table border=\"1\" class=\"dataframe\">\n",
       "  <thead>\n",
       "    <tr style=\"text-align: right;\">\n",
       "      <th></th>\n",
       "      <th>genotype</th>\n",
       "      <th>location</th>\n",
       "    </tr>\n",
       "  </thead>\n",
       "  <tbody>\n",
       "    <tr>\n",
       "      <th>0</th>\n",
       "      <td>wt</td>\n",
       "      <td>2.0</td>\n",
       "    </tr>\n",
       "    <tr>\n",
       "      <th>1</th>\n",
       "      <td>wt</td>\n",
       "      <td>14.0</td>\n",
       "    </tr>\n",
       "    <tr>\n",
       "      <th>2</th>\n",
       "      <td>wt</td>\n",
       "      <td>18.0</td>\n",
       "    </tr>\n",
       "    <tr>\n",
       "      <th>3</th>\n",
       "      <td>wt</td>\n",
       "      <td>24.0</td>\n",
       "    </tr>\n",
       "    <tr>\n",
       "      <th>4</th>\n",
       "      <td>wt</td>\n",
       "      <td>28.0</td>\n",
       "    </tr>\n",
       "  </tbody>\n",
       "</table>\n",
       "</div>"
      ],
      "text/plain": [
       "  genotype  location\n",
       "0       wt       2.0\n",
       "1       wt      14.0\n",
       "2       wt      18.0\n",
       "3       wt      24.0\n",
       "4       wt      28.0"
      ]
     },
     "execution_count": 6,
     "metadata": {},
     "output_type": "execute_result"
    }
   ],
   "source": [
    "# Drop all rows that have a NaN in them\n",
    "df_gt = df_gt.dropna()\n",
    "\n",
    "# Reset the index\n",
    "df_gt = df_gt.reset_index(drop=True)\n",
    "\n",
    "df_gt.head()"
   ]
  },
  {
   "cell_type": "code",
   "execution_count": 7,
   "metadata": {},
   "outputs": [],
   "source": [
    "# Reset location values from floats to ints.\n",
    "df_gt.loc[:,'location'] = df_gt.loc[:, 'location'].astype(int)"
   ]
  },
  {
   "cell_type": "markdown",
   "metadata": {},
   "source": [
    "Now let's load in the behavioral data set to get the activity and temporal information for each location."
   ]
  },
  {
   "cell_type": "code",
   "execution_count": 8,
   "metadata": {},
   "outputs": [
    {
     "data": {
      "text/html": [
       "<div>\n",
       "<style scoped>\n",
       "    .dataframe tbody tr th:only-of-type {\n",
       "        vertical-align: middle;\n",
       "    }\n",
       "\n",
       "    .dataframe tbody tr th {\n",
       "        vertical-align: top;\n",
       "    }\n",
       "\n",
       "    .dataframe thead th {\n",
       "        text-align: right;\n",
       "    }\n",
       "</style>\n",
       "<table border=\"1\" class=\"dataframe\">\n",
       "  <thead>\n",
       "    <tr style=\"text-align: right;\">\n",
       "      <th></th>\n",
       "      <th>location</th>\n",
       "      <th>activity</th>\n",
       "      <th>time</th>\n",
       "      <th>zeit</th>\n",
       "      <th>zeit_ind</th>\n",
       "      <th>day</th>\n",
       "    </tr>\n",
       "  </thead>\n",
       "  <tbody>\n",
       "    <tr>\n",
       "      <th>0</th>\n",
       "      <td>1</td>\n",
       "      <td>0.6</td>\n",
       "      <td>2013-03-15 18:31:09</td>\n",
       "      <td>-14.480833</td>\n",
       "      <td>-869</td>\n",
       "      <td>4</td>\n",
       "    </tr>\n",
       "    <tr>\n",
       "      <th>1</th>\n",
       "      <td>2</td>\n",
       "      <td>1.4</td>\n",
       "      <td>2013-03-15 18:31:09</td>\n",
       "      <td>-14.480833</td>\n",
       "      <td>-869</td>\n",
       "      <td>4</td>\n",
       "    </tr>\n",
       "    <tr>\n",
       "      <th>2</th>\n",
       "      <td>3</td>\n",
       "      <td>0.0</td>\n",
       "      <td>2013-03-15 18:31:09</td>\n",
       "      <td>-14.480833</td>\n",
       "      <td>-869</td>\n",
       "      <td>4</td>\n",
       "    </tr>\n",
       "    <tr>\n",
       "      <th>3</th>\n",
       "      <td>4</td>\n",
       "      <td>0.0</td>\n",
       "      <td>2013-03-15 18:31:09</td>\n",
       "      <td>-14.480833</td>\n",
       "      <td>-869</td>\n",
       "      <td>4</td>\n",
       "    </tr>\n",
       "    <tr>\n",
       "      <th>4</th>\n",
       "      <td>5</td>\n",
       "      <td>0.0</td>\n",
       "      <td>2013-03-15 18:31:09</td>\n",
       "      <td>-14.480833</td>\n",
       "      <td>-869</td>\n",
       "      <td>4</td>\n",
       "    </tr>\n",
       "  </tbody>\n",
       "</table>\n",
       "</div>"
      ],
      "text/plain": [
       "   location  activity                 time       zeit  zeit_ind  day\n",
       "0         1       0.6  2013-03-15 18:31:09 -14.480833      -869    4\n",
       "1         2       1.4  2013-03-15 18:31:09 -14.480833      -869    4\n",
       "2         3       0.0  2013-03-15 18:31:09 -14.480833      -869    4\n",
       "3         4       0.0  2013-03-15 18:31:09 -14.480833      -869    4\n",
       "4         5       0.0  2013-03-15 18:31:09 -14.480833      -869    4"
      ]
     },
     "execution_count": 8,
     "metadata": {},
     "output_type": "execute_result"
    }
   ],
   "source": [
    "df = pd.read_csv('../data/130315_1A_aanat2.csv', comment='#')\n",
    "\n",
    "# Take a look\n",
    "df.head()"
   ]
  },
  {
   "cell_type": "markdown",
   "metadata": {},
   "source": [
    "Merge the two datasets to combine the behavioral data with the genotype data."
   ]
  },
  {
   "cell_type": "code",
   "execution_count": 9,
   "metadata": {},
   "outputs": [
    {
     "data": {
      "text/html": [
       "<div>\n",
       "<style scoped>\n",
       "    .dataframe tbody tr th:only-of-type {\n",
       "        vertical-align: middle;\n",
       "    }\n",
       "\n",
       "    .dataframe tbody tr th {\n",
       "        vertical-align: top;\n",
       "    }\n",
       "\n",
       "    .dataframe thead th {\n",
       "        text-align: right;\n",
       "    }\n",
       "</style>\n",
       "<table border=\"1\" class=\"dataframe\">\n",
       "  <thead>\n",
       "    <tr style=\"text-align: right;\">\n",
       "      <th></th>\n",
       "      <th>location</th>\n",
       "      <th>activity</th>\n",
       "      <th>time</th>\n",
       "      <th>zeit</th>\n",
       "      <th>zeit_ind</th>\n",
       "      <th>day</th>\n",
       "      <th>genotype</th>\n",
       "    </tr>\n",
       "  </thead>\n",
       "  <tbody>\n",
       "    <tr>\n",
       "      <th>0</th>\n",
       "      <td>1</td>\n",
       "      <td>0.6</td>\n",
       "      <td>2013-03-15 18:31:09</td>\n",
       "      <td>-14.480833</td>\n",
       "      <td>-869</td>\n",
       "      <td>4</td>\n",
       "      <td>het</td>\n",
       "    </tr>\n",
       "    <tr>\n",
       "      <th>1</th>\n",
       "      <td>1</td>\n",
       "      <td>1.9</td>\n",
       "      <td>2013-03-15 18:32:09</td>\n",
       "      <td>-14.464167</td>\n",
       "      <td>-868</td>\n",
       "      <td>4</td>\n",
       "      <td>het</td>\n",
       "    </tr>\n",
       "    <tr>\n",
       "      <th>2</th>\n",
       "      <td>1</td>\n",
       "      <td>1.9</td>\n",
       "      <td>2013-03-15 18:33:09</td>\n",
       "      <td>-14.447500</td>\n",
       "      <td>-867</td>\n",
       "      <td>4</td>\n",
       "      <td>het</td>\n",
       "    </tr>\n",
       "    <tr>\n",
       "      <th>3</th>\n",
       "      <td>1</td>\n",
       "      <td>13.4</td>\n",
       "      <td>2013-03-15 18:34:09</td>\n",
       "      <td>-14.430833</td>\n",
       "      <td>-866</td>\n",
       "      <td>4</td>\n",
       "      <td>het</td>\n",
       "    </tr>\n",
       "    <tr>\n",
       "      <th>4</th>\n",
       "      <td>1</td>\n",
       "      <td>15.4</td>\n",
       "      <td>2013-03-15 18:35:09</td>\n",
       "      <td>-14.414167</td>\n",
       "      <td>-865</td>\n",
       "      <td>4</td>\n",
       "      <td>het</td>\n",
       "    </tr>\n",
       "  </tbody>\n",
       "</table>\n",
       "</div>"
      ],
      "text/plain": [
       "   location  activity                 time       zeit  zeit_ind  day genotype\n",
       "0         1       0.6  2013-03-15 18:31:09 -14.480833      -869    4      het\n",
       "1         1       1.9  2013-03-15 18:32:09 -14.464167      -868    4      het\n",
       "2         1       1.9  2013-03-15 18:33:09 -14.447500      -867    4      het\n",
       "3         1      13.4  2013-03-15 18:34:09 -14.430833      -866    4      het\n",
       "4         1      15.4  2013-03-15 18:35:09 -14.414167      -865    4      het"
      ]
     },
     "execution_count": 9,
     "metadata": {},
     "output_type": "execute_result"
    }
   ],
   "source": [
    "df = pd.merge(df, df_gt)\n",
    "\n",
    "# Take a look\n",
    "df.head()"
   ]
  },
  {
   "cell_type": "markdown",
   "metadata": {},
   "source": [
    "Now let's create a column called 'light' that will help us determine if the lights are on or off during the experiment. In this experiment, lights are turned on at 9AM and turned off at 11PM. We will set 'light' to True if the lights are on and False if the lights are off."
   ]
  },
  {
   "cell_type": "code",
   "execution_count": 10,
   "metadata": {},
   "outputs": [],
   "source": [
    "df['time'] = pd.to_datetime(df['time'])"
   ]
  },
  {
   "cell_type": "code",
   "execution_count": 11,
   "metadata": {},
   "outputs": [
    {
     "data": {
      "text/html": [
       "<div>\n",
       "<style scoped>\n",
       "    .dataframe tbody tr th:only-of-type {\n",
       "        vertical-align: middle;\n",
       "    }\n",
       "\n",
       "    .dataframe tbody tr th {\n",
       "        vertical-align: top;\n",
       "    }\n",
       "\n",
       "    .dataframe thead th {\n",
       "        text-align: right;\n",
       "    }\n",
       "</style>\n",
       "<table border=\"1\" class=\"dataframe\">\n",
       "  <thead>\n",
       "    <tr style=\"text-align: right;\">\n",
       "      <th></th>\n",
       "      <th>location</th>\n",
       "      <th>activity</th>\n",
       "      <th>time</th>\n",
       "      <th>zeit</th>\n",
       "      <th>zeit_ind</th>\n",
       "      <th>day</th>\n",
       "      <th>genotype</th>\n",
       "      <th>light</th>\n",
       "    </tr>\n",
       "  </thead>\n",
       "  <tbody>\n",
       "    <tr>\n",
       "      <th>0</th>\n",
       "      <td>1</td>\n",
       "      <td>0.6</td>\n",
       "      <td>2013-03-15 18:31:09</td>\n",
       "      <td>-14.480833</td>\n",
       "      <td>-869</td>\n",
       "      <td>4</td>\n",
       "      <td>het</td>\n",
       "      <td>True</td>\n",
       "    </tr>\n",
       "    <tr>\n",
       "      <th>1</th>\n",
       "      <td>1</td>\n",
       "      <td>1.9</td>\n",
       "      <td>2013-03-15 18:32:09</td>\n",
       "      <td>-14.464167</td>\n",
       "      <td>-868</td>\n",
       "      <td>4</td>\n",
       "      <td>het</td>\n",
       "      <td>True</td>\n",
       "    </tr>\n",
       "    <tr>\n",
       "      <th>2</th>\n",
       "      <td>1</td>\n",
       "      <td>1.9</td>\n",
       "      <td>2013-03-15 18:33:09</td>\n",
       "      <td>-14.447500</td>\n",
       "      <td>-867</td>\n",
       "      <td>4</td>\n",
       "      <td>het</td>\n",
       "      <td>True</td>\n",
       "    </tr>\n",
       "    <tr>\n",
       "      <th>3</th>\n",
       "      <td>1</td>\n",
       "      <td>13.4</td>\n",
       "      <td>2013-03-15 18:34:09</td>\n",
       "      <td>-14.430833</td>\n",
       "      <td>-866</td>\n",
       "      <td>4</td>\n",
       "      <td>het</td>\n",
       "      <td>True</td>\n",
       "    </tr>\n",
       "    <tr>\n",
       "      <th>4</th>\n",
       "      <td>1</td>\n",
       "      <td>15.4</td>\n",
       "      <td>2013-03-15 18:35:09</td>\n",
       "      <td>-14.414167</td>\n",
       "      <td>-865</td>\n",
       "      <td>4</td>\n",
       "      <td>het</td>\n",
       "      <td>True</td>\n",
       "    </tr>\n",
       "  </tbody>\n",
       "</table>\n",
       "</div>"
      ],
      "text/plain": [
       "   location  activity                time       zeit  zeit_ind  day genotype  \\\n",
       "0         1       0.6 2013-03-15 18:31:09 -14.480833      -869    4      het   \n",
       "1         1       1.9 2013-03-15 18:32:09 -14.464167      -868    4      het   \n",
       "2         1       1.9 2013-03-15 18:33:09 -14.447500      -867    4      het   \n",
       "3         1      13.4 2013-03-15 18:34:09 -14.430833      -866    4      het   \n",
       "4         1      15.4 2013-03-15 18:35:09 -14.414167      -865    4      het   \n",
       "\n",
       "   light  \n",
       "0   True  \n",
       "1   True  \n",
       "2   True  \n",
       "3   True  \n",
       "4   True  "
      ]
     },
     "execution_count": 11,
     "metadata": {},
     "output_type": "execute_result"
    }
   ],
   "source": [
    "df['light'] = (  (df['time'].dt.time >= pd.to_datetime('9:00:00').time())\n",
    "               & (df['time'].dt.time < pd.to_datetime('23:00:00').time()))\n",
    "\n",
    "# Take a look\n",
    "df.head()"
   ]
  },
  {
   "cell_type": "markdown",
   "metadata": {},
   "source": [
    "### Determining sleep parameters"
   ]
  },
  {
   "cell_type": "markdown",
   "metadata": {},
   "source": [
    "Now that we've cleaned up the data, let's first look at the overall activity for each genotype during the day and the night by plotting the ECDF."
   ]
  },
  {
   "cell_type": "code",
   "execution_count": 12,
   "metadata": {},
   "outputs": [],
   "source": [
    "# Make axes the same\n",
    "axis_scale = alt.Scale(domain=[0, 55])"
   ]
  },
  {
   "cell_type": "code",
   "execution_count": 13,
   "metadata": {},
   "outputs": [
    {
     "data": {
      "application/vnd.vegalite.v2+json": {
       "$schema": "https://vega.github.io/schema/vega-lite/v2.6.0.json",
       "config": {
        "view": {
         "height": 300,
         "width": 400
        }
       },
       "hconcat": [
        {
         "data": {
          "format": {
           "type": "json"
          },
          "url": "altair-data-731a41a59dd958d57c28491116b98278.json"
         },
         "encoding": {
          "color": {
           "field": "genotype",
           "scale": {},
           "sort": [
            "wt",
            "het",
            "mut"
           ],
           "type": "nominal"
          },
          "order": {
           "field": "activity",
           "sort": "ascending",
           "type": "quantitative"
          },
          "x": {
           "field": "activity",
           "scale": {
            "domain": [
             0,
             55
            ]
           },
           "title": "activity during the day (sec/min), wt",
           "type": "quantitative"
          },
          "y": {
           "field": "__ECDF",
           "title": "ECDF",
           "type": "quantitative"
          }
         },
         "mark": {
          "type": "line"
         }
        },
        {
         "data": {
          "format": {
           "type": "json"
          },
          "url": "altair-data-bdf1667fce491fc6feab49ab1b5bfb1d.json"
         },
         "encoding": {
          "color": {
           "field": "genotype",
           "scale": {},
           "sort": [
            "wt",
            "het",
            "mut"
           ],
           "type": "nominal"
          },
          "order": {
           "field": "activity",
           "sort": "ascending",
           "type": "quantitative"
          },
          "x": {
           "field": "activity",
           "scale": {
            "domain": [
             0,
             55
            ]
           },
           "title": "activity at night (sec/min), wt",
           "type": "quantitative"
          },
          "y": {
           "field": "__ECDF",
           "title": "ECDF",
           "type": "quantitative"
          }
         },
         "mark": {
          "type": "line"
         }
        }
       ]
      },
      "image/png": "[encoded data removed]",
      "text/plain": [
       "<VegaLite 2 object>\n",
       "\n",
       "If you see this message, it means the renderer has not been properly enabled\n",
       "for the frontend that you are using. For more information, see\n",
       "https://altair-viz.github.io/user_guide/troubleshooting.html\n"
      ]
     },
     "execution_count": 13,
     "metadata": {},
     "output_type": "execute_result"
    }
   ],
   "source": [
    "p1 = altcat.catplot(data=df.loc[df['light']==True, :],\n",
    "                    mark='line',\n",
    "                    encoding=dict(x=alt.X('activity:Q', scale=axis_scale, title='activity during the day (sec/min), wt'),\n",
    "                                  color=alt.Color('genotype:N', sort=['wt', 'het', 'mut'])),\n",
    "                    transform = 'ecdf')\n",
    "\n",
    "p2 = altcat.catplot(data=df.loc[df['light']==False, :],\n",
    "                    mark='line',\n",
    "                    encoding=dict(x=alt.X('activity:Q', scale=axis_scale, title='activity at night (sec/min), wt'),\n",
    "                                  color=alt.Color('genotype:N', sort=['wt', 'het', 'mut'])),\n",
    "                    transform = 'ecdf')\n",
    "\n",
    "p1 | p2"
   ]
  },
  {
   "cell_type": "markdown",
   "metadata": {},
   "source": [
    "From these initial plots, we see that during the day, all three genotypes appear to have similar activity levels, but at night, the mutant zebrafish's activity is qualitatively different from the wild-type and heterozygous zebrafish."
   ]
  },
  {
   "cell_type": "markdown",
   "metadata": {},
   "source": [
    "We decided to look at the mean activity during the day and night on day 5 of a zebrafish's life, analyzing each fish separately. We chose the 5th day as the zebrafish's activity levels change each day as they develop, and the 5th day is the day used for analysis in Prober et. al. We are analyzing each fish's activity separately because when we plotted the activity traces for each individual fish, we saw that there appear to be two fish, in locations 21 and 67, that are up all night for some of the nights and were likely sick or died during the experiment."
   ]
  },
  {
   "cell_type": "markdown",
   "metadata": {},
   "source": [
    "First we need to group the data by location and light for day 5, taking out the sick fish. "
   ]
  },
  {
   "cell_type": "code",
   "execution_count": 49,
   "metadata": {},
   "outputs": [],
   "source": [
    "inds = ((df['day'] == 5)\n",
    "       & (df['location'] != 21)\n",
    "       & (df['location'] != 67))\n",
    "\n",
    "grouped = df.loc[inds, :].groupby(['location', 'light', 'genotype'])"
   ]
  },
  {
   "cell_type": "markdown",
   "metadata": {},
   "source": [
    "Now we can take the mean activity during the day and night for each fish on day 5. "
   ]
  },
  {
   "cell_type": "code",
   "execution_count": 50,
   "metadata": {},
   "outputs": [
    {
     "data": {
      "text/plain": [
       "location  light  genotype\n",
       "1         False  het         1.209667\n",
       "          True   het         4.075866\n",
       "2         False  wt          0.542500\n",
       "          True   wt          6.136918\n",
       "3         False  het         0.517500\n",
       "Name: activity, dtype: float64"
      ]
     },
     "execution_count": 50,
     "metadata": {},
     "output_type": "execute_result"
    }
   ],
   "source": [
    "# Take the mean of the activity during day and night\n",
    "df_mean = grouped['activity'].mean()\n",
    "\n",
    "# Take a look\n",
    "df_mean.head()"
   ]
  },
  {
   "cell_type": "code",
   "execution_count": 51,
   "metadata": {},
   "outputs": [],
   "source": [
    "# Reset index \n",
    "df_mean = df_mean.reset_index()"
   ]
  },
  {
   "cell_type": "code",
   "execution_count": 52,
   "metadata": {},
   "outputs": [
    {
     "data": {
      "text/html": [
       "<div>\n",
       "<style scoped>\n",
       "    .dataframe tbody tr th:only-of-type {\n",
       "        vertical-align: middle;\n",
       "    }\n",
       "\n",
       "    .dataframe tbody tr th {\n",
       "        vertical-align: top;\n",
       "    }\n",
       "\n",
       "    .dataframe thead th {\n",
       "        text-align: right;\n",
       "    }\n",
       "</style>\n",
       "<table border=\"1\" class=\"dataframe\">\n",
       "  <thead>\n",
       "    <tr style=\"text-align: right;\">\n",
       "      <th></th>\n",
       "      <th>location</th>\n",
       "      <th>light</th>\n",
       "      <th>genotype</th>\n",
       "      <th>mean_activity</th>\n",
       "    </tr>\n",
       "  </thead>\n",
       "  <tbody>\n",
       "    <tr>\n",
       "      <th>0</th>\n",
       "      <td>1</td>\n",
       "      <td>False</td>\n",
       "      <td>het</td>\n",
       "      <td>1.209667</td>\n",
       "    </tr>\n",
       "    <tr>\n",
       "      <th>1</th>\n",
       "      <td>1</td>\n",
       "      <td>True</td>\n",
       "      <td>het</td>\n",
       "      <td>4.075866</td>\n",
       "    </tr>\n",
       "    <tr>\n",
       "      <th>2</th>\n",
       "      <td>2</td>\n",
       "      <td>False</td>\n",
       "      <td>wt</td>\n",
       "      <td>0.542500</td>\n",
       "    </tr>\n",
       "    <tr>\n",
       "      <th>3</th>\n",
       "      <td>2</td>\n",
       "      <td>True</td>\n",
       "      <td>wt</td>\n",
       "      <td>6.136918</td>\n",
       "    </tr>\n",
       "    <tr>\n",
       "      <th>4</th>\n",
       "      <td>3</td>\n",
       "      <td>False</td>\n",
       "      <td>het</td>\n",
       "      <td>0.517500</td>\n",
       "    </tr>\n",
       "  </tbody>\n",
       "</table>\n",
       "</div>"
      ],
      "text/plain": [
       "   location  light genotype  mean_activity\n",
       "0         1  False      het       1.209667\n",
       "1         1   True      het       4.075866\n",
       "2         2  False       wt       0.542500\n",
       "3         2   True       wt       6.136918\n",
       "4         3  False      het       0.517500"
      ]
     },
     "execution_count": 52,
     "metadata": {},
     "output_type": "execute_result"
    }
   ],
   "source": [
    "# Rename the activity column to mean_activity.\n",
    "df_mean = df_mean.rename(columns={'activity' : 'mean_activity'})\n",
    "\n",
    "# Take a look\n",
    "df_mean.head()"
   ]
  },
  {
   "cell_type": "markdown",
   "metadata": {},
   "source": [
    "To be able to compare the activity between fish, we normalized the mean activity for each fish by dividing their mean activity during the day by their mean activity at night. \n",
    "\n",
    "\\begin{align}\n",
    "\\mathrm{normalized \\ mean \\ activity_{day}} = &\\frac{\\mathrm{mean \\ activity_{day}}}{\\mathrm{mean \\ activity_{night}}} \\\\[1em]\n",
    "\\mathrm{normalized \\ mean \\ activity_{night}} = &\\frac{\\mathrm{mean \\ activity_{night}}}{\\mathrm{mean \\ activity_{night}}}\n",
    "\\end{align}\n",
    "\n",
    "Using this normalization, a small mean activity would indicate that the fish is not sleeping well. Since we saw that the activity during the day for all genotypes is similar, a small mean activity means that the fish is more active at night and not asleep."
   ]
  },
  {
   "cell_type": "code",
   "execution_count": 53,
   "metadata": {},
   "outputs": [],
   "source": [
    "# Slice out mean activity during the day and night\n",
    "day_activity = df_mean.loc[df_mean['light']==True, 'mean_activity']\n",
    "night_activity = df_mean.loc[df_mean['light']==False, 'mean_activity']\n",
    "\n",
    "# Normalize day and night activity\n",
    "norm_day_activity = np.divide(day_activity, night_activity)\n",
    "norm_night_activity = np.divide(night_activity, night_activity)"
   ]
  },
  {
   "cell_type": "code",
   "execution_count": 54,
   "metadata": {},
   "outputs": [],
   "source": [
    "# Add normalized mean activity back into the dataframe\n",
    "df_mean.loc[df_mean['light']==True, 'norm_mean_activity'] = norm_day_activity\n",
    "df_mean.loc[df_mean['light']==False, 'norm_mean_activity'] = norm_night_activity"
   ]
  },
  {
   "cell_type": "code",
   "execution_count": 55,
   "metadata": {},
   "outputs": [
    {
     "data": {
      "text/html": [
       "<div>\n",
       "<style scoped>\n",
       "    .dataframe tbody tr th:only-of-type {\n",
       "        vertical-align: middle;\n",
       "    }\n",
       "\n",
       "    .dataframe tbody tr th {\n",
       "        vertical-align: top;\n",
       "    }\n",
       "\n",
       "    .dataframe thead th {\n",
       "        text-align: right;\n",
       "    }\n",
       "</style>\n",
       "<table border=\"1\" class=\"dataframe\">\n",
       "  <thead>\n",
       "    <tr style=\"text-align: right;\">\n",
       "      <th></th>\n",
       "      <th>location</th>\n",
       "      <th>light</th>\n",
       "      <th>genotype</th>\n",
       "      <th>mean_activity</th>\n",
       "      <th>norm_mean_activity</th>\n",
       "    </tr>\n",
       "  </thead>\n",
       "  <tbody>\n",
       "    <tr>\n",
       "      <th>0</th>\n",
       "      <td>1</td>\n",
       "      <td>False</td>\n",
       "      <td>het</td>\n",
       "      <td>1.209667</td>\n",
       "      <td>1.000000</td>\n",
       "    </tr>\n",
       "    <tr>\n",
       "      <th>1</th>\n",
       "      <td>1</td>\n",
       "      <td>True</td>\n",
       "      <td>het</td>\n",
       "      <td>4.075866</td>\n",
       "      <td>3.369413</td>\n",
       "    </tr>\n",
       "    <tr>\n",
       "      <th>2</th>\n",
       "      <td>2</td>\n",
       "      <td>False</td>\n",
       "      <td>wt</td>\n",
       "      <td>0.542500</td>\n",
       "      <td>1.000000</td>\n",
       "    </tr>\n",
       "    <tr>\n",
       "      <th>3</th>\n",
       "      <td>2</td>\n",
       "      <td>True</td>\n",
       "      <td>wt</td>\n",
       "      <td>6.136918</td>\n",
       "      <td>11.312290</td>\n",
       "    </tr>\n",
       "    <tr>\n",
       "      <th>4</th>\n",
       "      <td>3</td>\n",
       "      <td>False</td>\n",
       "      <td>het</td>\n",
       "      <td>0.517500</td>\n",
       "      <td>1.000000</td>\n",
       "    </tr>\n",
       "  </tbody>\n",
       "</table>\n",
       "</div>"
      ],
      "text/plain": [
       "   location  light genotype  mean_activity  norm_mean_activity\n",
       "0         1  False      het       1.209667            1.000000\n",
       "1         1   True      het       4.075866            3.369413\n",
       "2         2  False       wt       0.542500            1.000000\n",
       "3         2   True       wt       6.136918           11.312290\n",
       "4         3  False      het       0.517500            1.000000"
      ]
     },
     "execution_count": 55,
     "metadata": {},
     "output_type": "execute_result"
    }
   ],
   "source": [
    "# Take a look\n",
    "df_mean.head()"
   ]
  },
  {
   "cell_type": "markdown",
   "metadata": {},
   "source": [
    "Now we can compare the median activity from day to night for each fish for each genotype. In this plot, the normalized mean activity at night is always 1. "
   ]
  },
  {
   "cell_type": "code",
   "execution_count": 56,
   "metadata": {},
   "outputs": [
    {
     "data": {
      "application/vnd.vegalite.v2+json": {
       "$schema": "https://vega.github.io/schema/vega-lite/v2.6.0.json",
       "config": {
        "view": {
         "height": 300,
         "width": 400
        }
       },
       "data": {
        "format": {
         "type": "json"
        },
        "url": "altair-data-26d845ec724ffe88fa97bb0e2253bd0d.json"
       },
       "encoding": {
        "color": {
         "field": "light",
         "sort": [
          true,
          false
         ],
         "type": "nominal"
        },
        "row": {
         "field": "genotype",
         "sort": [
          "wt",
          "het",
          "mut"
         ],
         "type": "nominal"
        },
        "x": {
         "field": "location",
         "title": "Location",
         "type": "quantitative"
        },
        "y": {
         "field": "norm_mean_activity",
         "title": "Normalized mean activity (s/min)",
         "type": "quantitative"
        }
       },
       "height": 250,
       "mark": "point",
       "width": 900
      },
      "image/png": "[encoded data removed]",
      "text/plain": [
       "<VegaLite 2 object>\n",
       "\n",
       "If you see this message, it means the renderer has not been properly enabled\n",
       "for the frontend that you are using. For more information, see\n",
       "https://altair-viz.github.io/user_guide/troubleshooting.html\n"
      ]
     },
     "execution_count": 56,
     "metadata": {},
     "output_type": "execute_result"
    }
   ],
   "source": [
    "# Plot the normalized mean activity for each location through light/dark cycle\n",
    "alt.Chart(df_mean, height=250, width=900\n",
    "         ).mark_point(\n",
    "         ).encode(\n",
    "             x=alt.X('location:Q', title='Location'),\n",
    "             y=alt.Y('norm_mean_activity:Q', title='Normalized mean activity (s/min)'),\n",
    "             color=alt.Color('light:N', sort=[True, False]),\n",
    "             row=alt.Row('genotype:N', sort=['wt', 'het', 'mut'])\n",
    "         )"
   ]
  },
  {
   "cell_type": "markdown",
   "metadata": {},
   "source": [
    "We can see that the mutant fishes have smaller normalized mean activities during the day, meaning that they are more active at night that the wild type or heterozygous zebrafish. "
   ]
  },
  {
   "cell_type": "markdown",
   "metadata": {},
   "source": [
    "Now let's plot the ECDF of the normalized mean activity."
   ]
  },
  {
   "cell_type": "code",
   "execution_count": 38,
   "metadata": {},
   "outputs": [
    {
     "data": {
      "application/vnd.vegalite.v2+json": {
       "$schema": "https://vega.github.io/schema/vega-lite/v2.6.0.json",
       "config": {
        "view": {
         "height": 300,
         "width": 400
        }
       },
       "data": {
        "format": {
         "type": "json"
        },
        "url": "altair-data-e65a4c94428ff48d9b611692d6c3afb4.json"
       },
       "encoding": {
        "color": {
         "field": "genotype",
         "scale": {},
         "sort": [
          "wt",
          "het",
          "mut"
         ],
         "type": "nominal"
        },
        "order": {
         "field": "norm_mean_activity",
         "sort": "ascending",
         "type": "quantitative"
        },
        "x": {
         "field": "norm_mean_activity",
         "scale": {
          "domain": [
           0,
           16
          ]
         },
         "title": "normalized mean activity (sec/min), wt",
         "type": "quantitative"
        },
        "y": {
         "field": "__ECDF",
         "title": "ECDF",
         "type": "quantitative"
        }
       },
       "mark": {
        "type": "line"
       }
      },
      "image/png": "[encoded data removed]",
      "text/plain": [
       "<VegaLite 2 object>\n",
       "\n",
       "If you see this message, it means the renderer has not been properly enabled\n",
       "for the frontend that you are using. For more information, see\n",
       "https://altair-viz.github.io/user_guide/troubleshooting.html\n"
      ]
     },
     "execution_count": 38,
     "metadata": {},
     "output_type": "execute_result"
    }
   ],
   "source": [
    "altcat.catplot(data=df_mean.loc[df_mean['light']==True, :],\n",
    "               mark='line',\n",
    "               encoding=dict(x=alt.X('norm_mean_activity:Q', \n",
    "                                     scale=alt.Scale(domain=[0,16]),\n",
    "                                     title='normalized mean activity (sec/min), wt'),\n",
    "                             color=alt.Color('genotype:N', sort=['wt', 'het', 'mut'])),\n",
    "               transform = 'ecdf')"
   ]
  },
  {
   "cell_type": "markdown",
   "metadata": {},
   "source": [
    "From the ECDF, we see that there is a greater percentage of mutant zebrafish with smaller normalized mean activity at all times compared to the wild-type and heterozygous fish. The ECDF indicates that the mutant fish are more active at night compared to the wild-type and heterzygotes, suggesting that they are not sleeping as well."
   ]
  },
  {
   "cell_type": "markdown",
   "metadata": {},
   "source": [
    "It may be more intuitive to be normalizing the activity at night by the activity during the day. In this case, a greater normalized mean activity would indicate more activity at night. We can do a check to see if we normalized the data differently, by dividing each fish's activity at night by their activity during the day, how the ECDF would look."
   ]
  },
  {
   "cell_type": "code",
   "execution_count": 26,
   "metadata": {},
   "outputs": [],
   "source": [
    "# Normalize day and night activity\n",
    "norm_day_activity = np.divide(day_activity, day_activity)\n",
    "norm_night_activity = np.divide(night_activity, day_activity)"
   ]
  },
  {
   "cell_type": "code",
   "execution_count": 27,
   "metadata": {},
   "outputs": [],
   "source": [
    "df_mean.loc[df_mean['light']==True, 'norm_mean_activity_by_day'] = norm_day_activity\n",
    "df_mean.loc[df_mean['light']==False, 'norm_mean_activity_by_day'] = norm_night_activity"
   ]
  },
  {
   "cell_type": "code",
   "execution_count": 37,
   "metadata": {},
   "outputs": [
    {
     "data": {
      "application/vnd.vegalite.v2+json": {
       "$schema": "https://vega.github.io/schema/vega-lite/v2.6.0.json",
       "config": {
        "view": {
         "height": 300,
         "width": 400
        }
       },
       "data": {
        "format": {
         "type": "json"
        },
        "url": "altair-data-83bc36416e0cbdea2020ed65b81d819f.json"
       },
       "encoding": {
        "color": {
         "field": "genotype",
         "scale": {},
         "sort": [
          "wt",
          "het",
          "mut"
         ],
         "type": "nominal"
        },
        "order": {
         "field": "norm_mean_activity_by_day",
         "sort": "ascending",
         "type": "quantitative"
        },
        "x": {
         "field": "norm_mean_activity_by_day",
         "scale": {
          "domain": [
           0,
           5.5
          ]
         },
         "title": "normalized mean activity (sec/min), wt",
         "type": "quantitative"
        },
        "y": {
         "field": "__ECDF",
         "title": "ECDF",
         "type": "quantitative"
        }
       },
       "mark": {
        "type": "line"
       }
      },
      "image/png": "[encoded data removed]",
      "text/plain": [
       "<VegaLite 2 object>\n",
       "\n",
       "If you see this message, it means the renderer has not been properly enabled\n",
       "for the frontend that you are using. For more information, see\n",
       "https://altair-viz.github.io/user_guide/troubleshooting.html\n"
      ]
     },
     "execution_count": 37,
     "metadata": {},
     "output_type": "execute_result"
    }
   ],
   "source": [
    "altcat.catplot(data=df_mean.loc[df_mean['light']==False, :],\n",
    "               mark='line',\n",
    "               encoding=dict(x=alt.X('norm_mean_activity_by_day:Q', \n",
    "                                     scale=alt.Scale(domain=[0,5.5]),\n",
    "                                     title='normalized mean activity (sec/min), wt'),\n",
    "                             color=alt.Color('genotype:N', sort=['wt', 'het', 'mut'])),\n",
    "               transform = 'ecdf')"
   ]
  },
  {
   "cell_type": "markdown",
   "metadata": {},
   "source": [
    "In this case, since a larger normalized mean activity means more activity at night, we see the same trend. The mutant fish are more active at night than the wild-type and heterogenous zebrafish."
   ]
  }
 ],
 "metadata": {
  "kernelspec": {
   "display_name": "Python 3",
   "language": "python",
   "name": "python3"
  },
  "language_info": {
   "codemirror_mode": {
    "name": "ipython",
    "version": 3
   },
   "file_extension": ".py",
   "mimetype": "text/x-python",
   "name": "python",
   "nbconvert_exporter": "python",
   "pygments_lexer": "ipython3",
   "version": "3.7.0"
  }
 },
 "nbformat": 4,
 "nbformat_minor": 2
}
