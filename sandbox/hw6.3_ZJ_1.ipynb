{
 "cells": [
  {
   "cell_type": "code",
   "execution_count": 240,
   "metadata": {},
   "outputs": [
    {
     "data": {
      "text/html": [
       "\n",
       "    <div class=\"bk-root\">\n",
       "        <a href=\"https://bokeh.pydata.org\" target=\"_blank\" class=\"bk-logo bk-logo-small bk-logo-notebook\"></a>\n",
       "        <span id=\"b4ac4518-62ae-4134-bfd2-fe0f945831fb\">Loading BokehJS ...</span>\n",
       "    </div>"
      ]
     },
     "metadata": {},
     "output_type": "display_data"
    },
    {
     "data": {
      "application/javascript": [
       "\n",
       "(function(root) {\n",
       "  function now() {\n",
       "    return new Date();\n",
       "  }\n",
       "\n",
       "  var force = true;\n",
       "\n",
       "  if (typeof (root._bokeh_onload_callbacks) === \"undefined\" || force === true) {\n",
       "    root._bokeh_onload_callbacks = [];\n",
       "    root._bokeh_is_loading = undefined;\n",
       "  }\n",
       "\n",
       "  var JS_MIME_TYPE = 'application/javascript';\n",
       "  var HTML_MIME_TYPE = 'text/html';\n",
       "  var EXEC_MIME_TYPE = 'application/vnd.bokehjs_exec.v0+json';\n",
       "  var CLASS_NAME = 'output_bokeh rendered_html';\n",
       "\n",
       "  /**\n",
       "   * Render data to the DOM node\n",
       "   */\n",
       "  function render(props, node) {\n",
       "    var script = document.createElement(\"script\");\n",
       "    node.appendChild(script);\n",
       "  }\n",
       "\n",
       "  /**\n",
       "   * Handle when an output is cleared or removed\n",
       "   */\n",
       "  function handleClearOutput(event, handle) {\n",
       "    var cell = handle.cell;\n",
       "\n",
       "    var id = cell.output_area._bokeh_element_id;\n",
       "    var server_id = cell.output_area._bokeh_server_id;\n",
       "    // Clean up Bokeh references\n",
       "    if (id != null && id in Bokeh.index) {\n",
       "      Bokeh.index[id].model.document.clear();\n",
       "      delete Bokeh.index[id];\n",
       "    }\n",
       "\n",
       "    if (server_id !== undefined) {\n",
       "      // Clean up Bokeh references\n",
       "      var cmd = \"from bokeh.io.state import curstate; print(curstate().uuid_to_server['\" + server_id + \"'].get_sessions()[0].document.roots[0]._id)\";\n",
       "      cell.notebook.kernel.execute(cmd, {\n",
       "        iopub: {\n",
       "          output: function(msg) {\n",
       "            var id = msg.content.text.trim();\n",
       "            if (id in Bokeh.index) {\n",
       "              Bokeh.index[id].model.document.clear();\n",
       "              delete Bokeh.index[id];\n",
       "            }\n",
       "          }\n",
       "        }\n",
       "      });\n",
       "      // Destroy server and session\n",
       "      var cmd = \"import bokeh.io.notebook as ion; ion.destroy_server('\" + server_id + \"')\";\n",
       "      cell.notebook.kernel.execute(cmd);\n",
       "    }\n",
       "  }\n",
       "\n",
       "  /**\n",
       "   * Handle when a new output is added\n",
       "   */\n",
       "  function handleAddOutput(event, handle) {\n",
       "    var output_area = handle.output_area;\n",
       "    var output = handle.output;\n",
       "\n",
       "    // limit handleAddOutput to display_data with EXEC_MIME_TYPE content only\n",
       "    if ((output.output_type != \"display_data\") || (!output.data.hasOwnProperty(EXEC_MIME_TYPE))) {\n",
       "      return\n",
       "    }\n",
       "\n",
       "    var toinsert = output_area.element.find(\".\" + CLASS_NAME.split(' ')[0]);\n",
       "\n",
       "    if (output.metadata[EXEC_MIME_TYPE][\"id\"] !== undefined) {\n",
       "      toinsert[toinsert.length - 1].firstChild.textContent = output.data[JS_MIME_TYPE];\n",
       "      // store reference to embed id on output_area\n",
       "      output_area._bokeh_element_id = output.metadata[EXEC_MIME_TYPE][\"id\"];\n",
       "    }\n",
       "    if (output.metadata[EXEC_MIME_TYPE][\"server_id\"] !== undefined) {\n",
       "      var bk_div = document.createElement(\"div\");\n",
       "      bk_div.innerHTML = output.data[HTML_MIME_TYPE];\n",
       "      var script_attrs = bk_div.children[0].attributes;\n",
       "      for (var i = 0; i < script_attrs.length; i++) {\n",
       "        toinsert[toinsert.length - 1].firstChild.setAttribute(script_attrs[i].name, script_attrs[i].value);\n",
       "      }\n",
       "      // store reference to server id on output_area\n",
       "      output_area._bokeh_server_id = output.metadata[EXEC_MIME_TYPE][\"server_id\"];\n",
       "    }\n",
       "  }\n",
       "\n",
       "  function register_renderer(events, OutputArea) {\n",
       "\n",
       "    function append_mime(data, metadata, element) {\n",
       "      // create a DOM node to render to\n",
       "      var toinsert = this.create_output_subarea(\n",
       "        metadata,\n",
       "        CLASS_NAME,\n",
       "        EXEC_MIME_TYPE\n",
       "      );\n",
       "      this.keyboard_manager.register_events(toinsert);\n",
       "      // Render to node\n",
       "      var props = {data: data, metadata: metadata[EXEC_MIME_TYPE]};\n",
       "      render(props, toinsert[toinsert.length - 1]);\n",
       "      element.append(toinsert);\n",
       "      return toinsert\n",
       "    }\n",
       "\n",
       "    /* Handle when an output is cleared or removed */\n",
       "    events.on('clear_output.CodeCell', handleClearOutput);\n",
       "    events.on('delete.Cell', handleClearOutput);\n",
       "\n",
       "    /* Handle when a new output is added */\n",
       "    events.on('output_added.OutputArea', handleAddOutput);\n",
       "\n",
       "    /**\n",
       "     * Register the mime type and append_mime function with output_area\n",
       "     */\n",
       "    OutputArea.prototype.register_mime_type(EXEC_MIME_TYPE, append_mime, {\n",
       "      /* Is output safe? */\n",
       "      safe: true,\n",
       "      /* Index of renderer in `output_area.display_order` */\n",
       "      index: 0\n",
       "    });\n",
       "  }\n",
       "\n",
       "  // register the mime type if in Jupyter Notebook environment and previously unregistered\n",
       "  if (root.Jupyter !== undefined) {\n",
       "    var events = require('base/js/events');\n",
       "    var OutputArea = require('notebook/js/outputarea').OutputArea;\n",
       "\n",
       "    if (OutputArea.prototype.mime_types().indexOf(EXEC_MIME_TYPE) == -1) {\n",
       "      register_renderer(events, OutputArea);\n",
       "    }\n",
       "  }\n",
       "\n",
       "  \n",
       "  if (typeof (root._bokeh_timeout) === \"undefined\" || force === true) {\n",
       "    root._bokeh_timeout = Date.now() + 5000;\n",
       "    root._bokeh_failed_load = false;\n",
       "  }\n",
       "\n",
       "  var NB_LOAD_WARNING = {'data': {'text/html':\n",
       "     \"<div style='background-color: #fdd'>\\n\"+\n",
       "     \"<p>\\n\"+\n",
       "     \"BokehJS does not appear to have successfully loaded. If loading BokehJS from CDN, this \\n\"+\n",
       "     \"may be due to a slow or bad network connection. Possible fixes:\\n\"+\n",
       "     \"</p>\\n\"+\n",
       "     \"<ul>\\n\"+\n",
       "     \"<li>re-rerun `output_notebook()` to attempt to load from CDN again, or</li>\\n\"+\n",
       "     \"<li>use INLINE resources instead, as so:</li>\\n\"+\n",
       "     \"</ul>\\n\"+\n",
       "     \"<code>\\n\"+\n",
       "     \"from bokeh.resources import INLINE\\n\"+\n",
       "     \"output_notebook(resources=INLINE)\\n\"+\n",
       "     \"</code>\\n\"+\n",
       "     \"</div>\"}};\n",
       "\n",
       "  function display_loaded() {\n",
       "    var el = document.getElementById(\"b4ac4518-62ae-4134-bfd2-fe0f945831fb\");\n",
       "    if (el != null) {\n",
       "      el.textContent = \"BokehJS is loading...\";\n",
       "    }\n",
       "    if (root.Bokeh !== undefined) {\n",
       "      if (el != null) {\n",
       "        el.textContent = \"BokehJS \" + root.Bokeh.version + \" successfully loaded.\";\n",
       "      }\n",
       "    } else if (Date.now() < root._bokeh_timeout) {\n",
       "      setTimeout(display_loaded, 100)\n",
       "    }\n",
       "  }\n",
       "\n",
       "\n",
       "  function run_callbacks() {\n",
       "    try {\n",
       "      root._bokeh_onload_callbacks.forEach(function(callback) { callback() });\n",
       "    }\n",
       "    finally {\n",
       "      delete root._bokeh_onload_callbacks\n",
       "    }\n",
       "    console.info(\"Bokeh: all callbacks have finished\");\n",
       "  }\n",
       "\n",
       "  function load_libs(js_urls, callback) {\n",
       "    root._bokeh_onload_callbacks.push(callback);\n",
       "    if (root._bokeh_is_loading > 0) {\n",
       "      console.log(\"Bokeh: BokehJS is being loaded, scheduling callback at\", now());\n",
       "      return null;\n",
       "    }\n",
       "    if (js_urls == null || js_urls.length === 0) {\n",
       "      run_callbacks();\n",
       "      return null;\n",
       "    }\n",
       "    console.log(\"Bokeh: BokehJS not loaded, scheduling load and callback at\", now());\n",
       "    root._bokeh_is_loading = js_urls.length;\n",
       "    for (var i = 0; i < js_urls.length; i++) {\n",
       "      var url = js_urls[i];\n",
       "      var s = document.createElement('script');\n",
       "      s.src = url;\n",
       "      s.async = false;\n",
       "      s.onreadystatechange = s.onload = function() {\n",
       "        root._bokeh_is_loading--;\n",
       "        if (root._bokeh_is_loading === 0) {\n",
       "          console.log(\"Bokeh: all BokehJS libraries loaded\");\n",
       "          run_callbacks()\n",
       "        }\n",
       "      };\n",
       "      s.onerror = function() {\n",
       "        console.warn(\"failed to load library \" + url);\n",
       "      };\n",
       "      console.log(\"Bokeh: injecting script tag for BokehJS library: \", url);\n",
       "      document.getElementsByTagName(\"head\")[0].appendChild(s);\n",
       "    }\n",
       "  };var element = document.getElementById(\"b4ac4518-62ae-4134-bfd2-fe0f945831fb\");\n",
       "  if (element == null) {\n",
       "    console.log(\"Bokeh: ERROR: autoload.js configured with elementid 'b4ac4518-62ae-4134-bfd2-fe0f945831fb' but no matching script tag was found. \")\n",
       "    return false;\n",
       "  }\n",
       "\n",
       "  var js_urls = [\"https://cdn.pydata.org/bokeh/release/bokeh-0.13.0.min.js\", \"https://cdn.pydata.org/bokeh/release/bokeh-widgets-0.13.0.min.js\", \"https://cdn.pydata.org/bokeh/release/bokeh-tables-0.13.0.min.js\", \"https://cdn.pydata.org/bokeh/release/bokeh-gl-0.13.0.min.js\"];\n",
       "\n",
       "  var inline_js = [\n",
       "    function(Bokeh) {\n",
       "      Bokeh.set_log_level(\"info\");\n",
       "    },\n",
       "    \n",
       "    function(Bokeh) {\n",
       "      \n",
       "    },\n",
       "    function(Bokeh) {\n",
       "      console.log(\"Bokeh: injecting CSS: https://cdn.pydata.org/bokeh/release/bokeh-0.13.0.min.css\");\n",
       "      Bokeh.embed.inject_css(\"https://cdn.pydata.org/bokeh/release/bokeh-0.13.0.min.css\");\n",
       "      console.log(\"Bokeh: injecting CSS: https://cdn.pydata.org/bokeh/release/bokeh-widgets-0.13.0.min.css\");\n",
       "      Bokeh.embed.inject_css(\"https://cdn.pydata.org/bokeh/release/bokeh-widgets-0.13.0.min.css\");\n",
       "      console.log(\"Bokeh: injecting CSS: https://cdn.pydata.org/bokeh/release/bokeh-tables-0.13.0.min.css\");\n",
       "      Bokeh.embed.inject_css(\"https://cdn.pydata.org/bokeh/release/bokeh-tables-0.13.0.min.css\");\n",
       "    }\n",
       "  ];\n",
       "\n",
       "  function run_inline_js() {\n",
       "    \n",
       "    if ((root.Bokeh !== undefined) || (force === true)) {\n",
       "      for (var i = 0; i < inline_js.length; i++) {\n",
       "        inline_js[i].call(root, root.Bokeh);\n",
       "      }if (force === true) {\n",
       "        display_loaded();\n",
       "      }} else if (Date.now() < root._bokeh_timeout) {\n",
       "      setTimeout(run_inline_js, 100);\n",
       "    } else if (!root._bokeh_failed_load) {\n",
       "      console.log(\"Bokeh: BokehJS failed to load within specified timeout.\");\n",
       "      root._bokeh_failed_load = true;\n",
       "    } else if (force !== true) {\n",
       "      var cell = $(document.getElementById(\"b4ac4518-62ae-4134-bfd2-fe0f945831fb\")).parents('.cell').data().cell;\n",
       "      cell.output_area.append_execute_result(NB_LOAD_WARNING)\n",
       "    }\n",
       "\n",
       "  }\n",
       "\n",
       "  if (root._bokeh_is_loading === 0) {\n",
       "    console.log(\"Bokeh: BokehJS loaded, going straight to plotting\");\n",
       "    run_inline_js();\n",
       "  } else {\n",
       "    load_libs(js_urls, function() {\n",
       "      console.log(\"Bokeh: BokehJS plotting callback run at\", now());\n",
       "      run_inline_js();\n",
       "    });\n",
       "  }\n",
       "}(window));"
      ],
      "application/vnd.bokehjs_load.v0+json": "\n(function(root) {\n  function now() {\n    return new Date();\n  }\n\n  var force = true;\n\n  if (typeof (root._bokeh_onload_callbacks) === \"undefined\" || force === true) {\n    root._bokeh_onload_callbacks = [];\n    root._bokeh_is_loading = undefined;\n  }\n\n  \n\n  \n  if (typeof (root._bokeh_timeout) === \"undefined\" || force === true) {\n    root._bokeh_timeout = Date.now() + 5000;\n    root._bokeh_failed_load = false;\n  }\n\n  var NB_LOAD_WARNING = {'data': {'text/html':\n     \"<div style='background-color: #fdd'>\\n\"+\n     \"<p>\\n\"+\n     \"BokehJS does not appear to have successfully loaded. If loading BokehJS from CDN, this \\n\"+\n     \"may be due to a slow or bad network connection. Possible fixes:\\n\"+\n     \"</p>\\n\"+\n     \"<ul>\\n\"+\n     \"<li>re-rerun `output_notebook()` to attempt to load from CDN again, or</li>\\n\"+\n     \"<li>use INLINE resources instead, as so:</li>\\n\"+\n     \"</ul>\\n\"+\n     \"<code>\\n\"+\n     \"from bokeh.resources import INLINE\\n\"+\n     \"output_notebook(resources=INLINE)\\n\"+\n     \"</code>\\n\"+\n     \"</div>\"}};\n\n  function display_loaded() {\n    var el = document.getElementById(\"b4ac4518-62ae-4134-bfd2-fe0f945831fb\");\n    if (el != null) {\n      el.textContent = \"BokehJS is loading...\";\n    }\n    if (root.Bokeh !== undefined) {\n      if (el != null) {\n        el.textContent = \"BokehJS \" + root.Bokeh.version + \" successfully loaded.\";\n      }\n    } else if (Date.now() < root._bokeh_timeout) {\n      setTimeout(display_loaded, 100)\n    }\n  }\n\n\n  function run_callbacks() {\n    try {\n      root._bokeh_onload_callbacks.forEach(function(callback) { callback() });\n    }\n    finally {\n      delete root._bokeh_onload_callbacks\n    }\n    console.info(\"Bokeh: all callbacks have finished\");\n  }\n\n  function load_libs(js_urls, callback) {\n    root._bokeh_onload_callbacks.push(callback);\n    if (root._bokeh_is_loading > 0) {\n      console.log(\"Bokeh: BokehJS is being loaded, scheduling callback at\", now());\n      return null;\n    }\n    if (js_urls == null || js_urls.length === 0) {\n      run_callbacks();\n      return null;\n    }\n    console.log(\"Bokeh: BokehJS not loaded, scheduling load and callback at\", now());\n    root._bokeh_is_loading = js_urls.length;\n    for (var i = 0; i < js_urls.length; i++) {\n      var url = js_urls[i];\n      var s = document.createElement('script');\n      s.src = url;\n      s.async = false;\n      s.onreadystatechange = s.onload = function() {\n        root._bokeh_is_loading--;\n        if (root._bokeh_is_loading === 0) {\n          console.log(\"Bokeh: all BokehJS libraries loaded\");\n          run_callbacks()\n        }\n      };\n      s.onerror = function() {\n        console.warn(\"failed to load library \" + url);\n      };\n      console.log(\"Bokeh: injecting script tag for BokehJS library: \", url);\n      document.getElementsByTagName(\"head\")[0].appendChild(s);\n    }\n  };var element = document.getElementById(\"b4ac4518-62ae-4134-bfd2-fe0f945831fb\");\n  if (element == null) {\n    console.log(\"Bokeh: ERROR: autoload.js configured with elementid 'b4ac4518-62ae-4134-bfd2-fe0f945831fb' but no matching script tag was found. \")\n    return false;\n  }\n\n  var js_urls = [\"https://cdn.pydata.org/bokeh/release/bokeh-0.13.0.min.js\", \"https://cdn.pydata.org/bokeh/release/bokeh-widgets-0.13.0.min.js\", \"https://cdn.pydata.org/bokeh/release/bokeh-tables-0.13.0.min.js\", \"https://cdn.pydata.org/bokeh/release/bokeh-gl-0.13.0.min.js\"];\n\n  var inline_js = [\n    function(Bokeh) {\n      Bokeh.set_log_level(\"info\");\n    },\n    \n    function(Bokeh) {\n      \n    },\n    function(Bokeh) {\n      console.log(\"Bokeh: injecting CSS: https://cdn.pydata.org/bokeh/release/bokeh-0.13.0.min.css\");\n      Bokeh.embed.inject_css(\"https://cdn.pydata.org/bokeh/release/bokeh-0.13.0.min.css\");\n      console.log(\"Bokeh: injecting CSS: https://cdn.pydata.org/bokeh/release/bokeh-widgets-0.13.0.min.css\");\n      Bokeh.embed.inject_css(\"https://cdn.pydata.org/bokeh/release/bokeh-widgets-0.13.0.min.css\");\n      console.log(\"Bokeh: injecting CSS: https://cdn.pydata.org/bokeh/release/bokeh-tables-0.13.0.min.css\");\n      Bokeh.embed.inject_css(\"https://cdn.pydata.org/bokeh/release/bokeh-tables-0.13.0.min.css\");\n    }\n  ];\n\n  function run_inline_js() {\n    \n    if ((root.Bokeh !== undefined) || (force === true)) {\n      for (var i = 0; i < inline_js.length; i++) {\n        inline_js[i].call(root, root.Bokeh);\n      }if (force === true) {\n        display_loaded();\n      }} else if (Date.now() < root._bokeh_timeout) {\n      setTimeout(run_inline_js, 100);\n    } else if (!root._bokeh_failed_load) {\n      console.log(\"Bokeh: BokehJS failed to load within specified timeout.\");\n      root._bokeh_failed_load = true;\n    } else if (force !== true) {\n      var cell = $(document.getElementById(\"b4ac4518-62ae-4134-bfd2-fe0f945831fb\")).parents('.cell').data().cell;\n      cell.output_area.append_execute_result(NB_LOAD_WARNING)\n    }\n\n  }\n\n  if (root._bokeh_is_loading === 0) {\n    console.log(\"Bokeh: BokehJS loaded, going straight to plotting\");\n    run_inline_js();\n  } else {\n    load_libs(js_urls, function() {\n      console.log(\"Bokeh: BokehJS plotting callback run at\", now());\n      run_inline_js();\n    });\n  }\n}(window));"
     },
     "metadata": {},
     "output_type": "display_data"
    }
   ],
   "source": [
    "import numpy as np\n",
    "import pandas as pd\n",
    "import scipy.special\n",
    "import scipy.stats as st\n",
    "import statsmodels.tools.numdiff as smnd\n",
    "\n",
    "import bebi103\n",
    "\n",
    "import altair as alt\n",
    "import bokeh.io\n",
    "bokeh.io.output_notebook()"
   ]
  },
  {
   "cell_type": "markdown",
   "metadata": {},
   "source": [
    "\\begin{align}\n",
    "I_\\mathrm{norm}(t) \\equiv I(t)/I_0 &= \n",
    "f_f\\left(1 - f_b\\,\\frac{4 \\mathrm{e}^{-k_\\mathrm{off}t}}{d_x d_y}\\,\\psi_x(t)\\,\\psi_y(t)\\right),\\\\[1mm]\n",
    "\\text{where } \\psi_i(t) &= \\frac{d_i}{2}\\,\\mathrm{erf}\\left(\\frac{d_i}{\\sqrt{4Dt}}\\right)\n",
    "-\\sqrt{\\frac{D t}{\\pi}}\\left(1 - \\mathrm{e}^{-d_i^2/4Dt}\\right),\n",
    "\\end{align}"
   ]
  },
  {
   "cell_type": "code",
   "execution_count": 157,
   "metadata": {},
   "outputs": [],
   "source": [
    "def fluo_bleach_psi(dx, D, t):\n",
    "    return dx / 2 * scipy.special.erf(dx / np.sqrt(4 * D * t)) - \\\n",
    "           np.sqrt(D * t / np.pi) * (1 - np.exp(-np.power(dx,2) / (4 * D * t)))\n",
    "\n",
    "def fluo_bleach_cal(t, f_b, f_f, k_off, D, dx=40*0.138, dy=40*0.138):\n",
    "    if t < 0:\n",
    "        return 1\n",
    "    elif t == 0:\n",
    "        return f_f * (1 - f_b)\n",
    "    else:\n",
    "        psi_x = fluo_bleach_psi(dx, D, t)\n",
    "        psi_y = fluo_bleach_psi(dy, D, t)\n",
    "        return f_f * (1 - f_b * (4 * np.exp(-1 * k_off * t)) / (dx * dy) * psi_x * psi_y)"
   ]
  },
  {
   "cell_type": "code",
   "execution_count": 22,
   "metadata": {},
   "outputs": [
    {
     "data": {
      "text/plain": [
       "0.08999999999999998"
      ]
     },
     "execution_count": 22,
     "metadata": {},
     "output_type": "execute_result"
    }
   ],
   "source": [
    "fluo_bleach_cal(0,0.9,0.9,1,1)"
   ]
  },
  {
   "cell_type": "code",
   "execution_count": 58,
   "metadata": {},
   "outputs": [],
   "source": [
    "def data_prior_pred(t, n_ppc_samples=1):\n",
    "    '''\n",
    "    Samples parameter values according to the prior and generates\n",
    "    data y at the values given in x.\n",
    "    '''\n",
    "    sigma = np.abs(np.random.normal(0, 0, size=n_ppc_samples))\n",
    "    i_0 = np.random.normal(1, sigma, size=n_ppc_samples)\n",
    "    k_off = np.random.lognormal(np.log(1), 0.5, size=n_ppc_samples)\n",
    "    D = np.random.lognormal(np.log(1), 0.75, size=n_ppc_samples)\n",
    "    fb = np.random.beta(6, 3, size=n_ppc_samples)\n",
    "    ff = np.random.beta(15, 2, size=n_ppc_samples)\n",
    "    data = np.array([np.random.normal(fluo_bleach_cal(t0, fb, ff, k_off, D),\n",
    "                                      sigma, size=1) \n",
    "                        for t0 in t])\n",
    "    return np.concatenate(data)"
   ]
  },
  {
   "cell_type": "code",
   "execution_count": 24,
   "metadata": {},
   "outputs": [
    {
     "data": {
      "text/html": [
       "<div>\n",
       "<style scoped>\n",
       "    .dataframe tbody tr th:only-of-type {\n",
       "        vertical-align: middle;\n",
       "    }\n",
       "\n",
       "    .dataframe tbody tr th {\n",
       "        vertical-align: top;\n",
       "    }\n",
       "\n",
       "    .dataframe thead th {\n",
       "        text-align: right;\n",
       "    }\n",
       "</style>\n",
       "<table border=\"1\" class=\"dataframe\">\n",
       "  <thead>\n",
       "    <tr style=\"text-align: right;\">\n",
       "      <th></th>\n",
       "      <th>mean_intensity</th>\n",
       "      <th>time</th>\n",
       "      <th>trial</th>\n",
       "      <th>normalized_intensity</th>\n",
       "    </tr>\n",
       "  </thead>\n",
       "  <tbody>\n",
       "    <tr>\n",
       "      <th>0</th>\n",
       "      <td>786.469375</td>\n",
       "      <td>-3.760</td>\n",
       "      <td>0</td>\n",
       "      <td>1.014676</td>\n",
       "    </tr>\n",
       "    <tr>\n",
       "      <th>1</th>\n",
       "      <td>766.556875</td>\n",
       "      <td>-3.572</td>\n",
       "      <td>0</td>\n",
       "      <td>0.988986</td>\n",
       "    </tr>\n",
       "    <tr>\n",
       "      <th>2</th>\n",
       "      <td>777.139375</td>\n",
       "      <td>-3.384</td>\n",
       "      <td>0</td>\n",
       "      <td>1.002639</td>\n",
       "    </tr>\n",
       "    <tr>\n",
       "      <th>3</th>\n",
       "      <td>787.697500</td>\n",
       "      <td>-3.196</td>\n",
       "      <td>0</td>\n",
       "      <td>1.016261</td>\n",
       "    </tr>\n",
       "    <tr>\n",
       "      <th>4</th>\n",
       "      <td>769.598750</td>\n",
       "      <td>-3.008</td>\n",
       "      <td>0</td>\n",
       "      <td>0.992910</td>\n",
       "    </tr>\n",
       "  </tbody>\n",
       "</table>\n",
       "</div>"
      ],
      "text/plain": [
       "   mean_intensity   time  trial  normalized_intensity\n",
       "0      786.469375 -3.760      0              1.014676\n",
       "1      766.556875 -3.572      0              0.988986\n",
       "2      777.139375 -3.384      0              1.002639\n",
       "3      787.697500 -3.196      0              1.016261\n",
       "4      769.598750 -3.008      0              0.992910"
      ]
     },
     "execution_count": 24,
     "metadata": {},
     "output_type": "execute_result"
    }
   ],
   "source": [
    "df = pd.read_csv('hw_4.1_frap_image_processing_results.csv')\n",
    "df.head()"
   ]
  },
  {
   "cell_type": "code",
   "execution_count": 23,
   "metadata": {},
   "outputs": [
    {
     "data": {
      "application/vnd.vegalite.v2+json": {
       "$schema": "https://vega.github.io/schema/vega-lite/v2.6.0.json",
       "config": {
        "view": {
         "height": 300,
         "width": 400
        }
       },
       "data": {
        "name": "data-71abff5d328e46e0dd0520011c39d72b"
       },
       "datasets": {
        "data-71abff5d328e46e0dd0520011c39d72b": [
         {
          "mean_intensity": 786.469375,
          "normalized_intensity": 1.0146760628665648,
          "time": -3.76,
          "trial": 0
         },
         {
          "mean_intensity": 766.556875,
          "normalized_intensity": 0.9889856320067102,
          "time": -3.572,
          "trial": 0
         },
         {
          "mean_intensity": 777.139375,
          "normalized_intensity": 1.0026388139062412,
          "time": -3.384,
          "trial": 0
         },
         {
          "mean_intensity": 787.6975,
          "normalized_intensity": 1.016260548009051,
          "time": -3.196,
          "trial": 0
         },
         {
          "mean_intensity": 769.59875,
          "normalized_intensity": 0.9929101557667512,
          "time": -3.008,
          "trial": 0
         },
         {
          "mean_intensity": 777.4,
          "normalized_intensity": 1.0029750634250283,
          "time": -2.82,
          "trial": 0
         },
         {
          "mean_intensity": 776.26375,
          "normalized_intensity": 1.0015091122855675,
          "time": -2.6319999999999997,
          "trial": 0
         },
         {
          "mean_intensity": 776.08375,
          "normalized_intensity": 1.0012768824020888,
          "time": -2.444,
          "trial": 0
         },
         {
          "mean_intensity": 779.788125,
          "normalized_intensity": 1.0060561411499342,
          "time": -2.256,
          "trial": 0
         },
         {
          "mean_intensity": 774.9125,
          "normalized_intensity": 0.9997657754519518,
          "time": -2.068,
          "trial": 0
         },
         {
          "mean_intensity": 766.118125,
          "normalized_intensity": 0.9884195716657304,
          "time": -1.88,
          "trial": 0
         },
         {
          "mean_intensity": 788.63375,
          "normalized_intensity": 1.017468465944646,
          "time": -1.692,
          "trial": 0
         },
         {
          "mean_intensity": 765.11875,
          "normalized_intensity": 0.9871302120001652,
          "time": -1.504,
          "trial": 0
         },
         {
          "mean_intensity": 772.9225,
          "normalized_intensity": 0.9971983450734904,
          "time": -1.3159999999999998,
          "trial": 0
         },
         {
          "mean_intensity": 780.805,
          "normalized_intensity": 1.0073680787208377,
          "time": -1.128,
          "trial": 0
         },
         {
          "mean_intensity": 771.124375,
          "normalized_intensity": 0.9948784652999876,
          "time": -0.94,
          "trial": 0
         },
         {
          "mean_intensity": 789.39375,
          "normalized_intensity": 1.018448992119335,
          "time": -0.752,
          "trial": 0
         },
         {
          "mean_intensity": 749.14,
          "normalized_intensity": 0.9665149717188394,
          "time": -0.5640000000000001,
          "trial": 0
         },
         {
          "mean_intensity": 771.620625,
          "normalized_intensity": 0.9955187101870788,
          "time": -0.376,
          "trial": 0
         },
         {
          "mean_intensity": 766.8225,
          "normalized_intensity": 0.9893283323555941,
          "time": -0.188,
          "trial": 0
         },
         {
          "mean_intensity": 136.94,
          "normalized_intensity": 0.17667533468667787,
          "time": 0,
          "trial": 0
         },
         {
          "mean_intensity": 188.10375,
          "normalized_intensity": 0.24268506635803405,
          "time": 0.188,
          "trial": 0
         },
         {
          "mean_intensity": 237.389375,
          "normalized_intensity": 0.3062717049743412,
          "time": 0.376,
          "trial": 0
         },
         {
          "mean_intensity": 278.89125,
          "normalized_intensity": 0.3598160138377096,
          "time": 0.5640000000000001,
          "trial": 0
         },
         {
          "mean_intensity": 312.275,
          "normalized_intensity": 0.4028865936854267,
          "time": 0.752,
          "trial": 0
         },
         {
          "mean_intensity": 351.315,
          "normalized_intensity": 0.4532546750799638,
          "time": 0.94,
          "trial": 0
         },
         {
          "mean_intensity": 378.07375,
          "normalized_intensity": 0.4877779050496376,
          "time": 1.128,
          "trial": 0
         },
         {
          "mean_intensity": 397.959375,
          "normalized_intensity": 0.5134336626977227,
          "time": 1.3159999999999998,
          "trial": 0
         },
         {
          "mean_intensity": 432.2325,
          "normalized_intensity": 0.5576516839488791,
          "time": 1.504,
          "trial": 0
         },
         {
          "mean_intensity": 447.341875,
          "normalized_intensity": 0.5771452861471522,
          "time": 1.692,
          "trial": 0
         },
         {
          "mean_intensity": 482.616875,
          "normalized_intensity": 0.6226558924789221,
          "time": 1.88,
          "trial": 0
         },
         {
          "mean_intensity": 503.11,
          "normalized_intensity": 0.6490954259837484,
          "time": 2.068,
          "trial": 0
         },
         {
          "mean_intensity": 518.034375,
          "normalized_intensity": 0.6683503474684459,
          "time": 2.256,
          "trial": 0
         },
         {
          "mean_intensity": 526.501875,
          "normalized_intensity": 0.6792748282370998,
          "time": 2.444,
          "trial": 0
         },
         {
          "mean_intensity": 547.42625,
          "normalized_intensity": 0.7062707458377611,
          "time": 2.6319999999999997,
          "trial": 0
         },
         {
          "mean_intensity": 541.081875,
          "normalized_intensity": 0.6980854487988915,
          "time": 2.82,
          "trial": 0
         },
         {
          "mean_intensity": 546.874375,
          "normalized_intensity": 0.7055587354658448,
          "time": 3.008,
          "trial": 0
         },
         {
          "mean_intensity": 583.546875,
          "normalized_intensity": 0.7528723488096245,
          "time": 3.196,
          "trial": 0
         },
         {
          "mean_intensity": 580.4775,
          "normalized_intensity": 0.7489123454840517,
          "time": 3.384,
          "trial": 0
         },
         {
          "mean_intensity": 592.01875,
          "normalized_intensity": 0.7638024740546128,
          "time": 3.572,
          "trial": 0
         },
         {
          "mean_intensity": 603.156875,
          "normalized_intensity": 0.7781725044486325,
          "time": 3.76,
          "trial": 0
         },
         {
          "mean_intensity": 619.029375,
          "normalized_intensity": 0.7986506645904047,
          "time": 3.948,
          "trial": 0
         },
         {
          "mean_intensity": 615.16375,
          "normalized_intensity": 0.7936633665719428,
          "time": 4.136,
          "trial": 0
         },
         {
          "mean_intensity": 616.634375,
          "normalized_intensity": 0.7955607169741159,
          "time": 4.324,
          "trial": 0
         },
         {
          "mean_intensity": 624.735625,
          "normalized_intensity": 0.8060126744381909,
          "time": 4.5120000000000005,
          "trial": 0
         },
         {
          "mean_intensity": 630.204375,
          "normalized_intensity": 0.8130682698563871,
          "time": 4.7,
          "trial": 0
         },
         {
          "mean_intensity": 625.81125,
          "normalized_intensity": 0.8074004092627299,
          "time": 4.888,
          "trial": 0
         },
         {
          "mean_intensity": 642.351875,
          "normalized_intensity": 0.8287405615761652,
          "time": 5.0760000000000005,
          "trial": 0
         },
         {
          "mean_intensity": 638.476875,
          "normalized_intensity": 0.823741168251272,
          "time": 5.263999999999999,
          "trial": 0
         },
         {
          "mean_intensity": 646.293125,
          "normalized_intensity": 0.8338254283998391,
          "time": 5.452000000000001,
          "trial": 0
         },
         {
          "mean_intensity": 654.61125,
          "normalized_intensity": 0.8445571906193556,
          "time": 5.64,
          "trial": 0
         },
         {
          "mean_intensity": 649.038125,
          "normalized_intensity": 0.8373669341228923,
          "time": 5.827999999999999,
          "trial": 0
         },
         {
          "mean_intensity": 659.26375,
          "normalized_intensity": 0.8505596880242757,
          "time": 6.016,
          "trial": 0
         },
         {
          "mean_intensity": 671.571875,
          "normalized_intensity": 0.8664392126609084,
          "time": 6.204,
          "trial": 0
         },
         {
          "mean_intensity": 664.469375,
          "normalized_intensity": 0.8572758085086364,
          "time": 6.392,
          "trial": 0
         },
         {
          "mean_intensity": 674.126875,
          "normalized_intensity": 0.8697355868402896,
          "time": 6.58,
          "trial": 0
         },
         {
          "mean_intensity": 684.63375,
          "normalized_intensity": 0.8832911999346089,
          "time": 6.768,
          "trial": 0
         },
         {
          "mean_intensity": 665.19625,
          "normalized_intensity": 0.8582135979339348,
          "time": 6.956,
          "trial": 0
         },
         {
          "mean_intensity": 666.08375,
          "normalized_intensity": 0.8593586202760879,
          "time": 7.144,
          "trial": 0
         },
         {
          "mean_intensity": 680.143125,
          "normalized_intensity": 0.8774975481540674,
          "time": 7.332000000000001,
          "trial": 0
         },
         {
          "mean_intensity": 677.24375,
          "normalized_intensity": 0.8737568730517803,
          "time": 7.52,
          "trial": 0
         },
         {
          "mean_intensity": 669.185625,
          "normalized_intensity": 0.8633605539972886,
          "time": 7.707999999999999,
          "trial": 0
         },
         {
          "mean_intensity": 692.639375,
          "normalized_intensity": 0.8936197852730858,
          "time": 7.896,
          "trial": 0
         },
         {
          "mean_intensity": 677.098125,
          "normalized_intensity": 0.8735689926252158,
          "time": 8.084,
          "trial": 0
         },
         {
          "mean_intensity": 681.778125,
          "normalized_intensity": 0.8796069695956675,
          "time": 8.272,
          "trial": 0
         },
         {
          "mean_intensity": 712.434375,
          "normalized_intensity": 0.9191586216256696,
          "time": 8.46,
          "trial": 0
         },
         {
          "mean_intensity": 700.606875,
          "normalized_intensity": 0.903899183032076,
          "time": 8.648,
          "trial": 0
         },
         {
          "mean_intensity": 686.571875,
          "normalized_intensity": 0.8857917029508175,
          "time": 8.836,
          "trial": 0
         },
         {
          "mean_intensity": 708.29125,
          "normalized_intensity": 0.913813302536844,
          "time": 9.024,
          "trial": 0
         },
         {
          "mean_intensity": 684.574375,
          "normalized_intensity": 0.8832145963272114,
          "time": 9.212,
          "trial": 0
         },
         {
          "mean_intensity": 703.098125,
          "normalized_intensity": 0.9071133091277249,
          "time": 9.4,
          "trial": 0
         },
         {
          "mean_intensity": 685.2525,
          "normalized_intensity": 0.8840894901590678,
          "time": 9.588,
          "trial": 0
         },
         {
          "mean_intensity": 701.4325,
          "normalized_intensity": 0.9049643763517832,
          "time": 9.776,
          "trial": 0
         },
         {
          "mean_intensity": 710.688125,
          "normalized_intensity": 0.9169056692144192,
          "time": 9.964,
          "trial": 0
         },
         {
          "mean_intensity": 706.396875,
          "normalized_intensity": 0.911369244283981,
          "time": 10.152000000000001,
          "trial": 0
         },
         {
          "mean_intensity": 696.079375,
          "normalized_intensity": 0.8980579563795718,
          "time": 10.34,
          "trial": 0
         },
         {
          "mean_intensity": 716.875,
          "normalized_intensity": 0.9248877651052446,
          "time": 10.527999999999999,
          "trial": 0
         },
         {
          "mean_intensity": 695.0075,
          "normalized_intensity": 0.8966750596776054,
          "time": 10.716,
          "trial": 0
         },
         {
          "mean_intensity": 705.43875,
          "normalized_intensity": 0.9101331039667132,
          "time": 10.904000000000002,
          "trial": 0
         },
         {
          "mean_intensity": 698.56375,
          "normalized_intensity": 0.9012632125838379,
          "time": 11.092,
          "trial": 0
         },
         {
          "mean_intensity": 706.0825,
          "normalized_intensity": 0.9109636483416548,
          "time": 11.28,
          "trial": 0
         },
         {
          "mean_intensity": 704.45125,
          "normalized_intensity": 0.9088590650226273,
          "time": 11.468,
          "trial": 0
         },
         {
          "mean_intensity": 724.563125,
          "normalized_intensity": 0.9348067227325852,
          "time": 11.655999999999999,
          "trial": 0
         },
         {
          "mean_intensity": 709.536875,
          "normalized_intensity": 0.9154203655846688,
          "time": 11.844000000000001,
          "trial": 0
         },
         {
          "mean_intensity": 716.79,
          "normalized_intensity": 0.9247781009936018,
          "time": 12.032,
          "trial": 0
         },
         {
          "mean_intensity": 729.60625,
          "normalized_intensity": 0.9413131912388052,
          "time": 12.22,
          "trial": 0
         },
         {
          "mean_intensity": 722.58625,
          "normalized_intensity": 0.9322562257831276,
          "time": 12.408,
          "trial": 0
         },
         {
          "mean_intensity": 718.1375,
          "normalized_intensity": 0.9265165997046454,
          "time": 12.595999999999998,
          "trial": 0
         },
         {
          "mean_intensity": 724.4825,
          "normalized_intensity": 0.9347027030972768,
          "time": 12.784,
          "trial": 0
         },
         {
          "mean_intensity": 727.495,
          "normalized_intensity": 0.9385893282305005,
          "time": 12.972000000000001,
          "trial": 0
         },
         {
          "mean_intensity": 733.1425,
          "normalized_intensity": 0.9458755408246512,
          "time": 13.16,
          "trial": 0
         },
         {
          "mean_intensity": 739.439375,
          "normalized_intensity": 0.9539995549776028,
          "time": 13.347999999999999,
          "trial": 0
         },
         {
          "mean_intensity": 741.853125,
          "normalized_intensity": 0.957113693206754,
          "time": 13.536,
          "trial": 0
         },
         {
          "mean_intensity": 739.12,
          "normalized_intensity": 0.95358750820518,
          "time": 13.724,
          "trial": 0
         },
         {
          "mean_intensity": 731.4925,
          "normalized_intensity": 0.943746766892761,
          "time": 13.912,
          "trial": 0
         },
         {
          "mean_intensity": 724.104375,
          "normalized_intensity": 0.9342148590712188,
          "time": 14.1,
          "trial": 0
         },
         {
          "mean_intensity": 722.691875,
          "normalized_intensity": 0.9323924995689191,
          "time": 14.288,
          "trial": 0
         },
         {
          "mean_intensity": 730.17375,
          "normalized_intensity": 0.9420453604547734,
          "time": 14.475999999999999,
          "trial": 0
         },
         {
          "mean_intensity": 745.434375,
          "normalized_intensity": 0.9617341002634696,
          "time": 14.664000000000001,
          "trial": 0
         },
         {
          "mean_intensity": 723.50125,
          "normalized_intensity": 0.933436727690812,
          "time": 14.852,
          "trial": 0
         },
         {
          "mean_intensity": 741.663125,
          "normalized_intensity": 0.9568685616630818,
          "time": 15.04,
          "trial": 0
         },
         {
          "mean_intensity": 730.761875,
          "normalized_intensity": 0.9428041393448902,
          "time": 15.228,
          "trial": 0
         },
         {
          "mean_intensity": 716.35375,
          "normalized_intensity": 0.9242152660676702,
          "time": 15.415999999999999,
          "trial": 0
         },
         {
          "mean_intensity": 731.870625,
          "normalized_intensity": 0.9442346109188192,
          "time": 15.604000000000001,
          "trial": 0
         },
         {
          "mean_intensity": 730.394375,
          "normalized_intensity": 0.9423300033327874,
          "time": 15.792,
          "trial": 0
         },
         {
          "mean_intensity": 724.560625,
          "normalized_intensity": 0.9348034973175368,
          "time": 15.98,
          "trial": 0
         },
         {
          "mean_intensity": 733.061875,
          "normalized_intensity": 0.9457715211893428,
          "time": 16.168,
          "trial": 0
         },
         {
          "mean_intensity": 732.389375,
          "normalized_intensity": 0.9449038845413452,
          "time": 16.355999999999998,
          "trial": 0
         },
         {
          "mean_intensity": 724.395625,
          "normalized_intensity": 0.934590619924348,
          "time": 16.544,
          "trial": 0
         },
         {
          "mean_intensity": 726.51625,
          "normalized_intensity": 0.9373265782390838,
          "time": 16.732,
          "trial": 0
         },
         {
          "mean_intensity": 731.390625,
          "normalized_intensity": 0.9436153312295422,
          "time": 16.92,
          "trial": 0
         },
         {
          "mean_intensity": 728.801875,
          "normalized_intensity": 0.9402754139470086,
          "time": 17.108,
          "trial": 0
         },
         {
          "mean_intensity": 732.945,
          "normalized_intensity": 0.9456207330358342,
          "time": 17.296,
          "trial": 0
         },
         {
          "mean_intensity": 721.8525,
          "normalized_intensity": 0.931309566466446,
          "time": 17.484,
          "trial": 0
         },
         {
          "mean_intensity": 736.44125,
          "normalized_intensity": 0.950131475980907,
          "time": 17.672,
          "trial": 0
         },
         {
          "mean_intensity": 727.445,
          "normalized_intensity": 0.938524819929534,
          "time": 17.86,
          "trial": 0
         },
         {
          "mean_intensity": 728.8625,
          "normalized_intensity": 0.9403536302619304,
          "time": 18.048,
          "trial": 0
         },
         {
          "mean_intensity": 735.091875,
          "normalized_intensity": 0.9483905582085772,
          "time": 18.236,
          "trial": 0
         },
         {
          "mean_intensity": 727.844375,
          "normalized_intensity": 0.9390400799835028,
          "time": 18.424,
          "trial": 0
         },
         {
          "mean_intensity": 731.679375,
          "normalized_intensity": 0.9439878666676229,
          "time": 18.612000000000002,
          "trial": 0
         },
         {
          "mean_intensity": 739.206875,
          "normalized_intensity": 0.953699591378109,
          "time": 18.8,
          "trial": 0
         },
         {
          "mean_intensity": 735.738125,
          "normalized_intensity": 0.9492243279985676,
          "time": 18.988,
          "trial": 0
         },
         {
          "mean_intensity": 726.17,
          "normalized_intensity": 0.9368798582548916,
          "time": 19.176,
          "trial": 0
         },
         {
          "mean_intensity": 723.824375,
          "normalized_intensity": 0.9338536125858072,
          "time": 19.364,
          "trial": 0
         },
         {
          "mean_intensity": 735.7775,
          "normalized_intensity": 0.9492751282855786,
          "time": 19.552,
          "trial": 0
         },
         {
          "mean_intensity": 717.255625,
          "normalized_intensity": 0.9253788345463512,
          "time": 19.74,
          "trial": 0
         },
         {
          "mean_intensity": 727.921875,
          "normalized_intensity": 0.9391400678500008,
          "time": 19.928,
          "trial": 0
         },
         {
          "mean_intensity": 722.760625,
          "normalized_intensity": 0.9324811984827478,
          "time": 20.116,
          "trial": 0
         },
         {
          "mean_intensity": 712.4975,
          "normalized_intensity": 0.9192400633556392,
          "time": 20.304000000000002,
          "trial": 0
         },
         {
          "mean_intensity": 743.363125,
          "normalized_intensity": 0.959061843895938,
          "time": 20.491999999999997,
          "trial": 0
         },
         {
          "mean_intensity": 718.23375,
          "normalized_intensity": 0.9266407781840056,
          "time": 20.68,
          "trial": 0
         },
         {
          "mean_intensity": 723.73,
          "normalized_intensity": 0.9337318531677332,
          "time": 20.868000000000002,
          "trial": 0
         },
         {
          "mean_intensity": 715.3225,
          "normalized_intensity": 0.9228847823602391,
          "time": 21.055999999999997,
          "trial": 0
         },
         {
          "mean_intensity": 726.3175,
          "normalized_intensity": 0.9370701577427424,
          "time": 21.244,
          "trial": 0
         },
         {
          "mean_intensity": 724.66375,
          "normalized_intensity": 0.93493654568828,
          "time": 21.432,
          "trial": 0
         },
         {
          "mean_intensity": 725.6925,
          "normalized_intensity": 0.9362638039806628,
          "time": 21.62,
          "trial": 0
         },
         {
          "mean_intensity": 708.10875,
          "normalized_intensity": 0.9135778472383168,
          "time": 21.808000000000003,
          "trial": 0
         },
         {
          "mean_intensity": 721.524375,
          "normalized_intensity": 0.9308862307413543,
          "time": 21.996,
          "trial": 0
         },
         {
          "mean_intensity": 732.7475,
          "normalized_intensity": 0.9453659252470168,
          "time": 22.184,
          "trial": 0
         },
         {
          "mean_intensity": 733.448125,
          "normalized_intensity": 0.946269847814308,
          "time": 22.372,
          "trial": 0
         },
         {
          "mean_intensity": 733.143125,
          "normalized_intensity": 0.9458763471784132,
          "time": 22.56,
          "trial": 0
         },
         {
          "mean_intensity": 710.148125,
          "normalized_intensity": 0.9162089795639824,
          "time": 22.748,
          "trial": 0
         },
         {
          "mean_intensity": 729.175,
          "normalized_intensity": 0.9407568071429702,
          "time": 22.936,
          "trial": 0
         },
         {
          "mean_intensity": 728.990625,
          "normalized_intensity": 0.9405189327831568,
          "time": 23.124000000000002,
          "trial": 0
         },
         {
          "mean_intensity": 735.233125,
          "normalized_intensity": 0.9485727941588072,
          "time": 23.311999999999998,
          "trial": 0
         },
         {
          "mean_intensity": 729.79125,
          "normalized_intensity": 0.9415518719523808,
          "time": 23.5,
          "trial": 0
         },
         {
          "mean_intensity": 732.0325,
          "normalized_intensity": 0.944443456543198,
          "time": 23.688000000000002,
          "trial": 0
         },
         {
          "mean_intensity": 718.12375,
          "normalized_intensity": 0.9264988599218796,
          "time": 23.875999999999998,
          "trial": 0
         },
         {
          "mean_intensity": 730.946875,
          "normalized_intensity": 0.9430428200584656,
          "time": 24.064,
          "trial": 0
         },
         {
          "mean_intensity": 821.160625,
          "normalized_intensity": 0.998396696189486,
          "time": -3.76,
          "trial": 1
         },
         {
          "mean_intensity": 824.9875,
          "normalized_intensity": 1.00304954879884,
          "time": -3.572,
          "trial": 1
         },
         {
          "mean_intensity": 825.654375,
          "normalized_intensity": 1.003860359469129,
          "time": -3.384,
          "trial": 1
         },
         {
          "mean_intensity": 827.68375,
          "normalized_intensity": 1.0063277467666258,
          "time": -3.196,
          "trial": 1
         },
         {
          "mean_intensity": 815.91,
          "normalized_intensity": 0.9920127969944532,
          "time": -3.008,
          "trial": 1
         },
         {
          "mean_intensity": 819.8525,
          "normalized_intensity": 0.9968062306478594,
          "time": -2.82,
          "trial": 1
         },
         {
          "mean_intensity": 819.174375,
          "normalized_intensity": 0.9959817418219328,
          "time": -2.6319999999999997,
          "trial": 1
         },
         {
          "mean_intensity": 833.220625,
          "normalized_intensity": 1.0130596790328794,
          "time": -2.444,
          "trial": 1
         },
         {
          "mean_intensity": 813.368125,
          "normalized_intensity": 0.9889222937179152,
          "time": -2.256,
          "trial": 1
         },
         {
          "mean_intensity": 825.63375,
          "normalized_intensity": 1.0038352828504604,
          "time": -2.068,
          "trial": 1
         },
         {
          "mean_intensity": 806.486875,
          "normalized_intensity": 0.9805558218529816,
          "time": -1.88,
          "trial": 1
         },
         {
          "mean_intensity": 833.905,
          "normalized_intensity": 1.01389176683416,
          "time": -1.692,
          "trial": 1
         },
         {
          "mean_intensity": 824.063125,
          "normalized_intensity": 1.0019256603439592,
          "time": -1.504,
          "trial": 1
         },
         {
          "mean_intensity": 821.0775,
          "normalized_intensity": 0.9982956298172756,
          "time": -1.3159999999999998,
          "trial": 1
         },
         {
          "mean_intensity": 827.018125,
          "normalized_intensity": 1.0055184558914076,
          "time": -1.128,
          "trial": 1
         },
         {
          "mean_intensity": 823.2725,
          "normalized_intensity": 1.0009643899616576,
          "time": -0.94,
          "trial": 1
         },
         {
          "mean_intensity": 825.0725,
          "normalized_intensity": 1.0031528948636566,
          "time": -0.752,
          "trial": 1
         },
         {
          "mean_intensity": 817.898125,
          "normalized_intensity": 0.9944300310546128,
          "time": -0.5640000000000001,
          "trial": 1
         },
         {
          "mean_intensity": 821.6675,
          "normalized_intensity": 0.9990129730907086,
          "time": -0.376,
          "trial": 1
         },
         {
          "mean_intensity": 808.9875,
          "normalized_intensity": 0.983596171892182,
          "time": -0.188,
          "trial": 1
         },
         {
          "mean_intensity": 151.8375,
          "normalized_intensity": 0.18460950725404188,
          "time": 0,
          "trial": 1
         },
         {
          "mean_intensity": 206.44375,
          "normalized_intensity": 0.2510017549233661,
          "time": 0.188,
          "trial": 1
         },
         {
          "mean_intensity": 256.061875,
          "normalized_intensity": 0.3113292603625327,
          "time": 0.376,
          "trial": 1
         },
         {
          "mean_intensity": 298.758125,
          "normalized_intensity": 0.3632409005969636,
          "time": 0.5640000000000001,
          "trial": 1
         },
         {
          "mean_intensity": 339.63875,
          "normalized_intensity": 0.4129450384910099,
          "time": 0.752,
          "trial": 1
         },
         {
          "mean_intensity": 380.483125,
          "normalized_intensity": 0.4626051023280021,
          "time": 0.94,
          "trial": 1
         },
         {
          "mean_intensity": 412.946875,
          "normalized_intensity": 0.5020757001125968,
          "time": 1.128,
          "trial": 1
         },
         {
          "mean_intensity": 432.404375,
          "normalized_intensity": 0.5257328301851779,
          "time": 1.3159999999999998,
          "trial": 1
         },
         {
          "mean_intensity": 473.730625,
          "normalized_intensity": 0.575978775021976,
          "time": 1.504,
          "trial": 1
         },
         {
          "mean_intensity": 482.653125,
          "normalized_intensity": 0.5868270722375795,
          "time": 1.692,
          "trial": 1
         },
         {
          "mean_intensity": 500.54625,
          "normalized_intensity": 0.6085821787790134,
          "time": 1.88,
          "trial": 1
         },
         {
          "mean_intensity": 517.33625,
          "normalized_intensity": 0.6289960661704376,
          "time": 2.068,
          "trial": 1
         },
         {
          "mean_intensity": 545.19375,
          "normalized_intensity": 0.6628662191190141,
          "time": 2.256,
          "trial": 1
         },
         {
          "mean_intensity": 544.66125,
          "normalized_intensity": 0.6622187864188394,
          "time": 2.444,
          "trial": 1
         },
         {
          "mean_intensity": 554.889375,
          "normalized_intensity": 0.6746545095859274,
          "time": 2.6319999999999997,
          "trial": 1
         },
         {
          "mean_intensity": 579.839375,
          "normalized_intensity": 0.7049896191997472,
          "time": 2.82,
          "trial": 1
         },
         {
          "mean_intensity": 584.19875,
          "normalized_intensity": 0.7102899045092761,
          "time": 3.008,
          "trial": 1
         },
         {
          "mean_intensity": 596.878125,
          "normalized_intensity": 0.7257059458102669,
          "time": 3.196,
          "trial": 1
         },
         {
          "mean_intensity": 606.435,
          "normalized_intensity": 0.737325539024318,
          "time": 3.384,
          "trial": 1
         },
         {
          "mean_intensity": 611.484375,
          "normalized_intensity": 0.7434647512129465,
          "time": 3.572,
          "trial": 1
         },
         {
          "mean_intensity": 623.280625,
          "normalized_intensity": 0.7578070572963942,
          "time": 3.76,
          "trial": 1
         },
         {
          "mean_intensity": 644.29375,
          "normalized_intensity": 0.7833555723346265,
          "time": 3.948,
          "trial": 1
         },
         {
          "mean_intensity": 635.058125,
          "normalized_intensity": 0.7721265664537794,
          "time": 4.136,
          "trial": 1
         },
         {
          "mean_intensity": 650.500625,
          "normalized_intensity": 0.790902114758846,
          "time": 4.324,
          "trial": 1
         },
         {
          "mean_intensity": 652.33625,
          "normalized_intensity": 0.7931339338203637,
          "time": 4.5120000000000005,
          "trial": 1
         },
         {
          "mean_intensity": 674.4375,
          "normalized_intensity": 0.8200054304677558,
          "time": 4.7,
          "trial": 1
         },
         {
          "mean_intensity": 671.154375,
          "normalized_intensity": 0.8160136887142138,
          "time": 4.888,
          "trial": 1
         },
         {
          "mean_intensity": 678.16375,
          "normalized_intensity": 0.824535939573908,
          "time": 5.0760000000000005,
          "trial": 1
         },
         {
          "mean_intensity": 685.9375,
          "normalized_intensity": 0.8339875451194162,
          "time": 5.263999999999999,
          "trial": 1
         },
         {
          "mean_intensity": 693.080625,
          "normalized_intensity": 0.8426724140516894,
          "time": 5.452000000000001,
          "trial": 1
         },
         {
          "mean_intensity": 703.851875,
          "normalized_intensity": 0.8557684881770542,
          "time": 5.64,
          "trial": 1
         },
         {
          "mean_intensity": 687.960625,
          "normalized_intensity": 0.8364473334415589,
          "time": 5.827999999999999,
          "trial": 1
         },
         {
          "mean_intensity": 710.53,
          "normalized_intensity": 0.8638879933429776,
          "time": 6.016,
          "trial": 1
         },
         {
          "mean_intensity": 709.5125,
          "normalized_intensity": 0.86265088015532,
          "time": 6.204,
          "trial": 1
         },
         {
          "mean_intensity": 712.169375,
          "normalized_intensity": 0.8658812045783747,
          "time": 6.392,
          "trial": 1
         },
         {
          "mean_intensity": 730.683125,
          "normalized_intensity": 0.8883908893724771,
          "time": 6.58,
          "trial": 1
         },
         {
          "mean_intensity": 714.03125,
          "normalized_intensity": 0.8681449393363799,
          "time": 6.768,
          "trial": 1
         },
         {
          "mean_intensity": 712.9625,
          "normalized_intensity": 0.866845514550818,
          "time": 6.956,
          "trial": 1
         },
         {
          "mean_intensity": 723.441875,
          "normalized_intensity": 0.8795867165271435,
          "time": 7.144,
          "trial": 1
         },
         {
          "mean_intensity": 725.6375,
          "normalized_intensity": 0.8822562365690612,
          "time": 7.332000000000001,
          "trial": 1
         },
         {
          "mean_intensity": 725.56375,
          "normalized_intensity": 0.8821665686598821,
          "time": 7.52,
          "trial": 1
         },
         {
          "mean_intensity": 731.133125,
          "normalized_intensity": 0.8889380155979768,
          "time": 7.707999999999999,
          "trial": 1
         },
         {
          "mean_intensity": 739.50375,
          "normalized_intensity": 0.8991153232898076,
          "time": 7.896,
          "trial": 1
         },
         {
          "mean_intensity": 727.46125,
          "normalized_intensity": 0.8844736175774058,
          "time": 8.084,
          "trial": 1
         },
         {
          "mean_intensity": 733.66875,
          "normalized_intensity": 0.8920209198991609,
          "time": 8.272,
          "trial": 1
         },
         {
          "mean_intensity": 729.68375,
          "normalized_intensity": 0.8871758132133464,
          "time": 8.46,
          "trial": 1
         },
         {
          "mean_intensity": 736.08375,
          "normalized_intensity": 0.8949571639760096,
          "time": 8.648,
          "trial": 1
         },
         {
          "mean_intensity": 731.074375,
          "normalized_intensity": 0.8888665852296478,
          "time": 8.836,
          "trial": 1
         },
         {
          "mean_intensity": 742.8275,
          "normalized_intensity": 0.9031564583831516,
          "time": 9.024,
          "trial": 1
         },
         {
          "mean_intensity": 734.369375,
          "normalized_intensity": 0.8928727650363626,
          "time": 9.212,
          "trial": 1
         },
         {
          "mean_intensity": 748.908125,
          "normalized_intensity": 0.9105495015052172,
          "time": 9.4,
          "trial": 1
         },
         {
          "mean_intensity": 733.955,
          "normalized_intensity": 0.8923689529703815,
          "time": 9.588,
          "trial": 1
         },
         {
          "mean_intensity": 748.729375,
          "normalized_intensity": 0.9103321708100881,
          "time": 9.776,
          "trial": 1
         },
         {
          "mean_intensity": 738.34375,
          "normalized_intensity": 0.8977049534640749,
          "time": 9.964,
          "trial": 1
         },
         {
          "mean_intensity": 749.273125,
          "normalized_intensity": 0.9109932816659004,
          "time": 10.152000000000001,
          "trial": 1
         },
         {
          "mean_intensity": 766.355625,
          "normalized_intensity": 0.9317628011038992,
          "time": 10.34,
          "trial": 1
         },
         {
          "mean_intensity": 749.9975,
          "normalized_intensity": 0.9118740029094476,
          "time": 10.527999999999999,
          "trial": 1
         },
         {
          "mean_intensity": 757.86,
          "normalized_intensity": 0.9214335139049852,
          "time": 10.716,
          "trial": 1
         },
         {
          "mean_intensity": 762.798125,
          "normalized_intensity": 0.9274374643323096,
          "time": 10.904000000000002,
          "trial": 1
         },
         {
          "mean_intensity": 752.68125,
          "normalized_intensity": 0.9151370029265254,
          "time": 11.092,
          "trial": 1
         },
         {
          "mean_intensity": 757.27625,
          "normalized_intensity": 0.9207237696069064,
          "time": 11.28,
          "trial": 1
         },
         {
          "mean_intensity": 761.79,
          "normalized_intensity": 0.9262117496076828,
          "time": 11.468,
          "trial": 1
         },
         {
          "mean_intensity": 745.69125,
          "normalized_intensity": 0.9066383088904292,
          "time": 11.655999999999999,
          "trial": 1
         },
         {
          "mean_intensity": 751.801875,
          "normalized_intensity": 0.9140678270941948,
          "time": 11.844000000000001,
          "trial": 1
         },
         {
          "mean_intensity": 755.98125,
          "normalized_intensity": 0.9191492619135238,
          "time": 12.032,
          "trial": 1
         },
         {
          "mean_intensity": 760.421875,
          "normalized_intensity": 0.9245483339026568,
          "time": 12.22,
          "trial": 1
         },
         {
          "mean_intensity": 754.460625,
          "normalized_intensity": 0.9173004312098558,
          "time": 12.408,
          "trial": 1
         },
         {
          "mean_intensity": 758.176875,
          "normalized_intensity": 0.9218187819554412,
          "time": 12.595999999999998,
          "trial": 1
         },
         {
          "mean_intensity": 749.6625,
          "normalized_intensity": 0.9114666978304646,
          "time": 12.784,
          "trial": 1
         },
         {
          "mean_intensity": 764.4325,
          "normalized_intensity": 0.9294245963874233,
          "time": 12.972000000000001,
          "trial": 1
         },
         {
          "mean_intensity": 784.548125,
          "normalized_intensity": 0.9538818985647975,
          "time": 13.16,
          "trial": 1
         },
         {
          "mean_intensity": 781.62125,
          "normalized_intensity": 0.950323298406443,
          "time": 13.347999999999999,
          "trial": 1
         },
         {
          "mean_intensity": 774.18375,
          "normalized_intensity": 0.9412805177349888,
          "time": 13.536,
          "trial": 1
         },
         {
          "mean_intensity": 758.248125,
          "normalized_intensity": 0.9219054102744786,
          "time": 13.724,
          "trial": 1
         },
         {
          "mean_intensity": 771.82,
          "normalized_intensity": 0.9384065852560444,
          "time": 13.912,
          "trial": 1
         },
         {
          "mean_intensity": 761.095625,
          "normalized_intensity": 0.9253675034458356,
          "time": 14.1,
          "trial": 1
         },
         {
          "mean_intensity": 757.99875,
          "normalized_intensity": 0.9216022111578476,
          "time": 14.288,
          "trial": 1
         },
         {
          "mean_intensity": 774.061875,
          "normalized_intensity": 0.9411323377155824,
          "time": 14.475999999999999,
          "trial": 1
         },
         {
          "mean_intensity": 776.023125,
          "normalized_intensity": 0.9435168961817192,
          "time": 14.664000000000001,
          "trial": 1
         },
         {
          "mean_intensity": 775.75625,
          "normalized_intensity": 0.9431924199340962,
          "time": 14.852,
          "trial": 1
         },
         {
          "mean_intensity": 776.485625,
          "normalized_intensity": 0.9440792203579269,
          "time": 15.04,
          "trial": 1
         },
         {
          "mean_intensity": 762.89625,
          "normalized_intensity": 0.92755676824537,
          "time": 15.228,
          "trial": 1
         },
         {
          "mean_intensity": 770.696875,
          "normalized_intensity": 0.937041049384901,
          "time": 15.415999999999999,
          "trial": 1
         },
         {
          "mean_intensity": 772.88125,
          "normalized_intensity": 0.9396968912711812,
          "time": 15.604000000000001,
          "trial": 1
         },
         {
          "mean_intensity": 764.25,
          "normalized_intensity": 0.9292027063070816,
          "time": 15.792,
          "trial": 1
         },
         {
          "mean_intensity": 773.948125,
          "normalized_intensity": 0.9409940363641368,
          "time": 15.98,
          "trial": 1
         },
         {
          "mean_intensity": 774.03375,
          "normalized_intensity": 0.9410981423264888,
          "time": 16.168,
          "trial": 1
         },
         {
          "mean_intensity": 776.97375,
          "normalized_intensity": 0.9446727003330871,
          "time": 16.355999999999998,
          "trial": 1
         },
         {
          "mean_intensity": 775.206875,
          "normalized_intensity": 0.9425244700004652,
          "time": 16.544,
          "trial": 1
         },
         {
          "mean_intensity": 775.821875,
          "normalized_intensity": 0.9432722091753148,
          "time": 16.732,
          "trial": 1
         },
         {
          "mean_intensity": 771.103125,
          "normalized_intensity": 0.9375349827829216,
          "time": 16.92,
          "trial": 1
         },
         {
          "mean_intensity": 790.163125,
          "normalized_intensity": 0.960708818022978,
          "time": 17.108,
          "trial": 1
         },
         {
          "mean_intensity": 801.778125,
          "normalized_intensity": 0.9748307538211548,
          "time": 17.296,
          "trial": 1
         },
         {
          "mean_intensity": 771.631875,
          "normalized_intensity": 0.9381778560978838,
          "time": 17.484,
          "trial": 1
         },
         {
          "mean_intensity": 788.579375,
          "normalized_intensity": 0.9587832376682328,
          "time": 17.672,
          "trial": 1
         },
         {
          "mean_intensity": 781.506875,
          "normalized_intensity": 0.9501842371574618,
          "time": 17.86,
          "trial": 1
         },
         {
          "mean_intensity": 813.878125,
          "normalized_intensity": 0.9895423701068148,
          "time": 18.048,
          "trial": 1
         },
         {
          "mean_intensity": 792.829375,
          "normalized_intensity": 0.9639505409090641,
          "time": 18.236,
          "trial": 1
         },
         {
          "mean_intensity": 801.765,
          "normalized_intensity": 0.9748147959729112,
          "time": 18.424,
          "trial": 1
         },
         {
          "mean_intensity": 784.645,
          "normalized_intensity": 0.9539996826827872,
          "time": 18.612000000000002,
          "trial": 1
         },
         {
          "mean_intensity": 789.333125,
          "normalized_intensity": 0.9596996740959448,
          "time": 18.8,
          "trial": 1
         },
         {
          "mean_intensity": 794.93375,
          "normalized_intensity": 0.9665091159108108,
          "time": 18.988,
          "trial": 1
         },
         {
          "mean_intensity": 810.236875,
          "normalized_intensity": 0.9851152070654794,
          "time": 19.176,
          "trial": 1
         },
         {
          "mean_intensity": 803.61875,
          "normalized_intensity": 0.977068652062956,
          "time": 19.364,
          "trial": 1
         },
         {
          "mean_intensity": 799.831875,
          "normalized_intensity": 0.9724644328958684,
          "time": 19.552,
          "trial": 1
         },
         {
          "mean_intensity": 786.174375,
          "normalized_intensity": 0.9558591519519508,
          "time": 19.74,
          "trial": 1
         },
         {
          "mean_intensity": 785.600625,
          "normalized_intensity": 0.9551615660144388,
          "time": 19.928,
          "trial": 1
         },
         {
          "mean_intensity": 788.025625,
          "normalized_intensity": 0.958109968451854,
          "time": 20.116,
          "trial": 1
         },
         {
          "mean_intensity": 787.836875,
          "normalized_intensity": 0.9578804793961584,
          "time": 20.304000000000002,
          "trial": 1
         },
         {
          "mean_intensity": 795.735625,
          "normalized_intensity": 0.9674840644487498,
          "time": 20.491999999999997,
          "trial": 1
         },
         {
          "mean_intensity": 796.773125,
          "normalized_intensity": 0.9687454943575409,
          "time": 20.68,
          "trial": 1
         },
         {
          "mean_intensity": 807.120625,
          "normalized_intensity": 0.9813263579538936,
          "time": 20.868000000000002,
          "trial": 1
         },
         {
          "mean_intensity": 805.891875,
          "normalized_intensity": 0.9798323993992653,
          "time": 21.055999999999997,
          "trial": 1
         },
         {
          "mean_intensity": 784.841875,
          "normalized_intensity": 0.9542390504064432,
          "time": 21.244,
          "trial": 1
         },
         {
          "mean_intensity": 792.665,
          "normalized_intensity": 0.9637506878572494,
          "time": 21.432,
          "trial": 1
         },
         {
          "mean_intensity": 786.855,
          "normalized_intensity": 0.9566866803680192,
          "time": 21.62,
          "trial": 1
         },
         {
          "mean_intensity": 787.078125,
          "normalized_intensity": 0.9569579637881628,
          "time": 21.808000000000003,
          "trial": 1
         },
         {
          "mean_intensity": 785.97,
          "normalized_intensity": 0.9556106654578698,
          "time": 21.996,
          "trial": 1
         },
         {
          "mean_intensity": 790.991875,
          "normalized_intensity": 0.9617164421549399,
          "time": 22.184,
          "trial": 1
         },
         {
          "mean_intensity": 803.205,
          "normalized_intensity": 0.9765655998945104,
          "time": 22.372,
          "trial": 1
         },
         {
          "mean_intensity": 791.638125,
          "normalized_intensity": 0.9625021762065604,
          "time": 22.56,
          "trial": 1
         },
         {
          "mean_intensity": 799.54875,
          "normalized_intensity": 0.9721201993123249,
          "time": 22.748,
          "trial": 1
         },
         {
          "mean_intensity": 800.015625,
          "normalized_intensity": 0.9726878427712808,
          "time": 22.936,
          "trial": 1
         },
         {
          "mean_intensity": 800.8775,
          "normalized_intensity": 0.9737357414726199,
          "time": 23.124000000000002,
          "trial": 1
         },
         {
          "mean_intensity": 796.168125,
          "normalized_intensity": 0.968009913543258,
          "time": 23.311999999999998,
          "trial": 1
         },
         {
          "mean_intensity": 795.39875,
          "normalized_intensity": 0.9670744796771604,
          "time": 23.5,
          "trial": 1
         },
         {
          "mean_intensity": 807.72625,
          "normalized_intensity": 0.982062698665712,
          "time": 23.688000000000002,
          "trial": 1
         },
         {
          "mean_intensity": 802.24625,
          "normalized_intensity": 0.9753999170751816,
          "time": 23.875999999999998,
          "trial": 1
         },
         {
          "mean_intensity": 807.32875,
          "normalized_intensity": 0.9815794038331872,
          "time": 24.064,
          "trial": 1
         },
         {
          "mean_intensity": 810.249375,
          "normalized_intensity": 1.0255393707730964,
          "time": -3.76,
          "trial": 2
         },
         {
          "mean_intensity": 826.65875,
          "normalized_intensity": 1.0463088531466926,
          "time": -3.572,
          "trial": 2
         },
         {
          "mean_intensity": 802.165,
          "normalized_intensity": 1.015306910117889,
          "time": -3.384,
          "trial": 2
         },
         {
          "mean_intensity": 794.301875,
          "normalized_intensity": 1.0053544874272695,
          "time": -3.196,
          "trial": 2
         },
         {
          "mean_intensity": 783.63375,
          "normalized_intensity": 0.9918517529144184,
          "time": -3.008,
          "trial": 2
         },
         {
          "mean_intensity": 787.311875,
          "normalized_intensity": 0.9965071863087666,
          "time": -2.82,
          "trial": 2
         },
         {
          "mean_intensity": 807.14625,
          "normalized_intensity": 1.0216117196595975,
          "time": -2.6319999999999997,
          "trial": 2
         },
         {
          "mean_intensity": 787.38,
          "normalized_intensity": 0.9965934126876934,
          "time": -2.444,
          "trial": 2
         },
         {
          "mean_intensity": 773.6325,
          "normalized_intensity": 0.9791930876338134,
          "time": -2.256,
          "trial": 2
         },
         {
          "mean_intensity": 803.484375,
          "normalized_intensity": 1.0169768540253603,
          "time": -2.068,
          "trial": 2
         },
         {
          "mean_intensity": 784.35375,
          "normalized_intensity": 0.9927630629008736,
          "time": -1.88,
          "trial": 2
         },
         {
          "mean_intensity": 791.14125,
          "normalized_intensity": 1.001354058085686,
          "time": -1.692,
          "trial": 2
         },
         {
          "mean_intensity": 785.72375,
          "normalized_intensity": 0.9944970832917676,
          "time": -1.504,
          "trial": 2
         },
         {
          "mean_intensity": 768.499375,
          "normalized_intensity": 0.9726960486418368,
          "time": -1.3159999999999998,
          "trial": 2
         },
         {
          "mean_intensity": 782.3625,
          "normalized_intensity": 0.9902427212195832,
          "time": -1.128,
          "trial": 2
         },
         {
          "mean_intensity": 778.698125,
          "normalized_intensity": 0.9856046913145596,
          "time": -0.94,
          "trial": 2
         },
         {
          "mean_intensity": 782.506875,
          "normalized_intensity": 0.9904254578574924,
          "time": -0.752,
          "trial": 2
         },
         {
          "mean_intensity": 777.585,
          "normalized_intensity": 0.9841957997469584,
          "time": -0.5640000000000001,
          "trial": 2
         },
         {
          "mean_intensity": 784.523125,
          "normalized_intensity": 0.9929774422466456,
          "time": -0.376,
          "trial": 2
         },
         {
          "mean_intensity": 788.893125,
          "normalized_intensity": 0.9985085875811032,
          "time": -0.188,
          "trial": 2
         },
         {
          "mean_intensity": 135.678125,
          "normalized_intensity": 0.1717289309111451,
          "time": 0,
          "trial": 2
         },
         {
          "mean_intensity": 192.09625,
          "normalized_intensity": 0.24313782081334084,
          "time": 0.188,
          "trial": 2
         },
         {
          "mean_intensity": 242.7925,
          "normalized_intensity": 0.3073044859533857,
          "time": 0.376,
          "trial": 2
         },
         {
          "mean_intensity": 285.046875,
          "normalized_intensity": 0.3607861997157819,
          "time": 0.5640000000000001,
          "trial": 2
         },
         {
          "mean_intensity": 329.238125,
          "normalized_intensity": 0.4167194322698664,
          "time": 0.752,
          "trial": 2
         },
         {
          "mean_intensity": 362.225,
          "normalized_intensity": 0.4584711942274376,
          "time": 0.94,
          "trial": 2
         },
         {
          "mean_intensity": 389.834375,
          "normalized_intensity": 0.493416609723671,
          "time": 1.128,
          "trial": 2
         },
         {
          "mean_intensity": 426.30375,
          "normalized_intensity": 0.5395762008865621,
          "time": 1.3159999999999998,
          "trial": 2
         },
         {
          "mean_intensity": 439.635,
          "normalized_intensity": 0.5564496748545227,
          "time": 1.504,
          "trial": 2
         },
         {
          "mean_intensity": 473.59,
          "normalized_intensity": 0.5994268006740896,
          "time": 1.692,
          "trial": 2
         },
         {
          "mean_intensity": 496.650625,
          "normalized_intensity": 0.6286148254746449,
          "time": 1.88,
          "trial": 2
         },
         {
          "mean_intensity": 494.111875,
          "normalized_intensity": 0.6254015084911542,
          "time": 2.068,
          "trial": 2
         },
         {
          "mean_intensity": 515.59125,
          "normalized_intensity": 0.6525881320193726,
          "time": 2.256,
          "trial": 2
         },
         {
          "mean_intensity": 541.98,
          "normalized_intensity": 0.6859885923041937,
          "time": 2.444,
          "trial": 2
         },
         {
          "mean_intensity": 543.426875,
          "normalized_intensity": 0.6878199140217666,
          "time": 2.6319999999999997,
          "trial": 2
         },
         {
          "mean_intensity": 561.90625,
          "normalized_intensity": 0.7112094126064216,
          "time": 2.82,
          "trial": 2
         },
         {
          "mean_intensity": 577.554375,
          "normalized_intensity": 0.7310153745255885,
          "time": 3.008,
          "trial": 2
         },
         {
          "mean_intensity": 577.9225,
          "normalized_intensity": 0.7314813133988716,
          "time": 3.196,
          "trial": 2
         },
         {
          "mean_intensity": 571.19125,
          "normalized_intensity": 0.7229615143067507,
          "time": 3.384,
          "trial": 2
         },
         {
          "mean_intensity": 580.57375,
          "normalized_intensity": 0.7348370225677459,
          "time": 3.572,
          "trial": 2
         },
         {
          "mean_intensity": 601.121875,
          "normalized_intensity": 0.7608449552280666,
          "time": 3.76,
          "trial": 2
         },
         {
          "mean_intensity": 605.065,
          "normalized_intensity": 0.7658358013257629,
          "time": 3.948,
          "trial": 2
         },
         {
          "mean_intensity": 608.82375,
          "normalized_intensity": 0.7705932824529694,
          "time": 4.136,
          "trial": 2
         },
         {
          "mean_intensity": 633.0825,
          "normalized_intensity": 0.8012977840278602,
          "time": 4.324,
          "trial": 2
         },
         {
          "mean_intensity": 636.3375,
          "normalized_intensity": 0.8054176645916268,
          "time": 4.5120000000000005,
          "trial": 2
         },
         {
          "mean_intensity": 621.9325,
          "normalized_intensity": 0.7871851363209491,
          "time": 4.7,
          "trial": 2
         },
         {
          "mean_intensity": 646.735,
          "normalized_intensity": 0.8185778667918608,
          "time": 4.888,
          "trial": 2
         },
         {
          "mean_intensity": 666.045,
          "normalized_intensity": 0.8430186943452649,
          "time": 5.0760000000000005,
          "trial": 2
         },
         {
          "mean_intensity": 676.946875,
          "normalized_intensity": 0.8568172881766356,
          "time": 5.263999999999999,
          "trial": 2
         },
         {
          "mean_intensity": 675.50125,
          "normalized_intensity": 0.8549875485944559,
          "time": 5.452000000000001,
          "trial": 2
         },
         {
          "mean_intensity": 668.4975,
          "normalized_intensity": 0.8461228439866281,
          "time": 5.64,
          "trial": 2
         },
         {
          "mean_intensity": 690.6625,
          "normalized_intensity": 0.8741772687779904,
          "time": 5.827999999999999,
          "trial": 2
         },
         {
          "mean_intensity": 688.42875,
          "normalized_intensity": 0.8713499928304287,
          "time": 6.016,
          "trial": 2
         },
         {
          "mean_intensity": 688.141875,
          "normalized_intensity": 0.8709868927577004,
          "time": 6.204,
          "trial": 2
         },
         {
          "mean_intensity": 678.959375,
          "normalized_intensity": 0.8593645261596096,
          "time": 6.392,
          "trial": 2
         },
         {
          "mean_intensity": 688.146875,
          "normalized_intensity": 0.8709932212992729,
          "time": 6.58,
          "trial": 2
         },
         {
          "mean_intensity": 687.989375,
          "normalized_intensity": 0.8707938722397359,
          "time": 6.768,
          "trial": 2
         },
         {
          "mean_intensity": 699.99,
          "normalized_intensity": 0.8859831630816867,
          "time": 6.956,
          "trial": 2
         },
         {
          "mean_intensity": 698.686875,
          "normalized_intensity": 0.8843337869343263,
          "time": 7.144,
          "trial": 2
         },
         {
          "mean_intensity": 695.016875,
          "normalized_intensity": 0.8796886374200336,
          "time": 7.332000000000001,
          "trial": 2
         },
         {
          "mean_intensity": 707.5075,
          "normalized_intensity": 0.8954981253360998,
          "time": 7.52,
          "trial": 2
         },
         {
          "mean_intensity": 717.405625,
          "normalized_intensity": 0.9080262644467698,
          "time": 7.707999999999999,
          "trial": 2
         },
         {
          "mean_intensity": 707.3225,
          "normalized_intensity": 0.8952639692979133,
          "time": 7.896,
          "trial": 2
         },
         {
          "mean_intensity": 710.078125,
          "normalized_intensity": 0.8987517867721158,
          "time": 8.084,
          "trial": 2
         },
         {
          "mean_intensity": 727.28125,
          "normalized_intensity": 0.9205259251203632,
          "time": 8.272,
          "trial": 2
         },
         {
          "mean_intensity": 716.34625,
          "normalized_intensity": 0.9066854047010741,
          "time": 8.46,
          "trial": 2
         },
         {
          "mean_intensity": 714.415625,
          "normalized_intensity": 0.9042417965863514,
          "time": 8.648,
          "trial": 2
         },
         {
          "mean_intensity": 736.335,
          "normalized_intensity": 0.9319853317729594,
          "time": 8.836,
          "trial": 2
         },
         {
          "mean_intensity": 745.583125,
          "normalized_intensity": 0.9436907604791904,
          "time": 9.024,
          "trial": 2
         },
         {
          "mean_intensity": 723.133125,
          "normalized_intensity": 0.9152756088181898,
          "time": 9.212,
          "trial": 2
         },
         {
          "mean_intensity": 717.34875,
          "normalized_intensity": 0.9079542772863812,
          "time": 9.4,
          "trial": 2
         },
         {
          "mean_intensity": 719.085625,
          "normalized_intensity": 0.9101526544151656,
          "time": 9.588,
          "trial": 2
         },
         {
          "mean_intensity": 713.505625,
          "normalized_intensity": 0.9030900020201372,
          "time": 9.776,
          "trial": 2
         },
         {
          "mean_intensity": 722.535625,
          "normalized_intensity": 0.9145193481002636,
          "time": 9.964,
          "trial": 2
         },
         {
          "mean_intensity": 730.054375,
          "normalized_intensity": 0.9240358924900698,
          "time": 10.152000000000001,
          "trial": 2
         },
         {
          "mean_intensity": 736.928125,
          "normalized_intensity": 0.9327360550170096,
          "time": 10.34,
          "trial": 2
         },
         {
          "mean_intensity": 731.255625,
          "normalized_intensity": 0.9255563246028884,
          "time": 10.527999999999999,
          "trial": 2
         },
         {
          "mean_intensity": 725.108125,
          "normalized_intensity": 0.9177753827393692,
          "time": 10.716,
          "trial": 2
         },
         {
          "mean_intensity": 737.84875,
          "normalized_intensity": 0.9339012977340656,
          "time": 10.904000000000002,
          "trial": 2
         },
         {
          "mean_intensity": 735.445,
          "normalized_intensity": 0.9308588513730356,
          "time": 11.092,
          "trial": 2
         },
         {
          "mean_intensity": 734.25,
          "normalized_intensity": 0.9293463299371828,
          "time": 11.28,
          "trial": 2
         },
         {
          "mean_intensity": 741.025625,
          "normalized_intensity": 0.9379222948357604,
          "time": 11.468,
          "trial": 2
         },
         {
          "mean_intensity": 743.566875,
          "normalized_intensity": 0.9411387760900372,
          "time": 11.655999999999999,
          "trial": 2
         },
         {
          "mean_intensity": 736.62625,
          "normalized_intensity": 0.9323539693195636,
          "time": 11.844000000000001,
          "trial": 2
         },
         {
          "mean_intensity": 728.349375,
          "normalized_intensity": 0.9218778598138112,
          "time": 12.032,
          "trial": 2
         },
         {
          "mean_intensity": 748.381875,
          "normalized_intensity": 0.9472331616244568,
          "time": 12.22,
          "trial": 2
         },
         {
          "mean_intensity": 741.3025,
          "normalized_intensity": 0.9382727378253434,
          "time": 12.408,
          "trial": 2
         },
         {
          "mean_intensity": 751.225,
          "normalized_intensity": 0.9508317285761798,
          "time": 12.595999999999998,
          "trial": 2
         },
         {
          "mean_intensity": 746.906875,
          "normalized_intensity": 0.945366241860538,
          "time": 12.784,
          "trial": 2
         },
         {
          "mean_intensity": 757.873125,
          "normalized_intensity": 0.959246315664656,
          "time": 12.972000000000001,
          "trial": 2
         },
         {
          "mean_intensity": 751.581875,
          "normalized_intensity": 0.9512834282309244,
          "time": 13.16,
          "trial": 2
         },
         {
          "mean_intensity": 743.814375,
          "normalized_intensity": 0.9414520388978812,
          "time": 13.347999999999999,
          "trial": 2
         },
         {
          "mean_intensity": 739.25875,
          "normalized_intensity": 0.9356859464575406,
          "time": 13.536,
          "trial": 2
         },
         {
          "mean_intensity": 754.710625,
          "normalized_intensity": 0.9552435131199828,
          "time": 13.724,
          "trial": 2
         },
         {
          "mean_intensity": 753.206875,
          "normalized_intensity": 0.9533402042420216,
          "time": 13.912,
          "trial": 2
         },
         {
          "mean_intensity": 742.714375,
          "normalized_intensity": 0.940059759751908,
          "time": 14.1,
          "trial": 2
         },
         {
          "mean_intensity": 744.765,
          "normalized_intensity": 0.9426552528643728,
          "time": 14.288,
          "trial": 2
         },
         {
          "mean_intensity": 751.4225,
          "normalized_intensity": 0.9510817059682978,
          "time": 14.475999999999999,
          "trial": 2
         },
         {
          "mean_intensity": 755.685,
          "normalized_intensity": 0.9564767876589444,
          "time": 14.664000000000001,
          "trial": 2
         },
         {
          "mean_intensity": 755.369375,
          "normalized_intensity": 0.9560772984721736,
          "time": 14.852,
          "trial": 2
         },
         {
          "mean_intensity": 765.82,
          "normalized_intensity": 0.9693047414266166,
          "time": 15.04,
          "trial": 2
         },
         {
          "mean_intensity": 755.239375,
          "normalized_intensity": 0.9559127563912858,
          "time": 15.228,
          "trial": 2
         },
         {
          "mean_intensity": 765.26875,
          "normalized_intensity": 0.9686070197182368,
          "time": 15.415999999999999,
          "trial": 2
         },
         {
          "mean_intensity": 763.86375,
          "normalized_intensity": 0.9668286995363344,
          "time": 15.604000000000001,
          "trial": 2
         },
         {
          "mean_intensity": 752.81125,
          "normalized_intensity": 0.9528394583900891,
          "time": 15.792,
          "trial": 2
         },
         {
          "mean_intensity": 755.296875,
          "normalized_intensity": 0.9559855346193707,
          "time": 15.98,
          "trial": 2
         },
         {
          "mean_intensity": 755.668125,
          "normalized_intensity": 0.9564554288311368,
          "time": 16.168,
          "trial": 2
         },
         {
          "mean_intensity": 772.74875,
          "normalized_intensity": 0.9780745179108552,
          "time": 16.355999999999998,
          "trial": 2
         },
         {
          "mean_intensity": 762.428125,
          "normalized_intensity": 0.9650116170373,
          "time": 16.544,
          "trial": 2
         },
         {
          "mean_intensity": 757.3925,
          "normalized_intensity": 0.9586379846059891,
          "time": 16.732,
          "trial": 2
         },
         {
          "mean_intensity": 765.2575,
          "normalized_intensity": 0.9685927804996984,
          "time": 16.92,
          "trial": 2
         },
         {
          "mean_intensity": 741.606875,
          "normalized_intensity": 0.9386579877935756,
          "time": 17.108,
          "trial": 2
         },
         {
          "mean_intensity": 748.94375,
          "normalized_intensity": 0.9479443314836784,
          "time": 17.296,
          "trial": 2
         },
         {
          "mean_intensity": 762.491875,
          "normalized_intensity": 0.9650923059423508,
          "time": 17.484,
          "trial": 2
         },
         {
          "mean_intensity": 763.08125,
          "normalized_intensity": 0.9658382827802215,
          "time": 17.672,
          "trial": 2
         },
         {
          "mean_intensity": 758.67,
          "normalized_intensity": 0.96025492697779,
          "time": 17.86,
          "trial": 2
         },
         {
          "mean_intensity": 763.634375,
          "normalized_intensity": 0.9665383776916912,
          "time": 18.048,
          "trial": 2
         },
         {
          "mean_intensity": 771.129375,
          "normalized_intensity": 0.9760248615090276,
          "time": 18.236,
          "trial": 2
         },
         {
          "mean_intensity": 756.504375,
          "normalized_intensity": 0.9575138774091552,
          "time": 18.424,
          "trial": 2
         },
         {
          "mean_intensity": 784.87875,
          "normalized_intensity": 0.9934275597659972,
          "time": 18.612000000000002,
          "trial": 2
         },
         {
          "mean_intensity": 760.80875,
          "normalized_intensity": 0.9629619606354722,
          "time": 18.8,
          "trial": 2
         },
         {
          "mean_intensity": 756.1175,
          "normalized_intensity": 0.9570242065049748,
          "time": 18.988,
          "trial": 2
         },
         {
          "mean_intensity": 766.67375,
          "normalized_intensity": 0.9703853399001392,
          "time": 19.176,
          "trial": 2
         },
         {
          "mean_intensity": 768.350625,
          "normalized_intensity": 0.9725077745300518,
          "time": 19.364,
          "trial": 2
         },
         {
          "mean_intensity": 765.406875,
          "normalized_intensity": 0.96878184567918,
          "time": 19.552,
          "trial": 2
         },
         {
          "mean_intensity": 753.148125,
          "normalized_intensity": 0.9532658438785434,
          "time": 19.74,
          "trial": 2
         },
         {
          "mean_intensity": 774.9025,
          "normalized_intensity": 0.9808005371932552,
          "time": 19.928,
          "trial": 2
         },
         {
          "mean_intensity": 766.7925,
          "normalized_intensity": 0.9705356427624884,
          "time": 20.116,
          "trial": 2
         },
         {
          "mean_intensity": 762.475625,
          "normalized_intensity": 0.9650717381822398,
          "time": 20.304000000000002,
          "trial": 2
         },
         {
          "mean_intensity": 751.578125,
          "normalized_intensity": 0.9512786818247452,
          "time": 20.491999999999997,
          "trial": 2
         },
         {
          "mean_intensity": 782.64375,
          "normalized_intensity": 0.9905987016830424,
          "time": 20.68,
          "trial": 2
         },
         {
          "mean_intensity": 761.14,
          "normalized_intensity": 0.9633812265146574,
          "time": 20.868000000000002,
          "trial": 2
         },
         {
          "mean_intensity": 773.668125,
          "normalized_intensity": 0.9792381784925182,
          "time": 21.055999999999997,
          "trial": 2
         },
         {
          "mean_intensity": 784.815625,
          "normalized_intensity": 0.9933476619286432,
          "time": 21.244,
          "trial": 2
         },
         {
          "mean_intensity": 756.4375,
          "normalized_intensity": 0.9574292331656216,
          "time": 21.432,
          "trial": 2
         },
         {
          "mean_intensity": 753.311875,
          "normalized_intensity": 0.9534731036150462,
          "time": 21.62,
          "trial": 2
         },
         {
          "mean_intensity": 749.608125,
          "normalized_intensity": 0.9487852364451383,
          "time": 21.808000000000003,
          "trial": 2
         },
         {
          "mean_intensity": 771.64625,
          "normalized_intensity": 0.9766790744940956,
          "time": 21.996,
          "trial": 2
         },
         {
          "mean_intensity": 763.09125,
          "normalized_intensity": 0.9658509398633668,
          "time": 22.184,
          "trial": 2
         },
         {
          "mean_intensity": 763.246875,
          "normalized_intensity": 0.9660479157198144,
          "time": 22.372,
          "trial": 2
         },
         {
          "mean_intensity": 764.281875,
          "normalized_intensity": 0.9673579238253436,
          "time": 22.56,
          "trial": 2
         },
         {
          "mean_intensity": 762.51875,
          "normalized_intensity": 0.9651263218533034,
          "time": 22.748,
          "trial": 2
         },
         {
          "mean_intensity": 772.10625,
          "normalized_intensity": 0.9772613003187754,
          "time": 22.936,
          "trial": 2
         },
         {
          "mean_intensity": 765.00625,
          "normalized_intensity": 0.9682747712856751,
          "time": 23.124000000000002,
          "trial": 2
         },
         {
          "mean_intensity": 768.380625,
          "normalized_intensity": 0.9725457457794874,
          "time": 23.311999999999998,
          "trial": 2
         },
         {
          "mean_intensity": 757.1875,
          "normalized_intensity": 0.9583785144015124,
          "time": 23.5,
          "trial": 2
         },
         {
          "mean_intensity": 766.315625,
          "normalized_intensity": 0.9699320581100009,
          "time": 23.688000000000002,
          "trial": 2
         },
         {
          "mean_intensity": 766.011875,
          "normalized_intensity": 0.9695475992094652,
          "time": 23.875999999999998,
          "trial": 2
         },
         {
          "mean_intensity": 761.150625,
          "normalized_intensity": 0.9633946746654992,
          "time": 24.064,
          "trial": 2
         },
         {
          "mean_intensity": 706.668125,
          "normalized_intensity": 1.0190881772890992,
          "time": -3.76,
          "trial": 3
         },
         {
          "mean_intensity": 692.625,
          "normalized_intensity": 0.998836545506934,
          "time": -3.572,
          "trial": 3
         },
         {
          "mean_intensity": 718.435,
          "normalized_intensity": 1.0360572222649689,
          "time": -3.384,
          "trial": 3
         },
         {
          "mean_intensity": 693.25875,
          "normalized_intensity": 0.9997504782421296,
          "time": -3.196,
          "trial": 3
         },
         {
          "mean_intensity": 692.574375,
          "normalized_intensity": 0.9987635390458384,
          "time": -3.008,
          "trial": 3
         },
         {
          "mean_intensity": 687.740625,
          "normalized_intensity": 0.9917927739827176,
          "time": -2.82,
          "trial": 3
         },
         {
          "mean_intensity": 695.673125,
          "normalized_intensity": 1.0032322555163522,
          "time": -2.6319999999999997,
          "trial": 3
         },
         {
          "mean_intensity": 704.601875,
          "normalized_intensity": 1.0161084320992,
          "time": -2.444,
          "trial": 3
         },
         {
          "mean_intensity": 705.943125,
          "normalized_intensity": 1.0180426526610642,
          "time": -2.256,
          "trial": 3
         },
         {
          "mean_intensity": 688.579375,
          "normalized_intensity": 0.9930023378196334,
          "time": -2.068,
          "trial": 3
         },
         {
          "mean_intensity": 698.86375,
          "normalized_intensity": 1.0078334651940393,
          "time": -1.88,
          "trial": 3
         },
         {
          "mean_intensity": 688.150625,
          "normalized_intensity": 0.9923840361861576,
          "time": -1.692,
          "trial": 3
         },
         {
          "mean_intensity": 682.2575,
          "normalized_intensity": 0.983885543326038,
          "time": -1.504,
          "trial": 3
         },
         {
          "mean_intensity": 695.949375,
          "normalized_intensity": 1.0036306364522067,
          "time": -1.3159999999999998,
          "trial": 3
         },
         {
          "mean_intensity": 682.0325,
          "normalized_intensity": 0.9835610701656132,
          "time": -1.128,
          "trial": 3
         },
         {
          "mean_intensity": 684.423125,
          "normalized_intensity": 0.9870085974951244,
          "time": -0.94,
          "trial": 3
         },
         {
          "mean_intensity": 694.07375,
          "normalized_intensity": 1.0009257921343342,
          "time": -0.752,
          "trial": 3
         },
         {
          "mean_intensity": 680.603125,
          "normalized_intensity": 0.9814997642825828,
          "time": -0.5640000000000001,
          "trial": 3
         },
         {
          "mean_intensity": 682.750625,
          "normalized_intensity": 0.9845966803359684,
          "time": -0.376,
          "trial": 3
         },
         {
          "mean_intensity": 690.9125,
          "normalized_intensity": 0.9963669442303692,
          "time": -0.188,
          "trial": 3
         },
         {
          "mean_intensity": 144.250625,
          "normalized_intensity": 0.2080242497198573,
          "time": 0,
          "trial": 3
         },
         {
          "mean_intensity": 193.03625,
          "normalized_intensity": 0.27837814272891226,
          "time": 0.188,
          "trial": 3
         },
         {
          "mean_intensity": 243.011875,
          "normalized_intensity": 0.3504481382308794,
          "time": 0.376,
          "trial": 3
         },
         {
          "mean_intensity": 278.330625,
          "normalized_intensity": 0.40138141127419,
          "time": 0.5640000000000001,
          "trial": 3
         },
         {
          "mean_intensity": 308.60625,
          "normalized_intensity": 0.445041978952318,
          "time": 0.752,
          "trial": 3
         },
         {
          "mean_intensity": 327.918125,
          "normalized_intensity": 0.4728916905744247,
          "time": 0.94,
          "trial": 3
         },
         {
          "mean_intensity": 369.6,
          "normalized_intensity": 0.5330012448574089,
          "time": 1.128,
          "trial": 3
         },
         {
          "mean_intensity": 388.729375,
          "normalized_intensity": 0.5605877726938379,
          "time": 1.3159999999999998,
          "trial": 3
         },
         {
          "mean_intensity": 406.695625,
          "normalized_intensity": 0.586496954553739,
          "time": 1.504,
          "trial": 3
         },
         {
          "mean_intensity": 418.373125,
          "normalized_intensity": 0.6033371115797735,
          "time": 1.692,
          "trial": 3
         },
         {
          "mean_intensity": 447.589375,
          "normalized_intensity": 0.6454699514609026,
          "time": 1.88,
          "trial": 3
         },
         {
          "mean_intensity": 455.433125,
          "normalized_intensity": 0.6567814463590365,
          "time": 2.068,
          "trial": 3
         },
         {
          "mean_intensity": 477.08375,
          "normalized_intensity": 0.6880038762208897,
          "time": 2.256,
          "trial": 3
         },
         {
          "mean_intensity": 478.31375,
          "normalized_intensity": 0.6897776628312106,
          "time": 2.444,
          "trial": 3
         },
         {
          "mean_intensity": 495.01375,
          "normalized_intensity": 0.7138607818493891,
          "time": 2.6319999999999997,
          "trial": 3
         },
         {
          "mean_intensity": 510.70375,
          "normalized_intensity": 0.7364873769029948,
          "time": 2.82,
          "trial": 3
         },
         {
          "mean_intensity": 515.83,
          "normalized_intensity": 0.7438799570746677,
          "time": 3.008,
          "trial": 3
         },
         {
          "mean_intensity": 524.305,
          "normalized_intensity": 0.7561017794506594,
          "time": 3.196,
          "trial": 3
         },
         {
          "mean_intensity": 541.868125,
          "normalized_intensity": 0.7814296135647997,
          "time": 3.384,
          "trial": 3
         },
         {
          "mean_intensity": 533.711875,
          "normalized_intensity": 0.7696674614994095,
          "time": 3.572,
          "trial": 3
         },
         {
          "mean_intensity": 557.73125,
          "normalized_intensity": 0.8043058726890657,
          "time": 3.76,
          "trial": 3
         },
         {
          "mean_intensity": 549.8625,
          "normalized_intensity": 0.7929583252175512,
          "time": 3.948,
          "trial": 3
         },
         {
          "mean_intensity": 555.9275,
          "normalized_intensity": 0.8017046795196622,
          "time": 4.136,
          "trial": 3
         },
         {
          "mean_intensity": 559.155,
          "normalized_intensity": 0.8063590667430854,
          "time": 4.324,
          "trial": 3
         },
         {
          "mean_intensity": 567.359375,
          "normalized_intensity": 0.8181906200122333,
          "time": 4.5120000000000005,
          "trial": 3
         },
         {
          "mean_intensity": 579.67625,
          "normalized_intensity": 0.8359528216024743,
          "time": 4.7,
          "trial": 3
         },
         {
          "mean_intensity": 572.563125,
          "normalized_intensity": 0.8256949631613857,
          "time": 4.888,
          "trial": 3
         },
         {
          "mean_intensity": 588.82125,
          "normalized_intensity": 0.8491408529450636,
          "time": 5.0760000000000005,
          "trial": 3
         },
         {
          "mean_intensity": 591.8875,
          "normalized_intensity": 0.8535627010701828,
          "time": 5.263999999999999,
          "trial": 3
         },
         {
          "mean_intensity": 588.0325,
          "normalized_intensity": 0.8480033942549087,
          "time": 5.452000000000001,
          "trial": 3
         },
         {
          "mean_intensity": 589.485625,
          "normalized_intensity": 0.8500989500826507,
          "time": 5.64,
          "trial": 3
         },
         {
          "mean_intensity": 590.830625,
          "normalized_intensity": 0.8520385785305219,
          "time": 5.827999999999999,
          "trial": 3
         },
         {
          "mean_intensity": 597.97875,
          "normalized_intensity": 0.8623469105743432,
          "time": 6.016,
          "trial": 3
         },
         {
          "mean_intensity": 597.555625,
          "normalized_intensity": 0.8617367207698781,
          "time": 6.204,
          "trial": 3
         },
         {
          "mean_intensity": 589.946875,
          "normalized_intensity": 0.8507641200615209,
          "time": 6.392,
          "trial": 3
         },
         {
          "mean_intensity": 592.049375,
          "normalized_intensity": 0.8537961414828216,
          "time": 6.58,
          "trial": 3
         },
         {
          "mean_intensity": 592.32375,
          "normalized_intensity": 0.8541918184756726,
          "time": 6.768,
          "trial": 3
         },
         {
          "mean_intensity": 599.430625,
          "normalized_intensity": 0.8644406637734159,
          "time": 6.956,
          "trial": 3
         },
         {
          "mean_intensity": 588.418125,
          "normalized_intensity": 0.848559505199303,
          "time": 7.144,
          "trial": 3
         },
         {
          "mean_intensity": 576.964375,
          "normalized_intensity": 0.8320420187050239,
          "time": 7.332000000000001,
          "trial": 3
         },
         {
          "mean_intensity": 596.118125,
          "normalized_intensity": 0.8596636978004989,
          "time": 7.52,
          "trial": 3
         },
         {
          "mean_intensity": 597.1525,
          "normalized_intensity": 0.8611553730241175,
          "time": 7.707999999999999,
          "trial": 3
         },
         {
          "mean_intensity": 611.575625,
          "normalized_intensity": 0.8819550039216661,
          "time": 7.896,
          "trial": 3
         },
         {
          "mean_intensity": 604.908125,
          "normalized_intensity": 0.8723397826010851,
          "time": 8.084,
          "trial": 3
         },
         {
          "mean_intensity": 598.27375,
          "normalized_intensity": 0.8627723309402331,
          "time": 8.272,
          "trial": 3
         },
         {
          "mean_intensity": 612.56125,
          "normalized_intensity": 0.8833763766271926,
          "time": 8.46,
          "trial": 3
         },
         {
          "mean_intensity": 611.674375,
          "normalized_intensity": 0.8820974115865192,
          "time": 8.648,
          "trial": 3
         },
         {
          "mean_intensity": 606.924375,
          "normalized_intensity": 0.8752474226442231,
          "time": 8.836,
          "trial": 3
         },
         {
          "mean_intensity": 594.365,
          "normalized_intensity": 0.8571355110921909,
          "time": 9.024,
          "trial": 3
         },
         {
          "mean_intensity": 605.963125,
          "normalized_intensity": 0.8738612011977425,
          "time": 9.212,
          "trial": 3
         },
         {
          "mean_intensity": 624.191875,
          "normalized_intensity": 0.9001489350781388,
          "time": 9.4,
          "trial": 3
         },
         {
          "mean_intensity": 632.116875,
          "normalized_intensity": 0.9115776008397596,
          "time": 9.588,
          "trial": 3
         },
         {
          "mean_intensity": 604.444375,
          "normalized_intensity": 0.8716710073648767,
          "time": 9.776,
          "trial": 3
         },
         {
          "mean_intensity": 600.895625,
          "normalized_intensity": 0.8665533445735137,
          "time": 9.964,
          "trial": 3
         },
         {
          "mean_intensity": 612.301875,
          "normalized_intensity": 0.8830023311783699,
          "time": 10.152000000000001,
          "trial": 3
         },
         {
          "mean_intensity": 609.3825,
          "normalized_intensity": 0.8787922919218613,
          "time": 10.34,
          "trial": 3
         },
         {
          "mean_intensity": 637.7275,
          "normalized_intensity": 0.9196686996206797,
          "time": 10.527999999999999,
          "trial": 3
         },
         {
          "mean_intensity": 613.205,
          "normalized_intensity": 0.8843047303917407,
          "time": 10.716,
          "trial": 3
         },
         {
          "mean_intensity": 639.4875,
          "normalized_intensity": 0.9222068007866672,
          "time": 10.904000000000002,
          "trial": 3
         },
         {
          "mean_intensity": 619.025625,
          "normalized_intensity": 0.8926986707890571,
          "time": 11.092,
          "trial": 3
         },
         {
          "mean_intensity": 626.66625,
          "normalized_intensity": 0.9037172385284744,
          "time": 11.28,
          "trial": 3
         },
         {
          "mean_intensity": 630.369375,
          "normalized_intensity": 0.9090575259604621,
          "time": 11.468,
          "trial": 3
         },
         {
          "mean_intensity": 638.64625,
          "normalized_intensity": 0.9209936316924132,
          "time": 11.655999999999999,
          "trial": 3
         },
         {
          "mean_intensity": 637.280625,
          "normalized_intensity": 0.9190242598715028,
          "time": 11.844000000000001,
          "trial": 3
         },
         {
          "mean_intensity": 633.85375,
          "normalized_intensity": 0.91408235337537,
          "time": 12.032,
          "trial": 3
         },
         {
          "mean_intensity": 633.55125,
          "normalized_intensity": 0.913646117237466,
          "time": 12.22,
          "trial": 3
         },
         {
          "mean_intensity": 638.554375,
          "normalized_intensity": 0.92086113848524,
          "time": 12.408,
          "trial": 3
         },
         {
          "mean_intensity": 615.03375,
          "normalized_intensity": 0.8869419761345249,
          "time": 12.595999999999998,
          "trial": 3
         },
         {
          "mean_intensity": 632.3525,
          "normalized_intensity": 0.9119173963438706,
          "time": 12.784,
          "trial": 3
         },
         {
          "mean_intensity": 625.62375,
          "normalized_intensity": 0.9022138462185072,
          "time": 12.972000000000001,
          "trial": 3
         },
         {
          "mean_intensity": 632.67625,
          "normalized_intensity": 0.9123842771691482,
          "time": 13.16,
          "trial": 3
         },
         {
          "mean_intensity": 630.965,
          "normalized_intensity": 0.9099164785212526,
          "time": 13.347999999999999,
          "trial": 3
         },
         {
          "mean_intensity": 630.81625,
          "normalized_intensity": 0.9097019657096383,
          "time": 13.536,
          "trial": 3
         },
         {
          "mean_intensity": 634.409375,
          "normalized_intensity": 0.9148836218187516,
          "time": 13.724,
          "trial": 3
         },
         {
          "mean_intensity": 633.639375,
          "normalized_intensity": 0.913773202558632,
          "time": 13.912,
          "trial": 3
         },
         {
          "mean_intensity": 625.469375,
          "normalized_intensity": 0.9019912215778828,
          "time": 14.1,
          "trial": 3
         },
         {
          "mean_intensity": 645.60125,
          "normalized_intensity": 0.9310234576068702,
          "time": 14.288,
          "trial": 3
         },
         {
          "mean_intensity": 628.4625,
          "normalized_intensity": 0.9063076159258638,
          "time": 14.475999999999999,
          "trial": 3
         },
         {
          "mean_intensity": 627.176875,
          "normalized_intensity": 0.9044536123397712,
          "time": 14.664000000000001,
          "trial": 3
         },
         {
          "mean_intensity": 639.4275,
          "normalized_intensity": 0.9221202746105541,
          "time": 14.852,
          "trial": 3
         },
         {
          "mean_intensity": 640.795,
          "normalized_intensity": 0.9240923503744676,
          "time": 15.04,
          "trial": 3
         },
         {
          "mean_intensity": 635.435,
          "normalized_intensity": 0.9163626786416872,
          "time": 15.228,
          "trial": 3
         },
         {
          "mean_intensity": 631.71875,
          "normalized_intensity": 0.9110034636086748,
          "time": 15.415999999999999,
          "trial": 3
         },
         {
          "mean_intensity": 611.1575,
          "normalized_intensity": 0.8813520246318772,
          "time": 15.604000000000001,
          "trial": 3
         },
         {
          "mean_intensity": 618.63,
          "normalized_intensity": 0.8921281388153106,
          "time": 15.792,
          "trial": 3
         },
         {
          "mean_intensity": 620.46875,
          "normalized_intensity": 0.8947798055874469,
          "time": 15.98,
          "trial": 3
         },
         {
          "mean_intensity": 613.456875,
          "normalized_intensity": 0.8846679600685492,
          "time": 16.168,
          "trial": 3
         },
         {
          "mean_intensity": 621.711875,
          "normalized_intensity": 0.8965725197987925,
          "time": 16.355999999999998,
          "trial": 3
         },
         {
          "mean_intensity": 619.81125,
          "normalized_intensity": 0.8938316229075395,
          "time": 16.544,
          "trial": 3
         },
         {
          "mean_intensity": 613.085,
          "normalized_intensity": 0.8841316780395143,
          "time": 16.732,
          "trial": 3
         },
         {
          "mean_intensity": 634.491875,
          "normalized_intensity": 0.9150025953109076,
          "time": 16.92,
          "trial": 3
         },
         {
          "mean_intensity": 618.869375,
          "normalized_intensity": 0.8924733422054291,
          "time": 17.108,
          "trial": 3
         },
         {
          "mean_intensity": 627.979375,
          "normalized_intensity": 0.9056108999452857,
          "time": 17.296,
          "trial": 3
         },
         {
          "mean_intensity": 617.085,
          "normalized_intensity": 0.8899000897803954,
          "time": 17.484,
          "trial": 3
         },
         {
          "mean_intensity": 627.05125,
          "normalized_intensity": 0.9042724481585342,
          "time": 17.672,
          "trial": 3
         },
         {
          "mean_intensity": 619.48625,
          "normalized_intensity": 0.893362939453593,
          "time": 17.86,
          "trial": 3
         },
         {
          "mean_intensity": 637.2125,
          "normalized_intensity": 0.9189260166090409,
          "time": 18.048,
          "trial": 3
         },
         {
          "mean_intensity": 632.835,
          "normalized_intensity": 0.9126132110101144,
          "time": 18.236,
          "trial": 3
         },
         {
          "mean_intensity": 638.54875,
          "normalized_intensity": 0.9208530266562291,
          "time": 18.424,
          "trial": 3
         },
         {
          "mean_intensity": 637.165625,
          "normalized_intensity": 0.9188584180339526,
          "time": 18.612000000000002,
          "trial": 3
         },
         {
          "mean_intensity": 623.49125,
          "normalized_intensity": 0.8991385617091502,
          "time": 18.8,
          "trial": 3
         },
         {
          "mean_intensity": 622.975625,
          "normalized_intensity": 0.8983949773831772,
          "time": 18.988,
          "trial": 3
         },
         {
          "mean_intensity": 637.451875,
          "normalized_intensity": 0.9192712199991594,
          "time": 19.176,
          "trial": 3
         },
         {
          "mean_intensity": 622.8075,
          "normalized_intensity": 0.8981525238271932,
          "time": 19.364,
          "trial": 3
         },
         {
          "mean_intensity": 646.816875,
          "normalized_intensity": 0.9327765139874972,
          "time": 19.552,
          "trial": 3
         },
         {
          "mean_intensity": 630.900625,
          "normalized_intensity": 0.9098236431447976,
          "time": 19.74,
          "trial": 3
         },
         {
          "mean_intensity": 635.205625,
          "normalized_intensity": 0.9160318962809212,
          "time": 19.928,
          "trial": 3
         },
         {
          "mean_intensity": 629.22875,
          "normalized_intensity": 0.9074126272999764,
          "time": 20.116,
          "trial": 3
         },
         {
          "mean_intensity": 640.68125,
          "normalized_intensity": 0.9239283111655864,
          "time": 20.304000000000002,
          "trial": 3
         },
         {
          "mean_intensity": 618.676875,
          "normalized_intensity": 0.8921957373903989,
          "time": 20.491999999999997,
          "trial": 3
         },
         {
          "mean_intensity": 625.84125,
          "normalized_intensity": 0.9025275036069176,
          "time": 20.68,
          "trial": 3
         },
         {
          "mean_intensity": 618.7975,
          "normalized_intensity": 0.8923696910569601,
          "time": 20.868000000000002,
          "trial": 3
         },
         {
          "mean_intensity": 634.28875,
          "normalized_intensity": 0.9147096681521908,
          "time": 21.055999999999997,
          "trial": 3
         },
         {
          "mean_intensity": 627.99875,
          "normalized_intensity": 0.9056388406896554,
          "time": 21.244,
          "trial": 3
         },
         {
          "mean_intensity": 633.23625,
          "normalized_intensity": 0.9131918548128716,
          "time": 21.432,
          "trial": 3
         },
         {
          "mean_intensity": 632.470625,
          "normalized_intensity": 0.9120877447530936,
          "time": 21.62,
          "trial": 3
         },
         {
          "mean_intensity": 623.69375,
          "normalized_intensity": 0.8994305875535322,
          "time": 21.808000000000003,
          "trial": 3
         },
         {
          "mean_intensity": 620.5875,
          "normalized_intensity": 0.8949510553110043,
          "time": 21.996,
          "trial": 3
         },
         {
          "mean_intensity": 632.895625,
          "normalized_intensity": 0.9127006385005622,
          "time": 22.184,
          "trial": 3
         },
         {
          "mean_intensity": 611.950625,
          "normalized_intensity": 0.8824957925223736,
          "time": 22.372,
          "trial": 3
         },
         {
          "mean_intensity": 634.015625,
          "normalized_intensity": 0.9143157937880088,
          "time": 22.56,
          "trial": 3
         },
         {
          "mean_intensity": 624.785,
          "normalized_intensity": 0.9010042823815912,
          "time": 22.748,
          "trial": 3
         },
         {
          "mean_intensity": 634.511875,
          "normalized_intensity": 0.915031437369612,
          "time": 22.936,
          "trial": 3
         },
         {
          "mean_intensity": 629.541875,
          "normalized_intensity": 0.9078641857815672,
          "time": 23.124000000000002,
          "trial": 3
         },
         {
          "mean_intensity": 626.994375,
          "normalized_intensity": 0.9041904285540936,
          "time": 23.311999999999998,
          "trial": 3
         },
         {
          "mean_intensity": 622.550625,
          "normalized_intensity": 0.8977820836357085,
          "time": 23.5,
          "trial": 3
         },
         {
          "mean_intensity": 615.638125,
          "normalized_intensity": 0.8878135470959984,
          "time": 23.688000000000002,
          "trial": 3
         },
         {
          "mean_intensity": 621.455625,
          "normalized_intensity": 0.8962029809216424,
          "time": 23.875999999999998,
          "trial": 3
         },
         {
          "mean_intensity": 620.441875,
          "normalized_intensity": 0.8947410490710628,
          "time": 24.064,
          "trial": 3
         },
         {
          "mean_intensity": 889.34375,
          "normalized_intensity": 1.0233969318816587,
          "time": -3.76,
          "trial": 4
         },
         {
          "mean_intensity": 875.12125,
          "normalized_intensity": 1.0070306361004304,
          "time": -3.572,
          "trial": 4
         },
         {
          "mean_intensity": 878.52625,
          "normalized_intensity": 1.0109488809332714,
          "time": -3.384,
          "trial": 4
         },
         {
          "mean_intensity": 883.743125,
          "normalized_intensity": 1.0169521095712533,
          "time": -3.196,
          "trial": 4
         },
         {
          "mean_intensity": 872.82125,
          "normalized_intensity": 1.00438395089763,
          "time": -3.008,
          "trial": 4
         },
         {
          "mean_intensity": 877.05625,
          "normalized_intensity": 1.009257303868873,
          "time": -2.82,
          "trial": 4
         },
         {
          "mean_intensity": 868.528125,
          "normalized_intensity": 0.9994437115883816,
          "time": -2.6319999999999997,
          "trial": 4
         },
         {
          "mean_intensity": 868.18625,
          "normalized_intensity": 0.9990503048476392,
          "time": -2.444,
          "trial": 4
         },
         {
          "mean_intensity": 879.55,
          "normalized_intensity": 1.0121269435316915,
          "time": -2.256,
          "trial": 4
         },
         {
          "mean_intensity": 878.71875,
          "normalized_intensity": 1.0111703969774188,
          "time": -2.068,
          "trial": 4
         },
         {
          "mean_intensity": 865.4125,
          "normalized_intensity": 0.9958584600296972,
          "time": -1.88,
          "trial": 4
         },
         {
          "mean_intensity": 854.123125,
          "normalized_intensity": 0.9828674070899744,
          "time": -1.692,
          "trial": 4
         },
         {
          "mean_intensity": 880.51625,
          "normalized_intensity": 1.013238839000042,
          "time": -1.504,
          "trial": 4
         },
         {
          "mean_intensity": 870.10125,
          "normalized_intensity": 1.001253957962145,
          "time": -1.3159999999999998,
          "trial": 4
         },
         {
          "mean_intensity": 851.90375,
          "normalized_intensity": 0.9803134997108592,
          "time": -1.128,
          "trial": 4
         },
         {
          "mean_intensity": 863.478125,
          "normalized_intensity": 0.99363251146919,
          "time": -0.94,
          "trial": 4
         },
         {
          "mean_intensity": 848.81875,
          "normalized_intensity": 0.9767634893410166,
          "time": -0.752,
          "trial": 4
         },
         {
          "mean_intensity": 858.409375,
          "normalized_intensity": 0.987799735111932,
          "time": -0.5640000000000001,
          "trial": 4
         },
         {
          "mean_intensity": 846.86125,
          "normalized_intensity": 0.9745109300868944,
          "time": -0.376,
          "trial": 4
         },
         {
          "mean_intensity": 867.47625,
          "normalized_intensity": 0.9982332846328621,
          "time": -0.188,
          "trial": 4
         },
         {
          "mean_intensity": 148.78875,
          "normalized_intensity": 0.17121607955136262,
          "time": 0,
          "trial": 4
         },
         {
          "mean_intensity": 198.116875,
          "normalized_intensity": 0.2279795658641353,
          "time": 0.188,
          "trial": 4
         },
         {
          "mean_intensity": 245.9775,
          "normalized_intensity": 0.2830543519442518,
          "time": 0.376,
          "trial": 4
         },
         {
          "mean_intensity": 285.194375,
          "normalized_intensity": 0.3281824922758014,
          "time": 0.5640000000000001,
          "trial": 4
         },
         {
          "mean_intensity": 323.023125,
          "normalized_intensity": 0.3717132717825088,
          "time": 0.752,
          "trial": 4
         },
         {
          "mean_intensity": 357.86625,
          "normalized_intensity": 0.4118083949811247,
          "time": 0.94,
          "trial": 4
         },
         {
          "mean_intensity": 373.88625,
          "normalized_intensity": 0.4302431327849764,
          "time": 1.128,
          "trial": 4
         },
         {
          "mean_intensity": 407.814375,
          "normalized_intensity": 0.4692853355659566,
          "time": 1.3159999999999998,
          "trial": 4
         },
         {
          "mean_intensity": 441.2875,
          "normalized_intensity": 0.5078039549698612,
          "time": 1.504,
          "trial": 4
         },
         {
          "mean_intensity": 457.519375,
          "normalized_intensity": 0.5264825042638621,
          "time": 1.692,
          "trial": 4
         },
         {
          "mean_intensity": 471.80875,
          "normalized_intensity": 0.5429257552941936,
          "time": 1.88,
          "trial": 4
         },
         {
          "mean_intensity": 503.66625,
          "normalized_intensity": 0.5795852221847182,
          "time": 2.068,
          "trial": 4
         },
         {
          "mean_intensity": 514.2175,
          "normalized_intensity": 0.591726890552564,
          "time": 2.256,
          "trial": 4
         },
         {
          "mean_intensity": 532.90875,
          "normalized_intensity": 0.6132355230729287,
          "time": 2.444,
          "trial": 4
         },
         {
          "mean_intensity": 538.565625,
          "normalized_intensity": 0.6197450740975331,
          "time": 2.6319999999999997,
          "trial": 4
         },
         {
          "mean_intensity": 558.03,
          "normalized_intensity": 0.6421433668341651,
          "time": 2.82,
          "trial": 4
         },
         {
          "mean_intensity": 569.64625,
          "normalized_intensity": 0.6555105655241771,
          "time": 3.008,
          "trial": 4
         },
         {
          "mean_intensity": 582.620625,
          "normalized_intensity": 0.6704406030581251,
          "time": 3.196,
          "trial": 4
         },
         {
          "mean_intensity": 587.139375,
          "normalized_intensity": 0.6756404764321048,
          "time": 3.384,
          "trial": 4
         },
         {
          "mean_intensity": 612.156875,
          "normalized_intensity": 0.7044289316760409,
          "time": 3.572,
          "trial": 4
         },
         {
          "mean_intensity": 609.384375,
          "normalized_intensity": 0.7012385252739699,
          "time": 3.76,
          "trial": 4
         },
         {
          "mean_intensity": 621.79,
          "normalized_intensity": 0.7155140835865733,
          "time": 3.948,
          "trial": 4
         },
         {
          "mean_intensity": 629.14125,
          "normalized_intensity": 0.7239734073244363,
          "time": 4.136,
          "trial": 4
         },
         {
          "mean_intensity": 639.094375,
          "normalized_intensity": 0.7354267936979669,
          "time": 4.324,
          "trial": 4
         },
         {
          "mean_intensity": 662.480625,
          "normalized_intensity": 0.7623381162301346,
          "time": 4.5120000000000005,
          "trial": 4
         },
         {
          "mean_intensity": 666.470625,
          "normalized_intensity": 0.7669295396906445,
          "time": 4.7,
          "trial": 4
         },
         {
          "mean_intensity": 682.383125,
          "normalized_intensity": 0.7852405737295824,
          "time": 4.888,
          "trial": 4
         },
         {
          "mean_intensity": 659.78,
          "normalized_intensity": 0.7592304187406509,
          "time": 5.0760000000000005,
          "trial": 4
         },
         {
          "mean_intensity": 668.230625,
          "normalized_intensity": 0.7689548292371351,
          "time": 5.263999999999999,
          "trial": 4
         },
         {
          "mean_intensity": 696.7325,
          "normalized_intensity": 0.8017528687217262,
          "time": 5.452000000000001,
          "trial": 4
         },
         {
          "mean_intensity": 679.108125,
          "normalized_intensity": 0.7814719241473345,
          "time": 5.64,
          "trial": 4
         },
         {
          "mean_intensity": 687.483125,
          "normalized_intensity": 0.7911093104836177,
          "time": 5.827999999999999,
          "trial": 4
         },
         {
          "mean_intensity": 711.374375,
          "normalized_intensity": 0.8186017530277044,
          "time": 6.016,
          "trial": 4
         },
         {
          "mean_intensity": 709.259375,
          "normalized_intensity": 0.8161679533738252,
          "time": 6.204,
          "trial": 4
         },
         {
          "mean_intensity": 706.06625,
          "normalized_intensity": 0.8124935200311333,
          "time": 6.392,
          "trial": 4
         },
         {
          "mean_intensity": 709.10125,
          "normalized_intensity": 0.8159859937661328,
          "time": 6.58,
          "trial": 4
         },
         {
          "mean_intensity": 720.863125,
          "normalized_intensity": 0.8295207679051263,
          "time": 6.768,
          "trial": 4
         },
         {
          "mean_intensity": 723.085,
          "normalized_intensity": 0.8320775521159836,
          "time": 6.956,
          "trial": 4
         },
         {
          "mean_intensity": 729.19875,
          "normalized_intensity": 0.8391128441414704,
          "time": 7.144,
          "trial": 4
         },
         {
          "mean_intensity": 721.019375,
          "normalized_intensity": 0.8297005698890121,
          "time": 7.332000000000001,
          "trial": 4
         },
         {
          "mean_intensity": 730.09,
          "normalized_intensity": 0.8401384346575553,
          "time": 7.52,
          "trial": 4
         },
         {
          "mean_intensity": 732.60625,
          "normalized_intensity": 0.8430339658060536,
          "time": 7.707999999999999,
          "trial": 4
         },
         {
          "mean_intensity": 743.041875,
          "normalized_intensity": 0.8550425807058238,
          "time": 7.896,
          "trial": 4
         },
         {
          "mean_intensity": 743.864375,
          "normalized_intensity": 0.8559890583489991,
          "time": 8.084,
          "trial": 4
         },
         {
          "mean_intensity": 746.91125,
          "normalized_intensity": 0.8594951970347737,
          "time": 8.272,
          "trial": 4
         },
         {
          "mean_intensity": 759.94,
          "normalized_intensity": 0.8744878056591142,
          "time": 8.46,
          "trial": 4
         },
         {
          "mean_intensity": 758.849375,
          "normalized_intensity": 0.8732327878115906,
          "time": 8.648,
          "trial": 4
         },
         {
          "mean_intensity": 748.68625,
          "normalized_intensity": 0.8615377475717173,
          "time": 8.836,
          "trial": 4
         },
         {
          "mean_intensity": 737.11125,
          "normalized_intensity": 0.8482180166054514,
          "time": 9.024,
          "trial": 4
         },
         {
          "mean_intensity": 770.19875,
          "normalized_intensity": 0.8862928847131255,
          "time": 9.212,
          "trial": 4
         },
         {
          "mean_intensity": 755.53375,
          "normalized_intensity": 0.8694173897135323,
          "time": 9.4,
          "trial": 4
         },
         {
          "mean_intensity": 765.811875,
          "normalized_intensity": 0.8812447642135455,
          "time": 9.588,
          "trial": 4
         },
         {
          "mean_intensity": 754.095625,
          "normalized_intensity": 0.8677624922538466,
          "time": 9.776,
          "trial": 4
         },
         {
          "mean_intensity": 754.334375,
          "normalized_intensity": 0.8680372296852242,
          "time": 9.964,
          "trial": 4
         },
         {
          "mean_intensity": 771.290625,
          "normalized_intensity": 0.88754934097652,
          "time": 10.152000000000001,
          "trial": 4
         },
         {
          "mean_intensity": 754.964375,
          "normalized_intensity": 0.8687621912842521,
          "time": 10.34,
          "trial": 4
         },
         {
          "mean_intensity": 754.453125,
          "normalized_intensity": 0.8681738791929775,
          "time": 10.527999999999999,
          "trial": 4
         },
         {
          "mean_intensity": 750.30375,
          "normalized_intensity": 0.8633990577089041,
          "time": 10.716,
          "trial": 4
         },
         {
          "mean_intensity": 766.88375,
          "normalized_intensity": 0.8824782058230026,
          "time": 10.904000000000002,
          "trial": 4
         },
         {
          "mean_intensity": 761.688125,
          "normalized_intensity": 0.8764994302548293,
          "time": 11.092,
          "trial": 4
         },
         {
          "mean_intensity": 769.81875,
          "normalized_intensity": 0.8858556062883151,
          "time": 11.28,
          "trial": 4
         },
         {
          "mean_intensity": 770.43375,
          "normalized_intensity": 0.8865633068968899,
          "time": 11.468,
          "trial": 4
         },
         {
          "mean_intensity": 764.253125,
          "normalized_intensity": 0.8794510596223001,
          "time": 11.655999999999999,
          "trial": 4
         },
         {
          "mean_intensity": 765.039375,
          "normalized_intensity": 0.8803558232052137,
          "time": 11.844000000000001,
          "trial": 4
         },
         {
          "mean_intensity": 776.384375,
          "normalized_intensity": 0.8934108856511997,
          "time": 12.032,
          "trial": 4
         },
         {
          "mean_intensity": 773.50625,
          "normalized_intensity": 0.8900989331080219,
          "time": 12.22,
          "trial": 4
         },
         {
          "mean_intensity": 768.6925,
          "normalized_intensity": 0.8845595935884656,
          "time": 12.408,
          "trial": 4
         },
         {
          "mean_intensity": 767.7275,
          "normalized_intensity": 0.8834491365359863,
          "time": 12.595999999999998,
          "trial": 4
         },
         {
          "mean_intensity": 792.525,
          "normalized_intensity": 0.9119844305866112,
          "time": 12.784,
          "trial": 4
         },
         {
          "mean_intensity": 775.908125,
          "normalized_intensity": 0.8928628492043157,
          "time": 12.972000000000001,
          "trial": 4
         },
         {
          "mean_intensity": 773.40375,
          "normalized_intensity": 0.8899809830065927,
          "time": 13.16,
          "trial": 4
         },
         {
          "mean_intensity": 795.133125,
          "normalized_intensity": 0.9149856853016344,
          "time": 13.347999999999999,
          "trial": 4
         },
         {
          "mean_intensity": 774.0425,
          "normalized_intensity": 0.8907160135167183,
          "time": 13.536,
          "trial": 4
         },
         {
          "mean_intensity": 796.505625,
          "normalized_intensity": 0.916565065928088,
          "time": 13.724,
          "trial": 4
         },
         {
          "mean_intensity": 777.635,
          "normalized_intensity": 0.8948500207302224,
          "time": 13.912,
          "trial": 4
         },
         {
          "mean_intensity": 805.34625,
          "normalized_intensity": 0.9267382621763512,
          "time": 14.1,
          "trial": 4
         },
         {
          "mean_intensity": 780.60125,
          "normalized_intensity": 0.898263381592312,
          "time": 14.288,
          "trial": 4
         },
         {
          "mean_intensity": 787.925,
          "normalized_intensity": 0.9066910601810108,
          "time": 14.475999999999999,
          "trial": 4
         },
         {
          "mean_intensity": 795.116875,
          "normalized_intensity": 0.9149669858953104,
          "time": 14.664000000000001,
          "trial": 4
         },
         {
          "mean_intensity": 788.91625,
          "normalized_intensity": 0.907831723966783,
          "time": 14.852,
          "trial": 4
         },
         {
          "mean_intensity": 794.71375,
          "normalized_intensity": 0.9145030967768848,
          "time": 15.04,
          "trial": 4
         },
         {
          "mean_intensity": 797.05125,
          "normalized_intensity": 0.9171929344558176,
          "time": 15.228,
          "trial": 4
         },
         {
          "mean_intensity": 784.84375,
          "normalized_intensity": 0.9031453650587814,
          "time": 15.415999999999999,
          "trial": 4
         },
         {
          "mean_intensity": 794.79,
          "normalized_intensity": 0.9145908401450209,
          "time": 15.604000000000001,
          "trial": 4
         },
         {
          "mean_intensity": 762.469375,
          "normalized_intensity": 0.8773984401742587,
          "time": 15.792,
          "trial": 4
         },
         {
          "mean_intensity": 774.671875,
          "normalized_intensity": 0.8914402559078105,
          "time": 15.98,
          "trial": 4
         },
         {
          "mean_intensity": 786.691875,
          "normalized_intensity": 0.9052720629241836,
          "time": 16.168,
          "trial": 4
         },
         {
          "mean_intensity": 796.116875,
          "normalized_intensity": 0.91611771859218,
          "time": 16.355999999999998,
          "trial": 4
         },
         {
          "mean_intensity": 798.706875,
          "normalized_intensity": 0.9190981162770724,
          "time": 16.544,
          "trial": 4
         },
         {
          "mean_intensity": 790.0175,
          "normalized_intensity": 0.9090989683492108,
          "time": 16.732,
          "trial": 4
         },
         {
          "mean_intensity": 789.646875,
          "normalized_intensity": 0.9086724780434334,
          "time": 16.92,
          "trial": 4
         },
         {
          "mean_intensity": 797.020625,
          "normalized_intensity": 0.917157693266976,
          "time": 17.108,
          "trial": 4
         },
         {
          "mean_intensity": 791.2525,
          "normalized_intensity": 0.9105201232298448,
          "time": 17.296,
          "trial": 4
         },
         {
          "mean_intensity": 781.528125,
          "normalized_intensity": 0.8993299669607231,
          "time": 17.484,
          "trial": 4
         },
         {
          "mean_intensity": 785.74875,
          "normalized_intensity": 0.9041867781494484,
          "time": 17.672,
          "trial": 4
         },
         {
          "mean_intensity": 799.18375,
          "normalized_intensity": 0.919646871931892,
          "time": 17.86,
          "trial": 4
         },
         {
          "mean_intensity": 777.315625,
          "normalized_intensity": 0.8944825054751596,
          "time": 18.048,
          "trial": 4
         },
         {
          "mean_intensity": 779.10125,
          "normalized_intensity": 0.8965372825470076,
          "time": 18.236,
          "trial": 4
         },
         {
          "mean_intensity": 786.539375,
          "normalized_intensity": 0.9050965761879108,
          "time": 18.424,
          "trial": 4
         },
         {
          "mean_intensity": 759.948125,
          "normalized_intensity": 0.8744971553622761,
          "time": 18.612000000000002,
          "trial": 4
         },
         {
          "mean_intensity": 780.263125,
          "normalized_intensity": 0.8978742900991828,
          "time": 18.8,
          "trial": 4
         },
         {
          "mean_intensity": 784.451875,
          "normalized_intensity": 0.9026944216831956,
          "time": 18.988,
          "trial": 4
         },
         {
          "mean_intensity": 782.34125,
          "normalized_intensity": 0.9002656564848649,
          "time": 19.176,
          "trial": 4
         },
         {
          "mean_intensity": 786.943125,
          "normalized_intensity": 0.905561184514272,
          "time": 19.364,
          "trial": 4
         },
         {
          "mean_intensity": 774.92875,
          "normalized_intensity": 0.8917358503693189,
          "time": 19.552,
          "trial": 4
         },
         {
          "mean_intensity": 780.4225,
          "normalized_intensity": 0.8980576881227466,
          "time": 19.74,
          "trial": 4
         },
         {
          "mean_intensity": 785.785625,
          "normalized_intensity": 0.9042292114176456,
          "time": 19.928,
          "trial": 4
         },
         {
          "mean_intensity": 776.87125,
          "normalized_intensity": 0.8939711486329882,
          "time": 20.116,
          "trial": 4
         },
         {
          "mean_intensity": 780.02625,
          "normalized_intensity": 0.897601710291612,
          "time": 20.304000000000002,
          "trial": 4
         },
         {
          "mean_intensity": 790.566875,
          "normalized_intensity": 0.9097311521245536,
          "time": 20.491999999999997,
          "trial": 4
         },
         {
          "mean_intensity": 790.96375,
          "normalized_intensity": 0.9101878491636236,
          "time": 20.68,
          "trial": 4
         },
         {
          "mean_intensity": 798.5,
          "normalized_intensity": 0.9188600584504074,
          "time": 20.868000000000002,
          "trial": 4
         },
         {
          "mean_intensity": 786.879375,
          "normalized_intensity": 0.9054878253048466,
          "time": 21.055999999999997,
          "trial": 4
         },
         {
          "mean_intensity": 776.36,
          "normalized_intensity": 0.8933828365417136,
          "time": 21.244,
          "trial": 4
         },
         {
          "mean_intensity": 786.779375,
          "normalized_intensity": 0.9053727520351595,
          "time": 21.432,
          "trial": 4
         },
         {
          "mean_intensity": 785.1475,
          "normalized_intensity": 0.9034949001154556,
          "time": 21.62,
          "trial": 4
         },
         {
          "mean_intensity": 788.24125,
          "normalized_intensity": 0.907054979396396,
          "time": 21.808000000000003,
          "trial": 4
         },
         {
          "mean_intensity": 782.61875,
          "normalized_intensity": 0.9005849848082464,
          "time": 21.996,
          "trial": 4
         },
         {
          "mean_intensity": 779.04875,
          "normalized_intensity": 0.8964768690804219,
          "time": 22.184,
          "trial": 4
         },
         {
          "mean_intensity": 784.359375,
          "normalized_intensity": 0.9025879789087352,
          "time": 22.372,
          "trial": 4
         },
         {
          "mean_intensity": 771.095,
          "normalized_intensity": 0.8873242288926949,
          "time": 22.56,
          "trial": 4
         },
         {
          "mean_intensity": 796.470625,
          "normalized_intensity": 0.9165247902836976,
          "time": 22.748,
          "trial": 4
         },
         {
          "mean_intensity": 784.335,
          "normalized_intensity": 0.902559929799249,
          "time": 22.936,
          "trial": 4
         },
         {
          "mean_intensity": 767.609375,
          "normalized_intensity": 0.8833132062361687,
          "time": 23.124000000000002,
          "trial": 4
         },
         {
          "mean_intensity": 778.116875,
          "normalized_intensity": 0.8954045300485265,
          "time": 23.311999999999998,
          "trial": 4
         },
         {
          "mean_intensity": 800.2375,
          "normalized_intensity": 0.9208594565112184,
          "time": 23.5,
          "trial": 4
         },
         {
          "mean_intensity": 776.965,
          "normalized_intensity": 0.8940790298233198,
          "time": 23.688000000000002,
          "trial": 4
         },
         {
          "mean_intensity": 784.205,
          "normalized_intensity": 0.902410334548656,
          "time": 23.875999999999998,
          "trial": 4
         },
         {
          "mean_intensity": 790.724375,
          "normalized_intensity": 0.9099123925243104,
          "time": 24.064,
          "trial": 4
         },
         {
          "mean_intensity": 891.705625,
          "normalized_intensity": 1.0213477856019917,
          "time": -3.76,
          "trial": 5
         },
         {
          "mean_intensity": 882.96125,
          "normalized_intensity": 1.0113320945574011,
          "time": -3.572,
          "trial": 5
         },
         {
          "mean_intensity": 886.1375,
          "normalized_intensity": 1.014970129143107,
          "time": -3.384,
          "trial": 5
         },
         {
          "mean_intensity": 859.06875,
          "normalized_intensity": 0.9839659422271458,
          "time": -3.196,
          "trial": 5
         },
         {
          "mean_intensity": 886.06,
          "normalized_intensity": 1.014881361671909,
          "time": -3.008,
          "trial": 5
         },
         {
          "mean_intensity": 877.380625,
          "normalized_intensity": 1.0049401207644522,
          "time": -2.82,
          "trial": 5
         },
         {
          "mean_intensity": 878.236875,
          "normalized_intensity": 1.005920858147848,
          "time": -2.6319999999999997,
          "trial": 5
         },
         {
          "mean_intensity": 875.6225,
          "normalized_intensity": 1.0029263877283263,
          "time": -2.444,
          "trial": 5
         },
         {
          "mean_intensity": 869.464375,
          "normalized_intensity": 0.9958729531016132,
          "time": -2.256,
          "trial": 5
         },
         {
          "mean_intensity": 893.59625,
          "normalized_intensity": 1.0235132823791977,
          "time": -2.068,
          "trial": 5
         },
         {
          "mean_intensity": 858.6925,
          "normalized_intensity": 0.9835349904718144,
          "time": -1.88,
          "trial": 5
         },
         {
          "mean_intensity": 877.42125,
          "normalized_intensity": 1.0049866521001607,
          "time": -1.692,
          "trial": 5
         },
         {
          "mean_intensity": 869.873125,
          "normalized_intensity": 0.9963411299255116,
          "time": -1.504,
          "trial": 5
         },
         {
          "mean_intensity": 851.8275,
          "normalized_intensity": 0.9756719106037718,
          "time": -1.3159999999999998,
          "trial": 5
         },
         {
          "mean_intensity": 847.795625,
          "normalized_intensity": 0.9710538545013736,
          "time": -1.128,
          "trial": 5
         },
         {
          "mean_intensity": 867.505625,
          "normalized_intensity": 0.9936294268537575,
          "time": -0.94,
          "trial": 5
         },
         {
          "mean_intensity": 883.15875,
          "normalized_intensity": 1.011558308435615,
          "time": -0.752,
          "trial": 5
         },
         {
          "mean_intensity": 868.506875,
          "normalized_intensity": 0.9947762453122976,
          "time": -0.5640000000000001,
          "trial": 5
         },
         {
          "mean_intensity": 863.26875,
          "normalized_intensity": 0.9887765664727071,
          "time": -0.376,
          "trial": 5
         },
         {
          "mean_intensity": 868.660625,
          "normalized_intensity": 0.9949523485212868,
          "time": -0.188,
          "trial": 5
         },
         {
          "mean_intensity": 163.12625,
          "normalized_intensity": 0.1868426412708307,
          "time": 0,
          "trial": 5
         },
         {
          "mean_intensity": 221.668125,
          "normalized_intensity": 0.25389572776026337,
          "time": 0.188,
          "trial": 5
         },
         {
          "mean_intensity": 270.681875,
          "normalized_intensity": 0.31003542635928205,
          "time": 0.376,
          "trial": 5
         },
         {
          "mean_intensity": 317.67125,
          "normalized_intensity": 0.3638564327066084,
          "time": 0.5640000000000001,
          "trial": 5
         },
         {
          "mean_intensity": 355.30125,
          "normalized_intensity": 0.4069573351733871,
          "time": 0.752,
          "trial": 5
         },
         {
          "mean_intensity": 382.289375,
          "normalized_intensity": 0.4378691752846343,
          "time": 0.94,
          "trial": 5
         },
         {
          "mean_intensity": 421.234375,
          "normalized_intensity": 0.4824762612949637,
          "time": 1.128,
          "trial": 5
         },
         {
          "mean_intensity": 437.833125,
          "normalized_intensity": 0.5014882491987757,
          "time": 1.3159999999999998,
          "trial": 5
         },
         {
          "mean_intensity": 481.610625,
          "normalized_intensity": 0.5516304165583134,
          "time": 1.504,
          "trial": 5
         },
         {
          "mean_intensity": 503.849375,
          "normalized_intensity": 0.577102385591879,
          "time": 1.692,
          "trial": 5
         },
         {
          "mean_intensity": 523.499375,
          "normalized_intensity": 0.5996092347407549,
          "time": 1.88,
          "trial": 5
         },
         {
          "mean_intensity": 532.56875,
          "normalized_intensity": 0.6099971764710138,
          "time": 2.068,
          "trial": 5
         },
         {
          "mean_intensity": 574.666875,
          "normalized_intensity": 0.6582158099990303,
          "time": 2.256,
          "trial": 5
         },
         {
          "mean_intensity": 579.006875,
          "normalized_intensity": 0.6631867883861102,
          "time": 2.444,
          "trial": 5
         },
         {
          "mean_intensity": 590.20375,
          "normalized_intensity": 0.6760115403740912,
          "time": 2.6319999999999997,
          "trial": 5
         },
         {
          "mean_intensity": 607.0775,
          "normalized_intensity": 0.6953385096273146,
          "time": 2.82,
          "trial": 5
         },
         {
          "mean_intensity": 613.505625,
          "normalized_intensity": 0.7027011986698142,
          "time": 3.008,
          "trial": 5
         },
         {
          "mean_intensity": 622.788125,
          "normalized_intensity": 0.7133332509458672,
          "time": 3.196,
          "trial": 5
         },
         {
          "mean_intensity": 638.758125,
          "normalized_intensity": 0.7316250769462512,
          "time": 3.384,
          "trial": 5
         },
         {
          "mean_intensity": 660.760625,
          "normalized_intensity": 0.7568264483660042,
          "time": 3.572,
          "trial": 5
         },
         {
          "mean_intensity": 653.061875,
          "normalized_intensity": 0.7480084023158816,
          "time": 3.76,
          "trial": 5
         },
         {
          "mean_intensity": 673.05875,
          "normalized_intensity": 0.7709125574850383,
          "time": 3.948,
          "trial": 5
         },
         {
          "mean_intensity": 679.51125,
          "normalized_intensity": 0.7783031653289629,
          "time": 4.136,
          "trial": 5
         },
         {
          "mean_intensity": 684.338125,
          "normalized_intensity": 0.7838318038778425,
          "time": 4.324,
          "trial": 5
         },
         {
          "mean_intensity": 681.12375,
          "normalized_intensity": 0.7801501014232409,
          "time": 4.5120000000000005,
          "trial": 5
         },
         {
          "mean_intensity": 688.345,
          "normalized_intensity": 0.7884212253121123,
          "time": 4.7,
          "trial": 5
         },
         {
          "mean_intensity": 708.635,
          "normalized_intensity": 0.8116611219650738,
          "time": 4.888,
          "trial": 5
         },
         {
          "mean_intensity": 712.913125,
          "normalized_intensity": 0.8165612295485362,
          "time": 5.0760000000000005,
          "trial": 5
         },
         {
          "mean_intensity": 690.38,
          "normalized_intensity": 0.7907520872977593,
          "time": 5.263999999999999,
          "trial": 5
         },
         {
          "mean_intensity": 730.83375,
          "normalized_intensity": 0.837087275529634,
          "time": 5.452000000000001,
          "trial": 5
         },
         {
          "mean_intensity": 717.96125,
          "normalized_intensity": 0.8223432849103512,
          "time": 5.64,
          "trial": 5
         },
         {
          "mean_intensity": 722.888125,
          "normalized_intensity": 0.827986462131744,
          "time": 5.827999999999999,
          "trial": 5
         },
         {
          "mean_intensity": 727.50375,
          "normalized_intensity": 0.8332731377349389,
          "time": 6.016,
          "trial": 5
         },
         {
          "mean_intensity": 728.39875,
          "normalized_intensity": 0.8342982588539336,
          "time": 6.204,
          "trial": 5
         },
         {
          "mean_intensity": 727.25625,
          "normalized_intensity": 0.8329896545204685,
          "time": 6.392,
          "trial": 5
         },
         {
          "mean_intensity": 721.68,
          "normalized_intensity": 0.8266026917944419,
          "time": 6.58,
          "trial": 5
         },
         {
          "mean_intensity": 740.646875,
          "normalized_intensity": 0.8483270986367111,
          "time": 6.768,
          "trial": 5
         },
         {
          "mean_intensity": 737.43875,
          "normalized_intensity": 0.8446525548491417,
          "time": 6.956,
          "trial": 5
         },
         {
          "mean_intensity": 737.675,
          "normalized_intensity": 0.8449231524629545,
          "time": 7.144,
          "trial": 5
         },
         {
          "mean_intensity": 762.38375,
          "normalized_intensity": 0.8732242267076001,
          "time": 7.332000000000001,
          "trial": 5
         },
         {
          "mean_intensity": 766.438125,
          "normalized_intensity": 0.8778680540113141,
          "time": 7.52,
          "trial": 5
         },
         {
          "mean_intensity": 756.54375,
          "normalized_intensity": 0.8665351682328198,
          "time": 7.707999999999999,
          "trial": 5
         },
         {
          "mean_intensity": 754.399375,
          "normalized_intensity": 0.8640790295741113,
          "time": 7.896,
          "trial": 5
         },
         {
          "mean_intensity": 767.198125,
          "normalized_intensity": 0.8787385479224155,
          "time": 8.084,
          "trial": 5
         },
         {
          "mean_intensity": 766.695,
          "normalized_intensity": 0.8781622752263327,
          "time": 8.272,
          "trial": 5
         },
         {
          "mean_intensity": 773.245,
          "normalized_intensity": 0.8856645582759579,
          "time": 8.46,
          "trial": 5
         },
         {
          "mean_intensity": 760.97875,
          "normalized_intensity": 0.8716149583587874,
          "time": 8.648,
          "trial": 5
         },
         {
          "mean_intensity": 772.69375,
          "normalized_intensity": 0.885033163843728,
          "time": 8.836,
          "trial": 5
         },
         {
          "mean_intensity": 765.89875,
          "normalized_intensity": 0.8772502610464449,
          "time": 9.024,
          "trial": 5
         },
         {
          "mean_intensity": 753.25625,
          "normalized_intensity": 0.862769709373943,
          "time": 9.212,
          "trial": 5
         },
         {
          "mean_intensity": 770.0275,
          "normalized_intensity": 0.8819792764878405,
          "time": 9.4,
          "trial": 5
         },
         {
          "mean_intensity": 765.62,
          "normalized_intensity": 0.8769309844968141,
          "time": 9.588,
          "trial": 5
         },
         {
          "mean_intensity": 788.0375,
          "normalized_intensity": 0.9026076914074972,
          "time": 9.776,
          "trial": 5
         },
         {
          "mean_intensity": 781.7275,
          "normalized_intensity": 0.8953803011719039,
          "time": 9.964,
          "trial": 5
         },
         {
          "mean_intensity": 797.975,
          "normalized_intensity": 0.9139899719885128,
          "time": 10.152000000000001,
          "trial": 5
         },
         {
          "mean_intensity": 777.5675,
          "normalized_intensity": 0.8906154923953481,
          "time": 10.34,
          "trial": 5
         },
         {
          "mean_intensity": 787.12125,
          "normalized_intensity": 0.9015582308205936,
          "time": 10.527999999999999,
          "trial": 5
         },
         {
          "mean_intensity": 783.820625,
          "normalized_intensity": 0.8977777387609492,
          "time": 10.716,
          "trial": 5
         },
         {
          "mean_intensity": 776.5775,
          "normalized_intensity": 0.8894815595374658,
          "time": 10.904000000000002,
          "trial": 5
         },
         {
          "mean_intensity": 786.0225,
          "normalized_intensity": 0.900299737156353,
          "time": 11.092,
          "trial": 5
         },
         {
          "mean_intensity": 780.509375,
          "normalized_intensity": 0.8939850769673505,
          "time": 11.28,
          "trial": 5
         },
         {
          "mean_intensity": 787.22125,
          "normalized_intensity": 0.9016727694931068,
          "time": 11.468,
          "trial": 5
         },
         {
          "mean_intensity": 789.88625,
          "normalized_intensity": 0.904725225115588,
          "time": 11.655999999999999,
          "trial": 5
         },
         {
          "mean_intensity": 789.535625,
          "normalized_intensity": 0.904323623895088,
          "time": 11.844000000000001,
          "trial": 5
         },
         {
          "mean_intensity": 791.509375,
          "normalized_intensity": 0.9065843309438204,
          "time": 12.032,
          "trial": 5
         },
         {
          "mean_intensity": 796.411875,
          "normalized_intensity": 0.9121995893637882,
          "time": 12.22,
          "trial": 5
         },
         {
          "mean_intensity": 784.839375,
          "normalized_intensity": 0.8989446014871793,
          "time": 12.408,
          "trial": 5
         },
         {
          "mean_intensity": 786.970625,
          "normalized_intensity": 0.9013857069451204,
          "time": 12.595999999999998,
          "trial": 5
         },
         {
          "mean_intensity": 791.419375,
          "normalized_intensity": 0.9064812461385584,
          "time": 12.784,
          "trial": 5
         },
         {
          "mean_intensity": 797.084375,
          "normalized_intensity": 0.9129698619364406,
          "time": 12.972000000000001,
          "trial": 5
         },
         {
          "mean_intensity": 795.985625,
          "normalized_intensity": 0.9117113682721999,
          "time": 13.16,
          "trial": 5
         },
         {
          "mean_intensity": 790.331875,
          "normalized_intensity": 0.9052356380749756,
          "time": 13.347999999999999,
          "trial": 5
         },
         {
          "mean_intensity": 790.88,
          "normalized_intensity": 0.9058634531736895,
          "time": 13.536,
          "trial": 5
         },
         {
          "mean_intensity": 800.924375,
          "normalized_intensity": 0.9173681469609538,
          "time": 13.724,
          "trial": 5
         },
         {
          "mean_intensity": 803.971875,
          "normalized_intensity": 0.9208587130057984,
          "time": 13.912,
          "trial": 5
         },
         {
          "mean_intensity": 786.033125,
          "normalized_intensity": 0.9003119068903075,
          "time": 14.1,
          "trial": 5
         },
         {
          "mean_intensity": 783.594375,
          "normalized_intensity": 0.8975185950143879,
          "time": 14.288,
          "trial": 5
         },
         {
          "mean_intensity": 793.509375,
          "normalized_intensity": 0.9088751043940878,
          "time": 14.475999999999999,
          "trial": 5
         },
         {
          "mean_intensity": 791.515625,
          "normalized_intensity": 0.9065914896108528,
          "time": 14.664000000000001,
          "trial": 5
         },
         {
          "mean_intensity": 789.370625,
          "normalized_intensity": 0.9041346350854409,
          "time": 14.852,
          "trial": 5
         },
         {
          "mean_intensity": 789.168125,
          "normalized_intensity": 0.9039026942736016,
          "time": 15.04,
          "trial": 5
         },
         {
          "mean_intensity": 781.080625,
          "normalized_intensity": 0.8946393791340832,
          "time": 15.228,
          "trial": 5
         },
         {
          "mean_intensity": 783.164375,
          "normalized_intensity": 0.8970260787225803,
          "time": 15.415999999999999,
          "trial": 5
         },
         {
          "mean_intensity": 780.93875,
          "normalized_intensity": 0.8944768773924548,
          "time": 15.604000000000001,
          "trial": 5
         },
         {
          "mean_intensity": 790.518125,
          "normalized_intensity": 0.905448966352532,
          "time": 15.792,
          "trial": 5
         },
         {
          "mean_intensity": 789.69625,
          "normalized_intensity": 0.9045076016378126,
          "time": 15.98,
          "trial": 5
         },
         {
          "mean_intensity": 785.9425,
          "normalized_intensity": 0.9002081062183422,
          "time": 16.168,
          "trial": 5
         },
         {
          "mean_intensity": 798.79875,
          "normalized_intensity": 0.9149334843033416,
          "time": 16.355999999999998,
          "trial": 5
         },
         {
          "mean_intensity": 805.381875,
          "normalized_intensity": 0.9224737082882368,
          "time": 16.544,
          "trial": 5
         },
         {
          "mean_intensity": 792.525,
          "normalized_intensity": 0.9077476143365344,
          "time": 16.732,
          "trial": 5
         },
         {
          "mean_intensity": 793.53875,
          "normalized_intensity": 0.9089087501291389,
          "time": 16.92,
          "trial": 5
         },
         {
          "mean_intensity": 799.34375,
          "normalized_intensity": 0.9155577200685394,
          "time": 17.108,
          "trial": 5
         },
         {
          "mean_intensity": 799.274375,
          "normalized_intensity": 0.9154782588644832,
          "time": 17.296,
          "trial": 5
         },
         {
          "mean_intensity": 788.615,
          "normalized_intensity": 0.903269152241262,
          "time": 17.484,
          "trial": 5
         },
         {
          "mean_intensity": 786.5775,
          "normalized_intensity": 0.900935426788802,
          "time": 17.672,
          "trial": 5
         },
         {
          "mean_intensity": 801.509375,
          "normalized_intensity": 0.9180381981951568,
          "time": 17.86,
          "trial": 5
         },
         {
          "mean_intensity": 783.405625,
          "normalized_intensity": 0.8973024032700189,
          "time": 18.048,
          "trial": 5
         },
         {
          "mean_intensity": 784.95625,
          "normalized_intensity": 0.8990784685606792,
          "time": 18.236,
          "trial": 5
         },
         {
          "mean_intensity": 781.8675,
          "normalized_intensity": 0.8955406553134226,
          "time": 18.424,
          "trial": 5
         },
         {
          "mean_intensity": 799.19875,
          "normalized_intensity": 0.9153916389933949,
          "time": 18.612000000000002,
          "trial": 5
         },
         {
          "mean_intensity": 792.7775,
          "normalized_intensity": 0.9080368244846307,
          "time": 18.8,
          "trial": 5
         },
         {
          "mean_intensity": 798.00375,
          "normalized_intensity": 0.9140229018568604,
          "time": 18.988,
          "trial": 5
         },
         {
          "mean_intensity": 794.81625,
          "normalized_intensity": 0.9103719816704968,
          "time": 19.176,
          "trial": 5
         },
         {
          "mean_intensity": 800.83375,
          "normalized_intensity": 0.9172643462889886,
          "time": 19.364,
          "trial": 5
         },
         {
          "mean_intensity": 790.558125,
          "normalized_intensity": 0.9054947818215372,
          "time": 19.552,
          "trial": 5
         },
         {
          "mean_intensity": 790.014375,
          "normalized_intensity": 0.9048719777897456,
          "time": 19.74,
          "trial": 5
         },
         {
          "mean_intensity": 795.326875,
          "normalized_intensity": 0.9109568447670182,
          "time": 19.928,
          "trial": 5
         },
         {
          "mean_intensity": 789.610625,
          "normalized_intensity": 0.9044095278994732,
          "time": 20.116,
          "trial": 5
         },
         {
          "mean_intensity": 785.646875,
          "normalized_intensity": 0.8998695012677247,
          "time": 20.304000000000002,
          "trial": 5
         },
         {
          "mean_intensity": 788.124375,
          "normalized_intensity": 0.9027071968792432,
          "time": 20.491999999999997,
          "trial": 5
         },
         {
          "mean_intensity": 805.200625,
          "normalized_intensity": 0.9222661069443064,
          "time": 20.68,
          "trial": 5
         },
         {
          "mean_intensity": 778.949375,
          "normalized_intensity": 0.8921982736761421,
          "time": 20.868000000000002,
          "trial": 5
         },
         {
          "mean_intensity": 793.105,
          "normalized_intensity": 0.908411938637112,
          "time": 21.055999999999997,
          "trial": 5
         },
         {
          "mean_intensity": 794.946875,
          "normalized_intensity": 0.9105215978114676,
          "time": 21.244,
          "trial": 5
         },
         {
          "mean_intensity": 810.009375,
          "normalized_intensity": 0.9277739853587929,
          "time": 21.432,
          "trial": 5
         },
         {
          "mean_intensity": 802.098125,
          "normalized_intensity": 0.9187125446295792,
          "time": 21.62,
          "trial": 5
         },
         {
          "mean_intensity": 794.9775,
          "normalized_intensity": 0.9105566752799246,
          "time": 21.808000000000003,
          "trial": 5
         },
         {
          "mean_intensity": 793.02375,
          "normalized_intensity": 0.9083188759656948,
          "time": 21.996,
          "trial": 5
         },
         {
          "mean_intensity": 815.190625,
          "normalized_intensity": 0.9337085203283916,
          "time": 22.184,
          "trial": 5
         },
         {
          "mean_intensity": 812.879375,
          "normalized_intensity": 0.9310612452599264,
          "time": 22.372,
          "trial": 5
         },
         {
          "mean_intensity": 804.66625,
          "normalized_intensity": 0.9216540409130632,
          "time": 22.56,
          "trial": 5
         },
         {
          "mean_intensity": 791.9725,
          "normalized_intensity": 0.907114788170898,
          "time": 22.748,
          "trial": 5
         },
         {
          "mean_intensity": 780.638125,
          "normalized_intensity": 0.8941325455082114,
          "time": 22.936,
          "trial": 5
         },
         {
          "mean_intensity": 796.965,
          "normalized_intensity": 0.9128331313961278,
          "time": 23.124000000000002,
          "trial": 5
         },
         {
          "mean_intensity": 780.03875,
          "normalized_intensity": 0.8934460293398346,
          "time": 23.311999999999998,
          "trial": 5
         },
         {
          "mean_intensity": 791.31625,
          "normalized_intensity": 0.9063631281325292,
          "time": 23.5,
          "trial": 5
         },
         {
          "mean_intensity": 806.8575,
          "normalized_intensity": 0.9241638695745122,
          "time": 23.688000000000002,
          "trial": 5
         },
         {
          "mean_intensity": 785.339375,
          "normalized_intensity": 0.8995172948497461,
          "time": 23.875999999999998,
          "trial": 5
         },
         {
          "mean_intensity": 789.474375,
          "normalized_intensity": 0.9042534689581736,
          "time": 24.064,
          "trial": 5
         },
         {
          "mean_intensity": 824.1825,
          "normalized_intensity": 1.0098155262723991,
          "time": -3.76,
          "trial": 6
         },
         {
          "mean_intensity": 838.374375,
          "normalized_intensity": 1.0272038786360045,
          "time": -3.572,
          "trial": 6
         },
         {
          "mean_intensity": 829.959375,
          "normalized_intensity": 1.0168935436633717,
          "time": -3.384,
          "trial": 6
         },
         {
          "mean_intensity": 828.518125,
          "normalized_intensity": 1.0151276767258424,
          "time": -3.196,
          "trial": 6
         },
         {
          "mean_intensity": 822.53125,
          "normalized_intensity": 1.007792360422897,
          "time": -3.008,
          "trial": 6
         },
         {
          "mean_intensity": 811.96625,
          "normalized_intensity": 0.994847774684826,
          "time": -2.82,
          "trial": 6
         },
         {
          "mean_intensity": 809.044375,
          "normalized_intensity": 0.9912677972637728,
          "time": -2.6319999999999997,
          "trial": 6
         },
         {
          "mean_intensity": 803.12,
          "normalized_intensity": 0.9840090580179623,
          "time": -2.444,
          "trial": 6
         },
         {
          "mean_intensity": 798.96625,
          "normalized_intensity": 0.9789197468007818,
          "time": -2.256,
          "trial": 6
         },
         {
          "mean_intensity": 812.951875,
          "normalized_intensity": 0.9960553948758422,
          "time": -2.068,
          "trial": 6
         },
         {
          "mean_intensity": 815.358125,
          "normalized_intensity": 0.999003611575533,
          "time": -1.88,
          "trial": 6
         },
         {
          "mean_intensity": 809.910625,
          "normalized_intensity": 0.9923291552756616,
          "time": -1.692,
          "trial": 6
         },
         {
          "mean_intensity": 816.5275,
          "normalized_intensity": 1.0004363683145256,
          "time": -1.504,
          "trial": 6
         },
         {
          "mean_intensity": 810.271875,
          "normalized_intensity": 0.9927717706659008,
          "time": -1.3159999999999998,
          "trial": 6
         },
         {
          "mean_intensity": 846.381875,
          "normalized_intensity": 1.0370149311961188,
          "time": -1.128,
          "trial": 6
         },
         {
          "mean_intensity": 808.125,
          "normalized_intensity": 0.9901413487533194,
          "time": -0.94,
          "trial": 6
         },
         {
          "mean_intensity": 805.7075,
          "normalized_intensity": 0.9871793481833444,
          "time": -0.752,
          "trial": 6
         },
         {
          "mean_intensity": 810.413125,
          "normalized_intensity": 0.9929448348150256,
          "time": -0.5640000000000001,
          "trial": 6
         },
         {
          "mean_intensity": 804.945625,
          "normalized_intensity": 0.9862458738568708,
          "time": -0.376,
          "trial": 6
         },
         {
          "mean_intensity": 821.29,
          "normalized_intensity": 1.0062715400681994,
          "time": -0.188,
          "trial": 6
         },
         {
          "mean_intensity": 155.7725,
          "normalized_intensity": 0.19085759412055864,
          "time": 0,
          "trial": 6
         },
         {
          "mean_intensity": 209.796875,
          "normalized_intensity": 0.25705003653733216,
          "time": 0.188,
          "trial": 6
         },
         {
          "mean_intensity": 260.89875,
          "normalized_intensity": 0.3196617357624812,
          "time": 0.376,
          "trial": 6
         },
         {
          "mean_intensity": 302.115625,
          "normalized_intensity": 0.3701620076311859,
          "time": 0.5640000000000001,
          "trial": 6
         },
         {
          "mean_intensity": 349.73875,
          "normalized_intensity": 0.4285114278562103,
          "time": 0.752,
          "trial": 6
         },
         {
          "mean_intensity": 382.45875,
          "normalized_intensity": 0.4686010488074353,
          "time": 0.94,
          "trial": 6
         },
         {
          "mean_intensity": 400.041875,
          "normalized_intensity": 0.4901444722911762,
          "time": 1.128,
          "trial": 6
         },
         {
          "mean_intensity": 432.034375,
          "normalized_intensity": 0.5293427362973517,
          "time": 1.3159999999999998,
          "trial": 6
         },
         {
          "mean_intensity": 463.500625,
          "normalized_intensity": 0.567896221482452,
          "time": 1.504,
          "trial": 6
         },
         {
          "mean_intensity": 483.266875,
          "normalized_intensity": 0.5921144815719126,
          "time": 1.692,
          "trial": 6
         },
         {
          "mean_intensity": 490.17375,
          "normalized_intensity": 0.6005770121558823,
          "time": 1.88,
          "trial": 6
         },
         {
          "mean_intensity": 517.565,
          "normalized_intensity": 0.6341376732157918,
          "time": 2.068,
          "trial": 6
         },
         {
          "mean_intensity": 531.7525,
          "normalized_intensity": 0.6515206651853978,
          "time": 2.256,
          "trial": 6
         },
         {
          "mean_intensity": 558.311875,
          "normalized_intensity": 0.6840620856148426,
          "time": 2.444,
          "trial": 6
         },
         {
          "mean_intensity": 555.235625,
          "normalized_intensity": 0.6802929628626664,
          "time": 2.6319999999999997,
          "trial": 6
         },
         {
          "mean_intensity": 584.209375,
          "normalized_intensity": 0.7157925550092298,
          "time": 2.82,
          "trial": 6
         },
         {
          "mean_intensity": 586.24375,
          "normalized_intensity": 0.7182851382189683,
          "time": 3.008,
          "trial": 6
         },
         {
          "mean_intensity": 607.999375,
          "normalized_intensity": 0.7449408460370305,
          "time": 3.196,
          "trial": 6
         },
         {
          "mean_intensity": 615.40125,
          "normalized_intensity": 0.7540098669135081,
          "time": 3.384,
          "trial": 6
         },
         {
          "mean_intensity": 625.1325,
          "normalized_intensity": 0.7659329147094008,
          "time": 3.572,
          "trial": 6
         },
         {
          "mean_intensity": 634.3375,
          "normalized_intensity": 0.777211183684218,
          "time": 3.76,
          "trial": 6
         },
         {
          "mean_intensity": 644.418125,
          "normalized_intensity": 0.7895622972294944,
          "time": 3.948,
          "trial": 6
         },
         {
          "mean_intensity": 659.02125,
          "normalized_intensity": 0.8074545266290469,
          "time": 4.136,
          "trial": 6
         },
         {
          "mean_intensity": 655.438125,
          "normalized_intensity": 0.8030643639435072,
          "time": 4.324,
          "trial": 6
         },
         {
          "mean_intensity": 673.203125,
          "normalized_intensity": 0.8248306266635106,
          "time": 4.5120000000000005,
          "trial": 6
         },
         {
          "mean_intensity": 680.253125,
          "normalized_intensity": 0.8334685187083191,
          "time": 4.7,
          "trial": 6
         },
         {
          "mean_intensity": 682.20625,
          "normalized_intensity": 0.8358615517437824,
          "time": 4.888,
          "trial": 6
         },
         {
          "mean_intensity": 692.378125,
          "normalized_intensity": 0.8483244677924756,
          "time": 5.0760000000000005,
          "trial": 6
         },
         {
          "mean_intensity": 700.3475,
          "normalized_intensity": 0.8580888083477375,
          "time": 5.263999999999999,
          "trial": 6
         },
         {
          "mean_intensity": 693.7475,
          "normalized_intensity": 0.8500022711142997,
          "time": 5.452000000000001,
          "trial": 6
         },
         {
          "mean_intensity": 708.76625,
          "normalized_intensity": 0.8684037379437988,
          "time": 5.64,
          "trial": 6
         },
         {
          "mean_intensity": 707.311875,
          "normalized_intensity": 0.8666217898242713,
          "time": 5.827999999999999,
          "trial": 6
         },
         {
          "mean_intensity": 699.534375,
          "normalized_intensity": 0.8570925408344133,
          "time": 6.016,
          "trial": 6
         },
         {
          "mean_intensity": 736.264375,
          "normalized_intensity": 0.9020953457714088,
          "time": 6.204,
          "trial": 6
         },
         {
          "mean_intensity": 707.535,
          "normalized_intensity": 0.8668951699182427,
          "time": 6.392,
          "trial": 6
         },
         {
          "mean_intensity": 726.113125,
          "normalized_intensity": 0.8896577001515701,
          "time": 6.58,
          "trial": 6
         },
         {
          "mean_intensity": 707.02125,
          "normalized_intensity": 0.8662657065085944,
          "time": 6.768,
          "trial": 6
         },
         {
          "mean_intensity": 721.85125,
          "normalized_intensity": 0.8844359106255463,
          "time": 6.956,
          "trial": 6
         },
         {
          "mean_intensity": 719.1175,
          "normalized_intensity": 0.8810864301464688,
          "time": 7.144,
          "trial": 6
         },
         {
          "mean_intensity": 720.530625,
          "normalized_intensity": 0.8828178374082873,
          "time": 7.332000000000001,
          "trial": 6
         },
         {
          "mean_intensity": 714.40875,
          "normalized_intensity": 0.8753171146619311,
          "time": 7.52,
          "trial": 6
         },
         {
          "mean_intensity": 731.8475,
          "normalized_intensity": 0.8966836451436905,
          "time": 7.707999999999999,
          "trial": 6
         },
         {
          "mean_intensity": 728.754375,
          "normalized_intensity": 0.892893846586088,
          "time": 7.896,
          "trial": 6
         },
         {
          "mean_intensity": 733.68875,
          "normalized_intensity": 0.8989396052468827,
          "time": 8.084,
          "trial": 6
         },
         {
          "mean_intensity": 742.46,
          "normalized_intensity": 0.9096864294451844,
          "time": 8.272,
          "trial": 6
         },
         {
          "mean_intensity": 738.773125,
          "normalized_intensity": 0.9051691488448008,
          "time": 8.46,
          "trial": 6
         },
         {
          "mean_intensity": 744.72625,
          "normalized_intensity": 0.9124631135368932,
          "time": 8.648,
          "trial": 6
         },
         {
          "mean_intensity": 735.550625,
          "normalized_intensity": 0.9012208357789292,
          "time": 8.836,
          "trial": 6
         },
         {
          "mean_intensity": 730.679375,
          "normalized_intensity": 0.8952524199458407,
          "time": 9.024,
          "trial": 6
         },
         {
          "mean_intensity": 748.619375,
          "normalized_intensity": 0.9172330984258216,
          "time": 9.212,
          "trial": 6
         },
         {
          "mean_intensity": 734.884375,
          "normalized_intensity": 0.9004045243498718,
          "time": 9.4,
          "trial": 6
         },
         {
          "mean_intensity": 744.895625,
          "normalized_intensity": 0.9126706373617284,
          "time": 9.588,
          "trial": 6
         },
         {
          "mean_intensity": 757.08375,
          "normalized_intensity": 0.9276039292735913,
          "time": 9.776,
          "trial": 6
         },
         {
          "mean_intensity": 739.553125,
          "normalized_intensity": 0.9061248305178434,
          "time": 9.964,
          "trial": 6
         },
         {
          "mean_intensity": 764.15875,
          "normalized_intensity": 0.9362724521412538,
          "time": 10.152000000000001,
          "trial": 6
         },
         {
          "mean_intensity": 756.06875,
          "normalized_intensity": 0.9263603178657216,
          "time": 10.34,
          "trial": 6
         },
         {
          "mean_intensity": 762.06875,
          "normalized_intensity": 0.9337117153506652,
          "time": 10.527999999999999,
          "trial": 6
         },
         {
          "mean_intensity": 753.56125,
          "normalized_intensity": 0.9232880463334724,
          "time": 10.716,
          "trial": 6
         },
         {
          "mean_intensity": 750.15375,
          "normalized_intensity": 0.9191130651784816,
          "time": 10.904000000000002,
          "trial": 6
         },
         {
          "mean_intensity": 771.396875,
          "normalized_intensity": 0.945140841128038,
          "time": 11.092,
          "trial": 6
         },
         {
          "mean_intensity": 766.06125,
          "normalized_intensity": 0.9386034577604376,
          "time": 11.28,
          "trial": 6
         },
         {
          "mean_intensity": 764.320625,
          "normalized_intensity": 0.9364707867192328,
          "time": 11.468,
          "trial": 6
         },
         {
          "mean_intensity": 765.5725,
          "normalized_intensity": 0.9380046251736436,
          "time": 11.655999999999999,
          "trial": 6
         },
         {
          "mean_intensity": 777.5775,
          "normalized_intensity": 0.9527135463081012,
          "time": 11.844000000000001,
          "trial": 6
         },
         {
          "mean_intensity": 770.776875,
          "normalized_intensity": 0.9443811967212606,
          "time": 12.032,
          "trial": 6
         },
         {
          "mean_intensity": 766.46875,
          "normalized_intensity": 0.9391027401729568,
          "time": 12.22,
          "trial": 6
         },
         {
          "mean_intensity": 778.585625,
          "normalized_intensity": 0.953948734239686,
          "time": 12.408,
          "trial": 6
         },
         {
          "mean_intensity": 758.849375,
          "normalized_intensity": 0.92976723113765,
          "time": 12.595999999999998,
          "trial": 6
         },
         {
          "mean_intensity": 772.015625,
          "normalized_intensity": 0.9458989539936729,
          "time": 12.784,
          "trial": 6
         },
         {
          "mean_intensity": 786.11125,
          "normalized_intensity": 0.9631693776892906,
          "time": 12.972000000000001,
          "trial": 6
         },
         {
          "mean_intensity": 780.496875,
          "normalized_intensity": 0.956290460646869,
          "time": 13.16,
          "trial": 6
         },
         {
          "mean_intensity": 763.608125,
          "normalized_intensity": 0.9355978082678958,
          "time": 13.347999999999999,
          "trial": 6
         },
         {
          "mean_intensity": 770.844375,
          "normalized_intensity": 0.9444638999429662,
          "time": 13.536,
          "trial": 6
         },
         {
          "mean_intensity": 786.115625,
          "normalized_intensity": 0.96317473808329,
          "time": 13.724,
          "trial": 6
         },
         {
          "mean_intensity": 763.68375,
          "normalized_intensity": 0.9356904665070291,
          "time": 13.912,
          "trial": 6
         },
         {
          "mean_intensity": 760.0975,
          "normalized_intensity": 0.9312964749686324,
          "time": 14.1,
          "trial": 6
         },
         {
          "mean_intensity": 756.240625,
          "normalized_intensity": 0.9265709047728424,
          "time": 14.288,
          "trial": 6
         },
         {
          "mean_intensity": 772.68,
          "normalized_intensity": 0.946712968111016,
          "time": 14.475999999999999,
          "trial": 6
         },
         {
          "mean_intensity": 759.461875,
          "normalized_intensity": 0.9305176862975714,
          "time": 14.664000000000001,
          "trial": 6
         },
         {
          "mean_intensity": 784.7425,
          "normalized_intensity": 0.9614923401380376,
          "time": 14.852,
          "trial": 6
         },
         {
          "mean_intensity": 776.1175,
          "normalized_intensity": 0.9509247062534316,
          "time": 15.04,
          "trial": 6
         },
         {
          "mean_intensity": 789.390625,
          "normalized_intensity": 0.9671873758771548,
          "time": 15.228,
          "trial": 6
         },
         {
          "mean_intensity": 768.636875,
          "normalized_intensity": 0.941759198284964,
          "time": 15.415999999999999,
          "trial": 6
         },
         {
          "mean_intensity": 789.45375,
          "normalized_intensity": 0.9672647187048612,
          "time": 15.604000000000001,
          "trial": 6
         },
         {
          "mean_intensity": 775.276875,
          "normalized_intensity": 0.9498947448349682,
          "time": 15.792,
          "trial": 6
         },
         {
          "mean_intensity": 775.32125,
          "normalized_intensity": 0.949949114545534,
          "time": 15.98,
          "trial": 6
         },
         {
          "mean_intensity": 785.07625,
          "normalized_intensity": 0.9619012616231376,
          "time": 16.168,
          "trial": 6
         },
         {
          "mean_intensity": 774.525625,
          "normalized_intensity": 0.9489742886082077,
          "time": 16.355999999999998,
          "trial": 6
         },
         {
          "mean_intensity": 790.758125,
          "normalized_intensity": 0.9688628818872648,
          "time": 16.544,
          "trial": 6
         },
         {
          "mean_intensity": 781.284375,
          "normalized_intensity": 0.9572553315667676,
          "time": 16.732,
          "trial": 6
         },
         {
          "mean_intensity": 781.65625,
          "normalized_intensity": 0.95771096505672,
          "time": 16.92,
          "trial": 6
         },
         {
          "mean_intensity": 774.053125,
          "normalized_intensity": 0.9483953660562684,
          "time": 17.108,
          "trial": 6
         },
         {
          "mean_intensity": 786.15,
          "normalized_intensity": 0.9632168554647141,
          "time": 17.296,
          "trial": 6
         },
         {
          "mean_intensity": 792.221875,
          "normalized_intensity": 0.9706563165653626,
          "time": 17.484,
          "trial": 6
         },
         {
          "mean_intensity": 783.395625,
          "normalized_intensity": 0.9598421045567822,
          "time": 17.672,
          "trial": 6
         },
         {
          "mean_intensity": 785.006875,
          "normalized_intensity": 0.9618162610897182,
          "time": 17.86,
          "trial": 6
         },
         {
          "mean_intensity": 777.949375,
          "normalized_intensity": 0.9531691797980534,
          "time": 18.048,
          "trial": 6
         },
         {
          "mean_intensity": 794.561875,
          "normalized_intensity": 0.9735233615844904,
          "time": 18.236,
          "trial": 6
         },
         {
          "mean_intensity": 784.370625,
          "normalized_intensity": 0.9610367066480856,
          "time": 18.424,
          "trial": 6
         },
         {
          "mean_intensity": 771.1,
          "normalized_intensity": 0.9447771001066476,
          "time": 18.612000000000002,
          "trial": 6
         },
         {
          "mean_intensity": 773.12625,
          "normalized_intensity": 0.9472597282989588,
          "time": 18.8,
          "trial": 6
         },
         {
          "mean_intensity": 792.59125,
          "normalized_intensity": 0.9711088869730292,
          "time": 18.988,
          "trial": 6
         },
         {
          "mean_intensity": 795.56875,
          "normalized_intensity": 0.9747570179749326,
          "time": 19.176,
          "trial": 6
         },
         {
          "mean_intensity": 779.80875,
          "normalized_intensity": 0.9554473472478144,
          "time": 19.364,
          "trial": 6
         },
         {
          "mean_intensity": 791.5625,
          "normalized_intensity": 0.96984842861259,
          "time": 19.552,
          "trial": 6
         },
         {
          "mean_intensity": 794.56,
          "normalized_intensity": 0.9735210642727764,
          "time": 19.74,
          "trial": 6
         },
         {
          "mean_intensity": 792.8525,
          "normalized_intensity": 0.9714289790718528,
          "time": 19.928,
          "trial": 6
         },
         {
          "mean_intensity": 774.50125,
          "normalized_intensity": 0.948944423555925,
          "time": 20.116,
          "trial": 6
         },
         {
          "mean_intensity": 787.065,
          "normalized_intensity": 0.9643379435811679,
          "time": 20.304000000000002,
          "trial": 6
         },
         {
          "mean_intensity": 781.08125,
          "normalized_intensity": 0.9570064561310796,
          "time": 20.491999999999997,
          "trial": 6
         },
         {
          "mean_intensity": 778.598125,
          "normalized_intensity": 0.9539640496511128,
          "time": 20.68,
          "trial": 6
         },
         {
          "mean_intensity": 776.19375,
          "normalized_intensity": 0.951018130263136,
          "time": 20.868000000000002,
          "trial": 6
         },
         {
          "mean_intensity": 770.37125,
          "normalized_intensity": 0.9438842116204555,
          "time": 21.055999999999997,
          "trial": 6
         },
         {
          "mean_intensity": 790.27875,
          "normalized_intensity": 0.9682755358590408,
          "time": 21.244,
          "trial": 6
         },
         {
          "mean_intensity": 789.883125,
          "normalized_intensity": 0.9677908030873772,
          "time": 21.432,
          "trial": 6
         },
         {
          "mean_intensity": 789.958125,
          "normalized_intensity": 0.9678826955559392,
          "time": 21.62,
          "trial": 6
         },
         {
          "mean_intensity": 789.631875,
          "normalized_intensity": 0.9674829633176952,
          "time": 21.808000000000003,
          "trial": 6
         },
         {
          "mean_intensity": 804.25125,
          "normalized_intensity": 0.9853951027521028,
          "time": 21.996,
          "trial": 6
         },
         {
          "mean_intensity": 780.2775,
          "normalized_intensity": 0.9560216751763256,
          "time": 22.184,
          "trial": 6
         },
         {
          "mean_intensity": 788.115625,
          "normalized_intensity": 0.9656252039116044,
          "time": 22.372,
          "trial": 6
         },
         {
          "mean_intensity": 783.34,
          "normalized_intensity": 0.9597739509759324,
          "time": 22.56,
          "trial": 6
         },
         {
          "mean_intensity": 795.588125,
          "normalized_intensity": 0.9747807568626444,
          "time": 22.748,
          "trial": 6
         },
         {
          "mean_intensity": 789.925,
          "normalized_intensity": 0.9678421097156577,
          "time": 22.936,
          "trial": 6
         },
         {
          "mean_intensity": 785.59375,
          "normalized_intensity": 0.962535319656214,
          "time": 23.124000000000002,
          "trial": 6
         },
         {
          "mean_intensity": 776.734375,
          "normalized_intensity": 0.9516805218073524,
          "time": 23.311999999999998,
          "trial": 6
         },
         {
          "mean_intensity": 780.296875,
          "normalized_intensity": 0.9560454140640376,
          "time": 23.5,
          "trial": 6
         },
         {
          "mean_intensity": 784.4775,
          "normalized_intensity": 0.9611676534157859,
          "time": 23.688000000000002,
          "trial": 6
         },
         {
          "mean_intensity": 787.1625,
          "normalized_intensity": 0.9644574037902984,
          "time": 23.875999999999998,
          "trial": 6
         },
         {
          "mean_intensity": 778.9025,
          "normalized_intensity": 0.9543369799193596,
          "time": 24.064,
          "trial": 6
         },
         {
          "mean_intensity": 841.81625,
          "normalized_intensity": 1.0056872274821045,
          "time": -3.76,
          "trial": 7
         },
         {
          "mean_intensity": 839.26625,
          "normalized_intensity": 1.0026408353150733,
          "time": -3.572,
          "trial": 7
         },
         {
          "mean_intensity": 835.184375,
          "normalized_intensity": 0.9977643678535834,
          "time": -3.384,
          "trial": 7
         },
         {
          "mean_intensity": 858.67,
          "normalized_intensity": 1.0258217890448875,
          "time": -3.196,
          "trial": 7
         },
         {
          "mean_intensity": 850.813125,
          "normalized_intensity": 1.016435466512597,
          "time": -3.008,
          "trial": 7
         },
         {
          "mean_intensity": 846.6875,
          "normalized_intensity": 1.0115067325188296,
          "time": -2.82,
          "trial": 7
         },
         {
          "mean_intensity": 842.086875,
          "normalized_intensity": 1.0060105333174778,
          "time": -2.6319999999999997,
          "trial": 7
         },
         {
          "mean_intensity": 832.15375,
          "normalized_intensity": 0.9941437904962468,
          "time": -2.444,
          "trial": 7
         },
         {
          "mean_intensity": 831.65625,
          "normalized_intensity": 0.993549445357777,
          "time": -2.256,
          "trial": 7
         },
         {
          "mean_intensity": 844.6175,
          "normalized_intensity": 1.0090337788773571,
          "time": -2.068,
          "trial": 7
         },
         {
          "mean_intensity": 845.6325,
          "normalized_intensity": 1.0102463624261953,
          "time": -1.88,
          "trial": 7
         },
         {
          "mean_intensity": 842.26625,
          "normalized_intensity": 1.0062248260998157,
          "time": -1.692,
          "trial": 7
         },
         {
          "mean_intensity": 827.846875,
          "normalized_intensity": 0.9889985237259009,
          "time": -1.504,
          "trial": 7
         },
         {
          "mean_intensity": 835.253125,
          "normalized_intensity": 0.9978465009757336,
          "time": -1.3159999999999998,
          "trial": 7
         },
         {
          "mean_intensity": 825.850625,
          "normalized_intensity": 0.986613676524554,
          "time": -1.128,
          "trial": 7
         },
         {
          "mean_intensity": 837.3925,
          "normalized_intensity": 1.000402334404103,
          "time": -0.94,
          "trial": 7
         },
         {
          "mean_intensity": 819.33625,
          "normalized_intensity": 0.9788311898684352,
          "time": -0.752,
          "trial": 7
         },
         {
          "mean_intensity": 826.150625,
          "normalized_intensity": 0.9869720756030279,
          "time": -0.5640000000000001,
          "trial": 7
         },
         {
          "mean_intensity": 821.378125,
          "normalized_intensity": 0.9812705435963004,
          "time": -0.376,
          "trial": 7
         },
         {
          "mean_intensity": 825.27875,
          "normalized_intensity": 0.9859304782812124,
          "time": -0.188,
          "trial": 7
         },
         {
          "mean_intensity": 154.368125,
          "normalized_intensity": 0.18441797915264868,
          "time": 0,
          "trial": 7
         },
         {
          "mean_intensity": 209.294375,
          "normalized_intensity": 0.25003637043279914,
          "time": 0.188,
          "trial": 7
         },
         {
          "mean_intensity": 274.96375,
          "normalized_intensity": 0.32848918204606103,
          "time": 0.376,
          "trial": 7
         },
         {
          "mean_intensity": 312.12,
          "normalized_intensity": 0.372878401244588,
          "time": 0.5640000000000001,
          "trial": 7
         },
         {
          "mean_intensity": 356.9675,
          "normalized_intensity": 0.42645607681749786,
          "time": 0.752,
          "trial": 7
         },
         {
          "mean_intensity": 389.23,
          "normalized_intensity": 0.464998911048414,
          "time": 0.94,
          "trial": 7
         },
         {
          "mean_intensity": 411.63,
          "normalized_intensity": 0.4917593755744897,
          "time": 1.128,
          "trial": 7
         },
         {
          "mean_intensity": 437.974375,
          "normalized_intensity": 0.5232320413177548,
          "time": 1.3159999999999998,
          "trial": 7
         },
         {
          "mean_intensity": 466.549375,
          "normalized_intensity": 0.5573695535424251,
          "time": 1.504,
          "trial": 7
         },
         {
          "mean_intensity": 503.234375,
          "normalized_intensity": 0.6011957875218488,
          "time": 1.692,
          "trial": 7
         },
         {
          "mean_intensity": 523.019375,
          "normalized_intensity": 0.6248322067472242,
          "time": 1.88,
          "trial": 7
         },
         {
          "mean_intensity": 511.605625,
          "normalized_intensity": 0.6111966151407734,
          "time": 2.068,
          "trial": 7
         },
         {
          "mean_intensity": 547.0175,
          "normalized_intensity": 0.6535018930309221,
          "time": 2.256,
          "trial": 7
         },
         {
          "mean_intensity": 564.626875,
          "normalized_intensity": 0.6745391722726125,
          "time": 2.444,
          "trial": 7
         },
         {
          "mean_intensity": 573.7475,
          "normalized_intensity": 0.6854352509229757,
          "time": 2.6319999999999997,
          "trial": 7
         },
         {
          "mean_intensity": 596.465,
          "normalized_intensity": 0.7125750211404369,
          "time": 2.82,
          "trial": 7
         },
         {
          "mean_intensity": 599.008125,
          "normalized_intensity": 0.7156131999952527,
          "time": 3.008,
          "trial": 7
         },
         {
          "mean_intensity": 614.0625,
          "normalized_intensity": 0.7335981137519377,
          "time": 3.196,
          "trial": 7
         },
         {
          "mean_intensity": 612.225,
          "normalized_intensity": 0.7314029193962831,
          "time": 3.384,
          "trial": 7
         },
         {
          "mean_intensity": 637.944375,
          "normalized_intensity": 0.7621289203927268,
          "time": 3.572,
          "trial": 7
         },
         {
          "mean_intensity": 638.178125,
          "normalized_intensity": 0.762408173008038,
          "time": 3.76,
          "trial": 7
         },
         {
          "mean_intensity": 643.141875,
          "normalized_intensity": 0.7683381844272928,
          "time": 3.948,
          "trial": 7
         },
         {
          "mean_intensity": 641.645,
          "normalized_intensity": 0.7665499223586557,
          "time": 4.136,
          "trial": 7
         },
         {
          "mean_intensity": 653.479375,
          "normalized_intensity": 0.7806880193397173,
          "time": 4.324,
          "trial": 7
         },
         {
          "mean_intensity": 676.828125,
          "normalized_intensity": 0.8085819209514679,
          "time": 4.5120000000000005,
          "trial": 7
         },
         {
          "mean_intensity": 674.084375,
          "normalized_intensity": 0.8053040627129223,
          "time": 4.7,
          "trial": 7
         },
         {
          "mean_intensity": 695.525625,
          "normalized_intensity": 0.8309191435173742,
          "time": 4.888,
          "trial": 7
         },
         {
          "mean_intensity": 694.644375,
          "normalized_intensity": 0.8298663462243561,
          "time": 5.0760000000000005,
          "trial": 7
         },
         {
          "mean_intensity": 689.663125,
          "normalized_intensity": 0.8239154281921903,
          "time": 5.263999999999999,
          "trial": 7
         },
         {
          "mean_intensity": 711.05,
          "normalized_intensity": 0.8494655491636686,
          "time": 5.452000000000001,
          "trial": 7
         },
         {
          "mean_intensity": 712.525,
          "normalized_intensity": 0.8512276779661669,
          "time": 5.64,
          "trial": 7
         },
         {
          "mean_intensity": 707.52125,
          "normalized_intensity": 0.8452498800031155,
          "time": 5.827999999999999,
          "trial": 7
         },
         {
          "mean_intensity": 715.099375,
          "normalized_intensity": 0.854303190058324,
          "time": 6.016,
          "trial": 7
         },
         {
          "mean_intensity": 720.026875,
          "normalized_intensity": 0.8601898949222632,
          "time": 6.204,
          "trial": 7
         },
         {
          "mean_intensity": 723.951875,
          "normalized_intensity": 0.8648789495323009,
          "time": 6.392,
          "trial": 7
         },
         {
          "mean_intensity": 709.563125,
          "normalized_intensity": 0.8476892337309808,
          "time": 6.58,
          "trial": 7
         },
         {
          "mean_intensity": 720.989375,
          "normalized_intensity": 0.8613397586323679,
          "time": 6.768,
          "trial": 7
         },
         {
          "mean_intensity": 728.33625,
          "normalized_intensity": 0.8701168027312525,
          "time": 6.956,
          "trial": 7
         },
         {
          "mean_intensity": 731.980625,
          "normalized_intensity": 0.8744706048699675,
          "time": 7.144,
          "trial": 7
         },
         {
          "mean_intensity": 719.736875,
          "normalized_intensity": 0.8598434424797381,
          "time": 7.332000000000001,
          "trial": 7
         },
         {
          "mean_intensity": 727.783125,
          "normalized_intensity": 0.8694560044303157,
          "time": 7.52,
          "trial": 7
         },
         {
          "mean_intensity": 726.481875,
          "normalized_intensity": 0.8679014484274336,
          "time": 7.707999999999999,
          "trial": 7
         },
         {
          "mean_intensity": 729.07875,
          "normalized_intensity": 0.8710038404504762,
          "time": 7.896,
          "trial": 7
         },
         {
          "mean_intensity": 747.68875,
          "normalized_intensity": 0.8932365299518276,
          "time": 8.084,
          "trial": 7
         },
         {
          "mean_intensity": 734.533125,
          "normalized_intensity": 0.8775199836959858,
          "time": 8.272,
          "trial": 7
         },
         {
          "mean_intensity": 740.5675,
          "normalized_intensity": 0.8847290318265455,
          "time": 8.46,
          "trial": 7
         },
         {
          "mean_intensity": 744.421875,
          "normalized_intensity": 0.8893337133201925,
          "time": 8.648,
          "trial": 7
         },
         {
          "mean_intensity": 745.615,
          "normalized_intensity": 0.8907590963218744,
          "time": 8.836,
          "trial": 7
         },
         {
          "mean_intensity": 747.659375,
          "normalized_intensity": 0.8932014367087269,
          "time": 9.024,
          "trial": 7
         },
         {
          "mean_intensity": 750.1825,
          "normalized_intensity": 0.8962157222916446,
          "time": 9.212,
          "trial": 7
         },
         {
          "mean_intensity": 750.0975,
          "normalized_intensity": 0.8961141758860768,
          "time": 9.4,
          "trial": 7
         },
         {
          "mean_intensity": 730.453125,
          "normalized_intensity": 0.8726457562287363,
          "time": 9.588,
          "trial": 7
         },
         {
          "mean_intensity": 733.221875,
          "normalized_intensity": 0.8759534810571546,
          "time": 9.776,
          "trial": 7
         },
         {
          "mean_intensity": 741.358125,
          "normalized_intensity": 0.8856735627312744,
          "time": 9.964,
          "trial": 7
         },
         {
          "mean_intensity": 737.454375,
          "normalized_intensity": 0.8810098947226286,
          "time": 10.152000000000001,
          "trial": 7
         },
         {
          "mean_intensity": 743.034375,
          "normalized_intensity": 0.8876761175822492,
          "time": 10.34,
          "trial": 7
         },
         {
          "mean_intensity": 748.660625,
          "normalized_intensity": 0.8943975936331346,
          "time": 10.527999999999999,
          "trial": 7
         },
         {
          "mean_intensity": 737.70125,
          "normalized_intensity": 0.8813048272976229,
          "time": 10.716,
          "trial": 7
         },
         {
          "mean_intensity": 733.62,
          "normalized_intensity": 0.8764291065008798,
          "time": 10.904000000000002,
          "trial": 7
         },
         {
          "mean_intensity": 744.485,
          "normalized_intensity": 0.8894091264596216,
          "time": 11.092,
          "trial": 7
         },
         {
          "mean_intensity": 750.256875,
          "normalized_intensity": 0.8963045753965163,
          "time": 11.28,
          "trial": 7
         },
         {
          "mean_intensity": 735.646875,
          "normalized_intensity": 0.8788505402748213,
          "time": 11.468,
          "trial": 7
         },
         {
          "mean_intensity": 738.93375,
          "normalized_intensity": 0.8827772501783546,
          "time": 11.655999999999999,
          "trial": 7
         },
         {
          "mean_intensity": 739.385,
          "normalized_intensity": 0.8833163421255597,
          "time": 11.844000000000001,
          "trial": 7
         },
         {
          "mean_intensity": 746.8975,
          "normalized_intensity": 0.8922912523823519,
          "time": 12.032,
          "trial": 7
         },
         {
          "mean_intensity": 750.14375,
          "normalized_intensity": 0.8961694290773415,
          "time": 12.22,
          "trial": 7
         },
         {
          "mean_intensity": 756.47375,
          "normalized_intensity": 0.903731649633148,
          "time": 12.408,
          "trial": 7
         },
         {
          "mean_intensity": 750.070625,
          "normalized_intensity": 0.8960820693019635,
          "time": 12.595999999999998,
          "trial": 7
         },
         {
          "mean_intensity": 740.11375,
          "normalized_intensity": 0.8841869532203532,
          "time": 12.784,
          "trial": 7
         },
         {
          "mean_intensity": 757.345625,
          "normalized_intensity": 0.9047732469549636,
          "time": 12.972000000000001,
          "trial": 7
         },
         {
          "mean_intensity": 763.554375,
          "normalized_intensity": 0.9121906145498866,
          "time": 13.16,
          "trial": 7
         },
         {
          "mean_intensity": 748.388125,
          "normalized_intensity": 0.8940720478035206,
          "time": 13.347999999999999,
          "trial": 7
         },
         {
          "mean_intensity": 753.758125,
          "normalized_intensity": 0.9004873913082092,
          "time": 13.536,
          "trial": 7
         },
         {
          "mean_intensity": 740.725625,
          "normalized_intensity": 0.8849179380074914,
          "time": 13.724,
          "trial": 7
         },
         {
          "mean_intensity": 736.78125,
          "normalized_intensity": 0.8802057367903019,
          "time": 13.912,
          "trial": 7
         },
         {
          "mean_intensity": 744.910625,
          "normalized_intensity": 0.8899176051522067,
          "time": 14.1,
          "trial": 7
         },
         {
          "mean_intensity": 771.964375,
          "normalized_intensity": 0.922237735383114,
          "time": 14.288,
          "trial": 7
         },
         {
          "mean_intensity": 757.16375,
          "normalized_intensity": 0.9045559675136386,
          "time": 14.475999999999999,
          "trial": 7
         },
         {
          "mean_intensity": 756.661875,
          "normalized_intensity": 0.9039563957219412,
          "time": 14.664000000000001,
          "trial": 7
         },
         {
          "mean_intensity": 755.96875,
          "normalized_intensity": 0.9031283445177164,
          "time": 14.852,
          "trial": 7
         },
         {
          "mean_intensity": 748.314375,
          "normalized_intensity": 0.8939839413633958,
          "time": 15.04,
          "trial": 7
         },
         {
          "mean_intensity": 743.333125,
          "normalized_intensity": 0.8880330233312298,
          "time": 15.228,
          "trial": 7
         },
         {
          "mean_intensity": 724.436875,
          "normalized_intensity": 0.8654583613758343,
          "time": 15.415999999999999,
          "trial": 7
         },
         {
          "mean_intensity": 738.806875,
          "normalized_intensity": 0.8826256772347499,
          "time": 15.604000000000001,
          "trial": 7
         },
         {
          "mean_intensity": 744.103125,
          "normalized_intensity": 0.8889529142993137,
          "time": 15.792,
          "trial": 7
         },
         {
          "mean_intensity": 750.714375,
          "normalized_intensity": 0.8968511339911895,
          "time": 15.98,
          "trial": 7
         },
         {
          "mean_intensity": 737.726875,
          "normalized_intensity": 0.8813354405522426,
          "time": 16.168,
          "trial": 7
         },
         {
          "mean_intensity": 742.23,
          "normalized_intensity": 0.8867151600530903,
          "time": 16.355999999999998,
          "trial": 7
         },
         {
          "mean_intensity": 749.0375,
          "normalized_intensity": 0.8948478324754681,
          "time": 16.544,
          "trial": 7
         },
         {
          "mean_intensity": 747.475,
          "normalized_intensity": 0.8929811706084146,
          "time": 16.732,
          "trial": 7
         },
         {
          "mean_intensity": 756.35125,
          "normalized_intensity": 0.903585303342771,
          "time": 16.92,
          "trial": 7
         },
         {
          "mean_intensity": 753.69375,
          "normalized_intensity": 0.9004104848392868,
          "time": 17.108,
          "trial": 7
         },
         {
          "mean_intensity": 753.400625,
          "normalized_intensity": 0.9000602990730275,
          "time": 17.296,
          "trial": 7
         },
         {
          "mean_intensity": 721.433125,
          "normalized_intensity": 0.8618698906026111,
          "time": 17.484,
          "trial": 7
         },
         {
          "mean_intensity": 725.735625,
          "normalized_intensity": 0.8670099307197291,
          "time": 17.672,
          "trial": 7
         },
         {
          "mean_intensity": 746.5675,
          "normalized_intensity": 0.8918970133960301,
          "time": 17.86,
          "trial": 7
         },
         {
          "mean_intensity": 740.784375,
          "normalized_intensity": 0.8849881244936925,
          "time": 18.048,
          "trial": 7
         },
         {
          "mean_intensity": 744.095625,
          "normalized_intensity": 0.8889439543223518,
          "time": 18.236,
          "trial": 7
         },
         {
          "mean_intensity": 733.30125,
          "normalized_intensity": 0.876048307480001,
          "time": 18.424,
          "trial": 7
         },
         {
          "mean_intensity": 745.316875,
          "normalized_intensity": 0.8904029372376406,
          "time": 18.612000000000002,
          "trial": 7
         },
         {
          "mean_intensity": 751.026875,
          "normalized_intensity": 0.8972244663646002,
          "time": 18.8,
          "trial": 7
         },
         {
          "mean_intensity": 773.838125,
          "normalized_intensity": 0.9244762362940844,
          "time": 18.988,
          "trial": 7
         },
         {
          "mean_intensity": 745.701875,
          "normalized_intensity": 0.8908628827216826,
          "time": 19.176,
          "trial": 7
         },
         {
          "mean_intensity": 748.194375,
          "normalized_intensity": 0.893840581732006,
          "time": 19.364,
          "trial": 7
         },
         {
          "mean_intensity": 747.26,
          "normalized_intensity": 0.8927243179355081,
          "time": 19.552,
          "trial": 7
         },
         {
          "mean_intensity": 749.441875,
          "normalized_intensity": 0.8953309245666613,
          "time": 19.74,
          "trial": 7
         },
         {
          "mean_intensity": 728.621875,
          "normalized_intensity": 0.8704580285205499,
          "time": 19.928,
          "trial": 7
         },
         {
          "mean_intensity": 735.89125,
          "normalized_intensity": 0.8791424861908285,
          "time": 20.116,
          "trial": 7
         },
         {
          "mean_intensity": 735.755625,
          "normalized_intensity": 0.8789804599407682,
          "time": 20.304000000000002,
          "trial": 7
         },
         {
          "mean_intensity": 747.1,
          "normalized_intensity": 0.8925331717603219,
          "time": 20.491999999999997,
          "trial": 7
         },
         {
          "mean_intensity": 738.4275,
          "normalized_intensity": 0.8821724517334294,
          "time": 20.68,
          "trial": 7
         },
         {
          "mean_intensity": 731.796875,
          "normalized_intensity": 0.8742510854344021,
          "time": 20.868000000000002,
          "trial": 7
         },
         {
          "mean_intensity": 750.1275,
          "normalized_intensity": 0.8961500157939244,
          "time": 21.055999999999997,
          "trial": 7
         },
         {
          "mean_intensity": 741.176875,
          "normalized_intensity": 0.8854570299546963,
          "time": 21.244,
          "trial": 7
         },
         {
          "mean_intensity": 738.964375,
          "normalized_intensity": 0.8828138367509489,
          "time": 21.432,
          "trial": 7
         },
         {
          "mean_intensity": 726.7025,
          "normalized_intensity": 0.8681650210830616,
          "time": 21.62,
          "trial": 7
         },
         {
          "mean_intensity": 722.890625,
          "normalized_intensity": 0.8636111127921984,
          "time": 21.808000000000003,
          "trial": 7
         },
         {
          "mean_intensity": 734.063125,
          "normalized_intensity": 0.8769584918063762,
          "time": 21.996,
          "trial": 7
         },
         {
          "mean_intensity": 735.17,
          "normalized_intensity": 0.8782808350729966,
          "time": 22.184,
          "trial": 7
         },
         {
          "mean_intensity": 749.97875,
          "normalized_intensity": 0.8959723095841808,
          "time": 22.372,
          "trial": 7
         },
         {
          "mean_intensity": 740.81625,
          "normalized_intensity": 0.8850262043957804,
          "time": 22.56,
          "trial": 7
         },
         {
          "mean_intensity": 739.898125,
          "normalized_intensity": 0.8839293538826999,
          "time": 22.748,
          "trial": 7
         },
         {
          "mean_intensity": 742.755,
          "normalized_intensity": 0.8873423584404201,
          "time": 22.936,
          "trial": 7
         },
         {
          "mean_intensity": 742.87125,
          "normalized_intensity": 0.8874812380833289,
          "time": 23.124000000000002,
          "trial": 7
         },
         {
          "mean_intensity": 740.76625,
          "normalized_intensity": 0.8849664712160347,
          "time": 23.311999999999998,
          "trial": 7
         },
         {
          "mean_intensity": 737.4325,
          "normalized_intensity": 0.8809837614564898,
          "time": 23.5,
          "trial": 7
         },
         {
          "mean_intensity": 736.408125,
          "normalized_intensity": 0.8797599779364498,
          "time": 23.688000000000002,
          "trial": 7
         },
         {
          "mean_intensity": 737.69375,
          "normalized_intensity": 0.8812958673206611,
          "time": 23.875999999999998,
          "trial": 7
         },
         {
          "mean_intensity": 732.053125,
          "normalized_intensity": 0.8745572179805988,
          "time": 24.064,
          "trial": 7
         }
        ]
       },
       "encoding": {
        "color": {
         "field": "trial",
         "type": "nominal"
        },
        "order": {
         "field": "time",
         "type": "quantitative"
        },
        "x": {
         "field": "time",
         "title": "time (s)",
         "type": "quantitative"
        },
        "y": {
         "field": "normalized_intensity",
         "title": "normalized intensity",
         "type": "quantitative"
        }
       },
       "mark": {
        "strokeJoin": "bevel",
        "type": "line"
       }
      },
      "image/png": "[encoded data removed]",
      "text/plain": [
       "<VegaLite 2 object>\n",
       "\n",
       "If you see this message, it means the renderer has not been properly enabled\n",
       "for the frontend that you are using. For more information, see\n",
       "https://altair-viz.github.io/user_guide/troubleshooting.html\n"
      ]
     },
     "execution_count": 23,
     "metadata": {},
     "output_type": "execute_result"
    }
   ],
   "source": [
    "alt.Chart(df\n",
    "    ).mark_line(\n",
    "        strokeJoin='bevel'\n",
    "    ).encode(\n",
    "        x=alt.X('time:Q', title='time (s)'),\n",
    "        y=alt.Y('normalized_intensity:Q', title='normalized intensity'),\n",
    "        color='trial:N',\n",
    "        order='time:Q'\n",
    "    )"
   ]
  },
  {
   "cell_type": "code",
   "execution_count": 95,
   "metadata": {},
   "outputs": [],
   "source": [
    "t = df.loc[df['trial']==1, 'time'].values\n",
    "v1 = df.loc[df['trial']==1, 'normalized_intensity'].values"
   ]
  },
  {
   "cell_type": "code",
   "execution_count": 227,
   "metadata": {},
   "outputs": [],
   "source": [
    "def data_prior_pred(t, n_ppc_samples=1):\n",
    "    '''\n",
    "    Samples parameter values according to the prior and generates\n",
    "    data y at the values given in x.\n",
    "    '''\n",
    "#     sigma = np.abs(np.random.normal(0, 0.01, size=n_ppc_samples))\n",
    "#     i_0 = np.random.normal(1, sigma, size=n_ppc_samples)\n",
    "#     k_off = np.random.lognormal(np.log(0.2), 0.5, size=n_ppc_samples)\n",
    "#     D = np.random.lognormal(np.log(0.3), 0.75, size=n_ppc_samples)\n",
    "#     fb = np.random.beta(6, 3, size=n_ppc_samples)\n",
    "#     ff = np.random.beta(15, 1, size=n_ppc_samples)\n",
    "    fb, ff, k_off, D, sigma = [0.86130123, 0.96535866, 0.13684066, 0.80284614, 0.0130514]\n",
    "    data = np.array([np.random.normal(fluo_bleach_cal(t0, fb, ff, k_off, D),\n",
    "                                      sigma, size=1) \n",
    "                        for t0 in t])\n",
    "    return np.concatenate(data)"
   ]
  },
  {
   "cell_type": "code",
   "execution_count": 228,
   "metadata": {},
   "outputs": [
    {
     "data": {
      "text/html": [
       "\n",
       "\n",
       "\n",
       "\n",
       "\n",
       "\n",
       "  <div class=\"bk-root\" id=\"66ee5bb5-e277-44be-a354-45c51f649e3c\"></div>\n"
      ]
     },
     "metadata": {},
     "output_type": "display_data"
    },
    {
     "data": {
      "application/javascript": [
       "(function(root) {\n",
       "  function embed_document(root) {\n",
       "    \n",
       "  var docs_json = {\"021f3a38-ead7-4459-b4cb-a87fa08647a8\":{\"roots\":{\"references\":[{\"attributes\":{\"source\":{\"id\":\"c15d8590-c8be-4b0b-9d58-14f4d2296db3\",\"type\":\"ColumnDataSource\"}},\"id\":\"0261ff14-6957-41a0-879e-f2d3a7423500\",\"type\":\"CDSView\"},{\"attributes\":{},\"id\":\"8c0cb181-242a-444f-966d-f95b01dcd3ad\",\"type\":\"BasicTickFormatter\"},{\"attributes\":{\"fill_color\":{\"value\":\"black\"},\"x\":{\"field\":\"x\"},\"y\":{\"field\":\"y\"}},\"id\":\"cab17205-4edc-430b-909b-23d08825f544\",\"type\":\"Circle\"},{\"attributes\":{\"fill_alpha\":{\"value\":0.1},\"fill_color\":{\"value\":\"#1f77b4\"},\"line_alpha\":{\"value\":0.1},\"line_color\":{\"value\":\"#1f77b4\"},\"x\":{\"field\":\"x\"},\"y\":{\"field\":\"y\"}},\"id\":\"bb3c62bc-6129-49c3-ba91-b6bacb390450\",\"type\":\"Circle\"},{\"attributes\":{\"data_source\":{\"id\":\"51b1203e-9adb-4d73-9ea9-26f3f1b8cb53\",\"type\":\"ColumnDataSource\"},\"glyph\":{\"id\":\"cab17205-4edc-430b-909b-23d08825f544\",\"type\":\"Circle\"},\"hover_glyph\":null,\"muted_glyph\":null,\"nonselection_glyph\":{\"id\":\"bb3c62bc-6129-49c3-ba91-b6bacb390450\",\"type\":\"Circle\"},\"selection_glyph\":null,\"view\":{\"id\":\"889d9027-d659-41a3-b8b1-adf7d28c7787\",\"type\":\"CDSView\"}},\"id\":\"34866a98-d462-4b8f-ab56-c4e5677f7bfd\",\"type\":\"GlyphRenderer\"},{\"attributes\":{\"plot\":{\"id\":\"f47171e5-dcd0-48c5-8d64-cd16616d47c5\",\"subtype\":\"Figure\",\"type\":\"Plot\"},\"ticker\":{\"id\":\"1947c21d-e277-41f4-a866-3e88a8c5c79e\",\"type\":\"BasicTicker\"}},\"id\":\"97fbaf5c-245f-4e87-aa28-b6c69d04f874\",\"type\":\"Grid\"},{\"attributes\":{\"source\":{\"id\":\"51b1203e-9adb-4d73-9ea9-26f3f1b8cb53\",\"type\":\"ColumnDataSource\"}},\"id\":\"889d9027-d659-41a3-b8b1-adf7d28c7787\",\"type\":\"CDSView\"},{\"attributes\":{},\"id\":\"f5f92b63-5434-47e3-b5fa-bdddaca9bd1b\",\"type\":\"UnionRenderers\"},{\"attributes\":{},\"id\":\"93efb33f-5918-4e17-bf30-ec8318f638c3\",\"type\":\"BasicTickFormatter\"},{\"attributes\":{\"callback\":null,\"data\":{\"x\":{\"__ndarray__\":\"FK5H4XoUDsD6fmq8dJMMwN9PjZduEgvAxSCwcmiRCcCq8dJNYhAIwI/C9ShcjwbAdJMYBFYOBcBaZDvfT40DwD81XrpJDALAJQaBlUOLAMAUrkfhehT+v99PjZduEvu/qvHSTWIQ+L90kxgEVg71vz81XrpJDPK/FK5H4XoU7r+q8dJNYhDov0A1XrpJDOK/qvHSTWIQ2L+q8dJNYhDIvwAAAAAAAAAAqvHSTWIQyD+q8dJNYhDYP0A1XrpJDOI/qvHSTWIQ6D8UrkfhehTuPz81XrpJDPI/dJMYBFYO9T+q8dJNYhD4P99PjZduEvs/FK5H4XoU/j8lBoGVQ4sAQD81XrpJDAJAWmQ730+NA0B0kxgEVg4FQI/C9ShcjwZAqvHSTWIQCEDFILByaJEJQN9PjZduEgtA+n5qvHSTDEAUrkfhehQOQC/dJAaBlQ9AJQaBlUOLEECyne+nxksRQEA1XrpJDBJAzczMzMzMEkBaZDvfT40TQOj7qfHSTRRAdJMYBFYOFUADK4cW2c4VQI/C9ShcjxZAHFpkO99PF0Cq8dJNYhAYQDeJQWDl0BhAxSCwcmiRGUBSuB6F61EaQN9PjZduEhtAbef7qfHSG0D6fmq8dJMcQIgW2c73Ux1AFK5H4XoUHkChRbbz/dQeQC/dJAaBlR9AXrpJDAIrIEAlBoGVQ4sgQOxRuB6F6yBAsp3vp8ZLIUB56SYxCKwhQD81XrpJDCJABoGVQ4tsIkDNzMzMzMwiQJMYBFYOLSNAWmQ730+NI0AhsHJoke0jQOj7qfHSTSRArkfhehSuJEB0kxgEVg4lQDvfT42XbiVAAyuHFtnOJUDJdr6fGi8mQI/C9ShcjyZAVg4tsp3vJkAcWmQ7308nQOSlm8QgsCdAqvHSTWIQKEBxPQrXo3AoQDeJQWDl0ChA/dR46SYxKUDFILByaJEpQIxs5/up8SlAUrgehetRKkAYBFYOLbIqQN9PjZduEitAppvEILByK0Bt5/up8dIrQDMzMzMzMyxA+n5qvHSTLEDAyqFFtvMsQIgW2c73Uy1ATmIQWDm0LUAUrkfhehQuQNv5fmq8dC5AoUW28/3ULkBpke18PzUvQC/dJAaBlS9A9ihcj8L1L0BeukkMAiswQEFg5dAiWzBAJQaBlUOLMEAIrBxaZLswQOxRuB6F6zBAz/dT46UbMUCyne+nxksxQJZDi2znezFAeekmMQisMUBcj8L1KNwxQD81XrpJDDJAI9v5fmo8MkAGgZVDi2wyQOomMQisnDJAzczMzMzMMkCwcmiR7fwyQJMYBFYOLTNAd76fGi9dM0BaZDvfT40zQD0K16NwvTNAIbByaJHtM0AEVg4tsh00QOj7qfHSTTRAyqFFtvN9NECuR+F6FK40QJLtfD813jRAdJMYBFYONUBYObTIdj41QDvfT42XbjVAH4XrUbieNUADK4cW2c41QOXQItv5/jVAyXa+nxovNkCsHFpkO182QI/C9ShcjzZAc2iR7Xy/NkBWDi2yne82QDq0yHa+HzdAHFpkO99PN0AAAAAAAIA3QOSlm8QgsDdAxks3iUHgN0Cq8dJNYhA4QA==\",\"dtype\":\"float64\",\"shape\":[149]},\"y\":{\"__ndarray__\":\"sLXYgeTD7z9Taq4m4jXwP5XqbkGPte4/eaZOSHQ/8D9IjodTwZnvPwkDNrCms+8/yJHGAJeY7z/nl8D7ZejvP4VWU3r5mu8/6/GH/aAi8D+wlXNoeW3wP0DprpNxGPA/yOb3T6Wz7z8LYrMwxunvPydjdCWktO8/RFSBSEsi8D/TYlyTYYvvPwG3geL4B/A/O5s4kSsh8D8E91jKk7zvP+SWwHzAjcA/sDJ1c98t0j8ENNyqoB3YPy5kXwOSkdg/RFJUT9723D+4O40rUg7ePw62B5kOfeA/dPTtCqHO4D++1P9NtL/hP/mjfpssTeI/SVN0GOmI4z/zfdXx1HrjPzMCXMWD0uQ/pgEP/Vn05D/TC4VcMO7lP8LcQyR9POU/TNxujKVU5z9GMsp6mS/nP71yAHuiMec/wb+UURgt6D9LMxpFxW3nPwLyvoEJGeg/5uHQSnDZ6D8BDELhbPzoP76Hy/AOr+k/El071LuV6T+67FnVEtrpP8O+9y1LXeo/OvhwWMUP6j+9FMmb987qPxJ/jbjEx+o/VpnJ1SJV6j9VE3/Dq+TqP1QwHIcoeeo/bexJCYdr6z/Tr8QSfd3qP7JcheQoG+w/RD1R673l6z9zelDK6U7sP+B1OLn9euw/F1KnRZ5G7D/RedqsmnvsP+cfBSc7Nuw/4B6eRaVg7D+y3gnmxpvsP1zD3h766uw/qrRAD8AW7T+2F0zGhInsPwRYlPASMe0/+6QQ0GNb7T9+ONxC797tP1fSwdJiAe4/Q0hASTnk7T8yS0Gjww/tP+awUnn/Me0/4QwA9CbQ7T+zcBdI8gbtP3lRPIlU5ew/31YBEPm97T98yNtd0HrtPwvrwHGrtu0/WdTlR5fo7T/srw3NZuztP6Ly+wjqhO4/li7/Am8V7j9FiDO+rMHsPwnLgTnNOe4/wNCVUrBL7j+28/nUGObtP/uWYL+9Ie4/r8MxytKi7T/BHVGataXuPwCH1TNC7u0/XB71PqRe7j/mCM1lNtLuP4vNSepPoe4/Iw9l74Kh7j/+54K7g4LuP91fbCXihe4/118ittaA7j/b9lUflB/uP+pN8NzF4e0/0weTHy9Y7j872fJ1C9fuPxHWrRJBte4/v5FORv/p7T/dhWIW0PPtP1loL9cq7u0/d8Hh752E7j9pVg5TXmzuPxqZm7k1vO0/pMnH7IaG7j9nQORq/OXtP5WbitP3xe4/ULov4nrW7T/mnbR1lvzuP5nZLLAzWe4/Eo5pc/Nh7z9S9wUpEZruP9X83SPhk+4/EZMlP7Ar7j9SP3jWq/PtP0ADEnowNu8/SnO4YayL7j9BLIN9K6DuP9WBMKyX4u4/XsLeQ9VB7j/kbalp+PruP2WD+gQPyO4/rb8/yHm87j9iHofk9JLuP2x+eOEI4O4/6mXpad7j7T+lViWEL0TuP4M9xES5gO8/Gn97xuWP7j9TfpONbCfvP7z/VOYAoO8/OIXtJ6UD7z/gUOtBe23uP5zrHue9b+4/TZGmByA97z/KnExZWUjuP+WW/URX4+4/5s32RN0u7z+Qfb4N4MzuPy9DikmiUO4/n8rxCFD/7j/gLjw0mhbvPw==\",\"dtype\":\"float64\",\"shape\":[149]}},\"selected\":{\"id\":\"96230325-65bb-4e94-b94c-c5461a7bcc21\",\"type\":\"Selection\"},\"selection_policy\":{\"id\":\"f5f92b63-5434-47e3-b5fa-bdddaca9bd1b\",\"type\":\"UnionRenderers\"}},\"id\":\"d689bbb9-323f-4135-97bc-ad16aca0556e\",\"type\":\"ColumnDataSource\"},{\"attributes\":{},\"id\":\"96230325-65bb-4e94-b94c-c5461a7bcc21\",\"type\":\"Selection\"},{\"attributes\":{\"axis_label\":\"Score (scaled)\",\"formatter\":{\"id\":\"93efb33f-5918-4e17-bf30-ec8318f638c3\",\"type\":\"BasicTickFormatter\"},\"plot\":{\"id\":\"f47171e5-dcd0-48c5-8d64-cd16616d47c5\",\"subtype\":\"Figure\",\"type\":\"Plot\"},\"ticker\":{\"id\":\"5bc2f47d-cf83-4e87-8552-1521d8e401e8\",\"type\":\"BasicTicker\"}},\"id\":\"72542ba6-325c-47e3-976e-c9fb6bc2915a\",\"type\":\"LinearAxis\"},{\"attributes\":{},\"id\":\"27163f80-f4d0-476a-b50c-f953808eed72\",\"type\":\"UnionRenderers\"},{\"attributes\":{},\"id\":\"4f263680-4f67-447a-8cac-6d7805473b43\",\"type\":\"Selection\"},{\"attributes\":{},\"id\":\"bb5fca47-2363-4512-b1dd-830d1592313e\",\"type\":\"UnionRenderers\"},{\"attributes\":{},\"id\":\"2433c06e-a863-4104-99c0-ceb43f3d62f0\",\"type\":\"Selection\"},{\"attributes\":{},\"id\":\"847c8f2e-dcbf-4ef7-b85d-fa1d6ac52385\",\"type\":\"UnionRenderers\"},{\"attributes\":{},\"id\":\"d0db864f-0e31-49fb-9c06-64a5bdbf1266\",\"type\":\"Selection\"},{\"attributes\":{},\"id\":\"85846e58-216c-4f05-a7d7-b6be1af6d89d\",\"type\":\"UnionRenderers\"},{\"attributes\":{},\"id\":\"fbf46f5b-913c-4ef0-9cc0-6ab665bf2917\",\"type\":\"Selection\"},{\"attributes\":{},\"id\":\"745763ae-2c83-42ce-b616-52371e5bd6e2\",\"type\":\"UnionRenderers\"},{\"attributes\":{},\"id\":\"df2398b6-150e-4c85-8892-32d4e6fda012\",\"type\":\"Selection\"},{\"attributes\":{},\"id\":\"a4e55a8c-064f-408c-a75e-69f6ee0ed5da\",\"type\":\"UnionRenderers\"},{\"attributes\":{},\"id\":\"7d166f13-9328-4a14-a317-5ae6cc2bc3d7\",\"type\":\"Selection\"},{\"attributes\":{},\"id\":\"9e09ea5b-87da-46e1-a6bd-403ffaea0ac2\",\"type\":\"UnionRenderers\"},{\"attributes\":{},\"id\":\"a39cb861-0ca6-46f4-96d2-fc0f11c20963\",\"type\":\"Selection\"},{\"attributes\":{},\"id\":\"a5f10476-c6eb-4b4b-9a3b-aa4b6422c94e\",\"type\":\"UnionRenderers\"},{\"attributes\":{},\"id\":\"330437c6-73f8-4586-b11d-bee0e546f5b3\",\"type\":\"Selection\"},{\"attributes\":{\"active_drag\":\"auto\",\"active_inspect\":\"auto\",\"active_multi\":null,\"active_scroll\":\"auto\",\"active_tap\":\"auto\",\"tools\":[{\"id\":\"f0410005-fa1e-495d-ada2-eb3ad95c4b2d\",\"type\":\"PanTool\"},{\"id\":\"c2d849de-3401-4f05-afc2-22793fba3b49\",\"type\":\"WheelZoomTool\"},{\"id\":\"25284324-b4a9-48a3-9691-2c60e24c8c5a\",\"type\":\"BoxZoomTool\"},{\"id\":\"d97533a0-7d1b-4010-9e1e-9c686ff7c917\",\"type\":\"SaveTool\"},{\"id\":\"db1ee7b2-ac75-4d1c-a8bc-964573e30f4d\",\"type\":\"ResetTool\"},{\"id\":\"6ec481ba-39fc-43d1-ad6d-435251bf19cb\",\"type\":\"HelpTool\"}]},\"id\":\"32890f60-1ad8-41e1-8d26-c8a9b9aa77c4\",\"type\":\"Toolbar\"},{\"attributes\":{\"data_source\":{\"id\":\"d689bbb9-323f-4135-97bc-ad16aca0556e\",\"type\":\"ColumnDataSource\"},\"glyph\":{\"id\":\"aa2b0c67-9d65-4f46-ad0c-2ce599b41f8a\",\"type\":\"Line\"},\"hover_glyph\":null,\"muted_glyph\":null,\"nonselection_glyph\":{\"id\":\"bd6ee95d-3daa-432e-a03c-2ec9d862ddc4\",\"type\":\"Line\"},\"selection_glyph\":null,\"view\":{\"id\":\"2f31fbfa-f970-4d30-a7c7-a59b20113030\",\"type\":\"CDSView\"}},\"id\":\"e6cef06a-20f7-4b64-a9db-dd49e42aa27b\",\"type\":\"GlyphRenderer\"},{\"attributes\":{},\"id\":\"0cba0e07-5a8b-471d-97bd-52b1082fe414\",\"type\":\"UnionRenderers\"},{\"attributes\":{\"callback\":null,\"data\":{\"x\":{\"__ndarray__\":\"FK5H4XoUDsD6fmq8dJMMwN9PjZduEgvAxSCwcmiRCcCq8dJNYhAIwI/C9ShcjwbAdJMYBFYOBcBaZDvfT40DwD81XrpJDALAJQaBlUOLAMAUrkfhehT+v99PjZduEvu/qvHSTWIQ+L90kxgEVg71vz81XrpJDPK/FK5H4XoU7r+q8dJNYhDov0A1XrpJDOK/qvHSTWIQ2L+q8dJNYhDIvwAAAAAAAAAAqvHSTWIQyD+q8dJNYhDYP0A1XrpJDOI/qvHSTWIQ6D8UrkfhehTuPz81XrpJDPI/dJMYBFYO9T+q8dJNYhD4P99PjZduEvs/FK5H4XoU/j8lBoGVQ4sAQD81XrpJDAJAWmQ730+NA0B0kxgEVg4FQI/C9ShcjwZAqvHSTWIQCEDFILByaJEJQN9PjZduEgtA+n5qvHSTDEAUrkfhehQOQC/dJAaBlQ9AJQaBlUOLEECyne+nxksRQEA1XrpJDBJAzczMzMzMEkBaZDvfT40TQOj7qfHSTRRAdJMYBFYOFUADK4cW2c4VQI/C9ShcjxZAHFpkO99PF0Cq8dJNYhAYQDeJQWDl0BhAxSCwcmiRGUBSuB6F61EaQN9PjZduEhtAbef7qfHSG0D6fmq8dJMcQIgW2c73Ux1AFK5H4XoUHkChRbbz/dQeQC/dJAaBlR9AXrpJDAIrIEAlBoGVQ4sgQOxRuB6F6yBAsp3vp8ZLIUB56SYxCKwhQD81XrpJDCJABoGVQ4tsIkDNzMzMzMwiQJMYBFYOLSNAWmQ730+NI0AhsHJoke0jQOj7qfHSTSRArkfhehSuJEB0kxgEVg4lQDvfT42XbiVAAyuHFtnOJUDJdr6fGi8mQI/C9ShcjyZAVg4tsp3vJkAcWmQ7308nQOSlm8QgsCdAqvHSTWIQKEBxPQrXo3AoQDeJQWDl0ChA/dR46SYxKUDFILByaJEpQIxs5/up8SlAUrgehetRKkAYBFYOLbIqQN9PjZduEitAppvEILByK0Bt5/up8dIrQDMzMzMzMyxA+n5qvHSTLEDAyqFFtvMsQIgW2c73Uy1ATmIQWDm0LUAUrkfhehQuQNv5fmq8dC5AoUW28/3ULkBpke18PzUvQC/dJAaBlS9A9ihcj8L1L0BeukkMAiswQEFg5dAiWzBAJQaBlUOLMEAIrBxaZLswQOxRuB6F6zBAz/dT46UbMUCyne+nxksxQJZDi2znezFAeekmMQisMUBcj8L1KNwxQD81XrpJDDJAI9v5fmo8MkAGgZVDi2wyQOomMQisnDJAzczMzMzMMkCwcmiR7fwyQJMYBFYOLTNAd76fGi9dM0BaZDvfT40zQD0K16NwvTNAIbByaJHtM0AEVg4tsh00QOj7qfHSTTRAyqFFtvN9NECuR+F6FK40QJLtfD813jRAdJMYBFYONUBYObTIdj41QDvfT42XbjVAH4XrUbieNUADK4cW2c41QOXQItv5/jVAyXa+nxovNkCsHFpkO182QI/C9ShcjzZAc2iR7Xy/NkBWDi2yne82QDq0yHa+HzdAHFpkO99PN0AAAAAAAIA3QOSlm8QgsDdAxks3iUHgN0Cq8dJNYhA4QA==\",\"dtype\":\"float64\",\"shape\":[149]},\"y\":{\"__ndarray__\":\"CVN6fEPy7z8HNWlwnBrwPxoxL8Cdxe8/lrdb5fsy8D8GT/zx5yHwP1x9l6QxkO8/4PeK6X9x7z/B30ZdyjXwP3bEnS23EPA/S1RmaRIG8D+E/v6MWRvwP2UEhSWgIvA/v8qaWWTM7z/lMOVCXeHvP1oWmeuREPA/RJOoTuFu7j+KUSL+jhXwP692k92h9u8/cp4z9BWe7z/gxM6T3R3wP5ChNKWFf7s/49GO7y3N0D8eP/+Y2C3WP67nXCYovNk/HuI5wpTl3D+Y4mhfYNPfP2kXt523FuA/SHNsUivl4D9QFxb/YdLhP4U5bW/1VOI/U1AZjUY84z8f3SxksuLjPz8FHJIZhuU/GjIEN0dp5T/hvfaMJ5zlP3aK60k7beY/IPDvzPfU5T+Xgsv8PT3nP4qJGo4naOc/R5wlSOjj5z+78qbwB4ToP5HVDeFzVOg/O2dcQSOC6T8KBEeSg+joP9t4wgEkBOk/pjc8wcx56T/MevGNv6XpPzzzuEXbk+k/0DeL1AzO6T8W5vlzGkTqPyy4/j3qR+s/VKFlxh9f6z86T0ZY9BnqP0HuPiExJus/Xl7PNJM46z85gVWtc5LqP0bttKyUpus/k0FbwKiQ6z8FM4XtkirsP0H62LgUtew/N/+ATDvd6z+6ZrpB5IjsP/bEborgi+w/2uvlWrmZ7D/O5J4R7ibsPz+uE8Rwxuw/bREUNmt57T+cKkzdkafsP3dXw8xurOw/ElAB7+dD7D8nwIxLm4HtPx+0jekr0uw/ySlWqsVY7T8gKlRT7IPtP5M+eCxGuO0/nX6mztSe7T9cEZMXOCPuPzdK4O4wwe0/w/mLVqIP7j9r2Ay1oSDuP67xIz8Ls+0/YXY/3EGN7T9H0CM/PzXuP51TpqwrYu0/GMg3i80G7T+IN00+sznuP8Nstf073O0/TxHGZodF7j9yK+7MCJLuP8onTiKLde0/31ka1w1D7j+vrlhXktftPyw88yS5Oe4/xAhr80XA7T9EtxQ6uAbuP5s57hPXeu8/aahmZhMg7j+jqvFvypftP+ptxIfAI+4/3ELr26WA7j+ad98PpS/uP9Vpc/cLOe4/jxn4Q7ep7T8V82mX19juP6KUKl59q+4/ZzynBbd+7j+Oo7MaJNvuP+pzO1+juO4/k5NX3+j57T/tqv8vUmbuP3sELRAWN+4/iTlddABb7j89ulDCwobuP2/yP63J1u4/ImKZJVzE7T9To4XFUGjuP+ZpZtewTu4/L+/lkKzX7j8nzs1NS4HuP/Vk9Vslr+0/iWx+2FbG7j8lGn4tqJ3uP/9TVSd3gO4/+4ZjYxG47j/rBjkmR3fuP4GUZNtdTu4/PlNNdHLJ7j+V3bocCA3uP9PAnhays+4/DsgVUNr67j8erRBPFJHuP3RZ1LjrWO8/d/QJh3xP7j8E/bim4kXuPyRY/GHm2u4/Zzpvgj5z7j/GN3t+b0vuPxkf+bV1CO8/4mfZIQEA7z/uAtC/ks3uPwOQz5VYke8/ZEbXWVuP7j/GvuedA9DuP+610VKP/e4/LJ38PXeT7j+MiH5YN0vvPyUFG3Kua+8/YawugCmf7z8fz8O/QEfvPw==\",\"dtype\":\"float64\",\"shape\":[149]}},\"selected\":{\"id\":\"df2398b6-150e-4c85-8892-32d4e6fda012\",\"type\":\"Selection\"},\"selection_policy\":{\"id\":\"745763ae-2c83-42ce-b616-52371e5bd6e2\",\"type\":\"UnionRenderers\"}},\"id\":\"019b57fd-1b45-4f41-a326-0c417f6b29eb\",\"type\":\"ColumnDataSource\"},{\"attributes\":{},\"id\":\"0387f428-1574-4613-ad37-354989ceed6a\",\"type\":\"Selection\"},{\"attributes\":{\"below\":[{\"id\":\"b36577b1-ea62-49c4-9787-0c933482d1ac\",\"type\":\"LinearAxis\"}],\"left\":[{\"id\":\"72542ba6-325c-47e3-976e-c9fb6bc2915a\",\"type\":\"LinearAxis\"}],\"plot_height\":300,\"plot_width\":450,\"renderers\":[{\"id\":\"b36577b1-ea62-49c4-9787-0c933482d1ac\",\"type\":\"LinearAxis\"},{\"id\":\"97fbaf5c-245f-4e87-aa28-b6c69d04f874\",\"type\":\"Grid\"},{\"id\":\"72542ba6-325c-47e3-976e-c9fb6bc2915a\",\"type\":\"LinearAxis\"},{\"id\":\"f69514d6-34e5-44b3-bd6d-954978c6650e\",\"type\":\"Grid\"},{\"id\":\"28650cec-4da2-4aef-8f71-b45003f80316\",\"type\":\"BoxAnnotation\"},{\"id\":\"e6cef06a-20f7-4b64-a9db-dd49e42aa27b\",\"type\":\"GlyphRenderer\"},{\"id\":\"68daaad7-e095-4b26-bd75-c0f5d803c6b7\",\"type\":\"GlyphRenderer\"},{\"id\":\"0d95e3cd-355d-4501-82cb-2293ada8c64a\",\"type\":\"GlyphRenderer\"},{\"id\":\"18ab0265-eccf-4b7a-a20a-f315bd3697c0\",\"type\":\"GlyphRenderer\"},{\"id\":\"f0411168-b328-4a75-be5d-3e1301721570\",\"type\":\"GlyphRenderer\"},{\"id\":\"f17f003f-482e-4838-b44f-f5d53e5438e8\",\"type\":\"GlyphRenderer\"},{\"id\":\"c12c73bc-4d28-4ddc-be35-d4a2099a8636\",\"type\":\"GlyphRenderer\"},{\"id\":\"7a3c2a9d-c901-4d2a-a8b7-2fb216a64f42\",\"type\":\"GlyphRenderer\"},{\"id\":\"6eb8c50a-308e-442f-83a6-0d23e4e76a36\",\"type\":\"GlyphRenderer\"},{\"id\":\"6c7af6fc-760d-4c99-8c51-89ba28cf74e0\",\"type\":\"GlyphRenderer\"},{\"id\":\"4f5f4dc5-6728-4e74-b66f-3ffdcf399161\",\"type\":\"GlyphRenderer\"},{\"id\":\"b49ac92c-c045-48c2-af85-fe652f9dd179\",\"type\":\"GlyphRenderer\"},{\"id\":\"434704b5-9350-4e8f-9218-e8d75d893418\",\"type\":\"GlyphRenderer\"},{\"id\":\"e66ffc11-2f5a-47ae-882a-fc801dea87dd\",\"type\":\"GlyphRenderer\"},{\"id\":\"1c853450-4da4-47e1-b1c7-cf8e29a86507\",\"type\":\"GlyphRenderer\"},{\"id\":\"94d215df-c766-4af2-885f-64518931227a\",\"type\":\"GlyphRenderer\"},{\"id\":\"f24a3085-9928-48d0-82da-eff03a9ccff1\",\"type\":\"GlyphRenderer\"},{\"id\":\"d751054e-385c-461c-99d7-d53bb77fb995\",\"type\":\"GlyphRenderer\"},{\"id\":\"8f28f176-2925-426d-9b8a-c5d6ec39cb8d\",\"type\":\"GlyphRenderer\"},{\"id\":\"5920b51d-be75-46b4-bbde-2e9cba1aec1d\",\"type\":\"GlyphRenderer\"},{\"id\":\"34866a98-d462-4b8f-ab56-c4e5677f7bfd\",\"type\":\"GlyphRenderer\"}],\"title\":{\"id\":\"e60c75bd-fce0-44ce-b877-c10264f16e5d\",\"type\":\"Title\"},\"toolbar\":{\"id\":\"32890f60-1ad8-41e1-8d26-c8a9b9aa77c4\",\"type\":\"Toolbar\"},\"x_range\":{\"id\":\"7b78a9d2-4449-490a-af41-aecae8ea56de\",\"type\":\"DataRange1d\"},\"x_scale\":{\"id\":\"ef83e578-9a27-4868-a3b4-a30bbdfcfd50\",\"type\":\"LinearScale\"},\"y_range\":{\"id\":\"c434e175-df0d-42cc-ade2-7a71f29a338e\",\"type\":\"DataRange1d\"},\"y_scale\":{\"id\":\"30420a68-f906-4b2b-b829-b2b175b16312\",\"type\":\"LinearScale\"}},\"id\":\"f47171e5-dcd0-48c5-8d64-cd16616d47c5\",\"subtype\":\"Figure\",\"type\":\"Plot\"},{\"attributes\":{},\"id\":\"474bc423-4d8c-43ba-a9c6-bf4fffa7c2ea\",\"type\":\"UnionRenderers\"},{\"attributes\":{\"source\":{\"id\":\"25b003cf-74aa-449e-b37e-55ce7ee6d774\",\"type\":\"ColumnDataSource\"}},\"id\":\"b7116a15-0989-45bf-a119-e55402701cb3\",\"type\":\"CDSView\"},{\"attributes\":{},\"id\":\"aa09d1d2-3aa7-4409-b4f8-1de0a3beaca0\",\"type\":\"Selection\"},{\"attributes\":{\"data_source\":{\"id\":\"25b003cf-74aa-449e-b37e-55ce7ee6d774\",\"type\":\"ColumnDataSource\"},\"glyph\":{\"id\":\"df18e9e1-a92e-4c88-8495-dc6b1d19facd\",\"type\":\"Line\"},\"hover_glyph\":null,\"muted_glyph\":null,\"nonselection_glyph\":{\"id\":\"0917c263-c365-460f-b00c-1fc61deff6e5\",\"type\":\"Line\"},\"selection_glyph\":null,\"view\":{\"id\":\"b7116a15-0989-45bf-a119-e55402701cb3\",\"type\":\"CDSView\"}},\"id\":\"f0411168-b328-4a75-be5d-3e1301721570\",\"type\":\"GlyphRenderer\"},{\"attributes\":{},\"id\":\"9ede048a-e70d-4f3e-96f1-3c55d909ab70\",\"type\":\"UnionRenderers\"},{\"attributes\":{\"line_alpha\":0.1,\"line_color\":\"#1f77b4\",\"x\":{\"field\":\"x\"},\"y\":{\"field\":\"y\"}},\"id\":\"0917c263-c365-460f-b00c-1fc61deff6e5\",\"type\":\"Line\"},{\"attributes\":{},\"id\":\"8cf53995-6705-4738-a19c-7c175aade928\",\"type\":\"Selection\"},{\"attributes\":{\"line_alpha\":0.8,\"line_color\":\"#2ca02c\",\"x\":{\"field\":\"x\"},\"y\":{\"field\":\"y\"}},\"id\":\"df18e9e1-a92e-4c88-8495-dc6b1d19facd\",\"type\":\"Line\"},{\"attributes\":{},\"id\":\"d3ca79da-18f9-4d54-bdbb-2ca3ba46d88b\",\"type\":\"UnionRenderers\"},{\"attributes\":{\"callback\":null,\"data\":{\"x\":{\"__ndarray__\":\"FK5H4XoUDsD6fmq8dJMMwN9PjZduEgvAxSCwcmiRCcCq8dJNYhAIwI/C9ShcjwbAdJMYBFYOBcBaZDvfT40DwD81XrpJDALAJQaBlUOLAMAUrkfhehT+v99PjZduEvu/qvHSTWIQ+L90kxgEVg71vz81XrpJDPK/FK5H4XoU7r+q8dJNYhDov0A1XrpJDOK/qvHSTWIQ2L+q8dJNYhDIvwAAAAAAAAAAqvHSTWIQyD+q8dJNYhDYP0A1XrpJDOI/qvHSTWIQ6D8UrkfhehTuPz81XrpJDPI/dJMYBFYO9T+q8dJNYhD4P99PjZduEvs/FK5H4XoU/j8lBoGVQ4sAQD81XrpJDAJAWmQ730+NA0B0kxgEVg4FQI/C9ShcjwZAqvHSTWIQCEDFILByaJEJQN9PjZduEgtA+n5qvHSTDEAUrkfhehQOQC/dJAaBlQ9AJQaBlUOLEECyne+nxksRQEA1XrpJDBJAzczMzMzMEkBaZDvfT40TQOj7qfHSTRRAdJMYBFYOFUADK4cW2c4VQI/C9ShcjxZAHFpkO99PF0Cq8dJNYhAYQDeJQWDl0BhAxSCwcmiRGUBSuB6F61EaQN9PjZduEhtAbef7qfHSG0D6fmq8dJMcQIgW2c73Ux1AFK5H4XoUHkChRbbz/dQeQC/dJAaBlR9AXrpJDAIrIEAlBoGVQ4sgQOxRuB6F6yBAsp3vp8ZLIUB56SYxCKwhQD81XrpJDCJABoGVQ4tsIkDNzMzMzMwiQJMYBFYOLSNAWmQ730+NI0AhsHJoke0jQOj7qfHSTSRArkfhehSuJEB0kxgEVg4lQDvfT42XbiVAAyuHFtnOJUDJdr6fGi8mQI/C9ShcjyZAVg4tsp3vJkAcWmQ7308nQOSlm8QgsCdAqvHSTWIQKEBxPQrXo3AoQDeJQWDl0ChA/dR46SYxKUDFILByaJEpQIxs5/up8SlAUrgehetRKkAYBFYOLbIqQN9PjZduEitAppvEILByK0Bt5/up8dIrQDMzMzMzMyxA+n5qvHSTLEDAyqFFtvMsQIgW2c73Uy1ATmIQWDm0LUAUrkfhehQuQNv5fmq8dC5AoUW28/3ULkBpke18PzUvQC/dJAaBlS9A9ihcj8L1L0BeukkMAiswQEFg5dAiWzBAJQaBlUOLMEAIrBxaZLswQOxRuB6F6zBAz/dT46UbMUCyne+nxksxQJZDi2znezFAeekmMQisMUBcj8L1KNwxQD81XrpJDDJAI9v5fmo8MkAGgZVDi2wyQOomMQisnDJAzczMzMzMMkCwcmiR7fwyQJMYBFYOLTNAd76fGi9dM0BaZDvfT40zQD0K16NwvTNAIbByaJHtM0AEVg4tsh00QOj7qfHSTTRAyqFFtvN9NECuR+F6FK40QJLtfD813jRAdJMYBFYONUBYObTIdj41QDvfT42XbjVAH4XrUbieNUADK4cW2c41QOXQItv5/jVAyXa+nxovNkCsHFpkO182QI/C9ShcjzZAc2iR7Xy/NkBWDi2yne82QDq0yHa+HzdAHFpkO99PN0AAAAAAAIA3QOSlm8QgsDdAxks3iUHgN0Cq8dJNYhA4QA==\",\"dtype\":\"float64\",\"shape\":[149]},\"y\":{\"__ndarray__\":\"MbtfuyfH7z+JUHAmCBzwP1tQ/GELKfA/8MEjZYjg7z/0s7X1E1fvP1X4XYdSsO8/S9Y3pSiK7z9uzxyNI1LwP7FyVAJVDvA/4HXzKcsd8D/13SSN1DvwP4XxQC4Aeu8/N7aIJo4Z8D8Jp3D/jw7wPyUiB86YRe8/LttsWgxX8D8a+lPUb/bvP4+CgXBkS+8/+PJu/rny7z+2NJoshtDvP8gFO5OmrsI/wCH0TJgn0T9vIMQzcG/WP2d2gvAxRNk/wYHK3NeW2z8JTM+KJmzdP85eZeerGuA/OGTE9xun4T+r8BfM3+rhP/dZwNOno+I/VSCjRJyn4z95M173t93jP+8ZRCqxs+Q/jHNLKzB95T+1TA6j36vlP8o6+AbSNuY/ev+6B7Q/5z/Ns7azKF7mP25BE+EFgec/o4y2dbbF5z9Mj1+KmN3oP0vpxFK3Uug/nXPp3jXb6D+nVBMAHYrpPzvFGpk7f+k/PC6uU53q6T+ewjxiiA3qP5fkkqt2weo/xfGMOeoV6j8FGvyBinrqPxNNS3SpGus/cJ0ky91N6j8kgKbzIzXrP5VXpMf4F+s/Ee5tGRWQ6z/WitHFcJHrP+gRQpGtPes/vHRhpJKD6z82vAB1hgrsP0t/TU+iy+w/rtUXYOZ16z+c1M1mmqXsP09vWtrtVuw/XwXgY71g7D+IuBXiqq3sP/oXFPvaROw/MtPJ1XMS7T/V64X+2vbsPwepW9qiS+0/EQC3iW8E7T88lo398xDuP4sVgL3oxe0/ZdeKTJ1O7T+RfcjwVwfuP1+Tb4/7HO0/COd96HS17T8DKdnDIpPtP5j+UcaqO+0/Ce4YbUkY7j8VaAnk2BPuPzX6iF3Ld+0/bO5Hf6KS7T+EJLyBVpXtP/L1NwKpde0/apQoMHD27j8gKkXvuDjuP867qfCpye0/wlgo2h9I7T++GDlywCjuP/l56nWUge4/4EBtuqyY7T8ktYrxh/7tPyJJFJYnF+4/lHQSsxob7T+VJvsqcXzuP9F3gfsOE+4/KXuAh0Q87j+TH9wbTs3tP7JIJTHt+u0/+sWcDyhN7j+h1GRBpAruP5AjF2XFQO4/cC93pDNj7j9lpMp5YanuP158ayXo++0/f5xr0ScQ7j8dRCmCKwHuP4heajCQMu8/w0HJ8JXV7j9X7Mqp1UruPxtuYA9bUe8/cIwNwVxy7j/uXSDIzrLuPwFyM+yAne4/2IwLBX5+7z++cz7UEoLuPwSatgd3l+4/wwnhtX1n7j+68vP3GTzvPxO+A06veu4/Vj4QqhhN7j+AJhMxon/uP+HC97/naO4/ZVa/YEp67z/05b9sCybvP9GptzLp4O4/QR8TlWpI7z/2+TdegVjuP3fNRyN0Ve8/C/MnjLZT7j+snmys9zjvP8r8emTPXu4/ZDz7md9v7j+MPJ5CsmjvP96eCLUKrO4/vAvb/Zc57j8ongPmJyXuP8ADdKOoGu8/aeN3vkbJ7j+nF/1RKdruP0sI0QyN0u4/4EkpXjMu7j/jprf04ODuP8qHh1bkS+4/BE60JMHr7j+wlieh9RPuP0SXuFLgz+4/GGhHzFY87z+utDsJzhvvPw==\",\"dtype\":\"float64\",\"shape\":[149]}},\"selected\":{\"id\":\"fbf46f5b-913c-4ef0-9cc0-6ab665bf2917\",\"type\":\"Selection\"},\"selection_policy\":{\"id\":\"85846e58-216c-4f05-a7d7-b6be1af6d89d\",\"type\":\"UnionRenderers\"}},\"id\":\"25b003cf-74aa-449e-b37e-55ce7ee6d774\",\"type\":\"ColumnDataSource\"},{\"attributes\":{},\"id\":\"c9c00c48-a744-412a-9056-4efbb9dbed8b\",\"type\":\"Selection\"},{\"attributes\":{\"source\":{\"id\":\"e8070aca-6890-4fff-b7f8-b208a897dfab\",\"type\":\"ColumnDataSource\"}},\"id\":\"ef1dec63-6002-453b-ad9b-9bfd3683684d\",\"type\":\"CDSView\"},{\"attributes\":{},\"id\":\"f0ed3b80-044e-438d-a1f1-9a6ac8fa08e8\",\"type\":\"UnionRenderers\"},{\"attributes\":{\"data_source\":{\"id\":\"e8070aca-6890-4fff-b7f8-b208a897dfab\",\"type\":\"ColumnDataSource\"},\"glyph\":{\"id\":\"a0c5032e-a8a3-4c8a-8595-e2f4613d29b6\",\"type\":\"Line\"},\"hover_glyph\":null,\"muted_glyph\":null,\"nonselection_glyph\":{\"id\":\"1223bb1f-9c3c-4699-be6a-89e348fb3860\",\"type\":\"Line\"},\"selection_glyph\":null,\"view\":{\"id\":\"ef1dec63-6002-453b-ad9b-9bfd3683684d\",\"type\":\"CDSView\"}},\"id\":\"18ab0265-eccf-4b7a-a20a-f315bd3697c0\",\"type\":\"GlyphRenderer\"},{\"attributes\":{},\"id\":\"5be6b6a0-2d6b-43d8-87ce-fd939a16bce5\",\"type\":\"Selection\"},{\"attributes\":{\"line_alpha\":0.1,\"line_color\":\"#1f77b4\",\"x\":{\"field\":\"x\"},\"y\":{\"field\":\"y\"}},\"id\":\"1223bb1f-9c3c-4699-be6a-89e348fb3860\",\"type\":\"Line\"},{\"attributes\":{},\"id\":\"7ac31857-9796-439b-9ae5-b7c050160cd0\",\"type\":\"UnionRenderers\"},{\"attributes\":{\"line_alpha\":0.8,\"line_color\":\"#ffbb78\",\"x\":{\"field\":\"x\"},\"y\":{\"field\":\"y\"}},\"id\":\"a0c5032e-a8a3-4c8a-8595-e2f4613d29b6\",\"type\":\"Line\"},{\"attributes\":{},\"id\":\"87a882d2-e213-4f67-a48d-135982a38834\",\"type\":\"Selection\"},{\"attributes\":{\"callback\":null,\"data\":{\"x\":{\"__ndarray__\":\"FK5H4XoUDsD6fmq8dJMMwN9PjZduEgvAxSCwcmiRCcCq8dJNYhAIwI/C9ShcjwbAdJMYBFYOBcBaZDvfT40DwD81XrpJDALAJQaBlUOLAMAUrkfhehT+v99PjZduEvu/qvHSTWIQ+L90kxgEVg71vz81XrpJDPK/FK5H4XoU7r+q8dJNYhDov0A1XrpJDOK/qvHSTWIQ2L+q8dJNYhDIvwAAAAAAAAAAqvHSTWIQyD+q8dJNYhDYP0A1XrpJDOI/qvHSTWIQ6D8UrkfhehTuPz81XrpJDPI/dJMYBFYO9T+q8dJNYhD4P99PjZduEvs/FK5H4XoU/j8lBoGVQ4sAQD81XrpJDAJAWmQ730+NA0B0kxgEVg4FQI/C9ShcjwZAqvHSTWIQCEDFILByaJEJQN9PjZduEgtA+n5qvHSTDEAUrkfhehQOQC/dJAaBlQ9AJQaBlUOLEECyne+nxksRQEA1XrpJDBJAzczMzMzMEkBaZDvfT40TQOj7qfHSTRRAdJMYBFYOFUADK4cW2c4VQI/C9ShcjxZAHFpkO99PF0Cq8dJNYhAYQDeJQWDl0BhAxSCwcmiRGUBSuB6F61EaQN9PjZduEhtAbef7qfHSG0D6fmq8dJMcQIgW2c73Ux1AFK5H4XoUHkChRbbz/dQeQC/dJAaBlR9AXrpJDAIrIEAlBoGVQ4sgQOxRuB6F6yBAsp3vp8ZLIUB56SYxCKwhQD81XrpJDCJABoGVQ4tsIkDNzMzMzMwiQJMYBFYOLSNAWmQ730+NI0AhsHJoke0jQOj7qfHSTSRArkfhehSuJEB0kxgEVg4lQDvfT42XbiVAAyuHFtnOJUDJdr6fGi8mQI/C9ShcjyZAVg4tsp3vJkAcWmQ7308nQOSlm8QgsCdAqvHSTWIQKEBxPQrXo3AoQDeJQWDl0ChA/dR46SYxKUDFILByaJEpQIxs5/up8SlAUrgehetRKkAYBFYOLbIqQN9PjZduEitAppvEILByK0Bt5/up8dIrQDMzMzMzMyxA+n5qvHSTLEDAyqFFtvMsQIgW2c73Uy1ATmIQWDm0LUAUrkfhehQuQNv5fmq8dC5AoUW28/3ULkBpke18PzUvQC/dJAaBlS9A9ihcj8L1L0BeukkMAiswQEFg5dAiWzBAJQaBlUOLMEAIrBxaZLswQOxRuB6F6zBAz/dT46UbMUCyne+nxksxQJZDi2znezFAeekmMQisMUBcj8L1KNwxQD81XrpJDDJAI9v5fmo8MkAGgZVDi2wyQOomMQisnDJAzczMzMzMMkCwcmiR7fwyQJMYBFYOLTNAd76fGi9dM0BaZDvfT40zQD0K16NwvTNAIbByaJHtM0AEVg4tsh00QOj7qfHSTTRAyqFFtvN9NECuR+F6FK40QJLtfD813jRAdJMYBFYONUBYObTIdj41QDvfT42XbjVAH4XrUbieNUADK4cW2c41QOXQItv5/jVAyXa+nxovNkCsHFpkO182QI/C9ShcjzZAc2iR7Xy/NkBWDi2yne82QDq0yHa+HzdAHFpkO99PN0AAAAAAAIA3QOSlm8QgsDdAxks3iUHgN0Cq8dJNYhA4QA==\",\"dtype\":\"float64\",\"shape\":[149]},\"y\":{\"__ndarray__\":\"Rs5febL27z99lRUDwlHvPxb8N1Pwq+8/GgcERhHW7z/QD8w/l2vvP2VOk5njhO8/EfoUniVH8D/dPEP+dhrwPwD7rmpDru8/WuU/TdOB7z+/eksKUOnvP5QQOQmzC/A/vNdr+/0b7z8B/SAuZX7vP4M18n+pFPA/E91HuOym7z/+ORyMXbzvP4u9VTEeUu8/YifFmdCX7z/YkQinZT3wPy6sfOgjM8E/FKoV0/Me0j9NSii6ZWHTPzQ1h2YjI9g/3mNy4qAV3D/WpGVQkt3dP0wK8UiY0N8/CSKsEX7H4D+fbe4K/tPgP8svZzFO2OI/cckNMod14z+eZbFL+jTkP+U0TsLeRuQ/fHqu7dtf5T/TPzbFAJzlP+7ZvhEpjeU/3uv91KF35j+9vCrPCQbnPxfBmm6ihuc/d1x3WFgt5z+T6gTCuSToP3WhK/QJwug/kIpfBUQ66D8pYjqTFWPpP8rghStSh+k/K2m6mBzv6T+cA2OyfKPpP2qbFFyGvOo/LDALEj5D6j8QhpUjPxTqP+W9iCC0e+o/ISs6MsPF6j/viRX9BevqP96ZkhNnwOo/ff0r4th46z+kc/F5YXzsP9w/1wVW6eo/mgkXHUw+7D+pe+InOU7rP/HeyVd2Buw/wVu2AImR7D+BxA68Ep3sP81CBNi1Bu0/Bdof2R1r7D8XJcT4YnzsP6eGAvC7YOw/r6Ughfzf7D/JG5eGZKbsPzsMTJQy3ew/ritJO4tX7T/3NajVtAztPxlO9P9S8+w/DOKnI4Zm7T+iAuiJ3ZztP9ktaisAgu0/zVjiSLLy7T9zSueWkcvsP2dGbBwkYu0/Jli7XXQW7j/OdyY+6ATtP0CCNki5Ue4/8Hr5cUAo7j9rwrn3iSjuP4VHAghLD+4/ayUSaKXO7T/ftg6dhb3tP8YvReHvIu4/GmY5nY1o7j/76H+ABCruPzKAFkxco+0/cWzOgG1y7j9wH4b+Zh3uP0zKAWKja+0/J3f6oxv87T+AkIONOSLuP/guOSX+s+4/DTMc8DcU7j+efm+xpa/tPxKgegzD0e4/MtvXXiLs7T9g1X8uFCTuP9PRpfuQOO4/KANU9XUd7j/15wr6hAPvPzm1WkRzH+4/9TzBM5Ch7j/48HYEum/uP2DFD2GtgO4/AtYSySqh7j/ro/5u2WjuP/1n9zv1QO8/BJp5DWKW7j+EyqJTQBjuP3VzBYTsFO4/TKHfgDO17j82wdARQKHuPyOvHv+CUu4/9RiccAi67j+2oDjz8pbuP9eXP0t9aO4/ho6rs3bP7j/SKL9p3RLuPz0gYFxixu0/UbmXGBr07j9qzpxaJVDuPynhZUHlnu4/aMoECswD7z8H5jVs0gPvPz1OKXiDX+8/cIflTiSi7z+wRced3FDvP+gOPUeivO4/R/5J7nZ87j/SI9pG197uPzZLSqDEZ+4/PDWWCTKu7j+q6GnCixPuPyjBvnejLe8/GuXdTAX57j9IAzKH05zuPx3MAbE1zO0/jHLsGGWs7j9RNewWaSjuP4IjaNMar+4/svd9CUzn7j+ZZu7/d4rvP4f/3Io0Ou8/kiyVgd8N7z+NOSaJMC/vPw==\",\"dtype\":\"float64\",\"shape\":[149]}},\"selected\":{\"id\":\"d0db864f-0e31-49fb-9c06-64a5bdbf1266\",\"type\":\"Selection\"},\"selection_policy\":{\"id\":\"847c8f2e-dcbf-4ef7-b85d-fa1d6ac52385\",\"type\":\"UnionRenderers\"}},\"id\":\"e8070aca-6890-4fff-b7f8-b208a897dfab\",\"type\":\"ColumnDataSource\"},{\"attributes\":{},\"id\":\"d0aacf4b-56fc-41c5-ac5b-cc23fa0d0b61\",\"type\":\"UnionRenderers\"},{\"attributes\":{\"source\":{\"id\":\"7778ca18-2c63-470e-bfb0-1fa2102c5a79\",\"type\":\"ColumnDataSource\"}},\"id\":\"2a1b39c9-cca0-41b4-8e20-6688bf480240\",\"type\":\"CDSView\"},{\"attributes\":{},\"id\":\"050a6fbe-3bd7-442b-9398-de6d90e11d33\",\"type\":\"Selection\"},{\"attributes\":{\"data_source\":{\"id\":\"7778ca18-2c63-470e-bfb0-1fa2102c5a79\",\"type\":\"ColumnDataSource\"},\"glyph\":{\"id\":\"80fbd1c3-fce6-44ac-bfea-4351dbe2c38d\",\"type\":\"Line\"},\"hover_glyph\":null,\"muted_glyph\":null,\"nonselection_glyph\":{\"id\":\"5758b910-d4e9-44a2-80a6-f97930ac047f\",\"type\":\"Line\"},\"selection_glyph\":null,\"view\":{\"id\":\"2a1b39c9-cca0-41b4-8e20-6688bf480240\",\"type\":\"CDSView\"}},\"id\":\"0d95e3cd-355d-4501-82cb-2293ada8c64a\",\"type\":\"GlyphRenderer\"},{\"attributes\":{},\"id\":\"131bd0c0-e0c6-4f67-a714-82a9ffbba384\",\"type\":\"UnionRenderers\"},{\"attributes\":{\"line_alpha\":0.1,\"line_color\":\"#1f77b4\",\"x\":{\"field\":\"x\"},\"y\":{\"field\":\"y\"}},\"id\":\"5758b910-d4e9-44a2-80a6-f97930ac047f\",\"type\":\"Line\"},{\"attributes\":{},\"id\":\"ac24a8dd-aaa9-496d-b0c7-5c8b60256de2\",\"type\":\"Selection\"},{\"attributes\":{\"line_alpha\":0.8,\"line_color\":\"#ff7f0e\",\"x\":{\"field\":\"x\"},\"y\":{\"field\":\"y\"}},\"id\":\"80fbd1c3-fce6-44ac-bfea-4351dbe2c38d\",\"type\":\"Line\"},{\"attributes\":{},\"id\":\"9e74571a-f572-4752-a9bf-8c13aeb71822\",\"type\":\"UnionRenderers\"},{\"attributes\":{\"callback\":null,\"data\":{\"x\":{\"__ndarray__\":\"FK5H4XoUDsD6fmq8dJMMwN9PjZduEgvAxSCwcmiRCcCq8dJNYhAIwI/C9ShcjwbAdJMYBFYOBcBaZDvfT40DwD81XrpJDALAJQaBlUOLAMAUrkfhehT+v99PjZduEvu/qvHSTWIQ+L90kxgEVg71vz81XrpJDPK/FK5H4XoU7r+q8dJNYhDov0A1XrpJDOK/qvHSTWIQ2L+q8dJNYhDIvwAAAAAAAAAAqvHSTWIQyD+q8dJNYhDYP0A1XrpJDOI/qvHSTWIQ6D8UrkfhehTuPz81XrpJDPI/dJMYBFYO9T+q8dJNYhD4P99PjZduEvs/FK5H4XoU/j8lBoGVQ4sAQD81XrpJDAJAWmQ730+NA0B0kxgEVg4FQI/C9ShcjwZAqvHSTWIQCEDFILByaJEJQN9PjZduEgtA+n5qvHSTDEAUrkfhehQOQC/dJAaBlQ9AJQaBlUOLEECyne+nxksRQEA1XrpJDBJAzczMzMzMEkBaZDvfT40TQOj7qfHSTRRAdJMYBFYOFUADK4cW2c4VQI/C9ShcjxZAHFpkO99PF0Cq8dJNYhAYQDeJQWDl0BhAxSCwcmiRGUBSuB6F61EaQN9PjZduEhtAbef7qfHSG0D6fmq8dJMcQIgW2c73Ux1AFK5H4XoUHkChRbbz/dQeQC/dJAaBlR9AXrpJDAIrIEAlBoGVQ4sgQOxRuB6F6yBAsp3vp8ZLIUB56SYxCKwhQD81XrpJDCJABoGVQ4tsIkDNzMzMzMwiQJMYBFYOLSNAWmQ730+NI0AhsHJoke0jQOj7qfHSTSRArkfhehSuJEB0kxgEVg4lQDvfT42XbiVAAyuHFtnOJUDJdr6fGi8mQI/C9ShcjyZAVg4tsp3vJkAcWmQ7308nQOSlm8QgsCdAqvHSTWIQKEBxPQrXo3AoQDeJQWDl0ChA/dR46SYxKUDFILByaJEpQIxs5/up8SlAUrgehetRKkAYBFYOLbIqQN9PjZduEitAppvEILByK0Bt5/up8dIrQDMzMzMzMyxA+n5qvHSTLEDAyqFFtvMsQIgW2c73Uy1ATmIQWDm0LUAUrkfhehQuQNv5fmq8dC5AoUW28/3ULkBpke18PzUvQC/dJAaBlS9A9ihcj8L1L0BeukkMAiswQEFg5dAiWzBAJQaBlUOLMEAIrBxaZLswQOxRuB6F6zBAz/dT46UbMUCyne+nxksxQJZDi2znezFAeekmMQisMUBcj8L1KNwxQD81XrpJDDJAI9v5fmo8MkAGgZVDi2wyQOomMQisnDJAzczMzMzMMkCwcmiR7fwyQJMYBFYOLTNAd76fGi9dM0BaZDvfT40zQD0K16NwvTNAIbByaJHtM0AEVg4tsh00QOj7qfHSTTRAyqFFtvN9NECuR+F6FK40QJLtfD813jRAdJMYBFYONUBYObTIdj41QDvfT42XbjVAH4XrUbieNUADK4cW2c41QOXQItv5/jVAyXa+nxovNkCsHFpkO182QI/C9ShcjzZAc2iR7Xy/NkBWDi2yne82QDq0yHa+HzdAHFpkO99PN0AAAAAAAIA3QOSlm8QgsDdAxks3iUHgN0Cq8dJNYhA4QA==\",\"dtype\":\"float64\",\"shape\":[149]},\"y\":{\"__ndarray__\":\"BQEbS5T87z/fbo2nHWLwPxOe8LGc2u8/MoW/21IK8D9RjcS/xaTvPxNr+VNSP/A/BUu9zVj07z/Yj4Hf6HzvP8hlFA6zfO8/UmTazm1D8D+6xHfyVxbwPwGLrNpNfu8/zsxE1Yuh7z/FZVrG21vwPy513ANAgu8/HF6cNjTE7z/eWV6uHzXwPz629UEuz+8/Kxg+JP207z+LDc1S+0fwP8unF4UEYMA/AvOmWBqz0T+Ccld/vu3UPzYzBORqKdk/c81R4VHb2z8sQcQyp2TdPy1wiD9mnt8/86KbePmk4D+0QVi2FjDhPwIxFVhrzuE/rJGOQzdz4z/zacwGNT3kP96Bl8J/i+Q/jipusG8Z5T/7gKEFL1TlP0Jys1rrAec/8lm5t64L5z860rQQ69TmP8VLelWcVOc/II0CJmfG5z9NEPYSAh/oPwrznmHdkOg/vfmzOH5m6D/zPfyobp7pP2IJiOLm+eg/5stSHY2Q6T/LXPom6ujpP0e+0MQppOk/gba4opun6T8gL9JrSFLqP5FlQyRV9+k/8QGl0MSb6j92p1IGy/jqP3HQ3zt0W+s/Ntu9QFrk6j+lm/isLuPrP5IWpFaQWuw/gUTAQmm76z+MMI8Ru9LrP+XgUD+tjOw/rA9geP4P7D9qJdqy86XsP7kRbf9D1Os/HbJef8DV6z8qCQjKCYnsP/NUJzplGu0/3OpK99+W7D+aLEGjFJDtP5Il/QvWH+0/UmDdbn757T+dUy9p1ansP+24JmoygOw/iDYret+M7T+W90rrM5/tP3TfS+6hTe0/6GTg+SX07D9fqyEpi2PtP2l3TTLDBe4/gaYPQWRr7T8zZ1/6bgztPyqjwz5BH+4/eI3Fbbyz7T/SZa0S25vuP5oIAQUMwO0/cYShnVyk7T9YQrSxJYruP0811fgl5u0/b4QtJN3g7T92/WL6EwPuP+dlSppU5ew/FWQTOFNp7j/cZwVRXzDuP/a2dFes8+4/LjtFRaV07T9CSVe8pmLuPyzWB29i9e4/hw9hlKkU7j+L8VxyfG7uP/PQf5YZiO4/a41gdr/X7T/VGIgjdZPuP5H0BO/Qu+4/c79djmMz7j+aKC9hEajuPyRTu4dg5O4/03eTiIKv7j9+SHrnOTXvPwwmPIyR8e4/lZZ2elj07T+Onf9QwmDuP6i25m6zm+4/y1/viEPT7j/IftmeUf7uP4IgwvOWj+4/uCIs79l97j/LdNFvG/fuP5xR4+uzh+4/H9zRyh617j8xXUE4GMTuP6iu7rU4w+4/nHx6y3P47j+E18xkR7/uP0NTEVRDm+4/0dkmmfm87j92AyXfqi/vP+AqoWLygu4/9irCf10M7z9MUTbhiSDuPw+9mEoCw+4/tTwxj9Qi7z/9WvHm0yLuP5a4KMzIw+4/y5TRECd77j9b3nBeZZPuP6Vv5GhyKO8/tNT66FIi7z9wZ+n4x5rtP/h7tOcPNO8/teQK7zu+7j8JJ5uZb63uP+6BBJ5PtO4/SioqOHVl7j8HDevbo7buP0ElzKQOv+4/OHQ66djA7j/qrSPW6fjtP9f+Qg1C4u4/IVLrKPyy7j8xbq+YMPnuPw==\",\"dtype\":\"float64\",\"shape\":[149]}},\"selected\":{\"id\":\"2433c06e-a863-4104-99c0-ceb43f3d62f0\",\"type\":\"Selection\"},\"selection_policy\":{\"id\":\"bb5fca47-2363-4512-b1dd-830d1592313e\",\"type\":\"UnionRenderers\"}},\"id\":\"7778ca18-2c63-470e-bfb0-1fa2102c5a79\",\"type\":\"ColumnDataSource\"},{\"attributes\":{},\"id\":\"ec44dcab-ea1e-49fb-b0b4-d54efe8a4d8d\",\"type\":\"Selection\"},{\"attributes\":{\"source\":{\"id\":\"b31651a4-fec2-4802-aae3-e4d4cf483d52\",\"type\":\"ColumnDataSource\"}},\"id\":\"b06f7a76-dd33-4cd6-a4f3-ce5df378149b\",\"type\":\"CDSView\"},{\"attributes\":{},\"id\":\"7e1f1d87-c3e8-4a51-9985-f93265e36edb\",\"type\":\"UnionRenderers\"},{\"attributes\":{\"line_alpha\":0.1,\"line_color\":\"#1f77b4\",\"x\":{\"field\":\"x\"},\"y\":{\"field\":\"y\"}},\"id\":\"1dacaee6-8d77-4e9d-a901-485021c79ba2\",\"type\":\"Line\"},{\"attributes\":{},\"id\":\"d68f4dd8-c2fe-4456-9f50-625ed382089c\",\"type\":\"Selection\"},{\"attributes\":{\"line_alpha\":0.8,\"line_color\":\"#aec7e8\",\"x\":{\"field\":\"x\"},\"y\":{\"field\":\"y\"}},\"id\":\"2ba5be01-fd64-412c-8fea-0c21b74029ef\",\"type\":\"Line\"},{\"attributes\":{},\"id\":\"5c98dd4d-fb22-486d-9464-dc006a4a1f7c\",\"type\":\"UnionRenderers\"},{\"attributes\":{\"data_source\":{\"id\":\"b31651a4-fec2-4802-aae3-e4d4cf483d52\",\"type\":\"ColumnDataSource\"},\"glyph\":{\"id\":\"2ba5be01-fd64-412c-8fea-0c21b74029ef\",\"type\":\"Line\"},\"hover_glyph\":null,\"muted_glyph\":null,\"nonselection_glyph\":{\"id\":\"1dacaee6-8d77-4e9d-a901-485021c79ba2\",\"type\":\"Line\"},\"selection_glyph\":null,\"view\":{\"id\":\"b06f7a76-dd33-4cd6-a4f3-ce5df378149b\",\"type\":\"CDSView\"}},\"id\":\"68daaad7-e095-4b26-bd75-c0f5d803c6b7\",\"type\":\"GlyphRenderer\"},{\"attributes\":{},\"id\":\"325d643f-110f-452f-b4cf-ca7a9c3964e5\",\"type\":\"Selection\"},{\"attributes\":{\"bottom_units\":\"screen\",\"fill_alpha\":{\"value\":0.5},\"fill_color\":{\"value\":\"lightgrey\"},\"left_units\":\"screen\",\"level\":\"overlay\",\"line_alpha\":{\"value\":1.0},\"line_color\":{\"value\":\"black\"},\"line_dash\":[4,4],\"line_width\":{\"value\":2},\"plot\":null,\"render_mode\":\"css\",\"right_units\":\"screen\",\"top_units\":\"screen\"},\"id\":\"28650cec-4da2-4aef-8f71-b45003f80316\",\"type\":\"BoxAnnotation\"},{\"attributes\":{},\"id\":\"77dfb78b-9c5e-4332-9f4a-bcde0b3978c4\",\"type\":\"UnionRenderers\"},{\"attributes\":{},\"id\":\"6ec481ba-39fc-43d1-ad6d-435251bf19cb\",\"type\":\"HelpTool\"},{\"attributes\":{},\"id\":\"67bd9fc9-0c3b-4b18-b428-9f51f4d7c199\",\"type\":\"Selection\"},{\"attributes\":{},\"id\":\"db1ee7b2-ac75-4d1c-a8bc-964573e30f4d\",\"type\":\"ResetTool\"},{\"attributes\":{},\"id\":\"d97533a0-7d1b-4010-9e1e-9c686ff7c917\",\"type\":\"SaveTool\"},{\"attributes\":{\"source\":{\"id\":\"d689bbb9-323f-4135-97bc-ad16aca0556e\",\"type\":\"ColumnDataSource\"}},\"id\":\"2f31fbfa-f970-4d30-a7c7-a59b20113030\",\"type\":\"CDSView\"},{\"attributes\":{},\"id\":\"f0410005-fa1e-495d-ada2-eb3ad95c4b2d\",\"type\":\"PanTool\"},{\"attributes\":{\"line_alpha\":0.8,\"line_color\":\"#1f77b4\",\"x\":{\"field\":\"x\"},\"y\":{\"field\":\"y\"}},\"id\":\"aa2b0c67-9d65-4f46-ad0c-2ce599b41f8a\",\"type\":\"Line\"},{\"attributes\":{\"callback\":null,\"data\":{\"x\":{\"__ndarray__\":\"FK5H4XoUDsD6fmq8dJMMwN9PjZduEgvAxSCwcmiRCcCq8dJNYhAIwI/C9ShcjwbAdJMYBFYOBcBaZDvfT40DwD81XrpJDALAJQaBlUOLAMAUrkfhehT+v99PjZduEvu/qvHSTWIQ+L90kxgEVg71vz81XrpJDPK/FK5H4XoU7r+q8dJNYhDov0A1XrpJDOK/qvHSTWIQ2L+q8dJNYhDIvwAAAAAAAAAAqvHSTWIQyD+q8dJNYhDYP0A1XrpJDOI/qvHSTWIQ6D8UrkfhehTuPz81XrpJDPI/dJMYBFYO9T+q8dJNYhD4P99PjZduEvs/FK5H4XoU/j8lBoGVQ4sAQD81XrpJDAJAWmQ730+NA0B0kxgEVg4FQI/C9ShcjwZAqvHSTWIQCEDFILByaJEJQN9PjZduEgtA+n5qvHSTDEAUrkfhehQOQC/dJAaBlQ9AJQaBlUOLEECyne+nxksRQEA1XrpJDBJAzczMzMzMEkBaZDvfT40TQOj7qfHSTRRAdJMYBFYOFUADK4cW2c4VQI/C9ShcjxZAHFpkO99PF0Cq8dJNYhAYQDeJQWDl0BhAxSCwcmiRGUBSuB6F61EaQN9PjZduEhtAbef7qfHSG0D6fmq8dJMcQIgW2c73Ux1AFK5H4XoUHkChRbbz/dQeQC/dJAaBlR9AXrpJDAIrIEAlBoGVQ4sgQOxRuB6F6yBAsp3vp8ZLIUB56SYxCKwhQD81XrpJDCJABoGVQ4tsIkDNzMzMzMwiQJMYBFYOLSNAWmQ730+NI0AhsHJoke0jQOj7qfHSTSRArkfhehSuJEB0kxgEVg4lQDvfT42XbiVAAyuHFtnOJUDJdr6fGi8mQI/C9ShcjyZAVg4tsp3vJkAcWmQ7308nQOSlm8QgsCdAqvHSTWIQKEBxPQrXo3AoQDeJQWDl0ChA/dR46SYxKUDFILByaJEpQIxs5/up8SlAUrgehetRKkAYBFYOLbIqQN9PjZduEitAppvEILByK0Bt5/up8dIrQDMzMzMzMyxA+n5qvHSTLEDAyqFFtvMsQIgW2c73Uy1ATmIQWDm0LUAUrkfhehQuQNv5fmq8dC5AoUW28/3ULkBpke18PzUvQC/dJAaBlS9A9ihcj8L1L0BeukkMAiswQEFg5dAiWzBAJQaBlUOLMEAIrBxaZLswQOxRuB6F6zBAz/dT46UbMUCyne+nxksxQJZDi2znezFAeekmMQisMUBcj8L1KNwxQD81XrpJDDJAI9v5fmo8MkAGgZVDi2wyQOomMQisnDJAzczMzMzMMkCwcmiR7fwyQJMYBFYOLTNAd76fGi9dM0BaZDvfT40zQD0K16NwvTNAIbByaJHtM0AEVg4tsh00QOj7qfHSTTRAyqFFtvN9NECuR+F6FK40QJLtfD813jRAdJMYBFYONUBYObTIdj41QDvfT42XbjVAH4XrUbieNUADK4cW2c41QOXQItv5/jVAyXa+nxovNkCsHFpkO182QI/C9ShcjzZAc2iR7Xy/NkBWDi2yne82QDq0yHa+HzdAHFpkO99PN0AAAAAAAIA3QOSlm8QgsDdAxks3iUHgN0Cq8dJNYhA4QA==\",\"dtype\":\"float64\",\"shape\":[149]},\"y\":{\"__ndarray__\":\"OncQDauZ7z+LfMdl4DXwPwzCCPDQSfA/rmCZR+Tl7z8Q7uuh3hzwP/zOKbBFTvA/Zmp6UOtE8D/mVsnVWAXwP/KG0zvwBPA/CEOvYBzm7z+9Ph4T3mfwPyCBZfiK3u8/jeN+Hk9g8D+jeAxq5nHwP4agJtKRCPA/0m9jGCwb8D8IQK/hZDXwP+ugUnPLNO8/TUubYasS8D9g1p6aKDLwPxZ+PRVWYMM/PmIslP6x0z///VwnOCvXP0/gIRjf69k/l+Ya6V1Y3D9l4DAj03TeP6BmK6KrQOA/KsOhAKjw4D+qY6PDtF7iP6KLTzpHL+I/oc31MrSh4z+PmpP2nXHjPy8PNoXx7OQ/B5muc3MZ5j9W2AOoTLvlP2WQfhH0bOY/A4joK5Yk5z8WYPku2FfmP2ZWo2x+Kug/n++CI/K35z/mlfK9TnHoP9CGVGxhneg/oZhkxUh36D/wvcBdZsXoP3Go3ybtNuo/srZ0FE7r6T/K9P3EgvfpP+rDCInfL+o/9D8JlZ3o6j/ihCpdw6HqP5LWB6P6G+o/ET8mqS7/6j/qCIuPFjDrPxFmrOUcbes/9dg+iUOJ6j8EPBPwXH3rP80uo10nCew/k9j//Miq6z+GlGqA9qjrP9OLH94Gduw/86WTZr0o7D/kZh789nrrPyuh153qm+w/HlWH0bRe7D94QceYEZrsP0BEF3BFi+w/v1P935TH7D+EC7KOhnjsPzwNBWBOnuw/JdqCe6c27T9LJq7cJcjsP2GTtbcm1uw/qYPsZVc07T8HCdF85XztPwE69BmaVe0/fkAJvjNl7T+aPc1verrtP1x5B1oAMu0/Zg/CVuH77T8886Y+zrbtP3iuLG+GLu4/j3mq/ysg7T+D0wCbWp3tP2IUFT3U1O0/TFGGAH4Y7j/JYRfgoJrtP6BzPrbr4O0/TSrJ1SJM7j+7hRuy0nPuPwMlYMv1O+4/DANyYIMG7z8jOiZFsNDuPzrKFfoIPu4/Sy/FfV5B7j+wO5ME1mLuP0SfdslU2e0/THTMJZOK7j9+E1zTGUHuPzLcetlmNO4/hXpAZNeR7j8yTcoTv2nuP6tSb41Iou4/D2JEB4Nx7j/nJ5uAg+TtP7pUVVZBQu8/wmxqTqom7j9quQb6xfTtP6HJgIhKFO8/hgaOqXR67T/LPDliaVnuP+7kgp+mFe4/TNPXnQSx7j8vZRsi8MbtP3uo9L9nte4/64zhQA017z9uUbX+c5vuP8Uyrd18Qu8/Szwhs6947j+NUUb1dxjvP3cfhZN0jO8/4ebkK0zV7j98VZksywfvPxrxYBUagO4/h9/t/cTz7T+18dN/pL3uP5aGU28pj+8/Tf0Ev8So7z8RPfj6RcTtPzGo0+AqyO4/bwM67Yv57j/CofX4GAjvP+Yh1pKmku4/MeO71MQh7z94KeHiy3fuP9J64jQPSu8/SvaiRyyU7j//YjU02SjvP9PimQ3jBu8/6aQmEL2J7z+j26c2qmbuP5eEjVYdh+4/X3Rli4Nj7j9sAFVPL+juP5pd+6lcZO4//o2K0gv47j+TSFXqmZLuPxArottszO4/sdRhHIMA7j+qh0FuAOnuPw==\",\"dtype\":\"float64\",\"shape\":[149]}},\"selected\":{\"id\":\"4f263680-4f67-447a-8cac-6d7805473b43\",\"type\":\"Selection\"},\"selection_policy\":{\"id\":\"27163f80-f4d0-476a-b50c-f953808eed72\",\"type\":\"UnionRenderers\"}},\"id\":\"b31651a4-fec2-4802-aae3-e4d4cf483d52\",\"type\":\"ColumnDataSource\"},{\"attributes\":{\"callback\":null,\"data\":{\"x\":{\"__ndarray__\":\"FK5H4XoUDsD6fmq8dJMMwN9PjZduEgvAxSCwcmiRCcCq8dJNYhAIwI/C9ShcjwbAdJMYBFYOBcBaZDvfT40DwD81XrpJDALAJQaBlUOLAMAUrkfhehT+v99PjZduEvu/qvHSTWIQ+L90kxgEVg71vz81XrpJDPK/FK5H4XoU7r+q8dJNYhDov0A1XrpJDOK/qvHSTWIQ2L+q8dJNYhDIvwAAAAAAAAAAqvHSTWIQyD+q8dJNYhDYP0A1XrpJDOI/qvHSTWIQ6D8UrkfhehTuPz81XrpJDPI/dJMYBFYO9T+q8dJNYhD4P99PjZduEvs/FK5H4XoU/j8lBoGVQ4sAQD81XrpJDAJAWmQ730+NA0B0kxgEVg4FQI/C9ShcjwZAqvHSTWIQCEDFILByaJEJQN9PjZduEgtA+n5qvHSTDEAUrkfhehQOQC/dJAaBlQ9AJQaBlUOLEECyne+nxksRQEA1XrpJDBJAzczMzMzMEkBaZDvfT40TQOj7qfHSTRRAdJMYBFYOFUADK4cW2c4VQI/C9ShcjxZAHFpkO99PF0Cq8dJNYhAYQDeJQWDl0BhAxSCwcmiRGUBSuB6F61EaQN9PjZduEhtAbef7qfHSG0D6fmq8dJMcQIgW2c73Ux1AFK5H4XoUHkChRbbz/dQeQC/dJAaBlR9AXrpJDAIrIEAlBoGVQ4sgQOxRuB6F6yBAsp3vp8ZLIUB56SYxCKwhQD81XrpJDCJABoGVQ4tsIkDNzMzMzMwiQJMYBFYOLSNAWmQ730+NI0AhsHJoke0jQOj7qfHSTSRArkfhehSuJEB0kxgEVg4lQDvfT42XbiVAAyuHFtnOJUDJdr6fGi8mQI/C9ShcjyZAVg4tsp3vJkAcWmQ7308nQOSlm8QgsCdAqvHSTWIQKEBxPQrXo3AoQDeJQWDl0ChA/dR46SYxKUDFILByaJEpQIxs5/up8SlAUrgehetRKkAYBFYOLbIqQN9PjZduEitAppvEILByK0Bt5/up8dIrQDMzMzMzMyxA+n5qvHSTLEDAyqFFtvMsQIgW2c73Uy1ATmIQWDm0LUAUrkfhehQuQNv5fmq8dC5AoUW28/3ULkBpke18PzUvQC/dJAaBlS9A9ihcj8L1L0BeukkMAiswQEFg5dAiWzBAJQaBlUOLMEAIrBxaZLswQOxRuB6F6zBAz/dT46UbMUCyne+nxksxQJZDi2znezFAeekmMQisMUBcj8L1KNwxQD81XrpJDDJAI9v5fmo8MkAGgZVDi2wyQOomMQisnDJAzczMzMzMMkCwcmiR7fwyQJMYBFYOLTNAd76fGi9dM0BaZDvfT40zQD0K16NwvTNAIbByaJHtM0AEVg4tsh00QOj7qfHSTTRAyqFFtvN9NECuR+F6FK40QJLtfD813jRAdJMYBFYONUBYObTIdj41QDvfT42XbjVAH4XrUbieNUADK4cW2c41QOXQItv5/jVAyXa+nxovNkCsHFpkO182QI/C9ShcjzZAc2iR7Xy/NkBWDi2yne82QDq0yHa+HzdAHFpkO99PN0AAAAAAAIA3QOSlm8QgsDdAxks3iUHgN0Cq8dJNYhA4QA==\",\"dtype\":\"float64\",\"shape\":[149]},\"y\":{\"__ndarray__\":\"by/SoN3y7z+4vAWvfQzwPz67WuHPD/A/b7iWH+sZ8D/Ovwmfkb7vP2GcIi7W5e8/5DkRGhXf7z/GeuUQfjXwP1a4uV1Ape8/Qp7mlbUP8D/FWViatmDvPzHIw5LmOPA/STWDM+MH8D/qwTmtCfLvP4w/OYWaFvA/2Yh1PPMD8D/uO8UM6gzwP0JGse1e0u8/zYn2Der37z9K7detnnnvP4/oF8pIocc/EZsoqmkQ0D9q4OKP0ezTPwOMKMNWP9c/fVHXBrFt2j9CiV1uUpvdP3AyAw8BEeA/B4YCqM3S4D/cGj0Ka27iP+RedZFJx+I/4xhZVYF54z9FeLBbvCDkP6OolzczNuU/NufOc+Uw5T+/p9gNxZblP+Nvz2NGj+Y/UnvR5LG65j8vkvis+zjnPzmuk7ormOc/OQcGl3bK5z8qg/iV9D/oP3MhirQ/Eek/C1bpxUK16D9YP6fzEU/pP7tmY2paYek/YNhMB3w96j86tUO9yBzqPxQX2zGZYuo/G+XxpQaw6j/x/HIjLPfqP7RetZh0Yus/I6e+Mi3E6j+/Fdpu+KTrPzM/xATWmus/mVP8f0y16z+faf26sm3sP61nVOXXx+s/BMP1zTK96z8DXa8KkyXsP3AyWG5xO+w/dJlAYrU67D8pQyUjLnLsPxGXm3+Nxew/v261nZtN7D9IEsp0b4vsP3+28Ye+Y+w/wSHTNH2j7D9uMUJWmHHsP4WofV+o5uw/pj+q52mS7D8OVEu1OCPtP1Qnn1VJjuw/TwjE7nAh7T+guxK9/7nsPy0v9GHbJu0/9NvLOADR7T+uMpJjEi7tP/Qg9SJifO0/1o5MVZGt7T9puV1lzUjtP2yR47GRdu0/z4y30oaj7T9Dhr9XLgPtP01A9isLQO0/uPSBtqtp7T/E3DVj5pXtP5zlFG+GWu0/I8oqGop/7T8SZlI1vCrtP5qfsqbYve0/V6HSVDOG7j9rCulnDGnuP0YUAVL4Hu4/lExkxj+A7T/q0kA/bQfuP8+Xgk+cnO0/BwSb68N97T9ZSXaQwR3uP3tdilhKMe4/IHeu3qEu7j+4pwig5TXuP5yDGYiLru0/9cPDgj387T/yMwU3/xHuPwoyXlAHvO0/s0d9hp8c7j/Cy/PZeR3uPwdZKz7COu4/i53KEykp7j/ZRjQzSS/uPwQTPV1JAO4/c2ZMayC+7j8ZgNlD0DHvP6GyOJGNBe4/Jp43L1qu7j8gg/jF6GfuP+Gus8JUqu8/Yk8Fzq7Y7j/CiYvMrjHvP9iKsFcqh+4/hypHF9y17j8G7oOGpO3uP5xupFMQhu8/k9RReiVE7z878/m6bR7vP9jopu5llu4/fLMN/a6Q7j8fHY881qjuPzZ3j/b0pu4/VawGJKH17j84Nw2N9v/uPyKsw4gGZ+8/zGTfecla7z8D+kFVIInuPz8Fu64L1+4/4GGWYi2d7j+9vcNOZp/uPww2e9FclO4/FZdij2HG7j/kQT6ABkDvPypaJF3RzO4/XXr60Zsb7z8QbD1BQiDvP2FHktvXKO8/Fugb7e/57j/QTuAtRvLuP+mArMAObe8/EX0L43k27z+/gLw1GWnvPw==\",\"dtype\":\"float64\",\"shape\":[149]}},\"selected\":{\"id\":\"67bd9fc9-0c3b-4b18-b428-9f51f4d7c199\",\"type\":\"Selection\"},\"selection_policy\":{\"id\":\"77dfb78b-9c5e-4332-9f4a-bcde0b3978c4\",\"type\":\"UnionRenderers\"}},\"id\":\"51b1203e-9adb-4d73-9ea9-26f3f1b8cb53\",\"type\":\"ColumnDataSource\"},{\"attributes\":{\"line_alpha\":0.8,\"line_color\":\"#98df8a\",\"x\":{\"field\":\"x\"},\"y\":{\"field\":\"y\"}},\"id\":\"1b52c29c-0f16-4231-a161-72168a2668aa\",\"type\":\"Line\"},{\"attributes\":{},\"id\":\"c2d849de-3401-4f05-afc2-22793fba3b49\",\"type\":\"WheelZoomTool\"},{\"attributes\":{\"line_alpha\":0.1,\"line_color\":\"#1f77b4\",\"x\":{\"field\":\"x\"},\"y\":{\"field\":\"y\"}},\"id\":\"bd6ee95d-3daa-432e-a03c-2ec9d862ddc4\",\"type\":\"Line\"},{\"attributes\":{},\"id\":\"1947c21d-e277-41f4-a866-3e88a8c5c79e\",\"type\":\"BasicTicker\"},{\"attributes\":{\"axis_label\":\"BMI\",\"formatter\":{\"id\":\"8c0cb181-242a-444f-966d-f95b01dcd3ad\",\"type\":\"BasicTickFormatter\"},\"plot\":{\"id\":\"f47171e5-dcd0-48c5-8d64-cd16616d47c5\",\"subtype\":\"Figure\",\"type\":\"Plot\"},\"ticker\":{\"id\":\"1947c21d-e277-41f4-a866-3e88a8c5c79e\",\"type\":\"BasicTicker\"}},\"id\":\"b36577b1-ea62-49c4-9787-0c933482d1ac\",\"type\":\"LinearAxis\"},{\"attributes\":{\"overlay\":{\"id\":\"28650cec-4da2-4aef-8f71-b45003f80316\",\"type\":\"BoxAnnotation\"}},\"id\":\"25284324-b4a9-48a3-9691-2c60e24c8c5a\",\"type\":\"BoxZoomTool\"},{\"attributes\":{},\"id\":\"30420a68-f906-4b2b-b829-b2b175b16312\",\"type\":\"LinearScale\"},{\"attributes\":{\"dimension\":1,\"plot\":{\"id\":\"f47171e5-dcd0-48c5-8d64-cd16616d47c5\",\"subtype\":\"Figure\",\"type\":\"Plot\"},\"ticker\":{\"id\":\"5bc2f47d-cf83-4e87-8552-1521d8e401e8\",\"type\":\"BasicTicker\"}},\"id\":\"f69514d6-34e5-44b3-bd6d-954978c6650e\",\"type\":\"Grid\"},{\"attributes\":{\"callback\":null},\"id\":\"c434e175-df0d-42cc-ade2-7a71f29a338e\",\"type\":\"DataRange1d\"},{\"attributes\":{},\"id\":\"ef83e578-9a27-4868-a3b4-a30bbdfcfd50\",\"type\":\"LinearScale\"},{\"attributes\":{},\"id\":\"5bc2f47d-cf83-4e87-8552-1521d8e401e8\",\"type\":\"BasicTicker\"},{\"attributes\":{\"callback\":null},\"id\":\"7b78a9d2-4449-490a-af41-aecae8ea56de\",\"type\":\"DataRange1d\"},{\"attributes\":{\"plot\":null,\"text\":\"\"},\"id\":\"e60c75bd-fce0-44ce-b877-c10264f16e5d\",\"type\":\"Title\"},{\"attributes\":{\"data_source\":{\"id\":\"c15d8590-c8be-4b0b-9d58-14f4d2296db3\",\"type\":\"ColumnDataSource\"},\"glyph\":{\"id\":\"dbecc411-8023-4a67-a228-fb5163cf85ab\",\"type\":\"Line\"},\"hover_glyph\":null,\"muted_glyph\":null,\"nonselection_glyph\":{\"id\":\"676d1fc1-9e4d-45ec-a26c-d179b608777d\",\"type\":\"Line\"},\"selection_glyph\":null,\"view\":{\"id\":\"0261ff14-6957-41a0-879e-f2d3a7423500\",\"type\":\"CDSView\"}},\"id\":\"5920b51d-be75-46b4-bbde-2e9cba1aec1d\",\"type\":\"GlyphRenderer\"},{\"attributes\":{\"line_alpha\":0.1,\"line_color\":\"#1f77b4\",\"x\":{\"field\":\"x\"},\"y\":{\"field\":\"y\"}},\"id\":\"3d7accf4-4989-4091-b93d-e787e264c7a2\",\"type\":\"Line\"},{\"attributes\":{\"data_source\":{\"id\":\"019b57fd-1b45-4f41-a326-0c417f6b29eb\",\"type\":\"ColumnDataSource\"},\"glyph\":{\"id\":\"1b52c29c-0f16-4231-a161-72168a2668aa\",\"type\":\"Line\"},\"hover_glyph\":null,\"muted_glyph\":null,\"nonselection_glyph\":{\"id\":\"3d7accf4-4989-4091-b93d-e787e264c7a2\",\"type\":\"Line\"},\"selection_glyph\":null,\"view\":{\"id\":\"084b9e2a-23b0-4adf-8a31-8b5e885a7f98\",\"type\":\"CDSView\"}},\"id\":\"f17f003f-482e-4838-b44f-f5d53e5438e8\",\"type\":\"GlyphRenderer\"},{\"attributes\":{\"source\":{\"id\":\"019b57fd-1b45-4f41-a326-0c417f6b29eb\",\"type\":\"ColumnDataSource\"}},\"id\":\"084b9e2a-23b0-4adf-8a31-8b5e885a7f98\",\"type\":\"CDSView\"},{\"attributes\":{\"callback\":null,\"data\":{\"x\":{\"__ndarray__\":\"FK5H4XoUDsD6fmq8dJMMwN9PjZduEgvAxSCwcmiRCcCq8dJNYhAIwI/C9ShcjwbAdJMYBFYOBcBaZDvfT40DwD81XrpJDALAJQaBlUOLAMAUrkfhehT+v99PjZduEvu/qvHSTWIQ+L90kxgEVg71vz81XrpJDPK/FK5H4XoU7r+q8dJNYhDov0A1XrpJDOK/qvHSTWIQ2L+q8dJNYhDIvwAAAAAAAAAAqvHSTWIQyD+q8dJNYhDYP0A1XrpJDOI/qvHSTWIQ6D8UrkfhehTuPz81XrpJDPI/dJMYBFYO9T+q8dJNYhD4P99PjZduEvs/FK5H4XoU/j8lBoGVQ4sAQD81XrpJDAJAWmQ730+NA0B0kxgEVg4FQI/C9ShcjwZAqvHSTWIQCEDFILByaJEJQN9PjZduEgtA+n5qvHSTDEAUrkfhehQOQC/dJAaBlQ9AJQaBlUOLEECyne+nxksRQEA1XrpJDBJAzczMzMzMEkBaZDvfT40TQOj7qfHSTRRAdJMYBFYOFUADK4cW2c4VQI/C9ShcjxZAHFpkO99PF0Cq8dJNYhAYQDeJQWDl0BhAxSCwcmiRGUBSuB6F61EaQN9PjZduEhtAbef7qfHSG0D6fmq8dJMcQIgW2c73Ux1AFK5H4XoUHkChRbbz/dQeQC/dJAaBlR9AXrpJDAIrIEAlBoGVQ4sgQOxRuB6F6yBAsp3vp8ZLIUB56SYxCKwhQD81XrpJDCJABoGVQ4tsIkDNzMzMzMwiQJMYBFYOLSNAWmQ730+NI0AhsHJoke0jQOj7qfHSTSRArkfhehSuJEB0kxgEVg4lQDvfT42XbiVAAyuHFtnOJUDJdr6fGi8mQI/C9ShcjyZAVg4tsp3vJkAcWmQ7308nQOSlm8QgsCdAqvHSTWIQKEBxPQrXo3AoQDeJQWDl0ChA/dR46SYxKUDFILByaJEpQIxs5/up8SlAUrgehetRKkAYBFYOLbIqQN9PjZduEitAppvEILByK0Bt5/up8dIrQDMzMzMzMyxA+n5qvHSTLEDAyqFFtvMsQIgW2c73Uy1ATmIQWDm0LUAUrkfhehQuQNv5fmq8dC5AoUW28/3ULkBpke18PzUvQC/dJAaBlS9A9ihcj8L1L0BeukkMAiswQEFg5dAiWzBAJQaBlUOLMEAIrBxaZLswQOxRuB6F6zBAz/dT46UbMUCyne+nxksxQJZDi2znezFAeekmMQisMUBcj8L1KNwxQD81XrpJDDJAI9v5fmo8MkAGgZVDi2wyQOomMQisnDJAzczMzMzMMkCwcmiR7fwyQJMYBFYOLTNAd76fGi9dM0BaZDvfT40zQD0K16NwvTNAIbByaJHtM0AEVg4tsh00QOj7qfHSTTRAyqFFtvN9NECuR+F6FK40QJLtfD813jRAdJMYBFYONUBYObTIdj41QDvfT42XbjVAH4XrUbieNUADK4cW2c41QOXQItv5/jVAyXa+nxovNkCsHFpkO182QI/C9ShcjzZAc2iR7Xy/NkBWDi2yne82QDq0yHa+HzdAHFpkO99PN0AAAAAAAIA3QOSlm8QgsDdAxks3iUHgN0Cq8dJNYhA4QA==\",\"dtype\":\"float64\",\"shape\":[149]},\"y\":{\"__ndarray__\":\"lqMGDop87z/W+5Eyb6zvP3n3ys5Qlu8/iyR3cbL27z9hPwH2bynwP27t8f/T+u8/GI/ZnsMg8D8MFFtWGkvwP8YVG1c6ye8/bRN/+nhy8D+WhHN813bvP60Sqt2/AfA/QavAveMx8D//2m5T4cTvPxkMXMyLNvA/s5Vej/Sa7z+sFe4euUnwP6cxaib8ju8/7bkmIiFE8D9fp70jcfPvP0ij/0IgusE/tOSPcg6V0T8E4r17rALXP0vd8MTd4Nk/SKPbrZh92z/jHPG7R/vcP2VHgwfNeOA/b9G7jhbo4D9YljZIkabhP9u5MB20dOI/zASJCGyB4z9nxo8I0GjjPxEfOx119OQ/AZumd1pu5D+90e6KvmjlP0akXmsRw+Y/tSZGZGDn5j+89G5ehobnP9BjltdROec/xC1MTzlS6D+A91ddklrnP5nGcRIJc+g/t+Ta7pN+6D+im+KhktLpP3ApPR53/ek/t3sK+QaV6T+3f1onbcPpP7VQLqtmG+o/XpUypIYz6j+on7jp/ozqP55nCdur5+k/LvZZ5XAq6j88C1qzRA/rPzh0t2eb5Oo/HjdVYK1P6z+XyOoj21TsPwEwb2tDhus/1aqC792/6z+SVgkPLNbrPyWZQaFmsuw/Nue9lSdx7D/oRXA1tRvsP1fko8zgm+w/Pt5BF8aY7D8OINHL+kTsPxo9dUCIJe0/EboZx1rX7D++B9/G9HTsP3d9QG2A++0/lsKyV68h7j9jcC65/hntP/gwymPf8e0/VJ14F3S87D/GHxbAOKTsPxMUyW5x3ew/NVuG2k3q7T9QqPSBUF/tP9sUPLUtwOw/sexjFLba7T8WOZxuAYLtP/8YiUIize0/W2HxeNMx7T8qM43fsYXtP0/ss7qwTe4/ecjVZuMw7T8uym6UNKbtP9Nai+mZ6O0/mjUB+2pg7j9/pjq9D/7tPwQUU2BIHu4/oLe830rO7T9ZGouejMztPweUkGVOre0/wNlqkIza7j8tWMTQoi7uP3StZxC6ve0/V3G5uKQ27j8E6BLCTqHuP/DAsc9lFe8/diuZd2lF7j+RwM1A1QHvPxf4KGzqgO4/ehsPpO1J7j8bNq4x7zzvP5pCwjLVMu4/MxYNFT7C7T9Xd9wyPDPuP2Cqc7zpHO4/tlIZlAOU7j89kSnWDHTuPzYN/4VkdO4/fiNiQYmp7j/NR9EFyvztPyjw8owZrO4/vbJw4Xd27j8XJfW6OKTuP7vlv2PhbO4/511aZnjt7j+KUYgM5QfvPwFttShSyu4/qb7nT1OQ7j+h/FuOlwjvPwhYrvm8IO8/ohLEQe1r7j/QHtKUsrnuP2037lV+cO4/J5IBdaT+7T/w/uHn3xLuP5M3NH+HF+8/dGtPn7ax7j9eNAAu9BjvP5SgxMlCg+4/+Yw+Vwhu7j+FTgwexrjuP2kUQnQs+O0/55Zcaz0F7z9cg+fPokHuPwBLGmYTje4//stp8ZK27j/XRUnoMuDuP4w11dMI4u4/C+HenR/n7j/cEK8pT4zuPyGnF47E6+4/cvrlQj+57z+qKY3G1IfuPz3vXOeLoe4/VXXsGRr/7j/mXr+S9qDuPw==\",\"dtype\":\"float64\",\"shape\":[149]}},\"selected\":{\"id\":\"7d166f13-9328-4a14-a317-5ae6cc2bc3d7\",\"type\":\"Selection\"},\"selection_policy\":{\"id\":\"a4e55a8c-064f-408c-a75e-69f6ee0ed5da\",\"type\":\"UnionRenderers\"}},\"id\":\"6238b909-e476-43f5-9ecb-b6a9fb4956d7\",\"type\":\"ColumnDataSource\"},{\"attributes\":{\"line_alpha\":0.8,\"line_color\":\"#d62728\",\"x\":{\"field\":\"x\"},\"y\":{\"field\":\"y\"}},\"id\":\"360ed848-0477-4090-be65-0f2b533a4611\",\"type\":\"Line\"},{\"attributes\":{\"line_alpha\":0.1,\"line_color\":\"#1f77b4\",\"x\":{\"field\":\"x\"},\"y\":{\"field\":\"y\"}},\"id\":\"45bb68dc-5107-4e05-a338-8bf0cf343846\",\"type\":\"Line\"},{\"attributes\":{\"data_source\":{\"id\":\"6238b909-e476-43f5-9ecb-b6a9fb4956d7\",\"type\":\"ColumnDataSource\"},\"glyph\":{\"id\":\"360ed848-0477-4090-be65-0f2b533a4611\",\"type\":\"Line\"},\"hover_glyph\":null,\"muted_glyph\":null,\"nonselection_glyph\":{\"id\":\"45bb68dc-5107-4e05-a338-8bf0cf343846\",\"type\":\"Line\"},\"selection_glyph\":null,\"view\":{\"id\":\"928b1ec3-92f2-4192-9f07-a96d38a13dbd\",\"type\":\"CDSView\"}},\"id\":\"c12c73bc-4d28-4ddc-be35-d4a2099a8636\",\"type\":\"GlyphRenderer\"},{\"attributes\":{\"source\":{\"id\":\"6238b909-e476-43f5-9ecb-b6a9fb4956d7\",\"type\":\"ColumnDataSource\"}},\"id\":\"928b1ec3-92f2-4192-9f07-a96d38a13dbd\",\"type\":\"CDSView\"},{\"attributes\":{\"callback\":null,\"data\":{\"x\":{\"__ndarray__\":\"FK5H4XoUDsD6fmq8dJMMwN9PjZduEgvAxSCwcmiRCcCq8dJNYhAIwI/C9ShcjwbAdJMYBFYOBcBaZDvfT40DwD81XrpJDALAJQaBlUOLAMAUrkfhehT+v99PjZduEvu/qvHSTWIQ+L90kxgEVg71vz81XrpJDPK/FK5H4XoU7r+q8dJNYhDov0A1XrpJDOK/qvHSTWIQ2L+q8dJNYhDIvwAAAAAAAAAAqvHSTWIQyD+q8dJNYhDYP0A1XrpJDOI/qvHSTWIQ6D8UrkfhehTuPz81XrpJDPI/dJMYBFYO9T+q8dJNYhD4P99PjZduEvs/FK5H4XoU/j8lBoGVQ4sAQD81XrpJDAJAWmQ730+NA0B0kxgEVg4FQI/C9ShcjwZAqvHSTWIQCEDFILByaJEJQN9PjZduEgtA+n5qvHSTDEAUrkfhehQOQC/dJAaBlQ9AJQaBlUOLEECyne+nxksRQEA1XrpJDBJAzczMzMzMEkBaZDvfT40TQOj7qfHSTRRAdJMYBFYOFUADK4cW2c4VQI/C9ShcjxZAHFpkO99PF0Cq8dJNYhAYQDeJQWDl0BhAxSCwcmiRGUBSuB6F61EaQN9PjZduEhtAbef7qfHSG0D6fmq8dJMcQIgW2c73Ux1AFK5H4XoUHkChRbbz/dQeQC/dJAaBlR9AXrpJDAIrIEAlBoGVQ4sgQOxRuB6F6yBAsp3vp8ZLIUB56SYxCKwhQD81XrpJDCJABoGVQ4tsIkDNzMzMzMwiQJMYBFYOLSNAWmQ730+NI0AhsHJoke0jQOj7qfHSTSRArkfhehSuJEB0kxgEVg4lQDvfT42XbiVAAyuHFtnOJUDJdr6fGi8mQI/C9ShcjyZAVg4tsp3vJkAcWmQ7308nQOSlm8QgsCdAqvHSTWIQKEBxPQrXo3AoQDeJQWDl0ChA/dR46SYxKUDFILByaJEpQIxs5/up8SlAUrgehetRKkAYBFYOLbIqQN9PjZduEitAppvEILByK0Bt5/up8dIrQDMzMzMzMyxA+n5qvHSTLEDAyqFFtvMsQIgW2c73Uy1ATmIQWDm0LUAUrkfhehQuQNv5fmq8dC5AoUW28/3ULkBpke18PzUvQC/dJAaBlS9A9ihcj8L1L0BeukkMAiswQEFg5dAiWzBAJQaBlUOLMEAIrBxaZLswQOxRuB6F6zBAz/dT46UbMUCyne+nxksxQJZDi2znezFAeekmMQisMUBcj8L1KNwxQD81XrpJDDJAI9v5fmo8MkAGgZVDi2wyQOomMQisnDJAzczMzMzMMkCwcmiR7fwyQJMYBFYOLTNAd76fGi9dM0BaZDvfT40zQD0K16NwvTNAIbByaJHtM0AEVg4tsh00QOj7qfHSTTRAyqFFtvN9NECuR+F6FK40QJLtfD813jRAdJMYBFYONUBYObTIdj41QDvfT42XbjVAH4XrUbieNUADK4cW2c41QOXQItv5/jVAyXa+nxovNkCsHFpkO182QI/C9ShcjzZAc2iR7Xy/NkBWDi2yne82QDq0yHa+HzdAHFpkO99PN0AAAAAAAIA3QOSlm8QgsDdAxks3iUHgN0Cq8dJNYhA4QA==\",\"dtype\":\"float64\",\"shape\":[149]},\"y\":{\"__ndarray__\":\"epGjwj187z8MFanrZtDvP2FyrOGWFvA/dBo6VNiW7z/OYjdgIMfvP5xzTdd8FfA/Nk8LbKMM8D/zbsHYpzvwP7JfpED1Pe8/6fUdYnYo8D+fk3kIZeHvPxwajQ35FfA/jLbhiddB8D9v1WMVYwXwP8w1EqRCZvA/jgxiYjfQ7z8hFYcKdK7vPx2tXPIRmO8/WU+vL7TW7z+NLNYcRa/vP3ftYKNdBL8/bAEjTbm+0T+Ixv6d6rXWPyenodjAm9k/C5S+U4wi2z/w695k6vfbP0iNz9qHYuA/ZooYExKy4D9HMj3wE5XhPzk82/1f6OI/0YZx/CVr4z8/2eJMhnnkPwEdkefe9+Q/rv8fvBXU5T/BUl5W0AnmP9P88oULueY/dFq3VOR85j/C1mZ8m0HnPzjbrZDwyOc/i/DxVlsH6D/agwfTgGznP71S6Nwzsug/ybUNo92E6T+Lc19QhzvpPwuCB2SzB+k/jobsihn86T/X/vkYGzrqP771f/qHzOk/Bh9DdZ3h6j///GzF9SjrPzHJbjYHtOo/7iOhmsh86j9/ZtFYxkrrP8bGRfstjus/PRxPfUud6z8VX8YlgZPsP0bPyGPVt+s/Yp2l98x46z/uFGpNwfbrP7f8m/uvxOw/fZJ5jPLs7D8BEKH9aOLsPwrqq9Qyhew/iKQboYys7D/uJrhPk9nrP/IX/pUvXO0/ZxzKKNJ27D93Kvro7tPrP6M0vDrwOu0/ITiabzQ/7T/N0UPSdOLsP5om57Jk0e0/IpbBI7Ns7T+u0+CyrzftP3MOjFUCLe4/Ow52FitY7j/h8tr/ZHDtPxhBTQfL2e0/RejEyD7k7D/CXK1dhqXtP4n/oeIYEO0/FSmvPiVE7j+4mH0SBIXtPz7aKX7J2O0/f9jHx4Sg7T/gD2fpRGLtPzAa1D28Ne4/f2jV7jp/7T+Y2kfyJz3uPx6IYKyzme0/vAw+pCuM7T9kInTI4i7uP/h6GGegKu4/2gE0TLWw7j9TTYOiqKjuP+LuGrdwn+0/dDaIAD417j9odeBzgjnuP28FJiOYQe4/VdvYWI/P7j+ed4FdadftP2MeECRUqe0/dKZPZXsh7j/vVGCW5NvuP2iv2RKO0+4/zT8Cxv+07j+rSj4NnI/uP98D/3HjOO4/qHzhRWri7T+UR7il7L7uP6kvMGfxLu4/BCI+IcA+7j+VMV5oNb7uP+7Wj+y0Pu4/2/0vcLf37T+keuH7xkXuP6B7h3nZ7u4/CK5JKyzP7j8OA0A+LTbuP1vddsZCHu4/qTRLCSap7j+xpbUKX9nuPwLxNI9MPO8/yLM3cfvA7j962VDVDLfuPzDjUZpEw+4/aEWlzIQW7j8taxbfK5buPyTOQbGwLO8/NnUQ0Jih7j/t2oh0YfruP/q2rXMQwO4/GmVA/fRH7j++03Skl5vuP5QAeHQy9O4/4RUHYa757j/dVa0avr3uPx8RPIDC5+4/g57bbBJt7j9CbNrzGOnuP66G3jSVF+8/yJ0/Dfiv7j/ZY1jdDk3vPyO/fgu/ke4/BcUhv2BI7j9TtVouYJDuPw5tQA5b/+0//C3bzdul7z+X611o8gfuPw==\",\"dtype\":\"float64\",\"shape\":[149]}},\"selected\":{\"id\":\"a39cb861-0ca6-46f4-96d2-fc0f11c20963\",\"type\":\"Selection\"},\"selection_policy\":{\"id\":\"9e09ea5b-87da-46e1-a6bd-403ffaea0ac2\",\"type\":\"UnionRenderers\"}},\"id\":\"9e65a7b4-6073-4814-a64d-e7a9ca8c47c0\",\"type\":\"ColumnDataSource\"},{\"attributes\":{\"line_alpha\":0.8,\"line_color\":\"#ff9896\",\"x\":{\"field\":\"x\"},\"y\":{\"field\":\"y\"}},\"id\":\"06ac3569-631e-4cde-bd67-aafe1214c5d1\",\"type\":\"Line\"},{\"attributes\":{\"line_alpha\":0.1,\"line_color\":\"#1f77b4\",\"x\":{\"field\":\"x\"},\"y\":{\"field\":\"y\"}},\"id\":\"cbf69357-a107-4a85-9bfb-1d63ac2d59a6\",\"type\":\"Line\"},{\"attributes\":{\"data_source\":{\"id\":\"9e65a7b4-6073-4814-a64d-e7a9ca8c47c0\",\"type\":\"ColumnDataSource\"},\"glyph\":{\"id\":\"06ac3569-631e-4cde-bd67-aafe1214c5d1\",\"type\":\"Line\"},\"hover_glyph\":null,\"muted_glyph\":null,\"nonselection_glyph\":{\"id\":\"cbf69357-a107-4a85-9bfb-1d63ac2d59a6\",\"type\":\"Line\"},\"selection_glyph\":null,\"view\":{\"id\":\"75f2a190-e552-458c-a8a2-77d76a7b0020\",\"type\":\"CDSView\"}},\"id\":\"7a3c2a9d-c901-4d2a-a8b7-2fb216a64f42\",\"type\":\"GlyphRenderer\"},{\"attributes\":{\"source\":{\"id\":\"9e65a7b4-6073-4814-a64d-e7a9ca8c47c0\",\"type\":\"ColumnDataSource\"}},\"id\":\"75f2a190-e552-458c-a8a2-77d76a7b0020\",\"type\":\"CDSView\"},{\"attributes\":{\"callback\":null,\"data\":{\"x\":{\"__ndarray__\":\"FK5H4XoUDsD6fmq8dJMMwN9PjZduEgvAxSCwcmiRCcCq8dJNYhAIwI/C9ShcjwbAdJMYBFYOBcBaZDvfT40DwD81XrpJDALAJQaBlUOLAMAUrkfhehT+v99PjZduEvu/qvHSTWIQ+L90kxgEVg71vz81XrpJDPK/FK5H4XoU7r+q8dJNYhDov0A1XrpJDOK/qvHSTWIQ2L+q8dJNYhDIvwAAAAAAAAAAqvHSTWIQyD+q8dJNYhDYP0A1XrpJDOI/qvHSTWIQ6D8UrkfhehTuPz81XrpJDPI/dJMYBFYO9T+q8dJNYhD4P99PjZduEvs/FK5H4XoU/j8lBoGVQ4sAQD81XrpJDAJAWmQ730+NA0B0kxgEVg4FQI/C9ShcjwZAqvHSTWIQCEDFILByaJEJQN9PjZduEgtA+n5qvHSTDEAUrkfhehQOQC/dJAaBlQ9AJQaBlUOLEECyne+nxksRQEA1XrpJDBJAzczMzMzMEkBaZDvfT40TQOj7qfHSTRRAdJMYBFYOFUADK4cW2c4VQI/C9ShcjxZAHFpkO99PF0Cq8dJNYhAYQDeJQWDl0BhAxSCwcmiRGUBSuB6F61EaQN9PjZduEhtAbef7qfHSG0D6fmq8dJMcQIgW2c73Ux1AFK5H4XoUHkChRbbz/dQeQC/dJAaBlR9AXrpJDAIrIEAlBoGVQ4sgQOxRuB6F6yBAsp3vp8ZLIUB56SYxCKwhQD81XrpJDCJABoGVQ4tsIkDNzMzMzMwiQJMYBFYOLSNAWmQ730+NI0AhsHJoke0jQOj7qfHSTSRArkfhehSuJEB0kxgEVg4lQDvfT42XbiVAAyuHFtnOJUDJdr6fGi8mQI/C9ShcjyZAVg4tsp3vJkAcWmQ7308nQOSlm8QgsCdAqvHSTWIQKEBxPQrXo3AoQDeJQWDl0ChA/dR46SYxKUDFILByaJEpQIxs5/up8SlAUrgehetRKkAYBFYOLbIqQN9PjZduEitAppvEILByK0Bt5/up8dIrQDMzMzMzMyxA+n5qvHSTLEDAyqFFtvMsQIgW2c73Uy1ATmIQWDm0LUAUrkfhehQuQNv5fmq8dC5AoUW28/3ULkBpke18PzUvQC/dJAaBlS9A9ihcj8L1L0BeukkMAiswQEFg5dAiWzBAJQaBlUOLMEAIrBxaZLswQOxRuB6F6zBAz/dT46UbMUCyne+nxksxQJZDi2znezFAeekmMQisMUBcj8L1KNwxQD81XrpJDDJAI9v5fmo8MkAGgZVDi2wyQOomMQisnDJAzczMzMzMMkCwcmiR7fwyQJMYBFYOLTNAd76fGi9dM0BaZDvfT40zQD0K16NwvTNAIbByaJHtM0AEVg4tsh00QOj7qfHSTTRAyqFFtvN9NECuR+F6FK40QJLtfD813jRAdJMYBFYONUBYObTIdj41QDvfT42XbjVAH4XrUbieNUADK4cW2c41QOXQItv5/jVAyXa+nxovNkCsHFpkO182QI/C9ShcjzZAc2iR7Xy/NkBWDi2yne82QDq0yHa+HzdAHFpkO99PN0AAAAAAAIA3QOSlm8QgsDdAxks3iUHgN0Cq8dJNYhA4QA==\",\"dtype\":\"float64\",\"shape\":[149]},\"y\":{\"__ndarray__\":\"9NE95bUh8D8TATTLHgXwPzl1BOlsz+8/NUNSf8dR8D/fmAO+Xy7wPzH6JK+rNu8/rGeFN8wO7z+2ExueqLvvP633BFU7APA/tujV9ST97z+eTMNZD4zvP9yc3aqO5+8/xpPQ3Lo18D8O6dQFjxzwPyYbvXtNTvA/yGSbQugl8D8wdCle+gHwP8koktbUFfA/3yLKLM3c7z8/BHz6YNvvP3J/KWiDt8U/ZX+In/Kf0D9rO7y4O/zUP6JKp3a6x9g/HFXLZN5u3D9dr355S7HeP0ptFVXCF+A/shgBVc/94D/Y5cMqiCbhP+xCbSxNVuI/tEWlSirL4j+fuY74QO/jP29aoL5/5uQ/SbMQMdSM5D9p3ebgjvzlP+HM+kEybOY/aH7heeBd5j8hqVOcG0bnP8IQQ82S6eY/e6W1ZqEH6D/1NrRdI6voP3mb2G/R7+g/sD5xplJY6D9o3DgFjxLpP6SuXQWk2+g/mOxWI9KO6T+PzqhW5XjpP3d5zaYA+Ok/3+3lb5Uu6j9dM3D6JsjpP88JXK/R7+o/uuuPJ30N6z+snus/em/qP4Qp+IYEb+s/z4wSMYHM6z8UZJxVwSjsP7r1+pOvF+s/Gr0POV5q6z8bI0T+O9frP81RIHHay+s/wZyNNpSu6z/IeRf7Q4TsP8kWpqtGpOw/mPKRzGNO7D/vUe8dxJTsP5uMs/h2mOw/bpQPTBtB7D91EujvcNLtP3bHQVfOvuw/VHELf3GW7T/dnP5gCHrsP2XB41s3me0/hwUZ1NCI7T9TBU8r1IntP6hxYrtU8O0/Fwar4Cx+7T/qp0hRdeDtP1Fx74uBwu0/lUGjflht7T+E8anV4ortP/Jl1/+b2O0/w/1XOS9y7j+CFI4JXp/tPyjzOSUaHu4/GDkdCFio7T9aiO3RVKftPzh0yo5z5ew/PdO0nXPs7j/9X4ZMv2XuP6jikNL4+u0/wZx8fAPM7T8cZcui66btP24T2Hshge0/+VRbJZtu7j8HYx/7jJDtP3/Ero/2fe0/ecYLnaIF7j9wXwlw+DnuP+bREi4rue4/ZCnRUdxr7j9QVtFzoRzuP6jTWW6AnO4/6F2Hhy7C7j9ncP78Jc7uP4sZumZ1iO0/8t+ITnE57z8Ljq4BNI7uPys3EzM6I+4/Mp560WOw7j81hunrn1ruP+X9cexAQu4/od+nqE4N7j+6dYO6osXuP62P1UJIae4/fegQt1dn7j+N84RTBZvuP/bFg+b0du4/l2higTrg7j9cVx0ZVlzuP2OScZwi/u4/W5Ne6Ktm7j8DD8NGSJDuP6NUWxUK/u4/XylrYvx97j/iB/VLoyPvP/IL5D/4ZO4/HsqSdjGH7j+mEjZUyc7uP1aNW5hggO4/5zpXidjE7j/B0RxegI/vP9CjOyg8au4/hs6v/6Oa7j/ObfL3WAnuPyOl/bIDH+4/mh0kFXHt7j9+jbCWdJzuP3LWnHvg9u4/EJt2YLWd7j9sruL77fvuP2R6BUQNPu4/Vri/Up0k7j971Tko6jnuP07gc9bbwu4/7XxO7JPK7j9ygVHXKivuPy4/Nr+dlO4/yPSI8nXO7j9mhBYhNXbuPw==\",\"dtype\":\"float64\",\"shape\":[149]}},\"selected\":{\"id\":\"330437c6-73f8-4586-b11d-bee0e546f5b3\",\"type\":\"Selection\"},\"selection_policy\":{\"id\":\"a5f10476-c6eb-4b4b-9a3b-aa4b6422c94e\",\"type\":\"UnionRenderers\"}},\"id\":\"3f113228-d2ef-4974-bd9c-fea01b3effd0\",\"type\":\"ColumnDataSource\"},{\"attributes\":{\"line_alpha\":0.8,\"line_color\":\"#9467bd\",\"x\":{\"field\":\"x\"},\"y\":{\"field\":\"y\"}},\"id\":\"011861e4-bd3d-4b5b-9e6c-37f9d68ffa6f\",\"type\":\"Line\"},{\"attributes\":{\"line_alpha\":0.1,\"line_color\":\"#1f77b4\",\"x\":{\"field\":\"x\"},\"y\":{\"field\":\"y\"}},\"id\":\"4217fb2d-1852-4ee3-8d25-d41f8aa829ef\",\"type\":\"Line\"},{\"attributes\":{\"data_source\":{\"id\":\"3f113228-d2ef-4974-bd9c-fea01b3effd0\",\"type\":\"ColumnDataSource\"},\"glyph\":{\"id\":\"011861e4-bd3d-4b5b-9e6c-37f9d68ffa6f\",\"type\":\"Line\"},\"hover_glyph\":null,\"muted_glyph\":null,\"nonselection_glyph\":{\"id\":\"4217fb2d-1852-4ee3-8d25-d41f8aa829ef\",\"type\":\"Line\"},\"selection_glyph\":null,\"view\":{\"id\":\"98816937-cfed-4722-bc9d-5c5fae629bdd\",\"type\":\"CDSView\"}},\"id\":\"6eb8c50a-308e-442f-83a6-0d23e4e76a36\",\"type\":\"GlyphRenderer\"},{\"attributes\":{\"source\":{\"id\":\"3f113228-d2ef-4974-bd9c-fea01b3effd0\",\"type\":\"ColumnDataSource\"}},\"id\":\"98816937-cfed-4722-bc9d-5c5fae629bdd\",\"type\":\"CDSView\"},{\"attributes\":{\"callback\":null,\"data\":{\"x\":{\"__ndarray__\":\"FK5H4XoUDsD6fmq8dJMMwN9PjZduEgvAxSCwcmiRCcCq8dJNYhAIwI/C9ShcjwbAdJMYBFYOBcBaZDvfT40DwD81XrpJDALAJQaBlUOLAMAUrkfhehT+v99PjZduEvu/qvHSTWIQ+L90kxgEVg71vz81XrpJDPK/FK5H4XoU7r+q8dJNYhDov0A1XrpJDOK/qvHSTWIQ2L+q8dJNYhDIvwAAAAAAAAAAqvHSTWIQyD+q8dJNYhDYP0A1XrpJDOI/qvHSTWIQ6D8UrkfhehTuPz81XrpJDPI/dJMYBFYO9T+q8dJNYhD4P99PjZduEvs/FK5H4XoU/j8lBoGVQ4sAQD81XrpJDAJAWmQ730+NA0B0kxgEVg4FQI/C9ShcjwZAqvHSTWIQCEDFILByaJEJQN9PjZduEgtA+n5qvHSTDEAUrkfhehQOQC/dJAaBlQ9AJQaBlUOLEECyne+nxksRQEA1XrpJDBJAzczMzMzMEkBaZDvfT40TQOj7qfHSTRRAdJMYBFYOFUADK4cW2c4VQI/C9ShcjxZAHFpkO99PF0Cq8dJNYhAYQDeJQWDl0BhAxSCwcmiRGUBSuB6F61EaQN9PjZduEhtAbef7qfHSG0D6fmq8dJMcQIgW2c73Ux1AFK5H4XoUHkChRbbz/dQeQC/dJAaBlR9AXrpJDAIrIEAlBoGVQ4sgQOxRuB6F6yBAsp3vp8ZLIUB56SYxCKwhQD81XrpJDCJABoGVQ4tsIkDNzMzMzMwiQJMYBFYOLSNAWmQ730+NI0AhsHJoke0jQOj7qfHSTSRArkfhehSuJEB0kxgEVg4lQDvfT42XbiVAAyuHFtnOJUDJdr6fGi8mQI/C9ShcjyZAVg4tsp3vJkAcWmQ7308nQOSlm8QgsCdAqvHSTWIQKEBxPQrXo3AoQDeJQWDl0ChA/dR46SYxKUDFILByaJEpQIxs5/up8SlAUrgehetRKkAYBFYOLbIqQN9PjZduEitAppvEILByK0Bt5/up8dIrQDMzMzMzMyxA+n5qvHSTLEDAyqFFtvMsQIgW2c73Uy1ATmIQWDm0LUAUrkfhehQuQNv5fmq8dC5AoUW28/3ULkBpke18PzUvQC/dJAaBlS9A9ihcj8L1L0BeukkMAiswQEFg5dAiWzBAJQaBlUOLMEAIrBxaZLswQOxRuB6F6zBAz/dT46UbMUCyne+nxksxQJZDi2znezFAeekmMQisMUBcj8L1KNwxQD81XrpJDDJAI9v5fmo8MkAGgZVDi2wyQOomMQisnDJAzczMzMzMMkCwcmiR7fwyQJMYBFYOLTNAd76fGi9dM0BaZDvfT40zQD0K16NwvTNAIbByaJHtM0AEVg4tsh00QOj7qfHSTTRAyqFFtvN9NECuR+F6FK40QJLtfD813jRAdJMYBFYONUBYObTIdj41QDvfT42XbjVAH4XrUbieNUADK4cW2c41QOXQItv5/jVAyXa+nxovNkCsHFpkO182QI/C9ShcjzZAc2iR7Xy/NkBWDi2yne82QDq0yHa+HzdAHFpkO99PN0AAAAAAAIA3QOSlm8QgsDdAxks3iUHgN0Cq8dJNYhA4QA==\",\"dtype\":\"float64\",\"shape\":[149]},\"y\":{\"__ndarray__\":\"sv9Tj0cO8D8dSdq3HivwP4WNzFLaCPA/S+JTUr0Q8D+28sKVZR7wP5jjHdWFou8/lQ2hQ7xm7z9tFcm28NHvPySO33awI/A/w2OPhcM98D/yVBwAyyrvP+/TvfSOue8/ZcTwI+Gn7z+4paWOBd7vP4AJt2WYUPA/hZPyaYIc8D/vTVOnqqbvP31GEhwe0O8/tImGsAEJ8D/vyazAI6rvPz09FGAxYcE/Mtm4xPmD0j+E0v+DLcDWPwvWgZkiGNo/6TomvE8R3D9HsN/qlzncP9mXgTAT1uA/i3qZOZ014T8bK5HYZqThP+IBLNwrFOM/6uQBLMuf4z8w0GBIf0DkPxWnyQSpwuQ/i4DqRKOY5D/W4Y02exHmP+Lw2bNNvOU/e5FA+b1a5j/l7d/46kTnP009SRUed+c/SJLr9SH55j8HwYoGLf3oP9r94eJiO+g/rHYdjeRW6D9F0KzWj0LpPwnUbb4Ukuk/27cM6HyJ6T9blsy7HIDpP4bJlpJjo+k/W8jzx2Qq6j+3COKyxmjqP+88xeX8Xeo/jKTlKcL06j9UMFtm/B3sP55gR46rc+s/zWihjnhm6z8HEt7oUBLsP1Iz8a/PD+w/Fl5/s9YV7D98lf9HNpbrP8xIUXZB6us/rqbAc1mP7D8HcU8Bw6jsP4TmVPho8Ow/IiBjqoTI7D/hzP8WUkPtP2xBk/02Ruw/x15xM9YV7T/suFEcNWXsP4U/7jAciuw/pPfd3FAn7T9a+uGNYlDtP1vJU/41S+0/JfFnxFr67T8I090R75HtP8m793aOUe0/Ieomar1w7T8m1+uoTMnsPyec53kPNe4/SKF41LjA7T9rKIZYHsjtP3VEmJqqXO4/XzXQ0/fg7T8sCKGaEO3tPyyqxsFND+0/iauoougb7j/FoAZz3KvtP/mxeTutze0/4mcLEAXp7T/1j99zKWHuP/YmwEaSNu4/KR5KsSTp7T8tqh1dJu7tP3k23Q70Cu4/T2KtN3rG7j96ehodm2DuPyR+lN/Cn+0/qrq+0SI87j+06dfy9zLuPykvpoY+d+4/2ARGkRFk7j+/CW0UILTuP4mZQ4mbi+4/ZoUpAOE47j+q3+g/FujuP4Wqa7eEKO4/Ov5viPLd7j/A8aF716XuP8zNuy3P1O4/uA7XzsGt7j+HQD11uArvP4oolosmzu4/WNK78mWv7j8rtkwwUH3uP5RKjDB8/O0/6MRKmIjL7j/GY3dp0kHuPw+vS5kev+4/xfkyWuRl7j++uchH2NDuP/wJbTQQu+4/yWAWCpgy7z80l4P+axrvP7+HMgMjPu8/C8Kw8DxX7j9lFuMuDeXvP+StWvo0Mu4/4LEEhI5b7j9eSw+vJ9TuP3x5/2ppAe4/r3qcQ37B7j+nVOtmDU3uP+9+PjW7jO4/EZ9MCGMC7z/TVt3RV2ruP/t18cRe6e0/fXuDcQy97j8UMsYakZLuP560ljrgme4/NAS+VPp67j+kSMnOOJvuP4ym7IkZBO4/q+ybfaWh7j9uo7A1uAnvP3LNh6hKju4/zYlG9PqE7j81itKezD3vP0j9XzCP7e0/MpmTe2Sr7j+tdSi6T1/vPw==\",\"dtype\":\"float64\",\"shape\":[149]}},\"selected\":{\"id\":\"0387f428-1574-4613-ad37-354989ceed6a\",\"type\":\"Selection\"},\"selection_policy\":{\"id\":\"0cba0e07-5a8b-471d-97bd-52b1082fe414\",\"type\":\"UnionRenderers\"}},\"id\":\"4ee8d198-133c-4919-8e62-04f7b7cf50c2\",\"type\":\"ColumnDataSource\"},{\"attributes\":{\"line_alpha\":0.8,\"line_color\":\"#c5b0d5\",\"x\":{\"field\":\"x\"},\"y\":{\"field\":\"y\"}},\"id\":\"e8aa89b3-2c58-4d83-9c7c-692b5d91d8dc\",\"type\":\"Line\"},{\"attributes\":{\"line_alpha\":0.1,\"line_color\":\"#1f77b4\",\"x\":{\"field\":\"x\"},\"y\":{\"field\":\"y\"}},\"id\":\"d9d26325-0d59-42fc-9c01-3c9af78b3925\",\"type\":\"Line\"},{\"attributes\":{\"data_source\":{\"id\":\"4ee8d198-133c-4919-8e62-04f7b7cf50c2\",\"type\":\"ColumnDataSource\"},\"glyph\":{\"id\":\"e8aa89b3-2c58-4d83-9c7c-692b5d91d8dc\",\"type\":\"Line\"},\"hover_glyph\":null,\"muted_glyph\":null,\"nonselection_glyph\":{\"id\":\"d9d26325-0d59-42fc-9c01-3c9af78b3925\",\"type\":\"Line\"},\"selection_glyph\":null,\"view\":{\"id\":\"7b900499-84eb-401b-a5dc-f98b41997cd9\",\"type\":\"CDSView\"}},\"id\":\"6c7af6fc-760d-4c99-8c51-89ba28cf74e0\",\"type\":\"GlyphRenderer\"},{\"attributes\":{\"source\":{\"id\":\"4ee8d198-133c-4919-8e62-04f7b7cf50c2\",\"type\":\"ColumnDataSource\"}},\"id\":\"7b900499-84eb-401b-a5dc-f98b41997cd9\",\"type\":\"CDSView\"},{\"attributes\":{\"callback\":null,\"data\":{\"x\":{\"__ndarray__\":\"FK5H4XoUDsD6fmq8dJMMwN9PjZduEgvAxSCwcmiRCcCq8dJNYhAIwI/C9ShcjwbAdJMYBFYOBcBaZDvfT40DwD81XrpJDALAJQaBlUOLAMAUrkfhehT+v99PjZduEvu/qvHSTWIQ+L90kxgEVg71vz81XrpJDPK/FK5H4XoU7r+q8dJNYhDov0A1XrpJDOK/qvHSTWIQ2L+q8dJNYhDIvwAAAAAAAAAAqvHSTWIQyD+q8dJNYhDYP0A1XrpJDOI/qvHSTWIQ6D8UrkfhehTuPz81XrpJDPI/dJMYBFYO9T+q8dJNYhD4P99PjZduEvs/FK5H4XoU/j8lBoGVQ4sAQD81XrpJDAJAWmQ730+NA0B0kxgEVg4FQI/C9ShcjwZAqvHSTWIQCEDFILByaJEJQN9PjZduEgtA+n5qvHSTDEAUrkfhehQOQC/dJAaBlQ9AJQaBlUOLEECyne+nxksRQEA1XrpJDBJAzczMzMzMEkBaZDvfT40TQOj7qfHSTRRAdJMYBFYOFUADK4cW2c4VQI/C9ShcjxZAHFpkO99PF0Cq8dJNYhAYQDeJQWDl0BhAxSCwcmiRGUBSuB6F61EaQN9PjZduEhtAbef7qfHSG0D6fmq8dJMcQIgW2c73Ux1AFK5H4XoUHkChRbbz/dQeQC/dJAaBlR9AXrpJDAIrIEAlBoGVQ4sgQOxRuB6F6yBAsp3vp8ZLIUB56SYxCKwhQD81XrpJDCJABoGVQ4tsIkDNzMzMzMwiQJMYBFYOLSNAWmQ730+NI0AhsHJoke0jQOj7qfHSTSRArkfhehSuJEB0kxgEVg4lQDvfT42XbiVAAyuHFtnOJUDJdr6fGi8mQI/C9ShcjyZAVg4tsp3vJkAcWmQ7308nQOSlm8QgsCdAqvHSTWIQKEBxPQrXo3AoQDeJQWDl0ChA/dR46SYxKUDFILByaJEpQIxs5/up8SlAUrgehetRKkAYBFYOLbIqQN9PjZduEitAppvEILByK0Bt5/up8dIrQDMzMzMzMyxA+n5qvHSTLEDAyqFFtvMsQIgW2c73Uy1ATmIQWDm0LUAUrkfhehQuQNv5fmq8dC5AoUW28/3ULkBpke18PzUvQC/dJAaBlS9A9ihcj8L1L0BeukkMAiswQEFg5dAiWzBAJQaBlUOLMEAIrBxaZLswQOxRuB6F6zBAz/dT46UbMUCyne+nxksxQJZDi2znezFAeekmMQisMUBcj8L1KNwxQD81XrpJDDJAI9v5fmo8MkAGgZVDi2wyQOomMQisnDJAzczMzMzMMkCwcmiR7fwyQJMYBFYOLTNAd76fGi9dM0BaZDvfT40zQD0K16NwvTNAIbByaJHtM0AEVg4tsh00QOj7qfHSTTRAyqFFtvN9NECuR+F6FK40QJLtfD813jRAdJMYBFYONUBYObTIdj41QDvfT42XbjVAH4XrUbieNUADK4cW2c41QOXQItv5/jVAyXa+nxovNkCsHFpkO182QI/C9ShcjzZAc2iR7Xy/NkBWDi2yne82QDq0yHa+HzdAHFpkO99PN0AAAAAAAIA3QOSlm8QgsDdAxks3iUHgN0Cq8dJNYhA4QA==\",\"dtype\":\"float64\",\"shape\":[149]},\"y\":{\"__ndarray__\":\"hbrWzy068D+NRbsNH0TwP0HYOARCC/A/r6FDL9GM7z/gtyJ7SDfvP0vFlUue9+8/eaf+SmH87z/XORcec27wPw2MUq8r6O8/EChn0VEL8D+ocRhVsUbwP2pDhP3gQfA/CTGD5MtP7z9q3X7A+SnwP0hf5kjA8+8/HVR9/Hqm7z/abSwwG2zwPyNsNPUUTfA/CSnFvCUe8D9DZkhXVqvvP48IXSxQtMM/ovtbls2y0T9Xsz0JieHVP2Xv54cU9tk/WyI3Ay6A2z8tupaFEkPeP9CZDa0tEOA/vITZTlTg4D+q0E3cnQ7iPz+FJVhLRuM/TEyakGJj4z9CwG35ErXjP3TL5qHqYeQ/zT7xOWxB5T+2m+7maMDlP7l9EScU7OU/9o7egpkT5z9Ar0Frr6nnP4OtIzw8fOc/aI2NGJup5z9XUn6VPr7oP+6YzmHPQ+g/mMl3Nk/W6D8EUzxvl83pP9IXZUd5kuk/a1PhfHKn6T8/UpZzwaPpP7yBstowHeo/mGAr7Eg56j/r/rt7FqHqPxX6DM4roes/fi84Nqe36j8d0fOLypnrP9O43feOjus//z4Qw8Dd6z94yx2ybDTsP11zIvo/Eew/s2anoMGQ6z8k5r1HvkvsPxF30VJwa+w/dQS0lqVw7D9ccB+sd/brPyEfrrUW0+w/4YuKwVAY7D+s0cCLRNLsP3bPJY9pROw/wiM4OfpZ7T/rmuysWNHsPyOi17RbDe0//OzhfAzy7D/beUjVUoTtP4wC7qOsDu0/6FpMDcSs7D8ylO3lHbntPxvnQuyJCe0/EAhgIgEt7j+Y4jRI96HtP1fgdiH2C+4/5Mj/bPxG7T+8h0Jvya3tPzl9sWQXUO0/CPtkCY4s7j++9fzkG/XtPx6h7hTb3e0/VRkpzUoM7j9M9AojC2HuP/ZzQUAUeu0/tQBDDLQV7j/U4XxQym7uP8WAIo7Y2+4/GYsWrCiY7j9YDqB73fTtPz6mRKIfKO4/LcvYPHfn7T9nZC+AvJDtP+7Y4S1+U+4/ClgQPHf47T8X7cmTU+rtPx2QfTGUI+4/iq4xvV8l7j/BlQcZTivuP5FhliDM0u4/3SvgY0Z77j9IUZOyyh3uPzWHoTmSne4/4JCFcud77j/VIdeoqYXuP/QvMxWnt+4/SKEzrS2Q7j+eTgpuw5vuPyPK3I/+/u4/5cl7Pe1m7j/T5d8xtJPuP3pzg5vvbO4/tNUIhqL97j+zfvy/PRzvPyyD8NyaT+4/uc5yv+xY7j8F48jQBkvuP/Sl3XU9dO4/qvXHM/6Z7j+YzFJZUpPuP1QyYO771u4/gA4wOh367j/g04W+OYDuP4yvgCSKf+4/IjCVRsoo7z9wv9mH8XruP3g4l2D1XO4/Iwwa6Gyy7j+xWlSw3ITuP2C4Ye2X0O4/kd/7aBc17z9dTFq8L8buP+2CW+yWGu8/dLg3ZNZX7j8TPyp/lkPuP1s98+bXF+4/Aljm40mX7j85pl43RjHvP99UsEtPLe4/1RlG7OKS7j/ftDMPWADvP6javjadlO8/SLGYe/HV7j9dPyxoMZfuPw1oQZ4AE+8/rfZA3a6H7z8RP9OsL6HuPw==\",\"dtype\":\"float64\",\"shape\":[149]}},\"selected\":{\"id\":\"aa09d1d2-3aa7-4409-b4f8-1de0a3beaca0\",\"type\":\"Selection\"},\"selection_policy\":{\"id\":\"474bc423-4d8c-43ba-a9c6-bf4fffa7c2ea\",\"type\":\"UnionRenderers\"}},\"id\":\"41a793f7-20c8-4e0f-a898-17ee260dd6c3\",\"type\":\"ColumnDataSource\"},{\"attributes\":{\"line_alpha\":0.8,\"line_color\":\"#8c564b\",\"x\":{\"field\":\"x\"},\"y\":{\"field\":\"y\"}},\"id\":\"9627966d-36c2-4040-b933-00f106249dbc\",\"type\":\"Line\"},{\"attributes\":{\"line_alpha\":0.1,\"line_color\":\"#1f77b4\",\"x\":{\"field\":\"x\"},\"y\":{\"field\":\"y\"}},\"id\":\"506c74b3-da44-4c94-bae0-c63414b80619\",\"type\":\"Line\"},{\"attributes\":{\"data_source\":{\"id\":\"41a793f7-20c8-4e0f-a898-17ee260dd6c3\",\"type\":\"ColumnDataSource\"},\"glyph\":{\"id\":\"9627966d-36c2-4040-b933-00f106249dbc\",\"type\":\"Line\"},\"hover_glyph\":null,\"muted_glyph\":null,\"nonselection_glyph\":{\"id\":\"506c74b3-da44-4c94-bae0-c63414b80619\",\"type\":\"Line\"},\"selection_glyph\":null,\"view\":{\"id\":\"8b38cce1-181c-4045-9113-9cce7c9ef44f\",\"type\":\"CDSView\"}},\"id\":\"4f5f4dc5-6728-4e74-b66f-3ffdcf399161\",\"type\":\"GlyphRenderer\"},{\"attributes\":{\"source\":{\"id\":\"41a793f7-20c8-4e0f-a898-17ee260dd6c3\",\"type\":\"ColumnDataSource\"}},\"id\":\"8b38cce1-181c-4045-9113-9cce7c9ef44f\",\"type\":\"CDSView\"},{\"attributes\":{\"callback\":null,\"data\":{\"x\":{\"__ndarray__\":\"FK5H4XoUDsD6fmq8dJMMwN9PjZduEgvAxSCwcmiRCcCq8dJNYhAIwI/C9ShcjwbAdJMYBFYOBcBaZDvfT40DwD81XrpJDALAJQaBlUOLAMAUrkfhehT+v99PjZduEvu/qvHSTWIQ+L90kxgEVg71vz81XrpJDPK/FK5H4XoU7r+q8dJNYhDov0A1XrpJDOK/qvHSTWIQ2L+q8dJNYhDIvwAAAAAAAAAAqvHSTWIQyD+q8dJNYhDYP0A1XrpJDOI/qvHSTWIQ6D8UrkfhehTuPz81XrpJDPI/dJMYBFYO9T+q8dJNYhD4P99PjZduEvs/FK5H4XoU/j8lBoGVQ4sAQD81XrpJDAJAWmQ730+NA0B0kxgEVg4FQI/C9ShcjwZAqvHSTWIQCEDFILByaJEJQN9PjZduEgtA+n5qvHSTDEAUrkfhehQOQC/dJAaBlQ9AJQaBlUOLEECyne+nxksRQEA1XrpJDBJAzczMzMzMEkBaZDvfT40TQOj7qfHSTRRAdJMYBFYOFUADK4cW2c4VQI/C9ShcjxZAHFpkO99PF0Cq8dJNYhAYQDeJQWDl0BhAxSCwcmiRGUBSuB6F61EaQN9PjZduEhtAbef7qfHSG0D6fmq8dJMcQIgW2c73Ux1AFK5H4XoUHkChRbbz/dQeQC/dJAaBlR9AXrpJDAIrIEAlBoGVQ4sgQOxRuB6F6yBAsp3vp8ZLIUB56SYxCKwhQD81XrpJDCJABoGVQ4tsIkDNzMzMzMwiQJMYBFYOLSNAWmQ730+NI0AhsHJoke0jQOj7qfHSTSRArkfhehSuJEB0kxgEVg4lQDvfT42XbiVAAyuHFtnOJUDJdr6fGi8mQI/C9ShcjyZAVg4tsp3vJkAcWmQ7308nQOSlm8QgsCdAqvHSTWIQKEBxPQrXo3AoQDeJQWDl0ChA/dR46SYxKUDFILByaJEpQIxs5/up8SlAUrgehetRKkAYBFYOLbIqQN9PjZduEitAppvEILByK0Bt5/up8dIrQDMzMzMzMyxA+n5qvHSTLEDAyqFFtvMsQIgW2c73Uy1ATmIQWDm0LUAUrkfhehQuQNv5fmq8dC5AoUW28/3ULkBpke18PzUvQC/dJAaBlS9A9ihcj8L1L0BeukkMAiswQEFg5dAiWzBAJQaBlUOLMEAIrBxaZLswQOxRuB6F6zBAz/dT46UbMUCyne+nxksxQJZDi2znezFAeekmMQisMUBcj8L1KNwxQD81XrpJDDJAI9v5fmo8MkAGgZVDi2wyQOomMQisnDJAzczMzMzMMkCwcmiR7fwyQJMYBFYOLTNAd76fGi9dM0BaZDvfT40zQD0K16NwvTNAIbByaJHtM0AEVg4tsh00QOj7qfHSTTRAyqFFtvN9NECuR+F6FK40QJLtfD813jRAdJMYBFYONUBYObTIdj41QDvfT42XbjVAH4XrUbieNUADK4cW2c41QOXQItv5/jVAyXa+nxovNkCsHFpkO182QI/C9ShcjzZAc2iR7Xy/NkBWDi2yne82QDq0yHa+HzdAHFpkO99PN0AAAAAAAIA3QOSlm8QgsDdAxks3iUHgN0Cq8dJNYhA4QA==\",\"dtype\":\"float64\",\"shape\":[149]},\"y\":{\"__ndarray__\":\"asQEM1nE7z8zF4hZ97LvP3tNOxLszu8/f9JvRjs28D9UmI5B17LvPw9W/tp9Yu8/OClK4rYp8D8INLkt2h/vPysfvIJXou8/8KW2lsqj7z8wq0DiMsDvP8RpuWikEfA/XTZkl+Tf7z+Sw4pmPOTuP1VU8Grjoe8/ZkYqJ3lZ8D91iDR2jS7wP6jmCcA3APA/PtyKXRhM8D808Z4nQPzvPwNi7kMwKL0/OYu0A8uI0T/PRno1wh7WP/RPRRjVi9k/PTYmZ3JB2j9TZMv++oLePy7gkSnQruA/nHBoVSXN4D9DtdATE8XhP4UWE7vMLeI/90TTMFRd4z9AtBWed+XiP+CgOIoETOQ/bsCD7JQ05T8nb9jxxtXlPwgxLY6w/eU/GzVj/H3O5j9IsWXtRmTnPySGm9pLNOc/FmbEhGV65z9q+iwBJrroP6jX8BQqmeg/hSfukcpb6T+Ek3Ik90DpP+JJNSbGmek/tGHxub8h6j/XyMWWMXjpP6Xld5UjP+o/Kqe0cTCU6j8/NV045gzqP/+OPb6t6uo/Zb2gyMwj6z+lup2e13XqPxcvZBSZxOo/97wMEeFg6z8GTkZCiELsP662GZ7N6es/fVxuJ9vR6z8CGrFiDK7rP3VXxogOyew/P+z4FF5K7D/EbRwJs73sPyjOLqZm1uw/M1F2KxKK7D/E0Yh6B5/sPyCB8Ox8hOw/O6EpakAj7T/EGHtr7ajsP1EwdJNliew/wXMRi6b47D8JtMx6HKXsP1Ju5CqE4ew/wp5E1FDU7D9ypPKNo7ntP2fZzLhMhO0/3bj9nizL7T8PFRtsLs/sP2C9FBAW1uw/hf+t63J27T9JnmgwVB/uP+Xh/qZ+6u0/mPe4EIKO7T+HV9MiiDfuP1KM1y1HTu4/KHz+H+LM7T+8DDv4PLPtPyrpwReMFO4/uCSU0vYC7j9Eon2Wq/ntP0tOV7fS/u0/MgLAH67S7T+H9a6BIdPtP10VPWkfke4/fU61hVER7j9RzFlCU1HuPxHZ5wouau4/K4+H0PwE7j9uwZG+aZ3tP9UyLEU9r+0/WLumQduw7j8le0PhlAzuP164BdiG+u4/3+Wzl89R7j9NT5FS4W3uP8MCSiGYG+4/Hmntwx207j+G7OY0q6LuP4FNyZAyYe4/OPm1iimA7j+FcKV6WgTuP7o9f8G4Du8/j9x0HH2A7j9FMhiKniruP5v4Jc3cLe8/tR7Q6skm7j8+LbCBoUHvP9zgfvWeIu4/2cWfnCwE7z/BELMpJCPuP+pT7bsSAu8/0WN5aFr+7j9tUdiZE7DvP3lHURxQ2O0/01KDzPzX7j9A7EtJypruP9qQDkKcHu8/aRZGOpcZ7j8xja/rqlfuP3TkElTnXe4/8IDqjYx67j+OV9Zgt8nuP90oUk1/Ce8/5NjX1kGL7j8R4J+iSCTuP0mwrn3W/+4/JC5Pvu097z/7QAm0ajjuP+tnXGhEC+8/IVOba8bS7j/Aafj3w7nuP7B0DDRsWu8/TTmlHma87j+lF4bHpv7uPxLNoAMZue0/Y9ECOGs+7z/78ligIybuP/c8uOSCCe8/fvRhbI+g7j/Efaf3fpPvPw==\",\"dtype\":\"float64\",\"shape\":[149]}},\"selected\":{\"id\":\"8cf53995-6705-4738-a19c-7c175aade928\",\"type\":\"Selection\"},\"selection_policy\":{\"id\":\"9ede048a-e70d-4f3e-96f1-3c55d909ab70\",\"type\":\"UnionRenderers\"}},\"id\":\"d0f9f8d3-7a63-4325-ae38-2939690d472e\",\"type\":\"ColumnDataSource\"},{\"attributes\":{\"line_alpha\":0.8,\"line_color\":\"#c49c94\",\"x\":{\"field\":\"x\"},\"y\":{\"field\":\"y\"}},\"id\":\"33465396-e2d3-4b45-8253-a08404342b44\",\"type\":\"Line\"},{\"attributes\":{\"line_alpha\":0.1,\"line_color\":\"#1f77b4\",\"x\":{\"field\":\"x\"},\"y\":{\"field\":\"y\"}},\"id\":\"44bf3c4f-b17c-44bf-aeb1-36114cc334c3\",\"type\":\"Line\"},{\"attributes\":{\"data_source\":{\"id\":\"d0f9f8d3-7a63-4325-ae38-2939690d472e\",\"type\":\"ColumnDataSource\"},\"glyph\":{\"id\":\"33465396-e2d3-4b45-8253-a08404342b44\",\"type\":\"Line\"},\"hover_glyph\":null,\"muted_glyph\":null,\"nonselection_glyph\":{\"id\":\"44bf3c4f-b17c-44bf-aeb1-36114cc334c3\",\"type\":\"Line\"},\"selection_glyph\":null,\"view\":{\"id\":\"19776379-d651-4884-b669-de4a2d567781\",\"type\":\"CDSView\"}},\"id\":\"b49ac92c-c045-48c2-af85-fe652f9dd179\",\"type\":\"GlyphRenderer\"},{\"attributes\":{\"source\":{\"id\":\"d0f9f8d3-7a63-4325-ae38-2939690d472e\",\"type\":\"ColumnDataSource\"}},\"id\":\"19776379-d651-4884-b669-de4a2d567781\",\"type\":\"CDSView\"},{\"attributes\":{\"callback\":null,\"data\":{\"x\":{\"__ndarray__\":\"FK5H4XoUDsD6fmq8dJMMwN9PjZduEgvAxSCwcmiRCcCq8dJNYhAIwI/C9ShcjwbAdJMYBFYOBcBaZDvfT40DwD81XrpJDALAJQaBlUOLAMAUrkfhehT+v99PjZduEvu/qvHSTWIQ+L90kxgEVg71vz81XrpJDPK/FK5H4XoU7r+q8dJNYhDov0A1XrpJDOK/qvHSTWIQ2L+q8dJNYhDIvwAAAAAAAAAAqvHSTWIQyD+q8dJNYhDYP0A1XrpJDOI/qvHSTWIQ6D8UrkfhehTuPz81XrpJDPI/dJMYBFYO9T+q8dJNYhD4P99PjZduEvs/FK5H4XoU/j8lBoGVQ4sAQD81XrpJDAJAWmQ730+NA0B0kxgEVg4FQI/C9ShcjwZAqvHSTWIQCEDFILByaJEJQN9PjZduEgtA+n5qvHSTDEAUrkfhehQOQC/dJAaBlQ9AJQaBlUOLEECyne+nxksRQEA1XrpJDBJAzczMzMzMEkBaZDvfT40TQOj7qfHSTRRAdJMYBFYOFUADK4cW2c4VQI/C9ShcjxZAHFpkO99PF0Cq8dJNYhAYQDeJQWDl0BhAxSCwcmiRGUBSuB6F61EaQN9PjZduEhtAbef7qfHSG0D6fmq8dJMcQIgW2c73Ux1AFK5H4XoUHkChRbbz/dQeQC/dJAaBlR9AXrpJDAIrIEAlBoGVQ4sgQOxRuB6F6yBAsp3vp8ZLIUB56SYxCKwhQD81XrpJDCJABoGVQ4tsIkDNzMzMzMwiQJMYBFYOLSNAWmQ730+NI0AhsHJoke0jQOj7qfHSTSRArkfhehSuJEB0kxgEVg4lQDvfT42XbiVAAyuHFtnOJUDJdr6fGi8mQI/C9ShcjyZAVg4tsp3vJkAcWmQ7308nQOSlm8QgsCdAqvHSTWIQKEBxPQrXo3AoQDeJQWDl0ChA/dR46SYxKUDFILByaJEpQIxs5/up8SlAUrgehetRKkAYBFYOLbIqQN9PjZduEitAppvEILByK0Bt5/up8dIrQDMzMzMzMyxA+n5qvHSTLEDAyqFFtvMsQIgW2c73Uy1ATmIQWDm0LUAUrkfhehQuQNv5fmq8dC5AoUW28/3ULkBpke18PzUvQC/dJAaBlS9A9ihcj8L1L0BeukkMAiswQEFg5dAiWzBAJQaBlUOLMEAIrBxaZLswQOxRuB6F6zBAz/dT46UbMUCyne+nxksxQJZDi2znezFAeekmMQisMUBcj8L1KNwxQD81XrpJDDJAI9v5fmo8MkAGgZVDi2wyQOomMQisnDJAzczMzMzMMkCwcmiR7fwyQJMYBFYOLTNAd76fGi9dM0BaZDvfT40zQD0K16NwvTNAIbByaJHtM0AEVg4tsh00QOj7qfHSTTRAyqFFtvN9NECuR+F6FK40QJLtfD813jRAdJMYBFYONUBYObTIdj41QDvfT42XbjVAH4XrUbieNUADK4cW2c41QOXQItv5/jVAyXa+nxovNkCsHFpkO182QI/C9ShcjzZAc2iR7Xy/NkBWDi2yne82QDq0yHa+HzdAHFpkO99PN0AAAAAAAIA3QOSlm8QgsDdAxks3iUHgN0Cq8dJNYhA4QA==\",\"dtype\":\"float64\",\"shape\":[149]},\"y\":{\"__ndarray__\":\"2EOSKnt87z9k7gR9GOPvP1/9WQTyXfA/xPDDhg9J7z8S5YM5UefvP4fCOJe4NPA/9lSalspB8D8YtdbDd8nvP1I7ck6CJPA/b1Ua7+ZT7z+Vl+9nkqrvP0eI5JJswO8/bM1tuN9n7z/t/P67RhnwPznHPR40OfA/vmpkxv7r7j91JwBNXWTwP61JYHH5oe8/cOFjAEHh7z8WDo9Ixm3vPzQSzt07m8I/RDqqCTPU0j/GxYAaPmDXP5/mEuktKdk/sBOLEmAL3T9Kznh4AqPdP1XMzfnZWuA/oN4aOxG24D/hxr9G2MnhPyGe/UtfVOI/yinszvPq4j925oVevL7kP3dn/+to4eQ/Ijx5/oJM5T8TBqX8MEHlP9JWpQxDw+Y/9Ozbm99j5j/rlO/9j7nnP4DhOkTKV+c/sDnopsI66D95EHQXW+7oP425gMSrIek/FTYHTrK36T+9VxskcBrpP1jO2FeCaek/c4Fmh1t96j9v3Nr+D2PoP+gzCNy95eo/q5S23e/m6T8o3RyHoN7qPyNYR/wJwOo/VFPxmy6D6z/blVczwO/qP5T3jtSAyeo/7zLse34Y6z+jZ1v1WenqPxWtZy7gZew/5dd8xIbT6z8L8jzdOSrsP/IlADW0p+w/oeop+6cR7D8dJSq8haDsP3o8OcWkk+w/wbaZALsy7D+00R5B0NnsP5mPvyQh6ew/nlozYsd07T+bl2n5dKjsPxCf0G86Wew/NdgLEGpG7T+pRrngrUnsPxyKyytUVe0/C02/c8cS7T80KYGL62ftP4q2XnBra+0/QqDy29xL7T9BncXVqtLtP4flrTnzX+0/y+dU94uo7T99OmmqUfbtP8C0NgHv5O0/ziAB0D3a7T8IspvfdFnuPxTpV53YPO0/wufBbX3f7T8KA7aknOvtPxll8kMYVO0/Qec1UQGa7T9jSiRARIvtP4G+I4j66e0/xlT8A18y7j+y5c2M0pzuP/1wPe8+Re4/xzztzAsZ7z/MMzRz5mHuP6EDLRGml+4/d2inHwV47j+wPj00B7vtP793teBzde4/65Z1TAqj7j92g12GQSDuP9XaCwDEGu4/G8dG6TVs7j+YidDBYTDuP3DubFSDRO4/2SNsZF3p7T9E9uUTtiXuP70tbRKI+e4/zVEJGas97j+wHOrB1hHuPyiVp2MZmu4/7ArKk4xP7j8ksXdSBvfuP9MWC7LOrO4/ORHKTuag7j8257bG0j3uP6NnsW/98e0/NgFts/Q87z9K+xObWyjvP+c+9Dhrt+4/jbFFpCtC7j8hE2R4HbLuP/1YEgicnO4/SK3cRUd87j+3EEzAcXfuP6NOhQ/6SO4/qyPP3NVD7j865g+EGvzuPy5NAGBR8O4/zg4jDwIk7j8ijnTV4lfuP5U+ApQdYu4/kCHC3azM7j/yMhbBUkDuP/Iz1CI5ze4/FU1tUY7D7j8BjXTIk+vuP3iJMWtVl+4/1RJW4EYR7z92G+59bIbuP8OwKkbVBu4/6pGQ9gzL7j9ZP2PVn9fuP4PPX6Cf1O4/Pi0tQ6Ob7j/K7AhDltDuP+Og+GCLRe4/fUUVK5Hv7j8/CKRyVGfuPw==\",\"dtype\":\"float64\",\"shape\":[149]}},\"selected\":{\"id\":\"c9c00c48-a744-412a-9056-4efbb9dbed8b\",\"type\":\"Selection\"},\"selection_policy\":{\"id\":\"d3ca79da-18f9-4d54-bdbb-2ca3ba46d88b\",\"type\":\"UnionRenderers\"}},\"id\":\"13c72367-31c2-41ab-8bdd-d68ebf34c15d\",\"type\":\"ColumnDataSource\"},{\"attributes\":{\"line_alpha\":0.8,\"line_color\":\"#e377c2\",\"x\":{\"field\":\"x\"},\"y\":{\"field\":\"y\"}},\"id\":\"fa3cb9af-680e-4cb9-a08e-76c07881483b\",\"type\":\"Line\"},{\"attributes\":{\"line_alpha\":0.1,\"line_color\":\"#1f77b4\",\"x\":{\"field\":\"x\"},\"y\":{\"field\":\"y\"}},\"id\":\"e25cfe87-9d1f-4f6b-9c61-5bb85de13e2b\",\"type\":\"Line\"},{\"attributes\":{\"data_source\":{\"id\":\"13c72367-31c2-41ab-8bdd-d68ebf34c15d\",\"type\":\"ColumnDataSource\"},\"glyph\":{\"id\":\"fa3cb9af-680e-4cb9-a08e-76c07881483b\",\"type\":\"Line\"},\"hover_glyph\":null,\"muted_glyph\":null,\"nonselection_glyph\":{\"id\":\"e25cfe87-9d1f-4f6b-9c61-5bb85de13e2b\",\"type\":\"Line\"},\"selection_glyph\":null,\"view\":{\"id\":\"8d4c9fae-8f74-45c9-8afc-d44db52c3deb\",\"type\":\"CDSView\"}},\"id\":\"434704b5-9350-4e8f-9218-e8d75d893418\",\"type\":\"GlyphRenderer\"},{\"attributes\":{\"source\":{\"id\":\"13c72367-31c2-41ab-8bdd-d68ebf34c15d\",\"type\":\"ColumnDataSource\"}},\"id\":\"8d4c9fae-8f74-45c9-8afc-d44db52c3deb\",\"type\":\"CDSView\"},{\"attributes\":{\"callback\":null,\"data\":{\"x\":{\"__ndarray__\":\"FK5H4XoUDsD6fmq8dJMMwN9PjZduEgvAxSCwcmiRCcCq8dJNYhAIwI/C9ShcjwbAdJMYBFYOBcBaZDvfT40DwD81XrpJDALAJQaBlUOLAMAUrkfhehT+v99PjZduEvu/qvHSTWIQ+L90kxgEVg71vz81XrpJDPK/FK5H4XoU7r+q8dJNYhDov0A1XrpJDOK/qvHSTWIQ2L+q8dJNYhDIvwAAAAAAAAAAqvHSTWIQyD+q8dJNYhDYP0A1XrpJDOI/qvHSTWIQ6D8UrkfhehTuPz81XrpJDPI/dJMYBFYO9T+q8dJNYhD4P99PjZduEvs/FK5H4XoU/j8lBoGVQ4sAQD81XrpJDAJAWmQ730+NA0B0kxgEVg4FQI/C9ShcjwZAqvHSTWIQCEDFILByaJEJQN9PjZduEgtA+n5qvHSTDEAUrkfhehQOQC/dJAaBlQ9AJQaBlUOLEECyne+nxksRQEA1XrpJDBJAzczMzMzMEkBaZDvfT40TQOj7qfHSTRRAdJMYBFYOFUADK4cW2c4VQI/C9ShcjxZAHFpkO99PF0Cq8dJNYhAYQDeJQWDl0BhAxSCwcmiRGUBSuB6F61EaQN9PjZduEhtAbef7qfHSG0D6fmq8dJMcQIgW2c73Ux1AFK5H4XoUHkChRbbz/dQeQC/dJAaBlR9AXrpJDAIrIEAlBoGVQ4sgQOxRuB6F6yBAsp3vp8ZLIUB56SYxCKwhQD81XrpJDCJABoGVQ4tsIkDNzMzMzMwiQJMYBFYOLSNAWmQ730+NI0AhsHJoke0jQOj7qfHSTSRArkfhehSuJEB0kxgEVg4lQDvfT42XbiVAAyuHFtnOJUDJdr6fGi8mQI/C9ShcjyZAVg4tsp3vJkAcWmQ7308nQOSlm8QgsCdAqvHSTWIQKEBxPQrXo3AoQDeJQWDl0ChA/dR46SYxKUDFILByaJEpQIxs5/up8SlAUrgehetRKkAYBFYOLbIqQN9PjZduEitAppvEILByK0Bt5/up8dIrQDMzMzMzMyxA+n5qvHSTLEDAyqFFtvMsQIgW2c73Uy1ATmIQWDm0LUAUrkfhehQuQNv5fmq8dC5AoUW28/3ULkBpke18PzUvQC/dJAaBlS9A9ihcj8L1L0BeukkMAiswQEFg5dAiWzBAJQaBlUOLMEAIrBxaZLswQOxRuB6F6zBAz/dT46UbMUCyne+nxksxQJZDi2znezFAeekmMQisMUBcj8L1KNwxQD81XrpJDDJAI9v5fmo8MkAGgZVDi2wyQOomMQisnDJAzczMzMzMMkCwcmiR7fwyQJMYBFYOLTNAd76fGi9dM0BaZDvfT40zQD0K16NwvTNAIbByaJHtM0AEVg4tsh00QOj7qfHSTTRAyqFFtvN9NECuR+F6FK40QJLtfD813jRAdJMYBFYONUBYObTIdj41QDvfT42XbjVAH4XrUbieNUADK4cW2c41QOXQItv5/jVAyXa+nxovNkCsHFpkO182QI/C9ShcjzZAc2iR7Xy/NkBWDi2yne82QDq0yHa+HzdAHFpkO99PN0AAAAAAAIA3QOSlm8QgsDdAxks3iUHgN0Cq8dJNYhA4QA==\",\"dtype\":\"float64\",\"shape\":[149]},\"y\":{\"__ndarray__\":\"JvI210yS7z8aPpKyEqTvP2DctKpLnu8/Gh8m+Two8D/Bwkk0Sb7vP9rgha95+u8/kzSxiaAk8D9d0YoQCxbwP3Gt79hAM/A/xoUl4IAu8D+sDntB+bTvP1j4SxWLNfA/L1BtOnm07z+Jn8Ibsi/wP98KmXC2WvA/nwC7YStG8D8CoIaJLmrwP3Y3Y5S88O8/ZX8jgbR17z8y5meWRr3vP0R9tyka88A/AFrxXxeh0D9Vp8Nti2bWP9zSvygKa9k/Jh10T5Bc3D8usGov7M3eP9bLuieFU+A/PHQCYD2A4T+VHHj9U8ThP+qgpSsm7uI/UAs/oPJX4z+CqAdFOAvkP9HZfaneMeQ/du3u0lwf5T+nsxTTbc/lP5H+3lY2pOU/ilC6NwTF5j+822cniljnP7Co8QwMUuc/vFvXdJDV5z93G3Ovgi3oP5TkOnQqTOg/26VBpwPF6D+HtNwjAkPpP+4E+DRqE+o/IpkanQaw6T/SOyijrHnqP+gDB8JELeo//dqhM8fC6T/4uLgb+F/qP153sBacp+o/2sxjLF616j+RwZL/r/3qP86BZEtzbus/yhFKDKyy6z80OHWj/yHsP7yqn7HHNOw/jbDDLIZG7D+v/kt2QKrrPxCdrPRw2es/DaKDSl2b7D/5SjIaNqXsP4Cy4OI/Euw/RYiA6WsP7D+kzB7/T+HsP+gaHTbYsuw/NE8J6C0q7T/AF1LteNPsP8YaTJYj8O0/eX1q/1dh7T+ltXIWIFPtP05/lraJ/+w/mf3SpQIn7j+Y4LhCgkntP6U/0O4GnO0/ig5ti3x47T9MR+A3NNTtPxTPwBkEbO0/6dN91plX7T/D6Q9zs2jtP31iCuD0wO0/OeOuAS8H7j9dFsg0ezruPx7V4/1SEu0/1aTTSM+S7T+49Q44xX7tPzd1BmTKAu4/1raGkEhn7T8b7iOChXvuP602+wghGu4/RWDdRUJY7j+fV6A4NEnuP3kzzmvCCe4/EJlWBRtx7j9vMb/plZfuP+vQY7d+t+0/ICpXVvQo7j9BnlaunpHuP2IPtAcEeu0/O5UCQL8o7z+QuVEFcn3uP3/BEGaubO4/FaaH0PSZ7T8o0ZsATG/uPxarAGtWy+0/9etKtiZH7j/dabfPym/tPxYs+IrDuO4/r1AAUsPH7j9zZkU3V7TuP8jwRIriP+4/w9iUJkTI7j/F/I1K/EvuP1nga2aOj+4/14SrZuI67j8fTtG8zz7vP0u7Hv5KDe8/7HxFXgDC7z8Rnh93bmDuPzj3weugr+4/YPJeVWk87j+TqcIxkqHuP/GXswnqbO8/XMTyLK5P7z+c3mslMEnuP5N25W4uju4/6VFEHVE27j+NPv1EDaPuP0LnpC5u2u4/xDQPhO6+7j+9+F94IIvuP2/Vf9F++e4/xDWQcMZn7j+bf/ns7TPuPwVTVDyz/u4/tPMddyw17j8zx0LjNnXuPxEeBMIbLO4/2jA6oGsF7z8syQQjdNfuPymBF/+7ae4/Mj1HdMwg7j8gB+tmtHbuPxK1pbedw+4/i45OFtr17T/Ljjq3oY7uP/6BVtBEXe4/zYwZviBP7j9TbbfIadzuPw==\",\"dtype\":\"float64\",\"shape\":[149]}},\"selected\":{\"id\":\"5be6b6a0-2d6b-43d8-87ce-fd939a16bce5\",\"type\":\"Selection\"},\"selection_policy\":{\"id\":\"f0ed3b80-044e-438d-a1f1-9a6ac8fa08e8\",\"type\":\"UnionRenderers\"}},\"id\":\"8ec89546-6357-49eb-90b7-14dbd81af73e\",\"type\":\"ColumnDataSource\"},{\"attributes\":{\"line_alpha\":0.8,\"line_color\":\"#f7b6d2\",\"x\":{\"field\":\"x\"},\"y\":{\"field\":\"y\"}},\"id\":\"9f965c00-74b0-4979-9c0a-01a00a3f9d6c\",\"type\":\"Line\"},{\"attributes\":{\"line_alpha\":0.1,\"line_color\":\"#1f77b4\",\"x\":{\"field\":\"x\"},\"y\":{\"field\":\"y\"}},\"id\":\"f032684f-aabb-4c31-a638-0638b3264255\",\"type\":\"Line\"},{\"attributes\":{\"data_source\":{\"id\":\"8ec89546-6357-49eb-90b7-14dbd81af73e\",\"type\":\"ColumnDataSource\"},\"glyph\":{\"id\":\"9f965c00-74b0-4979-9c0a-01a00a3f9d6c\",\"type\":\"Line\"},\"hover_glyph\":null,\"muted_glyph\":null,\"nonselection_glyph\":{\"id\":\"f032684f-aabb-4c31-a638-0638b3264255\",\"type\":\"Line\"},\"selection_glyph\":null,\"view\":{\"id\":\"4beb67b6-c945-4210-9f78-cbdb62cb4d20\",\"type\":\"CDSView\"}},\"id\":\"e66ffc11-2f5a-47ae-882a-fc801dea87dd\",\"type\":\"GlyphRenderer\"},{\"attributes\":{\"source\":{\"id\":\"8ec89546-6357-49eb-90b7-14dbd81af73e\",\"type\":\"ColumnDataSource\"}},\"id\":\"4beb67b6-c945-4210-9f78-cbdb62cb4d20\",\"type\":\"CDSView\"},{\"attributes\":{\"callback\":null,\"data\":{\"x\":{\"__ndarray__\":\"FK5H4XoUDsD6fmq8dJMMwN9PjZduEgvAxSCwcmiRCcCq8dJNYhAIwI/C9ShcjwbAdJMYBFYOBcBaZDvfT40DwD81XrpJDALAJQaBlUOLAMAUrkfhehT+v99PjZduEvu/qvHSTWIQ+L90kxgEVg71vz81XrpJDPK/FK5H4XoU7r+q8dJNYhDov0A1XrpJDOK/qvHSTWIQ2L+q8dJNYhDIvwAAAAAAAAAAqvHSTWIQyD+q8dJNYhDYP0A1XrpJDOI/qvHSTWIQ6D8UrkfhehTuPz81XrpJDPI/dJMYBFYO9T+q8dJNYhD4P99PjZduEvs/FK5H4XoU/j8lBoGVQ4sAQD81XrpJDAJAWmQ730+NA0B0kxgEVg4FQI/C9ShcjwZAqvHSTWIQCEDFILByaJEJQN9PjZduEgtA+n5qvHSTDEAUrkfhehQOQC/dJAaBlQ9AJQaBlUOLEECyne+nxksRQEA1XrpJDBJAzczMzMzMEkBaZDvfT40TQOj7qfHSTRRAdJMYBFYOFUADK4cW2c4VQI/C9ShcjxZAHFpkO99PF0Cq8dJNYhAYQDeJQWDl0BhAxSCwcmiRGUBSuB6F61EaQN9PjZduEhtAbef7qfHSG0D6fmq8dJMcQIgW2c73Ux1AFK5H4XoUHkChRbbz/dQeQC/dJAaBlR9AXrpJDAIrIEAlBoGVQ4sgQOxRuB6F6yBAsp3vp8ZLIUB56SYxCKwhQD81XrpJDCJABoGVQ4tsIkDNzMzMzMwiQJMYBFYOLSNAWmQ730+NI0AhsHJoke0jQOj7qfHSTSRArkfhehSuJEB0kxgEVg4lQDvfT42XbiVAAyuHFtnOJUDJdr6fGi8mQI/C9ShcjyZAVg4tsp3vJkAcWmQ7308nQOSlm8QgsCdAqvHSTWIQKEBxPQrXo3AoQDeJQWDl0ChA/dR46SYxKUDFILByaJEpQIxs5/up8SlAUrgehetRKkAYBFYOLbIqQN9PjZduEitAppvEILByK0Bt5/up8dIrQDMzMzMzMyxA+n5qvHSTLEDAyqFFtvMsQIgW2c73Uy1ATmIQWDm0LUAUrkfhehQuQNv5fmq8dC5AoUW28/3ULkBpke18PzUvQC/dJAaBlS9A9ihcj8L1L0BeukkMAiswQEFg5dAiWzBAJQaBlUOLMEAIrBxaZLswQOxRuB6F6zBAz/dT46UbMUCyne+nxksxQJZDi2znezFAeekmMQisMUBcj8L1KNwxQD81XrpJDDJAI9v5fmo8MkAGgZVDi2wyQOomMQisnDJAzczMzMzMMkCwcmiR7fwyQJMYBFYOLTNAd76fGi9dM0BaZDvfT40zQD0K16NwvTNAIbByaJHtM0AEVg4tsh00QOj7qfHSTTRAyqFFtvN9NECuR+F6FK40QJLtfD813jRAdJMYBFYONUBYObTIdj41QDvfT42XbjVAH4XrUbieNUADK4cW2c41QOXQItv5/jVAyXa+nxovNkCsHFpkO182QI/C9ShcjzZAc2iR7Xy/NkBWDi2yne82QDq0yHa+HzdAHFpkO99PN0AAAAAAAIA3QOSlm8QgsDdAxks3iUHgN0Cq8dJNYhA4QA==\",\"dtype\":\"float64\",\"shape\":[149]},\"y\":{\"__ndarray__\":\"7Zqe5vnO7z9PAyo2NATwPwBKgL+wePA/UNYvkOql7z+oa0X4OdDvP5xXNuh80e8/qJ7HfnkQ8D/DwQdZ5kDwPzZru2td7u8/u8JOoxIM8D81q1M6of3vPwQ++tU1q+8/GLkdz9Wq7z9zwWRLU+HvP2jxxPpdNO8/GhkHouxC8D9SM5oSS47vP0S7ayfrA/A/Qfx6rmI58D8xvPJHCSvwP9t4A3KMRMI/VxBbrkwt0j9UwiYLh1/WP8sm8cXp5Ng/P733eZ9i3D9TuWl62jvfP8FHKu9R5t8/aHsXH5UX4T+xpBesOHHiPy+sHys3r+M/A2DkJfSt4z/EXqkmkfDjP2OtXLCggOQ/I/29TSz35D9zMe9PsLrlP2RdAVEB2uU/yzN6yDkP5j9PqjgD9fbmPxzJo/1Ppec/kxUWmbKx5z9/ZQLpyg7oP59DpATSyug/JbZzGaYI6T99JzxqmqHpP2zp6VFdRek/9yFQpOeU6T9mdGqexO7pP6aAfFGCdOk/wWegQWM76j8sCIv/EI3qPx5hW/ooluo/CZt9rwJ16z/Izpf9vfLqPy2FNQPgqus/8NgQNlpu6z8xB7pb4zzrP08HkAnhies/WR3MwvOq6z9WenyAznTsP5G6mfUCl+s/aM3XVAZ07D+EThAPvEzsP25ULD9z+uw/Hz0jT/Uf7D977WsF5lXsP5SrVBeLs+w/iHPu8UoK7T+J3490bGnsP+hhy00w0uw/3wX7XsMF7T+kTuhBpvnsP/tPjN6rn+w/6ULNOpCp7D81R83hvCPtP9sDHadeGe0/N11b525J7j9ou3ikfn/tP738hyDyne0/msbXFKF57T+kCv/p7QfuP6IdoP8hVe4/eKPV16Qa7j+yYFprHC/uP1ImwqiZue0/QLLc9oqf7T91v2cqLRfuP9lApl6DRe4/tjcA9Ayg7T+JG7ibvULuP3+5AJP8MO4/XfOsekYa7j/ujh8GoijuP1Qyv/AnZ+4/47bdMIKe7j80OpT+7xHuP6lz8ScFNe4/uTzVdd/n7T9oQvZ5z27vP+2otwBOqe4/BSrCXf/z7j8/L9l52m3uP/eXsfJSpe0/AntIiq6O7j+ROdYJNW/uP+qsoIh4Nu4/eu3J26DR7T90cY8/TYbtP2W9cmEmAe8/xIUD40yS7j/LQyyy7djuPzkqjkNz+O0/3gpbfI2G7z8/omv/c9juP6Ieav1t6u4/ed0r4ymV7j/EY89aGRDvPyL1dUI5Wu8/DwkapVrh7j9s+XcpR+juP9mPC+lP3O4/o2vF2Dau7j/U8MZ7XejuP2E3BFFXj+4/0bg/SV/i7j/UkTfvzoruP1Ay+pWTpu0/CkyhiX6S7j+yD+PzJ4XuP8cmcI8IVe4/5XxqjrYN7j+wOmJPM0ruP/kRTGHyHe8/My9yi3/Q7T8N1EKpLnHuP9RaRzrqVu4/T/HY9JAk7z/D8nCc2z/vP1swUP1Bfe4/lHhsIikl7z9ClriXmsnuP/qC/Offh+8/hHthg+787j9ihNM1UxPuP99sBIpQ4+4/iOrbZSID7j9XU+XjRdTuP/8Yb7SdRe4/7V/VeSev7j+SBEeBySrvPw==\",\"dtype\":\"float64\",\"shape\":[149]}},\"selected\":{\"id\":\"87a882d2-e213-4f67-a48d-135982a38834\",\"type\":\"Selection\"},\"selection_policy\":{\"id\":\"7ac31857-9796-439b-9ae5-b7c050160cd0\",\"type\":\"UnionRenderers\"}},\"id\":\"30c5dd66-74d1-4449-83db-150942fcdddb\",\"type\":\"ColumnDataSource\"},{\"attributes\":{\"line_alpha\":0.8,\"line_color\":\"#7f7f7f\",\"x\":{\"field\":\"x\"},\"y\":{\"field\":\"y\"}},\"id\":\"8636858c-78a0-4f6f-a7ed-da76b5835224\",\"type\":\"Line\"},{\"attributes\":{\"line_alpha\":0.1,\"line_color\":\"#1f77b4\",\"x\":{\"field\":\"x\"},\"y\":{\"field\":\"y\"}},\"id\":\"031d9e00-4d2a-4552-97ff-45eab37fefb6\",\"type\":\"Line\"},{\"attributes\":{\"data_source\":{\"id\":\"30c5dd66-74d1-4449-83db-150942fcdddb\",\"type\":\"ColumnDataSource\"},\"glyph\":{\"id\":\"8636858c-78a0-4f6f-a7ed-da76b5835224\",\"type\":\"Line\"},\"hover_glyph\":null,\"muted_glyph\":null,\"nonselection_glyph\":{\"id\":\"031d9e00-4d2a-4552-97ff-45eab37fefb6\",\"type\":\"Line\"},\"selection_glyph\":null,\"view\":{\"id\":\"5d3854f2-332a-4095-9b2d-060c7078672b\",\"type\":\"CDSView\"}},\"id\":\"1c853450-4da4-47e1-b1c7-cf8e29a86507\",\"type\":\"GlyphRenderer\"},{\"attributes\":{\"source\":{\"id\":\"30c5dd66-74d1-4449-83db-150942fcdddb\",\"type\":\"ColumnDataSource\"}},\"id\":\"5d3854f2-332a-4095-9b2d-060c7078672b\",\"type\":\"CDSView\"},{\"attributes\":{\"callback\":null,\"data\":{\"x\":{\"__ndarray__\":\"FK5H4XoUDsD6fmq8dJMMwN9PjZduEgvAxSCwcmiRCcCq8dJNYhAIwI/C9ShcjwbAdJMYBFYOBcBaZDvfT40DwD81XrpJDALAJQaBlUOLAMAUrkfhehT+v99PjZduEvu/qvHSTWIQ+L90kxgEVg71vz81XrpJDPK/FK5H4XoU7r+q8dJNYhDov0A1XrpJDOK/qvHSTWIQ2L+q8dJNYhDIvwAAAAAAAAAAqvHSTWIQyD+q8dJNYhDYP0A1XrpJDOI/qvHSTWIQ6D8UrkfhehTuPz81XrpJDPI/dJMYBFYO9T+q8dJNYhD4P99PjZduEvs/FK5H4XoU/j8lBoGVQ4sAQD81XrpJDAJAWmQ730+NA0B0kxgEVg4FQI/C9ShcjwZAqvHSTWIQCEDFILByaJEJQN9PjZduEgtA+n5qvHSTDEAUrkfhehQOQC/dJAaBlQ9AJQaBlUOLEECyne+nxksRQEA1XrpJDBJAzczMzMzMEkBaZDvfT40TQOj7qfHSTRRAdJMYBFYOFUADK4cW2c4VQI/C9ShcjxZAHFpkO99PF0Cq8dJNYhAYQDeJQWDl0BhAxSCwcmiRGUBSuB6F61EaQN9PjZduEhtAbef7qfHSG0D6fmq8dJMcQIgW2c73Ux1AFK5H4XoUHkChRbbz/dQeQC/dJAaBlR9AXrpJDAIrIEAlBoGVQ4sgQOxRuB6F6yBAsp3vp8ZLIUB56SYxCKwhQD81XrpJDCJABoGVQ4tsIkDNzMzMzMwiQJMYBFYOLSNAWmQ730+NI0AhsHJoke0jQOj7qfHSTSRArkfhehSuJEB0kxgEVg4lQDvfT42XbiVAAyuHFtnOJUDJdr6fGi8mQI/C9ShcjyZAVg4tsp3vJkAcWmQ7308nQOSlm8QgsCdAqvHSTWIQKEBxPQrXo3AoQDeJQWDl0ChA/dR46SYxKUDFILByaJEpQIxs5/up8SlAUrgehetRKkAYBFYOLbIqQN9PjZduEitAppvEILByK0Bt5/up8dIrQDMzMzMzMyxA+n5qvHSTLEDAyqFFtvMsQIgW2c73Uy1ATmIQWDm0LUAUrkfhehQuQNv5fmq8dC5AoUW28/3ULkBpke18PzUvQC/dJAaBlS9A9ihcj8L1L0BeukkMAiswQEFg5dAiWzBAJQaBlUOLMEAIrBxaZLswQOxRuB6F6zBAz/dT46UbMUCyne+nxksxQJZDi2znezFAeekmMQisMUBcj8L1KNwxQD81XrpJDDJAI9v5fmo8MkAGgZVDi2wyQOomMQisnDJAzczMzMzMMkCwcmiR7fwyQJMYBFYOLTNAd76fGi9dM0BaZDvfT40zQD0K16NwvTNAIbByaJHtM0AEVg4tsh00QOj7qfHSTTRAyqFFtvN9NECuR+F6FK40QJLtfD813jRAdJMYBFYONUBYObTIdj41QDvfT42XbjVAH4XrUbieNUADK4cW2c41QOXQItv5/jVAyXa+nxovNkCsHFpkO182QI/C9ShcjzZAc2iR7Xy/NkBWDi2yne82QDq0yHa+HzdAHFpkO99PN0AAAAAAAIA3QOSlm8QgsDdAxks3iUHgN0Cq8dJNYhA4QA==\",\"dtype\":\"float64\",\"shape\":[149]},\"y\":{\"__ndarray__\":\"oVC5fe458D/mlMAQajPwP/SCiLt3+O8/ADJ3J/0o8D/FJ5MYfxnwPwyemtHvE/A/bX2SMDBD8D+fOh6L30PwP3JLrpIT8e8/e0pcS9sa8D8MA7b2C5XvP1KD+uAmHPA/tpkOBN9M8D9UwL/GGhLwPxA+YWIRKPA/xCxEbtO17z/LUsC5lfnvP9Zbk2Db3O8/ivDmc3tj7z9ebkqSHQrwP+RZcn/R3cI/DKRzrx5X0T+m5hF3xKLVP2zjzCc5Idk/10JSKweY2z9+77YheDDeP/+Z5ow3+t8/YQHb+4IM4T/if+D/IE3hPz1rDu02meI/mBPVbJcA4z+RW2XG0NfjP6UySyZuPuU/FRXR5PoS5T9rVtv6RVTlP0UOYuosXeY/pYcT46Mw5j9oZWx3KX/nP0MTiEzFw+c/YyzgagiZ6D+XPUH7a4PoP7sSGABjN+g/eY+f+etn6T+eh2Q7J2zpPx3h2zWYWuk/58GKL6Pg6T9ssYg3nqjpP0ai6lI9jek/mYJuJ8kY6j8EfmahC0TrP0YqawvjDus/EYphLkHk6j+WInK/fH3qP3iOtI5i0uo/duffbR9x6z/qQKGiyDfsP2YQMTKmD+w/EW/pC61+6z87EADOEeLrP790DMCYQew/5PMEATwl7D/KLqyKBS3sP50E9TJ7m+w/5PNrY8oE7D9xRDSQvj3sPywsZFyAJ+0/1ZiJiDcH7T/GKTh9psDsP+w9By4rLO0/URu+mh8P7T+ZXyR4M4vtP3+w4+IQfe0/J/Pw1afM7D9TSLyu+lztP8wfIescLu0/ARL34/dQ7T/ZMBoFSxrtP8RUI1LqH+0/itX5OzOP7T/5nwKsutntPzaTdY4Z8O0/gLuDSb937T/o4mizDtrsP6JiuGU5ye0/IzLxF07p7T+5mw8kVYnuP4cj/Lnm3e0/Z6xkzDqU7T9B39X5YynuP10aJNEXKe4/w+8JXw6e7j9aurzlAjvuP6H0K9sate0/3rUrtc4L7j/Khil8EXfuP0QWlSykT+4/0eKsxWzn7j/tvwKST2vuP+TUnW5RDu4/z3a53Py37j975lIv66jtP2glsD+MPe4/6iLMb5Di7T+rlna4dZzuP9n0ebI0xO4/PS4se/FZ7j9dUHdkAbHvP2RgDDOzY+4/oGknRxFj7j/D/gJVT23uP2myHgbZee4/09oLsHIl7j/eafpknDvuP27H5PmYR+8/j92aeE2a7j9M4UAUOQfuPzPUEmn52e4/TEzFDCxb7z+5Jp35u8HuP/MwOKJw+u4/5UPl67N17j/PMDFEymvuPwBSx3uw1+0/AIpGqYVg7j8Ma3SsAqHuPyP8r9WOfe4/PI5F6OYZ7j+yQTybqhLvP9yRk4x0rO4/bSYhSr507j9eaIkGzfPuPwYf9SC6bu4/erSJLi817z+uSXPlPA7uPxHeeVf9Ne8/M2yA34zA7j9Y60DsfT3uPyqkTsShhO8/vlzEMoUB7z/Au6+dJn/uPzcJkuF57O0/5c35KXDl7j9gv7OmwcLuPwQdHtCHUe8/excutOrP7j91A2DH5MXuP6YlTOMe7u4/Ak/l/ptp7j+rmUH+SP3uPw==\",\"dtype\":\"float64\",\"shape\":[149]}},\"selected\":{\"id\":\"050a6fbe-3bd7-442b-9398-de6d90e11d33\",\"type\":\"Selection\"},\"selection_policy\":{\"id\":\"d0aacf4b-56fc-41c5-ac5b-cc23fa0d0b61\",\"type\":\"UnionRenderers\"}},\"id\":\"6b17743c-2dfd-4184-b8d3-75b802ee7458\",\"type\":\"ColumnDataSource\"},{\"attributes\":{\"line_alpha\":0.8,\"line_color\":\"#c7c7c7\",\"x\":{\"field\":\"x\"},\"y\":{\"field\":\"y\"}},\"id\":\"9bb2be2b-f853-432d-9cf8-9dc140d94148\",\"type\":\"Line\"},{\"attributes\":{\"line_alpha\":0.1,\"line_color\":\"#1f77b4\",\"x\":{\"field\":\"x\"},\"y\":{\"field\":\"y\"}},\"id\":\"83a5db84-f04a-42c7-9f98-1516a2755116\",\"type\":\"Line\"},{\"attributes\":{\"data_source\":{\"id\":\"6b17743c-2dfd-4184-b8d3-75b802ee7458\",\"type\":\"ColumnDataSource\"},\"glyph\":{\"id\":\"9bb2be2b-f853-432d-9cf8-9dc140d94148\",\"type\":\"Line\"},\"hover_glyph\":null,\"muted_glyph\":null,\"nonselection_glyph\":{\"id\":\"83a5db84-f04a-42c7-9f98-1516a2755116\",\"type\":\"Line\"},\"selection_glyph\":null,\"view\":{\"id\":\"1b05cc95-a22a-48e8-a984-f7a3c92349b1\",\"type\":\"CDSView\"}},\"id\":\"94d215df-c766-4af2-885f-64518931227a\",\"type\":\"GlyphRenderer\"},{\"attributes\":{\"source\":{\"id\":\"6b17743c-2dfd-4184-b8d3-75b802ee7458\",\"type\":\"ColumnDataSource\"}},\"id\":\"1b05cc95-a22a-48e8-a984-f7a3c92349b1\",\"type\":\"CDSView\"},{\"attributes\":{\"callback\":null,\"data\":{\"x\":{\"__ndarray__\":\"FK5H4XoUDsD6fmq8dJMMwN9PjZduEgvAxSCwcmiRCcCq8dJNYhAIwI/C9ShcjwbAdJMYBFYOBcBaZDvfT40DwD81XrpJDALAJQaBlUOLAMAUrkfhehT+v99PjZduEvu/qvHSTWIQ+L90kxgEVg71vz81XrpJDPK/FK5H4XoU7r+q8dJNYhDov0A1XrpJDOK/qvHSTWIQ2L+q8dJNYhDIvwAAAAAAAAAAqvHSTWIQyD+q8dJNYhDYP0A1XrpJDOI/qvHSTWIQ6D8UrkfhehTuPz81XrpJDPI/dJMYBFYO9T+q8dJNYhD4P99PjZduEvs/FK5H4XoU/j8lBoGVQ4sAQD81XrpJDAJAWmQ730+NA0B0kxgEVg4FQI/C9ShcjwZAqvHSTWIQCEDFILByaJEJQN9PjZduEgtA+n5qvHSTDEAUrkfhehQOQC/dJAaBlQ9AJQaBlUOLEECyne+nxksRQEA1XrpJDBJAzczMzMzMEkBaZDvfT40TQOj7qfHSTRRAdJMYBFYOFUADK4cW2c4VQI/C9ShcjxZAHFpkO99PF0Cq8dJNYhAYQDeJQWDl0BhAxSCwcmiRGUBSuB6F61EaQN9PjZduEhtAbef7qfHSG0D6fmq8dJMcQIgW2c73Ux1AFK5H4XoUHkChRbbz/dQeQC/dJAaBlR9AXrpJDAIrIEAlBoGVQ4sgQOxRuB6F6yBAsp3vp8ZLIUB56SYxCKwhQD81XrpJDCJABoGVQ4tsIkDNzMzMzMwiQJMYBFYOLSNAWmQ730+NI0AhsHJoke0jQOj7qfHSTSRArkfhehSuJEB0kxgEVg4lQDvfT42XbiVAAyuHFtnOJUDJdr6fGi8mQI/C9ShcjyZAVg4tsp3vJkAcWmQ7308nQOSlm8QgsCdAqvHSTWIQKEBxPQrXo3AoQDeJQWDl0ChA/dR46SYxKUDFILByaJEpQIxs5/up8SlAUrgehetRKkAYBFYOLbIqQN9PjZduEitAppvEILByK0Bt5/up8dIrQDMzMzMzMyxA+n5qvHSTLEDAyqFFtvMsQIgW2c73Uy1ATmIQWDm0LUAUrkfhehQuQNv5fmq8dC5AoUW28/3ULkBpke18PzUvQC/dJAaBlS9A9ihcj8L1L0BeukkMAiswQEFg5dAiWzBAJQaBlUOLMEAIrBxaZLswQOxRuB6F6zBAz/dT46UbMUCyne+nxksxQJZDi2znezFAeekmMQisMUBcj8L1KNwxQD81XrpJDDJAI9v5fmo8MkAGgZVDi2wyQOomMQisnDJAzczMzMzMMkCwcmiR7fwyQJMYBFYOLTNAd76fGi9dM0BaZDvfT40zQD0K16NwvTNAIbByaJHtM0AEVg4tsh00QOj7qfHSTTRAyqFFtvN9NECuR+F6FK40QJLtfD813jRAdJMYBFYONUBYObTIdj41QDvfT42XbjVAH4XrUbieNUADK4cW2c41QOXQItv5/jVAyXa+nxovNkCsHFpkO182QI/C9ShcjzZAc2iR7Xy/NkBWDi2yne82QDq0yHa+HzdAHFpkO99PN0AAAAAAAIA3QOSlm8QgsDdAxks3iUHgN0Cq8dJNYhA4QA==\",\"dtype\":\"float64\",\"shape\":[149]},\"y\":{\"__ndarray__\":\"xHcO9H7N7z9eOLA0q8DvP/9EN1OGVvA/EwHMo4KO7z8WKI4rbcDvPzNGG9oyA/A/GsQ7ypRW7z/GeqdJ7z7wP1c8HXsPle8/xLqSE6Qg7z+/xj9JV9/vPygBaO1GT+8/mwQeGgay7z8NQ0dfAxXwP/eeicH6WfA/knXvTfGr7z9Z+16g/tLvP3dNd1aHCPA/r4LFvamz7z9WVOLtYRbwP/kHOgQ3BL8/IIXvuTG90j/eaGCcAujWP1HqGRkHddg/9lFoJjnB3D9tX1F9cUDeP1LPDjhHV98/tcxkOKuY4T/PWEtQ9rziP0kxWQQ5WeI/O34z/Se74j/sUCIPlO3jP+SsOocgQOQ/TjN9QCpH5T9PjsISCyflP+I3YeK1PeY/jnqYu5ml5j8vonsEx33nP+oJwsIEjuc/XAalYjMs6D94RguGre7oPy52wCGApug/fwMMDzgb6j8lZy5GSyToP9H2zEwrqek/wuYu8bfZ6T/06woQV0vqP3W6IbvL6Oo/29xJ9o976j8MljZFmNvrP5MXtHAk/Oo/sUKFlaD16j9yczVgo1nqP7IUQD2k5eo/u42xwpMe6z+hrK8yRXrsP5KLCvBB2es//41Ff88a7D95fr4g4InrP+eyDTF9Yew/LvGrUD9X7D+2bbOFiq/sP127RlhMZuw/RR7Vg3Ed7D+tEqqvZ5HsP3qx+/Ng+es/MI93aSn37D8AGDbCSrTsP0v7LkGD0ew/v91Rn3RE7D/Iurn7PY3sP1qnIQGwKe0/2dSS11Bo7T/b5HYOSsXtP5ybEqDdjO0/auhFS+zF7D8EuyYpVXXtPzDT06aOf+0/6UIqp2su7T97yDgnOPLtP6ytaXbmtO0/UfJLAUBB7T8uWToNzgvuPz9xR1kuWO4/eDn0hzgx7T9eERU9/bLuP2xL0EdtSe4/y4SB+Mc97j8wp2v/7t7tPwZFeSWmtO4/A6BgW7Hp7T+v4HfYugjuP65zYAjfqu0/Y4y5LMQY7z9/DQutrMnuP4ZVq7P1cO4/X1qlV45k7j9Ymu03f9LtP9SAaXdo1O0/1naNx1EM7j/viSTGpELuPz5iKIM1oe0/TXn+jYR17j/2WqfgIbDtPyaezfbUVu8/C+VTwS9S7j9XjSjco/ztP2iYgcuoAO4/y1JO7IAW7z9yv1gEwM7tP3iqXkQ5ye4/oLPhOkZz7j++Kd/l+ZfuP4PZl8IURe4/JKsCuRMQ7z9fUyMCBjfuP6jp6hj2VO4/ZDjE3nOT7j9n/v9dcLDuPwX2298Tje4/FveaCcwC7z92vaehHTTvP/BFoAe5VO4/QEOFNHbb7j8/swJXFsTuP9ITSwQawu4/uXq9GtoS7j9TVi1RZW3uP7JdSjSS7e4/We5wLufM7j9enGywC8PuP0RxRWz4jO0/LZ7lw6pw7j+gqpn5BT7uP3wwkl/wWO4/eADaFmDn7j+p+bGJLQDvP9h61Lwzu+4/TAgndJwq7z9SQ5Ch7ZHvP69LLbekhu4/jaHoOi4a7z+qv9M+xvbuPzImva+c+O4/yfJAsvPE7j/ZCZ7k4eDuPyjL8Ya/mO4//Mj/vb2w7j97fZTwsyLvPw==\",\"dtype\":\"float64\",\"shape\":[149]}},\"selected\":{\"id\":\"ac24a8dd-aaa9-496d-b0c7-5c8b60256de2\",\"type\":\"Selection\"},\"selection_policy\":{\"id\":\"131bd0c0-e0c6-4f67-a714-82a9ffbba384\",\"type\":\"UnionRenderers\"}},\"id\":\"e901e86b-de19-4c19-bcbc-297559623b96\",\"type\":\"ColumnDataSource\"},{\"attributes\":{\"line_alpha\":0.8,\"line_color\":\"#bcbd22\",\"x\":{\"field\":\"x\"},\"y\":{\"field\":\"y\"}},\"id\":\"2008b40a-4273-44f1-87e8-d23df7fdad2f\",\"type\":\"Line\"},{\"attributes\":{\"line_alpha\":0.1,\"line_color\":\"#1f77b4\",\"x\":{\"field\":\"x\"},\"y\":{\"field\":\"y\"}},\"id\":\"f9a6ea9c-91d3-4cb2-9fe8-dc7db31ab657\",\"type\":\"Line\"},{\"attributes\":{\"data_source\":{\"id\":\"e901e86b-de19-4c19-bcbc-297559623b96\",\"type\":\"ColumnDataSource\"},\"glyph\":{\"id\":\"2008b40a-4273-44f1-87e8-d23df7fdad2f\",\"type\":\"Line\"},\"hover_glyph\":null,\"muted_glyph\":null,\"nonselection_glyph\":{\"id\":\"f9a6ea9c-91d3-4cb2-9fe8-dc7db31ab657\",\"type\":\"Line\"},\"selection_glyph\":null,\"view\":{\"id\":\"11765025-537a-4aa3-8e5a-b0cbd1a10dd1\",\"type\":\"CDSView\"}},\"id\":\"f24a3085-9928-48d0-82da-eff03a9ccff1\",\"type\":\"GlyphRenderer\"},{\"attributes\":{\"source\":{\"id\":\"e901e86b-de19-4c19-bcbc-297559623b96\",\"type\":\"ColumnDataSource\"}},\"id\":\"11765025-537a-4aa3-8e5a-b0cbd1a10dd1\",\"type\":\"CDSView\"},{\"attributes\":{\"callback\":null,\"data\":{\"x\":{\"__ndarray__\":\"FK5H4XoUDsD6fmq8dJMMwN9PjZduEgvAxSCwcmiRCcCq8dJNYhAIwI/C9ShcjwbAdJMYBFYOBcBaZDvfT40DwD81XrpJDALAJQaBlUOLAMAUrkfhehT+v99PjZduEvu/qvHSTWIQ+L90kxgEVg71vz81XrpJDPK/FK5H4XoU7r+q8dJNYhDov0A1XrpJDOK/qvHSTWIQ2L+q8dJNYhDIvwAAAAAAAAAAqvHSTWIQyD+q8dJNYhDYP0A1XrpJDOI/qvHSTWIQ6D8UrkfhehTuPz81XrpJDPI/dJMYBFYO9T+q8dJNYhD4P99PjZduEvs/FK5H4XoU/j8lBoGVQ4sAQD81XrpJDAJAWmQ730+NA0B0kxgEVg4FQI/C9ShcjwZAqvHSTWIQCEDFILByaJEJQN9PjZduEgtA+n5qvHSTDEAUrkfhehQOQC/dJAaBlQ9AJQaBlUOLEECyne+nxksRQEA1XrpJDBJAzczMzMzMEkBaZDvfT40TQOj7qfHSTRRAdJMYBFYOFUADK4cW2c4VQI/C9ShcjxZAHFpkO99PF0Cq8dJNYhAYQDeJQWDl0BhAxSCwcmiRGUBSuB6F61EaQN9PjZduEhtAbef7qfHSG0D6fmq8dJMcQIgW2c73Ux1AFK5H4XoUHkChRbbz/dQeQC/dJAaBlR9AXrpJDAIrIEAlBoGVQ4sgQOxRuB6F6yBAsp3vp8ZLIUB56SYxCKwhQD81XrpJDCJABoGVQ4tsIkDNzMzMzMwiQJMYBFYOLSNAWmQ730+NI0AhsHJoke0jQOj7qfHSTSRArkfhehSuJEB0kxgEVg4lQDvfT42XbiVAAyuHFtnOJUDJdr6fGi8mQI/C9ShcjyZAVg4tsp3vJkAcWmQ7308nQOSlm8QgsCdAqvHSTWIQKEBxPQrXo3AoQDeJQWDl0ChA/dR46SYxKUDFILByaJEpQIxs5/up8SlAUrgehetRKkAYBFYOLbIqQN9PjZduEitAppvEILByK0Bt5/up8dIrQDMzMzMzMyxA+n5qvHSTLEDAyqFFtvMsQIgW2c73Uy1ATmIQWDm0LUAUrkfhehQuQNv5fmq8dC5AoUW28/3ULkBpke18PzUvQC/dJAaBlS9A9ihcj8L1L0BeukkMAiswQEFg5dAiWzBAJQaBlUOLMEAIrBxaZLswQOxRuB6F6zBAz/dT46UbMUCyne+nxksxQJZDi2znezFAeekmMQisMUBcj8L1KNwxQD81XrpJDDJAI9v5fmo8MkAGgZVDi2wyQOomMQisnDJAzczMzMzMMkCwcmiR7fwyQJMYBFYOLTNAd76fGi9dM0BaZDvfT40zQD0K16NwvTNAIbByaJHtM0AEVg4tsh00QOj7qfHSTTRAyqFFtvN9NECuR+F6FK40QJLtfD813jRAdJMYBFYONUBYObTIdj41QDvfT42XbjVAH4XrUbieNUADK4cW2c41QOXQItv5/jVAyXa+nxovNkCsHFpkO182QI/C9ShcjzZAc2iR7Xy/NkBWDi2yne82QDq0yHa+HzdAHFpkO99PN0AAAAAAAIA3QOSlm8QgsDdAxks3iUHgN0Cq8dJNYhA4QA==\",\"dtype\":\"float64\",\"shape\":[149]},\"y\":{\"__ndarray__\":\"E3oy0WtS7z8xZL2nyCTwPzqVhDanhe8/XfELWS4O8D/CQdDkGRDwP09QYh+ZWPA/g3GqIVgH8D+K+4wHaDbwP/NH7VXHzu8/iu8eX3ih7z/oZa3hCEHwP2Sf5/L/I/A/itwJw6UZ8D9rPs53jv/vP/rWwuXOOPA//0sOw+QI8D8javqEOSbvP4vJ/teZou8/6tzj8Z/O7z8KDV3B08vvP/g1asbTab8/kVYsGo940j+Gibqzd1PVPzB8t0IMAtk/WdccxWQ73D8e7nquu8veP4KBiJ2Fed8/hRKUiVDY4D9G7rDFkrLhP842GkLkrOI/3fhnlAN24j+y5Sm0xZbjP7C0+6kihuQ/POpKPk/45T9VhIUia7/lP3IKI3rY++U/dslTS6V75z8O2BoN+nrmP/sVz9oAFOc/8tqy65jv5z+aJJ9AAVjoPwd4+fHgkOg/Ylnq4y+Y6D+BnpPdQzjpP5mUIt83jek/mjqYl0qD6T88I7+g1GbpPysvn04ZF+o/Yjd+8apu6j+RMgUlbCnqPy+TUC+GmOo/0/YMCWxA6j8brguEj57qP3KucpYJmes/k/mYE4Yc6z8FX/q6paPrP6fmABFWcuw/CLXhiX/r6z8VKV/ehSDsP0Inv6tJ4us/IiWwEh6M7D/XvsZSe4vsP5huAiQ4rOw/CK3S5m6+7D/Cts2/9xPtPwMmBq25Lew/LbAjhShC7D+c2PO/U3LtP+NoOHtKcuw/LJZykpoF7T/rrQWDLRrtP4DYPriIS+0/B9Qux2XQ7D8x4pkY5/vsP3Ifwca5N+0/7UhFjdUD7j+TqwcAW9TtP9yE6iT+qe0/z1AwvnEG7T+C/oUfRObtP4u0Zr0Tp+0/GoQ2CWhs7T/Qg5nej0vuP99W8kyu1u0/dOWSbWGY7T8BriU/tOTtPwIWZEijDO4/eHtBsv1S7T/AiAJtUNbtP3TiTTSRN+4/Piu64DNv7j+ypTdKrRftPy+5AA5rYe0/oF/5hNnd7T/48v1qLeftPzQ/PoPtqO0/j3YBbLh67j8vQAXR2NLtP2q7x967SO4/ParhVZuK7T92mmupNb/tPwqlH8r9x+4/m7j/aqtZ7j8HndV3OhTuPxsoPGyTFe8/EPKuBRbG7j9WKHRVuQfvPxG9YcJ2we0/o5d9gLUN7j+AxF86PIHuP1lmTbblAO4/fmUHTw+b7T+BELlktG3uP1aO1rWZS+8/avuAqEGI7j92nrNkAXDuP6E+i073V+4/YlhV/iTx7T+fFIO/I5DuP+dw+QdFDu8/APw++DC17j+UsysAuQTvP7BLAtrxzO4/aOX5A1dK7z9XxndaaoDuP3QAe24TjO4/OW3vR4K97j+6fwvT+o3uP2o/n/9JT+4/HOXBkGOQ7j8dHrNIVI3uPzM4rTsSvO4/stjn1pbD7j/d9y+8sXPuP8pzPJsoae4/4eCjeE9u7z9RGTMQ98TuP75+jtMVDu8/iZz47JvF7j8/vgy2XdXuP3pZWl6A++0/oOzLDqFn7z8Vd4NSGTPuP9bONXeOf+4/ZHshz6ZI7j8DSXtrguruP87UAiWTO+8/P9fH+42B7j9bu7UwgP/uPw==\",\"dtype\":\"float64\",\"shape\":[149]}},\"selected\":{\"id\":\"ec44dcab-ea1e-49fb-b0b4-d54efe8a4d8d\",\"type\":\"Selection\"},\"selection_policy\":{\"id\":\"9e74571a-f572-4752-a9bf-8c13aeb71822\",\"type\":\"UnionRenderers\"}},\"id\":\"649f0ca8-7176-454b-8dca-03c9f60fc8fe\",\"type\":\"ColumnDataSource\"},{\"attributes\":{\"line_alpha\":0.8,\"line_color\":\"#dbdb8d\",\"x\":{\"field\":\"x\"},\"y\":{\"field\":\"y\"}},\"id\":\"41f3c7bb-8243-4e47-9cea-80c92735399a\",\"type\":\"Line\"},{\"attributes\":{\"line_alpha\":0.1,\"line_color\":\"#1f77b4\",\"x\":{\"field\":\"x\"},\"y\":{\"field\":\"y\"}},\"id\":\"186c54b6-6e8c-4e15-b87f-b7684b75879d\",\"type\":\"Line\"},{\"attributes\":{\"data_source\":{\"id\":\"649f0ca8-7176-454b-8dca-03c9f60fc8fe\",\"type\":\"ColumnDataSource\"},\"glyph\":{\"id\":\"41f3c7bb-8243-4e47-9cea-80c92735399a\",\"type\":\"Line\"},\"hover_glyph\":null,\"muted_glyph\":null,\"nonselection_glyph\":{\"id\":\"186c54b6-6e8c-4e15-b87f-b7684b75879d\",\"type\":\"Line\"},\"selection_glyph\":null,\"view\":{\"id\":\"aaa51b8f-7cc5-42f9-ba5b-e15217734a64\",\"type\":\"CDSView\"}},\"id\":\"d751054e-385c-461c-99d7-d53bb77fb995\",\"type\":\"GlyphRenderer\"},{\"attributes\":{\"source\":{\"id\":\"649f0ca8-7176-454b-8dca-03c9f60fc8fe\",\"type\":\"ColumnDataSource\"}},\"id\":\"aaa51b8f-7cc5-42f9-ba5b-e15217734a64\",\"type\":\"CDSView\"},{\"attributes\":{\"callback\":null,\"data\":{\"x\":{\"__ndarray__\":\"FK5H4XoUDsD6fmq8dJMMwN9PjZduEgvAxSCwcmiRCcCq8dJNYhAIwI/C9ShcjwbAdJMYBFYOBcBaZDvfT40DwD81XrpJDALAJQaBlUOLAMAUrkfhehT+v99PjZduEvu/qvHSTWIQ+L90kxgEVg71vz81XrpJDPK/FK5H4XoU7r+q8dJNYhDov0A1XrpJDOK/qvHSTWIQ2L+q8dJNYhDIvwAAAAAAAAAAqvHSTWIQyD+q8dJNYhDYP0A1XrpJDOI/qvHSTWIQ6D8UrkfhehTuPz81XrpJDPI/dJMYBFYO9T+q8dJNYhD4P99PjZduEvs/FK5H4XoU/j8lBoGVQ4sAQD81XrpJDAJAWmQ730+NA0B0kxgEVg4FQI/C9ShcjwZAqvHSTWIQCEDFILByaJEJQN9PjZduEgtA+n5qvHSTDEAUrkfhehQOQC/dJAaBlQ9AJQaBlUOLEECyne+nxksRQEA1XrpJDBJAzczMzMzMEkBaZDvfT40TQOj7qfHSTRRAdJMYBFYOFUADK4cW2c4VQI/C9ShcjxZAHFpkO99PF0Cq8dJNYhAYQDeJQWDl0BhAxSCwcmiRGUBSuB6F61EaQN9PjZduEhtAbef7qfHSG0D6fmq8dJMcQIgW2c73Ux1AFK5H4XoUHkChRbbz/dQeQC/dJAaBlR9AXrpJDAIrIEAlBoGVQ4sgQOxRuB6F6yBAsp3vp8ZLIUB56SYxCKwhQD81XrpJDCJABoGVQ4tsIkDNzMzMzMwiQJMYBFYOLSNAWmQ730+NI0AhsHJoke0jQOj7qfHSTSRArkfhehSuJEB0kxgEVg4lQDvfT42XbiVAAyuHFtnOJUDJdr6fGi8mQI/C9ShcjyZAVg4tsp3vJkAcWmQ7308nQOSlm8QgsCdAqvHSTWIQKEBxPQrXo3AoQDeJQWDl0ChA/dR46SYxKUDFILByaJEpQIxs5/up8SlAUrgehetRKkAYBFYOLbIqQN9PjZduEitAppvEILByK0Bt5/up8dIrQDMzMzMzMyxA+n5qvHSTLEDAyqFFtvMsQIgW2c73Uy1ATmIQWDm0LUAUrkfhehQuQNv5fmq8dC5AoUW28/3ULkBpke18PzUvQC/dJAaBlS9A9ihcj8L1L0BeukkMAiswQEFg5dAiWzBAJQaBlUOLMEAIrBxaZLswQOxRuB6F6zBAz/dT46UbMUCyne+nxksxQJZDi2znezFAeekmMQisMUBcj8L1KNwxQD81XrpJDDJAI9v5fmo8MkAGgZVDi2wyQOomMQisnDJAzczMzMzMMkCwcmiR7fwyQJMYBFYOLTNAd76fGi9dM0BaZDvfT40zQD0K16NwvTNAIbByaJHtM0AEVg4tsh00QOj7qfHSTTRAyqFFtvN9NECuR+F6FK40QJLtfD813jRAdJMYBFYONUBYObTIdj41QDvfT42XbjVAH4XrUbieNUADK4cW2c41QOXQItv5/jVAyXa+nxovNkCsHFpkO182QI/C9ShcjzZAc2iR7Xy/NkBWDi2yne82QDq0yHa+HzdAHFpkO99PN0AAAAAAAIA3QOSlm8QgsDdAxks3iUHgN0Cq8dJNYhA4QA==\",\"dtype\":\"float64\",\"shape\":[149]},\"y\":{\"__ndarray__\":\"pSFtIP0S8D+yohxAJT7wPxO8PtDQIu8/Ydq5EOF37z/ZMlO/w/TvP5NcjB07K/A/F8PqO8bt7z+6kaZLtgrwPyb5BTL7JfA/vTwW/PWC7z9IVj2tpb3vP7Qq0VgZ+O8/qWc3Cksm8D/fevaMI8bvPyR+97JuQ/A/a2QLJU0j8D8MUI7kC0PvP0g18vkUCPA/3biUQP8p8D8jNQWKP1vwPxa+4Xrzf8A/T/DIRtj+0D+wVxROpNXUPzwM4tCKG9k/kM6r6H5G2j+cbgPRxineP09cnJd5ieA/u6V3+ie64T+6JujeU/ThP/z8JZTu9OE/G91cAzqC4j9dY3LyBYbkP/yye59Mu+Q/s/EcIHe/5T8o+RzVgLzlPxiolqSBzuY/ui+yeM9S5j955kTskZbmP77YW9CVMOg/mWAWyq2R5z8xpgoEUgLpP/ujQD0J3uc/khS2xP6U6T+g0UTxamzpP2ALe2VPYek/meTWEaEI6T8pS7rfbqHpP9hC3QaLIeo/AjzBRYsa6j9glUL1wezqP6jSengs8uo/Y4hn3K0f6z/DhAvz0J3rP8465D3b7Oo/8ZcfdtmZ6z9L5vs8d67rP6w0CFUw+Os/OP3DHqwe7D8LSvNIp+jrPyu9BEmsBew/UT4rtV5/7D9WjLCwYjHsP4jsIN/m3+s/5JAszAHO7D8B9Du15M7sP8JPNswEJ+0/LoJgCYjU7D/Y5GdTMunsP4JHQkfQSe0/9OOOPWVj7D9d9T7TuEbtPzIpJR1k2uw/HhUMhSL87T9PMHeNBIHtP8+ggFSzquw/OipnQh2t7T8AHTZxFtHtP0Esq5ZQ6u0/qShOgyIH7T9dlhRgM/XtP/MZOAjekO0/6MHMz7sv7T+J4U1+O7nsPzsXlsDSou0/Gpyfw+q87T//z2HyJdTtP7O36dRXWe4/PnyvyGQ77T+VOOm1hkTuP88c2vXN1u0/hocVKmrT7j9xrBcTToHtP8dh5ul0Ye4/yOex3QKo7T/R/fPn6cftP9a3BLwWP+4/m0xoqxgi7j+u0BONxBTuP3qfiu4wYe4/wI3l7ZHl7T9NHPb4y2/uP+vj7suX/u0/io73UtYX7j9WVKmUhiDuPxoKXQ+cQ+8/oEzk6TJu7j8qBw9M90zvP3lhd9f+Ne4/7d/u57Bt7j9gzcUEXtLuPxd43XRrs+0/vXOqVqqZ7j/5u3v8oF7uP1ifyHEjAe4/iIw43CGe7j8KHiAy6sLuP2X7DhyyK+4/W1G2A4De7j90au2AHf7tPx9p2xTa0u4/6y4P7GgC7z+J+XxL90nuP1TB08qvJu4/pCCLCNg07j/77avAhcfuP0DJv0/b7e0/aZN4sWCT7j842GPKEVTuPydjrfnvg+4/bpS+gVPI7j9BsQGMK3TuPybXjYHMm+4/mRGXF6EN7z9elZrBtnXuP2TfYYzEne8/DwRXBaug7j/yamIUD/zuPwmvlRXv2O4/WHQxxNDd7j82AKlazzHvP6LUi3y+1+4/xfLU+vW17j/+n+0pcgXvP7p84SamCO8/+RD4gsRS7z8j2JMHxMnuP3jzpXmRD+8/KMTc55kQ7z+96C3+qS/vPw==\",\"dtype\":\"float64\",\"shape\":[149]}},\"selected\":{\"id\":\"d68f4dd8-c2fe-4456-9f50-625ed382089c\",\"type\":\"Selection\"},\"selection_policy\":{\"id\":\"7e1f1d87-c3e8-4a51-9985-f93265e36edb\",\"type\":\"UnionRenderers\"}},\"id\":\"b2255148-36a4-43e9-836f-392af6fba96f\",\"type\":\"ColumnDataSource\"},{\"attributes\":{\"line_alpha\":0.8,\"line_color\":\"#17becf\",\"x\":{\"field\":\"x\"},\"y\":{\"field\":\"y\"}},\"id\":\"d355fdda-c012-4722-b155-d92dc7e8f179\",\"type\":\"Line\"},{\"attributes\":{\"line_alpha\":0.1,\"line_color\":\"#1f77b4\",\"x\":{\"field\":\"x\"},\"y\":{\"field\":\"y\"}},\"id\":\"ea7fcbf1-64bd-49b5-8996-e80d30b3e1d9\",\"type\":\"Line\"},{\"attributes\":{\"data_source\":{\"id\":\"b2255148-36a4-43e9-836f-392af6fba96f\",\"type\":\"ColumnDataSource\"},\"glyph\":{\"id\":\"d355fdda-c012-4722-b155-d92dc7e8f179\",\"type\":\"Line\"},\"hover_glyph\":null,\"muted_glyph\":null,\"nonselection_glyph\":{\"id\":\"ea7fcbf1-64bd-49b5-8996-e80d30b3e1d9\",\"type\":\"Line\"},\"selection_glyph\":null,\"view\":{\"id\":\"8c12978a-6d1b-4717-9ce5-420df757fa25\",\"type\":\"CDSView\"}},\"id\":\"8f28f176-2925-426d-9b8a-c5d6ec39cb8d\",\"type\":\"GlyphRenderer\"},{\"attributes\":{\"source\":{\"id\":\"b2255148-36a4-43e9-836f-392af6fba96f\",\"type\":\"ColumnDataSource\"}},\"id\":\"8c12978a-6d1b-4717-9ce5-420df757fa25\",\"type\":\"CDSView\"},{\"attributes\":{\"callback\":null,\"data\":{\"x\":{\"__ndarray__\":\"FK5H4XoUDsD6fmq8dJMMwN9PjZduEgvAxSCwcmiRCcCq8dJNYhAIwI/C9ShcjwbAdJMYBFYOBcBaZDvfT40DwD81XrpJDALAJQaBlUOLAMAUrkfhehT+v99PjZduEvu/qvHSTWIQ+L90kxgEVg71vz81XrpJDPK/FK5H4XoU7r+q8dJNYhDov0A1XrpJDOK/qvHSTWIQ2L+q8dJNYhDIvwAAAAAAAAAAqvHSTWIQyD+q8dJNYhDYP0A1XrpJDOI/qvHSTWIQ6D8UrkfhehTuPz81XrpJDPI/dJMYBFYO9T+q8dJNYhD4P99PjZduEvs/FK5H4XoU/j8lBoGVQ4sAQD81XrpJDAJAWmQ730+NA0B0kxgEVg4FQI/C9ShcjwZAqvHSTWIQCEDFILByaJEJQN9PjZduEgtA+n5qvHSTDEAUrkfhehQOQC/dJAaBlQ9AJQaBlUOLEECyne+nxksRQEA1XrpJDBJAzczMzMzMEkBaZDvfT40TQOj7qfHSTRRAdJMYBFYOFUADK4cW2c4VQI/C9ShcjxZAHFpkO99PF0Cq8dJNYhAYQDeJQWDl0BhAxSCwcmiRGUBSuB6F61EaQN9PjZduEhtAbef7qfHSG0D6fmq8dJMcQIgW2c73Ux1AFK5H4XoUHkChRbbz/dQeQC/dJAaBlR9AXrpJDAIrIEAlBoGVQ4sgQOxRuB6F6yBAsp3vp8ZLIUB56SYxCKwhQD81XrpJDCJABoGVQ4tsIkDNzMzMzMwiQJMYBFYOLSNAWmQ730+NI0AhsHJoke0jQOj7qfHSTSRArkfhehSuJEB0kxgEVg4lQDvfT42XbiVAAyuHFtnOJUDJdr6fGi8mQI/C9ShcjyZAVg4tsp3vJkAcWmQ7308nQOSlm8QgsCdAqvHSTWIQKEBxPQrXo3AoQDeJQWDl0ChA/dR46SYxKUDFILByaJEpQIxs5/up8SlAUrgehetRKkAYBFYOLbIqQN9PjZduEitAppvEILByK0Bt5/up8dIrQDMzMzMzMyxA+n5qvHSTLEDAyqFFtvMsQIgW2c73Uy1ATmIQWDm0LUAUrkfhehQuQNv5fmq8dC5AoUW28/3ULkBpke18PzUvQC/dJAaBlS9A9ihcj8L1L0BeukkMAiswQEFg5dAiWzBAJQaBlUOLMEAIrBxaZLswQOxRuB6F6zBAz/dT46UbMUCyne+nxksxQJZDi2znezFAeekmMQisMUBcj8L1KNwxQD81XrpJDDJAI9v5fmo8MkAGgZVDi2wyQOomMQisnDJAzczMzMzMMkCwcmiR7fwyQJMYBFYOLTNAd76fGi9dM0BaZDvfT40zQD0K16NwvTNAIbByaJHtM0AEVg4tsh00QOj7qfHSTTRAyqFFtvN9NECuR+F6FK40QJLtfD813jRAdJMYBFYONUBYObTIdj41QDvfT42XbjVAH4XrUbieNUADK4cW2c41QOXQItv5/jVAyXa+nxovNkCsHFpkO182QI/C9ShcjzZAc2iR7Xy/NkBWDi2yne82QDq0yHa+HzdAHFpkO99PN0AAAAAAAIA3QOSlm8QgsDdAxks3iUHgN0Cq8dJNYhA4QA==\",\"dtype\":\"float64\",\"shape\":[149]},\"y\":{\"__ndarray__\":\"AovRudpH8D8c6euJvQjwP0l/GAWFnO8/8g3rpFvH7z8LDjhnrxLwPx+zAPGg1O8/o0nBiRkK8D8l0vZwswrwPyLq8ga2B/A/mZQI1Rzv7z8klmrKdBnvP2jYSGIsPfA/HrOl80ga8D/mKYmLXdbvPw+vPfZPCfA/T98Dhm408D8oMOUNcCzwP5FPT14NYO8/7Iv868f07z+WtKLpmKHvP4q25hCj58A/C4jtTJFj0j+gm7y5gM7WP69NPJ/o/tc/eMjIwELt2z+IpnZBveHdP78SinEDI98/gGqlKuka4T+BwCZcWJjiPy5kHF4i7eI/pYiCIM924z/KPxK5/kfkP+9mI94TVeQ/KuI18o+m5T+4SX8ozJHmP68yK71gmOU/1ki5t8mm5j9SB3R/1H3nP4BoDIcVeuc/hpXvvCA26D8xJBGFeFzoPxKb2kTMSeg/zDpwV6W/6D/pDGEDV/ToP36Wq1x31ug/3qYniCg76T9Z7g1JM8npP3OSnz7Joeo/0QOS8mjG6T8yoZGOY3nqP7c1M6pPP+o/TF8995a46z96PqAm4aPqP41cWlG+8us/lkqJ9j8V6z9SqxX1aqfrP9W3kQoFaes/AFW3knCX6z9o1aDTbfHrPyRFALwPFe0/efhMykET7D/W6cPPUH3sP54Ulx6WEOw/plhmhPDl7D9HcBJjhIvsP7sQwuz1Ku0/4gBmZPm97T/zi3r1gxPtP8+/5ZhiD+0/jzGxs8TO7D9QFgIwKzztP7VFvTi1puw/xO6Wr1hh7T+2x4T+WpbtP491KS3DQO0/Z2F5TPHV7T8wwpwCaj/uP5URvsP/UO0/Yl3NbJ5e7T9BrB2U9uHtP3HY5wcjI+4/pbzknNa97T/rJ3CIsyTuP0KtEMuQhO0/7Wa0h85K7j9yutyO9n7uP2+WrM/oL+4/diCCkGuT7j9ykFxCfynuP3vcfrXmEu4/r5t4lY5u7T+/4uOmZJbuP42RGazGZ+4/hD4q+6t+7T83xJK0Db7tP0dFePj7Gu4/HUomxobM7T9xOp9omGfuP2yaj0sLTu0/4ymrXaAV7z+rUZ/MWQruP+wFXQITTu4/zj4KCkmu7j/E9epc0gPvPxBq6aZeM+8/XjGFoYYm7j8GVCFUTKbuP0xuHMF0aO4/jQWhZyUt7j/5gV9qzwruPzacuZDmQe4/eks1CT6/7j+H20NmNbzuP4YxIEkEU+4/5ehs2qG97T8FUTRdHVLvP1OEzq3eaO4/fJXqGS/h7T8f9jtjh4LuP6yZ4ULahu4/FN6gYidS7j/95BK6FZjuP61Tx2Cvm+4/N9kAuCXA7j/WR/O3sKDuP9s/L6Th6+4/NTl7qR+a7z9linzW49PuP2TJDJcV++0/iesXC9OB7j8+uSj/e/zuPx5SK+WjPe4/r2Ln+Nwc7j/EDqWbZhbvP8Emg7DvOe8/gjczjubP7j8Kh+c2QzfuP1PPGj8BP+8/qdIdh0Yx7z/Bm664e2LuPwrUR7GWIO8/g8+oVF3v7j+ykrcE5f3uP0vraKd7re4/T6YnXJok7z8RhOpHGRzuP1GmP60lau8/1TN7OuNo7j/jnHlx9lvuPw==\",\"dtype\":\"float64\",\"shape\":[149]}},\"selected\":{\"id\":\"325d643f-110f-452f-b4cf-ca7a9c3964e5\",\"type\":\"Selection\"},\"selection_policy\":{\"id\":\"5c98dd4d-fb22-486d-9464-dc006a4a1f7c\",\"type\":\"UnionRenderers\"}},\"id\":\"c15d8590-c8be-4b0b-9d58-14f4d2296db3\",\"type\":\"ColumnDataSource\"},{\"attributes\":{\"line_alpha\":0.8,\"line_color\":\"#9edae5\",\"x\":{\"field\":\"x\"},\"y\":{\"field\":\"y\"}},\"id\":\"dbecc411-8023-4a67-a228-fb5163cf85ab\",\"type\":\"Line\"},{\"attributes\":{\"line_alpha\":0.1,\"line_color\":\"#1f77b4\",\"x\":{\"field\":\"x\"},\"y\":{\"field\":\"y\"}},\"id\":\"676d1fc1-9e4d-45ec-a26c-d179b608777d\",\"type\":\"Line\"}],\"root_ids\":[\"f47171e5-dcd0-48c5-8d64-cd16616d47c5\"]},\"title\":\"Bokeh Application\",\"version\":\"0.13.0\"}};\n",
       "  var render_items = [{\"docid\":\"021f3a38-ead7-4459-b4cb-a87fa08647a8\",\"roots\":{\"f47171e5-dcd0-48c5-8d64-cd16616d47c5\":\"66ee5bb5-e277-44be-a354-45c51f649e3c\"}}];\n",
       "  root.Bokeh.embed.embed_items_notebook(docs_json, render_items);\n",
       "\n",
       "  }\n",
       "  if (root.Bokeh !== undefined) {\n",
       "    embed_document(root);\n",
       "  } else {\n",
       "    var attempts = 0;\n",
       "    var timer = setInterval(function(root) {\n",
       "      if (root.Bokeh !== undefined) {\n",
       "        embed_document(root);\n",
       "        clearInterval(timer);\n",
       "      }\n",
       "      attempts++;\n",
       "      if (attempts > 100) {\n",
       "        console.log(\"Bokeh: ERROR: Unable to run BokehJS code because BokehJS library is missing\")\n",
       "        clearInterval(timer);\n",
       "      }\n",
       "    }, 10, root)\n",
       "  }\n",
       "})(window);"
      ],
      "application/vnd.bokehjs_exec.v0+json": ""
     },
     "metadata": {
      "application/vnd.bokehjs_exec.v0+json": {
       "id": "f47171e5-dcd0-48c5-8d64-cd16616d47c5"
      }
     },
     "output_type": "display_data"
    }
   ],
   "source": [
    "colors = bokeh.palettes.all_palettes['Category20'][20]\n",
    "\n",
    "p = bokeh.plotting.figure(height=300, width=450,\n",
    "                          x_axis_label='BMI',\n",
    "                          y_axis_label='Score (scaled)')\n",
    "\n",
    "# Plot simulated data\n",
    "for i in range(20):\n",
    "    p.line(t, data_prior_pred(t), color=colors[i],\n",
    "             alpha=0.8)\n",
    "\n",
    "# Plot original data\n",
    "p.circle(t, v1, color='black', size=4)\n",
    "bokeh.io.show(p)"
   ]
  },
  {
   "cell_type": "code",
   "execution_count": 150,
   "metadata": {},
   "outputs": [],
   "source": [
    "def log_prior(params):\n",
    "    \n",
    "    fb, ff, k_off, D, sigma = params\n",
    "\n",
    "    log_prior = st.beta.logpdf(fb, 6, 3, loc=0)\n",
    "    log_prior += st.beta.logpdf(ff, 15, 1, loc=0)\n",
    "    log_prior += st.lognorm.logpdf(k_off, 0.5, loc=0, scale=0.2)\n",
    "    log_prior += st.lognorm.logpdf(D, 0.75, loc=0, scale=0.3)\n",
    "    log_prior += st.halfnorm.logpdf(sigma, 0, 0.01)\n",
    "    \n",
    "    return log_prior\n",
    "\n",
    "def log_like(params, t, y):\n",
    "    fb, ff, k_off, D, sigma = params\n",
    "    \n",
    "    log_like = np.sum([st.norm.logpdf(y0, fluo_bleach_cal(t0, fb, ff, k_off, D), sigma)\n",
    "                       for y0,t0 in zip(y,t)])\n",
    "    \n",
    "    return log_like"
   ]
  },
  {
   "cell_type": "code",
   "execution_count": 151,
   "metadata": {},
   "outputs": [],
   "source": [
    "def log_post(params, t, y):\n",
    "    return log_prior(params) + log_like(params, t, y)\n",
    "\n",
    "def neg_log_post(params, t, y):\n",
    "    return -log_post(params, t, y)"
   ]
  },
  {
   "cell_type": "code",
   "execution_count": 236,
   "metadata": {},
   "outputs": [
    {
     "name": "stderr",
     "output_type": "stream",
     "text": [
      "/Users/zhiyangjin/anaconda3/lib/python3.7/site-packages/ipykernel_launcher.py:2: RuntimeWarning: invalid value encountered in sqrt\n",
      "  \n",
      "/Users/zhiyangjin/anaconda3/lib/python3.7/site-packages/ipykernel_launcher.py:3: RuntimeWarning: invalid value encountered in sqrt\n",
      "  This is separate from the ipykernel package so we can avoid doing imports until\n"
     ]
    }
   ],
   "source": [
    "# Specify arguments\n",
    "args = (t, v1)\n",
    "\n",
    "# Choose initial condition\n",
    "params_0 = [0.9, 0.9, 0.2, 0.3, 0.01]\n",
    "\n",
    "# Compute the MAP values\n",
    "opt_res = scipy.optimize.minimize(neg_log_post, params_0, args=args,\n",
    "                                  method='SLSQP')"
   ]
  },
  {
   "cell_type": "code",
   "execution_count": 247,
   "metadata": {},
   "outputs": [
    {
     "name": "stdout",
     "output_type": "stream",
     "text": [
      "[0.86129599 0.96535866 0.13684461 0.80281412 0.01305148]\n"
     ]
    }
   ],
   "source": [
    "popt = opt_res.x\n",
    "print(popt)"
   ]
  },
  {
   "cell_type": "code",
   "execution_count": 245,
   "metadata": {},
   "outputs": [],
   "source": [
    "hes = smnd.approx_hess(popt, log_post, args=args)"
   ]
  },
  {
   "cell_type": "code",
   "execution_count": 246,
   "metadata": {},
   "outputs": [
    {
     "name": "stdout",
     "output_type": "stream",
     "text": [
      "0.00013180256552117872\n",
      "1.0287153461551824e-05\n",
      "0.00026028103018816085\n",
      "0.009730754276567206\n",
      "5.602905928934168e-07\n"
     ]
    }
   ],
   "source": [
    "# Compute the covariance matrix\n",
    "cov = -np.linalg.inv(hes)\n",
    "\n",
    "# Look at it\n",
    "for i in range(5):\n",
    "    print(cov[i][i])\n",
    "    "
   ]
  },
  {
   "cell_type": "code",
   "execution_count": 188,
   "metadata": {},
   "outputs": [
    {
     "data": {
      "text/plain": [
       "0.1"
      ]
     },
     "execution_count": 188,
     "metadata": {},
     "output_type": "execute_result"
    }
   ],
   "source": [
    "fb, ff, k_off, D, sigma = params_0\n",
    "np.sum([st.norm.logpdf(y0, fluo_bleach_cal(t0, fb, ff, k_off, D), sigma)\n",
    "                       for t0,y0 in zip(t,v1)])\n",
    "sigma"
   ]
  },
  {
   "cell_type": "code",
   "execution_count": 139,
   "metadata": {},
   "outputs": [],
   "source": [
    "fb = np.linspace(0,1,2000)\n",
    "log_prior = st.beta.logpdf(fb, 3, 3, loc=0)"
   ]
  },
  {
   "cell_type": "code",
   "execution_count": 134,
   "metadata": {},
   "outputs": [],
   "source": [
    "# Set up plotting range\n",
    "phi = np.linspace(32, 33.5, 200)\n",
    "phi_ = st.lognorm.logpdf(30, 0.75, loc=0, scale=20)"
   ]
  },
  {
   "cell_type": "code",
   "execution_count": 140,
   "metadata": {},
   "outputs": [
    {
     "data": {
      "text/html": [
       "\n",
       "\n",
       "\n",
       "\n",
       "\n",
       "\n",
       "  <div class=\"bk-root\" id=\"2249481a-b513-4e98-b193-36b370ef8c5c\"></div>\n"
      ]
     },
     "metadata": {},
     "output_type": "display_data"
    },
    {
     "data": {
      "application/javascript": [
       "(function(root) {\n",
       "  function embed_document(root) {\n",
       "    \n",
       "  var docs_json = {\"f7587e3f-783e-46ee-8a8a-85db2dd78215\":{\"roots\":{\"references\":[{\"attributes\":{},\"id\":\"616bdaa2-870f-4400-b77f-a08507aaff54\",\"type\":\"ResetTool\"},{\"attributes\":{},\"id\":\"b67b9211-16a7-404d-8ead-2a9a293a0921\",\"type\":\"HelpTool\"},{\"attributes\":{\"bottom_units\":\"screen\",\"fill_alpha\":{\"value\":0.5},\"fill_color\":{\"value\":\"lightgrey\"},\"left_units\":\"screen\",\"level\":\"overlay\",\"line_alpha\":{\"value\":1.0},\"line_color\":{\"value\":\"black\"},\"line_dash\":[4,4],\"line_width\":{\"value\":2},\"plot\":null,\"render_mode\":\"css\",\"right_units\":\"screen\",\"top_units\":\"screen\"},\"id\":\"75c799eb-e5d5-4d73-b6c8-786ade16be28\",\"type\":\"BoxAnnotation\"},{\"attributes\":{},\"id\":\"3330705c-d744-4f3a-a94a-a57a645b906d\",\"type\":\"BasicTickFormatter\"},{\"attributes\":{},\"id\":\"4d62ffbd-7f9f-404f-a18d-1c706891a993\",\"type\":\"BasicTickFormatter\"},{\"attributes\":{\"callback\":null},\"id\":\"c6197b54-e0d2-479b-bd3a-73c48f604a64\",\"type\":\"DataRange1d\"},{\"attributes\":{},\"id\":\"2d6609b5-3c51-43f3-8106-b67bce7e06e9\",\"type\":\"BasicTicker\"},{\"attributes\":{\"callback\":null},\"id\":\"e7108e28-d377-4885-9336-aa4ee151830c\",\"type\":\"DataRange1d\"},{\"attributes\":{},\"id\":\"93d848db-a8ab-4e2c-ad9a-cd2a84fb195b\",\"type\":\"LinearScale\"},{\"attributes\":{},\"id\":\"f1041f25-4fbc-47a3-a03f-0023f9814249\",\"type\":\"UnionRenderers\"},{\"attributes\":{\"fill_alpha\":{\"value\":0.1},\"fill_color\":{\"value\":\"#1f77b4\"},\"line_alpha\":{\"value\":0.1},\"line_color\":{\"value\":\"#1f77b4\"},\"x\":{\"field\":\"x\"},\"y\":{\"field\":\"y\"}},\"id\":\"cc3d66e2-705d-42af-9d41-44a0796ea8da\",\"type\":\"Circle\"},{\"attributes\":{},\"id\":\"1fe1c088-9f86-4d9a-8e9f-5ab66e100c84\",\"type\":\"Selection\"},{\"attributes\":{\"axis_label\":\"BMI\",\"formatter\":{\"id\":\"4d62ffbd-7f9f-404f-a18d-1c706891a993\",\"type\":\"BasicTickFormatter\"},\"plot\":{\"id\":\"9f6a9eb9-141d-4091-84ba-54b0ccdbb32b\",\"subtype\":\"Figure\",\"type\":\"Plot\"},\"ticker\":{\"id\":\"b728d0e6-8dc5-4e50-acc4-98b0dfeff42b\",\"type\":\"BasicTicker\"}},\"id\":\"a59fbd5c-6eec-4e63-9192-04ee2024a129\",\"type\":\"LinearAxis\"},{\"attributes\":{\"axis_label\":\"Score (scaled)\",\"formatter\":{\"id\":\"3330705c-d744-4f3a-a94a-a57a645b906d\",\"type\":\"BasicTickFormatter\"},\"plot\":{\"id\":\"9f6a9eb9-141d-4091-84ba-54b0ccdbb32b\",\"subtype\":\"Figure\",\"type\":\"Plot\"},\"ticker\":{\"id\":\"2d6609b5-3c51-43f3-8106-b67bce7e06e9\",\"type\":\"BasicTicker\"}},\"id\":\"52003870-3c5c-40e6-a254-3299db5820fd\",\"type\":\"LinearAxis\"},{\"attributes\":{},\"id\":\"b728d0e6-8dc5-4e50-acc4-98b0dfeff42b\",\"type\":\"BasicTicker\"},{\"attributes\":{\"source\":{\"id\":\"fe2f9c03-e82a-4506-8690-414f69bb2513\",\"type\":\"ColumnDataSource\"}},\"id\":\"8185068e-7159-445c-8101-11dc1d2b0645\",\"type\":\"CDSView\"},{\"attributes\":{\"active_drag\":\"auto\",\"active_inspect\":\"auto\",\"active_multi\":null,\"active_scroll\":\"auto\",\"active_tap\":\"auto\",\"tools\":[{\"id\":\"6162e3e6-b9e7-432c-8a2f-61fa6cfeef1a\",\"type\":\"PanTool\"},{\"id\":\"5734faef-fcd5-467d-8a5f-92b07d15b201\",\"type\":\"WheelZoomTool\"},{\"id\":\"794c3521-a2fa-4540-8a7e-ca9743150ba5\",\"type\":\"BoxZoomTool\"},{\"id\":\"6681a841-2c2f-4fa1-b7f5-de6e9314a74a\",\"type\":\"SaveTool\"},{\"id\":\"616bdaa2-870f-4400-b77f-a08507aaff54\",\"type\":\"ResetTool\"},{\"id\":\"b67b9211-16a7-404d-8ead-2a9a293a0921\",\"type\":\"HelpTool\"}]},\"id\":\"b774d223-2de6-4339-8f01-002af7ea98a6\",\"type\":\"Toolbar\"},{\"attributes\":{\"data_source\":{\"id\":\"fe2f9c03-e82a-4506-8690-414f69bb2513\",\"type\":\"ColumnDataSource\"},\"glyph\":{\"id\":\"9871a9ae-f776-4887-9749-26257bab7d07\",\"type\":\"Circle\"},\"hover_glyph\":null,\"muted_glyph\":null,\"nonselection_glyph\":{\"id\":\"cc3d66e2-705d-42af-9d41-44a0796ea8da\",\"type\":\"Circle\"},\"selection_glyph\":null,\"view\":{\"id\":\"8185068e-7159-445c-8101-11dc1d2b0645\",\"type\":\"CDSView\"}},\"id\":\"2217d94d-36da-412e-8944-235bebc268e4\",\"type\":\"GlyphRenderer\"},{\"attributes\":{},\"id\":\"2d0f8e47-d803-4740-9733-f680d3b0b715\",\"type\":\"LinearScale\"},{\"attributes\":{\"dimension\":1,\"plot\":{\"id\":\"9f6a9eb9-141d-4091-84ba-54b0ccdbb32b\",\"subtype\":\"Figure\",\"type\":\"Plot\"},\"ticker\":{\"id\":\"2d6609b5-3c51-43f3-8106-b67bce7e06e9\",\"type\":\"BasicTicker\"}},\"id\":\"4a04a060-611b-46bf-b71f-cc89d3cd559e\",\"type\":\"Grid\"},{\"attributes\":{\"plot\":null,\"text\":\"\"},\"id\":\"e0b5cbfb-9281-4735-9f30-98cf5449c881\",\"type\":\"Title\"},{\"attributes\":{\"plot\":{\"id\":\"9f6a9eb9-141d-4091-84ba-54b0ccdbb32b\",\"subtype\":\"Figure\",\"type\":\"Plot\"},\"ticker\":{\"id\":\"b728d0e6-8dc5-4e50-acc4-98b0dfeff42b\",\"type\":\"BasicTicker\"}},\"id\":\"753bfdc3-f8a6-4491-800c-41e8b984b109\",\"type\":\"Grid\"},{\"attributes\":{},\"id\":\"6162e3e6-b9e7-432c-8a2f-61fa6cfeef1a\",\"type\":\"PanTool\"},{\"attributes\":{},\"id\":\"5734faef-fcd5-467d-8a5f-92b07d15b201\",\"type\":\"WheelZoomTool\"},{\"attributes\":{\"callback\":null,\"data\":{\"x\":{\"__ndarray__\":\"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\",\"dtype\":\"float64\",\"shape\":[2000]},\"y\":{\"__ndarray__\":\"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\",\"dtype\":\"float64\",\"shape\":[2000]}},\"selected\":{\"id\":\"1fe1c088-9f86-4d9a-8e9f-5ab66e100c84\",\"type\":\"Selection\"},\"selection_policy\":{\"id\":\"f1041f25-4fbc-47a3-a03f-0023f9814249\",\"type\":\"UnionRenderers\"}},\"id\":\"fe2f9c03-e82a-4506-8690-414f69bb2513\",\"type\":\"ColumnDataSource\"},{\"attributes\":{\"below\":[{\"id\":\"a59fbd5c-6eec-4e63-9192-04ee2024a129\",\"type\":\"LinearAxis\"}],\"left\":[{\"id\":\"52003870-3c5c-40e6-a254-3299db5820fd\",\"type\":\"LinearAxis\"}],\"plot_height\":300,\"plot_width\":450,\"renderers\":[{\"id\":\"a59fbd5c-6eec-4e63-9192-04ee2024a129\",\"type\":\"LinearAxis\"},{\"id\":\"753bfdc3-f8a6-4491-800c-41e8b984b109\",\"type\":\"Grid\"},{\"id\":\"52003870-3c5c-40e6-a254-3299db5820fd\",\"type\":\"LinearAxis\"},{\"id\":\"4a04a060-611b-46bf-b71f-cc89d3cd559e\",\"type\":\"Grid\"},{\"id\":\"75c799eb-e5d5-4d73-b6c8-786ade16be28\",\"type\":\"BoxAnnotation\"},{\"id\":\"2217d94d-36da-412e-8944-235bebc268e4\",\"type\":\"GlyphRenderer\"}],\"title\":{\"id\":\"e0b5cbfb-9281-4735-9f30-98cf5449c881\",\"type\":\"Title\"},\"toolbar\":{\"id\":\"b774d223-2de6-4339-8f01-002af7ea98a6\",\"type\":\"Toolbar\"},\"x_range\":{\"id\":\"e7108e28-d377-4885-9336-aa4ee151830c\",\"type\":\"DataRange1d\"},\"x_scale\":{\"id\":\"2d0f8e47-d803-4740-9733-f680d3b0b715\",\"type\":\"LinearScale\"},\"y_range\":{\"id\":\"c6197b54-e0d2-479b-bd3a-73c48f604a64\",\"type\":\"DataRange1d\"},\"y_scale\":{\"id\":\"93d848db-a8ab-4e2c-ad9a-cd2a84fb195b\",\"type\":\"LinearScale\"}},\"id\":\"9f6a9eb9-141d-4091-84ba-54b0ccdbb32b\",\"subtype\":\"Figure\",\"type\":\"Plot\"},{\"attributes\":{\"overlay\":{\"id\":\"75c799eb-e5d5-4d73-b6c8-786ade16be28\",\"type\":\"BoxAnnotation\"}},\"id\":\"794c3521-a2fa-4540-8a7e-ca9743150ba5\",\"type\":\"BoxZoomTool\"},{\"attributes\":{},\"id\":\"6681a841-2c2f-4fa1-b7f5-de6e9314a74a\",\"type\":\"SaveTool\"},{\"attributes\":{\"fill_color\":{\"value\":\"black\"},\"x\":{\"field\":\"x\"},\"y\":{\"field\":\"y\"}},\"id\":\"9871a9ae-f776-4887-9749-26257bab7d07\",\"type\":\"Circle\"}],\"root_ids\":[\"9f6a9eb9-141d-4091-84ba-54b0ccdbb32b\"]},\"title\":\"Bokeh Application\",\"version\":\"0.13.0\"}};\n",
       "  var render_items = [{\"docid\":\"f7587e3f-783e-46ee-8a8a-85db2dd78215\",\"roots\":{\"9f6a9eb9-141d-4091-84ba-54b0ccdbb32b\":\"2249481a-b513-4e98-b193-36b370ef8c5c\"}}];\n",
       "  root.Bokeh.embed.embed_items_notebook(docs_json, render_items);\n",
       "\n",
       "  }\n",
       "  if (root.Bokeh !== undefined) {\n",
       "    embed_document(root);\n",
       "  } else {\n",
       "    var attempts = 0;\n",
       "    var timer = setInterval(function(root) {\n",
       "      if (root.Bokeh !== undefined) {\n",
       "        embed_document(root);\n",
       "        clearInterval(timer);\n",
       "      }\n",
       "      attempts++;\n",
       "      if (attempts > 100) {\n",
       "        console.log(\"Bokeh: ERROR: Unable to run BokehJS code because BokehJS library is missing\")\n",
       "        clearInterval(timer);\n",
       "      }\n",
       "    }, 10, root)\n",
       "  }\n",
       "})(window);"
      ],
      "application/vnd.bokehjs_exec.v0+json": ""
     },
     "metadata": {
      "application/vnd.bokehjs_exec.v0+json": {
       "id": "9f6a9eb9-141d-4091-84ba-54b0ccdbb32b"
      }
     },
     "output_type": "display_data"
    }
   ],
   "source": [
    "p = bokeh.plotting.figure(height=300, width=450,\n",
    "                          x_axis_label='BMI',\n",
    "                          y_axis_label='Score (scaled)')\n",
    "\n",
    "p.circle(fb, np.exp(log_prior), color='black', size=4)\n",
    "bokeh.io.show(p)"
   ]
  },
  {
   "cell_type": "code",
   "execution_count": 131,
   "metadata": {},
   "outputs": [
    {
     "data": {
      "text/plain": [
       "\u001b[0;31mSignature:\u001b[0m \u001b[0mst\u001b[0m\u001b[0;34m.\u001b[0m\u001b[0mbeta\u001b[0m\u001b[0;34m.\u001b[0m\u001b[0mlogpdf\u001b[0m\u001b[0;34m(\u001b[0m\u001b[0mx\u001b[0m\u001b[0;34m,\u001b[0m \u001b[0;34m*\u001b[0m\u001b[0margs\u001b[0m\u001b[0;34m,\u001b[0m \u001b[0;34m**\u001b[0m\u001b[0mkwds\u001b[0m\u001b[0;34m)\u001b[0m\u001b[0;34m\u001b[0m\u001b[0;34m\u001b[0m\u001b[0m\n",
       "\u001b[0;31mDocstring:\u001b[0m\n",
       "Log of the probability density function at x of the given RV.\n",
       "\n",
       "This uses a more numerically accurate calculation if available.\n",
       "\n",
       "Parameters\n",
       "----------\n",
       "x : array_like\n",
       "    quantiles\n",
       "arg1, arg2, arg3,... : array_like\n",
       "    The shape parameter(s) for the distribution (see docstring of the\n",
       "    instance object for more information)\n",
       "loc : array_like, optional\n",
       "    location parameter (default=0)\n",
       "scale : array_like, optional\n",
       "    scale parameter (default=1)\n",
       "\n",
       "Returns\n",
       "-------\n",
       "logpdf : array_like\n",
       "    Log of the probability density function evaluated at x\n",
       "\u001b[0;31mFile:\u001b[0m      /Users/zhiyangjin/anaconda3/lib/python3.7/site-packages/scipy/stats/_distn_infrastructure.py\n",
       "\u001b[0;31mType:\u001b[0m      method\n"
      ]
     },
     "metadata": {},
     "output_type": "display_data"
    }
   ],
   "source": [
    "st.beta.logpdf?"
   ]
  },
  {
   "cell_type": "code",
   "execution_count": 135,
   "metadata": {},
   "outputs": [
    {
     "data": {
      "text/plain": [
       "-4.178588912542305"
      ]
     },
     "execution_count": 135,
     "metadata": {},
     "output_type": "execute_result"
    }
   ],
   "source": [
    "phi_"
   ]
  },
  {
   "cell_type": "code",
   "execution_count": null,
   "metadata": {},
   "outputs": [],
   "source": []
  }
 ],
 "metadata": {
  "kernelspec": {
   "display_name": "Python 3",
   "language": "python",
   "name": "python3"
  },
  "language_info": {
   "codemirror_mode": {
    "name": "ipython",
    "version": 3
   },
   "file_extension": ".py",
   "mimetype": "text/x-python",
   "name": "python",
   "nbconvert_exporter": "python",
   "pygments_lexer": "ipython3",
   "version": "3.7.1"
  }
 },
 "nbformat": 4,
 "nbformat_minor": 2
}
