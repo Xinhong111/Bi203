{
 "cells": [
  {
   "cell_type": "markdown",
   "metadata": {},
   "source": [
    "## Problem 4.1: Analysis of FRAP data\n",
    "\n",
    "In this problem, we aim to extract the normalized fluorescence over time of a spot that has been photobleached. In this dataset, we have 8 TIFF stacks of images, each with 149 frames. The interpixel distance is given to be 0.138 µm, the size of the FRAP spot is 40 by 40 pixels, and each frame is taken 0.188 s apart.\n",
    "\n",
    "Attribution: Maddie worked on this problem. "
   ]
  },
  {
   "cell_type": "code",
   "execution_count": null,
   "metadata": {},
   "outputs": [],
   "source": [
    "import glob\n",
    "import os\n",
    "\n",
    "import numpy as np\n",
    "import pandas as pd\n",
    "\n",
    "# Image processing tools\n",
    "import skimage\n",
    "import skimage.io\n",
    "\n",
    "import bebi103\n",
    "\n",
    "import altair as alt\n",
    "import bokeh\n",
    "bokeh.io.output_notebook()"
   ]
  },
  {
   "cell_type": "markdown",
   "metadata": {},
   "source": [
    "Let's start by looking at the first TIFF stack."
   ]
  },
  {
   "cell_type": "code",
   "execution_count": null,
   "metadata": {},
   "outputs": [],
   "source": [
    "# Load in first TIFF stack\n",
    "fname = '../data/goehring_FRAP_data/PH_138_A.tif'\n",
    "ic = skimage.io.ImageCollection(fname, conserve_memory=False)[0]\n",
    "\n",
    "# How long is it?\n",
    "print('There are {0:d} frames.'.format(len(ic)))"
   ]
  },
  {
   "cell_type": "markdown",
   "metadata": {},
   "source": [
    "We are given that the interpixel distance is 0.138 µm, so let's set it as variable here for plotting later."
   ]
  },
  {
   "cell_type": "code",
   "execution_count": null,
   "metadata": {},
   "outputs": [],
   "source": [
    "ip = 0.138 # µm"
   ]
  },
  {
   "cell_type": "markdown",
   "metadata": {},
   "source": [
    "We want to segment the bleached area using the first postbleach frame, frame 21. Let's look at the frames right before and right after the photobleaching event, frames 20 and 21."
   ]
  },
  {
   "cell_type": "code",
   "execution_count": null,
   "metadata": {},
   "outputs": [],
   "source": [
    "def show_two_ims(im_1, im_2, titles=[None, None], interpixel_distances=[0.13, 0.13],\n",
    "                 color_mapper=None):\n",
    "    \"\"\"Convenient function for showing two images side by side.\"\"\"\n",
    "    p_1 = bebi103.viz.imshow(im_1,\n",
    "                             plot_height=300,\n",
    "                             title=titles[0],\n",
    "                             color_mapper=color_mapper,\n",
    "                             interpixel_distance=interpixel_distances[0],\n",
    "                             length_units='µm')\n",
    "    p_2 = bebi103.viz.imshow(im_2,\n",
    "                             plot_height=300,\n",
    "                             title=titles[1],\n",
    "                             color_mapper=color_mapper,\n",
    "                             interpixel_distance=interpixel_distances[0],\n",
    "                             length_units='µm')\n",
    "    p_2.x_range = p_1.x_range\n",
    "    p_2.y_range = p_1.y_range\n",
    "    \n",
    "    return bokeh.layouts.gridplot([p_1, p_2], ncols=2)"
   ]
  },
  {
   "cell_type": "code",
   "execution_count": null,
   "metadata": {},
   "outputs": [],
   "source": [
    "bokeh.io.show(show_two_ims(ic[19], ic[20], titles=['Frame 20', 'Frame 21'], interpixel_distances=[ip, ip]))"
   ]
  },
  {
   "cell_type": "markdown",
   "metadata": {},
   "source": [
    "The edges of the bleached square are fuzzy due to diffusion. Given from the README that the box should be 40x40 pixels, we can take a 40x40 square over the image and find the square with the lowest intensity. That box will be our bleached spot. \n",
    "\n",
    "To find this box, let's write two functions. One will return a convenient array for slicing a region of interest from the image given the center coordinates, and the other will find the photobleached spot by looking for the square with the lowest intensity."
   ]
  },
  {
   "cell_type": "code",
   "execution_count": null,
   "metadata": {},
   "outputs": [],
   "source": [
    "def get_box_given_center(x, y, length):\n",
    "    '''Given the x and y center coordinates, return an index\n",
    "    tuple defining a box of edge length length * 2.'''\n",
    "    left = x - length\n",
    "    right = x + length\n",
    "    bottom = y + length\n",
    "    top = y - length\n",
    "        \n",
    "    return np.s_[int(top):int(bottom), int(left):int(right)]\n",
    "\n",
    "def find_roi(ic, frame=20, length=20):\n",
    "    '''Given an image stack, take one frame and returns the center \n",
    "    coordinates of the darkest square area, given an edge length\n",
    "    defining that square.'''\n",
    "    \n",
    "    # Set the frame of the image stack to another variable for convenience\n",
    "    im = np.copy(ic[frame])\n",
    "    \n",
    "    # Get the dimensions of the image\n",
    "    x_dim, y_dim = im.shape\n",
    "    \n",
    "    # Set initial values for center of bleached spot\n",
    "    x_center = length\n",
    "    y_center = length\n",
    "    \n",
    "    # Set a high initial value for the lowest intensity of our ROI\n",
    "    lowest_int = 10**10\n",
    "    \n",
    "    # Iterate through all the pixels in the image where the box would fit\n",
    "    for x, y in [(x,y) for x in np.arange(length, x_dim - length) \n",
    "                       for y in np.arange(length, y_dim - length)]:\n",
    "\n",
    "        # Get coordinates of the box\n",
    "        roi = get_box_given_center(x, y, length)\n",
    "        \n",
    "        # Calculate total intensity of square\n",
    "        lowest_int_temp = im[roi].sum()\n",
    "\n",
    "        # Keep track of where box with lower intensity is found\n",
    "        if lowest_int_temp < lowest_int:\n",
    "            x_center = x\n",
    "            y_center = y\n",
    "            lowest_int = lowest_int_temp\n",
    "            \n",
    "    return x_center, y_center"
   ]
  },
  {
   "cell_type": "markdown",
   "metadata": {},
   "source": [
    "Now let's test our function and see if it returns a box with pretty low intensity. We can plot the original and ROI next to each other."
   ]
  },
  {
   "cell_type": "markdown",
   "metadata": {},
   "source": [
    "FIGURE OUT HOW TO DRAW A BOX"
   ]
  },
  {
   "cell_type": "code",
   "execution_count": null,
   "metadata": {},
   "outputs": [],
   "source": [
    "x_center, y_center = find_roi(ic)\n",
    "roi = get_box_given_center(x_center, y_center, 20)\n",
    "\n",
    "bokeh.io.show(show_two_ims(ic[20], ic[20][roi], titles=['original', 'ROI']))"
   ]
  },
  {
   "cell_type": "markdown",
   "metadata": {},
   "source": [
    "Now that we have our ROI, we can plot at the total intensity over time of that box. First, let's make a array for time for our x-axis, since we know from the README that each frame is captured every 0.188 s."
   ]
  },
  {
   "cell_type": "code",
   "execution_count": null,
   "metadata": {},
   "outputs": [],
   "source": [
    "# Set up an array for time\n",
    "t = np.linspace(0, len(ic) * 0.188, len(ic))"
   ]
  },
  {
   "cell_type": "markdown",
   "metadata": {},
   "source": [
    "Now let's calculate total intensity over time and plot it."
   ]
  },
  {
   "cell_type": "code",
   "execution_count": null,
   "metadata": {},
   "outputs": [],
   "source": [
    "# Set up NumPy array to store total pixel intensity\n",
    "total_int = np.empty(len(ic))\n",
    "\n",
    "# Look through and compute total intensity in the ROI\n",
    "for i, im in enumerate(ic):\n",
    "    total_int[i] = ic[i][roi].sum() \n",
    "    \n",
    "p = bokeh.plotting.figure(plot_width=500,\n",
    "                          plot_height=300,\n",
    "                          x_axis_label='time (s)', \n",
    "                          y_axis_label='total intensity')\n",
    "\n",
    "p.line(t, total_int, line_width=2, line_join='bevel')\n",
    "\n",
    "bokeh.io.show(p)"
   ]
  },
  {
   "cell_type": "markdown",
   "metadata": {},
   "source": [
    "This looks like what we expect. After photobleaching, the intensity of the box drops dramatically but recovers over time. Now let's normalize the total intensity. To do this, we can look at the first 19 frames, before photobleaching, and compute the mean total intensity of the bleached area before it is bleached. We want to look at multiple frames as there is noise over time, and the intensity of the ROI will change over time. "
   ]
  },
  {
   "cell_type": "code",
   "execution_count": null,
   "metadata": {},
   "outputs": [],
   "source": [
    "def compute_normalization_value(ic, roi, n_frames):\n",
    "    '''Takes the first n frames in the image stack to compute\n",
    "    the average intensity of an ROI over all the frames.'''\n",
    "    # Set up NumPy array to store total pixel intensity\n",
    "    total_int = np.empty(len(ic[:n_frames]))\n",
    "    \n",
    "    # Sum intensities in first n frames in ROI\n",
    "    for i, im in enumerate(ic[:n_frames]):\n",
    "        total_int[i] = im[roi].sum()\n",
    "\n",
    "    # Return the mean intensity of the ROI\n",
    "    return np.mean(total_int)"
   ]
  },
  {
   "cell_type": "markdown",
   "metadata": {},
   "source": [
    "Now to compute the normalized intensity, we just need to divide the intensity we obtained before by the normalization value."
   ]
  },
  {
   "cell_type": "code",
   "execution_count": null,
   "metadata": {},
   "outputs": [],
   "source": [
    "def compute_normalized_intensity(ic, roi, int_0):  \n",
    "    '''Takes the an image stack, a normalization factor, and an\n",
    "    ROI to compute the normalized intensity over time for\n",
    "    all frames. Returns the normalized intensity for each frame.'''\n",
    "    # Set up NumPy array to store total pixel intensity\n",
    "    total_int = np.empty(len(ic))\n",
    "    \n",
    "    # Set up Numpy array to store time in image stack\n",
    "    t = np.linspace(0, len(ic) * 0.188, len(ic))\n",
    "\n",
    "    # Look through and compute total intensity in the ROI\n",
    "    for i, im in enumerate(ic):\n",
    "        total_int[i] = im[roi].sum() / int_0\n",
    "    \n",
    "    return total_int"
   ]
  },
  {
   "cell_type": "markdown",
   "metadata": {},
   "source": [
    "Let's plot the normalized intensity. "
   ]
  },
  {
   "cell_type": "code",
   "execution_count": null,
   "metadata": {},
   "outputs": [],
   "source": [
    "int_0 = compute_normalization_value(ic, roi, 19)\n",
    "total_int = compute_normalized_intensity(ic, roi, int_0)\n",
    "\n",
    "p = bokeh.plotting.figure(plot_width=500,\n",
    "                          plot_height=300,\n",
    "                          x_axis_label='time (s)', \n",
    "                          y_axis_label='normalized total intensity')\n",
    "\n",
    "p.line(t, total_int, line_width=2, line_join='bevel')\n",
    "\n",
    "bokeh.io.show(p)"
   ]
  },
  {
   "cell_type": "markdown",
   "metadata": {},
   "source": [
    "We see that the value of the intensity still occasionally goes above 1. This is because of noise in the detector, and potentially another way of calculating the normalization factor could be to find the frame with the highest intensity before photobleaching, and divide by that intensity. \n",
    "\n",
    "We also notice that the intensity of the ROI does not completely go to zero. This is also presumably due to noise or incomplete photobleaching."
   ]
  },
  {
   "cell_type": "markdown",
   "metadata": {},
   "source": [
    "Let's write another function that will get the max intensity of the ROI before photobleaching."
   ]
  },
  {
   "cell_type": "code",
   "execution_count": null,
   "metadata": {},
   "outputs": [],
   "source": [
    "def compute_normalization(ic, roi, n_frames):\n",
    "    '''Takes the first n frames in the image stack to compute\n",
    "    the average intensity of an ROI over all the frames.'''\n",
    "    # Set up NumPy array to store total pixel intensity\n",
    "    total_int = np.empty(len(ic[:n_frames]))\n",
    "    \n",
    "    # Sum intensities in first n frames in ROI\n",
    "    for i, im in enumerate(ic[:n_frames]):\n",
    "        total_int[i] = im[roi].sum()\n",
    "\n",
    "    # Return the max intensity of the ROI\n",
    "    return np.max(total_int)"
   ]
  },
  {
   "cell_type": "markdown",
   "metadata": {},
   "source": [
    "Now we can recalculate and replot the total intensity over time."
   ]
  },
  {
   "cell_type": "code",
   "execution_count": null,
   "metadata": {},
   "outputs": [],
   "source": [
    "int_0 = compute_normalization(ic, roi, 19)\n",
    "total_int = compute_normalized_intensity(ic, roi, int_0)\n",
    "\n",
    "p = bokeh.plotting.figure(plot_width=500,\n",
    "                          plot_height=300,\n",
    "                          x_axis_label='time (s)', \n",
    "                          y_axis_label='normalized total intensity')\n",
    "\n",
    "p.line(t, total_int, line_width=2, line_join='bevel')\n",
    "\n",
    "bokeh.io.show(p)"
   ]
  },
  {
   "cell_type": "markdown",
   "metadata": {},
   "source": [
    "The max normalized intensity is now 1!\n",
    "\n",
    "Now we can use our functions to compute the normalized intensity over time for all image stacks in the data directory."
   ]
  },
  {
   "cell_type": "code",
   "execution_count": null,
   "metadata": {},
   "outputs": [],
   "source": [
    "# The directory containing data\n",
    "data_dir = '../data/goehring_FRAP_data/'\n",
    "\n",
    "# Glob string for images\n",
    "im_glob = os.path.join(data_dir, '*.tif')\n",
    "\n",
    "# Get list of files in directory\n",
    "im_list = sorted(glob.glob(im_glob))\n",
    "\n",
    "# Let's look at the entries\n",
    "im_list"
   ]
  },
  {
   "cell_type": "code",
   "execution_count": null,
   "metadata": {},
   "outputs": [],
   "source": [
    "# Initialize variables\n",
    "n_frames = 19\n",
    "length = 20\n",
    "\n",
    "# Initialize dataframe to store information\n",
    "df = pd.DataFrame()\n",
    "\n",
    "for i, fname in enumerate(im_list):\n",
    "    # Extract image stack\n",
    "    ic = skimage.io.ImageCollection(fname, conserve_memory=False)[0]\n",
    "    \n",
    "    # Find ROI\n",
    "    x_center, y_center = find_roi(ic)\n",
    "    roi = get_box_given_center(x_center, y_center, length)\n",
    "    \n",
    "    # Compute normalized total intensity\n",
    "    int_0 = compute_normalization(ic, roi, n_frames)\n",
    "    total_int = compute_normalized_intensity(ic, roi, int_0)\n",
    "    \n",
    "    # Store information in a dataframe\n",
    "    df_temp = pd.DataFrame(total_int, columns={\"total_intensity\"})\n",
    "    df_temp['time'] = t\n",
    "    df_temp['stack'] = i\n",
    "    \n",
    "    df = pd.concat([df, df_temp])\n",
    "    \n",
    "# Reset the index so that the indices are all in sequential order\n",
    "df = df.reset_index(drop=True)\n",
    "\n",
    "# Take a look\n",
    "df.head()"
   ]
  },
  {
   "cell_type": "markdown",
   "metadata": {},
   "source": [
    "Let's save our dataframe in a csv file for later use."
   ]
  },
  {
   "cell_type": "code",
   "execution_count": null,
   "metadata": {},
   "outputs": [],
   "source": [
    "df.to_csv('normalized_intensities.csv')"
   ]
  },
  {
   "cell_type": "markdown",
   "metadata": {},
   "source": [
    "We can plot the normalized intensity over time for each image stack."
   ]
  },
  {
   "cell_type": "code",
   "execution_count": null,
   "metadata": {},
   "outputs": [],
   "source": [
    "alt.Chart(df,\n",
    "          height=200,\n",
    "          width=350\n",
    "    ).mark_line(\n",
    "        strokeJoin='bevel'\n",
    "    ).encode(\n",
    "        x=alt.X('time:Q', title='Time (s)', scale=alt.Scale(domain=[0, t[-1]], nice=False)),\n",
    "        y=alt.Y('total_intensity:Q', title='Normalized total intensity'),\n",
    "        row=alt.Row('stack:Q', title='Image stack')#,\n",
    "        #tooltip=['time', 'total_intensity']\n",
    "    ).interactive()"
   ]
  },
  {
   "cell_type": "markdown",
   "metadata": {},
   "source": [
    "We can now visualize the traces of normalized fluorescence of the photobleached spot spot versus time from each of the experimental repeats. Each photobleached spot drops to approximately 0.2 of its original value after FRAP is applied, and most recover fairly quickly, reaching around 0.9 of their original intensities by the end of the experiment. "
   ]
  },
  {
   "cell_type": "code",
   "execution_count": null,
   "metadata": {},
   "outputs": [],
   "source": [
    "%load_ext watermark"
   ]
  },
  {
   "cell_type": "markdown",
   "metadata": {},
   "source": [
    "%watermark -v -p numpy,pandas,scipy,skimage,bokeh,bebi103,jupyterlab"
   ]
  },
  {
   "cell_type": "markdown",
   "metadata": {},
   "source": [
    "# Grading\n",
    "\n",
    "**Grade: 39/40**\n",
    "\n",
    "Good job!\n",
    "\n",
    "As you can see, for the final plots, I had to comment out the last `tooltip` line in order to be able to render the intensity curves. (-1 pt)."
   ]
  },
  {
   "cell_type": "code",
   "execution_count": null,
   "metadata": {},
   "outputs": [],
   "source": []
  }
 ],
 "metadata": {
  "kernelspec": {
   "display_name": "Python 3",
   "language": "python",
   "name": "python3"
  },
  "language_info": {
   "codemirror_mode": {
    "name": "ipython",
    "version": 3
   },
   "file_extension": ".py",
   "mimetype": "text/x-python",
   "name": "python",
   "nbconvert_exporter": "python",
   "pygments_lexer": "ipython3",
   "version": "3.7.0"
  }
 },
 "nbformat": 4,
 "nbformat_minor": 2
}
