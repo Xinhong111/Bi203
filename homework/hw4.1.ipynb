{
 "cells": [
  {
   "cell_type": "markdown",
   "metadata": {},
   "source": [
    "## Problem 4.1: Analysis of FRAP data\n",
    "\n",
    "In this problem, we aim to extract the normalized fluorescence over time of a spot that has been photobleached. In this dataset, we have 8 TIFF stacks of images, each with 149 frames. The interpixel distance is given to be 0.138 µm, the size of the FRAP spot is 40 by 40 pixels, and each frame is taken 0.188 s apart.\n",
    "\n",
    "Attribution: Maddie worked on this problem. "
   ]
  },
  {
   "cell_type": "code",
   "execution_count": 1,
   "metadata": {},
   "outputs": [
    {
     "data": {
      "text/html": [
       "\n",
       "    <div class=\"bk-root\">\n",
       "        <a href=\"https://bokeh.pydata.org\" target=\"_blank\" class=\"bk-logo bk-logo-small bk-logo-notebook\"></a>\n",
       "        <span id=\"e935b40b-c322-438f-b35e-a8cfd7196bbd\">Loading BokehJS ...</span>\n",
       "    </div>"
      ]
     },
     "metadata": {},
     "output_type": "display_data"
    },
    {
     "data": {
      "application/javascript": [
       "\n",
       "(function(root) {\n",
       "  function now() {\n",
       "    return new Date();\n",
       "  }\n",
       "\n",
       "  var force = true;\n",
       "\n",
       "  if (typeof (root._bokeh_onload_callbacks) === \"undefined\" || force === true) {\n",
       "    root._bokeh_onload_callbacks = [];\n",
       "    root._bokeh_is_loading = undefined;\n",
       "  }\n",
       "\n",
       "  var JS_MIME_TYPE = 'application/javascript';\n",
       "  var HTML_MIME_TYPE = 'text/html';\n",
       "  var EXEC_MIME_TYPE = 'application/vnd.bokehjs_exec.v0+json';\n",
       "  var CLASS_NAME = 'output_bokeh rendered_html';\n",
       "\n",
       "  /**\n",
       "   * Render data to the DOM node\n",
       "   */\n",
       "  function render(props, node) {\n",
       "    var script = document.createElement(\"script\");\n",
       "    node.appendChild(script);\n",
       "  }\n",
       "\n",
       "  /**\n",
       "   * Handle when an output is cleared or removed\n",
       "   */\n",
       "  function handleClearOutput(event, handle) {\n",
       "    var cell = handle.cell;\n",
       "\n",
       "    var id = cell.output_area._bokeh_element_id;\n",
       "    var server_id = cell.output_area._bokeh_server_id;\n",
       "    // Clean up Bokeh references\n",
       "    if (id != null && id in Bokeh.index) {\n",
       "      Bokeh.index[id].model.document.clear();\n",
       "      delete Bokeh.index[id];\n",
       "    }\n",
       "\n",
       "    if (server_id !== undefined) {\n",
       "      // Clean up Bokeh references\n",
       "      var cmd = \"from bokeh.io.state import curstate; print(curstate().uuid_to_server['\" + server_id + \"'].get_sessions()[0].document.roots[0]._id)\";\n",
       "      cell.notebook.kernel.execute(cmd, {\n",
       "        iopub: {\n",
       "          output: function(msg) {\n",
       "            var id = msg.content.text.trim();\n",
       "            if (id in Bokeh.index) {\n",
       "              Bokeh.index[id].model.document.clear();\n",
       "              delete Bokeh.index[id];\n",
       "            }\n",
       "          }\n",
       "        }\n",
       "      });\n",
       "      // Destroy server and session\n",
       "      var cmd = \"import bokeh.io.notebook as ion; ion.destroy_server('\" + server_id + \"')\";\n",
       "      cell.notebook.kernel.execute(cmd);\n",
       "    }\n",
       "  }\n",
       "\n",
       "  /**\n",
       "   * Handle when a new output is added\n",
       "   */\n",
       "  function handleAddOutput(event, handle) {\n",
       "    var output_area = handle.output_area;\n",
       "    var output = handle.output;\n",
       "\n",
       "    // limit handleAddOutput to display_data with EXEC_MIME_TYPE content only\n",
       "    if ((output.output_type != \"display_data\") || (!output.data.hasOwnProperty(EXEC_MIME_TYPE))) {\n",
       "      return\n",
       "    }\n",
       "\n",
       "    var toinsert = output_area.element.find(\".\" + CLASS_NAME.split(' ')[0]);\n",
       "\n",
       "    if (output.metadata[EXEC_MIME_TYPE][\"id\"] !== undefined) {\n",
       "      toinsert[toinsert.length - 1].firstChild.textContent = output.data[JS_MIME_TYPE];\n",
       "      // store reference to embed id on output_area\n",
       "      output_area._bokeh_element_id = output.metadata[EXEC_MIME_TYPE][\"id\"];\n",
       "    }\n",
       "    if (output.metadata[EXEC_MIME_TYPE][\"server_id\"] !== undefined) {\n",
       "      var bk_div = document.createElement(\"div\");\n",
       "      bk_div.innerHTML = output.data[HTML_MIME_TYPE];\n",
       "      var script_attrs = bk_div.children[0].attributes;\n",
       "      for (var i = 0; i < script_attrs.length; i++) {\n",
       "        toinsert[toinsert.length - 1].firstChild.setAttribute(script_attrs[i].name, script_attrs[i].value);\n",
       "      }\n",
       "      // store reference to server id on output_area\n",
       "      output_area._bokeh_server_id = output.metadata[EXEC_MIME_TYPE][\"server_id\"];\n",
       "    }\n",
       "  }\n",
       "\n",
       "  function register_renderer(events, OutputArea) {\n",
       "\n",
       "    function append_mime(data, metadata, element) {\n",
       "      // create a DOM node to render to\n",
       "      var toinsert = this.create_output_subarea(\n",
       "        metadata,\n",
       "        CLASS_NAME,\n",
       "        EXEC_MIME_TYPE\n",
       "      );\n",
       "      this.keyboard_manager.register_events(toinsert);\n",
       "      // Render to node\n",
       "      var props = {data: data, metadata: metadata[EXEC_MIME_TYPE]};\n",
       "      render(props, toinsert[toinsert.length - 1]);\n",
       "      element.append(toinsert);\n",
       "      return toinsert\n",
       "    }\n",
       "\n",
       "    /* Handle when an output is cleared or removed */\n",
       "    events.on('clear_output.CodeCell', handleClearOutput);\n",
       "    events.on('delete.Cell', handleClearOutput);\n",
       "\n",
       "    /* Handle when a new output is added */\n",
       "    events.on('output_added.OutputArea', handleAddOutput);\n",
       "\n",
       "    /**\n",
       "     * Register the mime type and append_mime function with output_area\n",
       "     */\n",
       "    OutputArea.prototype.register_mime_type(EXEC_MIME_TYPE, append_mime, {\n",
       "      /* Is output safe? */\n",
       "      safe: true,\n",
       "      /* Index of renderer in `output_area.display_order` */\n",
       "      index: 0\n",
       "    });\n",
       "  }\n",
       "\n",
       "  // register the mime type if in Jupyter Notebook environment and previously unregistered\n",
       "  if (root.Jupyter !== undefined) {\n",
       "    var events = require('base/js/events');\n",
       "    var OutputArea = require('notebook/js/outputarea').OutputArea;\n",
       "\n",
       "    if (OutputArea.prototype.mime_types().indexOf(EXEC_MIME_TYPE) == -1) {\n",
       "      register_renderer(events, OutputArea);\n",
       "    }\n",
       "  }\n",
       "\n",
       "  \n",
       "  if (typeof (root._bokeh_timeout) === \"undefined\" || force === true) {\n",
       "    root._bokeh_timeout = Date.now() + 5000;\n",
       "    root._bokeh_failed_load = false;\n",
       "  }\n",
       "\n",
       "  var NB_LOAD_WARNING = {'data': {'text/html':\n",
       "     \"<div style='background-color: #fdd'>\\n\"+\n",
       "     \"<p>\\n\"+\n",
       "     \"BokehJS does not appear to have successfully loaded. If loading BokehJS from CDN, this \\n\"+\n",
       "     \"may be due to a slow or bad network connection. Possible fixes:\\n\"+\n",
       "     \"</p>\\n\"+\n",
       "     \"<ul>\\n\"+\n",
       "     \"<li>re-rerun `output_notebook()` to attempt to load from CDN again, or</li>\\n\"+\n",
       "     \"<li>use INLINE resources instead, as so:</li>\\n\"+\n",
       "     \"</ul>\\n\"+\n",
       "     \"<code>\\n\"+\n",
       "     \"from bokeh.resources import INLINE\\n\"+\n",
       "     \"output_notebook(resources=INLINE)\\n\"+\n",
       "     \"</code>\\n\"+\n",
       "     \"</div>\"}};\n",
       "\n",
       "  function display_loaded() {\n",
       "    var el = document.getElementById(\"e935b40b-c322-438f-b35e-a8cfd7196bbd\");\n",
       "    if (el != null) {\n",
       "      el.textContent = \"BokehJS is loading...\";\n",
       "    }\n",
       "    if (root.Bokeh !== undefined) {\n",
       "      if (el != null) {\n",
       "        el.textContent = \"BokehJS \" + root.Bokeh.version + \" successfully loaded.\";\n",
       "      }\n",
       "    } else if (Date.now() < root._bokeh_timeout) {\n",
       "      setTimeout(display_loaded, 100)\n",
       "    }\n",
       "  }\n",
       "\n",
       "\n",
       "  function run_callbacks() {\n",
       "    try {\n",
       "      root._bokeh_onload_callbacks.forEach(function(callback) { callback() });\n",
       "    }\n",
       "    finally {\n",
       "      delete root._bokeh_onload_callbacks\n",
       "    }\n",
       "    console.info(\"Bokeh: all callbacks have finished\");\n",
       "  }\n",
       "\n",
       "  function load_libs(js_urls, callback) {\n",
       "    root._bokeh_onload_callbacks.push(callback);\n",
       "    if (root._bokeh_is_loading > 0) {\n",
       "      console.log(\"Bokeh: BokehJS is being loaded, scheduling callback at\", now());\n",
       "      return null;\n",
       "    }\n",
       "    if (js_urls == null || js_urls.length === 0) {\n",
       "      run_callbacks();\n",
       "      return null;\n",
       "    }\n",
       "    console.log(\"Bokeh: BokehJS not loaded, scheduling load and callback at\", now());\n",
       "    root._bokeh_is_loading = js_urls.length;\n",
       "    for (var i = 0; i < js_urls.length; i++) {\n",
       "      var url = js_urls[i];\n",
       "      var s = document.createElement('script');\n",
       "      s.src = url;\n",
       "      s.async = false;\n",
       "      s.onreadystatechange = s.onload = function() {\n",
       "        root._bokeh_is_loading--;\n",
       "        if (root._bokeh_is_loading === 0) {\n",
       "          console.log(\"Bokeh: all BokehJS libraries loaded\");\n",
       "          run_callbacks()\n",
       "        }\n",
       "      };\n",
       "      s.onerror = function() {\n",
       "        console.warn(\"failed to load library \" + url);\n",
       "      };\n",
       "      console.log(\"Bokeh: injecting script tag for BokehJS library: \", url);\n",
       "      document.getElementsByTagName(\"head\")[0].appendChild(s);\n",
       "    }\n",
       "  };var element = document.getElementById(\"e935b40b-c322-438f-b35e-a8cfd7196bbd\");\n",
       "  if (element == null) {\n",
       "    console.log(\"Bokeh: ERROR: autoload.js configured with elementid 'e935b40b-c322-438f-b35e-a8cfd7196bbd' but no matching script tag was found. \")\n",
       "    return false;\n",
       "  }\n",
       "\n",
       "  var js_urls = [\"https://cdn.pydata.org/bokeh/release/bokeh-0.13.0.min.js\", \"https://cdn.pydata.org/bokeh/release/bokeh-widgets-0.13.0.min.js\", \"https://cdn.pydata.org/bokeh/release/bokeh-tables-0.13.0.min.js\", \"https://cdn.pydata.org/bokeh/release/bokeh-gl-0.13.0.min.js\"];\n",
       "\n",
       "  var inline_js = [\n",
       "    function(Bokeh) {\n",
       "      Bokeh.set_log_level(\"info\");\n",
       "    },\n",
       "    \n",
       "    function(Bokeh) {\n",
       "      \n",
       "    },\n",
       "    function(Bokeh) {\n",
       "      console.log(\"Bokeh: injecting CSS: https://cdn.pydata.org/bokeh/release/bokeh-0.13.0.min.css\");\n",
       "      Bokeh.embed.inject_css(\"https://cdn.pydata.org/bokeh/release/bokeh-0.13.0.min.css\");\n",
       "      console.log(\"Bokeh: injecting CSS: https://cdn.pydata.org/bokeh/release/bokeh-widgets-0.13.0.min.css\");\n",
       "      Bokeh.embed.inject_css(\"https://cdn.pydata.org/bokeh/release/bokeh-widgets-0.13.0.min.css\");\n",
       "      console.log(\"Bokeh: injecting CSS: https://cdn.pydata.org/bokeh/release/bokeh-tables-0.13.0.min.css\");\n",
       "      Bokeh.embed.inject_css(\"https://cdn.pydata.org/bokeh/release/bokeh-tables-0.13.0.min.css\");\n",
       "    }\n",
       "  ];\n",
       "\n",
       "  function run_inline_js() {\n",
       "    \n",
       "    if ((root.Bokeh !== undefined) || (force === true)) {\n",
       "      for (var i = 0; i < inline_js.length; i++) {\n",
       "        inline_js[i].call(root, root.Bokeh);\n",
       "      }if (force === true) {\n",
       "        display_loaded();\n",
       "      }} else if (Date.now() < root._bokeh_timeout) {\n",
       "      setTimeout(run_inline_js, 100);\n",
       "    } else if (!root._bokeh_failed_load) {\n",
       "      console.log(\"Bokeh: BokehJS failed to load within specified timeout.\");\n",
       "      root._bokeh_failed_load = true;\n",
       "    } else if (force !== true) {\n",
       "      var cell = $(document.getElementById(\"e935b40b-c322-438f-b35e-a8cfd7196bbd\")).parents('.cell').data().cell;\n",
       "      cell.output_area.append_execute_result(NB_LOAD_WARNING)\n",
       "    }\n",
       "\n",
       "  }\n",
       "\n",
       "  if (root._bokeh_is_loading === 0) {\n",
       "    console.log(\"Bokeh: BokehJS loaded, going straight to plotting\");\n",
       "    run_inline_js();\n",
       "  } else {\n",
       "    load_libs(js_urls, function() {\n",
       "      console.log(\"Bokeh: BokehJS plotting callback run at\", now());\n",
       "      run_inline_js();\n",
       "    });\n",
       "  }\n",
       "}(window));"
      ],
      "application/vnd.bokehjs_load.v0+json": "\n(function(root) {\n  function now() {\n    return new Date();\n  }\n\n  var force = true;\n\n  if (typeof (root._bokeh_onload_callbacks) === \"undefined\" || force === true) {\n    root._bokeh_onload_callbacks = [];\n    root._bokeh_is_loading = undefined;\n  }\n\n  \n\n  \n  if (typeof (root._bokeh_timeout) === \"undefined\" || force === true) {\n    root._bokeh_timeout = Date.now() + 5000;\n    root._bokeh_failed_load = false;\n  }\n\n  var NB_LOAD_WARNING = {'data': {'text/html':\n     \"<div style='background-color: #fdd'>\\n\"+\n     \"<p>\\n\"+\n     \"BokehJS does not appear to have successfully loaded. If loading BokehJS from CDN, this \\n\"+\n     \"may be due to a slow or bad network connection. Possible fixes:\\n\"+\n     \"</p>\\n\"+\n     \"<ul>\\n\"+\n     \"<li>re-rerun `output_notebook()` to attempt to load from CDN again, or</li>\\n\"+\n     \"<li>use INLINE resources instead, as so:</li>\\n\"+\n     \"</ul>\\n\"+\n     \"<code>\\n\"+\n     \"from bokeh.resources import INLINE\\n\"+\n     \"output_notebook(resources=INLINE)\\n\"+\n     \"</code>\\n\"+\n     \"</div>\"}};\n\n  function display_loaded() {\n    var el = document.getElementById(\"e935b40b-c322-438f-b35e-a8cfd7196bbd\");\n    if (el != null) {\n      el.textContent = \"BokehJS is loading...\";\n    }\n    if (root.Bokeh !== undefined) {\n      if (el != null) {\n        el.textContent = \"BokehJS \" + root.Bokeh.version + \" successfully loaded.\";\n      }\n    } else if (Date.now() < root._bokeh_timeout) {\n      setTimeout(display_loaded, 100)\n    }\n  }\n\n\n  function run_callbacks() {\n    try {\n      root._bokeh_onload_callbacks.forEach(function(callback) { callback() });\n    }\n    finally {\n      delete root._bokeh_onload_callbacks\n    }\n    console.info(\"Bokeh: all callbacks have finished\");\n  }\n\n  function load_libs(js_urls, callback) {\n    root._bokeh_onload_callbacks.push(callback);\n    if (root._bokeh_is_loading > 0) {\n      console.log(\"Bokeh: BokehJS is being loaded, scheduling callback at\", now());\n      return null;\n    }\n    if (js_urls == null || js_urls.length === 0) {\n      run_callbacks();\n      return null;\n    }\n    console.log(\"Bokeh: BokehJS not loaded, scheduling load and callback at\", now());\n    root._bokeh_is_loading = js_urls.length;\n    for (var i = 0; i < js_urls.length; i++) {\n      var url = js_urls[i];\n      var s = document.createElement('script');\n      s.src = url;\n      s.async = false;\n      s.onreadystatechange = s.onload = function() {\n        root._bokeh_is_loading--;\n        if (root._bokeh_is_loading === 0) {\n          console.log(\"Bokeh: all BokehJS libraries loaded\");\n          run_callbacks()\n        }\n      };\n      s.onerror = function() {\n        console.warn(\"failed to load library \" + url);\n      };\n      console.log(\"Bokeh: injecting script tag for BokehJS library: \", url);\n      document.getElementsByTagName(\"head\")[0].appendChild(s);\n    }\n  };var element = document.getElementById(\"e935b40b-c322-438f-b35e-a8cfd7196bbd\");\n  if (element == null) {\n    console.log(\"Bokeh: ERROR: autoload.js configured with elementid 'e935b40b-c322-438f-b35e-a8cfd7196bbd' but no matching script tag was found. \")\n    return false;\n  }\n\n  var js_urls = [\"https://cdn.pydata.org/bokeh/release/bokeh-0.13.0.min.js\", \"https://cdn.pydata.org/bokeh/release/bokeh-widgets-0.13.0.min.js\", \"https://cdn.pydata.org/bokeh/release/bokeh-tables-0.13.0.min.js\", \"https://cdn.pydata.org/bokeh/release/bokeh-gl-0.13.0.min.js\"];\n\n  var inline_js = [\n    function(Bokeh) {\n      Bokeh.set_log_level(\"info\");\n    },\n    \n    function(Bokeh) {\n      \n    },\n    function(Bokeh) {\n      console.log(\"Bokeh: injecting CSS: https://cdn.pydata.org/bokeh/release/bokeh-0.13.0.min.css\");\n      Bokeh.embed.inject_css(\"https://cdn.pydata.org/bokeh/release/bokeh-0.13.0.min.css\");\n      console.log(\"Bokeh: injecting CSS: https://cdn.pydata.org/bokeh/release/bokeh-widgets-0.13.0.min.css\");\n      Bokeh.embed.inject_css(\"https://cdn.pydata.org/bokeh/release/bokeh-widgets-0.13.0.min.css\");\n      console.log(\"Bokeh: injecting CSS: https://cdn.pydata.org/bokeh/release/bokeh-tables-0.13.0.min.css\");\n      Bokeh.embed.inject_css(\"https://cdn.pydata.org/bokeh/release/bokeh-tables-0.13.0.min.css\");\n    }\n  ];\n\n  function run_inline_js() {\n    \n    if ((root.Bokeh !== undefined) || (force === true)) {\n      for (var i = 0; i < inline_js.length; i++) {\n        inline_js[i].call(root, root.Bokeh);\n      }if (force === true) {\n        display_loaded();\n      }} else if (Date.now() < root._bokeh_timeout) {\n      setTimeout(run_inline_js, 100);\n    } else if (!root._bokeh_failed_load) {\n      console.log(\"Bokeh: BokehJS failed to load within specified timeout.\");\n      root._bokeh_failed_load = true;\n    } else if (force !== true) {\n      var cell = $(document.getElementById(\"e935b40b-c322-438f-b35e-a8cfd7196bbd\")).parents('.cell').data().cell;\n      cell.output_area.append_execute_result(NB_LOAD_WARNING)\n    }\n\n  }\n\n  if (root._bokeh_is_loading === 0) {\n    console.log(\"Bokeh: BokehJS loaded, going straight to plotting\");\n    run_inline_js();\n  } else {\n    load_libs(js_urls, function() {\n      console.log(\"Bokeh: BokehJS plotting callback run at\", now());\n      run_inline_js();\n    });\n  }\n}(window));"
     },
     "metadata": {},
     "output_type": "display_data"
    }
   ],
   "source": [
    "import glob\n",
    "import os\n",
    "\n",
    "import numpy as np\n",
    "import pandas as pd\n",
    "\n",
    "# Image processing tools\n",
    "import skimage\n",
    "import skimage.io\n",
    "\n",
    "import bebi103\n",
    "\n",
    "import altair as alt\n",
    "import bokeh\n",
    "bokeh.io.output_notebook()"
   ]
  },
  {
   "cell_type": "markdown",
   "metadata": {},
   "source": [
    "Let's start by looking at the first TIFF stack."
   ]
  },
  {
   "cell_type": "code",
   "execution_count": 2,
   "metadata": {},
   "outputs": [
    {
     "name": "stdout",
     "output_type": "stream",
     "text": [
      "There are 149 frames.\n"
     ]
    }
   ],
   "source": [
    "# Load in first TIFF stack\n",
    "fname = '../data/goehring_FRAP_data/PH_138_A.tif'\n",
    "ic = skimage.io.ImageCollection(fname, conserve_memory=False)[0]\n",
    "\n",
    "# How long is it?\n",
    "print('There are {0:d} frames.'.format(len(ic)))"
   ]
  },
  {
   "cell_type": "markdown",
   "metadata": {},
   "source": [
    "We are given that the interpixel distance is 0.138 µm, so let's set it as variable here for plotting later."
   ]
  },
  {
   "cell_type": "code",
   "execution_count": 3,
   "metadata": {},
   "outputs": [],
   "source": [
    "ip = 0.138 # µm"
   ]
  },
  {
   "cell_type": "markdown",
   "metadata": {},
   "source": [
    "We want to segment the bleached area using the first postbleach frame, frame 21. Let's look at the frames right before and right after the photobleaching event, frames 20 and 21."
   ]
  },
  {
   "cell_type": "code",
   "execution_count": 4,
   "metadata": {},
   "outputs": [],
   "source": [
    "def show_two_ims(im_1, im_2, titles=[None, None], interpixel_distances=[0.13, 0.13],\n",
    "                 color_mapper=None):\n",
    "    \"\"\"Convenient function for showing two images side by side.\"\"\"\n",
    "    p_1 = bebi103.viz.imshow(im_1,\n",
    "                             plot_height=300,\n",
    "                             title=titles[0],\n",
    "                             color_mapper=color_mapper,\n",
    "                             interpixel_distance=interpixel_distances[0],\n",
    "                             length_units='µm')\n",
    "    p_2 = bebi103.viz.imshow(im_2,\n",
    "                             plot_height=300,\n",
    "                             title=titles[1],\n",
    "                             color_mapper=color_mapper,\n",
    "                             interpixel_distance=interpixel_distances[0],\n",
    "                             length_units='µm')\n",
    "    p_2.x_range = p_1.x_range\n",
    "    p_2.y_range = p_1.y_range\n",
    "    \n",
    "    return bokeh.layouts.gridplot([p_1, p_2], ncols=2)"
   ]
  },
  {
   "cell_type": "code",
   "execution_count": 5,
   "metadata": {},
   "outputs": [
    {
     "data": {
      "text/html": [
       "\n",
       "\n",
       "\n",
       "\n",
       "\n",
       "\n",
       "  <div class=\"bk-root\" id=\"2beb27c3-5e80-4b16-a0e2-6ccad4833ed2\"></div>\n"
      ]
     },
     "metadata": {},
     "output_type": "display_data"
    },
    {
     "data": {
      "application/javascript": [
       "(function(root) {\n",
       "  function embed_document(root) {\n",
       "    \n",
       "  var docs_json = {\"91f1f278-ffd8-4b01-b2ab-e3c6958ebd68\":{\"roots\":{\"references\":[{\"attributes\":{\"data_source\":{\"id\":\"7287e006-c2d4-4a9e-ac9e-4a5303b42d26\",\"type\":\"ColumnDataSource\"},\"glyph\":{\"id\":\"0c74bd59-7e42-4019-9585-eba805c24a85\",\"type\":\"Image\"},\"hover_glyph\":null,\"muted_glyph\":null,\"nonselection_glyph\":{\"id\":\"b366a10e-bdf1-481f-a120-7bee38741ab3\",\"type\":\"Image\"},\"selection_glyph\":null,\"view\":{\"id\":\"b0c7abd5-47e0-44db-8dd6-4df6c0cde957\",\"type\":\"CDSView\"}},\"id\":\"a73d8a58-b236-4f1e-8f4f-9cfc7330207d\",\"type\":\"GlyphRenderer\"},{\"attributes\":{\"toolbar\":{\"id\":\"53094eff-7488-4868-80d7-5813e3358054\",\"type\":\"ProxyToolbar\"},\"toolbar_location\":\"above\"},\"id\":\"bf17a7df-44b1-4689-9ed1-241395c95cd2\",\"type\":\"ToolbarBox\"},{\"attributes\":{\"overlay\":{\"id\":\"29cfad8a-a566-4fbb-8a37-2e86fc0121f7\",\"type\":\"BoxAnnotation\"}},\"id\":\"962f499e-b988-445c-a197-b62583b7031d\",\"type\":\"BoxZoomTool\"},{\"attributes\":{\"children\":[{\"id\":\"bf17a7df-44b1-4689-9ed1-241395c95cd2\",\"type\":\"ToolbarBox\"},{\"id\":\"a94ed6fb-0e8b-47ef-bf6f-4b63dc7691af\",\"type\":\"Column\"}]},\"id\":\"48154cdc-c48d-4ce9-8e2c-39372b0e3624\",\"type\":\"Column\"},{\"attributes\":{},\"id\":\"fd6f03a9-7a66-49cd-99b2-1e33ae99bb8e\",\"type\":\"LinearScale\"},{\"attributes\":{},\"id\":\"3e455047-a9cc-43a1-bbae-c273e092833e\",\"type\":\"PanTool\"},{\"attributes\":{},\"id\":\"489ec79f-bb6c-4075-94f0-5428f9dc982d\",\"type\":\"WheelZoomTool\"},{\"attributes\":{},\"id\":\"108ee37d-6199-4c52-9bbc-ce4aac9095f4\",\"type\":\"ResetTool\"},{\"attributes\":{\"color_mapper\":{\"id\":\"3428885d-9cb7-4959-a234-d0ab41fb8d8b\",\"type\":\"LinearColorMapper\"},\"dh\":{\"units\":\"data\",\"value\":17.664},\"dw\":{\"units\":\"data\",\"value\":17.664},\"image\":{\"field\":\"image\"},\"x\":{\"value\":0},\"y\":{\"value\":0}},\"id\":\"b366a10e-bdf1-481f-a120-7bee38741ab3\",\"type\":\"Image\"},{\"attributes\":{\"bottom_units\":\"screen\",\"fill_alpha\":{\"value\":0.5},\"fill_color\":{\"value\":\"lightgrey\"},\"left_units\":\"screen\",\"level\":\"overlay\",\"line_alpha\":{\"value\":1.0},\"line_color\":{\"value\":\"black\"},\"line_dash\":[4,4],\"line_width\":{\"value\":2},\"plot\":null,\"render_mode\":\"css\",\"right_units\":\"screen\",\"top_units\":\"screen\"},\"id\":\"29cfad8a-a566-4fbb-8a37-2e86fc0121f7\",\"type\":\"BoxAnnotation\"},{\"attributes\":{},\"id\":\"425b76fd-4c34-4ca2-8baf-3f403ce0730c\",\"type\":\"LinearScale\"},{\"attributes\":{\"high\":2869,\"low\":44,\"palette\":[\"#440154\",\"#440255\",\"#440357\",\"#450558\",\"#45065A\",\"#45085B\",\"#46095C\",\"#460B5E\",\"#460C5F\",\"#460E61\",\"#470F62\",\"#471163\",\"#471265\",\"#471466\",\"#471567\",\"#471669\",\"#47186A\",\"#48196B\",\"#481A6C\",\"#481C6E\",\"#481D6F\",\"#481E70\",\"#482071\",\"#482172\",\"#482273\",\"#482374\",\"#472575\",\"#472676\",\"#472777\",\"#472878\",\"#472A79\",\"#472B7A\",\"#472C7B\",\"#462D7C\",\"#462F7C\",\"#46307D\",\"#46317E\",\"#45327F\",\"#45347F\",\"#453580\",\"#453681\",\"#443781\",\"#443982\",\"#433A83\",\"#433B83\",\"#433C84\",\"#423D84\",\"#423E85\",\"#424085\",\"#414186\",\"#414286\",\"#404387\",\"#404487\",\"#3F4587\",\"#3F4788\",\"#3E4888\",\"#3E4989\",\"#3D4A89\",\"#3D4B89\",\"#3D4C89\",\"#3C4D8A\",\"#3C4E8A\",\"#3B508A\",\"#3B518A\",\"#3A528B\",\"#3A538B\",\"#39548B\",\"#39558B\",\"#38568B\",\"#38578C\",\"#37588C\",\"#37598C\",\"#365A8C\",\"#365B8C\",\"#355C8C\",\"#355D8C\",\"#345E8D\",\"#345F8D\",\"#33608D\",\"#33618D\",\"#32628D\",\"#32638D\",\"#31648D\",\"#31658D\",\"#31668D\",\"#30678D\",\"#30688D\",\"#2F698D\",\"#2F6A8D\",\"#2E6B8E\",\"#2E6C8E\",\"#2E6D8E\",\"#2D6E8E\",\"#2D6F8E\",\"#2C708E\",\"#2C718E\",\"#2C728E\",\"#2B738E\",\"#2B748E\",\"#2A758E\",\"#2A768E\",\"#2A778E\",\"#29788E\",\"#29798E\",\"#287A8E\",\"#287A8E\",\"#287B8E\",\"#277C8E\",\"#277D8E\",\"#277E8E\",\"#267F8E\",\"#26808E\",\"#26818E\",\"#25828E\",\"#25838D\",\"#24848D\",\"#24858D\",\"#24868D\",\"#23878D\",\"#23888D\",\"#23898D\",\"#22898D\",\"#228A8D\",\"#228B8D\",\"#218C8D\",\"#218D8C\",\"#218E8C\",\"#208F8C\",\"#20908C\",\"#20918C\",\"#1F928C\",\"#1F938B\",\"#1F948B\",\"#1F958B\",\"#1F968B\",\"#1E978A\",\"#1E988A\",\"#1E998A\",\"#1E998A\",\"#1E9A89\",\"#1E9B89\",\"#1E9C89\",\"#1E9D88\",\"#1E9E88\",\"#1E9F88\",\"#1EA087\",\"#1FA187\",\"#1FA286\",\"#1FA386\",\"#20A485\",\"#20A585\",\"#21A685\",\"#21A784\",\"#22A784\",\"#23A883\",\"#23A982\",\"#24AA82\",\"#25AB81\",\"#26AC81\",\"#27AD80\",\"#28AE7F\",\"#29AF7F\",\"#2AB07E\",\"#2BB17D\",\"#2CB17D\",\"#2EB27C\",\"#2FB37B\",\"#30B47A\",\"#32B57A\",\"#33B679\",\"#35B778\",\"#36B877\",\"#38B976\",\"#39B976\",\"#3BBA75\",\"#3DBB74\",\"#3EBC73\",\"#40BD72\",\"#42BE71\",\"#44BE70\",\"#45BF6F\",\"#47C06E\",\"#49C16D\",\"#4BC26C\",\"#4DC26B\",\"#4FC369\",\"#51C468\",\"#53C567\",\"#55C666\",\"#57C665\",\"#59C764\",\"#5BC862\",\"#5EC961\",\"#60C960\",\"#62CA5F\",\"#64CB5D\",\"#67CC5C\",\"#69CC5B\",\"#6BCD59\",\"#6DCE58\",\"#70CE56\",\"#72CF55\",\"#74D054\",\"#77D052\",\"#79D151\",\"#7CD24F\",\"#7ED24E\",\"#81D34C\",\"#83D34B\",\"#86D449\",\"#88D547\",\"#8BD546\",\"#8DD644\",\"#90D643\",\"#92D741\",\"#95D73F\",\"#97D83E\",\"#9AD83C\",\"#9DD93A\",\"#9FD938\",\"#A2DA37\",\"#A5DA35\",\"#A7DB33\",\"#AADB32\",\"#ADDC30\",\"#AFDC2E\",\"#B2DD2C\",\"#B5DD2B\",\"#B7DD29\",\"#BADE27\",\"#BDDE26\",\"#BFDF24\",\"#C2DF22\",\"#C5DF21\",\"#C7E01F\",\"#CAE01E\",\"#CDE01D\",\"#CFE11C\",\"#D2E11B\",\"#D4E11A\",\"#D7E219\",\"#DAE218\",\"#DCE218\",\"#DFE318\",\"#E1E318\",\"#E4E318\",\"#E7E419\",\"#E9E419\",\"#ECE41A\",\"#EEE51B\",\"#F1E51C\",\"#F3E51E\",\"#F6E61F\",\"#F8E621\",\"#FAE622\",\"#FDE724\"]},\"id\":\"dda43259-0938-43ea-a736-151f96266b07\",\"type\":\"LinearColorMapper\"},{\"attributes\":{\"color_mapper\":{\"id\":\"dda43259-0938-43ea-a736-151f96266b07\",\"type\":\"LinearColorMapper\"},\"dh\":{\"units\":\"data\",\"value\":17.664},\"dw\":{\"units\":\"data\",\"value\":17.664},\"image\":{\"field\":\"image\"},\"x\":{\"value\":0},\"y\":{\"value\":0}},\"id\":\"7e18677a-8d49-4229-a274-67d5a3ad4687\",\"type\":\"Image\"},{\"attributes\":{\"source\":{\"id\":\"7287e006-c2d4-4a9e-ac9e-4a5303b42d26\",\"type\":\"ColumnDataSource\"}},\"id\":\"b0c7abd5-47e0-44db-8dd6-4df6c0cde957\",\"type\":\"CDSView\"},{\"attributes\":{\"below\":[{\"id\":\"b024ff77-a911-4ea6-ac58-c0de94238621\",\"type\":\"LinearAxis\"}],\"left\":[{\"id\":\"2f792bc0-db23-49cb-9bab-577dc9743820\",\"type\":\"LinearAxis\"}],\"plot_height\":300,\"plot_width\":300,\"renderers\":[{\"id\":\"b024ff77-a911-4ea6-ac58-c0de94238621\",\"type\":\"LinearAxis\"},{\"id\":\"a80f4214-5865-4314-96b9-5d72bcef2299\",\"type\":\"Grid\"},{\"id\":\"2f792bc0-db23-49cb-9bab-577dc9743820\",\"type\":\"LinearAxis\"},{\"id\":\"05734d85-3b6e-44ce-b71c-f7a32f5ba3ba\",\"type\":\"Grid\"},{\"id\":\"47b1d74f-1b5f-4859-8a6b-eb20e3c9429b\",\"type\":\"BoxAnnotation\"},{\"id\":\"95b8ed70-aef9-4d6c-861c-2e708b993d58\",\"type\":\"GlyphRenderer\"}],\"title\":{\"id\":\"60382308-e25d-48f0-9b71-27e9135b302b\",\"type\":\"Title\"},\"toolbar\":{\"id\":\"ffff6d52-4a40-4917-8065-4050d4c6ddf7\",\"type\":\"Toolbar\"},\"toolbar_location\":null,\"x_range\":{\"id\":\"f97d1408-d6dd-4246-986e-24fee430a48e\",\"type\":\"Range1d\"},\"x_scale\":{\"id\":\"8cc57782-cde6-4e1f-9da8-b33d9f2c2877\",\"type\":\"LinearScale\"},\"y_range\":{\"id\":\"88e32ff1-e8c0-4167-938f-30f01e1c0e4c\",\"type\":\"Range1d\"},\"y_scale\":{\"id\":\"62b9614d-34dc-4a9c-8f6d-5e7dadedfeb7\",\"type\":\"LinearScale\"}},\"id\":\"cf29265e-3b96-4708-8922-74c32849d0be\",\"subtype\":\"Figure\",\"type\":\"Plot\"},{\"attributes\":{},\"id\":\"5e5b4e3f-a0b2-48ce-b470-3e4afd4f6abb\",\"type\":\"BasicTicker\"},{\"attributes\":{\"axis_label\":\"\\u00b5m\",\"formatter\":{\"id\":\"31dae24d-2ae6-4d24-a7be-3e86780a64c6\",\"type\":\"BasicTickFormatter\"},\"plot\":{\"id\":\"f258de98-3e2d-4069-af3c-80dbf0bc8d88\",\"subtype\":\"Figure\",\"type\":\"Plot\"},\"ticker\":{\"id\":\"5e5b4e3f-a0b2-48ce-b470-3e4afd4f6abb\",\"type\":\"BasicTicker\"}},\"id\":\"183f1252-4d1b-4507-acf6-5221399cf48d\",\"type\":\"LinearAxis\"},{\"attributes\":{\"plot\":null,\"text\":\"Frame 21\"},\"id\":\"60382308-e25d-48f0-9b71-27e9135b302b\",\"type\":\"Title\"},{\"attributes\":{},\"id\":\"62b9614d-34dc-4a9c-8f6d-5e7dadedfeb7\",\"type\":\"LinearScale\"},{\"attributes\":{},\"id\":\"913ee7f4-b19f-4678-a19f-fdf54501a928\",\"type\":\"BasicTicker\"},{\"attributes\":{\"color_mapper\":{\"id\":\"3428885d-9cb7-4959-a234-d0ab41fb8d8b\",\"type\":\"LinearColorMapper\"},\"dh\":{\"units\":\"data\",\"value\":17.664},\"dw\":{\"units\":\"data\",\"value\":17.664},\"image\":{\"field\":\"image\"},\"x\":{\"value\":0},\"y\":{\"value\":0}},\"id\":\"0c74bd59-7e42-4019-9585-eba805c24a85\",\"type\":\"Image\"},{\"attributes\":{\"axis_label\":\"\\u00b5m\",\"formatter\":{\"id\":\"f8daea1e-f639-40a3-abb9-a1a012c3caee\",\"type\":\"BasicTickFormatter\"},\"plot\":{\"id\":\"cf29265e-3b96-4708-8922-74c32849d0be\",\"subtype\":\"Figure\",\"type\":\"Plot\"},\"ticker\":{\"id\":\"73c1b0a6-d2b9-4018-8f03-36f7857a5cdf\",\"type\":\"BasicTicker\"}},\"id\":\"2f792bc0-db23-49cb-9bab-577dc9743820\",\"type\":\"LinearAxis\"},{\"attributes\":{},\"id\":\"1892b2a5-8233-4b59-9648-36ea7847f9af\",\"type\":\"Selection\"},{\"attributes\":{\"plot\":{\"id\":\"cf29265e-3b96-4708-8922-74c32849d0be\",\"subtype\":\"Figure\",\"type\":\"Plot\"},\"ticker\":{\"id\":\"913ee7f4-b19f-4678-a19f-fdf54501a928\",\"type\":\"BasicTicker\"}},\"id\":\"a80f4214-5865-4314-96b9-5d72bcef2299\",\"type\":\"Grid\"},{\"attributes\":{\"callback\":null,\"data\":{\"image\":[{\"__ndarray__\":\"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\",\"dtype\":\"uint16\",\"shape\":[128,128]}]},\"selected\":{\"id\":\"65b930b0-3e81-4256-a607-30951312b0aa\",\"type\":\"Selection\"},\"selection_policy\":{\"id\":\"790d9ae2-a9a0-4789-ab62-937455c36045\",\"type\":\"UnionRenderers\"}},\"id\":\"7287e006-c2d4-4a9e-ac9e-4a5303b42d26\",\"type\":\"ColumnDataSource\"},{\"attributes\":{\"axis_label\":\"\\u00b5m\",\"formatter\":{\"id\":\"438e7193-a147-4e22-858c-d61978c97a83\",\"type\":\"BasicTickFormatter\"},\"plot\":{\"id\":\"cf29265e-3b96-4708-8922-74c32849d0be\",\"subtype\":\"Figure\",\"type\":\"Plot\"},\"ticker\":{\"id\":\"913ee7f4-b19f-4678-a19f-fdf54501a928\",\"type\":\"BasicTicker\"}},\"id\":\"b024ff77-a911-4ea6-ac58-c0de94238621\",\"type\":\"LinearAxis\"},{\"attributes\":{},\"id\":\"2c79fa83-999e-4562-b1da-42b1db2e1693\",\"type\":\"BasicTickFormatter\"},{\"attributes\":{},\"id\":\"73c1b0a6-d2b9-4018-8f03-36f7857a5cdf\",\"type\":\"BasicTicker\"},{\"attributes\":{},\"id\":\"8cc57782-cde6-4e1f-9da8-b33d9f2c2877\",\"type\":\"LinearScale\"},{\"attributes\":{\"children\":[{\"id\":\"551163dc-4bd1-4ed7-9285-8120330ae525\",\"type\":\"Row\"}]},\"id\":\"a94ed6fb-0e8b-47ef-bf6f-4b63dc7691af\",\"type\":\"Column\"},{\"attributes\":{\"callback\":null,\"data\":{\"image\":[{\"__ndarray__\":\"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\",\"dtype\":\"uint16\",\"shape\":[128,128]}]},\"selected\":{\"id\":\"1892b2a5-8233-4b59-9648-36ea7847f9af\",\"type\":\"Selection\"},\"selection_policy\":{\"id\":\"f134ecdf-9cff-4d50-b9b0-ee09280802fd\",\"type\":\"UnionRenderers\"}},\"id\":\"1595ac52-240c-4405-938d-852986dc9ef6\",\"type\":\"ColumnDataSource\"},{\"attributes\":{},\"id\":\"f5fa131f-413e-4824-ba4c-6defd5ac5ebe\",\"type\":\"PanTool\"},{\"attributes\":{\"active_drag\":\"auto\",\"active_inspect\":\"auto\",\"active_multi\":null,\"active_scroll\":\"auto\",\"active_tap\":\"auto\",\"tools\":[{\"id\":\"f5fa131f-413e-4824-ba4c-6defd5ac5ebe\",\"type\":\"PanTool\"},{\"id\":\"4a514de0-8135-42bb-9afa-f9c8163702ab\",\"type\":\"BoxZoomTool\"},{\"id\":\"57e9b5fc-84ad-4a96-8d35-fad0d5bd6caf\",\"type\":\"WheelZoomTool\"},{\"id\":\"d6e91dcb-419c-4bf7-8e51-18202464be9f\",\"type\":\"ResetTool\"}]},\"id\":\"ffff6d52-4a40-4917-8065-4050d4c6ddf7\",\"type\":\"Toolbar\"},{\"attributes\":{\"dimension\":1,\"plot\":{\"id\":\"cf29265e-3b96-4708-8922-74c32849d0be\",\"subtype\":\"Figure\",\"type\":\"Plot\"},\"ticker\":{\"id\":\"73c1b0a6-d2b9-4018-8f03-36f7857a5cdf\",\"type\":\"BasicTicker\"}},\"id\":\"05734d85-3b6e-44ce-b71c-f7a32f5ba3ba\",\"type\":\"Grid\"},{\"attributes\":{\"children\":[{\"id\":\"f258de98-3e2d-4069-af3c-80dbf0bc8d88\",\"subtype\":\"Figure\",\"type\":\"Plot\"},{\"id\":\"cf29265e-3b96-4708-8922-74c32849d0be\",\"subtype\":\"Figure\",\"type\":\"Plot\"}]},\"id\":\"551163dc-4bd1-4ed7-9285-8120330ae525\",\"type\":\"Row\"},{\"attributes\":{},\"id\":\"31dae24d-2ae6-4d24-a7be-3e86780a64c6\",\"type\":\"BasicTickFormatter\"},{\"attributes\":{},\"id\":\"baa5efae-d366-49d4-996b-9c8f9dca7ce2\",\"type\":\"BasicTicker\"},{\"attributes\":{\"source\":{\"id\":\"1595ac52-240c-4405-938d-852986dc9ef6\",\"type\":\"ColumnDataSource\"}},\"id\":\"f24e3547-0b8d-4e38-b4eb-84edbdf9dbd3\",\"type\":\"CDSView\"},{\"attributes\":{\"axis_label\":\"\\u00b5m\",\"formatter\":{\"id\":\"2c79fa83-999e-4562-b1da-42b1db2e1693\",\"type\":\"BasicTickFormatter\"},\"plot\":{\"id\":\"f258de98-3e2d-4069-af3c-80dbf0bc8d88\",\"subtype\":\"Figure\",\"type\":\"Plot\"},\"ticker\":{\"id\":\"baa5efae-d366-49d4-996b-9c8f9dca7ce2\",\"type\":\"BasicTicker\"}},\"id\":\"048a0d8c-63d6-4631-9051-d247ed755c94\",\"type\":\"LinearAxis\"},{\"attributes\":{\"overlay\":{\"id\":\"47b1d74f-1b5f-4859-8a6b-eb20e3c9429b\",\"type\":\"BoxAnnotation\"}},\"id\":\"4a514de0-8135-42bb-9afa-f9c8163702ab\",\"type\":\"BoxZoomTool\"},{\"attributes\":{},\"id\":\"790d9ae2-a9a0-4789-ab62-937455c36045\",\"type\":\"UnionRenderers\"},{\"attributes\":{},\"id\":\"438e7193-a147-4e22-858c-d61978c97a83\",\"type\":\"BasicTickFormatter\"},{\"attributes\":{\"plot\":{\"id\":\"f258de98-3e2d-4069-af3c-80dbf0bc8d88\",\"subtype\":\"Figure\",\"type\":\"Plot\"},\"ticker\":{\"id\":\"baa5efae-d366-49d4-996b-9c8f9dca7ce2\",\"type\":\"BasicTicker\"}},\"id\":\"3e567744-01d7-475d-a095-cb248b442efe\",\"type\":\"Grid\"},{\"attributes\":{},\"id\":\"f8daea1e-f639-40a3-abb9-a1a012c3caee\",\"type\":\"BasicTickFormatter\"},{\"attributes\":{\"bottom_units\":\"screen\",\"fill_alpha\":{\"value\":0.5},\"fill_color\":{\"value\":\"lightgrey\"},\"left_units\":\"screen\",\"level\":\"overlay\",\"line_alpha\":{\"value\":1.0},\"line_color\":{\"value\":\"black\"},\"line_dash\":[4,4],\"line_width\":{\"value\":2},\"plot\":null,\"render_mode\":\"css\",\"right_units\":\"screen\",\"top_units\":\"screen\"},\"id\":\"47b1d74f-1b5f-4859-8a6b-eb20e3c9429b\",\"type\":\"BoxAnnotation\"},{\"attributes\":{\"high\":3499,\"low\":46,\"palette\":[\"#440154\",\"#440255\",\"#440357\",\"#450558\",\"#45065A\",\"#45085B\",\"#46095C\",\"#460B5E\",\"#460C5F\",\"#460E61\",\"#470F62\",\"#471163\",\"#471265\",\"#471466\",\"#471567\",\"#471669\",\"#47186A\",\"#48196B\",\"#481A6C\",\"#481C6E\",\"#481D6F\",\"#481E70\",\"#482071\",\"#482172\",\"#482273\",\"#482374\",\"#472575\",\"#472676\",\"#472777\",\"#472878\",\"#472A79\",\"#472B7A\",\"#472C7B\",\"#462D7C\",\"#462F7C\",\"#46307D\",\"#46317E\",\"#45327F\",\"#45347F\",\"#453580\",\"#453681\",\"#443781\",\"#443982\",\"#433A83\",\"#433B83\",\"#433C84\",\"#423D84\",\"#423E85\",\"#424085\",\"#414186\",\"#414286\",\"#404387\",\"#404487\",\"#3F4587\",\"#3F4788\",\"#3E4888\",\"#3E4989\",\"#3D4A89\",\"#3D4B89\",\"#3D4C89\",\"#3C4D8A\",\"#3C4E8A\",\"#3B508A\",\"#3B518A\",\"#3A528B\",\"#3A538B\",\"#39548B\",\"#39558B\",\"#38568B\",\"#38578C\",\"#37588C\",\"#37598C\",\"#365A8C\",\"#365B8C\",\"#355C8C\",\"#355D8C\",\"#345E8D\",\"#345F8D\",\"#33608D\",\"#33618D\",\"#32628D\",\"#32638D\",\"#31648D\",\"#31658D\",\"#31668D\",\"#30678D\",\"#30688D\",\"#2F698D\",\"#2F6A8D\",\"#2E6B8E\",\"#2E6C8E\",\"#2E6D8E\",\"#2D6E8E\",\"#2D6F8E\",\"#2C708E\",\"#2C718E\",\"#2C728E\",\"#2B738E\",\"#2B748E\",\"#2A758E\",\"#2A768E\",\"#2A778E\",\"#29788E\",\"#29798E\",\"#287A8E\",\"#287A8E\",\"#287B8E\",\"#277C8E\",\"#277D8E\",\"#277E8E\",\"#267F8E\",\"#26808E\",\"#26818E\",\"#25828E\",\"#25838D\",\"#24848D\",\"#24858D\",\"#24868D\",\"#23878D\",\"#23888D\",\"#23898D\",\"#22898D\",\"#228A8D\",\"#228B8D\",\"#218C8D\",\"#218D8C\",\"#218E8C\",\"#208F8C\",\"#20908C\",\"#20918C\",\"#1F928C\",\"#1F938B\",\"#1F948B\",\"#1F958B\",\"#1F968B\",\"#1E978A\",\"#1E988A\",\"#1E998A\",\"#1E998A\",\"#1E9A89\",\"#1E9B89\",\"#1E9C89\",\"#1E9D88\",\"#1E9E88\",\"#1E9F88\",\"#1EA087\",\"#1FA187\",\"#1FA286\",\"#1FA386\",\"#20A485\",\"#20A585\",\"#21A685\",\"#21A784\",\"#22A784\",\"#23A883\",\"#23A982\",\"#24AA82\",\"#25AB81\",\"#26AC81\",\"#27AD80\",\"#28AE7F\",\"#29AF7F\",\"#2AB07E\",\"#2BB17D\",\"#2CB17D\",\"#2EB27C\",\"#2FB37B\",\"#30B47A\",\"#32B57A\",\"#33B679\",\"#35B778\",\"#36B877\",\"#38B976\",\"#39B976\",\"#3BBA75\",\"#3DBB74\",\"#3EBC73\",\"#40BD72\",\"#42BE71\",\"#44BE70\",\"#45BF6F\",\"#47C06E\",\"#49C16D\",\"#4BC26C\",\"#4DC26B\",\"#4FC369\",\"#51C468\",\"#53C567\",\"#55C666\",\"#57C665\",\"#59C764\",\"#5BC862\",\"#5EC961\",\"#60C960\",\"#62CA5F\",\"#64CB5D\",\"#67CC5C\",\"#69CC5B\",\"#6BCD59\",\"#6DCE58\",\"#70CE56\",\"#72CF55\",\"#74D054\",\"#77D052\",\"#79D151\",\"#7CD24F\",\"#7ED24E\",\"#81D34C\",\"#83D34B\",\"#86D449\",\"#88D547\",\"#8BD546\",\"#8DD644\",\"#90D643\",\"#92D741\",\"#95D73F\",\"#97D83E\",\"#9AD83C\",\"#9DD93A\",\"#9FD938\",\"#A2DA37\",\"#A5DA35\",\"#A7DB33\",\"#AADB32\",\"#ADDC30\",\"#AFDC2E\",\"#B2DD2C\",\"#B5DD2B\",\"#B7DD29\",\"#BADE27\",\"#BDDE26\",\"#BFDF24\",\"#C2DF22\",\"#C5DF21\",\"#C7E01F\",\"#CAE01E\",\"#CDE01D\",\"#CFE11C\",\"#D2E11B\",\"#D4E11A\",\"#D7E219\",\"#DAE218\",\"#DCE218\",\"#DFE318\",\"#E1E318\",\"#E4E318\",\"#E7E419\",\"#E9E419\",\"#ECE41A\",\"#EEE51B\",\"#F1E51C\",\"#F3E51E\",\"#F6E61F\",\"#F8E621\",\"#FAE622\",\"#FDE724\"]},\"id\":\"3428885d-9cb7-4959-a234-d0ab41fb8d8b\",\"type\":\"LinearColorMapper\"},{\"attributes\":{\"color_mapper\":{\"id\":\"dda43259-0938-43ea-a736-151f96266b07\",\"type\":\"LinearColorMapper\"},\"dh\":{\"units\":\"data\",\"value\":17.664},\"dw\":{\"units\":\"data\",\"value\":17.664},\"image\":{\"field\":\"image\"},\"x\":{\"value\":0},\"y\":{\"value\":0}},\"id\":\"b7fc3e96-ae3d-4482-aacd-2285b0f3ecbd\",\"type\":\"Image\"},{\"attributes\":{\"dimension\":1,\"plot\":{\"id\":\"f258de98-3e2d-4069-af3c-80dbf0bc8d88\",\"subtype\":\"Figure\",\"type\":\"Plot\"},\"ticker\":{\"id\":\"5e5b4e3f-a0b2-48ce-b470-3e4afd4f6abb\",\"type\":\"BasicTicker\"}},\"id\":\"91abeda3-077a-4242-8c3a-c78a56d7ff3f\",\"type\":\"Grid\"},{\"attributes\":{},\"id\":\"65b930b0-3e81-4256-a607-30951312b0aa\",\"type\":\"Selection\"},{\"attributes\":{\"data_source\":{\"id\":\"1595ac52-240c-4405-938d-852986dc9ef6\",\"type\":\"ColumnDataSource\"},\"glyph\":{\"id\":\"7e18677a-8d49-4229-a274-67d5a3ad4687\",\"type\":\"Image\"},\"hover_glyph\":null,\"muted_glyph\":null,\"nonselection_glyph\":{\"id\":\"b7fc3e96-ae3d-4482-aacd-2285b0f3ecbd\",\"type\":\"Image\"},\"selection_glyph\":null,\"view\":{\"id\":\"f24e3547-0b8d-4e38-b4eb-84edbdf9dbd3\",\"type\":\"CDSView\"}},\"id\":\"95b8ed70-aef9-4d6c-861c-2e708b993d58\",\"type\":\"GlyphRenderer\"},{\"attributes\":{\"below\":[{\"id\":\"048a0d8c-63d6-4631-9051-d247ed755c94\",\"type\":\"LinearAxis\"}],\"left\":[{\"id\":\"183f1252-4d1b-4507-acf6-5221399cf48d\",\"type\":\"LinearAxis\"}],\"plot_height\":300,\"plot_width\":300,\"renderers\":[{\"id\":\"048a0d8c-63d6-4631-9051-d247ed755c94\",\"type\":\"LinearAxis\"},{\"id\":\"3e567744-01d7-475d-a095-cb248b442efe\",\"type\":\"Grid\"},{\"id\":\"183f1252-4d1b-4507-acf6-5221399cf48d\",\"type\":\"LinearAxis\"},{\"id\":\"91abeda3-077a-4242-8c3a-c78a56d7ff3f\",\"type\":\"Grid\"},{\"id\":\"29cfad8a-a566-4fbb-8a37-2e86fc0121f7\",\"type\":\"BoxAnnotation\"},{\"id\":\"a73d8a58-b236-4f1e-8f4f-9cfc7330207d\",\"type\":\"GlyphRenderer\"}],\"title\":{\"id\":\"bdb91b0e-5579-4092-bbc1-34233a2f87f6\",\"type\":\"Title\"},\"toolbar\":{\"id\":\"4d173a47-5cde-420f-93e9-46de9bbeaf73\",\"type\":\"Toolbar\"},\"toolbar_location\":null,\"x_range\":{\"id\":\"f97d1408-d6dd-4246-986e-24fee430a48e\",\"type\":\"Range1d\"},\"x_scale\":{\"id\":\"fd6f03a9-7a66-49cd-99b2-1e33ae99bb8e\",\"type\":\"LinearScale\"},\"y_range\":{\"id\":\"88e32ff1-e8c0-4167-938f-30f01e1c0e4c\",\"type\":\"Range1d\"},\"y_scale\":{\"id\":\"425b76fd-4c34-4ca2-8baf-3f403ce0730c\",\"type\":\"LinearScale\"}},\"id\":\"f258de98-3e2d-4069-af3c-80dbf0bc8d88\",\"subtype\":\"Figure\",\"type\":\"Plot\"},{\"attributes\":{},\"id\":\"57e9b5fc-84ad-4a96-8d35-fad0d5bd6caf\",\"type\":\"WheelZoomTool\"},{\"attributes\":{\"callback\":null,\"end\":17.664},\"id\":\"f97d1408-d6dd-4246-986e-24fee430a48e\",\"type\":\"Range1d\"},{\"attributes\":{},\"id\":\"d6e91dcb-419c-4bf7-8e51-18202464be9f\",\"type\":\"ResetTool\"},{\"attributes\":{\"plot\":null,\"text\":\"Frame 20\"},\"id\":\"bdb91b0e-5579-4092-bbc1-34233a2f87f6\",\"type\":\"Title\"},{\"attributes\":{},\"id\":\"f134ecdf-9cff-4d50-b9b0-ee09280802fd\",\"type\":\"UnionRenderers\"},{\"attributes\":{\"active_drag\":\"auto\",\"active_inspect\":\"auto\",\"active_multi\":null,\"active_scroll\":\"auto\",\"active_tap\":\"auto\",\"tools\":[{\"id\":\"3e455047-a9cc-43a1-bbae-c273e092833e\",\"type\":\"PanTool\"},{\"id\":\"962f499e-b988-445c-a197-b62583b7031d\",\"type\":\"BoxZoomTool\"},{\"id\":\"489ec79f-bb6c-4075-94f0-5428f9dc982d\",\"type\":\"WheelZoomTool\"},{\"id\":\"108ee37d-6199-4c52-9bbc-ce4aac9095f4\",\"type\":\"ResetTool\"}]},\"id\":\"4d173a47-5cde-420f-93e9-46de9bbeaf73\",\"type\":\"Toolbar\"},{\"attributes\":{\"tools\":[{\"id\":\"3e455047-a9cc-43a1-bbae-c273e092833e\",\"type\":\"PanTool\"},{\"id\":\"962f499e-b988-445c-a197-b62583b7031d\",\"type\":\"BoxZoomTool\"},{\"id\":\"489ec79f-bb6c-4075-94f0-5428f9dc982d\",\"type\":\"WheelZoomTool\"},{\"id\":\"108ee37d-6199-4c52-9bbc-ce4aac9095f4\",\"type\":\"ResetTool\"},{\"id\":\"f5fa131f-413e-4824-ba4c-6defd5ac5ebe\",\"type\":\"PanTool\"},{\"id\":\"4a514de0-8135-42bb-9afa-f9c8163702ab\",\"type\":\"BoxZoomTool\"},{\"id\":\"57e9b5fc-84ad-4a96-8d35-fad0d5bd6caf\",\"type\":\"WheelZoomTool\"},{\"id\":\"d6e91dcb-419c-4bf7-8e51-18202464be9f\",\"type\":\"ResetTool\"}]},\"id\":\"53094eff-7488-4868-80d7-5813e3358054\",\"type\":\"ProxyToolbar\"},{\"attributes\":{\"callback\":null,\"end\":17.664},\"id\":\"88e32ff1-e8c0-4167-938f-30f01e1c0e4c\",\"type\":\"Range1d\"}],\"root_ids\":[\"48154cdc-c48d-4ce9-8e2c-39372b0e3624\"]},\"title\":\"Bokeh Application\",\"version\":\"0.13.0\"}};\n",
       "  var render_items = [{\"docid\":\"91f1f278-ffd8-4b01-b2ab-e3c6958ebd68\",\"roots\":{\"48154cdc-c48d-4ce9-8e2c-39372b0e3624\":\"2beb27c3-5e80-4b16-a0e2-6ccad4833ed2\"}}];\n",
       "  root.Bokeh.embed.embed_items_notebook(docs_json, render_items);\n",
       "\n",
       "  }\n",
       "  if (root.Bokeh !== undefined) {\n",
       "    embed_document(root);\n",
       "  } else {\n",
       "    var attempts = 0;\n",
       "    var timer = setInterval(function(root) {\n",
       "      if (root.Bokeh !== undefined) {\n",
       "        embed_document(root);\n",
       "        clearInterval(timer);\n",
       "      }\n",
       "      attempts++;\n",
       "      if (attempts > 100) {\n",
       "        console.log(\"Bokeh: ERROR: Unable to run BokehJS code because BokehJS library is missing\")\n",
       "        clearInterval(timer);\n",
       "      }\n",
       "    }, 10, root)\n",
       "  }\n",
       "})(window);"
      ],
      "application/vnd.bokehjs_exec.v0+json": ""
     },
     "metadata": {
      "application/vnd.bokehjs_exec.v0+json": {
       "id": "48154cdc-c48d-4ce9-8e2c-39372b0e3624"
      }
     },
     "output_type": "display_data"
    }
   ],
   "source": [
    "bokeh.io.show(show_two_ims(ic[19], ic[20], titles=['Frame 20', 'Frame 21'], interpixel_distances=[ip, ip]))"
   ]
  },
  {
   "cell_type": "markdown",
   "metadata": {},
   "source": [
    "The edges of the bleached square are fuzzy due to diffusion. Given from the README that the box should be 40x40 pixels, we can take a 40x40 square over the image and find the square with the lowest intensity. That box will be our bleached spot. \n",
    "\n",
    "To find this box, let's write two functions. One will return a convenient array for slicing a region of interest from the image given the center coordinates, and the other will find the photobleached spot by looking for the square with the lowest intensity."
   ]
  },
  {
   "cell_type": "code",
   "execution_count": 6,
   "metadata": {},
   "outputs": [],
   "source": [
    "def get_box_given_center(x, y, length):\n",
    "    '''Given the x and y center coordinates, return an index\n",
    "    tuple defining a box of edge length length * 2.'''\n",
    "    left = x - length\n",
    "    right = x + length\n",
    "    bottom = y + length\n",
    "    top = y - length\n",
    "        \n",
    "    return np.s_[int(top):int(bottom), int(left):int(right)]\n",
    "\n",
    "def find_roi(ic, frame=20, length=20):\n",
    "    '''Given an image stack, take one frame and returns the center \n",
    "    coordinates of the darkest square area, given an edge length\n",
    "    defining that square.'''\n",
    "    \n",
    "    # Set the frame of the image stack to another variable for convenience\n",
    "    im = np.copy(ic[frame])\n",
    "    \n",
    "    # Get the dimensions of the image\n",
    "    x_dim, y_dim = im.shape\n",
    "    \n",
    "    # Set initial values for center of bleached spot\n",
    "    x_center = length\n",
    "    y_center = length\n",
    "    \n",
    "    # Set a high initial value for the lowest intensity of our ROI\n",
    "    lowest_int = 10**10\n",
    "    \n",
    "    # Iterate through all the pixels in the image where the box would fit\n",
    "    for x, y in [(x,y) for x in np.arange(length, x_dim - length) \n",
    "                       for y in np.arange(length, y_dim - length)]:\n",
    "\n",
    "        # Get coordinates of the box\n",
    "        roi = get_box_given_center(x, y, length)\n",
    "        \n",
    "        # Calculate total intensity of square\n",
    "        lowest_int_temp = im[roi].sum()\n",
    "\n",
    "        # Keep track of where box with lower intensity is found\n",
    "        if lowest_int_temp < lowest_int:\n",
    "            x_center = x\n",
    "            y_center = y\n",
    "            lowest_int = lowest_int_temp\n",
    "            \n",
    "    return x_center, y_center"
   ]
  },
  {
   "cell_type": "markdown",
   "metadata": {},
   "source": [
    "Now let's test our function and see if it returns a box with pretty low intensity. We can plot the original and ROI next to each other."
   ]
  },
  {
   "cell_type": "markdown",
   "metadata": {},
   "source": [
    "FIGURE OUT HOW TO DRAW A BOX"
   ]
  },
  {
   "cell_type": "code",
   "execution_count": 7,
   "metadata": {},
   "outputs": [
    {
     "data": {
      "text/html": [
       "\n",
       "\n",
       "\n",
       "\n",
       "\n",
       "\n",
       "  <div class=\"bk-root\" id=\"cc3a1178-590e-4cc5-9f02-ad2747d0f2e3\"></div>\n"
      ]
     },
     "metadata": {},
     "output_type": "display_data"
    },
    {
     "data": {
      "application/javascript": [
       "(function(root) {\n",
       "  function embed_document(root) {\n",
       "    \n",
       "  var docs_json = {\"4db94382-e995-4b8e-b8e2-0b17c0338b60\":{\"roots\":{\"references\":[{\"attributes\":{\"below\":[{\"id\":\"3dbc0fc1-e3fa-42a6-8c5f-1fa4c3cff92e\",\"type\":\"LinearAxis\"}],\"left\":[{\"id\":\"48055e80-7585-4e01-a6c7-62d6366dfedf\",\"type\":\"LinearAxis\"}],\"plot_height\":300,\"plot_width\":300,\"renderers\":[{\"id\":\"3dbc0fc1-e3fa-42a6-8c5f-1fa4c3cff92e\",\"type\":\"LinearAxis\"},{\"id\":\"66a4dca6-be2a-4b9a-a33d-1f3e077a474e\",\"type\":\"Grid\"},{\"id\":\"48055e80-7585-4e01-a6c7-62d6366dfedf\",\"type\":\"LinearAxis\"},{\"id\":\"d5ea6268-e4d6-4b87-8018-9c74608d86d7\",\"type\":\"Grid\"},{\"id\":\"ad722254-cf28-4b8b-a894-0f3a069906be\",\"type\":\"BoxAnnotation\"},{\"id\":\"21bd0ba3-eea2-4d43-8c36-bcd948c54f65\",\"type\":\"GlyphRenderer\"}],\"title\":{\"id\":\"d2f737b5-ff30-48c9-90bb-af622c0d6151\",\"type\":\"Title\"},\"toolbar\":{\"id\":\"c408667a-cd51-4b02-bcaf-b327f4934695\",\"type\":\"Toolbar\"},\"toolbar_location\":null,\"x_range\":{\"id\":\"6c3ddeaf-df29-4c73-9346-be738ced79c9\",\"type\":\"Range1d\"},\"x_scale\":{\"id\":\"b5e167fb-0f88-4fe9-a698-686b191fb84e\",\"type\":\"LinearScale\"},\"y_range\":{\"id\":\"8ef6d855-f8d4-4042-afed-b9fda57f6300\",\"type\":\"Range1d\"},\"y_scale\":{\"id\":\"6f258d91-d2a9-4a90-ab75-f44979265f86\",\"type\":\"LinearScale\"}},\"id\":\"af4a798f-eb44-48ce-bbc4-a089849d3016\",\"subtype\":\"Figure\",\"type\":\"Plot\"},{\"attributes\":{\"overlay\":{\"id\":\"70d974f1-8623-444f-b901-d2586b512e66\",\"type\":\"BoxAnnotation\"}},\"id\":\"40c39d69-0538-4d06-a94b-cc0f717aa76f\",\"type\":\"BoxZoomTool\"},{\"attributes\":{\"callback\":null,\"data\":{\"image\":[{\"__ndarray__\":\"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\",\"dtype\":\"uint16\",\"shape\":[128,128]}]},\"selected\":{\"id\":\"45e6b639-c023-410f-9386-406683e46996\",\"type\":\"Selection\"},\"selection_policy\":{\"id\":\"85518630-26e7-42df-a0ea-188131787416\",\"type\":\"UnionRenderers\"}},\"id\":\"46c517d8-145d-42e6-ac93-a88179ee1dfe\",\"type\":\"ColumnDataSource\"},{\"attributes\":{},\"id\":\"d5d162af-228c-4e53-ab44-b922c0f4ec55\",\"type\":\"BasicTickFormatter\"},{\"attributes\":{},\"id\":\"b5e167fb-0f88-4fe9-a698-686b191fb84e\",\"type\":\"LinearScale\"},{\"attributes\":{\"toolbar\":{\"id\":\"38f1cd44-5953-4e6e-90cd-d24cceb34738\",\"type\":\"ProxyToolbar\"},\"toolbar_location\":\"above\"},\"id\":\"32d9aeb7-6936-4d32-83ff-7909b4142141\",\"type\":\"ToolbarBox\"},{\"attributes\":{},\"id\":\"22e14d0a-815c-409f-a212-6f42d2f334b4\",\"type\":\"BasicTickFormatter\"},{\"attributes\":{},\"id\":\"40507fe1-85be-4ae1-80a0-034435acbeb3\",\"type\":\"BasicTicker\"},{\"attributes\":{},\"id\":\"15ba2032-9e0d-4e54-b76d-0b74434a7338\",\"type\":\"BasicTickFormatter\"},{\"attributes\":{},\"id\":\"2a69e2f1-d7af-40d0-ab1e-145331f8daa4\",\"type\":\"PanTool\"},{\"attributes\":{\"callback\":null,\"end\":16.64},\"id\":\"6c3ddeaf-df29-4c73-9346-be738ced79c9\",\"type\":\"Range1d\"},{\"attributes\":{},\"id\":\"bf918224-aa0b-4e08-ac7c-fdaa1d9c1e6f\",\"type\":\"Selection\"},{\"attributes\":{\"active_drag\":\"auto\",\"active_inspect\":\"auto\",\"active_multi\":null,\"active_scroll\":\"auto\",\"active_tap\":\"auto\",\"tools\":[{\"id\":\"2b772b95-90ff-4061-8d44-b495605be383\",\"type\":\"PanTool\"},{\"id\":\"4e5f219d-7964-4d1f-b6cd-5b9378731cb5\",\"type\":\"BoxZoomTool\"},{\"id\":\"3061841b-0c93-422c-9c40-39f97cc30106\",\"type\":\"WheelZoomTool\"},{\"id\":\"80f02c22-d9af-4ca7-a771-8a4ae5ba31fe\",\"type\":\"ResetTool\"}]},\"id\":\"c408667a-cd51-4b02-bcaf-b327f4934695\",\"type\":\"Toolbar\"},{\"attributes\":{},\"id\":\"85518630-26e7-42df-a0ea-188131787416\",\"type\":\"UnionRenderers\"},{\"attributes\":{},\"id\":\"6f258d91-d2a9-4a90-ab75-f44979265f86\",\"type\":\"LinearScale\"},{\"attributes\":{\"active_drag\":\"auto\",\"active_inspect\":\"auto\",\"active_multi\":null,\"active_scroll\":\"auto\",\"active_tap\":\"auto\",\"tools\":[{\"id\":\"2a69e2f1-d7af-40d0-ab1e-145331f8daa4\",\"type\":\"PanTool\"},{\"id\":\"40c39d69-0538-4d06-a94b-cc0f717aa76f\",\"type\":\"BoxZoomTool\"},{\"id\":\"8f34a639-06f1-48c1-945b-838839fae26c\",\"type\":\"WheelZoomTool\"},{\"id\":\"930faaf3-5cc3-44d9-b1a7-c23299b2cf88\",\"type\":\"ResetTool\"}]},\"id\":\"831f2342-6105-42c5-8382-d50de27df6c9\",\"type\":\"Toolbar\"},{\"attributes\":{\"callback\":null,\"end\":16.64},\"id\":\"8ef6d855-f8d4-4042-afed-b9fda57f6300\",\"type\":\"Range1d\"},{\"attributes\":{},\"id\":\"c22caea2-0e1f-4613-bdfa-72bfca378824\",\"type\":\"BasicTickFormatter\"},{\"attributes\":{},\"id\":\"930faaf3-5cc3-44d9-b1a7-c23299b2cf88\",\"type\":\"ResetTool\"},{\"attributes\":{\"plot\":null,\"text\":\"ROI\"},\"id\":\"967a34d6-3579-468b-8fbf-069e8a9edf36\",\"type\":\"Title\"},{\"attributes\":{\"plot\":{\"id\":\"af4a798f-eb44-48ce-bbc4-a089849d3016\",\"subtype\":\"Figure\",\"type\":\"Plot\"},\"ticker\":{\"id\":\"a1329195-f5e1-442e-b94c-e97794b49d2c\",\"type\":\"BasicTicker\"}},\"id\":\"66a4dca6-be2a-4b9a-a33d-1f3e077a474e\",\"type\":\"Grid\"},{\"attributes\":{},\"id\":\"ba66f9e2-813f-4b9f-a670-f166f3098cd9\",\"type\":\"UnionRenderers\"},{\"attributes\":{\"below\":[{\"id\":\"11024f5b-3687-46b5-9d27-627e26becf77\",\"type\":\"LinearAxis\"}],\"left\":[{\"id\":\"aa8df52a-ecdb-44f5-931f-c9f0c6600b9c\",\"type\":\"LinearAxis\"}],\"plot_height\":300,\"plot_width\":300,\"renderers\":[{\"id\":\"11024f5b-3687-46b5-9d27-627e26becf77\",\"type\":\"LinearAxis\"},{\"id\":\"ef1deb32-b954-45d4-ba2a-a14e1d81fd18\",\"type\":\"Grid\"},{\"id\":\"aa8df52a-ecdb-44f5-931f-c9f0c6600b9c\",\"type\":\"LinearAxis\"},{\"id\":\"5422eeb6-16a4-40bb-a121-f5b93d486c1b\",\"type\":\"Grid\"},{\"id\":\"70d974f1-8623-444f-b901-d2586b512e66\",\"type\":\"BoxAnnotation\"},{\"id\":\"fd1449df-3a23-49d2-b553-16f8c2ae9807\",\"type\":\"GlyphRenderer\"}],\"title\":{\"id\":\"967a34d6-3579-468b-8fbf-069e8a9edf36\",\"type\":\"Title\"},\"toolbar\":{\"id\":\"831f2342-6105-42c5-8382-d50de27df6c9\",\"type\":\"Toolbar\"},\"toolbar_location\":null,\"x_range\":{\"id\":\"6c3ddeaf-df29-4c73-9346-be738ced79c9\",\"type\":\"Range1d\"},\"x_scale\":{\"id\":\"6ffff15e-008b-44f3-98b8-79c8c48ccd7d\",\"type\":\"LinearScale\"},\"y_range\":{\"id\":\"8ef6d855-f8d4-4042-afed-b9fda57f6300\",\"type\":\"Range1d\"},\"y_scale\":{\"id\":\"a9cf3e06-26b6-42c8-a7ec-202cfe5c3af4\",\"type\":\"LinearScale\"}},\"id\":\"e7930c3d-4880-4a6f-bbde-249d29b843f5\",\"subtype\":\"Figure\",\"type\":\"Plot\"},{\"attributes\":{},\"id\":\"b60528e2-2143-443e-b5d7-931fce994924\",\"type\":\"BasicTicker\"},{\"attributes\":{\"tools\":[{\"id\":\"2b772b95-90ff-4061-8d44-b495605be383\",\"type\":\"PanTool\"},{\"id\":\"4e5f219d-7964-4d1f-b6cd-5b9378731cb5\",\"type\":\"BoxZoomTool\"},{\"id\":\"3061841b-0c93-422c-9c40-39f97cc30106\",\"type\":\"WheelZoomTool\"},{\"id\":\"80f02c22-d9af-4ca7-a771-8a4ae5ba31fe\",\"type\":\"ResetTool\"},{\"id\":\"2a69e2f1-d7af-40d0-ab1e-145331f8daa4\",\"type\":\"PanTool\"},{\"id\":\"40c39d69-0538-4d06-a94b-cc0f717aa76f\",\"type\":\"BoxZoomTool\"},{\"id\":\"8f34a639-06f1-48c1-945b-838839fae26c\",\"type\":\"WheelZoomTool\"},{\"id\":\"930faaf3-5cc3-44d9-b1a7-c23299b2cf88\",\"type\":\"ResetTool\"}]},\"id\":\"38f1cd44-5953-4e6e-90cd-d24cceb34738\",\"type\":\"ProxyToolbar\"},{\"attributes\":{},\"id\":\"8f34a639-06f1-48c1-945b-838839fae26c\",\"type\":\"WheelZoomTool\"},{\"attributes\":{\"axis_label\":\"\\u00b5m\",\"formatter\":{\"id\":\"d5d162af-228c-4e53-ab44-b922c0f4ec55\",\"type\":\"BasicTickFormatter\"},\"plot\":{\"id\":\"af4a798f-eb44-48ce-bbc4-a089849d3016\",\"subtype\":\"Figure\",\"type\":\"Plot\"},\"ticker\":{\"id\":\"a1329195-f5e1-442e-b94c-e97794b49d2c\",\"type\":\"BasicTicker\"}},\"id\":\"3dbc0fc1-e3fa-42a6-8c5f-1fa4c3cff92e\",\"type\":\"LinearAxis\"},{\"attributes\":{\"axis_label\":\"\\u00b5m\",\"formatter\":{\"id\":\"15ba2032-9e0d-4e54-b76d-0b74434a7338\",\"type\":\"BasicTickFormatter\"},\"plot\":{\"id\":\"e7930c3d-4880-4a6f-bbde-249d29b843f5\",\"subtype\":\"Figure\",\"type\":\"Plot\"},\"ticker\":{\"id\":\"68396dbe-a343-4bf9-be8e-2cb6530e8cc3\",\"type\":\"BasicTicker\"}},\"id\":\"aa8df52a-ecdb-44f5-931f-c9f0c6600b9c\",\"type\":\"LinearAxis\"},{\"attributes\":{\"axis_label\":\"\\u00b5m\",\"formatter\":{\"id\":\"22e14d0a-815c-409f-a212-6f42d2f334b4\",\"type\":\"BasicTickFormatter\"},\"plot\":{\"id\":\"af4a798f-eb44-48ce-bbc4-a089849d3016\",\"subtype\":\"Figure\",\"type\":\"Plot\"},\"ticker\":{\"id\":\"b60528e2-2143-443e-b5d7-931fce994924\",\"type\":\"BasicTicker\"}},\"id\":\"48055e80-7585-4e01-a6c7-62d6366dfedf\",\"type\":\"LinearAxis\"},{\"attributes\":{\"color_mapper\":{\"id\":\"72c0a84d-a22f-47a0-8a77-1f7c37fc18ff\",\"type\":\"LinearColorMapper\"},\"dh\":{\"units\":\"data\",\"value\":5.2},\"dw\":{\"units\":\"data\",\"value\":5.2},\"image\":{\"field\":\"image\"},\"x\":{\"value\":0},\"y\":{\"value\":0}},\"id\":\"24b17691-ea4e-443e-98af-8c2d9d680186\",\"type\":\"Image\"},{\"attributes\":{\"children\":[{\"id\":\"32d9aeb7-6936-4d32-83ff-7909b4142141\",\"type\":\"ToolbarBox\"},{\"id\":\"b7dba186-283a-400a-bcdf-42dc768edee1\",\"type\":\"Column\"}]},\"id\":\"0ba2be4b-c73a-4c9e-b949-0b623ebaf292\",\"type\":\"Column\"},{\"attributes\":{},\"id\":\"a1329195-f5e1-442e-b94c-e97794b49d2c\",\"type\":\"BasicTicker\"},{\"attributes\":{\"dimension\":1,\"plot\":{\"id\":\"af4a798f-eb44-48ce-bbc4-a089849d3016\",\"subtype\":\"Figure\",\"type\":\"Plot\"},\"ticker\":{\"id\":\"b60528e2-2143-443e-b5d7-931fce994924\",\"type\":\"BasicTicker\"}},\"id\":\"d5ea6268-e4d6-4b87-8018-9c74608d86d7\",\"type\":\"Grid\"},{\"attributes\":{\"children\":[{\"id\":\"b9f8770b-1659-481d-be7c-daa7ad2a62b4\",\"type\":\"Row\"}]},\"id\":\"b7dba186-283a-400a-bcdf-42dc768edee1\",\"type\":\"Column\"},{\"attributes\":{\"axis_label\":\"\\u00b5m\",\"formatter\":{\"id\":\"c22caea2-0e1f-4613-bdfa-72bfca378824\",\"type\":\"BasicTickFormatter\"},\"plot\":{\"id\":\"e7930c3d-4880-4a6f-bbde-249d29b843f5\",\"subtype\":\"Figure\",\"type\":\"Plot\"},\"ticker\":{\"id\":\"40507fe1-85be-4ae1-80a0-034435acbeb3\",\"type\":\"BasicTicker\"}},\"id\":\"11024f5b-3687-46b5-9d27-627e26becf77\",\"type\":\"LinearAxis\"},{\"attributes\":{},\"id\":\"a9cf3e06-26b6-42c8-a7ec-202cfe5c3af4\",\"type\":\"LinearScale\"},{\"attributes\":{\"dimension\":1,\"plot\":{\"id\":\"e7930c3d-4880-4a6f-bbde-249d29b843f5\",\"subtype\":\"Figure\",\"type\":\"Plot\"},\"ticker\":{\"id\":\"68396dbe-a343-4bf9-be8e-2cb6530e8cc3\",\"type\":\"BasicTicker\"}},\"id\":\"5422eeb6-16a4-40bb-a121-f5b93d486c1b\",\"type\":\"Grid\"},{\"attributes\":{\"plot\":{\"id\":\"e7930c3d-4880-4a6f-bbde-249d29b843f5\",\"subtype\":\"Figure\",\"type\":\"Plot\"},\"ticker\":{\"id\":\"40507fe1-85be-4ae1-80a0-034435acbeb3\",\"type\":\"BasicTicker\"}},\"id\":\"ef1deb32-b954-45d4-ba2a-a14e1d81fd18\",\"type\":\"Grid\"},{\"attributes\":{},\"id\":\"45e6b639-c023-410f-9386-406683e46996\",\"type\":\"Selection\"},{\"attributes\":{\"high\":814,\"low\":45,\"palette\":[\"#440154\",\"#440255\",\"#440357\",\"#450558\",\"#45065A\",\"#45085B\",\"#46095C\",\"#460B5E\",\"#460C5F\",\"#460E61\",\"#470F62\",\"#471163\",\"#471265\",\"#471466\",\"#471567\",\"#471669\",\"#47186A\",\"#48196B\",\"#481A6C\",\"#481C6E\",\"#481D6F\",\"#481E70\",\"#482071\",\"#482172\",\"#482273\",\"#482374\",\"#472575\",\"#472676\",\"#472777\",\"#472878\",\"#472A79\",\"#472B7A\",\"#472C7B\",\"#462D7C\",\"#462F7C\",\"#46307D\",\"#46317E\",\"#45327F\",\"#45347F\",\"#453580\",\"#453681\",\"#443781\",\"#443982\",\"#433A83\",\"#433B83\",\"#433C84\",\"#423D84\",\"#423E85\",\"#424085\",\"#414186\",\"#414286\",\"#404387\",\"#404487\",\"#3F4587\",\"#3F4788\",\"#3E4888\",\"#3E4989\",\"#3D4A89\",\"#3D4B89\",\"#3D4C89\",\"#3C4D8A\",\"#3C4E8A\",\"#3B508A\",\"#3B518A\",\"#3A528B\",\"#3A538B\",\"#39548B\",\"#39558B\",\"#38568B\",\"#38578C\",\"#37588C\",\"#37598C\",\"#365A8C\",\"#365B8C\",\"#355C8C\",\"#355D8C\",\"#345E8D\",\"#345F8D\",\"#33608D\",\"#33618D\",\"#32628D\",\"#32638D\",\"#31648D\",\"#31658D\",\"#31668D\",\"#30678D\",\"#30688D\",\"#2F698D\",\"#2F6A8D\",\"#2E6B8E\",\"#2E6C8E\",\"#2E6D8E\",\"#2D6E8E\",\"#2D6F8E\",\"#2C708E\",\"#2C718E\",\"#2C728E\",\"#2B738E\",\"#2B748E\",\"#2A758E\",\"#2A768E\",\"#2A778E\",\"#29788E\",\"#29798E\",\"#287A8E\",\"#287A8E\",\"#287B8E\",\"#277C8E\",\"#277D8E\",\"#277E8E\",\"#267F8E\",\"#26808E\",\"#26818E\",\"#25828E\",\"#25838D\",\"#24848D\",\"#24858D\",\"#24868D\",\"#23878D\",\"#23888D\",\"#23898D\",\"#22898D\",\"#228A8D\",\"#228B8D\",\"#218C8D\",\"#218D8C\",\"#218E8C\",\"#208F8C\",\"#20908C\",\"#20918C\",\"#1F928C\",\"#1F938B\",\"#1F948B\",\"#1F958B\",\"#1F968B\",\"#1E978A\",\"#1E988A\",\"#1E998A\",\"#1E998A\",\"#1E9A89\",\"#1E9B89\",\"#1E9C89\",\"#1E9D88\",\"#1E9E88\",\"#1E9F88\",\"#1EA087\",\"#1FA187\",\"#1FA286\",\"#1FA386\",\"#20A485\",\"#20A585\",\"#21A685\",\"#21A784\",\"#22A784\",\"#23A883\",\"#23A982\",\"#24AA82\",\"#25AB81\",\"#26AC81\",\"#27AD80\",\"#28AE7F\",\"#29AF7F\",\"#2AB07E\",\"#2BB17D\",\"#2CB17D\",\"#2EB27C\",\"#2FB37B\",\"#30B47A\",\"#32B57A\",\"#33B679\",\"#35B778\",\"#36B877\",\"#38B976\",\"#39B976\",\"#3BBA75\",\"#3DBB74\",\"#3EBC73\",\"#40BD72\",\"#42BE71\",\"#44BE70\",\"#45BF6F\",\"#47C06E\",\"#49C16D\",\"#4BC26C\",\"#4DC26B\",\"#4FC369\",\"#51C468\",\"#53C567\",\"#55C666\",\"#57C665\",\"#59C764\",\"#5BC862\",\"#5EC961\",\"#60C960\",\"#62CA5F\",\"#64CB5D\",\"#67CC5C\",\"#69CC5B\",\"#6BCD59\",\"#6DCE58\",\"#70CE56\",\"#72CF55\",\"#74D054\",\"#77D052\",\"#79D151\",\"#7CD24F\",\"#7ED24E\",\"#81D34C\",\"#83D34B\",\"#86D449\",\"#88D547\",\"#8BD546\",\"#8DD644\",\"#90D643\",\"#92D741\",\"#95D73F\",\"#97D83E\",\"#9AD83C\",\"#9DD93A\",\"#9FD938\",\"#A2DA37\",\"#A5DA35\",\"#A7DB33\",\"#AADB32\",\"#ADDC30\",\"#AFDC2E\",\"#B2DD2C\",\"#B5DD2B\",\"#B7DD29\",\"#BADE27\",\"#BDDE26\",\"#BFDF24\",\"#C2DF22\",\"#C5DF21\",\"#C7E01F\",\"#CAE01E\",\"#CDE01D\",\"#CFE11C\",\"#D2E11B\",\"#D4E11A\",\"#D7E219\",\"#DAE218\",\"#DCE218\",\"#DFE318\",\"#E1E318\",\"#E4E318\",\"#E7E419\",\"#E9E419\",\"#ECE41A\",\"#EEE51B\",\"#F1E51C\",\"#F3E51E\",\"#F6E61F\",\"#F8E621\",\"#FAE622\",\"#FDE724\"]},\"id\":\"72c0a84d-a22f-47a0-8a77-1f7c37fc18ff\",\"type\":\"LinearColorMapper\"},{\"attributes\":{\"color_mapper\":{\"id\":\"72c0a84d-a22f-47a0-8a77-1f7c37fc18ff\",\"type\":\"LinearColorMapper\"},\"dh\":{\"units\":\"data\",\"value\":5.2},\"dw\":{\"units\":\"data\",\"value\":5.2},\"image\":{\"field\":\"image\"},\"x\":{\"value\":0},\"y\":{\"value\":0}},\"id\":\"a7f60db1-812b-4b55-9bb0-52a0044c81d3\",\"type\":\"Image\"},{\"attributes\":{\"callback\":null,\"data\":{\"image\":[{\"__ndarray__\":\"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\",\"dtype\":\"uint16\",\"shape\":[40,40]}]},\"selected\":{\"id\":\"bf918224-aa0b-4e08-ac7c-fdaa1d9c1e6f\",\"type\":\"Selection\"},\"selection_policy\":{\"id\":\"ba66f9e2-813f-4b9f-a670-f166f3098cd9\",\"type\":\"UnionRenderers\"}},\"id\":\"1e0856c9-a486-4ce9-8a38-dd5b769fc954\",\"type\":\"ColumnDataSource\"},{\"attributes\":{},\"id\":\"6ffff15e-008b-44f3-98b8-79c8c48ccd7d\",\"type\":\"LinearScale\"},{\"attributes\":{\"children\":[{\"id\":\"af4a798f-eb44-48ce-bbc4-a089849d3016\",\"subtype\":\"Figure\",\"type\":\"Plot\"},{\"id\":\"e7930c3d-4880-4a6f-bbde-249d29b843f5\",\"subtype\":\"Figure\",\"type\":\"Plot\"}]},\"id\":\"b9f8770b-1659-481d-be7c-daa7ad2a62b4\",\"type\":\"Row\"},{\"attributes\":{\"source\":{\"id\":\"46c517d8-145d-42e6-ac93-a88179ee1dfe\",\"type\":\"ColumnDataSource\"}},\"id\":\"e2568dd9-b6a7-43c5-8c3f-124549906b8b\",\"type\":\"CDSView\"},{\"attributes\":{\"high\":2869,\"low\":44,\"palette\":[\"#440154\",\"#440255\",\"#440357\",\"#450558\",\"#45065A\",\"#45085B\",\"#46095C\",\"#460B5E\",\"#460C5F\",\"#460E61\",\"#470F62\",\"#471163\",\"#471265\",\"#471466\",\"#471567\",\"#471669\",\"#47186A\",\"#48196B\",\"#481A6C\",\"#481C6E\",\"#481D6F\",\"#481E70\",\"#482071\",\"#482172\",\"#482273\",\"#482374\",\"#472575\",\"#472676\",\"#472777\",\"#472878\",\"#472A79\",\"#472B7A\",\"#472C7B\",\"#462D7C\",\"#462F7C\",\"#46307D\",\"#46317E\",\"#45327F\",\"#45347F\",\"#453580\",\"#453681\",\"#443781\",\"#443982\",\"#433A83\",\"#433B83\",\"#433C84\",\"#423D84\",\"#423E85\",\"#424085\",\"#414186\",\"#414286\",\"#404387\",\"#404487\",\"#3F4587\",\"#3F4788\",\"#3E4888\",\"#3E4989\",\"#3D4A89\",\"#3D4B89\",\"#3D4C89\",\"#3C4D8A\",\"#3C4E8A\",\"#3B508A\",\"#3B518A\",\"#3A528B\",\"#3A538B\",\"#39548B\",\"#39558B\",\"#38568B\",\"#38578C\",\"#37588C\",\"#37598C\",\"#365A8C\",\"#365B8C\",\"#355C8C\",\"#355D8C\",\"#345E8D\",\"#345F8D\",\"#33608D\",\"#33618D\",\"#32628D\",\"#32638D\",\"#31648D\",\"#31658D\",\"#31668D\",\"#30678D\",\"#30688D\",\"#2F698D\",\"#2F6A8D\",\"#2E6B8E\",\"#2E6C8E\",\"#2E6D8E\",\"#2D6E8E\",\"#2D6F8E\",\"#2C708E\",\"#2C718E\",\"#2C728E\",\"#2B738E\",\"#2B748E\",\"#2A758E\",\"#2A768E\",\"#2A778E\",\"#29788E\",\"#29798E\",\"#287A8E\",\"#287A8E\",\"#287B8E\",\"#277C8E\",\"#277D8E\",\"#277E8E\",\"#267F8E\",\"#26808E\",\"#26818E\",\"#25828E\",\"#25838D\",\"#24848D\",\"#24858D\",\"#24868D\",\"#23878D\",\"#23888D\",\"#23898D\",\"#22898D\",\"#228A8D\",\"#228B8D\",\"#218C8D\",\"#218D8C\",\"#218E8C\",\"#208F8C\",\"#20908C\",\"#20918C\",\"#1F928C\",\"#1F938B\",\"#1F948B\",\"#1F958B\",\"#1F968B\",\"#1E978A\",\"#1E988A\",\"#1E998A\",\"#1E998A\",\"#1E9A89\",\"#1E9B89\",\"#1E9C89\",\"#1E9D88\",\"#1E9E88\",\"#1E9F88\",\"#1EA087\",\"#1FA187\",\"#1FA286\",\"#1FA386\",\"#20A485\",\"#20A585\",\"#21A685\",\"#21A784\",\"#22A784\",\"#23A883\",\"#23A982\",\"#24AA82\",\"#25AB81\",\"#26AC81\",\"#27AD80\",\"#28AE7F\",\"#29AF7F\",\"#2AB07E\",\"#2BB17D\",\"#2CB17D\",\"#2EB27C\",\"#2FB37B\",\"#30B47A\",\"#32B57A\",\"#33B679\",\"#35B778\",\"#36B877\",\"#38B976\",\"#39B976\",\"#3BBA75\",\"#3DBB74\",\"#3EBC73\",\"#40BD72\",\"#42BE71\",\"#44BE70\",\"#45BF6F\",\"#47C06E\",\"#49C16D\",\"#4BC26C\",\"#4DC26B\",\"#4FC369\",\"#51C468\",\"#53C567\",\"#55C666\",\"#57C665\",\"#59C764\",\"#5BC862\",\"#5EC961\",\"#60C960\",\"#62CA5F\",\"#64CB5D\",\"#67CC5C\",\"#69CC5B\",\"#6BCD59\",\"#6DCE58\",\"#70CE56\",\"#72CF55\",\"#74D054\",\"#77D052\",\"#79D151\",\"#7CD24F\",\"#7ED24E\",\"#81D34C\",\"#83D34B\",\"#86D449\",\"#88D547\",\"#8BD546\",\"#8DD644\",\"#90D643\",\"#92D741\",\"#95D73F\",\"#97D83E\",\"#9AD83C\",\"#9DD93A\",\"#9FD938\",\"#A2DA37\",\"#A5DA35\",\"#A7DB33\",\"#AADB32\",\"#ADDC30\",\"#AFDC2E\",\"#B2DD2C\",\"#B5DD2B\",\"#B7DD29\",\"#BADE27\",\"#BDDE26\",\"#BFDF24\",\"#C2DF22\",\"#C5DF21\",\"#C7E01F\",\"#CAE01E\",\"#CDE01D\",\"#CFE11C\",\"#D2E11B\",\"#D4E11A\",\"#D7E219\",\"#DAE218\",\"#DCE218\",\"#DFE318\",\"#E1E318\",\"#E4E318\",\"#E7E419\",\"#E9E419\",\"#ECE41A\",\"#EEE51B\",\"#F1E51C\",\"#F3E51E\",\"#F6E61F\",\"#F8E621\",\"#FAE622\",\"#FDE724\"]},\"id\":\"c84d376d-f194-41ea-b67e-05fd4270cf8c\",\"type\":\"LinearColorMapper\"},{\"attributes\":{\"data_source\":{\"id\":\"46c517d8-145d-42e6-ac93-a88179ee1dfe\",\"type\":\"ColumnDataSource\"},\"glyph\":{\"id\":\"c9b954b2-aed0-4ceb-8eaa-80bc1aba43f7\",\"type\":\"Image\"},\"hover_glyph\":null,\"muted_glyph\":null,\"nonselection_glyph\":{\"id\":\"ce96177a-88ec-4fbd-9e15-7f0d110fc048\",\"type\":\"Image\"},\"selection_glyph\":null,\"view\":{\"id\":\"e2568dd9-b6a7-43c5-8c3f-124549906b8b\",\"type\":\"CDSView\"}},\"id\":\"21bd0ba3-eea2-4d43-8c36-bcd948c54f65\",\"type\":\"GlyphRenderer\"},{\"attributes\":{},\"id\":\"68396dbe-a343-4bf9-be8e-2cb6530e8cc3\",\"type\":\"BasicTicker\"},{\"attributes\":{},\"id\":\"2b772b95-90ff-4061-8d44-b495605be383\",\"type\":\"PanTool\"},{\"attributes\":{\"bottom_units\":\"screen\",\"fill_alpha\":{\"value\":0.5},\"fill_color\":{\"value\":\"lightgrey\"},\"left_units\":\"screen\",\"level\":\"overlay\",\"line_alpha\":{\"value\":1.0},\"line_color\":{\"value\":\"black\"},\"line_dash\":[4,4],\"line_width\":{\"value\":2},\"plot\":null,\"render_mode\":\"css\",\"right_units\":\"screen\",\"top_units\":\"screen\"},\"id\":\"ad722254-cf28-4b8b-a894-0f3a069906be\",\"type\":\"BoxAnnotation\"},{\"attributes\":{\"color_mapper\":{\"id\":\"c84d376d-f194-41ea-b67e-05fd4270cf8c\",\"type\":\"LinearColorMapper\"},\"dh\":{\"units\":\"data\",\"value\":16.64},\"dw\":{\"units\":\"data\",\"value\":16.64},\"image\":{\"field\":\"image\"},\"x\":{\"value\":0},\"y\":{\"value\":0}},\"id\":\"ce96177a-88ec-4fbd-9e15-7f0d110fc048\",\"type\":\"Image\"},{\"attributes\":{\"data_source\":{\"id\":\"1e0856c9-a486-4ce9-8a38-dd5b769fc954\",\"type\":\"ColumnDataSource\"},\"glyph\":{\"id\":\"a7f60db1-812b-4b55-9bb0-52a0044c81d3\",\"type\":\"Image\"},\"hover_glyph\":null,\"muted_glyph\":null,\"nonselection_glyph\":{\"id\":\"24b17691-ea4e-443e-98af-8c2d9d680186\",\"type\":\"Image\"},\"selection_glyph\":null,\"view\":{\"id\":\"3349d582-3ff9-4eab-bc8c-d5e3edd51d1e\",\"type\":\"CDSView\"}},\"id\":\"fd1449df-3a23-49d2-b553-16f8c2ae9807\",\"type\":\"GlyphRenderer\"},{\"attributes\":{\"source\":{\"id\":\"1e0856c9-a486-4ce9-8a38-dd5b769fc954\",\"type\":\"ColumnDataSource\"}},\"id\":\"3349d582-3ff9-4eab-bc8c-d5e3edd51d1e\",\"type\":\"CDSView\"},{\"attributes\":{},\"id\":\"3061841b-0c93-422c-9c40-39f97cc30106\",\"type\":\"WheelZoomTool\"},{\"attributes\":{\"bottom_units\":\"screen\",\"fill_alpha\":{\"value\":0.5},\"fill_color\":{\"value\":\"lightgrey\"},\"left_units\":\"screen\",\"level\":\"overlay\",\"line_alpha\":{\"value\":1.0},\"line_color\":{\"value\":\"black\"},\"line_dash\":[4,4],\"line_width\":{\"value\":2},\"plot\":null,\"render_mode\":\"css\",\"right_units\":\"screen\",\"top_units\":\"screen\"},\"id\":\"70d974f1-8623-444f-b901-d2586b512e66\",\"type\":\"BoxAnnotation\"},{\"attributes\":{\"overlay\":{\"id\":\"ad722254-cf28-4b8b-a894-0f3a069906be\",\"type\":\"BoxAnnotation\"}},\"id\":\"4e5f219d-7964-4d1f-b6cd-5b9378731cb5\",\"type\":\"BoxZoomTool\"},{\"attributes\":{\"color_mapper\":{\"id\":\"c84d376d-f194-41ea-b67e-05fd4270cf8c\",\"type\":\"LinearColorMapper\"},\"dh\":{\"units\":\"data\",\"value\":16.64},\"dw\":{\"units\":\"data\",\"value\":16.64},\"image\":{\"field\":\"image\"},\"x\":{\"value\":0},\"y\":{\"value\":0}},\"id\":\"c9b954b2-aed0-4ceb-8eaa-80bc1aba43f7\",\"type\":\"Image\"},{\"attributes\":{},\"id\":\"80f02c22-d9af-4ca7-a771-8a4ae5ba31fe\",\"type\":\"ResetTool\"},{\"attributes\":{\"plot\":null,\"text\":\"original\"},\"id\":\"d2f737b5-ff30-48c9-90bb-af622c0d6151\",\"type\":\"Title\"}],\"root_ids\":[\"0ba2be4b-c73a-4c9e-b949-0b623ebaf292\"]},\"title\":\"Bokeh Application\",\"version\":\"0.13.0\"}};\n",
       "  var render_items = [{\"docid\":\"4db94382-e995-4b8e-b8e2-0b17c0338b60\",\"roots\":{\"0ba2be4b-c73a-4c9e-b949-0b623ebaf292\":\"cc3a1178-590e-4cc5-9f02-ad2747d0f2e3\"}}];\n",
       "  root.Bokeh.embed.embed_items_notebook(docs_json, render_items);\n",
       "\n",
       "  }\n",
       "  if (root.Bokeh !== undefined) {\n",
       "    embed_document(root);\n",
       "  } else {\n",
       "    var attempts = 0;\n",
       "    var timer = setInterval(function(root) {\n",
       "      if (root.Bokeh !== undefined) {\n",
       "        embed_document(root);\n",
       "        clearInterval(timer);\n",
       "      }\n",
       "      attempts++;\n",
       "      if (attempts > 100) {\n",
       "        console.log(\"Bokeh: ERROR: Unable to run BokehJS code because BokehJS library is missing\")\n",
       "        clearInterval(timer);\n",
       "      }\n",
       "    }, 10, root)\n",
       "  }\n",
       "})(window);"
      ],
      "application/vnd.bokehjs_exec.v0+json": ""
     },
     "metadata": {
      "application/vnd.bokehjs_exec.v0+json": {
       "id": "0ba2be4b-c73a-4c9e-b949-0b623ebaf292"
      }
     },
     "output_type": "display_data"
    }
   ],
   "source": [
    "x_center, y_center = find_roi(ic)\n",
    "roi = get_box_given_center(x_center, y_center, 20)\n",
    "\n",
    "bokeh.io.show(show_two_ims(ic[20], ic[20][roi], titles=['original', 'ROI']))"
   ]
  },
  {
   "cell_type": "markdown",
   "metadata": {},
   "source": [
    "Now that we have our ROI, we can plot at the total intensity over time of that box. First, let's make a array for time for our x-axis, since we know from the README that each frame is captured every 0.188 s."
   ]
  },
  {
   "cell_type": "code",
   "execution_count": 8,
   "metadata": {},
   "outputs": [],
   "source": [
    "# Set up an array for time\n",
    "t = np.linspace(0, len(ic) * 0.188, len(ic))"
   ]
  },
  {
   "cell_type": "markdown",
   "metadata": {},
   "source": [
    "Now let's calculate total intensity over time and plot it."
   ]
  },
  {
   "cell_type": "code",
   "execution_count": 9,
   "metadata": {},
   "outputs": [
    {
     "data": {
      "text/html": [
       "\n",
       "\n",
       "\n",
       "\n",
       "\n",
       "\n",
       "  <div class=\"bk-root\" id=\"06f3f611-afd0-4687-a658-f74606a84223\"></div>\n"
      ]
     },
     "metadata": {},
     "output_type": "display_data"
    },
    {
     "data": {
      "application/javascript": [
       "(function(root) {\n",
       "  function embed_document(root) {\n",
       "    \n",
       "  var docs_json = {\"575994d2-da42-4dd1-b926-d845bdcd539e\":{\"roots\":{\"references\":[{\"attributes\":{},\"id\":\"be280256-be35-45f2-b714-a390e57f7b9b\",\"type\":\"BasicTickFormatter\"},{\"attributes\":{},\"id\":\"5441613e-cf6b-4999-b31f-faa580c1dcab\",\"type\":\"LinearScale\"},{\"attributes\":{},\"id\":\"79046aa2-b1fd-484a-b949-62561381ec1e\",\"type\":\"Selection\"},{\"attributes\":{\"plot\":null,\"text\":\"\"},\"id\":\"052617ea-a076-48d8-a8e4-61f267428341\",\"type\":\"Title\"},{\"attributes\":{\"line_color\":\"#1f77b4\",\"line_width\":2,\"x\":{\"field\":\"x\"},\"y\":{\"field\":\"y\"}},\"id\":\"583b3752-1151-44e3-8c77-c511c96e79a0\",\"type\":\"Line\"},{\"attributes\":{\"axis_label\":\"total intensity\",\"formatter\":{\"id\":\"be280256-be35-45f2-b714-a390e57f7b9b\",\"type\":\"BasicTickFormatter\"},\"plot\":{\"id\":\"2ece3cb6-aa0e-4a9b-ae2d-ff30938ab612\",\"subtype\":\"Figure\",\"type\":\"Plot\"},\"ticker\":{\"id\":\"1036c004-3d46-4fc1-86f3-620d85fbed88\",\"type\":\"BasicTicker\"}},\"id\":\"90d09ae4-db2e-4a29-812e-2b2e2b911b85\",\"type\":\"LinearAxis\"},{\"attributes\":{},\"id\":\"1036c004-3d46-4fc1-86f3-620d85fbed88\",\"type\":\"BasicTicker\"},{\"attributes\":{\"axis_label\":\"time (s)\",\"formatter\":{\"id\":\"fe100f9d-0e7e-4912-a238-66ec951f8aea\",\"type\":\"BasicTickFormatter\"},\"plot\":{\"id\":\"2ece3cb6-aa0e-4a9b-ae2d-ff30938ab612\",\"subtype\":\"Figure\",\"type\":\"Plot\"},\"ticker\":{\"id\":\"5eadb1ca-e692-427e-bf20-3fd0a3bc927e\",\"type\":\"BasicTicker\"}},\"id\":\"1a7dcbee-94c4-46b6-a188-b69183d54040\",\"type\":\"LinearAxis\"},{\"attributes\":{\"dimension\":1,\"plot\":{\"id\":\"2ece3cb6-aa0e-4a9b-ae2d-ff30938ab612\",\"subtype\":\"Figure\",\"type\":\"Plot\"},\"ticker\":{\"id\":\"1036c004-3d46-4fc1-86f3-620d85fbed88\",\"type\":\"BasicTicker\"}},\"id\":\"b57fa29e-6ed5-4516-8f6c-e6ef064c22f6\",\"type\":\"Grid\"},{\"attributes\":{},\"id\":\"5eadb1ca-e692-427e-bf20-3fd0a3bc927e\",\"type\":\"BasicTicker\"},{\"attributes\":{\"line_alpha\":0.1,\"line_color\":\"#1f77b4\",\"line_width\":2,\"x\":{\"field\":\"x\"},\"y\":{\"field\":\"y\"}},\"id\":\"b34957be-b060-4f95-82ca-cdf4cd03d692\",\"type\":\"Line\"},{\"attributes\":{\"callback\":null},\"id\":\"791c5e1d-34d4-4167-9f59-6cf39c53240e\",\"type\":\"DataRange1d\"},{\"attributes\":{\"active_drag\":\"auto\",\"active_inspect\":\"auto\",\"active_multi\":null,\"active_scroll\":\"auto\",\"active_tap\":\"auto\",\"tools\":[{\"id\":\"48f9131d-ca95-4162-9939-c731797a67a0\",\"type\":\"PanTool\"},{\"id\":\"b79d74c2-b1f9-46f2-80ae-4793f1704043\",\"type\":\"WheelZoomTool\"},{\"id\":\"378ffb1b-22c3-4c33-b717-eeb5d87b0e55\",\"type\":\"BoxZoomTool\"},{\"id\":\"47ac5854-f3de-43c3-a257-67fee08193ba\",\"type\":\"SaveTool\"},{\"id\":\"35082450-fdcb-42ff-aec6-2f2f3c79a7ec\",\"type\":\"ResetTool\"},{\"id\":\"33445c76-a9df-4075-957b-d03a18f60970\",\"type\":\"HelpTool\"}]},\"id\":\"bae9db04-3ccc-4b1e-94e4-c0040cd82cef\",\"type\":\"Toolbar\"},{\"attributes\":{\"callback\":null,\"data\":{\"x\":{\"__ndarray__\":\"AAAAAAAAAADyO3UaAjrIP/I7dRoCOtg/9uzXk4Er4j/yO3UaAjroP+6KEqGCSO4/9uzXk4Er8j90lCbXwTL1P/I7dRoCOvg/cOPDXUJB+z/uihKhgkj+PzaZMHLhpwBA9uzXk4ErAkC1QH+1Ia8DQHSUJtfBMgVAM+jN+GG2BkDyO3UaAjoIQLGPHDyivQlAcOPDXUJBC0AvN2t/4sQMQO6KEqGCSA5Art65wiLMD0A2mTBy4acQQBZDBIOxaRFA9uzXk4ErEkDVlqukUe0SQLVAf7UhrxNAlOpSxvFwFEB0lCbXwTIVQFM++ueR9BVAM+jN+GG2FkASkqEJMngXQPI7dRoCOhhA0uVIK9L7GECxjxw8or0ZQJE58ExyfxpAcOPDXUJBG0BQjZduEgMcQC83a3/ixBxAD+E+kLKGHUDuihKhgkgeQM405rFSCh9Art65wiLMH0BHxMZp+UYgQDaZMHLhpyBAJm6aeskIIUAWQwSDsWkhQAYYbouZyiFA9uzXk4ErIkDlwUGcaYwiQNWWq6RR7SJAxWsVrTlOI0C1QH+1Ia8jQKQV6b0JECRAlOpSxvFwJECEv7zO2dEkQHSUJtfBMiVAZGmQ36mTJUBTPvrnkfQlQEMTZPB5VSZAM+jN+GG2JkAjvTcBShcnQBKSoQkyeCdAAmcLEhrZJ0DyO3UaAjooQOIQ3yLqmihA0uVIK9L7KEDBurIzulwpQLGPHDyivSlAoWSGRIoeKkCROfBMcn8qQIAOWlVa4CpAcOPDXUJBK0BguC1mKqIrQFCNl24SAyxAQGIBd/pjLEAvN2t/4sQsQB8M1YfKJS1AD+E+kLKGLUD/taiYmuctQO6KEqGCSC5A3l98qWqpLkDONOaxUgovQL4JULo6ay9Art65wiLML0DP2ZFlhRYwQEfExmn5RjBAvq77bW13MEA2mTBy4acwQK6DZXZV2DBAJm6aeskIMUCeWM9+PTkxQBZDBIOxaTFAji05hyWaMUAGGG6LmcoxQH4Co48N+zFA9uzXk4ErMkBt1wyY9VsyQOXBQZxpjDJAXax2oN28MkDVlqukUe0yQE2B4KjFHTNAxWsVrTlOM0A9VkqxrX4zQLVAf7UhrzNALSu0uZXfM0CkFem9CRA0QBwAHsJ9QDRAlOpSxvFwNEAM1YfKZaE0QIS/vM7Z0TRA/Knx0k0CNUB0lCbXwTI1QOx+W9s1YzVAZGmQ36mTNUDbU8XjHcQ1QFM++ueR9DVAyygv7AUlNkBDE2TweVU2QLv9mPTthTZAM+jN+GG2NkCr0gL91eY2QCO9NwFKFzdAm6dsBb5HN0ASkqEJMng3QIp81g2mqDdAAmcLEhrZN0B6UUAWjgk4QPI7dRoCOjhAaiaqHnZqOEDiEN8i6po4QFr7EydeyzhA0uVIK9L7OEBJ0H0vRiw5QMG6sjO6XDlAOaXnNy6NOUCxjxw8or05QCl6UUAW7jlAoWSGRIoeOkAZT7tI/k46QJE58ExyfzpACSQlUeavOkCADlpVWuA6QPj4jlnOEDtAcOPDXUJBO0DozfhhtnE7QGC4LWYqojtA2KJiap7SO0BQjZduEgM8QA==\",\"dtype\":\"float64\",\"shape\":[149]},\"y\":{\"__ndarray__\":\"AAAAAG8zM0EAAAAA+7YyQQAAAAAf+TJBAAAAABw7M0EAAAAA/skyQQAAAADA+jJBAAAAAKbzMkEAAAAAhvIyQQAAAACtCTNBAAAAADTrMkEAAAAAPbQyQQAAAAD2QDNBAAAAAP6tMkEAAAAAxN4yQQAAAAAIEDNBAAAAAIfTMkEAAAAAtkUzQQAAAAAgSjJBAAAAAKHWMkEAAAAApLgyQQAAAAAAvwpBAAAAAJheEkEAAAAAvC4XQQAAAABIPBtBAAAAAOB+HkEAAAAAcCchQQAAAADsdSJBAAAAAH5uI0EAAAAA6BolQQAAAADG1yVBAAAAALaQJ0EAAAAA4JAoQQAAAABuSylBAAAAAEa1KUEAAAAA1LoqQQAAAACGaypBAAAAAO6zKkEAAAAAVn4sQQAAAAD4VyxBAAAAADzoLEEAAAAAdnMtQQAAAADeOS5BAAAAAIwJLkEAAAAA7hsuQQAAAAAygS5BAAAAAI7FLkEAAAAApI4uQQAAAABmXS9BAAAAAPYsL0EAAAAAqo4vQQAAAACk9i9BAAAAAPqwL0EAAAAAZhgwQQAAAABTZTBBAAAAAO84MEEAAAAAS3UwQQAAAAD2tjBBAAAAAHo9MEEAAAAABkMwQQAAAADlmjBBAAAAAMaIMEEAAAAAaVYwQQAAAAD/6DBBAAAAAN2HMEEAAAAAHaUwQQAAAAC3ZDFBAAAAAMsaMUEAAAAAE8MwQQAAAADSSjFBAAAAAJe2MEEAAAAAXSoxQQAAAADUujBBAAAAAPQfMUEAAAAAzVkxQQAAAAD7PjFBAAAAAH/+MEEAAAAAeIAxQQAAAADM9zBBAAAAAP44MUEAAAAABg4xQQAAAAAEPTFBAAAAANIyMUEAAAAAhbAxQQAAAACbUjFBAAAAAPB/MUEAAAAACtAxQQAAAAAqpDFBAAAAAFyIMUEAAAAABLAxQQAAAADYwjFBAAAAACTmMUEAAAAAfw0yQQAAAACVHDJBAAAAAIALMkEAAAAA1NsxQQAAAACnrTFBAAAAANOkMUEAAAAAltMxQQAAAAD3MjJBAAAAAOKpMUEAAAAAZRsyQQAAAABD1zFBAAAAADZ9MUEAAAAAMd4xQQAAAAD31DFBAAAAAIGwMUEAAAAAo+UxQQAAAABv4TFBAAAAAHmvMUEAAAAAurwxQQAAAAAx2zFBAAAAAAPLMUEAAAAA6OQxQQAAAACUnzFBAAAAAML6MUEAAAAAiMIxQQAAAABkyzFBAAAAAFPyMUEAAAAAB8UxQQAAAAD/3DFBAAAAAAsMMkEAAAAAXfYxQQAAAACQujFBAAAAAOerMUEAAAAAnPYxQQAAAADZgjFBAAAAAIPFMUEAAAAAQaUxQQAAAAAcZTFBAAAAAAUmMkEAAAAA9ogxQQAAAABQqzFBAAAAAMR2MUEAAAAAfLsxQQAAAAAmsTFBAAAAAJS3MUEAAAAArkkxQQAAAACHnTFBAAAAAKzjMUEAAAAADegxQQAAAAAl5jFBAAAAAG1WMUEAAAAAWM0xQQAAAAAxzDFBAAAAADXzMUEAAAAAMtExQQAAAAA03zFBAAAAAEaIMUEAAAAAa9gxQQ==\",\"dtype\":\"float64\",\"shape\":[149]}},\"selected\":{\"id\":\"79046aa2-b1fd-484a-b949-62561381ec1e\",\"type\":\"Selection\"},\"selection_policy\":{\"id\":\"da26cba6-36a0-41f6-af5c-f40401a0d45c\",\"type\":\"UnionRenderers\"}},\"id\":\"a6a555f2-f51a-4d36-9762-0da0c122b643\",\"type\":\"ColumnDataSource\"},{\"attributes\":{\"source\":{\"id\":\"a6a555f2-f51a-4d36-9762-0da0c122b643\",\"type\":\"ColumnDataSource\"}},\"id\":\"5cd2004c-eca2-4929-98c8-1f8d22efdfed\",\"type\":\"CDSView\"},{\"attributes\":{},\"id\":\"48f9131d-ca95-4162-9939-c731797a67a0\",\"type\":\"PanTool\"},{\"attributes\":{\"data_source\":{\"id\":\"a6a555f2-f51a-4d36-9762-0da0c122b643\",\"type\":\"ColumnDataSource\"},\"glyph\":{\"id\":\"583b3752-1151-44e3-8c77-c511c96e79a0\",\"type\":\"Line\"},\"hover_glyph\":null,\"muted_glyph\":null,\"nonselection_glyph\":{\"id\":\"b34957be-b060-4f95-82ca-cdf4cd03d692\",\"type\":\"Line\"},\"selection_glyph\":null,\"view\":{\"id\":\"5cd2004c-eca2-4929-98c8-1f8d22efdfed\",\"type\":\"CDSView\"}},\"id\":\"399de14d-125e-4a6c-aa47-b349234edcdd\",\"type\":\"GlyphRenderer\"},{\"attributes\":{},\"id\":\"b79d74c2-b1f9-46f2-80ae-4793f1704043\",\"type\":\"WheelZoomTool\"},{\"attributes\":{},\"id\":\"48730180-94da-470c-90cc-1969cee556aa\",\"type\":\"LinearScale\"},{\"attributes\":{\"callback\":null},\"id\":\"b06cfb7d-590f-45c1-8e8f-318cd4de9d40\",\"type\":\"DataRange1d\"},{\"attributes\":{\"overlay\":{\"id\":\"5f65df29-83eb-47fe-8517-b722f7666e08\",\"type\":\"BoxAnnotation\"}},\"id\":\"378ffb1b-22c3-4c33-b717-eeb5d87b0e55\",\"type\":\"BoxZoomTool\"},{\"attributes\":{\"below\":[{\"id\":\"1a7dcbee-94c4-46b6-a188-b69183d54040\",\"type\":\"LinearAxis\"}],\"left\":[{\"id\":\"90d09ae4-db2e-4a29-812e-2b2e2b911b85\",\"type\":\"LinearAxis\"}],\"plot_height\":300,\"plot_width\":500,\"renderers\":[{\"id\":\"1a7dcbee-94c4-46b6-a188-b69183d54040\",\"type\":\"LinearAxis\"},{\"id\":\"24c54c9a-7fbd-4f29-9a3a-2848ce311f2f\",\"type\":\"Grid\"},{\"id\":\"90d09ae4-db2e-4a29-812e-2b2e2b911b85\",\"type\":\"LinearAxis\"},{\"id\":\"b57fa29e-6ed5-4516-8f6c-e6ef064c22f6\",\"type\":\"Grid\"},{\"id\":\"5f65df29-83eb-47fe-8517-b722f7666e08\",\"type\":\"BoxAnnotation\"},{\"id\":\"399de14d-125e-4a6c-aa47-b349234edcdd\",\"type\":\"GlyphRenderer\"}],\"title\":{\"id\":\"052617ea-a076-48d8-a8e4-61f267428341\",\"type\":\"Title\"},\"toolbar\":{\"id\":\"bae9db04-3ccc-4b1e-94e4-c0040cd82cef\",\"type\":\"Toolbar\"},\"x_range\":{\"id\":\"b06cfb7d-590f-45c1-8e8f-318cd4de9d40\",\"type\":\"DataRange1d\"},\"x_scale\":{\"id\":\"48730180-94da-470c-90cc-1969cee556aa\",\"type\":\"LinearScale\"},\"y_range\":{\"id\":\"791c5e1d-34d4-4167-9f59-6cf39c53240e\",\"type\":\"DataRange1d\"},\"y_scale\":{\"id\":\"5441613e-cf6b-4999-b31f-faa580c1dcab\",\"type\":\"LinearScale\"}},\"id\":\"2ece3cb6-aa0e-4a9b-ae2d-ff30938ab612\",\"subtype\":\"Figure\",\"type\":\"Plot\"},{\"attributes\":{},\"id\":\"47ac5854-f3de-43c3-a257-67fee08193ba\",\"type\":\"SaveTool\"},{\"attributes\":{\"plot\":{\"id\":\"2ece3cb6-aa0e-4a9b-ae2d-ff30938ab612\",\"subtype\":\"Figure\",\"type\":\"Plot\"},\"ticker\":{\"id\":\"5eadb1ca-e692-427e-bf20-3fd0a3bc927e\",\"type\":\"BasicTicker\"}},\"id\":\"24c54c9a-7fbd-4f29-9a3a-2848ce311f2f\",\"type\":\"Grid\"},{\"attributes\":{},\"id\":\"35082450-fdcb-42ff-aec6-2f2f3c79a7ec\",\"type\":\"ResetTool\"},{\"attributes\":{},\"id\":\"33445c76-a9df-4075-957b-d03a18f60970\",\"type\":\"HelpTool\"},{\"attributes\":{},\"id\":\"fe100f9d-0e7e-4912-a238-66ec951f8aea\",\"type\":\"BasicTickFormatter\"},{\"attributes\":{},\"id\":\"da26cba6-36a0-41f6-af5c-f40401a0d45c\",\"type\":\"UnionRenderers\"},{\"attributes\":{\"bottom_units\":\"screen\",\"fill_alpha\":{\"value\":0.5},\"fill_color\":{\"value\":\"lightgrey\"},\"left_units\":\"screen\",\"level\":\"overlay\",\"line_alpha\":{\"value\":1.0},\"line_color\":{\"value\":\"black\"},\"line_dash\":[4,4],\"line_width\":{\"value\":2},\"plot\":null,\"render_mode\":\"css\",\"right_units\":\"screen\",\"top_units\":\"screen\"},\"id\":\"5f65df29-83eb-47fe-8517-b722f7666e08\",\"type\":\"BoxAnnotation\"}],\"root_ids\":[\"2ece3cb6-aa0e-4a9b-ae2d-ff30938ab612\"]},\"title\":\"Bokeh Application\",\"version\":\"0.13.0\"}};\n",
       "  var render_items = [{\"docid\":\"575994d2-da42-4dd1-b926-d845bdcd539e\",\"roots\":{\"2ece3cb6-aa0e-4a9b-ae2d-ff30938ab612\":\"06f3f611-afd0-4687-a658-f74606a84223\"}}];\n",
       "  root.Bokeh.embed.embed_items_notebook(docs_json, render_items);\n",
       "\n",
       "  }\n",
       "  if (root.Bokeh !== undefined) {\n",
       "    embed_document(root);\n",
       "  } else {\n",
       "    var attempts = 0;\n",
       "    var timer = setInterval(function(root) {\n",
       "      if (root.Bokeh !== undefined) {\n",
       "        embed_document(root);\n",
       "        clearInterval(timer);\n",
       "      }\n",
       "      attempts++;\n",
       "      if (attempts > 100) {\n",
       "        console.log(\"Bokeh: ERROR: Unable to run BokehJS code because BokehJS library is missing\")\n",
       "        clearInterval(timer);\n",
       "      }\n",
       "    }, 10, root)\n",
       "  }\n",
       "})(window);"
      ],
      "application/vnd.bokehjs_exec.v0+json": ""
     },
     "metadata": {
      "application/vnd.bokehjs_exec.v0+json": {
       "id": "2ece3cb6-aa0e-4a9b-ae2d-ff30938ab612"
      }
     },
     "output_type": "display_data"
    }
   ],
   "source": [
    "# Set up NumPy array to store total pixel intensity\n",
    "total_int = np.empty(len(ic))\n",
    "\n",
    "# Look through and compute total intensity in the ROI\n",
    "for i, im in enumerate(ic):\n",
    "    total_int[i] = ic[i][roi].sum() \n",
    "    \n",
    "p = bokeh.plotting.figure(plot_width=500,\n",
    "                          plot_height=300,\n",
    "                          x_axis_label='time (s)', \n",
    "                          y_axis_label='total intensity')\n",
    "\n",
    "p.line(t, total_int, line_width=2, line_join='bevel')\n",
    "\n",
    "bokeh.io.show(p)"
   ]
  },
  {
   "cell_type": "markdown",
   "metadata": {},
   "source": [
    "This looks like what we expect. After photobleaching, the intensity of the box drops dramatically but recovers over time. Now let's normalize the total intensity. To do this, we can look at the first 19 frames, before photobleaching, and compute the mean total intensity of the bleached area before it is bleached. We want to look at multiple frames as there is noise over time, and the intensity of the ROI will change over time. "
   ]
  },
  {
   "cell_type": "code",
   "execution_count": 10,
   "metadata": {},
   "outputs": [],
   "source": [
    "def compute_normalization_value(ic, roi, n_frames):\n",
    "    '''Takes the first n frames in the image stack to compute\n",
    "    the average intensity of an ROI over all the frames.'''\n",
    "    # Set up NumPy array to store total pixel intensity\n",
    "    total_int = np.empty(len(ic[:n_frames]))\n",
    "    \n",
    "    # Sum intensities in first n frames in ROI\n",
    "    for i, im in enumerate(ic[:n_frames]):\n",
    "        total_int[i] = im[roi].sum()\n",
    "\n",
    "    # Return the mean intensity of the ROI\n",
    "    return np.mean(total_int)"
   ]
  },
  {
   "cell_type": "markdown",
   "metadata": {},
   "source": [
    "Now to compute the normalized intensity, we just need to divide the intensity we obtained before by the normalization value."
   ]
  },
  {
   "cell_type": "code",
   "execution_count": 11,
   "metadata": {},
   "outputs": [],
   "source": [
    "def compute_normalized_intensity(ic, roi, int_0):  \n",
    "    '''Takes the an image stack, a normalization factor, and an\n",
    "    ROI to compute the normalized intensity over time for\n",
    "    all frames. Returns the normalized intensity for each frame.'''\n",
    "    # Set up NumPy array to store total pixel intensity\n",
    "    total_int = np.empty(len(ic))\n",
    "    \n",
    "    # Set up Numpy array to store time in image stack\n",
    "    t = np.linspace(0, len(ic) * 0.188, len(ic))\n",
    "\n",
    "    # Look through and compute total intensity in the ROI\n",
    "    for i, im in enumerate(ic):\n",
    "        total_int[i] = im[roi].sum() / int_0\n",
    "    \n",
    "    return total_int"
   ]
  },
  {
   "cell_type": "markdown",
   "metadata": {},
   "source": [
    "Let's plot the normalized intensity. "
   ]
  },
  {
   "cell_type": "code",
   "execution_count": 12,
   "metadata": {},
   "outputs": [
    {
     "data": {
      "text/html": [
       "\n",
       "\n",
       "\n",
       "\n",
       "\n",
       "\n",
       "  <div class=\"bk-root\" id=\"63c3bde3-38ca-4d2e-99e9-b14944b58959\"></div>\n"
      ]
     },
     "metadata": {},
     "output_type": "display_data"
    },
    {
     "data": {
      "application/javascript": [
       "(function(root) {\n",
       "  function embed_document(root) {\n",
       "    \n",
       "  var docs_json = {\"809ed48b-e86e-4177-9ca9-bd3c45abb533\":{\"roots\":{\"references\":[{\"attributes\":{\"source\":{\"id\":\"2a36422e-eae1-41fe-91e5-3cb5690b1a69\",\"type\":\"ColumnDataSource\"}},\"id\":\"6fe4e897-8a81-41cf-9583-540cdf26f26a\",\"type\":\"CDSView\"},{\"attributes\":{\"line_alpha\":0.1,\"line_color\":\"#1f77b4\",\"line_width\":2,\"x\":{\"field\":\"x\"},\"y\":{\"field\":\"y\"}},\"id\":\"e4043a2a-8c52-4a0c-814d-31b09f52321a\",\"type\":\"Line\"},{\"attributes\":{},\"id\":\"cdc4e70d-2ea1-4539-92e0-d6b78157c6c1\",\"type\":\"PanTool\"},{\"attributes\":{\"axis_label\":\"normalized total intensity\",\"formatter\":{\"id\":\"2537e5eb-b772-4086-a927-80dc0c5ff8c6\",\"type\":\"BasicTickFormatter\"},\"plot\":{\"id\":\"2e6d3433-ec61-40ed-a000-5d951e41a425\",\"subtype\":\"Figure\",\"type\":\"Plot\"},\"ticker\":{\"id\":\"6085be7d-3b0c-4f79-9018-2625552b16fc\",\"type\":\"BasicTicker\"}},\"id\":\"233f53ee-6142-40b7-b45c-d34424703547\",\"type\":\"LinearAxis\"},{\"attributes\":{},\"id\":\"a65ef4fb-1c7f-4a3c-a03f-0e45d95f8690\",\"type\":\"LinearScale\"},{\"attributes\":{\"overlay\":{\"id\":\"c30aabfc-5c25-4c04-bf40-e818e800f815\",\"type\":\"BoxAnnotation\"}},\"id\":\"1f2e38af-db8d-405b-b61c-46ec7d7bbc91\",\"type\":\"BoxZoomTool\"},{\"attributes\":{},\"id\":\"0b41ac38-38a8-4439-93f6-d756aed3c117\",\"type\":\"SaveTool\"},{\"attributes\":{},\"id\":\"6085be7d-3b0c-4f79-9018-2625552b16fc\",\"type\":\"BasicTicker\"},{\"attributes\":{\"callback\":null,\"data\":{\"x\":{\"__ndarray__\":\"AAAAAAAAAADyO3UaAjrIP/I7dRoCOtg/9uzXk4Er4j/yO3UaAjroP+6KEqGCSO4/9uzXk4Er8j90lCbXwTL1P/I7dRoCOvg/cOPDXUJB+z/uihKhgkj+PzaZMHLhpwBA9uzXk4ErAkC1QH+1Ia8DQHSUJtfBMgVAM+jN+GG2BkDyO3UaAjoIQLGPHDyivQlAcOPDXUJBC0AvN2t/4sQMQO6KEqGCSA5Art65wiLMD0A2mTBy4acQQBZDBIOxaRFA9uzXk4ErEkDVlqukUe0SQLVAf7UhrxNAlOpSxvFwFEB0lCbXwTIVQFM++ueR9BVAM+jN+GG2FkASkqEJMngXQPI7dRoCOhhA0uVIK9L7GECxjxw8or0ZQJE58ExyfxpAcOPDXUJBG0BQjZduEgMcQC83a3/ixBxAD+E+kLKGHUDuihKhgkgeQM405rFSCh9Art65wiLMH0BHxMZp+UYgQDaZMHLhpyBAJm6aeskIIUAWQwSDsWkhQAYYbouZyiFA9uzXk4ErIkDlwUGcaYwiQNWWq6RR7SJAxWsVrTlOI0C1QH+1Ia8jQKQV6b0JECRAlOpSxvFwJECEv7zO2dEkQHSUJtfBMiVAZGmQ36mTJUBTPvrnkfQlQEMTZPB5VSZAM+jN+GG2JkAjvTcBShcnQBKSoQkyeCdAAmcLEhrZJ0DyO3UaAjooQOIQ3yLqmihA0uVIK9L7KEDBurIzulwpQLGPHDyivSlAoWSGRIoeKkCROfBMcn8qQIAOWlVa4CpAcOPDXUJBK0BguC1mKqIrQFCNl24SAyxAQGIBd/pjLEAvN2t/4sQsQB8M1YfKJS1AD+E+kLKGLUD/taiYmuctQO6KEqGCSC5A3l98qWqpLkDONOaxUgovQL4JULo6ay9Art65wiLML0DP2ZFlhRYwQEfExmn5RjBAvq77bW13MEA2mTBy4acwQK6DZXZV2DBAJm6aeskIMUCeWM9+PTkxQBZDBIOxaTFAji05hyWaMUAGGG6LmcoxQH4Co48N+zFA9uzXk4ErMkBt1wyY9VsyQOXBQZxpjDJAXax2oN28MkDVlqukUe0yQE2B4KjFHTNAxWsVrTlOM0A9VkqxrX4zQLVAf7UhrzNALSu0uZXfM0CkFem9CRA0QBwAHsJ9QDRAlOpSxvFwNEAM1YfKZaE0QIS/vM7Z0TRA/Knx0k0CNUB0lCbXwTI1QOx+W9s1YzVAZGmQ36mTNUDbU8XjHcQ1QFM++ueR9DVAyygv7AUlNkBDE2TweVU2QLv9mPTthTZAM+jN+GG2NkCr0gL91eY2QCO9NwFKFzdAm6dsBb5HN0ASkqEJMng3QIp81g2mqDdAAmcLEhrZN0B6UUAWjgk4QPI7dRoCOjhAaiaqHnZqOEDiEN8i6po4QFr7EydeyzhA0uVIK9L7OEBJ0H0vRiw5QMG6sjO6XDlAOaXnNy6NOUCxjxw8or05QCl6UUAW7jlAoWSGRIoeOkAZT7tI/k46QJE58ExyfzpACSQlUeavOkCADlpVWuA6QPj4jlnOEDtAcOPDXUJBO0DozfhhtnE7QGC4LWYqojtA2KJiap7SO0BQjZduEgM8QA==\",\"dtype\":\"float64\",\"shape\":[149]},\"y\":{\"__ndarray__\":\"J7yg9xw88D/F2DUyxaXvPzDXNv/OCvA/Yp+ea5pC8D+FTdyE68XvPwnTgZQvDPA/n5k+ay4G8D9jhoLoOgXwP+PcAlPOGPA/IT2nyxT+7z8B++AUIqHvP8MYnwONR/A/beUtGZKW7z8t6faADOnvP+E+kv0tHvA/5qj+XAvW7z9Ov5wrkUvwP5UOVM6w7e4/SejZDUrb7z/fJg/kk6jvPwGcPiBMncY/0h+e400Qzz9mhCOj9JnTP5ikAL85B9c/QAz42eTI2T8wkI7lHwLdP9WSedHAN98/ini+bgxu4D8a1SNYSNjhP9JcIWT5d+I/KXrbDMzs4z8dq1LFY8XkP/a1lEQgY+U/kMeIkJ685T+u1G8bxZnmP3rzjEu3VuY/EnTH6e+T5j++ZobAhxfoP8iW7QUX9+c/8mPV4hFx6D/2GigGyuboP8MFq9aLjuk/TbZut7Bl6T9CW6y/O3XpP+zzmxfbyuk//lmOv6cE6j8h7xFiOdbpP2PTGu0Kheo/7EFAcBZc6j+tnTGqsq7qPwb6Kc2cBus/UeiZvbXL6j/8hmvzyDfrPwo4S7reues/J0omrc1u6z9or7S539TrPy4KEujrQ+w/1HoDXXx26z8q4zOm3X/rP3uK9Lx1FOw/LzRN+dD16z+9ZAJQpqDrP2nOGYWImOw/u//D9Ub06z/m5/eDvSXsP3//dle/ae0/0x/A+r3s7D+3vWfXZ1jsP7t0IWX1Pe0/KGjSQUtD7D+RCY99EgftP2oO3wp2Suw/7zoP2nf17D+jX9mOSlftPzb1WNXvKe0/6QISCuS87D8tH/M5rpjtP4GIDuWPsew/c2iRdc8f7T/ZVeTyJdfsP7IcrzydJu0/FEAem18V7T/i9MbJ7+ntP5rpiKYfS+0/WGJ6PsiX7T/+P3XXPB/uP71jJwIL1e0/p9fdIwam7T+nI6mkFentP8v8o3zsCO4/u7M9yJxE7j8d4CATKofuP6AOXOWsoO4/MbEz88mD7j8bU3BrLDPuP4O9ZI8W5e0/+uSVyyjW7T+bDtBPPCXuP/uLgpeGxu4/SCdKs7be7T9aO13Rqp7uP6GhIJZzK+4/xy/H5CuT7T9AubSAKzfuPxdTS0CRJ+4/r0klBunp7T+A4h+jwkPuP3L9PhKnPO4/bCZ3liro7T+gq+ZOlP7tP6tSdMcYMu4/FlQEd7wW7j/b3llphkLuP0KcTbhJze0/YZ8HIHpn7j/GnAI0ZQjuP7bLFH9gF+4/q+nqJzdZ7j8gMiXInQzuP2AQ5QomNe4/bK5lAbWE7j8dSaqyC2DuP0uM73fr+u0/Adep+CDi7T+Hkdw7dmDuP4Uw2RK0nO0/W+24eG8N7j8ByXPP4tbtP1IiKSNqau0///vLdqKw7j/kFq6PCqftPyvYkp8h4e0/ZNPGqkWI7T8mATKOevztP7kf8gsA6+0/6dBQgt/17T8PowecBzztPyOWquvRye0/+wl2CnBA7j8MtTG010fuP4geJnmeRO4/O+xwfpVR7T/UYwUFrhruP8JRMim7GO4/hTIZVbVa7j/dvDBkMSHuP4PG2HvhOO4/DKrk7+Cl7T+AHtwiaC3uPw==\",\"dtype\":\"float64\",\"shape\":[149]}},\"selected\":{\"id\":\"3cc71901-b293-46c4-9261-7789cfb903f4\",\"type\":\"Selection\"},\"selection_policy\":{\"id\":\"72de8a5f-f2f1-4f61-a763-ff1eb06b8a76\",\"type\":\"UnionRenderers\"}},\"id\":\"2a36422e-eae1-41fe-91e5-3cb5690b1a69\",\"type\":\"ColumnDataSource\"},{\"attributes\":{},\"id\":\"e0bac757-3d89-460c-a512-652199f2eb94\",\"type\":\"WheelZoomTool\"},{\"attributes\":{},\"id\":\"3cc71901-b293-46c4-9261-7789cfb903f4\",\"type\":\"Selection\"},{\"attributes\":{},\"id\":\"e23d017c-c411-41b1-b2f6-fb3f3f2c5811\",\"type\":\"ResetTool\"},{\"attributes\":{\"callback\":null},\"id\":\"09d0a2ec-7d56-4aec-8ff1-585e572146bf\",\"type\":\"DataRange1d\"},{\"attributes\":{},\"id\":\"0afba2b4-4b0b-46d2-9c78-2b8fa8226ecd\",\"type\":\"HelpTool\"},{\"attributes\":{\"below\":[{\"id\":\"b0c2a4b4-b7fe-43c6-bf64-52a472ec2403\",\"type\":\"LinearAxis\"}],\"left\":[{\"id\":\"233f53ee-6142-40b7-b45c-d34424703547\",\"type\":\"LinearAxis\"}],\"plot_height\":300,\"plot_width\":500,\"renderers\":[{\"id\":\"b0c2a4b4-b7fe-43c6-bf64-52a472ec2403\",\"type\":\"LinearAxis\"},{\"id\":\"39e6a63b-9ce0-4c5b-bd17-df738a8dc33c\",\"type\":\"Grid\"},{\"id\":\"233f53ee-6142-40b7-b45c-d34424703547\",\"type\":\"LinearAxis\"},{\"id\":\"13b576b6-8520-48ca-bbed-695974922d89\",\"type\":\"Grid\"},{\"id\":\"c30aabfc-5c25-4c04-bf40-e818e800f815\",\"type\":\"BoxAnnotation\"},{\"id\":\"29a709ed-cda4-4a2f-9360-ac6b2017a2d8\",\"type\":\"GlyphRenderer\"}],\"title\":{\"id\":\"f1bea76e-78bd-452e-99fd-acfd3df7a0be\",\"type\":\"Title\"},\"toolbar\":{\"id\":\"9ea4a3d6-73be-4f71-808c-52bc664eeae2\",\"type\":\"Toolbar\"},\"x_range\":{\"id\":\"09d0a2ec-7d56-4aec-8ff1-585e572146bf\",\"type\":\"DataRange1d\"},\"x_scale\":{\"id\":\"93fbfb36-000d-49f5-b272-e11f1d939566\",\"type\":\"LinearScale\"},\"y_range\":{\"id\":\"8204ba0b-ca78-4906-af2b-55b8e30e1c41\",\"type\":\"DataRange1d\"},\"y_scale\":{\"id\":\"a65ef4fb-1c7f-4a3c-a03f-0e45d95f8690\",\"type\":\"LinearScale\"}},\"id\":\"2e6d3433-ec61-40ed-a000-5d951e41a425\",\"subtype\":\"Figure\",\"type\":\"Plot\"},{\"attributes\":{\"plot\":null,\"text\":\"\"},\"id\":\"f1bea76e-78bd-452e-99fd-acfd3df7a0be\",\"type\":\"Title\"},{\"attributes\":{\"data_source\":{\"id\":\"2a36422e-eae1-41fe-91e5-3cb5690b1a69\",\"type\":\"ColumnDataSource\"},\"glyph\":{\"id\":\"1e9bbab7-85ba-42ae-a3a5-168460c9d889\",\"type\":\"Line\"},\"hover_glyph\":null,\"muted_glyph\":null,\"nonselection_glyph\":{\"id\":\"e4043a2a-8c52-4a0c-814d-31b09f52321a\",\"type\":\"Line\"},\"selection_glyph\":null,\"view\":{\"id\":\"6fe4e897-8a81-41cf-9583-540cdf26f26a\",\"type\":\"CDSView\"}},\"id\":\"29a709ed-cda4-4a2f-9360-ac6b2017a2d8\",\"type\":\"GlyphRenderer\"},{\"attributes\":{\"axis_label\":\"time (s)\",\"formatter\":{\"id\":\"6c425d84-e5d0-4570-8907-7c80c4ad8aa7\",\"type\":\"BasicTickFormatter\"},\"plot\":{\"id\":\"2e6d3433-ec61-40ed-a000-5d951e41a425\",\"subtype\":\"Figure\",\"type\":\"Plot\"},\"ticker\":{\"id\":\"6e692e7e-3e4b-4266-9370-12062bcdfea5\",\"type\":\"BasicTicker\"}},\"id\":\"b0c2a4b4-b7fe-43c6-bf64-52a472ec2403\",\"type\":\"LinearAxis\"},{\"attributes\":{\"bottom_units\":\"screen\",\"fill_alpha\":{\"value\":0.5},\"fill_color\":{\"value\":\"lightgrey\"},\"left_units\":\"screen\",\"level\":\"overlay\",\"line_alpha\":{\"value\":1.0},\"line_color\":{\"value\":\"black\"},\"line_dash\":[4,4],\"line_width\":{\"value\":2},\"plot\":null,\"render_mode\":\"css\",\"right_units\":\"screen\",\"top_units\":\"screen\"},\"id\":\"c30aabfc-5c25-4c04-bf40-e818e800f815\",\"type\":\"BoxAnnotation\"},{\"attributes\":{},\"id\":\"6c425d84-e5d0-4570-8907-7c80c4ad8aa7\",\"type\":\"BasicTickFormatter\"},{\"attributes\":{},\"id\":\"93fbfb36-000d-49f5-b272-e11f1d939566\",\"type\":\"LinearScale\"},{\"attributes\":{\"active_drag\":\"auto\",\"active_inspect\":\"auto\",\"active_multi\":null,\"active_scroll\":\"auto\",\"active_tap\":\"auto\",\"tools\":[{\"id\":\"cdc4e70d-2ea1-4539-92e0-d6b78157c6c1\",\"type\":\"PanTool\"},{\"id\":\"e0bac757-3d89-460c-a512-652199f2eb94\",\"type\":\"WheelZoomTool\"},{\"id\":\"1f2e38af-db8d-405b-b61c-46ec7d7bbc91\",\"type\":\"BoxZoomTool\"},{\"id\":\"0b41ac38-38a8-4439-93f6-d756aed3c117\",\"type\":\"SaveTool\"},{\"id\":\"e23d017c-c411-41b1-b2f6-fb3f3f2c5811\",\"type\":\"ResetTool\"},{\"id\":\"0afba2b4-4b0b-46d2-9c78-2b8fa8226ecd\",\"type\":\"HelpTool\"}]},\"id\":\"9ea4a3d6-73be-4f71-808c-52bc664eeae2\",\"type\":\"Toolbar\"},{\"attributes\":{\"callback\":null},\"id\":\"8204ba0b-ca78-4906-af2b-55b8e30e1c41\",\"type\":\"DataRange1d\"},{\"attributes\":{},\"id\":\"72de8a5f-f2f1-4f61-a763-ff1eb06b8a76\",\"type\":\"UnionRenderers\"},{\"attributes\":{},\"id\":\"6e692e7e-3e4b-4266-9370-12062bcdfea5\",\"type\":\"BasicTicker\"},{\"attributes\":{},\"id\":\"2537e5eb-b772-4086-a927-80dc0c5ff8c6\",\"type\":\"BasicTickFormatter\"},{\"attributes\":{\"line_color\":\"#1f77b4\",\"line_width\":2,\"x\":{\"field\":\"x\"},\"y\":{\"field\":\"y\"}},\"id\":\"1e9bbab7-85ba-42ae-a3a5-168460c9d889\",\"type\":\"Line\"},{\"attributes\":{\"dimension\":1,\"plot\":{\"id\":\"2e6d3433-ec61-40ed-a000-5d951e41a425\",\"subtype\":\"Figure\",\"type\":\"Plot\"},\"ticker\":{\"id\":\"6085be7d-3b0c-4f79-9018-2625552b16fc\",\"type\":\"BasicTicker\"}},\"id\":\"13b576b6-8520-48ca-bbed-695974922d89\",\"type\":\"Grid\"},{\"attributes\":{\"plot\":{\"id\":\"2e6d3433-ec61-40ed-a000-5d951e41a425\",\"subtype\":\"Figure\",\"type\":\"Plot\"},\"ticker\":{\"id\":\"6e692e7e-3e4b-4266-9370-12062bcdfea5\",\"type\":\"BasicTicker\"}},\"id\":\"39e6a63b-9ce0-4c5b-bd17-df738a8dc33c\",\"type\":\"Grid\"}],\"root_ids\":[\"2e6d3433-ec61-40ed-a000-5d951e41a425\"]},\"title\":\"Bokeh Application\",\"version\":\"0.13.0\"}};\n",
       "  var render_items = [{\"docid\":\"809ed48b-e86e-4177-9ca9-bd3c45abb533\",\"roots\":{\"2e6d3433-ec61-40ed-a000-5d951e41a425\":\"63c3bde3-38ca-4d2e-99e9-b14944b58959\"}}];\n",
       "  root.Bokeh.embed.embed_items_notebook(docs_json, render_items);\n",
       "\n",
       "  }\n",
       "  if (root.Bokeh !== undefined) {\n",
       "    embed_document(root);\n",
       "  } else {\n",
       "    var attempts = 0;\n",
       "    var timer = setInterval(function(root) {\n",
       "      if (root.Bokeh !== undefined) {\n",
       "        embed_document(root);\n",
       "        clearInterval(timer);\n",
       "      }\n",
       "      attempts++;\n",
       "      if (attempts > 100) {\n",
       "        console.log(\"Bokeh: ERROR: Unable to run BokehJS code because BokehJS library is missing\")\n",
       "        clearInterval(timer);\n",
       "      }\n",
       "    }, 10, root)\n",
       "  }\n",
       "})(window);"
      ],
      "application/vnd.bokehjs_exec.v0+json": ""
     },
     "metadata": {
      "application/vnd.bokehjs_exec.v0+json": {
       "id": "2e6d3433-ec61-40ed-a000-5d951e41a425"
      }
     },
     "output_type": "display_data"
    }
   ],
   "source": [
    "int_0 = compute_normalization_value(ic, roi, 19)\n",
    "total_int = compute_normalized_intensity(ic, roi, int_0)\n",
    "\n",
    "p = bokeh.plotting.figure(plot_width=500,\n",
    "                          plot_height=300,\n",
    "                          x_axis_label='time (s)', \n",
    "                          y_axis_label='normalized total intensity')\n",
    "\n",
    "p.line(t, total_int, line_width=2, line_join='bevel')\n",
    "\n",
    "bokeh.io.show(p)"
   ]
  },
  {
   "cell_type": "markdown",
   "metadata": {},
   "source": [
    "We see that the value of the intensity still occasionally goes above 1. This is because of noise in the detector, and potentially another way of calculating the normalization factor could be to find the frame with the highest intensity before photobleaching, and divide by that intensity. \n",
    "\n",
    "We also notice that the intensity of the ROI does not completely go to zero. This is also presumably due to noise or incomplete photobleaching."
   ]
  },
  {
   "cell_type": "markdown",
   "metadata": {},
   "source": [
    "Let's write another function that will get the max intensity of the ROI before photobleaching."
   ]
  },
  {
   "cell_type": "code",
   "execution_count": 13,
   "metadata": {},
   "outputs": [],
   "source": [
    "def compute_normalization(ic, roi, n_frames):\n",
    "    '''Takes the first n frames in the image stack to compute\n",
    "    the average intensity of an ROI over all the frames.'''\n",
    "    # Set up NumPy array to store total pixel intensity\n",
    "    total_int = np.empty(len(ic[:n_frames]))\n",
    "    \n",
    "    # Sum intensities in first n frames in ROI\n",
    "    for i, im in enumerate(ic[:n_frames]):\n",
    "        total_int[i] = im[roi].sum()\n",
    "\n",
    "    # Return the max intensity of the ROI\n",
    "    return np.max(total_int)"
   ]
  },
  {
   "cell_type": "markdown",
   "metadata": {},
   "source": [
    "Now we can recalculate and replot the total intensity over time."
   ]
  },
  {
   "cell_type": "code",
   "execution_count": 14,
   "metadata": {},
   "outputs": [
    {
     "data": {
      "text/html": [
       "\n",
       "\n",
       "\n",
       "\n",
       "\n",
       "\n",
       "  <div class=\"bk-root\" id=\"9be51294-9954-430b-9a54-796f08ce2b71\"></div>\n"
      ]
     },
     "metadata": {},
     "output_type": "display_data"
    },
    {
     "data": {
      "application/javascript": [
       "(function(root) {\n",
       "  function embed_document(root) {\n",
       "    \n",
       "  var docs_json = {\"14bcc1b6-1f9a-4863-b1ea-d442e93cf2b3\":{\"roots\":{\"references\":[{\"attributes\":{},\"id\":\"53612beb-5083-4855-adbc-499511b89f09\",\"type\":\"LinearScale\"},{\"attributes\":{},\"id\":\"b9c6bf88-adf7-49c0-ad59-428defc2c863\",\"type\":\"SaveTool\"},{\"attributes\":{\"bottom_units\":\"screen\",\"fill_alpha\":{\"value\":0.5},\"fill_color\":{\"value\":\"lightgrey\"},\"left_units\":\"screen\",\"level\":\"overlay\",\"line_alpha\":{\"value\":1.0},\"line_color\":{\"value\":\"black\"},\"line_dash\":[4,4],\"line_width\":{\"value\":2},\"plot\":null,\"render_mode\":\"css\",\"right_units\":\"screen\",\"top_units\":\"screen\"},\"id\":\"a4970b32-0d08-44e6-907c-d31309c4136e\",\"type\":\"BoxAnnotation\"},{\"attributes\":{\"callback\":null},\"id\":\"9af822db-2e89-4d34-beac-18183f6eb07d\",\"type\":\"DataRange1d\"},{\"attributes\":{},\"id\":\"63189618-cdaf-4dbc-aaab-906a17c58380\",\"type\":\"Selection\"},{\"attributes\":{\"dimension\":1,\"plot\":{\"id\":\"ef4a339b-dbe4-47d5-9227-537732daacc1\",\"subtype\":\"Figure\",\"type\":\"Plot\"},\"ticker\":{\"id\":\"ff2a09fb-09cb-4f73-ad81-1af526cb7aef\",\"type\":\"BasicTicker\"}},\"id\":\"4e3f5f61-7963-466d-9ca5-246a19afd874\",\"type\":\"Grid\"},{\"attributes\":{\"active_drag\":\"auto\",\"active_inspect\":\"auto\",\"active_multi\":null,\"active_scroll\":\"auto\",\"active_tap\":\"auto\",\"tools\":[{\"id\":\"5509102e-c7c9-4b9d-ae25-804438e49338\",\"type\":\"PanTool\"},{\"id\":\"27f8625f-1cea-423e-aee3-b58d0ecc525f\",\"type\":\"WheelZoomTool\"},{\"id\":\"5271f460-db62-4db9-a46a-7abe245b17f4\",\"type\":\"BoxZoomTool\"},{\"id\":\"b9c6bf88-adf7-49c0-ad59-428defc2c863\",\"type\":\"SaveTool\"},{\"id\":\"13acbb48-a3e6-4ac2-af77-5bd3af37660a\",\"type\":\"ResetTool\"},{\"id\":\"3361ba41-2d04-431f-9456-a3b283399fd3\",\"type\":\"HelpTool\"}]},\"id\":\"2eafad2a-8a24-4e28-81f9-1005c35dbce5\",\"type\":\"Toolbar\"},{\"attributes\":{\"callback\":null,\"data\":{\"x\":{\"__ndarray__\":\"AAAAAAAAAADyO3UaAjrIP/I7dRoCOtg/9uzXk4Er4j/yO3UaAjroP+6KEqGCSO4/9uzXk4Er8j90lCbXwTL1P/I7dRoCOvg/cOPDXUJB+z/uihKhgkj+PzaZMHLhpwBA9uzXk4ErAkC1QH+1Ia8DQHSUJtfBMgVAM+jN+GG2BkDyO3UaAjoIQLGPHDyivQlAcOPDXUJBC0AvN2t/4sQMQO6KEqGCSA5Art65wiLMD0A2mTBy4acQQBZDBIOxaRFA9uzXk4ErEkDVlqukUe0SQLVAf7UhrxNAlOpSxvFwFEB0lCbXwTIVQFM++ueR9BVAM+jN+GG2FkASkqEJMngXQPI7dRoCOhhA0uVIK9L7GECxjxw8or0ZQJE58ExyfxpAcOPDXUJBG0BQjZduEgMcQC83a3/ixBxAD+E+kLKGHUDuihKhgkgeQM405rFSCh9Art65wiLMH0BHxMZp+UYgQDaZMHLhpyBAJm6aeskIIUAWQwSDsWkhQAYYbouZyiFA9uzXk4ErIkDlwUGcaYwiQNWWq6RR7SJAxWsVrTlOI0C1QH+1Ia8jQKQV6b0JECRAlOpSxvFwJECEv7zO2dEkQHSUJtfBMiVAZGmQ36mTJUBTPvrnkfQlQEMTZPB5VSZAM+jN+GG2JkAjvTcBShcnQBKSoQkyeCdAAmcLEhrZJ0DyO3UaAjooQOIQ3yLqmihA0uVIK9L7KEDBurIzulwpQLGPHDyivSlAoWSGRIoeKkCROfBMcn8qQIAOWlVa4CpAcOPDXUJBK0BguC1mKqIrQFCNl24SAyxAQGIBd/pjLEAvN2t/4sQsQB8M1YfKJS1AD+E+kLKGLUD/taiYmuctQO6KEqGCSC5A3l98qWqpLkDONOaxUgovQL4JULo6ay9Art65wiLML0DP2ZFlhRYwQEfExmn5RjBAvq77bW13MEA2mTBy4acwQK6DZXZV2DBAJm6aeskIMUCeWM9+PTkxQBZDBIOxaTFAji05hyWaMUAGGG6LmcoxQH4Co48N+zFA9uzXk4ErMkBt1wyY9VsyQOXBQZxpjDJAXax2oN28MkDVlqukUe0yQE2B4KjFHTNAxWsVrTlOM0A9VkqxrX4zQLVAf7UhrzNALSu0uZXfM0CkFem9CRA0QBwAHsJ9QDRAlOpSxvFwNEAM1YfKZaE0QIS/vM7Z0TRA/Knx0k0CNUB0lCbXwTI1QOx+W9s1YzVAZGmQ36mTNUDbU8XjHcQ1QFM++ueR9DVAyygv7AUlNkBDE2TweVU2QLv9mPTthTZAM+jN+GG2NkCr0gL91eY2QCO9NwFKFzdAm6dsBb5HN0ASkqEJMng3QIp81g2mqDdAAmcLEhrZN0B6UUAWjgk4QPI7dRoCOjhAaiaqHnZqOEDiEN8i6po4QFr7EydeyzhA0uVIK9L7OEBJ0H0vRiw5QMG6sjO6XDlAOaXnNy6NOUCxjxw8or05QCl6UUAW7jlAoWSGRIoeOkAZT7tI/k46QJE58ExyfzpACSQlUeavOkCADlpVWuA6QPj4jlnOEDtAcOPDXUJBO0DozfhhtnE7QGC4LWYqojtA2KJiap7SO0BQjZduEgM8QA==\",\"dtype\":\"float64\",\"shape\":[149]},\"y\":{\"__ndarray__\":\"/V/r7Kbh7z8ZSycnAhPvP/rqAkbUgO8/1ilNo2Xu7z+E0pxikzLvPwbRd6qIg+8/W9fDCL537z+gWc3V33XvP3caDhtRnO8/LHJpOLhp7z+heO6KdA7vP3lC7+8c+O8/ke6lihUE7z99WcR2EVXvP2ubLpnepu8/fwFWdGhC7z8AAAAAAADwP2a1TGlDXu4/dpGd0o5H7z/4CSPUwxXvPwToE+psNMY/UnpR+j+Azj/nu49vDj/TP2ir8E1vnNY/NsPX81FR2T94I4IVmnvcP8++iPf7pt4/3KazW9sh4D+oGllzh4XhPzvPG/JTIuI/gTlNrmWQ4z9MaTz6EGXkP1HHgf3x/+Q/3yGNRdFX5T/k3upA9jDmPwLqimUf7+U/vSLHGzwr5j/WRzKHzqfnP+AX1zz0h+c/HaCzbrn/5z/EHhipT3PoP2LYP4UHGOk/6UYC3env6D/PJPDQLP/oP9/0ZRg/U+k/IdaGtv+L6T+H6baqaF7pP3+QQYIPCuo/eSgH8tjh6T92sXYT9jLqP1h+xYRIieo/2a6lnHJP6j/JmuiikLnqP69KjyhLOes/lSlROJbv6j+wGLrtzlPrPxQpniPYwOs/pIrkRyH36j864WMRVwDrP2C4iBE+kus/flQWaSd06z+OkiuzhyDrP1gGAWDsE+w/cem+iKRy6z9srse1NaPrP9UzZP1Y4ew/Ua5fU5tm7D8xOMwU9dTrP4ag6htatuw/RdpcZjrA6z/KL9O7dYDsP0d5zfJDx+s/r0lauyxv7D9o5WzLOc/sP6J6WGWxouw/hb5nSp837D9HLDU6bg/tP3vse65/LOw/Ym1o+7+Y7D/c1SFvZ1HsP7b5OTVun+w/SCZgh4CO7D8bQSX5Nl/tP0JhJFBHw+w/PcZAaYwO7T8QSW/ZjJPtP5ch4hWzSu0/zQg2Q4gc7T/J2KbHYF7tP1omBPmjfe0/I8/5dz+47T8suFgimPntP9gYoqakEu4/bF6zqUf27T+cTib6H6ftP1UL0Tp0Wu0/CcYCsstL7T/MajiBcJntP1o+6tHON+4/tyBH7jFU7T936Z3iqxDuP+/KLfSKn+0/L2BLcQUK7T8QHPyGDKvtPzyKdqG6m+0/sdThVDBf7T/SZntGabftP757oqtusO0/cOF/+3ld7T+y2ufDe3PtP8jMalQRpu0/Ncex5TOL7T+EWivHMrbtP2ZWlcIVQ+0/+xl/IXva7T8Yrr8jH33tPzjMFPXUi+0/HEZXTHrM7T8PldIkRIHtP3o21nAQqe0/xlXadS737T/ZPmwqL9PtP4KzbeXjb+0/Fp1RXYxX7T9aKpLFl9PtPyVmTmthE+0/3LX8CBKC7T9k60BXgkztP0KlCrEA4uw/P+K1NVAi7j+z1ln3hx3tP4BgYKSRVu0/2y+nwlH/7D/er/fAa3HtP7kMv0xCYO0/pNAfV+9q7T9htrBEdbTsPzQBBAuuP+0/5eVcFia07T+dVCxpa7vtPz2qCiFBuO0/OGyJMp/J7D/WuwAqE4/tP2JAlFcpje0/cLM4jfHN7T+en+xUeJXtP83HCZO6rO0/iDTDu2Mc7T99IatvdqHtPw==\",\"dtype\":\"float64\",\"shape\":[149]}},\"selected\":{\"id\":\"63189618-cdaf-4dbc-aaab-906a17c58380\",\"type\":\"Selection\"},\"selection_policy\":{\"id\":\"389fa6f2-a6db-468e-b24b-d33f57bff043\",\"type\":\"UnionRenderers\"}},\"id\":\"073d86d0-9a5d-4a8d-a9e3-c912e8afb977\",\"type\":\"ColumnDataSource\"},{\"attributes\":{\"plot\":null,\"text\":\"\"},\"id\":\"0a714037-5fd0-456f-8058-e7b3339ff6fc\",\"type\":\"Title\"},{\"attributes\":{},\"id\":\"37d4629d-fd0c-4431-97c2-208c128c5905\",\"type\":\"BasicTickFormatter\"},{\"attributes\":{},\"id\":\"13acbb48-a3e6-4ac2-af77-5bd3af37660a\",\"type\":\"ResetTool\"},{\"attributes\":{},\"id\":\"1f563647-eb2b-451f-8e1f-98b12c9bd586\",\"type\":\"BasicTickFormatter\"},{\"attributes\":{\"line_color\":\"#1f77b4\",\"line_width\":2,\"x\":{\"field\":\"x\"},\"y\":{\"field\":\"y\"}},\"id\":\"e634d7f7-ee64-41ff-b52e-e6174529a359\",\"type\":\"Line\"},{\"attributes\":{},\"id\":\"389fa6f2-a6db-468e-b24b-d33f57bff043\",\"type\":\"UnionRenderers\"},{\"attributes\":{\"data_source\":{\"id\":\"073d86d0-9a5d-4a8d-a9e3-c912e8afb977\",\"type\":\"ColumnDataSource\"},\"glyph\":{\"id\":\"e634d7f7-ee64-41ff-b52e-e6174529a359\",\"type\":\"Line\"},\"hover_glyph\":null,\"muted_glyph\":null,\"nonselection_glyph\":{\"id\":\"1d9a49be-0f48-43e2-83a9-fa70f8cb3aa9\",\"type\":\"Line\"},\"selection_glyph\":null,\"view\":{\"id\":\"7d55c9d3-20bb-48a1-8626-87d68f0cb09b\",\"type\":\"CDSView\"}},\"id\":\"615ef6ae-c43d-403d-92be-8128b4fdc232\",\"type\":\"GlyphRenderer\"},{\"attributes\":{},\"id\":\"5509102e-c7c9-4b9d-ae25-804438e49338\",\"type\":\"PanTool\"},{\"attributes\":{\"axis_label\":\"normalized total intensity\",\"formatter\":{\"id\":\"37d4629d-fd0c-4431-97c2-208c128c5905\",\"type\":\"BasicTickFormatter\"},\"plot\":{\"id\":\"ef4a339b-dbe4-47d5-9227-537732daacc1\",\"subtype\":\"Figure\",\"type\":\"Plot\"},\"ticker\":{\"id\":\"ff2a09fb-09cb-4f73-ad81-1af526cb7aef\",\"type\":\"BasicTicker\"}},\"id\":\"c8b0c4c5-2795-4d22-a5c2-3720779ca91a\",\"type\":\"LinearAxis\"},{\"attributes\":{},\"id\":\"69283341-af81-4d91-b06b-c178c0983e19\",\"type\":\"BasicTicker\"},{\"attributes\":{},\"id\":\"ff2a09fb-09cb-4f73-ad81-1af526cb7aef\",\"type\":\"BasicTicker\"},{\"attributes\":{\"below\":[{\"id\":\"2c2299cd-6184-40e8-bbe8-4c5f3f409f17\",\"type\":\"LinearAxis\"}],\"left\":[{\"id\":\"c8b0c4c5-2795-4d22-a5c2-3720779ca91a\",\"type\":\"LinearAxis\"}],\"plot_height\":300,\"plot_width\":500,\"renderers\":[{\"id\":\"2c2299cd-6184-40e8-bbe8-4c5f3f409f17\",\"type\":\"LinearAxis\"},{\"id\":\"44f2c8ab-88f5-4814-8850-a6613931938a\",\"type\":\"Grid\"},{\"id\":\"c8b0c4c5-2795-4d22-a5c2-3720779ca91a\",\"type\":\"LinearAxis\"},{\"id\":\"4e3f5f61-7963-466d-9ca5-246a19afd874\",\"type\":\"Grid\"},{\"id\":\"a4970b32-0d08-44e6-907c-d31309c4136e\",\"type\":\"BoxAnnotation\"},{\"id\":\"615ef6ae-c43d-403d-92be-8128b4fdc232\",\"type\":\"GlyphRenderer\"}],\"title\":{\"id\":\"0a714037-5fd0-456f-8058-e7b3339ff6fc\",\"type\":\"Title\"},\"toolbar\":{\"id\":\"2eafad2a-8a24-4e28-81f9-1005c35dbce5\",\"type\":\"Toolbar\"},\"x_range\":{\"id\":\"9af822db-2e89-4d34-beac-18183f6eb07d\",\"type\":\"DataRange1d\"},\"x_scale\":{\"id\":\"53612beb-5083-4855-adbc-499511b89f09\",\"type\":\"LinearScale\"},\"y_range\":{\"id\":\"22216579-c69d-4f94-9cb6-bc5e28e57770\",\"type\":\"DataRange1d\"},\"y_scale\":{\"id\":\"75daa622-6432-4bf2-baa4-894db0c6bb08\",\"type\":\"LinearScale\"}},\"id\":\"ef4a339b-dbe4-47d5-9227-537732daacc1\",\"subtype\":\"Figure\",\"type\":\"Plot\"},{\"attributes\":{\"plot\":{\"id\":\"ef4a339b-dbe4-47d5-9227-537732daacc1\",\"subtype\":\"Figure\",\"type\":\"Plot\"},\"ticker\":{\"id\":\"69283341-af81-4d91-b06b-c178c0983e19\",\"type\":\"BasicTicker\"}},\"id\":\"44f2c8ab-88f5-4814-8850-a6613931938a\",\"type\":\"Grid\"},{\"attributes\":{},\"id\":\"3361ba41-2d04-431f-9456-a3b283399fd3\",\"type\":\"HelpTool\"},{\"attributes\":{},\"id\":\"75daa622-6432-4bf2-baa4-894db0c6bb08\",\"type\":\"LinearScale\"},{\"attributes\":{},\"id\":\"27f8625f-1cea-423e-aee3-b58d0ecc525f\",\"type\":\"WheelZoomTool\"},{\"attributes\":{\"callback\":null},\"id\":\"22216579-c69d-4f94-9cb6-bc5e28e57770\",\"type\":\"DataRange1d\"},{\"attributes\":{\"axis_label\":\"time (s)\",\"formatter\":{\"id\":\"1f563647-eb2b-451f-8e1f-98b12c9bd586\",\"type\":\"BasicTickFormatter\"},\"plot\":{\"id\":\"ef4a339b-dbe4-47d5-9227-537732daacc1\",\"subtype\":\"Figure\",\"type\":\"Plot\"},\"ticker\":{\"id\":\"69283341-af81-4d91-b06b-c178c0983e19\",\"type\":\"BasicTicker\"}},\"id\":\"2c2299cd-6184-40e8-bbe8-4c5f3f409f17\",\"type\":\"LinearAxis\"},{\"attributes\":{\"overlay\":{\"id\":\"a4970b32-0d08-44e6-907c-d31309c4136e\",\"type\":\"BoxAnnotation\"}},\"id\":\"5271f460-db62-4db9-a46a-7abe245b17f4\",\"type\":\"BoxZoomTool\"},{\"attributes\":{\"source\":{\"id\":\"073d86d0-9a5d-4a8d-a9e3-c912e8afb977\",\"type\":\"ColumnDataSource\"}},\"id\":\"7d55c9d3-20bb-48a1-8626-87d68f0cb09b\",\"type\":\"CDSView\"},{\"attributes\":{\"line_alpha\":0.1,\"line_color\":\"#1f77b4\",\"line_width\":2,\"x\":{\"field\":\"x\"},\"y\":{\"field\":\"y\"}},\"id\":\"1d9a49be-0f48-43e2-83a9-fa70f8cb3aa9\",\"type\":\"Line\"}],\"root_ids\":[\"ef4a339b-dbe4-47d5-9227-537732daacc1\"]},\"title\":\"Bokeh Application\",\"version\":\"0.13.0\"}};\n",
       "  var render_items = [{\"docid\":\"14bcc1b6-1f9a-4863-b1ea-d442e93cf2b3\",\"roots\":{\"ef4a339b-dbe4-47d5-9227-537732daacc1\":\"9be51294-9954-430b-9a54-796f08ce2b71\"}}];\n",
       "  root.Bokeh.embed.embed_items_notebook(docs_json, render_items);\n",
       "\n",
       "  }\n",
       "  if (root.Bokeh !== undefined) {\n",
       "    embed_document(root);\n",
       "  } else {\n",
       "    var attempts = 0;\n",
       "    var timer = setInterval(function(root) {\n",
       "      if (root.Bokeh !== undefined) {\n",
       "        embed_document(root);\n",
       "        clearInterval(timer);\n",
       "      }\n",
       "      attempts++;\n",
       "      if (attempts > 100) {\n",
       "        console.log(\"Bokeh: ERROR: Unable to run BokehJS code because BokehJS library is missing\")\n",
       "        clearInterval(timer);\n",
       "      }\n",
       "    }, 10, root)\n",
       "  }\n",
       "})(window);"
      ],
      "application/vnd.bokehjs_exec.v0+json": ""
     },
     "metadata": {
      "application/vnd.bokehjs_exec.v0+json": {
       "id": "ef4a339b-dbe4-47d5-9227-537732daacc1"
      }
     },
     "output_type": "display_data"
    }
   ],
   "source": [
    "int_0 = compute_normalization(ic, roi, 19)\n",
    "total_int = compute_normalized_intensity(ic, roi, int_0)\n",
    "\n",
    "p = bokeh.plotting.figure(plot_width=500,\n",
    "                          plot_height=300,\n",
    "                          x_axis_label='time (s)', \n",
    "                          y_axis_label='normalized total intensity')\n",
    "\n",
    "p.line(t, total_int, line_width=2, line_join='bevel')\n",
    "\n",
    "bokeh.io.show(p)"
   ]
  },
  {
   "cell_type": "markdown",
   "metadata": {},
   "source": [
    "The max normalized intensity is now 1!\n",
    "\n",
    "Now we can use our functions to compute the normalized intensity over time for all image stacks in the data directory."
   ]
  },
  {
   "cell_type": "code",
   "execution_count": 15,
   "metadata": {},
   "outputs": [
    {
     "data": {
      "text/plain": [
       "['../data/goehring_FRAP_data/PH_138_A.tif',\n",
       " '../data/goehring_FRAP_data/PH_138_B.tif',\n",
       " '../data/goehring_FRAP_data/PH_138_C.tif',\n",
       " '../data/goehring_FRAP_data/PH_138_D.tif',\n",
       " '../data/goehring_FRAP_data/PH_138_E.tif',\n",
       " '../data/goehring_FRAP_data/PH_138_F.tif',\n",
       " '../data/goehring_FRAP_data/PH_138_G.tif',\n",
       " '../data/goehring_FRAP_data/PH_138_H.tif']"
      ]
     },
     "execution_count": 15,
     "metadata": {},
     "output_type": "execute_result"
    }
   ],
   "source": [
    "# The directory containing data\n",
    "data_dir = '../data/goehring_FRAP_data/'\n",
    "\n",
    "# Glob string for images\n",
    "im_glob = os.path.join(data_dir, '*.tif')\n",
    "\n",
    "# Get list of files in directory\n",
    "im_list = sorted(glob.glob(im_glob))\n",
    "\n",
    "# Let's look at the entries\n",
    "im_list"
   ]
  },
  {
   "cell_type": "code",
   "execution_count": 16,
   "metadata": {},
   "outputs": [
    {
     "data": {
      "text/html": [
       "<div>\n",
       "<style scoped>\n",
       "    .dataframe tbody tr th:only-of-type {\n",
       "        vertical-align: middle;\n",
       "    }\n",
       "\n",
       "    .dataframe tbody tr th {\n",
       "        vertical-align: top;\n",
       "    }\n",
       "\n",
       "    .dataframe thead th {\n",
       "        text-align: right;\n",
       "    }\n",
       "</style>\n",
       "<table border=\"1\" class=\"dataframe\">\n",
       "  <thead>\n",
       "    <tr style=\"text-align: right;\">\n",
       "      <th></th>\n",
       "      <th>total_intensity</th>\n",
       "      <th>time</th>\n",
       "      <th>stack</th>\n",
       "    </tr>\n",
       "  </thead>\n",
       "  <tbody>\n",
       "    <tr>\n",
       "      <th>0</th>\n",
       "      <td>0.996295</td>\n",
       "      <td>0.000000</td>\n",
       "      <td>0</td>\n",
       "    </tr>\n",
       "    <tr>\n",
       "      <th>1</th>\n",
       "      <td>0.971070</td>\n",
       "      <td>0.189270</td>\n",
       "      <td>0</td>\n",
       "    </tr>\n",
       "    <tr>\n",
       "      <th>2</th>\n",
       "      <td>0.984476</td>\n",
       "      <td>0.378541</td>\n",
       "      <td>0</td>\n",
       "    </tr>\n",
       "    <tr>\n",
       "      <th>3</th>\n",
       "      <td>0.997851</td>\n",
       "      <td>0.567811</td>\n",
       "      <td>0</td>\n",
       "    </tr>\n",
       "    <tr>\n",
       "      <th>4</th>\n",
       "      <td>0.974924</td>\n",
       "      <td>0.757081</td>\n",
       "      <td>0</td>\n",
       "    </tr>\n",
       "  </tbody>\n",
       "</table>\n",
       "</div>"
      ],
      "text/plain": [
       "   total_intensity      time  stack\n",
       "0         0.996295  0.000000      0\n",
       "1         0.971070  0.189270      0\n",
       "2         0.984476  0.378541      0\n",
       "3         0.997851  0.567811      0\n",
       "4         0.974924  0.757081      0"
      ]
     },
     "execution_count": 16,
     "metadata": {},
     "output_type": "execute_result"
    }
   ],
   "source": [
    "# Initialize variables\n",
    "n_frames = 19\n",
    "length = 20\n",
    "\n",
    "# Initialize dataframe to store information\n",
    "df = pd.DataFrame()\n",
    "\n",
    "for i, fname in enumerate(im_list):\n",
    "    # Extract image stack\n",
    "    ic = skimage.io.ImageCollection(fname, conserve_memory=False)[0]\n",
    "    \n",
    "    # Find ROI\n",
    "    x_center, y_center = find_roi(ic)\n",
    "    roi = get_box_given_center(x_center, y_center, length)\n",
    "    \n",
    "    # Compute normalized total intensity\n",
    "    int_0 = compute_normalization(ic, roi, n_frames)\n",
    "    total_int = compute_normalized_intensity(ic, roi, int_0)\n",
    "    \n",
    "    # Store information in a dataframe\n",
    "    df_temp = pd.DataFrame(total_int, columns={\"total_intensity\"})\n",
    "    df_temp['time'] = t\n",
    "    df_temp['stack'] = i\n",
    "    \n",
    "    df = pd.concat([df, df_temp])\n",
    "    \n",
    "# Reset the index so that the indices are all in sequential order\n",
    "df = df.reset_index(drop=True)\n",
    "\n",
    "# Take a look\n",
    "df.head()"
   ]
  },
  {
   "cell_type": "markdown",
   "metadata": {},
   "source": [
    "Let's save our dataframe in a csv file for later use."
   ]
  },
  {
   "cell_type": "code",
   "execution_count": 17,
   "metadata": {},
   "outputs": [],
   "source": [
    "df.to_csv('normalized_intensities.csv')"
   ]
  },
  {
   "cell_type": "markdown",
   "metadata": {},
   "source": [
    "We can plot the normalized intensity over time for each image stack."
   ]
  },
  {
   "cell_type": "code",
   "execution_count": 18,
   "metadata": {},
   "outputs": [
    {
     "data": {
      "application/vnd.vegalite.v2+json": {
       "$schema": "https://vega.github.io/schema/vega-lite/v2.6.0.json",
       "config": {
        "view": {
         "height": 300,
         "width": 400
        }
       },
       "data": {
        "name": "data-3e5d1d90bcc8dd40596bfb3220781eaf"
       },
       "datasets": {
        "data-3e5d1d90bcc8dd40596bfb3220781eaf": [
         {
          "stack": 0,
          "time": 0,
          "total_intensity": 0.9962954165775951
         },
         {
          "stack": 0,
          "time": 0.18927027027027027,
          "total_intensity": 0.971070362540874
         },
         {
          "stack": 0,
          "time": 0.37854054054054054,
          "total_intensity": 0.9844762198839299
         },
         {
          "stack": 0,
          "time": 0.5678108108108109,
          "total_intensity": 0.9978511991005756
         },
         {
          "stack": 0,
          "time": 0.7570810810810811,
          "total_intensity": 0.9749237943675131
         },
         {
          "stack": 0,
          "time": 0.9463513513513513,
          "total_intensity": 0.9848063783124708
         },
         {
          "stack": 0,
          "time": 1.1356216216216217,
          "total_intensity": 0.9833669825736523
         },
         {
          "stack": 0,
          "time": 1.324891891891892,
          "total_intensity": 0.9831389594863147
         },
         {
          "stack": 0,
          "time": 1.5141621621621622,
          "total_intensity": 0.9878316429538491
         },
         {
          "stack": 0,
          "time": 1.7034324324324324,
          "total_intensity": 0.9816552259249582
         },
         {
          "stack": 0,
          "time": 1.8927027027027026,
          "total_intensity": 0.9705145562654885
         },
         {
          "stack": 0,
          "time": 2.081972972972973,
          "total_intensity": 0.9990372358534635
         },
         {
          "stack": 0,
          "time": 2.2712432432432434,
          "total_intensity": 0.9692485530826663
         },
         {
          "stack": 0,
          "time": 2.4605135135135137,
          "total_intensity": 0.9791343040149482
         },
         {
          "stack": 0,
          "time": 2.649783783783784,
          "total_intensity": 0.9891198150479402
         },
         {
          "stack": 0,
          "time": 2.839054054054054,
          "total_intensity": 0.9768564483820653
         },
         {
          "stack": 0,
          "time": 3.0283243243243243,
          "total_intensity": 1
         },
         {
          "stack": 0,
          "time": 3.2175945945945945,
          "total_intensity": 0.9490067536004687
         },
         {
          "stack": 0,
          "time": 3.4068648648648647,
          "total_intensity": 0.9774850953659058
         },
         {
          "stack": 0,
          "time": 3.596135135135135,
          "total_intensity": 0.9714068549440631
         },
         {
          "stack": 0,
          "time": 3.785405405405405,
          "total_intensity": 0.17347489766672208
         },
         {
          "stack": 0,
          "time": 3.974675675675676,
          "total_intensity": 0.2382888767487708
         },
         {
          "stack": 0,
          "time": 4.163945945945946,
          "total_intensity": 0.3007236566035644
         },
         {
          "stack": 0,
          "time": 4.353216216216216,
          "total_intensity": 0.35329802142466926
         },
         {
          "stack": 0,
          "time": 4.542486486486487,
          "total_intensity": 0.3955883866574824
         },
         {
          "stack": 0,
          "time": 4.731756756756757,
          "total_intensity": 0.445044060711147
         },
         {
          "stack": 0,
          "time": 4.921027027027027,
          "total_intensity": 0.4789419095350071
         },
         {
          "stack": 0,
          "time": 5.110297297297297,
          "total_intensity": 0.5041329184579939
         },
         {
          "stack": 0,
          "time": 5.299567567567568,
          "total_intensity": 0.5475499394313674
         },
         {
          "stack": 0,
          "time": 5.4888378378378375,
          "total_intensity": 0.5666904190715977
         },
         {
          "stack": 0,
          "time": 5.678108108108108,
          "total_intensity": 0.6113766102151176
         },
         {
          "stack": 0,
          "time": 5.867378378378378,
          "total_intensity": 0.6373371970578687
         },
         {
          "stack": 0,
          "time": 6.056648648648649,
          "total_intensity": 0.6562433196361132
         },
         {
          "stack": 0,
          "time": 6.245918918918919,
          "total_intensity": 0.6669699057029524
         },
         {
          "stack": 0,
          "time": 6.435189189189189,
          "total_intensity": 0.6934767978591165
         },
         {
          "stack": 0,
          "time": 6.62445945945946,
          "total_intensity": 0.6854397757772974
         },
         {
          "stack": 0,
          "time": 6.8137297297297295,
          "total_intensity": 0.6927776854073141
         },
         {
          "stack": 0,
          "time": 7.003,
          "total_intensity": 0.7392342224650246
         },
         {
          "stack": 0,
          "time": 7.19227027027027,
          "total_intensity": 0.73534595377782
         },
         {
          "stack": 0,
          "time": 7.3815405405405405,
          "total_intensity": 0.7499663507596811
         },
         {
          "stack": 0,
          "time": 7.57081081081081,
          "total_intensity": 0.7640760710355257
         },
         {
          "stack": 0,
          "time": 7.760081081081081,
          "total_intensity": 0.7841832735564476
         },
         {
          "stack": 0,
          "time": 7.949351351351352,
          "total_intensity": 0.7792863194065066
         },
         {
          "stack": 0,
          "time": 8.138621621621622,
          "total_intensity": 0.781149299699928
         },
         {
          "stack": 0,
          "time": 8.327891891891891,
          "total_intensity": 0.7914119221237818
         },
         {
          "stack": 0,
          "time": 8.517162162162162,
          "total_intensity": 0.7983397068953232
         },
         {
          "stack": 0,
          "time": 8.706432432432432,
          "total_intensity": 0.79277451841999
         },
         {
          "stack": 0,
          "time": 8.895702702702703,
          "total_intensity": 0.8137280983032865
         },
         {
          "stack": 0,
          "time": 9.084972972972974,
          "total_intensity": 0.80881926795088
         },
         {
          "stack": 0,
          "time": 9.274243243243243,
          "total_intensity": 0.8187208538197825
         },
         {
          "stack": 0,
          "time": 9.463513513513513,
          "total_intensity": 0.8292582123940049
         },
         {
          "stack": 0,
          "time": 9.652783783783784,
          "total_intensity": 0.8221982059016809
         },
         {
          "stack": 0,
          "time": 9.842054054054055,
          "total_intensity": 0.8351519758042169
         },
         {
          "stack": 0,
          "time": 10.031324324324324,
          "total_intensity": 0.8507438461477558
         },
         {
          "stack": 0,
          "time": 10.220594594594594,
          "total_intensity": 0.8417464351598932
         },
         {
          "stack": 0,
          "time": 10.409864864864865,
          "total_intensity": 0.85398050719302
         },
         {
          "stack": 0,
          "time": 10.599135135135135,
          "total_intensity": 0.8672905631695209
         },
         {
          "stack": 0,
          "time": 10.788405405405406,
          "total_intensity": 0.842667236724385
         },
         {
          "stack": 0,
          "time": 10.977675675675675,
          "total_intensity": 0.8437915172244523
         },
         {
          "stack": 0,
          "time": 11.166945945945946,
          "total_intensity": 0.8616018621885466
         },
         {
          "stack": 0,
          "time": 11.356216216216216,
          "total_intensity": 0.8579289486393831
         },
         {
          "stack": 0,
          "time": 11.545486486486487,
          "total_intensity": 0.8477209567468706
         },
         {
          "stack": 0,
          "time": 11.734756756756756,
          "total_intensity": 0.8774320483282265
         },
         {
          "stack": 0,
          "time": 11.924027027027027,
          "total_intensity": 0.8577444716277524
         },
         {
          "stack": 0,
          "time": 12.113297297297297,
          "total_intensity": 0.8636730718985297
         },
         {
          "stack": 0,
          "time": 12.302567567567568,
          "total_intensity": 0.9025082539607135
         },
         {
          "stack": 0,
          "time": 12.491837837837839,
          "total_intensity": 0.8875252369302392
         },
         {
          "stack": 0,
          "time": 12.681108108108107,
          "total_intensity": 0.8697457700925552
         },
         {
          "stack": 0,
          "time": 12.870378378378378,
          "total_intensity": 0.8972597642177937
         },
         {
          "stack": 0,
          "time": 13.059648648648649,
          "total_intensity": 0.8672153472205727
         },
         {
          "stack": 0,
          "time": 13.24891891891892,
          "total_intensity": 0.890681139798738
         },
         {
          "stack": 0,
          "time": 13.438189189189188,
          "total_intensity": 0.8680743925322439
         },
         {
          "stack": 0,
          "time": 13.627459459459459,
          "total_intensity": 0.8885711344940342
         },
         {
          "stack": 0,
          "time": 13.81672972972973,
          "total_intensity": 0.9002961133148064
         },
         {
          "stack": 0,
          "time": 14.006,
          "total_intensity": 0.8948599795729317
         },
         {
          "stack": 0,
          "time": 14.19527027027027,
          "total_intensity": 0.8817898228862339
         },
         {
          "stack": 0,
          "time": 14.38454054054054,
          "total_intensity": 0.9081336151952052
         },
         {
          "stack": 0,
          "time": 14.57381081081081,
          "total_intensity": 0.8804319770710117
         },
         {
          "stack": 0,
          "time": 14.763081081081081,
          "total_intensity": 0.8936462316809577
         },
         {
          "stack": 0,
          "time": 14.952351351351352,
          "total_intensity": 0.8849370165395913
         },
         {
          "stack": 0,
          "time": 15.14162162162162,
          "total_intensity": 0.894461730916922
         },
         {
          "stack": 0,
          "time": 15.330891891891891,
          "total_intensity": 0.8923952716879251
         },
         {
          "stack": 0,
          "time": 15.520162162162162,
          "total_intensity": 0.917872892963746
         },
         {
          "stack": 0,
          "time": 15.709432432432433,
          "total_intensity": 0.8988377156520431
         },
         {
          "stack": 0,
          "time": 15.898702702702703,
          "total_intensity": 0.9080259376261847
         },
         {
          "stack": 0,
          "time": 16.087972972972974,
          "total_intensity": 0.9242614981433537
         },
         {
          "stack": 0,
          "time": 16.277243243243245,
          "total_intensity": 0.9153685977371876
         },
         {
          "stack": 0,
          "time": 16.46651351351351,
          "total_intensity": 0.9097329437938925
         },
         {
          "stack": 0,
          "time": 16.655783783783782,
          "total_intensity": 0.9177707576225426
         },
         {
          "stack": 0,
          "time": 16.845054054054053,
          "total_intensity": 0.9215869773481231
         },
         {
          "stack": 0,
          "time": 17.034324324324324,
          "total_intensity": 0.9287412017133402
         },
         {
          "stack": 0,
          "time": 17.223594594594594,
          "total_intensity": 0.9367180510360007
         },
         {
          "stack": 0,
          "time": 17.412864864864865,
          "total_intensity": 0.9397757772974513
         },
         {
          "stack": 0,
          "time": 17.602135135135136,
          "total_intensity": 0.9363134684053427
         },
         {
          "stack": 0,
          "time": 17.791405405405406,
          "total_intensity": 0.9266509900794122
         },
         {
          "stack": 0,
          "time": 17.980675675675677,
          "total_intensity": 0.9172917507897674
         },
         {
          "stack": 0,
          "time": 18.169945945945948,
          "total_intensity": 0.9155024029516322
         },
         {
          "stack": 0,
          "time": 18.359216216216215,
          "total_intensity": 0.924980404265932
         },
         {
          "stack": 0,
          "time": 18.548486486486485,
          "total_intensity": 0.9443124866392723
         },
         {
          "stack": 0,
          "time": 18.737756756756756,
          "total_intensity": 0.9165277150978203
         },
         {
          "stack": 0,
          "time": 18.927027027027027,
          "total_intensity": 0.9395350862608173
         },
         {
          "stack": 0,
          "time": 19.116297297297297,
          "total_intensity": 0.9257254380339343
         },
         {
          "stack": 0,
          "time": 19.305567567567568,
          "total_intensity": 0.9074732983381234
         },
         {
          "stack": 0,
          "time": 19.49483783783784,
          "total_intensity": 0.9271299969121873
         },
         {
          "stack": 0,
          "time": 19.68410810810811,
          "total_intensity": 0.9252598908972867
         },
         {
          "stack": 0,
          "time": 19.87337837837838,
          "total_intensity": 0.9178697259764218
         },
         {
          "stack": 0,
          "time": 20.062648648648647,
          "total_intensity": 0.9286390663721369
         },
         {
          "stack": 0,
          "time": 20.251918918918918,
          "total_intensity": 0.927787146781945
         },
         {
          "stack": 0,
          "time": 20.44118918918919,
          "total_intensity": 0.917660704813029
         },
         {
          "stack": 0,
          "time": 20.63045945945946,
          "total_intensity": 0.920347101810725
         },
         {
          "stack": 0,
          "time": 20.81972972972973,
          "total_intensity": 0.9265219353459537
         },
         {
          "stack": 0,
          "time": 21.009,
          "total_intensity": 0.9232425199718138
         },
         {
          "stack": 0,
          "time": 21.19827027027027,
          "total_intensity": 0.9284910097147336
         },
         {
          "stack": 0,
          "time": 21.38754054054054,
          "total_intensity": 0.9144390869575545
         },
         {
          "stack": 0,
          "time": 21.576810810810812,
          "total_intensity": 0.9329200414875339
         },
         {
          "stack": 0,
          "time": 21.76608108108108,
          "total_intensity": 0.9215236376016405
         },
         {
          "stack": 0,
          "time": 21.95535135135135,
          "total_intensity": 0.923319319414424
         },
         {
          "stack": 0,
          "time": 22.14462162162162,
          "total_intensity": 0.9312106600793331
         },
         {
          "stack": 0,
          "time": 22.33389189189189,
          "total_intensity": 0.9220295638266708
         },
         {
          "stack": 0,
          "time": 22.523162162162162,
          "total_intensity": 0.9268877223818912
         },
         {
          "stack": 0,
          "time": 22.712432432432433,
          "total_intensity": 0.9364235212148564
         },
         {
          "stack": 0,
          "time": 22.901702702702703,
          "total_intensity": 0.9320293263026215
         },
         {
          "stack": 0,
          "time": 23.090972972972974,
          "total_intensity": 0.9199084740663326
         },
         {
          "stack": 0,
          "time": 23.280243243243245,
          "total_intensity": 0.9169370482094645
         },
         {
          "stack": 0,
          "time": 23.469513513513512,
          "total_intensity": 0.9320792063529766
         },
         {
          "stack": 0,
          "time": 23.658783783783782,
          "total_intensity": 0.9086157890153045
         },
         {
          "stack": 0,
          "time": 23.848054054054053,
          "total_intensity": 0.9221277404337189
         },
         {
          "stack": 0,
          "time": 24.037324324324324,
          "total_intensity": 0.9155894951030459
         },
         {
          "stack": 0,
          "time": 24.226594594594594,
          "total_intensity": 0.9025882203906479
         },
         {
          "stack": 0,
          "time": 24.415864864864865,
          "total_intensity": 0.9416886376412278
         },
         {
          "stack": 0,
          "time": 24.605135135135136,
          "total_intensity": 0.9098548728058716
         },
         {
          "stack": 0,
          "time": 24.794405405405406,
          "total_intensity": 0.9168174944379786
         },
         {
          "stack": 0,
          "time": 24.983675675675677,
          "total_intensity": 0.9061669160669185
         },
         {
          "stack": 0,
          "time": 25.172945945945944,
          "total_intensity": 0.9200953263184564
         },
         {
          "stack": 0,
          "time": 25.362216216216215,
          "total_intensity": 0.9180003642035423
         },
         {
          "stack": 0,
          "time": 25.551486486486485,
          "total_intensity": 0.9193035794874231
         },
         {
          "stack": 0,
          "time": 25.740756756756756,
          "total_intensity": 0.897028574143132
         },
         {
          "stack": 0,
          "time": 25.930027027027027,
          "total_intensity": 0.914023419871262
         },
         {
          "stack": 0,
          "time": 26.119297297297297,
          "total_intensity": 0.9282408177161271
         },
         {
          "stack": 0,
          "time": 26.308567567567568,
          "total_intensity": 0.9291283659137154
         },
         {
          "stack": 0,
          "time": 26.49783783783784,
          "total_intensity": 0.9287419934601712
         },
         {
          "stack": 0,
          "time": 26.68710810810811,
          "total_intensity": 0.8996120440527937
         },
         {
          "stack": 0,
          "time": 26.876378378378377,
          "total_intensity": 0.9237151928299407
         },
         {
          "stack": 0,
          "time": 27.065648648648647,
          "total_intensity": 0.9234816275147859
         },
         {
          "stack": 0,
          "time": 27.254918918918918,
          "total_intensity": 0.9313895948631465
         },
         {
          "stack": 0,
          "time": 27.44418918918919,
          "total_intensity": 0.9244958552053395
         },
         {
          "stack": 0,
          "time": 27.63345945945946,
          "total_intensity": 0.927335059341425
         },
         {
          "stack": 0,
          "time": 27.82272972972973,
          "total_intensity": 0.9097155253636098
         },
         {
          "stack": 0,
          "time": 28.012,
          "total_intensity": 0.9259597950959201
         },
         {
          "stack": 1,
          "time": 0,
          "total_intensity": 0.9847172339774914
         },
         {
          "stack": 1,
          "time": 0.18927027027027027,
          "total_intensity": 0.9893063358536044
         },
         {
          "stack": 1,
          "time": 0.37854054054054054,
          "total_intensity": 0.9901060372584407
         },
         {
          "stack": 1,
          "time": 0.5678108108108109,
          "total_intensity": 0.992539617822174
         },
         {
          "stack": 1,
          "time": 0.7570810810810811,
          "total_intensity": 0.9784208033289163
         },
         {
          "stack": 1,
          "time": 0.9463513513513513,
          "total_intensity": 0.9831485600877797
         },
         {
          "stack": 1,
          "time": 1.1356216216216217,
          "total_intensity": 0.9823353679375948
         },
         {
          "stack": 1,
          "time": 1.324891891891892,
          "total_intensity": 0.9991793129912879
         },
         {
          "stack": 1,
          "time": 1.5141621621621622,
          "total_intensity": 0.9753726443659649
         },
         {
          "stack": 1,
          "time": 1.7034324324324324,
          "total_intensity": 0.9900813042253015
         },
         {
          "stack": 1,
          "time": 1.8927027027027026,
          "total_intensity": 0.9671208051276824
         },
         {
          "stack": 1,
          "time": 2.081972972972973,
          "total_intensity": 1
         },
         {
          "stack": 1,
          "time": 2.2712432432432434,
          "total_intensity": 0.9881978462774537
         },
         {
          "stack": 1,
          "time": 2.4605135135135137,
          "total_intensity": 0.9846175523590817
         },
         {
          "stack": 1,
          "time": 2.649783783783784,
          "total_intensity": 0.9917414153890431
         },
         {
          "stack": 1,
          "time": 2.839054054054054,
          "total_intensity": 0.9872497466737817
         },
         {
          "stack": 1,
          "time": 3.0283243243243243,
          "total_intensity": 0.9894082659295723
         },
         {
          "stack": 1,
          "time": 3.2175945945945945,
          "total_intensity": 0.9808049178263711
         },
         {
          "stack": 1,
          "time": 3.4068648648648647,
          "total_intensity": 0.9853250670040352
         },
         {
          "stack": 1,
          "time": 3.596135135135135,
          "total_intensity": 0.9701194980243553
         },
         {
          "stack": 1,
          "time": 3.785405405405405,
          "total_intensity": 0.18208009305616346
         },
         {
          "stack": 1,
          "time": 3.974675675675676,
          "total_intensity": 0.2475626720070032
         },
         {
          "stack": 1,
          "time": 4.163945945945946,
          "total_intensity": 0.307063604367404
         },
         {
          "stack": 1,
          "time": 4.353216216216216,
          "total_intensity": 0.35826398090909634
         },
         {
          "stack": 1,
          "time": 4.542486486486487,
          "total_intensity": 0.4072871010486806
         },
         {
          "stack": 1,
          "time": 4.731756756756757,
          "total_intensity": 0.456266751008808
         },
         {
          "stack": 1,
          "time": 4.921027027027027,
          "total_intensity": 0.4951965451700134
         },
         {
          "stack": 1,
          "time": 5.110297297297297,
          "total_intensity": 0.5185295387364268
         },
         {
          "stack": 1,
          "time": 5.299567567567568,
          "total_intensity": 0.5680870422889898
         },
         {
          "stack": 1,
          "time": 5.4888378378378375,
          "total_intensity": 0.578786702322207
         },
         {
          "stack": 1,
          "time": 5.678108108108108,
          "total_intensity": 0.6002437327992997
         },
         {
          "stack": 1,
          "time": 5.867378378378378,
          "total_intensity": 0.620377920746368
         },
         {
          "stack": 1,
          "time": 6.056648648648649,
          "total_intensity": 0.6537840041731372
         },
         {
          "stack": 1,
          "time": 6.245918918918919,
          "total_intensity": 0.6531454422266325
         },
         {
          "stack": 1,
          "time": 6.435189189189189,
          "total_intensity": 0.6654107782061506
         },
         {
          "stack": 1,
          "time": 6.62445945945946,
          "total_intensity": 0.695330253446136
         },
         {
          "stack": 1,
          "time": 6.8137297297297295,
          "total_intensity": 0.7005579172687536
         },
         {
          "stack": 1,
          "time": 7.003,
          "total_intensity": 0.7157627367625808
         },
         {
          "stack": 1,
          "time": 7.19227027027027,
          "total_intensity": 0.7272231249362937
         },
         {
          "stack": 1,
          "time": 7.3815405405405405,
          "total_intensity": 0.7332782211402977
         },
         {
          "stack": 1,
          "time": 7.57081081081081,
          "total_intensity": 0.7474240171242528
         },
         {
          "stack": 1,
          "time": 7.760081081081081,
          "total_intensity": 0.7726224809780491
         },
         {
          "stack": 1,
          "time": 7.949351351351352,
          "total_intensity": 0.7615473285326266
         },
         {
          "stack": 1,
          "time": 8.138621621621622,
          "total_intensity": 0.7800656249812629
         },
         {
          "stack": 1,
          "time": 8.327891891891891,
          "total_intensity": 0.7822668649306576
         },
         {
          "stack": 1,
          "time": 8.517162162162162,
          "total_intensity": 0.8087701836540133
         },
         {
          "stack": 1,
          "time": 8.706432432432432,
          "total_intensity": 0.8048331344697538
         },
         {
          "stack": 1,
          "time": 8.895702702702703,
          "total_intensity": 0.8132386183078408
         },
         {
          "stack": 1,
          "time": 9.084972972972974,
          "total_intensity": 0.8225607233437862
         },
         {
          "stack": 1,
          "time": 9.274243243243243,
          "total_intensity": 0.8311265971543521
         },
         {
          "stack": 1,
          "time": 9.463513513513513,
          "total_intensity": 0.8440432363398709
         },
         {
          "stack": 1,
          "time": 9.652783783783784,
          "total_intensity": 0.8249868090489924
         },
         {
          "stack": 1,
          "time": 9.842054054054055,
          "total_intensity": 0.8520514926760242
         },
         {
          "stack": 1,
          "time": 10.031324324324324,
          "total_intensity": 0.8508313297078204
         },
         {
          "stack": 1,
          "time": 10.220594594594594,
          "total_intensity": 0.8540173940676696
         },
         {
          "stack": 1,
          "time": 10.409864864864865,
          "total_intensity": 0.8762186639964984
         },
         {
          "stack": 1,
          "time": 10.599135135135135,
          "total_intensity": 0.8562501124228779
         },
         {
          "stack": 1,
          "time": 10.788405405405406,
          "total_intensity": 0.8549684916147523
         },
         {
          "stack": 1,
          "time": 10.977675675675675,
          "total_intensity": 0.8675351209070578
         },
         {
          "stack": 1,
          "time": 11.166945945945946,
          "total_intensity": 0.8701680647076105
         },
         {
          "stack": 1,
          "time": 11.356216216216216,
          "total_intensity": 0.8700796253769914
         },
         {
          "stack": 1,
          "time": 11.545486486486487,
          "total_intensity": 0.876758293810446
         },
         {
          "stack": 1,
          "time": 11.734756756756756,
          "total_intensity": 0.8867961578357247
         },
         {
          "stack": 1,
          "time": 11.924027027027027,
          "total_intensity": 0.8723550644258039
         },
         {
          "stack": 1,
          "time": 12.113297297297297,
          "total_intensity": 0.8797989579148704
         },
         {
          "stack": 1,
          "time": 12.302567567567568,
          "total_intensity": 0.875020236118023
         },
         {
          "stack": 1,
          "time": 12.491837837837839,
          "total_intensity": 0.8826949712497227
         },
         {
          "stack": 1,
          "time": 12.681108108108107,
          "total_intensity": 0.8766878421402917
         },
         {
          "stack": 1,
          "time": 12.870378378378378,
          "total_intensity": 0.8907819236004101
         },
         {
          "stack": 1,
          "time": 13.059648648648649,
          "total_intensity": 0.8806391315557528
         },
         {
          "stack": 1,
          "time": 13.24891891891892,
          "total_intensity": 0.8980736714613775
         },
         {
          "stack": 1,
          "time": 13.438189189189188,
          "total_intensity": 0.8801422224354093
         },
         {
          "stack": 1,
          "time": 13.627459459459459,
          "total_intensity": 0.8978593185075039
         },
         {
          "stack": 1,
          "time": 13.81672972972973,
          "total_intensity": 0.8854051120931041
         },
         {
          "stack": 1,
          "time": 14.006,
          "total_intensity": 0.8985113711993572
         },
         {
          "stack": 1,
          "time": 14.19527027027027,
          "total_intensity": 0.9189963185254915
         },
         {
          "stack": 1,
          "time": 14.38454054054054,
          "total_intensity": 0.8993800253026424
         },
         {
          "stack": 1,
          "time": 14.57381081081081,
          "total_intensity": 0.9088085573296718
         },
         {
          "stack": 1,
          "time": 14.763081081081081,
          "total_intensity": 0.9147302450518944
         },
         {
          "stack": 1,
          "time": 14.952351351351352,
          "total_intensity": 0.9025983175541579
         },
         {
          "stack": 1,
          "time": 15.14162162162162,
          "total_intensity": 0.9081085375432454
         },
         {
          "stack": 1,
          "time": 15.330891891891891,
          "total_intensity": 0.9135213243714811
         },
         {
          "stack": 1,
          "time": 15.520162162162162,
          "total_intensity": 0.8942160677775046
         },
         {
          "stack": 1,
          "time": 15.709432432432433,
          "total_intensity": 0.9015437909594018
         },
         {
          "stack": 1,
          "time": 15.898702702702703,
          "total_intensity": 0.9065556028564404
         },
         {
          "stack": 1,
          "time": 16.087972972972974,
          "total_intensity": 0.9118806998399098
         },
         {
          "stack": 1,
          "time": 16.277243243243245,
          "total_intensity": 0.9047321037768091
         },
         {
          "stack": 1,
          "time": 16.46651351351351,
          "total_intensity": 0.9091885466569933
         },
         {
          "stack": 1,
          "time": 16.655783783783782,
          "total_intensity": 0.8989783008855925
         },
         {
          "stack": 1,
          "time": 16.845054054054053,
          "total_intensity": 0.9166901505567181
         },
         {
          "stack": 1,
          "time": 17.034324324324324,
          "total_intensity": 0.9408123527260299
         },
         {
          "stack": 1,
          "time": 17.223594594594594,
          "total_intensity": 0.9373025104778122
         },
         {
          "stack": 1,
          "time": 17.412864864864865,
          "total_intensity": 0.9283836288306222
         },
         {
          "stack": 1,
          "time": 17.602135135135136,
          "total_intensity": 0.9092739880442017
         },
         {
          "stack": 1,
          "time": 17.791405405405406,
          "total_intensity": 0.9255490733356917
         },
         {
          "stack": 1,
          "time": 17.980675675675677,
          "total_intensity": 0.9126886455891259
         },
         {
          "stack": 1,
          "time": 18.169945945945948,
          "total_intensity": 0.9089749431889723
         },
         {
          "stack": 1,
          "time": 18.359216216216215,
          "total_intensity": 0.9282374790893447
         },
         {
          "stack": 1,
          "time": 18.548486486486485,
          "total_intensity": 0.9305893656951332
         },
         {
          "stack": 1,
          "time": 18.737756756756756,
          "total_intensity": 0.9302693352360281
         },
         {
          "stack": 1,
          "time": 18.927027027027027,
          "total_intensity": 0.9311439852261348
         },
         {
          "stack": 1,
          "time": 19.116297297297297,
          "total_intensity": 0.9148479143307691
         },
         {
          "stack": 1,
          "time": 19.305567567567568,
          "total_intensity": 0.9242022472583807
         },
         {
          "stack": 1,
          "time": 19.49483783783784,
          "total_intensity": 0.9268217003135849
         },
         {
          "stack": 1,
          "time": 19.68410810810811,
          "total_intensity": 0.9164713006877282
         },
         {
          "stack": 1,
          "time": 19.87337837837838,
          "total_intensity": 0.9281010726641524
         },
         {
          "stack": 1,
          "time": 20.062648648648647,
          "total_intensity": 0.928203752225973
         },
         {
          "stack": 1,
          "time": 20.251918918918918,
          "total_intensity": 0.9317293336770975
         },
         {
          "stack": 1,
          "time": 20.44118918918919,
          "total_intensity": 0.9296105371715003
         },
         {
          "stack": 1,
          "time": 20.63045945945946,
          "total_intensity": 0.9303480312505621
         },
         {
          "stack": 1,
          "time": 20.81972972972973,
          "total_intensity": 0.9246894130626391
         },
         {
          "stack": 1,
          "time": 21.009,
          "total_intensity": 0.9475457336267321
         },
         {
          "stack": 1,
          "time": 21.19827027027027,
          "total_intensity": 0.9614741787134026
         },
         {
          "stack": 1,
          "time": 21.38754054054054,
          "total_intensity": 0.9253234780940275
         },
         {
          "stack": 1,
          "time": 21.576810810810812,
          "total_intensity": 0.9456465364759775
         },
         {
          "stack": 1,
          "time": 21.76608108108108,
          "total_intensity": 0.9371653545667672
         },
         {
          "stack": 1,
          "time": 21.95535135135135,
          "total_intensity": 0.9759842248217723
         },
         {
          "stack": 1,
          "time": 22.14462162162162,
          "total_intensity": 0.9507430402743717
         },
         {
          "stack": 1,
          "time": 22.33389189189189,
          "total_intensity": 0.9614584395104958
         },
         {
          "stack": 1,
          "time": 22.523162162162162,
          "total_intensity": 0.9409285230331992
         },
         {
          "stack": 1,
          "time": 22.712432432432433,
          "total_intensity": 0.9465504164143398
         },
         {
          "stack": 1,
          "time": 22.901702702702703,
          "total_intensity": 0.9532665591404297
         },
         {
          "stack": 1,
          "time": 23.090972972972974,
          "total_intensity": 0.9716177202439127
         },
         {
          "stack": 1,
          "time": 23.280243243243245,
          "total_intensity": 0.963681414549619
         },
         {
          "stack": 1,
          "time": 23.469513513513512,
          "total_intensity": 0.9591402797680791
         },
         {
          "stack": 1,
          "time": 23.658783783783782,
          "total_intensity": 0.9427625149147685
         },
         {
          "stack": 1,
          "time": 23.848054054054053,
          "total_intensity": 0.9420744869019853
         },
         {
          "stack": 1,
          "time": 24.037324324324324,
          "total_intensity": 0.9449824920104808
         },
         {
          "stack": 1,
          "time": 24.226594594594594,
          "total_intensity": 0.9447561472829639
         },
         {
          "stack": 1,
          "time": 24.415864864864865,
          "total_intensity": 0.9542281494894502
         },
         {
          "stack": 1,
          "time": 24.605135135135136,
          "total_intensity": 0.9554722960049407
         },
         {
          "stack": 1,
          "time": 24.794405405405406,
          "total_intensity": 0.9678807837823253
         },
         {
          "stack": 1,
          "time": 24.983675675675677,
          "total_intensity": 0.9664072945959072
         },
         {
          "stack": 1,
          "time": 25.172945945945944,
          "total_intensity": 0.9411646110768013
         },
         {
          "stack": 1,
          "time": 25.362216216216215,
          "total_intensity": 0.9505459254951103
         },
         {
          "stack": 1,
          "time": 25.551486486486485,
          "total_intensity": 0.9435787050083643
         },
         {
          "stack": 1,
          "time": 25.740756756756756,
          "total_intensity": 0.94384627145778
         },
         {
          "stack": 1,
          "time": 25.930027027027027,
          "total_intensity": 0.9425174330409339
         },
         {
          "stack": 1,
          "time": 26.119297297297297,
          "total_intensity": 0.9485395518674189
         },
         {
          "stack": 1,
          "time": 26.308567567567568,
          "total_intensity": 0.9631852549151282
         },
         {
          "stack": 1,
          "time": 26.49783783783784,
          "total_intensity": 0.949314520239116
         },
         {
          "stack": 1,
          "time": 26.68710810810811,
          "total_intensity": 0.9588007626768037
         },
         {
          "stack": 1,
          "time": 26.876378378378377,
          "total_intensity": 0.9593606286087744
         },
         {
          "stack": 1,
          "time": 27.065648648648647,
          "total_intensity": 0.9603941695996546
         },
         {
          "stack": 1,
          "time": 27.254918918918918,
          "total_intensity": 0.9547467936995221
         },
         {
          "stack": 1,
          "time": 27.44418918918919,
          "total_intensity": 0.9538241766148422
         },
         {
          "stack": 1,
          "time": 27.63345945945946,
          "total_intensity": 0.9686070355735965
         },
         {
          "stack": 1,
          "time": 27.82272972972973,
          "total_intensity": 0.9620355436170787
         },
         {
          "stack": 1,
          "time": 28.012,
          "total_intensity": 0.9681303625712762
         },
         {
          "stack": 2,
          "time": 0,
          "total_intensity": 0.9801497594987049
         },
         {
          "stack": 2,
          "time": 0.18927027027027027,
          "total_intensity": 1
         },
         {
          "stack": 2,
          "time": 0.37854054054054054,
          "total_intensity": 0.9703701799563604
         },
         {
          "stack": 2,
          "time": 0.5678108108108109,
          "total_intensity": 0.9608582441061684
         },
         {
          "stack": 2,
          "time": 0.7570810810810811,
          "total_intensity": 0.947953130599537
         },
         {
          "stack": 2,
          "time": 0.9463513513513513,
          "total_intensity": 0.952402517967662
         },
         {
          "stack": 2,
          "time": 1.1356216216216217,
          "total_intensity": 0.9763959433079248
         },
         {
          "stack": 2,
          "time": 1.324891891891892,
          "total_intensity": 0.9524849280310648
         },
         {
          "stack": 2,
          "time": 1.5141621621621622,
          "total_intensity": 0.9358547284475003
         },
         {
          "stack": 2,
          "time": 1.7034324324324324,
          "total_intensity": 0.9719662133861161
         },
         {
          "stack": 2,
          "time": 1.8927027027027026,
          "total_intensity": 0.9488241066824733
         },
         {
          "stack": 2,
          "time": 2.081972972972973,
          "total_intensity": 0.9570348707976538
         },
         {
          "stack": 2,
          "time": 2.2712432432432434,
          "total_intensity": 0.9504813806180603
         },
         {
          "stack": 2,
          "time": 2.4605135135135137,
          "total_intensity": 0.9296452435784416
         },
         {
          "stack": 2,
          "time": 2.649783783783784,
          "total_intensity": 0.9464153134531026
         },
         {
          "stack": 2,
          "time": 2.839054054054054,
          "total_intensity": 0.9419825593087837
         },
         {
          "stack": 2,
          "time": 3.0283243243243243,
          "total_intensity": 0.9465899623030664
         },
         {
          "stack": 2,
          "time": 3.2175945945945945,
          "total_intensity": 0.9406360242361193
         },
         {
          "stack": 2,
          "time": 3.4068648648648647,
          "total_intensity": 0.949028997757539
         },
         {
          "stack": 2,
          "time": 3.596135135135135,
          "total_intensity": 0.9543153387053606
         },
         {
          "stack": 2,
          "time": 3.785405405405405,
          "total_intensity": 0.16412833590644266
         },
         {
          "stack": 2,
          "time": 3.974675675675676,
          "total_intensity": 0.23237672134965
         },
         {
          "stack": 2,
          "time": 4.163945945945946,
          "total_intensity": 0.29370341752264767
         },
         {
          "stack": 2,
          "time": 4.353216216216216,
          "total_intensity": 0.3448180703343429
         },
         {
          "stack": 2,
          "time": 4.542486486486487,
          "total_intensity": 0.3982757395358121
         },
         {
          "stack": 2,
          "time": 4.731756756756757,
          "total_intensity": 0.43817959950221297
         },
         {
          "stack": 2,
          "time": 4.921027027027027,
          "total_intensity": 0.47157835684918353
         },
         {
          "stack": 2,
          "time": 5.110297297297297,
          "total_intensity": 0.5156949587722867
         },
         {
          "stack": 2,
          "time": 5.299567567567568,
          "total_intensity": 0.5318216253079037
         },
         {
          "stack": 2,
          "time": 5.4888378378378375,
          "total_intensity": 0.5728966154413777
         },
         {
          "stack": 2,
          "time": 5.678108108108108,
          "total_intensity": 0.6007927999310477
         },
         {
          "stack": 2,
          "time": 5.867378378378378,
          "total_intensity": 0.5977217019719443
         },
         {
          "stack": 2,
          "time": 6.056648648648649,
          "total_intensity": 0.6237050657239157
         },
         {
          "stack": 2,
          "time": 6.245918918918919,
          "total_intensity": 0.6556272464302834
         },
         {
          "stack": 2,
          "time": 6.435189189189189,
          "total_intensity": 0.657377515208059
         },
         {
          "stack": 2,
          "time": 6.62445945945946,
          "total_intensity": 0.6797318119477959
         },
         {
          "stack": 2,
          "time": 6.8137297297297295,
          "total_intensity": 0.6986611766947365
         },
         {
          "stack": 2,
          "time": 7.003,
          "total_intensity": 0.6991064934593628
         },
         {
          "stack": 2,
          "time": 7.19227027027027,
          "total_intensity": 0.6909637743506616
         },
         {
          "stack": 2,
          "time": 7.3815405405405405,
          "total_intensity": 0.702313681431425
         },
         {
          "stack": 2,
          "time": 7.57081081081081,
          "total_intensity": 0.7271705222983487
         },
         {
          "stack": 2,
          "time": 7.760081081081081,
          "total_intensity": 0.7319404772525543
         },
         {
          "stack": 2,
          "time": 7.949351351351352,
          "total_intensity": 0.7364873957966331
         },
         {
          "stack": 2,
          "time": 8.138621621621622,
          "total_intensity": 0.7658329389243143
         },
         {
          "stack": 2,
          "time": 8.327891891891891,
          "total_intensity": 0.7697704766325887
         },
         {
          "stack": 2,
          "time": 8.517162162162162,
          "total_intensity": 0.7523449065288428
         },
         {
          "stack": 2,
          "time": 8.706432432432432,
          "total_intensity": 0.7823482180524914
         },
         {
          "stack": 2,
          "time": 8.895702702702703,
          "total_intensity": 0.8057073127212407
         },
         {
          "stack": 2,
          "time": 9.084972972972974,
          "total_intensity": 0.8188951910325755
         },
         {
          "stack": 2,
          "time": 9.274243243243243,
          "total_intensity": 0.8171464343660549
         },
         {
          "stack": 2,
          "time": 9.463513513513513,
          "total_intensity": 0.8086740750037424
         },
         {
          "stack": 2,
          "time": 9.652783783783784,
          "total_intensity": 0.835486831779135
         },
         {
          "stack": 2,
          "time": 9.842054054054055,
          "total_intensity": 0.8327846889662753
         },
         {
          "stack": 2,
          "time": 10.031324324324324,
          "total_intensity": 0.8324376594332304
         },
         {
          "stack": 2,
          "time": 10.220594594594594,
          "total_intensity": 0.8213296901532827
         },
         {
          "stack": 2,
          "time": 10.409864864864865,
          "total_intensity": 0.8324437078782508
         },
         {
          "stack": 2,
          "time": 10.599135135135135,
          "total_intensity": 0.8322531818601085
         },
         {
          "stack": 2,
          "time": 10.788405405405406,
          "total_intensity": 0.846770205964674
         },
         {
          "stack": 2,
          "time": 10.977675675675675,
          "total_intensity": 0.8451938299812347
         },
         {
          "stack": 2,
          "time": 11.166945945945946,
          "total_intensity": 0.8407542713362678
         },
         {
          "stack": 2,
          "time": 11.356216216216216,
          "total_intensity": 0.8558640430528317
         },
         {
          "stack": 2,
          "time": 11.545486486486487,
          "total_intensity": 0.8678376960263229
         },
         {
          "stack": 2,
          "time": 11.734756756756756,
          "total_intensity": 0.8556402505870772
         },
         {
          "stack": 2,
          "time": 11.924027027027027,
          "total_intensity": 0.8589736998489401
         },
         {
          "stack": 2,
          "time": 12.113297297297297,
          "total_intensity": 0.8797841309972223
         },
         {
          "stack": 2,
          "time": 12.302567567567568,
          "total_intensity": 0.8665561817376275
         },
         {
          "stack": 2,
          "time": 12.491837837837839,
          "total_intensity": 0.8642207259041291
         },
         {
          "stack": 2,
          "time": 12.681108108108107,
          "total_intensity": 0.890736352817895
         },
         {
          "stack": 2,
          "time": 12.870378378378378,
          "total_intensity": 0.9019237079387353
         },
         {
          "stack": 2,
          "time": 13.059648648648649,
          "total_intensity": 0.8747661897971806
         },
         {
          "stack": 2,
          "time": 13.24891891891892,
          "total_intensity": 0.8677688949642159
         },
         {
          "stack": 2,
          "time": 13.438189189189188,
          "total_intensity": 0.8698699735531742
         },
         {
          "stack": 2,
          "time": 13.627459459459459,
          "total_intensity": 0.863119908910418
         },
         {
          "stack": 2,
          "time": 13.81672972972973,
          "total_intensity": 0.8740434006172438
         },
         {
          "stack": 2,
          "time": 14.006,
          "total_intensity": 0.8831387498166565
         },
         {
          "stack": 2,
          "time": 14.19527027027027,
          "total_intensity": 0.8914538496084388
         },
         {
          "stack": 2,
          "time": 14.38454054054054,
          "total_intensity": 0.8845918887328054
         },
         {
          "stack": 2,
          "time": 14.57381081081081,
          "total_intensity": 0.8771553255802349
         },
         {
          "stack": 2,
          "time": 14.763081081081081,
          "total_intensity": 0.8925675195478182
         },
         {
          "stack": 2,
          "time": 14.952351351351352,
          "total_intensity": 0.8896597296042653
         },
         {
          "stack": 2,
          "time": 15.14162162162162,
          "total_intensity": 0.888214151244392
         },
         {
          "stack": 2,
          "time": 15.330891891891891,
          "total_intensity": 0.896410550302649
         },
         {
          "stack": 2,
          "time": 15.520162162162162,
          "total_intensity": 0.8994846724842627
         },
         {
          "stack": 2,
          "time": 15.709432432432433,
          "total_intensity": 0.8910886747403327
         },
         {
          "stack": 2,
          "time": 15.898702702702703,
          "total_intensity": 0.8810762300647033
         },
         {
          "stack": 2,
          "time": 16.087972972972974,
          "total_intensity": 0.905309325038899
         },
         {
          "stack": 2,
          "time": 16.277243243243245,
          "total_intensity": 0.8967454829456533
         },
         {
          "stack": 2,
          "time": 16.46651351351351,
          "total_intensity": 0.9087486220886188
         },
         {
          "stack": 2,
          "time": 16.655783783783782,
          "total_intensity": 0.9035250337578837
         },
         {
          "stack": 2,
          "time": 16.845054054054053,
          "total_intensity": 0.916790785798856
         },
         {
          "stack": 2,
          "time": 17.034324324324324,
          "total_intensity": 0.9091803298519492
         },
         {
          "stack": 2,
          "time": 17.223594594594594,
          "total_intensity": 0.8997840705127721
         },
         {
          "stack": 2,
          "time": 17.412864864864865,
          "total_intensity": 0.8942731810435685
         },
         {
          "stack": 2,
          "time": 17.602135135135136,
          "total_intensity": 0.9129651443234588
         },
         {
          "stack": 2,
          "time": 17.791405405405406,
          "total_intensity": 0.9111460744835762
         },
         {
          "stack": 2,
          "time": 17.980675675675677,
          "total_intensity": 0.898453412608286
         },
         {
          "stack": 2,
          "time": 18.169945945945948,
          "total_intensity": 0.9009340311222739
         },
         {
          "stack": 2,
          "time": 18.359216216216215,
          "total_intensity": 0.9089875356669243
         },
         {
          "stack": 2,
          "time": 18.548486486486485,
          "total_intensity": 0.9141438350468074
         },
         {
          "stack": 2,
          "time": 18.737756756756756,
          "total_intensity": 0.9137620269548953
         },
         {
          "stack": 2,
          "time": 18.927027027027027,
          "total_intensity": 0.9264040331031396
         },
         {
          "stack": 2,
          "time": 19.116297297297297,
          "total_intensity": 0.913604767384365
         },
         {
          "stack": 2,
          "time": 19.305567567567568,
          "total_intensity": 0.9257371920396416
         },
         {
          "stack": 2,
          "time": 19.49483783783784,
          "total_intensity": 0.9240375789889117
         },
         {
          "stack": 2,
          "time": 19.68410810810811,
          "total_intensity": 0.9106674912713377
         },
         {
          "stack": 2,
          "time": 19.87337837837838,
          "total_intensity": 0.9136743245020996
         },
         {
          "stack": 2,
          "time": 20.062648648648647,
          "total_intensity": 0.9141234215448636
         },
         {
          "stack": 2,
          "time": 20.251918918918918,
          "total_intensity": 0.9347856657901462
         },
         {
          "stack": 2,
          "time": 20.44118918918919,
          "total_intensity": 0.922300919212432
         },
         {
          "stack": 2,
          "time": 20.63045945945946,
          "total_intensity": 0.9162093790212709
         },
         {
          "stack": 2,
          "time": 20.81972972972973,
          "total_intensity": 0.9257235830383457
         },
         {
          "stack": 2,
          "time": 21.009,
          "total_intensity": 0.8971136820362695
         },
         {
          "stack": 2,
          "time": 21.19827027027027,
          "total_intensity": 0.9059890190480655
         },
         {
          "stack": 2,
          "time": 21.38754054054054,
          "total_intensity": 0.9223780368864419
         },
         {
          "stack": 2,
          "time": 21.576810810810812,
          "total_intensity": 0.9230909973432205
         },
         {
          "stack": 2,
          "time": 21.76608108108108,
          "total_intensity": 0.9177547567239808
         },
         {
          "stack": 2,
          "time": 21.95535135135135,
          "total_intensity": 0.9237601065736013
         },
         {
          "stack": 2,
          "time": 22.14462162162162,
          "total_intensity": 0.9328267256591671
         },
         {
          "stack": 2,
          "time": 22.33389189189189,
          "total_intensity": 0.915135023974524
         },
         {
          "stack": 2,
          "time": 22.523162162162162,
          "total_intensity": 0.9494591934096143
         },
         {
          "stack": 2,
          "time": 22.712432432432433,
          "total_intensity": 0.9203419790814529
         },
         {
          "stack": 2,
          "time": 22.901702702702703,
          "total_intensity": 0.9146670255410712
         },
         {
          "stack": 2,
          "time": 23.090972972972974,
          "total_intensity": 0.9274368050903713
         },
         {
          "stack": 2,
          "time": 23.280243243243245,
          "total_intensity": 0.9294653023390849
         },
         {
          "stack": 2,
          "time": 23.469513513513512,
          "total_intensity": 0.9259042803333298
         },
         {
          "stack": 2,
          "time": 23.658783783783782,
          "total_intensity": 0.9110750052545866
         },
         {
          "stack": 2,
          "time": 23.848054054054053,
          "total_intensity": 0.9373910334826795
         },
         {
          "stack": 2,
          "time": 24.037324324324324,
          "total_intensity": 0.9275804556596056
         },
         {
          "stack": 2,
          "time": 24.226594594594594,
          "total_intensity": 0.9223583794401257
         },
         {
          "stack": 2,
          "time": 24.415864864864865,
          "total_intensity": 0.9091757935181839
         },
         {
          "stack": 2,
          "time": 24.605135135135136,
          "total_intensity": 0.9467555384854996
         },
         {
          "stack": 2,
          "time": 24.794405405405406,
          "total_intensity": 0.9207426885640538
         },
         {
          "stack": 2,
          "time": 24.983675675675677,
          "total_intensity": 0.9358978236182706
         },
         {
          "stack": 2,
          "time": 25.172945945945944,
          "total_intensity": 0.9493828317912318
         },
         {
          "stack": 2,
          "time": 25.362216216216215,
          "total_intensity": 0.9150541260223762
         },
         {
          "stack": 2,
          "time": 25.551486486486485,
          "total_intensity": 0.9112730918290044
         },
         {
          "stack": 2,
          "time": 25.740756756756756,
          "total_intensity": 0.90679270618015
         },
         {
          "stack": 2,
          "time": 25.930027027027027,
          "total_intensity": 0.93345198366315
         },
         {
          "stack": 2,
          "time": 26.119297297297297,
          "total_intensity": 0.9231030942332613
         },
         {
          "stack": 2,
          "time": 26.308567567567568,
          "total_intensity": 0.923291352084521
         },
         {
          "stack": 2,
          "time": 26.49783783783784,
          "total_intensity": 0.9245433802037418
         },
         {
          "stack": 2,
          "time": 26.68710810810811,
          "total_intensity": 0.9224105472784265
         },
         {
          "stack": 2,
          "time": 26.876378378378377,
          "total_intensity": 0.934008440605026
         },
         {
          "stack": 2,
          "time": 27.065648648648647,
          "total_intensity": 0.925419648676071
         },
         {
          "stack": 2,
          "time": 27.254918918918918,
          "total_intensity": 0.9295015930092072
         },
         {
          "stack": 2,
          "time": 27.44418918918919,
          "total_intensity": 0.9159613927754349
         },
         {
          "stack": 2,
          "time": 27.63345945945946,
          "total_intensity": 0.9270035852157859
         },
         {
          "stack": 2,
          "time": 27.82272972972973,
          "total_intensity": 0.926636142180797
         },
         {
          "stack": 2,
          "time": 28.012,
          "total_intensity": 0.9207555415097222
         },
         {
          "stack": 3,
          "time": 0,
          "total_intensity": 0.983621517604237
         },
         {
          "stack": 3,
          "time": 0.18927027027027027,
          "total_intensity": 0.9640746901250635
         },
         {
          "stack": 3,
          "time": 0.37854054054054054,
          "total_intensity": 1
         },
         {
          "stack": 3,
          "time": 0.5678108108108109,
          "total_intensity": 0.9649568158566885
         },
         {
          "stack": 3,
          "time": 0.7570810810810811,
          "total_intensity": 0.9640042244601112
         },
         {
          "stack": 3,
          "time": 0.9463513513513513,
          "total_intensity": 0.9572760583768887
         },
         {
          "stack": 3,
          "time": 1.1356216216216217,
          "total_intensity": 0.9683174191123762
         },
         {
          "stack": 3,
          "time": 1.324891891891892,
          "total_intensity": 0.9807454745384064
         },
         {
          "stack": 3,
          "time": 1.5141621621621622,
          "total_intensity": 0.9826123796864017
         },
         {
          "stack": 3,
          "time": 1.7034324324324324,
          "total_intensity": 0.9584435265542464
         },
         {
          "stack": 3,
          "time": 1.8927027027027026,
          "total_intensity": 0.9727584958973324
         },
         {
          "stack": 3,
          "time": 2.081972972972973,
          "total_intensity": 0.9578467432683542
         },
         {
          "stack": 3,
          "time": 2.2712432432432434,
          "total_intensity": 0.9496440179000188
         },
         {
          "stack": 3,
          "time": 2.4605135135135137,
          "total_intensity": 0.9687019354569307
         },
         {
          "stack": 3,
          "time": 2.649783783783784,
          "total_intensity": 0.9493308371668975
         },
         {
          "stack": 3,
          "time": 2.839054054054054,
          "total_intensity": 0.9526583824563113
         },
         {
          "stack": 3,
          "time": 3.0283243243243243,
          "total_intensity": 0.9660912260677723
         },
         {
          "stack": 3,
          "time": 3.2175945945945945,
          "total_intensity": 0.9473412695650963
         },
         {
          "stack": 3,
          "time": 3.4068648648648647,
          "total_intensity": 0.950330405673443
         },
         {
          "stack": 3,
          "time": 3.596135135135135,
          "total_intensity": 0.9616910367674181
         },
         {
          "stack": 3,
          "time": 3.785405405405405,
          "total_intensity": 0.20078451773646885
         },
         {
          "stack": 3,
          "time": 3.974675675675676,
          "total_intensity": 0.26868993019549436
         },
         {
          "stack": 3,
          "time": 4.163945945945946,
          "total_intensity": 0.33825172075413923
         },
         {
          "stack": 3,
          "time": 4.353216216216216,
          "total_intensity": 0.38741239638937414
         },
         {
          "stack": 3,
          "time": 4.542486486486487,
          "total_intensity": 0.42955347387028747
         },
         {
          "stack": 3,
          "time": 4.731756756756757,
          "total_intensity": 0.45643395018338473
         },
         {
          "stack": 3,
          "time": 4.921027027027027,
          "total_intensity": 0.5144515509405861
         },
         {
          "stack": 3,
          "time": 5.110297297297297,
          "total_intensity": 0.5410780028812627
         },
         {
          "stack": 3,
          "time": 5.299567567567568,
          "total_intensity": 0.5660854844209984
         },
         {
          "stack": 3,
          "time": 5.4888378378378375,
          "total_intensity": 0.5823395644699938
         },
         {
          "stack": 3,
          "time": 5.678108108108108,
          "total_intensity": 0.6230060826657944
         },
         {
          "stack": 3,
          "time": 5.867378378378378,
          "total_intensity": 0.6339239110009952
         },
         {
          "stack": 3,
          "time": 6.056648648648649,
          "total_intensity": 0.6640597270455921
         },
         {
          "stack": 3,
          "time": 6.245918918918919,
          "total_intensity": 0.6657717817199886
         },
         {
          "stack": 3,
          "time": 6.435189189189189,
          "total_intensity": 0.6890167516894361
         },
         {
          "stack": 3,
          "time": 6.62445945945946,
          "total_intensity": 0.7108558881457613
         },
         {
          "stack": 3,
          "time": 6.8137297297297295,
          "total_intensity": 0.7179911891820415
         },
         {
          "stack": 3,
          "time": 7.003,
          "total_intensity": 0.7297876634629438
         },
         {
          "stack": 3,
          "time": 7.19227027027027,
          "total_intensity": 0.7542340295225037
         },
         {
          "stack": 3,
          "time": 7.3815405405405405,
          "total_intensity": 0.7428812279468567
         },
         {
          "stack": 3,
          "time": 7.57081081081081,
          "total_intensity": 0.7763141411540362
         },
         {
          "stack": 3,
          "time": 7.760081081081081,
          "total_intensity": 0.7653615149595997
         },
         {
          "stack": 3,
          "time": 7.949351351351352,
          "total_intensity": 0.7738034756101805
         },
         {
          "stack": 3,
          "time": 8.138621621621622,
          "total_intensity": 0.7782958792375093
         },
         {
          "stack": 3,
          "time": 8.327891891891891,
          "total_intensity": 0.7897156666921851
         },
         {
          "stack": 3,
          "time": 8.517162162162162,
          "total_intensity": 0.8068597019911335
         },
         {
          "stack": 3,
          "time": 8.706432432432432,
          "total_intensity": 0.796958841092096
         },
         {
          "stack": 3,
          "time": 8.895702702702703,
          "total_intensity": 0.8195887588995525
         },
         {
          "stack": 3,
          "time": 9.084972972972974,
          "total_intensity": 0.8238567163348111
         },
         {
          "stack": 3,
          "time": 9.274243243243243,
          "total_intensity": 0.8184908864406661
         },
         {
          "stack": 3,
          "time": 9.463513513513513,
          "total_intensity": 0.8205135120087412
         },
         {
          "stack": 3,
          "time": 9.652783783783784,
          "total_intensity": 0.8223856368356218
         },
         {
          "stack": 3,
          "time": 9.842054054054055,
          "total_intensity": 0.8323352147375893
         },
         {
          "stack": 3,
          "time": 10.031324324324324,
          "total_intensity": 0.8317462609700251
         },
         {
          "stack": 3,
          "time": 10.220594594594594,
          "total_intensity": 0.8211555325116399
         },
         {
          "stack": 3,
          "time": 10.409864864864865,
          "total_intensity": 0.8240820324733622
         },
         {
          "stack": 3,
          "time": 10.599135135135135,
          "total_intensity": 0.824463938978474
         },
         {
          "stack": 3,
          "time": 10.788405405405406,
          "total_intensity": 0.8343561004127026
         },
         {
          "stack": 3,
          "time": 10.977675675675675,
          "total_intensity": 0.8190276434193768
         },
         {
          "stack": 3,
          "time": 11.166945945945946,
          "total_intensity": 0.803085004210541
         },
         {
          "stack": 3,
          "time": 11.356216216216216,
          "total_intensity": 0.8297453840639724
         },
         {
          "stack": 3,
          "time": 11.545486486486487,
          "total_intensity": 0.8311851454898495
         },
         {
          "stack": 3,
          "time": 11.734756756756756,
          "total_intensity": 0.8512609004294056
         },
         {
          "stack": 3,
          "time": 11.924027027027027,
          "total_intensity": 0.8419803113712444
         },
         {
          "stack": 3,
          "time": 12.113297297297297,
          "total_intensity": 0.8327458294765706
         },
         {
          "stack": 3,
          "time": 12.302567567567568,
          "total_intensity": 0.8526328060297731
         },
         {
          "stack": 3,
          "time": 12.491837837837839,
          "total_intensity": 0.8513983519733866
         },
         {
          "stack": 3,
          "time": 12.681108108108107,
          "total_intensity": 0.8447867587186036
         },
         {
          "stack": 3,
          "time": 12.870378378378378,
          "total_intensity": 0.8273051841850689
         },
         {
          "stack": 3,
          "time": 13.059648648648649,
          "total_intensity": 0.843448781030991
         },
         {
          "stack": 3,
          "time": 13.24891891891892,
          "total_intensity": 0.8688216400927015
         },
         {
          "stack": 3,
          "time": 13.438189189189188,
          "total_intensity": 0.8798525614704183
         },
         {
          "stack": 3,
          "time": 13.627459459459459,
          "total_intensity": 0.8413348110824223
         },
         {
          "stack": 3,
          "time": 13.81672972972973,
          "total_intensity": 0.8363952549639146
         },
         {
          "stack": 3,
          "time": 14.006,
          "total_intensity": 0.8522717782402026
         },
         {
          "stack": 3,
          "time": 14.19527027027027,
          "total_intensity": 0.8482082582279539
         },
         {
          "stack": 3,
          "time": 14.38454054054054,
          "total_intensity": 0.8876620710293903
         },
         {
          "stack": 3,
          "time": 14.57381081081081,
          "total_intensity": 0.8535288509050923
         },
         {
          "stack": 3,
          "time": 14.763081081081081,
          "total_intensity": 0.8901118403195836
         },
         {
          "stack": 3,
          "time": 14.952351351351352,
          "total_intensity": 0.8616306624816441
         },
         {
          "stack": 3,
          "time": 15.14162162162162,
          "total_intensity": 0.8722657582105549
         },
         {
          "stack": 3,
          "time": 15.330891891891891,
          "total_intensity": 0.8774201911098429
         },
         {
          "stack": 3,
          "time": 15.520162162162162,
          "total_intensity": 0.8889408923563022
         },
         {
          "stack": 3,
          "time": 15.709432432432433,
          "total_intensity": 0.8870400592955522
         },
         {
          "stack": 3,
          "time": 15.898702702702703,
          "total_intensity": 0.8822701427408186
         },
         {
          "stack": 3,
          "time": 16.087972972972974,
          "total_intensity": 0.8818490886440666
         },
         {
          "stack": 3,
          "time": 16.277243243243245,
          "total_intensity": 0.888813010223611
         },
         {
          "stack": 3,
          "time": 16.46651351351351,
          "total_intensity": 0.8560743143081838
         },
         {
          "stack": 3,
          "time": 16.655783783783782,
          "total_intensity": 0.8801805312937148
         },
         {
          "stack": 3,
          "time": 16.845054054054053,
          "total_intensity": 0.8708146874804262
         },
         {
          "stack": 3,
          "time": 17.034324324324324,
          "total_intensity": 0.8806311635708172
         },
         {
          "stack": 3,
          "time": 17.223594594594594,
          "total_intensity": 0.8782492501061334
         },
         {
          "stack": 3,
          "time": 17.412864864864865,
          "total_intensity": 0.8780422028436811
         },
         {
          "stack": 3,
          "time": 17.602135135135136,
          "total_intensity": 0.883043525162332
         },
         {
          "stack": 3,
          "time": 17.791405405405406,
          "total_intensity": 0.8819717510978725
         },
         {
          "stack": 3,
          "time": 17.980675675675677,
          "total_intensity": 0.8705998106996458
         },
         {
          "stack": 3,
          "time": 18.169945945945948,
          "total_intensity": 0.898621656795674
         },
         {
          "stack": 3,
          "time": 18.359216216216215,
          "total_intensity": 0.8747659843966399
         },
         {
          "stack": 3,
          "time": 18.548486486486485,
          "total_intensity": 0.8729765044854441
         },
         {
          "stack": 3,
          "time": 18.737756756756756,
          "total_intensity": 0.8900283254574178
         },
         {
          "stack": 3,
          "time": 18.927027027027027,
          "total_intensity": 0.8919317683576107
         },
         {
          "stack": 3,
          "time": 19.116297297297297,
          "total_intensity": 0.8844711073374766
         },
         {
          "stack": 3,
          "time": 19.305567567567568,
          "total_intensity": 0.8792984055620898
         },
         {
          "stack": 3,
          "time": 19.49483783783784,
          "total_intensity": 0.8506789062336885
         },
         {
          "stack": 3,
          "time": 19.68410810810811,
          "total_intensity": 0.8610799863592392
         },
         {
          "stack": 3,
          "time": 19.87337837837838,
          "total_intensity": 0.8636393689060249
         },
         {
          "stack": 3,
          "time": 20.062648648648647,
          "total_intensity": 0.853879439336892
         },
         {
          "stack": 3,
          "time": 20.251918918918918,
          "total_intensity": 0.8653696924565201
         },
         {
          "stack": 3,
          "time": 20.44118918918919,
          "total_intensity": 0.862724185208126
         },
         {
          "stack": 3,
          "time": 20.63045945945946,
          "total_intensity": 0.853361821180761
         },
         {
          "stack": 3,
          "time": 20.81972972972973,
          "total_intensity": 0.8831583580978098
         },
         {
          "stack": 3,
          "time": 21.009,
          "total_intensity": 0.861413175861421
         },
         {
          "stack": 3,
          "time": 21.19827027027027,
          "total_intensity": 0.87409351576691
         },
         {
          "stack": 3,
          "time": 21.38754054054054,
          "total_intensity": 0.8589294786584729
         },
         {
          "stack": 3,
          "time": 21.576810810810812,
          "total_intensity": 0.8728016452427847
         },
         {
          "stack": 3,
          "time": 21.76608108108108,
          "total_intensity": 0.8622718130380619
         },
         {
          "stack": 3,
          "time": 21.95535135135135,
          "total_intensity": 0.8869452351291348
         },
         {
          "stack": 3,
          "time": 22.14462162162162,
          "total_intensity": 0.8808521299769638
         },
         {
          "stack": 3,
          "time": 22.33389189189189,
          "total_intensity": 0.888805180705283
         },
         {
          "stack": 3,
          "time": 22.523162162162162,
          "total_intensity": 0.8868799891430679
         },
         {
          "stack": 3,
          "time": 22.712432432432433,
          "total_intensity": 0.867846430087621
         },
         {
          "stack": 3,
          "time": 22.901702702702703,
          "total_intensity": 0.8671287242408847
         },
         {
          "stack": 3,
          "time": 23.090972972972974,
          "total_intensity": 0.8872784246313167
         },
         {
          "stack": 3,
          "time": 23.280243243243245,
          "total_intensity": 0.8668947086375246
         },
         {
          "stack": 3,
          "time": 23.469513513513512,
          "total_intensity": 0.9003137027010099
         },
         {
          "stack": 3,
          "time": 23.658783783783782,
          "total_intensity": 0.8781596456186015
         },
         {
          "stack": 3,
          "time": 23.848054054054053,
          "total_intensity": 0.884151836978989
         },
         {
          "stack": 3,
          "time": 24.037324324324324,
          "total_intensity": 0.8758325387822141
         },
         {
          "stack": 3,
          "time": 24.226594594594594,
          "total_intensity": 0.8917734380980882
         },
         {
          "stack": 3,
          "time": 24.415864864864865,
          "total_intensity": 0.8611452323453062
         },
         {
          "stack": 3,
          "time": 24.605135135135136,
          "total_intensity": 0.8711174288557768
         },
         {
          "stack": 3,
          "time": 24.794405405405406,
          "total_intensity": 0.8613131320161184
         },
         {
          "stack": 3,
          "time": 24.983675675675677,
          "total_intensity": 0.8828756254915198
         },
         {
          "stack": 3,
          "time": 25.172945945945944,
          "total_intensity": 0.8741204841078177
         },
         {
          "stack": 3,
          "time": 25.362216216216215,
          "total_intensity": 0.8814106356176968
         },
         {
          "stack": 3,
          "time": 25.551486486486485,
          "total_intensity": 0.8803449511786035
         },
         {
          "stack": 3,
          "time": 25.740756756756756,
          "total_intensity": 0.8681282927474302
         },
         {
          "stack": 3,
          "time": 25.930027027027027,
          "total_intensity": 0.8638046587373944
         },
         {
          "stack": 3,
          "time": 26.119297297297297,
          "total_intensity": 0.8809365147856104
         },
         {
          "stack": 3,
          "time": 26.308567567567568,
          "total_intensity": 0.851782868317941
         },
         {
          "stack": 3,
          "time": 26.49783783783784,
          "total_intensity": 0.8824954588793698
         },
         {
          "stack": 3,
          "time": 26.68710810810811,
          "total_intensity": 0.8696472193030684
         },
         {
          "stack": 3,
          "time": 26.876378378378377,
          "total_intensity": 0.8831861963851984
         },
         {
          "stack": 3,
          "time": 27.065648648648647,
          "total_intensity": 0.8762683819691413
         },
         {
          "stack": 3,
          "time": 27.254918918918918,
          "total_intensity": 0.8727224801130234
         },
         {
          "stack": 3,
          "time": 27.44418918918919,
          "total_intensity": 0.8665371606338778
         },
         {
          "stack": 3,
          "time": 27.63345945945946,
          "total_intensity": 0.8569155525552068
         },
         {
          "stack": 3,
          "time": 27.82272972972973,
          "total_intensity": 0.8650130143993542
         },
         {
          "stack": 3,
          "time": 28.012,
          "total_intensity": 0.8636019612073466
         },
         {
          "stack": 4,
          "time": 0,
          "total_intensity": 1
         },
         {
          "stack": 4,
          "time": 0.18927027027027027,
          "total_intensity": 0.9840078709722759
         },
         {
          "stack": 4,
          "time": 0.37854054054054054,
          "total_intensity": 0.9878365367721986
         },
         {
          "stack": 4,
          "time": 0.5678108108108109,
          "total_intensity": 0.9937025194138936
         },
         {
          "stack": 4,
          "time": 0.7570810810810811,
          "total_intensity": 0.9814216943673355
         },
         {
          "stack": 4,
          "time": 0.9463513513513513,
          "total_intensity": 0.9861836325942585
         },
         {
          "stack": 4,
          "time": 1.1356216216216217,
          "total_intensity": 0.9765943989599072
         },
         {
          "stack": 4,
          "time": 1.324891891891892,
          "total_intensity": 0.976209986296075
         },
         {
          "stack": 4,
          "time": 1.5141621621621622,
          "total_intensity": 0.9889876664675498
         },
         {
          "stack": 4,
          "time": 1.7034324324324324,
          "total_intensity": 0.988052988509786
         },
         {
          "stack": 4,
          "time": 1.8927027027027026,
          "total_intensity": 0.9730911135317474
         },
         {
          "stack": 4,
          "time": 2.081972972972973,
          "total_intensity": 0.9603970624407042
         },
         {
          "stack": 4,
          "time": 2.2712432432432434,
          "total_intensity": 0.9900741417477775
         },
         {
          "stack": 4,
          "time": 2.4605135135135137,
          "total_intensity": 0.9783632594258407
         },
         {
          "stack": 4,
          "time": 2.649783783783784,
          "total_intensity": 0.957901542570013
         },
         {
          "stack": 4,
          "time": 2.839054054054054,
          "total_intensity": 0.9709160546751467
         },
         {
          "stack": 4,
          "time": 3.0283243243243243,
          "total_intensity": 0.9544326926455603
         },
         {
          "stack": 4,
          "time": 3.2175945945945945,
          "total_intensity": 0.9652166274289329
         },
         {
          "stack": 4,
          "time": 3.4068648648648647,
          "total_intensity": 0.9522316314698338
         },
         {
          "stack": 4,
          "time": 3.596135135135135,
          "total_intensity": 0.9754116448223761
         },
         {
          "stack": 4,
          "time": 3.785405405405405,
          "total_intensity": 0.1673017323166661
         },
         {
          "stack": 4,
          "time": 3.974675675675676,
          "total_intensity": 0.222767490073439
         },
         {
          "stack": 4,
          "time": 4.163945945945946,
          "total_intensity": 0.2765831547137988
         },
         {
          "stack": 4,
          "time": 4.353216216216216,
          "total_intensity": 0.32067957412417863
         },
         {
          "stack": 4,
          "time": 4.542486486486487,
          "total_intensity": 0.3632151516216311
         },
         {
          "stack": 4,
          "time": 4.731756756756757,
          "total_intensity": 0.4023936188903335
         },
         {
          "stack": 4,
          "time": 4.921027027027027,
          "total_intensity": 0.42040690115604906
         },
         {
          "stack": 4,
          "time": 5.110297297297297,
          "total_intensity": 0.45855651990582946
         },
         {
          "stack": 4,
          "time": 5.299567567567568,
          "total_intensity": 0.49619452545767595
         },
         {
          "stack": 4,
          "time": 5.4888378378378375,
          "total_intensity": 0.514446045187814
         },
         {
          "stack": 4,
          "time": 5.678108108108108,
          "total_intensity": 0.5305133701113883
         },
         {
          "stack": 4,
          "time": 5.867378378378378,
          "total_intensity": 0.5663347271513405
         },
         {
          "stack": 4,
          "time": 6.056648648648649,
          "total_intensity": 0.5781988123265048
         },
         {
          "stack": 4,
          "time": 6.245918918918919,
          "total_intensity": 0.5992157138339366
         },
         {
          "stack": 4,
          "time": 6.435189189189189,
          "total_intensity": 0.6055764433044029
         },
         {
          "stack": 4,
          "time": 6.62445945945946,
          "total_intensity": 0.627462665589093
         },
         {
          "stack": 4,
          "time": 6.8137297297297295,
          "total_intensity": 0.6405242629748059
         },
         {
          "stack": 4,
          "time": 7.003,
          "total_intensity": 0.6551129695351207
         },
         {
          "stack": 4,
          "time": 7.19227027027027,
          "total_intensity": 0.6601939632453705
         },
         {
          "stack": 4,
          "time": 7.3815405405405405,
          "total_intensity": 0.6883242559471521
         },
         {
          "stack": 4,
          "time": 7.57081081081081,
          "total_intensity": 0.685206788713588
         },
         {
          "stack": 4,
          "time": 7.760081081081081,
          "total_intensity": 0.6991559787764855
         },
         {
          "stack": 4,
          "time": 7.949351351351352,
          "total_intensity": 0.70742190519695
         },
         {
          "stack": 4,
          "time": 8.138621621621622,
          "total_intensity": 0.7186134439017534
         },
         {
          "stack": 4,
          "time": 8.327891891891891,
          "total_intensity": 0.7449095189570962
         },
         {
          "stack": 4,
          "time": 8.517162162162162,
          "total_intensity": 0.7493959731543625
         },
         {
          "stack": 4,
          "time": 8.706432432432432,
          "total_intensity": 0.7672883797744123
         },
         {
          "stack": 4,
          "time": 8.895702702702703,
          "total_intensity": 0.7418728697424365
         },
         {
          "stack": 4,
          "time": 9.084972972972974,
          "total_intensity": 0.7513749604694473
         },
         {
          "stack": 4,
          "time": 9.274243243243243,
          "total_intensity": 0.7834231701746373
         },
         {
          "stack": 4,
          "time": 9.463513513513513,
          "total_intensity": 0.7636058891738993
         },
         {
          "stack": 4,
          "time": 9.652783783783784,
          "total_intensity": 0.773022945289715
         },
         {
          "stack": 4,
          "time": 9.842054054054055,
          "total_intensity": 0.7998868547735338
         },
         {
          "stack": 4,
          "time": 10.031324324324324,
          "total_intensity": 0.7975086967215995
         },
         {
          "stack": 4,
          "time": 10.220594594594594,
          "total_intensity": 0.7939182683860992
         },
         {
          "stack": 4,
          "time": 10.409864864864865,
          "total_intensity": 0.7973308970800098
         },
         {
          "stack": 4,
          "time": 10.599135135135135,
          "total_intensity": 0.8105562387996768
         },
         {
          "stack": 4,
          "time": 10.788405405405406,
          "total_intensity": 0.813054569731895
         },
         {
          "stack": 4,
          "time": 10.977675675675675,
          "total_intensity": 0.8199290206964405
         },
         {
          "stack": 4,
          "time": 11.166945945945946,
          "total_intensity": 0.810731930145121
         },
         {
          "stack": 4,
          "time": 11.356216216216216,
          "total_intensity": 0.8209311641308549
         },
         {
          "stack": 4,
          "time": 11.545486486486487,
          "total_intensity": 0.8237604975578903
         },
         {
          "stack": 4,
          "time": 11.734756756756756,
          "total_intensity": 0.8354945711374258
         },
         {
          "stack": 4,
          "time": 11.924027027027027,
          "total_intensity": 0.8364194103798447
         },
         {
          "stack": 4,
          "time": 12.113297297297297,
          "total_intensity": 0.839845391616009
         },
         {
          "stack": 4,
          "time": 12.302567567567568,
          "total_intensity": 0.8544952387645385
         },
         {
          "stack": 4,
          "time": 12.491837837837839,
          "total_intensity": 0.8532689131733371
         },
         {
          "stack": 4,
          "time": 12.681108108108107,
          "total_intensity": 0.8418412453002565
         },
         {
          "stack": 4,
          "time": 12.870378378378378,
          "total_intensity": 0.828826030429741
         },
         {
          "stack": 4,
          "time": 13.059648648648649,
          "total_intensity": 0.866030429741031
         },
         {
          "stack": 4,
          "time": 13.24891891891892,
          "total_intensity": 0.8495407428230085
         },
         {
          "stack": 4,
          "time": 13.438189189189188,
          "total_intensity": 0.8610977195263362
         },
         {
          "stack": 4,
          "time": 13.627459459459459,
          "total_intensity": 0.847923679679539
         },
         {
          "stack": 4,
          "time": 13.81672972972973,
          "total_intensity": 0.8481921360553779
         },
         {
          "stack": 4,
          "time": 14.006,
          "total_intensity": 0.8672581608629959
         },
         {
          "stack": 4,
          "time": 14.19527027027027,
          "total_intensity": 0.8489005235602094
         },
         {
          "stack": 4,
          "time": 14.38454054054054,
          "total_intensity": 0.8483256614779155
         },
         {
          "stack": 4,
          "time": 14.57381081081081,
          "total_intensity": 0.8436600021082962
         },
         {
          "stack": 4,
          "time": 14.763081081081081,
          "total_intensity": 0.8623029621560842
         },
         {
          "stack": 4,
          "time": 14.952351351351352,
          "total_intensity": 0.8564608735373695
         },
         {
          "stack": 4,
          "time": 15.14162162162162,
          "total_intensity": 0.8656031483889104
         },
         {
          "stack": 4,
          "time": 15.330891891891891,
          "total_intensity": 0.8662946695245792
         },
         {
          "stack": 4,
          "time": 15.520162162162162,
          "total_intensity": 0.8593450226641836
         },
         {
          "stack": 4,
          "time": 15.709432432432433,
          "total_intensity": 0.8602291015144594
         },
         {
          "stack": 4,
          "time": 15.898702702702703,
          "total_intensity": 0.8729856987244808
         },
         {
          "stack": 4,
          "time": 16.087972972972974,
          "total_intensity": 0.8697494641413964
         },
         {
          "stack": 4,
          "time": 16.277243243243245,
          "total_intensity": 0.8643367651709477
         },
         {
          "stack": 4,
          "time": 16.46651351351351,
          "total_intensity": 0.8632516954214835
         },
         {
          "stack": 4,
          "time": 16.655783783783782,
          "total_intensity": 0.8911346147088794
         },
         {
          "stack": 4,
          "time": 16.845054054054053,
          "total_intensity": 0.8724501915035665
         },
         {
          "stack": 4,
          "time": 17.034324324324324,
          "total_intensity": 0.8696342106187849
         },
         {
          "stack": 4,
          "time": 17.223594594594594,
          "total_intensity": 0.8940672546470361
         },
         {
          "stack": 4,
          "time": 17.412864864864865,
          "total_intensity": 0.8703524368389614
         },
         {
          "stack": 4,
          "time": 17.602135135135136,
          "total_intensity": 0.895610527425419
         },
         {
          "stack": 4,
          "time": 17.791405405405406,
          "total_intensity": 0.8743919322534172
         },
         {
          "stack": 4,
          "time": 17.980675675675677,
          "total_intensity": 0.9055511437506588
         },
         {
          "stack": 4,
          "time": 18.169945945945948,
          "total_intensity": 0.8777272567553323
         },
         {
          "stack": 4,
          "time": 18.359216216216215,
          "total_intensity": 0.8859622614989986
         },
         {
          "stack": 4,
          "time": 18.548486486486485,
          "total_intensity": 0.8940489827471099
         },
         {
          "stack": 4,
          "time": 18.737756756756756,
          "total_intensity": 0.8870768473944973
         },
         {
          "stack": 4,
          "time": 18.927027027027027,
          "total_intensity": 0.8935956990758636
         },
         {
          "stack": 4,
          "time": 19.116297297297297,
          "total_intensity": 0.8962240416037106
         },
         {
          "stack": 4,
          "time": 19.305567567567568,
          "total_intensity": 0.8824976281668365
         },
         {
          "stack": 4,
          "time": 19.49483783783784,
          "total_intensity": 0.8936814364524404
         },
         {
          "stack": 4,
          "time": 19.68410810810811,
          "total_intensity": 0.8573393302645912
         },
         {
          "stack": 4,
          "time": 19.87337837837838,
          "total_intensity": 0.8710601215784111
         },
         {
          "stack": 4,
          "time": 20.062648648648647,
          "total_intensity": 0.8845757054007519
         },
         {
          "stack": 4,
          "time": 20.251918918918918,
          "total_intensity": 0.8951734073579536
         },
         {
          "stack": 4,
          "time": 20.44118918918919,
          "total_intensity": 0.8980856671000387
         },
         {
          "stack": 4,
          "time": 20.63045945945946,
          "total_intensity": 0.8883151199971889
         },
         {
          "stack": 4,
          "time": 20.81972972972973,
          "total_intensity": 0.887898380125795
         },
         {
          "stack": 4,
          "time": 21.009,
          "total_intensity": 0.8961896061000035
         },
         {
          "stack": 4,
          "time": 21.19827027027027,
          "total_intensity": 0.8897037843915808
         },
         {
          "stack": 4,
          "time": 21.38754054054054,
          "total_intensity": 0.878769457816508
         },
         {
          "stack": 4,
          "time": 21.576810810810812,
          "total_intensity": 0.88351523243965
         },
         {
          "stack": 4,
          "time": 21.76608108108108,
          "total_intensity": 0.8986218770863347
         },
         {
          "stack": 4,
          "time": 21.95535135135135,
          "total_intensity": 0.874032819143329
         },
         {
          "stack": 4,
          "time": 22.14462162162162,
          "total_intensity": 0.8760406198390668
         },
         {
          "stack": 4,
          "time": 22.33389189189189,
          "total_intensity": 0.8844042306475983
         },
         {
          "stack": 4,
          "time": 22.523162162162162,
          "total_intensity": 0.8545043747145016
         },
         {
          "stack": 4,
          "time": 22.712432432432433,
          "total_intensity": 0.8773470606837908
         },
         {
          "stack": 4,
          "time": 22.901702702702703,
          "total_intensity": 0.8820569942724621
         },
         {
          "stack": 4,
          "time": 23.090972972972974,
          "total_intensity": 0.8796837555782002
         },
         {
          "stack": 4,
          "time": 23.280243243243245,
          "total_intensity": 0.8848582170842264
         },
         {
          "stack": 4,
          "time": 23.469513513513512,
          "total_intensity": 0.8713489581503215
         },
         {
          "stack": 4,
          "time": 23.658783783783782,
          "total_intensity": 0.8775262658561439
         },
         {
          "stack": 4,
          "time": 23.848054054054053,
          "total_intensity": 0.8835566955971749
         },
         {
          "stack": 4,
          "time": 24.037324324324324,
          "total_intensity": 0.8735331529568854
         },
         {
          "stack": 4,
          "time": 24.226594594594594,
          "total_intensity": 0.8770807126040971
         },
         {
          "stack": 4,
          "time": 24.415864864864865,
          "total_intensity": 0.8889328507677712
         },
         {
          "stack": 4,
          "time": 24.605135135135136,
          "total_intensity": 0.8893791067851997
         },
         {
          "stack": 4,
          "time": 24.794405405405406,
          "total_intensity": 0.8978530517586704
         },
         {
          "stack": 4,
          "time": 24.983675675675677,
          "total_intensity": 0.8847865350152851
         },
         {
          "stack": 4,
          "time": 25.172945945945944,
          "total_intensity": 0.8729582908745915
         },
         {
          "stack": 4,
          "time": 25.362216216216215,
          "total_intensity": 0.8846740925542008
         },
         {
          "stack": 4,
          "time": 25.551486486486485,
          "total_intensity": 0.8828391721423803
         },
         {
          "stack": 4,
          "time": 25.740756756756756,
          "total_intensity": 0.8863178607821779
         },
         {
          "stack": 4,
          "time": 25.930027027027027,
          "total_intensity": 0.8799957834077093
         },
         {
          "stack": 4,
          "time": 26.119297297297297,
          "total_intensity": 0.8759815875469974
         },
         {
          "stack": 4,
          "time": 26.308567567567568,
          "total_intensity": 0.8819529849959591
         },
         {
          "stack": 4,
          "time": 26.49783783783784,
          "total_intensity": 0.8670381952984996
         },
         {
          "stack": 4,
          "time": 26.68710810810811,
          "total_intensity": 0.8955711725640395
         },
         {
          "stack": 4,
          "time": 26.876378378378377,
          "total_intensity": 0.8819255771460698
         },
         {
          "stack": 4,
          "time": 27.065648648648647,
          "total_intensity": 0.8631188727643276
         },
         {
          "stack": 4,
          "time": 27.254918918918918,
          "total_intensity": 0.8749337643627675
         },
         {
          "stack": 4,
          "time": 27.44418918918919,
          "total_intensity": 0.8998067395200112
         },
         {
          "stack": 4,
          "time": 27.63345945945946,
          "total_intensity": 0.8736385677641519
         },
         {
          "stack": 4,
          "time": 27.82272972972973,
          "total_intensity": 0.8817794019466602
         },
         {
          "stack": 4,
          "time": 28.012,
          "total_intensity": 0.8891099476439791
         },
         {
          "stack": 5,
          "time": 0,
          "total_intensity": 0.9978842514166772
         },
         {
          "stack": 5,
          "time": 0.18927027027027027,
          "total_intensity": 0.9880986519359274
         },
         {
          "stack": 5,
          "time": 0.37854054054054054,
          "total_intensity": 0.9916531095559096
         },
         {
          "stack": 5,
          "time": 0.5678108108108109,
          "total_intensity": 0.9613611852108824
         },
         {
          "stack": 5,
          "time": 0.7570810810810811,
          "total_intensity": 0.9915663813495189
         },
         {
          "stack": 5,
          "time": 0.9463513513513513,
          "total_intensity": 0.9818535216547741
         },
         {
          "stack": 5,
          "time": 1.1356216216216217,
          "total_intensity": 0.9828117284511881
         },
         {
          "stack": 5,
          "time": 1.324891891891892,
          "total_intensity": 0.9798860503275388
         },
         {
          "stack": 5,
          "time": 1.5141621621621622,
          "total_intensity": 0.9729946550245706
         },
         {
          "stack": 5,
          "time": 1.7034324324324324,
          "total_intensity": 1
         },
         {
          "stack": 5,
          "time": 1.8927027027027026,
          "total_intensity": 0.9609401337572757
         },
         {
          "stack": 5,
          "time": 2.081972972972973,
          "total_intensity": 0.9818989840210274
         },
         {
          "stack": 5,
          "time": 2.2712432432432434,
          "total_intensity": 0.9734520763711799
         },
         {
          "stack": 5,
          "time": 2.4605135135135137,
          "total_intensity": 0.9532576932815016
         },
         {
          "stack": 5,
          "time": 2.649783783783784,
          "total_intensity": 0.9487457282861248
         },
         {
          "stack": 5,
          "time": 2.839054054054054,
          "total_intensity": 0.9708026695501464
         },
         {
          "stack": 5,
          "time": 3.0283243243243243,
          "total_intensity": 0.98831966897802
         },
         {
          "stack": 5,
          "time": 3.2175945945945945,
          "total_intensity": 0.9719231420230333
         },
         {
          "stack": 5,
          "time": 3.4068648648648647,
          "total_intensity": 0.9660612944604456
         },
         {
          "stack": 5,
          "time": 3.596135135135135,
          "total_intensity": 0.9720951995937763
         },
         {
          "stack": 5,
          "time": 3.785405405405405,
          "total_intensity": 0.18255028487418115
         },
         {
          "stack": 5,
          "time": 3.974675675675676,
          "total_intensity": 0.2480629534871034
         },
         {
          "stack": 5,
          "time": 4.163945945945946,
          "total_intensity": 0.30291294866109836
         },
         {
          "stack": 5,
          "time": 4.353216216216216,
          "total_intensity": 0.35549751915364464
         },
         {
          "stack": 5,
          "time": 4.542486486486487,
          "total_intensity": 0.3976082598824693
         },
         {
          "stack": 5,
          "time": 4.731756756756757,
          "total_intensity": 0.4278099589160093
         },
         {
          "stack": 5,
          "time": 4.921027027027027,
          "total_intensity": 0.47139228146939965
         },
         {
          "stack": 5,
          "time": 5.110297297297297,
          "total_intensity": 0.48996750489944424
         },
         {
          "stack": 5,
          "time": 5.299567567567568,
          "total_intensity": 0.5389577507739094
         },
         {
          "stack": 5,
          "time": 5.4888378378378375,
          "total_intensity": 0.5638445494819389
         },
         {
          "stack": 5,
          "time": 5.678108108108108,
          "total_intensity": 0.5858343463281096
         },
         {
          "stack": 5,
          "time": 5.867378378378378,
          "total_intensity": 0.5959836447388851
         },
         {
          "stack": 5,
          "time": 6.056648648648649,
          "total_intensity": 0.6430945463345442
         },
         {
          "stack": 5,
          "time": 6.245918918918919,
          "total_intensity": 0.6479513258924262
         },
         {
          "stack": 5,
          "time": 6.435189189189189,
          "total_intensity": 0.6604814534528317
         },
         {
          "stack": 5,
          "time": 6.62445945945946,
          "total_intensity": 0.6793644221313596
         },
         {
          "stack": 5,
          "time": 6.8137297297297295,
          "total_intensity": 0.6865579673146569
         },
         {
          "stack": 5,
          "time": 7.003,
          "total_intensity": 0.696945768293007
         },
         {
          "stack": 5,
          "time": 7.19227027027027,
          "total_intensity": 0.7148173741776558
         },
         {
          "stack": 5,
          "time": 7.3815405405405405,
          "total_intensity": 0.7394397917403973
         },
         {
          "stack": 5,
          "time": 7.57081081081081,
          "total_intensity": 0.7308243236249033
         },
         {
          "stack": 5,
          "time": 7.760081081081081,
          "total_intensity": 0.7532022991367746
         },
         {
          "stack": 5,
          "time": 7.949351351351352,
          "total_intensity": 0.7604231217398237
         },
         {
          "stack": 5,
          "time": 8.138621621621622,
          "total_intensity": 0.765824750271725
         },
         {
          "stack": 5,
          "time": 8.327891891891891,
          "total_intensity": 0.7622276279695668
         },
         {
          "stack": 5,
          "time": 8.517162162162162,
          "total_intensity": 0.7703087384263306
         },
         {
          "stack": 5,
          "time": 8.706432432432432,
          "total_intensity": 0.7930147423962444
         },
         {
          "stack": 5,
          "time": 8.895702702702703,
          "total_intensity": 0.7978022792732177
         },
         {
          "stack": 5,
          "time": 9.084972972972974,
          "total_intensity": 0.7725860532651071
         },
         {
          "stack": 5,
          "time": 9.274243243243243,
          "total_intensity": 0.8178567781590399
         },
         {
          "stack": 5,
          "time": 9.463513513513513,
          "total_intensity": 0.8034515028459441
         },
         {
          "stack": 5,
          "time": 9.652783783783784,
          "total_intensity": 0.8089650387409303
         },
         {
          "stack": 5,
          "time": 9.842054054054055,
          "total_intensity": 0.8141302629683148
         },
         {
          "stack": 5,
          "time": 10.031324324324324,
          "total_intensity": 0.8151318338679241
         },
         {
          "stack": 5,
          "time": 10.220594594594594,
          "total_intensity": 0.8138532922446798
         },
         {
          "stack": 5,
          "time": 10.409864864864865,
          "total_intensity": 0.8076130579106615
         },
         {
          "stack": 5,
          "time": 10.599135135135135,
          "total_intensity": 0.828838387582759
         },
         {
          "stack": 5,
          "time": 10.788405405405406,
          "total_intensity": 0.8252482594907935
         },
         {
          "stack": 5,
          "time": 10.977675675675675,
          "total_intensity": 0.8255126406360814
         },
         {
          "stack": 5,
          "time": 11.166945945945946,
          "total_intensity": 0.8531635512123065
         },
         {
          "stack": 5,
          "time": 11.356216216216216,
          "total_intensity": 0.8577006953643773
         },
         {
          "stack": 5,
          "time": 11.545486486486487,
          "total_intensity": 0.8466281612081519
         },
         {
          "stack": 5,
          "time": 11.734756756756756,
          "total_intensity": 0.8442284476910014
         },
         {
          "stack": 5,
          "time": 11.924027027027027,
          "total_intensity": 0.8585511913238222
         },
         {
          "stack": 5,
          "time": 12.113297297297297,
          "total_intensity": 0.8579881574033016
         },
         {
          "stack": 5,
          "time": 12.302567567567568,
          "total_intensity": 0.8653180896853585
         },
         {
          "stack": 5,
          "time": 12.491837837837839,
          "total_intensity": 0.8515912527609645
         },
         {
          "stack": 5,
          "time": 12.681108108108107,
          "total_intensity": 0.8647012003463533
         },
         {
          "stack": 5,
          "time": 12.870378378378378,
          "total_intensity": 0.8570970950247385
         },
         {
          "stack": 5,
          "time": 13.059648648648649,
          "total_intensity": 0.8429492066467378
         },
         {
          "stack": 5,
          "time": 13.24891891891892,
          "total_intensity": 0.8617174702781037
         },
         {
          "stack": 5,
          "time": 13.438189189189188,
          "total_intensity": 0.8567851532501395
         },
         {
          "stack": 5,
          "time": 13.627459459459459,
          "total_intensity": 0.8818719863696832
         },
         {
          "stack": 5,
          "time": 13.81672972972973,
          "total_intensity": 0.8748106317590298
         },
         {
          "stack": 5,
          "time": 14.006,
          "total_intensity": 0.892992780576239
         },
         {
          "stack": 5,
          "time": 14.19527027027027,
          "total_intensity": 0.8701552854547006
         },
         {
          "stack": 5,
          "time": 14.38454054054054,
          "total_intensity": 0.8808466351554184
         },
         {
          "stack": 5,
          "time": 14.57381081081081,
          "total_intensity": 0.8771529927525994
         },
         {
          "stack": 5,
          "time": 14.763081081081081,
          "total_intensity": 0.8690474025601607
         },
         {
          "stack": 5,
          "time": 14.952351351351352,
          "total_intensity": 0.8796170530035237
         },
         {
          "stack": 5,
          "time": 15.14162162162162,
          "total_intensity": 0.8734474601924527
         },
         {
          "stack": 5,
          "time": 15.330891891891891,
          "total_intensity": 0.8809585425185031
         },
         {
          "stack": 5,
          "time": 15.520162162162162,
          "total_intensity": 0.8839408737447141
         },
         {
          "stack": 5,
          "time": 15.709432432432433,
          "total_intensity": 0.883548498552898
         },
         {
          "stack": 5,
          "time": 15.898702702702703,
          "total_intensity": 0.885757270131785
         },
         {
          "stack": 5,
          "time": 16.087972972972974,
          "total_intensity": 0.8912435286070192
         },
         {
          "stack": 5,
          "time": 16.277243243243245,
          "total_intensity": 0.8782930490140262
         },
         {
          "stack": 5,
          "time": 16.46651351351351,
          "total_intensity": 0.8806780746897718
         },
         {
          "stack": 5,
          "time": 16.655783783783782,
          "total_intensity": 0.8856565535050086
         },
         {
          "stack": 5,
          "time": 16.845054054054053,
          "total_intensity": 0.8919961056237646
         },
         {
          "stack": 5,
          "time": 17.034324324324324,
          "total_intensity": 0.89076652347187
         },
         {
          "stack": 5,
          "time": 17.223594594594594,
          "total_intensity": 0.8844395609314609
         },
         {
          "stack": 5,
          "time": 17.412864864864865,
          "total_intensity": 0.8850529531653697
         },
         {
          "stack": 5,
          "time": 17.602135135135136,
          "total_intensity": 0.8962933483662224
         },
         {
          "stack": 5,
          "time": 17.791405405405406,
          "total_intensity": 0.8997037252562329
         },
         {
          "stack": 5,
          "time": 17.980675675675677,
          "total_intensity": 0.8796289431608515
         },
         {
          "stack": 5,
          "time": 18.169945945945948,
          "total_intensity": 0.87689980234362
         },
         {
          "stack": 5,
          "time": 18.359216216216215,
          "total_intensity": 0.8879954173934816
         },
         {
          "stack": 5,
          "time": 18.548486486486485,
          "total_intensity": 0.8857642643419777
         },
         {
          "stack": 5,
          "time": 18.737756756756756,
          "total_intensity": 0.8833638514038079
         },
         {
          "stack": 5,
          "time": 18.927027027027027,
          "total_intensity": 0.8831372389935611
         },
         {
          "stack": 5,
          "time": 19.116297297297297,
          "total_intensity": 0.8740867310040749
         },
         {
          "stack": 5,
          "time": 19.305567567567568,
          "total_intensity": 0.8764186006823551
         },
         {
          "stack": 5,
          "time": 19.49483783783784,
          "total_intensity": 0.8739279624326982
         },
         {
          "stack": 5,
          "time": 19.68410810810811,
          "total_intensity": 0.8846479883952064
         },
         {
          "stack": 5,
          "time": 19.87337837837838,
          "total_intensity": 0.883728249754853
         },
         {
          "stack": 5,
          "time": 20.062648648648647,
          "total_intensity": 0.8795275271130558
         },
         {
          "stack": 5,
          "time": 20.251918918918918,
          "total_intensity": 0.8939146174796504
         },
         {
          "stack": 5,
          "time": 20.44118918918919,
          "total_intensity": 0.9012816190757291
         },
         {
          "stack": 5,
          "time": 20.63045945945946,
          "total_intensity": 0.8868938292881153
         },
         {
          "stack": 5,
          "time": 20.81972972972973,
          "total_intensity": 0.8880282901813878
         },
         {
          "stack": 5,
          "time": 21.009,
          "total_intensity": 0.8945245126084627
         },
         {
          "stack": 5,
          "time": 21.19827027027027,
          "total_intensity": 0.8944468768753226
         },
         {
          "stack": 5,
          "time": 21.38754054054054,
          "total_intensity": 0.8825182513914981
         },
         {
          "stack": 5,
          "time": 21.576810810810812,
          "total_intensity": 0.8802381388686445
         },
         {
          "stack": 5,
          "time": 21.76608108108108,
          "total_intensity": 0.8969480064402687
         },
         {
          "stack": 5,
          "time": 21.95535135135135,
          "total_intensity": 0.8766885771957973
         },
         {
          "stack": 5,
          "time": 22.14462162162162,
          "total_intensity": 0.8784238407446316
         },
         {
          "stack": 5,
          "time": 22.33389189189189,
          "total_intensity": 0.8749673020673486
         },
         {
          "stack": 5,
          "time": 22.523162162162162,
          "total_intensity": 0.8943622469319897
         },
         {
          "stack": 5,
          "time": 22.712432432432433,
          "total_intensity": 0.8871763953799046
         },
         {
          "stack": 5,
          "time": 22.901702702702703,
          "total_intensity": 0.8930249539431259
         },
         {
          "stack": 5,
          "time": 23.090972972972974,
          "total_intensity": 0.8894579067447966
         },
         {
          "stack": 5,
          "time": 23.280243243243245,
          "total_intensity": 0.8961919323184268
         },
         {
          "stack": 5,
          "time": 23.469513513513512,
          "total_intensity": 0.8846927513404403
         },
         {
          "stack": 5,
          "time": 23.658783783783782,
          "total_intensity": 0.8840842550536666
         },
         {
          "stack": 5,
          "time": 23.848054054054053,
          "total_intensity": 0.8900293337175487
         },
         {
          "stack": 5,
          "time": 24.037324324324324,
          "total_intensity": 0.8836324290752116
         },
         {
          "stack": 5,
          "time": 24.226594594594594,
          "total_intensity": 0.8791967009709363
         },
         {
          "stack": 5,
          "time": 24.415864864864865,
          "total_intensity": 0.8819692058913632
         },
         {
          "stack": 5,
          "time": 24.605135135135136,
          "total_intensity": 0.9010787869801379
         },
         {
          "stack": 5,
          "time": 24.794405405405406,
          "total_intensity": 0.8717017053283292
         },
         {
          "stack": 5,
          "time": 24.983675675675677,
          "total_intensity": 0.8875428919940074
         },
         {
          "stack": 5,
          "time": 25.172945945945944,
          "total_intensity": 0.8896040857378262
         },
         {
          "stack": 5,
          "time": 25.362216216216215,
          "total_intensity": 0.90646013230248
         },
         {
          "stack": 5,
          "time": 25.551486486486485,
          "total_intensity": 0.8976068610404307
         },
         {
          "stack": 5,
          "time": 25.740756756756756,
          "total_intensity": 0.889638357367771
         },
         {
          "stack": 5,
          "time": 25.930027027027027,
          "total_intensity": 0.8874519672615009
         },
         {
          "stack": 5,
          "time": 26.119297297297297,
          "total_intensity": 0.9122583325523131
         },
         {
          "stack": 5,
          "time": 26.308567567567568,
          "total_intensity": 0.9096718736230148
         },
         {
          "stack": 5,
          "time": 26.49783783783784,
          "total_intensity": 0.9004807820086532
         },
         {
          "stack": 5,
          "time": 26.68710810810811,
          "total_intensity": 0.8862755411070715
         },
         {
          "stack": 5,
          "time": 26.876378378378377,
          "total_intensity": 0.8735915409224244
         },
         {
          "stack": 5,
          "time": 27.065648648648647,
          "total_intensity": 0.8918625162090821
         },
         {
          "stack": 5,
          "time": 27.254918918918918,
          "total_intensity": 0.8729207961649347
         },
         {
          "stack": 5,
          "time": 27.44418918918919,
          "total_intensity": 0.8855411490368273
         },
         {
          "stack": 5,
          "time": 27.63345945945946,
          "total_intensity": 0.9029329521022498
         },
         {
          "stack": 5,
          "time": 27.82272972972973,
          "total_intensity": 0.8788525858294504
         },
         {
          "stack": 5,
          "time": 28.012,
          "total_intensity": 0.8834799552930085
         },
         {
          "stack": 6,
          "time": 0,
          "total_intensity": 0.9737714432979794
         },
         {
          "stack": 6,
          "time": 0.18927027027027027,
          "total_intensity": 0.9905391405032156
         },
         {
          "stack": 6,
          "time": 0.37854054054054054,
          "total_intensity": 0.9805968198456518
         },
         {
          "stack": 6,
          "time": 0.5678108108108109,
          "total_intensity": 0.9788939832862087
         },
         {
          "stack": 6,
          "time": 0.7570810810810811,
          "total_intensity": 0.9718204917845151
         },
         {
          "stack": 6,
          "time": 0.9463513513513513,
          "total_intensity": 0.9593379465976868
         },
         {
          "stack": 6,
          "time": 1.1356216216216217,
          "total_intensity": 0.9558857519249216
         },
         {
          "stack": 6,
          "time": 1.324891891891892,
          "total_intensity": 0.9488861041595438
         },
         {
          "stack": 6,
          "time": 1.5141621621621622,
          "total_intensity": 0.9439784494439936
         },
         {
          "stack": 6,
          "time": 1.7034324324324324,
          "total_intensity": 0.9605024623193874
         },
         {
          "stack": 6,
          "time": 1.8927027027027026,
          "total_intensity": 0.963345446167547
         },
         {
          "stack": 6,
          "time": 2.081972972972973,
          "total_intensity": 0.9569092261102591
         },
         {
          "stack": 6,
          "time": 2.2712432432432434,
          "total_intensity": 0.9647270624740162
         },
         {
          "stack": 6,
          "time": 2.4605135135135137,
          "total_intensity": 0.9573360429061646
         },
         {
          "stack": 6,
          "time": 2.649783783783784,
          "total_intensity": 1
         },
         {
          "stack": 6,
          "time": 2.839054054054054,
          "total_intensity": 0.9547995105637157
         },
         {
          "stack": 6,
          "time": 3.0283243243243243,
          "total_intensity": 0.9519432348430193
         },
         {
          "stack": 6,
          "time": 3.2175945945945945,
          "total_intensity": 0.9575029297502383
         },
         {
          "stack": 6,
          "time": 3.4068648648648647,
          "total_intensity": 0.9510430796973293
         },
         {
          "stack": 6,
          "time": 3.596135135135135,
          "total_intensity": 0.9703539551812826
         },
         {
          "stack": 6,
          "time": 3.785405405405405,
          "total_intensity": 0.18404517464412856
         },
         {
          "stack": 6,
          "time": 3.974675675675676,
          "total_intensity": 0.24787496187817112
         },
         {
          "stack": 6,
          "time": 4.163945945945946,
          "total_intensity": 0.30825181600208534
         },
         {
          "stack": 6,
          "time": 4.353216216216216,
          "total_intensity": 0.35694954479028745
         },
         {
          "stack": 6,
          "time": 4.542486486486487,
          "total_intensity": 0.41321625655086247
         },
         {
          "stack": 6,
          "time": 4.731756756756757,
          "total_intensity": 0.45187492938692714
         },
         {
          "stack": 6,
          "time": 4.921027027027027,
          "total_intensity": 0.47264938772466036
         },
         {
          "stack": 6,
          "time": 5.110297297297297,
          "total_intensity": 0.5104485194700087
         },
         {
          "stack": 6,
          "time": 5.299567567567568,
          "total_intensity": 0.5476258869555778
         },
         {
          "stack": 6,
          "time": 5.4888378378378375,
          "total_intensity": 0.5709797070028231
         },
         {
          "stack": 6,
          "time": 5.678108108108108,
          "total_intensity": 0.5791401783030857
         },
         {
          "stack": 6,
          "time": 5.867378378378378,
          "total_intensity": 0.6115029341808625
         },
         {
          "stack": 6,
          "time": 6.056648648648649,
          "total_intensity": 0.6282654623245565
         },
         {
          "stack": 6,
          "time": 6.245918918918919,
          "total_intensity": 0.6596453580719696
         },
         {
          "stack": 6,
          "time": 6.435189189189189,
          "total_intensity": 0.6560107693705043
         },
         {
          "stack": 6,
          "time": 6.62445945945946,
          "total_intensity": 0.690243248651798
         },
         {
          "stack": 6,
          "time": 6.8137297297297295,
          "total_intensity": 0.6926468622688783
         },
         {
          "stack": 6,
          "time": 7.003,
          "total_intensity": 0.7183511284430565
         },
         {
          "stack": 6,
          "time": 7.19227027027027,
          "total_intensity": 0.7270964421349405
         },
         {
          "stack": 6,
          "time": 7.3815405405405405,
          "total_intensity": 0.7385939118793157
         },
         {
          "stack": 6,
          "time": 7.57081081081081,
          "total_intensity": 0.7494696173639115
         },
         {
          "stack": 6,
          "time": 7.760081081081081,
          "total_intensity": 0.7613798735942922
         },
         {
          "stack": 6,
          "time": 7.949351351351352,
          "total_intensity": 0.7786334625844865
         },
         {
          "stack": 6,
          "time": 8.138621621621622,
          "total_intensity": 0.7744000011814998
         },
         {
          "stack": 6,
          "time": 8.327891891891891,
          "total_intensity": 0.795389344791912
         },
         {
          "stack": 6,
          "time": 8.517162162162162,
          "total_intensity": 0.803718918248338
         },
         {
          "stack": 6,
          "time": 8.706432432432432,
          "total_intensity": 0.8060265350082078
         },
         {
          "stack": 6,
          "time": 8.895702702702703,
          "total_intensity": 0.8180446030936095
         },
         {
          "stack": 6,
          "time": 9.084972972972974,
          "total_intensity": 0.8274604179112413
         },
         {
          "stack": 6,
          "time": 9.274243243243243,
          "total_intensity": 0.8196625193562894
         },
         {
          "stack": 6,
          "time": 9.463513513513513,
          "total_intensity": 0.837407169192984
         },
         {
          "stack": 6,
          "time": 9.652783783783784,
          "total_intensity": 0.8356888254489145
         },
         {
          "stack": 6,
          "time": 9.842054054054055,
          "total_intensity": 0.8264997109017723
         },
         {
          "stack": 6,
          "time": 10.031324324324324,
          "total_intensity": 0.8698961978598608
         },
         {
          "stack": 6,
          "time": 10.220594594594594,
          "total_intensity": 0.835952447587562
         },
         {
          "stack": 6,
          "time": 10.409864864864865,
          "total_intensity": 0.8579024982074434
         },
         {
          "stack": 6,
          "time": 10.599135135135135,
          "total_intensity": 0.835345452075046
         },
         {
          "stack": 6,
          "time": 10.788405405405406,
          "total_intensity": 0.8528670938280667
         },
         {
          "stack": 6,
          "time": 10.977675675675675,
          "total_intensity": 0.8496371688016121
         },
         {
          "stack": 6,
          "time": 11.166945945945946,
          "total_intensity": 0.8513067756797131
         },
         {
          "stack": 6,
          "time": 11.356216216216216,
          "total_intensity": 0.8440737817075773
         },
         {
          "stack": 6,
          "time": 11.545486486486487,
          "total_intensity": 0.8646776610144209
         },
         {
          "stack": 6,
          "time": 11.734756756756756,
          "total_intensity": 0.8610231345041504
         },
         {
          "stack": 6,
          "time": 11.924027027027027,
          "total_intensity": 0.8668530974862854
         },
         {
          "stack": 6,
          "time": 12.113297297297297,
          "total_intensity": 0.8772163274408493
         },
         {
          "stack": 6,
          "time": 12.302567567567568,
          "total_intensity": 0.8728602854355784
         },
         {
          "stack": 6,
          "time": 12.491837837837839,
          "total_intensity": 0.8798939013196614
         },
         {
          "stack": 6,
          "time": 12.681108108108107,
          "total_intensity": 0.869052902391134
         },
         {
          "stack": 6,
          "time": 12.870378378378378,
          "total_intensity": 0.863297521582678
         },
         {
          "stack": 6,
          "time": 13.059648648648649,
          "total_intensity": 0.8844936276547746
         },
         {
          "stack": 6,
          "time": 13.24891891891892,
          "total_intensity": 0.8682657281620072
         },
         {
          "stack": 6,
          "time": 13.438189189189188,
          "total_intensity": 0.8800940178450773
         },
         {
          "stack": 6,
          "time": 13.627459459459459,
          "total_intensity": 0.8944942848640278
         },
         {
          "stack": 6,
          "time": 13.81672972972973,
          "total_intensity": 0.8737818552647999
         },
         {
          "stack": 6,
          "time": 14.006,
          "total_intensity": 0.9028533958149801
         },
         {
          "stack": 6,
          "time": 14.19527027027027,
          "total_intensity": 0.8932950625862587
         },
         {
          "stack": 6,
          "time": 14.38454054054054,
          "total_intensity": 0.9003840612725786
         },
         {
          "stack": 6,
          "time": 14.57381081081081,
          "total_intensity": 0.8903324518852676
         },
         {
          "stack": 6,
          "time": 14.763081081081081,
          "total_intensity": 0.8863064913813283
         },
         {
          "stack": 6,
          "time": 14.952351351351352,
          "total_intensity": 0.9114052389177166
         },
         {
          "stack": 6,
          "time": 15.14162162162162,
          "total_intensity": 0.905101199148434
         },
         {
          "stack": 6,
          "time": 15.330891891891891,
          "total_intensity": 0.9030446510920381
         },
         {
          "stack": 6,
          "time": 15.520162162162162,
          "total_intensity": 0.9045237411304442
         },
         {
          "stack": 6,
          "time": 15.709432432432433,
          "total_intensity": 0.9187076460019894
         },
         {
          "stack": 6,
          "time": 15.898702702702703,
          "total_intensity": 0.9106727090534636
         },
         {
          "stack": 6,
          "time": 16.087972972972974,
          "total_intensity": 0.9055826603092133
         },
         {
          "stack": 6,
          "time": 16.277243243243245,
          "total_intensity": 0.9198987454687637
         },
         {
          "stack": 6,
          "time": 16.46651351351351,
          "total_intensity": 0.8965803704149501
         },
         {
          "stack": 6,
          "time": 16.655783783783782,
          "total_intensity": 0.9121362919072434
         },
         {
          "stack": 6,
          "time": 16.845054054054053,
          "total_intensity": 0.9287902697585532
         },
         {
          "stack": 6,
          "time": 17.034324324324324,
          "total_intensity": 0.9221568869253018
         },
         {
          "stack": 6,
          "time": 17.223594594594594,
          "total_intensity": 0.9022028324980376
         },
         {
          "stack": 6,
          "time": 17.412864864864865,
          "total_intensity": 0.9107524602886847
         },
         {
          "stack": 6,
          "time": 17.602135135135136,
          "total_intensity": 0.9287954388200953
         },
         {
          "stack": 6,
          "time": 17.791405405405406,
          "total_intensity": 0.9022921834189798
         },
         {
          "stack": 6,
          "time": 17.980675675675677,
          "total_intensity": 0.8980550298291773
         },
         {
          "stack": 6,
          "time": 18.169945945945948,
          "total_intensity": 0.8934981328611272
         },
         {
          "stack": 6,
          "time": 18.359216216216215,
          "total_intensity": 0.9129212508242807
         },
         {
          "stack": 6,
          "time": 18.548486486486485,
          "total_intensity": 0.8973040390308452
         },
         {
          "stack": 6,
          "time": 18.737756756756756,
          "total_intensity": 0.9271730919332364
         },
         {
          "stack": 6,
          "time": 18.927027027027027,
          "total_intensity": 0.9169826563216515
         },
         {
          "stack": 6,
          "time": 19.116297297297297,
          "total_intensity": 0.9326648506030448
         },
         {
          "stack": 6,
          "time": 19.305567567567568,
          "total_intensity": 0.9081442995220095
         },
         {
          "stack": 6,
          "time": 19.49483783783784,
          "total_intensity": 0.9327394327767239
         },
         {
          "stack": 6,
          "time": 19.68410810810811,
          "total_intensity": 0.9159894580682035
         },
         {
          "stack": 6,
          "time": 19.87337837837838,
          "total_intensity": 0.9160418871209878
         },
         {
          "stack": 6,
          "time": 20.062648648648647,
          "total_intensity": 0.9275674174851629
         },
         {
          "stack": 6,
          "time": 20.251918918918918,
          "total_intensity": 0.9151018563576873
         },
         {
          "stack": 6,
          "time": 20.44118918918919,
          "total_intensity": 0.9342805515536353
         },
         {
          "stack": 6,
          "time": 20.63045945945946,
          "total_intensity": 0.9230873180028814
         },
         {
          "stack": 6,
          "time": 20.81972972972973,
          "total_intensity": 0.9235266882339606
         },
         {
          "stack": 6,
          "time": 21.009,
          "total_intensity": 0.9145435977111396
         },
         {
          "stack": 6,
          "time": 21.19827027027027,
          "total_intensity": 0.928836052875069
         },
         {
          "stack": 6,
          "time": 21.38754054054054,
          "total_intensity": 0.936009971858152
         },
         {
          "stack": 6,
          "time": 21.576810810810812,
          "total_intensity": 0.9255817594156303
         },
         {
          "stack": 6,
          "time": 21.76608108108108,
          "total_intensity": 0.9274854509378524
         },
         {
          "stack": 6,
          "time": 21.95535135135135,
          "total_intensity": 0.9191470162330686
         },
         {
          "stack": 6,
          "time": 22.14462162162162,
          "total_intensity": 0.9387746813458169
         },
         {
          "stack": 6,
          "time": 22.33389189189189,
          "total_intensity": 0.9267337217021572
         },
         {
          "stack": 6,
          "time": 22.523162162162162,
          "total_intensity": 0.9110544811702165
         },
         {
          "stack": 6,
          "time": 22.712432432432433,
          "total_intensity": 0.9134484951015758
         },
         {
          "stack": 6,
          "time": 22.901702702702703,
          "total_intensity": 0.9364463883397787
         },
         {
          "stack": 6,
          "time": 23.090972972972974,
          "total_intensity": 0.9399643039378649
         },
         {
          "stack": 6,
          "time": 23.280243243243245,
          "total_intensity": 0.9213438673884645
         },
         {
          "stack": 6,
          "time": 23.469513513513512,
          "total_intensity": 0.9352309204400201
         },
         {
          "stack": 6,
          "time": 23.658783783783782,
          "total_intensity": 0.9387724660337274
         },
         {
          "stack": 6,
          "time": 23.848054054054053,
          "total_intensity": 0.9367550551575788
         },
         {
          "stack": 6,
          "time": 24.037324324324324,
          "total_intensity": 0.915073057300524
         },
         {
          "stack": 6,
          "time": 24.226594594594594,
          "total_intensity": 0.9299171251747328
         },
         {
          "stack": 6,
          "time": 24.415864864864865,
          "total_intensity": 0.922847325859855
         },
         {
          "stack": 6,
          "time": 24.605135135135136,
          "total_intensity": 0.9199135142160269
         },
         {
          "stack": 6,
          "time": 24.794405405405406,
          "total_intensity": 0.9170727456799568
         },
         {
          "stack": 6,
          "time": 24.983675675675677,
          "total_intensity": 0.9101934632047739
         },
         {
          "stack": 6,
          "time": 25.172945945945944,
          "total_intensity": 0.9337141700960928
         },
         {
          "stack": 6,
          "time": 25.362216216216215,
          "total_intensity": 0.9332467392452136
         },
         {
          "stack": 6,
          "time": 25.551486486486485,
          "total_intensity": 0.9333353517287927
         },
         {
          "stack": 6,
          "time": 25.740756756756756,
          "total_intensity": 0.932949887425224
         },
         {
          "stack": 6,
          "time": 25.930027027027027,
          "total_intensity": 0.9502226757868604
         },
         {
          "stack": 6,
          "time": 26.119297297297297,
          "total_intensity": 0.9218976954108333
         },
         {
          "stack": 6,
          "time": 26.308567567567568,
          "total_intensity": 0.9311584383822019
         },
         {
          "stack": 6,
          "time": 26.49783783783784,
          "total_intensity": 0.9255160384903092
         },
         {
          "stack": 6,
          "time": 26.68710810810811,
          "total_intensity": 0.9399871954961229
         },
         {
          "stack": 6,
          "time": 26.876378378378377,
          "total_intensity": 0.9332962145485453
         },
         {
          "stack": 6,
          "time": 27.065648648648647,
          "total_intensity": 0.9281788436218581
         },
         {
          "stack": 6,
          "time": 27.254918918918918,
          "total_intensity": 0.9177114939990888
         },
         {
          "stack": 6,
          "time": 27.44418918918919,
          "total_intensity": 0.9219205869690912
         },
         {
          "stack": 6,
          "time": 27.63345945945946,
          "total_intensity": 0.9268599944912572
         },
         {
          "stack": 6,
          "time": 27.82272972972973,
          "total_intensity": 0.9300323214033854
         },
         {
          "stack": 6,
          "time": 28.012,
          "total_intensity": 0.920273133211885
         },
         {
          "stack": 7,
          "time": 0,
          "total_intensity": 0.9803722617536422
         },
         {
          "stack": 7,
          "time": 0.18927027027027027,
          "total_intensity": 0.9774025527851212
         },
         {
          "stack": 7,
          "time": 0.37854054054054054,
          "total_intensity": 0.9726488348259518
         },
         {
          "stack": 7,
          "time": 0.5678108108108109,
          "total_intensity": 1
         },
         {
          "stack": 7,
          "time": 0.7570810810810811,
          "total_intensity": 0.9908499481756671
         },
         {
          "stack": 7,
          "time": 0.9463513513513513,
          "total_intensity": 0.9860452793273318
         },
         {
          "stack": 7,
          "time": 1.1356216216216217,
          "total_intensity": 0.980687429396625
         },
         {
          "stack": 7,
          "time": 1.324891891891892,
          "total_intensity": 0.9691193939464521
         },
         {
          "stack": 7,
          "time": 1.5141621621621622,
          "total_intensity": 0.9685400095496524
         },
         {
          "stack": 7,
          "time": 1.7034324324324324,
          "total_intensity": 0.9836345743999441
         },
         {
          "stack": 7,
          "time": 1.8927027027027026,
          "total_intensity": 0.9848166350285907
         },
         {
          "stack": 7,
          "time": 2.081972972972973,
          "total_intensity": 0.9808963280422048
         },
         {
          "stack": 7,
          "time": 2.2712432432432434,
          "total_intensity": 0.9641036428430014
         },
         {
          "stack": 7,
          "time": 2.4605135135135137,
          "total_intensity": 0.9727289005089266
         },
         {
          "stack": 7,
          "time": 2.649783783783784,
          "total_intensity": 0.9617788265573504
         },
         {
          "stack": 7,
          "time": 2.839054054054054,
          "total_intensity": 0.9752203989891344
         },
         {
          "stack": 7,
          "time": 3.0283243243243243,
          "total_intensity": 0.9541922391605623
         },
         {
          "stack": 7,
          "time": 3.2175945945945945,
          "total_intensity": 0.9621282040830587
         },
         {
          "stack": 7,
          "time": 3.4068648648648647,
          "total_intensity": 0.9565701899449148
         },
         {
          "stack": 7,
          "time": 3.596135135135135,
          "total_intensity": 0.9611128256489687
         },
         {
          "stack": 7,
          "time": 3.785405405405405,
          "total_intensity": 0.17977584520246429
         },
         {
          "stack": 7,
          "time": 3.974675675675676,
          "total_intensity": 0.24374250294059419
         },
         {
          "stack": 7,
          "time": 4.163945945945946,
          "total_intensity": 0.3202205154483096
         },
         {
          "stack": 7,
          "time": 4.353216216216216,
          "total_intensity": 0.3634923777469808
         },
         {
          "stack": 7,
          "time": 4.542486486486487,
          "total_intensity": 0.41572140636100013
         },
         {
          "stack": 7,
          "time": 4.731756756756757,
          "total_intensity": 0.4532940477715537
         },
         {
          "stack": 7,
          "time": 4.921027027027027,
          "total_intensity": 0.4793809030244448
         },
         {
          "stack": 7,
          "time": 5.110297297297297,
          "total_intensity": 0.5100613448705557
         },
         {
          "stack": 7,
          "time": 5.299567567567568,
          "total_intensity": 0.5433395541942772
         },
         {
          "stack": 7,
          "time": 5.4888378378378375,
          "total_intensity": 0.5860626026296482
         },
         {
          "stack": 7,
          "time": 5.678108108108108,
          "total_intensity": 0.6091040504501147
         },
         {
          "stack": 7,
          "time": 5.867378378378378,
          "total_intensity": 0.595811691336602
         },
         {
          "stack": 7,
          "time": 6.056648648648649,
          "total_intensity": 0.6370520688972481
         },
         {
          "stack": 7,
          "time": 6.245918918918919,
          "total_intensity": 0.6575598017864838
         },
         {
          "stack": 7,
          "time": 6.435189189189189,
          "total_intensity": 0.6681816064378632
         },
         {
          "stack": 7,
          "time": 6.62445945945946,
          "total_intensity": 0.694638219572129
         },
         {
          "stack": 7,
          "time": 6.8137297297297295,
          "total_intensity": 0.6975999219723525
         },
         {
          "stack": 7,
          "time": 7.003,
          "total_intensity": 0.7151321229343054
         },
         {
          "stack": 7,
          "time": 7.19227027027027,
          "total_intensity": 0.7129921855893416
         },
         {
          "stack": 7,
          "time": 7.3815405405405405,
          "total_intensity": 0.7429447575902267
         },
         {
          "stack": 7,
          "time": 7.57081081081081,
          "total_intensity": 0.7432169809123412
         },
         {
          "stack": 7,
          "time": 7.760081081081081,
          "total_intensity": 0.7489977232231241
         },
         {
          "stack": 7,
          "time": 7.949351351351352,
          "total_intensity": 0.7472544749438085
         },
         {
          "stack": 7,
          "time": 8.138621621621622,
          "total_intensity": 0.7610366904631581
         },
         {
          "stack": 7,
          "time": 8.327891891891891,
          "total_intensity": 0.7882284521411019
         },
         {
          "stack": 7,
          "time": 8.517162162162162,
          "total_intensity": 0.7850331035205609
         },
         {
          "stack": 7,
          "time": 8.706432432432432,
          "total_intensity": 0.8100034064308756
         },
         {
          "stack": 7,
          "time": 8.895702702702703,
          "total_intensity": 0.8089771099491073
         },
         {
          "stack": 7,
          "time": 9.084972972972974,
          "total_intensity": 0.803175987282658
         },
         {
          "stack": 7,
          "time": 9.274243243243243,
          "total_intensity": 0.8280829655164382
         },
         {
          "stack": 7,
          "time": 9.463513513513513,
          "total_intensity": 0.829800738351171
         },
         {
          "stack": 7,
          "time": 9.652783783783784,
          "total_intensity": 0.8239734123702936
         },
         {
          "stack": 7,
          "time": 9.842054054054055,
          "total_intensity": 0.8327988342436559
         },
         {
          "stack": 7,
          "time": 10.031324324324324,
          "total_intensity": 0.8385373601034157
         },
         {
          "stack": 7,
          "time": 10.220594594594594,
          "total_intensity": 0.8431083827314335
         },
         {
          "stack": 7,
          "time": 10.409864864864865,
          "total_intensity": 0.8263513631546462
         },
         {
          "stack": 7,
          "time": 10.599135135135135,
          "total_intensity": 0.8396582796650635
         },
         {
          "stack": 7,
          "time": 10.788405405405406,
          "total_intensity": 0.8482143896956922
         },
         {
          "stack": 7,
          "time": 10.977675675675675,
          "total_intensity": 0.8524585987632035
         },
         {
          "stack": 7,
          "time": 11.166945945945946,
          "total_intensity": 0.838199628495231
         },
         {
          "stack": 7,
          "time": 11.356216216216216,
          "total_intensity": 0.8475702248826674
         },
         {
          "stack": 7,
          "time": 11.545486486486487,
          "total_intensity": 0.8460547998649074
         },
         {
          "stack": 7,
          "time": 11.734756756756756,
          "total_intensity": 0.8490790990718203
         },
         {
          "stack": 7,
          "time": 11.924027027027027,
          "total_intensity": 0.8707521515832625
         },
         {
          "stack": 7,
          "time": 12.113297297297297,
          "total_intensity": 0.8554312192111055
         },
         {
          "stack": 7,
          "time": 12.302567567567568,
          "total_intensity": 0.8624588025667602
         },
         {
          "stack": 7,
          "time": 12.491837837837839,
          "total_intensity": 0.8669475759022675
         },
         {
          "stack": 7,
          "time": 12.681108108108107,
          "total_intensity": 0.8683370794368034
         },
         {
          "stack": 7,
          "time": 12.870378378378378,
          "total_intensity": 0.8707179417005368
         },
         {
          "stack": 7,
          "time": 13.059648648648649,
          "total_intensity": 0.8736563522657133
         },
         {
          "stack": 7,
          "time": 13.24891891891892,
          "total_intensity": 0.8735573619667626
         },
         {
          "stack": 7,
          "time": 13.438189189189188,
          "total_intensity": 0.8506796848614718
         },
         {
          "stack": 7,
          "time": 13.627459459459459,
          "total_intensity": 0.853904148275822
         },
         {
          "stack": 7,
          "time": 13.81672972972973,
          "total_intensity": 0.8633795579209708
         },
         {
          "stack": 7,
          "time": 14.006,
          "total_intensity": 0.8588332828676908
         },
         {
          "stack": 7,
          "time": 14.19527027027027,
          "total_intensity": 0.8653317048458663
         },
         {
          "stack": 7,
          "time": 14.38454054054054,
          "total_intensity": 0.8718839891925886
         },
         {
          "stack": 7,
          "time": 14.57381081081081,
          "total_intensity": 0.859120791456555
         },
         {
          "stack": 7,
          "time": 14.763081081081081,
          "total_intensity": 0.8543678013672307
         },
         {
          "stack": 7,
          "time": 14.952351351351352,
          "total_intensity": 0.8670210907566352
         },
         {
          "stack": 7,
          "time": 15.14162162162162,
          "total_intensity": 0.8737429687772951
         },
         {
          "stack": 7,
          "time": 15.330891891891891,
          "total_intensity": 0.8567282832752978
         },
         {
          "stack": 7,
          "time": 15.520162162162162,
          "total_intensity": 0.8605561507913401
         },
         {
          "stack": 7,
          "time": 15.709432432432433,
          "total_intensity": 0.8610816728195931
         },
         {
          "stack": 7,
          "time": 15.898702702702703,
          "total_intensity": 0.8698306683592066
         },
         {
          "stack": 7,
          "time": 16.087972972972974,
          "total_intensity": 0.8736112243353092
         },
         {
          "stack": 7,
          "time": 16.277243243243245,
          "total_intensity": 0.8809830901277557
         },
         {
          "stack": 7,
          "time": 16.46651351351351,
          "total_intensity": 0.8735260635634179
         },
         {
          "stack": 7,
          "time": 16.655783783783782,
          "total_intensity": 0.8619303690591263
         },
         {
          "stack": 7,
          "time": 16.845054054054053,
          "total_intensity": 0.8819984685618456
         },
         {
          "stack": 7,
          "time": 17.034324324324324,
          "total_intensity": 0.8892291276043183
         },
         {
          "stack": 7,
          "time": 17.223594594594594,
          "total_intensity": 0.87156663794007
         },
         {
          "stack": 7,
          "time": 17.412864864864865,
          "total_intensity": 0.8778204956502498
         },
         {
          "stack": 7,
          "time": 17.602135135135136,
          "total_intensity": 0.8626429536376023
         },
         {
          "stack": 7,
          "time": 17.791405405405406,
          "total_intensity": 0.8580493670443826
         },
         {
          "stack": 7,
          "time": 17.980675675675677,
          "total_intensity": 0.867516770121234
         },
         {
          "stack": 7,
          "time": 18.169945945945948,
          "total_intensity": 0.8990233442416761
         },
         {
          "stack": 7,
          "time": 18.359216216216215,
          "total_intensity": 0.881786658436885
         },
         {
          "stack": 7,
          "time": 18.548486486486485,
          "total_intensity": 0.8812021789511687
         },
         {
          "stack": 7,
          "time": 18.737756756756756,
          "total_intensity": 0.8803949712928133
         },
         {
          "stack": 7,
          "time": 18.927027027027027,
          "total_intensity": 0.8714807492983335
         },
         {
          "stack": 7,
          "time": 19.116297297297297,
          "total_intensity": 0.8656796266318842
         },
         {
          "stack": 7,
          "time": 19.305567567567568,
          "total_intensity": 0.8436732097313286
         },
         {
          "stack": 7,
          "time": 19.49483783783784,
          "total_intensity": 0.8604083932127593
         },
         {
          "stack": 7,
          "time": 19.68410810810811,
          "total_intensity": 0.8665763622812023
         },
         {
          "stack": 7,
          "time": 19.87337837837838,
          "total_intensity": 0.8742757695040003
         },
         {
          "stack": 7,
          "time": 20.062648648648647,
          "total_intensity": 0.8591506341202092
         },
         {
          "stack": 7,
          "time": 20.251918918918918,
          "total_intensity": 0.8643949363550607
         },
         {
          "stack": 7,
          "time": 20.44118918918919,
          "total_intensity": 0.8723228947092597
         },
         {
          "stack": 7,
          "time": 20.63045945945946,
          "total_intensity": 0.8705032200961953
         },
         {
          "stack": 7,
          "time": 20.81972972972973,
          "total_intensity": 0.8808404276380914
         },
         {
          "stack": 7,
          "time": 21.009,
          "total_intensity": 0.8777455250561915
         },
         {
          "stack": 7,
          "time": 21.19827027027027,
          "total_intensity": 0.8774041540987807
         },
         {
          "stack": 7,
          "time": 21.38754054054054,
          "total_intensity": 0.8401750672551737
         },
         {
          "stack": 7,
          "time": 21.576810810810812,
          "total_intensity": 0.8451857232697078
         },
         {
          "stack": 7,
          "time": 21.76608108108108,
          "total_intensity": 0.8694463530809274
         },
         {
          "stack": 7,
          "time": 21.95535135135135,
          "total_intensity": 0.8627113734030536
         },
         {
          "stack": 7,
          "time": 22.14462162162162,
          "total_intensity": 0.8665676278430596
         },
         {
          "stack": 7,
          "time": 22.33389189189189,
          "total_intensity": 0.8539965877461656
         },
         {
          "stack": 7,
          "time": 22.523162162162162,
          "total_intensity": 0.8679898855206307
         },
         {
          "stack": 7,
          "time": 22.712432432432433,
          "total_intensity": 0.8746397044266132
         },
         {
          "stack": 7,
          "time": 22.901702702702703,
          "total_intensity": 0.9012054980376629
         },
         {
          "stack": 7,
          "time": 23.090972972972974,
          "total_intensity": 0.8684382533452898
         },
         {
          "stack": 7,
          "time": 23.280243243243245,
          "total_intensity": 0.8713409982880501
         },
         {
          "stack": 7,
          "time": 23.469513513513512,
          "total_intensity": 0.8702528328694377
         },
         {
          "stack": 7,
          "time": 23.658783783783782,
          "total_intensity": 0.8727938264991207
         },
         {
          "stack": 7,
          "time": 23.848054054054053,
          "total_intensity": 0.8485470262149604
         },
         {
          "stack": 7,
          "time": 24.037324324324324,
          "total_intensity": 0.8570128803847811
         },
         {
          "stack": 7,
          "time": 24.226594594594594,
          "total_intensity": 0.8568549326283671
         },
         {
          "stack": 7,
          "time": 24.415864864864865,
          "total_intensity": 0.8700664981890598
         },
         {
          "stack": 7,
          "time": 24.605135135135136,
          "total_intensity": 0.8599665762167072
         },
         {
          "stack": 7,
          "time": 24.794405405405406,
          "total_intensity": 0.8522446050287071
         },
         {
          "stack": 7,
          "time": 24.983675675675677,
          "total_intensity": 0.8735922997193334
         },
         {
          "stack": 7,
          "time": 25.172945945945944,
          "total_intensity": 0.8631684756658553
         },
         {
          "stack": 7,
          "time": 25.362216216216215,
          "total_intensity": 0.8605918164137561
         },
         {
          "stack": 7,
          "time": 25.551486486486485,
          "total_intensity": 0.846311737920272
         },
         {
          "stack": 7,
          "time": 25.740756756756756,
          "total_intensity": 0.8418724597342402
         },
         {
          "stack": 7,
          "time": 25.930027027027027,
          "total_intensity": 0.8548838610874958
         },
         {
          "stack": 7,
          "time": 26.119297297297297,
          "total_intensity": 0.8561729185833906
         },
         {
          "stack": 7,
          "time": 26.308567567567568,
          "total_intensity": 0.8734190666961696
         },
         {
          "stack": 7,
          "time": 26.49783783783784,
          "total_intensity": 0.86274849476516
         },
         {
          "stack": 7,
          "time": 26.68710810810811,
          "total_intensity": 0.8616792539625234
         },
         {
          "stack": 7,
          "time": 26.876378378378377,
          "total_intensity": 0.8650063470250504
         },
         {
          "stack": 7,
          "time": 27.065648648648647,
          "total_intensity": 0.8651417308162623
         },
         {
          "stack": 7,
          "time": 27.254918918918918,
          "total_intensity": 0.862690265177542
         },
         {
          "stack": 7,
          "time": 27.44418918918919,
          "total_intensity": 0.8588078074231078
         },
         {
          "stack": 7,
          "time": 27.63345945945946,
          "total_intensity": 0.8576148287467829
         },
         {
          "stack": 7,
          "time": 27.82272972972973,
          "total_intensity": 0.8591120570184122
         },
         {
          "stack": 7,
          "time": 28.012,
          "total_intensity": 0.8525430316652497
         }
        ]
       },
       "encoding": {
        "row": {
         "field": "stack",
         "title": "Image stack",
         "type": "quantitative"
        },
        "tooltip": [
         {
          "field": "time",
          "type": "quantitative"
         },
         {
          "field": "total_intensity",
          "type": "quantitative"
         }
        ],
        "x": {
         "field": "time",
         "scale": {
          "domain": [
           0,
           28.012
          ],
          "nice": false
         },
         "title": "Time (s)",
         "type": "quantitative"
        },
        "y": {
         "field": "total_intensity",
         "title": "Normalized total intensity",
         "type": "quantitative"
        }
       },
       "height": 200,
       "mark": {
        "strokeJoin": "bevel",
        "type": "line"
       },
       "selection": {
        "selector001": {
         "bind": "scales",
         "encodings": [
          "x",
          "y"
         ],
         "mark": {
          "fill": "#333",
          "fillOpacity": 0.125,
          "stroke": "white"
         },
         "on": "[mousedown, window:mouseup] > window:mousemove!",
         "resolve": "global",
         "translate": "[mousedown, window:mouseup] > window:mousemove!",
         "type": "interval",
         "zoom": "wheel!"
        }
       },
       "width": 350
      },
      "image/png": "[encoded data removed]",
      "text/plain": [
       "<VegaLite 2 object>\n",
       "\n",
       "If you see this message, it means the renderer has not been properly enabled\n",
       "for the frontend that you are using. For more information, see\n",
       "https://altair-viz.github.io/user_guide/troubleshooting.html\n"
      ]
     },
     "execution_count": 18,
     "metadata": {},
     "output_type": "execute_result"
    }
   ],
   "source": [
    "alt.Chart(df,\n",
    "          height=200,\n",
    "          width=350\n",
    "    ).mark_line(\n",
    "        strokeJoin='bevel'\n",
    "    ).encode(\n",
    "        x=alt.X('time:Q', title='Time (s)', scale=alt.Scale(domain=[0, t[-1]], nice=False)),\n",
    "        y=alt.Y('total_intensity:Q', title='Normalized total intensity'),\n",
    "        row=alt.Row('stack:Q', title='Image stack'),\n",
    "        tooltip=['time', 'total_intensity']\n",
    "    ).interactive()"
   ]
  },
  {
   "cell_type": "markdown",
   "metadata": {},
   "source": [
    "We can now visualize the traces of normalized fluorescence of the photobleached spot spot versus time from each of the experimental repeats. Each photobleached spot drops to approximately 0.2 of its original value after FRAP is applied, and most recover fairly quickly, reaching around 0.9 of their original intensities by the end of the experiment. "
   ]
  },
  {
   "cell_type": "code",
   "execution_count": 19,
   "metadata": {},
   "outputs": [],
   "source": [
    "%load_ext watermark"
   ]
  },
  {
   "cell_type": "code",
   "execution_count": 20,
   "metadata": {},
   "outputs": [
    {
     "name": "stdout",
     "output_type": "stream",
     "text": [
      "CPython 3.7.0\n",
      "IPython 7.0.1\n",
      "\n",
      "numpy 1.15.2\n",
      "pandas 0.23.4\n",
      "scipy 1.1.0\n",
      "skimage 0.14.0\n",
      "bokeh 0.13.0\n",
      "bebi103 0.0.28\n",
      "jupyterlab 0.35.0\n"
     ]
    }
   ],
   "source": [
    "%watermark -v -p numpy,pandas,scipy,skimage,bokeh,bebi103,jupyterlab"
   ]
  }
 ],
 "metadata": {
  "kernelspec": {
   "display_name": "Python 3",
   "language": "python",
   "name": "python3"
  },
  "language_info": {
   "codemirror_mode": {
    "name": "ipython",
    "version": 3
   },
   "file_extension": ".py",
   "mimetype": "text/x-python",
   "name": "python",
   "nbconvert_exporter": "python",
   "pygments_lexer": "ipython3",
   "version": "3.7.0"
  }
 },
 "nbformat": 4,
 "nbformat_minor": 2
}
