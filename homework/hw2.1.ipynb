{
 "cells": [
  {
   "cell_type": "code",
   "execution_count": 1,
   "metadata": {},
   "outputs": [
    {
     "name": "stderr",
     "output_type": "stream",
     "text": [
      "C:\\Users\\Christina\\Anaconda3\\envs\\be103\\lib\\site-packages\\bebi103\\viz.py:30: UserWarning: DataShader import failed with error \"No module named 'datashader'\".\n",
      "Features requiring DataShader will not work and you will get exceptions.\n",
      "  Features requiring DataShader will not work and you will get exceptions.\"\"\")\n"
     ]
    }
   ],
   "source": [
    "import itertools\n",
    "\n",
    "import numpy as np\n",
    "import pandas as pd\n",
    "\n",
    "import altair as alt\n",
    "import altair_catplot as altcat\n",
    "\n",
    "import bebi103"
   ]
  },
  {
   "cell_type": "markdown",
   "metadata": {},
   "source": [
    "**a)**\n",
    "First of all, we can load the data by using the function in Panda package, and take a look if the data is tidy."
   ]
  },
  {
   "cell_type": "code",
   "execution_count": 2,
   "metadata": {},
   "outputs": [
    {
     "data": {
      "text/html": [
       "<div>\n",
       "<style scoped>\n",
       "    .dataframe tbody tr th:only-of-type {\n",
       "        vertical-align: middle;\n",
       "    }\n",
       "\n",
       "    .dataframe tbody tr th {\n",
       "        vertical-align: top;\n",
       "    }\n",
       "\n",
       "    .dataframe thead th {\n",
       "        text-align: right;\n",
       "    }\n",
       "</style>\n",
       "<table border=\"1\" class=\"dataframe\">\n",
       "  <thead>\n",
       "    <tr style=\"text-align: right;\">\n",
       "      <th></th>\n",
       "      <th>sc15</th>\n",
       "      <th>sc20</th>\n",
       "      <th>sc25</th>\n",
       "      <th>sk15</th>\n",
       "      <th>sk20</th>\n",
       "      <th>sk25</th>\n",
       "      <th>m315</th>\n",
       "      <th>m320</th>\n",
       "      <th>m325</th>\n",
       "    </tr>\n",
       "  </thead>\n",
       "  <tbody>\n",
       "    <tr>\n",
       "      <th>0</th>\n",
       "      <td>1298.547</td>\n",
       "      <td>2737.135</td>\n",
       "      <td>16499.30</td>\n",
       "      <td>8978.031</td>\n",
       "      <td>14251.97</td>\n",
       "      <td>16593.960</td>\n",
       "      <td>20722.62</td>\n",
       "      <td>11703.01</td>\n",
       "      <td>17073.800</td>\n",
       "    </tr>\n",
       "    <tr>\n",
       "      <th>1</th>\n",
       "      <td>6798.146</td>\n",
       "      <td>12185.360</td>\n",
       "      <td>12672.19</td>\n",
       "      <td>11221.130</td>\n",
       "      <td>13616.94</td>\n",
       "      <td>6910.673</td>\n",
       "      <td>10373.52</td>\n",
       "      <td>17025.58</td>\n",
       "      <td>15379.370</td>\n",
       "    </tr>\n",
       "    <tr>\n",
       "      <th>2</th>\n",
       "      <td>10686.910</td>\n",
       "      <td>1532.901</td>\n",
       "      <td>15832.53</td>\n",
       "      <td>9460.200</td>\n",
       "      <td>17474.90</td>\n",
       "      <td>20934.660</td>\n",
       "      <td>21707.12</td>\n",
       "      <td>17499.83</td>\n",
       "      <td>16991.490</td>\n",
       "    </tr>\n",
       "    <tr>\n",
       "      <th>3</th>\n",
       "      <td>2018.864</td>\n",
       "      <td>2357.752</td>\n",
       "      <td>15065.03</td>\n",
       "      <td>9049.072</td>\n",
       "      <td>16042.57</td>\n",
       "      <td>18042.750</td>\n",
       "      <td>21750.27</td>\n",
       "      <td>15657.50</td>\n",
       "      <td>13393.350</td>\n",
       "    </tr>\n",
       "    <tr>\n",
       "      <th>4</th>\n",
       "      <td>1551.396</td>\n",
       "      <td>1888.596</td>\n",
       "      <td>16960.67</td>\n",
       "      <td>14132.810</td>\n",
       "      <td>12867.40</td>\n",
       "      <td>23189.560</td>\n",
       "      <td>20820.26</td>\n",
       "      <td>11383.33</td>\n",
       "      <td>7709.297</td>\n",
       "    </tr>\n",
       "  </tbody>\n",
       "</table>\n",
       "</div>"
      ],
      "text/plain": [
       "        sc15       sc20      sc25       sk15      sk20       sk25      m315  \\\n",
       "0   1298.547   2737.135  16499.30   8978.031  14251.97  16593.960  20722.62   \n",
       "1   6798.146  12185.360  12672.19  11221.130  13616.94   6910.673  10373.52   \n",
       "2  10686.910   1532.901  15832.53   9460.200  17474.90  20934.660  21707.12   \n",
       "3   2018.864   2357.752  15065.03   9049.072  16042.57  18042.750  21750.27   \n",
       "4   1551.396   1888.596  16960.67  14132.810  12867.40  23189.560  20820.26   \n",
       "\n",
       "       m320       m325  \n",
       "0  11703.01  17073.800  \n",
       "1  17025.58  15379.370  \n",
       "2  17499.83  16991.490  \n",
       "3  15657.50  13393.350  \n",
       "4  11383.33   7709.297  "
      ]
     },
     "execution_count": 2,
     "metadata": {},
     "output_type": "execute_result"
    }
   ],
   "source": [
    "df = pd.read_excel('../data/wang_cool_gal4.xlsx')\n",
    "df.head()"
   ]
  },
  {
   "cell_type": "markdown",
   "metadata": {},
   "source": [
    "<p style=\"background-color:#D9EDF7\">\n",
    "    <b>(a): 3/3</b><br>\n",
    "</p>"
   ]
  },
  {
   "cell_type": "markdown",
   "metadata": {},
   "source": [
    "**b)**\n",
    "It is not tidy since the reading of each condition (genotype and temperature) forms a column, and we may want to have three columns that denote 'genotype', 'temperature', and the reading for each measurement. This operation is pretty similar to what we did in the tutorial, so first we use the stack function to move the horizontal index to vertical index, sort the data by conditions, reset the index and take a look."
   ]
  },
  {
   "cell_type": "code",
   "execution_count": 3,
   "metadata": {},
   "outputs": [
    {
     "data": {
      "text/html": [
       "<div>\n",
       "<style scoped>\n",
       "    .dataframe tbody tr th:only-of-type {\n",
       "        vertical-align: middle;\n",
       "    }\n",
       "\n",
       "    .dataframe tbody tr th {\n",
       "        vertical-align: top;\n",
       "    }\n",
       "\n",
       "    .dataframe thead th {\n",
       "        text-align: right;\n",
       "    }\n",
       "</style>\n",
       "<table border=\"1\" class=\"dataframe\">\n",
       "  <thead>\n",
       "    <tr style=\"text-align: right;\">\n",
       "      <th></th>\n",
       "      <th>level_1</th>\n",
       "      <th>0</th>\n",
       "    </tr>\n",
       "  </thead>\n",
       "  <tbody>\n",
       "    <tr>\n",
       "      <th>0</th>\n",
       "      <td>sc15</td>\n",
       "      <td>1298.547</td>\n",
       "    </tr>\n",
       "    <tr>\n",
       "      <th>1</th>\n",
       "      <td>sc15</td>\n",
       "      <td>6798.146</td>\n",
       "    </tr>\n",
       "    <tr>\n",
       "      <th>2</th>\n",
       "      <td>sc15</td>\n",
       "      <td>10686.910</td>\n",
       "    </tr>\n",
       "    <tr>\n",
       "      <th>3</th>\n",
       "      <td>sc15</td>\n",
       "      <td>2018.864</td>\n",
       "    </tr>\n",
       "    <tr>\n",
       "      <th>4</th>\n",
       "      <td>sc15</td>\n",
       "      <td>1551.396</td>\n",
       "    </tr>\n",
       "  </tbody>\n",
       "</table>\n",
       "</div>"
      ],
      "text/plain": [
       "  level_1          0\n",
       "0    sc15   1298.547\n",
       "1    sc15   6798.146\n",
       "2    sc15  10686.910\n",
       "3    sc15   2018.864\n",
       "4    sc15   1551.396"
      ]
     },
     "execution_count": 3,
     "metadata": {},
     "output_type": "execute_result"
    }
   ],
   "source": [
    "df_tidy = df.stack(level = 0)\n",
    "df_tidy = df_tidy.sort_index(level = 1)\n",
    "df_tidy = df_tidy.reset_index(level = 1)\n",
    "df_tidy.head()"
   ]
  },
  {
   "cell_type": "markdown",
   "metadata": {},
   "source": [
    "Before we proceed, we check if there is any NaN inside the dataframe. We don't need to worry about the first column because values all come from the condition."
   ]
  },
  {
   "cell_type": "code",
   "execution_count": 4,
   "metadata": {},
   "outputs": [
    {
     "data": {
      "text/plain": [
       "array([False])"
      ]
     },
     "execution_count": 4,
     "metadata": {},
     "output_type": "execute_result"
    }
   ],
   "source": [
    "np.isnan(df_tidy.loc[:,0]).unique()"
   ]
  },
  {
   "cell_type": "markdown",
   "metadata": {},
   "source": [
    "It looks like the stack operation has already removed all the NaNs. Now we have the condition and reading as parameters sitting in the columns with the default names though, so the first step we take is to rename the column as 'Condition' and the reading as 'Fluorescence'."
   ]
  },
  {
   "cell_type": "code",
   "execution_count": 5,
   "metadata": {},
   "outputs": [
    {
     "data": {
      "text/html": [
       "<div>\n",
       "<style scoped>\n",
       "    .dataframe tbody tr th:only-of-type {\n",
       "        vertical-align: middle;\n",
       "    }\n",
       "\n",
       "    .dataframe tbody tr th {\n",
       "        vertical-align: top;\n",
       "    }\n",
       "\n",
       "    .dataframe thead th {\n",
       "        text-align: right;\n",
       "    }\n",
       "</style>\n",
       "<table border=\"1\" class=\"dataframe\">\n",
       "  <thead>\n",
       "    <tr style=\"text-align: right;\">\n",
       "      <th></th>\n",
       "      <th>Condition</th>\n",
       "      <th>Fluorescence</th>\n",
       "    </tr>\n",
       "  </thead>\n",
       "  <tbody>\n",
       "    <tr>\n",
       "      <th>0</th>\n",
       "      <td>sc15</td>\n",
       "      <td>1298.547</td>\n",
       "    </tr>\n",
       "    <tr>\n",
       "      <th>1</th>\n",
       "      <td>sc15</td>\n",
       "      <td>6798.146</td>\n",
       "    </tr>\n",
       "    <tr>\n",
       "      <th>2</th>\n",
       "      <td>sc15</td>\n",
       "      <td>10686.910</td>\n",
       "    </tr>\n",
       "    <tr>\n",
       "      <th>3</th>\n",
       "      <td>sc15</td>\n",
       "      <td>2018.864</td>\n",
       "    </tr>\n",
       "    <tr>\n",
       "      <th>4</th>\n",
       "      <td>sc15</td>\n",
       "      <td>1551.396</td>\n",
       "    </tr>\n",
       "  </tbody>\n",
       "</table>\n",
       "</div>"
      ],
      "text/plain": [
       "  Condition  Fluorescence\n",
       "0      sc15      1298.547\n",
       "1      sc15      6798.146\n",
       "2      sc15     10686.910\n",
       "3      sc15      2018.864\n",
       "4      sc15      1551.396"
      ]
     },
     "execution_count": 5,
     "metadata": {},
     "output_type": "execute_result"
    }
   ],
   "source": [
    "df_tidy = df_tidy.rename(columns={'level_1': 'Condition'})\n",
    "df_tidy = df_tidy.rename(columns={0: 'Fluorescence'})\n",
    "df_tidy.head()"
   ]
  },
  {
   "cell_type": "markdown",
   "metadata": {},
   "source": [
    "Then we take a look at how many conditions we have and how we can separate them into temperature and genotype. "
   ]
  },
  {
   "cell_type": "code",
   "execution_count": 6,
   "metadata": {},
   "outputs": [
    {
     "data": {
      "text/plain": [
       "array(['sc15', 'sc20', 'sc25', 'sk15', 'sk20', 'sk25', 'm315', 'm320',\n",
       "       'm325'], dtype=object)"
      ]
     },
     "execution_count": 6,
     "metadata": {},
     "output_type": "execute_result"
    }
   ],
   "source": [
    "df_tidy['Condition'].unique()"
   ]
  },
  {
   "cell_type": "markdown",
   "metadata": {},
   "source": [
    "In this case, the first two characters of each string in this column denote the genotype, while the last two denote the temperature, so we just take the first part of the condition as one column 'Genotype' and the rest as one column 'Temperature'. Although we want genotype and temperature separate, we think it is still valuable to keep this condition for possible needs, so we will not drop the column after separation for now. Besides the extra 'Condition' column, the DataFrame is now tidy."
   ]
  },
  {
   "cell_type": "code",
   "execution_count": 7,
   "metadata": {},
   "outputs": [
    {
     "data": {
      "text/plain": [
       "14304.212576923075"
      ]
     },
     "execution_count": 7,
     "metadata": {},
     "output_type": "execute_result"
    }
   ],
   "source": [
    "df_tidy['Genotype'] = df_tidy.Condition.str[0:2]\n",
    "df_tidy['Temperature'] = df_tidy.Condition.str[2:]\n",
    "df_tidy.head()\n",
    "df_tidy.loc[df_tidy['Condition'] == 'm325','Fluorescence'].values.mean()"
   ]
  },
  {
   "cell_type": "markdown",
   "metadata": {},
   "source": [
    "<p style=\"background-color:#D9EDF7\">\n",
    "    <b>(b): 7/7</b><br>\n",
    "    Good job!  (Jupyter notebooks only display the result of the last line in a cell, so you should probably remove the last line to show <tt>df_tidy</tt>.)\n",
    "</p>"
   ]
  },
  {
   "cell_type": "markdown",
   "metadata": {},
   "source": [
    "**c)**\n",
    "We have two parameters in this experiment, but we only have one variable measured. As a result, we need to separate those two parameters and compare them one by one. Thus, we want two sets of plots where in the first, we compare the fluorescence of each genotype in different temperatures, and in the second, we compare different genotypes in each specific temperature. In term of the way to plot, we chose the ECDF because the part that we care the most about is the distribution of fluorescence readings for different conditions so that we can have an idea about how they perform. Before plotting, we look at the range of the readings, so that we can use the same and appropriate axis range for all the plots."
   ]
  },
  {
   "cell_type": "code",
   "execution_count": 8,
   "metadata": {},
   "outputs": [
    {
     "data": {
      "text/plain": [
       "43198.42"
      ]
     },
     "execution_count": 8,
     "metadata": {},
     "output_type": "execute_result"
    }
   ],
   "source": [
    "df_tidy['Fluorescence'].max()"
   ]
  },
  {
   "cell_type": "code",
   "execution_count": 9,
   "metadata": {},
   "outputs": [
    {
     "data": {
      "text/plain": [
       "492.0972"
      ]
     },
     "execution_count": 9,
     "metadata": {},
     "output_type": "execute_result"
    }
   ],
   "source": [
    "df_tidy['Fluorescence'].min()"
   ]
  },
  {
   "cell_type": "markdown",
   "metadata": {},
   "source": [
    "From the min and max fluorescence above, we choose to set the range from 0 to 45000, and we assign a scale variable so that it can be used in all the plots easily. Also, we want to use loop construct to plot so we have an empty variable assigned for further appending."
   ]
  },
  {
   "cell_type": "code",
   "execution_count": 10,
   "metadata": {},
   "outputs": [],
   "source": [
    "axis_scale = alt.Scale(domain=[0, 45000])\n",
    "p = []"
   ]
  },
  {
   "cell_type": "markdown",
   "metadata": {},
   "source": [
    "Now we can fix the temperature, plot the ECDF for different genotypes in this temperature, and then loop over all the temperatures. We put those three plots together so that we can compare the fluorescence of three genotypes in each temperature."
   ]
  },
  {
   "cell_type": "code",
   "execution_count": 11,
   "metadata": {},
   "outputs": [
    {
     "data": {
      "application/vnd.vegalite.v2+json": {
       "$schema": "https://vega.github.io/schema/vega-lite/v2.6.0.json",
       "config": {
        "view": {
         "height": 300,
         "width": 400
        }
       },
       "datasets": {
        "data-86f971b0e64f3f7144935c6acb8f2b22": [
         {
          "Fluorescence": 6096.728649999999,
          "Genotype": "m3",
          "__ECDF": 0
         },
         {
          "Fluorescence": 7709.297,
          "Genotype": "m3",
          "__ECDF": 0
         },
         {
          "Fluorescence": 7709.297,
          "Genotype": "m3",
          "__ECDF": 0.038461538461538464
         },
         {
          "Fluorescence": 11297.41,
          "Genotype": "m3",
          "__ECDF": 0.038461538461538464
         },
         {
          "Fluorescence": 11297.41,
          "Genotype": "m3",
          "__ECDF": 0.07692307692307693
         },
         {
          "Fluorescence": 11876.02,
          "Genotype": "m3",
          "__ECDF": 0.07692307692307693
         },
         {
          "Fluorescence": 11876.02,
          "Genotype": "m3",
          "__ECDF": 0.11538461538461539
         },
         {
          "Fluorescence": 12071.33,
          "Genotype": "m3",
          "__ECDF": 0.11538461538461539
         },
         {
          "Fluorescence": 12071.33,
          "Genotype": "m3",
          "__ECDF": 0.15384615384615385
         },
         {
          "Fluorescence": 12140.31,
          "Genotype": "m3",
          "__ECDF": 0.15384615384615385
         },
         {
          "Fluorescence": 12140.31,
          "Genotype": "m3",
          "__ECDF": 0.19230769230769232
         },
         {
          "Fluorescence": 12173.06,
          "Genotype": "m3",
          "__ECDF": 0.19230769230769232
         },
         {
          "Fluorescence": 12173.06,
          "Genotype": "m3",
          "__ECDF": 0.23076923076923078
         },
         {
          "Fluorescence": 12538.9,
          "Genotype": "m3",
          "__ECDF": 0.23076923076923078
         },
         {
          "Fluorescence": 12538.9,
          "Genotype": "m3",
          "__ECDF": 0.2692307692307692
         },
         {
          "Fluorescence": 13168.06,
          "Genotype": "m3",
          "__ECDF": 0.2692307692307692
         },
         {
          "Fluorescence": 13168.06,
          "Genotype": "m3",
          "__ECDF": 0.3076923076923077
         },
         {
          "Fluorescence": 13274.08,
          "Genotype": "m3",
          "__ECDF": 0.3076923076923077
         },
         {
          "Fluorescence": 13274.08,
          "Genotype": "m3",
          "__ECDF": 0.34615384615384615
         },
         {
          "Fluorescence": 13393.35,
          "Genotype": "m3",
          "__ECDF": 0.34615384615384615
         },
         {
          "Fluorescence": 13393.35,
          "Genotype": "m3",
          "__ECDF": 0.38461538461538464
         },
         {
          "Fluorescence": 13470.66,
          "Genotype": "m3",
          "__ECDF": 0.38461538461538464
         },
         {
          "Fluorescence": 13470.66,
          "Genotype": "m3",
          "__ECDF": 0.4230769230769231
         },
         {
          "Fluorescence": 14180.11,
          "Genotype": "m3",
          "__ECDF": 0.4230769230769231
         },
         {
          "Fluorescence": 14180.11,
          "Genotype": "m3",
          "__ECDF": 0.46153846153846156
         },
         {
          "Fluorescence": 14285.94,
          "Genotype": "m3",
          "__ECDF": 0.46153846153846156
         },
         {
          "Fluorescence": 14285.94,
          "Genotype": "m3",
          "__ECDF": 0.5
         },
         {
          "Fluorescence": 14313.86,
          "Genotype": "m3",
          "__ECDF": 0.5
         },
         {
          "Fluorescence": 14313.86,
          "Genotype": "m3",
          "__ECDF": 0.5384615384615384
         },
         {
          "Fluorescence": 14487.56,
          "Genotype": "m3",
          "__ECDF": 0.5384615384615384
         },
         {
          "Fluorescence": 14487.56,
          "Genotype": "m3",
          "__ECDF": 0.5769230769230769
         },
         {
          "Fluorescence": 14544.24,
          "Genotype": "m3",
          "__ECDF": 0.5769230769230769
         },
         {
          "Fluorescence": 14544.24,
          "Genotype": "m3",
          "__ECDF": 0.6153846153846154
         },
         {
          "Fluorescence": 15379.37,
          "Genotype": "m3",
          "__ECDF": 0.6153846153846154
         },
         {
          "Fluorescence": 15379.37,
          "Genotype": "m3",
          "__ECDF": 0.6538461538461539
         },
         {
          "Fluorescence": 15535.85,
          "Genotype": "m3",
          "__ECDF": 0.6538461538461539
         },
         {
          "Fluorescence": 15535.85,
          "Genotype": "m3",
          "__ECDF": 0.6923076923076923
         },
         {
          "Fluorescence": 16043.45,
          "Genotype": "m3",
          "__ECDF": 0.6923076923076923
         },
         {
          "Fluorescence": 16043.45,
          "Genotype": "m3",
          "__ECDF": 0.7307692307692307
         },
         {
          "Fluorescence": 16187.48,
          "Genotype": "m3",
          "__ECDF": 0.7307692307692307
         },
         {
          "Fluorescence": 16187.48,
          "Genotype": "m3",
          "__ECDF": 0.7692307692307693
         },
         {
          "Fluorescence": 16636.82,
          "Genotype": "m3",
          "__ECDF": 0.7692307692307693
         },
         {
          "Fluorescence": 16636.82,
          "Genotype": "m3",
          "__ECDF": 0.8076923076923077
         },
         {
          "Fluorescence": 16896.31,
          "Genotype": "m3",
          "__ECDF": 0.8076923076923077
         },
         {
          "Fluorescence": 16896.31,
          "Genotype": "m3",
          "__ECDF": 0.8461538461538461
         },
         {
          "Fluorescence": 16991.49,
          "Genotype": "m3",
          "__ECDF": 0.8461538461538461
         },
         {
          "Fluorescence": 16991.49,
          "Genotype": "m3",
          "__ECDF": 0.8846153846153846
         },
         {
          "Fluorescence": 17073.8,
          "Genotype": "m3",
          "__ECDF": 0.8846153846153846
         },
         {
          "Fluorescence": 17073.8,
          "Genotype": "m3",
          "__ECDF": 0.9230769230769231
         },
         {
          "Fluorescence": 18034.93,
          "Genotype": "m3",
          "__ECDF": 0.9230769230769231
         },
         {
          "Fluorescence": 18034.93,
          "Genotype": "m3",
          "__ECDF": 0.9615384615384616
         },
         {
          "Fluorescence": 18205.84,
          "Genotype": "m3",
          "__ECDF": 0.9615384615384616
         },
         {
          "Fluorescence": 18205.84,
          "Genotype": "m3",
          "__ECDF": 1
         },
         {
          "Fluorescence": 24003.504350000003,
          "Genotype": "m3",
          "__ECDF": 1
         },
         {
          "Fluorescence": 6096.728649999999,
          "Genotype": "sc",
          "__ECDF": 0
         },
         {
          "Fluorescence": 8358.995,
          "Genotype": "sc",
          "__ECDF": 0
         },
         {
          "Fluorescence": 8358.995,
          "Genotype": "sc",
          "__ECDF": 0.04
         },
         {
          "Fluorescence": 9540.503,
          "Genotype": "sc",
          "__ECDF": 0.04
         },
         {
          "Fluorescence": 9540.503,
          "Genotype": "sc",
          "__ECDF": 0.08
         },
         {
          "Fluorescence": 11233.21,
          "Genotype": "sc",
          "__ECDF": 0.08
         },
         {
          "Fluorescence": 11233.21,
          "Genotype": "sc",
          "__ECDF": 0.12
         },
         {
          "Fluorescence": 12163.93,
          "Genotype": "sc",
          "__ECDF": 0.12
         },
         {
          "Fluorescence": 12163.93,
          "Genotype": "sc",
          "__ECDF": 0.16
         },
         {
          "Fluorescence": 12462.69,
          "Genotype": "sc",
          "__ECDF": 0.16
         },
         {
          "Fluorescence": 12462.69,
          "Genotype": "sc",
          "__ECDF": 0.2
         },
         {
          "Fluorescence": 12672.19,
          "Genotype": "sc",
          "__ECDF": 0.2
         },
         {
          "Fluorescence": 12672.19,
          "Genotype": "sc",
          "__ECDF": 0.24
         },
         {
          "Fluorescence": 13334.83,
          "Genotype": "sc",
          "__ECDF": 0.24
         },
         {
          "Fluorescence": 13334.83,
          "Genotype": "sc",
          "__ECDF": 0.28
         },
         {
          "Fluorescence": 13568.62,
          "Genotype": "sc",
          "__ECDF": 0.28
         },
         {
          "Fluorescence": 13568.62,
          "Genotype": "sc",
          "__ECDF": 0.32
         },
         {
          "Fluorescence": 13609.09,
          "Genotype": "sc",
          "__ECDF": 0.32
         },
         {
          "Fluorescence": 13609.09,
          "Genotype": "sc",
          "__ECDF": 0.36
         },
         {
          "Fluorescence": 13969.94,
          "Genotype": "sc",
          "__ECDF": 0.36
         },
         {
          "Fluorescence": 13969.94,
          "Genotype": "sc",
          "__ECDF": 0.4
         },
         {
          "Fluorescence": 14128.31,
          "Genotype": "sc",
          "__ECDF": 0.4
         },
         {
          "Fluorescence": 14128.31,
          "Genotype": "sc",
          "__ECDF": 0.44
         },
         {
          "Fluorescence": 14211.59,
          "Genotype": "sc",
          "__ECDF": 0.44
         },
         {
          "Fluorescence": 14211.59,
          "Genotype": "sc",
          "__ECDF": 0.48
         },
         {
          "Fluorescence": 14414.89,
          "Genotype": "sc",
          "__ECDF": 0.48
         },
         {
          "Fluorescence": 14414.89,
          "Genotype": "sc",
          "__ECDF": 0.52
         },
         {
          "Fluorescence": 14879.05,
          "Genotype": "sc",
          "__ECDF": 0.52
         },
         {
          "Fluorescence": 14879.05,
          "Genotype": "sc",
          "__ECDF": 0.56
         },
         {
          "Fluorescence": 14882.92,
          "Genotype": "sc",
          "__ECDF": 0.56
         },
         {
          "Fluorescence": 14882.92,
          "Genotype": "sc",
          "__ECDF": 0.6
         },
         {
          "Fluorescence": 15065.03,
          "Genotype": "sc",
          "__ECDF": 0.6
         },
         {
          "Fluorescence": 15065.03,
          "Genotype": "sc",
          "__ECDF": 0.64
         },
         {
          "Fluorescence": 15110.88,
          "Genotype": "sc",
          "__ECDF": 0.64
         },
         {
          "Fluorescence": 15110.88,
          "Genotype": "sc",
          "__ECDF": 0.68
         },
         {
          "Fluorescence": 15158.47,
          "Genotype": "sc",
          "__ECDF": 0.68
         },
         {
          "Fluorescence": 15158.47,
          "Genotype": "sc",
          "__ECDF": 0.72
         },
         {
          "Fluorescence": 15602.73,
          "Genotype": "sc",
          "__ECDF": 0.72
         },
         {
          "Fluorescence": 15602.73,
          "Genotype": "sc",
          "__ECDF": 0.76
         },
         {
          "Fluorescence": 15832.53,
          "Genotype": "sc",
          "__ECDF": 0.76
         },
         {
          "Fluorescence": 15832.53,
          "Genotype": "sc",
          "__ECDF": 0.8
         },
         {
          "Fluorescence": 16499.3,
          "Genotype": "sc",
          "__ECDF": 0.8
         },
         {
          "Fluorescence": 16499.3,
          "Genotype": "sc",
          "__ECDF": 0.84
         },
         {
          "Fluorescence": 16960.67,
          "Genotype": "sc",
          "__ECDF": 0.84
         },
         {
          "Fluorescence": 16960.67,
          "Genotype": "sc",
          "__ECDF": 0.88
         },
         {
          "Fluorescence": 17229.12,
          "Genotype": "sc",
          "__ECDF": 0.88
         },
         {
          "Fluorescence": 17229.12,
          "Genotype": "sc",
          "__ECDF": 0.92
         },
         {
          "Fluorescence": 17305.84,
          "Genotype": "sc",
          "__ECDF": 0.92
         },
         {
          "Fluorescence": 17305.84,
          "Genotype": "sc",
          "__ECDF": 0.96
         },
         {
          "Fluorescence": 19436.63,
          "Genotype": "sc",
          "__ECDF": 0.96
         },
         {
          "Fluorescence": 19436.63,
          "Genotype": "sc",
          "__ECDF": 1
         },
         {
          "Fluorescence": 24003.504350000003,
          "Genotype": "sc",
          "__ECDF": 1
         },
         {
          "Fluorescence": 6096.728649999999,
          "Genotype": "sk",
          "__ECDF": 0
         },
         {
          "Fluorescence": 6910.673,
          "Genotype": "sk",
          "__ECDF": 0
         },
         {
          "Fluorescence": 6910.673,
          "Genotype": "sk",
          "__ECDF": 0.03333333333333333
         },
         {
          "Fluorescence": 14203.55,
          "Genotype": "sk",
          "__ECDF": 0.03333333333333333
         },
         {
          "Fluorescence": 14203.55,
          "Genotype": "sk",
          "__ECDF": 0.06666666666666667
         },
         {
          "Fluorescence": 14351.88,
          "Genotype": "sk",
          "__ECDF": 0.06666666666666667
         },
         {
          "Fluorescence": 14351.88,
          "Genotype": "sk",
          "__ECDF": 0.1
         },
         {
          "Fluorescence": 15992.75,
          "Genotype": "sk",
          "__ECDF": 0.1
         },
         {
          "Fluorescence": 15992.75,
          "Genotype": "sk",
          "__ECDF": 0.13333333333333333
         },
         {
          "Fluorescence": 16593.96,
          "Genotype": "sk",
          "__ECDF": 0.13333333333333333
         },
         {
          "Fluorescence": 16593.96,
          "Genotype": "sk",
          "__ECDF": 0.16666666666666666
         },
         {
          "Fluorescence": 16919.7,
          "Genotype": "sk",
          "__ECDF": 0.16666666666666666
         },
         {
          "Fluorescence": 16919.7,
          "Genotype": "sk",
          "__ECDF": 0.2
         },
         {
          "Fluorescence": 17609.13,
          "Genotype": "sk",
          "__ECDF": 0.2
         },
         {
          "Fluorescence": 17609.13,
          "Genotype": "sk",
          "__ECDF": 0.23333333333333334
         },
         {
          "Fluorescence": 17694.63,
          "Genotype": "sk",
          "__ECDF": 0.23333333333333334
         },
         {
          "Fluorescence": 17694.63,
          "Genotype": "sk",
          "__ECDF": 0.26666666666666666
         },
         {
          "Fluorescence": 17788.94,
          "Genotype": "sk",
          "__ECDF": 0.26666666666666666
         },
         {
          "Fluorescence": 17788.94,
          "Genotype": "sk",
          "__ECDF": 0.3
         },
         {
          "Fluorescence": 17811.23,
          "Genotype": "sk",
          "__ECDF": 0.3
         },
         {
          "Fluorescence": 17811.23,
          "Genotype": "sk",
          "__ECDF": 0.3333333333333333
         },
         {
          "Fluorescence": 17837.36,
          "Genotype": "sk",
          "__ECDF": 0.3333333333333333
         },
         {
          "Fluorescence": 17837.36,
          "Genotype": "sk",
          "__ECDF": 0.36666666666666664
         },
         {
          "Fluorescence": 18042.75,
          "Genotype": "sk",
          "__ECDF": 0.36666666666666664
         },
         {
          "Fluorescence": 18042.75,
          "Genotype": "sk",
          "__ECDF": 0.4
         },
         {
          "Fluorescence": 18062.91,
          "Genotype": "sk",
          "__ECDF": 0.4
         },
         {
          "Fluorescence": 18062.91,
          "Genotype": "sk",
          "__ECDF": 0.43333333333333335
         },
         {
          "Fluorescence": 19238.01,
          "Genotype": "sk",
          "__ECDF": 0.43333333333333335
         },
         {
          "Fluorescence": 19238.01,
          "Genotype": "sk",
          "__ECDF": 0.4666666666666667
         },
         {
          "Fluorescence": 19265.61,
          "Genotype": "sk",
          "__ECDF": 0.4666666666666667
         },
         {
          "Fluorescence": 19265.61,
          "Genotype": "sk",
          "__ECDF": 0.5
         },
         {
          "Fluorescence": 19314.24,
          "Genotype": "sk",
          "__ECDF": 0.5
         },
         {
          "Fluorescence": 19314.24,
          "Genotype": "sk",
          "__ECDF": 0.5333333333333333
         },
         {
          "Fluorescence": 19516.03,
          "Genotype": "sk",
          "__ECDF": 0.5333333333333333
         },
         {
          "Fluorescence": 19516.03,
          "Genotype": "sk",
          "__ECDF": 0.5666666666666667
         },
         {
          "Fluorescence": 19782.51,
          "Genotype": "sk",
          "__ECDF": 0.5666666666666667
         },
         {
          "Fluorescence": 19782.51,
          "Genotype": "sk",
          "__ECDF": 0.6
         },
         {
          "Fluorescence": 19882.63,
          "Genotype": "sk",
          "__ECDF": 0.6
         },
         {
          "Fluorescence": 19882.63,
          "Genotype": "sk",
          "__ECDF": 0.6333333333333333
         },
         {
          "Fluorescence": 20114.62,
          "Genotype": "sk",
          "__ECDF": 0.6333333333333333
         },
         {
          "Fluorescence": 20114.62,
          "Genotype": "sk",
          "__ECDF": 0.6666666666666666
         },
         {
          "Fluorescence": 20371.85,
          "Genotype": "sk",
          "__ECDF": 0.6666666666666666
         },
         {
          "Fluorescence": 20371.85,
          "Genotype": "sk",
          "__ECDF": 0.7
         },
         {
          "Fluorescence": 20526.22,
          "Genotype": "sk",
          "__ECDF": 0.7
         },
         {
          "Fluorescence": 20526.22,
          "Genotype": "sk",
          "__ECDF": 0.7333333333333333
         },
         {
          "Fluorescence": 20563.58,
          "Genotype": "sk",
          "__ECDF": 0.7333333333333333
         },
         {
          "Fluorescence": 20563.58,
          "Genotype": "sk",
          "__ECDF": 0.7666666666666667
         },
         {
          "Fluorescence": 20934.66,
          "Genotype": "sk",
          "__ECDF": 0.7666666666666667
         },
         {
          "Fluorescence": 20934.66,
          "Genotype": "sk",
          "__ECDF": 0.8
         },
         {
          "Fluorescence": 21371.72,
          "Genotype": "sk",
          "__ECDF": 0.8
         },
         {
          "Fluorescence": 21371.72,
          "Genotype": "sk",
          "__ECDF": 0.8333333333333334
         },
         {
          "Fluorescence": 21444.25,
          "Genotype": "sk",
          "__ECDF": 0.8333333333333334
         },
         {
          "Fluorescence": 21444.25,
          "Genotype": "sk",
          "__ECDF": 0.8666666666666667
         },
         {
          "Fluorescence": 21589.64,
          "Genotype": "sk",
          "__ECDF": 0.8666666666666667
         },
         {
          "Fluorescence": 21589.64,
          "Genotype": "sk",
          "__ECDF": 0.9
         },
         {
          "Fluorescence": 21836.05,
          "Genotype": "sk",
          "__ECDF": 0.9
         },
         {
          "Fluorescence": 21836.05,
          "Genotype": "sk",
          "__ECDF": 0.9333333333333333
         },
         {
          "Fluorescence": 22053.47,
          "Genotype": "sk",
          "__ECDF": 0.9333333333333333
         },
         {
          "Fluorescence": 22053.47,
          "Genotype": "sk",
          "__ECDF": 0.9666666666666667
         },
         {
          "Fluorescence": 23189.56,
          "Genotype": "sk",
          "__ECDF": 0.9666666666666667
         },
         {
          "Fluorescence": 23189.56,
          "Genotype": "sk",
          "__ECDF": 1
         },
         {
          "Fluorescence": 24003.504350000003,
          "Genotype": "sk",
          "__ECDF": 1
         }
        ],
        "data-97e21076a2b245561a3d32c8c541cf9f": [
         {
          "Fluorescence": -1643.2189400000004,
          "Genotype": "m3",
          "__ECDF": 0
         },
         {
          "Fluorescence": 3149.717,
          "Genotype": "m3",
          "__ECDF": 0
         },
         {
          "Fluorescence": 3149.717,
          "Genotype": "m3",
          "__ECDF": 0.034482758620689655
         },
         {
          "Fluorescence": 3880.93,
          "Genotype": "m3",
          "__ECDF": 0.034482758620689655
         },
         {
          "Fluorescence": 3880.93,
          "Genotype": "m3",
          "__ECDF": 0.06896551724137931
         },
         {
          "Fluorescence": 4634.488,
          "Genotype": "m3",
          "__ECDF": 0.06896551724137931
         },
         {
          "Fluorescence": 4634.488,
          "Genotype": "m3",
          "__ECDF": 0.10344827586206896
         },
         {
          "Fluorescence": 7395.207,
          "Genotype": "m3",
          "__ECDF": 0.10344827586206896
         },
         {
          "Fluorescence": 7395.207,
          "Genotype": "m3",
          "__ECDF": 0.13793103448275862
         },
         {
          "Fluorescence": 9429.343,
          "Genotype": "m3",
          "__ECDF": 0.13793103448275862
         },
         {
          "Fluorescence": 9429.343,
          "Genotype": "m3",
          "__ECDF": 0.1724137931034483
         },
         {
          "Fluorescence": 10373.52,
          "Genotype": "m3",
          "__ECDF": 0.1724137931034483
         },
         {
          "Fluorescence": 10373.52,
          "Genotype": "m3",
          "__ECDF": 0.20689655172413793
         },
         {
          "Fluorescence": 11121.24,
          "Genotype": "m3",
          "__ECDF": 0.20689655172413793
         },
         {
          "Fluorescence": 11121.24,
          "Genotype": "m3",
          "__ECDF": 0.2413793103448276
         },
         {
          "Fluorescence": 12793.59,
          "Genotype": "m3",
          "__ECDF": 0.2413793103448276
         },
         {
          "Fluorescence": 12793.59,
          "Genotype": "m3",
          "__ECDF": 0.27586206896551724
         },
         {
          "Fluorescence": 13684.36,
          "Genotype": "m3",
          "__ECDF": 0.27586206896551724
         },
         {
          "Fluorescence": 13684.36,
          "Genotype": "m3",
          "__ECDF": 0.3103448275862069
         },
         {
          "Fluorescence": 15568.76,
          "Genotype": "m3",
          "__ECDF": 0.3103448275862069
         },
         {
          "Fluorescence": 15568.76,
          "Genotype": "m3",
          "__ECDF": 0.3448275862068966
         },
         {
          "Fluorescence": 15876.82,
          "Genotype": "m3",
          "__ECDF": 0.3448275862068966
         },
         {
          "Fluorescence": 15876.82,
          "Genotype": "m3",
          "__ECDF": 0.3793103448275862
         },
         {
          "Fluorescence": 16756.28,
          "Genotype": "m3",
          "__ECDF": 0.3793103448275862
         },
         {
          "Fluorescence": 16756.28,
          "Genotype": "m3",
          "__ECDF": 0.41379310344827586
         },
         {
          "Fluorescence": 17062.84,
          "Genotype": "m3",
          "__ECDF": 0.41379310344827586
         },
         {
          "Fluorescence": 17062.84,
          "Genotype": "m3",
          "__ECDF": 0.4482758620689655
         },
         {
          "Fluorescence": 18178.44,
          "Genotype": "m3",
          "__ECDF": 0.4482758620689655
         },
         {
          "Fluorescence": 18178.44,
          "Genotype": "m3",
          "__ECDF": 0.4827586206896552
         },
         {
          "Fluorescence": 18265.88,
          "Genotype": "m3",
          "__ECDF": 0.4827586206896552
         },
         {
          "Fluorescence": 18265.88,
          "Genotype": "m3",
          "__ECDF": 0.5172413793103449
         },
         {
          "Fluorescence": 20017.14,
          "Genotype": "m3",
          "__ECDF": 0.5172413793103449
         },
         {
          "Fluorescence": 20017.14,
          "Genotype": "m3",
          "__ECDF": 0.5517241379310345
         },
         {
          "Fluorescence": 20376.3,
          "Genotype": "m3",
          "__ECDF": 0.5517241379310345
         },
         {
          "Fluorescence": 20376.3,
          "Genotype": "m3",
          "__ECDF": 0.5862068965517241
         },
         {
          "Fluorescence": 20722.62,
          "Genotype": "m3",
          "__ECDF": 0.5862068965517241
         },
         {
          "Fluorescence": 20722.62,
          "Genotype": "m3",
          "__ECDF": 0.6206896551724138
         },
         {
          "Fluorescence": 20820.26,
          "Genotype": "m3",
          "__ECDF": 0.6206896551724138
         },
         {
          "Fluorescence": 20820.26,
          "Genotype": "m3",
          "__ECDF": 0.6551724137931034
         },
         {
          "Fluorescence": 21703.44,
          "Genotype": "m3",
          "__ECDF": 0.6551724137931034
         },
         {
          "Fluorescence": 21703.44,
          "Genotype": "m3",
          "__ECDF": 0.6896551724137931
         },
         {
          "Fluorescence": 21707.12,
          "Genotype": "m3",
          "__ECDF": 0.6896551724137931
         },
         {
          "Fluorescence": 21707.12,
          "Genotype": "m3",
          "__ECDF": 0.7241379310344828
         },
         {
          "Fluorescence": 21750.27,
          "Genotype": "m3",
          "__ECDF": 0.7241379310344828
         },
         {
          "Fluorescence": 21750.27,
          "Genotype": "m3",
          "__ECDF": 0.7586206896551724
         },
         {
          "Fluorescence": 22510.41,
          "Genotype": "m3",
          "__ECDF": 0.7586206896551724
         },
         {
          "Fluorescence": 22510.41,
          "Genotype": "m3",
          "__ECDF": 0.7931034482758621
         },
         {
          "Fluorescence": 24028.75,
          "Genotype": "m3",
          "__ECDF": 0.7931034482758621
         },
         {
          "Fluorescence": 24028.75,
          "Genotype": "m3",
          "__ECDF": 0.8275862068965517
         },
         {
          "Fluorescence": 24932.88,
          "Genotype": "m3",
          "__ECDF": 0.8275862068965517
         },
         {
          "Fluorescence": 24932.88,
          "Genotype": "m3",
          "__ECDF": 0.8620689655172413
         },
         {
          "Fluorescence": 31089.68,
          "Genotype": "m3",
          "__ECDF": 0.8620689655172413
         },
         {
          "Fluorescence": 31089.68,
          "Genotype": "m3",
          "__ECDF": 0.896551724137931
         },
         {
          "Fluorescence": 34021.32,
          "Genotype": "m3",
          "__ECDF": 0.896551724137931
         },
         {
          "Fluorescence": 34021.32,
          "Genotype": "m3",
          "__ECDF": 0.9310344827586207
         },
         {
          "Fluorescence": 34486.33,
          "Genotype": "m3",
          "__ECDF": 0.9310344827586207
         },
         {
          "Fluorescence": 34486.33,
          "Genotype": "m3",
          "__ECDF": 0.9655172413793104
         },
         {
          "Fluorescence": 43198.42,
          "Genotype": "m3",
          "__ECDF": 0.9655172413793104
         },
         {
          "Fluorescence": 43198.42,
          "Genotype": "m3",
          "__ECDF": 1
         },
         {
          "Fluorescence": 45333.73614,
          "Genotype": "m3",
          "__ECDF": 1
         },
         {
          "Fluorescence": -1643.2189400000004,
          "Genotype": "sc",
          "__ECDF": 0
         },
         {
          "Fluorescence": 492.0972,
          "Genotype": "sc",
          "__ECDF": 0
         },
         {
          "Fluorescence": 492.0972,
          "Genotype": "sc",
          "__ECDF": 0.03571428571428571
         },
         {
          "Fluorescence": 654.714,
          "Genotype": "sc",
          "__ECDF": 0.03571428571428571
         },
         {
          "Fluorescence": 654.714,
          "Genotype": "sc",
          "__ECDF": 0.07142857142857142
         },
         {
          "Fluorescence": 1060.197,
          "Genotype": "sc",
          "__ECDF": 0.07142857142857142
         },
         {
          "Fluorescence": 1060.197,
          "Genotype": "sc",
          "__ECDF": 0.10714285714285714
         },
         {
          "Fluorescence": 1089.028,
          "Genotype": "sc",
          "__ECDF": 0.10714285714285714
         },
         {
          "Fluorescence": 1089.028,
          "Genotype": "sc",
          "__ECDF": 0.14285714285714285
         },
         {
          "Fluorescence": 1136.737,
          "Genotype": "sc",
          "__ECDF": 0.14285714285714285
         },
         {
          "Fluorescence": 1136.737,
          "Genotype": "sc",
          "__ECDF": 0.17857142857142858
         },
         {
          "Fluorescence": 1298.547,
          "Genotype": "sc",
          "__ECDF": 0.17857142857142858
         },
         {
          "Fluorescence": 1298.547,
          "Genotype": "sc",
          "__ECDF": 0.21428571428571427
         },
         {
          "Fluorescence": 1321.293,
          "Genotype": "sc",
          "__ECDF": 0.21428571428571427
         },
         {
          "Fluorescence": 1321.293,
          "Genotype": "sc",
          "__ECDF": 0.25
         },
         {
          "Fluorescence": 1442.433,
          "Genotype": "sc",
          "__ECDF": 0.25
         },
         {
          "Fluorescence": 1442.433,
          "Genotype": "sc",
          "__ECDF": 0.2857142857142857
         },
         {
          "Fluorescence": 1478.777,
          "Genotype": "sc",
          "__ECDF": 0.2857142857142857
         },
         {
          "Fluorescence": 1478.777,
          "Genotype": "sc",
          "__ECDF": 0.32142857142857145
         },
         {
          "Fluorescence": 1482.843,
          "Genotype": "sc",
          "__ECDF": 0.32142857142857145
         },
         {
          "Fluorescence": 1482.843,
          "Genotype": "sc",
          "__ECDF": 0.35714285714285715
         },
         {
          "Fluorescence": 1511.991,
          "Genotype": "sc",
          "__ECDF": 0.35714285714285715
         },
         {
          "Fluorescence": 1511.991,
          "Genotype": "sc",
          "__ECDF": 0.39285714285714285
         },
         {
          "Fluorescence": 1540.458,
          "Genotype": "sc",
          "__ECDF": 0.39285714285714285
         },
         {
          "Fluorescence": 1540.458,
          "Genotype": "sc",
          "__ECDF": 0.42857142857142855
         },
         {
          "Fluorescence": 1551.396,
          "Genotype": "sc",
          "__ECDF": 0.42857142857142855
         },
         {
          "Fluorescence": 1551.396,
          "Genotype": "sc",
          "__ECDF": 0.4642857142857143
         },
         {
          "Fluorescence": 1682.306,
          "Genotype": "sc",
          "__ECDF": 0.4642857142857143
         },
         {
          "Fluorescence": 1682.306,
          "Genotype": "sc",
          "__ECDF": 0.5
         },
         {
          "Fluorescence": 1712.902,
          "Genotype": "sc",
          "__ECDF": 0.5
         },
         {
          "Fluorescence": 1712.902,
          "Genotype": "sc",
          "__ECDF": 0.5357142857142857
         },
         {
          "Fluorescence": 1851.253,
          "Genotype": "sc",
          "__ECDF": 0.5357142857142857
         },
         {
          "Fluorescence": 1851.253,
          "Genotype": "sc",
          "__ECDF": 0.5714285714285714
         },
         {
          "Fluorescence": 2018.864,
          "Genotype": "sc",
          "__ECDF": 0.5714285714285714
         },
         {
          "Fluorescence": 2018.864,
          "Genotype": "sc",
          "__ECDF": 0.6071428571428571
         },
         {
          "Fluorescence": 2131.59,
          "Genotype": "sc",
          "__ECDF": 0.6071428571428571
         },
         {
          "Fluorescence": 2131.59,
          "Genotype": "sc",
          "__ECDF": 0.6428571428571429
         },
         {
          "Fluorescence": 2584.733,
          "Genotype": "sc",
          "__ECDF": 0.6428571428571429
         },
         {
          "Fluorescence": 2584.733,
          "Genotype": "sc",
          "__ECDF": 0.6785714285714286
         },
         {
          "Fluorescence": 3134.334,
          "Genotype": "sc",
          "__ECDF": 0.6785714285714286
         },
         {
          "Fluorescence": 3134.334,
          "Genotype": "sc",
          "__ECDF": 0.7142857142857143
         },
         {
          "Fluorescence": 3485.557,
          "Genotype": "sc",
          "__ECDF": 0.7142857142857143
         },
         {
          "Fluorescence": 3485.557,
          "Genotype": "sc",
          "__ECDF": 0.75
         },
         {
          "Fluorescence": 4412.128,
          "Genotype": "sc",
          "__ECDF": 0.75
         },
         {
          "Fluorescence": 4412.128,
          "Genotype": "sc",
          "__ECDF": 0.7857142857142857
         },
         {
          "Fluorescence": 5128.18,
          "Genotype": "sc",
          "__ECDF": 0.7857142857142857
         },
         {
          "Fluorescence": 5128.18,
          "Genotype": "sc",
          "__ECDF": 0.8214285714285714
         },
         {
          "Fluorescence": 5540.317,
          "Genotype": "sc",
          "__ECDF": 0.8214285714285714
         },
         {
          "Fluorescence": 5540.317,
          "Genotype": "sc",
          "__ECDF": 0.8571428571428571
         },
         {
          "Fluorescence": 5701.043,
          "Genotype": "sc",
          "__ECDF": 0.8571428571428571
         },
         {
          "Fluorescence": 5701.043,
          "Genotype": "sc",
          "__ECDF": 0.8928571428571429
         },
         {
          "Fluorescence": 5801.691,
          "Genotype": "sc",
          "__ECDF": 0.8928571428571429
         },
         {
          "Fluorescence": 5801.691,
          "Genotype": "sc",
          "__ECDF": 0.9285714285714286
         },
         {
          "Fluorescence": 6798.146,
          "Genotype": "sc",
          "__ECDF": 0.9285714285714286
         },
         {
          "Fluorescence": 6798.146,
          "Genotype": "sc",
          "__ECDF": 0.9642857142857143
         },
         {
          "Fluorescence": 10686.91,
          "Genotype": "sc",
          "__ECDF": 0.9642857142857143
         },
         {
          "Fluorescence": 10686.91,
          "Genotype": "sc",
          "__ECDF": 1
         },
         {
          "Fluorescence": 45333.73614,
          "Genotype": "sc",
          "__ECDF": 1
         },
         {
          "Fluorescence": -1643.2189400000004,
          "Genotype": "sk",
          "__ECDF": 0
         },
         {
          "Fluorescence": 7242.744,
          "Genotype": "sk",
          "__ECDF": 0
         },
         {
          "Fluorescence": 7242.744,
          "Genotype": "sk",
          "__ECDF": 0.038461538461538464
         },
         {
          "Fluorescence": 8567.691,
          "Genotype": "sk",
          "__ECDF": 0.038461538461538464
         },
         {
          "Fluorescence": 8567.691,
          "Genotype": "sk",
          "__ECDF": 0.07692307692307693
         },
         {
          "Fluorescence": 8712.589,
          "Genotype": "sk",
          "__ECDF": 0.07692307692307693
         },
         {
          "Fluorescence": 8712.589,
          "Genotype": "sk",
          "__ECDF": 0.11538461538461539
         },
         {
          "Fluorescence": 8949.01,
          "Genotype": "sk",
          "__ECDF": 0.11538461538461539
         },
         {
          "Fluorescence": 8949.01,
          "Genotype": "sk",
          "__ECDF": 0.15384615384615385
         },
         {
          "Fluorescence": 8978.031,
          "Genotype": "sk",
          "__ECDF": 0.15384615384615385
         },
         {
          "Fluorescence": 8978.031,
          "Genotype": "sk",
          "__ECDF": 0.19230769230769232
         },
         {
          "Fluorescence": 9049.072,
          "Genotype": "sk",
          "__ECDF": 0.19230769230769232
         },
         {
          "Fluorescence": 9049.072,
          "Genotype": "sk",
          "__ECDF": 0.23076923076923078
         },
         {
          "Fluorescence": 9460.2,
          "Genotype": "sk",
          "__ECDF": 0.23076923076923078
         },
         {
          "Fluorescence": 9460.2,
          "Genotype": "sk",
          "__ECDF": 0.2692307692307692
         },
         {
          "Fluorescence": 9801.333,
          "Genotype": "sk",
          "__ECDF": 0.2692307692307692
         },
         {
          "Fluorescence": 9801.333,
          "Genotype": "sk",
          "__ECDF": 0.3076923076923077
         },
         {
          "Fluorescence": 10363.52,
          "Genotype": "sk",
          "__ECDF": 0.3076923076923077
         },
         {
          "Fluorescence": 10363.52,
          "Genotype": "sk",
          "__ECDF": 0.34615384615384615
         },
         {
          "Fluorescence": 10518.4,
          "Genotype": "sk",
          "__ECDF": 0.34615384615384615
         },
         {
          "Fluorescence": 10518.4,
          "Genotype": "sk",
          "__ECDF": 0.38461538461538464
         },
         {
          "Fluorescence": 11001.72,
          "Genotype": "sk",
          "__ECDF": 0.38461538461538464
         },
         {
          "Fluorescence": 11001.72,
          "Genotype": "sk",
          "__ECDF": 0.4230769230769231
         },
         {
          "Fluorescence": 11221.13,
          "Genotype": "sk",
          "__ECDF": 0.4230769230769231
         },
         {
          "Fluorescence": 11221.13,
          "Genotype": "sk",
          "__ECDF": 0.46153846153846156
         },
         {
          "Fluorescence": 11233.41,
          "Genotype": "sk",
          "__ECDF": 0.46153846153846156
         },
         {
          "Fluorescence": 11233.41,
          "Genotype": "sk",
          "__ECDF": 0.5
         },
         {
          "Fluorescence": 11561.47,
          "Genotype": "sk",
          "__ECDF": 0.5
         },
         {
          "Fluorescence": 11561.47,
          "Genotype": "sk",
          "__ECDF": 0.5384615384615384
         },
         {
          "Fluorescence": 11897.13,
          "Genotype": "sk",
          "__ECDF": 0.5384615384615384
         },
         {
          "Fluorescence": 11897.13,
          "Genotype": "sk",
          "__ECDF": 0.5769230769230769
         },
         {
          "Fluorescence": 12072.7,
          "Genotype": "sk",
          "__ECDF": 0.5769230769230769
         },
         {
          "Fluorescence": 12072.7,
          "Genotype": "sk",
          "__ECDF": 0.6153846153846154
         },
         {
          "Fluorescence": 12566.75,
          "Genotype": "sk",
          "__ECDF": 0.6153846153846154
         },
         {
          "Fluorescence": 12566.75,
          "Genotype": "sk",
          "__ECDF": 0.6538461538461539
         },
         {
          "Fluorescence": 12782.01,
          "Genotype": "sk",
          "__ECDF": 0.6538461538461539
         },
         {
          "Fluorescence": 12782.01,
          "Genotype": "sk",
          "__ECDF": 0.6923076923076923
         },
         {
          "Fluorescence": 12828.28,
          "Genotype": "sk",
          "__ECDF": 0.6923076923076923
         },
         {
          "Fluorescence": 12828.28,
          "Genotype": "sk",
          "__ECDF": 0.7307692307692307
         },
         {
          "Fluorescence": 13044.4,
          "Genotype": "sk",
          "__ECDF": 0.7307692307692307
         },
         {
          "Fluorescence": 13044.4,
          "Genotype": "sk",
          "__ECDF": 0.7692307692307693
         },
         {
          "Fluorescence": 13160.89,
          "Genotype": "sk",
          "__ECDF": 0.7692307692307693
         },
         {
          "Fluorescence": 13160.89,
          "Genotype": "sk",
          "__ECDF": 0.8076923076923077
         },
         {
          "Fluorescence": 13359.27,
          "Genotype": "sk",
          "__ECDF": 0.8076923076923077
         },
         {
          "Fluorescence": 13359.27,
          "Genotype": "sk",
          "__ECDF": 0.8461538461538461
         },
         {
          "Fluorescence": 13718.88,
          "Genotype": "sk",
          "__ECDF": 0.8461538461538461
         },
         {
          "Fluorescence": 13718.88,
          "Genotype": "sk",
          "__ECDF": 0.8846153846153846
         },
         {
          "Fluorescence": 14132.81,
          "Genotype": "sk",
          "__ECDF": 0.8846153846153846
         },
         {
          "Fluorescence": 14132.81,
          "Genotype": "sk",
          "__ECDF": 0.9230769230769231
         },
         {
          "Fluorescence": 14616.11,
          "Genotype": "sk",
          "__ECDF": 0.9230769230769231
         },
         {
          "Fluorescence": 14616.11,
          "Genotype": "sk",
          "__ECDF": 0.9615384615384616
         },
         {
          "Fluorescence": 16330.5,
          "Genotype": "sk",
          "__ECDF": 0.9615384615384616
         },
         {
          "Fluorescence": 16330.5,
          "Genotype": "sk",
          "__ECDF": 1
         },
         {
          "Fluorescence": 45333.73614,
          "Genotype": "sk",
          "__ECDF": 1
         }
        ],
        "data-bc31407d1a3c8618839fcc250d9deb2e": [
         {
          "Fluorescence": -592.3824,
          "Genotype": "m3",
          "__ECDF": 0
         },
         {
          "Fluorescence": 5616.583,
          "Genotype": "m3",
          "__ECDF": 0
         },
         {
          "Fluorescence": 5616.583,
          "Genotype": "m3",
          "__ECDF": 0.037037037037037035
         },
         {
          "Fluorescence": 8350.16,
          "Genotype": "m3",
          "__ECDF": 0.037037037037037035
         },
         {
          "Fluorescence": 8350.16,
          "Genotype": "m3",
          "__ECDF": 0.07407407407407407
         },
         {
          "Fluorescence": 8404.338,
          "Genotype": "m3",
          "__ECDF": 0.07407407407407407
         },
         {
          "Fluorescence": 8404.338,
          "Genotype": "m3",
          "__ECDF": 0.1111111111111111
         },
         {
          "Fluorescence": 9851.121,
          "Genotype": "m3",
          "__ECDF": 0.1111111111111111
         },
         {
          "Fluorescence": 9851.121,
          "Genotype": "m3",
          "__ECDF": 0.14814814814814814
         },
         {
          "Fluorescence": 10092.92,
          "Genotype": "m3",
          "__ECDF": 0.14814814814814814
         },
         {
          "Fluorescence": 10092.92,
          "Genotype": "m3",
          "__ECDF": 0.18518518518518517
         },
         {
          "Fluorescence": 10095.31,
          "Genotype": "m3",
          "__ECDF": 0.18518518518518517
         },
         {
          "Fluorescence": 10095.31,
          "Genotype": "m3",
          "__ECDF": 0.2222222222222222
         },
         {
          "Fluorescence": 10261.6,
          "Genotype": "m3",
          "__ECDF": 0.2222222222222222
         },
         {
          "Fluorescence": 10261.6,
          "Genotype": "m3",
          "__ECDF": 0.25925925925925924
         },
         {
          "Fluorescence": 10938.8,
          "Genotype": "m3",
          "__ECDF": 0.25925925925925924
         },
         {
          "Fluorescence": 10938.8,
          "Genotype": "m3",
          "__ECDF": 0.2962962962962963
         },
         {
          "Fluorescence": 11349.04,
          "Genotype": "m3",
          "__ECDF": 0.2962962962962963
         },
         {
          "Fluorescence": 11349.04,
          "Genotype": "m3",
          "__ECDF": 0.3333333333333333
         },
         {
          "Fluorescence": 11383.33,
          "Genotype": "m3",
          "__ECDF": 0.3333333333333333
         },
         {
          "Fluorescence": 11383.33,
          "Genotype": "m3",
          "__ECDF": 0.37037037037037035
         },
         {
          "Fluorescence": 11444.18,
          "Genotype": "m3",
          "__ECDF": 0.37037037037037035
         },
         {
          "Fluorescence": 11444.18,
          "Genotype": "m3",
          "__ECDF": 0.4074074074074074
         },
         {
          "Fluorescence": 11703.01,
          "Genotype": "m3",
          "__ECDF": 0.4074074074074074
         },
         {
          "Fluorescence": 11703.01,
          "Genotype": "m3",
          "__ECDF": 0.4444444444444444
         },
         {
          "Fluorescence": 12594.02,
          "Genotype": "m3",
          "__ECDF": 0.4444444444444444
         },
         {
          "Fluorescence": 12594.02,
          "Genotype": "m3",
          "__ECDF": 0.48148148148148145
         },
         {
          "Fluorescence": 12839.65,
          "Genotype": "m3",
          "__ECDF": 0.48148148148148145
         },
         {
          "Fluorescence": 12839.65,
          "Genotype": "m3",
          "__ECDF": 0.5185185185185185
         },
         {
          "Fluorescence": 13687.15,
          "Genotype": "m3",
          "__ECDF": 0.5185185185185185
         },
         {
          "Fluorescence": 13687.15,
          "Genotype": "m3",
          "__ECDF": 0.5555555555555556
         },
         {
          "Fluorescence": 14445.49,
          "Genotype": "m3",
          "__ECDF": 0.5555555555555556
         },
         {
          "Fluorescence": 14445.49,
          "Genotype": "m3",
          "__ECDF": 0.5925925925925926
         },
         {
          "Fluorescence": 14456.7,
          "Genotype": "m3",
          "__ECDF": 0.5925925925925926
         },
         {
          "Fluorescence": 14456.7,
          "Genotype": "m3",
          "__ECDF": 0.6296296296296297
         },
         {
          "Fluorescence": 15120.23,
          "Genotype": "m3",
          "__ECDF": 0.6296296296296297
         },
         {
          "Fluorescence": 15120.23,
          "Genotype": "m3",
          "__ECDF": 0.6666666666666666
         },
         {
          "Fluorescence": 15341.68,
          "Genotype": "m3",
          "__ECDF": 0.6666666666666666
         },
         {
          "Fluorescence": 15341.68,
          "Genotype": "m3",
          "__ECDF": 0.7037037037037037
         },
         {
          "Fluorescence": 15657.5,
          "Genotype": "m3",
          "__ECDF": 0.7037037037037037
         },
         {
          "Fluorescence": 15657.5,
          "Genotype": "m3",
          "__ECDF": 0.7407407407407407
         },
         {
          "Fluorescence": 17025.58,
          "Genotype": "m3",
          "__ECDF": 0.7407407407407407
         },
         {
          "Fluorescence": 17025.58,
          "Genotype": "m3",
          "__ECDF": 0.7777777777777778
         },
         {
          "Fluorescence": 17079.49,
          "Genotype": "m3",
          "__ECDF": 0.7777777777777778
         },
         {
          "Fluorescence": 17079.49,
          "Genotype": "m3",
          "__ECDF": 0.8148148148148148
         },
         {
          "Fluorescence": 17499.83,
          "Genotype": "m3",
          "__ECDF": 0.8148148148148148
         },
         {
          "Fluorescence": 17499.83,
          "Genotype": "m3",
          "__ECDF": 0.8518518518518519
         },
         {
          "Fluorescence": 19347.14,
          "Genotype": "m3",
          "__ECDF": 0.8518518518518519
         },
         {
          "Fluorescence": 19347.14,
          "Genotype": "m3",
          "__ECDF": 0.8888888888888888
         },
         {
          "Fluorescence": 22372.43,
          "Genotype": "m3",
          "__ECDF": 0.8888888888888888
         },
         {
          "Fluorescence": 22372.43,
          "Genotype": "m3",
          "__ECDF": 0.9259259259259259
         },
         {
          "Fluorescence": 22479.83,
          "Genotype": "m3",
          "__ECDF": 0.9259259259259259
         },
         {
          "Fluorescence": 22479.83,
          "Genotype": "m3",
          "__ECDF": 0.9629629629629629
         },
         {
          "Fluorescence": 33739.14,
          "Genotype": "m3",
          "__ECDF": 0.9629629629629629
         },
         {
          "Fluorescence": 33739.14,
          "Genotype": "m3",
          "__ECDF": 1
         },
         {
          "Fluorescence": 35373.9744,
          "Genotype": "m3",
          "__ECDF": 1
         },
         {
          "Fluorescence": -592.3824,
          "Genotype": "sc",
          "__ECDF": 0
         },
         {
          "Fluorescence": 1042.452,
          "Genotype": "sc",
          "__ECDF": 0
         },
         {
          "Fluorescence": 1042.452,
          "Genotype": "sc",
          "__ECDF": 0.045454545454545456
         },
         {
          "Fluorescence": 1312.233,
          "Genotype": "sc",
          "__ECDF": 0.045454545454545456
         },
         {
          "Fluorescence": 1312.233,
          "Genotype": "sc",
          "__ECDF": 0.09090909090909091
         },
         {
          "Fluorescence": 1526.974,
          "Genotype": "sc",
          "__ECDF": 0.09090909090909091
         },
         {
          "Fluorescence": 1526.974,
          "Genotype": "sc",
          "__ECDF": 0.13636363636363635
         },
         {
          "Fluorescence": 1532.901,
          "Genotype": "sc",
          "__ECDF": 0.13636363636363635
         },
         {
          "Fluorescence": 1532.901,
          "Genotype": "sc",
          "__ECDF": 0.18181818181818182
         },
         {
          "Fluorescence": 1572.569,
          "Genotype": "sc",
          "__ECDF": 0.18181818181818182
         },
         {
          "Fluorescence": 1572.569,
          "Genotype": "sc",
          "__ECDF": 0.22727272727272727
         },
         {
          "Fluorescence": 1817.321,
          "Genotype": "sc",
          "__ECDF": 0.22727272727272727
         },
         {
          "Fluorescence": 1817.321,
          "Genotype": "sc",
          "__ECDF": 0.2727272727272727
         },
         {
          "Fluorescence": 1888.596,
          "Genotype": "sc",
          "__ECDF": 0.2727272727272727
         },
         {
          "Fluorescence": 1888.596,
          "Genotype": "sc",
          "__ECDF": 0.3181818181818182
         },
         {
          "Fluorescence": 2357.752,
          "Genotype": "sc",
          "__ECDF": 0.3181818181818182
         },
         {
          "Fluorescence": 2357.752,
          "Genotype": "sc",
          "__ECDF": 0.36363636363636365
         },
         {
          "Fluorescence": 2737.135,
          "Genotype": "sc",
          "__ECDF": 0.36363636363636365
         },
         {
          "Fluorescence": 2737.135,
          "Genotype": "sc",
          "__ECDF": 0.4090909090909091
         },
         {
          "Fluorescence": 3107.02,
          "Genotype": "sc",
          "__ECDF": 0.4090909090909091
         },
         {
          "Fluorescence": 3107.02,
          "Genotype": "sc",
          "__ECDF": 0.45454545454545453
         },
         {
          "Fluorescence": 3448.003,
          "Genotype": "sc",
          "__ECDF": 0.45454545454545453
         },
         {
          "Fluorescence": 3448.003,
          "Genotype": "sc",
          "__ECDF": 0.5
         },
         {
          "Fluorescence": 3505.12,
          "Genotype": "sc",
          "__ECDF": 0.5
         },
         {
          "Fluorescence": 3505.12,
          "Genotype": "sc",
          "__ECDF": 0.5454545454545454
         },
         {
          "Fluorescence": 3643.21,
          "Genotype": "sc",
          "__ECDF": 0.5454545454545454
         },
         {
          "Fluorescence": 3643.21,
          "Genotype": "sc",
          "__ECDF": 0.5909090909090909
         },
         {
          "Fluorescence": 3796.529,
          "Genotype": "sc",
          "__ECDF": 0.5909090909090909
         },
         {
          "Fluorescence": 3796.529,
          "Genotype": "sc",
          "__ECDF": 0.6363636363636364
         },
         {
          "Fluorescence": 4758.537,
          "Genotype": "sc",
          "__ECDF": 0.6363636363636364
         },
         {
          "Fluorescence": 4758.537,
          "Genotype": "sc",
          "__ECDF": 0.6818181818181818
         },
         {
          "Fluorescence": 4816.29,
          "Genotype": "sc",
          "__ECDF": 0.6818181818181818
         },
         {
          "Fluorescence": 4816.29,
          "Genotype": "sc",
          "__ECDF": 0.7272727272727273
         },
         {
          "Fluorescence": 5757.599,
          "Genotype": "sc",
          "__ECDF": 0.7272727272727273
         },
         {
          "Fluorescence": 5757.599,
          "Genotype": "sc",
          "__ECDF": 0.7727272727272727
         },
         {
          "Fluorescence": 6818.986,
          "Genotype": "sc",
          "__ECDF": 0.7727272727272727
         },
         {
          "Fluorescence": 6818.986,
          "Genotype": "sc",
          "__ECDF": 0.8181818181818182
         },
         {
          "Fluorescence": 8119.87,
          "Genotype": "sc",
          "__ECDF": 0.8181818181818182
         },
         {
          "Fluorescence": 8119.87,
          "Genotype": "sc",
          "__ECDF": 0.8636363636363636
         },
         {
          "Fluorescence": 11756.49,
          "Genotype": "sc",
          "__ECDF": 0.8636363636363636
         },
         {
          "Fluorescence": 11756.49,
          "Genotype": "sc",
          "__ECDF": 0.9090909090909091
         },
         {
          "Fluorescence": 12185.36,
          "Genotype": "sc",
          "__ECDF": 0.9090909090909091
         },
         {
          "Fluorescence": 12185.36,
          "Genotype": "sc",
          "__ECDF": 0.9545454545454546
         },
         {
          "Fluorescence": 16331.43,
          "Genotype": "sc",
          "__ECDF": 0.9545454545454546
         },
         {
          "Fluorescence": 16331.43,
          "Genotype": "sc",
          "__ECDF": 1
         },
         {
          "Fluorescence": 35373.9744,
          "Genotype": "sc",
          "__ECDF": 1
         },
         {
          "Fluorescence": -592.3824,
          "Genotype": "sk",
          "__ECDF": 0
         },
         {
          "Fluorescence": 12036.87,
          "Genotype": "sk",
          "__ECDF": 0
         },
         {
          "Fluorescence": 12036.87,
          "Genotype": "sk",
          "__ECDF": 0.03333333333333333
         },
         {
          "Fluorescence": 12345.97,
          "Genotype": "sk",
          "__ECDF": 0.03333333333333333
         },
         {
          "Fluorescence": 12345.97,
          "Genotype": "sk",
          "__ECDF": 0.06666666666666667
         },
         {
          "Fluorescence": 12394.32,
          "Genotype": "sk",
          "__ECDF": 0.06666666666666667
         },
         {
          "Fluorescence": 12394.32,
          "Genotype": "sk",
          "__ECDF": 0.1
         },
         {
          "Fluorescence": 12799.02,
          "Genotype": "sk",
          "__ECDF": 0.1
         },
         {
          "Fluorescence": 12799.02,
          "Genotype": "sk",
          "__ECDF": 0.13333333333333333
         },
         {
          "Fluorescence": 12867.4,
          "Genotype": "sk",
          "__ECDF": 0.13333333333333333
         },
         {
          "Fluorescence": 12867.4,
          "Genotype": "sk",
          "__ECDF": 0.16666666666666666
         },
         {
          "Fluorescence": 12879.88,
          "Genotype": "sk",
          "__ECDF": 0.16666666666666666
         },
         {
          "Fluorescence": 12879.88,
          "Genotype": "sk",
          "__ECDF": 0.2
         },
         {
          "Fluorescence": 13000.28,
          "Genotype": "sk",
          "__ECDF": 0.2
         },
         {
          "Fluorescence": 13000.28,
          "Genotype": "sk",
          "__ECDF": 0.23333333333333334
         },
         {
          "Fluorescence": 13311.52,
          "Genotype": "sk",
          "__ECDF": 0.23333333333333334
         },
         {
          "Fluorescence": 13311.52,
          "Genotype": "sk",
          "__ECDF": 0.26666666666666666
         },
         {
          "Fluorescence": 13344.14,
          "Genotype": "sk",
          "__ECDF": 0.26666666666666666
         },
         {
          "Fluorescence": 13344.14,
          "Genotype": "sk",
          "__ECDF": 0.3
         },
         {
          "Fluorescence": 13382.25,
          "Genotype": "sk",
          "__ECDF": 0.3
         },
         {
          "Fluorescence": 13382.25,
          "Genotype": "sk",
          "__ECDF": 0.3333333333333333
         },
         {
          "Fluorescence": 13616.94,
          "Genotype": "sk",
          "__ECDF": 0.3333333333333333
         },
         {
          "Fluorescence": 13616.94,
          "Genotype": "sk",
          "__ECDF": 0.36666666666666664
         },
         {
          "Fluorescence": 13734.49,
          "Genotype": "sk",
          "__ECDF": 0.36666666666666664
         },
         {
          "Fluorescence": 13734.49,
          "Genotype": "sk",
          "__ECDF": 0.4
         },
         {
          "Fluorescence": 14094.44,
          "Genotype": "sk",
          "__ECDF": 0.4
         },
         {
          "Fluorescence": 14094.44,
          "Genotype": "sk",
          "__ECDF": 0.43333333333333335
         },
         {
          "Fluorescence": 14251.97,
          "Genotype": "sk",
          "__ECDF": 0.43333333333333335
         },
         {
          "Fluorescence": 14251.97,
          "Genotype": "sk",
          "__ECDF": 0.4666666666666667
         },
         {
          "Fluorescence": 14572.75,
          "Genotype": "sk",
          "__ECDF": 0.4666666666666667
         },
         {
          "Fluorescence": 14572.75,
          "Genotype": "sk",
          "__ECDF": 0.5
         },
         {
          "Fluorescence": 14639.85,
          "Genotype": "sk",
          "__ECDF": 0.5
         },
         {
          "Fluorescence": 14639.85,
          "Genotype": "sk",
          "__ECDF": 0.5333333333333333
         },
         {
          "Fluorescence": 15299.76,
          "Genotype": "sk",
          "__ECDF": 0.5333333333333333
         },
         {
          "Fluorescence": 15299.76,
          "Genotype": "sk",
          "__ECDF": 0.5666666666666667
         },
         {
          "Fluorescence": 15844.28,
          "Genotype": "sk",
          "__ECDF": 0.5666666666666667
         },
         {
          "Fluorescence": 15844.28,
          "Genotype": "sk",
          "__ECDF": 0.6
         },
         {
          "Fluorescence": 15956.94,
          "Genotype": "sk",
          "__ECDF": 0.6
         },
         {
          "Fluorescence": 15956.94,
          "Genotype": "sk",
          "__ECDF": 0.6333333333333333
         },
         {
          "Fluorescence": 15983.81,
          "Genotype": "sk",
          "__ECDF": 0.6333333333333333
         },
         {
          "Fluorescence": 15983.81,
          "Genotype": "sk",
          "__ECDF": 0.6666666666666666
         },
         {
          "Fluorescence": 16042.57,
          "Genotype": "sk",
          "__ECDF": 0.6666666666666666
         },
         {
          "Fluorescence": 16042.57,
          "Genotype": "sk",
          "__ECDF": 0.7
         },
         {
          "Fluorescence": 16076.1,
          "Genotype": "sk",
          "__ECDF": 0.7
         },
         {
          "Fluorescence": 16076.1,
          "Genotype": "sk",
          "__ECDF": 0.7333333333333333
         },
         {
          "Fluorescence": 16266.81,
          "Genotype": "sk",
          "__ECDF": 0.7333333333333333
         },
         {
          "Fluorescence": 16266.81,
          "Genotype": "sk",
          "__ECDF": 0.7666666666666667
         },
         {
          "Fluorescence": 16521.9,
          "Genotype": "sk",
          "__ECDF": 0.7666666666666667
         },
         {
          "Fluorescence": 16521.9,
          "Genotype": "sk",
          "__ECDF": 0.8
         },
         {
          "Fluorescence": 16677.19,
          "Genotype": "sk",
          "__ECDF": 0.8
         },
         {
          "Fluorescence": 16677.19,
          "Genotype": "sk",
          "__ECDF": 0.8333333333333334
         },
         {
          "Fluorescence": 17474.9,
          "Genotype": "sk",
          "__ECDF": 0.8333333333333334
         },
         {
          "Fluorescence": 17474.9,
          "Genotype": "sk",
          "__ECDF": 0.8666666666666667
         },
         {
          "Fluorescence": 18016.01,
          "Genotype": "sk",
          "__ECDF": 0.8666666666666667
         },
         {
          "Fluorescence": 18016.01,
          "Genotype": "sk",
          "__ECDF": 0.9
         },
         {
          "Fluorescence": 18307.6,
          "Genotype": "sk",
          "__ECDF": 0.9
         },
         {
          "Fluorescence": 18307.6,
          "Genotype": "sk",
          "__ECDF": 0.9333333333333333
         },
         {
          "Fluorescence": 18691.24,
          "Genotype": "sk",
          "__ECDF": 0.9333333333333333
         },
         {
          "Fluorescence": 18691.24,
          "Genotype": "sk",
          "__ECDF": 0.9666666666666667
         },
         {
          "Fluorescence": 19046.82,
          "Genotype": "sk",
          "__ECDF": 0.9666666666666667
         },
         {
          "Fluorescence": 19046.82,
          "Genotype": "sk",
          "__ECDF": 1
         },
         {
          "Fluorescence": 35373.9744,
          "Genotype": "sk",
          "__ECDF": 1
         }
        ]
       },
       "hconcat": [
        {
         "data": {
          "name": "data-97e21076a2b245561a3d32c8c541cf9f"
         },
         "encoding": {
          "color": {
           "field": "Genotype",
           "scale": {
            "scheme": "set1"
           },
           "title": "Genotype",
           "type": "nominal"
          },
          "order": {
           "field": "Fluorescence",
           "sort": "ascending",
           "type": "quantitative"
          },
          "x": {
           "field": "Fluorescence",
           "scale": {
            "domain": [
             0,
             45000
            ]
           },
           "title": "Fluorescence (Temperature = 15℃)",
           "type": "quantitative"
          },
          "y": {
           "field": "__ECDF",
           "title": "ECDF",
           "type": "quantitative"
          }
         },
         "height": 200,
         "mark": {
          "type": "line"
         },
         "width": 250
        },
        {
         "data": {
          "name": "data-bc31407d1a3c8618839fcc250d9deb2e"
         },
         "encoding": {
          "color": {
           "field": "Genotype",
           "scale": {
            "scheme": "set1"
           },
           "title": "Genotype",
           "type": "nominal"
          },
          "order": {
           "field": "Fluorescence",
           "sort": "ascending",
           "type": "quantitative"
          },
          "x": {
           "field": "Fluorescence",
           "scale": {
            "domain": [
             0,
             45000
            ]
           },
           "title": "Fluorescence (Temperature = 20℃)",
           "type": "quantitative"
          },
          "y": {
           "field": "__ECDF",
           "title": "ECDF",
           "type": "quantitative"
          }
         },
         "height": 200,
         "mark": {
          "type": "line"
         },
         "width": 250
        },
        {
         "data": {
          "name": "data-86f971b0e64f3f7144935c6acb8f2b22"
         },
         "encoding": {
          "color": {
           "field": "Genotype",
           "scale": {
            "scheme": "set1"
           },
           "title": "Genotype",
           "type": "nominal"
          },
          "order": {
           "field": "Fluorescence",
           "sort": "ascending",
           "type": "quantitative"
          },
          "x": {
           "field": "Fluorescence",
           "scale": {
            "domain": [
             0,
             45000
            ]
           },
           "title": "Fluorescence (Temperature = 25℃)",
           "type": "quantitative"
          },
          "y": {
           "field": "__ECDF",
           "title": "ECDF",
           "type": "quantitative"
          }
         },
         "height": 200,
         "mark": {
          "type": "line"
         },
         "width": 250
        }
       ]
      },
      "image/png": "[encoded data removed]",
      "text/plain": [
       "<VegaLite 2 object>\n",
       "\n",
       "If you see this message, it means the renderer has not been properly enabled\n",
       "for the frontend that you are using. For more information, see\n",
       "https://altair-viz.github.io/user_guide/troubleshooting.html\n"
      ]
     },
     "execution_count": 11,
     "metadata": {},
     "output_type": "execute_result"
    }
   ],
   "source": [
    "for t in df_tidy['Temperature'].unique().astype('str'):\n",
    "    p_temp = altcat.catplot(data=df_tidy.loc[df_tidy['Temperature'] == t,:],\n",
    "                        height=200,\n",
    "                        width=250,\n",
    "                        mark='line',\n",
    "                        encoding=dict(x=alt.X('Fluorescence:Q',scale=axis_scale,title='Fluorescence (Temperature = ' + str(t)+u'\\u2103)'),\n",
    "                                     color=alt.Color('Genotype:N', title='Genotype', scale=alt.Scale(scheme='set1'))),\n",
    "                        transform='ecdf')\n",
    "    p.append(p_temp)\n",
    "\n",
    "\n",
    "p[-3] | p[-2] | p[-1]"
   ]
  },
  {
   "cell_type": "markdown",
   "metadata": {},
   "source": [
    "From the ECDF of different genotypes in each temperature, we can see that at lower temperature (15 &deg;C), the control group shows a significant fluorescence signal for most of the data points, so the promoter was working properly and expressing the driver in this temperature. We think it is a similar story in other temperatures, where the control is to make sure the driver expression level is normal.\n",
    "\n",
    "The cool Gal4 had a stronger fluorescence than the original Gal4, indicating a better performance if we suppose the expression level of either version of Gal4 is similar to the control. At 20 &deg;C, the difference between the cool Gal4 and the original Gal4 was enlarged. At both 15 &deg;C and 20 &deg;C, the original Gal4's performance was almost the same. The cool Gal4 had a distribution that was clustered more at higher fluorescence levels. At 25 &deg;C, the difference was much reduced as the fluorescence of the original Gal4 increased more than the fluorescence of the cool Gal4.\n",
    "\n",
    "This may show that, although at all the tested temperatures the cool Gal4 performed better than the original Gal4, the difference between those two was reduced as the temperature increased, so the original Gal4 might work better the cool Gal4 at a even higher temperature if this trend continues.\n",
    "\n",
    "We then plot the ECDF of fluorescence of each genotype at different temperatures."
   ]
  },
  {
   "cell_type": "code",
   "execution_count": 12,
   "metadata": {},
   "outputs": [
    {
     "data": {
      "application/vnd.vegalite.v2+json": {
       "$schema": "https://vega.github.io/schema/vega-lite/v2.6.0.json",
       "config": {
        "view": {
         "height": 300,
         "width": 400
        }
       },
       "datasets": {
        "data-0334b00b521907eb9071e86573e9661d": [
         {
          "Fluorescence": 6096.728649999999,
          "Temperature": "15",
          "__ECDF": 0
         },
         {
          "Fluorescence": 7242.744,
          "Temperature": "15",
          "__ECDF": 0
         },
         {
          "Fluorescence": 7242.744,
          "Temperature": "15",
          "__ECDF": 0.038461538461538464
         },
         {
          "Fluorescence": 8567.691,
          "Temperature": "15",
          "__ECDF": 0.038461538461538464
         },
         {
          "Fluorescence": 8567.691,
          "Temperature": "15",
          "__ECDF": 0.07692307692307693
         },
         {
          "Fluorescence": 8712.589,
          "Temperature": "15",
          "__ECDF": 0.07692307692307693
         },
         {
          "Fluorescence": 8712.589,
          "Temperature": "15",
          "__ECDF": 0.11538461538461539
         },
         {
          "Fluorescence": 8949.01,
          "Temperature": "15",
          "__ECDF": 0.11538461538461539
         },
         {
          "Fluorescence": 8949.01,
          "Temperature": "15",
          "__ECDF": 0.15384615384615385
         },
         {
          "Fluorescence": 8978.031,
          "Temperature": "15",
          "__ECDF": 0.15384615384615385
         },
         {
          "Fluorescence": 8978.031,
          "Temperature": "15",
          "__ECDF": 0.19230769230769232
         },
         {
          "Fluorescence": 9049.072,
          "Temperature": "15",
          "__ECDF": 0.19230769230769232
         },
         {
          "Fluorescence": 9049.072,
          "Temperature": "15",
          "__ECDF": 0.23076923076923078
         },
         {
          "Fluorescence": 9460.2,
          "Temperature": "15",
          "__ECDF": 0.23076923076923078
         },
         {
          "Fluorescence": 9460.2,
          "Temperature": "15",
          "__ECDF": 0.2692307692307692
         },
         {
          "Fluorescence": 9801.333,
          "Temperature": "15",
          "__ECDF": 0.2692307692307692
         },
         {
          "Fluorescence": 9801.333,
          "Temperature": "15",
          "__ECDF": 0.3076923076923077
         },
         {
          "Fluorescence": 10363.52,
          "Temperature": "15",
          "__ECDF": 0.3076923076923077
         },
         {
          "Fluorescence": 10363.52,
          "Temperature": "15",
          "__ECDF": 0.34615384615384615
         },
         {
          "Fluorescence": 10518.4,
          "Temperature": "15",
          "__ECDF": 0.34615384615384615
         },
         {
          "Fluorescence": 10518.4,
          "Temperature": "15",
          "__ECDF": 0.38461538461538464
         },
         {
          "Fluorescence": 11001.72,
          "Temperature": "15",
          "__ECDF": 0.38461538461538464
         },
         {
          "Fluorescence": 11001.72,
          "Temperature": "15",
          "__ECDF": 0.4230769230769231
         },
         {
          "Fluorescence": 11221.13,
          "Temperature": "15",
          "__ECDF": 0.4230769230769231
         },
         {
          "Fluorescence": 11221.13,
          "Temperature": "15",
          "__ECDF": 0.46153846153846156
         },
         {
          "Fluorescence": 11233.41,
          "Temperature": "15",
          "__ECDF": 0.46153846153846156
         },
         {
          "Fluorescence": 11233.41,
          "Temperature": "15",
          "__ECDF": 0.5
         },
         {
          "Fluorescence": 11561.47,
          "Temperature": "15",
          "__ECDF": 0.5
         },
         {
          "Fluorescence": 11561.47,
          "Temperature": "15",
          "__ECDF": 0.5384615384615384
         },
         {
          "Fluorescence": 11897.13,
          "Temperature": "15",
          "__ECDF": 0.5384615384615384
         },
         {
          "Fluorescence": 11897.13,
          "Temperature": "15",
          "__ECDF": 0.5769230769230769
         },
         {
          "Fluorescence": 12072.7,
          "Temperature": "15",
          "__ECDF": 0.5769230769230769
         },
         {
          "Fluorescence": 12072.7,
          "Temperature": "15",
          "__ECDF": 0.6153846153846154
         },
         {
          "Fluorescence": 12566.75,
          "Temperature": "15",
          "__ECDF": 0.6153846153846154
         },
         {
          "Fluorescence": 12566.75,
          "Temperature": "15",
          "__ECDF": 0.6538461538461539
         },
         {
          "Fluorescence": 12782.01,
          "Temperature": "15",
          "__ECDF": 0.6538461538461539
         },
         {
          "Fluorescence": 12782.01,
          "Temperature": "15",
          "__ECDF": 0.6923076923076923
         },
         {
          "Fluorescence": 12828.28,
          "Temperature": "15",
          "__ECDF": 0.6923076923076923
         },
         {
          "Fluorescence": 12828.28,
          "Temperature": "15",
          "__ECDF": 0.7307692307692307
         },
         {
          "Fluorescence": 13044.4,
          "Temperature": "15",
          "__ECDF": 0.7307692307692307
         },
         {
          "Fluorescence": 13044.4,
          "Temperature": "15",
          "__ECDF": 0.7692307692307693
         },
         {
          "Fluorescence": 13160.89,
          "Temperature": "15",
          "__ECDF": 0.7692307692307693
         },
         {
          "Fluorescence": 13160.89,
          "Temperature": "15",
          "__ECDF": 0.8076923076923077
         },
         {
          "Fluorescence": 13359.27,
          "Temperature": "15",
          "__ECDF": 0.8076923076923077
         },
         {
          "Fluorescence": 13359.27,
          "Temperature": "15",
          "__ECDF": 0.8461538461538461
         },
         {
          "Fluorescence": 13718.88,
          "Temperature": "15",
          "__ECDF": 0.8461538461538461
         },
         {
          "Fluorescence": 13718.88,
          "Temperature": "15",
          "__ECDF": 0.8846153846153846
         },
         {
          "Fluorescence": 14132.81,
          "Temperature": "15",
          "__ECDF": 0.8846153846153846
         },
         {
          "Fluorescence": 14132.81,
          "Temperature": "15",
          "__ECDF": 0.9230769230769231
         },
         {
          "Fluorescence": 14616.11,
          "Temperature": "15",
          "__ECDF": 0.9230769230769231
         },
         {
          "Fluorescence": 14616.11,
          "Temperature": "15",
          "__ECDF": 0.9615384615384616
         },
         {
          "Fluorescence": 16330.5,
          "Temperature": "15",
          "__ECDF": 0.9615384615384616
         },
         {
          "Fluorescence": 16330.5,
          "Temperature": "15",
          "__ECDF": 1
         },
         {
          "Fluorescence": 24003.504350000003,
          "Temperature": "15",
          "__ECDF": 1
         },
         {
          "Fluorescence": 6096.728649999999,
          "Temperature": "20",
          "__ECDF": 0
         },
         {
          "Fluorescence": 12036.87,
          "Temperature": "20",
          "__ECDF": 0
         },
         {
          "Fluorescence": 12036.87,
          "Temperature": "20",
          "__ECDF": 0.03333333333333333
         },
         {
          "Fluorescence": 12345.97,
          "Temperature": "20",
          "__ECDF": 0.03333333333333333
         },
         {
          "Fluorescence": 12345.97,
          "Temperature": "20",
          "__ECDF": 0.06666666666666667
         },
         {
          "Fluorescence": 12394.32,
          "Temperature": "20",
          "__ECDF": 0.06666666666666667
         },
         {
          "Fluorescence": 12394.32,
          "Temperature": "20",
          "__ECDF": 0.1
         },
         {
          "Fluorescence": 12799.02,
          "Temperature": "20",
          "__ECDF": 0.1
         },
         {
          "Fluorescence": 12799.02,
          "Temperature": "20",
          "__ECDF": 0.13333333333333333
         },
         {
          "Fluorescence": 12867.4,
          "Temperature": "20",
          "__ECDF": 0.13333333333333333
         },
         {
          "Fluorescence": 12867.4,
          "Temperature": "20",
          "__ECDF": 0.16666666666666666
         },
         {
          "Fluorescence": 12879.88,
          "Temperature": "20",
          "__ECDF": 0.16666666666666666
         },
         {
          "Fluorescence": 12879.88,
          "Temperature": "20",
          "__ECDF": 0.2
         },
         {
          "Fluorescence": 13000.28,
          "Temperature": "20",
          "__ECDF": 0.2
         },
         {
          "Fluorescence": 13000.28,
          "Temperature": "20",
          "__ECDF": 0.23333333333333334
         },
         {
          "Fluorescence": 13311.52,
          "Temperature": "20",
          "__ECDF": 0.23333333333333334
         },
         {
          "Fluorescence": 13311.52,
          "Temperature": "20",
          "__ECDF": 0.26666666666666666
         },
         {
          "Fluorescence": 13344.14,
          "Temperature": "20",
          "__ECDF": 0.26666666666666666
         },
         {
          "Fluorescence": 13344.14,
          "Temperature": "20",
          "__ECDF": 0.3
         },
         {
          "Fluorescence": 13382.25,
          "Temperature": "20",
          "__ECDF": 0.3
         },
         {
          "Fluorescence": 13382.25,
          "Temperature": "20",
          "__ECDF": 0.3333333333333333
         },
         {
          "Fluorescence": 13616.94,
          "Temperature": "20",
          "__ECDF": 0.3333333333333333
         },
         {
          "Fluorescence": 13616.94,
          "Temperature": "20",
          "__ECDF": 0.36666666666666664
         },
         {
          "Fluorescence": 13734.49,
          "Temperature": "20",
          "__ECDF": 0.36666666666666664
         },
         {
          "Fluorescence": 13734.49,
          "Temperature": "20",
          "__ECDF": 0.4
         },
         {
          "Fluorescence": 14094.44,
          "Temperature": "20",
          "__ECDF": 0.4
         },
         {
          "Fluorescence": 14094.44,
          "Temperature": "20",
          "__ECDF": 0.43333333333333335
         },
         {
          "Fluorescence": 14251.97,
          "Temperature": "20",
          "__ECDF": 0.43333333333333335
         },
         {
          "Fluorescence": 14251.97,
          "Temperature": "20",
          "__ECDF": 0.4666666666666667
         },
         {
          "Fluorescence": 14572.75,
          "Temperature": "20",
          "__ECDF": 0.4666666666666667
         },
         {
          "Fluorescence": 14572.75,
          "Temperature": "20",
          "__ECDF": 0.5
         },
         {
          "Fluorescence": 14639.85,
          "Temperature": "20",
          "__ECDF": 0.5
         },
         {
          "Fluorescence": 14639.85,
          "Temperature": "20",
          "__ECDF": 0.5333333333333333
         },
         {
          "Fluorescence": 15299.76,
          "Temperature": "20",
          "__ECDF": 0.5333333333333333
         },
         {
          "Fluorescence": 15299.76,
          "Temperature": "20",
          "__ECDF": 0.5666666666666667
         },
         {
          "Fluorescence": 15844.28,
          "Temperature": "20",
          "__ECDF": 0.5666666666666667
         },
         {
          "Fluorescence": 15844.28,
          "Temperature": "20",
          "__ECDF": 0.6
         },
         {
          "Fluorescence": 15956.94,
          "Temperature": "20",
          "__ECDF": 0.6
         },
         {
          "Fluorescence": 15956.94,
          "Temperature": "20",
          "__ECDF": 0.6333333333333333
         },
         {
          "Fluorescence": 15983.81,
          "Temperature": "20",
          "__ECDF": 0.6333333333333333
         },
         {
          "Fluorescence": 15983.81,
          "Temperature": "20",
          "__ECDF": 0.6666666666666666
         },
         {
          "Fluorescence": 16042.57,
          "Temperature": "20",
          "__ECDF": 0.6666666666666666
         },
         {
          "Fluorescence": 16042.57,
          "Temperature": "20",
          "__ECDF": 0.7
         },
         {
          "Fluorescence": 16076.1,
          "Temperature": "20",
          "__ECDF": 0.7
         },
         {
          "Fluorescence": 16076.1,
          "Temperature": "20",
          "__ECDF": 0.7333333333333333
         },
         {
          "Fluorescence": 16266.81,
          "Temperature": "20",
          "__ECDF": 0.7333333333333333
         },
         {
          "Fluorescence": 16266.81,
          "Temperature": "20",
          "__ECDF": 0.7666666666666667
         },
         {
          "Fluorescence": 16521.9,
          "Temperature": "20",
          "__ECDF": 0.7666666666666667
         },
         {
          "Fluorescence": 16521.9,
          "Temperature": "20",
          "__ECDF": 0.8
         },
         {
          "Fluorescence": 16677.19,
          "Temperature": "20",
          "__ECDF": 0.8
         },
         {
          "Fluorescence": 16677.19,
          "Temperature": "20",
          "__ECDF": 0.8333333333333334
         },
         {
          "Fluorescence": 17474.9,
          "Temperature": "20",
          "__ECDF": 0.8333333333333334
         },
         {
          "Fluorescence": 17474.9,
          "Temperature": "20",
          "__ECDF": 0.8666666666666667
         },
         {
          "Fluorescence": 18016.01,
          "Temperature": "20",
          "__ECDF": 0.8666666666666667
         },
         {
          "Fluorescence": 18016.01,
          "Temperature": "20",
          "__ECDF": 0.9
         },
         {
          "Fluorescence": 18307.6,
          "Temperature": "20",
          "__ECDF": 0.9
         },
         {
          "Fluorescence": 18307.6,
          "Temperature": "20",
          "__ECDF": 0.9333333333333333
         },
         {
          "Fluorescence": 18691.24,
          "Temperature": "20",
          "__ECDF": 0.9333333333333333
         },
         {
          "Fluorescence": 18691.24,
          "Temperature": "20",
          "__ECDF": 0.9666666666666667
         },
         {
          "Fluorescence": 19046.82,
          "Temperature": "20",
          "__ECDF": 0.9666666666666667
         },
         {
          "Fluorescence": 19046.82,
          "Temperature": "20",
          "__ECDF": 1
         },
         {
          "Fluorescence": 24003.504350000003,
          "Temperature": "20",
          "__ECDF": 1
         },
         {
          "Fluorescence": 6096.728649999999,
          "Temperature": "25",
          "__ECDF": 0
         },
         {
          "Fluorescence": 6910.673,
          "Temperature": "25",
          "__ECDF": 0
         },
         {
          "Fluorescence": 6910.673,
          "Temperature": "25",
          "__ECDF": 0.03333333333333333
         },
         {
          "Fluorescence": 14203.55,
          "Temperature": "25",
          "__ECDF": 0.03333333333333333
         },
         {
          "Fluorescence": 14203.55,
          "Temperature": "25",
          "__ECDF": 0.06666666666666667
         },
         {
          "Fluorescence": 14351.88,
          "Temperature": "25",
          "__ECDF": 0.06666666666666667
         },
         {
          "Fluorescence": 14351.88,
          "Temperature": "25",
          "__ECDF": 0.1
         },
         {
          "Fluorescence": 15992.75,
          "Temperature": "25",
          "__ECDF": 0.1
         },
         {
          "Fluorescence": 15992.75,
          "Temperature": "25",
          "__ECDF": 0.13333333333333333
         },
         {
          "Fluorescence": 16593.96,
          "Temperature": "25",
          "__ECDF": 0.13333333333333333
         },
         {
          "Fluorescence": 16593.96,
          "Temperature": "25",
          "__ECDF": 0.16666666666666666
         },
         {
          "Fluorescence": 16919.7,
          "Temperature": "25",
          "__ECDF": 0.16666666666666666
         },
         {
          "Fluorescence": 16919.7,
          "Temperature": "25",
          "__ECDF": 0.2
         },
         {
          "Fluorescence": 17609.13,
          "Temperature": "25",
          "__ECDF": 0.2
         },
         {
          "Fluorescence": 17609.13,
          "Temperature": "25",
          "__ECDF": 0.23333333333333334
         },
         {
          "Fluorescence": 17694.63,
          "Temperature": "25",
          "__ECDF": 0.23333333333333334
         },
         {
          "Fluorescence": 17694.63,
          "Temperature": "25",
          "__ECDF": 0.26666666666666666
         },
         {
          "Fluorescence": 17788.94,
          "Temperature": "25",
          "__ECDF": 0.26666666666666666
         },
         {
          "Fluorescence": 17788.94,
          "Temperature": "25",
          "__ECDF": 0.3
         },
         {
          "Fluorescence": 17811.23,
          "Temperature": "25",
          "__ECDF": 0.3
         },
         {
          "Fluorescence": 17811.23,
          "Temperature": "25",
          "__ECDF": 0.3333333333333333
         },
         {
          "Fluorescence": 17837.36,
          "Temperature": "25",
          "__ECDF": 0.3333333333333333
         },
         {
          "Fluorescence": 17837.36,
          "Temperature": "25",
          "__ECDF": 0.36666666666666664
         },
         {
          "Fluorescence": 18042.75,
          "Temperature": "25",
          "__ECDF": 0.36666666666666664
         },
         {
          "Fluorescence": 18042.75,
          "Temperature": "25",
          "__ECDF": 0.4
         },
         {
          "Fluorescence": 18062.91,
          "Temperature": "25",
          "__ECDF": 0.4
         },
         {
          "Fluorescence": 18062.91,
          "Temperature": "25",
          "__ECDF": 0.43333333333333335
         },
         {
          "Fluorescence": 19238.01,
          "Temperature": "25",
          "__ECDF": 0.43333333333333335
         },
         {
          "Fluorescence": 19238.01,
          "Temperature": "25",
          "__ECDF": 0.4666666666666667
         },
         {
          "Fluorescence": 19265.61,
          "Temperature": "25",
          "__ECDF": 0.4666666666666667
         },
         {
          "Fluorescence": 19265.61,
          "Temperature": "25",
          "__ECDF": 0.5
         },
         {
          "Fluorescence": 19314.24,
          "Temperature": "25",
          "__ECDF": 0.5
         },
         {
          "Fluorescence": 19314.24,
          "Temperature": "25",
          "__ECDF": 0.5333333333333333
         },
         {
          "Fluorescence": 19516.03,
          "Temperature": "25",
          "__ECDF": 0.5333333333333333
         },
         {
          "Fluorescence": 19516.03,
          "Temperature": "25",
          "__ECDF": 0.5666666666666667
         },
         {
          "Fluorescence": 19782.51,
          "Temperature": "25",
          "__ECDF": 0.5666666666666667
         },
         {
          "Fluorescence": 19782.51,
          "Temperature": "25",
          "__ECDF": 0.6
         },
         {
          "Fluorescence": 19882.63,
          "Temperature": "25",
          "__ECDF": 0.6
         },
         {
          "Fluorescence": 19882.63,
          "Temperature": "25",
          "__ECDF": 0.6333333333333333
         },
         {
          "Fluorescence": 20114.62,
          "Temperature": "25",
          "__ECDF": 0.6333333333333333
         },
         {
          "Fluorescence": 20114.62,
          "Temperature": "25",
          "__ECDF": 0.6666666666666666
         },
         {
          "Fluorescence": 20371.85,
          "Temperature": "25",
          "__ECDF": 0.6666666666666666
         },
         {
          "Fluorescence": 20371.85,
          "Temperature": "25",
          "__ECDF": 0.7
         },
         {
          "Fluorescence": 20526.22,
          "Temperature": "25",
          "__ECDF": 0.7
         },
         {
          "Fluorescence": 20526.22,
          "Temperature": "25",
          "__ECDF": 0.7333333333333333
         },
         {
          "Fluorescence": 20563.58,
          "Temperature": "25",
          "__ECDF": 0.7333333333333333
         },
         {
          "Fluorescence": 20563.58,
          "Temperature": "25",
          "__ECDF": 0.7666666666666667
         },
         {
          "Fluorescence": 20934.66,
          "Temperature": "25",
          "__ECDF": 0.7666666666666667
         },
         {
          "Fluorescence": 20934.66,
          "Temperature": "25",
          "__ECDF": 0.8
         },
         {
          "Fluorescence": 21371.72,
          "Temperature": "25",
          "__ECDF": 0.8
         },
         {
          "Fluorescence": 21371.72,
          "Temperature": "25",
          "__ECDF": 0.8333333333333334
         },
         {
          "Fluorescence": 21444.25,
          "Temperature": "25",
          "__ECDF": 0.8333333333333334
         },
         {
          "Fluorescence": 21444.25,
          "Temperature": "25",
          "__ECDF": 0.8666666666666667
         },
         {
          "Fluorescence": 21589.64,
          "Temperature": "25",
          "__ECDF": 0.8666666666666667
         },
         {
          "Fluorescence": 21589.64,
          "Temperature": "25",
          "__ECDF": 0.9
         },
         {
          "Fluorescence": 21836.05,
          "Temperature": "25",
          "__ECDF": 0.9
         },
         {
          "Fluorescence": 21836.05,
          "Temperature": "25",
          "__ECDF": 0.9333333333333333
         },
         {
          "Fluorescence": 22053.47,
          "Temperature": "25",
          "__ECDF": 0.9333333333333333
         },
         {
          "Fluorescence": 22053.47,
          "Temperature": "25",
          "__ECDF": 0.9666666666666667
         },
         {
          "Fluorescence": 23189.56,
          "Temperature": "25",
          "__ECDF": 0.9666666666666667
         },
         {
          "Fluorescence": 23189.56,
          "Temperature": "25",
          "__ECDF": 1
         },
         {
          "Fluorescence": 24003.504350000003,
          "Temperature": "25",
          "__ECDF": 1
         }
        ],
        "data-ade24174e1801e68ede35b99f01d0810": [
         {
          "Fluorescence": -455.1294400000001,
          "Temperature": "15",
          "__ECDF": 0
         },
         {
          "Fluorescence": 492.0972,
          "Temperature": "15",
          "__ECDF": 0
         },
         {
          "Fluorescence": 492.0972,
          "Temperature": "15",
          "__ECDF": 0.03571428571428571
         },
         {
          "Fluorescence": 654.714,
          "Temperature": "15",
          "__ECDF": 0.03571428571428571
         },
         {
          "Fluorescence": 654.714,
          "Temperature": "15",
          "__ECDF": 0.07142857142857142
         },
         {
          "Fluorescence": 1060.197,
          "Temperature": "15",
          "__ECDF": 0.07142857142857142
         },
         {
          "Fluorescence": 1060.197,
          "Temperature": "15",
          "__ECDF": 0.10714285714285714
         },
         {
          "Fluorescence": 1089.028,
          "Temperature": "15",
          "__ECDF": 0.10714285714285714
         },
         {
          "Fluorescence": 1089.028,
          "Temperature": "15",
          "__ECDF": 0.14285714285714285
         },
         {
          "Fluorescence": 1136.737,
          "Temperature": "15",
          "__ECDF": 0.14285714285714285
         },
         {
          "Fluorescence": 1136.737,
          "Temperature": "15",
          "__ECDF": 0.17857142857142858
         },
         {
          "Fluorescence": 1298.547,
          "Temperature": "15",
          "__ECDF": 0.17857142857142858
         },
         {
          "Fluorescence": 1298.547,
          "Temperature": "15",
          "__ECDF": 0.21428571428571427
         },
         {
          "Fluorescence": 1321.293,
          "Temperature": "15",
          "__ECDF": 0.21428571428571427
         },
         {
          "Fluorescence": 1321.293,
          "Temperature": "15",
          "__ECDF": 0.25
         },
         {
          "Fluorescence": 1442.433,
          "Temperature": "15",
          "__ECDF": 0.25
         },
         {
          "Fluorescence": 1442.433,
          "Temperature": "15",
          "__ECDF": 0.2857142857142857
         },
         {
          "Fluorescence": 1478.777,
          "Temperature": "15",
          "__ECDF": 0.2857142857142857
         },
         {
          "Fluorescence": 1478.777,
          "Temperature": "15",
          "__ECDF": 0.32142857142857145
         },
         {
          "Fluorescence": 1482.843,
          "Temperature": "15",
          "__ECDF": 0.32142857142857145
         },
         {
          "Fluorescence": 1482.843,
          "Temperature": "15",
          "__ECDF": 0.35714285714285715
         },
         {
          "Fluorescence": 1511.991,
          "Temperature": "15",
          "__ECDF": 0.35714285714285715
         },
         {
          "Fluorescence": 1511.991,
          "Temperature": "15",
          "__ECDF": 0.39285714285714285
         },
         {
          "Fluorescence": 1540.458,
          "Temperature": "15",
          "__ECDF": 0.39285714285714285
         },
         {
          "Fluorescence": 1540.458,
          "Temperature": "15",
          "__ECDF": 0.42857142857142855
         },
         {
          "Fluorescence": 1551.396,
          "Temperature": "15",
          "__ECDF": 0.42857142857142855
         },
         {
          "Fluorescence": 1551.396,
          "Temperature": "15",
          "__ECDF": 0.4642857142857143
         },
         {
          "Fluorescence": 1682.306,
          "Temperature": "15",
          "__ECDF": 0.4642857142857143
         },
         {
          "Fluorescence": 1682.306,
          "Temperature": "15",
          "__ECDF": 0.5
         },
         {
          "Fluorescence": 1712.902,
          "Temperature": "15",
          "__ECDF": 0.5
         },
         {
          "Fluorescence": 1712.902,
          "Temperature": "15",
          "__ECDF": 0.5357142857142857
         },
         {
          "Fluorescence": 1851.253,
          "Temperature": "15",
          "__ECDF": 0.5357142857142857
         },
         {
          "Fluorescence": 1851.253,
          "Temperature": "15",
          "__ECDF": 0.5714285714285714
         },
         {
          "Fluorescence": 2018.864,
          "Temperature": "15",
          "__ECDF": 0.5714285714285714
         },
         {
          "Fluorescence": 2018.864,
          "Temperature": "15",
          "__ECDF": 0.6071428571428571
         },
         {
          "Fluorescence": 2131.59,
          "Temperature": "15",
          "__ECDF": 0.6071428571428571
         },
         {
          "Fluorescence": 2131.59,
          "Temperature": "15",
          "__ECDF": 0.6428571428571429
         },
         {
          "Fluorescence": 2584.733,
          "Temperature": "15",
          "__ECDF": 0.6428571428571429
         },
         {
          "Fluorescence": 2584.733,
          "Temperature": "15",
          "__ECDF": 0.6785714285714286
         },
         {
          "Fluorescence": 3134.334,
          "Temperature": "15",
          "__ECDF": 0.6785714285714286
         },
         {
          "Fluorescence": 3134.334,
          "Temperature": "15",
          "__ECDF": 0.7142857142857143
         },
         {
          "Fluorescence": 3485.557,
          "Temperature": "15",
          "__ECDF": 0.7142857142857143
         },
         {
          "Fluorescence": 3485.557,
          "Temperature": "15",
          "__ECDF": 0.75
         },
         {
          "Fluorescence": 4412.128,
          "Temperature": "15",
          "__ECDF": 0.75
         },
         {
          "Fluorescence": 4412.128,
          "Temperature": "15",
          "__ECDF": 0.7857142857142857
         },
         {
          "Fluorescence": 5128.18,
          "Temperature": "15",
          "__ECDF": 0.7857142857142857
         },
         {
          "Fluorescence": 5128.18,
          "Temperature": "15",
          "__ECDF": 0.8214285714285714
         },
         {
          "Fluorescence": 5540.317,
          "Temperature": "15",
          "__ECDF": 0.8214285714285714
         },
         {
          "Fluorescence": 5540.317,
          "Temperature": "15",
          "__ECDF": 0.8571428571428571
         },
         {
          "Fluorescence": 5701.043,
          "Temperature": "15",
          "__ECDF": 0.8571428571428571
         },
         {
          "Fluorescence": 5701.043,
          "Temperature": "15",
          "__ECDF": 0.8928571428571429
         },
         {
          "Fluorescence": 5801.691,
          "Temperature": "15",
          "__ECDF": 0.8928571428571429
         },
         {
          "Fluorescence": 5801.691,
          "Temperature": "15",
          "__ECDF": 0.9285714285714286
         },
         {
          "Fluorescence": 6798.146,
          "Temperature": "15",
          "__ECDF": 0.9285714285714286
         },
         {
          "Fluorescence": 6798.146,
          "Temperature": "15",
          "__ECDF": 0.9642857142857143
         },
         {
          "Fluorescence": 10686.91,
          "Temperature": "15",
          "__ECDF": 0.9642857142857143
         },
         {
          "Fluorescence": 10686.91,
          "Temperature": "15",
          "__ECDF": 1
         },
         {
          "Fluorescence": 20383.85664,
          "Temperature": "15",
          "__ECDF": 1
         },
         {
          "Fluorescence": -455.1294400000001,
          "Temperature": "20",
          "__ECDF": 0
         },
         {
          "Fluorescence": 1042.452,
          "Temperature": "20",
          "__ECDF": 0
         },
         {
          "Fluorescence": 1042.452,
          "Temperature": "20",
          "__ECDF": 0.045454545454545456
         },
         {
          "Fluorescence": 1312.233,
          "Temperature": "20",
          "__ECDF": 0.045454545454545456
         },
         {
          "Fluorescence": 1312.233,
          "Temperature": "20",
          "__ECDF": 0.09090909090909091
         },
         {
          "Fluorescence": 1526.974,
          "Temperature": "20",
          "__ECDF": 0.09090909090909091
         },
         {
          "Fluorescence": 1526.974,
          "Temperature": "20",
          "__ECDF": 0.13636363636363635
         },
         {
          "Fluorescence": 1532.901,
          "Temperature": "20",
          "__ECDF": 0.13636363636363635
         },
         {
          "Fluorescence": 1532.901,
          "Temperature": "20",
          "__ECDF": 0.18181818181818182
         },
         {
          "Fluorescence": 1572.569,
          "Temperature": "20",
          "__ECDF": 0.18181818181818182
         },
         {
          "Fluorescence": 1572.569,
          "Temperature": "20",
          "__ECDF": 0.22727272727272727
         },
         {
          "Fluorescence": 1817.321,
          "Temperature": "20",
          "__ECDF": 0.22727272727272727
         },
         {
          "Fluorescence": 1817.321,
          "Temperature": "20",
          "__ECDF": 0.2727272727272727
         },
         {
          "Fluorescence": 1888.596,
          "Temperature": "20",
          "__ECDF": 0.2727272727272727
         },
         {
          "Fluorescence": 1888.596,
          "Temperature": "20",
          "__ECDF": 0.3181818181818182
         },
         {
          "Fluorescence": 2357.752,
          "Temperature": "20",
          "__ECDF": 0.3181818181818182
         },
         {
          "Fluorescence": 2357.752,
          "Temperature": "20",
          "__ECDF": 0.36363636363636365
         },
         {
          "Fluorescence": 2737.135,
          "Temperature": "20",
          "__ECDF": 0.36363636363636365
         },
         {
          "Fluorescence": 2737.135,
          "Temperature": "20",
          "__ECDF": 0.4090909090909091
         },
         {
          "Fluorescence": 3107.02,
          "Temperature": "20",
          "__ECDF": 0.4090909090909091
         },
         {
          "Fluorescence": 3107.02,
          "Temperature": "20",
          "__ECDF": 0.45454545454545453
         },
         {
          "Fluorescence": 3448.003,
          "Temperature": "20",
          "__ECDF": 0.45454545454545453
         },
         {
          "Fluorescence": 3448.003,
          "Temperature": "20",
          "__ECDF": 0.5
         },
         {
          "Fluorescence": 3505.12,
          "Temperature": "20",
          "__ECDF": 0.5
         },
         {
          "Fluorescence": 3505.12,
          "Temperature": "20",
          "__ECDF": 0.5454545454545454
         },
         {
          "Fluorescence": 3643.21,
          "Temperature": "20",
          "__ECDF": 0.5454545454545454
         },
         {
          "Fluorescence": 3643.21,
          "Temperature": "20",
          "__ECDF": 0.5909090909090909
         },
         {
          "Fluorescence": 3796.529,
          "Temperature": "20",
          "__ECDF": 0.5909090909090909
         },
         {
          "Fluorescence": 3796.529,
          "Temperature": "20",
          "__ECDF": 0.6363636363636364
         },
         {
          "Fluorescence": 4758.537,
          "Temperature": "20",
          "__ECDF": 0.6363636363636364
         },
         {
          "Fluorescence": 4758.537,
          "Temperature": "20",
          "__ECDF": 0.6818181818181818
         },
         {
          "Fluorescence": 4816.29,
          "Temperature": "20",
          "__ECDF": 0.6818181818181818
         },
         {
          "Fluorescence": 4816.29,
          "Temperature": "20",
          "__ECDF": 0.7272727272727273
         },
         {
          "Fluorescence": 5757.599,
          "Temperature": "20",
          "__ECDF": 0.7272727272727273
         },
         {
          "Fluorescence": 5757.599,
          "Temperature": "20",
          "__ECDF": 0.7727272727272727
         },
         {
          "Fluorescence": 6818.986,
          "Temperature": "20",
          "__ECDF": 0.7727272727272727
         },
         {
          "Fluorescence": 6818.986,
          "Temperature": "20",
          "__ECDF": 0.8181818181818182
         },
         {
          "Fluorescence": 8119.87,
          "Temperature": "20",
          "__ECDF": 0.8181818181818182
         },
         {
          "Fluorescence": 8119.87,
          "Temperature": "20",
          "__ECDF": 0.8636363636363636
         },
         {
          "Fluorescence": 11756.49,
          "Temperature": "20",
          "__ECDF": 0.8636363636363636
         },
         {
          "Fluorescence": 11756.49,
          "Temperature": "20",
          "__ECDF": 0.9090909090909091
         },
         {
          "Fluorescence": 12185.36,
          "Temperature": "20",
          "__ECDF": 0.9090909090909091
         },
         {
          "Fluorescence": 12185.36,
          "Temperature": "20",
          "__ECDF": 0.9545454545454546
         },
         {
          "Fluorescence": 16331.43,
          "Temperature": "20",
          "__ECDF": 0.9545454545454546
         },
         {
          "Fluorescence": 16331.43,
          "Temperature": "20",
          "__ECDF": 1
         },
         {
          "Fluorescence": 20383.85664,
          "Temperature": "20",
          "__ECDF": 1
         },
         {
          "Fluorescence": -455.1294400000001,
          "Temperature": "25",
          "__ECDF": 0
         },
         {
          "Fluorescence": 8358.995,
          "Temperature": "25",
          "__ECDF": 0
         },
         {
          "Fluorescence": 8358.995,
          "Temperature": "25",
          "__ECDF": 0.04
         },
         {
          "Fluorescence": 9540.503,
          "Temperature": "25",
          "__ECDF": 0.04
         },
         {
          "Fluorescence": 9540.503,
          "Temperature": "25",
          "__ECDF": 0.08
         },
         {
          "Fluorescence": 11233.21,
          "Temperature": "25",
          "__ECDF": 0.08
         },
         {
          "Fluorescence": 11233.21,
          "Temperature": "25",
          "__ECDF": 0.12
         },
         {
          "Fluorescence": 12163.93,
          "Temperature": "25",
          "__ECDF": 0.12
         },
         {
          "Fluorescence": 12163.93,
          "Temperature": "25",
          "__ECDF": 0.16
         },
         {
          "Fluorescence": 12462.69,
          "Temperature": "25",
          "__ECDF": 0.16
         },
         {
          "Fluorescence": 12462.69,
          "Temperature": "25",
          "__ECDF": 0.2
         },
         {
          "Fluorescence": 12672.19,
          "Temperature": "25",
          "__ECDF": 0.2
         },
         {
          "Fluorescence": 12672.19,
          "Temperature": "25",
          "__ECDF": 0.24
         },
         {
          "Fluorescence": 13334.83,
          "Temperature": "25",
          "__ECDF": 0.24
         },
         {
          "Fluorescence": 13334.83,
          "Temperature": "25",
          "__ECDF": 0.28
         },
         {
          "Fluorescence": 13568.62,
          "Temperature": "25",
          "__ECDF": 0.28
         },
         {
          "Fluorescence": 13568.62,
          "Temperature": "25",
          "__ECDF": 0.32
         },
         {
          "Fluorescence": 13609.09,
          "Temperature": "25",
          "__ECDF": 0.32
         },
         {
          "Fluorescence": 13609.09,
          "Temperature": "25",
          "__ECDF": 0.36
         },
         {
          "Fluorescence": 13969.94,
          "Temperature": "25",
          "__ECDF": 0.36
         },
         {
          "Fluorescence": 13969.94,
          "Temperature": "25",
          "__ECDF": 0.4
         },
         {
          "Fluorescence": 14128.31,
          "Temperature": "25",
          "__ECDF": 0.4
         },
         {
          "Fluorescence": 14128.31,
          "Temperature": "25",
          "__ECDF": 0.44
         },
         {
          "Fluorescence": 14211.59,
          "Temperature": "25",
          "__ECDF": 0.44
         },
         {
          "Fluorescence": 14211.59,
          "Temperature": "25",
          "__ECDF": 0.48
         },
         {
          "Fluorescence": 14414.89,
          "Temperature": "25",
          "__ECDF": 0.48
         },
         {
          "Fluorescence": 14414.89,
          "Temperature": "25",
          "__ECDF": 0.52
         },
         {
          "Fluorescence": 14879.05,
          "Temperature": "25",
          "__ECDF": 0.52
         },
         {
          "Fluorescence": 14879.05,
          "Temperature": "25",
          "__ECDF": 0.56
         },
         {
          "Fluorescence": 14882.92,
          "Temperature": "25",
          "__ECDF": 0.56
         },
         {
          "Fluorescence": 14882.92,
          "Temperature": "25",
          "__ECDF": 0.6
         },
         {
          "Fluorescence": 15065.03,
          "Temperature": "25",
          "__ECDF": 0.6
         },
         {
          "Fluorescence": 15065.03,
          "Temperature": "25",
          "__ECDF": 0.64
         },
         {
          "Fluorescence": 15110.88,
          "Temperature": "25",
          "__ECDF": 0.64
         },
         {
          "Fluorescence": 15110.88,
          "Temperature": "25",
          "__ECDF": 0.68
         },
         {
          "Fluorescence": 15158.47,
          "Temperature": "25",
          "__ECDF": 0.68
         },
         {
          "Fluorescence": 15158.47,
          "Temperature": "25",
          "__ECDF": 0.72
         },
         {
          "Fluorescence": 15602.73,
          "Temperature": "25",
          "__ECDF": 0.72
         },
         {
          "Fluorescence": 15602.73,
          "Temperature": "25",
          "__ECDF": 0.76
         },
         {
          "Fluorescence": 15832.53,
          "Temperature": "25",
          "__ECDF": 0.76
         },
         {
          "Fluorescence": 15832.53,
          "Temperature": "25",
          "__ECDF": 0.8
         },
         {
          "Fluorescence": 16499.3,
          "Temperature": "25",
          "__ECDF": 0.8
         },
         {
          "Fluorescence": 16499.3,
          "Temperature": "25",
          "__ECDF": 0.84
         },
         {
          "Fluorescence": 16960.67,
          "Temperature": "25",
          "__ECDF": 0.84
         },
         {
          "Fluorescence": 16960.67,
          "Temperature": "25",
          "__ECDF": 0.88
         },
         {
          "Fluorescence": 17229.12,
          "Temperature": "25",
          "__ECDF": 0.88
         },
         {
          "Fluorescence": 17229.12,
          "Temperature": "25",
          "__ECDF": 0.92
         },
         {
          "Fluorescence": 17305.84,
          "Temperature": "25",
          "__ECDF": 0.92
         },
         {
          "Fluorescence": 17305.84,
          "Temperature": "25",
          "__ECDF": 0.96
         },
         {
          "Fluorescence": 19436.63,
          "Temperature": "25",
          "__ECDF": 0.96
         },
         {
          "Fluorescence": 19436.63,
          "Temperature": "25",
          "__ECDF": 1
         },
         {
          "Fluorescence": 20383.85664,
          "Temperature": "25",
          "__ECDF": 1
         }
        ],
        "data-d8ef77111493b998dc90a8b7f8deb399": [
         {
          "Fluorescence": 1147.2818499999998,
          "Temperature": "15",
          "__ECDF": 0
         },
         {
          "Fluorescence": 3149.717,
          "Temperature": "15",
          "__ECDF": 0
         },
         {
          "Fluorescence": 3149.717,
          "Temperature": "15",
          "__ECDF": 0.034482758620689655
         },
         {
          "Fluorescence": 3880.93,
          "Temperature": "15",
          "__ECDF": 0.034482758620689655
         },
         {
          "Fluorescence": 3880.93,
          "Temperature": "15",
          "__ECDF": 0.06896551724137931
         },
         {
          "Fluorescence": 4634.488,
          "Temperature": "15",
          "__ECDF": 0.06896551724137931
         },
         {
          "Fluorescence": 4634.488,
          "Temperature": "15",
          "__ECDF": 0.10344827586206896
         },
         {
          "Fluorescence": 7395.207,
          "Temperature": "15",
          "__ECDF": 0.10344827586206896
         },
         {
          "Fluorescence": 7395.207,
          "Temperature": "15",
          "__ECDF": 0.13793103448275862
         },
         {
          "Fluorescence": 9429.343,
          "Temperature": "15",
          "__ECDF": 0.13793103448275862
         },
         {
          "Fluorescence": 9429.343,
          "Temperature": "15",
          "__ECDF": 0.1724137931034483
         },
         {
          "Fluorescence": 10373.52,
          "Temperature": "15",
          "__ECDF": 0.1724137931034483
         },
         {
          "Fluorescence": 10373.52,
          "Temperature": "15",
          "__ECDF": 0.20689655172413793
         },
         {
          "Fluorescence": 11121.24,
          "Temperature": "15",
          "__ECDF": 0.20689655172413793
         },
         {
          "Fluorescence": 11121.24,
          "Temperature": "15",
          "__ECDF": 0.2413793103448276
         },
         {
          "Fluorescence": 12793.59,
          "Temperature": "15",
          "__ECDF": 0.2413793103448276
         },
         {
          "Fluorescence": 12793.59,
          "Temperature": "15",
          "__ECDF": 0.27586206896551724
         },
         {
          "Fluorescence": 13684.36,
          "Temperature": "15",
          "__ECDF": 0.27586206896551724
         },
         {
          "Fluorescence": 13684.36,
          "Temperature": "15",
          "__ECDF": 0.3103448275862069
         },
         {
          "Fluorescence": 15568.76,
          "Temperature": "15",
          "__ECDF": 0.3103448275862069
         },
         {
          "Fluorescence": 15568.76,
          "Temperature": "15",
          "__ECDF": 0.3448275862068966
         },
         {
          "Fluorescence": 15876.82,
          "Temperature": "15",
          "__ECDF": 0.3448275862068966
         },
         {
          "Fluorescence": 15876.82,
          "Temperature": "15",
          "__ECDF": 0.3793103448275862
         },
         {
          "Fluorescence": 16756.28,
          "Temperature": "15",
          "__ECDF": 0.3793103448275862
         },
         {
          "Fluorescence": 16756.28,
          "Temperature": "15",
          "__ECDF": 0.41379310344827586
         },
         {
          "Fluorescence": 17062.84,
          "Temperature": "15",
          "__ECDF": 0.41379310344827586
         },
         {
          "Fluorescence": 17062.84,
          "Temperature": "15",
          "__ECDF": 0.4482758620689655
         },
         {
          "Fluorescence": 18178.44,
          "Temperature": "15",
          "__ECDF": 0.4482758620689655
         },
         {
          "Fluorescence": 18178.44,
          "Temperature": "15",
          "__ECDF": 0.4827586206896552
         },
         {
          "Fluorescence": 18265.88,
          "Temperature": "15",
          "__ECDF": 0.4827586206896552
         },
         {
          "Fluorescence": 18265.88,
          "Temperature": "15",
          "__ECDF": 0.5172413793103449
         },
         {
          "Fluorescence": 20017.14,
          "Temperature": "15",
          "__ECDF": 0.5172413793103449
         },
         {
          "Fluorescence": 20017.14,
          "Temperature": "15",
          "__ECDF": 0.5517241379310345
         },
         {
          "Fluorescence": 20376.3,
          "Temperature": "15",
          "__ECDF": 0.5517241379310345
         },
         {
          "Fluorescence": 20376.3,
          "Temperature": "15",
          "__ECDF": 0.5862068965517241
         },
         {
          "Fluorescence": 20722.62,
          "Temperature": "15",
          "__ECDF": 0.5862068965517241
         },
         {
          "Fluorescence": 20722.62,
          "Temperature": "15",
          "__ECDF": 0.6206896551724138
         },
         {
          "Fluorescence": 20820.26,
          "Temperature": "15",
          "__ECDF": 0.6206896551724138
         },
         {
          "Fluorescence": 20820.26,
          "Temperature": "15",
          "__ECDF": 0.6551724137931034
         },
         {
          "Fluorescence": 21703.44,
          "Temperature": "15",
          "__ECDF": 0.6551724137931034
         },
         {
          "Fluorescence": 21703.44,
          "Temperature": "15",
          "__ECDF": 0.6896551724137931
         },
         {
          "Fluorescence": 21707.12,
          "Temperature": "15",
          "__ECDF": 0.6896551724137931
         },
         {
          "Fluorescence": 21707.12,
          "Temperature": "15",
          "__ECDF": 0.7241379310344828
         },
         {
          "Fluorescence": 21750.27,
          "Temperature": "15",
          "__ECDF": 0.7241379310344828
         },
         {
          "Fluorescence": 21750.27,
          "Temperature": "15",
          "__ECDF": 0.7586206896551724
         },
         {
          "Fluorescence": 22510.41,
          "Temperature": "15",
          "__ECDF": 0.7586206896551724
         },
         {
          "Fluorescence": 22510.41,
          "Temperature": "15",
          "__ECDF": 0.7931034482758621
         },
         {
          "Fluorescence": 24028.75,
          "Temperature": "15",
          "__ECDF": 0.7931034482758621
         },
         {
          "Fluorescence": 24028.75,
          "Temperature": "15",
          "__ECDF": 0.8275862068965517
         },
         {
          "Fluorescence": 24932.88,
          "Temperature": "15",
          "__ECDF": 0.8275862068965517
         },
         {
          "Fluorescence": 24932.88,
          "Temperature": "15",
          "__ECDF": 0.8620689655172413
         },
         {
          "Fluorescence": 31089.68,
          "Temperature": "15",
          "__ECDF": 0.8620689655172413
         },
         {
          "Fluorescence": 31089.68,
          "Temperature": "15",
          "__ECDF": 0.896551724137931
         },
         {
          "Fluorescence": 34021.32,
          "Temperature": "15",
          "__ECDF": 0.896551724137931
         },
         {
          "Fluorescence": 34021.32,
          "Temperature": "15",
          "__ECDF": 0.9310344827586207
         },
         {
          "Fluorescence": 34486.33,
          "Temperature": "15",
          "__ECDF": 0.9310344827586207
         },
         {
          "Fluorescence": 34486.33,
          "Temperature": "15",
          "__ECDF": 0.9655172413793104
         },
         {
          "Fluorescence": 43198.42,
          "Temperature": "15",
          "__ECDF": 0.9655172413793104
         },
         {
          "Fluorescence": 43198.42,
          "Temperature": "15",
          "__ECDF": 1
         },
         {
          "Fluorescence": 45200.855149999996,
          "Temperature": "15",
          "__ECDF": 1
         },
         {
          "Fluorescence": 1147.2818499999998,
          "Temperature": "20",
          "__ECDF": 0
         },
         {
          "Fluorescence": 5616.583,
          "Temperature": "20",
          "__ECDF": 0
         },
         {
          "Fluorescence": 5616.583,
          "Temperature": "20",
          "__ECDF": 0.037037037037037035
         },
         {
          "Fluorescence": 8350.16,
          "Temperature": "20",
          "__ECDF": 0.037037037037037035
         },
         {
          "Fluorescence": 8350.16,
          "Temperature": "20",
          "__ECDF": 0.07407407407407407
         },
         {
          "Fluorescence": 8404.338,
          "Temperature": "20",
          "__ECDF": 0.07407407407407407
         },
         {
          "Fluorescence": 8404.338,
          "Temperature": "20",
          "__ECDF": 0.1111111111111111
         },
         {
          "Fluorescence": 9851.121,
          "Temperature": "20",
          "__ECDF": 0.1111111111111111
         },
         {
          "Fluorescence": 9851.121,
          "Temperature": "20",
          "__ECDF": 0.14814814814814814
         },
         {
          "Fluorescence": 10092.92,
          "Temperature": "20",
          "__ECDF": 0.14814814814814814
         },
         {
          "Fluorescence": 10092.92,
          "Temperature": "20",
          "__ECDF": 0.18518518518518517
         },
         {
          "Fluorescence": 10095.31,
          "Temperature": "20",
          "__ECDF": 0.18518518518518517
         },
         {
          "Fluorescence": 10095.31,
          "Temperature": "20",
          "__ECDF": 0.2222222222222222
         },
         {
          "Fluorescence": 10261.6,
          "Temperature": "20",
          "__ECDF": 0.2222222222222222
         },
         {
          "Fluorescence": 10261.6,
          "Temperature": "20",
          "__ECDF": 0.25925925925925924
         },
         {
          "Fluorescence": 10938.8,
          "Temperature": "20",
          "__ECDF": 0.25925925925925924
         },
         {
          "Fluorescence": 10938.8,
          "Temperature": "20",
          "__ECDF": 0.2962962962962963
         },
         {
          "Fluorescence": 11349.04,
          "Temperature": "20",
          "__ECDF": 0.2962962962962963
         },
         {
          "Fluorescence": 11349.04,
          "Temperature": "20",
          "__ECDF": 0.3333333333333333
         },
         {
          "Fluorescence": 11383.33,
          "Temperature": "20",
          "__ECDF": 0.3333333333333333
         },
         {
          "Fluorescence": 11383.33,
          "Temperature": "20",
          "__ECDF": 0.37037037037037035
         },
         {
          "Fluorescence": 11444.18,
          "Temperature": "20",
          "__ECDF": 0.37037037037037035
         },
         {
          "Fluorescence": 11444.18,
          "Temperature": "20",
          "__ECDF": 0.4074074074074074
         },
         {
          "Fluorescence": 11703.01,
          "Temperature": "20",
          "__ECDF": 0.4074074074074074
         },
         {
          "Fluorescence": 11703.01,
          "Temperature": "20",
          "__ECDF": 0.4444444444444444
         },
         {
          "Fluorescence": 12594.02,
          "Temperature": "20",
          "__ECDF": 0.4444444444444444
         },
         {
          "Fluorescence": 12594.02,
          "Temperature": "20",
          "__ECDF": 0.48148148148148145
         },
         {
          "Fluorescence": 12839.65,
          "Temperature": "20",
          "__ECDF": 0.48148148148148145
         },
         {
          "Fluorescence": 12839.65,
          "Temperature": "20",
          "__ECDF": 0.5185185185185185
         },
         {
          "Fluorescence": 13687.15,
          "Temperature": "20",
          "__ECDF": 0.5185185185185185
         },
         {
          "Fluorescence": 13687.15,
          "Temperature": "20",
          "__ECDF": 0.5555555555555556
         },
         {
          "Fluorescence": 14445.49,
          "Temperature": "20",
          "__ECDF": 0.5555555555555556
         },
         {
          "Fluorescence": 14445.49,
          "Temperature": "20",
          "__ECDF": 0.5925925925925926
         },
         {
          "Fluorescence": 14456.7,
          "Temperature": "20",
          "__ECDF": 0.5925925925925926
         },
         {
          "Fluorescence": 14456.7,
          "Temperature": "20",
          "__ECDF": 0.6296296296296297
         },
         {
          "Fluorescence": 15120.23,
          "Temperature": "20",
          "__ECDF": 0.6296296296296297
         },
         {
          "Fluorescence": 15120.23,
          "Temperature": "20",
          "__ECDF": 0.6666666666666666
         },
         {
          "Fluorescence": 15341.68,
          "Temperature": "20",
          "__ECDF": 0.6666666666666666
         },
         {
          "Fluorescence": 15341.68,
          "Temperature": "20",
          "__ECDF": 0.7037037037037037
         },
         {
          "Fluorescence": 15657.5,
          "Temperature": "20",
          "__ECDF": 0.7037037037037037
         },
         {
          "Fluorescence": 15657.5,
          "Temperature": "20",
          "__ECDF": 0.7407407407407407
         },
         {
          "Fluorescence": 17025.58,
          "Temperature": "20",
          "__ECDF": 0.7407407407407407
         },
         {
          "Fluorescence": 17025.58,
          "Temperature": "20",
          "__ECDF": 0.7777777777777778
         },
         {
          "Fluorescence": 17079.49,
          "Temperature": "20",
          "__ECDF": 0.7777777777777778
         },
         {
          "Fluorescence": 17079.49,
          "Temperature": "20",
          "__ECDF": 0.8148148148148148
         },
         {
          "Fluorescence": 17499.83,
          "Temperature": "20",
          "__ECDF": 0.8148148148148148
         },
         {
          "Fluorescence": 17499.83,
          "Temperature": "20",
          "__ECDF": 0.8518518518518519
         },
         {
          "Fluorescence": 19347.14,
          "Temperature": "20",
          "__ECDF": 0.8518518518518519
         },
         {
          "Fluorescence": 19347.14,
          "Temperature": "20",
          "__ECDF": 0.8888888888888888
         },
         {
          "Fluorescence": 22372.43,
          "Temperature": "20",
          "__ECDF": 0.8888888888888888
         },
         {
          "Fluorescence": 22372.43,
          "Temperature": "20",
          "__ECDF": 0.9259259259259259
         },
         {
          "Fluorescence": 22479.83,
          "Temperature": "20",
          "__ECDF": 0.9259259259259259
         },
         {
          "Fluorescence": 22479.83,
          "Temperature": "20",
          "__ECDF": 0.9629629629629629
         },
         {
          "Fluorescence": 33739.14,
          "Temperature": "20",
          "__ECDF": 0.9629629629629629
         },
         {
          "Fluorescence": 33739.14,
          "Temperature": "20",
          "__ECDF": 1
         },
         {
          "Fluorescence": 45200.855149999996,
          "Temperature": "20",
          "__ECDF": 1
         },
         {
          "Fluorescence": 1147.2818499999998,
          "Temperature": "25",
          "__ECDF": 0
         },
         {
          "Fluorescence": 7709.297,
          "Temperature": "25",
          "__ECDF": 0
         },
         {
          "Fluorescence": 7709.297,
          "Temperature": "25",
          "__ECDF": 0.038461538461538464
         },
         {
          "Fluorescence": 11297.41,
          "Temperature": "25",
          "__ECDF": 0.038461538461538464
         },
         {
          "Fluorescence": 11297.41,
          "Temperature": "25",
          "__ECDF": 0.07692307692307693
         },
         {
          "Fluorescence": 11876.02,
          "Temperature": "25",
          "__ECDF": 0.07692307692307693
         },
         {
          "Fluorescence": 11876.02,
          "Temperature": "25",
          "__ECDF": 0.11538461538461539
         },
         {
          "Fluorescence": 12071.33,
          "Temperature": "25",
          "__ECDF": 0.11538461538461539
         },
         {
          "Fluorescence": 12071.33,
          "Temperature": "25",
          "__ECDF": 0.15384615384615385
         },
         {
          "Fluorescence": 12140.31,
          "Temperature": "25",
          "__ECDF": 0.15384615384615385
         },
         {
          "Fluorescence": 12140.31,
          "Temperature": "25",
          "__ECDF": 0.19230769230769232
         },
         {
          "Fluorescence": 12173.06,
          "Temperature": "25",
          "__ECDF": 0.19230769230769232
         },
         {
          "Fluorescence": 12173.06,
          "Temperature": "25",
          "__ECDF": 0.23076923076923078
         },
         {
          "Fluorescence": 12538.9,
          "Temperature": "25",
          "__ECDF": 0.23076923076923078
         },
         {
          "Fluorescence": 12538.9,
          "Temperature": "25",
          "__ECDF": 0.2692307692307692
         },
         {
          "Fluorescence": 13168.06,
          "Temperature": "25",
          "__ECDF": 0.2692307692307692
         },
         {
          "Fluorescence": 13168.06,
          "Temperature": "25",
          "__ECDF": 0.3076923076923077
         },
         {
          "Fluorescence": 13274.08,
          "Temperature": "25",
          "__ECDF": 0.3076923076923077
         },
         {
          "Fluorescence": 13274.08,
          "Temperature": "25",
          "__ECDF": 0.34615384615384615
         },
         {
          "Fluorescence": 13393.35,
          "Temperature": "25",
          "__ECDF": 0.34615384615384615
         },
         {
          "Fluorescence": 13393.35,
          "Temperature": "25",
          "__ECDF": 0.38461538461538464
         },
         {
          "Fluorescence": 13470.66,
          "Temperature": "25",
          "__ECDF": 0.38461538461538464
         },
         {
          "Fluorescence": 13470.66,
          "Temperature": "25",
          "__ECDF": 0.4230769230769231
         },
         {
          "Fluorescence": 14180.11,
          "Temperature": "25",
          "__ECDF": 0.4230769230769231
         },
         {
          "Fluorescence": 14180.11,
          "Temperature": "25",
          "__ECDF": 0.46153846153846156
         },
         {
          "Fluorescence": 14285.94,
          "Temperature": "25",
          "__ECDF": 0.46153846153846156
         },
         {
          "Fluorescence": 14285.94,
          "Temperature": "25",
          "__ECDF": 0.5
         },
         {
          "Fluorescence": 14313.86,
          "Temperature": "25",
          "__ECDF": 0.5
         },
         {
          "Fluorescence": 14313.86,
          "Temperature": "25",
          "__ECDF": 0.5384615384615384
         },
         {
          "Fluorescence": 14487.56,
          "Temperature": "25",
          "__ECDF": 0.5384615384615384
         },
         {
          "Fluorescence": 14487.56,
          "Temperature": "25",
          "__ECDF": 0.5769230769230769
         },
         {
          "Fluorescence": 14544.24,
          "Temperature": "25",
          "__ECDF": 0.5769230769230769
         },
         {
          "Fluorescence": 14544.24,
          "Temperature": "25",
          "__ECDF": 0.6153846153846154
         },
         {
          "Fluorescence": 15379.37,
          "Temperature": "25",
          "__ECDF": 0.6153846153846154
         },
         {
          "Fluorescence": 15379.37,
          "Temperature": "25",
          "__ECDF": 0.6538461538461539
         },
         {
          "Fluorescence": 15535.85,
          "Temperature": "25",
          "__ECDF": 0.6538461538461539
         },
         {
          "Fluorescence": 15535.85,
          "Temperature": "25",
          "__ECDF": 0.6923076923076923
         },
         {
          "Fluorescence": 16043.45,
          "Temperature": "25",
          "__ECDF": 0.6923076923076923
         },
         {
          "Fluorescence": 16043.45,
          "Temperature": "25",
          "__ECDF": 0.7307692307692307
         },
         {
          "Fluorescence": 16187.48,
          "Temperature": "25",
          "__ECDF": 0.7307692307692307
         },
         {
          "Fluorescence": 16187.48,
          "Temperature": "25",
          "__ECDF": 0.7692307692307693
         },
         {
          "Fluorescence": 16636.82,
          "Temperature": "25",
          "__ECDF": 0.7692307692307693
         },
         {
          "Fluorescence": 16636.82,
          "Temperature": "25",
          "__ECDF": 0.8076923076923077
         },
         {
          "Fluorescence": 16896.31,
          "Temperature": "25",
          "__ECDF": 0.8076923076923077
         },
         {
          "Fluorescence": 16896.31,
          "Temperature": "25",
          "__ECDF": 0.8461538461538461
         },
         {
          "Fluorescence": 16991.49,
          "Temperature": "25",
          "__ECDF": 0.8461538461538461
         },
         {
          "Fluorescence": 16991.49,
          "Temperature": "25",
          "__ECDF": 0.8846153846153846
         },
         {
          "Fluorescence": 17073.8,
          "Temperature": "25",
          "__ECDF": 0.8846153846153846
         },
         {
          "Fluorescence": 17073.8,
          "Temperature": "25",
          "__ECDF": 0.9230769230769231
         },
         {
          "Fluorescence": 18034.93,
          "Temperature": "25",
          "__ECDF": 0.9230769230769231
         },
         {
          "Fluorescence": 18034.93,
          "Temperature": "25",
          "__ECDF": 0.9615384615384616
         },
         {
          "Fluorescence": 18205.84,
          "Temperature": "25",
          "__ECDF": 0.9615384615384616
         },
         {
          "Fluorescence": 18205.84,
          "Temperature": "25",
          "__ECDF": 1
         },
         {
          "Fluorescence": 45200.855149999996,
          "Temperature": "25",
          "__ECDF": 1
         }
        ]
       },
       "hconcat": [
        {
         "data": {
          "name": "data-ade24174e1801e68ede35b99f01d0810"
         },
         "encoding": {
          "color": {
           "field": "Temperature",
           "scale": {
            "scheme": "set2"
           },
           "title": "Temperature",
           "type": "nominal"
          },
          "order": {
           "field": "Fluorescence",
           "sort": "ascending",
           "type": "quantitative"
          },
          "x": {
           "field": "Fluorescence",
           "scale": {
            "domain": [
             0,
             45000
            ]
           },
           "title": "Fluorescence (Genotype = sc)",
           "type": "quantitative"
          },
          "y": {
           "field": "__ECDF",
           "title": "ECDF",
           "type": "quantitative"
          }
         },
         "height": 200,
         "mark": {
          "type": "line"
         },
         "width": 250
        },
        {
         "data": {
          "name": "data-0334b00b521907eb9071e86573e9661d"
         },
         "encoding": {
          "color": {
           "field": "Temperature",
           "scale": {
            "scheme": "set2"
           },
           "title": "Temperature",
           "type": "nominal"
          },
          "order": {
           "field": "Fluorescence",
           "sort": "ascending",
           "type": "quantitative"
          },
          "x": {
           "field": "Fluorescence",
           "scale": {
            "domain": [
             0,
             45000
            ]
           },
           "title": "Fluorescence (Genotype = sk)",
           "type": "quantitative"
          },
          "y": {
           "field": "__ECDF",
           "title": "ECDF",
           "type": "quantitative"
          }
         },
         "height": 200,
         "mark": {
          "type": "line"
         },
         "width": 250
        },
        {
         "data": {
          "name": "data-d8ef77111493b998dc90a8b7f8deb399"
         },
         "encoding": {
          "color": {
           "field": "Temperature",
           "scale": {
            "scheme": "set2"
           },
           "title": "Temperature",
           "type": "nominal"
          },
          "order": {
           "field": "Fluorescence",
           "sort": "ascending",
           "type": "quantitative"
          },
          "x": {
           "field": "Fluorescence",
           "scale": {
            "domain": [
             0,
             45000
            ]
           },
           "title": "Fluorescence (Genotype = m3)",
           "type": "quantitative"
          },
          "y": {
           "field": "__ECDF",
           "title": "ECDF",
           "type": "quantitative"
          }
         },
         "height": 200,
         "mark": {
          "type": "line"
         },
         "width": 250
        }
       ]
      },
      "image/png": "[encoded data removed]",
      "text/plain": [
       "<VegaLite 2 object>\n",
       "\n",
       "If you see this message, it means the renderer has not been properly enabled\n",
       "for the frontend that you are using. For more information, see\n",
       "https://altair-viz.github.io/user_guide/troubleshooting.html\n"
      ]
     },
     "execution_count": 12,
     "metadata": {},
     "output_type": "execute_result"
    }
   ],
   "source": [
    "for g in df_tidy['Genotype'].unique().astype('str'):\n",
    "    p_temp = altcat.catplot(data=df_tidy.loc[df_tidy['Genotype'] == g,:],\n",
    "                        height=200,\n",
    "                        width=250,\n",
    "                        mark='line',\n",
    "                        encoding=dict(x=alt.X('Fluorescence:Q',scale=axis_scale,title='Fluorescence (Genotype = ' + g + ')'),\n",
    "                                     color=alt.Color('Temperature:N', title='Temperature', scale=alt.Scale(scheme='set2'))),\n",
    "                        transform='ecdf')\n",
    "    p.append(p_temp)\n",
    "\n",
    "p[-3] | p[-2] | p[-1]"
   ]
  },
  {
   "cell_type": "markdown",
   "metadata": {},
   "source": [
    "<p style=\"background-color:#D9EDF7\">\n",
    "    Why did you choose to treat temperature as a \"nominal\" (unordered) data type?<br>\n",
    "</p>"
   ]
  },
  {
   "cell_type": "markdown",
   "metadata": {},
   "source": [
    "We can tell from the first plot that the original Gal4 was barely working at lower temperatures like 15 &deg;C and 20 &deg;C, and its performance was much improved when the temperature rose to 25 &deg;C. In the cool Gal4 case, the cool Gal4 had a significant fluorescence readings at the lowest temperature, indicting that it was working properly in this temperature, while the readings kept increasing gradually along with the temperature. \n",
    "\n",
    "For the control, the expression level was only slighly different among those temperatures, but in all of the cases, the promoter was working well and expressing the driver at a similar level."
   ]
  },
  {
   "cell_type": "markdown",
   "metadata": {},
   "source": [
    "<p style=\"background-color:#D9EDF7\">\n",
    "    <b>(c): 15/15</b><br>\n",
    "    Helpful visualization of the data, and nice explanation of your rationale for the different plots.  You also gave a detailed discussion of the results for the biological question at hand.\n",
    "</p>"
   ]
  },
  {
   "cell_type": "code",
   "execution_count": 13,
   "metadata": {},
   "outputs": [],
   "source": [
    "%load_ext watermark"
   ]
  },
  {
   "cell_type": "code",
   "execution_count": 14,
   "metadata": {},
   "outputs": [
    {
     "name": "stdout",
     "output_type": "stream",
     "text": [
      "CPython 3.6.6\n",
      "IPython 6.5.0\n",
      "\n",
      "numpy 1.15.2\n",
      "pandas 0.23.4\n",
      "altair 2.2.2\n",
      "jupyterlab 0.35.0\n"
     ]
    }
   ],
   "source": [
    "%watermark -v -p numpy,pandas,altair,jupyterlab"
   ]
  },
  {
   "cell_type": "markdown",
   "metadata": {},
   "source": [
    "<p style=\"background-color:#D9EDF7\">\n",
    "    <b>Total: 24.5/25</b><br>\n",
    "    Great work!  In particular, your explanations of the thought process behind each step in the workflow were excellent.<br><br>\n",
    "    -0.5: Please include attributions for the contributions of each group member at the top of every file.<br>\n",
    "</p>"
   ]
  }
 ],
 "metadata": {
  "kernelspec": {
   "display_name": "Python 3",
   "language": "python",
   "name": "python3"
  },
  "language_info": {
   "codemirror_mode": {
    "name": "ipython",
    "version": 3
   },
   "file_extension": ".py",
   "mimetype": "text/x-python",
   "name": "python",
   "nbconvert_exporter": "python",
   "pygments_lexer": "ipython3",
   "version": "3.6.6"
  }
 },
 "nbformat": 4,
 "nbformat_minor": 2
}
