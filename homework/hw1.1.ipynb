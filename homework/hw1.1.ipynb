{
 "cells": [
  {
   "cell_type": "markdown",
   "metadata": {},
   "source": [
    "### Problem 1.1 (Our goals)"
   ]
  },
  {
   "cell_type": "markdown",
   "metadata": {},
   "source": [
    "##### Zhiyang Jin:\n",
    "\n",
    "My general goal for the class to the learn approaches of analyzing and presenting data more convincingly. Specifically, I would love to learn more about applications of statistic knowledge in biology,including the how to choose and use various methods. Also I want to learn methods to present massive data clearly, meaningfully and elegantly. Besides those two, playing more with python and using more packages could be the last sub-goal of mine.\n",
    "\n",
    "I will definitely use the skills in my future research, since we will need to analyze noisy data that can be interpreted in many ways, so finding a statistically convincing way of illustrating data is quite important. Also, a lot of data sometime needs to be presented in one single figure and I do now have trouble figuring out a good way to do that even with many trials. I think those skills may apply to the design of my future experiments for better data specificity, while python programming skills, though not the key of this class, will definitely be used in different scenarios.\n",
    "\n",
    "I would like to learn different ways to do significance test and more about the basic ideas of it. I feel in most case I just use the most common one and use it without considering the rationale inside, which is kind of concerning to me. As mentioned above, I hope to learn a better way to present massive data in a clean and informative manner as well."
   ]
  },
  {
   "cell_type": "markdown",
   "metadata": {},
   "source": [
    "##### Xinhong Chen:\n",
    "\n",
    "Goal: Understand the logic underly varieties of data analysis method and apply them to my research in the lab\n",
    "\n",
    "Context: Interested in understanding the interaction between neuron system and immune system, I am utilizing established imaging methods to record the real-time activity of neurons and try developing tools to genetically perturbed the function of immune cells. For the neuron part, I hope to apply the skills in signal extraction, denoising and image processing. And engineering AAV capsid by direct evolution is my main focus for tool development in immune system, which involves regression, parameters estimation and other skills.\n",
    "\n",
    "Skills: Imaging processing , parameter estimation and Building Hierarchical Model. Tidy and analyze large dataset in a more efficient manner, also present them in a more elegant way. \n"
   ]
  },
  {
   "cell_type": "markdown",
   "metadata": {},
   "source": [
    "##### Maddie Wang:\n",
    "\n",
    "This summer, I was working at the Allen Institute working a project studying deep brain stimulation (DBS). DBS is currently used as a treatment for neurological diseases and disorders like Parkinson's and depression, but it's not well understood. To try and better understand the mechanism, I was performing simulations to study how a neuron responds to electrical stimulation at the single-cell level. As I was analyzing the data, I mostly plotted data, did some p-value testing, and worked with the data in pandas dataframes. However, the internship was pretty short (~9 weeks), so I felt that there was a lot more I could learn or skills that I could improve on, and I think this class will help me develop those skills. One thing that was interesting but that we didn't really discuss was how to choose and perform statistical testing. \n",
    "\n",
    "I can imagine myself using what I learn in this class in internships or future research, and I think it will generally help me in interpreting data (for example in reading papers). I've never taken statistics before, not even in high school, so I'm hoping this class will be able to teach me the basics and beyond at an interesting and practical way :) One skill I'd like to learn is how to present data in a clean, visually appealing, informative way. "
   ]
  }
 ],
 "metadata": {
  "kernelspec": {
   "display_name": "Python 3",
   "language": "python",
   "name": "python3"
  },
  "language_info": {
   "codemirror_mode": {
    "name": "ipython",
    "version": 3
   },
   "file_extension": ".py",
   "mimetype": "text/x-python",
   "name": "python",
   "nbconvert_exporter": "python",
   "pygments_lexer": "ipython3",
   "version": "3.7.0"
  }
 },
 "nbformat": 4,
 "nbformat_minor": 2
}
