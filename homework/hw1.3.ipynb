{
 "cells": [
  {
   "cell_type": "markdown",
   "metadata": {},
   "source": [
    "### Problem 1.3: Probability distribution of a marginalized parameter"
   ]
  },
  {
   "cell_type": "markdown",
   "metadata": {},
   "source": [
    "**(a)**\n",
    "Marginalization is to fully consider the influence of one parameter on a joint distribution by taking into account the probability distribution under all possible conditions concerning this parameter. Mathematically, it is to sum up (discrete parameter) or integrate the joint distribution over all possible values of this parameter, so that this parameter has been wholly considered and no longer need attention in the distribution."
   ]
  },
  {
   "cell_type": "markdown",
   "metadata": {},
   "source": [
    "**(b)**\n",
    "Consider the probability distribution $P(\\theta_2 | \\theta_1,y)$, and since $\\theta_2$ is a continuous parameter, according to the sum rule,\n",
    "\n",
    "$$\\int P(\\theta_2\\ |\\ \\theta_1,y) \\mbox{ d}\\theta_2 = 1.$$ \n",
    "\n",
    "The indefinite integral stands for all the possible values of $\\theta_2$ as we do not know anything about it. Bayes's theorem gives an expression for $P(\\theta_2 | \\theta_1,y)$, so we can compute the integral.\n",
    "\n",
    "$$\\int P(\\theta_2\\ |\\ \\theta_1,y) \\mbox{ d}\\theta_2 = \\int \\frac{P( \\theta_1,y\\ |\\ \\theta_2) P(\\theta_2)}{P( \\theta_1,y)}\\mbox{ d}\\theta_2$$\n",
    "\n",
    "The term on the right hand side $P( \\theta_1,y)$ is orthogonal to $\\theta_2$, so we can rewrite it as:\n",
    "\n",
    "$$ P( \\theta_1,y)= \\int P( \\theta_1,y\\ |\\ \\theta_2)\\ P(\\theta_2)\\mbox{ d}\\theta_2,$$\n",
    "\n",
    "$$ P(\\theta_1\\ |\\ y)\\ P(y) = \\int P(\\theta_1,y,\\theta_2) \\mbox{ d}\\theta_2 =  \\int P(\\theta_1, \\theta_2\\ |\\ y)\\ P(y) \\mbox{ d}\\theta_2.$$\n",
    "\n",
    "Similarly, $P(y)$ is irrelevant to $\\theta_2$, we can have it outside the integral:\n",
    "\n",
    "$$P(\\theta_1\\ |\\ y)\\ P(y) =\\int P(\\theta_1, \\theta_2\\ |\\ y) \\mbox{ d}\\theta_2 \\cdot P(y). $$\n",
    "\n",
    "Thus, the expression of $P(\\theta_1 | y)$ could be given by:\n",
    "\n",
    "$$P(\\theta_1\\ |\\ y) = \\int P(\\theta_1, \\theta_2\\ |\\ y)\\mbox{ d}\\theta_2 = \\int \\frac{P( y\\ |\\ \\theta_1, \\theta_2) P(\\theta_1, \\theta_2)}{P(y)}\\mbox{ d}\\theta_2$$\n",
    "\n",
    ", which is the integral of the right hand side over all possible values of $\\theta_2$."
   ]
  }
 ],
 "metadata": {
  "kernelspec": {
   "display_name": "Python 3",
   "language": "python",
   "name": "python3"
  },
  "language_info": {
   "codemirror_mode": {
    "name": "ipython",
    "version": 3
   },
   "file_extension": ".py",
   "mimetype": "text/x-python",
   "name": "python",
   "nbconvert_exporter": "python",
   "pygments_lexer": "ipython3",
   "version": "3.7.0"
  }
 },
 "nbformat": 4,
 "nbformat_minor": 2
}
