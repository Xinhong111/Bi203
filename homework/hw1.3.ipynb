{
 "cells": [
  {
   "cell_type": "markdown",
   "metadata": {},
   "source": [
    "### Problem 1.3: Probability distribution of a marginalized parameter"
   ]
  },
  {
   "cell_type": "markdown",
   "metadata": {},
   "source": [
    "**(a)**\n",
    "Marginalization is to fully consider the influence of one parameter on a joint distribution by taking into account the probability distribution under all possible conditions concerning this parameter. Mathematically, it is to sum up (discrete parameter) or integrate the joint distribution over all possible values of this parameter, so that this parameter has been wholly considered and no longer need attention in the distribution."
   ]
  },
  {
   "cell_type": "markdown",
   "metadata": {},
   "source": [
    "<p style=\"background-color:#D9EDF7\">\n",
    "    <b>(a) 10/10</b><br>\n",
    "    Great explanation!\n",
    "</p>"
   ]
  },
  {
   "cell_type": "markdown",
   "metadata": {},
   "source": [
    "**(b)**\n",
    "Consider the probability distribution $P(\\theta_2 | \\theta_1,y)$, and since $\\theta_2$ is a continuous parameter, according to the sum rule,\n",
    "\n",
    "$$\\int P(\\theta_2\\ |\\ \\theta_1,y) \\mbox{ d}\\theta_2 = 1.$$ \n",
    "\n",
    "The indefinite integral stands for all the possible values of $\\theta_2$ as we do not know anything about it. Bayes's theorem gives an expression for $P(\\theta_2 | \\theta_1,y)$, so we can compute the integral.\n",
    "\n",
    "$$\\int P(\\theta_2\\ |\\ \\theta_1,y) \\mbox{ d}\\theta_2 = \\int \\frac{P( \\theta_1,y\\ |\\ \\theta_2) P(\\theta_2)}{P( \\theta_1,y)}\\mbox{ d}\\theta_2$$\n",
    "\n",
    "The term on the right hand side $P( \\theta_1,y)$ is orthogonal to $\\theta_2$, so we can rewrite it as:\n",
    "\n",
    "$$ P( \\theta_1,y)= \\int P( \\theta_1,y\\ |\\ \\theta_2)\\ P(\\theta_2)\\mbox{ d}\\theta_2,$$\n",
    "\n",
    "$$ P(\\theta_1\\ |\\ y)\\ P(y) = \\int P(\\theta_1,y,\\theta_2) \\mbox{ d}\\theta_2 =  \\int P(\\theta_1, \\theta_2\\ |\\ y)\\ P(y) \\mbox{ d}\\theta_2.$$\n",
    "\n",
    "Similarly, $P(y)$ is irrelevant to $\\theta_2$, we can have it outside the integral:\n",
    "\n",
    "$$P(\\theta_1\\ |\\ y)\\ P(y) =\\int P(\\theta_1, \\theta_2\\ |\\ y) \\mbox{ d}\\theta_2 \\cdot P(y). $$\n",
    "\n",
    "Thus, the expression of $P(\\theta_1 | y)$ could be given by:\n",
    "\n",
    "$$P(\\theta_1\\ |\\ y) = \\int P(\\theta_1, \\theta_2\\ |\\ y)\\mbox{ d}\\theta_2 = \\int \\frac{P( y\\ |\\ \\theta_1, \\theta_2) P(\\theta_1, \\theta_2)}{P(y)}\\mbox{ d}\\theta_2$$\n",
    "\n",
    ", which is the integral of the right hand side over all possible values of $\\theta_2$."
   ]
  },
  {
   "cell_type": "markdown",
   "metadata": {},
   "source": [
    "<p style=\"background-color:#D9EDF7\">\n",
    "    <b>(b) 10/10</b><br>\n",
    "    You arrived at the correct expression, but the last line would have sufficed.  By definition, marginalization of $\\theta_2$ from the distribution $g \\left( \\theta_1, \\theta_2 \\mid y \\right)$ can be performed by integrating over $\\theta_2$, or\n",
    "\\begin{align}\n",
    "g \\left( \\theta_1 \\mid y \\right) = \\int g \\left( \\theta_1, \\theta_2 \\mid y \\right) \\, d\\theta_2\n",
    "\\end{align}\n",
    "Substituting the definition of $g \\left( \\theta_1, \\theta_2 \\mid y \\right)$ given in the problem then yields the desired expression immediately, or\n",
    "\\begin{align}\n",
    "g \\left( \\theta_1 \\mid y \\right) &= \\int \\frac{f \\left( y \\mid \\theta_1, \\theta_2 \\right) g \\left( \\theta_1, \\theta_2 \\right)}{f \\left( y \\right)} \\, d\\theta_2 \\\\\n",
    "&= \\frac{1}{f \\left( y \\right)} \\int f \\left( y \\mid \\theta_1, \\theta_2 \\right) g \\left( \\theta_1, \\theta_2 \\right) \\, d\\theta_2\n",
    "\\end{align}\n",
    "    It is not necessarily true that $\\theta_1$, $\\theta_2$, and $y$ are independent, but independence is not needed for the equations you wrote.\n",
    "</p>"
   ]
  },
  {
   "cell_type": "markdown",
   "metadata": {},
   "source": [
    "<p style=\"background-color:#D9EDF7\">\n",
    "    <b>Total: 20/20</b><br>\n",
    "    -0: In future, please include attributions in your submissions to note the contributions of each group member, per the course policies.  Also, please do not commit your data/ directory.\n",
    "</p>"
   ]
  }
 ],
 "metadata": {
  "kernelspec": {
   "display_name": "Python 3",
   "language": "python",
   "name": "python3"
  },
  "language_info": {
   "codemirror_mode": {
    "name": "ipython",
    "version": 3
   },
   "file_extension": ".py",
   "mimetype": "text/x-python",
   "name": "python",
   "nbconvert_exporter": "python",
   "pygments_lexer": "ipython3",
   "version": "3.6.6"
  }
 },
 "nbformat": 4,
 "nbformat_minor": 2
}
