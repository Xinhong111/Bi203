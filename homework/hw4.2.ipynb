{
 "cells": [
  {
   "cell_type": "markdown",
   "metadata": {},
   "source": [
    "<div class=\"alert alert-info\">\n",
    "Great job guys! Just be sure in the future to think about and discuss the assumptions you are making along the way and how that mihgt impact your interpretation of the results you plot. 55/60\n",
    "</div>"
   ]
  },
  {
   "cell_type": "markdown",
   "metadata": {},
   "source": [
    "# Problem 4.2: Caulobacter growth\n",
    "Attribution: Zhiyang did most of the hw4_2.1, Xinhong did most of the coding of hw4_2.2 and hw4_2.3, the whole group all discuss and give suggestion to each step together.We used and modified some of codes from Justin's notes.\n",
    "            "
   ]
  },
  {
   "cell_type": "code",
   "execution_count": null,
   "metadata": {},
   "outputs": [],
   "source": [
    "import numpy as np\n",
    "import pandas as pd\n",
    "import glob\n",
    "import os\n",
    "\n",
    "# A whole bunch of skimage stuff\n",
    "import skimage\n",
    "import skimage.feature\n",
    "import skimage.filters\n",
    "import skimage.filters.rank\n",
    "import skimage.io\n",
    "import skimage.morphology\n",
    "import skimage.segmentation\n",
    "\n",
    "# And some useful scipy.ndimage stuff\n",
    "import scipy.ndimage\n",
    "\n",
    "import bebi103\n",
    "\n",
    "import altair as alt\n",
    "\n",
    "import bokeh\n",
    "bokeh.io.output_notebook()"
   ]
  },
  {
   "cell_type": "markdown",
   "metadata": {},
   "source": [
    "### hw4_2.1\n",
    "To start, we find the all the sequential images from the directory, and see how many images we've got to make sure it is the right directory."
   ]
  },
  {
   "cell_type": "code",
   "execution_count": null,
   "metadata": {},
   "outputs": [],
   "source": [
    "# The directory containing sequential images of bacteria\n",
    "data_dir = '../../data/iyer_biswas_et_al/sequential_full_field'\n",
    "\n",
    "# Glob string for images\n",
    "im_glob = os.path.join(data_dir, '*.tif')\n",
    "\n",
    "# Get list of files in directory\n",
    "im_list = sorted(glob.glob(im_glob))\n",
    "\n",
    "# Let's look at the entries\n",
    "im_list[:]"
   ]
  },
  {
   "cell_type": "markdown",
   "metadata": {},
   "source": [
    "We used the code from last homework, which would load those images as a collection and we also took a look at the length of the list to make sure that all images are loaded."
   ]
  },
  {
   "cell_type": "code",
   "execution_count": null,
   "metadata": {},
   "outputs": [],
   "source": [
    "# Load in TIFF stack\n",
    "ic = skimage.io.ImageCollection(im_glob,\n",
    "                                conserve_memory=False)\n",
    "\n",
    "# How long is it?\n",
    "print('There are {0:d} frames.'.format(len(ic)))"
   ]
  },
  {
   "cell_type": "markdown",
   "metadata": {},
   "source": [
    "Take a look at one of the image to see what it is like:"
   ]
  },
  {
   "cell_type": "code",
   "execution_count": null,
   "metadata": {},
   "outputs": [],
   "source": [
    "ic[0]"
   ]
  },
  {
   "cell_type": "markdown",
   "metadata": {},
   "source": [
    "Firstly, we want to look at all the images."
   ]
  },
  {
   "cell_type": "code",
   "execution_count": null,
   "metadata": {},
   "outputs": [],
   "source": [
    "# Define interpixel distance given by the dataset.\n",
    "ip = 0.052\n",
    "\n",
    "# Use the frame ID as the name for plots\n",
    "im_names = '0123456789'\n",
    "\n",
    "plots = [bebi103.viz.imshow(im,\n",
    "                            plot_height=300,\n",
    "                            title=name,\n",
    "                            interpixel_distance=ip,\n",
    "                            length_units='µm')\n",
    "             for name, im in zip(im_names, ic)]\n",
    "\n",
    "bokeh.io.show(bokeh.layouts.gridplot(plots, ncols=2))"
   ]
  },
  {
   "cell_type": "markdown",
   "metadata": {},
   "source": [
    "They don't look that different, so we take one of them to try different image segmentation methods and then apply the best one on all of them to test. We just arbitrarily choose the fifth image to go with. Take a close look, and for the convenience of finding optimal zoom areas (potential ROIs), we plot it with pixel numbers instead of actual scales."
   ]
  },
  {
   "cell_type": "code",
   "execution_count": null,
   "metadata": {},
   "outputs": [],
   "source": [
    "# Take a copy of the fifth image in the collection.\n",
    "im = np.copy(ic[4])\n",
    "\n",
    "plots = [[bebi103.viz.imshow(im,\n",
    "                            plot_height=500,\n",
    "                            title='Test copy',\n",
    "                            interpixel_distance=ip,\n",
    "                            length_units='pixels')]]\n",
    "\n",
    "bokeh.io.show(bokeh.layouts.gridplot(plots))"
   ]
  },
  {
   "cell_type": "markdown",
   "metadata": {},
   "source": [
    "By just looking at this image, we can see some parts that would probably not be easy to segment. For instance, the bottom part has a lot of string-like artifacts, and so does the upper bottom part. There are also a couple of regions where some bacteria cluster together, thus we can give some conditions to choose bacteria for long time course imaging: \n",
    "\n",
    "1. Well separated with other bacteria;\n",
    "2. Away from any types of artifacts;\n",
    "3. Uniform lighting through single bactrium;\n",
    "4. The fixed bacteria do not move among frames.\n",
    "\n",
    "But we will not zoom to some speicific regions now; we plan to do some basic segmentation first to make sure our conditions work as expected."
   ]
  },
  {
   "cell_type": "markdown",
   "metadata": {},
   "source": [
    "As we proceed, we need to demonstrate the differences before and after segmentation, so we borrow this nice function from Justin's notes and make some modifications for convenient changes between pixel number and actual scale."
   ]
  },
  {
   "cell_type": "code",
   "execution_count": null,
   "metadata": {},
   "outputs": [],
   "source": [
    "def show_two_ims(im_1, im_2, titles=[None, None], interpixel_distances=[],\n",
    "                 color_mapper=None):\n",
    "    \"\"\"Convenient function for showing two images side by side.\"\"\"\n",
    "    if len(interpixel_distances) == 2:\n",
    "        p_1 = bebi103.viz.imshow(im_1,\n",
    "                                 plot_height=300,\n",
    "                                 title=titles[0],\n",
    "                                 color_mapper=color_mapper,\n",
    "                                 interpixel_distance=interpixel_distances[0],\n",
    "                                 length_units='µm')\n",
    "        p_2 = bebi103.viz.imshow(im_2,\n",
    "                                 plot_height=300,\n",
    "                                 title=titles[1],\n",
    "                                 color_mapper=color_mapper,\n",
    "                                 interpixel_distance=interpixel_distances[0],\n",
    "                                 length_units='µm')\n",
    "        p_2.x_range = p_1.x_range\n",
    "        p_2.y_range = p_1.y_range\n",
    "    else:\n",
    "        p_1 = bebi103.viz.imshow(im_1,\n",
    "                                 plot_height=300,\n",
    "                                 title=titles[0],\n",
    "                                 color_mapper=color_mapper,\n",
    "                                 length_units='pixels')\n",
    "        p_2 = bebi103.viz.imshow(im_2,\n",
    "                                 plot_height=300,\n",
    "                                 title=titles[1],\n",
    "                                 color_mapper=color_mapper,\n",
    "                                 length_units='pixels')\n",
    "        p_2.x_range = p_1.x_range\n",
    "        p_2.y_range = p_1.y_range\n",
    "    \n",
    "    return bokeh.layouts.gridplot([p_1, p_2], ncols=2)"
   ]
  },
  {
   "cell_type": "markdown",
   "metadata": {},
   "source": [
    "We did the Gaussian blur first just to check whether the background lighting is uniform or not."
   ]
  },
  {
   "cell_type": "code",
   "execution_count": null,
   "metadata": {},
   "outputs": [],
   "source": [
    "# Convert image to float\n",
    "im_float = skimage.img_as_float(im)\n",
    "\n",
    "# Filter the image with a strong Gaussian blur\n",
    "im_bg = skimage.filters.gaussian(im_float, 200.0)\n",
    "\n",
    "bokeh.io.show(show_two_ims(im_float, im_bg, titles=['original', 'background']))"
   ]
  },
  {
   "cell_type": "markdown",
   "metadata": {},
   "source": [
    "The background is not very uniform, but the purpose of ours is just to segment out the bacteria and we would like to do some threshold anyway, thus we choose not to do the background substration for now. Also, once we find that once converted to float number, the image cannot go through some function that requires uint8 or uint16 data type, like skimage.filter.rank.mean. "
   ]
  },
  {
   "cell_type": "markdown",
   "metadata": {},
   "source": [
    "Now, we want to start with the easiest thresholding methods like manually defining the threshould by looking at the histogram of the image, so we plot the histogram first.\n",
    "\n"
   ]
  },
  {
   "cell_type": "code",
   "execution_count": null,
   "metadata": {},
   "outputs": [],
   "source": [
    "# Compute histograms\n",
    "hist_bins = skimage.exposure.histogram(im)\n",
    "\n",
    "def plot_hist(hist_bin, title, y_axis_type='linear'):\n",
    "    \"\"\"Make plot of image histogram.\"\"\"\n",
    "    p = bokeh.plotting.figure(plot_height=300,\n",
    "                              plot_width=400,\n",
    "                              y_axis_type=y_axis_type,\n",
    "                              x_axis_label='intensity',\n",
    "                              y_axis_label='count',\n",
    "                              title=title)\n",
    "    hist, bins = hist_bin\n",
    "    p.line(bins, hist, line_width=2)\n",
    "\n",
    "    return p\n",
    "\n",
    "# Display histograms\n",
    "plots = [[plot_hist(hist_bins, 'Histogram','log')]]\n",
    "bokeh.io.show(bokeh.layouts.gridplot(plots))"
   ]
  },
  {
   "cell_type": "markdown",
   "metadata": {},
   "source": [
    "It looks like the turnover point is around 4000 where we suppose most of the background would add in, so we choose 4000 as the threshold for the manual thresholding."
   ]
  },
  {
   "cell_type": "code",
   "execution_count": null,
   "metadata": {},
   "outputs": [],
   "source": [
    "# Threshold image\n",
    "thesh = 4000\n",
    "im_bw = im < thesh\n",
    "\n",
    "# Take a look\n",
    "bokeh.io.show(show_two_ims(im,\n",
    "                           im_bw,\n",
    "                           titles=['original', 'thresholded']))"
   ]
  },
  {
   "cell_type": "markdown",
   "metadata": {},
   "source": [
    "It looks okay. There are some 'bright' bacteria lost in the processing, but we do not need all of them to show up properly. There are also some artifacts around the edge and some small dots which we can use the clear border and remove small object functions to clean up."
   ]
  },
  {
   "cell_type": "code",
   "execution_count": null,
   "metadata": {},
   "outputs": [],
   "source": [
    "# Clear the border\n",
    "im_bw = skimage.segmentation.clear_border(im_bw)\n",
    "\n",
    "# Remove all the small objects\n",
    "im_bw = skimage.morphology.remove_small_objects(im_bw, min_size=400)\n",
    "\n",
    "# Take a look\n",
    "bokeh.io.show(show_two_ims(im,\n",
    "                           im_bw,\n",
    "                           titles=['original', 'thresholded']))"
   ]
  },
  {
   "cell_type": "markdown",
   "metadata": {},
   "source": [
    "It is actually not bad, though we lose a significant number of bacteria. As expected, those regions that have clustered bacteria or some artifacts cannot show up well in the processed image. However, it is kind of tricky to pick the threshold by just looking at the histogram, so we try to use the function Justin gives in the notes, which would compare each pixel values with its local mean."
   ]
  },
  {
   "cell_type": "code",
   "execution_count": null,
   "metadata": {},
   "outputs": [],
   "source": [
    "def bebi103_thresh(im, selem, white_true=True, k_range=(0.5, 1.5), min_size=100):\n",
    "    \"\"\"\n",
    "    Threshold image as described above.  Morphological mean filter is \n",
    "    applied using selem.\n",
    "    \"\"\"    \n",
    "    # Determine comparison operator\n",
    "    if white_true:\n",
    "        compare = np.greater\n",
    "        sign = -1\n",
    "    else:\n",
    "        compare = np.less\n",
    "        sign = 1\n",
    "    \n",
    "    # Do the mean filter\n",
    "    im_mean = skimage.filters.rank.mean(im, selem)\n",
    "\n",
    "    # Compute number of pixels in binary image as a function of k\n",
    "    k = np.linspace(k_range[0], k_range[1], 100)\n",
    "    n_pix = np.empty_like(k)\n",
    "    for i in range(len(k)):\n",
    "        n_pix[i] = compare(im, k[i] * im_mean).sum() \n",
    "\n",
    "    # Compute rough second derivative\n",
    "    dn_pix_dk2 = np.diff(np.diff(n_pix))\n",
    "\n",
    "    # Find index of maximal second derivative\n",
    "    max_ind = np.argmax(sign * dn_pix_dk2)\n",
    "\n",
    "    # Use this index to set k\n",
    "    k_opt = k[max_ind - sign * 2]\n",
    "\n",
    "    # Threshold with this k\n",
    "    im_bw = compare(im, k_opt * im_mean)\n",
    "\n",
    "    # Remove all the small objects\n",
    "    im_bw = skimage.morphology.remove_small_objects(im_bw, min_size=min_size)\n",
    "\n",
    "    return im_bw, k_opt\n",
    "\n",
    "# Make the structuring element 50 pixel radius disk\n",
    "selem = skimage.morphology.disk(50)\n",
    "\n",
    "# Threshhold based on mean filter\n",
    "im_bw_1, k = bebi103_thresh(im, selem, white_true=False, k_range=(0.5, 0.8), min_size=400)\n",
    "\n",
    "# Clear the border\n",
    "im_bw_1 = skimage.segmentation.clear_border(im_bw_1)\n",
    "\n",
    "bokeh.io.show(show_two_ims(im_float,\n",
    "                           im_bw_1,\n",
    "                           titles=['original', 'Auto_thres']))"
   ]
  },
  {
   "cell_type": "markdown",
   "metadata": {},
   "source": [
    "More bacteria are gone but so are the artifacts, and those meet all of our conditions stay intact. We do play with two parameters a little bit: the size of structuring element and the range of the threshold ratio $k$. The biggest problem we encounter is the tails of bacteria showing up sometimes, so we try to decrease the size of structuring element, which does help but would also lead to some missing pixels inside bacteria. So we go with the 50 pixel radius disk as our structuring element, and tune down the ratio so that the pixels only with high enough contrast, i.e. here those whose intensity is significantly lower than the local mean, to eliminate the tail in segmented images. Due to the tail problem, we also try a similar way to automatically find a good threshold, but instead of comparing the pixel intensity with its local mean, we may compare it with some fixed values."
   ]
  },
  {
   "cell_type": "code",
   "execution_count": null,
   "metadata": {},
   "outputs": [],
   "source": [
    "def bebi103_thresh_new(im, white_true=True, k_range=[], \n",
    "                   min_size=100):\n",
    "    \"\"\"\n",
    "    Absolute threshold finder\n",
    "    \"\"\"    \n",
    "    # Determine comparison operator\n",
    "    if white_true:\n",
    "        compare = np.greater\n",
    "        sign = -1\n",
    "    else:\n",
    "        compare = np.less\n",
    "        sign = 1\n",
    "    \n",
    "    if len(k_range) == 2:\n",
    "        k = np.linspace(k_range[0], k_range[1], 1000)\n",
    "    else:\n",
    "        k = np.linspace(im.min(),im.max(),1000)\n",
    "        \n",
    "    n_pix = np.empty_like(k)\n",
    "    for i in range(len(k)):\n",
    "        n_pix[i] = compare(im, k[i]).sum()\n",
    "        \n",
    "    # Compute rough second derivative\n",
    "    dn_pix_dk2 = np.diff(np.diff(n_pix))\n",
    "        \n",
    "    # Find index of maximal second derivative\n",
    "    max_ind = np.argmax(sign * dn_pix_dk2)\n",
    "        \n",
    "    # Use this index to set k\n",
    "    k_opt = k[max_ind - sign * 2]\n",
    "        \n",
    "    # Threshold with this k\n",
    "    im_bw = compare(im, k_opt)\n",
    "    \n",
    "    # Clear the border\n",
    "    im_bw = skimage.segmentation.clear_border(im_bw)\n",
    "\n",
    "    # Remove all the small objects\n",
    "    im_bw = skimage.morphology.remove_small_objects(im_bw, min_size=min_size)\n",
    "\n",
    "    return im_bw, k_opt\n",
    "\n",
    "\n",
    "# Threshhold based on mean filter\n",
    "im_bw_2, k = bebi103_thresh_new(im, white_true=False, k_range=(3600,4000),min_size=400)\n",
    "\n",
    "bokeh.io.show(show_two_ims(im_float,\n",
    "                           im_bw_2,\n",
    "                           titles=['original', 'New_auto_thres']))"
   ]
  },
  {
   "cell_type": "markdown",
   "metadata": {},
   "source": [
    "This function still requires us to speicify a certain range for the optimal thresholding, and works quite similarily with the manual thresholding. But anyway, we think it is good enough for us to select bacteria for further analysis. We did try other advanced edge finder functions, but they all did not work well probably due to the tail problem. We suspect the reason is that no matter how we tune the parameters, those methods are mostly based on gradient, while the beginning parts of the tails usually have a similar gradient with bacterial bodies. Hence, we decide to go with the basic threshold methods and choose best bacteria based on those images."
   ]
  },
  {
   "cell_type": "markdown",
   "metadata": {},
   "source": [
    "Now, we think it is better to choose bacteria that are undergoing division, because this is what we really care about. Choosing those are not dividing would give risk that something weird might happen when they actually divide. Combined with aforementioned conditions, we choose several 'ROIs' to select. For convenience, we write a function to generate our zoom slice from start points and sizs, since the image is actually displayed upside down due to the coordinate problem. "
   ]
  },
  {
   "cell_type": "code",
   "execution_count": null,
   "metadata": {},
   "outputs": [],
   "source": [
    "def zoom_finder(im, x_start, y_start, size=120):\n",
    "    \"\"\"\n",
    "    Generate zoom slice from start point and size\n",
    "    \"\"\"\n",
    "    _, y = im.shape\n",
    "    return np.s_[(y - size - y_start):(y - y_start), x_start:(x_start + size)]"
   ]
  },
  {
   "cell_type": "markdown",
   "metadata": {},
   "source": [
    "And then we locate 3 regions that we think contain the most promising bacteria, the first two of which contains one bacterium of interest, while the last one contains multiple. We would like to further select from the last one after some test segmentation."
   ]
  },
  {
   "cell_type": "code",
   "execution_count": null,
   "metadata": {},
   "outputs": [],
   "source": [
    "# Zoom start points and sizes\n",
    "zoom_start = [[590, 260, 120], [715, 375, 120],[125, 250, 400]]\n",
    "\n",
    "#Generate zoom slices\n",
    "zooms = []\n",
    "for i in range(len(zoom_start)):\n",
    "    zooms.append(zoom_finder(im, zoom_start[i][0], zoom_start[i][1], zoom_start[i][2]))\n",
    "\n",
    "#Plot out 3 ROIs in actual scale\n",
    "names = '123'\n",
    "plots = [bebi103.viz.imshow(im[zoom],\n",
    "                            plot_height=300,\n",
    "                            title=name,\n",
    "                            interpixel_distance=ip,\n",
    "                            length_units='µm')\n",
    "             for zoom, name in zip(zooms, names)]\n",
    "\n",
    "bokeh.io.show(bokeh.layouts.gridplot(plots, ncols=3))"
   ]
  },
  {
   "cell_type": "markdown",
   "metadata": {},
   "source": [
    "Let's try to see the segmented versions of those, we write a modified version of show_two_ims."
   ]
  },
  {
   "cell_type": "code",
   "execution_count": null,
   "metadata": {},
   "outputs": [],
   "source": [
    "def show_4_ims(im_1, im_2, im_3, im_4, titles=[None, None, None, None], interpixel_distances=[ip, ip, ip, ip],\n",
    "                 color_mapper=None):\n",
    "    \"\"\"Convenient function for showing four images side by side.\"\"\"\n",
    "    p_1 = bebi103.viz.imshow(im_1,\n",
    "                             plot_height=250,\n",
    "                             title=titles[0],\n",
    "                             color_mapper=color_mapper,\n",
    "                             interpixel_distance=interpixel_distances[0],\n",
    "                             length_units='µm')\n",
    "    p_2 = bebi103.viz.imshow(im_2,\n",
    "                             plot_height=250,\n",
    "                             title=titles[1],\n",
    "                             color_mapper=color_mapper,\n",
    "                             interpixel_distance=interpixel_distances[1],\n",
    "                             length_units='µm')\n",
    "    p_3 = bebi103.viz.imshow(im_3,\n",
    "                             plot_height=250,\n",
    "                             title=titles[2],\n",
    "                             color_mapper=color_mapper,\n",
    "                             interpixel_distance=interpixel_distances[2],\n",
    "                             length_units='µm')\n",
    "    p_4 = bebi103.viz.imshow(im_4,\n",
    "                             plot_height=250,\n",
    "                             title=titles[3],\n",
    "                             color_mapper=color_mapper,\n",
    "                             interpixel_distance=interpixel_distances[3],\n",
    "                             length_units='µm')\n",
    "    p_2.x_range = p_1.x_range\n",
    "    p_2.y_range = p_1.y_range\n",
    "\n",
    "    p_3.x_range = p_1.x_range\n",
    "    p_3.y_range = p_1.y_range\n",
    "    \n",
    "    p_4.x_range = p_1.x_range\n",
    "    p_4.y_range = p_1.y_range\n",
    "    \n",
    "    return [p_1, p_2, p_3, p_4]"
   ]
  },
  {
   "cell_type": "code",
   "execution_count": null,
   "metadata": {},
   "outputs": [],
   "source": [
    "title = [\"original\", \"Manual_thresh\", \"Auto_thresh\", \"New_auto_thresh\"]\n",
    "\n",
    "p = [show_4_ims(im_float[zoom],\n",
    "                           im_bw[zoom],\n",
    "                           im_bw_1[zoom],\n",
    "                           im_bw_2[zoom],\n",
    "                           titles=[t + \"_\" + name for t in title])\n",
    "     for zoom, name in zip(zooms, names)]\n",
    "\n",
    "bokeh.io.show(bokeh.layouts.gridplot(p))"
   ]
  },
  {
   "cell_type": "markdown",
   "metadata": {},
   "source": [
    "They are quite similar, and the thresholding function in the notes actually works slightly better for all of those ROIs, we may see what if we do some opening to separate those dividing cells."
   ]
  },
  {
   "cell_type": "code",
   "execution_count": null,
   "metadata": {},
   "outputs": [],
   "source": [
    "selem = skimage.morphology.disk(5)\n",
    "\n",
    "im_open = skimage.morphology.opening(im_bw, selem)\n",
    "im_open_1 = skimage.morphology.opening(im_bw_1, selem)\n",
    "im_open_2 = skimage.morphology.opening(im_bw_2, selem)\n",
    "\n",
    "title = [\"original\", \"Manual_thresh_open\", \"Auto_thresh_open\", \"New_auto_thresh_open\"]\n",
    "\n",
    "p = [show_4_ims(im_float[zoom],\n",
    "                im_open[zoom],\n",
    "                im_open_1[zoom],\n",
    "                im_open_2[zoom],\n",
    "                titles=[t + \"_\" + name for t in title])\n",
    "     for zoom, name in zip(zooms, names)]\n",
    "\n",
    "bokeh.io.show(bokeh.layouts.gridplot(p))"
   ]
  },
  {
   "cell_type": "markdown",
   "metadata": {},
   "source": [
    "In this case, the auto_thres case separates the bacteria too much which might cause a false positive division. We may use the modified thresholding function to furthor explore among the rest of frames. Now, we convert all the frames into binary images via our modified thresholding function."
   ]
  },
  {
   "cell_type": "code",
   "execution_count": null,
   "metadata": {},
   "outputs": [],
   "source": [
    "def collection_thres(ic, \n",
    "                     white_true=True, \n",
    "                     k_range=[], \n",
    "                     min_size=100):\n",
    "    #Initialize a empty list\n",
    "    ic_seg = []\n",
    "\n",
    "    # Segment each frame\n",
    "    for img in ic:\n",
    "        temp,_ = bebi103_thresh_new(img, white_true=white_true, k_range=k_range,min_size=min_size)\n",
    "        ic_seg.append(temp)\n",
    "    \n",
    "    return ic_seg\n",
    "\n",
    "ic_seg = collection_thres(ic,\n",
    "                         white_true=False,\n",
    "                         k_range=(3600, 4000),\n",
    "                         min_size=400)\n",
    "\n",
    "# Take a look    \n",
    "ic_seg[0]"
   ]
  },
  {
   "cell_type": "markdown",
   "metadata": {},
   "source": [
    "It looks like a correctly-segmented image, so we proceed and have a function to convert binary images to single-channel color images."
   ]
  },
  {
   "cell_type": "code",
   "execution_count": null,
   "metadata": {},
   "outputs": [],
   "source": [
    "def bin2gray(im):\n",
    "    x, y = im.shape\n",
    "    temp = np.zeros([x, y, 1])\n",
    "    for (i, j), val in np.ndenumerate(im):\n",
    "        if val:\n",
    "            temp[i][j] = 1\n",
    "    return temp\n",
    "\n",
    "# Test a little bit\n",
    "bokeh.io.show(show_two_ims(ic_seg[4],\n",
    "                           bin2gray(ic_seg[4]),\n",
    "                           titles=['Binary', 'Single-channel']))"
   ]
  },
  {
   "cell_type": "markdown",
   "metadata": {},
   "source": [
    "They are the same, so it should be good to integrate into our convertion function for the image collection, and reconvert the image collection."
   ]
  },
  {
   "cell_type": "code",
   "execution_count": null,
   "metadata": {},
   "outputs": [],
   "source": [
    "def collection_thres_gray(ic,selem,\n",
    "                     white_true=True, \n",
    "                     k_range=[], \n",
    "                     min_size=100):\n",
    "    #Initialize a empty list\n",
    "    ic_seg = []\n",
    "\n",
    "    # Segment each frame\n",
    "    for img in ic:\n",
    "        temp,_ = bebi103_thresh_new(img, white_true=white_true, k_range=k_range,min_size=min_size)\n",
    "        # Open to separate dividing bacteria\n",
    "        temp = skimage.morphology.opening(temp, selem)\n",
    "        ic_seg.append(bin2gray(temp))\n",
    "    \n",
    "    return ic_seg\n",
    "\n",
    "selem = skimage.morphology.disk(5)\n",
    "\n",
    "ic_seg = collection_thres_gray(ic,selem,\n",
    "                         white_true=False,\n",
    "                         k_range=(3600, 4000),\n",
    "                         min_size=400)\n",
    "\n",
    "# Take a look    \n",
    "ic_seg[0].shape"
   ]
  },
  {
   "cell_type": "markdown",
   "metadata": {},
   "source": [
    "It should be good, so we can proceed and add all the converted image together, supposing the scale and layout don't change over frames, which should be true. In this case, we can have sort of a distribution of how many frames share pixels after thresholding. We have some trouble tuning the color mapper and colorbar, but as the defalut color mapper goes, yellow indicates high pixel density and blue indicates low. We can then take a look at those zoom slices we choose."
   ]
  },
  {
   "cell_type": "code",
   "execution_count": null,
   "metadata": {},
   "outputs": [],
   "source": [
    "ic_sum = np.array(ic_seg).sum(axis=0)\n",
    "\n",
    "\n",
    "#Plot out 3 ROIs in actual scale\n",
    "names = '123'\n",
    "plots = [bebi103.viz.imshow(ic_sum[zoom],\n",
    "                            plot_height=300,\n",
    "                            title=name,\n",
    "                            interpixel_distance=ip,\n",
    "                            length_units='µm')\n",
    "             for zoom, name in zip(zooms, names)]\n",
    "\n",
    "bokeh.io.show(bokeh.layouts.gridplot(plots, ncols=3))"
   ]
  },
  {
   "cell_type": "markdown",
   "metadata": {},
   "source": [
    "The first two looks fine, and from the third one, we can still pick out a couple of bacteria that fulfills our conditions, while in the third one, those are mostly close to one or multiple bacteria, which may or may not lead to error when we do long time course analysis, because they could probably be eliminated by making them close to the edge and then clearing border. However, being too close to other bacteria might also lead to problems like failure to flowing away the divden cells. Thus, we choose the best one from the thrid zoom slice and remake the slices for final selection."
   ]
  },
  {
   "cell_type": "code",
   "execution_count": null,
   "metadata": {},
   "outputs": [],
   "source": [
    "zoom_start_final = [[590, 260, 120], [715, 375, 120],[200, 500, 100]]\n",
    "\n",
    "#Generate zoom slices\n",
    "zooms = []\n",
    "for i in range(len(zoom_start)):\n",
    "    zooms.append(zoom_finder(im, zoom_start_final[i][0], zoom_start_final[i][1], zoom_start_final[i][2]))\n",
    "                    \n",
    "plots = [bebi103.viz.imshow(ic_sum[zoom],\n",
    "                            plot_height=300,\n",
    "                            title=name,\n",
    "                            interpixel_distance=ip,\n",
    "                            length_units='µm')\n",
    "             for zoom, name in zip(zooms, names)]\n",
    "\n",
    "bokeh.io.show(bokeh.layouts.gridplot(plots, ncols=3))                    "
   ]
  },
  {
   "cell_type": "markdown",
   "metadata": {},
   "source": [
    "In all, our criteria for choosing bacteria for long time course imaging could be concluded as:\n",
    "\n",
    "1. Well separated with other bacteria;\n",
    "2. Away from any types of artifacts;\n",
    "3. Uniform lighting through single bactrium;\n",
    "4. The fixed bacteria do not move among frames.\n",
    "\n",
    "The first one is to avoid mislabelling and other problems that could happen when multiple cells are imaged; the second and third one is to make sure our segmentation is significantly affected through the imaging process. We use a modified thresholding function and then select bacteria that fulfill those first three conditions, and use the overlayed segmented image of all the frames to find bacteria that do not move through all frames, since we do not want part of the imaged cell move out of our ROI sometime if it is not well anchored."
   ]
  },
  {
   "cell_type": "markdown",
   "metadata": {},
   "source": [
    "## hw4_2.2 and hw4_2.3"
   ]
  },
  {
   "cell_type": "markdown",
   "metadata": {},
   "source": [
    "Let's load in 'bacterium_1.tif' and check the information of it"
   ]
  },
  {
   "cell_type": "code",
   "execution_count": null,
   "metadata": {},
   "outputs": [],
   "source": [
    "# Load in TIFF stack\n",
    "fname = '../../data/iyer_biswas_et_al/bacterium_1.tif'\n",
    "ic = skimage.io.ImageCollection(fname, conserve_memory=False)[0]\n",
    "\n",
    "# How long is it?\n",
    "print('There are {0:d} frames.'.format(len(ic)))\n",
    "\n",
    "# Let's get information about the image\n",
    "print(type(ic), ic.dtype, ic.shape)"
   ]
  },
  {
   "cell_type": "markdown",
   "metadata": {},
   "source": [
    "We already know 'The frame rate is 1 frame per minute. The interpixel spacing is 0.052 µm'"
   ]
  },
  {
   "cell_type": "code",
   "execution_count": null,
   "metadata": {},
   "outputs": [],
   "source": [
    "# add time stamps to our image (frame rate: 1 frame/min)\n",
    "fps = 1\n",
    "t = np.arange(0, len(ic)) / fps\n",
    "\n",
    "# interpixel is 0.052 µm\n",
    "ip = 0.052"
   ]
  },
  {
   "cell_type": "markdown",
   "metadata": {},
   "source": [
    "It would be nice to have a function to plot two images side by side for comparision, this is the function from Justin's Tutorial"
   ]
  },
  {
   "cell_type": "code",
   "execution_count": null,
   "metadata": {},
   "outputs": [],
   "source": [
    "# define a function from tutorial to display 2 images \n",
    "def show_two_ims(im_1, im_2, titles=[None, None], interpixel_distances=[0.13, 0.13],\n",
    "                 color_mapper=None):\n",
    "    \"\"\"Convenient function for showing two images side by side.\"\"\"\n",
    "    p_1 = bebi103.viz.imshow(im_1,\n",
    "                             plot_height=300,\n",
    "                             title=titles[0],\n",
    "                             color_mapper=color_mapper,\n",
    "                             interpixel_distance=interpixel_distances[0],\n",
    "                             length_units='µm')\n",
    "    p_2 = bebi103.viz.imshow(im_2,\n",
    "                             plot_height=300,\n",
    "                             title=titles[1],\n",
    "                             color_mapper=color_mapper,\n",
    "                             interpixel_distance=interpixel_distances[0],\n",
    "                             length_units='µm')\n",
    "    p_2.x_range = p_1.x_range\n",
    "    p_2.y_range = p_1.y_range\n",
    "    \n",
    "    return bokeh.layouts.gridplot([p_1, p_2], ncols=2)"
   ]
  },
  {
   "cell_type": "code",
   "execution_count": null,
   "metadata": {},
   "outputs": [],
   "source": [
    "# Take a look at the first and second time point to get an idea of what it looks like\n",
    "im = ic[0,:,:]\n",
    "im1 = ic[1,:,:]\n",
    "\n",
    "# Take a look\n",
    "bokeh.io.show(show_two_ims(im,\n",
    "                           im1,\n",
    "                           titles=['im', 'im1']))"
   ]
  },
  {
   "cell_type": "markdown",
   "metadata": {},
   "source": [
    "Let's start the thresholding process and extract the bacteria area.\n",
    "We decide to go for the thresh function in the tutorial that help you find the right threshold. (We also try sober filtering and other method to do the edge detection and segmentation, but find that the find threshold method works the best)  \n",
    "But we still need to play around with the k_range to get a better segmentation. \n",
    "Let's define the find threshold function first."
   ]
  },
  {
   "cell_type": "code",
   "execution_count": null,
   "metadata": {},
   "outputs": [],
   "source": [
    "# Use this find threshold function from tutorial\n",
    "def bebi103_thresh(im, selem, white_true=True, k_range=(0.5, 2), \n",
    "                   min_size=120):\n",
    "    \"\"\"\n",
    "    Threshold image as described above.  Morphological mean filter is \n",
    "    applied using selem.\n",
    "    \"\"\"    \n",
    "    # Determine comparison operator\n",
    "    if white_true:\n",
    "        compare = np.greater\n",
    "        sign = -1\n",
    "    else:\n",
    "        compare = np.less\n",
    "        sign = 1\n",
    "    \n",
    "    # Do the mean filter\n",
    "    im_mean = skimage.filters.rank.mean(im, selem)\n",
    "\n",
    "    # Compute number of pixels in binary image as a function of k\n",
    "    k = np.linspace(k_range[0], k_range[1], 100)\n",
    "    n_pix = np.empty_like(k)\n",
    "    for i in range(len(k)):\n",
    "        n_pix[i] = compare(im, k[i] * im_mean).sum() \n",
    "\n",
    "    # Compute rough second derivative\n",
    "    dn_pix_dk2 = np.diff(np.diff(n_pix))\n",
    "\n",
    "    # Find index of maximal second derivative\n",
    "    max_ind = np.argmax(sign * dn_pix_dk2)\n",
    "\n",
    "    # Use this index to set k\n",
    "    k_opt = k[max_ind - sign * 2]\n",
    "\n",
    "    # Threshold with this k\n",
    "    im_bw = compare(im, k_opt * im_mean)\n",
    "\n",
    "    # Remove all the small objects\n",
    "    im_bw = skimage.morphology.remove_small_objects(im_bw, min_size=min_size)\n",
    "    \n",
    "    #Clear the border\n",
    "    im_bw = skimage.segmentation.clear_border(im_bw)\n",
    "\n",
    "    return im_bw, k_opt"
   ]
  },
  {
   "cell_type": "markdown",
   "metadata": {},
   "source": [
    "After defining the function, we need to play around with the k_range to find the suitable segmentation. We use the image of first time point to test different k_range."
   ]
  },
  {
   "cell_type": "code",
   "execution_count": null,
   "metadata": {},
   "outputs": [],
   "source": [
    "# after test different k_range, we find that k_range=(0.5, 2) gives us the best segmentation\n",
    "im_thresh, k = bebi103_thresh(im, \n",
    "                              skimage.morphology.disk(100), \n",
    "                              white_true=False, \n",
    "                              k_range=(0.5, 2),\n",
    "                              min_size=100)\n",
    "\n",
    "# Show result\n",
    "bokeh.io.show(\n",
    "    bebi103.viz.imshow(im_thresh, \n",
    "                       color_mapper=bebi103.viz.mpl_cmap_to_color_mapper('gray'),\n",
    "                       interpixel_distance=ip,\n",
    "                       length_units='µm'))\n",
    "\n"
   ]
  },
  {
   "cell_type": "markdown",
   "metadata": {},
   "source": [
    "This segmentation seems nice. So let's go ahead and try to get the properties of the bacterium area from this image.  \n",
    "To get properties, we need to label the binary image first"
   ]
  },
  {
   "cell_type": "code",
   "execution_count": null,
   "metadata": {},
   "outputs": [],
   "source": [
    "# Label binary image; backward kwarg says value in im_bw to consider backgr.\n",
    "im_labeled, n_labels = skimage.measure.label(\n",
    "                            im_thresh, background=0, return_num=True)\n",
    "\n",
    "# See result (one of the few times it's ok to use rainbow colormap!)\n",
    "bokeh.io.show(\n",
    "    bebi103.viz.imshow(im_labeled, \n",
    "                       color_mapper=bebi103.viz.mpl_cmap_to_color_mapper('rainbow'),\n",
    "                       interpixel_distance=ip,\n",
    "                       length_units='µm'))"
   ]
  },
  {
   "cell_type": "code",
   "execution_count": null,
   "metadata": {},
   "outputs": [],
   "source": [
    "# Try getting properties of this time point \n",
    "im_y_props = skimage.measure.regionprops(im_labeled, intensity_image=im)\n",
    "\n",
    "# put the data into a tidy data frame\n",
    "data = [[prop.label, prop.area, prop.mean_intensity] for prop in im_y_props]\n",
    "df = pd.DataFrame(data=data, columns=['label', 'area (sq ip distance)', 'mean intensity (a.u.)'])\n",
    "df['area (sq µm)'] = df['area (sq ip distance)'] * ip**2\n",
    "\n",
    "# Take a look\n",
    "df"
   ]
  },
  {
   "cell_type": "markdown",
   "metadata": {},
   "source": [
    "We get the properties from the bacterium area succesfully, so let's go ahead and write a function that could process all the image(time points) and get back the properties of each time point."
   ]
  },
  {
   "cell_type": "code",
   "execution_count": null,
   "metadata": {},
   "outputs": [],
   "source": [
    "# define a function for processing every image and return area/intensity\n",
    "def process_im(im):\n",
    "    # Thresholding the image\n",
    "    im_thresh, k = bebi103_thresh(im, \n",
    "                                  skimage.morphology.disk(100), \n",
    "                                  white_true=False, \n",
    "                                  min_size=100)\n",
    "    \n",
    "    # Label binary image\n",
    "    im_labeled, n_labels = skimage.measure.label(\n",
    "                                    im_thresh, background=0, return_num=True)\n",
    "    \n",
    "    # Get properties of this time point \n",
    "    im_y_props = skimage.measure.regionprops(im_labeled, intensity_image=im)\n",
    "    \n",
    "    # put the data into a tidy data frame\n",
    "    data = [[prop.label, prop.area, prop.mean_intensity] for prop in im_y_props]\n",
    "    df = pd.DataFrame(data=data, columns=['label', 'area (sq ip distance)', 'mean intensity (a.u.)'])\n",
    "    df['area (sq µm)'] = df['area (sq ip distance)'] * ip**2\n",
    "\n",
    "    # return df\n",
    "    return df\n"
   ]
  },
  {
   "cell_type": "code",
   "execution_count": null,
   "metadata": {},
   "outputs": [],
   "source": [
    "# Check whether our function works using the first time point\n",
    "df0 = process_im(ic[0,:,:])\n",
    "df0"
   ]
  },
  {
   "cell_type": "markdown",
   "metadata": {},
   "source": [
    "It looks good when we test our function on the first time point, so let's run this function on each time point of our experiment.  \n",
    "To store all the properties, we need to create an empty dataframe to store all the return data from the function."
   ]
  },
  {
   "cell_type": "code",
   "execution_count": null,
   "metadata": {},
   "outputs": [],
   "source": [
    "# Create an empty dataframe to store the properties\n",
    "df = pd.DataFrame(columns=['label', 'area (sq ip distance)', 'mean intensity (a.u.)', 'area (sq µm)'])\n",
    "\n",
    "# Look through and add properties of each time point to the empty dataframe\n",
    "for i, im in enumerate(ic):\n",
    "    df1 = process_im(ic[i,:,:])\n",
    "    df = df.append(df1, ignore_index = True)\n",
    "    \n",
    "df.head()"
   ]
  },
  {
   "cell_type": "markdown",
   "metadata": {},
   "source": [
    "From the dataframe, we could see the 'label' in some row is 2, which means the function detect 2 cells after segmentation, let's check what is going on with those frames."
   ]
  },
  {
   "cell_type": "code",
   "execution_count": null,
   "metadata": {},
   "outputs": [],
   "source": [
    "# Check whether there are some frames are labeled as more than 1 cell\n",
    "df.loc[(df['label']!=1)]"
   ]
  },
  {
   "cell_type": "markdown",
   "metadata": {},
   "source": [
    "Let's check some of those frames to see what is going on."
   ]
  },
  {
   "cell_type": "code",
   "execution_count": null,
   "metadata": {},
   "outputs": [],
   "source": [
    "# check one of them see what's going on\n",
    "im_thresh1, k = bebi103_thresh(ic[100,:,:], \n",
    "                               skimage.morphology.disk(100), \n",
    "                               white_true=False,\n",
    "                               min_size=100)\n",
    "\n",
    "# Show result\n",
    "bokeh.io.show(\n",
    "    bebi103.viz.imshow(im_thresh1, \n",
    "                       color_mapper=bebi103.viz.mpl_cmap_to_color_mapper('gray'),\n",
    "                       interpixel_distance=ip,\n",
    "                       length_units='µm'))"
   ]
  },
  {
   "cell_type": "markdown",
   "metadata": {},
   "source": [
    "We could see the generated cell are still hanging around which leads to the problem that there 2 labled cells are detected. But we could see the division is already complete, so it's better for our analysis if we only consider one of the cell in this situation.  \n",
    "In order to do that, let's write a new process function that drop the extra labeled area and keep only one labeled area.\n"
   ]
  },
  {
   "cell_type": "code",
   "execution_count": null,
   "metadata": {},
   "outputs": [],
   "source": [
    "# define a new function for processing every image and return area/intensity\n",
    "# new process function that drop the extra labeled area and keep only one labeled area.\n",
    "def new_process_im(im, i, k_range):\n",
    "    # Thresholding the image\n",
    "    im_thresh, k = bebi103_thresh(im, \n",
    "                                  skimage.morphology.disk(100), \n",
    "                                  white_true=False, \n",
    "                                  k_range=k_range,\n",
    "                                  min_size=100)\n",
    "    \n",
    "    # Label binary image\n",
    "    im_labeled, n_labels = skimage.measure.label(\n",
    "                            im_thresh, background=0, return_num=True)\n",
    "    \n",
    "    # Get properties of this time point \n",
    "    im_y_props = skimage.measure.regionprops(im_labeled, intensity_image=im)\n",
    "    \n",
    "    # put the data into a tidy data frame\n",
    "    data = [[prop.label, prop.area, prop.mean_intensity] for prop in im_y_props]\n",
    "    df = pd.DataFrame(data=data, \n",
    "                      columns=['label', 'area (sq ip distance)', 'mean intensity (a.u.)'])\n",
    "    \n",
    "    # drop second labeled cell when there are 2 labled cells\n",
    "    if len(df) > 1:\n",
    "        df = df.drop([1])\n",
    "        \n",
    "    # add the actual area of bacteria\n",
    "    df['area (sq µm)'] = df['area (sq ip distance)'] * ip**2\n",
    "    \n",
    "    # add the time to the dataframe\n",
    "    df['t'] = i\n",
    "    \n",
    "    # return df\n",
    "    return df"
   ]
  },
  {
   "cell_type": "markdown",
   "metadata": {},
   "source": [
    "Run this new process function on all the time points."
   ]
  },
  {
   "cell_type": "code",
   "execution_count": null,
   "metadata": {},
   "outputs": [],
   "source": [
    "# Create an empty dataframe to store the properties\n",
    "df_new = pd.DataFrame(columns=['label', \n",
    "                               'area (sq ip distance)', \n",
    "                               'mean intensity (a.u.)', \n",
    "                               'area (sq µm)'])\n",
    "\n",
    "# Look through and add properties of each time point to the empty dataframe\n",
    "for i, im in enumerate(ic):\n",
    "    df1 = new_process_im(ic[i,:,:], i, (0.5, 2))\n",
    "    df_new = df_new.append(df1, ignore_index=True)\n",
    "    \n",
    "df_new"
   ]
  },
  {
   "cell_type": "markdown",
   "metadata": {},
   "source": [
    "When we look at this dataset, we notice that the time goes from 0-1899s (consistent with the information that it has 1900 frames), but you only get 1890 rows, which mean the threshold function didn't detect anything in 9 of the frames, we should keep that in mind in the following analysis. Maybe we need extra operation to deal with these missing time points.\n",
    "\n",
    "But let's do a scatter plot on these area data first. "
   ]
  },
  {
   "cell_type": "code",
   "execution_count": null,
   "metadata": {},
   "outputs": [],
   "source": [
    "# Function to make scatter plot\n",
    "def scatter(df, x, y, p=None, color='#1f77b4', plot_height=450, plot_width=1500):\n",
    "    \"\"\"Populate a figure with a scatter plot.\"\"\"\n",
    "    if p is None:\n",
    "        p = bokeh.plotting.figure(plot_height=plot_height, \n",
    "                                  plot_width=plot_width, \n",
    "                                  x_axis_label=x,\n",
    "                                  y_axis_label=y)\n",
    "        \n",
    "    p.circle(df[x], df[y], color=color)\n",
    "    \n",
    "    return p"
   ]
  },
  {
   "cell_type": "code",
   "execution_count": null,
   "metadata": {},
   "outputs": [],
   "source": [
    "# Plot the change of the area\n",
    "bokeh.io.show(scatter(df_new, 't', 'area (sq µm)'))"
   ]
  },
  {
   "cell_type": "markdown",
   "metadata": {},
   "source": [
    "Although there are some noises between, but the general dynamics of the bacterium area change looks reasonable, so let's go ahead and define time of division.  \n",
    "\n",
    "When a division happens, since the generated cell would be washed away, we would expect to see the dramatic drop of area. Idealy, the drop of the area would be half of the original area (let's assume original bacteria and generated bacteria are exactly same size, so we would expect a 50% drop), but in reality, the original bacteria and generated one has some small difference, so let's expect a 30% drop (this threshold is defined by ourselves, you would need to have a tradeoff between missing division events when setting a high standard for area drop and using a low stantard thus overcount division events)\n",
    "\n",
    "Besides dramatic drop, the other property that we expect to see at division is the cell would grow again after this division event.\n",
    "\n",
    "In general, we would like to define the time of division as the time point when there is a >30% area drop and the cell grow again in next consecutive time point. In order to implement this definition, we need to calculate the area difference between frames. \n",
    "\n",
    "When we calculate the the area difference between frames using the dataframe we generated before, we need to keep in mind the issue we mentioned before, there are some null detection in some frames. So when we did the calculation for area difference, we need to df_new['area_difference']/df_new['time_difference'] to get the real df_new['area_difference'] between consecutive frames."
   ]
  },
  {
   "cell_type": "code",
   "execution_count": null,
   "metadata": {},
   "outputs": [],
   "source": [
    "# Calculate the area_difference and time_difference\n",
    "df_new['area_difference'] = df_new['area (sq µm)'] - df_new['area (sq µm)'].shift(-1)\n",
    "df_new['time_difference'] = df_new['t'].shift(-1) - df_new['t']\n",
    "\n",
    "# Get the area_difference between conseceutive frame\n",
    "df_new['area_difference'] = df_new['area_difference']/df_new['time_difference']\n",
    "\n",
    "# Caculate the percentage of area change\n",
    "df_new['area_change_diff'] = df_new['area_difference']/df_new['area (sq µm)'] \n",
    "\n",
    "# Define the time of division as the time point when there is a >30% area drop \n",
    "# and the cell grows again in next consecutive time point\n",
    "df_new['division'] = ((df_new['area_change_diff'] > 0.3) & \n",
    "                      (df_new['area_change_diff'].shift(-1) < 0))\n",
    "\n",
    "df_new.head()"
   ]
  },
  {
   "cell_type": "code",
   "execution_count": null,
   "metadata": {},
   "outputs": [],
   "source": [
    "# store the data to csv for further use\n",
    "df_new.to_csv('bacterium_1.csv', sep='\\t')"
   ]
  },
  {
   "cell_type": "markdown",
   "metadata": {},
   "source": [
    "We would like to slice out those that are defined as 'division time point' for further analysis"
   ]
  },
  {
   "cell_type": "code",
   "execution_count": null,
   "metadata": {},
   "outputs": [],
   "source": [
    "# Slice out the time point defined as 'division'\n",
    "df_new_div = df_new.loc[df_new['division'] == True, :]\n",
    "df_new_div = df_new_div.reset_index()\n",
    "df_new_div"
   ]
  },
  {
   "cell_type": "code",
   "execution_count": null,
   "metadata": {},
   "outputs": [],
   "source": [
    "# Take a look at certain time point to verify the above result\n",
    "# Look at t=98 and t=99 for example because 98s is indicated as division\n",
    "im98 = ic[98,:,:]\n",
    "im99 = ic[99,:,:]\n",
    "\n",
    "# Take a look\n",
    "bokeh.io.show(show_two_ims(im98,\n",
    "                           im99,\n",
    "                           titles=['im98', 'im99']))"
   ]
  },
  {
   "cell_type": "markdown",
   "metadata": {},
   "source": [
    "We could see that they indeed divide at t=98s!"
   ]
  },
  {
   "cell_type": "code",
   "execution_count": null,
   "metadata": {},
   "outputs": [],
   "source": [
    "# Look at t=1621 and t=1622 for example because 1621s is indicated as division\n",
    "im1621 = ic[1621,:,:]\n",
    "im1622 = ic[1622,:,:]\n",
    "\n",
    "# Take a look\n",
    "bokeh.io.show(show_two_ims(im1621,\n",
    "                           im1622,\n",
    "                           titles=['im1621', 'im1622']))"
   ]
  },
  {
   "cell_type": "markdown",
   "metadata": {},
   "source": [
    "We could see that they indeed divide at t=1621s!"
   ]
  },
  {
   "cell_type": "markdown",
   "metadata": {},
   "source": [
    "We are interested in the time_interval between these division time points. Let's add an ID for each division event, and caculate the time interval between each consecutive event."
   ]
  },
  {
   "cell_type": "code",
   "execution_count": null,
   "metadata": {},
   "outputs": [],
   "source": [
    "# Add ID to each division event\n",
    "df_new_div['division_ID'] = range(0, 0+len(df_new_div))\n",
    "\n",
    "# Calculate the time interval between division event\n",
    "df_new_div['division_interval (min)'] = df_new_div['t'].shift(-1) - df_new_div['t'] \n",
    "\n",
    "df_new_div"
   ]
  },
  {
   "cell_type": "code",
   "execution_count": null,
   "metadata": {},
   "outputs": [],
   "source": [
    "# scatter plot the time interval between 2 consecutive time point\n",
    "bokeh.io.show(scatter(df_new_div, 'division_ID', 'division_interval (min)', \n",
    "                      plot_height=250, plot_width=800))"
   ]
  },
  {
   "cell_type": "markdown",
   "metadata": {},
   "source": [
    "From the scatter plot, we could see that there is not a clear trend of division interval change along the time, it's quite persistent regarding the time."
   ]
  },
  {
   "cell_type": "code",
   "execution_count": null,
   "metadata": {},
   "outputs": [],
   "source": [
    "# plot ECDF of the time interval between 2 consecutive time point\n",
    "bokeh.io.show(bebi103.viz.ecdf(df_new_div['division_interval (min)'],\n",
    "                               x_axis_label='division_interval (min)'))"
   ]
  },
  {
   "cell_type": "markdown",
   "metadata": {},
   "source": [
    "From the ECDF, we could see most of the division interval lies at around 100min, indicating each division of this bacteria takes around 100min."
   ]
  },
  {
   "cell_type": "markdown",
   "metadata": {},
   "source": [
    "### Do the similar manipulation on the bacterium_2.tif"
   ]
  },
  {
   "cell_type": "code",
   "execution_count": null,
   "metadata": {},
   "outputs": [],
   "source": [
    "# Load in TIFF stack\n",
    "fname1 = '../../data/iyer_biswas_et_al/bacterium_2.tif'\n",
    "ic1 = skimage.io.ImageCollection(fname1, conserve_memory=False)[0]\n",
    "\n",
    "# How long is it?\n",
    "print('There are {0:d} frames.'.format(len(ic1)))\n",
    "\n",
    "# Let's get information about the image\n",
    "print(type(ic1), ic1.dtype, ic1.shape)\n"
   ]
  },
  {
   "cell_type": "code",
   "execution_count": null,
   "metadata": {},
   "outputs": [],
   "source": [
    "# Take a look at the first and second time point to get an idea of what it looks like\n",
    "im = ic1[0,:,:]\n",
    "im1 = ic1[1,:,:]\n",
    "\n",
    "# Take a look\n",
    "bokeh.io.show(show_two_ims(im,\n",
    "                           im1,\n",
    "                           titles=['im', 'im1']))"
   ]
  },
  {
   "cell_type": "code",
   "execution_count": null,
   "metadata": {},
   "outputs": [],
   "source": [
    "# Play around the k_range in the threshold function to decide the suitable k_range\n",
    "# Find that k_range=(0.5, 2.6) works fine\n",
    "\n",
    "im_thresh111, k = bebi103_thresh(ic1[0,:,:], \n",
    "                                 skimage.morphology.disk(100), \n",
    "                                 white_true=False, \n",
    "                                 k_range=(0.5, 2.6),\n",
    "                                 min_size=100)\n",
    "\n",
    "# Show result\n",
    "bokeh.io.show(\n",
    "    bebi103.viz.imshow(im_thresh111, \n",
    "                       color_mapper=bebi103.viz.mpl_cmap_to_color_mapper('gray'),\n",
    "                       interpixel_distance=ip,\n",
    "                       length_units='µm'))"
   ]
  },
  {
   "cell_type": "code",
   "execution_count": null,
   "metadata": {},
   "outputs": [],
   "source": [
    "# Create an empty dataframe to store the properties\n",
    "df_new1 = pd.DataFrame(columns=['label', \n",
    "                                'area (sq ip distance)', \n",
    "                                'mean intensity (a.u.)', \n",
    "                                'area (sq µm)'])\n",
    "\n",
    "# Look through and add properties of each time point to the empty dataframe\n",
    "for i, im in enumerate(ic1):\n",
    "    df1 = new_process_im(ic1[i,:,:], i, k_range=(0.5, 2.6))\n",
    "    df_new1 = df_new1.append(df1, ignore_index = True)\n",
    "    \n",
    "df_new1"
   ]
  },
  {
   "cell_type": "code",
   "execution_count": null,
   "metadata": {},
   "outputs": [],
   "source": [
    "bokeh.io.show(scatter(df_new1, 't', 'area (sq µm)'))"
   ]
  },
  {
   "cell_type": "code",
   "execution_count": null,
   "metadata": {},
   "outputs": [],
   "source": [
    "# define time of division\n",
    "df_new1['area_difference'] = df_new1['area (sq µm)'] - df_new1['area (sq µm)'].shift(-1)\n",
    "df_new1['time_difference'] = df_new1['t'].shift(-1) - df_new1['t']\n",
    "df_new1['area_difference'] = df_new1['area_difference']/df_new1['time_difference']\n",
    "df_new1['area_change_diff'] = df_new1['area_difference']/df_new1['area (sq µm)'] \n",
    "\n",
    "# define division when the percentage of area drop > 30%\n",
    "df_new1['division'] = ((df_new1['area_change_diff'] > 0.3) & \n",
    "                       (df_new1['area_change_diff'].shift(-1) < 0))"
   ]
  },
  {
   "cell_type": "code",
   "execution_count": null,
   "metadata": {},
   "outputs": [],
   "source": [
    "# store the data to csv for further use\n",
    "df_new1.to_csv('bacterium_2.csv', sep='\\t')"
   ]
  },
  {
   "cell_type": "code",
   "execution_count": null,
   "metadata": {},
   "outputs": [],
   "source": [
    "# Slice out the time point defined as 'division'\n",
    "df_new_div1 = df_new1.loc[df_new1['division'] == True, :]\n",
    "df_new_div1 = df_new_div1.reset_index()\n",
    "\n",
    "# Add division ID to dataframe\n",
    "df_new_div1['division_ID'] = range(0, 0+len(df_new_div1))\n",
    "\n",
    "# Calculate the time interval between division\n",
    "df_new_div1['division_interval (min)'] = df_new_div1['t'].shift(-1) - df_new_div1['t'] \n",
    "\n",
    "df_new_div1.head()"
   ]
  },
  {
   "cell_type": "code",
   "execution_count": null,
   "metadata": {},
   "outputs": [],
   "source": [
    "# scatter plot the time interval between 2 consecutive time point\n",
    "bokeh.io.show(scatter(df_new_div1, 'division_ID', 'division_interval (min)', plot_height=250, plot_width=800))"
   ]
  },
  {
   "cell_type": "markdown",
   "metadata": {},
   "source": [
    "From this scatter plot of the division interval of the bacteria2, we could see there are lots of them lies around zero, that is pretty wierd, let's look closely at some of the frames defined as 'division time point' to figure out what's going on. We notice 188s and 192s are both defined as 'division time point' and they are very close in time, so let's look at those frames."
   ]
  },
  {
   "cell_type": "code",
   "execution_count": null,
   "metadata": {},
   "outputs": [],
   "source": [
    "# Take a look at the 188s-192s to get an idea of what's going on\n",
    "im188 = ic1[188,:,:]\n",
    "im189 = ic1[189,:,:]\n",
    "\n",
    "# Take a look\n",
    "bokeh.io.show(show_two_ims(im188,\n",
    "                           im189,\n",
    "                           titles=['im188', 'im189']))"
   ]
  },
  {
   "cell_type": "code",
   "execution_count": null,
   "metadata": {},
   "outputs": [],
   "source": [
    "# Take a look at the 188s-192s to get an idea of what's going on\n",
    "im191 = ic1[191,:,:]\n",
    "im192 = ic1[192,:,:]\n",
    "\n",
    "# Take a look\n",
    "bokeh.io.show(show_two_ims(im191,\n",
    "                           im192,\n",
    "                           titles=['im191', 'im192']))"
   ]
  },
  {
   "cell_type": "markdown",
   "metadata": {},
   "source": [
    "From these images, we could see the generated cell hangs around, and the situation here is also more complicated than what we encounter when dealing with bacteria 1, because this generated is touching the original cell when it flows around, thus the labeling function detect them as one (the flow around one is detected but always detected as a seperate cell when we delt wih bacteria 1, so we could just get rid of the extra detected one at that time), considering this situation, and considering the fact that most of the time when we get time interval <10s is because of this situation, we decided to only keep the one that has time interval >10."
   ]
  },
  {
   "cell_type": "code",
   "execution_count": null,
   "metadata": {},
   "outputs": [],
   "source": [
    "# Slice out the time point defined as 'division'\n",
    "df_new_div11 = df_new1.loc[df_new1['division'] == True, :]\n",
    "df_new_div11 = df_new_div11.reset_index()\n",
    "\n",
    "# Calculate the time interval between division\n",
    "df_new_div11['division_interval (min)'] = df_new_div11['t'].shift(-1) - df_new_div11['t'] \n",
    "df_new_div11 = df_new_div11.loc[df_new_div11['division_interval (min)'] > 10, :]\n",
    "\n",
    "# Add division ID to dataframe\n",
    "df_new_div11['division_ID'] = range(0, 0+len(df_new_div11))\n",
    "\n",
    "df_new_div11.head()"
   ]
  },
  {
   "cell_type": "code",
   "execution_count": null,
   "metadata": {},
   "outputs": [],
   "source": [
    "# scatter plot the time interval between 2 consecutive time point\n",
    "bokeh.io.show(scatter(df_new_div11, 'division_ID', 'division_interval (min)', \n",
    "                      plot_height=250, plot_width=800))"
   ]
  },
  {
   "cell_type": "code",
   "execution_count": null,
   "metadata": {},
   "outputs": [],
   "source": [
    "bokeh.io.show(bebi103.viz.ecdf(df_new_div11['division_interval (min)'],\n",
    "                               x_axis_label='division_interval (min)'))"
   ]
  },
  {
   "cell_type": "markdown",
   "metadata": {},
   "source": [
    "From the ECDF Plot and the scatter plot, we could see that the most of the division interval of bacteria 2 lies at around 100min, which is similar to what we see in bacteria 1. In general, the distribution of division interval looks like a gaussian distribution. And there is no time-related trend of the change in division interval. And we are super curious to see how we could use these datas to do parameter estimation in the following classes."
   ]
  },
  {
   "cell_type": "code",
   "execution_count": null,
   "metadata": {},
   "outputs": [],
   "source": [
    "%load_ext watermark"
   ]
  },
  {
   "cell_type": "code",
   "execution_count": null,
   "metadata": {},
   "outputs": [],
   "source": [
    "%watermark -v -p numpy,pandas,scipy,skimage,bokeh,bebi103,jupyterlab"
   ]
  }
 ],
 "metadata": {
  "kernelspec": {
   "display_name": "Python 3",
   "language": "python",
   "name": "python3"
  },
  "language_info": {
   "codemirror_mode": {
    "name": "ipython",
    "version": 3
   },
   "file_extension": ".py",
   "mimetype": "text/x-python",
   "name": "python",
   "nbconvert_exporter": "python",
   "pygments_lexer": "ipython3",
   "version": "3.7.0"
  }
 },
 "nbformat": 4,
 "nbformat_minor": 2
}
