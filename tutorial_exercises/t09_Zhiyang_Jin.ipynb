{
 "cells": [
  {
   "cell_type": "markdown",
   "metadata": {},
   "source": [
    "**EX1**\n",
    "\n",
    "Data can be thrown out before data analysis if wrong conditions or failure of equipments are clearly involved in the data acquistion process. Data could also be excluded when clear evidence in the data analysis shows those wrong condtions happen. For instance, one mistransformed a wrong plasmid and observed no red fluorescence but green in the following experiments, the data for those RFP measurements should not be considered in the data analysis."
   ]
  },
  {
   "cell_type": "markdown",
   "metadata": {},
   "source": [
    "**EX2**\n",
    "\n",
    "I think it would be easier to use the Student-t method because I assume it would be hard to code the mixture model in the optimization while there could be functions for Student-t model in some packages that could be used in the MAP finder."
   ]
  },
  {
   "cell_type": "markdown",
   "metadata": {},
   "source": [
    "**EX3**\n",
    "\n",
    "Median plugin estimate assumes Gaussian likelihood and uniform priors, and since in the Gaussian distribution, the median and mean are equal, so here we use the estimates of median as the estimates of mean without being influenced by occasional outlier.\n",
    "\n",
    "Student-t likelihood uses the Student-t distribution as the likelihood and half normal distributions for priors, which are very weakly informative.\n",
    "\n",
    "The good-bad data model uses a mixture model with two normal distribution with the same mean but different variances, which stand for good and bad data. It uses weakly informative half normal priors for the mean and the variances, where that of bad data is always lager than good data. "
   ]
  },
  {
   "cell_type": "code",
   "execution_count": null,
   "metadata": {},
   "outputs": [],
   "source": []
  }
 ],
 "metadata": {
  "kernelspec": {
   "display_name": "Python 3",
   "language": "python",
   "name": "python3"
  },
  "language_info": {
   "codemirror_mode": {
    "name": "ipython",
    "version": 3
   },
   "file_extension": ".py",
   "mimetype": "text/x-python",
   "name": "python",
   "nbconvert_exporter": "python",
   "pygments_lexer": "ipython3",
   "version": "3.7.1"
  }
 },
 "nbformat": 4,
 "nbformat_minor": 2
}
