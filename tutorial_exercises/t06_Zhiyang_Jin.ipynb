{
 "cells": [
  {
   "cell_type": "markdown",
   "metadata": {},
   "source": [
    "**Ex1**\n",
    "\n",
    "The prior distribution is the probability distribution of parameter set itself in our hypothesis without any experiments, which is given by everything we know before the experiments. The posterior distribution is the probability distribution of the parameter set given the measured data,which could be computed with both the prior and the likelihood which indicates probability distributions with certain parameter set."
   ]
  },
  {
   "cell_type": "markdown",
   "metadata": {},
   "source": [
    "**Ex2**\n",
    "\n",
    "Because we need to check whether making draws out of the parameter set give resonable results rather than some number that does not make sense in the context. Prior predictive checks enable use to examine if the data generation process produces data that obeys physical constraints and matches our intuition."
   ]
  },
  {
   "cell_type": "markdown",
   "metadata": {},
   "source": [
    "**Ex3**\n",
    "\n",
    "Not sure about this one, but I think the summaries of the posterior is important to normalize the posterior to have a proper probability distribution. I am not sure why that is necessary in the procedures we have now (like MAP) just to find the maximal posterior probability."
   ]
  },
  {
   "cell_type": "markdown",
   "metadata": {},
   "source": [
    "**Ex4**\n",
    "\n",
    "Because the MAP value only cannot inform us of anything about the posterior probability density function, we want to characterize the posterior probability distribution under this MAP value assumption. However, I am confused about the Gaussian approximation and the posterior we compute, why not just use the later one?"
   ]
  },
  {
   "cell_type": "code",
   "execution_count": null,
   "metadata": {},
   "outputs": [],
   "source": []
  }
 ],
 "metadata": {
  "kernelspec": {
   "display_name": "Python 3",
   "language": "python",
   "name": "python3"
  },
  "language_info": {
   "codemirror_mode": {
    "name": "ipython",
    "version": 3
   },
   "file_extension": ".py",
   "mimetype": "text/x-python",
   "name": "python",
   "nbconvert_exporter": "python",
   "pygments_lexer": "ipython3",
   "version": "3.7.1"
  }
 },
 "nbformat": 4,
 "nbformat_minor": 2
}
