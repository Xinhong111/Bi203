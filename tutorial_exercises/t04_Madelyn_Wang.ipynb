{
 "cells": [
  {
   "cell_type": "markdown",
   "metadata": {},
   "source": [
    "# Tutorial 4: exercise\n",
    "\n",
    "(c) 2018 Justin Bois. With the exception of pasted graphics, where the source is noted, this work is licensed under a [Creative Commons Attribution License CC-BY 4.0](https://creativecommons.org/licenses/by/4.0/). All code contained herein is licensed under an [MIT license](https://opensource.org/licenses/MIT).\n",
    "\n",
    "This document was prepared at [Caltech](http://www.caltech.edu) with financial support from the [Donna and Benjamin M. Rosen Bioengineering Center](http://rosen.caltech.edu).\n",
    "\n",
    "<img src=\"caltech_rosen.png\">\n",
    "\n",
    "*This tutorial exercise was generated from an Jupyter notebook.  You can download the notebook [here](t4_exercise.ipynb). Use this downloaded Jupyter notebook to fill out your responses.*"
   ]
  },
  {
   "cell_type": "markdown",
   "metadata": {},
   "source": [
    "### Exercise 1\n",
    "\n",
    "What is **segmentation** in the context of image processing?\n",
    "\n",
    "Segmentation is separating out or outlining our objects of interest in the image so that they're easier to analyze. "
   ]
  },
  {
   "cell_type": "markdown",
   "metadata": {},
   "source": [
    "### Exercise 2\n",
    "\n",
    "What is **thresholding**, and what is it used for?\n",
    "\n",
    "Thresholding is the process of converting an image into a binary image. It is used to mark certain regions as areas of interest and separate it from the background."
   ]
  },
  {
   "cell_type": "markdown",
   "metadata": {},
   "source": [
    "### Exercise 3\n",
    "\n",
    "What is a **structuring element** and what is it used for?\n",
    "\n",
    "A structuring element is some shape that is used for filtering. It defines the region around a given pixel that is used in the processing of that pixel. It is used for filtering and cleaning up noise from images. "
   ]
  },
  {
   "cell_type": "markdown",
   "metadata": {},
   "source": [
    "### Exercise 4\n",
    "\n",
    "How would you define an **edge** in an image? Describe how a Laplacian of Gaussian filter can be used to find edges in an image. Why can't we just use a Laplacian filter without the Gaussian?\n",
    "\n",
    "Edges mark differences in surfaces or textures or objects that would let us know where important objects are. At an edge, there will be a sharp gradient in the pixel values, which would give a zero-crossing when taking the second derivative. The Gaussian filter reduces noise in the image, and taking the Laplacian gives the second derivative, allowing us to find zero-crossings. It is necessary to use the Gaussian before using the Laplacian filter because noise will be greatly amplified in computing the second derivative. "
   ]
  }
 ],
 "metadata": {
  "anaconda-cloud": {},
  "kernelspec": {
   "display_name": "Python 3",
   "language": "python",
   "name": "python3"
  },
  "language_info": {
   "codemirror_mode": {
    "name": "ipython",
    "version": 3
   },
   "file_extension": ".py",
   "mimetype": "text/x-python",
   "name": "python",
   "nbconvert_exporter": "python",
   "pygments_lexer": "ipython3",
   "version": "3.7.0"
  }
 },
 "nbformat": 4,
 "nbformat_minor": 2
}
