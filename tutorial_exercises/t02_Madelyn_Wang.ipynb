{
 "cells": [
  {
   "cell_type": "markdown",
   "metadata": {},
   "source": [
    "# Tutorial 2: exercise\n",
    "\n",
    "(c) 2018 Justin Bois. With the exception of pasted graphics, where the source is noted, this work is licensed under a [Creative Commons Attribution License CC-BY 4.0](https://creativecommons.org/licenses/by/4.0/). All code contained herein is licensed under an [MIT license](https://opensource.org/licenses/MIT).\n",
    "\n",
    "This document was prepared at [Caltech](http://www.caltech.edu) with financial support from the [Donna and Benjamin M. Rosen Bioengineering Center](http://rosen.caltech.edu).\n",
    "\n",
    "<img src=\"caltech_rosen.png\">\n",
    "\n",
    "*This tutorial exercise was generated from an Jupyter notebook.  You can download the notebook [here](t2_exercise.ipynb). Use this downloaded Jupyter notebook to fill out your responses.*"
   ]
  },
  {
   "cell_type": "markdown",
   "metadata": {},
   "source": [
    "### Exercise 1\n",
    "\n",
    "The [Anderson-Fisher iris data set](https://en.wikipedia.org/wiki/Iris_flower_data_set) is a classic data set used in statistical and machine learning applications. Edgar Anderson carefully measured the lengths and widths of the petals and sepals of 50 irises in each of three species, *I. setosa*, *I. versicolor*, and *I. virginica*. Ronald Fisher then used this data set to distinguish the three species from each other.\n",
    "\n",
    "**a)** Load the data set, which you can download [here](../data/anderson-fisher-iris.csv) into a Pandas `DataFrame` called `df`. Be sure to check out the structure of the data set before loading. You will need to use the `header=[0,1]` kwarg of `pd.read_csv()` to load the data set in properly."
   ]
  },
  {
   "cell_type": "code",
   "execution_count": 41,
   "metadata": {},
   "outputs": [],
   "source": [
    "import numpy as np\n",
    "import pandas as pd\n",
    "\n",
    "import altair as alt\n",
    "import altair_catplot as altcat"
   ]
  },
  {
   "cell_type": "code",
   "execution_count": 4,
   "metadata": {},
   "outputs": [
    {
     "name": "stdout",
     "output_type": "stream",
     "text": [
      "setosa,setosa,setosa,setosa,versicolor,versicolor,versicolor,versicolor,virginica,virginica,virginica,virginica\n",
      "sepal length (cm),sepal width (cm),petal length (cm),petal width (cm),sepal length (cm),sepal width (cm),petal length (cm),petal width (cm),sepal length (cm),sepal width (cm),petal length (cm),petal width (cm)\n",
      ",,,,,,,,,,,\n",
      "5.1,3.5,1.4,0.2,7.0,3.2,4.7,1.4,6.3,3.3,6.0,2.5\n",
      "4.9,3.0,1.4,0.2,6.4,3.2,4.5,1.5,5.8,2.7,5.1,1.9\n",
      "4.7,3.2,1.3,0.2,6.9,3.1,4.9,1.5,7.1,3.0,5.9,2.1\n",
      "4.6,3.1,1.5,0.2,5.5,2.3,4.0,1.3,6.3,2.9,5.6,1.8\n",
      "5.0,3.6,1.4,0.2,6.5,2.8,4.6,1.5,6.5,3.0,5.8,2.2\n",
      "5.4,3.9,1.7,0.4,5.7,2.8,4.5,1.3,7.6,3.0,6.6,2.1\n",
      "4.6,3.4,1.4,0.3,6.3,3.3,4.7,1.6,4.9,2.5,4.5,1.7\n",
      "5.0,3.4,1.5,0.2,4.9,2.4,3.3,1.0,7.3,2.9,6.3,1.8\n",
      "4.4,2.9,1.4,0.2,6.6,2.9,4.6,1.3,6.7,2.5,5.8,1.8\n",
      "4.9,3.1,1.5,0.1,5.2,2.7,3.9,1.4,7.2,3.6,6.1,2.5\n",
      "5.4,3.7,1.5,0.2,5.0,2.0,3.5,1.0,6.5,3.2,5.1,2.0\n",
      "4.8,3.4,1.6,0.2,5.9,3.0,4.2,1.5,6.4,2.7,5.3,1.9\n",
      "4.8,3.0,1.4,0.1,6.0,2.2,4.0,1.0,6.8,3.0,5.5,2.1\n",
      "4.3,3.0,1.1,0.1,6.1,2.9,4.7,1.4,5.7,2.5,5.0,2.0\n",
      "5.8,4.0,1.2,0.2,5.6,2.9,3.6,1.3,5.8,2.8,5.1,2.4\n",
      "5.7,4.4,1.5,0.4,6.7,3.1,4.4,1.4,6.4,3.2,5.3,2.3\n",
      "5.4,3.9,1.3,0.4,5.6,3.0,4.5,1.5,6.5,3.0,5.5,1.8\n",
      "5.1,3.5,1.4,0.3,5.8,2.7,4.1,1.0,7.7,3.8,6.7,2.2\n",
      "5.7,3.8,1.7,0.3,6.2,2.2,4.5,1.5,7.7,2.6,6.9,2.3\n",
      "5.1,3.8,1.5,0.3,5.6,2.5,3.9,1.1,6.0,2.2,5.0,1.5\n",
      "5.4,3.4,1.7,0.2,5.9,3.2,4.8,1.8,6.9,3.2,5.7,2.3\n",
      "5.1,3.7,1.5,0.4,6.1,2.8,4.0,1.3,5.6,2.8,4.9,2.0\n",
      "4.6,3.6,1.0,0.2,6.3,2.5,4.9,1.5,7.7,2.8,6.7,2.0\n",
      "5.1,3.3,1.7,0.5,6.1,2.8,4.7,1.2,6.3,2.7,4.9,1.8\n",
      "4.8,3.4,1.9,0.2,6.4,2.9,4.3,1.3,6.7,3.3,5.7,2.1\n",
      "5.0,3.0,1.6,0.2,6.6,3.0,4.4,1.4,7.2,3.2,6.0,1.8\n",
      "5.0,3.4,1.6,0.4,6.8,2.8,4.8,1.4,6.2,2.8,4.8,1.8\n"
     ]
    }
   ],
   "source": [
    "# Check the structure of the dataset\n",
    "with open('../data/anderson-fisher-iris.csv', 'r') as f:\n",
    "    for _ in range(30):\n",
    "        print(next(f), end='')"
   ]
  },
  {
   "cell_type": "code",
   "execution_count": 12,
   "metadata": {},
   "outputs": [],
   "source": [
    "df = pd.read_csv('../data/anderson-fisher-iris.csv',\n",
    "                 delimiter=',',\n",
    "                 comment='#',\n",
    "                 header=[0,1])"
   ]
  },
  {
   "cell_type": "markdown",
   "metadata": {},
   "source": [
    "**b)** Take a look `df`. Is it tidy? Why or why not?"
   ]
  },
  {
   "cell_type": "code",
   "execution_count": 13,
   "metadata": {},
   "outputs": [
    {
     "data": {
      "text/html": [
       "<div>\n",
       "<style scoped>\n",
       "    .dataframe tbody tr th:only-of-type {\n",
       "        vertical-align: middle;\n",
       "    }\n",
       "\n",
       "    .dataframe tbody tr th {\n",
       "        vertical-align: top;\n",
       "    }\n",
       "\n",
       "    .dataframe thead tr th {\n",
       "        text-align: left;\n",
       "    }\n",
       "</style>\n",
       "<table border=\"1\" class=\"dataframe\">\n",
       "  <thead>\n",
       "    <tr>\n",
       "      <th></th>\n",
       "      <th colspan=\"4\" halign=\"left\">setosa</th>\n",
       "      <th colspan=\"4\" halign=\"left\">versicolor</th>\n",
       "      <th colspan=\"4\" halign=\"left\">virginica</th>\n",
       "    </tr>\n",
       "    <tr>\n",
       "      <th></th>\n",
       "      <th>sepal length (cm)</th>\n",
       "      <th>sepal width (cm)</th>\n",
       "      <th>petal length (cm)</th>\n",
       "      <th>petal width (cm)</th>\n",
       "      <th>sepal length (cm)</th>\n",
       "      <th>sepal width (cm)</th>\n",
       "      <th>petal length (cm)</th>\n",
       "      <th>petal width (cm)</th>\n",
       "      <th>sepal length (cm)</th>\n",
       "      <th>sepal width (cm)</th>\n",
       "      <th>petal length (cm)</th>\n",
       "      <th>petal width (cm)</th>\n",
       "    </tr>\n",
       "  </thead>\n",
       "  <tbody>\n",
       "    <tr>\n",
       "      <th>0</th>\n",
       "      <td>5.1</td>\n",
       "      <td>3.5</td>\n",
       "      <td>1.4</td>\n",
       "      <td>0.2</td>\n",
       "      <td>7.0</td>\n",
       "      <td>3.2</td>\n",
       "      <td>4.7</td>\n",
       "      <td>1.4</td>\n",
       "      <td>6.3</td>\n",
       "      <td>3.3</td>\n",
       "      <td>6.0</td>\n",
       "      <td>2.5</td>\n",
       "    </tr>\n",
       "    <tr>\n",
       "      <th>1</th>\n",
       "      <td>4.9</td>\n",
       "      <td>3.0</td>\n",
       "      <td>1.4</td>\n",
       "      <td>0.2</td>\n",
       "      <td>6.4</td>\n",
       "      <td>3.2</td>\n",
       "      <td>4.5</td>\n",
       "      <td>1.5</td>\n",
       "      <td>5.8</td>\n",
       "      <td>2.7</td>\n",
       "      <td>5.1</td>\n",
       "      <td>1.9</td>\n",
       "    </tr>\n",
       "    <tr>\n",
       "      <th>2</th>\n",
       "      <td>4.7</td>\n",
       "      <td>3.2</td>\n",
       "      <td>1.3</td>\n",
       "      <td>0.2</td>\n",
       "      <td>6.9</td>\n",
       "      <td>3.1</td>\n",
       "      <td>4.9</td>\n",
       "      <td>1.5</td>\n",
       "      <td>7.1</td>\n",
       "      <td>3.0</td>\n",
       "      <td>5.9</td>\n",
       "      <td>2.1</td>\n",
       "    </tr>\n",
       "    <tr>\n",
       "      <th>3</th>\n",
       "      <td>4.6</td>\n",
       "      <td>3.1</td>\n",
       "      <td>1.5</td>\n",
       "      <td>0.2</td>\n",
       "      <td>5.5</td>\n",
       "      <td>2.3</td>\n",
       "      <td>4.0</td>\n",
       "      <td>1.3</td>\n",
       "      <td>6.3</td>\n",
       "      <td>2.9</td>\n",
       "      <td>5.6</td>\n",
       "      <td>1.8</td>\n",
       "    </tr>\n",
       "    <tr>\n",
       "      <th>4</th>\n",
       "      <td>5.0</td>\n",
       "      <td>3.6</td>\n",
       "      <td>1.4</td>\n",
       "      <td>0.2</td>\n",
       "      <td>6.5</td>\n",
       "      <td>2.8</td>\n",
       "      <td>4.6</td>\n",
       "      <td>1.5</td>\n",
       "      <td>6.5</td>\n",
       "      <td>3.0</td>\n",
       "      <td>5.8</td>\n",
       "      <td>2.2</td>\n",
       "    </tr>\n",
       "    <tr>\n",
       "      <th>5</th>\n",
       "      <td>5.4</td>\n",
       "      <td>3.9</td>\n",
       "      <td>1.7</td>\n",
       "      <td>0.4</td>\n",
       "      <td>5.7</td>\n",
       "      <td>2.8</td>\n",
       "      <td>4.5</td>\n",
       "      <td>1.3</td>\n",
       "      <td>7.6</td>\n",
       "      <td>3.0</td>\n",
       "      <td>6.6</td>\n",
       "      <td>2.1</td>\n",
       "    </tr>\n",
       "    <tr>\n",
       "      <th>6</th>\n",
       "      <td>4.6</td>\n",
       "      <td>3.4</td>\n",
       "      <td>1.4</td>\n",
       "      <td>0.3</td>\n",
       "      <td>6.3</td>\n",
       "      <td>3.3</td>\n",
       "      <td>4.7</td>\n",
       "      <td>1.6</td>\n",
       "      <td>4.9</td>\n",
       "      <td>2.5</td>\n",
       "      <td>4.5</td>\n",
       "      <td>1.7</td>\n",
       "    </tr>\n",
       "    <tr>\n",
       "      <th>7</th>\n",
       "      <td>5.0</td>\n",
       "      <td>3.4</td>\n",
       "      <td>1.5</td>\n",
       "      <td>0.2</td>\n",
       "      <td>4.9</td>\n",
       "      <td>2.4</td>\n",
       "      <td>3.3</td>\n",
       "      <td>1.0</td>\n",
       "      <td>7.3</td>\n",
       "      <td>2.9</td>\n",
       "      <td>6.3</td>\n",
       "      <td>1.8</td>\n",
       "    </tr>\n",
       "    <tr>\n",
       "      <th>8</th>\n",
       "      <td>4.4</td>\n",
       "      <td>2.9</td>\n",
       "      <td>1.4</td>\n",
       "      <td>0.2</td>\n",
       "      <td>6.6</td>\n",
       "      <td>2.9</td>\n",
       "      <td>4.6</td>\n",
       "      <td>1.3</td>\n",
       "      <td>6.7</td>\n",
       "      <td>2.5</td>\n",
       "      <td>5.8</td>\n",
       "      <td>1.8</td>\n",
       "    </tr>\n",
       "    <tr>\n",
       "      <th>9</th>\n",
       "      <td>4.9</td>\n",
       "      <td>3.1</td>\n",
       "      <td>1.5</td>\n",
       "      <td>0.1</td>\n",
       "      <td>5.2</td>\n",
       "      <td>2.7</td>\n",
       "      <td>3.9</td>\n",
       "      <td>1.4</td>\n",
       "      <td>7.2</td>\n",
       "      <td>3.6</td>\n",
       "      <td>6.1</td>\n",
       "      <td>2.5</td>\n",
       "    </tr>\n",
       "    <tr>\n",
       "      <th>10</th>\n",
       "      <td>5.4</td>\n",
       "      <td>3.7</td>\n",
       "      <td>1.5</td>\n",
       "      <td>0.2</td>\n",
       "      <td>5.0</td>\n",
       "      <td>2.0</td>\n",
       "      <td>3.5</td>\n",
       "      <td>1.0</td>\n",
       "      <td>6.5</td>\n",
       "      <td>3.2</td>\n",
       "      <td>5.1</td>\n",
       "      <td>2.0</td>\n",
       "    </tr>\n",
       "    <tr>\n",
       "      <th>11</th>\n",
       "      <td>4.8</td>\n",
       "      <td>3.4</td>\n",
       "      <td>1.6</td>\n",
       "      <td>0.2</td>\n",
       "      <td>5.9</td>\n",
       "      <td>3.0</td>\n",
       "      <td>4.2</td>\n",
       "      <td>1.5</td>\n",
       "      <td>6.4</td>\n",
       "      <td>2.7</td>\n",
       "      <td>5.3</td>\n",
       "      <td>1.9</td>\n",
       "    </tr>\n",
       "    <tr>\n",
       "      <th>12</th>\n",
       "      <td>4.8</td>\n",
       "      <td>3.0</td>\n",
       "      <td>1.4</td>\n",
       "      <td>0.1</td>\n",
       "      <td>6.0</td>\n",
       "      <td>2.2</td>\n",
       "      <td>4.0</td>\n",
       "      <td>1.0</td>\n",
       "      <td>6.8</td>\n",
       "      <td>3.0</td>\n",
       "      <td>5.5</td>\n",
       "      <td>2.1</td>\n",
       "    </tr>\n",
       "    <tr>\n",
       "      <th>13</th>\n",
       "      <td>4.3</td>\n",
       "      <td>3.0</td>\n",
       "      <td>1.1</td>\n",
       "      <td>0.1</td>\n",
       "      <td>6.1</td>\n",
       "      <td>2.9</td>\n",
       "      <td>4.7</td>\n",
       "      <td>1.4</td>\n",
       "      <td>5.7</td>\n",
       "      <td>2.5</td>\n",
       "      <td>5.0</td>\n",
       "      <td>2.0</td>\n",
       "    </tr>\n",
       "    <tr>\n",
       "      <th>14</th>\n",
       "      <td>5.8</td>\n",
       "      <td>4.0</td>\n",
       "      <td>1.2</td>\n",
       "      <td>0.2</td>\n",
       "      <td>5.6</td>\n",
       "      <td>2.9</td>\n",
       "      <td>3.6</td>\n",
       "      <td>1.3</td>\n",
       "      <td>5.8</td>\n",
       "      <td>2.8</td>\n",
       "      <td>5.1</td>\n",
       "      <td>2.4</td>\n",
       "    </tr>\n",
       "    <tr>\n",
       "      <th>15</th>\n",
       "      <td>5.7</td>\n",
       "      <td>4.4</td>\n",
       "      <td>1.5</td>\n",
       "      <td>0.4</td>\n",
       "      <td>6.7</td>\n",
       "      <td>3.1</td>\n",
       "      <td>4.4</td>\n",
       "      <td>1.4</td>\n",
       "      <td>6.4</td>\n",
       "      <td>3.2</td>\n",
       "      <td>5.3</td>\n",
       "      <td>2.3</td>\n",
       "    </tr>\n",
       "    <tr>\n",
       "      <th>16</th>\n",
       "      <td>5.4</td>\n",
       "      <td>3.9</td>\n",
       "      <td>1.3</td>\n",
       "      <td>0.4</td>\n",
       "      <td>5.6</td>\n",
       "      <td>3.0</td>\n",
       "      <td>4.5</td>\n",
       "      <td>1.5</td>\n",
       "      <td>6.5</td>\n",
       "      <td>3.0</td>\n",
       "      <td>5.5</td>\n",
       "      <td>1.8</td>\n",
       "    </tr>\n",
       "    <tr>\n",
       "      <th>17</th>\n",
       "      <td>5.1</td>\n",
       "      <td>3.5</td>\n",
       "      <td>1.4</td>\n",
       "      <td>0.3</td>\n",
       "      <td>5.8</td>\n",
       "      <td>2.7</td>\n",
       "      <td>4.1</td>\n",
       "      <td>1.0</td>\n",
       "      <td>7.7</td>\n",
       "      <td>3.8</td>\n",
       "      <td>6.7</td>\n",
       "      <td>2.2</td>\n",
       "    </tr>\n",
       "    <tr>\n",
       "      <th>18</th>\n",
       "      <td>5.7</td>\n",
       "      <td>3.8</td>\n",
       "      <td>1.7</td>\n",
       "      <td>0.3</td>\n",
       "      <td>6.2</td>\n",
       "      <td>2.2</td>\n",
       "      <td>4.5</td>\n",
       "      <td>1.5</td>\n",
       "      <td>7.7</td>\n",
       "      <td>2.6</td>\n",
       "      <td>6.9</td>\n",
       "      <td>2.3</td>\n",
       "    </tr>\n",
       "    <tr>\n",
       "      <th>19</th>\n",
       "      <td>5.1</td>\n",
       "      <td>3.8</td>\n",
       "      <td>1.5</td>\n",
       "      <td>0.3</td>\n",
       "      <td>5.6</td>\n",
       "      <td>2.5</td>\n",
       "      <td>3.9</td>\n",
       "      <td>1.1</td>\n",
       "      <td>6.0</td>\n",
       "      <td>2.2</td>\n",
       "      <td>5.0</td>\n",
       "      <td>1.5</td>\n",
       "    </tr>\n",
       "    <tr>\n",
       "      <th>20</th>\n",
       "      <td>5.4</td>\n",
       "      <td>3.4</td>\n",
       "      <td>1.7</td>\n",
       "      <td>0.2</td>\n",
       "      <td>5.9</td>\n",
       "      <td>3.2</td>\n",
       "      <td>4.8</td>\n",
       "      <td>1.8</td>\n",
       "      <td>6.9</td>\n",
       "      <td>3.2</td>\n",
       "      <td>5.7</td>\n",
       "      <td>2.3</td>\n",
       "    </tr>\n",
       "    <tr>\n",
       "      <th>21</th>\n",
       "      <td>5.1</td>\n",
       "      <td>3.7</td>\n",
       "      <td>1.5</td>\n",
       "      <td>0.4</td>\n",
       "      <td>6.1</td>\n",
       "      <td>2.8</td>\n",
       "      <td>4.0</td>\n",
       "      <td>1.3</td>\n",
       "      <td>5.6</td>\n",
       "      <td>2.8</td>\n",
       "      <td>4.9</td>\n",
       "      <td>2.0</td>\n",
       "    </tr>\n",
       "    <tr>\n",
       "      <th>22</th>\n",
       "      <td>4.6</td>\n",
       "      <td>3.6</td>\n",
       "      <td>1.0</td>\n",
       "      <td>0.2</td>\n",
       "      <td>6.3</td>\n",
       "      <td>2.5</td>\n",
       "      <td>4.9</td>\n",
       "      <td>1.5</td>\n",
       "      <td>7.7</td>\n",
       "      <td>2.8</td>\n",
       "      <td>6.7</td>\n",
       "      <td>2.0</td>\n",
       "    </tr>\n",
       "    <tr>\n",
       "      <th>23</th>\n",
       "      <td>5.1</td>\n",
       "      <td>3.3</td>\n",
       "      <td>1.7</td>\n",
       "      <td>0.5</td>\n",
       "      <td>6.1</td>\n",
       "      <td>2.8</td>\n",
       "      <td>4.7</td>\n",
       "      <td>1.2</td>\n",
       "      <td>6.3</td>\n",
       "      <td>2.7</td>\n",
       "      <td>4.9</td>\n",
       "      <td>1.8</td>\n",
       "    </tr>\n",
       "    <tr>\n",
       "      <th>24</th>\n",
       "      <td>4.8</td>\n",
       "      <td>3.4</td>\n",
       "      <td>1.9</td>\n",
       "      <td>0.2</td>\n",
       "      <td>6.4</td>\n",
       "      <td>2.9</td>\n",
       "      <td>4.3</td>\n",
       "      <td>1.3</td>\n",
       "      <td>6.7</td>\n",
       "      <td>3.3</td>\n",
       "      <td>5.7</td>\n",
       "      <td>2.1</td>\n",
       "    </tr>\n",
       "    <tr>\n",
       "      <th>25</th>\n",
       "      <td>5.0</td>\n",
       "      <td>3.0</td>\n",
       "      <td>1.6</td>\n",
       "      <td>0.2</td>\n",
       "      <td>6.6</td>\n",
       "      <td>3.0</td>\n",
       "      <td>4.4</td>\n",
       "      <td>1.4</td>\n",
       "      <td>7.2</td>\n",
       "      <td>3.2</td>\n",
       "      <td>6.0</td>\n",
       "      <td>1.8</td>\n",
       "    </tr>\n",
       "    <tr>\n",
       "      <th>26</th>\n",
       "      <td>5.0</td>\n",
       "      <td>3.4</td>\n",
       "      <td>1.6</td>\n",
       "      <td>0.4</td>\n",
       "      <td>6.8</td>\n",
       "      <td>2.8</td>\n",
       "      <td>4.8</td>\n",
       "      <td>1.4</td>\n",
       "      <td>6.2</td>\n",
       "      <td>2.8</td>\n",
       "      <td>4.8</td>\n",
       "      <td>1.8</td>\n",
       "    </tr>\n",
       "    <tr>\n",
       "      <th>27</th>\n",
       "      <td>5.2</td>\n",
       "      <td>3.5</td>\n",
       "      <td>1.5</td>\n",
       "      <td>0.2</td>\n",
       "      <td>6.7</td>\n",
       "      <td>3.0</td>\n",
       "      <td>5.0</td>\n",
       "      <td>1.7</td>\n",
       "      <td>6.1</td>\n",
       "      <td>3.0</td>\n",
       "      <td>4.9</td>\n",
       "      <td>1.8</td>\n",
       "    </tr>\n",
       "    <tr>\n",
       "      <th>28</th>\n",
       "      <td>5.2</td>\n",
       "      <td>3.4</td>\n",
       "      <td>1.4</td>\n",
       "      <td>0.2</td>\n",
       "      <td>6.0</td>\n",
       "      <td>2.9</td>\n",
       "      <td>4.5</td>\n",
       "      <td>1.5</td>\n",
       "      <td>6.4</td>\n",
       "      <td>2.8</td>\n",
       "      <td>5.6</td>\n",
       "      <td>2.1</td>\n",
       "    </tr>\n",
       "    <tr>\n",
       "      <th>29</th>\n",
       "      <td>4.7</td>\n",
       "      <td>3.2</td>\n",
       "      <td>1.6</td>\n",
       "      <td>0.2</td>\n",
       "      <td>5.7</td>\n",
       "      <td>2.6</td>\n",
       "      <td>3.5</td>\n",
       "      <td>1.0</td>\n",
       "      <td>7.2</td>\n",
       "      <td>3.0</td>\n",
       "      <td>5.8</td>\n",
       "      <td>1.6</td>\n",
       "    </tr>\n",
       "    <tr>\n",
       "      <th>30</th>\n",
       "      <td>4.8</td>\n",
       "      <td>3.1</td>\n",
       "      <td>1.6</td>\n",
       "      <td>0.2</td>\n",
       "      <td>5.5</td>\n",
       "      <td>2.4</td>\n",
       "      <td>3.8</td>\n",
       "      <td>1.1</td>\n",
       "      <td>7.4</td>\n",
       "      <td>2.8</td>\n",
       "      <td>6.1</td>\n",
       "      <td>1.9</td>\n",
       "    </tr>\n",
       "    <tr>\n",
       "      <th>31</th>\n",
       "      <td>5.4</td>\n",
       "      <td>3.4</td>\n",
       "      <td>1.5</td>\n",
       "      <td>0.4</td>\n",
       "      <td>5.5</td>\n",
       "      <td>2.4</td>\n",
       "      <td>3.7</td>\n",
       "      <td>1.0</td>\n",
       "      <td>7.9</td>\n",
       "      <td>3.8</td>\n",
       "      <td>6.4</td>\n",
       "      <td>2.0</td>\n",
       "    </tr>\n",
       "    <tr>\n",
       "      <th>32</th>\n",
       "      <td>5.2</td>\n",
       "      <td>4.1</td>\n",
       "      <td>1.5</td>\n",
       "      <td>0.1</td>\n",
       "      <td>5.8</td>\n",
       "      <td>2.7</td>\n",
       "      <td>3.9</td>\n",
       "      <td>1.2</td>\n",
       "      <td>6.4</td>\n",
       "      <td>2.8</td>\n",
       "      <td>5.6</td>\n",
       "      <td>2.2</td>\n",
       "    </tr>\n",
       "    <tr>\n",
       "      <th>33</th>\n",
       "      <td>5.5</td>\n",
       "      <td>4.2</td>\n",
       "      <td>1.4</td>\n",
       "      <td>0.2</td>\n",
       "      <td>6.0</td>\n",
       "      <td>2.7</td>\n",
       "      <td>5.1</td>\n",
       "      <td>1.6</td>\n",
       "      <td>6.3</td>\n",
       "      <td>2.8</td>\n",
       "      <td>5.1</td>\n",
       "      <td>1.5</td>\n",
       "    </tr>\n",
       "    <tr>\n",
       "      <th>34</th>\n",
       "      <td>4.9</td>\n",
       "      <td>3.1</td>\n",
       "      <td>1.5</td>\n",
       "      <td>0.1</td>\n",
       "      <td>5.4</td>\n",
       "      <td>3.0</td>\n",
       "      <td>4.5</td>\n",
       "      <td>1.5</td>\n",
       "      <td>6.1</td>\n",
       "      <td>2.6</td>\n",
       "      <td>5.6</td>\n",
       "      <td>1.4</td>\n",
       "    </tr>\n",
       "    <tr>\n",
       "      <th>35</th>\n",
       "      <td>5.0</td>\n",
       "      <td>3.2</td>\n",
       "      <td>1.2</td>\n",
       "      <td>0.2</td>\n",
       "      <td>6.0</td>\n",
       "      <td>3.4</td>\n",
       "      <td>4.5</td>\n",
       "      <td>1.6</td>\n",
       "      <td>7.7</td>\n",
       "      <td>3.0</td>\n",
       "      <td>6.1</td>\n",
       "      <td>2.3</td>\n",
       "    </tr>\n",
       "    <tr>\n",
       "      <th>36</th>\n",
       "      <td>5.5</td>\n",
       "      <td>3.5</td>\n",
       "      <td>1.3</td>\n",
       "      <td>0.2</td>\n",
       "      <td>6.7</td>\n",
       "      <td>3.1</td>\n",
       "      <td>4.7</td>\n",
       "      <td>1.5</td>\n",
       "      <td>6.3</td>\n",
       "      <td>3.4</td>\n",
       "      <td>5.6</td>\n",
       "      <td>2.4</td>\n",
       "    </tr>\n",
       "    <tr>\n",
       "      <th>37</th>\n",
       "      <td>4.9</td>\n",
       "      <td>3.1</td>\n",
       "      <td>1.5</td>\n",
       "      <td>0.1</td>\n",
       "      <td>6.3</td>\n",
       "      <td>2.3</td>\n",
       "      <td>4.4</td>\n",
       "      <td>1.3</td>\n",
       "      <td>6.4</td>\n",
       "      <td>3.1</td>\n",
       "      <td>5.5</td>\n",
       "      <td>1.8</td>\n",
       "    </tr>\n",
       "    <tr>\n",
       "      <th>38</th>\n",
       "      <td>4.4</td>\n",
       "      <td>3.0</td>\n",
       "      <td>1.3</td>\n",
       "      <td>0.2</td>\n",
       "      <td>5.6</td>\n",
       "      <td>3.0</td>\n",
       "      <td>4.1</td>\n",
       "      <td>1.3</td>\n",
       "      <td>6.0</td>\n",
       "      <td>3.0</td>\n",
       "      <td>4.8</td>\n",
       "      <td>1.8</td>\n",
       "    </tr>\n",
       "    <tr>\n",
       "      <th>39</th>\n",
       "      <td>5.1</td>\n",
       "      <td>3.4</td>\n",
       "      <td>1.5</td>\n",
       "      <td>0.2</td>\n",
       "      <td>5.5</td>\n",
       "      <td>2.5</td>\n",
       "      <td>4.0</td>\n",
       "      <td>1.3</td>\n",
       "      <td>6.9</td>\n",
       "      <td>3.1</td>\n",
       "      <td>5.4</td>\n",
       "      <td>2.1</td>\n",
       "    </tr>\n",
       "    <tr>\n",
       "      <th>40</th>\n",
       "      <td>5.0</td>\n",
       "      <td>3.5</td>\n",
       "      <td>1.3</td>\n",
       "      <td>0.3</td>\n",
       "      <td>5.5</td>\n",
       "      <td>2.6</td>\n",
       "      <td>4.4</td>\n",
       "      <td>1.2</td>\n",
       "      <td>6.7</td>\n",
       "      <td>3.1</td>\n",
       "      <td>5.6</td>\n",
       "      <td>2.4</td>\n",
       "    </tr>\n",
       "    <tr>\n",
       "      <th>41</th>\n",
       "      <td>4.5</td>\n",
       "      <td>2.3</td>\n",
       "      <td>1.3</td>\n",
       "      <td>0.3</td>\n",
       "      <td>6.1</td>\n",
       "      <td>3.0</td>\n",
       "      <td>4.6</td>\n",
       "      <td>1.4</td>\n",
       "      <td>6.9</td>\n",
       "      <td>3.1</td>\n",
       "      <td>5.1</td>\n",
       "      <td>2.3</td>\n",
       "    </tr>\n",
       "    <tr>\n",
       "      <th>42</th>\n",
       "      <td>4.4</td>\n",
       "      <td>3.2</td>\n",
       "      <td>1.3</td>\n",
       "      <td>0.2</td>\n",
       "      <td>5.8</td>\n",
       "      <td>2.6</td>\n",
       "      <td>4.0</td>\n",
       "      <td>1.2</td>\n",
       "      <td>5.8</td>\n",
       "      <td>2.7</td>\n",
       "      <td>5.1</td>\n",
       "      <td>1.9</td>\n",
       "    </tr>\n",
       "    <tr>\n",
       "      <th>43</th>\n",
       "      <td>5.0</td>\n",
       "      <td>3.5</td>\n",
       "      <td>1.6</td>\n",
       "      <td>0.6</td>\n",
       "      <td>5.0</td>\n",
       "      <td>2.3</td>\n",
       "      <td>3.3</td>\n",
       "      <td>1.0</td>\n",
       "      <td>6.8</td>\n",
       "      <td>3.2</td>\n",
       "      <td>5.9</td>\n",
       "      <td>2.3</td>\n",
       "    </tr>\n",
       "    <tr>\n",
       "      <th>44</th>\n",
       "      <td>5.1</td>\n",
       "      <td>3.8</td>\n",
       "      <td>1.9</td>\n",
       "      <td>0.4</td>\n",
       "      <td>5.6</td>\n",
       "      <td>2.7</td>\n",
       "      <td>4.2</td>\n",
       "      <td>1.3</td>\n",
       "      <td>6.7</td>\n",
       "      <td>3.3</td>\n",
       "      <td>5.7</td>\n",
       "      <td>2.5</td>\n",
       "    </tr>\n",
       "    <tr>\n",
       "      <th>45</th>\n",
       "      <td>4.8</td>\n",
       "      <td>3.0</td>\n",
       "      <td>1.4</td>\n",
       "      <td>0.3</td>\n",
       "      <td>5.7</td>\n",
       "      <td>3.0</td>\n",
       "      <td>4.2</td>\n",
       "      <td>1.2</td>\n",
       "      <td>6.7</td>\n",
       "      <td>3.0</td>\n",
       "      <td>5.2</td>\n",
       "      <td>2.3</td>\n",
       "    </tr>\n",
       "    <tr>\n",
       "      <th>46</th>\n",
       "      <td>5.1</td>\n",
       "      <td>3.8</td>\n",
       "      <td>1.6</td>\n",
       "      <td>0.2</td>\n",
       "      <td>5.7</td>\n",
       "      <td>2.9</td>\n",
       "      <td>4.2</td>\n",
       "      <td>1.3</td>\n",
       "      <td>6.3</td>\n",
       "      <td>2.5</td>\n",
       "      <td>5.0</td>\n",
       "      <td>1.9</td>\n",
       "    </tr>\n",
       "    <tr>\n",
       "      <th>47</th>\n",
       "      <td>4.6</td>\n",
       "      <td>3.2</td>\n",
       "      <td>1.4</td>\n",
       "      <td>0.2</td>\n",
       "      <td>6.2</td>\n",
       "      <td>2.9</td>\n",
       "      <td>4.3</td>\n",
       "      <td>1.3</td>\n",
       "      <td>6.5</td>\n",
       "      <td>3.0</td>\n",
       "      <td>5.2</td>\n",
       "      <td>2.0</td>\n",
       "    </tr>\n",
       "    <tr>\n",
       "      <th>48</th>\n",
       "      <td>5.3</td>\n",
       "      <td>3.7</td>\n",
       "      <td>1.5</td>\n",
       "      <td>0.2</td>\n",
       "      <td>5.1</td>\n",
       "      <td>2.5</td>\n",
       "      <td>3.0</td>\n",
       "      <td>1.1</td>\n",
       "      <td>6.2</td>\n",
       "      <td>3.4</td>\n",
       "      <td>5.4</td>\n",
       "      <td>2.3</td>\n",
       "    </tr>\n",
       "    <tr>\n",
       "      <th>49</th>\n",
       "      <td>5.0</td>\n",
       "      <td>3.3</td>\n",
       "      <td>1.4</td>\n",
       "      <td>0.2</td>\n",
       "      <td>5.7</td>\n",
       "      <td>2.8</td>\n",
       "      <td>4.1</td>\n",
       "      <td>1.3</td>\n",
       "      <td>5.9</td>\n",
       "      <td>3.0</td>\n",
       "      <td>5.1</td>\n",
       "      <td>1.8</td>\n",
       "    </tr>\n",
       "  </tbody>\n",
       "</table>\n",
       "</div>"
      ],
      "text/plain": [
       "              setosa                                                      \\\n",
       "   sepal length (cm) sepal width (cm) petal length (cm) petal width (cm)   \n",
       "0                5.1              3.5               1.4              0.2   \n",
       "1                4.9              3.0               1.4              0.2   \n",
       "2                4.7              3.2               1.3              0.2   \n",
       "3                4.6              3.1               1.5              0.2   \n",
       "4                5.0              3.6               1.4              0.2   \n",
       "5                5.4              3.9               1.7              0.4   \n",
       "6                4.6              3.4               1.4              0.3   \n",
       "7                5.0              3.4               1.5              0.2   \n",
       "8                4.4              2.9               1.4              0.2   \n",
       "9                4.9              3.1               1.5              0.1   \n",
       "10               5.4              3.7               1.5              0.2   \n",
       "11               4.8              3.4               1.6              0.2   \n",
       "12               4.8              3.0               1.4              0.1   \n",
       "13               4.3              3.0               1.1              0.1   \n",
       "14               5.8              4.0               1.2              0.2   \n",
       "15               5.7              4.4               1.5              0.4   \n",
       "16               5.4              3.9               1.3              0.4   \n",
       "17               5.1              3.5               1.4              0.3   \n",
       "18               5.7              3.8               1.7              0.3   \n",
       "19               5.1              3.8               1.5              0.3   \n",
       "20               5.4              3.4               1.7              0.2   \n",
       "21               5.1              3.7               1.5              0.4   \n",
       "22               4.6              3.6               1.0              0.2   \n",
       "23               5.1              3.3               1.7              0.5   \n",
       "24               4.8              3.4               1.9              0.2   \n",
       "25               5.0              3.0               1.6              0.2   \n",
       "26               5.0              3.4               1.6              0.4   \n",
       "27               5.2              3.5               1.5              0.2   \n",
       "28               5.2              3.4               1.4              0.2   \n",
       "29               4.7              3.2               1.6              0.2   \n",
       "30               4.8              3.1               1.6              0.2   \n",
       "31               5.4              3.4               1.5              0.4   \n",
       "32               5.2              4.1               1.5              0.1   \n",
       "33               5.5              4.2               1.4              0.2   \n",
       "34               4.9              3.1               1.5              0.1   \n",
       "35               5.0              3.2               1.2              0.2   \n",
       "36               5.5              3.5               1.3              0.2   \n",
       "37               4.9              3.1               1.5              0.1   \n",
       "38               4.4              3.0               1.3              0.2   \n",
       "39               5.1              3.4               1.5              0.2   \n",
       "40               5.0              3.5               1.3              0.3   \n",
       "41               4.5              2.3               1.3              0.3   \n",
       "42               4.4              3.2               1.3              0.2   \n",
       "43               5.0              3.5               1.6              0.6   \n",
       "44               5.1              3.8               1.9              0.4   \n",
       "45               4.8              3.0               1.4              0.3   \n",
       "46               5.1              3.8               1.6              0.2   \n",
       "47               4.6              3.2               1.4              0.2   \n",
       "48               5.3              3.7               1.5              0.2   \n",
       "49               5.0              3.3               1.4              0.2   \n",
       "\n",
       "          versicolor                                                      \\\n",
       "   sepal length (cm) sepal width (cm) petal length (cm) petal width (cm)   \n",
       "0                7.0              3.2               4.7              1.4   \n",
       "1                6.4              3.2               4.5              1.5   \n",
       "2                6.9              3.1               4.9              1.5   \n",
       "3                5.5              2.3               4.0              1.3   \n",
       "4                6.5              2.8               4.6              1.5   \n",
       "5                5.7              2.8               4.5              1.3   \n",
       "6                6.3              3.3               4.7              1.6   \n",
       "7                4.9              2.4               3.3              1.0   \n",
       "8                6.6              2.9               4.6              1.3   \n",
       "9                5.2              2.7               3.9              1.4   \n",
       "10               5.0              2.0               3.5              1.0   \n",
       "11               5.9              3.0               4.2              1.5   \n",
       "12               6.0              2.2               4.0              1.0   \n",
       "13               6.1              2.9               4.7              1.4   \n",
       "14               5.6              2.9               3.6              1.3   \n",
       "15               6.7              3.1               4.4              1.4   \n",
       "16               5.6              3.0               4.5              1.5   \n",
       "17               5.8              2.7               4.1              1.0   \n",
       "18               6.2              2.2               4.5              1.5   \n",
       "19               5.6              2.5               3.9              1.1   \n",
       "20               5.9              3.2               4.8              1.8   \n",
       "21               6.1              2.8               4.0              1.3   \n",
       "22               6.3              2.5               4.9              1.5   \n",
       "23               6.1              2.8               4.7              1.2   \n",
       "24               6.4              2.9               4.3              1.3   \n",
       "25               6.6              3.0               4.4              1.4   \n",
       "26               6.8              2.8               4.8              1.4   \n",
       "27               6.7              3.0               5.0              1.7   \n",
       "28               6.0              2.9               4.5              1.5   \n",
       "29               5.7              2.6               3.5              1.0   \n",
       "30               5.5              2.4               3.8              1.1   \n",
       "31               5.5              2.4               3.7              1.0   \n",
       "32               5.8              2.7               3.9              1.2   \n",
       "33               6.0              2.7               5.1              1.6   \n",
       "34               5.4              3.0               4.5              1.5   \n",
       "35               6.0              3.4               4.5              1.6   \n",
       "36               6.7              3.1               4.7              1.5   \n",
       "37               6.3              2.3               4.4              1.3   \n",
       "38               5.6              3.0               4.1              1.3   \n",
       "39               5.5              2.5               4.0              1.3   \n",
       "40               5.5              2.6               4.4              1.2   \n",
       "41               6.1              3.0               4.6              1.4   \n",
       "42               5.8              2.6               4.0              1.2   \n",
       "43               5.0              2.3               3.3              1.0   \n",
       "44               5.6              2.7               4.2              1.3   \n",
       "45               5.7              3.0               4.2              1.2   \n",
       "46               5.7              2.9               4.2              1.3   \n",
       "47               6.2              2.9               4.3              1.3   \n",
       "48               5.1              2.5               3.0              1.1   \n",
       "49               5.7              2.8               4.1              1.3   \n",
       "\n",
       "           virginica                                                      \n",
       "   sepal length (cm) sepal width (cm) petal length (cm) petal width (cm)  \n",
       "0                6.3              3.3               6.0              2.5  \n",
       "1                5.8              2.7               5.1              1.9  \n",
       "2                7.1              3.0               5.9              2.1  \n",
       "3                6.3              2.9               5.6              1.8  \n",
       "4                6.5              3.0               5.8              2.2  \n",
       "5                7.6              3.0               6.6              2.1  \n",
       "6                4.9              2.5               4.5              1.7  \n",
       "7                7.3              2.9               6.3              1.8  \n",
       "8                6.7              2.5               5.8              1.8  \n",
       "9                7.2              3.6               6.1              2.5  \n",
       "10               6.5              3.2               5.1              2.0  \n",
       "11               6.4              2.7               5.3              1.9  \n",
       "12               6.8              3.0               5.5              2.1  \n",
       "13               5.7              2.5               5.0              2.0  \n",
       "14               5.8              2.8               5.1              2.4  \n",
       "15               6.4              3.2               5.3              2.3  \n",
       "16               6.5              3.0               5.5              1.8  \n",
       "17               7.7              3.8               6.7              2.2  \n",
       "18               7.7              2.6               6.9              2.3  \n",
       "19               6.0              2.2               5.0              1.5  \n",
       "20               6.9              3.2               5.7              2.3  \n",
       "21               5.6              2.8               4.9              2.0  \n",
       "22               7.7              2.8               6.7              2.0  \n",
       "23               6.3              2.7               4.9              1.8  \n",
       "24               6.7              3.3               5.7              2.1  \n",
       "25               7.2              3.2               6.0              1.8  \n",
       "26               6.2              2.8               4.8              1.8  \n",
       "27               6.1              3.0               4.9              1.8  \n",
       "28               6.4              2.8               5.6              2.1  \n",
       "29               7.2              3.0               5.8              1.6  \n",
       "30               7.4              2.8               6.1              1.9  \n",
       "31               7.9              3.8               6.4              2.0  \n",
       "32               6.4              2.8               5.6              2.2  \n",
       "33               6.3              2.8               5.1              1.5  \n",
       "34               6.1              2.6               5.6              1.4  \n",
       "35               7.7              3.0               6.1              2.3  \n",
       "36               6.3              3.4               5.6              2.4  \n",
       "37               6.4              3.1               5.5              1.8  \n",
       "38               6.0              3.0               4.8              1.8  \n",
       "39               6.9              3.1               5.4              2.1  \n",
       "40               6.7              3.1               5.6              2.4  \n",
       "41               6.9              3.1               5.1              2.3  \n",
       "42               5.8              2.7               5.1              1.9  \n",
       "43               6.8              3.2               5.9              2.3  \n",
       "44               6.7              3.3               5.7              2.5  \n",
       "45               6.7              3.0               5.2              2.3  \n",
       "46               6.3              2.5               5.0              1.9  \n",
       "47               6.5              3.0               5.2              2.0  \n",
       "48               6.2              3.4               5.4              2.3  \n",
       "49               5.9              3.0               5.1              1.8  "
      ]
     },
     "execution_count": 13,
     "metadata": {},
     "output_type": "execute_result"
    }
   ],
   "source": [
    "df"
   ]
  },
  {
   "cell_type": "markdown",
   "metadata": {},
   "source": [
    "It is not tidy because there should be a column specifying the species."
   ]
  },
  {
   "cell_type": "markdown",
   "metadata": {},
   "source": [
    "**c)** Perform the following operations to make a new `DataFrame` from the original one you loaded in exercise 1 to generate a new `DataFrame`. Do these operations one-by-one and explain what you are doing to the `DataFrame` in each one. The Pandas documentation might help."
   ]
  },
  {
   "cell_type": "code",
   "execution_count": 14,
   "metadata": {
    "collapsed": true
   },
   "outputs": [],
   "source": [
    "df_tidy = df.stack(level=0)"
   ]
  },
  {
   "cell_type": "code",
   "execution_count": 16,
   "metadata": {},
   "outputs": [
    {
     "data": {
      "text/html": [
       "<div>\n",
       "<style scoped>\n",
       "    .dataframe tbody tr th:only-of-type {\n",
       "        vertical-align: middle;\n",
       "    }\n",
       "\n",
       "    .dataframe tbody tr th {\n",
       "        vertical-align: top;\n",
       "    }\n",
       "\n",
       "    .dataframe thead th {\n",
       "        text-align: right;\n",
       "    }\n",
       "</style>\n",
       "<table border=\"1\" class=\"dataframe\">\n",
       "  <thead>\n",
       "    <tr style=\"text-align: right;\">\n",
       "      <th></th>\n",
       "      <th></th>\n",
       "      <th>petal length (cm)</th>\n",
       "      <th>petal width (cm)</th>\n",
       "      <th>sepal length (cm)</th>\n",
       "      <th>sepal width (cm)</th>\n",
       "    </tr>\n",
       "  </thead>\n",
       "  <tbody>\n",
       "    <tr>\n",
       "      <th rowspan=\"3\" valign=\"top\">0</th>\n",
       "      <th>setosa</th>\n",
       "      <td>1.4</td>\n",
       "      <td>0.2</td>\n",
       "      <td>5.1</td>\n",
       "      <td>3.5</td>\n",
       "    </tr>\n",
       "    <tr>\n",
       "      <th>versicolor</th>\n",
       "      <td>4.7</td>\n",
       "      <td>1.4</td>\n",
       "      <td>7.0</td>\n",
       "      <td>3.2</td>\n",
       "    </tr>\n",
       "    <tr>\n",
       "      <th>virginica</th>\n",
       "      <td>6.0</td>\n",
       "      <td>2.5</td>\n",
       "      <td>6.3</td>\n",
       "      <td>3.3</td>\n",
       "    </tr>\n",
       "    <tr>\n",
       "      <th rowspan=\"2\" valign=\"top\">1</th>\n",
       "      <th>setosa</th>\n",
       "      <td>1.4</td>\n",
       "      <td>0.2</td>\n",
       "      <td>4.9</td>\n",
       "      <td>3.0</td>\n",
       "    </tr>\n",
       "    <tr>\n",
       "      <th>versicolor</th>\n",
       "      <td>4.5</td>\n",
       "      <td>1.5</td>\n",
       "      <td>6.4</td>\n",
       "      <td>3.2</td>\n",
       "    </tr>\n",
       "  </tbody>\n",
       "</table>\n",
       "</div>"
      ],
      "text/plain": [
       "              petal length (cm)  petal width (cm)  sepal length (cm)  \\\n",
       "0 setosa                    1.4               0.2                5.1   \n",
       "  versicolor                4.7               1.4                7.0   \n",
       "  virginica                 6.0               2.5                6.3   \n",
       "1 setosa                    1.4               0.2                4.9   \n",
       "  versicolor                4.5               1.5                6.4   \n",
       "\n",
       "              sepal width (cm)  \n",
       "0 setosa                   3.5  \n",
       "  versicolor               3.2  \n",
       "  virginica                3.3  \n",
       "1 setosa                   3.0  \n",
       "  versicolor               3.2  "
      ]
     },
     "execution_count": 16,
     "metadata": {},
     "output_type": "execute_result"
    }
   ],
   "source": [
    "df_tidy.head()"
   ]
  },
  {
   "cell_type": "markdown",
   "metadata": {},
   "source": [
    "The stack function moves the column indices at the specified level into rows as an index."
   ]
  },
  {
   "cell_type": "code",
   "execution_count": 17,
   "metadata": {
    "collapsed": true
   },
   "outputs": [],
   "source": [
    "df_tidy = df_tidy.sort_index(level=1)"
   ]
  },
  {
   "cell_type": "code",
   "execution_count": 19,
   "metadata": {},
   "outputs": [
    {
     "data": {
      "text/html": [
       "<div>\n",
       "<style scoped>\n",
       "    .dataframe tbody tr th:only-of-type {\n",
       "        vertical-align: middle;\n",
       "    }\n",
       "\n",
       "    .dataframe tbody tr th {\n",
       "        vertical-align: top;\n",
       "    }\n",
       "\n",
       "    .dataframe thead th {\n",
       "        text-align: right;\n",
       "    }\n",
       "</style>\n",
       "<table border=\"1\" class=\"dataframe\">\n",
       "  <thead>\n",
       "    <tr style=\"text-align: right;\">\n",
       "      <th></th>\n",
       "      <th></th>\n",
       "      <th>petal length (cm)</th>\n",
       "      <th>petal width (cm)</th>\n",
       "      <th>sepal length (cm)</th>\n",
       "      <th>sepal width (cm)</th>\n",
       "    </tr>\n",
       "  </thead>\n",
       "  <tbody>\n",
       "    <tr>\n",
       "      <th>0</th>\n",
       "      <th>setosa</th>\n",
       "      <td>1.4</td>\n",
       "      <td>0.2</td>\n",
       "      <td>5.1</td>\n",
       "      <td>3.5</td>\n",
       "    </tr>\n",
       "    <tr>\n",
       "      <th>1</th>\n",
       "      <th>setosa</th>\n",
       "      <td>1.4</td>\n",
       "      <td>0.2</td>\n",
       "      <td>4.9</td>\n",
       "      <td>3.0</td>\n",
       "    </tr>\n",
       "    <tr>\n",
       "      <th>2</th>\n",
       "      <th>setosa</th>\n",
       "      <td>1.3</td>\n",
       "      <td>0.2</td>\n",
       "      <td>4.7</td>\n",
       "      <td>3.2</td>\n",
       "    </tr>\n",
       "    <tr>\n",
       "      <th>3</th>\n",
       "      <th>setosa</th>\n",
       "      <td>1.5</td>\n",
       "      <td>0.2</td>\n",
       "      <td>4.6</td>\n",
       "      <td>3.1</td>\n",
       "    </tr>\n",
       "    <tr>\n",
       "      <th>4</th>\n",
       "      <th>setosa</th>\n",
       "      <td>1.4</td>\n",
       "      <td>0.2</td>\n",
       "      <td>5.0</td>\n",
       "      <td>3.6</td>\n",
       "    </tr>\n",
       "  </tbody>\n",
       "</table>\n",
       "</div>"
      ],
      "text/plain": [
       "          petal length (cm)  petal width (cm)  sepal length (cm)  \\\n",
       "0 setosa                1.4               0.2                5.1   \n",
       "1 setosa                1.4               0.2                4.9   \n",
       "2 setosa                1.3               0.2                4.7   \n",
       "3 setosa                1.5               0.2                4.6   \n",
       "4 setosa                1.4               0.2                5.0   \n",
       "\n",
       "          sepal width (cm)  \n",
       "0 setosa               3.5  \n",
       "1 setosa               3.0  \n",
       "2 setosa               3.2  \n",
       "3 setosa               3.1  \n",
       "4 setosa               3.6  "
      ]
     },
     "execution_count": 19,
     "metadata": {},
     "output_type": "execute_result"
    }
   ],
   "source": [
    "df_tidy.head()"
   ]
  },
  {
   "cell_type": "markdown",
   "metadata": {},
   "source": [
    "This function sorts the data by the labels, which in this case are the species names. "
   ]
  },
  {
   "cell_type": "code",
   "execution_count": 20,
   "metadata": {
    "collapsed": true
   },
   "outputs": [],
   "source": [
    "df_tidy = df_tidy.reset_index(level=1)"
   ]
  },
  {
   "cell_type": "markdown",
   "metadata": {},
   "source": [
    "This function resets the index by labeling each column with a name."
   ]
  },
  {
   "cell_type": "code",
   "execution_count": 22,
   "metadata": {},
   "outputs": [
    {
     "data": {
      "text/html": [
       "<div>\n",
       "<style scoped>\n",
       "    .dataframe tbody tr th:only-of-type {\n",
       "        vertical-align: middle;\n",
       "    }\n",
       "\n",
       "    .dataframe tbody tr th {\n",
       "        vertical-align: top;\n",
       "    }\n",
       "\n",
       "    .dataframe thead th {\n",
       "        text-align: right;\n",
       "    }\n",
       "</style>\n",
       "<table border=\"1\" class=\"dataframe\">\n",
       "  <thead>\n",
       "    <tr style=\"text-align: right;\">\n",
       "      <th></th>\n",
       "      <th>level_1</th>\n",
       "      <th>petal length (cm)</th>\n",
       "      <th>petal width (cm)</th>\n",
       "      <th>sepal length (cm)</th>\n",
       "      <th>sepal width (cm)</th>\n",
       "    </tr>\n",
       "  </thead>\n",
       "  <tbody>\n",
       "    <tr>\n",
       "      <th>0</th>\n",
       "      <td>setosa</td>\n",
       "      <td>1.4</td>\n",
       "      <td>0.2</td>\n",
       "      <td>5.1</td>\n",
       "      <td>3.5</td>\n",
       "    </tr>\n",
       "    <tr>\n",
       "      <th>1</th>\n",
       "      <td>setosa</td>\n",
       "      <td>1.4</td>\n",
       "      <td>0.2</td>\n",
       "      <td>4.9</td>\n",
       "      <td>3.0</td>\n",
       "    </tr>\n",
       "    <tr>\n",
       "      <th>2</th>\n",
       "      <td>setosa</td>\n",
       "      <td>1.3</td>\n",
       "      <td>0.2</td>\n",
       "      <td>4.7</td>\n",
       "      <td>3.2</td>\n",
       "    </tr>\n",
       "    <tr>\n",
       "      <th>3</th>\n",
       "      <td>setosa</td>\n",
       "      <td>1.5</td>\n",
       "      <td>0.2</td>\n",
       "      <td>4.6</td>\n",
       "      <td>3.1</td>\n",
       "    </tr>\n",
       "    <tr>\n",
       "      <th>4</th>\n",
       "      <td>setosa</td>\n",
       "      <td>1.4</td>\n",
       "      <td>0.2</td>\n",
       "      <td>5.0</td>\n",
       "      <td>3.6</td>\n",
       "    </tr>\n",
       "  </tbody>\n",
       "</table>\n",
       "</div>"
      ],
      "text/plain": [
       "  level_1  petal length (cm)  petal width (cm)  sepal length (cm)  \\\n",
       "0  setosa                1.4               0.2                5.1   \n",
       "1  setosa                1.4               0.2                4.9   \n",
       "2  setosa                1.3               0.2                4.7   \n",
       "3  setosa                1.5               0.2                4.6   \n",
       "4  setosa                1.4               0.2                5.0   \n",
       "\n",
       "   sepal width (cm)  \n",
       "0               3.5  \n",
       "1               3.0  \n",
       "2               3.2  \n",
       "3               3.1  \n",
       "4               3.6  "
      ]
     },
     "execution_count": 22,
     "metadata": {},
     "output_type": "execute_result"
    }
   ],
   "source": [
    "df_tidy.head()"
   ]
  },
  {
   "cell_type": "code",
   "execution_count": 23,
   "metadata": {
    "collapsed": true
   },
   "outputs": [],
   "source": [
    "df_tidy = df_tidy.rename(columns={'level_1': 'species'})"
   ]
  },
  {
   "cell_type": "markdown",
   "metadata": {},
   "source": [
    "This renames the column named 'level_1' to 'species'."
   ]
  },
  {
   "cell_type": "code",
   "execution_count": 27,
   "metadata": {},
   "outputs": [
    {
     "data": {
      "text/html": [
       "<div>\n",
       "<style scoped>\n",
       "    .dataframe tbody tr th:only-of-type {\n",
       "        vertical-align: middle;\n",
       "    }\n",
       "\n",
       "    .dataframe tbody tr th {\n",
       "        vertical-align: top;\n",
       "    }\n",
       "\n",
       "    .dataframe thead th {\n",
       "        text-align: right;\n",
       "    }\n",
       "</style>\n",
       "<table border=\"1\" class=\"dataframe\">\n",
       "  <thead>\n",
       "    <tr style=\"text-align: right;\">\n",
       "      <th></th>\n",
       "      <th>species</th>\n",
       "      <th>petal length (cm)</th>\n",
       "      <th>petal width (cm)</th>\n",
       "      <th>sepal length (cm)</th>\n",
       "      <th>sepal width (cm)</th>\n",
       "    </tr>\n",
       "  </thead>\n",
       "  <tbody>\n",
       "    <tr>\n",
       "      <th>0</th>\n",
       "      <td>setosa</td>\n",
       "      <td>1.4</td>\n",
       "      <td>0.2</td>\n",
       "      <td>5.1</td>\n",
       "      <td>3.5</td>\n",
       "    </tr>\n",
       "    <tr>\n",
       "      <th>1</th>\n",
       "      <td>setosa</td>\n",
       "      <td>1.4</td>\n",
       "      <td>0.2</td>\n",
       "      <td>4.9</td>\n",
       "      <td>3.0</td>\n",
       "    </tr>\n",
       "    <tr>\n",
       "      <th>2</th>\n",
       "      <td>setosa</td>\n",
       "      <td>1.3</td>\n",
       "      <td>0.2</td>\n",
       "      <td>4.7</td>\n",
       "      <td>3.2</td>\n",
       "    </tr>\n",
       "    <tr>\n",
       "      <th>3</th>\n",
       "      <td>setosa</td>\n",
       "      <td>1.5</td>\n",
       "      <td>0.2</td>\n",
       "      <td>4.6</td>\n",
       "      <td>3.1</td>\n",
       "    </tr>\n",
       "    <tr>\n",
       "      <th>4</th>\n",
       "      <td>setosa</td>\n",
       "      <td>1.4</td>\n",
       "      <td>0.2</td>\n",
       "      <td>5.0</td>\n",
       "      <td>3.6</td>\n",
       "    </tr>\n",
       "  </tbody>\n",
       "</table>\n",
       "</div>"
      ],
      "text/plain": [
       "  species  petal length (cm)  petal width (cm)  sepal length (cm)  \\\n",
       "0  setosa                1.4               0.2                5.1   \n",
       "1  setosa                1.4               0.2                4.9   \n",
       "2  setosa                1.3               0.2                4.7   \n",
       "3  setosa                1.5               0.2                4.6   \n",
       "4  setosa                1.4               0.2                5.0   \n",
       "\n",
       "   sepal width (cm)  \n",
       "0               3.5  \n",
       "1               3.0  \n",
       "2               3.2  \n",
       "3               3.1  \n",
       "4               3.6  "
      ]
     },
     "execution_count": 27,
     "metadata": {},
     "output_type": "execute_result"
    }
   ],
   "source": [
    "df_tidy.head()"
   ]
  },
  {
   "cell_type": "markdown",
   "metadata": {},
   "source": [
    "**d)** Is the resulting `DataFrame` tidy? Why or why not?"
   ]
  },
  {
   "cell_type": "markdown",
   "metadata": {},
   "source": [
    "The resulting DataFrame is tidy because each variable forms a column, each observation forms a row, and all the observational units are the same type."
   ]
  },
  {
   "cell_type": "markdown",
   "metadata": {},
   "source": [
    "**e)** Using `df_tidy`, slice out all of the sepal lengths for I. versicolor as a Numpy array. "
   ]
  },
  {
   "cell_type": "code",
   "execution_count": 36,
   "metadata": {},
   "outputs": [
    {
     "data": {
      "text/plain": [
       "array([7. , 6.4, 6.9, 5.5, 6.5, 5.7, 6.3, 4.9, 6.6, 5.2, 5. , 5.9, 6. ,\n",
       "       6.1, 5.6, 6.7, 5.6, 5.8, 6.2, 5.6, 5.9, 6.1, 6.3, 6.1, 6.4, 6.6,\n",
       "       6.8, 6.7, 6. , 5.7, 5.5, 5.5, 5.8, 6. , 5.4, 6. , 6.7, 6.3, 5.6,\n",
       "       5.5, 5.5, 6.1, 5.8, 5. , 5.6, 5.7, 5.7, 6.2, 5.1, 5.7])"
      ]
     },
     "execution_count": 36,
     "metadata": {},
     "output_type": "execute_result"
    }
   ],
   "source": [
    "v_sepal_lengths = df_tidy[df_tidy['species'] == 'versicolor']['sepal length (cm)'].values\n",
    "\n",
    "v_sepal_lengths"
   ]
  },
  {
   "cell_type": "code",
   "execution_count": 37,
   "metadata": {},
   "outputs": [
    {
     "data": {
      "text/plain": [
       "numpy.ndarray"
      ]
     },
     "execution_count": 37,
     "metadata": {},
     "output_type": "execute_result"
    }
   ],
   "source": [
    "type(v_sepal_lengths)"
   ]
  },
  {
   "cell_type": "markdown",
   "metadata": {},
   "source": [
    "<br />"
   ]
  },
  {
   "cell_type": "markdown",
   "metadata": {},
   "source": [
    "### Exercise 2\n",
    "\n",
    "**a)** Make a scatter plot of sepal width versus petal length with the glyphs colored by species."
   ]
  },
  {
   "cell_type": "code",
   "execution_count": 38,
   "metadata": {},
   "outputs": [
    {
     "data": {
      "application/vnd.vegalite.v2+json": {
       "$schema": "https://vega.github.io/schema/vega-lite/v2.6.0.json",
       "config": {
        "view": {
         "height": 300,
         "width": 400
        }
       },
       "data": {
        "name": "data-f50ba617f8f217538f0b067a42802046"
       },
       "datasets": {
        "data-f50ba617f8f217538f0b067a42802046": [
         {
          "petal length (cm)": 1.4,
          "petal width (cm)": 0.2,
          "sepal length (cm)": 5.1,
          "sepal width (cm)": 3.5,
          "species": "setosa"
         },
         {
          "petal length (cm)": 1.4,
          "petal width (cm)": 0.2,
          "sepal length (cm)": 4.9,
          "sepal width (cm)": 3,
          "species": "setosa"
         },
         {
          "petal length (cm)": 1.3,
          "petal width (cm)": 0.2,
          "sepal length (cm)": 4.7,
          "sepal width (cm)": 3.2,
          "species": "setosa"
         },
         {
          "petal length (cm)": 1.5,
          "petal width (cm)": 0.2,
          "sepal length (cm)": 4.6,
          "sepal width (cm)": 3.1,
          "species": "setosa"
         },
         {
          "petal length (cm)": 1.4,
          "petal width (cm)": 0.2,
          "sepal length (cm)": 5,
          "sepal width (cm)": 3.6,
          "species": "setosa"
         },
         {
          "petal length (cm)": 1.7,
          "petal width (cm)": 0.4,
          "sepal length (cm)": 5.4,
          "sepal width (cm)": 3.9,
          "species": "setosa"
         },
         {
          "petal length (cm)": 1.4,
          "petal width (cm)": 0.3,
          "sepal length (cm)": 4.6,
          "sepal width (cm)": 3.4,
          "species": "setosa"
         },
         {
          "petal length (cm)": 1.5,
          "petal width (cm)": 0.2,
          "sepal length (cm)": 5,
          "sepal width (cm)": 3.4,
          "species": "setosa"
         },
         {
          "petal length (cm)": 1.4,
          "petal width (cm)": 0.2,
          "sepal length (cm)": 4.4,
          "sepal width (cm)": 2.9,
          "species": "setosa"
         },
         {
          "petal length (cm)": 1.5,
          "petal width (cm)": 0.1,
          "sepal length (cm)": 4.9,
          "sepal width (cm)": 3.1,
          "species": "setosa"
         },
         {
          "petal length (cm)": 1.5,
          "petal width (cm)": 0.2,
          "sepal length (cm)": 5.4,
          "sepal width (cm)": 3.7,
          "species": "setosa"
         },
         {
          "petal length (cm)": 1.6,
          "petal width (cm)": 0.2,
          "sepal length (cm)": 4.8,
          "sepal width (cm)": 3.4,
          "species": "setosa"
         },
         {
          "petal length (cm)": 1.4,
          "petal width (cm)": 0.1,
          "sepal length (cm)": 4.8,
          "sepal width (cm)": 3,
          "species": "setosa"
         },
         {
          "petal length (cm)": 1.1,
          "petal width (cm)": 0.1,
          "sepal length (cm)": 4.3,
          "sepal width (cm)": 3,
          "species": "setosa"
         },
         {
          "petal length (cm)": 1.2,
          "petal width (cm)": 0.2,
          "sepal length (cm)": 5.8,
          "sepal width (cm)": 4,
          "species": "setosa"
         },
         {
          "petal length (cm)": 1.5,
          "petal width (cm)": 0.4,
          "sepal length (cm)": 5.7,
          "sepal width (cm)": 4.4,
          "species": "setosa"
         },
         {
          "petal length (cm)": 1.3,
          "petal width (cm)": 0.4,
          "sepal length (cm)": 5.4,
          "sepal width (cm)": 3.9,
          "species": "setosa"
         },
         {
          "petal length (cm)": 1.4,
          "petal width (cm)": 0.3,
          "sepal length (cm)": 5.1,
          "sepal width (cm)": 3.5,
          "species": "setosa"
         },
         {
          "petal length (cm)": 1.7,
          "petal width (cm)": 0.3,
          "sepal length (cm)": 5.7,
          "sepal width (cm)": 3.8,
          "species": "setosa"
         },
         {
          "petal length (cm)": 1.5,
          "petal width (cm)": 0.3,
          "sepal length (cm)": 5.1,
          "sepal width (cm)": 3.8,
          "species": "setosa"
         },
         {
          "petal length (cm)": 1.7,
          "petal width (cm)": 0.2,
          "sepal length (cm)": 5.4,
          "sepal width (cm)": 3.4,
          "species": "setosa"
         },
         {
          "petal length (cm)": 1.5,
          "petal width (cm)": 0.4,
          "sepal length (cm)": 5.1,
          "sepal width (cm)": 3.7,
          "species": "setosa"
         },
         {
          "petal length (cm)": 1,
          "petal width (cm)": 0.2,
          "sepal length (cm)": 4.6,
          "sepal width (cm)": 3.6,
          "species": "setosa"
         },
         {
          "petal length (cm)": 1.7,
          "petal width (cm)": 0.5,
          "sepal length (cm)": 5.1,
          "sepal width (cm)": 3.3,
          "species": "setosa"
         },
         {
          "petal length (cm)": 1.9,
          "petal width (cm)": 0.2,
          "sepal length (cm)": 4.8,
          "sepal width (cm)": 3.4,
          "species": "setosa"
         },
         {
          "petal length (cm)": 1.6,
          "petal width (cm)": 0.2,
          "sepal length (cm)": 5,
          "sepal width (cm)": 3,
          "species": "setosa"
         },
         {
          "petal length (cm)": 1.6,
          "petal width (cm)": 0.4,
          "sepal length (cm)": 5,
          "sepal width (cm)": 3.4,
          "species": "setosa"
         },
         {
          "petal length (cm)": 1.5,
          "petal width (cm)": 0.2,
          "sepal length (cm)": 5.2,
          "sepal width (cm)": 3.5,
          "species": "setosa"
         },
         {
          "petal length (cm)": 1.4,
          "petal width (cm)": 0.2,
          "sepal length (cm)": 5.2,
          "sepal width (cm)": 3.4,
          "species": "setosa"
         },
         {
          "petal length (cm)": 1.6,
          "petal width (cm)": 0.2,
          "sepal length (cm)": 4.7,
          "sepal width (cm)": 3.2,
          "species": "setosa"
         },
         {
          "petal length (cm)": 1.6,
          "petal width (cm)": 0.2,
          "sepal length (cm)": 4.8,
          "sepal width (cm)": 3.1,
          "species": "setosa"
         },
         {
          "petal length (cm)": 1.5,
          "petal width (cm)": 0.4,
          "sepal length (cm)": 5.4,
          "sepal width (cm)": 3.4,
          "species": "setosa"
         },
         {
          "petal length (cm)": 1.5,
          "petal width (cm)": 0.1,
          "sepal length (cm)": 5.2,
          "sepal width (cm)": 4.1,
          "species": "setosa"
         },
         {
          "petal length (cm)": 1.4,
          "petal width (cm)": 0.2,
          "sepal length (cm)": 5.5,
          "sepal width (cm)": 4.2,
          "species": "setosa"
         },
         {
          "petal length (cm)": 1.5,
          "petal width (cm)": 0.1,
          "sepal length (cm)": 4.9,
          "sepal width (cm)": 3.1,
          "species": "setosa"
         },
         {
          "petal length (cm)": 1.2,
          "petal width (cm)": 0.2,
          "sepal length (cm)": 5,
          "sepal width (cm)": 3.2,
          "species": "setosa"
         },
         {
          "petal length (cm)": 1.3,
          "petal width (cm)": 0.2,
          "sepal length (cm)": 5.5,
          "sepal width (cm)": 3.5,
          "species": "setosa"
         },
         {
          "petal length (cm)": 1.5,
          "petal width (cm)": 0.1,
          "sepal length (cm)": 4.9,
          "sepal width (cm)": 3.1,
          "species": "setosa"
         },
         {
          "petal length (cm)": 1.3,
          "petal width (cm)": 0.2,
          "sepal length (cm)": 4.4,
          "sepal width (cm)": 3,
          "species": "setosa"
         },
         {
          "petal length (cm)": 1.5,
          "petal width (cm)": 0.2,
          "sepal length (cm)": 5.1,
          "sepal width (cm)": 3.4,
          "species": "setosa"
         },
         {
          "petal length (cm)": 1.3,
          "petal width (cm)": 0.3,
          "sepal length (cm)": 5,
          "sepal width (cm)": 3.5,
          "species": "setosa"
         },
         {
          "petal length (cm)": 1.3,
          "petal width (cm)": 0.3,
          "sepal length (cm)": 4.5,
          "sepal width (cm)": 2.3,
          "species": "setosa"
         },
         {
          "petal length (cm)": 1.3,
          "petal width (cm)": 0.2,
          "sepal length (cm)": 4.4,
          "sepal width (cm)": 3.2,
          "species": "setosa"
         },
         {
          "petal length (cm)": 1.6,
          "petal width (cm)": 0.6,
          "sepal length (cm)": 5,
          "sepal width (cm)": 3.5,
          "species": "setosa"
         },
         {
          "petal length (cm)": 1.9,
          "petal width (cm)": 0.4,
          "sepal length (cm)": 5.1,
          "sepal width (cm)": 3.8,
          "species": "setosa"
         },
         {
          "petal length (cm)": 1.4,
          "petal width (cm)": 0.3,
          "sepal length (cm)": 4.8,
          "sepal width (cm)": 3,
          "species": "setosa"
         },
         {
          "petal length (cm)": 1.6,
          "petal width (cm)": 0.2,
          "sepal length (cm)": 5.1,
          "sepal width (cm)": 3.8,
          "species": "setosa"
         },
         {
          "petal length (cm)": 1.4,
          "petal width (cm)": 0.2,
          "sepal length (cm)": 4.6,
          "sepal width (cm)": 3.2,
          "species": "setosa"
         },
         {
          "petal length (cm)": 1.5,
          "petal width (cm)": 0.2,
          "sepal length (cm)": 5.3,
          "sepal width (cm)": 3.7,
          "species": "setosa"
         },
         {
          "petal length (cm)": 1.4,
          "petal width (cm)": 0.2,
          "sepal length (cm)": 5,
          "sepal width (cm)": 3.3,
          "species": "setosa"
         },
         {
          "petal length (cm)": 4.7,
          "petal width (cm)": 1.4,
          "sepal length (cm)": 7,
          "sepal width (cm)": 3.2,
          "species": "versicolor"
         },
         {
          "petal length (cm)": 4.5,
          "petal width (cm)": 1.5,
          "sepal length (cm)": 6.4,
          "sepal width (cm)": 3.2,
          "species": "versicolor"
         },
         {
          "petal length (cm)": 4.9,
          "petal width (cm)": 1.5,
          "sepal length (cm)": 6.9,
          "sepal width (cm)": 3.1,
          "species": "versicolor"
         },
         {
          "petal length (cm)": 4,
          "petal width (cm)": 1.3,
          "sepal length (cm)": 5.5,
          "sepal width (cm)": 2.3,
          "species": "versicolor"
         },
         {
          "petal length (cm)": 4.6,
          "petal width (cm)": 1.5,
          "sepal length (cm)": 6.5,
          "sepal width (cm)": 2.8,
          "species": "versicolor"
         },
         {
          "petal length (cm)": 4.5,
          "petal width (cm)": 1.3,
          "sepal length (cm)": 5.7,
          "sepal width (cm)": 2.8,
          "species": "versicolor"
         },
         {
          "petal length (cm)": 4.7,
          "petal width (cm)": 1.6,
          "sepal length (cm)": 6.3,
          "sepal width (cm)": 3.3,
          "species": "versicolor"
         },
         {
          "petal length (cm)": 3.3,
          "petal width (cm)": 1,
          "sepal length (cm)": 4.9,
          "sepal width (cm)": 2.4,
          "species": "versicolor"
         },
         {
          "petal length (cm)": 4.6,
          "petal width (cm)": 1.3,
          "sepal length (cm)": 6.6,
          "sepal width (cm)": 2.9,
          "species": "versicolor"
         },
         {
          "petal length (cm)": 3.9,
          "petal width (cm)": 1.4,
          "sepal length (cm)": 5.2,
          "sepal width (cm)": 2.7,
          "species": "versicolor"
         },
         {
          "petal length (cm)": 3.5,
          "petal width (cm)": 1,
          "sepal length (cm)": 5,
          "sepal width (cm)": 2,
          "species": "versicolor"
         },
         {
          "petal length (cm)": 4.2,
          "petal width (cm)": 1.5,
          "sepal length (cm)": 5.9,
          "sepal width (cm)": 3,
          "species": "versicolor"
         },
         {
          "petal length (cm)": 4,
          "petal width (cm)": 1,
          "sepal length (cm)": 6,
          "sepal width (cm)": 2.2,
          "species": "versicolor"
         },
         {
          "petal length (cm)": 4.7,
          "petal width (cm)": 1.4,
          "sepal length (cm)": 6.1,
          "sepal width (cm)": 2.9,
          "species": "versicolor"
         },
         {
          "petal length (cm)": 3.6,
          "petal width (cm)": 1.3,
          "sepal length (cm)": 5.6,
          "sepal width (cm)": 2.9,
          "species": "versicolor"
         },
         {
          "petal length (cm)": 4.4,
          "petal width (cm)": 1.4,
          "sepal length (cm)": 6.7,
          "sepal width (cm)": 3.1,
          "species": "versicolor"
         },
         {
          "petal length (cm)": 4.5,
          "petal width (cm)": 1.5,
          "sepal length (cm)": 5.6,
          "sepal width (cm)": 3,
          "species": "versicolor"
         },
         {
          "petal length (cm)": 4.1,
          "petal width (cm)": 1,
          "sepal length (cm)": 5.8,
          "sepal width (cm)": 2.7,
          "species": "versicolor"
         },
         {
          "petal length (cm)": 4.5,
          "petal width (cm)": 1.5,
          "sepal length (cm)": 6.2,
          "sepal width (cm)": 2.2,
          "species": "versicolor"
         },
         {
          "petal length (cm)": 3.9,
          "petal width (cm)": 1.1,
          "sepal length (cm)": 5.6,
          "sepal width (cm)": 2.5,
          "species": "versicolor"
         },
         {
          "petal length (cm)": 4.8,
          "petal width (cm)": 1.8,
          "sepal length (cm)": 5.9,
          "sepal width (cm)": 3.2,
          "species": "versicolor"
         },
         {
          "petal length (cm)": 4,
          "petal width (cm)": 1.3,
          "sepal length (cm)": 6.1,
          "sepal width (cm)": 2.8,
          "species": "versicolor"
         },
         {
          "petal length (cm)": 4.9,
          "petal width (cm)": 1.5,
          "sepal length (cm)": 6.3,
          "sepal width (cm)": 2.5,
          "species": "versicolor"
         },
         {
          "petal length (cm)": 4.7,
          "petal width (cm)": 1.2,
          "sepal length (cm)": 6.1,
          "sepal width (cm)": 2.8,
          "species": "versicolor"
         },
         {
          "petal length (cm)": 4.3,
          "petal width (cm)": 1.3,
          "sepal length (cm)": 6.4,
          "sepal width (cm)": 2.9,
          "species": "versicolor"
         },
         {
          "petal length (cm)": 4.4,
          "petal width (cm)": 1.4,
          "sepal length (cm)": 6.6,
          "sepal width (cm)": 3,
          "species": "versicolor"
         },
         {
          "petal length (cm)": 4.8,
          "petal width (cm)": 1.4,
          "sepal length (cm)": 6.8,
          "sepal width (cm)": 2.8,
          "species": "versicolor"
         },
         {
          "petal length (cm)": 5,
          "petal width (cm)": 1.7,
          "sepal length (cm)": 6.7,
          "sepal width (cm)": 3,
          "species": "versicolor"
         },
         {
          "petal length (cm)": 4.5,
          "petal width (cm)": 1.5,
          "sepal length (cm)": 6,
          "sepal width (cm)": 2.9,
          "species": "versicolor"
         },
         {
          "petal length (cm)": 3.5,
          "petal width (cm)": 1,
          "sepal length (cm)": 5.7,
          "sepal width (cm)": 2.6,
          "species": "versicolor"
         },
         {
          "petal length (cm)": 3.8,
          "petal width (cm)": 1.1,
          "sepal length (cm)": 5.5,
          "sepal width (cm)": 2.4,
          "species": "versicolor"
         },
         {
          "petal length (cm)": 3.7,
          "petal width (cm)": 1,
          "sepal length (cm)": 5.5,
          "sepal width (cm)": 2.4,
          "species": "versicolor"
         },
         {
          "petal length (cm)": 3.9,
          "petal width (cm)": 1.2,
          "sepal length (cm)": 5.8,
          "sepal width (cm)": 2.7,
          "species": "versicolor"
         },
         {
          "petal length (cm)": 5.1,
          "petal width (cm)": 1.6,
          "sepal length (cm)": 6,
          "sepal width (cm)": 2.7,
          "species": "versicolor"
         },
         {
          "petal length (cm)": 4.5,
          "petal width (cm)": 1.5,
          "sepal length (cm)": 5.4,
          "sepal width (cm)": 3,
          "species": "versicolor"
         },
         {
          "petal length (cm)": 4.5,
          "petal width (cm)": 1.6,
          "sepal length (cm)": 6,
          "sepal width (cm)": 3.4,
          "species": "versicolor"
         },
         {
          "petal length (cm)": 4.7,
          "petal width (cm)": 1.5,
          "sepal length (cm)": 6.7,
          "sepal width (cm)": 3.1,
          "species": "versicolor"
         },
         {
          "petal length (cm)": 4.4,
          "petal width (cm)": 1.3,
          "sepal length (cm)": 6.3,
          "sepal width (cm)": 2.3,
          "species": "versicolor"
         },
         {
          "petal length (cm)": 4.1,
          "petal width (cm)": 1.3,
          "sepal length (cm)": 5.6,
          "sepal width (cm)": 3,
          "species": "versicolor"
         },
         {
          "petal length (cm)": 4,
          "petal width (cm)": 1.3,
          "sepal length (cm)": 5.5,
          "sepal width (cm)": 2.5,
          "species": "versicolor"
         },
         {
          "petal length (cm)": 4.4,
          "petal width (cm)": 1.2,
          "sepal length (cm)": 5.5,
          "sepal width (cm)": 2.6,
          "species": "versicolor"
         },
         {
          "petal length (cm)": 4.6,
          "petal width (cm)": 1.4,
          "sepal length (cm)": 6.1,
          "sepal width (cm)": 3,
          "species": "versicolor"
         },
         {
          "petal length (cm)": 4,
          "petal width (cm)": 1.2,
          "sepal length (cm)": 5.8,
          "sepal width (cm)": 2.6,
          "species": "versicolor"
         },
         {
          "petal length (cm)": 3.3,
          "petal width (cm)": 1,
          "sepal length (cm)": 5,
          "sepal width (cm)": 2.3,
          "species": "versicolor"
         },
         {
          "petal length (cm)": 4.2,
          "petal width (cm)": 1.3,
          "sepal length (cm)": 5.6,
          "sepal width (cm)": 2.7,
          "species": "versicolor"
         },
         {
          "petal length (cm)": 4.2,
          "petal width (cm)": 1.2,
          "sepal length (cm)": 5.7,
          "sepal width (cm)": 3,
          "species": "versicolor"
         },
         {
          "petal length (cm)": 4.2,
          "petal width (cm)": 1.3,
          "sepal length (cm)": 5.7,
          "sepal width (cm)": 2.9,
          "species": "versicolor"
         },
         {
          "petal length (cm)": 4.3,
          "petal width (cm)": 1.3,
          "sepal length (cm)": 6.2,
          "sepal width (cm)": 2.9,
          "species": "versicolor"
         },
         {
          "petal length (cm)": 3,
          "petal width (cm)": 1.1,
          "sepal length (cm)": 5.1,
          "sepal width (cm)": 2.5,
          "species": "versicolor"
         },
         {
          "petal length (cm)": 4.1,
          "petal width (cm)": 1.3,
          "sepal length (cm)": 5.7,
          "sepal width (cm)": 2.8,
          "species": "versicolor"
         },
         {
          "petal length (cm)": 6,
          "petal width (cm)": 2.5,
          "sepal length (cm)": 6.3,
          "sepal width (cm)": 3.3,
          "species": "virginica"
         },
         {
          "petal length (cm)": 5.1,
          "petal width (cm)": 1.9,
          "sepal length (cm)": 5.8,
          "sepal width (cm)": 2.7,
          "species": "virginica"
         },
         {
          "petal length (cm)": 5.9,
          "petal width (cm)": 2.1,
          "sepal length (cm)": 7.1,
          "sepal width (cm)": 3,
          "species": "virginica"
         },
         {
          "petal length (cm)": 5.6,
          "petal width (cm)": 1.8,
          "sepal length (cm)": 6.3,
          "sepal width (cm)": 2.9,
          "species": "virginica"
         },
         {
          "petal length (cm)": 5.8,
          "petal width (cm)": 2.2,
          "sepal length (cm)": 6.5,
          "sepal width (cm)": 3,
          "species": "virginica"
         },
         {
          "petal length (cm)": 6.6,
          "petal width (cm)": 2.1,
          "sepal length (cm)": 7.6,
          "sepal width (cm)": 3,
          "species": "virginica"
         },
         {
          "petal length (cm)": 4.5,
          "petal width (cm)": 1.7,
          "sepal length (cm)": 4.9,
          "sepal width (cm)": 2.5,
          "species": "virginica"
         },
         {
          "petal length (cm)": 6.3,
          "petal width (cm)": 1.8,
          "sepal length (cm)": 7.3,
          "sepal width (cm)": 2.9,
          "species": "virginica"
         },
         {
          "petal length (cm)": 5.8,
          "petal width (cm)": 1.8,
          "sepal length (cm)": 6.7,
          "sepal width (cm)": 2.5,
          "species": "virginica"
         },
         {
          "petal length (cm)": 6.1,
          "petal width (cm)": 2.5,
          "sepal length (cm)": 7.2,
          "sepal width (cm)": 3.6,
          "species": "virginica"
         },
         {
          "petal length (cm)": 5.1,
          "petal width (cm)": 2,
          "sepal length (cm)": 6.5,
          "sepal width (cm)": 3.2,
          "species": "virginica"
         },
         {
          "petal length (cm)": 5.3,
          "petal width (cm)": 1.9,
          "sepal length (cm)": 6.4,
          "sepal width (cm)": 2.7,
          "species": "virginica"
         },
         {
          "petal length (cm)": 5.5,
          "petal width (cm)": 2.1,
          "sepal length (cm)": 6.8,
          "sepal width (cm)": 3,
          "species": "virginica"
         },
         {
          "petal length (cm)": 5,
          "petal width (cm)": 2,
          "sepal length (cm)": 5.7,
          "sepal width (cm)": 2.5,
          "species": "virginica"
         },
         {
          "petal length (cm)": 5.1,
          "petal width (cm)": 2.4,
          "sepal length (cm)": 5.8,
          "sepal width (cm)": 2.8,
          "species": "virginica"
         },
         {
          "petal length (cm)": 5.3,
          "petal width (cm)": 2.3,
          "sepal length (cm)": 6.4,
          "sepal width (cm)": 3.2,
          "species": "virginica"
         },
         {
          "petal length (cm)": 5.5,
          "petal width (cm)": 1.8,
          "sepal length (cm)": 6.5,
          "sepal width (cm)": 3,
          "species": "virginica"
         },
         {
          "petal length (cm)": 6.7,
          "petal width (cm)": 2.2,
          "sepal length (cm)": 7.7,
          "sepal width (cm)": 3.8,
          "species": "virginica"
         },
         {
          "petal length (cm)": 6.9,
          "petal width (cm)": 2.3,
          "sepal length (cm)": 7.7,
          "sepal width (cm)": 2.6,
          "species": "virginica"
         },
         {
          "petal length (cm)": 5,
          "petal width (cm)": 1.5,
          "sepal length (cm)": 6,
          "sepal width (cm)": 2.2,
          "species": "virginica"
         },
         {
          "petal length (cm)": 5.7,
          "petal width (cm)": 2.3,
          "sepal length (cm)": 6.9,
          "sepal width (cm)": 3.2,
          "species": "virginica"
         },
         {
          "petal length (cm)": 4.9,
          "petal width (cm)": 2,
          "sepal length (cm)": 5.6,
          "sepal width (cm)": 2.8,
          "species": "virginica"
         },
         {
          "petal length (cm)": 6.7,
          "petal width (cm)": 2,
          "sepal length (cm)": 7.7,
          "sepal width (cm)": 2.8,
          "species": "virginica"
         },
         {
          "petal length (cm)": 4.9,
          "petal width (cm)": 1.8,
          "sepal length (cm)": 6.3,
          "sepal width (cm)": 2.7,
          "species": "virginica"
         },
         {
          "petal length (cm)": 5.7,
          "petal width (cm)": 2.1,
          "sepal length (cm)": 6.7,
          "sepal width (cm)": 3.3,
          "species": "virginica"
         },
         {
          "petal length (cm)": 6,
          "petal width (cm)": 1.8,
          "sepal length (cm)": 7.2,
          "sepal width (cm)": 3.2,
          "species": "virginica"
         },
         {
          "petal length (cm)": 4.8,
          "petal width (cm)": 1.8,
          "sepal length (cm)": 6.2,
          "sepal width (cm)": 2.8,
          "species": "virginica"
         },
         {
          "petal length (cm)": 4.9,
          "petal width (cm)": 1.8,
          "sepal length (cm)": 6.1,
          "sepal width (cm)": 3,
          "species": "virginica"
         },
         {
          "petal length (cm)": 5.6,
          "petal width (cm)": 2.1,
          "sepal length (cm)": 6.4,
          "sepal width (cm)": 2.8,
          "species": "virginica"
         },
         {
          "petal length (cm)": 5.8,
          "petal width (cm)": 1.6,
          "sepal length (cm)": 7.2,
          "sepal width (cm)": 3,
          "species": "virginica"
         },
         {
          "petal length (cm)": 6.1,
          "petal width (cm)": 1.9,
          "sepal length (cm)": 7.4,
          "sepal width (cm)": 2.8,
          "species": "virginica"
         },
         {
          "petal length (cm)": 6.4,
          "petal width (cm)": 2,
          "sepal length (cm)": 7.9,
          "sepal width (cm)": 3.8,
          "species": "virginica"
         },
         {
          "petal length (cm)": 5.6,
          "petal width (cm)": 2.2,
          "sepal length (cm)": 6.4,
          "sepal width (cm)": 2.8,
          "species": "virginica"
         },
         {
          "petal length (cm)": 5.1,
          "petal width (cm)": 1.5,
          "sepal length (cm)": 6.3,
          "sepal width (cm)": 2.8,
          "species": "virginica"
         },
         {
          "petal length (cm)": 5.6,
          "petal width (cm)": 1.4,
          "sepal length (cm)": 6.1,
          "sepal width (cm)": 2.6,
          "species": "virginica"
         },
         {
          "petal length (cm)": 6.1,
          "petal width (cm)": 2.3,
          "sepal length (cm)": 7.7,
          "sepal width (cm)": 3,
          "species": "virginica"
         },
         {
          "petal length (cm)": 5.6,
          "petal width (cm)": 2.4,
          "sepal length (cm)": 6.3,
          "sepal width (cm)": 3.4,
          "species": "virginica"
         },
         {
          "petal length (cm)": 5.5,
          "petal width (cm)": 1.8,
          "sepal length (cm)": 6.4,
          "sepal width (cm)": 3.1,
          "species": "virginica"
         },
         {
          "petal length (cm)": 4.8,
          "petal width (cm)": 1.8,
          "sepal length (cm)": 6,
          "sepal width (cm)": 3,
          "species": "virginica"
         },
         {
          "petal length (cm)": 5.4,
          "petal width (cm)": 2.1,
          "sepal length (cm)": 6.9,
          "sepal width (cm)": 3.1,
          "species": "virginica"
         },
         {
          "petal length (cm)": 5.6,
          "petal width (cm)": 2.4,
          "sepal length (cm)": 6.7,
          "sepal width (cm)": 3.1,
          "species": "virginica"
         },
         {
          "petal length (cm)": 5.1,
          "petal width (cm)": 2.3,
          "sepal length (cm)": 6.9,
          "sepal width (cm)": 3.1,
          "species": "virginica"
         },
         {
          "petal length (cm)": 5.1,
          "petal width (cm)": 1.9,
          "sepal length (cm)": 5.8,
          "sepal width (cm)": 2.7,
          "species": "virginica"
         },
         {
          "petal length (cm)": 5.9,
          "petal width (cm)": 2.3,
          "sepal length (cm)": 6.8,
          "sepal width (cm)": 3.2,
          "species": "virginica"
         },
         {
          "petal length (cm)": 5.7,
          "petal width (cm)": 2.5,
          "sepal length (cm)": 6.7,
          "sepal width (cm)": 3.3,
          "species": "virginica"
         },
         {
          "petal length (cm)": 5.2,
          "petal width (cm)": 2.3,
          "sepal length (cm)": 6.7,
          "sepal width (cm)": 3,
          "species": "virginica"
         },
         {
          "petal length (cm)": 5,
          "petal width (cm)": 1.9,
          "sepal length (cm)": 6.3,
          "sepal width (cm)": 2.5,
          "species": "virginica"
         },
         {
          "petal length (cm)": 5.2,
          "petal width (cm)": 2,
          "sepal length (cm)": 6.5,
          "sepal width (cm)": 3,
          "species": "virginica"
         },
         {
          "petal length (cm)": 5.4,
          "petal width (cm)": 2.3,
          "sepal length (cm)": 6.2,
          "sepal width (cm)": 3.4,
          "species": "virginica"
         },
         {
          "petal length (cm)": 5.1,
          "petal width (cm)": 1.8,
          "sepal length (cm)": 5.9,
          "sepal width (cm)": 3,
          "species": "virginica"
         }
        ]
       },
       "encoding": {
        "color": {
         "field": "species",
         "type": "nominal"
        },
        "x": {
         "field": "sepal width (cm)",
         "type": "quantitative"
        },
        "y": {
         "field": "petal length (cm)",
         "type": "quantitative"
        }
       },
       "mark": "point"
      },
      "image/png": "[encoded data removed]",
      "text/plain": [
       "<VegaLite 2 object>\n",
       "\n",
       "If you see this message, it means the renderer has not been properly enabled\n",
       "for the frontend that you are using. For more information, see\n",
       "https://altair-viz.github.io/user_guide/troubleshooting.html\n"
      ]
     },
     "execution_count": 38,
     "metadata": {},
     "output_type": "execute_result"
    }
   ],
   "source": [
    "alt.Chart(df_tidy,\n",
    "    ).mark_point(\n",
    "    ).encode(\n",
    "        x='sepal width (cm):Q',\n",
    "        y='petal length (cm):Q',\n",
    "        color=alt.Color('species:N')\n",
    "    )"
   ]
  },
  {
   "cell_type": "markdown",
   "metadata": {},
   "source": [
    "**b)** Make a plot comparing the petal widths of the respective species. Comment on why you chose the plot you chose."
   ]
  },
  {
   "cell_type": "code",
   "execution_count": 51,
   "metadata": {},
   "outputs": [
    {
     "data": {
      "application/vnd.vegalite.v2+json": {
       "$schema": "https://vega.github.io/schema/vega-lite/v2.6.0.json",
       "config": {
        "text": {
         "fontWeight": "bold"
        },
        "view": {
         "height": 300,
         "width": 400
        }
       },
       "datasets": {
        "data-05c4bc14a6364f52f9e5833033e8df2a": [
         {
          "__jitter": 1.9876809587955304,
          "petal length (cm)": 1.4,
          "petal width (cm)": 0.2,
          "sepal length (cm)": 5.1,
          "sepal width (cm)": 3.5,
          "species": "setosa"
         },
         {
          "__jitter": 2.1773842238250745,
          "petal length (cm)": 1.4,
          "petal width (cm)": 0.2,
          "sepal length (cm)": 4.9,
          "sepal width (cm)": 3,
          "species": "setosa"
         },
         {
          "__jitter": 2.087929737985494,
          "petal length (cm)": 1.3,
          "petal width (cm)": 0.2,
          "sepal length (cm)": 4.7,
          "sepal width (cm)": 3.2,
          "species": "setosa"
         },
         {
          "__jitter": 1.9287482244227976,
          "petal length (cm)": 1.5,
          "petal width (cm)": 0.2,
          "sepal length (cm)": 4.6,
          "sepal width (cm)": 3.1,
          "species": "setosa"
         },
         {
          "__jitter": 1.9574744980562144,
          "petal length (cm)": 1.4,
          "petal width (cm)": 0.2,
          "sepal length (cm)": 5,
          "sepal width (cm)": 3.6,
          "species": "setosa"
         },
         {
          "__jitter": 1.8254076584770729,
          "petal length (cm)": 1.7,
          "petal width (cm)": 0.4,
          "sepal length (cm)": 5.4,
          "sepal width (cm)": 3.9,
          "species": "setosa"
         },
         {
          "__jitter": 2.011244643163849,
          "petal length (cm)": 1.4,
          "petal width (cm)": 0.3,
          "sepal length (cm)": 4.6,
          "sepal width (cm)": 3.4,
          "species": "setosa"
         },
         {
          "__jitter": 1.908868936668115,
          "petal length (cm)": 1.5,
          "petal width (cm)": 0.2,
          "sepal length (cm)": 5,
          "sepal width (cm)": 3.4,
          "species": "setosa"
         },
         {
          "__jitter": 1.8224300289054705,
          "petal length (cm)": 1.4,
          "petal width (cm)": 0.2,
          "sepal length (cm)": 4.4,
          "sepal width (cm)": 2.9,
          "species": "setosa"
         },
         {
          "__jitter": 1.89913422642318,
          "petal length (cm)": 1.5,
          "petal width (cm)": 0.1,
          "sepal length (cm)": 4.9,
          "sepal width (cm)": 3.1,
          "species": "setosa"
         },
         {
          "__jitter": 2.0239501553306054,
          "petal length (cm)": 1.5,
          "petal width (cm)": 0.2,
          "sepal length (cm)": 5.4,
          "sepal width (cm)": 3.7,
          "species": "setosa"
         },
         {
          "__jitter": 2.0019960226969826,
          "petal length (cm)": 1.6,
          "petal width (cm)": 0.2,
          "sepal length (cm)": 4.8,
          "sepal width (cm)": 3.4,
          "species": "setosa"
         },
         {
          "__jitter": 2.0457287948765503,
          "petal length (cm)": 1.4,
          "petal width (cm)": 0.1,
          "sepal length (cm)": 4.8,
          "sepal width (cm)": 3,
          "species": "setosa"
         },
         {
          "__jitter": 1.8471620812451375,
          "petal length (cm)": 1.1,
          "petal width (cm)": 0.1,
          "sepal length (cm)": 4.3,
          "sepal width (cm)": 3,
          "species": "setosa"
         },
         {
          "__jitter": 1.8418157233635377,
          "petal length (cm)": 1.2,
          "petal width (cm)": 0.2,
          "sepal length (cm)": 5.8,
          "sepal width (cm)": 4,
          "species": "setosa"
         },
         {
          "__jitter": 2.0444191523213364,
          "petal length (cm)": 1.5,
          "petal width (cm)": 0.4,
          "sepal length (cm)": 5.7,
          "sepal width (cm)": 4.4,
          "species": "setosa"
         },
         {
          "__jitter": 2.1402449771583125,
          "petal length (cm)": 1.3,
          "petal width (cm)": 0.4,
          "sepal length (cm)": 5.4,
          "sepal width (cm)": 3.9,
          "species": "setosa"
         },
         {
          "__jitter": 2.1584709681989467,
          "petal length (cm)": 1.4,
          "petal width (cm)": 0.3,
          "sepal length (cm)": 5.1,
          "sepal width (cm)": 3.5,
          "species": "setosa"
         },
         {
          "__jitter": 1.8388614213112695,
          "petal length (cm)": 1.7,
          "petal width (cm)": 0.3,
          "sepal length (cm)": 5.7,
          "sepal width (cm)": 3.8,
          "species": "setosa"
         },
         {
          "__jitter": 2.0046374443076744,
          "petal length (cm)": 1.5,
          "petal width (cm)": 0.3,
          "sepal length (cm)": 5.1,
          "sepal width (cm)": 3.8,
          "species": "setosa"
         },
         {
          "__jitter": 2.062374182214292,
          "petal length (cm)": 1.7,
          "petal width (cm)": 0.2,
          "sepal length (cm)": 5.4,
          "sepal width (cm)": 3.4,
          "species": "setosa"
         },
         {
          "__jitter": 1.9966363789391979,
          "petal length (cm)": 1.5,
          "petal width (cm)": 0.4,
          "sepal length (cm)": 5.1,
          "sepal width (cm)": 3.7,
          "species": "setosa"
         },
         {
          "__jitter": 1.9376218846053954,
          "petal length (cm)": 1,
          "petal width (cm)": 0.2,
          "sepal length (cm)": 4.6,
          "sepal width (cm)": 3.6,
          "species": "setosa"
         },
         {
          "__jitter": 2.174516603435206,
          "petal length (cm)": 1.7,
          "petal width (cm)": 0.5,
          "sepal length (cm)": 5.1,
          "sepal width (cm)": 3.3,
          "species": "setosa"
         },
         {
          "__jitter": 1.8592108134378122,
          "petal length (cm)": 1.9,
          "petal width (cm)": 0.2,
          "sepal length (cm)": 4.8,
          "sepal width (cm)": 3.4,
          "species": "setosa"
         },
         {
          "__jitter": 1.9142335698406436,
          "petal length (cm)": 1.6,
          "petal width (cm)": 0.2,
          "sepal length (cm)": 5,
          "sepal width (cm)": 3,
          "species": "setosa"
         },
         {
          "__jitter": 2.0638947571638973,
          "petal length (cm)": 1.6,
          "petal width (cm)": 0.4,
          "sepal length (cm)": 5,
          "sepal width (cm)": 3.4,
          "species": "setosa"
         },
         {
          "__jitter": 2.1887620469134546,
          "petal length (cm)": 1.5,
          "petal width (cm)": 0.2,
          "sepal length (cm)": 5.2,
          "sepal width (cm)": 3.5,
          "species": "setosa"
         },
         {
          "__jitter": 1.8868703444805268,
          "petal length (cm)": 1.4,
          "petal width (cm)": 0.2,
          "sepal length (cm)": 5.2,
          "sepal width (cm)": 3.4,
          "species": "setosa"
         },
         {
          "__jitter": 2.0631121744764,
          "petal length (cm)": 1.6,
          "petal width (cm)": 0.2,
          "sepal length (cm)": 4.7,
          "sepal width (cm)": 3.2,
          "species": "setosa"
         },
         {
          "__jitter": 2.1047391785029124,
          "petal length (cm)": 1.6,
          "petal width (cm)": 0.2,
          "sepal length (cm)": 4.8,
          "sepal width (cm)": 3.1,
          "species": "setosa"
         },
         {
          "__jitter": 2.1265760758708763,
          "petal length (cm)": 1.5,
          "petal width (cm)": 0.4,
          "sepal length (cm)": 5.4,
          "sepal width (cm)": 3.4,
          "species": "setosa"
         },
         {
          "__jitter": 2.1486138064728815,
          "petal length (cm)": 1.5,
          "petal width (cm)": 0.1,
          "sepal length (cm)": 5.2,
          "sepal width (cm)": 4.1,
          "species": "setosa"
         },
         {
          "__jitter": 2.0972647200325887,
          "petal length (cm)": 1.4,
          "petal width (cm)": 0.2,
          "sepal length (cm)": 5.5,
          "sepal width (cm)": 4.2,
          "species": "setosa"
         },
         {
          "__jitter": 1.9325237691910342,
          "petal length (cm)": 1.5,
          "petal width (cm)": 0.1,
          "sepal length (cm)": 4.9,
          "sepal width (cm)": 3.1,
          "species": "setosa"
         },
         {
          "__jitter": 2.0767279539771626,
          "petal length (cm)": 1.2,
          "petal width (cm)": 0.2,
          "sepal length (cm)": 5,
          "sepal width (cm)": 3.2,
          "species": "setosa"
         },
         {
          "__jitter": 2.0383836427543427,
          "petal length (cm)": 1.3,
          "petal width (cm)": 0.2,
          "sepal length (cm)": 5.5,
          "sepal width (cm)": 3.5,
          "species": "setosa"
         },
         {
          "__jitter": 2.0620662394574367,
          "petal length (cm)": 1.5,
          "petal width (cm)": 0.1,
          "sepal length (cm)": 4.9,
          "sepal width (cm)": 3.1,
          "species": "setosa"
         },
         {
          "__jitter": 1.955213894535816,
          "petal length (cm)": 1.3,
          "petal width (cm)": 0.2,
          "sepal length (cm)": 4.4,
          "sepal width (cm)": 3,
          "species": "setosa"
         },
         {
          "__jitter": 2.094995488853377,
          "petal length (cm)": 1.5,
          "petal width (cm)": 0.2,
          "sepal length (cm)": 5.1,
          "sepal width (cm)": 3.4,
          "species": "setosa"
         },
         {
          "__jitter": 2.1325783735055133,
          "petal length (cm)": 1.3,
          "petal width (cm)": 0.3,
          "sepal length (cm)": 5,
          "sepal width (cm)": 3.5,
          "species": "setosa"
         },
         {
          "__jitter": 1.8026168534345768,
          "petal length (cm)": 1.3,
          "petal width (cm)": 0.3,
          "sepal length (cm)": 4.5,
          "sepal width (cm)": 2.3,
          "species": "setosa"
         },
         {
          "__jitter": 2.0159438059933015,
          "petal length (cm)": 1.3,
          "petal width (cm)": 0.2,
          "sepal length (cm)": 4.4,
          "sepal width (cm)": 3.2,
          "species": "setosa"
         },
         {
          "__jitter": 2.1068006579026024,
          "petal length (cm)": 1.6,
          "petal width (cm)": 0.6,
          "sepal length (cm)": 5,
          "sepal width (cm)": 3.5,
          "species": "setosa"
         },
         {
          "__jitter": 2.1318442184678874,
          "petal length (cm)": 1.9,
          "petal width (cm)": 0.4,
          "sepal length (cm)": 5.1,
          "sepal width (cm)": 3.8,
          "species": "setosa"
         },
         {
          "__jitter": 1.8948516649167213,
          "petal length (cm)": 1.4,
          "petal width (cm)": 0.3,
          "sepal length (cm)": 4.8,
          "sepal width (cm)": 3,
          "species": "setosa"
         },
         {
          "__jitter": 1.8739465692359643,
          "petal length (cm)": 1.6,
          "petal width (cm)": 0.2,
          "sepal length (cm)": 5.1,
          "sepal width (cm)": 3.8,
          "species": "setosa"
         },
         {
          "__jitter": 2.1615440467346287,
          "petal length (cm)": 1.4,
          "petal width (cm)": 0.2,
          "sepal length (cm)": 4.6,
          "sepal width (cm)": 3.2,
          "species": "setosa"
         },
         {
          "__jitter": 1.8313288094472213,
          "petal length (cm)": 1.5,
          "petal width (cm)": 0.2,
          "sepal length (cm)": 5.3,
          "sepal width (cm)": 3.7,
          "species": "setosa"
         },
         {
          "__jitter": 1.8520543088467147,
          "petal length (cm)": 1.4,
          "petal width (cm)": 0.2,
          "sepal length (cm)": 5,
          "sepal width (cm)": 3.3,
          "species": "setosa"
         },
         {
          "__jitter": 1.1698773677666876,
          "petal length (cm)": 4.7,
          "petal width (cm)": 1.4,
          "sepal length (cm)": 7,
          "sepal width (cm)": 3.2,
          "species": "versicolor"
         },
         {
          "__jitter": 1.1285665825047928,
          "petal length (cm)": 4.5,
          "petal width (cm)": 1.5,
          "sepal length (cm)": 6.4,
          "sepal width (cm)": 3.2,
          "species": "versicolor"
         },
         {
          "__jitter": 1.1649888956262462,
          "petal length (cm)": 4.9,
          "petal width (cm)": 1.5,
          "sepal length (cm)": 6.9,
          "sepal width (cm)": 3.1,
          "species": "versicolor"
         },
         {
          "__jitter": 1.0454445875726361,
          "petal length (cm)": 4,
          "petal width (cm)": 1.3,
          "sepal length (cm)": 5.5,
          "sepal width (cm)": 2.3,
          "species": "versicolor"
         },
         {
          "__jitter": 0.8523025404771902,
          "petal length (cm)": 4.6,
          "petal width (cm)": 1.5,
          "sepal length (cm)": 6.5,
          "sepal width (cm)": 2.8,
          "species": "versicolor"
         },
         {
          "__jitter": 1.0831657098462661,
          "petal length (cm)": 4.5,
          "petal width (cm)": 1.3,
          "sepal length (cm)": 5.7,
          "sepal width (cm)": 2.8,
          "species": "versicolor"
         },
         {
          "__jitter": 1.1229693894016155,
          "petal length (cm)": 4.7,
          "petal width (cm)": 1.6,
          "sepal length (cm)": 6.3,
          "sepal width (cm)": 3.3,
          "species": "versicolor"
         },
         {
          "__jitter": 1.0239534503929895,
          "petal length (cm)": 3.3,
          "petal width (cm)": 1,
          "sepal length (cm)": 4.9,
          "sepal width (cm)": 2.4,
          "species": "versicolor"
         },
         {
          "__jitter": 1.1583434428725994,
          "petal length (cm)": 4.6,
          "petal width (cm)": 1.3,
          "sepal length (cm)": 6.6,
          "sepal width (cm)": 2.9,
          "species": "versicolor"
         },
         {
          "__jitter": 0.9250048475934118,
          "petal length (cm)": 3.9,
          "petal width (cm)": 1.4,
          "sepal length (cm)": 5.2,
          "sepal width (cm)": 2.7,
          "species": "versicolor"
         },
         {
          "__jitter": 1.1311388705722698,
          "petal length (cm)": 3.5,
          "petal width (cm)": 1,
          "sepal length (cm)": 5,
          "sepal width (cm)": 2,
          "species": "versicolor"
         },
         {
          "__jitter": 0.9393630755566192,
          "petal length (cm)": 4.2,
          "petal width (cm)": 1.5,
          "sepal length (cm)": 5.9,
          "sepal width (cm)": 3,
          "species": "versicolor"
         },
         {
          "__jitter": 1.0486925136391005,
          "petal length (cm)": 4,
          "petal width (cm)": 1,
          "sepal length (cm)": 6,
          "sepal width (cm)": 2.2,
          "species": "versicolor"
         },
         {
          "__jitter": 0.8264311417606125,
          "petal length (cm)": 4.7,
          "petal width (cm)": 1.4,
          "sepal length (cm)": 6.1,
          "sepal width (cm)": 2.9,
          "species": "versicolor"
         },
         {
          "__jitter": 0.9850410136946378,
          "petal length (cm)": 3.6,
          "petal width (cm)": 1.3,
          "sepal length (cm)": 5.6,
          "sepal width (cm)": 2.9,
          "species": "versicolor"
         },
         {
          "__jitter": 0.9077332639346545,
          "petal length (cm)": 4.4,
          "petal width (cm)": 1.4,
          "sepal length (cm)": 6.7,
          "sepal width (cm)": 3.1,
          "species": "versicolor"
         },
         {
          "__jitter": 0.9305605140280238,
          "petal length (cm)": 4.5,
          "petal width (cm)": 1.5,
          "sepal length (cm)": 5.6,
          "sepal width (cm)": 3,
          "species": "versicolor"
         },
         {
          "__jitter": 0.9075861447869311,
          "petal length (cm)": 4.1,
          "petal width (cm)": 1,
          "sepal length (cm)": 5.8,
          "sepal width (cm)": 2.7,
          "species": "versicolor"
         },
         {
          "__jitter": 1.0752129782114377,
          "petal length (cm)": 4.5,
          "petal width (cm)": 1.5,
          "sepal length (cm)": 6.2,
          "sepal width (cm)": 2.2,
          "species": "versicolor"
         },
         {
          "__jitter": 0.8462853482926651,
          "petal length (cm)": 3.9,
          "petal width (cm)": 1.1,
          "sepal length (cm)": 5.6,
          "sepal width (cm)": 2.5,
          "species": "versicolor"
         },
         {
          "__jitter": 0.9846148331830195,
          "petal length (cm)": 4.8,
          "petal width (cm)": 1.8,
          "sepal length (cm)": 5.9,
          "sepal width (cm)": 3.2,
          "species": "versicolor"
         },
         {
          "__jitter": 0.9850801844739931,
          "petal length (cm)": 4,
          "petal width (cm)": 1.3,
          "sepal length (cm)": 6.1,
          "sepal width (cm)": 2.8,
          "species": "versicolor"
         },
         {
          "__jitter": 0.9496682610127364,
          "petal length (cm)": 4.9,
          "petal width (cm)": 1.5,
          "sepal length (cm)": 6.3,
          "sepal width (cm)": 2.5,
          "species": "versicolor"
         },
         {
          "__jitter": 0.8554004694474364,
          "petal length (cm)": 4.7,
          "petal width (cm)": 1.2,
          "sepal length (cm)": 6.1,
          "sepal width (cm)": 2.8,
          "species": "versicolor"
         },
         {
          "__jitter": 1.1558139561616034,
          "petal length (cm)": 4.3,
          "petal width (cm)": 1.3,
          "sepal length (cm)": 6.4,
          "sepal width (cm)": 2.9,
          "species": "versicolor"
         },
         {
          "__jitter": 0.873280783902634,
          "petal length (cm)": 4.4,
          "petal width (cm)": 1.4,
          "sepal length (cm)": 6.6,
          "sepal width (cm)": 3,
          "species": "versicolor"
         },
         {
          "__jitter": 1.1339428044110997,
          "petal length (cm)": 4.8,
          "petal width (cm)": 1.4,
          "sepal length (cm)": 6.8,
          "sepal width (cm)": 2.8,
          "species": "versicolor"
         },
         {
          "__jitter": 1.0411750480282145,
          "petal length (cm)": 5,
          "petal width (cm)": 1.7,
          "sepal length (cm)": 6.7,
          "sepal width (cm)": 3,
          "species": "versicolor"
         },
         {
          "__jitter": 0.9266145561559833,
          "petal length (cm)": 4.5,
          "petal width (cm)": 1.5,
          "sepal length (cm)": 6,
          "sepal width (cm)": 2.9,
          "species": "versicolor"
         },
         {
          "__jitter": 0.8693855191512451,
          "petal length (cm)": 3.5,
          "petal width (cm)": 1,
          "sepal length (cm)": 5.7,
          "sepal width (cm)": 2.6,
          "species": "versicolor"
         },
         {
          "__jitter": 1.1918454407753172,
          "petal length (cm)": 3.8,
          "petal width (cm)": 1.1,
          "sepal length (cm)": 5.5,
          "sepal width (cm)": 2.4,
          "species": "versicolor"
         },
         {
          "__jitter": 1.1707701649687943,
          "petal length (cm)": 3.7,
          "petal width (cm)": 1,
          "sepal length (cm)": 5.5,
          "sepal width (cm)": 2.4,
          "species": "versicolor"
         },
         {
          "__jitter": 0.8944681169889437,
          "petal length (cm)": 3.9,
          "petal width (cm)": 1.2,
          "sepal length (cm)": 5.8,
          "sepal width (cm)": 2.7,
          "species": "versicolor"
         },
         {
          "__jitter": 1.0074253926491847,
          "petal length (cm)": 5.1,
          "petal width (cm)": 1.6,
          "sepal length (cm)": 6,
          "sepal width (cm)": 2.7,
          "species": "versicolor"
         },
         {
          "__jitter": 1.1046727354635582,
          "petal length (cm)": 4.5,
          "petal width (cm)": 1.5,
          "sepal length (cm)": 5.4,
          "sepal width (cm)": 3,
          "species": "versicolor"
         },
         {
          "__jitter": 1.1080313401213824,
          "petal length (cm)": 4.5,
          "petal width (cm)": 1.6,
          "sepal length (cm)": 6,
          "sepal width (cm)": 3.4,
          "species": "versicolor"
         },
         {
          "__jitter": 1.0006968669691683,
          "petal length (cm)": 4.7,
          "petal width (cm)": 1.5,
          "sepal length (cm)": 6.7,
          "sepal width (cm)": 3.1,
          "species": "versicolor"
         },
         {
          "__jitter": 1.1042709034069054,
          "petal length (cm)": 4.4,
          "petal width (cm)": 1.3,
          "sepal length (cm)": 6.3,
          "sepal width (cm)": 2.3,
          "species": "versicolor"
         },
         {
          "__jitter": 0.9816541599668973,
          "petal length (cm)": 4.1,
          "petal width (cm)": 1.3,
          "sepal length (cm)": 5.6,
          "sepal width (cm)": 3,
          "species": "versicolor"
         },
         {
          "__jitter": 1.1971349632045258,
          "petal length (cm)": 4,
          "petal width (cm)": 1.3,
          "sepal length (cm)": 5.5,
          "sepal width (cm)": 2.5,
          "species": "versicolor"
         },
         {
          "__jitter": 0.9764532045594287,
          "petal length (cm)": 4.4,
          "petal width (cm)": 1.2,
          "sepal length (cm)": 5.5,
          "sepal width (cm)": 2.6,
          "species": "versicolor"
         },
         {
          "__jitter": 1.0468318881165408,
          "petal length (cm)": 4.6,
          "petal width (cm)": 1.4,
          "sepal length (cm)": 6.1,
          "sepal width (cm)": 3,
          "species": "versicolor"
         },
         {
          "__jitter": 1.098442406779389,
          "petal length (cm)": 4,
          "petal width (cm)": 1.2,
          "sepal length (cm)": 5.8,
          "sepal width (cm)": 2.6,
          "species": "versicolor"
         },
         {
          "__jitter": 1.1982071030280168,
          "petal length (cm)": 3.3,
          "petal width (cm)": 1,
          "sepal length (cm)": 5,
          "sepal width (cm)": 2.3,
          "species": "versicolor"
         },
         {
          "__jitter": 1.0837251760242732,
          "petal length (cm)": 4.2,
          "petal width (cm)": 1.3,
          "sepal length (cm)": 5.6,
          "sepal width (cm)": 2.7,
          "species": "versicolor"
         },
         {
          "__jitter": 1.1877372639922394,
          "petal length (cm)": 4.2,
          "petal width (cm)": 1.2,
          "sepal length (cm)": 5.7,
          "sepal width (cm)": 3,
          "species": "versicolor"
         },
         {
          "__jitter": 1.1618149104513091,
          "petal length (cm)": 4.2,
          "petal width (cm)": 1.3,
          "sepal length (cm)": 5.7,
          "sepal width (cm)": 2.9,
          "species": "versicolor"
         },
         {
          "__jitter": 0.956301613588577,
          "petal length (cm)": 4.3,
          "petal width (cm)": 1.3,
          "sepal length (cm)": 6.2,
          "sepal width (cm)": 2.9,
          "species": "versicolor"
         },
         {
          "__jitter": 1.1728182310109336,
          "petal length (cm)": 3,
          "petal width (cm)": 1.1,
          "sepal length (cm)": 5.1,
          "sepal width (cm)": 2.5,
          "species": "versicolor"
         },
         {
          "__jitter": 0.9881170614936304,
          "petal length (cm)": 4.1,
          "petal width (cm)": 1.3,
          "sepal length (cm)": 5.7,
          "sepal width (cm)": 2.8,
          "species": "versicolor"
         },
         {
          "__jitter": -0.11429567864187802,
          "petal length (cm)": 6,
          "petal width (cm)": 2.5,
          "sepal length (cm)": 6.3,
          "sepal width (cm)": 3.3,
          "species": "virginica"
         },
         {
          "__jitter": 0.003414919359844143,
          "petal length (cm)": 5.1,
          "petal width (cm)": 1.9,
          "sepal length (cm)": 5.8,
          "sepal width (cm)": 2.7,
          "species": "virginica"
         },
         {
          "__jitter": -0.04494157073689092,
          "petal length (cm)": 5.9,
          "petal width (cm)": 2.1,
          "sepal length (cm)": 7.1,
          "sepal width (cm)": 3,
          "species": "virginica"
         },
         {
          "__jitter": 0.040591657858974006,
          "petal length (cm)": 5.6,
          "petal width (cm)": 1.8,
          "sepal length (cm)": 6.3,
          "sepal width (cm)": 2.9,
          "species": "virginica"
         },
         {
          "__jitter": -0.18487741163481877,
          "petal length (cm)": 5.8,
          "petal width (cm)": 2.2,
          "sepal length (cm)": 6.5,
          "sepal width (cm)": 3,
          "species": "virginica"
         },
         {
          "__jitter": 0.13682055613366773,
          "petal length (cm)": 6.6,
          "petal width (cm)": 2.1,
          "sepal length (cm)": 7.6,
          "sepal width (cm)": 3,
          "species": "virginica"
         },
         {
          "__jitter": 0.14904125140726976,
          "petal length (cm)": 4.5,
          "petal width (cm)": 1.7,
          "sepal length (cm)": 4.9,
          "sepal width (cm)": 2.5,
          "species": "virginica"
         },
         {
          "__jitter": 0.023668384786974694,
          "petal length (cm)": 6.3,
          "petal width (cm)": 1.8,
          "sepal length (cm)": 7.3,
          "sepal width (cm)": 2.9,
          "species": "virginica"
         },
         {
          "__jitter": 0.038036027693034324,
          "petal length (cm)": 5.8,
          "petal width (cm)": 1.8,
          "sepal length (cm)": 6.7,
          "sepal width (cm)": 2.5,
          "species": "virginica"
         },
         {
          "__jitter": -0.11660394126763803,
          "petal length (cm)": 6.1,
          "petal width (cm)": 2.5,
          "sepal length (cm)": 7.2,
          "sepal width (cm)": 3.6,
          "species": "virginica"
         },
         {
          "__jitter": -0.17978471524233064,
          "petal length (cm)": 5.1,
          "petal width (cm)": 2,
          "sepal length (cm)": 6.5,
          "sepal width (cm)": 3.2,
          "species": "virginica"
         },
         {
          "__jitter": 0.06323386593199365,
          "petal length (cm)": 5.3,
          "petal width (cm)": 1.9,
          "sepal length (cm)": 6.4,
          "sepal width (cm)": 2.7,
          "species": "virginica"
         },
         {
          "__jitter": -0.13314307357030103,
          "petal length (cm)": 5.5,
          "petal width (cm)": 2.1,
          "sepal length (cm)": 6.8,
          "sepal width (cm)": 3,
          "species": "virginica"
         },
         {
          "__jitter": -0.14832353726852476,
          "petal length (cm)": 5,
          "petal width (cm)": 2,
          "sepal length (cm)": 5.7,
          "sepal width (cm)": 2.5,
          "species": "virginica"
         },
         {
          "__jitter": 0.0673202326333161,
          "petal length (cm)": 5.1,
          "petal width (cm)": 2.4,
          "sepal length (cm)": 5.8,
          "sepal width (cm)": 2.8,
          "species": "virginica"
         },
         {
          "__jitter": 0.03527385772596778,
          "petal length (cm)": 5.3,
          "petal width (cm)": 2.3,
          "sepal length (cm)": 6.4,
          "sepal width (cm)": 3.2,
          "species": "virginica"
         },
         {
          "__jitter": 0.06721230658040067,
          "petal length (cm)": 5.5,
          "petal width (cm)": 1.8,
          "sepal length (cm)": 6.5,
          "sepal width (cm)": 3,
          "species": "virginica"
         },
         {
          "__jitter": -0.197478277705313,
          "petal length (cm)": 6.7,
          "petal width (cm)": 2.2,
          "sepal length (cm)": 7.7,
          "sepal width (cm)": 3.8,
          "species": "virginica"
         },
         {
          "__jitter": -0.06873721152617315,
          "petal length (cm)": 6.9,
          "petal width (cm)": 2.3,
          "sepal length (cm)": 7.7,
          "sepal width (cm)": 2.6,
          "species": "virginica"
         },
         {
          "__jitter": 0.1553796499120964,
          "petal length (cm)": 5,
          "petal width (cm)": 1.5,
          "sepal length (cm)": 6,
          "sepal width (cm)": 2.2,
          "species": "virginica"
         },
         {
          "__jitter": 0.10470660251249897,
          "petal length (cm)": 5.7,
          "petal width (cm)": 2.3,
          "sepal length (cm)": 6.9,
          "sepal width (cm)": 3.2,
          "species": "virginica"
         },
         {
          "__jitter": 0.14516985191870813,
          "petal length (cm)": 4.9,
          "petal width (cm)": 2,
          "sepal length (cm)": 5.6,
          "sepal width (cm)": 2.8,
          "species": "virginica"
         },
         {
          "__jitter": 0.031207596693547363,
          "petal length (cm)": 6.7,
          "petal width (cm)": 2,
          "sepal length (cm)": 7.7,
          "sepal width (cm)": 2.8,
          "species": "virginica"
         },
         {
          "__jitter": 0.1516005522440807,
          "petal length (cm)": 4.9,
          "petal width (cm)": 1.8,
          "sepal length (cm)": 6.3,
          "sepal width (cm)": 2.7,
          "species": "virginica"
         },
         {
          "__jitter": 0.08764107775685454,
          "petal length (cm)": 5.7,
          "petal width (cm)": 2.1,
          "sepal length (cm)": 6.7,
          "sepal width (cm)": 3.3,
          "species": "virginica"
         },
         {
          "__jitter": 0.11721129391406743,
          "petal length (cm)": 6,
          "petal width (cm)": 1.8,
          "sepal length (cm)": 7.2,
          "sepal width (cm)": 3.2,
          "species": "virginica"
         },
         {
          "__jitter": 0.07416362658259218,
          "petal length (cm)": 4.8,
          "petal width (cm)": 1.8,
          "sepal length (cm)": 6.2,
          "sepal width (cm)": 2.8,
          "species": "virginica"
         },
         {
          "__jitter": -0.1640511357523443,
          "petal length (cm)": 4.9,
          "petal width (cm)": 1.8,
          "sepal length (cm)": 6.1,
          "sepal width (cm)": 3,
          "species": "virginica"
         },
         {
          "__jitter": 0.11833384709707512,
          "petal length (cm)": 5.6,
          "petal width (cm)": 2.1,
          "sepal length (cm)": 6.4,
          "sepal width (cm)": 2.8,
          "species": "virginica"
         },
         {
          "__jitter": -0.17175467972600544,
          "petal length (cm)": 5.8,
          "petal width (cm)": 1.6,
          "sepal length (cm)": 7.2,
          "sepal width (cm)": 3,
          "species": "virginica"
         },
         {
          "__jitter": 0.009641711892846516,
          "petal length (cm)": 6.1,
          "petal width (cm)": 1.9,
          "sepal length (cm)": 7.4,
          "sepal width (cm)": 2.8,
          "species": "virginica"
         },
         {
          "__jitter": 0.08983634771389165,
          "petal length (cm)": 6.4,
          "petal width (cm)": 2,
          "sepal length (cm)": 7.9,
          "sepal width (cm)": 3.8,
          "species": "virginica"
         },
         {
          "__jitter": 0.19432396766837423,
          "petal length (cm)": 5.6,
          "petal width (cm)": 2.2,
          "sepal length (cm)": 6.4,
          "sepal width (cm)": 2.8,
          "species": "virginica"
         },
         {
          "__jitter": -0.09874787020509408,
          "petal length (cm)": 5.1,
          "petal width (cm)": 1.5,
          "sepal length (cm)": 6.3,
          "sepal width (cm)": 2.8,
          "species": "virginica"
         },
         {
          "__jitter": 0.06720696813724858,
          "petal length (cm)": 5.6,
          "petal width (cm)": 1.4,
          "sepal length (cm)": 6.1,
          "sepal width (cm)": 2.6,
          "species": "virginica"
         },
         {
          "__jitter": 0.1996195078927538,
          "petal length (cm)": 6.1,
          "petal width (cm)": 2.3,
          "sepal length (cm)": 7.7,
          "sepal width (cm)": 3,
          "species": "virginica"
         },
         {
          "__jitter": -0.1098646445180926,
          "petal length (cm)": 5.6,
          "petal width (cm)": 2.4,
          "sepal length (cm)": 6.3,
          "sepal width (cm)": 3.4,
          "species": "virginica"
         },
         {
          "__jitter": 0.042077525007154504,
          "petal length (cm)": 5.5,
          "petal width (cm)": 1.8,
          "sepal length (cm)": 6.4,
          "sepal width (cm)": 3.1,
          "species": "virginica"
         },
         {
          "__jitter": -0.041104354963845735,
          "petal length (cm)": 4.8,
          "petal width (cm)": 1.8,
          "sepal length (cm)": 6,
          "sepal width (cm)": 3,
          "species": "virginica"
         },
         {
          "__jitter": 0.11087238137773653,
          "petal length (cm)": 5.4,
          "petal width (cm)": 2.1,
          "sepal length (cm)": 6.9,
          "sepal width (cm)": 3.1,
          "species": "virginica"
         },
         {
          "__jitter": 0.0934004418225074,
          "petal length (cm)": 5.6,
          "petal width (cm)": 2.4,
          "sepal length (cm)": 6.7,
          "sepal width (cm)": 3.1,
          "species": "virginica"
         },
         {
          "__jitter": -0.1394111627868258,
          "petal length (cm)": 5.1,
          "petal width (cm)": 2.3,
          "sepal length (cm)": 6.9,
          "sepal width (cm)": 3.1,
          "species": "virginica"
         },
         {
          "__jitter": -0.008404306567714043,
          "petal length (cm)": 5.1,
          "petal width (cm)": 1.9,
          "sepal length (cm)": 5.8,
          "sepal width (cm)": 2.7,
          "species": "virginica"
         },
         {
          "__jitter": 0.16872671118457072,
          "petal length (cm)": 5.9,
          "petal width (cm)": 2.3,
          "sepal length (cm)": 6.8,
          "sepal width (cm)": 3.2,
          "species": "virginica"
         },
         {
          "__jitter": 0.05336254170048982,
          "petal length (cm)": 5.7,
          "petal width (cm)": 2.5,
          "sepal length (cm)": 6.7,
          "sepal width (cm)": 3.3,
          "species": "virginica"
         },
         {
          "__jitter": -0.003813944738387226,
          "petal length (cm)": 5.2,
          "petal width (cm)": 2.3,
          "sepal length (cm)": 6.7,
          "sepal width (cm)": 3,
          "species": "virginica"
         },
         {
          "__jitter": 0.08704404347675465,
          "petal length (cm)": 5,
          "petal width (cm)": 1.9,
          "sepal length (cm)": 6.3,
          "sepal width (cm)": 2.5,
          "species": "virginica"
         },
         {
          "__jitter": -0.09564194712739167,
          "petal length (cm)": 5.2,
          "petal width (cm)": 2,
          "sepal length (cm)": 6.5,
          "sepal width (cm)": 3,
          "species": "virginica"
         },
         {
          "__jitter": -0.10172221842415596,
          "petal length (cm)": 5.4,
          "petal width (cm)": 2.3,
          "sepal length (cm)": 6.2,
          "sepal width (cm)": 3.4,
          "species": "virginica"
         },
         {
          "__jitter": 0.16978235698193872,
          "petal length (cm)": 5.1,
          "petal width (cm)": 1.8,
          "sepal length (cm)": 5.9,
          "sepal width (cm)": 3,
          "species": "virginica"
         }
        ],
        "data-720b6bc688e2da72c566cb488e03aad8": [
         {
          "bottom": 0.2,
          "bottom_whisker": 0.1,
          "cap_left": 1.9,
          "cap_right": 2.1,
          "left": 1.6,
          "middle": 0.2,
          "nominal_axis_value": 2,
          "right": 2.4,
          "species": "setosa",
          "top": 0.3,
          "top_whisker": 0.44999999999999996
         },
         {
          "bottom": 1.2,
          "bottom_whisker": 1,
          "cap_left": 0.9,
          "cap_right": 1.1,
          "left": 0.6,
          "middle": 1.3,
          "nominal_axis_value": 1,
          "right": 1.4,
          "species": "versicolor",
          "top": 1.5,
          "top_whisker": 1.8
         },
         {
          "bottom": 1.8,
          "bottom_whisker": 1.4,
          "cap_left": -0.1,
          "cap_right": 0.1,
          "left": -0.4,
          "middle": 2,
          "nominal_axis_value": 0,
          "right": 0.4,
          "species": "virginica",
          "top": 2.3,
          "top_whisker": 2.5
         }
        ],
        "data-bd2e5f68a2fbb4c31768a053952bd583": [
         {
          "__jitter": 0,
          "petal width (cm)": 0,
          "text": "virginica"
         },
         {
          "__jitter": 1,
          "petal width (cm)": 0,
          "text": "versicolor"
         },
         {
          "__jitter": 2,
          "petal width (cm)": 0,
          "text": "setosa"
         }
        ]
       },
       "layer": [
        {
         "layer": [
          {
           "data": {
            "name": "data-720b6bc688e2da72c566cb488e03aad8"
           },
           "encoding": {
            "x": {
             "field": "bottom_whisker",
             "title": "petal width (cm)",
             "type": "quantitative"
            },
            "x2": {
             "field": "bottom",
             "type": "quantitative"
            },
            "y": {
             "field": "nominal_axis_value",
             "scale": {},
             "type": "quantitative"
            }
           },
           "height": 250,
           "mark": {
            "color": "lightgray",
            "opacity": 1,
            "type": "rule"
           },
           "width": 450
          },
          {
           "data": {
            "name": "data-720b6bc688e2da72c566cb488e03aad8"
           },
           "encoding": {
            "x": {
             "field": "top",
             "title": "petal width (cm)",
             "type": "quantitative"
            },
            "x2": {
             "field": "top_whisker",
             "type": "quantitative"
            },
            "y": {
             "field": "nominal_axis_value",
             "scale": {},
             "type": "quantitative"
            }
           },
           "height": 250,
           "mark": {
            "color": "lightgray",
            "opacity": 1,
            "type": "rule"
           },
           "width": 450
          },
          {
           "data": {
            "name": "data-720b6bc688e2da72c566cb488e03aad8"
           },
           "encoding": {
            "x": {
             "field": "bottom",
             "title": "petal width (cm)",
             "type": "quantitative"
            },
            "x2": {
             "field": "top",
             "type": "quantitative"
            },
            "y": {
             "field": "left",
             "scale": {},
             "type": "quantitative"
            },
            "y2": {
             "field": "right",
             "type": "quantitative"
            }
           },
           "height": 250,
           "mark": {
            "color": "lightgray",
            "filled": true,
            "size": 0.4,
            "type": "bar"
           },
           "width": 450
          },
          {
           "data": {
            "name": "data-720b6bc688e2da72c566cb488e03aad8"
           },
           "encoding": {
            "x": {
             "field": "middle",
             "title": "petal width (cm)",
             "type": "quantitative"
            },
            "y": {
             "field": "left",
             "scale": {},
             "type": "quantitative"
            },
            "y2": {
             "field": "right",
             "type": "quantitative"
            }
           },
           "height": 250,
           "mark": {
            "color": "white",
            "opacity": 1,
            "type": "rule"
           },
           "width": 450
          },
          {
           "data": {
            "name": "data-720b6bc688e2da72c566cb488e03aad8"
           },
           "encoding": {
            "x": {
             "field": "bottom_whisker",
             "title": "petal width (cm)",
             "type": "quantitative"
            },
            "y": {
             "field": "cap_left",
             "type": "quantitative"
            },
            "y2": {
             "field": "cap_right",
             "type": "quantitative"
            }
           },
           "height": 250,
           "mark": {
            "color": "lightgray",
            "opacity": 1,
            "type": "rule"
           },
           "width": 450
          },
          {
           "data": {
            "name": "data-720b6bc688e2da72c566cb488e03aad8"
           },
           "encoding": {
            "x": {
             "field": "top_whisker",
             "title": "petal width (cm)",
             "type": "quantitative"
            },
            "y": {
             "field": "cap_left",
             "type": "quantitative"
            },
            "y2": {
             "field": "cap_right",
             "type": "quantitative"
            }
           },
           "height": 250,
           "mark": {
            "color": "lightgray",
            "opacity": 1,
            "type": "rule"
           },
           "width": 450
          }
         ]
        },
        {
         "layer": [
          {
           "data": {
            "name": "data-05c4bc14a6364f52f9e5833033e8df2a"
           },
           "encoding": {
            "color": {
             "field": "species",
             "legend": null,
             "scale": {},
             "type": "nominal"
            },
            "tooltip": [
             {
              "field": "species",
              "type": "nominal"
             },
             {
              "field": "petal width (cm)",
              "type": "quantitative"
             },
             {
              "field": "petal length (cm)",
              "type": "quantitative"
             },
             {
              "field": "sepal width (cm)",
              "type": "quantitative"
             }
            ],
            "x": {
             "field": "petal width (cm)",
             "title": "petal width (cm)",
             "type": "quantitative"
            },
            "y": {
             "axis": {
              "grid": false,
              "labels": false,
              "title": null,
              "values": [
               0,
               1,
               2
              ]
             },
             "field": "__jitter",
             "type": "quantitative"
            }
           },
           "height": 250,
           "mark": {
            "type": "point"
           },
           "width": 450
          },
          {
           "data": {
            "name": "data-bd2e5f68a2fbb4c31768a053952bd583"
           },
           "encoding": {
            "text": {
             "field": "text",
             "type": "nominal"
            },
            "x": {
             "field": "petal width (cm)",
             "title": "petal width (cm)",
             "type": "quantitative"
            },
            "y": {
             "axis": {
              "grid": false,
              "labels": false,
              "title": null,
              "values": [
               0,
               1,
               2
              ]
             },
             "field": "__jitter",
             "type": "quantitative"
            }
           },
           "height": 250,
           "mark": {
            "align": "right",
            "baseline": "middle",
            "dx": -8,
            "type": "text"
           },
           "width": 450
          }
         ]
        }
       ]
      },
      "image/png": "[encoded data removed]",
      "text/plain": [
       "<VegaLite 2 object>\n",
       "\n",
       "If you see this message, it means the renderer has not been properly enabled\n",
       "for the frontend that you are using. For more information, see\n",
       "https://altair-viz.github.io/user_guide/troubleshooting.html\n"
      ]
     },
     "execution_count": 51,
     "metadata": {},
     "output_type": "execute_result"
    }
   ],
   "source": [
    "altcat.catplot(df_tidy,\n",
    "               height=250,\n",
    "               width=450,\n",
    "               mark='point',\n",
    "               encoding=dict(x='petal width (cm):Q',\n",
    "                            y=alt.Y('species:N'),\n",
    "                            color=alt.Color('species:N', legend=None),\n",
    "                            tooltip=alt.Tooltip(['species:N', \n",
    "                                                 'petal width (cm):Q', \n",
    "                                                 'petal length (cm):Q', \n",
    "                                                 'sepal width (cm):Q'])),\n",
    "               transform='jitterbox'\n",
    "              ).configure_text(\n",
    "                  fontWeight='bold'\n",
    "              )"
   ]
  },
  {
   "cell_type": "markdown",
   "metadata": {},
   "source": [
    "I chose to display the data with the jitterbox format because you can display all the data points and show summary statistics. In this plot, you can clearly see that setosa has a much smaller distribution of petal widths and has the smallest median petal width, while virginica has the widest distribution of petal widths and the largest median petal width. I added the petal length and sepal width tooltips so that you can see more information about the data and begin to look at if petal width and petal length or sepal width are correlated. "
   ]
  }
 ],
 "metadata": {
  "anaconda-cloud": {},
  "kernelspec": {
   "display_name": "Python 3",
   "language": "python",
   "name": "python3"
  },
  "language_info": {
   "codemirror_mode": {
    "name": "ipython",
    "version": 3
   },
   "file_extension": ".py",
   "mimetype": "text/x-python",
   "name": "python",
   "nbconvert_exporter": "python",
   "pygments_lexer": "ipython3",
   "version": "3.7.0"
  }
 },
 "nbformat": 4,
 "nbformat_minor": 2
}
