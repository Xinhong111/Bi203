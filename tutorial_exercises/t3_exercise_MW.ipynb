{
 "cells": [
  {
   "cell_type": "markdown",
   "metadata": {},
   "source": [
    "# Tutorial 3: exercise\n",
    "\n",
    "(c) 2018 Justin Bois. With the exception of pasted graphics, where the source is noted, this work is licensed under a [Creative Commons Attribution License CC-BY 4.0](https://creativecommons.org/licenses/by/4.0/). All code contained herein is licensed under an [MIT license](https://opensource.org/licenses/MIT).\n",
    "\n",
    "This document was prepared at [Caltech](http://www.caltech.edu) with financial support from the [Donna and Benjamin M. Rosen Bioengineering Center](http://rosen.caltech.edu).\n",
    "\n",
    "<img src=\"caltech_rosen.png\">\n",
    "\n",
    "*This tutorial exercise was generated from an Jupyter notebook.  You can download the notebook [here](t3_exercise.ipynb). Use this downloaded Jupyter notebook to fill out your responses.*"
   ]
  },
  {
   "cell_type": "markdown",
   "metadata": {},
   "source": [
    "### Exercise 1\n",
    "\n",
    "What is an ROI, and why is it an important concept in digital image processing?"
   ]
  },
  {
   "cell_type": "markdown",
   "metadata": {},
   "source": [
    "An ROI (region of interest), is the part of the image or image stack that we're interested in analyzing, ignoring the rest. By focusing only on an ROI, we can avoid using excessive memory/power on data that we aren't interested in.\n",
    "</br>"
   ]
  },
  {
   "cell_type": "markdown",
   "metadata": {},
   "source": [
    "## Exercise 2\n",
    "How would you expect each of the following to be distributed?\n",
    "\n",
    "**a)** The amount of time between repressor-operator binding events.\n",
    "\n",
    "**b)** The number of times a repressor binds its operator in a given hour.\n",
    "\n",
    "**c)** The amount of time (in total minutes of baseball played) between no-hitters in Major League Baseball.\n",
    "\n",
    "**d)** The number of no-hitters in a Major League Baseball season.\n",
    "\n",
    "**e)** The winning times of the Belmont Stakes.\n",
    "\n",
    "To answer this question, try to match these stories to the stories of named distributions. For those of you not familiar with baseball, a no-hitter is a game in which a team concedes no hits to the opposing team. There have only been a few hundred no-hitters in over 200,000 MLB games. The Belmont Stakes is a major horse race that has been run each year for over 150 years."
   ]
  },
  {
   "cell_type": "markdown",
   "metadata": {},
   "source": [
    "a. Geometric / Exponential?\n",
    "\n",
    "b. Binomial\n",
    "\n",
    "c. Exponential\n",
    "\n",
    "d. Poisson\n",
    "\n",
    "e. Gaussian?\n",
    "\n",
    "I'm super unsure about these because I've never learned about them before except when we used them briefly in Ph 2c and BE 150. In both cases I felt like I should've already had some knowledge in these distributions, so it was hard for me to grasp what distributions corresponded to what kind of story. At the start of 3rd term last year, I didn't even know what distributions existed outside of Gaussian and Poisson...but that's one of the reasons I'm taking this class! I hope we can go into more detail and have more examples of these distributions so I can start to think about how to model certain types of events. \n",
    "</br>"
   ]
  },
  {
   "cell_type": "markdown",
   "metadata": {},
   "source": [
    "### Exercise 3\n",
    "\n",
    "Say I have three distributions:\n",
    "\n",
    "- Exponential, β=1\n",
    "- Gaussian, μ=1, σ=1\n",
    "- Cauchy, µ=1, σ=1\n",
    "\n",
    "Say I draw numbers out of each of these distributions. Rank order the distributions, lowest to highest, in terms of how likely I am do draw a number greater than 10. You do not need to calculate anything to answer this question."
   ]
  },
  {
   "cell_type": "markdown",
   "metadata": {},
   "source": [
    "I'm confused. I tried plotting the values using the tutorial 3c notebook, but I'm not really sure how to interpret the PDF and CDF, and if I should only be looking at one of them? But I guess they show similar things because one is the derivative of the other? I'm not sure. I would guess Cauchy ranks higher than Gaussian because it has longer tails. I don't know how to rank the exponential distribution intuitively though.\n",
    "\n",
    "Looking at the formulas, the order would be Cauchy, Exponential, then Gaussian (if plugging in y=10 is the right thing to do).\n",
    "</br>"
   ]
  },
  {
   "cell_type": "markdown",
   "metadata": {},
   "source": [
    "### Exercise 4\n",
    "\n",
    "This is not really an exercise, but a point of curiosity for me. Tell me of an instance, if any, where you were burned by a data set not being what you thought it was that you could have avoided if you did data validation."
   ]
  },
  {
   "cell_type": "markdown",
   "metadata": {},
   "source": [
    "I haven't worked with too much data at Caltech, so it hasn't really been an issue for me. Over the summer, I was working with simulation data, but I think I did enough data checks and had enough guidance from my mentor to not be burned by a data set."
   ]
  }
 ],
 "metadata": {
  "anaconda-cloud": {},
  "kernelspec": {
   "display_name": "Python 3",
   "language": "python",
   "name": "python3"
  },
  "language_info": {
   "codemirror_mode": {
    "name": "ipython",
    "version": 3
   },
   "file_extension": ".py",
   "mimetype": "text/x-python",
   "name": "python",
   "nbconvert_exporter": "python",
   "pygments_lexer": "ipython3",
   "version": "3.7.0"
  }
 },
 "nbformat": 4,
 "nbformat_minor": 2
}
