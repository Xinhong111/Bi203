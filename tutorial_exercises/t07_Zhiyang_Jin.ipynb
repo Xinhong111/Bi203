{
 "cells": [
  {
   "cell_type": "markdown",
   "metadata": {},
   "source": [
    "**EX1**\n",
    "\n",
    "a) Because sometimes even we are able to compute the analytical expression for the posterior, it is difficult to summrize analytically it in various ways. For instance, it is usually not easy to marginalize the posterior analytically because of integration, and there are similar stories in computing statistical functional and expections. Being able to sample out of a probability distribution can give numerical results of those things more easilly with codes, even enough sometimes it might be computationally intensive.\n",
    "\n",
    "b) As mentioned in the lecture notes, the basic idea of MCMC is to have random walks in parameter space such that the probability that a walker arrives at point $\\theta$ is proportional to $P(\\theta)$, so that we can take the walker positions as samples from the distributions, and the way we do it is to have a proper transition kernal which decides the probability of a walker stepping from $\\theta_i$ to $\\theta_{i+1}$ so that it fulfills the condition."
   ]
  },
  {
   "cell_type": "markdown",
   "metadata": {},
   "source": [
    "**EX2**\n",
    "\n",
    "Because when the walker starts at position $\\theta_0$, it is highly possible that it would stay in a part of low-probability parameter space for first few steps. Those steps would be over-weighted if we do not sample for an incredibly long time, so we nned to a warm-up where we let the walker walk for a while before recording the samples. "
   ]
  },
  {
   "cell_type": "markdown",
   "metadata": {},
   "source": [
    "**EX3**\n",
    "\n",
    "Just neglect other parameters and plot the ECDFs of distributions of interest from samples drawn by MCMC."
   ]
  },
  {
   "cell_type": "markdown",
   "metadata": {},
   "source": [
    "**EX4**\n",
    "\n",
    "A nonidentifiable model is a model for which we cannot determine the parameter values by sampling the distribution. In other words, in a non"
   ]
  }
 ],
 "metadata": {
  "kernelspec": {
   "display_name": "Python 3",
   "language": "python",
   "name": "python3"
  },
  "language_info": {
   "codemirror_mode": {
    "name": "ipython",
    "version": 3
   },
   "file_extension": ".py",
   "mimetype": "text/x-python",
   "name": "python",
   "nbconvert_exporter": "python",
   "pygments_lexer": "ipython3",
   "version": "3.7.1"
  }
 },
 "nbformat": 4,
 "nbformat_minor": 2
}
