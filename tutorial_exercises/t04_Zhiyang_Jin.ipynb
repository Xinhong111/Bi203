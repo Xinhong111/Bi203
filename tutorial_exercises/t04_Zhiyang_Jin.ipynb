{
 "cells": [
  {
   "cell_type": "markdown",
   "metadata": {},
   "source": [
    "**Ex1**\n",
    "\n",
    "Image segmentation is to separate defined segments (sets of pixels) within images. Those segments could be defined in term of various conditions to change the representation of those pixels, i.e. using edge finder in the tutorial to locate bacteria."
   ]
  },
  {
   "cell_type": "markdown",
   "metadata": {},
   "source": [
    "**Ex2**\n",
    "\n",
    "Thresholding is the process which converts an image into a binary image containg only ones and zeros based on the conditions we set, usually intensity. It helps classify pixels into two sets and with the approriate conditions, it helps separate and emphasize the set of our interest from the background."
   ]
  },
  {
   "cell_type": "markdown",
   "metadata": {},
   "source": [
    "**Ex3**\n",
    "\n",
    "Structuring element is a set of pixels with a specific shape around each pixel. Some processing of the image would need information about processed pixels' some neighborhood of pixels, and structuring element is a uniformly defined neighborhood for those processing methods."
   ]
  },
  {
   "cell_type": "markdown",
   "metadata": {},
   "source": [
    "**Ex4**\n",
    "\n",
    "The edge should pixels that separate multiple sets of pixels which mathematically would have a locally maximal gradients. LoG filter does a Gaussian filter first and then takes the second derivative of image, looking for zeros which indicate local maximum of gradients of pixel values. \n",
    "\n",
    "Because Laplacian filer"
   ]
  },
  {
   "cell_type": "code",
   "execution_count": null,
   "metadata": {},
   "outputs": [],
   "source": []
  }
 ],
 "metadata": {
  "kernelspec": {
   "display_name": "Python 3",
   "language": "python",
   "name": "python3"
  },
  "language_info": {
   "codemirror_mode": {
    "name": "ipython",
    "version": 3
   },
   "file_extension": ".py",
   "mimetype": "text/x-python",
   "name": "python",
   "nbconvert_exporter": "python",
   "pygments_lexer": "ipython3",
   "version": "3.7.0"
  }
 },
 "nbformat": 4,
 "nbformat_minor": 2
}
