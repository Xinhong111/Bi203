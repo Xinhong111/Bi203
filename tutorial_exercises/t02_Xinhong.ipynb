{
 "cells": [
  {
   "cell_type": "markdown",
   "metadata": {},
   "source": [
    "# Tutorial 2: exercise\n",
    "\n",
    "(c) 2018 Justin Bois. With the exception of pasted graphics, where the source is noted, this work is licensed under a [Creative Commons Attribution License CC-BY 4.0](https://creativecommons.org/licenses/by/4.0/). All code contained herein is licensed under an [MIT license](https://opensource.org/licenses/MIT).\n",
    "\n",
    "This document was prepared at [Caltech](http://www.caltech.edu) with financial support from the [Donna and Benjamin M. Rosen Bioengineering Center](http://rosen.caltech.edu).\n",
    "\n",
    "<img src=\"caltech_rosen.png\">\n",
    "\n",
    "*This tutorial exercise was generated from an Jupyter notebook.  You can download the notebook [here](t2_exercise.ipynb). Use this downloaded Jupyter notebook to fill out your responses.*"
   ]
  },
  {
   "cell_type": "markdown",
   "metadata": {},
   "source": [
    "### Exercise 1\n",
    "\n",
    "The [Anderson-Fisher iris data set](https://en.wikipedia.org/wiki/Iris_flower_data_set) is a classic data set used in statistical and machine learning applications. Edgar Anderson carefully measured the lengths and widths of the petals and sepals of 50 irises in each of three species, *I. setosa*, *I. versicolor*, and *I. virginica*. Ronald Fisher then used this data set to distinguish the three species from each other.\n",
    "\n",
    "**a)** Load the data set, which you can download [here](../data/anderson-fisher-iris.csv) into a Pandas `DataFrame` called `df`. Be sure to check out the structure of the data set before loading. You will need to use the `header=[0,1]` kwarg of `pd.read_csv()` to load the data set in properly."
   ]
  },
  {
   "cell_type": "code",
   "execution_count": 20,
   "metadata": {},
   "outputs": [
    {
     "data": {
      "text/plain": [
       "DataTransformerRegistry.enable('json')"
      ]
     },
     "execution_count": 20,
     "metadata": {},
     "output_type": "execute_result"
    }
   ],
   "source": [
    "import numpy as np\n",
    "import pandas as pd\n",
    "\n",
    "import altair as alt\n",
    "\n",
    "import altair_catplot as altcat\n",
    "\n",
    "alt.data_transformers.enable('json')"
   ]
  },
  {
   "cell_type": "code",
   "execution_count": 4,
   "metadata": {},
   "outputs": [
    {
     "data": {
      "text/plain": [
       "'/Users/chenxinhong'"
      ]
     },
     "execution_count": 4,
     "metadata": {},
     "output_type": "execute_result"
    }
   ],
   "source": [
    "pwd"
   ]
  },
  {
   "cell_type": "code",
   "execution_count": 5,
   "metadata": {},
   "outputs": [
    {
     "name": "stdout",
     "output_type": "stream",
     "text": [
      "setosa,setosa,setosa,setosa,versicolor,versicolor,versicolor,versicolor,virginica,virginica,virginica,virginica\n",
      "sepal length (cm),sepal width (cm),petal length (cm),petal width (cm),sepal length (cm),sepal width (cm),petal length (cm),petal width (cm),sepal length (cm),sepal width (cm),petal length (cm),petal width (cm)\n",
      ",,,,,,,,,,,\n",
      "5.1,3.5,1.4,0.2,7.0,3.2,4.7,1.4,6.3,3.3,6.0,2.5\n",
      "4.9,3.0,1.4,0.2,6.4,3.2,4.5,1.5,5.8,2.7,5.1,1.9\n",
      "4.7,3.2,1.3,0.2,6.9,3.1,4.9,1.5,7.1,3.0,5.9,2.1\n",
      "4.6,3.1,1.5,0.2,5.5,2.3,4.0,1.3,6.3,2.9,5.6,1.8\n",
      "5.0,3.6,1.4,0.2,6.5,2.8,4.6,1.5,6.5,3.0,5.8,2.2\n",
      "5.4,3.9,1.7,0.4,5.7,2.8,4.5,1.3,7.6,3.0,6.6,2.1\n",
      "4.6,3.4,1.4,0.3,6.3,3.3,4.7,1.6,4.9,2.5,4.5,1.7\n",
      "5.0,3.4,1.5,0.2,4.9,2.4,3.3,1.0,7.3,2.9,6.3,1.8\n",
      "4.4,2.9,1.4,0.2,6.6,2.9,4.6,1.3,6.7,2.5,5.8,1.8\n",
      "4.9,3.1,1.5,0.1,5.2,2.7,3.9,1.4,7.2,3.6,6.1,2.5\n",
      "5.4,3.7,1.5,0.2,5.0,2.0,3.5,1.0,6.5,3.2,5.1,2.0\n",
      "4.8,3.4,1.6,0.2,5.9,3.0,4.2,1.5,6.4,2.7,5.3,1.9\n",
      "4.8,3.0,1.4,0.1,6.0,2.2,4.0,1.0,6.8,3.0,5.5,2.1\n",
      "4.3,3.0,1.1,0.1,6.1,2.9,4.7,1.4,5.7,2.5,5.0,2.0\n",
      "5.8,4.0,1.2,0.2,5.6,2.9,3.6,1.3,5.8,2.8,5.1,2.4\n",
      "5.7,4.4,1.5,0.4,6.7,3.1,4.4,1.4,6.4,3.2,5.3,2.3\n",
      "5.4,3.9,1.3,0.4,5.6,3.0,4.5,1.5,6.5,3.0,5.5,1.8\n",
      "5.1,3.5,1.4,0.3,5.8,2.7,4.1,1.0,7.7,3.8,6.7,2.2\n",
      "5.7,3.8,1.7,0.3,6.2,2.2,4.5,1.5,7.7,2.6,6.9,2.3\n",
      "5.1,3.8,1.5,0.3,5.6,2.5,3.9,1.1,6.0,2.2,5.0,1.5\n",
      "5.4,3.4,1.7,0.2,5.9,3.2,4.8,1.8,6.9,3.2,5.7,2.3\n",
      "5.1,3.7,1.5,0.4,6.1,2.8,4.0,1.3,5.6,2.8,4.9,2.0\n",
      "4.6,3.6,1.0,0.2,6.3,2.5,4.9,1.5,7.7,2.8,6.7,2.0\n",
      "5.1,3.3,1.7,0.5,6.1,2.8,4.7,1.2,6.3,2.7,4.9,1.8\n",
      "4.8,3.4,1.9,0.2,6.4,2.9,4.3,1.3,6.7,3.3,5.7,2.1\n",
      "5.0,3.0,1.6,0.2,6.6,3.0,4.4,1.4,7.2,3.2,6.0,1.8\n",
      "5.0,3.4,1.6,0.4,6.8,2.8,4.8,1.4,6.2,2.8,4.8,1.8\n"
     ]
    }
   ],
   "source": [
    "# Check the stucture of the dataset before loading into dataframe\n",
    "with open('./data/anderson-fisher-iris.csv', 'r') as f:\n",
    "    for _ in range(30):\n",
    "        print(next(f), end='')"
   ]
  },
  {
   "cell_type": "markdown",
   "metadata": {},
   "source": [
    "We could see there are 2 levels of heading, so we should use header = [0,1] to properly load the data"
   ]
  },
  {
   "cell_type": "code",
   "execution_count": 6,
   "metadata": {},
   "outputs": [
    {
     "data": {
      "text/html": [
       "<div>\n",
       "<style scoped>\n",
       "    .dataframe tbody tr th:only-of-type {\n",
       "        vertical-align: middle;\n",
       "    }\n",
       "\n",
       "    .dataframe tbody tr th {\n",
       "        vertical-align: top;\n",
       "    }\n",
       "\n",
       "    .dataframe thead tr th {\n",
       "        text-align: left;\n",
       "    }\n",
       "</style>\n",
       "<table border=\"1\" class=\"dataframe\">\n",
       "  <thead>\n",
       "    <tr>\n",
       "      <th></th>\n",
       "      <th colspan=\"4\" halign=\"left\">setosa</th>\n",
       "      <th colspan=\"4\" halign=\"left\">versicolor</th>\n",
       "      <th colspan=\"4\" halign=\"left\">virginica</th>\n",
       "    </tr>\n",
       "    <tr>\n",
       "      <th></th>\n",
       "      <th>sepal length (cm)</th>\n",
       "      <th>sepal width (cm)</th>\n",
       "      <th>petal length (cm)</th>\n",
       "      <th>petal width (cm)</th>\n",
       "      <th>sepal length (cm)</th>\n",
       "      <th>sepal width (cm)</th>\n",
       "      <th>petal length (cm)</th>\n",
       "      <th>petal width (cm)</th>\n",
       "      <th>sepal length (cm)</th>\n",
       "      <th>sepal width (cm)</th>\n",
       "      <th>petal length (cm)</th>\n",
       "      <th>petal width (cm)</th>\n",
       "    </tr>\n",
       "  </thead>\n",
       "  <tbody>\n",
       "    <tr>\n",
       "      <th>0</th>\n",
       "      <td>5.1</td>\n",
       "      <td>3.5</td>\n",
       "      <td>1.4</td>\n",
       "      <td>0.2</td>\n",
       "      <td>7.0</td>\n",
       "      <td>3.2</td>\n",
       "      <td>4.7</td>\n",
       "      <td>1.4</td>\n",
       "      <td>6.3</td>\n",
       "      <td>3.3</td>\n",
       "      <td>6.0</td>\n",
       "      <td>2.5</td>\n",
       "    </tr>\n",
       "    <tr>\n",
       "      <th>1</th>\n",
       "      <td>4.9</td>\n",
       "      <td>3.0</td>\n",
       "      <td>1.4</td>\n",
       "      <td>0.2</td>\n",
       "      <td>6.4</td>\n",
       "      <td>3.2</td>\n",
       "      <td>4.5</td>\n",
       "      <td>1.5</td>\n",
       "      <td>5.8</td>\n",
       "      <td>2.7</td>\n",
       "      <td>5.1</td>\n",
       "      <td>1.9</td>\n",
       "    </tr>\n",
       "    <tr>\n",
       "      <th>2</th>\n",
       "      <td>4.7</td>\n",
       "      <td>3.2</td>\n",
       "      <td>1.3</td>\n",
       "      <td>0.2</td>\n",
       "      <td>6.9</td>\n",
       "      <td>3.1</td>\n",
       "      <td>4.9</td>\n",
       "      <td>1.5</td>\n",
       "      <td>7.1</td>\n",
       "      <td>3.0</td>\n",
       "      <td>5.9</td>\n",
       "      <td>2.1</td>\n",
       "    </tr>\n",
       "    <tr>\n",
       "      <th>3</th>\n",
       "      <td>4.6</td>\n",
       "      <td>3.1</td>\n",
       "      <td>1.5</td>\n",
       "      <td>0.2</td>\n",
       "      <td>5.5</td>\n",
       "      <td>2.3</td>\n",
       "      <td>4.0</td>\n",
       "      <td>1.3</td>\n",
       "      <td>6.3</td>\n",
       "      <td>2.9</td>\n",
       "      <td>5.6</td>\n",
       "      <td>1.8</td>\n",
       "    </tr>\n",
       "    <tr>\n",
       "      <th>4</th>\n",
       "      <td>5.0</td>\n",
       "      <td>3.6</td>\n",
       "      <td>1.4</td>\n",
       "      <td>0.2</td>\n",
       "      <td>6.5</td>\n",
       "      <td>2.8</td>\n",
       "      <td>4.6</td>\n",
       "      <td>1.5</td>\n",
       "      <td>6.5</td>\n",
       "      <td>3.0</td>\n",
       "      <td>5.8</td>\n",
       "      <td>2.2</td>\n",
       "    </tr>\n",
       "  </tbody>\n",
       "</table>\n",
       "</div>"
      ],
      "text/plain": [
       "             setosa                                                      \\\n",
       "  sepal length (cm) sepal width (cm) petal length (cm) petal width (cm)   \n",
       "0               5.1              3.5               1.4              0.2   \n",
       "1               4.9              3.0               1.4              0.2   \n",
       "2               4.7              3.2               1.3              0.2   \n",
       "3               4.6              3.1               1.5              0.2   \n",
       "4               5.0              3.6               1.4              0.2   \n",
       "\n",
       "         versicolor                                                      \\\n",
       "  sepal length (cm) sepal width (cm) petal length (cm) petal width (cm)   \n",
       "0               7.0              3.2               4.7              1.4   \n",
       "1               6.4              3.2               4.5              1.5   \n",
       "2               6.9              3.1               4.9              1.5   \n",
       "3               5.5              2.3               4.0              1.3   \n",
       "4               6.5              2.8               4.6              1.5   \n",
       "\n",
       "          virginica                                                      \n",
       "  sepal length (cm) sepal width (cm) petal length (cm) petal width (cm)  \n",
       "0               6.3              3.3               6.0              2.5  \n",
       "1               5.8              2.7               5.1              1.9  \n",
       "2               7.1              3.0               5.9              2.1  \n",
       "3               6.3              2.9               5.6              1.8  \n",
       "4               6.5              3.0               5.8              2.2  "
      ]
     },
     "execution_count": 6,
     "metadata": {},
     "output_type": "execute_result"
    }
   ],
   "source": [
    "df = pd.read_csv('./data/anderson-fisher-iris.csv',\n",
    "                comment = '#',\n",
    "                header = [0,1])\n",
    "df.head()"
   ]
  },
  {
   "cell_type": "markdown",
   "metadata": {},
   "source": [
    "**b)** Take a look `df`. Is it tidy? Why or why not?"
   ]
  },
  {
   "cell_type": "markdown",
   "metadata": {},
   "source": [
    "We could see that the data is not tidy, as it mentioned in the tutorial, a tidy data should has the following format:\n",
    "1. Each column is a variable\n",
    "2. Each row is an observation\n",
    "3. Each type of observation unit forms a seperate table\n",
    "And we could see each species has 4 variables (same across all the species)\n",
    "\n",
    "A tidy dataset would have 5 columns: 'species','sepal length(cm)','sepal width(cm)','petal length(cm)','petal width(cm)'\n",
    "And each row would be an observation (a fish)\n"
   ]
  },
  {
   "cell_type": "markdown",
   "metadata": {},
   "source": [
    "**c)** Perform the following operations to make a new `DataFrame` from the original one you loaded in exercise 1 to generate a new `DataFrame`. Do these operations one-by-one and explain what you are doing to the `DataFrame` in each one. The Pandas documentation might help."
   ]
  },
  {
   "cell_type": "code",
   "execution_count": 7,
   "metadata": {},
   "outputs": [
    {
     "data": {
      "text/html": [
       "<div>\n",
       "<style scoped>\n",
       "    .dataframe tbody tr th:only-of-type {\n",
       "        vertical-align: middle;\n",
       "    }\n",
       "\n",
       "    .dataframe tbody tr th {\n",
       "        vertical-align: top;\n",
       "    }\n",
       "\n",
       "    .dataframe thead th {\n",
       "        text-align: right;\n",
       "    }\n",
       "</style>\n",
       "<table border=\"1\" class=\"dataframe\">\n",
       "  <thead>\n",
       "    <tr style=\"text-align: right;\">\n",
       "      <th></th>\n",
       "      <th></th>\n",
       "      <th>petal length (cm)</th>\n",
       "      <th>petal width (cm)</th>\n",
       "      <th>sepal length (cm)</th>\n",
       "      <th>sepal width (cm)</th>\n",
       "    </tr>\n",
       "  </thead>\n",
       "  <tbody>\n",
       "    <tr>\n",
       "      <th rowspan=\"3\" valign=\"top\">0</th>\n",
       "      <th>setosa</th>\n",
       "      <td>1.4</td>\n",
       "      <td>0.2</td>\n",
       "      <td>5.1</td>\n",
       "      <td>3.5</td>\n",
       "    </tr>\n",
       "    <tr>\n",
       "      <th>versicolor</th>\n",
       "      <td>4.7</td>\n",
       "      <td>1.4</td>\n",
       "      <td>7.0</td>\n",
       "      <td>3.2</td>\n",
       "    </tr>\n",
       "    <tr>\n",
       "      <th>virginica</th>\n",
       "      <td>6.0</td>\n",
       "      <td>2.5</td>\n",
       "      <td>6.3</td>\n",
       "      <td>3.3</td>\n",
       "    </tr>\n",
       "    <tr>\n",
       "      <th rowspan=\"2\" valign=\"top\">1</th>\n",
       "      <th>setosa</th>\n",
       "      <td>1.4</td>\n",
       "      <td>0.2</td>\n",
       "      <td>4.9</td>\n",
       "      <td>3.0</td>\n",
       "    </tr>\n",
       "    <tr>\n",
       "      <th>versicolor</th>\n",
       "      <td>4.5</td>\n",
       "      <td>1.5</td>\n",
       "      <td>6.4</td>\n",
       "      <td>3.2</td>\n",
       "    </tr>\n",
       "  </tbody>\n",
       "</table>\n",
       "</div>"
      ],
      "text/plain": [
       "              petal length (cm)  petal width (cm)  sepal length (cm)  \\\n",
       "0 setosa                    1.4               0.2                5.1   \n",
       "  versicolor                4.7               1.4                7.0   \n",
       "  virginica                 6.0               2.5                6.3   \n",
       "1 setosa                    1.4               0.2                4.9   \n",
       "  versicolor                4.5               1.5                6.4   \n",
       "\n",
       "              sepal width (cm)  \n",
       "0 setosa                   3.5  \n",
       "  versicolor               3.2  \n",
       "  virginica                3.3  \n",
       "1 setosa                   3.0  \n",
       "  versicolor               3.2  "
      ]
     },
     "execution_count": 7,
     "metadata": {},
     "output_type": "execute_result"
    }
   ],
   "source": [
    "# df.stack(level= ) stack the specific level from columns to index\n",
    "df_tidy = df.stack(level=0)\n",
    "df_tidy.head()"
   ]
  },
  {
   "cell_type": "markdown",
   "metadata": {},
   "source": [
    "In the orginal dataframe, the information of species is in the first level, we use df.stack() to stack this level from columns to index. Compare to the df.melt() we used in tutorial, df.stack() is more useful for this kind of hierarchical indexing. But I am still a little confused for the use of df.stack() vs df.melt().\n",
    "\n",
    "And we could see the new index levels are automatically sorted by the old index. This automatically sorting dosen't make sense for our data, so we need to tell Pandas to sort by our new index level which leads to the step below.  "
   ]
  },
  {
   "cell_type": "code",
   "execution_count": 8,
   "metadata": {},
   "outputs": [
    {
     "data": {
      "text/html": [
       "<div>\n",
       "<style scoped>\n",
       "    .dataframe tbody tr th:only-of-type {\n",
       "        vertical-align: middle;\n",
       "    }\n",
       "\n",
       "    .dataframe tbody tr th {\n",
       "        vertical-align: top;\n",
       "    }\n",
       "\n",
       "    .dataframe thead th {\n",
       "        text-align: right;\n",
       "    }\n",
       "</style>\n",
       "<table border=\"1\" class=\"dataframe\">\n",
       "  <thead>\n",
       "    <tr style=\"text-align: right;\">\n",
       "      <th></th>\n",
       "      <th></th>\n",
       "      <th>petal length (cm)</th>\n",
       "      <th>petal width (cm)</th>\n",
       "      <th>sepal length (cm)</th>\n",
       "      <th>sepal width (cm)</th>\n",
       "    </tr>\n",
       "  </thead>\n",
       "  <tbody>\n",
       "    <tr>\n",
       "      <th>0</th>\n",
       "      <th>setosa</th>\n",
       "      <td>1.4</td>\n",
       "      <td>0.2</td>\n",
       "      <td>5.1</td>\n",
       "      <td>3.5</td>\n",
       "    </tr>\n",
       "    <tr>\n",
       "      <th>1</th>\n",
       "      <th>setosa</th>\n",
       "      <td>1.4</td>\n",
       "      <td>0.2</td>\n",
       "      <td>4.9</td>\n",
       "      <td>3.0</td>\n",
       "    </tr>\n",
       "    <tr>\n",
       "      <th>2</th>\n",
       "      <th>setosa</th>\n",
       "      <td>1.3</td>\n",
       "      <td>0.2</td>\n",
       "      <td>4.7</td>\n",
       "      <td>3.2</td>\n",
       "    </tr>\n",
       "    <tr>\n",
       "      <th>3</th>\n",
       "      <th>setosa</th>\n",
       "      <td>1.5</td>\n",
       "      <td>0.2</td>\n",
       "      <td>4.6</td>\n",
       "      <td>3.1</td>\n",
       "    </tr>\n",
       "    <tr>\n",
       "      <th>4</th>\n",
       "      <th>setosa</th>\n",
       "      <td>1.4</td>\n",
       "      <td>0.2</td>\n",
       "      <td>5.0</td>\n",
       "      <td>3.6</td>\n",
       "    </tr>\n",
       "  </tbody>\n",
       "</table>\n",
       "</div>"
      ],
      "text/plain": [
       "          petal length (cm)  petal width (cm)  sepal length (cm)  \\\n",
       "0 setosa                1.4               0.2                5.1   \n",
       "1 setosa                1.4               0.2                4.9   \n",
       "2 setosa                1.3               0.2                4.7   \n",
       "3 setosa                1.5               0.2                4.6   \n",
       "4 setosa                1.4               0.2                5.0   \n",
       "\n",
       "          sepal width (cm)  \n",
       "0 setosa               3.5  \n",
       "1 setosa               3.0  \n",
       "2 setosa               3.2  \n",
       "3 setosa               3.1  \n",
       "4 setosa               3.6  "
      ]
     },
     "execution_count": 8,
     "metadata": {},
     "output_type": "execute_result"
    }
   ],
   "source": [
    "# sort the data by labels in the new index level we created (species) using .sort_index(level= )\n",
    "df_tidy = df_tidy.sort_index(level = 1)\n",
    "df_tidy.head()"
   ]
  },
  {
   "cell_type": "markdown",
   "metadata": {},
   "source": [
    "As mentioned before, we sorted the data by the label in new index level (species), it returns the dataframe with multi-index, but the index level1 (species) is actually a column that we want eventually, so we need to make it into a column in next step. "
   ]
  },
  {
   "cell_type": "code",
   "execution_count": 9,
   "metadata": {},
   "outputs": [
    {
     "data": {
      "text/html": [
       "<div>\n",
       "<style scoped>\n",
       "    .dataframe tbody tr th:only-of-type {\n",
       "        vertical-align: middle;\n",
       "    }\n",
       "\n",
       "    .dataframe tbody tr th {\n",
       "        vertical-align: top;\n",
       "    }\n",
       "\n",
       "    .dataframe thead th {\n",
       "        text-align: right;\n",
       "    }\n",
       "</style>\n",
       "<table border=\"1\" class=\"dataframe\">\n",
       "  <thead>\n",
       "    <tr style=\"text-align: right;\">\n",
       "      <th></th>\n",
       "      <th>level_1</th>\n",
       "      <th>petal length (cm)</th>\n",
       "      <th>petal width (cm)</th>\n",
       "      <th>sepal length (cm)</th>\n",
       "      <th>sepal width (cm)</th>\n",
       "    </tr>\n",
       "  </thead>\n",
       "  <tbody>\n",
       "    <tr>\n",
       "      <th>0</th>\n",
       "      <td>setosa</td>\n",
       "      <td>1.4</td>\n",
       "      <td>0.2</td>\n",
       "      <td>5.1</td>\n",
       "      <td>3.5</td>\n",
       "    </tr>\n",
       "    <tr>\n",
       "      <th>1</th>\n",
       "      <td>setosa</td>\n",
       "      <td>1.4</td>\n",
       "      <td>0.2</td>\n",
       "      <td>4.9</td>\n",
       "      <td>3.0</td>\n",
       "    </tr>\n",
       "    <tr>\n",
       "      <th>2</th>\n",
       "      <td>setosa</td>\n",
       "      <td>1.3</td>\n",
       "      <td>0.2</td>\n",
       "      <td>4.7</td>\n",
       "      <td>3.2</td>\n",
       "    </tr>\n",
       "    <tr>\n",
       "      <th>3</th>\n",
       "      <td>setosa</td>\n",
       "      <td>1.5</td>\n",
       "      <td>0.2</td>\n",
       "      <td>4.6</td>\n",
       "      <td>3.1</td>\n",
       "    </tr>\n",
       "    <tr>\n",
       "      <th>4</th>\n",
       "      <td>setosa</td>\n",
       "      <td>1.4</td>\n",
       "      <td>0.2</td>\n",
       "      <td>5.0</td>\n",
       "      <td>3.6</td>\n",
       "    </tr>\n",
       "  </tbody>\n",
       "</table>\n",
       "</div>"
      ],
      "text/plain": [
       "  level_1  petal length (cm)  petal width (cm)  sepal length (cm)  \\\n",
       "0  setosa                1.4               0.2                5.1   \n",
       "1  setosa                1.4               0.2                4.9   \n",
       "2  setosa                1.3               0.2                4.7   \n",
       "3  setosa                1.5               0.2                4.6   \n",
       "4  setosa                1.4               0.2                5.0   \n",
       "\n",
       "   sepal width (cm)  \n",
       "0               3.5  \n",
       "1               3.0  \n",
       "2               3.2  \n",
       "3               3.1  \n",
       "4               3.6  "
      ]
     },
     "execution_count": 9,
     "metadata": {},
     "output_type": "execute_result"
    }
   ],
   "source": [
    "# When dealing with multi-level index dataframe, we use .reset_index(level = )to return a new dataframe with labels (under the index names) in columns\n",
    "\n",
    "df_tidy = df_tidy.reset_index(level = 1)\n",
    "df_tidy.head()"
   ]
  },
  {
   "cell_type": "markdown",
   "metadata": {},
   "source": [
    "We turn the information in new index level into a column. But the column name should be 'species' instead of 'level_1', so we change column name in next step"
   ]
  },
  {
   "cell_type": "code",
   "execution_count": 11,
   "metadata": {},
   "outputs": [
    {
     "data": {
      "text/html": [
       "<div>\n",
       "<style scoped>\n",
       "    .dataframe tbody tr th:only-of-type {\n",
       "        vertical-align: middle;\n",
       "    }\n",
       "\n",
       "    .dataframe tbody tr th {\n",
       "        vertical-align: top;\n",
       "    }\n",
       "\n",
       "    .dataframe thead th {\n",
       "        text-align: right;\n",
       "    }\n",
       "</style>\n",
       "<table border=\"1\" class=\"dataframe\">\n",
       "  <thead>\n",
       "    <tr style=\"text-align: right;\">\n",
       "      <th></th>\n",
       "      <th>species</th>\n",
       "      <th>petal length (cm)</th>\n",
       "      <th>petal width (cm)</th>\n",
       "      <th>sepal length (cm)</th>\n",
       "      <th>sepal width (cm)</th>\n",
       "    </tr>\n",
       "  </thead>\n",
       "  <tbody>\n",
       "    <tr>\n",
       "      <th>0</th>\n",
       "      <td>setosa</td>\n",
       "      <td>1.4</td>\n",
       "      <td>0.2</td>\n",
       "      <td>5.1</td>\n",
       "      <td>3.5</td>\n",
       "    </tr>\n",
       "    <tr>\n",
       "      <th>1</th>\n",
       "      <td>setosa</td>\n",
       "      <td>1.4</td>\n",
       "      <td>0.2</td>\n",
       "      <td>4.9</td>\n",
       "      <td>3.0</td>\n",
       "    </tr>\n",
       "    <tr>\n",
       "      <th>2</th>\n",
       "      <td>setosa</td>\n",
       "      <td>1.3</td>\n",
       "      <td>0.2</td>\n",
       "      <td>4.7</td>\n",
       "      <td>3.2</td>\n",
       "    </tr>\n",
       "    <tr>\n",
       "      <th>3</th>\n",
       "      <td>setosa</td>\n",
       "      <td>1.5</td>\n",
       "      <td>0.2</td>\n",
       "      <td>4.6</td>\n",
       "      <td>3.1</td>\n",
       "    </tr>\n",
       "    <tr>\n",
       "      <th>4</th>\n",
       "      <td>setosa</td>\n",
       "      <td>1.4</td>\n",
       "      <td>0.2</td>\n",
       "      <td>5.0</td>\n",
       "      <td>3.6</td>\n",
       "    </tr>\n",
       "  </tbody>\n",
       "</table>\n",
       "</div>"
      ],
      "text/plain": [
       "  species  petal length (cm)  petal width (cm)  sepal length (cm)  \\\n",
       "0  setosa                1.4               0.2                5.1   \n",
       "1  setosa                1.4               0.2                4.9   \n",
       "2  setosa                1.3               0.2                4.7   \n",
       "3  setosa                1.5               0.2                4.6   \n",
       "4  setosa                1.4               0.2                5.0   \n",
       "\n",
       "   sepal width (cm)  \n",
       "0               3.5  \n",
       "1               3.0  \n",
       "2               3.2  \n",
       "3               3.1  \n",
       "4               3.6  "
      ]
     },
     "execution_count": 11,
     "metadata": {},
     "output_type": "execute_result"
    }
   ],
   "source": [
    "# We rename the column name from 'level_1' to 'species'\n",
    "df_tidy = df_tidy.rename(columns = {'level_1':'species'})\n",
    "df_tidy.head()"
   ]
  },
  {
   "cell_type": "markdown",
   "metadata": {},
   "source": [
    "**d)** Is the resulting `DataFrame` tidy? Why or why not?\n",
    "\n",
    "The resulting dataframe is now tidy, because each variable forms a column and each observation (a fish) forms a row. And this table is a type of observation unit."
   ]
  },
  {
   "cell_type": "markdown",
   "metadata": {},
   "source": [
    "**e)** Using `df_tidy`, slice out all of the sepal lengths for I. versicolor as a Numpy array. "
   ]
  },
  {
   "cell_type": "code",
   "execution_count": 12,
   "metadata": {},
   "outputs": [
    {
     "data": {
      "text/plain": [
       "array([7. , 6.4, 6.9, 5.5, 6.5, 5.7, 6.3, 4.9, 6.6, 5.2, 5. , 5.9, 6. ,\n",
       "       6.1, 5.6, 6.7, 5.6, 5.8, 6.2, 5.6, 5.9, 6.1, 6.3, 6.1, 6.4, 6.6,\n",
       "       6.8, 6.7, 6. , 5.7, 5.5, 5.5, 5.8, 6. , 5.4, 6. , 6.7, 6.3, 5.6,\n",
       "       5.5, 5.5, 6.1, 5.8, 5. , 5.6, 5.7, 5.7, 6.2, 5.1, 5.7])"
      ]
     },
     "execution_count": 12,
     "metadata": {},
     "output_type": "execute_result"
    }
   ],
   "source": [
    "# slice out the sepal length of I. versicolor from the df_tidy into df_tidy_versicolor_sl\n",
    "inds = df_tidy['species'] == 'versicolor'\n",
    "df_tidy_versicolor_sl = df_tidy.loc[inds,'sepal length (cm)']\n",
    "\n",
    "# Convert it to numpy array\n",
    "np.array(df_tidy_versicolor_sl)\n"
   ]
  },
  {
   "cell_type": "markdown",
   "metadata": {},
   "source": [
    "We could also do the following to return a dataframe and then convert the sepal length into numpy array\n",
    "\n",
    "inds = df_tidy['species'] == 'versicolor'  \n",
    "inds1 = df_tidy.columns == 'sepal length (cm)'  \n",
    "df_tidy_versicolor_sl1 = df_tidy.loc[inds,inds1]  \n",
    "  \n",
    "np.array(df_tidy_versicolor_sl1['sepal length (cm)'])"
   ]
  },
  {
   "cell_type": "markdown",
   "metadata": {},
   "source": [
    "### Exercise 2\n",
    "\n",
    "**a)** Make a scatter plot of sepal width versus petal length with the glyphs colored by species."
   ]
  },
  {
   "cell_type": "code",
   "execution_count": 16,
   "metadata": {},
   "outputs": [
    {
     "data": {
      "application/vnd.vegalite.v2+json": {
       "$schema": "https://vega.github.io/schema/vega-lite/v2.6.0.json",
       "config": {
        "view": {
         "height": 300,
         "width": 400
        }
       },
       "data": {
        "format": {
         "type": "json"
        },
        "url": "altair-data-4c11959ffeba937a6e29927acf8113e7.json"
       },
       "encoding": {
        "color": {
         "field": "species",
         "type": "nominal"
        },
        "x": {
         "field": "petal length (cm)",
         "type": "quantitative"
        },
        "y": {
         "field": "sepal width (cm)",
         "type": "quantitative"
        }
       },
       "height": 400,
       "mark": "point",
       "width": 400
      },
      "image/png": "[encoded data removed]",
      "text/plain": [
       "<VegaLite 2 object>\n",
       "\n",
       "If you see this message, it means the renderer has not been properly enabled\n",
       "for the frontend that you are using. For more information, see\n",
       "https://altair-viz.github.io/user_guide/troubleshooting.html\n"
      ]
     },
     "execution_count": 16,
     "metadata": {},
     "output_type": "execute_result"
    }
   ],
   "source": [
    "# the initial version of scatter plot \n",
    "sw_pl = alt.Chart(df_tidy, height = 400, width = 400\n",
    "                 ).mark_point(\n",
    "                 ).encode(\n",
    "                    x = alt.X('petal length (cm):Q'),\n",
    "                    y = alt.Y('sepal width (cm):Q'),\n",
    "                    color = 'species:N'\n",
    "                 )\n",
    "sw_pl"
   ]
  },
  {
   "cell_type": "code",
   "execution_count": 17,
   "metadata": {},
   "outputs": [
    {
     "data": {
      "application/vnd.vegalite.v2+json": {
       "$schema": "https://vega.github.io/schema/vega-lite/v2.6.0.json",
       "config": {
        "view": {
         "height": 300,
         "width": 400
        }
       },
       "data": {
        "format": {
         "type": "json"
        },
        "url": "altair-data-4c11959ffeba937a6e29927acf8113e7.json"
       },
       "encoding": {
        "color": {
         "field": "species",
         "type": "nominal"
        },
        "x": {
         "field": "petal length (cm)",
         "type": "quantitative"
        },
        "y": {
         "field": "sepal width (cm)",
         "scale": {
          "zero": false
         },
         "type": "quantitative"
        }
       },
       "height": 300,
       "mark": "point",
       "width": 500
      },
      "image/png": "[encoded data removed]",
      "text/plain": [
       "<VegaLite 2 object>\n",
       "\n",
       "If you see this message, it means the renderer has not been properly enabled\n",
       "for the frontend that you are using. For more information, see\n",
       "https://altair-viz.github.io/user_guide/troubleshooting.html\n"
      ]
     },
     "execution_count": 17,
     "metadata": {},
     "output_type": "execute_result"
    }
   ],
   "source": [
    "# agjust the scale of axis and the plot\n",
    "sw_pl = alt.Chart(df_tidy, height = 300, width = 500\n",
    "                 ).mark_point(\n",
    "                 ).encode(\n",
    "                    x = alt.X('petal length (cm):Q'),\n",
    "                    y = alt.Y('sepal width (cm):Q', scale=alt.Scale(zero=False)),\n",
    "                    color = 'species:N'\n",
    "                 )\n",
    "sw_pl"
   ]
  },
  {
   "cell_type": "markdown",
   "metadata": {},
   "source": [
    "**b)** Make a plot comparing the petal widths of the respective species. Comment on why you chose the plot you chose."
   ]
  },
  {
   "cell_type": "markdown",
   "metadata": {},
   "source": [
    "I decide to overlay jitter and box plots to compare the petal widths. Because by using the jitter plot, we could clearly see all the data points and get a general idea of their distribution along the axis. At the same time, overlay the box plot would allow us to get the important statistics. In general, you could look at the statistic for the whole population of each species, simultaneously, you could look into individual within that population. "
   ]
  },
  {
   "cell_type": "code",
   "execution_count": 67,
   "metadata": {},
   "outputs": [
    {
     "data": {
      "application/vnd.vegalite.v2+json": {
       "$schema": "https://vega.github.io/schema/vega-lite/v2.6.0.json",
       "config": {
        "view": {
         "height": 300,
         "width": 400
        }
       },
       "layer": [
        {
         "layer": [
          {
           "data": {
            "format": {
             "type": "json"
            },
            "url": "altair-data-d1def55dad88fb775e74f9e36d3ca7d8.json"
           },
           "encoding": {
            "color": {
             "field": "species",
             "legend": null,
             "scale": {},
             "type": "nominal"
            },
            "x": {
             "field": "bottom_whisker",
             "title": "petal width (cm)",
             "type": "quantitative"
            },
            "x2": {
             "field": "bottom",
             "type": "quantitative"
            },
            "y": {
             "field": "nominal_axis_value",
             "scale": {},
             "type": "quantitative"
            }
           },
           "height": 400,
           "mark": {
            "opacity": 0.6,
            "strokeWidth": 2,
            "type": "rule"
           },
           "width": 600
          },
          {
           "data": {
            "format": {
             "type": "json"
            },
            "url": "altair-data-d1def55dad88fb775e74f9e36d3ca7d8.json"
           },
           "encoding": {
            "color": {
             "field": "species",
             "legend": null,
             "scale": {},
             "type": "nominal"
            },
            "x": {
             "field": "top",
             "title": "petal width (cm)",
             "type": "quantitative"
            },
            "x2": {
             "field": "top_whisker",
             "type": "quantitative"
            },
            "y": {
             "field": "nominal_axis_value",
             "scale": {},
             "type": "quantitative"
            }
           },
           "height": 400,
           "mark": {
            "opacity": 0.6,
            "strokeWidth": 2,
            "type": "rule"
           },
           "width": 600
          },
          {
           "data": {
            "format": {
             "type": "json"
            },
            "url": "altair-data-d1def55dad88fb775e74f9e36d3ca7d8.json"
           },
           "encoding": {
            "color": {
             "field": "species",
             "legend": null,
             "scale": {},
             "type": "nominal"
            },
            "x": {
             "field": "bottom",
             "title": "petal width (cm)",
             "type": "quantitative"
            },
            "x2": {
             "field": "top",
             "type": "quantitative"
            },
            "y": {
             "field": "left",
             "scale": {},
             "type": "quantitative"
            },
            "y2": {
             "field": "right",
             "type": "quantitative"
            }
           },
           "height": 400,
           "mark": {
            "opacity": 0.2,
            "size": 0.4,
            "strokeWidth": 4,
            "type": "bar"
           },
           "width": 600
          },
          {
           "data": {
            "format": {
             "type": "json"
            },
            "url": "altair-data-d1def55dad88fb775e74f9e36d3ca7d8.json"
           },
           "encoding": {
            "x": {
             "field": "middle",
             "title": "petal width (cm)",
             "type": "quantitative"
            },
            "y": {
             "field": "left",
             "scale": {},
             "type": "quantitative"
            },
            "y2": {
             "field": "right",
             "type": "quantitative"
            }
           },
           "height": 400,
           "mark": {
            "color": "white",
            "opacity": 1,
            "strokeWidth": 2,
            "type": "rule"
           },
           "width": 600
          },
          {
           "data": {
            "format": {
             "type": "json"
            },
            "url": "altair-data-d1def55dad88fb775e74f9e36d3ca7d8.json"
           },
           "encoding": {
            "color": {
             "field": "species",
             "legend": null,
             "scale": {},
             "type": "nominal"
            },
            "x": {
             "field": "bottom_whisker",
             "title": "petal width (cm)",
             "type": "quantitative"
            },
            "y": {
             "field": "cap_left",
             "type": "quantitative"
            },
            "y2": {
             "field": "cap_right",
             "type": "quantitative"
            }
           },
           "height": 400,
           "mark": {
            "opacity": 0.6,
            "strokeWidth": 2,
            "type": "rule"
           },
           "width": 600
          },
          {
           "data": {
            "format": {
             "type": "json"
            },
            "url": "altair-data-d1def55dad88fb775e74f9e36d3ca7d8.json"
           },
           "encoding": {
            "color": {
             "field": "species",
             "legend": null,
             "scale": {},
             "type": "nominal"
            },
            "x": {
             "field": "top_whisker",
             "title": "petal width (cm)",
             "type": "quantitative"
            },
            "y": {
             "field": "cap_left",
             "type": "quantitative"
            },
            "y2": {
             "field": "cap_right",
             "type": "quantitative"
            }
           },
           "height": 400,
           "mark": {
            "opacity": 0.6,
            "strokeWidth": 2,
            "type": "rule"
           },
           "width": 600
          }
         ]
        },
        {
         "layer": [
          {
           "data": {
            "format": {
             "type": "json"
            },
            "url": "altair-data-6e10df0328862d5be741ba3a4172bbcd.json"
           },
           "encoding": {
            "color": {
             "field": "species",
             "legend": null,
             "scale": {},
             "type": "nominal"
            },
            "tooltip": [
             {
              "field": "species",
              "type": "nominal"
             },
             {
              "field": "petal width (cm)",
              "type": "quantitative"
             }
            ],
            "x": {
             "field": "petal width (cm)",
             "title": "petal width (cm)",
             "type": "quantitative"
            },
            "y": {
             "axis": {
              "grid": false,
              "labels": false,
              "title": null,
              "values": [
               0,
               1,
               2
              ]
             },
             "field": "__jitter",
             "type": "quantitative"
            }
           },
           "height": 400,
           "mark": {
            "type": "point"
           },
           "width": 600
          },
          {
           "data": {
            "format": {
             "type": "json"
            },
            "url": "altair-data-319b7cecc5d04b5b29a10b8af91f3efa.json"
           },
           "encoding": {
            "text": {
             "field": "text",
             "type": "nominal"
            },
            "x": {
             "field": "petal width (cm)",
             "title": "petal width (cm)",
             "type": "quantitative"
            },
            "y": {
             "axis": {
              "grid": false,
              "labels": false,
              "title": null,
              "values": [
               0,
               1,
               2
              ]
             },
             "field": "__jitter",
             "type": "quantitative"
            }
           },
           "height": 400,
           "mark": {
            "align": "right",
            "baseline": "middle",
            "dx": -8,
            "type": "text"
           },
           "width": 600
          }
         ]
        }
       ]
      },
      "image/png": "[encoded data removed]",
      "text/plain": [
       "<VegaLite 2 object>\n",
       "\n",
       "If you see this message, it means the renderer has not been properly enabled\n",
       "for the frontend that you are using. For more information, see\n",
       "https://altair-viz.github.io/user_guide/troubleshooting.html\n"
      ]
     },
     "execution_count": 67,
     "metadata": {},
     "output_type": "execute_result"
    }
   ],
   "source": [
    "# I use altcat.catplot() and 'jitterbox' transform to do the plotting\n",
    "altcat.catplot(data = df_tidy, \n",
    "               height = 400, \n",
    "               width = 600,\n",
    "               mark = 'point',\n",
    "               encoding = dict(y = alt.Y('species:N'),\n",
    "                               x = alt.X('petal width (cm):Q'),\n",
    "                               color = alt.Color('species:N',legend = None),\n",
    "                               tooltip = alt.Tooltip(['species:N','petal width (cm):Q'])),\n",
    "               box_mark = dict(strokeWidth=4, opacity=0.2),\n",
    "               whisker_mark = dict(strokeWidth=2, opacity=0.6),\n",
    "               transform = 'jitterbox'\n",
    "              )"
   ]
  },
  {
   "cell_type": "code",
   "execution_count": 19,
   "metadata": {},
   "outputs": [],
   "source": [
    "%load_ext watermark"
   ]
  },
  {
   "cell_type": "code",
   "execution_count": 22,
   "metadata": {},
   "outputs": [
    {
     "name": "stdout",
     "output_type": "stream",
     "text": [
      "CPython 3.6.5\n",
      "IPython 6.4.0\n",
      "\n",
      "numpy 1.14.3\n",
      "pandas 0.23.0\n",
      "altair 2.2.2\n",
      "altair_catplot 0.0.3\n",
      "jupyterlab 0.34.9\n"
     ]
    }
   ],
   "source": [
    "%watermark -v -p numpy,pandas,altair,altair_catplot,jupyterlab"
   ]
  },
  {
   "cell_type": "code",
   "execution_count": null,
   "metadata": {},
   "outputs": [],
   "source": []
  }
 ],
 "metadata": {
  "kernelspec": {
   "display_name": "Python 3",
   "language": "python",
   "name": "python3"
  },
  "language_info": {
   "codemirror_mode": {
    "name": "ipython",
    "version": 3
   },
   "file_extension": ".py",
   "mimetype": "text/x-python",
   "name": "python",
   "nbconvert_exporter": "python",
   "pygments_lexer": "ipython3",
   "version": "3.6.5"
  }
 },
 "nbformat": 4,
 "nbformat_minor": 2
}
