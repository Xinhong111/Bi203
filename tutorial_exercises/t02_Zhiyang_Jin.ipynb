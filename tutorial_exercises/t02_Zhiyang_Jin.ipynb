{
 "cells": [
  {
   "cell_type": "code",
   "execution_count": 30,
   "metadata": {},
   "outputs": [
    {
     "data": {
      "text/html": [
       "\n",
       "    <div class=\"bk-root\">\n",
       "        <a href=\"https://bokeh.pydata.org\" target=\"_blank\" class=\"bk-logo bk-logo-small bk-logo-notebook\"></a>\n",
       "        <span id=\"bbf6d800-814b-47b4-bd99-8592476f6fdb\">Loading BokehJS ...</span>\n",
       "    </div>"
      ]
     },
     "metadata": {},
     "output_type": "display_data"
    },
    {
     "data": {
      "application/javascript": [
       "\n",
       "(function(root) {\n",
       "  function now() {\n",
       "    return new Date();\n",
       "  }\n",
       "\n",
       "  var force = true;\n",
       "\n",
       "  if (typeof (root._bokeh_onload_callbacks) === \"undefined\" || force === true) {\n",
       "    root._bokeh_onload_callbacks = [];\n",
       "    root._bokeh_is_loading = undefined;\n",
       "  }\n",
       "\n",
       "  var JS_MIME_TYPE = 'application/javascript';\n",
       "  var HTML_MIME_TYPE = 'text/html';\n",
       "  var EXEC_MIME_TYPE = 'application/vnd.bokehjs_exec.v0+json';\n",
       "  var CLASS_NAME = 'output_bokeh rendered_html';\n",
       "\n",
       "  /**\n",
       "   * Render data to the DOM node\n",
       "   */\n",
       "  function render(props, node) {\n",
       "    var script = document.createElement(\"script\");\n",
       "    node.appendChild(script);\n",
       "  }\n",
       "\n",
       "  /**\n",
       "   * Handle when an output is cleared or removed\n",
       "   */\n",
       "  function handleClearOutput(event, handle) {\n",
       "    var cell = handle.cell;\n",
       "\n",
       "    var id = cell.output_area._bokeh_element_id;\n",
       "    var server_id = cell.output_area._bokeh_server_id;\n",
       "    // Clean up Bokeh references\n",
       "    if (id != null && id in Bokeh.index) {\n",
       "      Bokeh.index[id].model.document.clear();\n",
       "      delete Bokeh.index[id];\n",
       "    }\n",
       "\n",
       "    if (server_id !== undefined) {\n",
       "      // Clean up Bokeh references\n",
       "      var cmd = \"from bokeh.io.state import curstate; print(curstate().uuid_to_server['\" + server_id + \"'].get_sessions()[0].document.roots[0]._id)\";\n",
       "      cell.notebook.kernel.execute(cmd, {\n",
       "        iopub: {\n",
       "          output: function(msg) {\n",
       "            var id = msg.content.text.trim();\n",
       "            if (id in Bokeh.index) {\n",
       "              Bokeh.index[id].model.document.clear();\n",
       "              delete Bokeh.index[id];\n",
       "            }\n",
       "          }\n",
       "        }\n",
       "      });\n",
       "      // Destroy server and session\n",
       "      var cmd = \"import bokeh.io.notebook as ion; ion.destroy_server('\" + server_id + \"')\";\n",
       "      cell.notebook.kernel.execute(cmd);\n",
       "    }\n",
       "  }\n",
       "\n",
       "  /**\n",
       "   * Handle when a new output is added\n",
       "   */\n",
       "  function handleAddOutput(event, handle) {\n",
       "    var output_area = handle.output_area;\n",
       "    var output = handle.output;\n",
       "\n",
       "    // limit handleAddOutput to display_data with EXEC_MIME_TYPE content only\n",
       "    if ((output.output_type != \"display_data\") || (!output.data.hasOwnProperty(EXEC_MIME_TYPE))) {\n",
       "      return\n",
       "    }\n",
       "\n",
       "    var toinsert = output_area.element.find(\".\" + CLASS_NAME.split(' ')[0]);\n",
       "\n",
       "    if (output.metadata[EXEC_MIME_TYPE][\"id\"] !== undefined) {\n",
       "      toinsert[toinsert.length - 1].firstChild.textContent = output.data[JS_MIME_TYPE];\n",
       "      // store reference to embed id on output_area\n",
       "      output_area._bokeh_element_id = output.metadata[EXEC_MIME_TYPE][\"id\"];\n",
       "    }\n",
       "    if (output.metadata[EXEC_MIME_TYPE][\"server_id\"] !== undefined) {\n",
       "      var bk_div = document.createElement(\"div\");\n",
       "      bk_div.innerHTML = output.data[HTML_MIME_TYPE];\n",
       "      var script_attrs = bk_div.children[0].attributes;\n",
       "      for (var i = 0; i < script_attrs.length; i++) {\n",
       "        toinsert[toinsert.length - 1].firstChild.setAttribute(script_attrs[i].name, script_attrs[i].value);\n",
       "      }\n",
       "      // store reference to server id on output_area\n",
       "      output_area._bokeh_server_id = output.metadata[EXEC_MIME_TYPE][\"server_id\"];\n",
       "    }\n",
       "  }\n",
       "\n",
       "  function register_renderer(events, OutputArea) {\n",
       "\n",
       "    function append_mime(data, metadata, element) {\n",
       "      // create a DOM node to render to\n",
       "      var toinsert = this.create_output_subarea(\n",
       "        metadata,\n",
       "        CLASS_NAME,\n",
       "        EXEC_MIME_TYPE\n",
       "      );\n",
       "      this.keyboard_manager.register_events(toinsert);\n",
       "      // Render to node\n",
       "      var props = {data: data, metadata: metadata[EXEC_MIME_TYPE]};\n",
       "      render(props, toinsert[toinsert.length - 1]);\n",
       "      element.append(toinsert);\n",
       "      return toinsert\n",
       "    }\n",
       "\n",
       "    /* Handle when an output is cleared or removed */\n",
       "    events.on('clear_output.CodeCell', handleClearOutput);\n",
       "    events.on('delete.Cell', handleClearOutput);\n",
       "\n",
       "    /* Handle when a new output is added */\n",
       "    events.on('output_added.OutputArea', handleAddOutput);\n",
       "\n",
       "    /**\n",
       "     * Register the mime type and append_mime function with output_area\n",
       "     */\n",
       "    OutputArea.prototype.register_mime_type(EXEC_MIME_TYPE, append_mime, {\n",
       "      /* Is output safe? */\n",
       "      safe: true,\n",
       "      /* Index of renderer in `output_area.display_order` */\n",
       "      index: 0\n",
       "    });\n",
       "  }\n",
       "\n",
       "  // register the mime type if in Jupyter Notebook environment and previously unregistered\n",
       "  if (root.Jupyter !== undefined) {\n",
       "    var events = require('base/js/events');\n",
       "    var OutputArea = require('notebook/js/outputarea').OutputArea;\n",
       "\n",
       "    if (OutputArea.prototype.mime_types().indexOf(EXEC_MIME_TYPE) == -1) {\n",
       "      register_renderer(events, OutputArea);\n",
       "    }\n",
       "  }\n",
       "\n",
       "  \n",
       "  if (typeof (root._bokeh_timeout) === \"undefined\" || force === true) {\n",
       "    root._bokeh_timeout = Date.now() + 5000;\n",
       "    root._bokeh_failed_load = false;\n",
       "  }\n",
       "\n",
       "  var NB_LOAD_WARNING = {'data': {'text/html':\n",
       "     \"<div style='background-color: #fdd'>\\n\"+\n",
       "     \"<p>\\n\"+\n",
       "     \"BokehJS does not appear to have successfully loaded. If loading BokehJS from CDN, this \\n\"+\n",
       "     \"may be due to a slow or bad network connection. Possible fixes:\\n\"+\n",
       "     \"</p>\\n\"+\n",
       "     \"<ul>\\n\"+\n",
       "     \"<li>re-rerun `output_notebook()` to attempt to load from CDN again, or</li>\\n\"+\n",
       "     \"<li>use INLINE resources instead, as so:</li>\\n\"+\n",
       "     \"</ul>\\n\"+\n",
       "     \"<code>\\n\"+\n",
       "     \"from bokeh.resources import INLINE\\n\"+\n",
       "     \"output_notebook(resources=INLINE)\\n\"+\n",
       "     \"</code>\\n\"+\n",
       "     \"</div>\"}};\n",
       "\n",
       "  function display_loaded() {\n",
       "    var el = document.getElementById(\"bbf6d800-814b-47b4-bd99-8592476f6fdb\");\n",
       "    if (el != null) {\n",
       "      el.textContent = \"BokehJS is loading...\";\n",
       "    }\n",
       "    if (root.Bokeh !== undefined) {\n",
       "      if (el != null) {\n",
       "        el.textContent = \"BokehJS \" + root.Bokeh.version + \" successfully loaded.\";\n",
       "      }\n",
       "    } else if (Date.now() < root._bokeh_timeout) {\n",
       "      setTimeout(display_loaded, 100)\n",
       "    }\n",
       "  }\n",
       "\n",
       "\n",
       "  function run_callbacks() {\n",
       "    try {\n",
       "      root._bokeh_onload_callbacks.forEach(function(callback) { callback() });\n",
       "    }\n",
       "    finally {\n",
       "      delete root._bokeh_onload_callbacks\n",
       "    }\n",
       "    console.info(\"Bokeh: all callbacks have finished\");\n",
       "  }\n",
       "\n",
       "  function load_libs(js_urls, callback) {\n",
       "    root._bokeh_onload_callbacks.push(callback);\n",
       "    if (root._bokeh_is_loading > 0) {\n",
       "      console.log(\"Bokeh: BokehJS is being loaded, scheduling callback at\", now());\n",
       "      return null;\n",
       "    }\n",
       "    if (js_urls == null || js_urls.length === 0) {\n",
       "      run_callbacks();\n",
       "      return null;\n",
       "    }\n",
       "    console.log(\"Bokeh: BokehJS not loaded, scheduling load and callback at\", now());\n",
       "    root._bokeh_is_loading = js_urls.length;\n",
       "    for (var i = 0; i < js_urls.length; i++) {\n",
       "      var url = js_urls[i];\n",
       "      var s = document.createElement('script');\n",
       "      s.src = url;\n",
       "      s.async = false;\n",
       "      s.onreadystatechange = s.onload = function() {\n",
       "        root._bokeh_is_loading--;\n",
       "        if (root._bokeh_is_loading === 0) {\n",
       "          console.log(\"Bokeh: all BokehJS libraries loaded\");\n",
       "          run_callbacks()\n",
       "        }\n",
       "      };\n",
       "      s.onerror = function() {\n",
       "        console.warn(\"failed to load library \" + url);\n",
       "      };\n",
       "      console.log(\"Bokeh: injecting script tag for BokehJS library: \", url);\n",
       "      document.getElementsByTagName(\"head\")[0].appendChild(s);\n",
       "    }\n",
       "  };var element = document.getElementById(\"bbf6d800-814b-47b4-bd99-8592476f6fdb\");\n",
       "  if (element == null) {\n",
       "    console.log(\"Bokeh: ERROR: autoload.js configured with elementid 'bbf6d800-814b-47b4-bd99-8592476f6fdb' but no matching script tag was found. \")\n",
       "    return false;\n",
       "  }\n",
       "\n",
       "  var js_urls = [\"https://cdn.pydata.org/bokeh/release/bokeh-0.13.0.min.js\", \"https://cdn.pydata.org/bokeh/release/bokeh-widgets-0.13.0.min.js\", \"https://cdn.pydata.org/bokeh/release/bokeh-tables-0.13.0.min.js\", \"https://cdn.pydata.org/bokeh/release/bokeh-gl-0.13.0.min.js\"];\n",
       "\n",
       "  var inline_js = [\n",
       "    function(Bokeh) {\n",
       "      Bokeh.set_log_level(\"info\");\n",
       "    },\n",
       "    \n",
       "    function(Bokeh) {\n",
       "      \n",
       "    },\n",
       "    function(Bokeh) {\n",
       "      console.log(\"Bokeh: injecting CSS: https://cdn.pydata.org/bokeh/release/bokeh-0.13.0.min.css\");\n",
       "      Bokeh.embed.inject_css(\"https://cdn.pydata.org/bokeh/release/bokeh-0.13.0.min.css\");\n",
       "      console.log(\"Bokeh: injecting CSS: https://cdn.pydata.org/bokeh/release/bokeh-widgets-0.13.0.min.css\");\n",
       "      Bokeh.embed.inject_css(\"https://cdn.pydata.org/bokeh/release/bokeh-widgets-0.13.0.min.css\");\n",
       "      console.log(\"Bokeh: injecting CSS: https://cdn.pydata.org/bokeh/release/bokeh-tables-0.13.0.min.css\");\n",
       "      Bokeh.embed.inject_css(\"https://cdn.pydata.org/bokeh/release/bokeh-tables-0.13.0.min.css\");\n",
       "    }\n",
       "  ];\n",
       "\n",
       "  function run_inline_js() {\n",
       "    \n",
       "    if ((root.Bokeh !== undefined) || (force === true)) {\n",
       "      for (var i = 0; i < inline_js.length; i++) {\n",
       "        inline_js[i].call(root, root.Bokeh);\n",
       "      }if (force === true) {\n",
       "        display_loaded();\n",
       "      }} else if (Date.now() < root._bokeh_timeout) {\n",
       "      setTimeout(run_inline_js, 100);\n",
       "    } else if (!root._bokeh_failed_load) {\n",
       "      console.log(\"Bokeh: BokehJS failed to load within specified timeout.\");\n",
       "      root._bokeh_failed_load = true;\n",
       "    } else if (force !== true) {\n",
       "      var cell = $(document.getElementById(\"bbf6d800-814b-47b4-bd99-8592476f6fdb\")).parents('.cell').data().cell;\n",
       "      cell.output_area.append_execute_result(NB_LOAD_WARNING)\n",
       "    }\n",
       "\n",
       "  }\n",
       "\n",
       "  if (root._bokeh_is_loading === 0) {\n",
       "    console.log(\"Bokeh: BokehJS loaded, going straight to plotting\");\n",
       "    run_inline_js();\n",
       "  } else {\n",
       "    load_libs(js_urls, function() {\n",
       "      console.log(\"Bokeh: BokehJS plotting callback run at\", now());\n",
       "      run_inline_js();\n",
       "    });\n",
       "  }\n",
       "}(window));"
      ],
      "application/vnd.bokehjs_load.v0+json": "\n(function(root) {\n  function now() {\n    return new Date();\n  }\n\n  var force = true;\n\n  if (typeof (root._bokeh_onload_callbacks) === \"undefined\" || force === true) {\n    root._bokeh_onload_callbacks = [];\n    root._bokeh_is_loading = undefined;\n  }\n\n  \n\n  \n  if (typeof (root._bokeh_timeout) === \"undefined\" || force === true) {\n    root._bokeh_timeout = Date.now() + 5000;\n    root._bokeh_failed_load = false;\n  }\n\n  var NB_LOAD_WARNING = {'data': {'text/html':\n     \"<div style='background-color: #fdd'>\\n\"+\n     \"<p>\\n\"+\n     \"BokehJS does not appear to have successfully loaded. If loading BokehJS from CDN, this \\n\"+\n     \"may be due to a slow or bad network connection. Possible fixes:\\n\"+\n     \"</p>\\n\"+\n     \"<ul>\\n\"+\n     \"<li>re-rerun `output_notebook()` to attempt to load from CDN again, or</li>\\n\"+\n     \"<li>use INLINE resources instead, as so:</li>\\n\"+\n     \"</ul>\\n\"+\n     \"<code>\\n\"+\n     \"from bokeh.resources import INLINE\\n\"+\n     \"output_notebook(resources=INLINE)\\n\"+\n     \"</code>\\n\"+\n     \"</div>\"}};\n\n  function display_loaded() {\n    var el = document.getElementById(\"bbf6d800-814b-47b4-bd99-8592476f6fdb\");\n    if (el != null) {\n      el.textContent = \"BokehJS is loading...\";\n    }\n    if (root.Bokeh !== undefined) {\n      if (el != null) {\n        el.textContent = \"BokehJS \" + root.Bokeh.version + \" successfully loaded.\";\n      }\n    } else if (Date.now() < root._bokeh_timeout) {\n      setTimeout(display_loaded, 100)\n    }\n  }\n\n\n  function run_callbacks() {\n    try {\n      root._bokeh_onload_callbacks.forEach(function(callback) { callback() });\n    }\n    finally {\n      delete root._bokeh_onload_callbacks\n    }\n    console.info(\"Bokeh: all callbacks have finished\");\n  }\n\n  function load_libs(js_urls, callback) {\n    root._bokeh_onload_callbacks.push(callback);\n    if (root._bokeh_is_loading > 0) {\n      console.log(\"Bokeh: BokehJS is being loaded, scheduling callback at\", now());\n      return null;\n    }\n    if (js_urls == null || js_urls.length === 0) {\n      run_callbacks();\n      return null;\n    }\n    console.log(\"Bokeh: BokehJS not loaded, scheduling load and callback at\", now());\n    root._bokeh_is_loading = js_urls.length;\n    for (var i = 0; i < js_urls.length; i++) {\n      var url = js_urls[i];\n      var s = document.createElement('script');\n      s.src = url;\n      s.async = false;\n      s.onreadystatechange = s.onload = function() {\n        root._bokeh_is_loading--;\n        if (root._bokeh_is_loading === 0) {\n          console.log(\"Bokeh: all BokehJS libraries loaded\");\n          run_callbacks()\n        }\n      };\n      s.onerror = function() {\n        console.warn(\"failed to load library \" + url);\n      };\n      console.log(\"Bokeh: injecting script tag for BokehJS library: \", url);\n      document.getElementsByTagName(\"head\")[0].appendChild(s);\n    }\n  };var element = document.getElementById(\"bbf6d800-814b-47b4-bd99-8592476f6fdb\");\n  if (element == null) {\n    console.log(\"Bokeh: ERROR: autoload.js configured with elementid 'bbf6d800-814b-47b4-bd99-8592476f6fdb' but no matching script tag was found. \")\n    return false;\n  }\n\n  var js_urls = [\"https://cdn.pydata.org/bokeh/release/bokeh-0.13.0.min.js\", \"https://cdn.pydata.org/bokeh/release/bokeh-widgets-0.13.0.min.js\", \"https://cdn.pydata.org/bokeh/release/bokeh-tables-0.13.0.min.js\", \"https://cdn.pydata.org/bokeh/release/bokeh-gl-0.13.0.min.js\"];\n\n  var inline_js = [\n    function(Bokeh) {\n      Bokeh.set_log_level(\"info\");\n    },\n    \n    function(Bokeh) {\n      \n    },\n    function(Bokeh) {\n      console.log(\"Bokeh: injecting CSS: https://cdn.pydata.org/bokeh/release/bokeh-0.13.0.min.css\");\n      Bokeh.embed.inject_css(\"https://cdn.pydata.org/bokeh/release/bokeh-0.13.0.min.css\");\n      console.log(\"Bokeh: injecting CSS: https://cdn.pydata.org/bokeh/release/bokeh-widgets-0.13.0.min.css\");\n      Bokeh.embed.inject_css(\"https://cdn.pydata.org/bokeh/release/bokeh-widgets-0.13.0.min.css\");\n      console.log(\"Bokeh: injecting CSS: https://cdn.pydata.org/bokeh/release/bokeh-tables-0.13.0.min.css\");\n      Bokeh.embed.inject_css(\"https://cdn.pydata.org/bokeh/release/bokeh-tables-0.13.0.min.css\");\n    }\n  ];\n\n  function run_inline_js() {\n    \n    if ((root.Bokeh !== undefined) || (force === true)) {\n      for (var i = 0; i < inline_js.length; i++) {\n        inline_js[i].call(root, root.Bokeh);\n      }if (force === true) {\n        display_loaded();\n      }} else if (Date.now() < root._bokeh_timeout) {\n      setTimeout(run_inline_js, 100);\n    } else if (!root._bokeh_failed_load) {\n      console.log(\"Bokeh: BokehJS failed to load within specified timeout.\");\n      root._bokeh_failed_load = true;\n    } else if (force !== true) {\n      var cell = $(document.getElementById(\"bbf6d800-814b-47b4-bd99-8592476f6fdb\")).parents('.cell').data().cell;\n      cell.output_area.append_execute_result(NB_LOAD_WARNING)\n    }\n\n  }\n\n  if (root._bokeh_is_loading === 0) {\n    console.log(\"Bokeh: BokehJS loaded, going straight to plotting\");\n    run_inline_js();\n  } else {\n    load_libs(js_urls, function() {\n      console.log(\"Bokeh: BokehJS plotting callback run at\", now());\n      run_inline_js();\n    });\n  }\n}(window));"
     },
     "metadata": {},
     "output_type": "display_data"
    }
   ],
   "source": [
    "import itertools\n",
    "\n",
    "import numpy as np\n",
    "import pandas as pd\n",
    "\n",
    "import altair as alt\n",
    "import bokeh.io\n",
    "\n",
    "import bebi103\n",
    "import altair_catplot as altcat\n",
    "\n",
    "bokeh.io.output_notebook()"
   ]
  },
  {
   "cell_type": "code",
   "execution_count": 3,
   "metadata": {},
   "outputs": [
    {
     "data": {
      "text/html": [
       "<div>\n",
       "<style scoped>\n",
       "    .dataframe tbody tr th:only-of-type {\n",
       "        vertical-align: middle;\n",
       "    }\n",
       "\n",
       "    .dataframe tbody tr th {\n",
       "        vertical-align: top;\n",
       "    }\n",
       "\n",
       "    .dataframe thead tr th {\n",
       "        text-align: left;\n",
       "    }\n",
       "</style>\n",
       "<table border=\"1\" class=\"dataframe\">\n",
       "  <thead>\n",
       "    <tr>\n",
       "      <th></th>\n",
       "      <th colspan=\"4\" halign=\"left\">setosa</th>\n",
       "      <th colspan=\"4\" halign=\"left\">versicolor</th>\n",
       "      <th colspan=\"4\" halign=\"left\">virginica</th>\n",
       "    </tr>\n",
       "    <tr>\n",
       "      <th></th>\n",
       "      <th>sepal length (cm)</th>\n",
       "      <th>sepal width (cm)</th>\n",
       "      <th>petal length (cm)</th>\n",
       "      <th>petal width (cm)</th>\n",
       "      <th>sepal length (cm)</th>\n",
       "      <th>sepal width (cm)</th>\n",
       "      <th>petal length (cm)</th>\n",
       "      <th>petal width (cm)</th>\n",
       "      <th>sepal length (cm)</th>\n",
       "      <th>sepal width (cm)</th>\n",
       "      <th>petal length (cm)</th>\n",
       "      <th>petal width (cm)</th>\n",
       "    </tr>\n",
       "  </thead>\n",
       "  <tbody>\n",
       "    <tr>\n",
       "      <th>0</th>\n",
       "      <td>5.1</td>\n",
       "      <td>3.5</td>\n",
       "      <td>1.4</td>\n",
       "      <td>0.2</td>\n",
       "      <td>7.0</td>\n",
       "      <td>3.2</td>\n",
       "      <td>4.7</td>\n",
       "      <td>1.4</td>\n",
       "      <td>6.3</td>\n",
       "      <td>3.3</td>\n",
       "      <td>6.0</td>\n",
       "      <td>2.5</td>\n",
       "    </tr>\n",
       "    <tr>\n",
       "      <th>1</th>\n",
       "      <td>4.9</td>\n",
       "      <td>3.0</td>\n",
       "      <td>1.4</td>\n",
       "      <td>0.2</td>\n",
       "      <td>6.4</td>\n",
       "      <td>3.2</td>\n",
       "      <td>4.5</td>\n",
       "      <td>1.5</td>\n",
       "      <td>5.8</td>\n",
       "      <td>2.7</td>\n",
       "      <td>5.1</td>\n",
       "      <td>1.9</td>\n",
       "    </tr>\n",
       "    <tr>\n",
       "      <th>2</th>\n",
       "      <td>4.7</td>\n",
       "      <td>3.2</td>\n",
       "      <td>1.3</td>\n",
       "      <td>0.2</td>\n",
       "      <td>6.9</td>\n",
       "      <td>3.1</td>\n",
       "      <td>4.9</td>\n",
       "      <td>1.5</td>\n",
       "      <td>7.1</td>\n",
       "      <td>3.0</td>\n",
       "      <td>5.9</td>\n",
       "      <td>2.1</td>\n",
       "    </tr>\n",
       "    <tr>\n",
       "      <th>3</th>\n",
       "      <td>4.6</td>\n",
       "      <td>3.1</td>\n",
       "      <td>1.5</td>\n",
       "      <td>0.2</td>\n",
       "      <td>5.5</td>\n",
       "      <td>2.3</td>\n",
       "      <td>4.0</td>\n",
       "      <td>1.3</td>\n",
       "      <td>6.3</td>\n",
       "      <td>2.9</td>\n",
       "      <td>5.6</td>\n",
       "      <td>1.8</td>\n",
       "    </tr>\n",
       "    <tr>\n",
       "      <th>4</th>\n",
       "      <td>5.0</td>\n",
       "      <td>3.6</td>\n",
       "      <td>1.4</td>\n",
       "      <td>0.2</td>\n",
       "      <td>6.5</td>\n",
       "      <td>2.8</td>\n",
       "      <td>4.6</td>\n",
       "      <td>1.5</td>\n",
       "      <td>6.5</td>\n",
       "      <td>3.0</td>\n",
       "      <td>5.8</td>\n",
       "      <td>2.2</td>\n",
       "    </tr>\n",
       "  </tbody>\n",
       "</table>\n",
       "</div>"
      ],
      "text/plain": [
       "             setosa                                                      \\\n",
       "  sepal length (cm) sepal width (cm) petal length (cm) petal width (cm)   \n",
       "0               5.1              3.5               1.4              0.2   \n",
       "1               4.9              3.0               1.4              0.2   \n",
       "2               4.7              3.2               1.3              0.2   \n",
       "3               4.6              3.1               1.5              0.2   \n",
       "4               5.0              3.6               1.4              0.2   \n",
       "\n",
       "         versicolor                                                      \\\n",
       "  sepal length (cm) sepal width (cm) petal length (cm) petal width (cm)   \n",
       "0               7.0              3.2               4.7              1.4   \n",
       "1               6.4              3.2               4.5              1.5   \n",
       "2               6.9              3.1               4.9              1.5   \n",
       "3               5.5              2.3               4.0              1.3   \n",
       "4               6.5              2.8               4.6              1.5   \n",
       "\n",
       "          virginica                                                      \n",
       "  sepal length (cm) sepal width (cm) petal length (cm) petal width (cm)  \n",
       "0               6.3              3.3               6.0              2.5  \n",
       "1               5.8              2.7               5.1              1.9  \n",
       "2               7.1              3.0               5.9              2.1  \n",
       "3               6.3              2.9               5.6              1.8  \n",
       "4               6.5              3.0               5.8              2.2  "
      ]
     },
     "execution_count": 3,
     "metadata": {},
     "output_type": "execute_result"
    }
   ],
   "source": [
    "# 1a)\n",
    "\n",
    "df = pd.read_csv('../data/anderson-fisher-iris.csv',\n",
    "                 #delimiter = '\\t',\n",
    "                 comment = '#',\n",
    "                 header = [0,1])\n",
    "# Take a look.\n",
    "\n",
    "df.head()"
   ]
  },
  {
   "cell_type": "markdown",
   "metadata": {},
   "source": [
    "**1b)**\n",
    "As shown above, the dataframe is not tidy. It does not have each variable form a column since it has data of one variable 'species' column by column instead of taking it as a separate column, also leading to repeating columns for one specific variable to separate data from different species. It does have each observation in a row though."
   ]
  },
  {
   "cell_type": "code",
   "execution_count": 4,
   "metadata": {},
   "outputs": [
    {
     "data": {
      "text/html": [
       "<div>\n",
       "<style scoped>\n",
       "    .dataframe tbody tr th:only-of-type {\n",
       "        vertical-align: middle;\n",
       "    }\n",
       "\n",
       "    .dataframe tbody tr th {\n",
       "        vertical-align: top;\n",
       "    }\n",
       "\n",
       "    .dataframe thead th {\n",
       "        text-align: right;\n",
       "    }\n",
       "</style>\n",
       "<table border=\"1\" class=\"dataframe\">\n",
       "  <thead>\n",
       "    <tr style=\"text-align: right;\">\n",
       "      <th></th>\n",
       "      <th></th>\n",
       "      <th>petal length (cm)</th>\n",
       "      <th>petal width (cm)</th>\n",
       "      <th>sepal length (cm)</th>\n",
       "      <th>sepal width (cm)</th>\n",
       "    </tr>\n",
       "  </thead>\n",
       "  <tbody>\n",
       "    <tr>\n",
       "      <th rowspan=\"3\" valign=\"top\">0</th>\n",
       "      <th>setosa</th>\n",
       "      <td>1.4</td>\n",
       "      <td>0.2</td>\n",
       "      <td>5.1</td>\n",
       "      <td>3.5</td>\n",
       "    </tr>\n",
       "    <tr>\n",
       "      <th>versicolor</th>\n",
       "      <td>4.7</td>\n",
       "      <td>1.4</td>\n",
       "      <td>7.0</td>\n",
       "      <td>3.2</td>\n",
       "    </tr>\n",
       "    <tr>\n",
       "      <th>virginica</th>\n",
       "      <td>6.0</td>\n",
       "      <td>2.5</td>\n",
       "      <td>6.3</td>\n",
       "      <td>3.3</td>\n",
       "    </tr>\n",
       "    <tr>\n",
       "      <th rowspan=\"2\" valign=\"top\">1</th>\n",
       "      <th>setosa</th>\n",
       "      <td>1.4</td>\n",
       "      <td>0.2</td>\n",
       "      <td>4.9</td>\n",
       "      <td>3.0</td>\n",
       "    </tr>\n",
       "    <tr>\n",
       "      <th>versicolor</th>\n",
       "      <td>4.5</td>\n",
       "      <td>1.5</td>\n",
       "      <td>6.4</td>\n",
       "      <td>3.2</td>\n",
       "    </tr>\n",
       "  </tbody>\n",
       "</table>\n",
       "</div>"
      ],
      "text/plain": [
       "              petal length (cm)  petal width (cm)  sepal length (cm)  \\\n",
       "0 setosa                    1.4               0.2                5.1   \n",
       "  versicolor                4.7               1.4                7.0   \n",
       "  virginica                 6.0               2.5                6.3   \n",
       "1 setosa                    1.4               0.2                4.9   \n",
       "  versicolor                4.5               1.5                6.4   \n",
       "\n",
       "              sepal width (cm)  \n",
       "0 setosa                   3.5  \n",
       "  versicolor               3.2  \n",
       "  virginica                3.3  \n",
       "1 setosa                   3.0  \n",
       "  versicolor               3.2  "
      ]
     },
     "execution_count": 4,
     "metadata": {},
     "output_type": "execute_result"
    }
   ],
   "source": [
    "df_tidy = df.stack(level=0)\n",
    "\n",
    "df_tidy.head()"
   ]
  },
  {
   "cell_type": "markdown",
   "metadata": {},
   "source": [
    "**1c)**\n",
    "The operation 'stack' reshaped the dataframe by stacking the specified horizontal index, i.e. here the first header of the dataframe, to vertical index. It re-organized the data grouped by species from being side by side on a horizontal position to being stacked vertically on top of each other. "
   ]
  },
  {
   "cell_type": "code",
   "execution_count": 5,
   "metadata": {},
   "outputs": [
    {
     "data": {
      "text/html": [
       "<div>\n",
       "<style scoped>\n",
       "    .dataframe tbody tr th:only-of-type {\n",
       "        vertical-align: middle;\n",
       "    }\n",
       "\n",
       "    .dataframe tbody tr th {\n",
       "        vertical-align: top;\n",
       "    }\n",
       "\n",
       "    .dataframe thead th {\n",
       "        text-align: right;\n",
       "    }\n",
       "</style>\n",
       "<table border=\"1\" class=\"dataframe\">\n",
       "  <thead>\n",
       "    <tr style=\"text-align: right;\">\n",
       "      <th></th>\n",
       "      <th></th>\n",
       "      <th>petal length (cm)</th>\n",
       "      <th>petal width (cm)</th>\n",
       "      <th>sepal length (cm)</th>\n",
       "      <th>sepal width (cm)</th>\n",
       "    </tr>\n",
       "  </thead>\n",
       "  <tbody>\n",
       "    <tr>\n",
       "      <th>0</th>\n",
       "      <th>setosa</th>\n",
       "      <td>1.4</td>\n",
       "      <td>0.2</td>\n",
       "      <td>5.1</td>\n",
       "      <td>3.5</td>\n",
       "    </tr>\n",
       "    <tr>\n",
       "      <th>1</th>\n",
       "      <th>setosa</th>\n",
       "      <td>1.4</td>\n",
       "      <td>0.2</td>\n",
       "      <td>4.9</td>\n",
       "      <td>3.0</td>\n",
       "    </tr>\n",
       "    <tr>\n",
       "      <th>2</th>\n",
       "      <th>setosa</th>\n",
       "      <td>1.3</td>\n",
       "      <td>0.2</td>\n",
       "      <td>4.7</td>\n",
       "      <td>3.2</td>\n",
       "    </tr>\n",
       "    <tr>\n",
       "      <th>3</th>\n",
       "      <th>setosa</th>\n",
       "      <td>1.5</td>\n",
       "      <td>0.2</td>\n",
       "      <td>4.6</td>\n",
       "      <td>3.1</td>\n",
       "    </tr>\n",
       "    <tr>\n",
       "      <th>4</th>\n",
       "      <th>setosa</th>\n",
       "      <td>1.4</td>\n",
       "      <td>0.2</td>\n",
       "      <td>5.0</td>\n",
       "      <td>3.6</td>\n",
       "    </tr>\n",
       "  </tbody>\n",
       "</table>\n",
       "</div>"
      ],
      "text/plain": [
       "          petal length (cm)  petal width (cm)  sepal length (cm)  \\\n",
       "0 setosa                1.4               0.2                5.1   \n",
       "1 setosa                1.4               0.2                4.9   \n",
       "2 setosa                1.3               0.2                4.7   \n",
       "3 setosa                1.5               0.2                4.6   \n",
       "4 setosa                1.4               0.2                5.0   \n",
       "\n",
       "          sepal width (cm)  \n",
       "0 setosa               3.5  \n",
       "1 setosa               3.0  \n",
       "2 setosa               3.2  \n",
       "3 setosa               3.1  \n",
       "4 setosa               3.6  "
      ]
     },
     "execution_count": 5,
     "metadata": {},
     "output_type": "execute_result"
    }
   ],
   "source": [
    "df_tidy = df_tidy.sort_index(level=1)\n",
    "\n",
    "df_tidy.head()"
   ]
  },
  {
   "cell_type": "markdown",
   "metadata": {},
   "source": [
    "The operation 'sort_index' sorted the data frame by the second (level=1) vertical index, which is the newly-added 'speicies' index, so that the data from one certain speicies were grouped together and stack on top of other species."
   ]
  },
  {
   "cell_type": "code",
   "execution_count": 6,
   "metadata": {},
   "outputs": [
    {
     "data": {
      "text/html": [
       "<div>\n",
       "<style scoped>\n",
       "    .dataframe tbody tr th:only-of-type {\n",
       "        vertical-align: middle;\n",
       "    }\n",
       "\n",
       "    .dataframe tbody tr th {\n",
       "        vertical-align: top;\n",
       "    }\n",
       "\n",
       "    .dataframe thead th {\n",
       "        text-align: right;\n",
       "    }\n",
       "</style>\n",
       "<table border=\"1\" class=\"dataframe\">\n",
       "  <thead>\n",
       "    <tr style=\"text-align: right;\">\n",
       "      <th></th>\n",
       "      <th>level_1</th>\n",
       "      <th>petal length (cm)</th>\n",
       "      <th>petal width (cm)</th>\n",
       "      <th>sepal length (cm)</th>\n",
       "      <th>sepal width (cm)</th>\n",
       "    </tr>\n",
       "  </thead>\n",
       "  <tbody>\n",
       "    <tr>\n",
       "      <th>0</th>\n",
       "      <td>setosa</td>\n",
       "      <td>1.4</td>\n",
       "      <td>0.2</td>\n",
       "      <td>5.1</td>\n",
       "      <td>3.5</td>\n",
       "    </tr>\n",
       "    <tr>\n",
       "      <th>1</th>\n",
       "      <td>setosa</td>\n",
       "      <td>1.4</td>\n",
       "      <td>0.2</td>\n",
       "      <td>4.9</td>\n",
       "      <td>3.0</td>\n",
       "    </tr>\n",
       "    <tr>\n",
       "      <th>2</th>\n",
       "      <td>setosa</td>\n",
       "      <td>1.3</td>\n",
       "      <td>0.2</td>\n",
       "      <td>4.7</td>\n",
       "      <td>3.2</td>\n",
       "    </tr>\n",
       "    <tr>\n",
       "      <th>3</th>\n",
       "      <td>setosa</td>\n",
       "      <td>1.5</td>\n",
       "      <td>0.2</td>\n",
       "      <td>4.6</td>\n",
       "      <td>3.1</td>\n",
       "    </tr>\n",
       "    <tr>\n",
       "      <th>4</th>\n",
       "      <td>setosa</td>\n",
       "      <td>1.4</td>\n",
       "      <td>0.2</td>\n",
       "      <td>5.0</td>\n",
       "      <td>3.6</td>\n",
       "    </tr>\n",
       "  </tbody>\n",
       "</table>\n",
       "</div>"
      ],
      "text/plain": [
       "  level_1  petal length (cm)  petal width (cm)  sepal length (cm)  \\\n",
       "0  setosa                1.4               0.2                5.1   \n",
       "1  setosa                1.4               0.2                4.9   \n",
       "2  setosa                1.3               0.2                4.7   \n",
       "3  setosa                1.5               0.2                4.6   \n",
       "4  setosa                1.4               0.2                5.0   \n",
       "\n",
       "   sepal width (cm)  \n",
       "0               3.5  \n",
       "1               3.0  \n",
       "2               3.2  \n",
       "3               3.1  \n",
       "4               3.6  "
      ]
     },
     "execution_count": 6,
     "metadata": {},
     "output_type": "execute_result"
    }
   ],
   "source": [
    "df_tidy = df_tidy.reset_index(level=1)\n",
    "\n",
    "df_tidy.head()"
   ]
  },
  {
   "cell_type": "markdown",
   "metadata": {},
   "source": [
    "From last operation, we had dataframe with two vertical indexes namely the speicies and the number of rows, while tidy data should have the variable 'speicies' as a column instead of the index, so here the reset_index operation remove the given level, which is the second index 'speicies' and make it column named 'level_1'."
   ]
  },
  {
   "cell_type": "code",
   "execution_count": 7,
   "metadata": {},
   "outputs": [
    {
     "data": {
      "text/html": [
       "<div>\n",
       "<style scoped>\n",
       "    .dataframe tbody tr th:only-of-type {\n",
       "        vertical-align: middle;\n",
       "    }\n",
       "\n",
       "    .dataframe tbody tr th {\n",
       "        vertical-align: top;\n",
       "    }\n",
       "\n",
       "    .dataframe thead th {\n",
       "        text-align: right;\n",
       "    }\n",
       "</style>\n",
       "<table border=\"1\" class=\"dataframe\">\n",
       "  <thead>\n",
       "    <tr style=\"text-align: right;\">\n",
       "      <th></th>\n",
       "      <th>species</th>\n",
       "      <th>petal length (cm)</th>\n",
       "      <th>petal width (cm)</th>\n",
       "      <th>sepal length (cm)</th>\n",
       "      <th>sepal width (cm)</th>\n",
       "    </tr>\n",
       "  </thead>\n",
       "  <tbody>\n",
       "    <tr>\n",
       "      <th>0</th>\n",
       "      <td>setosa</td>\n",
       "      <td>1.4</td>\n",
       "      <td>0.2</td>\n",
       "      <td>5.1</td>\n",
       "      <td>3.5</td>\n",
       "    </tr>\n",
       "    <tr>\n",
       "      <th>1</th>\n",
       "      <td>setosa</td>\n",
       "      <td>1.4</td>\n",
       "      <td>0.2</td>\n",
       "      <td>4.9</td>\n",
       "      <td>3.0</td>\n",
       "    </tr>\n",
       "    <tr>\n",
       "      <th>2</th>\n",
       "      <td>setosa</td>\n",
       "      <td>1.3</td>\n",
       "      <td>0.2</td>\n",
       "      <td>4.7</td>\n",
       "      <td>3.2</td>\n",
       "    </tr>\n",
       "    <tr>\n",
       "      <th>3</th>\n",
       "      <td>setosa</td>\n",
       "      <td>1.5</td>\n",
       "      <td>0.2</td>\n",
       "      <td>4.6</td>\n",
       "      <td>3.1</td>\n",
       "    </tr>\n",
       "    <tr>\n",
       "      <th>4</th>\n",
       "      <td>setosa</td>\n",
       "      <td>1.4</td>\n",
       "      <td>0.2</td>\n",
       "      <td>5.0</td>\n",
       "      <td>3.6</td>\n",
       "    </tr>\n",
       "  </tbody>\n",
       "</table>\n",
       "</div>"
      ],
      "text/plain": [
       "  species  petal length (cm)  petal width (cm)  sepal length (cm)  \\\n",
       "0  setosa                1.4               0.2                5.1   \n",
       "1  setosa                1.4               0.2                4.9   \n",
       "2  setosa                1.3               0.2                4.7   \n",
       "3  setosa                1.5               0.2                4.6   \n",
       "4  setosa                1.4               0.2                5.0   \n",
       "\n",
       "   sepal width (cm)  \n",
       "0               3.5  \n",
       "1               3.0  \n",
       "2               3.2  \n",
       "3               3.1  \n",
       "4               3.6  "
      ]
     },
     "execution_count": 7,
     "metadata": {},
     "output_type": "execute_result"
    }
   ],
   "source": [
    "df_tidy = df_tidy.rename(columns={'level_1': 'species'})\n",
    "\n",
    "df_tidy.head()"
   ]
  },
  {
   "cell_type": "markdown",
   "metadata": {},
   "source": [
    "This operation changed the name of the first column from default 'level_1' to 'specieis'.'"
   ]
  },
  {
   "cell_type": "markdown",
   "metadata": {},
   "source": [
    "**1d)**\n",
    "The resulting dataframe is tidy because it has every variable in one column and each observation stacks on top of each other. It only has one type of observational unit, so one table is good."
   ]
  },
  {
   "cell_type": "code",
   "execution_count": 28,
   "metadata": {},
   "outputs": [],
   "source": [
    "# 1e)\n",
    "\n",
    "inds = (df_tidy['species'] == 'versicolor')\n",
    "SL_versicolor = df_tidy.loc[inds,['sepal length (cm)']].values"
   ]
  },
  {
   "cell_type": "code",
   "execution_count": 36,
   "metadata": {},
   "outputs": [
    {
     "data": {
      "application/vnd.vegalite.v2+json": {
       "$schema": "https://vega.github.io/schema/vega-lite/v2.6.0.json",
       "config": {
        "view": {
         "height": 300,
         "width": 400
        }
       },
       "data": {
        "name": "data-f50ba617f8f217538f0b067a42802046"
       },
       "datasets": {
        "data-f50ba617f8f217538f0b067a42802046": [
         {
          "petal length (cm)": 1.4,
          "petal width (cm)": 0.2,
          "sepal length (cm)": 5.1,
          "sepal width (cm)": 3.5,
          "species": "setosa"
         },
         {
          "petal length (cm)": 1.4,
          "petal width (cm)": 0.2,
          "sepal length (cm)": 4.9,
          "sepal width (cm)": 3,
          "species": "setosa"
         },
         {
          "petal length (cm)": 1.3,
          "petal width (cm)": 0.2,
          "sepal length (cm)": 4.7,
          "sepal width (cm)": 3.2,
          "species": "setosa"
         },
         {
          "petal length (cm)": 1.5,
          "petal width (cm)": 0.2,
          "sepal length (cm)": 4.6,
          "sepal width (cm)": 3.1,
          "species": "setosa"
         },
         {
          "petal length (cm)": 1.4,
          "petal width (cm)": 0.2,
          "sepal length (cm)": 5,
          "sepal width (cm)": 3.6,
          "species": "setosa"
         },
         {
          "petal length (cm)": 1.7,
          "petal width (cm)": 0.4,
          "sepal length (cm)": 5.4,
          "sepal width (cm)": 3.9,
          "species": "setosa"
         },
         {
          "petal length (cm)": 1.4,
          "petal width (cm)": 0.3,
          "sepal length (cm)": 4.6,
          "sepal width (cm)": 3.4,
          "species": "setosa"
         },
         {
          "petal length (cm)": 1.5,
          "petal width (cm)": 0.2,
          "sepal length (cm)": 5,
          "sepal width (cm)": 3.4,
          "species": "setosa"
         },
         {
          "petal length (cm)": 1.4,
          "petal width (cm)": 0.2,
          "sepal length (cm)": 4.4,
          "sepal width (cm)": 2.9,
          "species": "setosa"
         },
         {
          "petal length (cm)": 1.5,
          "petal width (cm)": 0.1,
          "sepal length (cm)": 4.9,
          "sepal width (cm)": 3.1,
          "species": "setosa"
         },
         {
          "petal length (cm)": 1.5,
          "petal width (cm)": 0.2,
          "sepal length (cm)": 5.4,
          "sepal width (cm)": 3.7,
          "species": "setosa"
         },
         {
          "petal length (cm)": 1.6,
          "petal width (cm)": 0.2,
          "sepal length (cm)": 4.8,
          "sepal width (cm)": 3.4,
          "species": "setosa"
         },
         {
          "petal length (cm)": 1.4,
          "petal width (cm)": 0.1,
          "sepal length (cm)": 4.8,
          "sepal width (cm)": 3,
          "species": "setosa"
         },
         {
          "petal length (cm)": 1.1,
          "petal width (cm)": 0.1,
          "sepal length (cm)": 4.3,
          "sepal width (cm)": 3,
          "species": "setosa"
         },
         {
          "petal length (cm)": 1.2,
          "petal width (cm)": 0.2,
          "sepal length (cm)": 5.8,
          "sepal width (cm)": 4,
          "species": "setosa"
         },
         {
          "petal length (cm)": 1.5,
          "petal width (cm)": 0.4,
          "sepal length (cm)": 5.7,
          "sepal width (cm)": 4.4,
          "species": "setosa"
         },
         {
          "petal length (cm)": 1.3,
          "petal width (cm)": 0.4,
          "sepal length (cm)": 5.4,
          "sepal width (cm)": 3.9,
          "species": "setosa"
         },
         {
          "petal length (cm)": 1.4,
          "petal width (cm)": 0.3,
          "sepal length (cm)": 5.1,
          "sepal width (cm)": 3.5,
          "species": "setosa"
         },
         {
          "petal length (cm)": 1.7,
          "petal width (cm)": 0.3,
          "sepal length (cm)": 5.7,
          "sepal width (cm)": 3.8,
          "species": "setosa"
         },
         {
          "petal length (cm)": 1.5,
          "petal width (cm)": 0.3,
          "sepal length (cm)": 5.1,
          "sepal width (cm)": 3.8,
          "species": "setosa"
         },
         {
          "petal length (cm)": 1.7,
          "petal width (cm)": 0.2,
          "sepal length (cm)": 5.4,
          "sepal width (cm)": 3.4,
          "species": "setosa"
         },
         {
          "petal length (cm)": 1.5,
          "petal width (cm)": 0.4,
          "sepal length (cm)": 5.1,
          "sepal width (cm)": 3.7,
          "species": "setosa"
         },
         {
          "petal length (cm)": 1,
          "petal width (cm)": 0.2,
          "sepal length (cm)": 4.6,
          "sepal width (cm)": 3.6,
          "species": "setosa"
         },
         {
          "petal length (cm)": 1.7,
          "petal width (cm)": 0.5,
          "sepal length (cm)": 5.1,
          "sepal width (cm)": 3.3,
          "species": "setosa"
         },
         {
          "petal length (cm)": 1.9,
          "petal width (cm)": 0.2,
          "sepal length (cm)": 4.8,
          "sepal width (cm)": 3.4,
          "species": "setosa"
         },
         {
          "petal length (cm)": 1.6,
          "petal width (cm)": 0.2,
          "sepal length (cm)": 5,
          "sepal width (cm)": 3,
          "species": "setosa"
         },
         {
          "petal length (cm)": 1.6,
          "petal width (cm)": 0.4,
          "sepal length (cm)": 5,
          "sepal width (cm)": 3.4,
          "species": "setosa"
         },
         {
          "petal length (cm)": 1.5,
          "petal width (cm)": 0.2,
          "sepal length (cm)": 5.2,
          "sepal width (cm)": 3.5,
          "species": "setosa"
         },
         {
          "petal length (cm)": 1.4,
          "petal width (cm)": 0.2,
          "sepal length (cm)": 5.2,
          "sepal width (cm)": 3.4,
          "species": "setosa"
         },
         {
          "petal length (cm)": 1.6,
          "petal width (cm)": 0.2,
          "sepal length (cm)": 4.7,
          "sepal width (cm)": 3.2,
          "species": "setosa"
         },
         {
          "petal length (cm)": 1.6,
          "petal width (cm)": 0.2,
          "sepal length (cm)": 4.8,
          "sepal width (cm)": 3.1,
          "species": "setosa"
         },
         {
          "petal length (cm)": 1.5,
          "petal width (cm)": 0.4,
          "sepal length (cm)": 5.4,
          "sepal width (cm)": 3.4,
          "species": "setosa"
         },
         {
          "petal length (cm)": 1.5,
          "petal width (cm)": 0.1,
          "sepal length (cm)": 5.2,
          "sepal width (cm)": 4.1,
          "species": "setosa"
         },
         {
          "petal length (cm)": 1.4,
          "petal width (cm)": 0.2,
          "sepal length (cm)": 5.5,
          "sepal width (cm)": 4.2,
          "species": "setosa"
         },
         {
          "petal length (cm)": 1.5,
          "petal width (cm)": 0.1,
          "sepal length (cm)": 4.9,
          "sepal width (cm)": 3.1,
          "species": "setosa"
         },
         {
          "petal length (cm)": 1.2,
          "petal width (cm)": 0.2,
          "sepal length (cm)": 5,
          "sepal width (cm)": 3.2,
          "species": "setosa"
         },
         {
          "petal length (cm)": 1.3,
          "petal width (cm)": 0.2,
          "sepal length (cm)": 5.5,
          "sepal width (cm)": 3.5,
          "species": "setosa"
         },
         {
          "petal length (cm)": 1.5,
          "petal width (cm)": 0.1,
          "sepal length (cm)": 4.9,
          "sepal width (cm)": 3.1,
          "species": "setosa"
         },
         {
          "petal length (cm)": 1.3,
          "petal width (cm)": 0.2,
          "sepal length (cm)": 4.4,
          "sepal width (cm)": 3,
          "species": "setosa"
         },
         {
          "petal length (cm)": 1.5,
          "petal width (cm)": 0.2,
          "sepal length (cm)": 5.1,
          "sepal width (cm)": 3.4,
          "species": "setosa"
         },
         {
          "petal length (cm)": 1.3,
          "petal width (cm)": 0.3,
          "sepal length (cm)": 5,
          "sepal width (cm)": 3.5,
          "species": "setosa"
         },
         {
          "petal length (cm)": 1.3,
          "petal width (cm)": 0.3,
          "sepal length (cm)": 4.5,
          "sepal width (cm)": 2.3,
          "species": "setosa"
         },
         {
          "petal length (cm)": 1.3,
          "petal width (cm)": 0.2,
          "sepal length (cm)": 4.4,
          "sepal width (cm)": 3.2,
          "species": "setosa"
         },
         {
          "petal length (cm)": 1.6,
          "petal width (cm)": 0.6,
          "sepal length (cm)": 5,
          "sepal width (cm)": 3.5,
          "species": "setosa"
         },
         {
          "petal length (cm)": 1.9,
          "petal width (cm)": 0.4,
          "sepal length (cm)": 5.1,
          "sepal width (cm)": 3.8,
          "species": "setosa"
         },
         {
          "petal length (cm)": 1.4,
          "petal width (cm)": 0.3,
          "sepal length (cm)": 4.8,
          "sepal width (cm)": 3,
          "species": "setosa"
         },
         {
          "petal length (cm)": 1.6,
          "petal width (cm)": 0.2,
          "sepal length (cm)": 5.1,
          "sepal width (cm)": 3.8,
          "species": "setosa"
         },
         {
          "petal length (cm)": 1.4,
          "petal width (cm)": 0.2,
          "sepal length (cm)": 4.6,
          "sepal width (cm)": 3.2,
          "species": "setosa"
         },
         {
          "petal length (cm)": 1.5,
          "petal width (cm)": 0.2,
          "sepal length (cm)": 5.3,
          "sepal width (cm)": 3.7,
          "species": "setosa"
         },
         {
          "petal length (cm)": 1.4,
          "petal width (cm)": 0.2,
          "sepal length (cm)": 5,
          "sepal width (cm)": 3.3,
          "species": "setosa"
         },
         {
          "petal length (cm)": 4.7,
          "petal width (cm)": 1.4,
          "sepal length (cm)": 7,
          "sepal width (cm)": 3.2,
          "species": "versicolor"
         },
         {
          "petal length (cm)": 4.5,
          "petal width (cm)": 1.5,
          "sepal length (cm)": 6.4,
          "sepal width (cm)": 3.2,
          "species": "versicolor"
         },
         {
          "petal length (cm)": 4.9,
          "petal width (cm)": 1.5,
          "sepal length (cm)": 6.9,
          "sepal width (cm)": 3.1,
          "species": "versicolor"
         },
         {
          "petal length (cm)": 4,
          "petal width (cm)": 1.3,
          "sepal length (cm)": 5.5,
          "sepal width (cm)": 2.3,
          "species": "versicolor"
         },
         {
          "petal length (cm)": 4.6,
          "petal width (cm)": 1.5,
          "sepal length (cm)": 6.5,
          "sepal width (cm)": 2.8,
          "species": "versicolor"
         },
         {
          "petal length (cm)": 4.5,
          "petal width (cm)": 1.3,
          "sepal length (cm)": 5.7,
          "sepal width (cm)": 2.8,
          "species": "versicolor"
         },
         {
          "petal length (cm)": 4.7,
          "petal width (cm)": 1.6,
          "sepal length (cm)": 6.3,
          "sepal width (cm)": 3.3,
          "species": "versicolor"
         },
         {
          "petal length (cm)": 3.3,
          "petal width (cm)": 1,
          "sepal length (cm)": 4.9,
          "sepal width (cm)": 2.4,
          "species": "versicolor"
         },
         {
          "petal length (cm)": 4.6,
          "petal width (cm)": 1.3,
          "sepal length (cm)": 6.6,
          "sepal width (cm)": 2.9,
          "species": "versicolor"
         },
         {
          "petal length (cm)": 3.9,
          "petal width (cm)": 1.4,
          "sepal length (cm)": 5.2,
          "sepal width (cm)": 2.7,
          "species": "versicolor"
         },
         {
          "petal length (cm)": 3.5,
          "petal width (cm)": 1,
          "sepal length (cm)": 5,
          "sepal width (cm)": 2,
          "species": "versicolor"
         },
         {
          "petal length (cm)": 4.2,
          "petal width (cm)": 1.5,
          "sepal length (cm)": 5.9,
          "sepal width (cm)": 3,
          "species": "versicolor"
         },
         {
          "petal length (cm)": 4,
          "petal width (cm)": 1,
          "sepal length (cm)": 6,
          "sepal width (cm)": 2.2,
          "species": "versicolor"
         },
         {
          "petal length (cm)": 4.7,
          "petal width (cm)": 1.4,
          "sepal length (cm)": 6.1,
          "sepal width (cm)": 2.9,
          "species": "versicolor"
         },
         {
          "petal length (cm)": 3.6,
          "petal width (cm)": 1.3,
          "sepal length (cm)": 5.6,
          "sepal width (cm)": 2.9,
          "species": "versicolor"
         },
         {
          "petal length (cm)": 4.4,
          "petal width (cm)": 1.4,
          "sepal length (cm)": 6.7,
          "sepal width (cm)": 3.1,
          "species": "versicolor"
         },
         {
          "petal length (cm)": 4.5,
          "petal width (cm)": 1.5,
          "sepal length (cm)": 5.6,
          "sepal width (cm)": 3,
          "species": "versicolor"
         },
         {
          "petal length (cm)": 4.1,
          "petal width (cm)": 1,
          "sepal length (cm)": 5.8,
          "sepal width (cm)": 2.7,
          "species": "versicolor"
         },
         {
          "petal length (cm)": 4.5,
          "petal width (cm)": 1.5,
          "sepal length (cm)": 6.2,
          "sepal width (cm)": 2.2,
          "species": "versicolor"
         },
         {
          "petal length (cm)": 3.9,
          "petal width (cm)": 1.1,
          "sepal length (cm)": 5.6,
          "sepal width (cm)": 2.5,
          "species": "versicolor"
         },
         {
          "petal length (cm)": 4.8,
          "petal width (cm)": 1.8,
          "sepal length (cm)": 5.9,
          "sepal width (cm)": 3.2,
          "species": "versicolor"
         },
         {
          "petal length (cm)": 4,
          "petal width (cm)": 1.3,
          "sepal length (cm)": 6.1,
          "sepal width (cm)": 2.8,
          "species": "versicolor"
         },
         {
          "petal length (cm)": 4.9,
          "petal width (cm)": 1.5,
          "sepal length (cm)": 6.3,
          "sepal width (cm)": 2.5,
          "species": "versicolor"
         },
         {
          "petal length (cm)": 4.7,
          "petal width (cm)": 1.2,
          "sepal length (cm)": 6.1,
          "sepal width (cm)": 2.8,
          "species": "versicolor"
         },
         {
          "petal length (cm)": 4.3,
          "petal width (cm)": 1.3,
          "sepal length (cm)": 6.4,
          "sepal width (cm)": 2.9,
          "species": "versicolor"
         },
         {
          "petal length (cm)": 4.4,
          "petal width (cm)": 1.4,
          "sepal length (cm)": 6.6,
          "sepal width (cm)": 3,
          "species": "versicolor"
         },
         {
          "petal length (cm)": 4.8,
          "petal width (cm)": 1.4,
          "sepal length (cm)": 6.8,
          "sepal width (cm)": 2.8,
          "species": "versicolor"
         },
         {
          "petal length (cm)": 5,
          "petal width (cm)": 1.7,
          "sepal length (cm)": 6.7,
          "sepal width (cm)": 3,
          "species": "versicolor"
         },
         {
          "petal length (cm)": 4.5,
          "petal width (cm)": 1.5,
          "sepal length (cm)": 6,
          "sepal width (cm)": 2.9,
          "species": "versicolor"
         },
         {
          "petal length (cm)": 3.5,
          "petal width (cm)": 1,
          "sepal length (cm)": 5.7,
          "sepal width (cm)": 2.6,
          "species": "versicolor"
         },
         {
          "petal length (cm)": 3.8,
          "petal width (cm)": 1.1,
          "sepal length (cm)": 5.5,
          "sepal width (cm)": 2.4,
          "species": "versicolor"
         },
         {
          "petal length (cm)": 3.7,
          "petal width (cm)": 1,
          "sepal length (cm)": 5.5,
          "sepal width (cm)": 2.4,
          "species": "versicolor"
         },
         {
          "petal length (cm)": 3.9,
          "petal width (cm)": 1.2,
          "sepal length (cm)": 5.8,
          "sepal width (cm)": 2.7,
          "species": "versicolor"
         },
         {
          "petal length (cm)": 5.1,
          "petal width (cm)": 1.6,
          "sepal length (cm)": 6,
          "sepal width (cm)": 2.7,
          "species": "versicolor"
         },
         {
          "petal length (cm)": 4.5,
          "petal width (cm)": 1.5,
          "sepal length (cm)": 5.4,
          "sepal width (cm)": 3,
          "species": "versicolor"
         },
         {
          "petal length (cm)": 4.5,
          "petal width (cm)": 1.6,
          "sepal length (cm)": 6,
          "sepal width (cm)": 3.4,
          "species": "versicolor"
         },
         {
          "petal length (cm)": 4.7,
          "petal width (cm)": 1.5,
          "sepal length (cm)": 6.7,
          "sepal width (cm)": 3.1,
          "species": "versicolor"
         },
         {
          "petal length (cm)": 4.4,
          "petal width (cm)": 1.3,
          "sepal length (cm)": 6.3,
          "sepal width (cm)": 2.3,
          "species": "versicolor"
         },
         {
          "petal length (cm)": 4.1,
          "petal width (cm)": 1.3,
          "sepal length (cm)": 5.6,
          "sepal width (cm)": 3,
          "species": "versicolor"
         },
         {
          "petal length (cm)": 4,
          "petal width (cm)": 1.3,
          "sepal length (cm)": 5.5,
          "sepal width (cm)": 2.5,
          "species": "versicolor"
         },
         {
          "petal length (cm)": 4.4,
          "petal width (cm)": 1.2,
          "sepal length (cm)": 5.5,
          "sepal width (cm)": 2.6,
          "species": "versicolor"
         },
         {
          "petal length (cm)": 4.6,
          "petal width (cm)": 1.4,
          "sepal length (cm)": 6.1,
          "sepal width (cm)": 3,
          "species": "versicolor"
         },
         {
          "petal length (cm)": 4,
          "petal width (cm)": 1.2,
          "sepal length (cm)": 5.8,
          "sepal width (cm)": 2.6,
          "species": "versicolor"
         },
         {
          "petal length (cm)": 3.3,
          "petal width (cm)": 1,
          "sepal length (cm)": 5,
          "sepal width (cm)": 2.3,
          "species": "versicolor"
         },
         {
          "petal length (cm)": 4.2,
          "petal width (cm)": 1.3,
          "sepal length (cm)": 5.6,
          "sepal width (cm)": 2.7,
          "species": "versicolor"
         },
         {
          "petal length (cm)": 4.2,
          "petal width (cm)": 1.2,
          "sepal length (cm)": 5.7,
          "sepal width (cm)": 3,
          "species": "versicolor"
         },
         {
          "petal length (cm)": 4.2,
          "petal width (cm)": 1.3,
          "sepal length (cm)": 5.7,
          "sepal width (cm)": 2.9,
          "species": "versicolor"
         },
         {
          "petal length (cm)": 4.3,
          "petal width (cm)": 1.3,
          "sepal length (cm)": 6.2,
          "sepal width (cm)": 2.9,
          "species": "versicolor"
         },
         {
          "petal length (cm)": 3,
          "petal width (cm)": 1.1,
          "sepal length (cm)": 5.1,
          "sepal width (cm)": 2.5,
          "species": "versicolor"
         },
         {
          "petal length (cm)": 4.1,
          "petal width (cm)": 1.3,
          "sepal length (cm)": 5.7,
          "sepal width (cm)": 2.8,
          "species": "versicolor"
         },
         {
          "petal length (cm)": 6,
          "petal width (cm)": 2.5,
          "sepal length (cm)": 6.3,
          "sepal width (cm)": 3.3,
          "species": "virginica"
         },
         {
          "petal length (cm)": 5.1,
          "petal width (cm)": 1.9,
          "sepal length (cm)": 5.8,
          "sepal width (cm)": 2.7,
          "species": "virginica"
         },
         {
          "petal length (cm)": 5.9,
          "petal width (cm)": 2.1,
          "sepal length (cm)": 7.1,
          "sepal width (cm)": 3,
          "species": "virginica"
         },
         {
          "petal length (cm)": 5.6,
          "petal width (cm)": 1.8,
          "sepal length (cm)": 6.3,
          "sepal width (cm)": 2.9,
          "species": "virginica"
         },
         {
          "petal length (cm)": 5.8,
          "petal width (cm)": 2.2,
          "sepal length (cm)": 6.5,
          "sepal width (cm)": 3,
          "species": "virginica"
         },
         {
          "petal length (cm)": 6.6,
          "petal width (cm)": 2.1,
          "sepal length (cm)": 7.6,
          "sepal width (cm)": 3,
          "species": "virginica"
         },
         {
          "petal length (cm)": 4.5,
          "petal width (cm)": 1.7,
          "sepal length (cm)": 4.9,
          "sepal width (cm)": 2.5,
          "species": "virginica"
         },
         {
          "petal length (cm)": 6.3,
          "petal width (cm)": 1.8,
          "sepal length (cm)": 7.3,
          "sepal width (cm)": 2.9,
          "species": "virginica"
         },
         {
          "petal length (cm)": 5.8,
          "petal width (cm)": 1.8,
          "sepal length (cm)": 6.7,
          "sepal width (cm)": 2.5,
          "species": "virginica"
         },
         {
          "petal length (cm)": 6.1,
          "petal width (cm)": 2.5,
          "sepal length (cm)": 7.2,
          "sepal width (cm)": 3.6,
          "species": "virginica"
         },
         {
          "petal length (cm)": 5.1,
          "petal width (cm)": 2,
          "sepal length (cm)": 6.5,
          "sepal width (cm)": 3.2,
          "species": "virginica"
         },
         {
          "petal length (cm)": 5.3,
          "petal width (cm)": 1.9,
          "sepal length (cm)": 6.4,
          "sepal width (cm)": 2.7,
          "species": "virginica"
         },
         {
          "petal length (cm)": 5.5,
          "petal width (cm)": 2.1,
          "sepal length (cm)": 6.8,
          "sepal width (cm)": 3,
          "species": "virginica"
         },
         {
          "petal length (cm)": 5,
          "petal width (cm)": 2,
          "sepal length (cm)": 5.7,
          "sepal width (cm)": 2.5,
          "species": "virginica"
         },
         {
          "petal length (cm)": 5.1,
          "petal width (cm)": 2.4,
          "sepal length (cm)": 5.8,
          "sepal width (cm)": 2.8,
          "species": "virginica"
         },
         {
          "petal length (cm)": 5.3,
          "petal width (cm)": 2.3,
          "sepal length (cm)": 6.4,
          "sepal width (cm)": 3.2,
          "species": "virginica"
         },
         {
          "petal length (cm)": 5.5,
          "petal width (cm)": 1.8,
          "sepal length (cm)": 6.5,
          "sepal width (cm)": 3,
          "species": "virginica"
         },
         {
          "petal length (cm)": 6.7,
          "petal width (cm)": 2.2,
          "sepal length (cm)": 7.7,
          "sepal width (cm)": 3.8,
          "species": "virginica"
         },
         {
          "petal length (cm)": 6.9,
          "petal width (cm)": 2.3,
          "sepal length (cm)": 7.7,
          "sepal width (cm)": 2.6,
          "species": "virginica"
         },
         {
          "petal length (cm)": 5,
          "petal width (cm)": 1.5,
          "sepal length (cm)": 6,
          "sepal width (cm)": 2.2,
          "species": "virginica"
         },
         {
          "petal length (cm)": 5.7,
          "petal width (cm)": 2.3,
          "sepal length (cm)": 6.9,
          "sepal width (cm)": 3.2,
          "species": "virginica"
         },
         {
          "petal length (cm)": 4.9,
          "petal width (cm)": 2,
          "sepal length (cm)": 5.6,
          "sepal width (cm)": 2.8,
          "species": "virginica"
         },
         {
          "petal length (cm)": 6.7,
          "petal width (cm)": 2,
          "sepal length (cm)": 7.7,
          "sepal width (cm)": 2.8,
          "species": "virginica"
         },
         {
          "petal length (cm)": 4.9,
          "petal width (cm)": 1.8,
          "sepal length (cm)": 6.3,
          "sepal width (cm)": 2.7,
          "species": "virginica"
         },
         {
          "petal length (cm)": 5.7,
          "petal width (cm)": 2.1,
          "sepal length (cm)": 6.7,
          "sepal width (cm)": 3.3,
          "species": "virginica"
         },
         {
          "petal length (cm)": 6,
          "petal width (cm)": 1.8,
          "sepal length (cm)": 7.2,
          "sepal width (cm)": 3.2,
          "species": "virginica"
         },
         {
          "petal length (cm)": 4.8,
          "petal width (cm)": 1.8,
          "sepal length (cm)": 6.2,
          "sepal width (cm)": 2.8,
          "species": "virginica"
         },
         {
          "petal length (cm)": 4.9,
          "petal width (cm)": 1.8,
          "sepal length (cm)": 6.1,
          "sepal width (cm)": 3,
          "species": "virginica"
         },
         {
          "petal length (cm)": 5.6,
          "petal width (cm)": 2.1,
          "sepal length (cm)": 6.4,
          "sepal width (cm)": 2.8,
          "species": "virginica"
         },
         {
          "petal length (cm)": 5.8,
          "petal width (cm)": 1.6,
          "sepal length (cm)": 7.2,
          "sepal width (cm)": 3,
          "species": "virginica"
         },
         {
          "petal length (cm)": 6.1,
          "petal width (cm)": 1.9,
          "sepal length (cm)": 7.4,
          "sepal width (cm)": 2.8,
          "species": "virginica"
         },
         {
          "petal length (cm)": 6.4,
          "petal width (cm)": 2,
          "sepal length (cm)": 7.9,
          "sepal width (cm)": 3.8,
          "species": "virginica"
         },
         {
          "petal length (cm)": 5.6,
          "petal width (cm)": 2.2,
          "sepal length (cm)": 6.4,
          "sepal width (cm)": 2.8,
          "species": "virginica"
         },
         {
          "petal length (cm)": 5.1,
          "petal width (cm)": 1.5,
          "sepal length (cm)": 6.3,
          "sepal width (cm)": 2.8,
          "species": "virginica"
         },
         {
          "petal length (cm)": 5.6,
          "petal width (cm)": 1.4,
          "sepal length (cm)": 6.1,
          "sepal width (cm)": 2.6,
          "species": "virginica"
         },
         {
          "petal length (cm)": 6.1,
          "petal width (cm)": 2.3,
          "sepal length (cm)": 7.7,
          "sepal width (cm)": 3,
          "species": "virginica"
         },
         {
          "petal length (cm)": 5.6,
          "petal width (cm)": 2.4,
          "sepal length (cm)": 6.3,
          "sepal width (cm)": 3.4,
          "species": "virginica"
         },
         {
          "petal length (cm)": 5.5,
          "petal width (cm)": 1.8,
          "sepal length (cm)": 6.4,
          "sepal width (cm)": 3.1,
          "species": "virginica"
         },
         {
          "petal length (cm)": 4.8,
          "petal width (cm)": 1.8,
          "sepal length (cm)": 6,
          "sepal width (cm)": 3,
          "species": "virginica"
         },
         {
          "petal length (cm)": 5.4,
          "petal width (cm)": 2.1,
          "sepal length (cm)": 6.9,
          "sepal width (cm)": 3.1,
          "species": "virginica"
         },
         {
          "petal length (cm)": 5.6,
          "petal width (cm)": 2.4,
          "sepal length (cm)": 6.7,
          "sepal width (cm)": 3.1,
          "species": "virginica"
         },
         {
          "petal length (cm)": 5.1,
          "petal width (cm)": 2.3,
          "sepal length (cm)": 6.9,
          "sepal width (cm)": 3.1,
          "species": "virginica"
         },
         {
          "petal length (cm)": 5.1,
          "petal width (cm)": 1.9,
          "sepal length (cm)": 5.8,
          "sepal width (cm)": 2.7,
          "species": "virginica"
         },
         {
          "petal length (cm)": 5.9,
          "petal width (cm)": 2.3,
          "sepal length (cm)": 6.8,
          "sepal width (cm)": 3.2,
          "species": "virginica"
         },
         {
          "petal length (cm)": 5.7,
          "petal width (cm)": 2.5,
          "sepal length (cm)": 6.7,
          "sepal width (cm)": 3.3,
          "species": "virginica"
         },
         {
          "petal length (cm)": 5.2,
          "petal width (cm)": 2.3,
          "sepal length (cm)": 6.7,
          "sepal width (cm)": 3,
          "species": "virginica"
         },
         {
          "petal length (cm)": 5,
          "petal width (cm)": 1.9,
          "sepal length (cm)": 6.3,
          "sepal width (cm)": 2.5,
          "species": "virginica"
         },
         {
          "petal length (cm)": 5.2,
          "petal width (cm)": 2,
          "sepal length (cm)": 6.5,
          "sepal width (cm)": 3,
          "species": "virginica"
         },
         {
          "petal length (cm)": 5.4,
          "petal width (cm)": 2.3,
          "sepal length (cm)": 6.2,
          "sepal width (cm)": 3.4,
          "species": "virginica"
         },
         {
          "petal length (cm)": 5.1,
          "petal width (cm)": 1.8,
          "sepal length (cm)": 5.9,
          "sepal width (cm)": 3,
          "species": "virginica"
         }
        ]
       },
       "encoding": {
        "color": {
         "field": "species",
         "type": "nominal"
        },
        "x": {
         "field": "sepal width (cm)",
         "type": "quantitative"
        },
        "y": {
         "field": "petal length (cm)",
         "type": "quantitative"
        }
       },
       "mark": "point"
      },
      "image/png": "[encoded data removed]",
      "text/plain": [
       "<VegaLite 2 object>\n",
       "\n",
       "If you see this message, it means the renderer has not been properly enabled\n",
       "for the frontend that you are using. For more information, see\n",
       "https://altair-viz.github.io/user_guide/troubleshooting.html\n"
      ]
     },
     "execution_count": 36,
     "metadata": {},
     "output_type": "execute_result"
    }
   ],
   "source": [
    "# 2a)\n",
    "\n",
    "alt.Chart(df_tidy\n",
    "    ).mark_point(\n",
    "    ).encode(\n",
    "        x='sepal width (cm):Q',\n",
    "        y='petal length (cm):Q',\n",
    "        color=alt.Color('species:N')\n",
    "    )"
   ]
  },
  {
   "cell_type": "code",
   "execution_count": 56,
   "metadata": {},
   "outputs": [
    {
     "data": {
      "application/vnd.vegalite.v2+json": {
       "$schema": "https://vega.github.io/schema/vega-lite/v2.6.0.json",
       "config": {
        "text": {
         "fontWeight": "bold"
        },
        "view": {
         "height": 300,
         "width": 400
        }
       },
       "datasets": {
        "data-720b6bc688e2da72c566cb488e03aad8": [
         {
          "bottom": 0.2,
          "bottom_whisker": 0.1,
          "cap_left": 1.9,
          "cap_right": 2.1,
          "left": 1.6,
          "middle": 0.2,
          "nominal_axis_value": 2,
          "right": 2.4,
          "species": "setosa",
          "top": 0.3,
          "top_whisker": 0.44999999999999996
         },
         {
          "bottom": 1.2,
          "bottom_whisker": 1,
          "cap_left": 0.9,
          "cap_right": 1.1,
          "left": 0.6,
          "middle": 1.3,
          "nominal_axis_value": 1,
          "right": 1.4,
          "species": "versicolor",
          "top": 1.5,
          "top_whisker": 1.8
         },
         {
          "bottom": 1.8,
          "bottom_whisker": 1.4,
          "cap_left": -0.1,
          "cap_right": 0.1,
          "left": -0.4,
          "middle": 2,
          "nominal_axis_value": 0,
          "right": 0.4,
          "species": "virginica",
          "top": 2.3,
          "top_whisker": 2.5
         }
        ],
        "data-bd2e5f68a2fbb4c31768a053952bd583": [
         {
          "__jitter": 0,
          "petal width (cm)": 0,
          "text": "virginica"
         },
         {
          "__jitter": 1,
          "petal width (cm)": 0,
          "text": "versicolor"
         },
         {
          "__jitter": 2,
          "petal width (cm)": 0,
          "text": "setosa"
         }
        ],
        "data-f60c3e790d2280fe0b3881a34783ba5b": [
         {
          "__jitter": 1.8168326256427565,
          "petal length (cm)": 1.4,
          "petal width (cm)": 0.2,
          "sepal length (cm)": 5.1,
          "sepal width (cm)": 3.5,
          "species": "setosa"
         },
         {
          "__jitter": 2.1934504796924994,
          "petal length (cm)": 1.4,
          "petal width (cm)": 0.2,
          "sepal length (cm)": 4.9,
          "sepal width (cm)": 3,
          "species": "setosa"
         },
         {
          "__jitter": 2.073876766106645,
          "petal length (cm)": 1.3,
          "petal width (cm)": 0.2,
          "sepal length (cm)": 4.7,
          "sepal width (cm)": 3.2,
          "species": "setosa"
         },
         {
          "__jitter": 1.934555312273464,
          "petal length (cm)": 1.5,
          "petal width (cm)": 0.2,
          "sepal length (cm)": 4.6,
          "sepal width (cm)": 3.1,
          "species": "setosa"
         },
         {
          "__jitter": 2.100994510462005,
          "petal length (cm)": 1.4,
          "petal width (cm)": 0.2,
          "sepal length (cm)": 5,
          "sepal width (cm)": 3.6,
          "species": "setosa"
         },
         {
          "__jitter": 1.9429585787541106,
          "petal length (cm)": 1.7,
          "petal width (cm)": 0.4,
          "sepal length (cm)": 5.4,
          "sepal width (cm)": 3.9,
          "species": "setosa"
         },
         {
          "__jitter": 1.8179367165111233,
          "petal length (cm)": 1.4,
          "petal width (cm)": 0.3,
          "sepal length (cm)": 4.6,
          "sepal width (cm)": 3.4,
          "species": "setosa"
         },
         {
          "__jitter": 2.1989799323167305,
          "petal length (cm)": 1.5,
          "petal width (cm)": 0.2,
          "sepal length (cm)": 5,
          "sepal width (cm)": 3.4,
          "species": "setosa"
         },
         {
          "__jitter": 1.9957919619486533,
          "petal length (cm)": 1.4,
          "petal width (cm)": 0.2,
          "sepal length (cm)": 4.4,
          "sepal width (cm)": 2.9,
          "species": "setosa"
         },
         {
          "__jitter": 2.121027513870536,
          "petal length (cm)": 1.5,
          "petal width (cm)": 0.1,
          "sepal length (cm)": 4.9,
          "sepal width (cm)": 3.1,
          "species": "setosa"
         },
         {
          "__jitter": 2.10494263827316,
          "petal length (cm)": 1.5,
          "petal width (cm)": 0.2,
          "sepal length (cm)": 5.4,
          "sepal width (cm)": 3.7,
          "species": "setosa"
         },
         {
          "__jitter": 1.8571732960162954,
          "petal length (cm)": 1.6,
          "petal width (cm)": 0.2,
          "sepal length (cm)": 4.8,
          "sepal width (cm)": 3.4,
          "species": "setosa"
         },
         {
          "__jitter": 2.006056955672452,
          "petal length (cm)": 1.4,
          "petal width (cm)": 0.1,
          "sepal length (cm)": 4.8,
          "sepal width (cm)": 3,
          "species": "setosa"
         },
         {
          "__jitter": 2.190124797449014,
          "petal length (cm)": 1.1,
          "petal width (cm)": 0.1,
          "sepal length (cm)": 4.3,
          "sepal width (cm)": 3,
          "species": "setosa"
         },
         {
          "__jitter": 2.1544300029424153,
          "petal length (cm)": 1.2,
          "petal width (cm)": 0.2,
          "sepal length (cm)": 5.8,
          "sepal width (cm)": 4,
          "species": "setosa"
         },
         {
          "__jitter": 1.861350439554968,
          "petal length (cm)": 1.5,
          "petal width (cm)": 0.4,
          "sepal length (cm)": 5.7,
          "sepal width (cm)": 4.4,
          "species": "setosa"
         },
         {
          "__jitter": 2.068748181275011,
          "petal length (cm)": 1.3,
          "petal width (cm)": 0.4,
          "sepal length (cm)": 5.4,
          "sepal width (cm)": 3.9,
          "species": "setosa"
         },
         {
          "__jitter": 2.041794408415423,
          "petal length (cm)": 1.4,
          "petal width (cm)": 0.3,
          "sepal length (cm)": 5.1,
          "sepal width (cm)": 3.5,
          "species": "setosa"
         },
         {
          "__jitter": 1.8842444022439488,
          "petal length (cm)": 1.7,
          "petal width (cm)": 0.3,
          "sepal length (cm)": 5.7,
          "sepal width (cm)": 3.8,
          "species": "setosa"
         },
         {
          "__jitter": 1.991421819211413,
          "petal length (cm)": 1.5,
          "petal width (cm)": 0.3,
          "sepal length (cm)": 5.1,
          "sepal width (cm)": 3.8,
          "species": "setosa"
         },
         {
          "__jitter": 1.9783302345178857,
          "petal length (cm)": 1.7,
          "petal width (cm)": 0.2,
          "sepal length (cm)": 5.4,
          "sepal width (cm)": 3.4,
          "species": "setosa"
         },
         {
          "__jitter": 2.0266274606988945,
          "petal length (cm)": 1.5,
          "petal width (cm)": 0.4,
          "sepal length (cm)": 5.1,
          "sepal width (cm)": 3.7,
          "species": "setosa"
         },
         {
          "__jitter": 2.0979357118959867,
          "petal length (cm)": 1,
          "petal width (cm)": 0.2,
          "sepal length (cm)": 4.6,
          "sepal width (cm)": 3.6,
          "species": "setosa"
         },
         {
          "__jitter": 2.0618701119380467,
          "petal length (cm)": 1.7,
          "petal width (cm)": 0.5,
          "sepal length (cm)": 5.1,
          "sepal width (cm)": 3.3,
          "species": "setosa"
         },
         {
          "__jitter": 2.1851977622707883,
          "petal length (cm)": 1.9,
          "petal width (cm)": 0.2,
          "sepal length (cm)": 4.8,
          "sepal width (cm)": 3.4,
          "species": "setosa"
         },
         {
          "__jitter": 2.1142837792858624,
          "petal length (cm)": 1.6,
          "petal width (cm)": 0.2,
          "sepal length (cm)": 5,
          "sepal width (cm)": 3,
          "species": "setosa"
         },
         {
          "__jitter": 1.8267033914094946,
          "petal length (cm)": 1.6,
          "petal width (cm)": 0.4,
          "sepal length (cm)": 5,
          "sepal width (cm)": 3.4,
          "species": "setosa"
         },
         {
          "__jitter": 1.8230782671415644,
          "petal length (cm)": 1.5,
          "petal width (cm)": 0.2,
          "sepal length (cm)": 5.2,
          "sepal width (cm)": 3.5,
          "species": "setosa"
         },
         {
          "__jitter": 2.1351914736155786,
          "petal length (cm)": 1.4,
          "petal width (cm)": 0.2,
          "sepal length (cm)": 5.2,
          "sepal width (cm)": 3.4,
          "species": "setosa"
         },
         {
          "__jitter": 2.1387470766433623,
          "petal length (cm)": 1.6,
          "petal width (cm)": 0.2,
          "sepal length (cm)": 4.7,
          "sepal width (cm)": 3.2,
          "species": "setosa"
         },
         {
          "__jitter": 1.8114785715864983,
          "petal length (cm)": 1.6,
          "petal width (cm)": 0.2,
          "sepal length (cm)": 4.8,
          "sepal width (cm)": 3.1,
          "species": "setosa"
         },
         {
          "__jitter": 2.14992127195018,
          "petal length (cm)": 1.5,
          "petal width (cm)": 0.4,
          "sepal length (cm)": 5.4,
          "sepal width (cm)": 3.4,
          "species": "setosa"
         },
         {
          "__jitter": 2.1032194161975757,
          "petal length (cm)": 1.5,
          "petal width (cm)": 0.1,
          "sepal length (cm)": 5.2,
          "sepal width (cm)": 4.1,
          "species": "setosa"
         },
         {
          "__jitter": 2.117763441167604,
          "petal length (cm)": 1.4,
          "petal width (cm)": 0.2,
          "sepal length (cm)": 5.5,
          "sepal width (cm)": 4.2,
          "species": "setosa"
         },
         {
          "__jitter": 1.8098481817656582,
          "petal length (cm)": 1.5,
          "petal width (cm)": 0.1,
          "sepal length (cm)": 4.9,
          "sepal width (cm)": 3.1,
          "species": "setosa"
         },
         {
          "__jitter": 2.159126485048742,
          "petal length (cm)": 1.2,
          "petal width (cm)": 0.2,
          "sepal length (cm)": 5,
          "sepal width (cm)": 3.2,
          "species": "setosa"
         },
         {
          "__jitter": 1.9245318419446382,
          "petal length (cm)": 1.3,
          "petal width (cm)": 0.2,
          "sepal length (cm)": 5.5,
          "sepal width (cm)": 3.5,
          "species": "setosa"
         },
         {
          "__jitter": 2.1024194445305957,
          "petal length (cm)": 1.5,
          "petal width (cm)": 0.1,
          "sepal length (cm)": 4.9,
          "sepal width (cm)": 3.1,
          "species": "setosa"
         },
         {
          "__jitter": 1.8970531666243322,
          "petal length (cm)": 1.3,
          "petal width (cm)": 0.2,
          "sepal length (cm)": 4.4,
          "sepal width (cm)": 3,
          "species": "setosa"
         },
         {
          "__jitter": 2.0461596128143924,
          "petal length (cm)": 1.5,
          "petal width (cm)": 0.2,
          "sepal length (cm)": 5.1,
          "sepal width (cm)": 3.4,
          "species": "setosa"
         },
         {
          "__jitter": 2.009002987354118,
          "petal length (cm)": 1.3,
          "petal width (cm)": 0.3,
          "sepal length (cm)": 5,
          "sepal width (cm)": 3.5,
          "species": "setosa"
         },
         {
          "__jitter": 1.9269156982180136,
          "petal length (cm)": 1.3,
          "petal width (cm)": 0.3,
          "sepal length (cm)": 4.5,
          "sepal width (cm)": 2.3,
          "species": "setosa"
         },
         {
          "__jitter": 2.055581434908846,
          "petal length (cm)": 1.3,
          "petal width (cm)": 0.2,
          "sepal length (cm)": 4.4,
          "sepal width (cm)": 3.2,
          "species": "setosa"
         },
         {
          "__jitter": 1.9095039344518292,
          "petal length (cm)": 1.6,
          "petal width (cm)": 0.6,
          "sepal length (cm)": 5,
          "sepal width (cm)": 3.5,
          "species": "setosa"
         },
         {
          "__jitter": 1.8551907563340533,
          "petal length (cm)": 1.9,
          "petal width (cm)": 0.4,
          "sepal length (cm)": 5.1,
          "sepal width (cm)": 3.8,
          "species": "setosa"
         },
         {
          "__jitter": 1.8169833120573655,
          "petal length (cm)": 1.4,
          "petal width (cm)": 0.3,
          "sepal length (cm)": 4.8,
          "sepal width (cm)": 3,
          "species": "setosa"
         },
         {
          "__jitter": 2.09754730904728,
          "petal length (cm)": 1.6,
          "petal width (cm)": 0.2,
          "sepal length (cm)": 5.1,
          "sepal width (cm)": 3.8,
          "species": "setosa"
         },
         {
          "__jitter": 1.8065934348554267,
          "petal length (cm)": 1.4,
          "petal width (cm)": 0.2,
          "sepal length (cm)": 4.6,
          "sepal width (cm)": 3.2,
          "species": "setosa"
         },
         {
          "__jitter": 1.9487698203904273,
          "petal length (cm)": 1.5,
          "petal width (cm)": 0.2,
          "sepal length (cm)": 5.3,
          "sepal width (cm)": 3.7,
          "species": "setosa"
         },
         {
          "__jitter": 1.8634157332825199,
          "petal length (cm)": 1.4,
          "petal width (cm)": 0.2,
          "sepal length (cm)": 5,
          "sepal width (cm)": 3.3,
          "species": "setosa"
         },
         {
          "__jitter": 0.8389587883372267,
          "petal length (cm)": 4.7,
          "petal width (cm)": 1.4,
          "sepal length (cm)": 7,
          "sepal width (cm)": 3.2,
          "species": "versicolor"
         },
         {
          "__jitter": 0.8472722899689289,
          "petal length (cm)": 4.5,
          "petal width (cm)": 1.5,
          "sepal length (cm)": 6.4,
          "sepal width (cm)": 3.2,
          "species": "versicolor"
         },
         {
          "__jitter": 1.0926506689142004,
          "petal length (cm)": 4.9,
          "petal width (cm)": 1.5,
          "sepal length (cm)": 6.9,
          "sepal width (cm)": 3.1,
          "species": "versicolor"
         },
         {
          "__jitter": 1.0629581602257594,
          "petal length (cm)": 4,
          "petal width (cm)": 1.3,
          "sepal length (cm)": 5.5,
          "sepal width (cm)": 2.3,
          "species": "versicolor"
         },
         {
          "__jitter": 1.10489292342916,
          "petal length (cm)": 4.6,
          "petal width (cm)": 1.5,
          "sepal length (cm)": 6.5,
          "sepal width (cm)": 2.8,
          "species": "versicolor"
         },
         {
          "__jitter": 1.1675501493189078,
          "petal length (cm)": 4.5,
          "petal width (cm)": 1.3,
          "sepal length (cm)": 5.7,
          "sepal width (cm)": 2.8,
          "species": "versicolor"
         },
         {
          "__jitter": 0.8191607502447787,
          "petal length (cm)": 4.7,
          "petal width (cm)": 1.6,
          "sepal length (cm)": 6.3,
          "sepal width (cm)": 3.3,
          "species": "versicolor"
         },
         {
          "__jitter": 1.099249136570294,
          "petal length (cm)": 3.3,
          "petal width (cm)": 1,
          "sepal length (cm)": 4.9,
          "sepal width (cm)": 2.4,
          "species": "versicolor"
         },
         {
          "__jitter": 1.0049412615170117,
          "petal length (cm)": 4.6,
          "petal width (cm)": 1.3,
          "sepal length (cm)": 6.6,
          "sepal width (cm)": 2.9,
          "species": "versicolor"
         },
         {
          "__jitter": 0.9411441563390872,
          "petal length (cm)": 3.9,
          "petal width (cm)": 1.4,
          "sepal length (cm)": 5.2,
          "sepal width (cm)": 2.7,
          "species": "versicolor"
         },
         {
          "__jitter": 1.118704105475521,
          "petal length (cm)": 3.5,
          "petal width (cm)": 1,
          "sepal length (cm)": 5,
          "sepal width (cm)": 2,
          "species": "versicolor"
         },
         {
          "__jitter": 0.9754134484919458,
          "petal length (cm)": 4.2,
          "petal width (cm)": 1.5,
          "sepal length (cm)": 5.9,
          "sepal width (cm)": 3,
          "species": "versicolor"
         },
         {
          "__jitter": 1.0633687896386257,
          "petal length (cm)": 4,
          "petal width (cm)": 1,
          "sepal length (cm)": 6,
          "sepal width (cm)": 2.2,
          "species": "versicolor"
         },
         {
          "__jitter": 1.1284890259024674,
          "petal length (cm)": 4.7,
          "petal width (cm)": 1.4,
          "sepal length (cm)": 6.1,
          "sepal width (cm)": 2.9,
          "species": "versicolor"
         },
         {
          "__jitter": 0.8146603885340661,
          "petal length (cm)": 3.6,
          "petal width (cm)": 1.3,
          "sepal length (cm)": 5.6,
          "sepal width (cm)": 2.9,
          "species": "versicolor"
         },
         {
          "__jitter": 1.0076473525826728,
          "petal length (cm)": 4.4,
          "petal width (cm)": 1.4,
          "sepal length (cm)": 6.7,
          "sepal width (cm)": 3.1,
          "species": "versicolor"
         },
         {
          "__jitter": 0.9859380699012698,
          "petal length (cm)": 4.5,
          "petal width (cm)": 1.5,
          "sepal length (cm)": 5.6,
          "sepal width (cm)": 3,
          "species": "versicolor"
         },
         {
          "__jitter": 0.980729962969885,
          "petal length (cm)": 4.1,
          "petal width (cm)": 1,
          "sepal length (cm)": 5.8,
          "sepal width (cm)": 2.7,
          "species": "versicolor"
         },
         {
          "__jitter": 0.9814176243385013,
          "petal length (cm)": 4.5,
          "petal width (cm)": 1.5,
          "sepal length (cm)": 6.2,
          "sepal width (cm)": 2.2,
          "species": "versicolor"
         },
         {
          "__jitter": 1.1841114654586689,
          "petal length (cm)": 3.9,
          "petal width (cm)": 1.1,
          "sepal length (cm)": 5.6,
          "sepal width (cm)": 2.5,
          "species": "versicolor"
         },
         {
          "__jitter": 0.9367831799890393,
          "petal length (cm)": 4.8,
          "petal width (cm)": 1.8,
          "sepal length (cm)": 5.9,
          "sepal width (cm)": 3.2,
          "species": "versicolor"
         },
         {
          "__jitter": 0.8532771741566406,
          "petal length (cm)": 4,
          "petal width (cm)": 1.3,
          "sepal length (cm)": 6.1,
          "sepal width (cm)": 2.8,
          "species": "versicolor"
         },
         {
          "__jitter": 0.8510149396327275,
          "petal length (cm)": 4.9,
          "petal width (cm)": 1.5,
          "sepal length (cm)": 6.3,
          "sepal width (cm)": 2.5,
          "species": "versicolor"
         },
         {
          "__jitter": 0.8188247748210558,
          "petal length (cm)": 4.7,
          "petal width (cm)": 1.2,
          "sepal length (cm)": 6.1,
          "sepal width (cm)": 2.8,
          "species": "versicolor"
         },
         {
          "__jitter": 0.8378394857585754,
          "petal length (cm)": 4.3,
          "petal width (cm)": 1.3,
          "sepal length (cm)": 6.4,
          "sepal width (cm)": 2.9,
          "species": "versicolor"
         },
         {
          "__jitter": 1.1161668783296712,
          "petal length (cm)": 4.4,
          "petal width (cm)": 1.4,
          "sepal length (cm)": 6.6,
          "sepal width (cm)": 3,
          "species": "versicolor"
         },
         {
          "__jitter": 1.127289829359194,
          "petal length (cm)": 4.8,
          "petal width (cm)": 1.4,
          "sepal length (cm)": 6.8,
          "sepal width (cm)": 2.8,
          "species": "versicolor"
         },
         {
          "__jitter": 0.8866006720217048,
          "petal length (cm)": 5,
          "petal width (cm)": 1.7,
          "sepal length (cm)": 6.7,
          "sepal width (cm)": 3,
          "species": "versicolor"
         },
         {
          "__jitter": 1.1070399333550487,
          "petal length (cm)": 4.5,
          "petal width (cm)": 1.5,
          "sepal length (cm)": 6,
          "sepal width (cm)": 2.9,
          "species": "versicolor"
         },
         {
          "__jitter": 1.124726117085857,
          "petal length (cm)": 3.5,
          "petal width (cm)": 1,
          "sepal length (cm)": 5.7,
          "sepal width (cm)": 2.6,
          "species": "versicolor"
         },
         {
          "__jitter": 1.0990368996907582,
          "petal length (cm)": 3.8,
          "petal width (cm)": 1.1,
          "sepal length (cm)": 5.5,
          "sepal width (cm)": 2.4,
          "species": "versicolor"
         },
         {
          "__jitter": 1.034365598670623,
          "petal length (cm)": 3.7,
          "petal width (cm)": 1,
          "sepal length (cm)": 5.5,
          "sepal width (cm)": 2.4,
          "species": "versicolor"
         },
         {
          "__jitter": 1.012510385883305,
          "petal length (cm)": 3.9,
          "petal width (cm)": 1.2,
          "sepal length (cm)": 5.8,
          "sepal width (cm)": 2.7,
          "species": "versicolor"
         },
         {
          "__jitter": 0.834740518461378,
          "petal length (cm)": 5.1,
          "petal width (cm)": 1.6,
          "sepal length (cm)": 6,
          "sepal width (cm)": 2.7,
          "species": "versicolor"
         },
         {
          "__jitter": 0.8656442156333705,
          "petal length (cm)": 4.5,
          "petal width (cm)": 1.5,
          "sepal length (cm)": 5.4,
          "sepal width (cm)": 3,
          "species": "versicolor"
         },
         {
          "__jitter": 0.8815585658975142,
          "petal length (cm)": 4.5,
          "petal width (cm)": 1.6,
          "sepal length (cm)": 6,
          "sepal width (cm)": 3.4,
          "species": "versicolor"
         },
         {
          "__jitter": 0.8824152170837877,
          "petal length (cm)": 4.7,
          "petal width (cm)": 1.5,
          "sepal length (cm)": 6.7,
          "sepal width (cm)": 3.1,
          "species": "versicolor"
         },
         {
          "__jitter": 1.1103293664128073,
          "petal length (cm)": 4.4,
          "petal width (cm)": 1.3,
          "sepal length (cm)": 6.3,
          "sepal width (cm)": 2.3,
          "species": "versicolor"
         },
         {
          "__jitter": 0.8304694664720714,
          "petal length (cm)": 4.1,
          "petal width (cm)": 1.3,
          "sepal length (cm)": 5.6,
          "sepal width (cm)": 3,
          "species": "versicolor"
         },
         {
          "__jitter": 1.0431674577222092,
          "petal length (cm)": 4,
          "petal width (cm)": 1.3,
          "sepal length (cm)": 5.5,
          "sepal width (cm)": 2.5,
          "species": "versicolor"
         },
         {
          "__jitter": 1.186823309738241,
          "petal length (cm)": 4.4,
          "petal width (cm)": 1.2,
          "sepal length (cm)": 5.5,
          "sepal width (cm)": 2.6,
          "species": "versicolor"
         },
         {
          "__jitter": 0.8449619280584038,
          "petal length (cm)": 4.6,
          "petal width (cm)": 1.4,
          "sepal length (cm)": 6.1,
          "sepal width (cm)": 3,
          "species": "versicolor"
         },
         {
          "__jitter": 0.9954543051473731,
          "petal length (cm)": 4,
          "petal width (cm)": 1.2,
          "sepal length (cm)": 5.8,
          "sepal width (cm)": 2.6,
          "species": "versicolor"
         },
         {
          "__jitter": 0.850028681879561,
          "petal length (cm)": 3.3,
          "petal width (cm)": 1,
          "sepal length (cm)": 5,
          "sepal width (cm)": 2.3,
          "species": "versicolor"
         },
         {
          "__jitter": 0.8020331697660595,
          "petal length (cm)": 4.2,
          "petal width (cm)": 1.3,
          "sepal length (cm)": 5.6,
          "sepal width (cm)": 2.7,
          "species": "versicolor"
         },
         {
          "__jitter": 0.8349324878981823,
          "petal length (cm)": 4.2,
          "petal width (cm)": 1.2,
          "sepal length (cm)": 5.7,
          "sepal width (cm)": 3,
          "species": "versicolor"
         },
         {
          "__jitter": 1.0567648320133194,
          "petal length (cm)": 4.2,
          "petal width (cm)": 1.3,
          "sepal length (cm)": 5.7,
          "sepal width (cm)": 2.9,
          "species": "versicolor"
         },
         {
          "__jitter": 0.8246261525337735,
          "petal length (cm)": 4.3,
          "petal width (cm)": 1.3,
          "sepal length (cm)": 6.2,
          "sepal width (cm)": 2.9,
          "species": "versicolor"
         },
         {
          "__jitter": 0.9052601045935731,
          "petal length (cm)": 3,
          "petal width (cm)": 1.1,
          "sepal length (cm)": 5.1,
          "sepal width (cm)": 2.5,
          "species": "versicolor"
         },
         {
          "__jitter": 1.1503345544036883,
          "petal length (cm)": 4.1,
          "petal width (cm)": 1.3,
          "sepal length (cm)": 5.7,
          "sepal width (cm)": 2.8,
          "species": "versicolor"
         },
         {
          "__jitter": -0.1981533936950929,
          "petal length (cm)": 6,
          "petal width (cm)": 2.5,
          "sepal length (cm)": 6.3,
          "sepal width (cm)": 3.3,
          "species": "virginica"
         },
         {
          "__jitter": -0.10185168894809471,
          "petal length (cm)": 5.1,
          "petal width (cm)": 1.9,
          "sepal length (cm)": 5.8,
          "sepal width (cm)": 2.7,
          "species": "virginica"
         },
         {
          "__jitter": -0.06946377353281438,
          "petal length (cm)": 5.9,
          "petal width (cm)": 2.1,
          "sepal length (cm)": 7.1,
          "sepal width (cm)": 3,
          "species": "virginica"
         },
         {
          "__jitter": 0.12764848232290477,
          "petal length (cm)": 5.6,
          "petal width (cm)": 1.8,
          "sepal length (cm)": 6.3,
          "sepal width (cm)": 2.9,
          "species": "virginica"
         },
         {
          "__jitter": 0.11700078109458123,
          "petal length (cm)": 5.8,
          "petal width (cm)": 2.2,
          "sepal length (cm)": 6.5,
          "sepal width (cm)": 3,
          "species": "virginica"
         },
         {
          "__jitter": 0.13536938021290995,
          "petal length (cm)": 6.6,
          "petal width (cm)": 2.1,
          "sepal length (cm)": 7.6,
          "sepal width (cm)": 3,
          "species": "virginica"
         },
         {
          "__jitter": -0.10141382655618143,
          "petal length (cm)": 4.5,
          "petal width (cm)": 1.7,
          "sepal length (cm)": 4.9,
          "sepal width (cm)": 2.5,
          "species": "virginica"
         },
         {
          "__jitter": 0.041309496613008145,
          "petal length (cm)": 6.3,
          "petal width (cm)": 1.8,
          "sepal length (cm)": 7.3,
          "sepal width (cm)": 2.9,
          "species": "virginica"
         },
         {
          "__jitter": -0.12368181421652005,
          "petal length (cm)": 5.8,
          "petal width (cm)": 1.8,
          "sepal length (cm)": 6.7,
          "sepal width (cm)": 2.5,
          "species": "virginica"
         },
         {
          "__jitter": -0.11752127708723692,
          "petal length (cm)": 6.1,
          "petal width (cm)": 2.5,
          "sepal length (cm)": 7.2,
          "sepal width (cm)": 3.6,
          "species": "virginica"
         },
         {
          "__jitter": 0.06179533641745494,
          "petal length (cm)": 5.1,
          "petal width (cm)": 2,
          "sepal length (cm)": 6.5,
          "sepal width (cm)": 3.2,
          "species": "virginica"
         },
         {
          "__jitter": -0.19522254644198128,
          "petal length (cm)": 5.3,
          "petal width (cm)": 1.9,
          "sepal length (cm)": 6.4,
          "sepal width (cm)": 2.7,
          "species": "virginica"
         },
         {
          "__jitter": 0.0334897629298217,
          "petal length (cm)": 5.5,
          "petal width (cm)": 2.1,
          "sepal length (cm)": 6.8,
          "sepal width (cm)": 3,
          "species": "virginica"
         },
         {
          "__jitter": 0.08355086535146045,
          "petal length (cm)": 5,
          "petal width (cm)": 2,
          "sepal length (cm)": 5.7,
          "sepal width (cm)": 2.5,
          "species": "virginica"
         },
         {
          "__jitter": 0.126367042221116,
          "petal length (cm)": 5.1,
          "petal width (cm)": 2.4,
          "sepal length (cm)": 5.8,
          "sepal width (cm)": 2.8,
          "species": "virginica"
         },
         {
          "__jitter": 0.19864567671214484,
          "petal length (cm)": 5.3,
          "petal width (cm)": 2.3,
          "sepal length (cm)": 6.4,
          "sepal width (cm)": 3.2,
          "species": "virginica"
         },
         {
          "__jitter": 0.14433804573647968,
          "petal length (cm)": 5.5,
          "petal width (cm)": 1.8,
          "sepal length (cm)": 6.5,
          "sepal width (cm)": 3,
          "species": "virginica"
         },
         {
          "__jitter": -0.02270097433170956,
          "petal length (cm)": 6.7,
          "petal width (cm)": 2.2,
          "sepal length (cm)": 7.7,
          "sepal width (cm)": 3.8,
          "species": "virginica"
         },
         {
          "__jitter": -0.02818270243900481,
          "petal length (cm)": 6.9,
          "petal width (cm)": 2.3,
          "sepal length (cm)": 7.7,
          "sepal width (cm)": 2.6,
          "species": "virginica"
         },
         {
          "__jitter": 0.11222176715175158,
          "petal length (cm)": 5,
          "petal width (cm)": 1.5,
          "sepal length (cm)": 6,
          "sepal width (cm)": 2.2,
          "species": "virginica"
         },
         {
          "__jitter": -0.09152504602242134,
          "petal length (cm)": 5.7,
          "petal width (cm)": 2.3,
          "sepal length (cm)": 6.9,
          "sepal width (cm)": 3.2,
          "species": "virginica"
         },
         {
          "__jitter": 0.05499475916035468,
          "petal length (cm)": 4.9,
          "petal width (cm)": 2,
          "sepal length (cm)": 5.6,
          "sepal width (cm)": 2.8,
          "species": "virginica"
         },
         {
          "__jitter": -0.1413010540192835,
          "petal length (cm)": 6.7,
          "petal width (cm)": 2,
          "sepal length (cm)": 7.7,
          "sepal width (cm)": 2.8,
          "species": "virginica"
         },
         {
          "__jitter": 0.021461688612872953,
          "petal length (cm)": 4.9,
          "petal width (cm)": 1.8,
          "sepal length (cm)": 6.3,
          "sepal width (cm)": 2.7,
          "species": "virginica"
         },
         {
          "__jitter": -0.07060797035876334,
          "petal length (cm)": 5.7,
          "petal width (cm)": 2.1,
          "sepal length (cm)": 6.7,
          "sepal width (cm)": 3.3,
          "species": "virginica"
         },
         {
          "__jitter": -0.14584025967782616,
          "petal length (cm)": 6,
          "petal width (cm)": 1.8,
          "sepal length (cm)": 7.2,
          "sepal width (cm)": 3.2,
          "species": "virginica"
         },
         {
          "__jitter": -0.17691735430009234,
          "petal length (cm)": 4.8,
          "petal width (cm)": 1.8,
          "sepal length (cm)": 6.2,
          "sepal width (cm)": 2.8,
          "species": "virginica"
         },
         {
          "__jitter": -0.1715633443782878,
          "petal length (cm)": 4.9,
          "petal width (cm)": 1.8,
          "sepal length (cm)": 6.1,
          "sepal width (cm)": 3,
          "species": "virginica"
         },
         {
          "__jitter": 0.17205635275629305,
          "petal length (cm)": 5.6,
          "petal width (cm)": 2.1,
          "sepal length (cm)": 6.4,
          "sepal width (cm)": 2.8,
          "species": "virginica"
         },
         {
          "__jitter": -0.18715385176578903,
          "petal length (cm)": 5.8,
          "petal width (cm)": 1.6,
          "sepal length (cm)": 7.2,
          "sepal width (cm)": 3,
          "species": "virginica"
         },
         {
          "__jitter": 0.04347629243095877,
          "petal length (cm)": 6.1,
          "petal width (cm)": 1.9,
          "sepal length (cm)": 7.4,
          "sepal width (cm)": 2.8,
          "species": "virginica"
         },
         {
          "__jitter": -0.022913775139615622,
          "petal length (cm)": 6.4,
          "petal width (cm)": 2,
          "sepal length (cm)": 7.9,
          "sepal width (cm)": 3.8,
          "species": "virginica"
         },
         {
          "__jitter": -0.04471568744326976,
          "petal length (cm)": 5.6,
          "petal width (cm)": 2.2,
          "sepal length (cm)": 6.4,
          "sepal width (cm)": 2.8,
          "species": "virginica"
         },
         {
          "__jitter": 0.0659614674539643,
          "petal length (cm)": 5.1,
          "petal width (cm)": 1.5,
          "sepal length (cm)": 6.3,
          "sepal width (cm)": 2.8,
          "species": "virginica"
         },
         {
          "__jitter": -0.13759312910114252,
          "petal length (cm)": 5.6,
          "petal width (cm)": 1.4,
          "sepal length (cm)": 6.1,
          "sepal width (cm)": 2.6,
          "species": "virginica"
         },
         {
          "__jitter": 0.04350488166676572,
          "petal length (cm)": 6.1,
          "petal width (cm)": 2.3,
          "sepal length (cm)": 7.7,
          "sepal width (cm)": 3,
          "species": "virginica"
         },
         {
          "__jitter": 0.061349212477907256,
          "petal length (cm)": 5.6,
          "petal width (cm)": 2.4,
          "sepal length (cm)": 6.3,
          "sepal width (cm)": 3.4,
          "species": "virginica"
         },
         {
          "__jitter": -0.02689487579147362,
          "petal length (cm)": 5.5,
          "petal width (cm)": 1.8,
          "sepal length (cm)": 6.4,
          "sepal width (cm)": 3.1,
          "species": "virginica"
         },
         {
          "__jitter": 0.14749421041400906,
          "petal length (cm)": 4.8,
          "petal width (cm)": 1.8,
          "sepal length (cm)": 6,
          "sepal width (cm)": 3,
          "species": "virginica"
         },
         {
          "__jitter": 0.1184786592977618,
          "petal length (cm)": 5.4,
          "petal width (cm)": 2.1,
          "sepal length (cm)": 6.9,
          "sepal width (cm)": 3.1,
          "species": "virginica"
         },
         {
          "__jitter": 0.07336738564430784,
          "petal length (cm)": 5.6,
          "petal width (cm)": 2.4,
          "sepal length (cm)": 6.7,
          "sepal width (cm)": 3.1,
          "species": "virginica"
         },
         {
          "__jitter": -0.0012285610766165078,
          "petal length (cm)": 5.1,
          "petal width (cm)": 2.3,
          "sepal length (cm)": 6.9,
          "sepal width (cm)": 3.1,
          "species": "virginica"
         },
         {
          "__jitter": -0.03601137640137511,
          "petal length (cm)": 5.1,
          "petal width (cm)": 1.9,
          "sepal length (cm)": 5.8,
          "sepal width (cm)": 2.7,
          "species": "virginica"
         },
         {
          "__jitter": -0.15483761783316316,
          "petal length (cm)": 5.9,
          "petal width (cm)": 2.3,
          "sepal length (cm)": 6.8,
          "sepal width (cm)": 3.2,
          "species": "virginica"
         },
         {
          "__jitter": -0.0782463246248474,
          "petal length (cm)": 5.7,
          "petal width (cm)": 2.5,
          "sepal length (cm)": 6.7,
          "sepal width (cm)": 3.3,
          "species": "virginica"
         },
         {
          "__jitter": -0.15474396935382584,
          "petal length (cm)": 5.2,
          "petal width (cm)": 2.3,
          "sepal length (cm)": 6.7,
          "sepal width (cm)": 3,
          "species": "virginica"
         },
         {
          "__jitter": -0.19283827637587003,
          "petal length (cm)": 5,
          "petal width (cm)": 1.9,
          "sepal length (cm)": 6.3,
          "sepal width (cm)": 2.5,
          "species": "virginica"
         },
         {
          "__jitter": -0.07259908852736552,
          "petal length (cm)": 5.2,
          "petal width (cm)": 2,
          "sepal length (cm)": 6.5,
          "sepal width (cm)": 3,
          "species": "virginica"
         },
         {
          "__jitter": -0.09355450959206349,
          "petal length (cm)": 5.4,
          "petal width (cm)": 2.3,
          "sepal length (cm)": 6.2,
          "sepal width (cm)": 3.4,
          "species": "virginica"
         },
         {
          "__jitter": -0.19398205162818077,
          "petal length (cm)": 5.1,
          "petal width (cm)": 1.8,
          "sepal length (cm)": 5.9,
          "sepal width (cm)": 3,
          "species": "virginica"
         }
        ]
       },
       "layer": [
        {
         "layer": [
          {
           "data": {
            "name": "data-720b6bc688e2da72c566cb488e03aad8"
           },
           "encoding": {
            "x": {
             "field": "bottom_whisker",
             "title": "petal width (cm)",
             "type": "quantitative"
            },
            "x2": {
             "field": "bottom",
             "type": "quantitative"
            },
            "y": {
             "field": "nominal_axis_value",
             "scale": {},
             "title": null,
             "type": "quantitative"
            }
           },
           "height": 250,
           "mark": {
            "color": "lightgray",
            "opacity": 1,
            "type": "rule"
           },
           "width": 450
          },
          {
           "data": {
            "name": "data-720b6bc688e2da72c566cb488e03aad8"
           },
           "encoding": {
            "x": {
             "field": "top",
             "title": "petal width (cm)",
             "type": "quantitative"
            },
            "x2": {
             "field": "top_whisker",
             "type": "quantitative"
            },
            "y": {
             "field": "nominal_axis_value",
             "scale": {},
             "title": null,
             "type": "quantitative"
            }
           },
           "height": 250,
           "mark": {
            "color": "lightgray",
            "opacity": 1,
            "type": "rule"
           },
           "width": 450
          },
          {
           "data": {
            "name": "data-720b6bc688e2da72c566cb488e03aad8"
           },
           "encoding": {
            "x": {
             "field": "bottom",
             "title": "petal width (cm)",
             "type": "quantitative"
            },
            "x2": {
             "field": "top",
             "type": "quantitative"
            },
            "y": {
             "field": "left",
             "scale": {},
             "title": null,
             "type": "quantitative"
            },
            "y2": {
             "field": "right",
             "type": "quantitative"
            }
           },
           "height": 250,
           "mark": {
            "color": "lightgray",
            "filled": true,
            "size": 0.4,
            "type": "bar"
           },
           "width": 450
          },
          {
           "data": {
            "name": "data-720b6bc688e2da72c566cb488e03aad8"
           },
           "encoding": {
            "x": {
             "field": "middle",
             "title": "petal width (cm)",
             "type": "quantitative"
            },
            "y": {
             "field": "left",
             "scale": {},
             "title": null,
             "type": "quantitative"
            },
            "y2": {
             "field": "right",
             "type": "quantitative"
            }
           },
           "height": 250,
           "mark": {
            "color": "white",
            "opacity": 1,
            "type": "rule"
           },
           "width": 450
          },
          {
           "data": {
            "name": "data-720b6bc688e2da72c566cb488e03aad8"
           },
           "encoding": {
            "x": {
             "field": "bottom_whisker",
             "title": "petal width (cm)",
             "type": "quantitative"
            },
            "y": {
             "field": "cap_left",
             "type": "quantitative"
            },
            "y2": {
             "field": "cap_right",
             "type": "quantitative"
            }
           },
           "height": 250,
           "mark": {
            "color": "lightgray",
            "opacity": 1,
            "type": "rule"
           },
           "width": 450
          },
          {
           "data": {
            "name": "data-720b6bc688e2da72c566cb488e03aad8"
           },
           "encoding": {
            "x": {
             "field": "top_whisker",
             "title": "petal width (cm)",
             "type": "quantitative"
            },
            "y": {
             "field": "cap_left",
             "type": "quantitative"
            },
            "y2": {
             "field": "cap_right",
             "type": "quantitative"
            }
           },
           "height": 250,
           "mark": {
            "color": "lightgray",
            "opacity": 1,
            "type": "rule"
           },
           "width": 450
          }
         ]
        },
        {
         "layer": [
          {
           "data": {
            "name": "data-f60c3e790d2280fe0b3881a34783ba5b"
           },
           "encoding": {
            "color": {
             "field": "species",
             "legend": null,
             "scale": {},
             "type": "nominal"
            },
            "x": {
             "field": "petal width (cm)",
             "title": "petal width (cm)",
             "type": "quantitative"
            },
            "y": {
             "axis": {
              "grid": false,
              "labels": false,
              "title": null,
              "values": [
               0,
               1,
               2
              ]
             },
             "field": "__jitter",
             "type": "quantitative"
            }
           },
           "height": 250,
           "mark": {
            "type": "point"
           },
           "width": 450
          },
          {
           "data": {
            "name": "data-bd2e5f68a2fbb4c31768a053952bd583"
           },
           "encoding": {
            "text": {
             "field": "text",
             "type": "nominal"
            },
            "x": {
             "field": "petal width (cm)",
             "title": "petal width (cm)",
             "type": "quantitative"
            },
            "y": {
             "axis": {
              "grid": false,
              "labels": false,
              "title": null,
              "values": [
               0,
               1,
               2
              ]
             },
             "field": "__jitter",
             "type": "quantitative"
            }
           },
           "height": 250,
           "mark": {
            "align": "right",
            "baseline": "middle",
            "dx": -8,
            "type": "text"
           },
           "width": 450
          }
         ]
        }
       ]
      },
      "image/png": "[encoded data removed]",
      "text/plain": [
       "<VegaLite 2 object>\n",
       "\n",
       "If you see this message, it means the renderer has not been properly enabled\n",
       "for the frontend that you are using. For more information, see\n",
       "https://altair-viz.github.io/user_guide/troubleshooting.html\n"
      ]
     },
     "execution_count": 56,
     "metadata": {},
     "output_type": "execute_result"
    }
   ],
   "source": [
    "# 2b)\n",
    "\n",
    "altcat.catplot(df_tidy,\n",
    "               height=250,\n",
    "               width=450,\n",
    "               mark='point',\n",
    "               encoding=dict(y=alt.Y('species:N', title=None),\n",
    "                             x='petal width (cm):Q',\n",
    "                             color=alt.Color('species:N', legend=None)),\n",
    "               transform='jitterbox'\n",
    "              ).configure_text(\n",
    "                  fontWeight='bold'\n",
    "              )"
   ]
  },
  {
   "cell_type": "markdown",
   "metadata": {},
   "source": [
    "I chose Jitter plot along with box plot so that both all of the data and important summary statistics can be shown in this one fiugre. I assume at the very begining of EDA, we may care more about those more straightforward information rather than more general statistic information like ECDF."
   ]
  },
  {
   "cell_type": "code",
   "execution_count": null,
   "metadata": {},
   "outputs": [],
   "source": []
  }
 ],
 "metadata": {
  "kernelspec": {
   "display_name": "Python 3",
   "language": "python",
   "name": "python3"
  },
  "language_info": {
   "codemirror_mode": {
    "name": "ipython",
    "version": 3
   },
   "file_extension": ".py",
   "mimetype": "text/x-python",
   "name": "python",
   "nbconvert_exporter": "python",
   "pygments_lexer": "ipython3",
   "version": "3.7.0"
  }
 },
 "nbformat": 4,
 "nbformat_minor": 2
}
