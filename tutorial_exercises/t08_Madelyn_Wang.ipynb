{
 "cells": [
  {
   "cell_type": "markdown",
   "metadata": {},
   "source": [
    "# Tutorial 8: exercise\n",
    "\n",
    "(c) 2018 Justin Bois. With the exception of pasted graphics, where the source is noted, this work is licensed under a [Creative Commons Attribution License CC-BY 4.0](https://creativecommons.org/licenses/by/4.0/). All code contained herein is licensed under an [MIT license](https://opensource.org/licenses/MIT).\n",
    "\n",
    "This document was prepared at [Caltech](http://www.caltech.edu) with financial support from the [Donna and Benjamin M. Rosen Bioengineering Center](http://rosen.caltech.edu).\n",
    "\n",
    "<img src=\"caltech_rosen.png\">\n",
    "\n",
    "*This tutorial exercise was generated from an Jupyter notebook.  You can download the notebook [here](t8_exercise.ipynb). Use this downloaded Jupyter notebook to fill out your responses.*"
   ]
  },
  {
   "cell_type": "markdown",
   "metadata": {},
   "source": [
    "### Exercise 1\n",
    "\n",
    "Why is the number of effective independent samples made by a MCMC chain less than the total number of MCMC samples? How can you boost the number of effective independent samples?\n",
    "\n",
    "The number of effective independent samples is less than the total number of samples because each step is dependent on the previous step. You can boost the number of effective independent samples by only taking samples every few steps rather than at every step (thinning)."
   ]
  },
  {
   "cell_type": "markdown",
   "metadata": {},
   "source": [
    "<br />"
   ]
  },
  {
   "cell_type": "markdown",
   "metadata": {},
   "source": [
    "### Exercise 2\n",
    "\n",
    "How can locations of divergences be used to diagnose potential problems with the sampler?\n",
    "\n",
    "We can see at what kinds of parameter values the sampler is having trouble sampling."
   ]
  },
  {
   "cell_type": "markdown",
   "metadata": {},
   "source": [
    "<br />"
   ]
  },
  {
   "cell_type": "markdown",
   "metadata": {},
   "source": [
    "### Exercise 3\n",
    "\n",
    "Why do posterior distributions in hierarchical models often have a funnel shape?\n",
    "\n",
    "Not sure -- because the variances of the distributions describing the relationships between hyperparameters/parameters are small? Is the reason the funnel is narrow for small variances because the values of the hyperparameter will be closer to each other, and then for larger variances the funnel will be wider? How do you know at what values of the variances you should stop sampling at or like how 'tall' the funnel should be? Is it just something you decide in your model?"
   ]
  },
  {
   "cell_type": "markdown",
   "metadata": {},
   "source": [
    "<br />"
   ]
  },
  {
   "cell_type": "markdown",
   "metadata": {},
   "source": [
    "### Exercise 4\n",
    "\n",
    "Are you ever guaranteed to properly sample a distribution with a finite number of MCMC steps? If you answered yes, you can stop. If you answered no, explain how this underscores the need for extensive diagnostics.\n",
    "\n",
    "I think so, if you've considered possible errors with the sampler and take a large number of steps? Or is the question asking if the distribution would be properly sampled if you just wrote up your model and didn't think about any problems and just took infinite steps? In that case, if you haven't thought about any issues with your sampler, then the answer would be no. Extensive diagnostics are necessary to make sure you are sampling properly."
   ]
  }
 ],
 "metadata": {
  "anaconda-cloud": {},
  "kernelspec": {
   "display_name": "Python 3",
   "language": "python",
   "name": "python3"
  },
  "language_info": {
   "codemirror_mode": {
    "name": "ipython",
    "version": 3
   },
   "file_extension": ".py",
   "mimetype": "text/x-python",
   "name": "python",
   "nbconvert_exporter": "python",
   "pygments_lexer": "ipython3",
   "version": "3.7.0"
  }
 },
 "nbformat": 4,
 "nbformat_minor": 2
}
