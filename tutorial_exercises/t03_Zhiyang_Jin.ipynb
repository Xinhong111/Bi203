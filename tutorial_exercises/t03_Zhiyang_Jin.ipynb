{
 "cells": [
  {
   "cell_type": "markdown",
   "metadata": {},
   "source": [
    "**Ex1**\n",
    "\n",
    "ROI, region of interest, is part of an image or image stack taht we would like to study. It is important because there might be a lot of redundant information in ther rest of the image like artifacts caused by the container, or any other 'noise' that would compromise our automated processing of images. One simple example would be that the contrast of the image would not be good if we have very high intensity artifacts in some regions. Proper selection of ROI can also reduce many calculation efforts on unnecessary processing, which saves both time and storage."
   ]
  },
  {
   "cell_type": "markdown",
   "metadata": {},
   "source": [
    "**Ex2**\n",
    "\n",
    "**a)**\n",
    "The amount of time between repressor-operator binding events should be either exponentially distributed or geometrically distributed, depending on the affinity of repressor to the operator. Because there should be many 'trials' in this binding interaction and if the affinity is pretty low, the chances of single binding events would be low, making the happening of this event a Poisson distribution, so the waiting time would be exponentially distributed, while if the affinity is high, the chances of binding would be high, we can assume the event happens like a Bernoulli distribution, making this waiting time geometrically distributed.\n",
    "\n",
    "**b)**\n",
    "Similar to last question, if the affinity is high, this would be a Binomial distribution, or it would be a Poisson distribution.\n",
    "\n",
    "**c)**\n",
    "Considering the probability of no-hitters is very low, it should be exponentially distributed because the event happens like a Poisson distribution, where there are many trials that has a low probability of success.\n",
    "\n",
    "**d)**\n",
    "As mentioned above, the no-hitter should happen like a Poisson distribution.\n",
    "\n",
    "**e)**\n",
    "There are around 150 times of this horse races, which is not that a large number, so I think the wining times should be binomially distributed where we had N times of the races (trials), and the wining times is the number of successes."
   ]
  },
  {
   "cell_type": "markdown",
   "metadata": {},
   "source": [
    "**Ex3**\n",
    "\n",
    "Exponential < Gaussian < Cauchy. Because for the last two, they are both peaked at 1, but Cauchy is a peaked distribution with heavy tails, so it should be more likely to have 10 that is away from the peak. For the exponential distribution the chances of events that is away from the average arrival time, i.e. 1 here, is exponentially decayed, so it should be the lowest considering the 10 is much larger than 1."
   ]
  },
  {
   "cell_type": "markdown",
   "metadata": {},
   "source": [
    "**Ex4**\n",
    "\n",
    "We have two reconstruction methods for our ultrasound RF data, which would intrinsically give us similar but different spatial scale, i.e. the pixels are not well aligned with each other. We tried several new post-procesing scripts to combine those reconstructed data from two methods where all of them did not work out because we used the same ROI for images reconstructed by those two methods which actually coresponded to different regions. I think data validation of the reconstructed data would help if we did that."
   ]
  },
  {
   "cell_type": "code",
   "execution_count": null,
   "metadata": {},
   "outputs": [],
   "source": []
  }
 ],
 "metadata": {
  "kernelspec": {
   "display_name": "Python 3",
   "language": "python",
   "name": "python3"
  },
  "language_info": {
   "codemirror_mode": {
    "name": "ipython",
    "version": 3
   },
   "file_extension": ".py",
   "mimetype": "text/x-python",
   "name": "python",
   "nbconvert_exporter": "python",
   "pygments_lexer": "ipython3",
   "version": "3.7.0"
  }
 },
 "nbformat": 4,
 "nbformat_minor": 2
}
