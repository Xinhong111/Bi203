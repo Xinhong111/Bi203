{
 "cells": [
  {
   "cell_type": "markdown",
   "metadata": {},
   "source": [
    "**EX1**\n",
    "\n",
    "Because MCMC sampler take steps based on the current step, which means each step they take ids dependent on last step, so there should be some correlation at least between two cloest steps. In this case ,the independent samples made by a regular MCMC chain should at most be a half of the total samples. \n",
    "\n",
    "Thining can boost the number of effective independent samples by taking more steps but only recording some of them, increasing the actual lag between steps so that decreasing the correlation between them."
   ]
  },
  {
   "cell_type": "markdown",
   "metadata": {},
   "source": [
    "**EX2**\n",
    "\n",
    "I am not sure, but I think since divergences tend to happen in regions where the target distribution has high curvature, the locations of divergences would indicate where in the distribution may give a problem, possbily where the chains get stuck and keep rejecting steps."
   ]
  },
  {
   "cell_type": "markdown",
   "metadata": {},
   "source": [
    "**EX3**\n",
    "\n",
    "I think it is because in hierarchical models that have multiple layers, all those layers depends on hypterparameters at the top and thus a small change in hyperparameters would lead to large differences in the probability density, so the data would drag most of the density to a small range of hyperparameter and give sparase density of posterior in other region. "
   ]
  },
  {
   "cell_type": "markdown",
   "metadata": {},
   "source": [
    "**EX4**\n",
    "\n",
    "No, even with existing diagnostics in the tutorial, we know that high curvature in the distribution would give trouble in regular MCMC sampler. Gelman-Rubin R-hat statistic is important because if one has a distribution which have multiple smooth 'peaks' but are far away from each other, MCMC sampler might just well sample one or some of the peaks. In all those cases, we cannot sample a distribution with a finite number of MCMC steps."
   ]
  },
  {
   "cell_type": "code",
   "execution_count": null,
   "metadata": {},
   "outputs": [],
   "source": []
  }
 ],
 "metadata": {
  "kernelspec": {
   "display_name": "Python 3",
   "language": "python",
   "name": "python3"
  },
  "language_info": {
   "codemirror_mode": {
    "name": "ipython",
    "version": 3
   },
   "file_extension": ".py",
   "mimetype": "text/x-python",
   "name": "python",
   "nbconvert_exporter": "python",
   "pygments_lexer": "ipython3",
   "version": "3.7.1"
  }
 },
 "nbformat": 4,
 "nbformat_minor": 2
}
